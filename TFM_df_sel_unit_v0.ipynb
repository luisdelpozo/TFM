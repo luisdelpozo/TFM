{
 "cells": [
  {
   "cell_type": "code",
   "execution_count": 1,
   "metadata": {},
   "outputs": [],
   "source": [
    "import pandas as pd\n",
    "import numpy as np\n",
    "import matplotlib.pyplot as plt"
   ]
  },
  {
   "cell_type": "code",
   "execution_count": 5,
   "metadata": {},
   "outputs": [],
   "source": [
    "cab_det_path = '/home/dsc/Documents/TFM/Data/OMIE/CAB_DET/'"
   ]
  },
  {
   "cell_type": "code",
   "execution_count": 30,
   "metadata": {},
   "outputs": [
    {
     "data": {
      "text/plain": [
       "['OMIE_012020.csv',\n",
       " 'OMIE_022020.csv',\n",
       " 'OMIE_032020.csv',\n",
       " 'OMIE_042020.csv',\n",
       " 'OMIE_052020.csv',\n",
       " 'OMIE_062020.csv',\n",
       " 'OMIE_072020.csv',\n",
       " 'OMIE_082020.csv',\n",
       " 'OMIE_092020.csv',\n",
       " 'OMIE_102020.csv',\n",
       " 'OMIE_112019.csv',\n",
       " 'OMIE_122019.csv']"
      ]
     },
     "execution_count": 30,
     "metadata": {},
     "output_type": "execute_result"
    }
   ],
   "source": [
    "cab_det_list_1 = !ls -1 $cab_det_path\n",
    "cab_det_list_1"
   ]
  },
  {
   "cell_type": "code",
   "execution_count": 31,
   "metadata": {},
   "outputs": [
    {
     "data": {
      "text/plain": [
       "['OMIE_012020.csv',\n",
       " 'OMIE_022020.csv',\n",
       " 'OMIE_032020.csv',\n",
       " 'OMIE_042020.csv',\n",
       " 'OMIE_052020.csv',\n",
       " 'OMIE_062020.csv',\n",
       " 'OMIE_072020.csv',\n",
       " 'OMIE_082020.csv',\n",
       " 'OMIE_092020.csv',\n",
       " 'OMIE_102020.csv',\n",
       " 'OMIE_112019.csv',\n",
       " 'OMIE_122019.csv']"
      ]
     },
     "execution_count": 31,
     "metadata": {},
     "output_type": "execute_result"
    }
   ],
   "source": [
    "cab_det_list = !ls -1 /home/dsc/Documents/TFM/Data/OMIE/CAB_DET/\n",
    "cab_det_list"
   ]
  },
  {
   "cell_type": "code",
   "execution_count": 7,
   "metadata": {},
   "outputs": [],
   "source": [
    "df_OMIE_092020 = pd.read_csv(cab_det_path + 'OMIE_092020.csv')"
   ]
  },
  {
   "cell_type": "code",
   "execution_count": 8,
   "metadata": {},
   "outputs": [
    {
     "data": {
      "text/html": [
       "<div>\n",
       "<style scoped>\n",
       "    .dataframe tbody tr th:only-of-type {\n",
       "        vertical-align: middle;\n",
       "    }\n",
       "\n",
       "    .dataframe tbody tr th {\n",
       "        vertical-align: top;\n",
       "    }\n",
       "\n",
       "    .dataframe thead th {\n",
       "        text-align: right;\n",
       "    }\n",
       "</style>\n",
       "<table border=\"1\" class=\"dataframe\">\n",
       "  <thead>\n",
       "    <tr style=\"text-align: right;\">\n",
       "      <th></th>\n",
       "      <th>Unnamed: 0</th>\n",
       "      <th>Bid_Code</th>\n",
       "      <th>Num_Version</th>\n",
       "      <th>Bid_Unit</th>\n",
       "      <th>Unit_Description</th>\n",
       "      <th>Sell_Buy</th>\n",
       "      <th>Pot_max</th>\n",
       "      <th>Year</th>\n",
       "      <th>Month</th>\n",
       "      <th>Day</th>\n",
       "      <th>Period</th>\n",
       "      <th>Block</th>\n",
       "      <th>Price</th>\n",
       "      <th>Energy</th>\n",
       "    </tr>\n",
       "  </thead>\n",
       "  <tbody>\n",
       "    <tr>\n",
       "      <th>0</th>\n",
       "      <td>0</td>\n",
       "      <td>1696149</td>\n",
       "      <td>6</td>\n",
       "      <td>EDPC2</td>\n",
       "      <td>EDP COMERCIAL COMPRA (PORT)</td>\n",
       "      <td>CNO</td>\n",
       "      <td>6000.0</td>\n",
       "      <td>2020</td>\n",
       "      <td>9</td>\n",
       "      <td>1</td>\n",
       "      <td>22</td>\n",
       "      <td>1</td>\n",
       "      <td>0.01</td>\n",
       "      <td>0.1</td>\n",
       "    </tr>\n",
       "    <tr>\n",
       "      <th>1</th>\n",
       "      <td>1</td>\n",
       "      <td>1717319</td>\n",
       "      <td>3</td>\n",
       "      <td>EONUC01</td>\n",
       "      <td>EONUR CONSUMO CLIENTES TUR</td>\n",
       "      <td>CNO</td>\n",
       "      <td>400.0</td>\n",
       "      <td>2020</td>\n",
       "      <td>9</td>\n",
       "      <td>1</td>\n",
       "      <td>1</td>\n",
       "      <td>1</td>\n",
       "      <td>0.00</td>\n",
       "      <td>1.0</td>\n",
       "    </tr>\n",
       "    <tr>\n",
       "      <th>2</th>\n",
       "      <td>2</td>\n",
       "      <td>1717319</td>\n",
       "      <td>3</td>\n",
       "      <td>EONUC01</td>\n",
       "      <td>EONUR CONSUMO CLIENTES TUR</td>\n",
       "      <td>CNO</td>\n",
       "      <td>400.0</td>\n",
       "      <td>2020</td>\n",
       "      <td>9</td>\n",
       "      <td>1</td>\n",
       "      <td>2</td>\n",
       "      <td>1</td>\n",
       "      <td>0.00</td>\n",
       "      <td>1.0</td>\n",
       "    </tr>\n",
       "    <tr>\n",
       "      <th>3</th>\n",
       "      <td>3</td>\n",
       "      <td>1717319</td>\n",
       "      <td>3</td>\n",
       "      <td>EONUC01</td>\n",
       "      <td>EONUR CONSUMO CLIENTES TUR</td>\n",
       "      <td>CNO</td>\n",
       "      <td>400.0</td>\n",
       "      <td>2020</td>\n",
       "      <td>9</td>\n",
       "      <td>1</td>\n",
       "      <td>3</td>\n",
       "      <td>1</td>\n",
       "      <td>0.00</td>\n",
       "      <td>1.0</td>\n",
       "    </tr>\n",
       "    <tr>\n",
       "      <th>4</th>\n",
       "      <td>4</td>\n",
       "      <td>1717319</td>\n",
       "      <td>3</td>\n",
       "      <td>EONUC01</td>\n",
       "      <td>EONUR CONSUMO CLIENTES TUR</td>\n",
       "      <td>CNO</td>\n",
       "      <td>400.0</td>\n",
       "      <td>2020</td>\n",
       "      <td>9</td>\n",
       "      <td>1</td>\n",
       "      <td>4</td>\n",
       "      <td>1</td>\n",
       "      <td>0.00</td>\n",
       "      <td>1.0</td>\n",
       "    </tr>\n",
       "  </tbody>\n",
       "</table>\n",
       "</div>"
      ],
      "text/plain": [
       "   Unnamed: 0  Bid_Code  Num_Version Bid_Unit                Unit_Description  \\\n",
       "0           0   1696149            6  EDPC2    EDP COMERCIAL COMPRA (PORT)      \n",
       "1           1   1717319            3  EONUC01  EONUR CONSUMO CLIENTES TUR       \n",
       "2           2   1717319            3  EONUC01  EONUR CONSUMO CLIENTES TUR       \n",
       "3           3   1717319            3  EONUC01  EONUR CONSUMO CLIENTES TUR       \n",
       "4           4   1717319            3  EONUC01  EONUR CONSUMO CLIENTES TUR       \n",
       "\n",
       "  Sell_Buy  Pot_max  Year  Month  Day  Period  Block  Price  Energy  \n",
       "0      CNO   6000.0  2020      9    1      22      1   0.01     0.1  \n",
       "1      CNO    400.0  2020      9    1       1      1   0.00     1.0  \n",
       "2      CNO    400.0  2020      9    1       2      1   0.00     1.0  \n",
       "3      CNO    400.0  2020      9    1       3      1   0.00     1.0  \n",
       "4      CNO    400.0  2020      9    1       4      1   0.00     1.0  "
      ]
     },
     "execution_count": 8,
     "metadata": {},
     "output_type": "execute_result"
    }
   ],
   "source": [
    "df_OMIE_092020.head()"
   ]
  },
  {
   "cell_type": "code",
   "execution_count": 9,
   "metadata": {},
   "outputs": [
    {
     "data": {
      "text/plain": [
       "(1478829, 14)"
      ]
     },
     "execution_count": 9,
     "metadata": {},
     "output_type": "execute_result"
    }
   ],
   "source": [
    "df_OMIE_092020.shape"
   ]
  },
  {
   "cell_type": "code",
   "execution_count": 10,
   "metadata": {},
   "outputs": [
    {
     "data": {
      "text/plain": [
       "VNO    1072350\n",
       "CNO     405759\n",
       "VNP        720\n",
       "Name: Sell_Buy, dtype: int64"
      ]
     },
     "execution_count": 10,
     "metadata": {},
     "output_type": "execute_result"
    }
   ],
   "source": [
    "df_OMIE_092020['Sell_Buy'].value_counts()"
   ]
  },
  {
   "cell_type": "code",
   "execution_count": 15,
   "metadata": {},
   "outputs": [],
   "source": [
    "unit = 'PALOS1'\n",
    "\n",
    "df_OMIE_unit = pd.DataFrame()\n",
    "\n",
    "for archive in cab_det_list:\n",
    "    df_OMIE_month = pd.read_csv(cab_det_path + archive)\n",
    "    df_OMIE_unit_month = df_OMIE_month.loc[df_OMIE_month['Bid_Unit'].str.contains(unit)]\n",
    "    df_OMIE_unit = pd.concat([df_OMIE_unit,df_OMIE_unit_month])"
   ]
  },
  {
   "cell_type": "code",
   "execution_count": 16,
   "metadata": {},
   "outputs": [
    {
     "data": {
      "text/html": [
       "<div>\n",
       "<style scoped>\n",
       "    .dataframe tbody tr th:only-of-type {\n",
       "        vertical-align: middle;\n",
       "    }\n",
       "\n",
       "    .dataframe tbody tr th {\n",
       "        vertical-align: top;\n",
       "    }\n",
       "\n",
       "    .dataframe thead th {\n",
       "        text-align: right;\n",
       "    }\n",
       "</style>\n",
       "<table border=\"1\" class=\"dataframe\">\n",
       "  <thead>\n",
       "    <tr style=\"text-align: right;\">\n",
       "      <th></th>\n",
       "      <th>Unnamed: 0</th>\n",
       "      <th>Bid_Code</th>\n",
       "      <th>Num_Version</th>\n",
       "      <th>Bid_Unit</th>\n",
       "      <th>Unit_Description</th>\n",
       "      <th>Sell_Buy</th>\n",
       "      <th>Pot_max</th>\n",
       "      <th>Year</th>\n",
       "      <th>Month</th>\n",
       "      <th>Day</th>\n",
       "      <th>Period</th>\n",
       "      <th>Block</th>\n",
       "      <th>Price</th>\n",
       "      <th>Energy</th>\n",
       "    </tr>\n",
       "  </thead>\n",
       "  <tbody>\n",
       "    <tr>\n",
       "      <th>26739</th>\n",
       "      <td>26739</td>\n",
       "      <td>6128191</td>\n",
       "      <td>2</td>\n",
       "      <td>PALOS1</td>\n",
       "      <td>C.C. PALOS 1</td>\n",
       "      <td>VNO</td>\n",
       "      <td>394.1</td>\n",
       "      <td>2020</td>\n",
       "      <td>1</td>\n",
       "      <td>1</td>\n",
       "      <td>1</td>\n",
       "      <td>12</td>\n",
       "      <td>180.30</td>\n",
       "      <td>394.1</td>\n",
       "    </tr>\n",
       "    <tr>\n",
       "      <th>26740</th>\n",
       "      <td>26740</td>\n",
       "      <td>6128191</td>\n",
       "      <td>2</td>\n",
       "      <td>PALOS1</td>\n",
       "      <td>C.C. PALOS 1</td>\n",
       "      <td>VNO</td>\n",
       "      <td>394.1</td>\n",
       "      <td>2020</td>\n",
       "      <td>1</td>\n",
       "      <td>1</td>\n",
       "      <td>2</td>\n",
       "      <td>12</td>\n",
       "      <td>180.30</td>\n",
       "      <td>394.1</td>\n",
       "    </tr>\n",
       "    <tr>\n",
       "      <th>26741</th>\n",
       "      <td>26741</td>\n",
       "      <td>6128191</td>\n",
       "      <td>2</td>\n",
       "      <td>PALOS1</td>\n",
       "      <td>C.C. PALOS 1</td>\n",
       "      <td>VNO</td>\n",
       "      <td>394.1</td>\n",
       "      <td>2020</td>\n",
       "      <td>1</td>\n",
       "      <td>1</td>\n",
       "      <td>3</td>\n",
       "      <td>1</td>\n",
       "      <td>1.13</td>\n",
       "      <td>50.0</td>\n",
       "    </tr>\n",
       "    <tr>\n",
       "      <th>26742</th>\n",
       "      <td>26742</td>\n",
       "      <td>6128191</td>\n",
       "      <td>2</td>\n",
       "      <td>PALOS1</td>\n",
       "      <td>C.C. PALOS 1</td>\n",
       "      <td>VNO</td>\n",
       "      <td>394.1</td>\n",
       "      <td>2020</td>\n",
       "      <td>1</td>\n",
       "      <td>1</td>\n",
       "      <td>3</td>\n",
       "      <td>12</td>\n",
       "      <td>180.30</td>\n",
       "      <td>344.1</td>\n",
       "    </tr>\n",
       "    <tr>\n",
       "      <th>26743</th>\n",
       "      <td>26743</td>\n",
       "      <td>6128191</td>\n",
       "      <td>2</td>\n",
       "      <td>PALOS1</td>\n",
       "      <td>C.C. PALOS 1</td>\n",
       "      <td>VNO</td>\n",
       "      <td>394.1</td>\n",
       "      <td>2020</td>\n",
       "      <td>1</td>\n",
       "      <td>1</td>\n",
       "      <td>4</td>\n",
       "      <td>1</td>\n",
       "      <td>1.13</td>\n",
       "      <td>60.0</td>\n",
       "    </tr>\n",
       "  </tbody>\n",
       "</table>\n",
       "</div>"
      ],
      "text/plain": [
       "       Unnamed: 0  Bid_Code  Num_Version Bid_Unit  \\\n",
       "26739       26739   6128191            2  PALOS1    \n",
       "26740       26740   6128191            2  PALOS1    \n",
       "26741       26741   6128191            2  PALOS1    \n",
       "26742       26742   6128191            2  PALOS1    \n",
       "26743       26743   6128191            2  PALOS1    \n",
       "\n",
       "                     Unit_Description Sell_Buy  Pot_max  Year  Month  Day  \\\n",
       "26739  C.C. PALOS 1                        VNO    394.1  2020      1    1   \n",
       "26740  C.C. PALOS 1                        VNO    394.1  2020      1    1   \n",
       "26741  C.C. PALOS 1                        VNO    394.1  2020      1    1   \n",
       "26742  C.C. PALOS 1                        VNO    394.1  2020      1    1   \n",
       "26743  C.C. PALOS 1                        VNO    394.1  2020      1    1   \n",
       "\n",
       "       Period  Block   Price  Energy  \n",
       "26739       1     12  180.30   394.1  \n",
       "26740       2     12  180.30   394.1  \n",
       "26741       3      1    1.13    50.0  \n",
       "26742       3     12  180.30   344.1  \n",
       "26743       4      1    1.13    60.0  "
      ]
     },
     "execution_count": 16,
     "metadata": {},
     "output_type": "execute_result"
    }
   ],
   "source": [
    "df_OMIE_unit.head()"
   ]
  },
  {
   "cell_type": "code",
   "execution_count": 17,
   "metadata": {},
   "outputs": [
    {
     "data": {
      "text/plain": [
       "pandas.core.frame.DataFrame"
      ]
     },
     "execution_count": 17,
     "metadata": {},
     "output_type": "execute_result"
    }
   ],
   "source": [
    "type(df_OMIE_unit)"
   ]
  },
  {
   "cell_type": "code",
   "execution_count": 18,
   "metadata": {},
   "outputs": [
    {
     "data": {
      "text/plain": [
       "(71112, 14)"
      ]
     },
     "execution_count": 18,
     "metadata": {},
     "output_type": "execute_result"
    }
   ],
   "source": [
    "df_OMIE_unit.shape"
   ]
  },
  {
   "cell_type": "code",
   "execution_count": 19,
   "metadata": {},
   "outputs": [
    {
     "data": {
      "text/plain": [
       "2020    61045\n",
       "2019    10067\n",
       "Name: Year, dtype: int64"
      ]
     },
     "execution_count": 19,
     "metadata": {},
     "output_type": "execute_result"
    }
   ],
   "source": [
    "df_OMIE_unit['Year'].value_counts()"
   ]
  },
  {
   "cell_type": "code",
   "execution_count": 20,
   "metadata": {},
   "outputs": [
    {
     "data": {
      "text/plain": [
       "12    6541\n",
       "1     6519\n",
       "10    6181\n",
       "8     6169\n",
       "7     6169\n",
       "5     6169\n",
       "3     6157\n",
       "9     5970\n",
       "6     5970\n",
       "4     5970\n",
       "2     5771\n",
       "11    3526\n",
       "Name: Month, dtype: int64"
      ]
     },
     "execution_count": 20,
     "metadata": {},
     "output_type": "execute_result"
    }
   ],
   "source": [
    "df_OMIE_unit['Month'].value_counts()"
   ]
  },
  {
   "cell_type": "code",
   "execution_count": 21,
   "metadata": {},
   "outputs": [
    {
     "data": {
      "text/plain": [
       "25    2433\n",
       "24    2426\n",
       "22    2425\n",
       "21    2425\n",
       "1     2424\n",
       "18    2424\n",
       "4     2424\n",
       "28    2424\n",
       "27    2424\n",
       "26    2424\n",
       "3     2424\n",
       "2     2424\n",
       "23    2417\n",
       "20    2415\n",
       "29    2412\n",
       "19    2370\n",
       "5     2221\n",
       "30    2214\n",
       "9     2213\n",
       "6     2213\n",
       "7     2213\n",
       "8     2213\n",
       "16    2213\n",
       "10    2213\n",
       "11    2213\n",
       "12    2213\n",
       "13    2213\n",
       "14    2213\n",
       "15    2213\n",
       "17    2213\n",
       "31    1406\n",
       "Name: Day, dtype: int64"
      ]
     },
     "execution_count": 21,
     "metadata": {},
     "output_type": "execute_result"
    }
   ],
   "source": [
    "df_OMIE_unit['Day'].value_counts()"
   ]
  },
  {
   "cell_type": "code",
   "execution_count": null,
   "metadata": {},
   "outputs": [],
   "source": []
  },
  {
   "cell_type": "code",
   "execution_count": 62,
   "metadata": {},
   "outputs": [],
   "source": [
    "#Función que selecciona una unidad o unidades en función de su nombre entre los archivos de generados de cab-det\n",
    "#de OMIE. La salida es un df con la info de la unidad seleccionada para todo el periodo disponible de datos \n",
    "#en el \"Data-Lake\" local.\n",
    "\n",
    "def df_sel_unit(unit):\n",
    "    \n",
    "    cab_det_path = '/home/dsc/Documents/TFM/Data/OMIE/CAB_DET/'\n",
    "    cab_det_list = !ls -1 $cab_det_path\n",
    "    \n",
    "    df_OMIE_unit = pd.DataFrame()\n",
    "\n",
    "    for archive in cab_det_list:\n",
    "        df_OMIE_month = pd.read_csv(cab_det_path + archive)\n",
    "        df_OMIE_unit_month = df_OMIE_month.loc[df_OMIE_month['Bid_Unit'].str.startswith(unit)]\n",
    "        df_OMIE_unit = pd.concat([df_OMIE_unit,df_OMIE_unit_month])\n",
    "    \n",
    "    return df_OMIE_unit"
   ]
  },
  {
   "cell_type": "code",
   "execution_count": 38,
   "metadata": {},
   "outputs": [],
   "source": [
    "df_PALOS1 = df_sel_unit('PALOS1')"
   ]
  },
  {
   "cell_type": "code",
   "execution_count": 39,
   "metadata": {},
   "outputs": [],
   "source": [
    "df_PALOS1.to_csv('/home/dsc/Documents/TFM/Data/OMIE/OMIE_PALOS1/OMIE_PALOS1.csv')"
   ]
  },
  {
   "cell_type": "code",
   "execution_count": 36,
   "metadata": {},
   "outputs": [],
   "source": [
    "df_PALOS = df_sel_unit('PALOS')"
   ]
  },
  {
   "cell_type": "code",
   "execution_count": 40,
   "metadata": {},
   "outputs": [],
   "source": [
    "df_PALOS.to_csv('/home/dsc/Documents/TFM/Data/OMIE/OMIE_PALOS/OMIE_PALOS.csv')"
   ]
  },
  {
   "cell_type": "code",
   "execution_count": 37,
   "metadata": {},
   "outputs": [
    {
     "data": {
      "text/plain": [
       "PALOS1     71112\n",
       "PALOS3     70179\n",
       "PALOS2     68034\n",
       "Name: Bid_Unit, dtype: int64"
      ]
     },
     "execution_count": 37,
     "metadata": {},
     "output_type": "execute_result"
    }
   ],
   "source": [
    "df_PALOS['Bid_Unit'].value_counts()"
   ]
  },
  {
   "cell_type": "code",
   "execution_count": 41,
   "metadata": {},
   "outputs": [],
   "source": [
    "df_AGUAYO = df_sel_unit('AGUAYO')"
   ]
  },
  {
   "cell_type": "code",
   "execution_count": 42,
   "metadata": {},
   "outputs": [
    {
     "data": {
      "text/plain": [
       "(0, 14)"
      ]
     },
     "execution_count": 42,
     "metadata": {},
     "output_type": "execute_result"
    }
   ],
   "source": [
    "df_AGUAYO.shape"
   ]
  },
  {
   "cell_type": "code",
   "execution_count": 43,
   "metadata": {},
   "outputs": [
    {
     "data": {
      "text/html": [
       "<div>\n",
       "<style scoped>\n",
       "    .dataframe tbody tr th:only-of-type {\n",
       "        vertical-align: middle;\n",
       "    }\n",
       "\n",
       "    .dataframe tbody tr th {\n",
       "        vertical-align: top;\n",
       "    }\n",
       "\n",
       "    .dataframe thead th {\n",
       "        text-align: right;\n",
       "    }\n",
       "</style>\n",
       "<table border=\"1\" class=\"dataframe\">\n",
       "  <thead>\n",
       "    <tr style=\"text-align: right;\">\n",
       "      <th></th>\n",
       "      <th>Unnamed: 0</th>\n",
       "      <th>Bid_Code</th>\n",
       "      <th>Num_Version</th>\n",
       "      <th>Bid_Unit</th>\n",
       "      <th>Unit_Description</th>\n",
       "      <th>Sell_Buy</th>\n",
       "      <th>Pot_max</th>\n",
       "      <th>Year</th>\n",
       "      <th>Month</th>\n",
       "      <th>Day</th>\n",
       "      <th>Period</th>\n",
       "      <th>Block</th>\n",
       "      <th>Price</th>\n",
       "      <th>Energy</th>\n",
       "    </tr>\n",
       "  </thead>\n",
       "  <tbody>\n",
       "  </tbody>\n",
       "</table>\n",
       "</div>"
      ],
      "text/plain": [
       "Empty DataFrame\n",
       "Columns: [Unnamed: 0, Bid_Code, Num_Version, Bid_Unit, Unit_Description, Sell_Buy, Pot_max, Year, Month, Day, Period, Block, Price, Energy]\n",
       "Index: []"
      ]
     },
     "execution_count": 43,
     "metadata": {},
     "output_type": "execute_result"
    }
   ],
   "source": [
    "df_AGUAYO.head()"
   ]
  },
  {
   "cell_type": "code",
   "execution_count": 45,
   "metadata": {},
   "outputs": [],
   "source": [
    "df_cab_example = pd.read_csv('/home/dsc/Documents/TFM/Data/OMIE/cab_202009/CAB_09.csv',)"
   ]
  },
  {
   "cell_type": "code",
   "execution_count": 46,
   "metadata": {},
   "outputs": [
    {
     "data": {
      "text/html": [
       "<div>\n",
       "<style scoped>\n",
       "    .dataframe tbody tr th:only-of-type {\n",
       "        vertical-align: middle;\n",
       "    }\n",
       "\n",
       "    .dataframe tbody tr th {\n",
       "        vertical-align: top;\n",
       "    }\n",
       "\n",
       "    .dataframe thead th {\n",
       "        text-align: right;\n",
       "    }\n",
       "</style>\n",
       "<table border=\"1\" class=\"dataframe\">\n",
       "  <thead>\n",
       "    <tr style=\"text-align: right;\">\n",
       "      <th></th>\n",
       "      <th>Unnamed: 0</th>\n",
       "      <th>Bid_Code</th>\n",
       "      <th>Num_Version</th>\n",
       "      <th>Bid_Unit</th>\n",
       "      <th>Unit_Description</th>\n",
       "      <th>Sell_Buy</th>\n",
       "      <th>Pot_max</th>\n",
       "      <th>Year</th>\n",
       "      <th>Month</th>\n",
       "      <th>Day</th>\n",
       "    </tr>\n",
       "  </thead>\n",
       "  <tbody>\n",
       "    <tr>\n",
       "      <th>0</th>\n",
       "      <td>0</td>\n",
       "      <td>1696149</td>\n",
       "      <td>6</td>\n",
       "      <td>EDPC2</td>\n",
       "      <td>EDP COMERCIAL COMPRA (PORT)</td>\n",
       "      <td>CNO</td>\n",
       "      <td>6000.0</td>\n",
       "      <td>2020</td>\n",
       "      <td>9</td>\n",
       "      <td>1</td>\n",
       "    </tr>\n",
       "    <tr>\n",
       "      <th>1</th>\n",
       "      <td>1</td>\n",
       "      <td>1717319</td>\n",
       "      <td>3</td>\n",
       "      <td>EONUC01</td>\n",
       "      <td>EONUR CONSUMO CLIENTES TUR</td>\n",
       "      <td>CNO</td>\n",
       "      <td>400.0</td>\n",
       "      <td>2020</td>\n",
       "      <td>9</td>\n",
       "      <td>1</td>\n",
       "    </tr>\n",
       "    <tr>\n",
       "      <th>2</th>\n",
       "      <td>2</td>\n",
       "      <td>1811311</td>\n",
       "      <td>7</td>\n",
       "      <td>IPG</td>\n",
       "      <td>C.H. IP GENERACION</td>\n",
       "      <td>VNO</td>\n",
       "      <td>84.0</td>\n",
       "      <td>2020</td>\n",
       "      <td>9</td>\n",
       "      <td>1</td>\n",
       "    </tr>\n",
       "    <tr>\n",
       "      <th>3</th>\n",
       "      <td>3</td>\n",
       "      <td>426609</td>\n",
       "      <td>12</td>\n",
       "      <td>IPB</td>\n",
       "      <td>C.H.B.IP BOMBEO</td>\n",
       "      <td>CNO</td>\n",
       "      <td>99.0</td>\n",
       "      <td>2020</td>\n",
       "      <td>9</td>\n",
       "      <td>1</td>\n",
       "    </tr>\n",
       "    <tr>\n",
       "      <th>4</th>\n",
       "      <td>4</td>\n",
       "      <td>2532852</td>\n",
       "      <td>28</td>\n",
       "      <td>NRENVD1</td>\n",
       "      <td>NRENO-VENTA</td>\n",
       "      <td>VNO</td>\n",
       "      <td>1.7</td>\n",
       "      <td>2020</td>\n",
       "      <td>9</td>\n",
       "      <td>1</td>\n",
       "    </tr>\n",
       "  </tbody>\n",
       "</table>\n",
       "</div>"
      ],
      "text/plain": [
       "   Unnamed: 0  Bid_Code  Num_Version Bid_Unit                Unit_Description  \\\n",
       "0           0   1696149            6  EDPC2    EDP COMERCIAL COMPRA (PORT)      \n",
       "1           1   1717319            3  EONUC01  EONUR CONSUMO CLIENTES TUR       \n",
       "2           2   1811311            7  IPG      C.H. IP GENERACION               \n",
       "3           3    426609           12  IPB      C.H.B.IP BOMBEO                  \n",
       "4           4   2532852           28  NRENVD1  NRENO-VENTA                      \n",
       "\n",
       "  Sell_Buy  Pot_max  Year  Month  Day  \n",
       "0      CNO   6000.0  2020      9    1  \n",
       "1      CNO    400.0  2020      9    1  \n",
       "2      VNO     84.0  2020      9    1  \n",
       "3      CNO     99.0  2020      9    1  \n",
       "4      VNO      1.7  2020      9    1  "
      ]
     },
     "execution_count": 46,
     "metadata": {},
     "output_type": "execute_result"
    }
   ],
   "source": [
    "df_cab_example.head()"
   ]
  },
  {
   "cell_type": "code",
   "execution_count": 51,
   "metadata": {
    "scrolled": true
   },
   "outputs": [
    {
     "data": {
      "text/plain": [
       "AGUG       30\n",
       "AGUB       30\n",
       "Name: Bid_Unit, dtype: int64"
      ]
     },
     "execution_count": 51,
     "metadata": {},
     "output_type": "execute_result"
    }
   ],
   "source": [
    "df_cab_example.loc[df_cab_example['Unit_Description'].str.contains('AGUAY0')]['Bid_Unit'].value_counts()"
   ]
  },
  {
   "cell_type": "code",
   "execution_count": 58,
   "metadata": {
    "scrolled": true
   },
   "outputs": [
    {
     "data": {
      "text/plain": [
       "AGUB       30\n",
       "SAGU2      30\n",
       "AGUG       30\n",
       "SAGU1      30\n",
       "Name: Bid_Unit, dtype: int64"
      ]
     },
     "execution_count": 58,
     "metadata": {},
     "output_type": "execute_result"
    }
   ],
   "source": [
    "df_cab_example.loc[df_cab_example['Bid_Unit'].str.contains('AGU')]['Bid_Unit'].value_counts()"
   ]
  },
  {
   "cell_type": "code",
   "execution_count": 59,
   "metadata": {},
   "outputs": [
    {
     "data": {
      "text/plain": [
       "AGUG       30\n",
       "AGUB       30\n",
       "Name: Bid_Unit, dtype: int64"
      ]
     },
     "execution_count": 59,
     "metadata": {},
     "output_type": "execute_result"
    }
   ],
   "source": [
    "df_cab_example.loc[df_cab_example['Bid_Unit'].str.startswith('AGU')]['Bid_Unit'].value_counts()"
   ]
  },
  {
   "cell_type": "code",
   "execution_count": 63,
   "metadata": {},
   "outputs": [],
   "source": [
    "df_AGUAYO = df_sel_unit('AGU')"
   ]
  },
  {
   "cell_type": "code",
   "execution_count": 64,
   "metadata": {},
   "outputs": [
    {
     "data": {
      "text/plain": [
       "(82252, 14)"
      ]
     },
     "execution_count": 64,
     "metadata": {},
     "output_type": "execute_result"
    }
   ],
   "source": [
    "df_AGUAYO.shape"
   ]
  },
  {
   "cell_type": "code",
   "execution_count": 65,
   "metadata": {},
   "outputs": [
    {
     "data": {
      "text/html": [
       "<div>\n",
       "<style scoped>\n",
       "    .dataframe tbody tr th:only-of-type {\n",
       "        vertical-align: middle;\n",
       "    }\n",
       "\n",
       "    .dataframe tbody tr th {\n",
       "        vertical-align: top;\n",
       "    }\n",
       "\n",
       "    .dataframe thead th {\n",
       "        text-align: right;\n",
       "    }\n",
       "</style>\n",
       "<table border=\"1\" class=\"dataframe\">\n",
       "  <thead>\n",
       "    <tr style=\"text-align: right;\">\n",
       "      <th></th>\n",
       "      <th>Unnamed: 0</th>\n",
       "      <th>Bid_Code</th>\n",
       "      <th>Num_Version</th>\n",
       "      <th>Bid_Unit</th>\n",
       "      <th>Unit_Description</th>\n",
       "      <th>Sell_Buy</th>\n",
       "      <th>Pot_max</th>\n",
       "      <th>Year</th>\n",
       "      <th>Month</th>\n",
       "      <th>Day</th>\n",
       "      <th>Period</th>\n",
       "      <th>Block</th>\n",
       "      <th>Price</th>\n",
       "      <th>Energy</th>\n",
       "    </tr>\n",
       "  </thead>\n",
       "  <tbody>\n",
       "    <tr>\n",
       "      <th>36051</th>\n",
       "      <td>36051</td>\n",
       "      <td>6129555</td>\n",
       "      <td>1</td>\n",
       "      <td>AGUG</td>\n",
       "      <td>C.H. AGUAYO GENERACION</td>\n",
       "      <td>VNO</td>\n",
       "      <td>360.6</td>\n",
       "      <td>2020</td>\n",
       "      <td>1</td>\n",
       "      <td>1</td>\n",
       "      <td>1</td>\n",
       "      <td>1</td>\n",
       "      <td>30.0</td>\n",
       "      <td>80.0</td>\n",
       "    </tr>\n",
       "    <tr>\n",
       "      <th>36052</th>\n",
       "      <td>36052</td>\n",
       "      <td>6129555</td>\n",
       "      <td>1</td>\n",
       "      <td>AGUG</td>\n",
       "      <td>C.H. AGUAYO GENERACION</td>\n",
       "      <td>VNO</td>\n",
       "      <td>360.6</td>\n",
       "      <td>2020</td>\n",
       "      <td>1</td>\n",
       "      <td>1</td>\n",
       "      <td>1</td>\n",
       "      <td>2</td>\n",
       "      <td>48.0</td>\n",
       "      <td>80.0</td>\n",
       "    </tr>\n",
       "    <tr>\n",
       "      <th>36053</th>\n",
       "      <td>36053</td>\n",
       "      <td>6129555</td>\n",
       "      <td>1</td>\n",
       "      <td>AGUG</td>\n",
       "      <td>C.H. AGUAYO GENERACION</td>\n",
       "      <td>VNO</td>\n",
       "      <td>360.6</td>\n",
       "      <td>2020</td>\n",
       "      <td>1</td>\n",
       "      <td>1</td>\n",
       "      <td>1</td>\n",
       "      <td>3</td>\n",
       "      <td>52.0</td>\n",
       "      <td>80.0</td>\n",
       "    </tr>\n",
       "    <tr>\n",
       "      <th>36054</th>\n",
       "      <td>36054</td>\n",
       "      <td>6129555</td>\n",
       "      <td>1</td>\n",
       "      <td>AGUG</td>\n",
       "      <td>C.H. AGUAYO GENERACION</td>\n",
       "      <td>VNO</td>\n",
       "      <td>360.6</td>\n",
       "      <td>2020</td>\n",
       "      <td>1</td>\n",
       "      <td>1</td>\n",
       "      <td>1</td>\n",
       "      <td>4</td>\n",
       "      <td>56.0</td>\n",
       "      <td>80.0</td>\n",
       "    </tr>\n",
       "    <tr>\n",
       "      <th>36055</th>\n",
       "      <td>36055</td>\n",
       "      <td>6129555</td>\n",
       "      <td>1</td>\n",
       "      <td>AGUG</td>\n",
       "      <td>C.H. AGUAYO GENERACION</td>\n",
       "      <td>VNO</td>\n",
       "      <td>360.6</td>\n",
       "      <td>2020</td>\n",
       "      <td>1</td>\n",
       "      <td>1</td>\n",
       "      <td>1</td>\n",
       "      <td>5</td>\n",
       "      <td>180.3</td>\n",
       "      <td>40.6</td>\n",
       "    </tr>\n",
       "  </tbody>\n",
       "</table>\n",
       "</div>"
      ],
      "text/plain": [
       "       Unnamed: 0  Bid_Code  Num_Version Bid_Unit  \\\n",
       "36051       36051   6129555            1  AGUG      \n",
       "36052       36052   6129555            1  AGUG      \n",
       "36053       36053   6129555            1  AGUG      \n",
       "36054       36054   6129555            1  AGUG      \n",
       "36055       36055   6129555            1  AGUG      \n",
       "\n",
       "                     Unit_Description Sell_Buy  Pot_max  Year  Month  Day  \\\n",
       "36051  C.H. AGUAYO GENERACION              VNO    360.6  2020      1    1   \n",
       "36052  C.H. AGUAYO GENERACION              VNO    360.6  2020      1    1   \n",
       "36053  C.H. AGUAYO GENERACION              VNO    360.6  2020      1    1   \n",
       "36054  C.H. AGUAYO GENERACION              VNO    360.6  2020      1    1   \n",
       "36055  C.H. AGUAYO GENERACION              VNO    360.6  2020      1    1   \n",
       "\n",
       "       Period  Block  Price  Energy  \n",
       "36051       1      1   30.0    80.0  \n",
       "36052       1      2   48.0    80.0  \n",
       "36053       1      3   52.0    80.0  \n",
       "36054       1      4   56.0    80.0  \n",
       "36055       1      5  180.3    40.6  "
      ]
     },
     "execution_count": 65,
     "metadata": {},
     "output_type": "execute_result"
    }
   ],
   "source": [
    "df_AGUAYO.head()"
   ]
  },
  {
   "cell_type": "code",
   "execution_count": null,
   "metadata": {},
   "outputs": [],
   "source": []
  }
 ],
 "metadata": {
  "kernelspec": {
   "display_name": "Python 3",
   "language": "python",
   "name": "python3"
  },
  "language_info": {
   "codemirror_mode": {
    "name": "ipython",
    "version": 3
   },
   "file_extension": ".py",
   "mimetype": "text/x-python",
   "name": "python",
   "nbconvert_exporter": "python",
   "pygments_lexer": "ipython3",
   "version": "3.8.5"
  }
 },
 "nbformat": 4,
 "nbformat_minor": 4
}
