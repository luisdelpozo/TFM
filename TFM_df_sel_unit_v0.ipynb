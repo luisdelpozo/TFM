{
 "cells": [
  {
   "cell_type": "markdown",
   "metadata": {},
   "source": [
    "# TFM - OMIE DATAFRAME SELECTION"
   ]
  },
  {
   "cell_type": "markdown",
   "metadata": {},
   "source": [
    "## 1. INTRODUCTION\n",
    "\n",
    "The aim of this Notebook is to create dataframes for a certain unit using the monthly OMIE data stored locally (explained in TFM_merged_files.ipynb). "
   ]
  },
  {
   "cell_type": "code",
   "execution_count": 1,
   "metadata": {},
   "outputs": [],
   "source": [
    "import pandas as pd\n",
    "import numpy as np\n",
    "import matplotlib.pyplot as plt"
   ]
  },
  {
   "cell_type": "markdown",
   "metadata": {},
   "source": [
    "## 2. DATAFRAME SELECTION FUNCTION\n",
    "\n",
    "In this setion, a function to select the information from the local .csv files is presented."
   ]
  },
  {
   "cell_type": "code",
   "execution_count": 2,
   "metadata": {},
   "outputs": [],
   "source": [
    "#Monthly files stored locally\n",
    "cab_det_path = '/home/dsc/Documents/TFM/Data/OMIE/CAB_DET/'"
   ]
  },
  {
   "cell_type": "code",
   "execution_count": 5,
   "metadata": {
    "scrolled": true
   },
   "outputs": [
    {
     "data": {
      "text/plain": [
       "['OMIE_012020.csv',\n",
       " 'OMIE_022020.csv',\n",
       " 'OMIE_032020.csv',\n",
       " 'OMIE_042020.csv',\n",
       " 'OMIE_052020.csv',\n",
       " 'OMIE_062020.csv',\n",
       " 'OMIE_072020.csv',\n",
       " 'OMIE_082020.csv',\n",
       " 'OMIE_092020.csv',\n",
       " 'OMIE_102020.csv',\n",
       " 'OMIE_112019.csv',\n",
       " 'OMIE_122019.csv']"
      ]
     },
     "execution_count": 5,
     "metadata": {},
     "output_type": "execute_result"
    }
   ],
   "source": [
    "#One year of data: from November 2019 to October 2020.\n",
    "cab_det_list = !ls -1 $cab_det_path\n",
    "cab_det_list"
   ]
  },
  {
   "cell_type": "markdown",
   "metadata": {},
   "source": [
    "First of all, September 2020 is selected as example to see how the files are read."
   ]
  },
  {
   "cell_type": "code",
   "execution_count": 6,
   "metadata": {},
   "outputs": [],
   "source": [
    "#A new column \"Unnamed: 0\" is created\n",
    "df_OMIE_092020 = pd.read_csv(cab_det_path + 'OMIE_092020.csv')"
   ]
  },
  {
   "cell_type": "code",
   "execution_count": 7,
   "metadata": {},
   "outputs": [
    {
     "data": {
      "text/html": [
       "<div>\n",
       "<style scoped>\n",
       "    .dataframe tbody tr th:only-of-type {\n",
       "        vertical-align: middle;\n",
       "    }\n",
       "\n",
       "    .dataframe tbody tr th {\n",
       "        vertical-align: top;\n",
       "    }\n",
       "\n",
       "    .dataframe thead th {\n",
       "        text-align: right;\n",
       "    }\n",
       "</style>\n",
       "<table border=\"1\" class=\"dataframe\">\n",
       "  <thead>\n",
       "    <tr style=\"text-align: right;\">\n",
       "      <th></th>\n",
       "      <th>Unnamed: 0</th>\n",
       "      <th>Bid_Code</th>\n",
       "      <th>Num_Version</th>\n",
       "      <th>Bid_Unit</th>\n",
       "      <th>Unit_Description</th>\n",
       "      <th>Sell_Buy</th>\n",
       "      <th>Pot_max</th>\n",
       "      <th>Year</th>\n",
       "      <th>Month</th>\n",
       "      <th>Day</th>\n",
       "      <th>Period</th>\n",
       "      <th>Block</th>\n",
       "      <th>Price</th>\n",
       "      <th>Energy</th>\n",
       "    </tr>\n",
       "  </thead>\n",
       "  <tbody>\n",
       "    <tr>\n",
       "      <th>0</th>\n",
       "      <td>0</td>\n",
       "      <td>1696149</td>\n",
       "      <td>6</td>\n",
       "      <td>EDPC2</td>\n",
       "      <td>EDP COMERCIAL COMPRA (PORT)</td>\n",
       "      <td>CNO</td>\n",
       "      <td>6000.0</td>\n",
       "      <td>2020</td>\n",
       "      <td>9</td>\n",
       "      <td>1</td>\n",
       "      <td>22</td>\n",
       "      <td>1</td>\n",
       "      <td>0.01</td>\n",
       "      <td>0.1</td>\n",
       "    </tr>\n",
       "    <tr>\n",
       "      <th>1</th>\n",
       "      <td>1</td>\n",
       "      <td>1717319</td>\n",
       "      <td>3</td>\n",
       "      <td>EONUC01</td>\n",
       "      <td>EONUR CONSUMO CLIENTES TUR</td>\n",
       "      <td>CNO</td>\n",
       "      <td>400.0</td>\n",
       "      <td>2020</td>\n",
       "      <td>9</td>\n",
       "      <td>1</td>\n",
       "      <td>1</td>\n",
       "      <td>1</td>\n",
       "      <td>0.00</td>\n",
       "      <td>1.0</td>\n",
       "    </tr>\n",
       "    <tr>\n",
       "      <th>2</th>\n",
       "      <td>2</td>\n",
       "      <td>1717319</td>\n",
       "      <td>3</td>\n",
       "      <td>EONUC01</td>\n",
       "      <td>EONUR CONSUMO CLIENTES TUR</td>\n",
       "      <td>CNO</td>\n",
       "      <td>400.0</td>\n",
       "      <td>2020</td>\n",
       "      <td>9</td>\n",
       "      <td>1</td>\n",
       "      <td>2</td>\n",
       "      <td>1</td>\n",
       "      <td>0.00</td>\n",
       "      <td>1.0</td>\n",
       "    </tr>\n",
       "    <tr>\n",
       "      <th>3</th>\n",
       "      <td>3</td>\n",
       "      <td>1717319</td>\n",
       "      <td>3</td>\n",
       "      <td>EONUC01</td>\n",
       "      <td>EONUR CONSUMO CLIENTES TUR</td>\n",
       "      <td>CNO</td>\n",
       "      <td>400.0</td>\n",
       "      <td>2020</td>\n",
       "      <td>9</td>\n",
       "      <td>1</td>\n",
       "      <td>3</td>\n",
       "      <td>1</td>\n",
       "      <td>0.00</td>\n",
       "      <td>1.0</td>\n",
       "    </tr>\n",
       "    <tr>\n",
       "      <th>4</th>\n",
       "      <td>4</td>\n",
       "      <td>1717319</td>\n",
       "      <td>3</td>\n",
       "      <td>EONUC01</td>\n",
       "      <td>EONUR CONSUMO CLIENTES TUR</td>\n",
       "      <td>CNO</td>\n",
       "      <td>400.0</td>\n",
       "      <td>2020</td>\n",
       "      <td>9</td>\n",
       "      <td>1</td>\n",
       "      <td>4</td>\n",
       "      <td>1</td>\n",
       "      <td>0.00</td>\n",
       "      <td>1.0</td>\n",
       "    </tr>\n",
       "  </tbody>\n",
       "</table>\n",
       "</div>"
      ],
      "text/plain": [
       "   Unnamed: 0  Bid_Code  Num_Version Bid_Unit                Unit_Description  \\\n",
       "0           0   1696149            6  EDPC2    EDP COMERCIAL COMPRA (PORT)      \n",
       "1           1   1717319            3  EONUC01  EONUR CONSUMO CLIENTES TUR       \n",
       "2           2   1717319            3  EONUC01  EONUR CONSUMO CLIENTES TUR       \n",
       "3           3   1717319            3  EONUC01  EONUR CONSUMO CLIENTES TUR       \n",
       "4           4   1717319            3  EONUC01  EONUR CONSUMO CLIENTES TUR       \n",
       "\n",
       "  Sell_Buy  Pot_max  Year  Month  Day  Period  Block  Price  Energy  \n",
       "0      CNO   6000.0  2020      9    1      22      1   0.01     0.1  \n",
       "1      CNO    400.0  2020      9    1       1      1   0.00     1.0  \n",
       "2      CNO    400.0  2020      9    1       2      1   0.00     1.0  \n",
       "3      CNO    400.0  2020      9    1       3      1   0.00     1.0  \n",
       "4      CNO    400.0  2020      9    1       4      1   0.00     1.0  "
      ]
     },
     "execution_count": 7,
     "metadata": {},
     "output_type": "execute_result"
    }
   ],
   "source": [
    "\n",
    "df_OMIE_092020.head()"
   ]
  },
  {
   "cell_type": "code",
   "execution_count": 8,
   "metadata": {},
   "outputs": [
    {
     "data": {
      "text/plain": [
       "(1478829, 14)"
      ]
     },
     "execution_count": 8,
     "metadata": {},
     "output_type": "execute_result"
    }
   ],
   "source": [
    "df_OMIE_092020.shape"
   ]
  },
  {
   "cell_type": "code",
   "execution_count": 10,
   "metadata": {},
   "outputs": [
    {
     "data": {
      "text/plain": [
       "VNO    1072350\n",
       "CNO     405759\n",
       "VNP        720\n",
       "Name: Sell_Buy, dtype: int64"
      ]
     },
     "execution_count": 10,
     "metadata": {},
     "output_type": "execute_result"
    }
   ],
   "source": [
    "#Information from Sell/Buy distribution\n",
    "df_OMIE_092020['Sell_Buy'].value_counts()"
   ]
  },
  {
   "cell_type": "code",
   "execution_count": 9,
   "metadata": {},
   "outputs": [],
   "source": [
    "#Example with PALOS1 for the whole set of data\n",
    "unit = 'PALOS1'\n",
    "\n",
    "df_OMIE_unit = pd.DataFrame()\n",
    "\n",
    "for archive in cab_det_list: #Reading all the files in the local OMIE \"datalake\"\n",
    "    df_OMIE_month = pd.read_csv(cab_det_path + archive) #Reding file\n",
    "    df_OMIE_unit_month = df_OMIE_month.loc[df_OMIE_month['Bid_Unit'].str.startswith(unit)] #Selectin the unit\n",
    "    df_OMIE_unit = pd.concat([df_OMIE_unit,df_OMIE_unit_month]) #Concatenate the monthly info"
   ]
  },
  {
   "cell_type": "code",
   "execution_count": 10,
   "metadata": {},
   "outputs": [
    {
     "data": {
      "text/html": [
       "<div>\n",
       "<style scoped>\n",
       "    .dataframe tbody tr th:only-of-type {\n",
       "        vertical-align: middle;\n",
       "    }\n",
       "\n",
       "    .dataframe tbody tr th {\n",
       "        vertical-align: top;\n",
       "    }\n",
       "\n",
       "    .dataframe thead th {\n",
       "        text-align: right;\n",
       "    }\n",
       "</style>\n",
       "<table border=\"1\" class=\"dataframe\">\n",
       "  <thead>\n",
       "    <tr style=\"text-align: right;\">\n",
       "      <th></th>\n",
       "      <th>Unnamed: 0</th>\n",
       "      <th>Bid_Code</th>\n",
       "      <th>Num_Version</th>\n",
       "      <th>Bid_Unit</th>\n",
       "      <th>Unit_Description</th>\n",
       "      <th>Sell_Buy</th>\n",
       "      <th>Pot_max</th>\n",
       "      <th>Year</th>\n",
       "      <th>Month</th>\n",
       "      <th>Day</th>\n",
       "      <th>Period</th>\n",
       "      <th>Block</th>\n",
       "      <th>Price</th>\n",
       "      <th>Energy</th>\n",
       "    </tr>\n",
       "  </thead>\n",
       "  <tbody>\n",
       "    <tr>\n",
       "      <th>26739</th>\n",
       "      <td>26739</td>\n",
       "      <td>6128191</td>\n",
       "      <td>2</td>\n",
       "      <td>PALOS1</td>\n",
       "      <td>C.C. PALOS 1</td>\n",
       "      <td>VNO</td>\n",
       "      <td>394.1</td>\n",
       "      <td>2020</td>\n",
       "      <td>1</td>\n",
       "      <td>1</td>\n",
       "      <td>1</td>\n",
       "      <td>12</td>\n",
       "      <td>180.30</td>\n",
       "      <td>394.1</td>\n",
       "    </tr>\n",
       "    <tr>\n",
       "      <th>26740</th>\n",
       "      <td>26740</td>\n",
       "      <td>6128191</td>\n",
       "      <td>2</td>\n",
       "      <td>PALOS1</td>\n",
       "      <td>C.C. PALOS 1</td>\n",
       "      <td>VNO</td>\n",
       "      <td>394.1</td>\n",
       "      <td>2020</td>\n",
       "      <td>1</td>\n",
       "      <td>1</td>\n",
       "      <td>2</td>\n",
       "      <td>12</td>\n",
       "      <td>180.30</td>\n",
       "      <td>394.1</td>\n",
       "    </tr>\n",
       "    <tr>\n",
       "      <th>26741</th>\n",
       "      <td>26741</td>\n",
       "      <td>6128191</td>\n",
       "      <td>2</td>\n",
       "      <td>PALOS1</td>\n",
       "      <td>C.C. PALOS 1</td>\n",
       "      <td>VNO</td>\n",
       "      <td>394.1</td>\n",
       "      <td>2020</td>\n",
       "      <td>1</td>\n",
       "      <td>1</td>\n",
       "      <td>3</td>\n",
       "      <td>1</td>\n",
       "      <td>1.13</td>\n",
       "      <td>50.0</td>\n",
       "    </tr>\n",
       "    <tr>\n",
       "      <th>26742</th>\n",
       "      <td>26742</td>\n",
       "      <td>6128191</td>\n",
       "      <td>2</td>\n",
       "      <td>PALOS1</td>\n",
       "      <td>C.C. PALOS 1</td>\n",
       "      <td>VNO</td>\n",
       "      <td>394.1</td>\n",
       "      <td>2020</td>\n",
       "      <td>1</td>\n",
       "      <td>1</td>\n",
       "      <td>3</td>\n",
       "      <td>12</td>\n",
       "      <td>180.30</td>\n",
       "      <td>344.1</td>\n",
       "    </tr>\n",
       "    <tr>\n",
       "      <th>26743</th>\n",
       "      <td>26743</td>\n",
       "      <td>6128191</td>\n",
       "      <td>2</td>\n",
       "      <td>PALOS1</td>\n",
       "      <td>C.C. PALOS 1</td>\n",
       "      <td>VNO</td>\n",
       "      <td>394.1</td>\n",
       "      <td>2020</td>\n",
       "      <td>1</td>\n",
       "      <td>1</td>\n",
       "      <td>4</td>\n",
       "      <td>1</td>\n",
       "      <td>1.13</td>\n",
       "      <td>60.0</td>\n",
       "    </tr>\n",
       "  </tbody>\n",
       "</table>\n",
       "</div>"
      ],
      "text/plain": [
       "       Unnamed: 0  Bid_Code  Num_Version Bid_Unit  \\\n",
       "26739       26739   6128191            2  PALOS1    \n",
       "26740       26740   6128191            2  PALOS1    \n",
       "26741       26741   6128191            2  PALOS1    \n",
       "26742       26742   6128191            2  PALOS1    \n",
       "26743       26743   6128191            2  PALOS1    \n",
       "\n",
       "                     Unit_Description Sell_Buy  Pot_max  Year  Month  Day  \\\n",
       "26739  C.C. PALOS 1                        VNO    394.1  2020      1    1   \n",
       "26740  C.C. PALOS 1                        VNO    394.1  2020      1    1   \n",
       "26741  C.C. PALOS 1                        VNO    394.1  2020      1    1   \n",
       "26742  C.C. PALOS 1                        VNO    394.1  2020      1    1   \n",
       "26743  C.C. PALOS 1                        VNO    394.1  2020      1    1   \n",
       "\n",
       "       Period  Block   Price  Energy  \n",
       "26739       1     12  180.30   394.1  \n",
       "26740       2     12  180.30   394.1  \n",
       "26741       3      1    1.13    50.0  \n",
       "26742       3     12  180.30   344.1  \n",
       "26743       4      1    1.13    60.0  "
      ]
     },
     "execution_count": 10,
     "metadata": {},
     "output_type": "execute_result"
    }
   ],
   "source": [
    "df_OMIE_unit.head()"
   ]
  },
  {
   "cell_type": "code",
   "execution_count": 11,
   "metadata": {},
   "outputs": [
    {
     "data": {
      "text/plain": [
       "pandas.core.frame.DataFrame"
      ]
     },
     "execution_count": 11,
     "metadata": {},
     "output_type": "execute_result"
    }
   ],
   "source": [
    "type(df_OMIE_unit)"
   ]
  },
  {
   "cell_type": "code",
   "execution_count": 12,
   "metadata": {},
   "outputs": [
    {
     "data": {
      "text/plain": [
       "(71112, 14)"
      ]
     },
     "execution_count": 12,
     "metadata": {},
     "output_type": "execute_result"
    }
   ],
   "source": [
    "df_OMIE_unit.shape"
   ]
  },
  {
   "cell_type": "code",
   "execution_count": 14,
   "metadata": {},
   "outputs": [
    {
     "data": {
      "text/plain": [
       "2020    61045\n",
       "2019    10067\n",
       "Name: Year, dtype: int64"
      ]
     },
     "execution_count": 14,
     "metadata": {},
     "output_type": "execute_result"
    }
   ],
   "source": [
    "#Data from each year\n",
    "df_OMIE_unit['Year'].value_counts()"
   ]
  },
  {
   "cell_type": "code",
   "execution_count": 17,
   "metadata": {},
   "outputs": [
    {
     "data": {
      "text/plain": [
       "12    6541\n",
       "1     6519\n",
       "10    6181\n",
       "8     6169\n",
       "7     6169\n",
       "5     6169\n",
       "3     6157\n",
       "9     5970\n",
       "6     5970\n",
       "4     5970\n",
       "2     5771\n",
       "11    3526\n",
       "Name: Month, dtype: int64"
      ]
     },
     "execution_count": 17,
     "metadata": {},
     "output_type": "execute_result"
    }
   ],
   "source": [
    "#Data from each month\n",
    "df_OMIE_unit['Month'].value_counts()"
   ]
  },
  {
   "cell_type": "code",
   "execution_count": 18,
   "metadata": {},
   "outputs": [
    {
     "data": {
      "text/plain": [
       "25    2433\n",
       "24    2426\n",
       "22    2425\n",
       "21    2425\n",
       "1     2424\n",
       "18    2424\n",
       "4     2424\n",
       "28    2424\n",
       "27    2424\n",
       "26    2424\n",
       "3     2424\n",
       "2     2424\n",
       "23    2417\n",
       "20    2415\n",
       "29    2412\n",
       "19    2370\n",
       "5     2221\n",
       "30    2214\n",
       "9     2213\n",
       "6     2213\n",
       "7     2213\n",
       "8     2213\n",
       "16    2213\n",
       "10    2213\n",
       "11    2213\n",
       "12    2213\n",
       "13    2213\n",
       "14    2213\n",
       "15    2213\n",
       "17    2213\n",
       "31    1406\n",
       "Name: Day, dtype: int64"
      ]
     },
     "execution_count": 18,
     "metadata": {},
     "output_type": "execute_result"
    }
   ],
   "source": [
    "#Data from each day\n",
    "df_OMIE_unit['Day'].value_counts()"
   ]
  },
  {
   "cell_type": "markdown",
   "metadata": {},
   "source": [
    "Now, a function \"df_sel_unit\" is created. This function selects one unit by the begining of the \"Bid_Unit\" code from the OMIE .csv merged files locally stored by month. The function output is a dataframe with the selected info for the whole available period of time."
   ]
  },
  {
   "cell_type": "code",
   "execution_count": 19,
   "metadata": {},
   "outputs": [],
   "source": [
    "def df_sel_unit(unit):\n",
    "    \n",
    "    cab_det_path = '/home/dsc/Documents/TFM/Data/OMIE/CAB_DET/'\n",
    "    cab_det_list = !ls -1 $cab_det_path\n",
    "    \n",
    "    df_OMIE_unit = pd.DataFrame()\n",
    "\n",
    "    for archive in cab_det_list:\n",
    "        df_OMIE_month = pd.read_csv(cab_det_path + archive)\n",
    "        df_OMIE_unit_month = df_OMIE_month.loc[df_OMIE_month['Bid_Unit'].str.startswith(unit)]\n",
    "        df_OMIE_unit = pd.concat([df_OMIE_unit,df_OMIE_unit_month])\n",
    "\n",
    "    df_OMIE_unit = df_OMIE_unit.drop('Unnamed: 0',axis=1).reset_index(drop=True) #Dropping'Unnamed: 0' \n",
    "                                                                                 #and reseting the index column\n",
    "    df_OMIE_unit['Bid_Unit'] = df_OMIE_unit['Bid_Unit'].str.strip() #Eliminating spaces in 'Bid_Unit'\n",
    "    df_OMIE_unit['Unit_Description'] = df_OMIE_unit['Unit_Description'].str.strip() #Eliminating spaces \n",
    "                                                                                    #in 'Bid_Description'  \n",
    "    \n",
    "    return df_OMIE_unit"
   ]
  },
  {
   "cell_type": "code",
   "execution_count": 20,
   "metadata": {},
   "outputs": [],
   "source": [
    "#Using the funtion with \"PALOS1\"\n",
    "df_PALOS1 = df_sel_unit('PALOS1')"
   ]
  },
  {
   "cell_type": "code",
   "execution_count": 21,
   "metadata": {
    "scrolled": true
   },
   "outputs": [
    {
     "data": {
      "text/html": [
       "<div>\n",
       "<style scoped>\n",
       "    .dataframe tbody tr th:only-of-type {\n",
       "        vertical-align: middle;\n",
       "    }\n",
       "\n",
       "    .dataframe tbody tr th {\n",
       "        vertical-align: top;\n",
       "    }\n",
       "\n",
       "    .dataframe thead th {\n",
       "        text-align: right;\n",
       "    }\n",
       "</style>\n",
       "<table border=\"1\" class=\"dataframe\">\n",
       "  <thead>\n",
       "    <tr style=\"text-align: right;\">\n",
       "      <th></th>\n",
       "      <th>Bid_Code</th>\n",
       "      <th>Num_Version</th>\n",
       "      <th>Bid_Unit</th>\n",
       "      <th>Unit_Description</th>\n",
       "      <th>Sell_Buy</th>\n",
       "      <th>Pot_max</th>\n",
       "      <th>Year</th>\n",
       "      <th>Month</th>\n",
       "      <th>Day</th>\n",
       "      <th>Period</th>\n",
       "      <th>Block</th>\n",
       "      <th>Price</th>\n",
       "      <th>Energy</th>\n",
       "    </tr>\n",
       "  </thead>\n",
       "  <tbody>\n",
       "    <tr>\n",
       "      <th>0</th>\n",
       "      <td>6128191</td>\n",
       "      <td>2</td>\n",
       "      <td>PALOS1</td>\n",
       "      <td>C.C. PALOS 1</td>\n",
       "      <td>VNO</td>\n",
       "      <td>394.1</td>\n",
       "      <td>2020</td>\n",
       "      <td>1</td>\n",
       "      <td>1</td>\n",
       "      <td>1</td>\n",
       "      <td>12</td>\n",
       "      <td>180.30</td>\n",
       "      <td>394.1</td>\n",
       "    </tr>\n",
       "    <tr>\n",
       "      <th>1</th>\n",
       "      <td>6128191</td>\n",
       "      <td>2</td>\n",
       "      <td>PALOS1</td>\n",
       "      <td>C.C. PALOS 1</td>\n",
       "      <td>VNO</td>\n",
       "      <td>394.1</td>\n",
       "      <td>2020</td>\n",
       "      <td>1</td>\n",
       "      <td>1</td>\n",
       "      <td>2</td>\n",
       "      <td>12</td>\n",
       "      <td>180.30</td>\n",
       "      <td>394.1</td>\n",
       "    </tr>\n",
       "    <tr>\n",
       "      <th>2</th>\n",
       "      <td>6128191</td>\n",
       "      <td>2</td>\n",
       "      <td>PALOS1</td>\n",
       "      <td>C.C. PALOS 1</td>\n",
       "      <td>VNO</td>\n",
       "      <td>394.1</td>\n",
       "      <td>2020</td>\n",
       "      <td>1</td>\n",
       "      <td>1</td>\n",
       "      <td>3</td>\n",
       "      <td>1</td>\n",
       "      <td>1.13</td>\n",
       "      <td>50.0</td>\n",
       "    </tr>\n",
       "    <tr>\n",
       "      <th>3</th>\n",
       "      <td>6128191</td>\n",
       "      <td>2</td>\n",
       "      <td>PALOS1</td>\n",
       "      <td>C.C. PALOS 1</td>\n",
       "      <td>VNO</td>\n",
       "      <td>394.1</td>\n",
       "      <td>2020</td>\n",
       "      <td>1</td>\n",
       "      <td>1</td>\n",
       "      <td>3</td>\n",
       "      <td>12</td>\n",
       "      <td>180.30</td>\n",
       "      <td>344.1</td>\n",
       "    </tr>\n",
       "    <tr>\n",
       "      <th>4</th>\n",
       "      <td>6128191</td>\n",
       "      <td>2</td>\n",
       "      <td>PALOS1</td>\n",
       "      <td>C.C. PALOS 1</td>\n",
       "      <td>VNO</td>\n",
       "      <td>394.1</td>\n",
       "      <td>2020</td>\n",
       "      <td>1</td>\n",
       "      <td>1</td>\n",
       "      <td>4</td>\n",
       "      <td>1</td>\n",
       "      <td>1.13</td>\n",
       "      <td>60.0</td>\n",
       "    </tr>\n",
       "  </tbody>\n",
       "</table>\n",
       "</div>"
      ],
      "text/plain": [
       "   Bid_Code  Num_Version Bid_Unit Unit_Description Sell_Buy  Pot_max  Year  \\\n",
       "0   6128191            2   PALOS1     C.C. PALOS 1      VNO    394.1  2020   \n",
       "1   6128191            2   PALOS1     C.C. PALOS 1      VNO    394.1  2020   \n",
       "2   6128191            2   PALOS1     C.C. PALOS 1      VNO    394.1  2020   \n",
       "3   6128191            2   PALOS1     C.C. PALOS 1      VNO    394.1  2020   \n",
       "4   6128191            2   PALOS1     C.C. PALOS 1      VNO    394.1  2020   \n",
       "\n",
       "   Month  Day  Period  Block   Price  Energy  \n",
       "0      1    1       1     12  180.30   394.1  \n",
       "1      1    1       2     12  180.30   394.1  \n",
       "2      1    1       3      1    1.13    50.0  \n",
       "3      1    1       3     12  180.30   344.1  \n",
       "4      1    1       4      1    1.13    60.0  "
      ]
     },
     "execution_count": 21,
     "metadata": {},
     "output_type": "execute_result"
    }
   ],
   "source": [
    "df_PALOS1.head()"
   ]
  },
  {
   "cell_type": "code",
   "execution_count": 22,
   "metadata": {},
   "outputs": [
    {
     "data": {
      "text/plain": [
       "(71112, 13)"
      ]
     },
     "execution_count": 22,
     "metadata": {},
     "output_type": "execute_result"
    }
   ],
   "source": [
    "df_PALOS1.shape"
   ]
  },
  {
   "cell_type": "code",
   "execution_count": 23,
   "metadata": {
    "scrolled": true
   },
   "outputs": [
    {
     "data": {
      "text/plain": [
       "0        6\n",
       "1        6\n",
       "2        6\n",
       "3        6\n",
       "4        6\n",
       "        ..\n",
       "71107    6\n",
       "71108    6\n",
       "71109    6\n",
       "71110    6\n",
       "71111    6\n",
       "Name: Bid_Unit, Length: 71112, dtype: int64"
      ]
     },
     "execution_count": 23,
     "metadata": {},
     "output_type": "execute_result"
    }
   ],
   "source": [
    "df_PALOS1['Bid_Unit'].str.len()"
   ]
  },
  {
   "cell_type": "code",
   "execution_count": 24,
   "metadata": {
    "scrolled": true
   },
   "outputs": [
    {
     "data": {
      "text/plain": [
       "0        6\n",
       "1        6\n",
       "2        6\n",
       "3        6\n",
       "4        6\n",
       "        ..\n",
       "71107    6\n",
       "71108    6\n",
       "71109    6\n",
       "71110    6\n",
       "71111    6\n",
       "Name: Bid_Unit, Length: 71112, dtype: int64"
      ]
     },
     "execution_count": 24,
     "metadata": {},
     "output_type": "execute_result"
    }
   ],
   "source": [
    "df_PALOS1['Bid_Unit'].str.strip().str.len()"
   ]
  },
  {
   "cell_type": "code",
   "execution_count": 25,
   "metadata": {},
   "outputs": [
    {
     "data": {
      "text/plain": [
       "0        12\n",
       "1        12\n",
       "2        12\n",
       "3        12\n",
       "4        12\n",
       "         ..\n",
       "71107    12\n",
       "71108    12\n",
       "71109    12\n",
       "71110    12\n",
       "71111    12\n",
       "Name: Unit_Description, Length: 71112, dtype: int64"
      ]
     },
     "execution_count": 25,
     "metadata": {},
     "output_type": "execute_result"
    }
   ],
   "source": [
    "df_PALOS1['Unit_Description'].str.len()"
   ]
  },
  {
   "cell_type": "code",
   "execution_count": 121,
   "metadata": {
    "scrolled": true
   },
   "outputs": [
    {
     "data": {
      "text/plain": [
       "0        12\n",
       "1        12\n",
       "2        12\n",
       "3        12\n",
       "4        12\n",
       "         ..\n",
       "71107    12\n",
       "71108    12\n",
       "71109    12\n",
       "71110    12\n",
       "71111    12\n",
       "Name: Unit_Description, Length: 71112, dtype: int64"
      ]
     },
     "execution_count": 121,
     "metadata": {},
     "output_type": "execute_result"
    }
   ],
   "source": [
    "df_PALOS1['Unit_Description'].str.strip().str.len()"
   ]
  },
  {
   "cell_type": "code",
   "execution_count": 26,
   "metadata": {},
   "outputs": [
    {
     "data": {
      "text/plain": [
       "0        3\n",
       "1        3\n",
       "2        3\n",
       "3        3\n",
       "4        3\n",
       "        ..\n",
       "71107    3\n",
       "71108    3\n",
       "71109    3\n",
       "71110    3\n",
       "71111    3\n",
       "Name: Sell_Buy, Length: 71112, dtype: int64"
      ]
     },
     "execution_count": 26,
     "metadata": {},
     "output_type": "execute_result"
    }
   ],
   "source": [
    "df_PALOS1['Sell_Buy'].str.len()"
   ]
  },
  {
   "cell_type": "code",
   "execution_count": 27,
   "metadata": {},
   "outputs": [
    {
     "data": {
      "text/plain": [
       "0        3\n",
       "1        3\n",
       "2        3\n",
       "3        3\n",
       "4        3\n",
       "        ..\n",
       "71107    3\n",
       "71108    3\n",
       "71109    3\n",
       "71110    3\n",
       "71111    3\n",
       "Name: Sell_Buy, Length: 71112, dtype: int64"
      ]
     },
     "execution_count": 27,
     "metadata": {},
     "output_type": "execute_result"
    }
   ],
   "source": [
    "#Checking that \"Sell_Buy\" is OK\n",
    "df_PALOS1['Sell_Buy'].str.strip().str.len()"
   ]
  },
  {
   "cell_type": "code",
   "execution_count": 28,
   "metadata": {},
   "outputs": [],
   "source": [
    "#Storing locally information from PALOS1 \n",
    "df_PALOS1.to_csv('/home/dsc/Documents/TFM/Data/OMIE/OMIE_PALOS1/OMIE_PALOS1_112019_102020.csv')"
   ]
  },
  {
   "cell_type": "code",
   "execution_count": 30,
   "metadata": {},
   "outputs": [
    {
     "data": {
      "text/plain": [
       "Bid_Code              int64\n",
       "Num_Version           int64\n",
       "Bid_Unit             object\n",
       "Unit_Description     object\n",
       "Sell_Buy             object\n",
       "Pot_max             float64\n",
       "Year                  int64\n",
       "Month                 int64\n",
       "Day                   int64\n",
       "Period                int64\n",
       "Block                 int64\n",
       "Price               float64\n",
       "Energy              float64\n",
       "dtype: object"
      ]
     },
     "execution_count": 30,
     "metadata": {},
     "output_type": "execute_result"
    }
   ],
   "source": [
    "#Checking types \n",
    "df_PALOS1.dtypes"
   ]
  },
  {
   "cell_type": "code",
   "execution_count": 31,
   "metadata": {
    "scrolled": true
   },
   "outputs": [
    {
     "data": {
      "text/html": [
       "<div>\n",
       "<style scoped>\n",
       "    .dataframe tbody tr th:only-of-type {\n",
       "        vertical-align: middle;\n",
       "    }\n",
       "\n",
       "    .dataframe tbody tr th {\n",
       "        vertical-align: top;\n",
       "    }\n",
       "\n",
       "    .dataframe thead th {\n",
       "        text-align: right;\n",
       "    }\n",
       "</style>\n",
       "<table border=\"1\" class=\"dataframe\">\n",
       "  <thead>\n",
       "    <tr style=\"text-align: right;\">\n",
       "      <th></th>\n",
       "      <th>Bid_Code</th>\n",
       "      <th>Num_Version</th>\n",
       "      <th>Pot_max</th>\n",
       "      <th>Year</th>\n",
       "      <th>Month</th>\n",
       "      <th>Day</th>\n",
       "      <th>Period</th>\n",
       "      <th>Block</th>\n",
       "      <th>Price</th>\n",
       "      <th>Energy</th>\n",
       "    </tr>\n",
       "  </thead>\n",
       "  <tbody>\n",
       "    <tr>\n",
       "      <th>count</th>\n",
       "      <td>7.111200e+04</td>\n",
       "      <td>71112.000000</td>\n",
       "      <td>7.111200e+04</td>\n",
       "      <td>71112.000000</td>\n",
       "      <td>71112.000000</td>\n",
       "      <td>71112.000000</td>\n",
       "      <td>71112.000000</td>\n",
       "      <td>71112.000000</td>\n",
       "      <td>71112.000000</td>\n",
       "      <td>71112.000000</td>\n",
       "    </tr>\n",
       "    <tr>\n",
       "      <th>mean</th>\n",
       "      <td>6.303431e+06</td>\n",
       "      <td>1.775157</td>\n",
       "      <td>3.941000e+02</td>\n",
       "      <td>2019.858435</td>\n",
       "      <td>6.362217</td>\n",
       "      <td>15.931404</td>\n",
       "      <td>15.879416</td>\n",
       "      <td>6.519223</td>\n",
       "      <td>52.564769</td>\n",
       "      <td>46.995838</td>\n",
       "    </tr>\n",
       "    <tr>\n",
       "      <th>std</th>\n",
       "      <td>1.431550e+05</td>\n",
       "      <td>0.865138</td>\n",
       "      <td>4.406533e-10</td>\n",
       "      <td>0.348606</td>\n",
       "      <td>3.433946</td>\n",
       "      <td>8.900143</td>\n",
       "      <td>5.272937</td>\n",
       "      <td>3.635035</td>\n",
       "      <td>48.738841</td>\n",
       "      <td>75.620040</td>\n",
       "    </tr>\n",
       "    <tr>\n",
       "      <th>min</th>\n",
       "      <td>6.049903e+06</td>\n",
       "      <td>1.000000</td>\n",
       "      <td>3.941000e+02</td>\n",
       "      <td>2019.000000</td>\n",
       "      <td>1.000000</td>\n",
       "      <td>1.000000</td>\n",
       "      <td>1.000000</td>\n",
       "      <td>1.000000</td>\n",
       "      <td>1.130000</td>\n",
       "      <td>3.000000</td>\n",
       "    </tr>\n",
       "    <tr>\n",
       "      <th>25%</th>\n",
       "      <td>6.176254e+06</td>\n",
       "      <td>1.000000</td>\n",
       "      <td>3.941000e+02</td>\n",
       "      <td>2020.000000</td>\n",
       "      <td>3.000000</td>\n",
       "      <td>8.000000</td>\n",
       "      <td>12.000000</td>\n",
       "      <td>3.000000</td>\n",
       "      <td>35.400000</td>\n",
       "      <td>17.000000</td>\n",
       "    </tr>\n",
       "    <tr>\n",
       "      <th>50%</th>\n",
       "      <td>6.300456e+06</td>\n",
       "      <td>2.000000</td>\n",
       "      <td>3.941000e+02</td>\n",
       "      <td>2020.000000</td>\n",
       "      <td>6.000000</td>\n",
       "      <td>16.000000</td>\n",
       "      <td>16.000000</td>\n",
       "      <td>6.000000</td>\n",
       "      <td>40.720000</td>\n",
       "      <td>17.000000</td>\n",
       "    </tr>\n",
       "    <tr>\n",
       "      <th>75%</th>\n",
       "      <td>6.427697e+06</td>\n",
       "      <td>2.000000</td>\n",
       "      <td>3.941000e+02</td>\n",
       "      <td>2020.000000</td>\n",
       "      <td>9.000000</td>\n",
       "      <td>24.000000</td>\n",
       "      <td>20.000000</td>\n",
       "      <td>10.000000</td>\n",
       "      <td>45.420000</td>\n",
       "      <td>17.000000</td>\n",
       "    </tr>\n",
       "    <tr>\n",
       "      <th>max</th>\n",
       "      <td>6.555573e+06</td>\n",
       "      <td>5.000000</td>\n",
       "      <td>3.941000e+02</td>\n",
       "      <td>2020.000000</td>\n",
       "      <td>12.000000</td>\n",
       "      <td>31.000000</td>\n",
       "      <td>25.000000</td>\n",
       "      <td>12.000000</td>\n",
       "      <td>180.300000</td>\n",
       "      <td>394.100000</td>\n",
       "    </tr>\n",
       "  </tbody>\n",
       "</table>\n",
       "</div>"
      ],
      "text/plain": [
       "           Bid_Code   Num_Version       Pot_max          Year         Month  \\\n",
       "count  7.111200e+04  71112.000000  7.111200e+04  71112.000000  71112.000000   \n",
       "mean   6.303431e+06      1.775157  3.941000e+02   2019.858435      6.362217   \n",
       "std    1.431550e+05      0.865138  4.406533e-10      0.348606      3.433946   \n",
       "min    6.049903e+06      1.000000  3.941000e+02   2019.000000      1.000000   \n",
       "25%    6.176254e+06      1.000000  3.941000e+02   2020.000000      3.000000   \n",
       "50%    6.300456e+06      2.000000  3.941000e+02   2020.000000      6.000000   \n",
       "75%    6.427697e+06      2.000000  3.941000e+02   2020.000000      9.000000   \n",
       "max    6.555573e+06      5.000000  3.941000e+02   2020.000000     12.000000   \n",
       "\n",
       "                Day        Period         Block         Price        Energy  \n",
       "count  71112.000000  71112.000000  71112.000000  71112.000000  71112.000000  \n",
       "mean      15.931404     15.879416      6.519223     52.564769     46.995838  \n",
       "std        8.900143      5.272937      3.635035     48.738841     75.620040  \n",
       "min        1.000000      1.000000      1.000000      1.130000      3.000000  \n",
       "25%        8.000000     12.000000      3.000000     35.400000     17.000000  \n",
       "50%       16.000000     16.000000      6.000000     40.720000     17.000000  \n",
       "75%       24.000000     20.000000     10.000000     45.420000     17.000000  \n",
       "max       31.000000     25.000000     12.000000    180.300000    394.100000  "
      ]
     },
     "execution_count": 31,
     "metadata": {},
     "output_type": "execute_result"
    }
   ],
   "source": [
    "df_PALOS1.describe()"
   ]
  },
  {
   "cell_type": "code",
   "execution_count": 32,
   "metadata": {
    "scrolled": true
   },
   "outputs": [
    {
     "data": {
      "text/plain": [
       "13    4236\n",
       "19    4236\n",
       "15    4236\n",
       "16    4236\n",
       "17    4236\n",
       "18    4236\n",
       "14    4236\n",
       "20    4236\n",
       "21    4236\n",
       "22    4236\n",
       "23    4236\n",
       "12    4231\n",
       "11    4226\n",
       "10    4226\n",
       "24    4204\n",
       "9     2572\n",
       "8     1104\n",
       "7      707\n",
       "6      702\n",
       "5      700\n",
       "4      700\n",
       "3      424\n",
       "2      354\n",
       "1      354\n",
       "25      12\n",
       "Name: Period, dtype: int64"
      ]
     },
     "execution_count": 32,
     "metadata": {},
     "output_type": "execute_result"
    }
   ],
   "source": [
    "df_PALOS1['Period'].value_counts()"
   ]
  },
  {
   "cell_type": "code",
   "execution_count": 34,
   "metadata": {
    "scrolled": true
   },
   "outputs": [
    {
     "data": {
      "text/html": [
       "<div>\n",
       "<style scoped>\n",
       "    .dataframe tbody tr th:only-of-type {\n",
       "        vertical-align: middle;\n",
       "    }\n",
       "\n",
       "    .dataframe tbody tr th {\n",
       "        vertical-align: top;\n",
       "    }\n",
       "\n",
       "    .dataframe thead th {\n",
       "        text-align: right;\n",
       "    }\n",
       "</style>\n",
       "<table border=\"1\" class=\"dataframe\">\n",
       "  <thead>\n",
       "    <tr style=\"text-align: right;\">\n",
       "      <th></th>\n",
       "      <th>Bid_Code</th>\n",
       "      <th>Num_Version</th>\n",
       "      <th>Bid_Unit</th>\n",
       "      <th>Unit_Description</th>\n",
       "      <th>Sell_Buy</th>\n",
       "      <th>Pot_max</th>\n",
       "      <th>Year</th>\n",
       "      <th>Month</th>\n",
       "      <th>Day</th>\n",
       "      <th>Period</th>\n",
       "      <th>Block</th>\n",
       "      <th>Price</th>\n",
       "      <th>Energy</th>\n",
       "    </tr>\n",
       "  </thead>\n",
       "  <tbody>\n",
       "    <tr>\n",
       "      <th>59839</th>\n",
       "      <td>6546551</td>\n",
       "      <td>1</td>\n",
       "      <td>PALOS1</td>\n",
       "      <td>C.C. PALOS 1</td>\n",
       "      <td>VNO</td>\n",
       "      <td>394.1</td>\n",
       "      <td>2020</td>\n",
       "      <td>10</td>\n",
       "      <td>25</td>\n",
       "      <td>25</td>\n",
       "      <td>1</td>\n",
       "      <td>1.13</td>\n",
       "      <td>190.0</td>\n",
       "    </tr>\n",
       "    <tr>\n",
       "      <th>59840</th>\n",
       "      <td>6546551</td>\n",
       "      <td>1</td>\n",
       "      <td>PALOS1</td>\n",
       "      <td>C.C. PALOS 1</td>\n",
       "      <td>VNO</td>\n",
       "      <td>394.1</td>\n",
       "      <td>2020</td>\n",
       "      <td>10</td>\n",
       "      <td>25</td>\n",
       "      <td>25</td>\n",
       "      <td>2</td>\n",
       "      <td>38.27</td>\n",
       "      <td>17.0</td>\n",
       "    </tr>\n",
       "    <tr>\n",
       "      <th>59841</th>\n",
       "      <td>6546551</td>\n",
       "      <td>1</td>\n",
       "      <td>PALOS1</td>\n",
       "      <td>C.C. PALOS 1</td>\n",
       "      <td>VNO</td>\n",
       "      <td>394.1</td>\n",
       "      <td>2020</td>\n",
       "      <td>10</td>\n",
       "      <td>25</td>\n",
       "      <td>25</td>\n",
       "      <td>3</td>\n",
       "      <td>39.10</td>\n",
       "      <td>17.0</td>\n",
       "    </tr>\n",
       "    <tr>\n",
       "      <th>59842</th>\n",
       "      <td>6546551</td>\n",
       "      <td>1</td>\n",
       "      <td>PALOS1</td>\n",
       "      <td>C.C. PALOS 1</td>\n",
       "      <td>VNO</td>\n",
       "      <td>394.1</td>\n",
       "      <td>2020</td>\n",
       "      <td>10</td>\n",
       "      <td>25</td>\n",
       "      <td>25</td>\n",
       "      <td>4</td>\n",
       "      <td>39.93</td>\n",
       "      <td>17.0</td>\n",
       "    </tr>\n",
       "    <tr>\n",
       "      <th>59843</th>\n",
       "      <td>6546551</td>\n",
       "      <td>1</td>\n",
       "      <td>PALOS1</td>\n",
       "      <td>C.C. PALOS 1</td>\n",
       "      <td>VNO</td>\n",
       "      <td>394.1</td>\n",
       "      <td>2020</td>\n",
       "      <td>10</td>\n",
       "      <td>25</td>\n",
       "      <td>25</td>\n",
       "      <td>5</td>\n",
       "      <td>40.76</td>\n",
       "      <td>17.0</td>\n",
       "    </tr>\n",
       "    <tr>\n",
       "      <th>59844</th>\n",
       "      <td>6546551</td>\n",
       "      <td>1</td>\n",
       "      <td>PALOS1</td>\n",
       "      <td>C.C. PALOS 1</td>\n",
       "      <td>VNO</td>\n",
       "      <td>394.1</td>\n",
       "      <td>2020</td>\n",
       "      <td>10</td>\n",
       "      <td>25</td>\n",
       "      <td>25</td>\n",
       "      <td>6</td>\n",
       "      <td>42.39</td>\n",
       "      <td>17.0</td>\n",
       "    </tr>\n",
       "    <tr>\n",
       "      <th>59845</th>\n",
       "      <td>6546551</td>\n",
       "      <td>1</td>\n",
       "      <td>PALOS1</td>\n",
       "      <td>C.C. PALOS 1</td>\n",
       "      <td>VNO</td>\n",
       "      <td>394.1</td>\n",
       "      <td>2020</td>\n",
       "      <td>10</td>\n",
       "      <td>25</td>\n",
       "      <td>25</td>\n",
       "      <td>7</td>\n",
       "      <td>43.22</td>\n",
       "      <td>17.0</td>\n",
       "    </tr>\n",
       "    <tr>\n",
       "      <th>59846</th>\n",
       "      <td>6546551</td>\n",
       "      <td>1</td>\n",
       "      <td>PALOS1</td>\n",
       "      <td>C.C. PALOS 1</td>\n",
       "      <td>VNO</td>\n",
       "      <td>394.1</td>\n",
       "      <td>2020</td>\n",
       "      <td>10</td>\n",
       "      <td>25</td>\n",
       "      <td>25</td>\n",
       "      <td>8</td>\n",
       "      <td>44.05</td>\n",
       "      <td>17.0</td>\n",
       "    </tr>\n",
       "    <tr>\n",
       "      <th>59847</th>\n",
       "      <td>6546551</td>\n",
       "      <td>1</td>\n",
       "      <td>PALOS1</td>\n",
       "      <td>C.C. PALOS 1</td>\n",
       "      <td>VNO</td>\n",
       "      <td>394.1</td>\n",
       "      <td>2020</td>\n",
       "      <td>10</td>\n",
       "      <td>25</td>\n",
       "      <td>25</td>\n",
       "      <td>9</td>\n",
       "      <td>45.38</td>\n",
       "      <td>17.0</td>\n",
       "    </tr>\n",
       "    <tr>\n",
       "      <th>59848</th>\n",
       "      <td>6546551</td>\n",
       "      <td>1</td>\n",
       "      <td>PALOS1</td>\n",
       "      <td>C.C. PALOS 1</td>\n",
       "      <td>VNO</td>\n",
       "      <td>394.1</td>\n",
       "      <td>2020</td>\n",
       "      <td>10</td>\n",
       "      <td>25</td>\n",
       "      <td>25</td>\n",
       "      <td>10</td>\n",
       "      <td>46.71</td>\n",
       "      <td>17.0</td>\n",
       "    </tr>\n",
       "    <tr>\n",
       "      <th>59849</th>\n",
       "      <td>6546551</td>\n",
       "      <td>1</td>\n",
       "      <td>PALOS1</td>\n",
       "      <td>C.C. PALOS 1</td>\n",
       "      <td>VNO</td>\n",
       "      <td>394.1</td>\n",
       "      <td>2020</td>\n",
       "      <td>10</td>\n",
       "      <td>25</td>\n",
       "      <td>25</td>\n",
       "      <td>11</td>\n",
       "      <td>48.54</td>\n",
       "      <td>17.0</td>\n",
       "    </tr>\n",
       "    <tr>\n",
       "      <th>59850</th>\n",
       "      <td>6546551</td>\n",
       "      <td>1</td>\n",
       "      <td>PALOS1</td>\n",
       "      <td>C.C. PALOS 1</td>\n",
       "      <td>VNO</td>\n",
       "      <td>394.1</td>\n",
       "      <td>2020</td>\n",
       "      <td>10</td>\n",
       "      <td>25</td>\n",
       "      <td>25</td>\n",
       "      <td>12</td>\n",
       "      <td>180.30</td>\n",
       "      <td>34.1</td>\n",
       "    </tr>\n",
       "  </tbody>\n",
       "</table>\n",
       "</div>"
      ],
      "text/plain": [
       "       Bid_Code  Num_Version Bid_Unit Unit_Description Sell_Buy  Pot_max  \\\n",
       "59839   6546551            1   PALOS1     C.C. PALOS 1      VNO    394.1   \n",
       "59840   6546551            1   PALOS1     C.C. PALOS 1      VNO    394.1   \n",
       "59841   6546551            1   PALOS1     C.C. PALOS 1      VNO    394.1   \n",
       "59842   6546551            1   PALOS1     C.C. PALOS 1      VNO    394.1   \n",
       "59843   6546551            1   PALOS1     C.C. PALOS 1      VNO    394.1   \n",
       "59844   6546551            1   PALOS1     C.C. PALOS 1      VNO    394.1   \n",
       "59845   6546551            1   PALOS1     C.C. PALOS 1      VNO    394.1   \n",
       "59846   6546551            1   PALOS1     C.C. PALOS 1      VNO    394.1   \n",
       "59847   6546551            1   PALOS1     C.C. PALOS 1      VNO    394.1   \n",
       "59848   6546551            1   PALOS1     C.C. PALOS 1      VNO    394.1   \n",
       "59849   6546551            1   PALOS1     C.C. PALOS 1      VNO    394.1   \n",
       "59850   6546551            1   PALOS1     C.C. PALOS 1      VNO    394.1   \n",
       "\n",
       "       Year  Month  Day  Period  Block   Price  Energy  \n",
       "59839  2020     10   25      25      1    1.13   190.0  \n",
       "59840  2020     10   25      25      2   38.27    17.0  \n",
       "59841  2020     10   25      25      3   39.10    17.0  \n",
       "59842  2020     10   25      25      4   39.93    17.0  \n",
       "59843  2020     10   25      25      5   40.76    17.0  \n",
       "59844  2020     10   25      25      6   42.39    17.0  \n",
       "59845  2020     10   25      25      7   43.22    17.0  \n",
       "59846  2020     10   25      25      8   44.05    17.0  \n",
       "59847  2020     10   25      25      9   45.38    17.0  \n",
       "59848  2020     10   25      25     10   46.71    17.0  \n",
       "59849  2020     10   25      25     11   48.54    17.0  \n",
       "59850  2020     10   25      25     12  180.30    34.1  "
      ]
     },
     "execution_count": 34,
     "metadata": {},
     "output_type": "execute_result"
    }
   ],
   "source": [
    "#Period 25 ocurrs when day time changes\n",
    "df_PALOS1.loc[(df_PALOS1['Period']==25)]"
   ]
  },
  {
   "cell_type": "code",
   "execution_count": 35,
   "metadata": {},
   "outputs": [],
   "source": [
    "#Using the funtion with \"PALOS\", to retreive information from PALOS1, 2, and 3.\n",
    "df_PALOS = df_sel_unit('PALOS')"
   ]
  },
  {
   "cell_type": "code",
   "execution_count": 36,
   "metadata": {},
   "outputs": [],
   "source": [
    "df_PALOS.to_csv('/home/dsc/Documents/TFM/Data/OMIE/OMIE_PALOS/OMIE_PALOS_112019_102020.csv')"
   ]
  },
  {
   "cell_type": "code",
   "execution_count": 37,
   "metadata": {},
   "outputs": [
    {
     "data": {
      "text/plain": [
       "PALOS1    71112\n",
       "PALOS3    70179\n",
       "PALOS2    68034\n",
       "Name: Bid_Unit, dtype: int64"
      ]
     },
     "execution_count": 37,
     "metadata": {},
     "output_type": "execute_result"
    }
   ],
   "source": [
    "df_PALOS['Bid_Unit'].value_counts()"
   ]
  },
  {
   "cell_type": "code",
   "execution_count": 40,
   "metadata": {},
   "outputs": [],
   "source": [
    "#Using the funtion with \"AGUAYO\".\n",
    "df_AGUAYO = df_sel_unit('AGU')"
   ]
  },
  {
   "cell_type": "code",
   "execution_count": 41,
   "metadata": {},
   "outputs": [
    {
     "data": {
      "text/plain": [
       "(82252, 13)"
      ]
     },
     "execution_count": 41,
     "metadata": {},
     "output_type": "execute_result"
    }
   ],
   "source": [
    "df_AGUAYO.shape"
   ]
  },
  {
   "cell_type": "code",
   "execution_count": 42,
   "metadata": {},
   "outputs": [
    {
     "data": {
      "text/html": [
       "<div>\n",
       "<style scoped>\n",
       "    .dataframe tbody tr th:only-of-type {\n",
       "        vertical-align: middle;\n",
       "    }\n",
       "\n",
       "    .dataframe tbody tr th {\n",
       "        vertical-align: top;\n",
       "    }\n",
       "\n",
       "    .dataframe thead th {\n",
       "        text-align: right;\n",
       "    }\n",
       "</style>\n",
       "<table border=\"1\" class=\"dataframe\">\n",
       "  <thead>\n",
       "    <tr style=\"text-align: right;\">\n",
       "      <th></th>\n",
       "      <th>Bid_Code</th>\n",
       "      <th>Num_Version</th>\n",
       "      <th>Bid_Unit</th>\n",
       "      <th>Unit_Description</th>\n",
       "      <th>Sell_Buy</th>\n",
       "      <th>Pot_max</th>\n",
       "      <th>Year</th>\n",
       "      <th>Month</th>\n",
       "      <th>Day</th>\n",
       "      <th>Period</th>\n",
       "      <th>Block</th>\n",
       "      <th>Price</th>\n",
       "      <th>Energy</th>\n",
       "    </tr>\n",
       "  </thead>\n",
       "  <tbody>\n",
       "    <tr>\n",
       "      <th>0</th>\n",
       "      <td>6129555</td>\n",
       "      <td>1</td>\n",
       "      <td>AGUG</td>\n",
       "      <td>C.H. AGUAYO GENERACION</td>\n",
       "      <td>VNO</td>\n",
       "      <td>360.6</td>\n",
       "      <td>2020</td>\n",
       "      <td>1</td>\n",
       "      <td>1</td>\n",
       "      <td>1</td>\n",
       "      <td>1</td>\n",
       "      <td>30.0</td>\n",
       "      <td>80.0</td>\n",
       "    </tr>\n",
       "    <tr>\n",
       "      <th>1</th>\n",
       "      <td>6129555</td>\n",
       "      <td>1</td>\n",
       "      <td>AGUG</td>\n",
       "      <td>C.H. AGUAYO GENERACION</td>\n",
       "      <td>VNO</td>\n",
       "      <td>360.6</td>\n",
       "      <td>2020</td>\n",
       "      <td>1</td>\n",
       "      <td>1</td>\n",
       "      <td>1</td>\n",
       "      <td>2</td>\n",
       "      <td>48.0</td>\n",
       "      <td>80.0</td>\n",
       "    </tr>\n",
       "    <tr>\n",
       "      <th>2</th>\n",
       "      <td>6129555</td>\n",
       "      <td>1</td>\n",
       "      <td>AGUG</td>\n",
       "      <td>C.H. AGUAYO GENERACION</td>\n",
       "      <td>VNO</td>\n",
       "      <td>360.6</td>\n",
       "      <td>2020</td>\n",
       "      <td>1</td>\n",
       "      <td>1</td>\n",
       "      <td>1</td>\n",
       "      <td>3</td>\n",
       "      <td>52.0</td>\n",
       "      <td>80.0</td>\n",
       "    </tr>\n",
       "    <tr>\n",
       "      <th>3</th>\n",
       "      <td>6129555</td>\n",
       "      <td>1</td>\n",
       "      <td>AGUG</td>\n",
       "      <td>C.H. AGUAYO GENERACION</td>\n",
       "      <td>VNO</td>\n",
       "      <td>360.6</td>\n",
       "      <td>2020</td>\n",
       "      <td>1</td>\n",
       "      <td>1</td>\n",
       "      <td>1</td>\n",
       "      <td>4</td>\n",
       "      <td>56.0</td>\n",
       "      <td>80.0</td>\n",
       "    </tr>\n",
       "    <tr>\n",
       "      <th>4</th>\n",
       "      <td>6129555</td>\n",
       "      <td>1</td>\n",
       "      <td>AGUG</td>\n",
       "      <td>C.H. AGUAYO GENERACION</td>\n",
       "      <td>VNO</td>\n",
       "      <td>360.6</td>\n",
       "      <td>2020</td>\n",
       "      <td>1</td>\n",
       "      <td>1</td>\n",
       "      <td>1</td>\n",
       "      <td>5</td>\n",
       "      <td>180.3</td>\n",
       "      <td>40.6</td>\n",
       "    </tr>\n",
       "  </tbody>\n",
       "</table>\n",
       "</div>"
      ],
      "text/plain": [
       "   Bid_Code  Num_Version Bid_Unit        Unit_Description Sell_Buy  Pot_max  \\\n",
       "0   6129555            1     AGUG  C.H. AGUAYO GENERACION      VNO    360.6   \n",
       "1   6129555            1     AGUG  C.H. AGUAYO GENERACION      VNO    360.6   \n",
       "2   6129555            1     AGUG  C.H. AGUAYO GENERACION      VNO    360.6   \n",
       "3   6129555            1     AGUG  C.H. AGUAYO GENERACION      VNO    360.6   \n",
       "4   6129555            1     AGUG  C.H. AGUAYO GENERACION      VNO    360.6   \n",
       "\n",
       "   Year  Month  Day  Period  Block  Price  Energy  \n",
       "0  2020      1    1       1      1   30.0    80.0  \n",
       "1  2020      1    1       1      2   48.0    80.0  \n",
       "2  2020      1    1       1      3   52.0    80.0  \n",
       "3  2020      1    1       1      4   56.0    80.0  \n",
       "4  2020      1    1       1      5  180.3    40.6  "
      ]
     },
     "execution_count": 42,
     "metadata": {},
     "output_type": "execute_result"
    }
   ],
   "source": [
    "df_AGUAYO.head()"
   ]
  },
  {
   "cell_type": "code",
   "execution_count": 43,
   "metadata": {},
   "outputs": [],
   "source": [
    "#Using a cab file to see the relationship between Unit_Code and Unit_Descripton for AGUAYO\n",
    "df_cab_example = pd.read_csv('/home/dsc/Documents/TFM/Data/OMIE/cab_202009/CAB_09.csv',)"
   ]
  },
  {
   "cell_type": "code",
   "execution_count": 44,
   "metadata": {},
   "outputs": [
    {
     "data": {
      "text/html": [
       "<div>\n",
       "<style scoped>\n",
       "    .dataframe tbody tr th:only-of-type {\n",
       "        vertical-align: middle;\n",
       "    }\n",
       "\n",
       "    .dataframe tbody tr th {\n",
       "        vertical-align: top;\n",
       "    }\n",
       "\n",
       "    .dataframe thead th {\n",
       "        text-align: right;\n",
       "    }\n",
       "</style>\n",
       "<table border=\"1\" class=\"dataframe\">\n",
       "  <thead>\n",
       "    <tr style=\"text-align: right;\">\n",
       "      <th></th>\n",
       "      <th>Unnamed: 0</th>\n",
       "      <th>Bid_Code</th>\n",
       "      <th>Num_Version</th>\n",
       "      <th>Bid_Unit</th>\n",
       "      <th>Unit_Description</th>\n",
       "      <th>Sell_Buy</th>\n",
       "      <th>Pot_max</th>\n",
       "      <th>Year</th>\n",
       "      <th>Month</th>\n",
       "      <th>Day</th>\n",
       "    </tr>\n",
       "  </thead>\n",
       "  <tbody>\n",
       "    <tr>\n",
       "      <th>0</th>\n",
       "      <td>0</td>\n",
       "      <td>1696149</td>\n",
       "      <td>6</td>\n",
       "      <td>EDPC2</td>\n",
       "      <td>EDP COMERCIAL COMPRA (PORT)</td>\n",
       "      <td>CNO</td>\n",
       "      <td>6000.0</td>\n",
       "      <td>2020</td>\n",
       "      <td>9</td>\n",
       "      <td>1</td>\n",
       "    </tr>\n",
       "    <tr>\n",
       "      <th>1</th>\n",
       "      <td>1</td>\n",
       "      <td>1717319</td>\n",
       "      <td>3</td>\n",
       "      <td>EONUC01</td>\n",
       "      <td>EONUR CONSUMO CLIENTES TUR</td>\n",
       "      <td>CNO</td>\n",
       "      <td>400.0</td>\n",
       "      <td>2020</td>\n",
       "      <td>9</td>\n",
       "      <td>1</td>\n",
       "    </tr>\n",
       "    <tr>\n",
       "      <th>2</th>\n",
       "      <td>2</td>\n",
       "      <td>1811311</td>\n",
       "      <td>7</td>\n",
       "      <td>IPG</td>\n",
       "      <td>C.H. IP GENERACION</td>\n",
       "      <td>VNO</td>\n",
       "      <td>84.0</td>\n",
       "      <td>2020</td>\n",
       "      <td>9</td>\n",
       "      <td>1</td>\n",
       "    </tr>\n",
       "    <tr>\n",
       "      <th>3</th>\n",
       "      <td>3</td>\n",
       "      <td>426609</td>\n",
       "      <td>12</td>\n",
       "      <td>IPB</td>\n",
       "      <td>C.H.B.IP BOMBEO</td>\n",
       "      <td>CNO</td>\n",
       "      <td>99.0</td>\n",
       "      <td>2020</td>\n",
       "      <td>9</td>\n",
       "      <td>1</td>\n",
       "    </tr>\n",
       "    <tr>\n",
       "      <th>4</th>\n",
       "      <td>4</td>\n",
       "      <td>2532852</td>\n",
       "      <td>28</td>\n",
       "      <td>NRENVD1</td>\n",
       "      <td>NRENO-VENTA</td>\n",
       "      <td>VNO</td>\n",
       "      <td>1.7</td>\n",
       "      <td>2020</td>\n",
       "      <td>9</td>\n",
       "      <td>1</td>\n",
       "    </tr>\n",
       "  </tbody>\n",
       "</table>\n",
       "</div>"
      ],
      "text/plain": [
       "   Unnamed: 0  Bid_Code  Num_Version Bid_Unit                Unit_Description  \\\n",
       "0           0   1696149            6  EDPC2    EDP COMERCIAL COMPRA (PORT)      \n",
       "1           1   1717319            3  EONUC01  EONUR CONSUMO CLIENTES TUR       \n",
       "2           2   1811311            7  IPG      C.H. IP GENERACION               \n",
       "3           3    426609           12  IPB      C.H.B.IP BOMBEO                  \n",
       "4           4   2532852           28  NRENVD1  NRENO-VENTA                      \n",
       "\n",
       "  Sell_Buy  Pot_max  Year  Month  Day  \n",
       "0      CNO   6000.0  2020      9    1  \n",
       "1      CNO    400.0  2020      9    1  \n",
       "2      VNO     84.0  2020      9    1  \n",
       "3      CNO     99.0  2020      9    1  \n",
       "4      VNO      1.7  2020      9    1  "
      ]
     },
     "execution_count": 44,
     "metadata": {},
     "output_type": "execute_result"
    }
   ],
   "source": [
    "df_cab_example.head()"
   ]
  },
  {
   "cell_type": "code",
   "execution_count": 45,
   "metadata": {
    "scrolled": true
   },
   "outputs": [
    {
     "data": {
      "text/plain": [
       "Series([], Name: Bid_Unit, dtype: int64)"
      ]
     },
     "execution_count": 45,
     "metadata": {},
     "output_type": "execute_result"
    }
   ],
   "source": [
    "df_cab_example.loc[df_cab_example['Unit_Description'].str.contains('AGUAY0')]['Bid_Unit'].value_counts()"
   ]
  },
  {
   "cell_type": "code",
   "execution_count": 46,
   "metadata": {
    "scrolled": true
   },
   "outputs": [
    {
     "data": {
      "text/plain": [
       "AGUB       30\n",
       "SAGU2      30\n",
       "AGUG       30\n",
       "SAGU1      30\n",
       "Name: Bid_Unit, dtype: int64"
      ]
     },
     "execution_count": 46,
     "metadata": {},
     "output_type": "execute_result"
    }
   ],
   "source": [
    "#Ther are more \"Bid_Units\" that contains \"AGU\"\n",
    "df_cab_example.loc[df_cab_example['Bid_Unit'].str.contains('AGU')]['Bid_Unit'].value_counts()"
   ]
  },
  {
   "cell_type": "code",
   "execution_count": 47,
   "metadata": {},
   "outputs": [
    {
     "data": {
      "text/plain": [
       "AGUB       30\n",
       "AGUG       30\n",
       "Name: Bid_Unit, dtype: int64"
      ]
     },
     "execution_count": 47,
     "metadata": {},
     "output_type": "execute_result"
    }
   ],
   "source": [
    "#It is seen that AGUAYO has two diferent bid units: PUMPING and GENERATION\n",
    "df_cab_example.loc[df_cab_example['Bid_Unit'].str.startswith('AGU')]['Bid_Unit'].value_counts()"
   ]
  },
  {
   "cell_type": "code",
   "execution_count": 48,
   "metadata": {
    "scrolled": true
   },
   "outputs": [
    {
     "data": {
      "text/html": [
       "<div>\n",
       "<style scoped>\n",
       "    .dataframe tbody tr th:only-of-type {\n",
       "        vertical-align: middle;\n",
       "    }\n",
       "\n",
       "    .dataframe tbody tr th {\n",
       "        vertical-align: top;\n",
       "    }\n",
       "\n",
       "    .dataframe thead th {\n",
       "        text-align: right;\n",
       "    }\n",
       "</style>\n",
       "<table border=\"1\" class=\"dataframe\">\n",
       "  <thead>\n",
       "    <tr style=\"text-align: right;\">\n",
       "      <th></th>\n",
       "      <th>Bid_Code</th>\n",
       "      <th>Num_Version</th>\n",
       "      <th>Bid_Unit</th>\n",
       "      <th>Unit_Description</th>\n",
       "      <th>Sell_Buy</th>\n",
       "      <th>Pot_max</th>\n",
       "      <th>Year</th>\n",
       "      <th>Month</th>\n",
       "      <th>Day</th>\n",
       "      <th>Period</th>\n",
       "      <th>Block</th>\n",
       "      <th>Price</th>\n",
       "      <th>Energy</th>\n",
       "    </tr>\n",
       "  </thead>\n",
       "  <tbody>\n",
       "    <tr>\n",
       "      <th>0</th>\n",
       "      <td>6129555</td>\n",
       "      <td>1</td>\n",
       "      <td>AGUG</td>\n",
       "      <td>C.H. AGUAYO GENERACION</td>\n",
       "      <td>VNO</td>\n",
       "      <td>360.6</td>\n",
       "      <td>2020</td>\n",
       "      <td>1</td>\n",
       "      <td>1</td>\n",
       "      <td>1</td>\n",
       "      <td>1</td>\n",
       "      <td>30.0</td>\n",
       "      <td>80.0</td>\n",
       "    </tr>\n",
       "    <tr>\n",
       "      <th>1</th>\n",
       "      <td>6129555</td>\n",
       "      <td>1</td>\n",
       "      <td>AGUG</td>\n",
       "      <td>C.H. AGUAYO GENERACION</td>\n",
       "      <td>VNO</td>\n",
       "      <td>360.6</td>\n",
       "      <td>2020</td>\n",
       "      <td>1</td>\n",
       "      <td>1</td>\n",
       "      <td>1</td>\n",
       "      <td>2</td>\n",
       "      <td>48.0</td>\n",
       "      <td>80.0</td>\n",
       "    </tr>\n",
       "    <tr>\n",
       "      <th>2</th>\n",
       "      <td>6129555</td>\n",
       "      <td>1</td>\n",
       "      <td>AGUG</td>\n",
       "      <td>C.H. AGUAYO GENERACION</td>\n",
       "      <td>VNO</td>\n",
       "      <td>360.6</td>\n",
       "      <td>2020</td>\n",
       "      <td>1</td>\n",
       "      <td>1</td>\n",
       "      <td>1</td>\n",
       "      <td>3</td>\n",
       "      <td>52.0</td>\n",
       "      <td>80.0</td>\n",
       "    </tr>\n",
       "    <tr>\n",
       "      <th>3</th>\n",
       "      <td>6129555</td>\n",
       "      <td>1</td>\n",
       "      <td>AGUG</td>\n",
       "      <td>C.H. AGUAYO GENERACION</td>\n",
       "      <td>VNO</td>\n",
       "      <td>360.6</td>\n",
       "      <td>2020</td>\n",
       "      <td>1</td>\n",
       "      <td>1</td>\n",
       "      <td>1</td>\n",
       "      <td>4</td>\n",
       "      <td>56.0</td>\n",
       "      <td>80.0</td>\n",
       "    </tr>\n",
       "    <tr>\n",
       "      <th>4</th>\n",
       "      <td>6129555</td>\n",
       "      <td>1</td>\n",
       "      <td>AGUG</td>\n",
       "      <td>C.H. AGUAYO GENERACION</td>\n",
       "      <td>VNO</td>\n",
       "      <td>360.6</td>\n",
       "      <td>2020</td>\n",
       "      <td>1</td>\n",
       "      <td>1</td>\n",
       "      <td>1</td>\n",
       "      <td>5</td>\n",
       "      <td>180.3</td>\n",
       "      <td>40.6</td>\n",
       "    </tr>\n",
       "  </tbody>\n",
       "</table>\n",
       "</div>"
      ],
      "text/plain": [
       "   Bid_Code  Num_Version Bid_Unit        Unit_Description Sell_Buy  Pot_max  \\\n",
       "0   6129555            1     AGUG  C.H. AGUAYO GENERACION      VNO    360.6   \n",
       "1   6129555            1     AGUG  C.H. AGUAYO GENERACION      VNO    360.6   \n",
       "2   6129555            1     AGUG  C.H. AGUAYO GENERACION      VNO    360.6   \n",
       "3   6129555            1     AGUG  C.H. AGUAYO GENERACION      VNO    360.6   \n",
       "4   6129555            1     AGUG  C.H. AGUAYO GENERACION      VNO    360.6   \n",
       "\n",
       "   Year  Month  Day  Period  Block  Price  Energy  \n",
       "0  2020      1    1       1      1   30.0    80.0  \n",
       "1  2020      1    1       1      2   48.0    80.0  \n",
       "2  2020      1    1       1      3   52.0    80.0  \n",
       "3  2020      1    1       1      4   56.0    80.0  \n",
       "4  2020      1    1       1      5  180.3    40.6  "
      ]
     },
     "execution_count": 48,
     "metadata": {},
     "output_type": "execute_result"
    }
   ],
   "source": [
    "df_AGUAYO.head(5)"
   ]
  },
  {
   "cell_type": "code",
   "execution_count": 49,
   "metadata": {
    "scrolled": true
   },
   "outputs": [
    {
     "data": {
      "text/plain": [
       "0     80.0\n",
       "1    160.0\n",
       "2    240.0\n",
       "3    320.0\n",
       "4    360.6\n",
       "Name: Energy, dtype: float64"
      ]
     },
     "execution_count": 49,
     "metadata": {},
     "output_type": "execute_result"
    }
   ],
   "source": [
    "#Searching a bit the meaning of block... The sum of the all blocks cannot be higher than the Maximum Power\n",
    "df_AGUAYO.head(5)['Energy'].cumsum()"
   ]
  },
  {
   "cell_type": "code",
   "execution_count": 50,
   "metadata": {},
   "outputs": [
    {
     "data": {
      "text/plain": [
       "Bid_Unit  Year  Month  Day  Period\n",
       "AGUB      2019  11     1    1         360.0\n",
       "                            2         360.0\n",
       "                            3         360.0\n",
       "                            4         360.0\n",
       "                            5         360.0\n",
       "                                      ...  \n",
       "AGUG      2020  10     31   20        360.6\n",
       "                            21        360.6\n",
       "                            22        360.6\n",
       "                            23        360.6\n",
       "                            24        360.6\n",
       "Name: Energy, Length: 17568, dtype: float64"
      ]
     },
     "execution_count": 50,
     "metadata": {},
     "output_type": "execute_result"
    }
   ],
   "source": [
    "df_AGUAYO.groupby(['Bid_Unit','Year','Month','Day','Period'])['Energy'].sum()"
   ]
  },
  {
   "cell_type": "code",
   "execution_count": 51,
   "metadata": {},
   "outputs": [
    {
     "data": {
      "text/plain": [
       "Unit_Description                Bid_Unit\n",
       "C.H.B. AGUAYO BOMBEO            AGUB        30\n",
       "C.H. AGUAYO GENERACION          AGUG        30\n",
       "dtype: int64"
      ]
     },
     "execution_count": 51,
     "metadata": {},
     "output_type": "execute_result"
    }
   ],
   "source": [
    "df_cab_example.loc[df_cab_example['Unit_Description']\n",
    "                   .str.contains('AGUAYO')][['Unit_Description','Bid_Unit']].value_counts()"
   ]
  },
  {
   "cell_type": "code",
   "execution_count": 54,
   "metadata": {},
   "outputs": [],
   "source": [
    "#Selecting information from AGUAYO_GEN\n",
    "df_AGUAYO_GEN = df_AGUAYO[df_AGUAYO['Bid_Unit']=='AGUG']"
   ]
  },
  {
   "cell_type": "code",
   "execution_count": 55,
   "metadata": {},
   "outputs": [
    {
     "data": {
      "text/plain": [
       "(42831, 13)"
      ]
     },
     "execution_count": 55,
     "metadata": {},
     "output_type": "execute_result"
    }
   ],
   "source": [
    "df_AGUAYO_GEN.shape"
   ]
  },
  {
   "cell_type": "code",
   "execution_count": 56,
   "metadata": {},
   "outputs": [
    {
     "data": {
      "text/html": [
       "<div>\n",
       "<style scoped>\n",
       "    .dataframe tbody tr th:only-of-type {\n",
       "        vertical-align: middle;\n",
       "    }\n",
       "\n",
       "    .dataframe tbody tr th {\n",
       "        vertical-align: top;\n",
       "    }\n",
       "\n",
       "    .dataframe thead th {\n",
       "        text-align: right;\n",
       "    }\n",
       "</style>\n",
       "<table border=\"1\" class=\"dataframe\">\n",
       "  <thead>\n",
       "    <tr style=\"text-align: right;\">\n",
       "      <th></th>\n",
       "      <th>Bid_Code</th>\n",
       "      <th>Num_Version</th>\n",
       "      <th>Bid_Unit</th>\n",
       "      <th>Unit_Description</th>\n",
       "      <th>Sell_Buy</th>\n",
       "      <th>Pot_max</th>\n",
       "      <th>Year</th>\n",
       "      <th>Month</th>\n",
       "      <th>Day</th>\n",
       "      <th>Period</th>\n",
       "      <th>Block</th>\n",
       "      <th>Price</th>\n",
       "      <th>Energy</th>\n",
       "    </tr>\n",
       "  </thead>\n",
       "  <tbody>\n",
       "    <tr>\n",
       "      <th>0</th>\n",
       "      <td>6129555</td>\n",
       "      <td>1</td>\n",
       "      <td>AGUG</td>\n",
       "      <td>C.H. AGUAYO GENERACION</td>\n",
       "      <td>VNO</td>\n",
       "      <td>360.6</td>\n",
       "      <td>2020</td>\n",
       "      <td>1</td>\n",
       "      <td>1</td>\n",
       "      <td>1</td>\n",
       "      <td>1</td>\n",
       "      <td>30.0</td>\n",
       "      <td>80.0</td>\n",
       "    </tr>\n",
       "    <tr>\n",
       "      <th>1</th>\n",
       "      <td>6129555</td>\n",
       "      <td>1</td>\n",
       "      <td>AGUG</td>\n",
       "      <td>C.H. AGUAYO GENERACION</td>\n",
       "      <td>VNO</td>\n",
       "      <td>360.6</td>\n",
       "      <td>2020</td>\n",
       "      <td>1</td>\n",
       "      <td>1</td>\n",
       "      <td>1</td>\n",
       "      <td>2</td>\n",
       "      <td>48.0</td>\n",
       "      <td>80.0</td>\n",
       "    </tr>\n",
       "    <tr>\n",
       "      <th>2</th>\n",
       "      <td>6129555</td>\n",
       "      <td>1</td>\n",
       "      <td>AGUG</td>\n",
       "      <td>C.H. AGUAYO GENERACION</td>\n",
       "      <td>VNO</td>\n",
       "      <td>360.6</td>\n",
       "      <td>2020</td>\n",
       "      <td>1</td>\n",
       "      <td>1</td>\n",
       "      <td>1</td>\n",
       "      <td>3</td>\n",
       "      <td>52.0</td>\n",
       "      <td>80.0</td>\n",
       "    </tr>\n",
       "    <tr>\n",
       "      <th>3</th>\n",
       "      <td>6129555</td>\n",
       "      <td>1</td>\n",
       "      <td>AGUG</td>\n",
       "      <td>C.H. AGUAYO GENERACION</td>\n",
       "      <td>VNO</td>\n",
       "      <td>360.6</td>\n",
       "      <td>2020</td>\n",
       "      <td>1</td>\n",
       "      <td>1</td>\n",
       "      <td>1</td>\n",
       "      <td>4</td>\n",
       "      <td>56.0</td>\n",
       "      <td>80.0</td>\n",
       "    </tr>\n",
       "    <tr>\n",
       "      <th>4</th>\n",
       "      <td>6129555</td>\n",
       "      <td>1</td>\n",
       "      <td>AGUG</td>\n",
       "      <td>C.H. AGUAYO GENERACION</td>\n",
       "      <td>VNO</td>\n",
       "      <td>360.6</td>\n",
       "      <td>2020</td>\n",
       "      <td>1</td>\n",
       "      <td>1</td>\n",
       "      <td>1</td>\n",
       "      <td>5</td>\n",
       "      <td>180.3</td>\n",
       "      <td>40.6</td>\n",
       "    </tr>\n",
       "  </tbody>\n",
       "</table>\n",
       "</div>"
      ],
      "text/plain": [
       "   Bid_Code  Num_Version Bid_Unit        Unit_Description Sell_Buy  Pot_max  \\\n",
       "0   6129555            1     AGUG  C.H. AGUAYO GENERACION      VNO    360.6   \n",
       "1   6129555            1     AGUG  C.H. AGUAYO GENERACION      VNO    360.6   \n",
       "2   6129555            1     AGUG  C.H. AGUAYO GENERACION      VNO    360.6   \n",
       "3   6129555            1     AGUG  C.H. AGUAYO GENERACION      VNO    360.6   \n",
       "4   6129555            1     AGUG  C.H. AGUAYO GENERACION      VNO    360.6   \n",
       "\n",
       "   Year  Month  Day  Period  Block  Price  Energy  \n",
       "0  2020      1    1       1      1   30.0    80.0  \n",
       "1  2020      1    1       1      2   48.0    80.0  \n",
       "2  2020      1    1       1      3   52.0    80.0  \n",
       "3  2020      1    1       1      4   56.0    80.0  \n",
       "4  2020      1    1       1      5  180.3    40.6  "
      ]
     },
     "execution_count": 56,
     "metadata": {},
     "output_type": "execute_result"
    }
   ],
   "source": [
    "df_AGUAYO_GEN.head()"
   ]
  },
  {
   "cell_type": "code",
   "execution_count": 57,
   "metadata": {},
   "outputs": [],
   "source": [
    "#Storing info locally\n",
    "df_AGUAYO_GEN.to_csv('/home/dsc/Documents/TFM/Data/OMIE/OMIE_AGUAYO_GEN/OMIE_AGUAYO_GEN_112019_102020.csv')"
   ]
  }
 ],
 "metadata": {
  "kernelspec": {
   "display_name": "Python 3",
   "language": "python",
   "name": "python3"
  },
  "language_info": {
   "codemirror_mode": {
    "name": "ipython",
    "version": 3
   },
   "file_extension": ".py",
   "mimetype": "text/x-python",
   "name": "python",
   "nbconvert_exporter": "python",
   "pygments_lexer": "ipython3",
   "version": "3.8.5"
  }
 },
 "nbformat": 4,
 "nbformat_minor": 4
}
