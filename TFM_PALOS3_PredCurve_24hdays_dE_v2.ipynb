{
 "cells": [
  {
   "cell_type": "markdown",
   "metadata": {},
   "source": [
    "# TFM - CCC PALOS 3 - ENERGY-PRICE CURVE PREDICTION\n",
    "\n",
    "\n",
    "## 1. INTRODUCTION\n",
    "\n",
    "In this Notebook a PREDICTED ENERGY-PRICE CURVE model will be created.\n",
    "\n",
    "The following asumptions will be considered:\n",
    "\n",
    "+ OMIE energy-price curves from November, 2019 to October, 2020 will be considered as the baseline data information. This info comes from the csv file \"OMIE_PALOS1.csv\", created previously in \"TFM_merged-files.ipynb\" notebook.\n",
    "\n",
    "\n",
    "+ As the information in OMIE file does not consider all 12 blocks for every hourly curve, it is created a new dataframe with 12 blocks for all the curves.\n",
    "\n",
    "\n",
    "+ Only the following information will be considered as features of the models (X):\n",
    "    * Weekday\n",
    "    * Period (hour)\n",
    "    * Energy offered in the block 24h (one day) before the period considered (MWh)\n",
    "    * Energy offered in the block 168h (one week) before the period considered (MWh)\n",
    "   NOTE: In further stages of the project, total demanded energy and fuel gas price will be included as features as well. \n",
    "   \n",
    "   \n",
    "+ The following information will be considered as targets of the models (y):\n",
    "    * Energy offered in the block (MWh)\n",
    "    * Price (€/MWh)\n",
    "    \n",
    "    \n",
    "+ The information from the original OMIE information will be split in the following way:\n",
    "    * TRAIN SET: November, 2019 - August, 2020. (Note that November will have only 3 weeks, since there are no data for the energy offered one week before the first week of the month.)\n",
    "    * VALIDATION SET: September, 2020\n",
    "    * TEST SET: October, 2020"
   ]
  },
  {
   "cell_type": "code",
   "execution_count": 1,
   "metadata": {},
   "outputs": [],
   "source": [
    "import pandas as pd\n",
    "import numpy as np\n",
    "import matplotlib.pyplot as plt\n",
    "import seaborn as sns\n",
    "import datetime as dt\n",
    "from datetime import datetime, timedelta\n",
    "from TFM_PredCurve_Tools import data_date_hour_info, convert_to_df_curve"
   ]
  },
  {
   "cell_type": "code",
   "execution_count": 2,
   "metadata": {},
   "outputs": [],
   "source": [
    "#pd.reset_option('precision')\n",
    "pd.options.display.float_format = '{:,.2f}'.format"
   ]
  },
  {
   "cell_type": "code",
   "execution_count": 3,
   "metadata": {},
   "outputs": [],
   "source": [
    "unit = 'PALOS3'"
   ]
  },
  {
   "cell_type": "code",
   "execution_count": null,
   "metadata": {},
   "outputs": [],
   "source": []
  },
  {
   "cell_type": "markdown",
   "metadata": {},
   "source": [
    "# FUNCTIONS TO BE STORED IN TFM_PredCurve_Tools"
   ]
  },
  {
   "cell_type": "code",
   "execution_count": 4,
   "metadata": {},
   "outputs": [],
   "source": [
    "def data_date_hour_info(data, date, hour):\n",
    "    return data[(data['Date']==date) & (data['Period']==hour)]"
   ]
  },
  {
   "cell_type": "code",
   "execution_count": 5,
   "metadata": {},
   "outputs": [],
   "source": [
    "def convert_to_df_curve(data):\n",
    "    df_curve = data[['Pot_max', 'Year', 'Month', 'Day', 'Period', 'Block', 'Price', 'Energy']]\n",
    "\n",
    "    #Including date and week day per each day.\n",
    "    #Including date\n",
    "    df_curve['Date']= pd.to_datetime(df_curve[['Year', 'Month', 'Day']])\n",
    "\n",
    "    #Including weekdays as it is an important information\n",
    "    df_curve['Weekday'] = df_curve['Date'].apply(lambda x: x.weekday())\n",
    "    weekDays = (\"Monday\",\"Tuesday\",\"Wednesday\",\"Thursday\",\"Friday\",\"Saturday\",\"Sunday\")\n",
    "    df_curve['Weekday'] = df_curve['Weekday'].apply(lambda x: weekDays[x])\n",
    "\n",
    "    #Including the total Energy for all blocks in a certain hour (to be able to plot the bid curve)\n",
    "    df_curve['Energy_tot'] = df_curve.groupby(['Date','Period'])['Energy'].cumsum()\n",
    "\n",
    "    #Sorting the dataframe by date, hour and block \n",
    "    df_curve = df_curve.sort_values(['Date','Period','Block']).reset_index(drop=True)\n",
    "    \n",
    "    return df_curve"
   ]
  },
  {
   "cell_type": "code",
   "execution_count": 6,
   "metadata": {},
   "outputs": [],
   "source": [
    "#Searching the days with 23h and 25h within the original data period. \n",
    "#It is known that in Spain times changes from 2am to 3am every last Sunday of March and \n",
    "#from 3am to 2am every last Sunday of October\n",
    "\n",
    "def days_25h_23h(data):\n",
    "\n",
    "    start_year = data['Year'].min()\n",
    "    end_year = data['Year'].max()\n",
    "\n",
    "    days_23h = []\n",
    "    days_25h = []\n",
    "\n",
    "    for yx in range(start_year,end_year+1):\n",
    "    \n",
    "        m_min = data['Month'][data['Year']==yx].min()\n",
    "        m_max = data['Month'][data['Year']==yx].max()\n",
    "    \n",
    "        if 10 in range(m_min,m_max+1):\n",
    "            October_date = datetime(yx,10,31)\n",
    "            offset_October = (October_date.weekday() - 6)%7\n",
    "            last_October_sunday = October_date - timedelta(days=offset_October)\n",
    "            days_25h += [last_October_sunday]\n",
    " \n",
    "        if 3 in range(m_min,m_max+1):\n",
    "            March_date = datetime(yx,3,31)\n",
    "            offset_March = (March_date.weekday() - 6)%7\n",
    "            last_March_sunday = March_date - timedelta(days=offset_March)\n",
    "            days_23h += [last_March_sunday]\n",
    "\n",
    "    return days_25h, days_23h"
   ]
  },
  {
   "cell_type": "code",
   "execution_count": 7,
   "metadata": {},
   "outputs": [],
   "source": [
    "#Function to plot bid curves for a chosen dataframe, date and period (hour)\n",
    "\n",
    "def plot_bid_curve(dataframe, date, hour):\n",
    "    df_plot = dataframe[(dataframe['Date'] == date) & (dataframe['Period'] == hour)]\n",
    "    return plt.plot(pd.Series(0).append(df_plot['Energy_tot']), \n",
    "                    pd.Series(df_plot['Price'].iloc[0]).append(df_plot['Price']), \n",
    "                    drawstyle='steps', \n",
    "                    label='steps (=steps-pre)')"
   ]
  },
  {
   "cell_type": "code",
   "execution_count": null,
   "metadata": {},
   "outputs": [],
   "source": []
  },
  {
   "cell_type": "markdown",
   "metadata": {},
   "source": [
    "## 2. RETRIEVING, EXPLORING AND PLOTTING OMIE DATA INFORMATION\n",
    "\n",
    "### 2.1. RETRIEVING DATA INFORMATION"
   ]
  },
  {
   "cell_type": "code",
   "execution_count": 8,
   "metadata": {},
   "outputs": [],
   "source": [
    "#df will be all data for unit PALOS1 from November 2019 to October 2020. \n",
    "#This data was previously created from OMIE web page in \"TFM_merged-files.ipynb\" notebook \n",
    "#and TFM_df_sel_unit_v0.ipynb.\n",
    "\n",
    "df_unit = pd.read_csv('/home/dsc/Documents/TFM/Data/OMIE/OMIE_PALOS3_112019_102020.csv',index_col=0)"
   ]
  },
  {
   "cell_type": "code",
   "execution_count": 9,
   "metadata": {},
   "outputs": [
    {
     "data": {
      "text/html": [
       "<div>\n",
       "<style scoped>\n",
       "    .dataframe tbody tr th:only-of-type {\n",
       "        vertical-align: middle;\n",
       "    }\n",
       "\n",
       "    .dataframe tbody tr th {\n",
       "        vertical-align: top;\n",
       "    }\n",
       "\n",
       "    .dataframe thead th {\n",
       "        text-align: right;\n",
       "    }\n",
       "</style>\n",
       "<table border=\"1\" class=\"dataframe\">\n",
       "  <thead>\n",
       "    <tr style=\"text-align: right;\">\n",
       "      <th></th>\n",
       "      <th>Bid_Code</th>\n",
       "      <th>Num_Version</th>\n",
       "      <th>Bid_Unit</th>\n",
       "      <th>Unit_Description</th>\n",
       "      <th>Sell_Buy</th>\n",
       "      <th>Pot_max</th>\n",
       "      <th>Year</th>\n",
       "      <th>Month</th>\n",
       "      <th>Day</th>\n",
       "      <th>Period</th>\n",
       "      <th>Block</th>\n",
       "      <th>Price</th>\n",
       "      <th>Energy</th>\n",
       "    </tr>\n",
       "  </thead>\n",
       "  <tbody>\n",
       "    <tr>\n",
       "      <th>0</th>\n",
       "      <td>6128193</td>\n",
       "      <td>2</td>\n",
       "      <td>PALOS3</td>\n",
       "      <td>C.C. PALOS 3</td>\n",
       "      <td>VNO</td>\n",
       "      <td>397.80</td>\n",
       "      <td>2020</td>\n",
       "      <td>1</td>\n",
       "      <td>1</td>\n",
       "      <td>1</td>\n",
       "      <td>12</td>\n",
       "      <td>180.30</td>\n",
       "      <td>397.80</td>\n",
       "    </tr>\n",
       "    <tr>\n",
       "      <th>1</th>\n",
       "      <td>6128193</td>\n",
       "      <td>2</td>\n",
       "      <td>PALOS3</td>\n",
       "      <td>C.C. PALOS 3</td>\n",
       "      <td>VNO</td>\n",
       "      <td>397.80</td>\n",
       "      <td>2020</td>\n",
       "      <td>1</td>\n",
       "      <td>1</td>\n",
       "      <td>2</td>\n",
       "      <td>12</td>\n",
       "      <td>180.30</td>\n",
       "      <td>397.80</td>\n",
       "    </tr>\n",
       "    <tr>\n",
       "      <th>2</th>\n",
       "      <td>6128193</td>\n",
       "      <td>2</td>\n",
       "      <td>PALOS3</td>\n",
       "      <td>C.C. PALOS 3</td>\n",
       "      <td>VNO</td>\n",
       "      <td>397.80</td>\n",
       "      <td>2020</td>\n",
       "      <td>1</td>\n",
       "      <td>1</td>\n",
       "      <td>3</td>\n",
       "      <td>1</td>\n",
       "      <td>1.13</td>\n",
       "      <td>50.00</td>\n",
       "    </tr>\n",
       "    <tr>\n",
       "      <th>3</th>\n",
       "      <td>6128193</td>\n",
       "      <td>2</td>\n",
       "      <td>PALOS3</td>\n",
       "      <td>C.C. PALOS 3</td>\n",
       "      <td>VNO</td>\n",
       "      <td>397.80</td>\n",
       "      <td>2020</td>\n",
       "      <td>1</td>\n",
       "      <td>1</td>\n",
       "      <td>3</td>\n",
       "      <td>12</td>\n",
       "      <td>180.30</td>\n",
       "      <td>347.80</td>\n",
       "    </tr>\n",
       "    <tr>\n",
       "      <th>4</th>\n",
       "      <td>6128193</td>\n",
       "      <td>2</td>\n",
       "      <td>PALOS3</td>\n",
       "      <td>C.C. PALOS 3</td>\n",
       "      <td>VNO</td>\n",
       "      <td>397.80</td>\n",
       "      <td>2020</td>\n",
       "      <td>1</td>\n",
       "      <td>1</td>\n",
       "      <td>4</td>\n",
       "      <td>1</td>\n",
       "      <td>1.13</td>\n",
       "      <td>60.00</td>\n",
       "    </tr>\n",
       "  </tbody>\n",
       "</table>\n",
       "</div>"
      ],
      "text/plain": [
       "   Bid_Code  Num_Version Bid_Unit Unit_Description Sell_Buy  Pot_max  Year  \\\n",
       "0   6128193            2   PALOS3     C.C. PALOS 3      VNO   397.80  2020   \n",
       "1   6128193            2   PALOS3     C.C. PALOS 3      VNO   397.80  2020   \n",
       "2   6128193            2   PALOS3     C.C. PALOS 3      VNO   397.80  2020   \n",
       "3   6128193            2   PALOS3     C.C. PALOS 3      VNO   397.80  2020   \n",
       "4   6128193            2   PALOS3     C.C. PALOS 3      VNO   397.80  2020   \n",
       "\n",
       "   Month  Day  Period  Block  Price  Energy  \n",
       "0      1    1       1     12 180.30  397.80  \n",
       "1      1    1       2     12 180.30  397.80  \n",
       "2      1    1       3      1   1.13   50.00  \n",
       "3      1    1       3     12 180.30  347.80  \n",
       "4      1    1       4      1   1.13   60.00  "
      ]
     },
     "execution_count": 9,
     "metadata": {},
     "output_type": "execute_result"
    }
   ],
   "source": [
    "df_unit.head()"
   ]
  },
  {
   "cell_type": "code",
   "execution_count": 10,
   "metadata": {
    "scrolled": true
   },
   "outputs": [
    {
     "data": {
      "text/plain": [
       "(70179, 13)"
      ]
     },
     "execution_count": 10,
     "metadata": {},
     "output_type": "execute_result"
    }
   ],
   "source": [
    "df_unit.shape"
   ]
  },
  {
   "cell_type": "code",
   "execution_count": 11,
   "metadata": {},
   "outputs": [
    {
     "data": {
      "text/plain": [
       "Index(['Bid_Code', 'Num_Version', 'Bid_Unit', 'Unit_Description', 'Sell_Buy',\n",
       "       'Pot_max', 'Year', 'Month', 'Day', 'Period', 'Block', 'Price',\n",
       "       'Energy'],\n",
       "      dtype='object')"
      ]
     },
     "execution_count": 11,
     "metadata": {},
     "output_type": "execute_result"
    }
   ],
   "source": [
    "df_unit.columns"
   ]
  },
  {
   "cell_type": "code",
   "execution_count": 12,
   "metadata": {
    "scrolled": false
   },
   "outputs": [
    {
     "data": {
      "text/html": [
       "<div>\n",
       "<style scoped>\n",
       "    .dataframe tbody tr th:only-of-type {\n",
       "        vertical-align: middle;\n",
       "    }\n",
       "\n",
       "    .dataframe tbody tr th {\n",
       "        vertical-align: top;\n",
       "    }\n",
       "\n",
       "    .dataframe thead th {\n",
       "        text-align: right;\n",
       "    }\n",
       "</style>\n",
       "<table border=\"1\" class=\"dataframe\">\n",
       "  <thead>\n",
       "    <tr style=\"text-align: right;\">\n",
       "      <th></th>\n",
       "      <th>Bid_Code</th>\n",
       "      <th>Num_Version</th>\n",
       "      <th>Bid_Unit</th>\n",
       "      <th>Unit_Description</th>\n",
       "      <th>Sell_Buy</th>\n",
       "      <th>Pot_max</th>\n",
       "      <th>Year</th>\n",
       "      <th>Month</th>\n",
       "      <th>Day</th>\n",
       "      <th>Period</th>\n",
       "      <th>Block</th>\n",
       "      <th>Price</th>\n",
       "      <th>Energy</th>\n",
       "    </tr>\n",
       "  </thead>\n",
       "  <tbody>\n",
       "    <tr>\n",
       "      <th>70174</th>\n",
       "      <td>6126743</td>\n",
       "      <td>2</td>\n",
       "      <td>PALOS3</td>\n",
       "      <td>C.C. PALOS 3</td>\n",
       "      <td>VNO</td>\n",
       "      <td>397.80</td>\n",
       "      <td>2019</td>\n",
       "      <td>12</td>\n",
       "      <td>31</td>\n",
       "      <td>24</td>\n",
       "      <td>8</td>\n",
       "      <td>43.09</td>\n",
       "      <td>17.00</td>\n",
       "    </tr>\n",
       "    <tr>\n",
       "      <th>70175</th>\n",
       "      <td>6126743</td>\n",
       "      <td>2</td>\n",
       "      <td>PALOS3</td>\n",
       "      <td>C.C. PALOS 3</td>\n",
       "      <td>VNO</td>\n",
       "      <td>397.80</td>\n",
       "      <td>2019</td>\n",
       "      <td>12</td>\n",
       "      <td>31</td>\n",
       "      <td>24</td>\n",
       "      <td>9</td>\n",
       "      <td>44.05</td>\n",
       "      <td>17.00</td>\n",
       "    </tr>\n",
       "    <tr>\n",
       "      <th>70176</th>\n",
       "      <td>6126743</td>\n",
       "      <td>2</td>\n",
       "      <td>PALOS3</td>\n",
       "      <td>C.C. PALOS 3</td>\n",
       "      <td>VNO</td>\n",
       "      <td>397.80</td>\n",
       "      <td>2019</td>\n",
       "      <td>12</td>\n",
       "      <td>31</td>\n",
       "      <td>24</td>\n",
       "      <td>10</td>\n",
       "      <td>45.00</td>\n",
       "      <td>17.00</td>\n",
       "    </tr>\n",
       "    <tr>\n",
       "      <th>70177</th>\n",
       "      <td>6126743</td>\n",
       "      <td>2</td>\n",
       "      <td>PALOS3</td>\n",
       "      <td>C.C. PALOS 3</td>\n",
       "      <td>VNO</td>\n",
       "      <td>397.80</td>\n",
       "      <td>2019</td>\n",
       "      <td>12</td>\n",
       "      <td>31</td>\n",
       "      <td>24</td>\n",
       "      <td>11</td>\n",
       "      <td>45.96</td>\n",
       "      <td>17.00</td>\n",
       "    </tr>\n",
       "    <tr>\n",
       "      <th>70178</th>\n",
       "      <td>6126743</td>\n",
       "      <td>2</td>\n",
       "      <td>PALOS3</td>\n",
       "      <td>C.C. PALOS 3</td>\n",
       "      <td>VNO</td>\n",
       "      <td>397.80</td>\n",
       "      <td>2019</td>\n",
       "      <td>12</td>\n",
       "      <td>31</td>\n",
       "      <td>24</td>\n",
       "      <td>12</td>\n",
       "      <td>180.30</td>\n",
       "      <td>37.80</td>\n",
       "    </tr>\n",
       "  </tbody>\n",
       "</table>\n",
       "</div>"
      ],
      "text/plain": [
       "       Bid_Code  Num_Version Bid_Unit Unit_Description Sell_Buy  Pot_max  \\\n",
       "70174   6126743            2   PALOS3     C.C. PALOS 3      VNO   397.80   \n",
       "70175   6126743            2   PALOS3     C.C. PALOS 3      VNO   397.80   \n",
       "70176   6126743            2   PALOS3     C.C. PALOS 3      VNO   397.80   \n",
       "70177   6126743            2   PALOS3     C.C. PALOS 3      VNO   397.80   \n",
       "70178   6126743            2   PALOS3     C.C. PALOS 3      VNO   397.80   \n",
       "\n",
       "       Year  Month  Day  Period  Block  Price  Energy  \n",
       "70174  2019     12   31      24      8  43.09   17.00  \n",
       "70175  2019     12   31      24      9  44.05   17.00  \n",
       "70176  2019     12   31      24     10  45.00   17.00  \n",
       "70177  2019     12   31      24     11  45.96   17.00  \n",
       "70178  2019     12   31      24     12 180.30   37.80  "
      ]
     },
     "execution_count": 12,
     "metadata": {},
     "output_type": "execute_result"
    }
   ],
   "source": [
    "df_unit.tail()"
   ]
  },
  {
   "cell_type": "code",
   "execution_count": 13,
   "metadata": {
    "scrolled": false
   },
   "outputs": [
    {
     "data": {
      "text/html": [
       "<div>\n",
       "<style scoped>\n",
       "    .dataframe tbody tr th:only-of-type {\n",
       "        vertical-align: middle;\n",
       "    }\n",
       "\n",
       "    .dataframe tbody tr th {\n",
       "        vertical-align: top;\n",
       "    }\n",
       "\n",
       "    .dataframe thead th {\n",
       "        text-align: right;\n",
       "    }\n",
       "</style>\n",
       "<table border=\"1\" class=\"dataframe\">\n",
       "  <thead>\n",
       "    <tr style=\"text-align: right;\">\n",
       "      <th></th>\n",
       "      <th>Bid_Code</th>\n",
       "      <th>Num_Version</th>\n",
       "      <th>Pot_max</th>\n",
       "      <th>Year</th>\n",
       "      <th>Month</th>\n",
       "      <th>Day</th>\n",
       "      <th>Period</th>\n",
       "      <th>Block</th>\n",
       "      <th>Price</th>\n",
       "      <th>Energy</th>\n",
       "    </tr>\n",
       "  </thead>\n",
       "  <tbody>\n",
       "    <tr>\n",
       "      <th>count</th>\n",
       "      <td>70,179.00</td>\n",
       "      <td>70,179.00</td>\n",
       "      <td>70,179.00</td>\n",
       "      <td>70,179.00</td>\n",
       "      <td>70,179.00</td>\n",
       "      <td>70,179.00</td>\n",
       "      <td>70,179.00</td>\n",
       "      <td>70,179.00</td>\n",
       "      <td>70,179.00</td>\n",
       "      <td>70,179.00</td>\n",
       "    </tr>\n",
       "    <tr>\n",
       "      <th>mean</th>\n",
       "      <td>6,306,646.57</td>\n",
       "      <td>1.76</td>\n",
       "      <td>397.80</td>\n",
       "      <td>2,019.87</td>\n",
       "      <td>6.31</td>\n",
       "      <td>16.09</td>\n",
       "      <td>15.90</td>\n",
       "      <td>6.52</td>\n",
       "      <td>52.21</td>\n",
       "      <td>47.48</td>\n",
       "    </tr>\n",
       "    <tr>\n",
       "      <th>std</th>\n",
       "      <td>141,311.24</td>\n",
       "      <td>0.85</td>\n",
       "      <td>0.00</td>\n",
       "      <td>0.34</td>\n",
       "      <td>3.41</td>\n",
       "      <td>8.83</td>\n",
       "      <td>5.27</td>\n",
       "      <td>3.64</td>\n",
       "      <td>48.85</td>\n",
       "      <td>76.02</td>\n",
       "    </tr>\n",
       "    <tr>\n",
       "      <th>min</th>\n",
       "      <td>6,071,572.00</td>\n",
       "      <td>1.00</td>\n",
       "      <td>397.80</td>\n",
       "      <td>2,019.00</td>\n",
       "      <td>1.00</td>\n",
       "      <td>1.00</td>\n",
       "      <td>1.00</td>\n",
       "      <td>1.00</td>\n",
       "      <td>1.13</td>\n",
       "      <td>4.00</td>\n",
       "    </tr>\n",
       "    <tr>\n",
       "      <th>25%</th>\n",
       "      <td>6,181,820.00</td>\n",
       "      <td>1.00</td>\n",
       "      <td>397.80</td>\n",
       "      <td>2,020.00</td>\n",
       "      <td>3.00</td>\n",
       "      <td>8.00</td>\n",
       "      <td>12.00</td>\n",
       "      <td>3.00</td>\n",
       "      <td>35.40</td>\n",
       "      <td>17.00</td>\n",
       "    </tr>\n",
       "    <tr>\n",
       "      <th>50%</th>\n",
       "      <td>6,303,211.00</td>\n",
       "      <td>2.00</td>\n",
       "      <td>397.80</td>\n",
       "      <td>2,020.00</td>\n",
       "      <td>6.00</td>\n",
       "      <td>16.00</td>\n",
       "      <td>16.00</td>\n",
       "      <td>6.00</td>\n",
       "      <td>40.27</td>\n",
       "      <td>17.00</td>\n",
       "    </tr>\n",
       "    <tr>\n",
       "      <th>75%</th>\n",
       "      <td>6,428,831.00</td>\n",
       "      <td>2.00</td>\n",
       "      <td>397.80</td>\n",
       "      <td>2,020.00</td>\n",
       "      <td>9.00</td>\n",
       "      <td>24.00</td>\n",
       "      <td>20.00</td>\n",
       "      <td>10.00</td>\n",
       "      <td>44.69</td>\n",
       "      <td>17.00</td>\n",
       "    </tr>\n",
       "    <tr>\n",
       "      <th>max</th>\n",
       "      <td>6,555,575.00</td>\n",
       "      <td>5.00</td>\n",
       "      <td>397.80</td>\n",
       "      <td>2,020.00</td>\n",
       "      <td>12.00</td>\n",
       "      <td>31.00</td>\n",
       "      <td>25.00</td>\n",
       "      <td>12.00</td>\n",
       "      <td>180.30</td>\n",
       "      <td>397.80</td>\n",
       "    </tr>\n",
       "  </tbody>\n",
       "</table>\n",
       "</div>"
      ],
      "text/plain": [
       "          Bid_Code  Num_Version   Pot_max      Year     Month       Day  \\\n",
       "count    70,179.00    70,179.00 70,179.00 70,179.00 70,179.00 70,179.00   \n",
       "mean  6,306,646.57         1.76    397.80  2,019.87      6.31     16.09   \n",
       "std     141,311.24         0.85      0.00      0.34      3.41      8.83   \n",
       "min   6,071,572.00         1.00    397.80  2,019.00      1.00      1.00   \n",
       "25%   6,181,820.00         1.00    397.80  2,020.00      3.00      8.00   \n",
       "50%   6,303,211.00         2.00    397.80  2,020.00      6.00     16.00   \n",
       "75%   6,428,831.00         2.00    397.80  2,020.00      9.00     24.00   \n",
       "max   6,555,575.00         5.00    397.80  2,020.00     12.00     31.00   \n",
       "\n",
       "         Period     Block     Price    Energy  \n",
       "count 70,179.00 70,179.00 70,179.00 70,179.00  \n",
       "mean      15.90      6.52     52.21     47.48  \n",
       "std        5.27      3.64     48.85     76.02  \n",
       "min        1.00      1.00      1.13      4.00  \n",
       "25%       12.00      3.00     35.40     17.00  \n",
       "50%       16.00      6.00     40.27     17.00  \n",
       "75%       20.00     10.00     44.69     17.00  \n",
       "max       25.00     12.00    180.30    397.80  "
      ]
     },
     "execution_count": 13,
     "metadata": {},
     "output_type": "execute_result"
    }
   ],
   "source": [
    "df_unit.describe()"
   ]
  },
  {
   "cell_type": "code",
   "execution_count": 14,
   "metadata": {
    "scrolled": true
   },
   "outputs": [
    {
     "data": {
      "text/plain": [
       "Bid_Code              int64\n",
       "Num_Version           int64\n",
       "Bid_Unit             object\n",
       "Unit_Description     object\n",
       "Sell_Buy             object\n",
       "Pot_max             float64\n",
       "Year                  int64\n",
       "Month                 int64\n",
       "Day                   int64\n",
       "Period                int64\n",
       "Block                 int64\n",
       "Price               float64\n",
       "Energy              float64\n",
       "dtype: object"
      ]
     },
     "execution_count": 14,
     "metadata": {},
     "output_type": "execute_result"
    }
   ],
   "source": [
    "df_unit.dtypes"
   ]
  },
  {
   "cell_type": "code",
   "execution_count": 15,
   "metadata": {
    "scrolled": true
   },
   "outputs": [
    {
     "name": "stderr",
     "output_type": "stream",
     "text": [
      "<ipython-input-5-bb65f80c31b1>:6: SettingWithCopyWarning: \n",
      "A value is trying to be set on a copy of a slice from a DataFrame.\n",
      "Try using .loc[row_indexer,col_indexer] = value instead\n",
      "\n",
      "See the caveats in the documentation: https://pandas.pydata.org/pandas-docs/stable/user_guide/indexing.html#returning-a-view-versus-a-copy\n",
      "  df_curve['Date']= pd.to_datetime(df_curve[['Year', 'Month', 'Day']])\n",
      "<ipython-input-5-bb65f80c31b1>:9: SettingWithCopyWarning: \n",
      "A value is trying to be set on a copy of a slice from a DataFrame.\n",
      "Try using .loc[row_indexer,col_indexer] = value instead\n",
      "\n",
      "See the caveats in the documentation: https://pandas.pydata.org/pandas-docs/stable/user_guide/indexing.html#returning-a-view-versus-a-copy\n",
      "  df_curve['Weekday'] = df_curve['Date'].apply(lambda x: x.weekday())\n",
      "<ipython-input-5-bb65f80c31b1>:11: SettingWithCopyWarning: \n",
      "A value is trying to be set on a copy of a slice from a DataFrame.\n",
      "Try using .loc[row_indexer,col_indexer] = value instead\n",
      "\n",
      "See the caveats in the documentation: https://pandas.pydata.org/pandas-docs/stable/user_guide/indexing.html#returning-a-view-versus-a-copy\n",
      "  df_curve['Weekday'] = df_curve['Weekday'].apply(lambda x: weekDays[x])\n",
      "<ipython-input-5-bb65f80c31b1>:14: SettingWithCopyWarning: \n",
      "A value is trying to be set on a copy of a slice from a DataFrame.\n",
      "Try using .loc[row_indexer,col_indexer] = value instead\n",
      "\n",
      "See the caveats in the documentation: https://pandas.pydata.org/pandas-docs/stable/user_guide/indexing.html#returning-a-view-versus-a-copy\n",
      "  df_curve['Energy_tot'] = df_curve.groupby(['Date','Period'])['Energy'].cumsum()\n"
     ]
    }
   ],
   "source": [
    "#Converting df_unit to a df with only the information that will be needed for ploting the bid curve, including\n",
    "#date and and weekday per each day, and including the total Energy for all blocks in a certain hour,\n",
    "#(to be able to plot the bid curve)\n",
    "\n",
    "df_curve = convert_to_df_curve(df_unit)"
   ]
  },
  {
   "cell_type": "code",
   "execution_count": 16,
   "metadata": {
    "scrolled": true
   },
   "outputs": [
    {
     "data": {
      "text/html": [
       "<div>\n",
       "<style scoped>\n",
       "    .dataframe tbody tr th:only-of-type {\n",
       "        vertical-align: middle;\n",
       "    }\n",
       "\n",
       "    .dataframe tbody tr th {\n",
       "        vertical-align: top;\n",
       "    }\n",
       "\n",
       "    .dataframe thead th {\n",
       "        text-align: right;\n",
       "    }\n",
       "</style>\n",
       "<table border=\"1\" class=\"dataframe\">\n",
       "  <thead>\n",
       "    <tr style=\"text-align: right;\">\n",
       "      <th></th>\n",
       "      <th>Pot_max</th>\n",
       "      <th>Year</th>\n",
       "      <th>Month</th>\n",
       "      <th>Day</th>\n",
       "      <th>Period</th>\n",
       "      <th>Block</th>\n",
       "      <th>Price</th>\n",
       "      <th>Energy</th>\n",
       "      <th>Date</th>\n",
       "      <th>Weekday</th>\n",
       "      <th>Energy_tot</th>\n",
       "    </tr>\n",
       "  </thead>\n",
       "  <tbody>\n",
       "    <tr>\n",
       "      <th>0</th>\n",
       "      <td>397.80</td>\n",
       "      <td>2019</td>\n",
       "      <td>11</td>\n",
       "      <td>18</td>\n",
       "      <td>1</td>\n",
       "      <td>12</td>\n",
       "      <td>180.30</td>\n",
       "      <td>397.80</td>\n",
       "      <td>2019-11-18</td>\n",
       "      <td>Monday</td>\n",
       "      <td>397.80</td>\n",
       "    </tr>\n",
       "    <tr>\n",
       "      <th>1</th>\n",
       "      <td>397.80</td>\n",
       "      <td>2019</td>\n",
       "      <td>11</td>\n",
       "      <td>18</td>\n",
       "      <td>2</td>\n",
       "      <td>12</td>\n",
       "      <td>180.30</td>\n",
       "      <td>397.80</td>\n",
       "      <td>2019-11-18</td>\n",
       "      <td>Monday</td>\n",
       "      <td>397.80</td>\n",
       "    </tr>\n",
       "    <tr>\n",
       "      <th>2</th>\n",
       "      <td>397.80</td>\n",
       "      <td>2019</td>\n",
       "      <td>11</td>\n",
       "      <td>18</td>\n",
       "      <td>3</td>\n",
       "      <td>1</td>\n",
       "      <td>1.13</td>\n",
       "      <td>50.00</td>\n",
       "      <td>2019-11-18</td>\n",
       "      <td>Monday</td>\n",
       "      <td>50.00</td>\n",
       "    </tr>\n",
       "    <tr>\n",
       "      <th>3</th>\n",
       "      <td>397.80</td>\n",
       "      <td>2019</td>\n",
       "      <td>11</td>\n",
       "      <td>18</td>\n",
       "      <td>3</td>\n",
       "      <td>12</td>\n",
       "      <td>180.30</td>\n",
       "      <td>347.80</td>\n",
       "      <td>2019-11-18</td>\n",
       "      <td>Monday</td>\n",
       "      <td>397.80</td>\n",
       "    </tr>\n",
       "    <tr>\n",
       "      <th>4</th>\n",
       "      <td>397.80</td>\n",
       "      <td>2019</td>\n",
       "      <td>11</td>\n",
       "      <td>18</td>\n",
       "      <td>4</td>\n",
       "      <td>1</td>\n",
       "      <td>1.13</td>\n",
       "      <td>60.00</td>\n",
       "      <td>2019-11-18</td>\n",
       "      <td>Monday</td>\n",
       "      <td>60.00</td>\n",
       "    </tr>\n",
       "  </tbody>\n",
       "</table>\n",
       "</div>"
      ],
      "text/plain": [
       "   Pot_max  Year  Month  Day  Period  Block  Price  Energy       Date Weekday  \\\n",
       "0   397.80  2019     11   18       1     12 180.30  397.80 2019-11-18  Monday   \n",
       "1   397.80  2019     11   18       2     12 180.30  397.80 2019-11-18  Monday   \n",
       "2   397.80  2019     11   18       3      1   1.13   50.00 2019-11-18  Monday   \n",
       "3   397.80  2019     11   18       3     12 180.30  347.80 2019-11-18  Monday   \n",
       "4   397.80  2019     11   18       4      1   1.13   60.00 2019-11-18  Monday   \n",
       "\n",
       "   Energy_tot  \n",
       "0      397.80  \n",
       "1      397.80  \n",
       "2       50.00  \n",
       "3      397.80  \n",
       "4       60.00  "
      ]
     },
     "execution_count": 16,
     "metadata": {},
     "output_type": "execute_result"
    }
   ],
   "source": [
    "df_curve.head()"
   ]
  },
  {
   "cell_type": "code",
   "execution_count": null,
   "metadata": {},
   "outputs": [],
   "source": []
  },
  {
   "cell_type": "code",
   "execution_count": 17,
   "metadata": {
    "scrolled": true
   },
   "outputs": [
    {
     "data": {
      "text/plain": [
       "68.57"
      ]
     },
     "execution_count": 17,
     "metadata": {},
     "output_type": "execute_result"
    }
   ],
   "source": [
    "#Checkings to be moved to other places in the document\n",
    "#Second Maximum Price (not considering the maximum of 180.3€)\n",
    "df_curve[df_curve['Price']!=df_curve['Price'].max()]['Price'].max()"
   ]
  },
  {
   "cell_type": "code",
   "execution_count": 18,
   "metadata": {},
   "outputs": [
    {
     "data": {
      "text/html": [
       "<div>\n",
       "<style scoped>\n",
       "    .dataframe tbody tr th:only-of-type {\n",
       "        vertical-align: middle;\n",
       "    }\n",
       "\n",
       "    .dataframe tbody tr th {\n",
       "        vertical-align: top;\n",
       "    }\n",
       "\n",
       "    .dataframe thead th {\n",
       "        text-align: right;\n",
       "    }\n",
       "</style>\n",
       "<table border=\"1\" class=\"dataframe\">\n",
       "  <thead>\n",
       "    <tr style=\"text-align: right;\">\n",
       "      <th></th>\n",
       "      <th>Pot_max</th>\n",
       "      <th>Year</th>\n",
       "      <th>Month</th>\n",
       "      <th>Day</th>\n",
       "      <th>Period</th>\n",
       "      <th>Block</th>\n",
       "      <th>Price</th>\n",
       "      <th>Energy</th>\n",
       "      <th>Date</th>\n",
       "      <th>Weekday</th>\n",
       "      <th>Energy_tot</th>\n",
       "    </tr>\n",
       "  </thead>\n",
       "  <tbody>\n",
       "    <tr>\n",
       "      <th>654</th>\n",
       "      <td>397.80</td>\n",
       "      <td>2019</td>\n",
       "      <td>11</td>\n",
       "      <td>21</td>\n",
       "      <td>9</td>\n",
       "      <td>11</td>\n",
       "      <td>68.57</td>\n",
       "      <td>17.00</td>\n",
       "      <td>2019-11-21</td>\n",
       "      <td>Thursday</td>\n",
       "      <td>360.00</td>\n",
       "    </tr>\n",
       "    <tr>\n",
       "      <th>666</th>\n",
       "      <td>397.80</td>\n",
       "      <td>2019</td>\n",
       "      <td>11</td>\n",
       "      <td>21</td>\n",
       "      <td>10</td>\n",
       "      <td>11</td>\n",
       "      <td>68.57</td>\n",
       "      <td>17.00</td>\n",
       "      <td>2019-11-21</td>\n",
       "      <td>Thursday</td>\n",
       "      <td>360.00</td>\n",
       "    </tr>\n",
       "    <tr>\n",
       "      <th>678</th>\n",
       "      <td>397.80</td>\n",
       "      <td>2019</td>\n",
       "      <td>11</td>\n",
       "      <td>21</td>\n",
       "      <td>11</td>\n",
       "      <td>11</td>\n",
       "      <td>68.57</td>\n",
       "      <td>17.00</td>\n",
       "      <td>2019-11-21</td>\n",
       "      <td>Thursday</td>\n",
       "      <td>360.00</td>\n",
       "    </tr>\n",
       "    <tr>\n",
       "      <th>690</th>\n",
       "      <td>397.80</td>\n",
       "      <td>2019</td>\n",
       "      <td>11</td>\n",
       "      <td>21</td>\n",
       "      <td>12</td>\n",
       "      <td>11</td>\n",
       "      <td>68.57</td>\n",
       "      <td>17.00</td>\n",
       "      <td>2019-11-21</td>\n",
       "      <td>Thursday</td>\n",
       "      <td>360.00</td>\n",
       "    </tr>\n",
       "    <tr>\n",
       "      <th>702</th>\n",
       "      <td>397.80</td>\n",
       "      <td>2019</td>\n",
       "      <td>11</td>\n",
       "      <td>21</td>\n",
       "      <td>13</td>\n",
       "      <td>11</td>\n",
       "      <td>68.57</td>\n",
       "      <td>17.00</td>\n",
       "      <td>2019-11-21</td>\n",
       "      <td>Thursday</td>\n",
       "      <td>360.00</td>\n",
       "    </tr>\n",
       "    <tr>\n",
       "      <th>714</th>\n",
       "      <td>397.80</td>\n",
       "      <td>2019</td>\n",
       "      <td>11</td>\n",
       "      <td>21</td>\n",
       "      <td>14</td>\n",
       "      <td>11</td>\n",
       "      <td>68.57</td>\n",
       "      <td>17.00</td>\n",
       "      <td>2019-11-21</td>\n",
       "      <td>Thursday</td>\n",
       "      <td>360.00</td>\n",
       "    </tr>\n",
       "    <tr>\n",
       "      <th>726</th>\n",
       "      <td>397.80</td>\n",
       "      <td>2019</td>\n",
       "      <td>11</td>\n",
       "      <td>21</td>\n",
       "      <td>15</td>\n",
       "      <td>11</td>\n",
       "      <td>68.57</td>\n",
       "      <td>17.00</td>\n",
       "      <td>2019-11-21</td>\n",
       "      <td>Thursday</td>\n",
       "      <td>360.00</td>\n",
       "    </tr>\n",
       "    <tr>\n",
       "      <th>738</th>\n",
       "      <td>397.80</td>\n",
       "      <td>2019</td>\n",
       "      <td>11</td>\n",
       "      <td>21</td>\n",
       "      <td>16</td>\n",
       "      <td>11</td>\n",
       "      <td>68.57</td>\n",
       "      <td>17.00</td>\n",
       "      <td>2019-11-21</td>\n",
       "      <td>Thursday</td>\n",
       "      <td>360.00</td>\n",
       "    </tr>\n",
       "    <tr>\n",
       "      <th>750</th>\n",
       "      <td>397.80</td>\n",
       "      <td>2019</td>\n",
       "      <td>11</td>\n",
       "      <td>21</td>\n",
       "      <td>17</td>\n",
       "      <td>11</td>\n",
       "      <td>68.57</td>\n",
       "      <td>17.00</td>\n",
       "      <td>2019-11-21</td>\n",
       "      <td>Thursday</td>\n",
       "      <td>360.00</td>\n",
       "    </tr>\n",
       "    <tr>\n",
       "      <th>762</th>\n",
       "      <td>397.80</td>\n",
       "      <td>2019</td>\n",
       "      <td>11</td>\n",
       "      <td>21</td>\n",
       "      <td>18</td>\n",
       "      <td>11</td>\n",
       "      <td>68.57</td>\n",
       "      <td>17.00</td>\n",
       "      <td>2019-11-21</td>\n",
       "      <td>Thursday</td>\n",
       "      <td>360.00</td>\n",
       "    </tr>\n",
       "    <tr>\n",
       "      <th>774</th>\n",
       "      <td>397.80</td>\n",
       "      <td>2019</td>\n",
       "      <td>11</td>\n",
       "      <td>21</td>\n",
       "      <td>19</td>\n",
       "      <td>11</td>\n",
       "      <td>68.57</td>\n",
       "      <td>17.00</td>\n",
       "      <td>2019-11-21</td>\n",
       "      <td>Thursday</td>\n",
       "      <td>360.00</td>\n",
       "    </tr>\n",
       "    <tr>\n",
       "      <th>786</th>\n",
       "      <td>397.80</td>\n",
       "      <td>2019</td>\n",
       "      <td>11</td>\n",
       "      <td>21</td>\n",
       "      <td>20</td>\n",
       "      <td>11</td>\n",
       "      <td>68.57</td>\n",
       "      <td>17.00</td>\n",
       "      <td>2019-11-21</td>\n",
       "      <td>Thursday</td>\n",
       "      <td>360.00</td>\n",
       "    </tr>\n",
       "    <tr>\n",
       "      <th>798</th>\n",
       "      <td>397.80</td>\n",
       "      <td>2019</td>\n",
       "      <td>11</td>\n",
       "      <td>21</td>\n",
       "      <td>21</td>\n",
       "      <td>11</td>\n",
       "      <td>68.57</td>\n",
       "      <td>17.00</td>\n",
       "      <td>2019-11-21</td>\n",
       "      <td>Thursday</td>\n",
       "      <td>360.00</td>\n",
       "    </tr>\n",
       "    <tr>\n",
       "      <th>810</th>\n",
       "      <td>397.80</td>\n",
       "      <td>2019</td>\n",
       "      <td>11</td>\n",
       "      <td>21</td>\n",
       "      <td>22</td>\n",
       "      <td>11</td>\n",
       "      <td>68.57</td>\n",
       "      <td>17.00</td>\n",
       "      <td>2019-11-21</td>\n",
       "      <td>Thursday</td>\n",
       "      <td>360.00</td>\n",
       "    </tr>\n",
       "    <tr>\n",
       "      <th>822</th>\n",
       "      <td>397.80</td>\n",
       "      <td>2019</td>\n",
       "      <td>11</td>\n",
       "      <td>21</td>\n",
       "      <td>23</td>\n",
       "      <td>11</td>\n",
       "      <td>68.57</td>\n",
       "      <td>17.00</td>\n",
       "      <td>2019-11-21</td>\n",
       "      <td>Thursday</td>\n",
       "      <td>360.00</td>\n",
       "    </tr>\n",
       "    <tr>\n",
       "      <th>834</th>\n",
       "      <td>397.80</td>\n",
       "      <td>2019</td>\n",
       "      <td>11</td>\n",
       "      <td>21</td>\n",
       "      <td>24</td>\n",
       "      <td>11</td>\n",
       "      <td>68.57</td>\n",
       "      <td>17.00</td>\n",
       "      <td>2019-11-21</td>\n",
       "      <td>Thursday</td>\n",
       "      <td>360.00</td>\n",
       "    </tr>\n",
       "  </tbody>\n",
       "</table>\n",
       "</div>"
      ],
      "text/plain": [
       "     Pot_max  Year  Month  Day  Period  Block  Price  Energy       Date  \\\n",
       "654   397.80  2019     11   21       9     11  68.57   17.00 2019-11-21   \n",
       "666   397.80  2019     11   21      10     11  68.57   17.00 2019-11-21   \n",
       "678   397.80  2019     11   21      11     11  68.57   17.00 2019-11-21   \n",
       "690   397.80  2019     11   21      12     11  68.57   17.00 2019-11-21   \n",
       "702   397.80  2019     11   21      13     11  68.57   17.00 2019-11-21   \n",
       "714   397.80  2019     11   21      14     11  68.57   17.00 2019-11-21   \n",
       "726   397.80  2019     11   21      15     11  68.57   17.00 2019-11-21   \n",
       "738   397.80  2019     11   21      16     11  68.57   17.00 2019-11-21   \n",
       "750   397.80  2019     11   21      17     11  68.57   17.00 2019-11-21   \n",
       "762   397.80  2019     11   21      18     11  68.57   17.00 2019-11-21   \n",
       "774   397.80  2019     11   21      19     11  68.57   17.00 2019-11-21   \n",
       "786   397.80  2019     11   21      20     11  68.57   17.00 2019-11-21   \n",
       "798   397.80  2019     11   21      21     11  68.57   17.00 2019-11-21   \n",
       "810   397.80  2019     11   21      22     11  68.57   17.00 2019-11-21   \n",
       "822   397.80  2019     11   21      23     11  68.57   17.00 2019-11-21   \n",
       "834   397.80  2019     11   21      24     11  68.57   17.00 2019-11-21   \n",
       "\n",
       "      Weekday  Energy_tot  \n",
       "654  Thursday      360.00  \n",
       "666  Thursday      360.00  \n",
       "678  Thursday      360.00  \n",
       "690  Thursday      360.00  \n",
       "702  Thursday      360.00  \n",
       "714  Thursday      360.00  \n",
       "726  Thursday      360.00  \n",
       "738  Thursday      360.00  \n",
       "750  Thursday      360.00  \n",
       "762  Thursday      360.00  \n",
       "774  Thursday      360.00  \n",
       "786  Thursday      360.00  \n",
       "798  Thursday      360.00  \n",
       "810  Thursday      360.00  \n",
       "822  Thursday      360.00  \n",
       "834  Thursday      360.00  "
      ]
     },
     "execution_count": 18,
     "metadata": {},
     "output_type": "execute_result"
    }
   ],
   "source": [
    "df_curve[df_curve['Price']==df_curve[df_curve['Price']!=df_curve['Price'].max()]['Price'].max()]"
   ]
  },
  {
   "cell_type": "code",
   "execution_count": 19,
   "metadata": {},
   "outputs": [
    {
     "data": {
      "text/plain": [
       "24.97"
      ]
     },
     "execution_count": 19,
     "metadata": {},
     "output_type": "execute_result"
    }
   ],
   "source": [
    "#Second Minimum Price (not considering the maximum of 1.13€)\n",
    "df_curve[df_curve['Price']!=df_curve['Price'].min()]['Price'].min()"
   ]
  },
  {
   "cell_type": "code",
   "execution_count": null,
   "metadata": {
    "scrolled": true
   },
   "outputs": [],
   "source": []
  },
  {
   "cell_type": "code",
   "execution_count": 20,
   "metadata": {},
   "outputs": [],
   "source": [
    "#Storing the DataFrame locally\n",
    "#df_curve.to_csv('/home/dsc/Repos/TFM/PALOS1_DataFrame.csv')"
   ]
  },
  {
   "cell_type": "markdown",
   "metadata": {},
   "source": [
    "### 2.2. EXPLORING DATA INFORMATION"
   ]
  },
  {
   "cell_type": "code",
   "execution_count": 21,
   "metadata": {},
   "outputs": [
    {
     "name": "stdout",
     "output_type": "stream",
     "text": [
      "No NaN in df\n"
     ]
    }
   ],
   "source": [
    "#Searching for NaN\n",
    "\n",
    "if df_unit.shape[0] == df_unit.dropna().shape[0]:\n",
    "    print('No NaN in df')"
   ]
  },
  {
   "cell_type": "code",
   "execution_count": null,
   "metadata": {},
   "outputs": [],
   "source": []
  },
  {
   "cell_type": "code",
   "execution_count": 22,
   "metadata": {},
   "outputs": [
    {
     "data": {
      "text/html": [
       "<div>\n",
       "<style scoped>\n",
       "    .dataframe tbody tr th:only-of-type {\n",
       "        vertical-align: middle;\n",
       "    }\n",
       "\n",
       "    .dataframe tbody tr th {\n",
       "        vertical-align: top;\n",
       "    }\n",
       "\n",
       "    .dataframe thead th {\n",
       "        text-align: right;\n",
       "    }\n",
       "</style>\n",
       "<table border=\"1\" class=\"dataframe\">\n",
       "  <thead>\n",
       "    <tr style=\"text-align: right;\">\n",
       "      <th></th>\n",
       "      <th>Pot_max</th>\n",
       "      <th>Year</th>\n",
       "      <th>Month</th>\n",
       "      <th>Day</th>\n",
       "      <th>Period</th>\n",
       "      <th>Block</th>\n",
       "      <th>Price</th>\n",
       "      <th>Energy</th>\n",
       "      <th>Date</th>\n",
       "      <th>Weekday</th>\n",
       "      <th>Energy_tot</th>\n",
       "    </tr>\n",
       "  </thead>\n",
       "  <tbody>\n",
       "    <tr>\n",
       "      <th>69980</th>\n",
       "      <td>397.80</td>\n",
       "      <td>2020</td>\n",
       "      <td>10</td>\n",
       "      <td>31</td>\n",
       "      <td>1</td>\n",
       "      <td>12</td>\n",
       "      <td>180.30</td>\n",
       "      <td>397.80</td>\n",
       "      <td>2020-10-31</td>\n",
       "      <td>Saturday</td>\n",
       "      <td>397.80</td>\n",
       "    </tr>\n",
       "  </tbody>\n",
       "</table>\n",
       "</div>"
      ],
      "text/plain": [
       "       Pot_max  Year  Month  Day  Period  Block  Price  Energy       Date  \\\n",
       "69980   397.80  2020     10   31       1     12 180.30  397.80 2020-10-31   \n",
       "\n",
       "        Weekday  Energy_tot  \n",
       "69980  Saturday      397.80  "
      ]
     },
     "execution_count": 22,
     "metadata": {},
     "output_type": "execute_result"
    }
   ],
   "source": [
    "data_date_hour_info(df_curve, '2020-10-31', 1)"
   ]
  },
  {
   "cell_type": "code",
   "execution_count": null,
   "metadata": {},
   "outputs": [],
   "source": []
  },
  {
   "cell_type": "code",
   "execution_count": 23,
   "metadata": {
    "scrolled": true
   },
   "outputs": [
    {
     "data": {
      "text/html": [
       "<div>\n",
       "<style scoped>\n",
       "    .dataframe tbody tr th:only-of-type {\n",
       "        vertical-align: middle;\n",
       "    }\n",
       "\n",
       "    .dataframe tbody tr th {\n",
       "        vertical-align: top;\n",
       "    }\n",
       "\n",
       "    .dataframe thead th {\n",
       "        text-align: right;\n",
       "    }\n",
       "</style>\n",
       "<table border=\"1\" class=\"dataframe\">\n",
       "  <thead>\n",
       "    <tr style=\"text-align: right;\">\n",
       "      <th></th>\n",
       "      <th>Pot_max</th>\n",
       "      <th>Year</th>\n",
       "      <th>Month</th>\n",
       "      <th>Day</th>\n",
       "      <th>Period</th>\n",
       "      <th>Block</th>\n",
       "      <th>Price</th>\n",
       "      <th>Energy</th>\n",
       "      <th>Date</th>\n",
       "      <th>Weekday</th>\n",
       "      <th>Energy_tot</th>\n",
       "    </tr>\n",
       "  </thead>\n",
       "  <tbody>\n",
       "    <tr>\n",
       "      <th>63986</th>\n",
       "      <td>397.80</td>\n",
       "      <td>2020</td>\n",
       "      <td>9</td>\n",
       "      <td>30</td>\n",
       "      <td>24</td>\n",
       "      <td>1</td>\n",
       "      <td>1.13</td>\n",
       "      <td>190.00</td>\n",
       "      <td>2020-09-30</td>\n",
       "      <td>Wednesday</td>\n",
       "      <td>190.00</td>\n",
       "    </tr>\n",
       "    <tr>\n",
       "      <th>63987</th>\n",
       "      <td>397.80</td>\n",
       "      <td>2020</td>\n",
       "      <td>9</td>\n",
       "      <td>30</td>\n",
       "      <td>24</td>\n",
       "      <td>2</td>\n",
       "      <td>34.56</td>\n",
       "      <td>17.00</td>\n",
       "      <td>2020-09-30</td>\n",
       "      <td>Wednesday</td>\n",
       "      <td>207.00</td>\n",
       "    </tr>\n",
       "    <tr>\n",
       "      <th>63988</th>\n",
       "      <td>397.80</td>\n",
       "      <td>2020</td>\n",
       "      <td>9</td>\n",
       "      <td>30</td>\n",
       "      <td>24</td>\n",
       "      <td>3</td>\n",
       "      <td>35.09</td>\n",
       "      <td>17.00</td>\n",
       "      <td>2020-09-30</td>\n",
       "      <td>Wednesday</td>\n",
       "      <td>224.00</td>\n",
       "    </tr>\n",
       "    <tr>\n",
       "      <th>63989</th>\n",
       "      <td>397.80</td>\n",
       "      <td>2020</td>\n",
       "      <td>9</td>\n",
       "      <td>30</td>\n",
       "      <td>24</td>\n",
       "      <td>4</td>\n",
       "      <td>35.61</td>\n",
       "      <td>17.00</td>\n",
       "      <td>2020-09-30</td>\n",
       "      <td>Wednesday</td>\n",
       "      <td>241.00</td>\n",
       "    </tr>\n",
       "    <tr>\n",
       "      <th>63990</th>\n",
       "      <td>397.80</td>\n",
       "      <td>2020</td>\n",
       "      <td>9</td>\n",
       "      <td>30</td>\n",
       "      <td>24</td>\n",
       "      <td>5</td>\n",
       "      <td>36.13</td>\n",
       "      <td>17.00</td>\n",
       "      <td>2020-09-30</td>\n",
       "      <td>Wednesday</td>\n",
       "      <td>258.00</td>\n",
       "    </tr>\n",
       "    <tr>\n",
       "      <th>63991</th>\n",
       "      <td>397.80</td>\n",
       "      <td>2020</td>\n",
       "      <td>9</td>\n",
       "      <td>30</td>\n",
       "      <td>24</td>\n",
       "      <td>6</td>\n",
       "      <td>37.45</td>\n",
       "      <td>17.00</td>\n",
       "      <td>2020-09-30</td>\n",
       "      <td>Wednesday</td>\n",
       "      <td>275.00</td>\n",
       "    </tr>\n",
       "    <tr>\n",
       "      <th>63992</th>\n",
       "      <td>397.80</td>\n",
       "      <td>2020</td>\n",
       "      <td>9</td>\n",
       "      <td>30</td>\n",
       "      <td>24</td>\n",
       "      <td>7</td>\n",
       "      <td>37.97</td>\n",
       "      <td>17.00</td>\n",
       "      <td>2020-09-30</td>\n",
       "      <td>Wednesday</td>\n",
       "      <td>292.00</td>\n",
       "    </tr>\n",
       "    <tr>\n",
       "      <th>63993</th>\n",
       "      <td>397.80</td>\n",
       "      <td>2020</td>\n",
       "      <td>9</td>\n",
       "      <td>30</td>\n",
       "      <td>24</td>\n",
       "      <td>8</td>\n",
       "      <td>38.50</td>\n",
       "      <td>17.00</td>\n",
       "      <td>2020-09-30</td>\n",
       "      <td>Wednesday</td>\n",
       "      <td>309.00</td>\n",
       "    </tr>\n",
       "    <tr>\n",
       "      <th>63994</th>\n",
       "      <td>397.80</td>\n",
       "      <td>2020</td>\n",
       "      <td>9</td>\n",
       "      <td>30</td>\n",
       "      <td>24</td>\n",
       "      <td>9</td>\n",
       "      <td>39.52</td>\n",
       "      <td>17.00</td>\n",
       "      <td>2020-09-30</td>\n",
       "      <td>Wednesday</td>\n",
       "      <td>326.00</td>\n",
       "    </tr>\n",
       "    <tr>\n",
       "      <th>63995</th>\n",
       "      <td>397.80</td>\n",
       "      <td>2020</td>\n",
       "      <td>9</td>\n",
       "      <td>30</td>\n",
       "      <td>24</td>\n",
       "      <td>10</td>\n",
       "      <td>40.54</td>\n",
       "      <td>17.00</td>\n",
       "      <td>2020-09-30</td>\n",
       "      <td>Wednesday</td>\n",
       "      <td>343.00</td>\n",
       "    </tr>\n",
       "    <tr>\n",
       "      <th>63996</th>\n",
       "      <td>397.80</td>\n",
       "      <td>2020</td>\n",
       "      <td>9</td>\n",
       "      <td>30</td>\n",
       "      <td>24</td>\n",
       "      <td>11</td>\n",
       "      <td>42.06</td>\n",
       "      <td>17.00</td>\n",
       "      <td>2020-09-30</td>\n",
       "      <td>Wednesday</td>\n",
       "      <td>360.00</td>\n",
       "    </tr>\n",
       "    <tr>\n",
       "      <th>63997</th>\n",
       "      <td>397.80</td>\n",
       "      <td>2020</td>\n",
       "      <td>9</td>\n",
       "      <td>30</td>\n",
       "      <td>24</td>\n",
       "      <td>12</td>\n",
       "      <td>180.30</td>\n",
       "      <td>37.80</td>\n",
       "      <td>2020-09-30</td>\n",
       "      <td>Wednesday</td>\n",
       "      <td>397.80</td>\n",
       "    </tr>\n",
       "  </tbody>\n",
       "</table>\n",
       "</div>"
      ],
      "text/plain": [
       "       Pot_max  Year  Month  Day  Period  Block  Price  Energy       Date  \\\n",
       "63986   397.80  2020      9   30      24      1   1.13  190.00 2020-09-30   \n",
       "63987   397.80  2020      9   30      24      2  34.56   17.00 2020-09-30   \n",
       "63988   397.80  2020      9   30      24      3  35.09   17.00 2020-09-30   \n",
       "63989   397.80  2020      9   30      24      4  35.61   17.00 2020-09-30   \n",
       "63990   397.80  2020      9   30      24      5  36.13   17.00 2020-09-30   \n",
       "63991   397.80  2020      9   30      24      6  37.45   17.00 2020-09-30   \n",
       "63992   397.80  2020      9   30      24      7  37.97   17.00 2020-09-30   \n",
       "63993   397.80  2020      9   30      24      8  38.50   17.00 2020-09-30   \n",
       "63994   397.80  2020      9   30      24      9  39.52   17.00 2020-09-30   \n",
       "63995   397.80  2020      9   30      24     10  40.54   17.00 2020-09-30   \n",
       "63996   397.80  2020      9   30      24     11  42.06   17.00 2020-09-30   \n",
       "63997   397.80  2020      9   30      24     12 180.30   37.80 2020-09-30   \n",
       "\n",
       "         Weekday  Energy_tot  \n",
       "63986  Wednesday      190.00  \n",
       "63987  Wednesday      207.00  \n",
       "63988  Wednesday      224.00  \n",
       "63989  Wednesday      241.00  \n",
       "63990  Wednesday      258.00  \n",
       "63991  Wednesday      275.00  \n",
       "63992  Wednesday      292.00  \n",
       "63993  Wednesday      309.00  \n",
       "63994  Wednesday      326.00  \n",
       "63995  Wednesday      343.00  \n",
       "63996  Wednesday      360.00  \n",
       "63997  Wednesday      397.80  "
      ]
     },
     "execution_count": 23,
     "metadata": {},
     "output_type": "execute_result"
    }
   ],
   "source": [
    "data_date_hour_info(df_curve,'2020-09-30',24)"
   ]
  },
  {
   "cell_type": "code",
   "execution_count": 24,
   "metadata": {
    "scrolled": true
   },
   "outputs": [
    {
     "data": {
      "text/plain": [
       "array([ True,  True,  True,  True,  True,  True,  True,  True,  True,\n",
       "        True,  True,  True])"
      ]
     },
     "execution_count": 24,
     "metadata": {},
     "output_type": "execute_result"
    }
   ],
   "source": [
    "#Checking that hour 23 and 24 are exactly the same for one day\n",
    "#A GENERAL CHECKING TO BE INCLUDED\n",
    "\n",
    "np.array(data_date_hour_info(df_curve, '2020-10-31',24)['Price']) == np.array(data_date_hour_info(df_curve, '2020-10-31',23)['Price'])"
   ]
  },
  {
   "cell_type": "code",
   "execution_count": 25,
   "metadata": {},
   "outputs": [
    {
     "data": {
      "text/plain": [
       "array([ True,  True,  True,  True,  True,  True,  True,  True,  True,\n",
       "        True,  True,  True])"
      ]
     },
     "execution_count": 25,
     "metadata": {},
     "output_type": "execute_result"
    }
   ],
   "source": [
    "np.array(data_date_hour_info(df_curve, '2020-10-31',24)['Energy']) == np.array(data_date_hour_info(df_curve, '2020-10-31',23)['Energy'])"
   ]
  },
  {
   "cell_type": "code",
   "execution_count": 26,
   "metadata": {
    "scrolled": true
   },
   "outputs": [
    {
     "data": {
      "text/html": [
       "<div>\n",
       "<style scoped>\n",
       "    .dataframe tbody tr th:only-of-type {\n",
       "        vertical-align: middle;\n",
       "    }\n",
       "\n",
       "    .dataframe tbody tr th {\n",
       "        vertical-align: top;\n",
       "    }\n",
       "\n",
       "    .dataframe thead th {\n",
       "        text-align: right;\n",
       "    }\n",
       "</style>\n",
       "<table border=\"1\" class=\"dataframe\">\n",
       "  <thead>\n",
       "    <tr style=\"text-align: right;\">\n",
       "      <th></th>\n",
       "      <th>Pot_max</th>\n",
       "      <th>Year</th>\n",
       "      <th>Month</th>\n",
       "      <th>Day</th>\n",
       "      <th>Period</th>\n",
       "      <th>Block</th>\n",
       "      <th>Price</th>\n",
       "      <th>Energy</th>\n",
       "      <th>Date</th>\n",
       "      <th>Weekday</th>\n",
       "      <th>Energy_tot</th>\n",
       "    </tr>\n",
       "  </thead>\n",
       "  <tbody>\n",
       "    <tr>\n",
       "      <th>68774</th>\n",
       "      <td>397.80</td>\n",
       "      <td>2020</td>\n",
       "      <td>10</td>\n",
       "      <td>25</td>\n",
       "      <td>1</td>\n",
       "      <td>12</td>\n",
       "      <td>180.30</td>\n",
       "      <td>397.80</td>\n",
       "      <td>2020-10-25</td>\n",
       "      <td>Sunday</td>\n",
       "      <td>397.80</td>\n",
       "    </tr>\n",
       "  </tbody>\n",
       "</table>\n",
       "</div>"
      ],
      "text/plain": [
       "       Pot_max  Year  Month  Day  Period  Block  Price  Energy       Date  \\\n",
       "68774   397.80  2020     10   25       1     12 180.30  397.80 2020-10-25   \n",
       "\n",
       "      Weekday  Energy_tot  \n",
       "68774  Sunday      397.80  "
      ]
     },
     "execution_count": 26,
     "metadata": {},
     "output_type": "execute_result"
    }
   ],
   "source": [
    "data_date_hour_info(df_curve,'2020-10-25',1)"
   ]
  },
  {
   "cell_type": "code",
   "execution_count": null,
   "metadata": {},
   "outputs": [],
   "source": []
  },
  {
   "cell_type": "code",
   "execution_count": null,
   "metadata": {},
   "outputs": [],
   "source": []
  },
  {
   "cell_type": "code",
   "execution_count": 27,
   "metadata": {},
   "outputs": [],
   "source": [
    "############# CHECKING DATA FROM df_curve  #############################################"
   ]
  },
  {
   "cell_type": "code",
   "execution_count": 28,
   "metadata": {},
   "outputs": [
    {
     "data": {
      "text/plain": [
       "(70179, 11)"
      ]
     },
     "execution_count": 28,
     "metadata": {},
     "output_type": "execute_result"
    }
   ],
   "source": [
    "df_curve.shape"
   ]
  },
  {
   "cell_type": "code",
   "execution_count": 29,
   "metadata": {},
   "outputs": [
    {
     "data": {
      "text/plain": [
       "(8376, 11)"
      ]
     },
     "execution_count": 29,
     "metadata": {},
     "output_type": "execute_result"
    }
   ],
   "source": [
    "df_curve[df_curve['Block']==12].shape"
   ]
  },
  {
   "cell_type": "code",
   "execution_count": 30,
   "metadata": {},
   "outputs": [
    {
     "data": {
      "text/plain": [
       "349.0"
      ]
     },
     "execution_count": 30,
     "metadata": {},
     "output_type": "execute_result"
    }
   ],
   "source": [
    "df_curve[df_curve['Block']==12].shape[0]/24"
   ]
  },
  {
   "cell_type": "code",
   "execution_count": 31,
   "metadata": {},
   "outputs": [],
   "source": [
    "#Something is wrong if the number above is not an integer"
   ]
  },
  {
   "cell_type": "code",
   "execution_count": null,
   "metadata": {},
   "outputs": [],
   "source": []
  },
  {
   "cell_type": "code",
   "execution_count": 32,
   "metadata": {},
   "outputs": [],
   "source": [
    "from datetime import datetime\n",
    "\n",
    "first_day = datetime(df_curve['Date'].min().year,\n",
    "                  df_curve['Date'].min().month,\n",
    "                  df_curve['Date'].min().day)\n",
    "\n",
    "last_day = datetime(df_curve['Date'].max().year,\n",
    "                  df_curve['Date'].max().month,\n",
    "                  df_curve['Date'].max().day)"
   ]
  },
  {
   "cell_type": "code",
   "execution_count": 33,
   "metadata": {},
   "outputs": [
    {
     "data": {
      "text/plain": [
       "2"
      ]
     },
     "execution_count": 33,
     "metadata": {},
     "output_type": "execute_result"
    }
   ],
   "source": [
    "#Checking the number of years\n",
    "num_years = len(df_curve['Year'].value_counts())\n",
    "num_years"
   ]
  },
  {
   "cell_type": "code",
   "execution_count": 34,
   "metadata": {},
   "outputs": [
    {
     "data": {
      "text/plain": [
       "0"
      ]
     },
     "execution_count": 34,
     "metadata": {},
     "output_type": "execute_result"
    }
   ],
   "source": [
    "#Number of missing years in the original data\n",
    "\n",
    "num_years_real = (last_day.year - first_day.year) + 1\n",
    "diff_num_years = num_years_real - num_years\n",
    "diff_num_years"
   ]
  },
  {
   "cell_type": "code",
   "execution_count": 35,
   "metadata": {},
   "outputs": [
    {
     "data": {
      "text/plain": [
       "12"
      ]
     },
     "execution_count": 35,
     "metadata": {},
     "output_type": "execute_result"
    }
   ],
   "source": [
    "#Checking the number of months in the original data\n",
    "\n",
    "num_months = len(df_curve[['Year','Month']].value_counts())\n",
    "num_months"
   ]
  },
  {
   "cell_type": "code",
   "execution_count": 36,
   "metadata": {},
   "outputs": [
    {
     "data": {
      "text/plain": [
       "0"
      ]
     },
     "execution_count": 36,
     "metadata": {},
     "output_type": "execute_result"
    }
   ],
   "source": [
    "#Number of missing months in the original data\n",
    "\n",
    "num_months_real = (last_day.month -first_day.month) + 12*(last_day.year - first_day.year) + 1\n",
    "diff_num_months = num_months_real - num_months\n",
    "diff_num_months"
   ]
  },
  {
   "cell_type": "code",
   "execution_count": null,
   "metadata": {},
   "outputs": [],
   "source": []
  },
  {
   "cell_type": "code",
   "execution_count": 37,
   "metadata": {},
   "outputs": [
    {
     "data": {
      "text/plain": [
       "349"
      ]
     },
     "execution_count": 37,
     "metadata": {},
     "output_type": "execute_result"
    }
   ],
   "source": [
    "#Checking the number of days in the original data\n",
    "\n",
    "num_days = len(df_curve['Date'].value_counts())\n",
    "num_days"
   ]
  },
  {
   "cell_type": "code",
   "execution_count": 38,
   "metadata": {},
   "outputs": [
    {
     "data": {
      "text/plain": [
       "Timestamp('2019-11-18 00:00:00')"
      ]
     },
     "execution_count": 38,
     "metadata": {},
     "output_type": "execute_result"
    }
   ],
   "source": [
    "df_curve['Date'].min()"
   ]
  },
  {
   "cell_type": "code",
   "execution_count": 39,
   "metadata": {},
   "outputs": [
    {
     "data": {
      "text/plain": [
       "Timestamp('2020-10-31 00:00:00')"
      ]
     },
     "execution_count": 39,
     "metadata": {},
     "output_type": "execute_result"
    }
   ],
   "source": [
    "df_curve['Date'].max()"
   ]
  },
  {
   "cell_type": "code",
   "execution_count": 40,
   "metadata": {},
   "outputs": [
    {
     "data": {
      "text/plain": [
       "349"
      ]
     },
     "execution_count": 40,
     "metadata": {},
     "output_type": "execute_result"
    }
   ],
   "source": [
    "num_days_real = (last_day - first_day).days + 1\n",
    "num_days_real"
   ]
  },
  {
   "cell_type": "code",
   "execution_count": 41,
   "metadata": {},
   "outputs": [
    {
     "data": {
      "text/plain": [
       "0"
      ]
     },
     "execution_count": 41,
     "metadata": {},
     "output_type": "execute_result"
    }
   ],
   "source": [
    "#Number of missing days in original data\n",
    "diff_num_days = num_days_real - num_days\n",
    "diff_num_days"
   ]
  },
  {
   "cell_type": "code",
   "execution_count": 42,
   "metadata": {},
   "outputs": [
    {
     "data": {
      "text/plain": [
       "8376"
      ]
     },
     "execution_count": 42,
     "metadata": {},
     "output_type": "execute_result"
    }
   ],
   "source": [
    "#Checking the number of hours in the original data\n",
    "\n",
    "num_hours_real = num_days_real*24 #It should be checked if within the date range there is an odd number \n",
    "                                    #of 23h-day or 25-h-day\n",
    "num_hours_real\n"
   ]
  },
  {
   "cell_type": "code",
   "execution_count": 43,
   "metadata": {},
   "outputs": [
    {
     "data": {
      "text/plain": [
       "8376"
      ]
     },
     "execution_count": 43,
     "metadata": {},
     "output_type": "execute_result"
    }
   ],
   "source": [
    "num_hours_orig_real = num_days*24 #It should be checked if within the date range there is an odd number \n",
    "                                    #of 23h-day or 25-h-day\n",
    "num_hours_orig_real"
   ]
  },
  {
   "cell_type": "code",
   "execution_count": 44,
   "metadata": {},
   "outputs": [
    {
     "data": {
      "text/plain": [
       "8376"
      ]
     },
     "execution_count": 44,
     "metadata": {},
     "output_type": "execute_result"
    }
   ],
   "source": [
    "#Checking the number of hours\n",
    "\n",
    "num_hours = df_curve.groupby(['Date','Period'])['Block'].count().value_counts().sum()\n",
    "num_hours"
   ]
  },
  {
   "cell_type": "code",
   "execution_count": 45,
   "metadata": {},
   "outputs": [
    {
     "data": {
      "text/plain": [
       "0"
      ]
     },
     "execution_count": 45,
     "metadata": {},
     "output_type": "execute_result"
    }
   ],
   "source": [
    "#Number of missing hours from the original data\n",
    "diff_num_hours = num_hours_real - num_hours\n",
    "diff_num_hours"
   ]
  },
  {
   "cell_type": "code",
   "execution_count": 46,
   "metadata": {},
   "outputs": [
    {
     "data": {
      "text/plain": [
       "0"
      ]
     },
     "execution_count": 46,
     "metadata": {},
     "output_type": "execute_result"
    }
   ],
   "source": [
    "#Number of missing hours from the days in the original data\n",
    "diff_num_hours_orig = num_hours_orig_real - num_hours\n",
    "diff_num_hours_orig"
   ]
  },
  {
   "cell_type": "code",
   "execution_count": 47,
   "metadata": {},
   "outputs": [
    {
     "data": {
      "text/plain": [
       "True"
      ]
     },
     "execution_count": 47,
     "metadata": {},
     "output_type": "execute_result"
    }
   ],
   "source": [
    "(diff_num_hours_orig + diff_num_days*24) == diff_num_hours"
   ]
  },
  {
   "cell_type": "code",
   "execution_count": null,
   "metadata": {},
   "outputs": [],
   "source": []
  },
  {
   "cell_type": "code",
   "execution_count": null,
   "metadata": {},
   "outputs": [],
   "source": []
  },
  {
   "cell_type": "code",
   "execution_count": 48,
   "metadata": {
    "scrolled": true
   },
   "outputs": [
    {
     "data": {
      "text/plain": [
       "Block\n",
       "1     7402\n",
       "2     5657\n",
       "3     5657\n",
       "4     5657\n",
       "5     5582\n",
       "6     5308\n",
       "7     5308\n",
       "8     5308\n",
       "9     5308\n",
       "10    5308\n",
       "11    5308\n",
       "12    8376\n",
       "Name: Period, dtype: int64"
      ]
     },
     "execution_count": 48,
     "metadata": {},
     "output_type": "execute_result"
    }
   ],
   "source": [
    "#Number of hours per each block. We can see that the only block that appears in all periods is BLOCK 12.\n",
    "df_curve.groupby(['Block'])['Period'].count()"
   ]
  },
  {
   "cell_type": "code",
   "execution_count": 49,
   "metadata": {
    "scrolled": true
   },
   "outputs": [
    {
     "data": {
      "text/plain": [
       "12"
      ]
     },
     "execution_count": 49,
     "metadata": {},
     "output_type": "execute_result"
    }
   ],
   "source": [
    "#Variable to include the number of the block that appears always (if there are more than one the minimum is chosen).\n",
    "\n",
    "serie_block_all = df_curve.groupby(['Block'])['Period'].count()[df_curve.groupby(['Block'])['Period'].count() == num_hours]\n",
    "serie_block_all = serie_block_all.reset_index()\n",
    "block_all = serie_block_all['Block'].min()\n",
    "block_all"
   ]
  },
  {
   "cell_type": "code",
   "execution_count": 50,
   "metadata": {},
   "outputs": [
    {
     "data": {
      "text/plain": [
       "12"
      ]
     },
     "execution_count": 50,
     "metadata": {},
     "output_type": "execute_result"
    }
   ],
   "source": [
    "#Variable to include the maximum number of blocks\n",
    "\n",
    "block_max = df_curve['Block'].max()\n",
    "block_max"
   ]
  },
  {
   "cell_type": "code",
   "execution_count": 51,
   "metadata": {
    "scrolled": false
   },
   "outputs": [
    {
     "data": {
      "text/plain": [
       "24    347\n",
       "25      1\n",
       "23      1\n",
       "Name: Period, dtype: int64"
      ]
     },
     "execution_count": 51,
     "metadata": {},
     "output_type": "execute_result"
    }
   ],
   "source": [
    "#Checking that every day has 23, 24 or 25 hours\n",
    "#We know that all periods have at least the block with the number equal to block_all\n",
    "\n",
    "df_curve_hours = df_curve[(df_curve['Block']==block_all)].groupby('Date')['Period'].count()\n",
    "df_curve_hours.value_counts()"
   ]
  },
  {
   "cell_type": "code",
   "execution_count": 52,
   "metadata": {},
   "outputs": [
    {
     "data": {
      "text/plain": [
       "Series([], Name: Period, dtype: int64)"
      ]
     },
     "execution_count": 52,
     "metadata": {},
     "output_type": "execute_result"
    }
   ],
   "source": [
    "#Day with less than 23 hours\n",
    "df_curve_hours[(df_curve_hours != 23) & (df_curve_hours != 24) & (df_curve_hours != 25)]"
   ]
  },
  {
   "cell_type": "code",
   "execution_count": 53,
   "metadata": {
    "scrolled": false
   },
   "outputs": [
    {
     "data": {
      "text/html": [
       "<div>\n",
       "<style scoped>\n",
       "    .dataframe tbody tr th:only-of-type {\n",
       "        vertical-align: middle;\n",
       "    }\n",
       "\n",
       "    .dataframe tbody tr th {\n",
       "        vertical-align: top;\n",
       "    }\n",
       "\n",
       "    .dataframe thead th {\n",
       "        text-align: right;\n",
       "    }\n",
       "</style>\n",
       "<table border=\"1\" class=\"dataframe\">\n",
       "  <thead>\n",
       "    <tr style=\"text-align: right;\">\n",
       "      <th></th>\n",
       "      <th>Pot_max</th>\n",
       "      <th>Year</th>\n",
       "      <th>Month</th>\n",
       "      <th>Day</th>\n",
       "      <th>Period</th>\n",
       "      <th>Block</th>\n",
       "      <th>Price</th>\n",
       "      <th>Energy</th>\n",
       "      <th>Date</th>\n",
       "      <th>Weekday</th>\n",
       "      <th>Energy_tot</th>\n",
       "    </tr>\n",
       "  </thead>\n",
       "  <tbody>\n",
       "  </tbody>\n",
       "</table>\n",
       "</div>"
      ],
      "text/plain": [
       "Empty DataFrame\n",
       "Columns: [Pot_max, Year, Month, Day, Period, Block, Price, Energy, Date, Weekday, Energy_tot]\n",
       "Index: []"
      ]
     },
     "execution_count": 53,
     "metadata": {},
     "output_type": "execute_result"
    }
   ],
   "source": [
    "#Checking data in a period of time\n",
    "df_curve.loc[df_curve['Date'].isin(['2019-11-05','2019-11-17'])]"
   ]
  },
  {
   "cell_type": "code",
   "execution_count": null,
   "metadata": {},
   "outputs": [],
   "source": []
  },
  {
   "cell_type": "code",
   "execution_count": 54,
   "metadata": {},
   "outputs": [],
   "source": [
    "#Searching the days with 23h and 25h within the original data period. \n",
    "#It is known that in Spain times changes from 2am to 3am every last Sunday of March and \n",
    "#from 3am to 2am every last Sunday of October\n",
    "\n",
    "days_25h, days_23h = days_25h_23h(df_curve)"
   ]
  },
  {
   "cell_type": "code",
   "execution_count": 55,
   "metadata": {},
   "outputs": [
    {
     "data": {
      "text/plain": [
       "([datetime.datetime(2020, 10, 25, 0, 0)],\n",
       " [datetime.datetime(2020, 3, 29, 0, 0)])"
      ]
     },
     "execution_count": 55,
     "metadata": {},
     "output_type": "execute_result"
    }
   ],
   "source": [
    "days_25h, days_23h"
   ]
  },
  {
   "cell_type": "code",
   "execution_count": 56,
   "metadata": {
    "scrolled": true
   },
   "outputs": [
    {
     "data": {
      "text/plain": [
       "2020"
      ]
     },
     "execution_count": 56,
     "metadata": {},
     "output_type": "execute_result"
    }
   ],
   "source": [
    "days_25h[0].year"
   ]
  },
  {
   "cell_type": "code",
   "execution_count": null,
   "metadata": {},
   "outputs": [],
   "source": []
  },
  {
   "cell_type": "code",
   "execution_count": 57,
   "metadata": {},
   "outputs": [],
   "source": [
    "#View of some expamples of bids per hour"
   ]
  },
  {
   "cell_type": "code",
   "execution_count": 58,
   "metadata": {
    "scrolled": false
   },
   "outputs": [
    {
     "data": {
      "text/html": [
       "<div>\n",
       "<style scoped>\n",
       "    .dataframe tbody tr th:only-of-type {\n",
       "        vertical-align: middle;\n",
       "    }\n",
       "\n",
       "    .dataframe tbody tr th {\n",
       "        vertical-align: top;\n",
       "    }\n",
       "\n",
       "    .dataframe thead th {\n",
       "        text-align: right;\n",
       "    }\n",
       "</style>\n",
       "<table border=\"1\" class=\"dataframe\">\n",
       "  <thead>\n",
       "    <tr style=\"text-align: right;\">\n",
       "      <th></th>\n",
       "      <th>Pot_max</th>\n",
       "      <th>Year</th>\n",
       "      <th>Month</th>\n",
       "      <th>Day</th>\n",
       "      <th>Period</th>\n",
       "      <th>Block</th>\n",
       "      <th>Price</th>\n",
       "      <th>Energy</th>\n",
       "      <th>Date</th>\n",
       "      <th>Weekday</th>\n",
       "      <th>Energy_tot</th>\n",
       "    </tr>\n",
       "  </thead>\n",
       "  <tbody>\n",
       "    <tr>\n",
       "      <th>68774</th>\n",
       "      <td>397.80</td>\n",
       "      <td>2020</td>\n",
       "      <td>10</td>\n",
       "      <td>25</td>\n",
       "      <td>1</td>\n",
       "      <td>12</td>\n",
       "      <td>180.30</td>\n",
       "      <td>397.80</td>\n",
       "      <td>2020-10-25</td>\n",
       "      <td>Sunday</td>\n",
       "      <td>397.80</td>\n",
       "    </tr>\n",
       "    <tr>\n",
       "      <th>68775</th>\n",
       "      <td>397.80</td>\n",
       "      <td>2020</td>\n",
       "      <td>10</td>\n",
       "      <td>25</td>\n",
       "      <td>2</td>\n",
       "      <td>12</td>\n",
       "      <td>180.30</td>\n",
       "      <td>397.80</td>\n",
       "      <td>2020-10-25</td>\n",
       "      <td>Sunday</td>\n",
       "      <td>397.80</td>\n",
       "    </tr>\n",
       "    <tr>\n",
       "      <th>68776</th>\n",
       "      <td>397.80</td>\n",
       "      <td>2020</td>\n",
       "      <td>10</td>\n",
       "      <td>25</td>\n",
       "      <td>3</td>\n",
       "      <td>12</td>\n",
       "      <td>180.30</td>\n",
       "      <td>397.80</td>\n",
       "      <td>2020-10-25</td>\n",
       "      <td>Sunday</td>\n",
       "      <td>397.80</td>\n",
       "    </tr>\n",
       "    <tr>\n",
       "      <th>68777</th>\n",
       "      <td>397.80</td>\n",
       "      <td>2020</td>\n",
       "      <td>10</td>\n",
       "      <td>25</td>\n",
       "      <td>4</td>\n",
       "      <td>1</td>\n",
       "      <td>1.13</td>\n",
       "      <td>80.00</td>\n",
       "      <td>2020-10-25</td>\n",
       "      <td>Sunday</td>\n",
       "      <td>80.00</td>\n",
       "    </tr>\n",
       "    <tr>\n",
       "      <th>68778</th>\n",
       "      <td>397.80</td>\n",
       "      <td>2020</td>\n",
       "      <td>10</td>\n",
       "      <td>25</td>\n",
       "      <td>4</td>\n",
       "      <td>12</td>\n",
       "      <td>180.30</td>\n",
       "      <td>317.80</td>\n",
       "      <td>2020-10-25</td>\n",
       "      <td>Sunday</td>\n",
       "      <td>397.80</td>\n",
       "    </tr>\n",
       "    <tr>\n",
       "      <th>68779</th>\n",
       "      <td>397.80</td>\n",
       "      <td>2020</td>\n",
       "      <td>10</td>\n",
       "      <td>25</td>\n",
       "      <td>5</td>\n",
       "      <td>1</td>\n",
       "      <td>1.13</td>\n",
       "      <td>120.00</td>\n",
       "      <td>2020-10-25</td>\n",
       "      <td>Sunday</td>\n",
       "      <td>120.00</td>\n",
       "    </tr>\n",
       "    <tr>\n",
       "      <th>68780</th>\n",
       "      <td>397.80</td>\n",
       "      <td>2020</td>\n",
       "      <td>10</td>\n",
       "      <td>25</td>\n",
       "      <td>5</td>\n",
       "      <td>12</td>\n",
       "      <td>180.30</td>\n",
       "      <td>277.80</td>\n",
       "      <td>2020-10-25</td>\n",
       "      <td>Sunday</td>\n",
       "      <td>397.80</td>\n",
       "    </tr>\n",
       "  </tbody>\n",
       "</table>\n",
       "</div>"
      ],
      "text/plain": [
       "       Pot_max  Year  Month  Day  Period  Block  Price  Energy       Date  \\\n",
       "68774   397.80  2020     10   25       1     12 180.30  397.80 2020-10-25   \n",
       "68775   397.80  2020     10   25       2     12 180.30  397.80 2020-10-25   \n",
       "68776   397.80  2020     10   25       3     12 180.30  397.80 2020-10-25   \n",
       "68777   397.80  2020     10   25       4      1   1.13   80.00 2020-10-25   \n",
       "68778   397.80  2020     10   25       4     12 180.30  317.80 2020-10-25   \n",
       "68779   397.80  2020     10   25       5      1   1.13  120.00 2020-10-25   \n",
       "68780   397.80  2020     10   25       5     12 180.30  277.80 2020-10-25   \n",
       "\n",
       "      Weekday  Energy_tot  \n",
       "68774  Sunday      397.80  \n",
       "68775  Sunday      397.80  \n",
       "68776  Sunday      397.80  \n",
       "68777  Sunday       80.00  \n",
       "68778  Sunday      397.80  \n",
       "68779  Sunday      120.00  \n",
       "68780  Sunday      397.80  "
      ]
     },
     "execution_count": 58,
     "metadata": {},
     "output_type": "execute_result"
    }
   ],
   "source": [
    "df_curve[(df_curve['Date']==days_25h[0])&(df_curve['Period'].isin([1,2,3,4,5]))]"
   ]
  },
  {
   "cell_type": "code",
   "execution_count": 59,
   "metadata": {
    "scrolled": true
   },
   "outputs": [
    {
     "data": {
      "text/html": [
       "<div>\n",
       "<style scoped>\n",
       "    .dataframe tbody tr th:only-of-type {\n",
       "        vertical-align: middle;\n",
       "    }\n",
       "\n",
       "    .dataframe tbody tr th {\n",
       "        vertical-align: top;\n",
       "    }\n",
       "\n",
       "    .dataframe thead th {\n",
       "        text-align: right;\n",
       "    }\n",
       "</style>\n",
       "<table border=\"1\" class=\"dataframe\">\n",
       "  <thead>\n",
       "    <tr style=\"text-align: right;\">\n",
       "      <th></th>\n",
       "      <th>Pot_max</th>\n",
       "      <th>Year</th>\n",
       "      <th>Month</th>\n",
       "      <th>Day</th>\n",
       "      <th>Period</th>\n",
       "      <th>Block</th>\n",
       "      <th>Price</th>\n",
       "      <th>Energy</th>\n",
       "      <th>Date</th>\n",
       "      <th>Weekday</th>\n",
       "      <th>Energy_tot</th>\n",
       "    </tr>\n",
       "  </thead>\n",
       "  <tbody>\n",
       "    <tr>\n",
       "      <th>26996</th>\n",
       "      <td>397.80</td>\n",
       "      <td>2020</td>\n",
       "      <td>3</td>\n",
       "      <td>29</td>\n",
       "      <td>1</td>\n",
       "      <td>12</td>\n",
       "      <td>180.30</td>\n",
       "      <td>397.80</td>\n",
       "      <td>2020-03-29</td>\n",
       "      <td>Sunday</td>\n",
       "      <td>397.80</td>\n",
       "    </tr>\n",
       "    <tr>\n",
       "      <th>26997</th>\n",
       "      <td>397.80</td>\n",
       "      <td>2020</td>\n",
       "      <td>3</td>\n",
       "      <td>29</td>\n",
       "      <td>2</td>\n",
       "      <td>12</td>\n",
       "      <td>180.30</td>\n",
       "      <td>397.80</td>\n",
       "      <td>2020-03-29</td>\n",
       "      <td>Sunday</td>\n",
       "      <td>397.80</td>\n",
       "    </tr>\n",
       "    <tr>\n",
       "      <th>26998</th>\n",
       "      <td>397.80</td>\n",
       "      <td>2020</td>\n",
       "      <td>3</td>\n",
       "      <td>29</td>\n",
       "      <td>3</td>\n",
       "      <td>12</td>\n",
       "      <td>180.30</td>\n",
       "      <td>397.80</td>\n",
       "      <td>2020-03-29</td>\n",
       "      <td>Sunday</td>\n",
       "      <td>397.80</td>\n",
       "    </tr>\n",
       "    <tr>\n",
       "      <th>26999</th>\n",
       "      <td>397.80</td>\n",
       "      <td>2020</td>\n",
       "      <td>3</td>\n",
       "      <td>29</td>\n",
       "      <td>4</td>\n",
       "      <td>1</td>\n",
       "      <td>1.13</td>\n",
       "      <td>80.00</td>\n",
       "      <td>2020-03-29</td>\n",
       "      <td>Sunday</td>\n",
       "      <td>80.00</td>\n",
       "    </tr>\n",
       "    <tr>\n",
       "      <th>27000</th>\n",
       "      <td>397.80</td>\n",
       "      <td>2020</td>\n",
       "      <td>3</td>\n",
       "      <td>29</td>\n",
       "      <td>4</td>\n",
       "      <td>12</td>\n",
       "      <td>180.30</td>\n",
       "      <td>317.80</td>\n",
       "      <td>2020-03-29</td>\n",
       "      <td>Sunday</td>\n",
       "      <td>397.80</td>\n",
       "    </tr>\n",
       "    <tr>\n",
       "      <th>27001</th>\n",
       "      <td>397.80</td>\n",
       "      <td>2020</td>\n",
       "      <td>3</td>\n",
       "      <td>29</td>\n",
       "      <td>5</td>\n",
       "      <td>1</td>\n",
       "      <td>1.13</td>\n",
       "      <td>120.00</td>\n",
       "      <td>2020-03-29</td>\n",
       "      <td>Sunday</td>\n",
       "      <td>120.00</td>\n",
       "    </tr>\n",
       "    <tr>\n",
       "      <th>27002</th>\n",
       "      <td>397.80</td>\n",
       "      <td>2020</td>\n",
       "      <td>3</td>\n",
       "      <td>29</td>\n",
       "      <td>5</td>\n",
       "      <td>12</td>\n",
       "      <td>180.30</td>\n",
       "      <td>277.80</td>\n",
       "      <td>2020-03-29</td>\n",
       "      <td>Sunday</td>\n",
       "      <td>397.80</td>\n",
       "    </tr>\n",
       "  </tbody>\n",
       "</table>\n",
       "</div>"
      ],
      "text/plain": [
       "       Pot_max  Year  Month  Day  Period  Block  Price  Energy       Date  \\\n",
       "26996   397.80  2020      3   29       1     12 180.30  397.80 2020-03-29   \n",
       "26997   397.80  2020      3   29       2     12 180.30  397.80 2020-03-29   \n",
       "26998   397.80  2020      3   29       3     12 180.30  397.80 2020-03-29   \n",
       "26999   397.80  2020      3   29       4      1   1.13   80.00 2020-03-29   \n",
       "27000   397.80  2020      3   29       4     12 180.30  317.80 2020-03-29   \n",
       "27001   397.80  2020      3   29       5      1   1.13  120.00 2020-03-29   \n",
       "27002   397.80  2020      3   29       5     12 180.30  277.80 2020-03-29   \n",
       "\n",
       "      Weekday  Energy_tot  \n",
       "26996  Sunday      397.80  \n",
       "26997  Sunday      397.80  \n",
       "26998  Sunday      397.80  \n",
       "26999  Sunday       80.00  \n",
       "27000  Sunday      397.80  \n",
       "27001  Sunday      120.00  \n",
       "27002  Sunday      397.80  "
      ]
     },
     "execution_count": 59,
     "metadata": {},
     "output_type": "execute_result"
    }
   ],
   "source": [
    "df_curve[(df_curve['Date']==days_23h[0])&(df_curve['Period'].isin([1,2,3,4,5]))]"
   ]
  },
  {
   "cell_type": "code",
   "execution_count": 60,
   "metadata": {},
   "outputs": [],
   "source": [
    "#View of some expamples of bids per hour"
   ]
  },
  {
   "cell_type": "code",
   "execution_count": 61,
   "metadata": {
    "scrolled": true
   },
   "outputs": [
    {
     "data": {
      "text/html": [
       "<div>\n",
       "<style scoped>\n",
       "    .dataframe tbody tr th:only-of-type {\n",
       "        vertical-align: middle;\n",
       "    }\n",
       "\n",
       "    .dataframe tbody tr th {\n",
       "        vertical-align: top;\n",
       "    }\n",
       "\n",
       "    .dataframe thead th {\n",
       "        text-align: right;\n",
       "    }\n",
       "</style>\n",
       "<table border=\"1\" class=\"dataframe\">\n",
       "  <thead>\n",
       "    <tr style=\"text-align: right;\">\n",
       "      <th></th>\n",
       "      <th>Pot_max</th>\n",
       "      <th>Year</th>\n",
       "      <th>Month</th>\n",
       "      <th>Day</th>\n",
       "      <th>Period</th>\n",
       "      <th>Block</th>\n",
       "      <th>Price</th>\n",
       "      <th>Energy</th>\n",
       "      <th>Date</th>\n",
       "      <th>Weekday</th>\n",
       "      <th>Energy_tot</th>\n",
       "    </tr>\n",
       "  </thead>\n",
       "  <tbody>\n",
       "    <tr>\n",
       "      <th>68781</th>\n",
       "      <td>397.80</td>\n",
       "      <td>2020</td>\n",
       "      <td>10</td>\n",
       "      <td>25</td>\n",
       "      <td>6</td>\n",
       "      <td>1</td>\n",
       "      <td>1.13</td>\n",
       "      <td>120.00</td>\n",
       "      <td>2020-10-25</td>\n",
       "      <td>Sunday</td>\n",
       "      <td>120.00</td>\n",
       "    </tr>\n",
       "    <tr>\n",
       "      <th>68782</th>\n",
       "      <td>397.80</td>\n",
       "      <td>2020</td>\n",
       "      <td>10</td>\n",
       "      <td>25</td>\n",
       "      <td>6</td>\n",
       "      <td>12</td>\n",
       "      <td>180.30</td>\n",
       "      <td>277.80</td>\n",
       "      <td>2020-10-25</td>\n",
       "      <td>Sunday</td>\n",
       "      <td>397.80</td>\n",
       "    </tr>\n",
       "    <tr>\n",
       "      <th>68783</th>\n",
       "      <td>397.80</td>\n",
       "      <td>2020</td>\n",
       "      <td>10</td>\n",
       "      <td>25</td>\n",
       "      <td>7</td>\n",
       "      <td>1</td>\n",
       "      <td>1.13</td>\n",
       "      <td>120.00</td>\n",
       "      <td>2020-10-25</td>\n",
       "      <td>Sunday</td>\n",
       "      <td>120.00</td>\n",
       "    </tr>\n",
       "    <tr>\n",
       "      <th>68784</th>\n",
       "      <td>397.80</td>\n",
       "      <td>2020</td>\n",
       "      <td>10</td>\n",
       "      <td>25</td>\n",
       "      <td>7</td>\n",
       "      <td>12</td>\n",
       "      <td>180.30</td>\n",
       "      <td>277.80</td>\n",
       "      <td>2020-10-25</td>\n",
       "      <td>Sunday</td>\n",
       "      <td>397.80</td>\n",
       "    </tr>\n",
       "    <tr>\n",
       "      <th>68785</th>\n",
       "      <td>397.80</td>\n",
       "      <td>2020</td>\n",
       "      <td>10</td>\n",
       "      <td>25</td>\n",
       "      <td>8</td>\n",
       "      <td>1</td>\n",
       "      <td>1.13</td>\n",
       "      <td>125.00</td>\n",
       "      <td>2020-10-25</td>\n",
       "      <td>Sunday</td>\n",
       "      <td>125.00</td>\n",
       "    </tr>\n",
       "    <tr>\n",
       "      <th>68786</th>\n",
       "      <td>397.80</td>\n",
       "      <td>2020</td>\n",
       "      <td>10</td>\n",
       "      <td>25</td>\n",
       "      <td>8</td>\n",
       "      <td>12</td>\n",
       "      <td>180.30</td>\n",
       "      <td>272.80</td>\n",
       "      <td>2020-10-25</td>\n",
       "      <td>Sunday</td>\n",
       "      <td>397.80</td>\n",
       "    </tr>\n",
       "  </tbody>\n",
       "</table>\n",
       "</div>"
      ],
      "text/plain": [
       "       Pot_max  Year  Month  Day  Period  Block  Price  Energy       Date  \\\n",
       "68781   397.80  2020     10   25       6      1   1.13  120.00 2020-10-25   \n",
       "68782   397.80  2020     10   25       6     12 180.30  277.80 2020-10-25   \n",
       "68783   397.80  2020     10   25       7      1   1.13  120.00 2020-10-25   \n",
       "68784   397.80  2020     10   25       7     12 180.30  277.80 2020-10-25   \n",
       "68785   397.80  2020     10   25       8      1   1.13  125.00 2020-10-25   \n",
       "68786   397.80  2020     10   25       8     12 180.30  272.80 2020-10-25   \n",
       "\n",
       "      Weekday  Energy_tot  \n",
       "68781  Sunday      120.00  \n",
       "68782  Sunday      397.80  \n",
       "68783  Sunday      120.00  \n",
       "68784  Sunday      397.80  \n",
       "68785  Sunday      125.00  \n",
       "68786  Sunday      397.80  "
      ]
     },
     "execution_count": 61,
     "metadata": {},
     "output_type": "execute_result"
    }
   ],
   "source": [
    "df_curve[(df_curve['Date']==days_25h[0])&(df_curve['Period'].isin([6,7,8]))]"
   ]
  },
  {
   "cell_type": "code",
   "execution_count": 62,
   "metadata": {
    "scrolled": true
   },
   "outputs": [
    {
     "data": {
      "text/html": [
       "<div>\n",
       "<style scoped>\n",
       "    .dataframe tbody tr th:only-of-type {\n",
       "        vertical-align: middle;\n",
       "    }\n",
       "\n",
       "    .dataframe tbody tr th {\n",
       "        vertical-align: top;\n",
       "    }\n",
       "\n",
       "    .dataframe thead th {\n",
       "        text-align: right;\n",
       "    }\n",
       "</style>\n",
       "<table border=\"1\" class=\"dataframe\">\n",
       "  <thead>\n",
       "    <tr style=\"text-align: right;\">\n",
       "      <th></th>\n",
       "      <th>Pot_max</th>\n",
       "      <th>Year</th>\n",
       "      <th>Month</th>\n",
       "      <th>Day</th>\n",
       "      <th>Period</th>\n",
       "      <th>Block</th>\n",
       "      <th>Price</th>\n",
       "      <th>Energy</th>\n",
       "      <th>Date</th>\n",
       "      <th>Weekday</th>\n",
       "      <th>Energy_tot</th>\n",
       "    </tr>\n",
       "  </thead>\n",
       "  <tbody>\n",
       "    <tr>\n",
       "      <th>27003</th>\n",
       "      <td>397.80</td>\n",
       "      <td>2020</td>\n",
       "      <td>3</td>\n",
       "      <td>29</td>\n",
       "      <td>6</td>\n",
       "      <td>1</td>\n",
       "      <td>1.13</td>\n",
       "      <td>120.00</td>\n",
       "      <td>2020-03-29</td>\n",
       "      <td>Sunday</td>\n",
       "      <td>120.00</td>\n",
       "    </tr>\n",
       "    <tr>\n",
       "      <th>27004</th>\n",
       "      <td>397.80</td>\n",
       "      <td>2020</td>\n",
       "      <td>3</td>\n",
       "      <td>29</td>\n",
       "      <td>6</td>\n",
       "      <td>12</td>\n",
       "      <td>180.30</td>\n",
       "      <td>277.80</td>\n",
       "      <td>2020-03-29</td>\n",
       "      <td>Sunday</td>\n",
       "      <td>397.80</td>\n",
       "    </tr>\n",
       "    <tr>\n",
       "      <th>27005</th>\n",
       "      <td>397.80</td>\n",
       "      <td>2020</td>\n",
       "      <td>3</td>\n",
       "      <td>29</td>\n",
       "      <td>7</td>\n",
       "      <td>1</td>\n",
       "      <td>1.13</td>\n",
       "      <td>120.00</td>\n",
       "      <td>2020-03-29</td>\n",
       "      <td>Sunday</td>\n",
       "      <td>120.00</td>\n",
       "    </tr>\n",
       "    <tr>\n",
       "      <th>27006</th>\n",
       "      <td>397.80</td>\n",
       "      <td>2020</td>\n",
       "      <td>3</td>\n",
       "      <td>29</td>\n",
       "      <td>7</td>\n",
       "      <td>12</td>\n",
       "      <td>180.30</td>\n",
       "      <td>277.80</td>\n",
       "      <td>2020-03-29</td>\n",
       "      <td>Sunday</td>\n",
       "      <td>397.80</td>\n",
       "    </tr>\n",
       "    <tr>\n",
       "      <th>27007</th>\n",
       "      <td>397.80</td>\n",
       "      <td>2020</td>\n",
       "      <td>3</td>\n",
       "      <td>29</td>\n",
       "      <td>8</td>\n",
       "      <td>1</td>\n",
       "      <td>1.13</td>\n",
       "      <td>125.00</td>\n",
       "      <td>2020-03-29</td>\n",
       "      <td>Sunday</td>\n",
       "      <td>125.00</td>\n",
       "    </tr>\n",
       "    <tr>\n",
       "      <th>27008</th>\n",
       "      <td>397.80</td>\n",
       "      <td>2020</td>\n",
       "      <td>3</td>\n",
       "      <td>29</td>\n",
       "      <td>8</td>\n",
       "      <td>12</td>\n",
       "      <td>180.30</td>\n",
       "      <td>272.80</td>\n",
       "      <td>2020-03-29</td>\n",
       "      <td>Sunday</td>\n",
       "      <td>397.80</td>\n",
       "    </tr>\n",
       "  </tbody>\n",
       "</table>\n",
       "</div>"
      ],
      "text/plain": [
       "       Pot_max  Year  Month  Day  Period  Block  Price  Energy       Date  \\\n",
       "27003   397.80  2020      3   29       6      1   1.13  120.00 2020-03-29   \n",
       "27004   397.80  2020      3   29       6     12 180.30  277.80 2020-03-29   \n",
       "27005   397.80  2020      3   29       7      1   1.13  120.00 2020-03-29   \n",
       "27006   397.80  2020      3   29       7     12 180.30  277.80 2020-03-29   \n",
       "27007   397.80  2020      3   29       8      1   1.13  125.00 2020-03-29   \n",
       "27008   397.80  2020      3   29       8     12 180.30  272.80 2020-03-29   \n",
       "\n",
       "      Weekday  Energy_tot  \n",
       "27003  Sunday      120.00  \n",
       "27004  Sunday      397.80  \n",
       "27005  Sunday      120.00  \n",
       "27006  Sunday      397.80  \n",
       "27007  Sunday      125.00  \n",
       "27008  Sunday      397.80  "
      ]
     },
     "execution_count": 62,
     "metadata": {},
     "output_type": "execute_result"
    }
   ],
   "source": [
    "df_curve[(df_curve['Date']==days_23h[0])&(df_curve['Period'].isin([6,7,8]))]"
   ]
  },
  {
   "cell_type": "code",
   "execution_count": null,
   "metadata": {},
   "outputs": [],
   "source": []
  },
  {
   "cell_type": "code",
   "execution_count": 63,
   "metadata": {},
   "outputs": [
    {
     "data": {
      "text/html": [
       "<div>\n",
       "<style scoped>\n",
       "    .dataframe tbody tr th:only-of-type {\n",
       "        vertical-align: middle;\n",
       "    }\n",
       "\n",
       "    .dataframe tbody tr th {\n",
       "        vertical-align: top;\n",
       "    }\n",
       "\n",
       "    .dataframe thead th {\n",
       "        text-align: right;\n",
       "    }\n",
       "</style>\n",
       "<table border=\"1\" class=\"dataframe\">\n",
       "  <thead>\n",
       "    <tr style=\"text-align: right;\">\n",
       "      <th></th>\n",
       "      <th>Pot_max</th>\n",
       "      <th>Year</th>\n",
       "      <th>Month</th>\n",
       "      <th>Day</th>\n",
       "      <th>Period</th>\n",
       "      <th>Block</th>\n",
       "      <th>Price</th>\n",
       "      <th>Energy</th>\n",
       "      <th>Date</th>\n",
       "      <th>Weekday</th>\n",
       "      <th>Energy_tot</th>\n",
       "    </tr>\n",
       "  </thead>\n",
       "  <tbody>\n",
       "    <tr>\n",
       "      <th>68787</th>\n",
       "      <td>397.80</td>\n",
       "      <td>2020</td>\n",
       "      <td>10</td>\n",
       "      <td>25</td>\n",
       "      <td>9</td>\n",
       "      <td>1</td>\n",
       "      <td>1.13</td>\n",
       "      <td>190.00</td>\n",
       "      <td>2020-10-25</td>\n",
       "      <td>Sunday</td>\n",
       "      <td>190.00</td>\n",
       "    </tr>\n",
       "    <tr>\n",
       "      <th>68788</th>\n",
       "      <td>397.80</td>\n",
       "      <td>2020</td>\n",
       "      <td>10</td>\n",
       "      <td>25</td>\n",
       "      <td>9</td>\n",
       "      <td>2</td>\n",
       "      <td>38.51</td>\n",
       "      <td>17.00</td>\n",
       "      <td>2020-10-25</td>\n",
       "      <td>Sunday</td>\n",
       "      <td>207.00</td>\n",
       "    </tr>\n",
       "    <tr>\n",
       "      <th>68789</th>\n",
       "      <td>397.80</td>\n",
       "      <td>2020</td>\n",
       "      <td>10</td>\n",
       "      <td>25</td>\n",
       "      <td>9</td>\n",
       "      <td>3</td>\n",
       "      <td>39.09</td>\n",
       "      <td>17.00</td>\n",
       "      <td>2020-10-25</td>\n",
       "      <td>Sunday</td>\n",
       "      <td>224.00</td>\n",
       "    </tr>\n",
       "    <tr>\n",
       "      <th>68790</th>\n",
       "      <td>397.80</td>\n",
       "      <td>2020</td>\n",
       "      <td>10</td>\n",
       "      <td>25</td>\n",
       "      <td>9</td>\n",
       "      <td>4</td>\n",
       "      <td>39.67</td>\n",
       "      <td>17.00</td>\n",
       "      <td>2020-10-25</td>\n",
       "      <td>Sunday</td>\n",
       "      <td>241.00</td>\n",
       "    </tr>\n",
       "    <tr>\n",
       "      <th>68791</th>\n",
       "      <td>397.80</td>\n",
       "      <td>2020</td>\n",
       "      <td>10</td>\n",
       "      <td>25</td>\n",
       "      <td>9</td>\n",
       "      <td>5</td>\n",
       "      <td>40.26</td>\n",
       "      <td>4.00</td>\n",
       "      <td>2020-10-25</td>\n",
       "      <td>Sunday</td>\n",
       "      <td>245.00</td>\n",
       "    </tr>\n",
       "    <tr>\n",
       "      <th>68792</th>\n",
       "      <td>397.80</td>\n",
       "      <td>2020</td>\n",
       "      <td>10</td>\n",
       "      <td>25</td>\n",
       "      <td>9</td>\n",
       "      <td>12</td>\n",
       "      <td>180.30</td>\n",
       "      <td>152.80</td>\n",
       "      <td>2020-10-25</td>\n",
       "      <td>Sunday</td>\n",
       "      <td>397.80</td>\n",
       "    </tr>\n",
       "    <tr>\n",
       "      <th>68793</th>\n",
       "      <td>397.80</td>\n",
       "      <td>2020</td>\n",
       "      <td>10</td>\n",
       "      <td>25</td>\n",
       "      <td>10</td>\n",
       "      <td>1</td>\n",
       "      <td>1.13</td>\n",
       "      <td>190.00</td>\n",
       "      <td>2020-10-25</td>\n",
       "      <td>Sunday</td>\n",
       "      <td>190.00</td>\n",
       "    </tr>\n",
       "    <tr>\n",
       "      <th>68794</th>\n",
       "      <td>397.80</td>\n",
       "      <td>2020</td>\n",
       "      <td>10</td>\n",
       "      <td>25</td>\n",
       "      <td>10</td>\n",
       "      <td>2</td>\n",
       "      <td>38.51</td>\n",
       "      <td>17.00</td>\n",
       "      <td>2020-10-25</td>\n",
       "      <td>Sunday</td>\n",
       "      <td>207.00</td>\n",
       "    </tr>\n",
       "    <tr>\n",
       "      <th>68795</th>\n",
       "      <td>397.80</td>\n",
       "      <td>2020</td>\n",
       "      <td>10</td>\n",
       "      <td>25</td>\n",
       "      <td>10</td>\n",
       "      <td>3</td>\n",
       "      <td>39.09</td>\n",
       "      <td>17.00</td>\n",
       "      <td>2020-10-25</td>\n",
       "      <td>Sunday</td>\n",
       "      <td>224.00</td>\n",
       "    </tr>\n",
       "    <tr>\n",
       "      <th>68796</th>\n",
       "      <td>397.80</td>\n",
       "      <td>2020</td>\n",
       "      <td>10</td>\n",
       "      <td>25</td>\n",
       "      <td>10</td>\n",
       "      <td>4</td>\n",
       "      <td>39.67</td>\n",
       "      <td>17.00</td>\n",
       "      <td>2020-10-25</td>\n",
       "      <td>Sunday</td>\n",
       "      <td>241.00</td>\n",
       "    </tr>\n",
       "    <tr>\n",
       "      <th>68797</th>\n",
       "      <td>397.80</td>\n",
       "      <td>2020</td>\n",
       "      <td>10</td>\n",
       "      <td>25</td>\n",
       "      <td>10</td>\n",
       "      <td>5</td>\n",
       "      <td>40.26</td>\n",
       "      <td>17.00</td>\n",
       "      <td>2020-10-25</td>\n",
       "      <td>Sunday</td>\n",
       "      <td>258.00</td>\n",
       "    </tr>\n",
       "    <tr>\n",
       "      <th>68798</th>\n",
       "      <td>397.80</td>\n",
       "      <td>2020</td>\n",
       "      <td>10</td>\n",
       "      <td>25</td>\n",
       "      <td>10</td>\n",
       "      <td>6</td>\n",
       "      <td>41.64</td>\n",
       "      <td>17.00</td>\n",
       "      <td>2020-10-25</td>\n",
       "      <td>Sunday</td>\n",
       "      <td>275.00</td>\n",
       "    </tr>\n",
       "    <tr>\n",
       "      <th>68799</th>\n",
       "      <td>397.80</td>\n",
       "      <td>2020</td>\n",
       "      <td>10</td>\n",
       "      <td>25</td>\n",
       "      <td>10</td>\n",
       "      <td>7</td>\n",
       "      <td>42.22</td>\n",
       "      <td>17.00</td>\n",
       "      <td>2020-10-25</td>\n",
       "      <td>Sunday</td>\n",
       "      <td>292.00</td>\n",
       "    </tr>\n",
       "    <tr>\n",
       "      <th>68800</th>\n",
       "      <td>397.80</td>\n",
       "      <td>2020</td>\n",
       "      <td>10</td>\n",
       "      <td>25</td>\n",
       "      <td>10</td>\n",
       "      <td>8</td>\n",
       "      <td>42.81</td>\n",
       "      <td>17.00</td>\n",
       "      <td>2020-10-25</td>\n",
       "      <td>Sunday</td>\n",
       "      <td>309.00</td>\n",
       "    </tr>\n",
       "    <tr>\n",
       "      <th>68801</th>\n",
       "      <td>397.80</td>\n",
       "      <td>2020</td>\n",
       "      <td>10</td>\n",
       "      <td>25</td>\n",
       "      <td>10</td>\n",
       "      <td>9</td>\n",
       "      <td>43.89</td>\n",
       "      <td>17.00</td>\n",
       "      <td>2020-10-25</td>\n",
       "      <td>Sunday</td>\n",
       "      <td>326.00</td>\n",
       "    </tr>\n",
       "    <tr>\n",
       "      <th>68802</th>\n",
       "      <td>397.80</td>\n",
       "      <td>2020</td>\n",
       "      <td>10</td>\n",
       "      <td>25</td>\n",
       "      <td>10</td>\n",
       "      <td>10</td>\n",
       "      <td>44.97</td>\n",
       "      <td>17.00</td>\n",
       "      <td>2020-10-25</td>\n",
       "      <td>Sunday</td>\n",
       "      <td>343.00</td>\n",
       "    </tr>\n",
       "    <tr>\n",
       "      <th>68803</th>\n",
       "      <td>397.80</td>\n",
       "      <td>2020</td>\n",
       "      <td>10</td>\n",
       "      <td>25</td>\n",
       "      <td>10</td>\n",
       "      <td>11</td>\n",
       "      <td>46.56</td>\n",
       "      <td>17.00</td>\n",
       "      <td>2020-10-25</td>\n",
       "      <td>Sunday</td>\n",
       "      <td>360.00</td>\n",
       "    </tr>\n",
       "    <tr>\n",
       "      <th>68804</th>\n",
       "      <td>397.80</td>\n",
       "      <td>2020</td>\n",
       "      <td>10</td>\n",
       "      <td>25</td>\n",
       "      <td>10</td>\n",
       "      <td>12</td>\n",
       "      <td>180.30</td>\n",
       "      <td>37.80</td>\n",
       "      <td>2020-10-25</td>\n",
       "      <td>Sunday</td>\n",
       "      <td>397.80</td>\n",
       "    </tr>\n",
       "  </tbody>\n",
       "</table>\n",
       "</div>"
      ],
      "text/plain": [
       "       Pot_max  Year  Month  Day  Period  Block  Price  Energy       Date  \\\n",
       "68787   397.80  2020     10   25       9      1   1.13  190.00 2020-10-25   \n",
       "68788   397.80  2020     10   25       9      2  38.51   17.00 2020-10-25   \n",
       "68789   397.80  2020     10   25       9      3  39.09   17.00 2020-10-25   \n",
       "68790   397.80  2020     10   25       9      4  39.67   17.00 2020-10-25   \n",
       "68791   397.80  2020     10   25       9      5  40.26    4.00 2020-10-25   \n",
       "68792   397.80  2020     10   25       9     12 180.30  152.80 2020-10-25   \n",
       "68793   397.80  2020     10   25      10      1   1.13  190.00 2020-10-25   \n",
       "68794   397.80  2020     10   25      10      2  38.51   17.00 2020-10-25   \n",
       "68795   397.80  2020     10   25      10      3  39.09   17.00 2020-10-25   \n",
       "68796   397.80  2020     10   25      10      4  39.67   17.00 2020-10-25   \n",
       "68797   397.80  2020     10   25      10      5  40.26   17.00 2020-10-25   \n",
       "68798   397.80  2020     10   25      10      6  41.64   17.00 2020-10-25   \n",
       "68799   397.80  2020     10   25      10      7  42.22   17.00 2020-10-25   \n",
       "68800   397.80  2020     10   25      10      8  42.81   17.00 2020-10-25   \n",
       "68801   397.80  2020     10   25      10      9  43.89   17.00 2020-10-25   \n",
       "68802   397.80  2020     10   25      10     10  44.97   17.00 2020-10-25   \n",
       "68803   397.80  2020     10   25      10     11  46.56   17.00 2020-10-25   \n",
       "68804   397.80  2020     10   25      10     12 180.30   37.80 2020-10-25   \n",
       "\n",
       "      Weekday  Energy_tot  \n",
       "68787  Sunday      190.00  \n",
       "68788  Sunday      207.00  \n",
       "68789  Sunday      224.00  \n",
       "68790  Sunday      241.00  \n",
       "68791  Sunday      245.00  \n",
       "68792  Sunday      397.80  \n",
       "68793  Sunday      190.00  \n",
       "68794  Sunday      207.00  \n",
       "68795  Sunday      224.00  \n",
       "68796  Sunday      241.00  \n",
       "68797  Sunday      258.00  \n",
       "68798  Sunday      275.00  \n",
       "68799  Sunday      292.00  \n",
       "68800  Sunday      309.00  \n",
       "68801  Sunday      326.00  \n",
       "68802  Sunday      343.00  \n",
       "68803  Sunday      360.00  \n",
       "68804  Sunday      397.80  "
      ]
     },
     "execution_count": 63,
     "metadata": {},
     "output_type": "execute_result"
    }
   ],
   "source": [
    "df_curve[(df_curve['Date']==days_25h[0])&(df_curve['Period'].isin([9,10]))]"
   ]
  },
  {
   "cell_type": "code",
   "execution_count": 64,
   "metadata": {
    "scrolled": true
   },
   "outputs": [
    {
     "data": {
      "text/html": [
       "<div>\n",
       "<style scoped>\n",
       "    .dataframe tbody tr th:only-of-type {\n",
       "        vertical-align: middle;\n",
       "    }\n",
       "\n",
       "    .dataframe tbody tr th {\n",
       "        vertical-align: top;\n",
       "    }\n",
       "\n",
       "    .dataframe thead th {\n",
       "        text-align: right;\n",
       "    }\n",
       "</style>\n",
       "<table border=\"1\" class=\"dataframe\">\n",
       "  <thead>\n",
       "    <tr style=\"text-align: right;\">\n",
       "      <th></th>\n",
       "      <th>Pot_max</th>\n",
       "      <th>Year</th>\n",
       "      <th>Month</th>\n",
       "      <th>Day</th>\n",
       "      <th>Period</th>\n",
       "      <th>Block</th>\n",
       "      <th>Price</th>\n",
       "      <th>Energy</th>\n",
       "      <th>Date</th>\n",
       "      <th>Weekday</th>\n",
       "      <th>Energy_tot</th>\n",
       "    </tr>\n",
       "  </thead>\n",
       "  <tbody>\n",
       "    <tr>\n",
       "      <th>27009</th>\n",
       "      <td>397.80</td>\n",
       "      <td>2020</td>\n",
       "      <td>3</td>\n",
       "      <td>29</td>\n",
       "      <td>9</td>\n",
       "      <td>1</td>\n",
       "      <td>1.13</td>\n",
       "      <td>190.00</td>\n",
       "      <td>2020-03-29</td>\n",
       "      <td>Sunday</td>\n",
       "      <td>190.00</td>\n",
       "    </tr>\n",
       "    <tr>\n",
       "      <th>27010</th>\n",
       "      <td>397.80</td>\n",
       "      <td>2020</td>\n",
       "      <td>3</td>\n",
       "      <td>29</td>\n",
       "      <td>9</td>\n",
       "      <td>2</td>\n",
       "      <td>41.47</td>\n",
       "      <td>17.00</td>\n",
       "      <td>2020-03-29</td>\n",
       "      <td>Sunday</td>\n",
       "      <td>207.00</td>\n",
       "    </tr>\n",
       "    <tr>\n",
       "      <th>27011</th>\n",
       "      <td>397.80</td>\n",
       "      <td>2020</td>\n",
       "      <td>3</td>\n",
       "      <td>29</td>\n",
       "      <td>9</td>\n",
       "      <td>3</td>\n",
       "      <td>42.49</td>\n",
       "      <td>17.00</td>\n",
       "      <td>2020-03-29</td>\n",
       "      <td>Sunday</td>\n",
       "      <td>224.00</td>\n",
       "    </tr>\n",
       "    <tr>\n",
       "      <th>27012</th>\n",
       "      <td>397.80</td>\n",
       "      <td>2020</td>\n",
       "      <td>3</td>\n",
       "      <td>29</td>\n",
       "      <td>9</td>\n",
       "      <td>4</td>\n",
       "      <td>43.52</td>\n",
       "      <td>17.00</td>\n",
       "      <td>2020-03-29</td>\n",
       "      <td>Sunday</td>\n",
       "      <td>241.00</td>\n",
       "    </tr>\n",
       "    <tr>\n",
       "      <th>27013</th>\n",
       "      <td>397.80</td>\n",
       "      <td>2020</td>\n",
       "      <td>3</td>\n",
       "      <td>29</td>\n",
       "      <td>9</td>\n",
       "      <td>5</td>\n",
       "      <td>44.55</td>\n",
       "      <td>4.00</td>\n",
       "      <td>2020-03-29</td>\n",
       "      <td>Sunday</td>\n",
       "      <td>245.00</td>\n",
       "    </tr>\n",
       "    <tr>\n",
       "      <th>27014</th>\n",
       "      <td>397.80</td>\n",
       "      <td>2020</td>\n",
       "      <td>3</td>\n",
       "      <td>29</td>\n",
       "      <td>9</td>\n",
       "      <td>12</td>\n",
       "      <td>180.30</td>\n",
       "      <td>152.80</td>\n",
       "      <td>2020-03-29</td>\n",
       "      <td>Sunday</td>\n",
       "      <td>397.80</td>\n",
       "    </tr>\n",
       "    <tr>\n",
       "      <th>27015</th>\n",
       "      <td>397.80</td>\n",
       "      <td>2020</td>\n",
       "      <td>3</td>\n",
       "      <td>29</td>\n",
       "      <td>10</td>\n",
       "      <td>1</td>\n",
       "      <td>1.13</td>\n",
       "      <td>190.00</td>\n",
       "      <td>2020-03-29</td>\n",
       "      <td>Sunday</td>\n",
       "      <td>190.00</td>\n",
       "    </tr>\n",
       "    <tr>\n",
       "      <th>27016</th>\n",
       "      <td>397.80</td>\n",
       "      <td>2020</td>\n",
       "      <td>3</td>\n",
       "      <td>29</td>\n",
       "      <td>10</td>\n",
       "      <td>2</td>\n",
       "      <td>41.47</td>\n",
       "      <td>17.00</td>\n",
       "      <td>2020-03-29</td>\n",
       "      <td>Sunday</td>\n",
       "      <td>207.00</td>\n",
       "    </tr>\n",
       "    <tr>\n",
       "      <th>27017</th>\n",
       "      <td>397.80</td>\n",
       "      <td>2020</td>\n",
       "      <td>3</td>\n",
       "      <td>29</td>\n",
       "      <td>10</td>\n",
       "      <td>3</td>\n",
       "      <td>42.49</td>\n",
       "      <td>17.00</td>\n",
       "      <td>2020-03-29</td>\n",
       "      <td>Sunday</td>\n",
       "      <td>224.00</td>\n",
       "    </tr>\n",
       "    <tr>\n",
       "      <th>27018</th>\n",
       "      <td>397.80</td>\n",
       "      <td>2020</td>\n",
       "      <td>3</td>\n",
       "      <td>29</td>\n",
       "      <td>10</td>\n",
       "      <td>4</td>\n",
       "      <td>43.52</td>\n",
       "      <td>17.00</td>\n",
       "      <td>2020-03-29</td>\n",
       "      <td>Sunday</td>\n",
       "      <td>241.00</td>\n",
       "    </tr>\n",
       "    <tr>\n",
       "      <th>27019</th>\n",
       "      <td>397.80</td>\n",
       "      <td>2020</td>\n",
       "      <td>3</td>\n",
       "      <td>29</td>\n",
       "      <td>10</td>\n",
       "      <td>5</td>\n",
       "      <td>44.55</td>\n",
       "      <td>17.00</td>\n",
       "      <td>2020-03-29</td>\n",
       "      <td>Sunday</td>\n",
       "      <td>258.00</td>\n",
       "    </tr>\n",
       "    <tr>\n",
       "      <th>27020</th>\n",
       "      <td>397.80</td>\n",
       "      <td>2020</td>\n",
       "      <td>3</td>\n",
       "      <td>29</td>\n",
       "      <td>10</td>\n",
       "      <td>6</td>\n",
       "      <td>45.57</td>\n",
       "      <td>17.00</td>\n",
       "      <td>2020-03-29</td>\n",
       "      <td>Sunday</td>\n",
       "      <td>275.00</td>\n",
       "    </tr>\n",
       "    <tr>\n",
       "      <th>27021</th>\n",
       "      <td>397.80</td>\n",
       "      <td>2020</td>\n",
       "      <td>3</td>\n",
       "      <td>29</td>\n",
       "      <td>10</td>\n",
       "      <td>7</td>\n",
       "      <td>46.60</td>\n",
       "      <td>17.00</td>\n",
       "      <td>2020-03-29</td>\n",
       "      <td>Sunday</td>\n",
       "      <td>292.00</td>\n",
       "    </tr>\n",
       "    <tr>\n",
       "      <th>27022</th>\n",
       "      <td>397.80</td>\n",
       "      <td>2020</td>\n",
       "      <td>3</td>\n",
       "      <td>29</td>\n",
       "      <td>10</td>\n",
       "      <td>8</td>\n",
       "      <td>47.62</td>\n",
       "      <td>17.00</td>\n",
       "      <td>2020-03-29</td>\n",
       "      <td>Sunday</td>\n",
       "      <td>309.00</td>\n",
       "    </tr>\n",
       "    <tr>\n",
       "      <th>27023</th>\n",
       "      <td>397.80</td>\n",
       "      <td>2020</td>\n",
       "      <td>3</td>\n",
       "      <td>29</td>\n",
       "      <td>10</td>\n",
       "      <td>9</td>\n",
       "      <td>48.65</td>\n",
       "      <td>17.00</td>\n",
       "      <td>2020-03-29</td>\n",
       "      <td>Sunday</td>\n",
       "      <td>326.00</td>\n",
       "    </tr>\n",
       "    <tr>\n",
       "      <th>27024</th>\n",
       "      <td>397.80</td>\n",
       "      <td>2020</td>\n",
       "      <td>3</td>\n",
       "      <td>29</td>\n",
       "      <td>10</td>\n",
       "      <td>10</td>\n",
       "      <td>49.67</td>\n",
       "      <td>17.00</td>\n",
       "      <td>2020-03-29</td>\n",
       "      <td>Sunday</td>\n",
       "      <td>343.00</td>\n",
       "    </tr>\n",
       "    <tr>\n",
       "      <th>27025</th>\n",
       "      <td>397.80</td>\n",
       "      <td>2020</td>\n",
       "      <td>3</td>\n",
       "      <td>29</td>\n",
       "      <td>10</td>\n",
       "      <td>11</td>\n",
       "      <td>50.70</td>\n",
       "      <td>17.00</td>\n",
       "      <td>2020-03-29</td>\n",
       "      <td>Sunday</td>\n",
       "      <td>360.00</td>\n",
       "    </tr>\n",
       "    <tr>\n",
       "      <th>27026</th>\n",
       "      <td>397.80</td>\n",
       "      <td>2020</td>\n",
       "      <td>3</td>\n",
       "      <td>29</td>\n",
       "      <td>10</td>\n",
       "      <td>12</td>\n",
       "      <td>180.30</td>\n",
       "      <td>37.80</td>\n",
       "      <td>2020-03-29</td>\n",
       "      <td>Sunday</td>\n",
       "      <td>397.80</td>\n",
       "    </tr>\n",
       "  </tbody>\n",
       "</table>\n",
       "</div>"
      ],
      "text/plain": [
       "       Pot_max  Year  Month  Day  Period  Block  Price  Energy       Date  \\\n",
       "27009   397.80  2020      3   29       9      1   1.13  190.00 2020-03-29   \n",
       "27010   397.80  2020      3   29       9      2  41.47   17.00 2020-03-29   \n",
       "27011   397.80  2020      3   29       9      3  42.49   17.00 2020-03-29   \n",
       "27012   397.80  2020      3   29       9      4  43.52   17.00 2020-03-29   \n",
       "27013   397.80  2020      3   29       9      5  44.55    4.00 2020-03-29   \n",
       "27014   397.80  2020      3   29       9     12 180.30  152.80 2020-03-29   \n",
       "27015   397.80  2020      3   29      10      1   1.13  190.00 2020-03-29   \n",
       "27016   397.80  2020      3   29      10      2  41.47   17.00 2020-03-29   \n",
       "27017   397.80  2020      3   29      10      3  42.49   17.00 2020-03-29   \n",
       "27018   397.80  2020      3   29      10      4  43.52   17.00 2020-03-29   \n",
       "27019   397.80  2020      3   29      10      5  44.55   17.00 2020-03-29   \n",
       "27020   397.80  2020      3   29      10      6  45.57   17.00 2020-03-29   \n",
       "27021   397.80  2020      3   29      10      7  46.60   17.00 2020-03-29   \n",
       "27022   397.80  2020      3   29      10      8  47.62   17.00 2020-03-29   \n",
       "27023   397.80  2020      3   29      10      9  48.65   17.00 2020-03-29   \n",
       "27024   397.80  2020      3   29      10     10  49.67   17.00 2020-03-29   \n",
       "27025   397.80  2020      3   29      10     11  50.70   17.00 2020-03-29   \n",
       "27026   397.80  2020      3   29      10     12 180.30   37.80 2020-03-29   \n",
       "\n",
       "      Weekday  Energy_tot  \n",
       "27009  Sunday      190.00  \n",
       "27010  Sunday      207.00  \n",
       "27011  Sunday      224.00  \n",
       "27012  Sunday      241.00  \n",
       "27013  Sunday      245.00  \n",
       "27014  Sunday      397.80  \n",
       "27015  Sunday      190.00  \n",
       "27016  Sunday      207.00  \n",
       "27017  Sunday      224.00  \n",
       "27018  Sunday      241.00  \n",
       "27019  Sunday      258.00  \n",
       "27020  Sunday      275.00  \n",
       "27021  Sunday      292.00  \n",
       "27022  Sunday      309.00  \n",
       "27023  Sunday      326.00  \n",
       "27024  Sunday      343.00  \n",
       "27025  Sunday      360.00  \n",
       "27026  Sunday      397.80  "
      ]
     },
     "execution_count": 64,
     "metadata": {},
     "output_type": "execute_result"
    }
   ],
   "source": [
    "df_curve[(df_curve['Date']==days_23h[0])&(df_curve['Period'].isin([9,10]))]"
   ]
  },
  {
   "cell_type": "code",
   "execution_count": null,
   "metadata": {},
   "outputs": [],
   "source": []
  },
  {
   "cell_type": "markdown",
   "metadata": {},
   "source": [
    "### 2.3. PLOTTING DATA INFORMATION"
   ]
  },
  {
   "cell_type": "code",
   "execution_count": 65,
   "metadata": {
    "scrolled": true
   },
   "outputs": [
    {
     "data": {
      "text/plain": [
       "[<matplotlib.lines.Line2D at 0x7f1869b30250>]"
      ]
     },
     "execution_count": 65,
     "metadata": {},
     "output_type": "execute_result"
    },
    {
     "data": {
      "image/png": "[encoded data removed]",
      "text/plain": [
       "<Figure size 432x288 with 1 Axes>"
      ]
     },
     "metadata": {
      "needs_background": "light"
     },
     "output_type": "display_data"
    }
   ],
   "source": [
    "plot_bid_curve(df_curve, '2020-10-31', 24)"
   ]
  },
  {
   "cell_type": "code",
   "execution_count": 66,
   "metadata": {},
   "outputs": [
    {
     "data": {
      "text/plain": [
       "[<matplotlib.lines.Line2D at 0x7f1869015b20>]"
      ]
     },
     "execution_count": 66,
     "metadata": {},
     "output_type": "execute_result"
    },
    {
     "data": {
      "image/png": "[encoded data removed]",
      "text/plain": [
       "<Figure size 432x288 with 1 Axes>"
      ]
     },
     "metadata": {
      "needs_background": "light"
     },
     "output_type": "display_data"
    }
   ],
   "source": [
    "plot_bid_curve(df_curve,'2020-10-31', 1)"
   ]
  },
  {
   "cell_type": "code",
   "execution_count": 67,
   "metadata": {
    "scrolled": false
   },
   "outputs": [
    {
     "data": {
      "text/plain": [
       "[<matplotlib.lines.Line2D at 0x7f1868f82880>]"
      ]
     },
     "execution_count": 67,
     "metadata": {},
     "output_type": "execute_result"
    },
    {
     "data": {
      "image/png": "[encoded data removed]",
      "text/plain": [
       "<Figure size 432x288 with 1 Axes>"
      ]
     },
     "metadata": {
      "needs_background": "light"
     },
     "output_type": "display_data"
    }
   ],
   "source": [
    "plot_bid_curve(df_curve,'2020-8-25', 1)"
   ]
  },
  {
   "cell_type": "code",
   "execution_count": 68,
   "metadata": {
    "scrolled": true
   },
   "outputs": [
    {
     "data": {
      "text/plain": [
       "[<matplotlib.lines.Line2D at 0x7f1868f14af0>]"
      ]
     },
     "execution_count": 68,
     "metadata": {},
     "output_type": "execute_result"
    },
    {
     "data": {
      "image/png": "[encoded data removed]",
      "text/plain": [
       "<Figure size 432x288 with 1 Axes>"
      ]
     },
     "metadata": {
      "needs_background": "light"
     },
     "output_type": "display_data"
    }
   ],
   "source": [
    "plot_bid_curve(df_curve,'2020-8-25',4)"
   ]
  },
  {
   "cell_type": "code",
   "execution_count": 69,
   "metadata": {
    "scrolled": true
   },
   "outputs": [
    {
     "data": {
      "text/html": [
       "<div>\n",
       "<style scoped>\n",
       "    .dataframe tbody tr th:only-of-type {\n",
       "        vertical-align: middle;\n",
       "    }\n",
       "\n",
       "    .dataframe tbody tr th {\n",
       "        vertical-align: top;\n",
       "    }\n",
       "\n",
       "    .dataframe thead th {\n",
       "        text-align: right;\n",
       "    }\n",
       "</style>\n",
       "<table border=\"1\" class=\"dataframe\">\n",
       "  <thead>\n",
       "    <tr style=\"text-align: right;\">\n",
       "      <th></th>\n",
       "      <th>Pot_max</th>\n",
       "      <th>Year</th>\n",
       "      <th>Month</th>\n",
       "      <th>Day</th>\n",
       "      <th>Period</th>\n",
       "      <th>Block</th>\n",
       "      <th>Price</th>\n",
       "      <th>Energy</th>\n",
       "      <th>Date</th>\n",
       "      <th>Weekday</th>\n",
       "      <th>Energy_tot</th>\n",
       "    </tr>\n",
       "  </thead>\n",
       "  <tbody>\n",
       "  </tbody>\n",
       "</table>\n",
       "</div>"
      ],
      "text/plain": [
       "Empty DataFrame\n",
       "Columns: [Pot_max, Year, Month, Day, Period, Block, Price, Energy, Date, Weekday, Energy_tot]\n",
       "Index: []"
      ]
     },
     "execution_count": 69,
     "metadata": {},
     "output_type": "execute_result"
    }
   ],
   "source": [
    "df_curve[(df_curve['Date'] == '2019-11-9') & (df_curve['Period'] == 4)]"
   ]
  },
  {
   "cell_type": "code",
   "execution_count": 70,
   "metadata": {},
   "outputs": [
    {
     "data": {
      "image/png": "[encoded data removed]",
      "text/plain": [
       "<Figure size 432x288 with 1 Axes>"
      ]
     },
     "metadata": {
      "needs_background": "light"
     },
     "output_type": "display_data"
    }
   ],
   "source": [
    "for block in range(1, df_curve['Block'].max()+1):\n",
    "    plt.scatter(df_curve[df_curve['Block']==block]['Date'],df_curve[df_curve['Block']==block]['Price'])"
   ]
  },
  {
   "cell_type": "code",
   "execution_count": 71,
   "metadata": {},
   "outputs": [
    {
     "data": {
      "image/png": "[encoded data removed]",
      "text/plain": [
       "<Figure size 432x288 with 1 Axes>"
      ]
     },
     "metadata": {
      "needs_background": "light"
     },
     "output_type": "display_data"
    }
   ],
   "source": [
    "for block in range(2, df_curve['Block'].max()):\n",
    "    plt.scatter(df_curve[df_curve['Block']==block]['Date'],df_curve[df_curve['Block']==block]['Price'])"
   ]
  },
  {
   "cell_type": "code",
   "execution_count": 72,
   "metadata": {},
   "outputs": [
    {
     "data": {
      "image/png": "[encoded data removed]",
      "text/plain": [
       "<Figure size 432x288 with 1 Axes>"
      ]
     },
     "metadata": {
      "needs_background": "light"
     },
     "output_type": "display_data"
    }
   ],
   "source": [
    "for block in range(1, df_curve['Block'].max()+1):\n",
    "    plt.scatter(df_curve[df_curve['Block']==block]['Date'],df_curve[df_curve['Block']==block]['Energy_tot'])"
   ]
  },
  {
   "cell_type": "code",
   "execution_count": 73,
   "metadata": {},
   "outputs": [
    {
     "data": {
      "image/png": "[encoded data removed]",
      "text/plain": [
       "<Figure size 432x288 with 1 Axes>"
      ]
     },
     "metadata": {
      "needs_background": "light"
     },
     "output_type": "display_data"
    }
   ],
   "source": [
    "for block in range(2, df_curve['Block'].max()):\n",
    "    plt.scatter(df_curve[df_curve['Block']==block]['Date'],df_curve[df_curve['Block']==block]['Energy_tot'])"
   ]
  },
  {
   "cell_type": "code",
   "execution_count": null,
   "metadata": {},
   "outputs": [],
   "source": []
  },
  {
   "cell_type": "code",
   "execution_count": 74,
   "metadata": {},
   "outputs": [
    {
     "data": {
      "image/png": "[encoded data removed]",
      "text/plain": [
       "<Figure size 432x288 with 1 Axes>"
      ]
     },
     "metadata": {
      "needs_background": "light"
     },
     "output_type": "display_data"
    }
   ],
   "source": [
    "for block in range(2, 6):\n",
    "    plt.scatter(df_curve[df_curve['Block']==block]['Date'],df_curve[df_curve['Block']==block]['Energy_tot'])"
   ]
  },
  {
   "cell_type": "code",
   "execution_count": null,
   "metadata": {},
   "outputs": [],
   "source": []
  },
  {
   "cell_type": "markdown",
   "metadata": {},
   "source": [
    "## 3. DATA WRANGLING"
   ]
  },
  {
   "cell_type": "markdown",
   "metadata": {},
   "source": [
    "### 3.1. CREATING A NEW DATAFRAME CONVERTING ALL DAYS INTO 24h-DAYS\n",
    "\n",
    "First of all a new dataframe is created considering that all days have 24h. In order to do it, it is deleted..."
   ]
  },
  {
   "cell_type": "code",
   "execution_count": 75,
   "metadata": {},
   "outputs": [],
   "source": [
    "#New dataframe is created considering 24h for all days\n",
    "df_curve_24h = df_curve.copy()"
   ]
  },
  {
   "cell_type": "code",
   "execution_count": 76,
   "metadata": {},
   "outputs": [],
   "source": [
    "#Funtions needed for renaming periods in 23h-days and 25h-days.\n",
    "\n",
    "def change_25h_to24h(x):\n",
    "    if x >= 4:\n",
    "        x -= 1\n",
    "    return x\n",
    "\n",
    "def change_23h_to24h(x):\n",
    "    if x >= 2:\n",
    "        x += 1\n",
    "    return x"
   ]
  },
  {
   "cell_type": "code",
   "execution_count": 77,
   "metadata": {},
   "outputs": [],
   "source": [
    "#Transforming 25h-day into 24h-day.\n",
    "\n",
    "for date_25h in days_25h:\n",
    "    #dataframe only with 25h-day data\n",
    "    df_curve_day25h = df_curve_24h[df_curve_24h['Date']==date_25h]\n",
    "    #Deleting period 3 from 25h-days.\n",
    "    df_curve_day25h = df_curve_day25h.drop(df_curve_day25h.loc[df_curve_day25h['Period']==3].index)\n",
    "    #Renaming periods from 4 to 25 to 3 to 24\n",
    "    df_curve_day25h['Period'] = df_curve_day25h['Period'].apply(change_25h_to24h)\n",
    "    df_curve_24h = df_curve_24h.drop(df_curve_24h[df_curve_24h['Date']==date_25h].index)\n",
    "    df_curve_24h = pd.concat([df_curve_24h,df_curve_day25h])"
   ]
  },
  {
   "cell_type": "code",
   "execution_count": 78,
   "metadata": {
    "scrolled": true
   },
   "outputs": [
    {
     "name": "stderr",
     "output_type": "stream",
     "text": [
      "<ipython-input-78-377225477582>:6: SettingWithCopyWarning: \n",
      "A value is trying to be set on a copy of a slice from a DataFrame.\n",
      "Try using .loc[row_indexer,col_indexer] = value instead\n",
      "\n",
      "See the caveats in the documentation: https://pandas.pydata.org/pandas-docs/stable/user_guide/indexing.html#returning-a-view-versus-a-copy\n",
      "  df_curve_day23h['Period'] = df_curve_day23h['Period'].apply(change_23h_to24h)\n",
      "<ipython-input-78-377225477582>:9: SettingWithCopyWarning: \n",
      "A value is trying to be set on a copy of a slice from a DataFrame.\n",
      "Try using .loc[row_indexer,col_indexer] = value instead\n",
      "\n",
      "See the caveats in the documentation: https://pandas.pydata.org/pandas-docs/stable/user_guide/indexing.html#returning-a-view-versus-a-copy\n",
      "  df_curve_day23h_period1['Period'] = df_curve_day23h_period1['Period'].apply(lambda x: x+1)\n"
     ]
    }
   ],
   "source": [
    "#Transforming 23h-day into 24h-day.\n",
    "\n",
    "for date_23h in days_23h:\n",
    "    df_curve_day23h = df_curve_24h[df_curve_24h['Date']==date_23h]\n",
    "    #Renaming periods from 2 to 23 to 3 to 24\n",
    "    df_curve_day23h['Period'] = df_curve_day23h['Period'].apply(change_23h_to24h)\n",
    "    #Copying period 1 as period 2 and renaming it\n",
    "    df_curve_day23h_period1 = df_curve_day23h[(df_curve_day23h['Date']==date_23h)&(df_curve_day23h['Period']==1)]\n",
    "    df_curve_day23h_period1['Period'] = df_curve_day23h_period1['Period'].apply(lambda x: x+1)\n",
    "    df_curve_day23h = df_curve_day23h.append(df_curve_day23h_period1, ignore_index=True)\n",
    "    df_curve_24h = df_curve_24h.drop(df_curve_24h[df_curve_24h['Date']==date_23h].index)\n",
    "    df_curve_24h = pd.concat([df_curve_24h,df_curve_day23h])"
   ]
  },
  {
   "cell_type": "code",
   "execution_count": null,
   "metadata": {},
   "outputs": [],
   "source": []
  },
  {
   "cell_type": "code",
   "execution_count": 79,
   "metadata": {
    "scrolled": true
   },
   "outputs": [
    {
     "data": {
      "text/html": [
       "<div>\n",
       "<style scoped>\n",
       "    .dataframe tbody tr th:only-of-type {\n",
       "        vertical-align: middle;\n",
       "    }\n",
       "\n",
       "    .dataframe tbody tr th {\n",
       "        vertical-align: top;\n",
       "    }\n",
       "\n",
       "    .dataframe thead th {\n",
       "        text-align: right;\n",
       "    }\n",
       "</style>\n",
       "<table border=\"1\" class=\"dataframe\">\n",
       "  <thead>\n",
       "    <tr style=\"text-align: right;\">\n",
       "      <th></th>\n",
       "      <th>Pot_max</th>\n",
       "      <th>Year</th>\n",
       "      <th>Month</th>\n",
       "      <th>Day</th>\n",
       "      <th>Period</th>\n",
       "      <th>Block</th>\n",
       "      <th>Price</th>\n",
       "      <th>Energy</th>\n",
       "      <th>Date</th>\n",
       "      <th>Weekday</th>\n",
       "      <th>Energy_tot</th>\n",
       "    </tr>\n",
       "  </thead>\n",
       "  <tbody>\n",
       "    <tr>\n",
       "      <th>0</th>\n",
       "      <td>397.80</td>\n",
       "      <td>2019</td>\n",
       "      <td>11</td>\n",
       "      <td>18</td>\n",
       "      <td>1</td>\n",
       "      <td>12</td>\n",
       "      <td>180.30</td>\n",
       "      <td>397.80</td>\n",
       "      <td>2019-11-18</td>\n",
       "      <td>Monday</td>\n",
       "      <td>397.80</td>\n",
       "    </tr>\n",
       "    <tr>\n",
       "      <th>1</th>\n",
       "      <td>397.80</td>\n",
       "      <td>2019</td>\n",
       "      <td>11</td>\n",
       "      <td>18</td>\n",
       "      <td>2</td>\n",
       "      <td>12</td>\n",
       "      <td>180.30</td>\n",
       "      <td>397.80</td>\n",
       "      <td>2019-11-18</td>\n",
       "      <td>Monday</td>\n",
       "      <td>397.80</td>\n",
       "    </tr>\n",
       "    <tr>\n",
       "      <th>2</th>\n",
       "      <td>397.80</td>\n",
       "      <td>2019</td>\n",
       "      <td>11</td>\n",
       "      <td>18</td>\n",
       "      <td>3</td>\n",
       "      <td>1</td>\n",
       "      <td>1.13</td>\n",
       "      <td>50.00</td>\n",
       "      <td>2019-11-18</td>\n",
       "      <td>Monday</td>\n",
       "      <td>50.00</td>\n",
       "    </tr>\n",
       "    <tr>\n",
       "      <th>3</th>\n",
       "      <td>397.80</td>\n",
       "      <td>2019</td>\n",
       "      <td>11</td>\n",
       "      <td>18</td>\n",
       "      <td>3</td>\n",
       "      <td>12</td>\n",
       "      <td>180.30</td>\n",
       "      <td>347.80</td>\n",
       "      <td>2019-11-18</td>\n",
       "      <td>Monday</td>\n",
       "      <td>397.80</td>\n",
       "    </tr>\n",
       "    <tr>\n",
       "      <th>4</th>\n",
       "      <td>397.80</td>\n",
       "      <td>2019</td>\n",
       "      <td>11</td>\n",
       "      <td>18</td>\n",
       "      <td>4</td>\n",
       "      <td>1</td>\n",
       "      <td>1.13</td>\n",
       "      <td>60.00</td>\n",
       "      <td>2019-11-18</td>\n",
       "      <td>Monday</td>\n",
       "      <td>60.00</td>\n",
       "    </tr>\n",
       "    <tr>\n",
       "      <th>...</th>\n",
       "      <td>...</td>\n",
       "      <td>...</td>\n",
       "      <td>...</td>\n",
       "      <td>...</td>\n",
       "      <td>...</td>\n",
       "      <td>...</td>\n",
       "      <td>...</td>\n",
       "      <td>...</td>\n",
       "      <td>...</td>\n",
       "      <td>...</td>\n",
       "      <td>...</td>\n",
       "    </tr>\n",
       "    <tr>\n",
       "      <th>70174</th>\n",
       "      <td>397.80</td>\n",
       "      <td>2020</td>\n",
       "      <td>10</td>\n",
       "      <td>31</td>\n",
       "      <td>24</td>\n",
       "      <td>8</td>\n",
       "      <td>39.09</td>\n",
       "      <td>17.00</td>\n",
       "      <td>2020-10-31</td>\n",
       "      <td>Saturday</td>\n",
       "      <td>309.00</td>\n",
       "    </tr>\n",
       "    <tr>\n",
       "      <th>70175</th>\n",
       "      <td>397.80</td>\n",
       "      <td>2020</td>\n",
       "      <td>10</td>\n",
       "      <td>31</td>\n",
       "      <td>24</td>\n",
       "      <td>9</td>\n",
       "      <td>40.12</td>\n",
       "      <td>17.00</td>\n",
       "      <td>2020-10-31</td>\n",
       "      <td>Saturday</td>\n",
       "      <td>326.00</td>\n",
       "    </tr>\n",
       "    <tr>\n",
       "      <th>70176</th>\n",
       "      <td>397.80</td>\n",
       "      <td>2020</td>\n",
       "      <td>10</td>\n",
       "      <td>31</td>\n",
       "      <td>24</td>\n",
       "      <td>10</td>\n",
       "      <td>41.15</td>\n",
       "      <td>17.00</td>\n",
       "      <td>2020-10-31</td>\n",
       "      <td>Saturday</td>\n",
       "      <td>343.00</td>\n",
       "    </tr>\n",
       "    <tr>\n",
       "      <th>70177</th>\n",
       "      <td>397.80</td>\n",
       "      <td>2020</td>\n",
       "      <td>10</td>\n",
       "      <td>31</td>\n",
       "      <td>24</td>\n",
       "      <td>11</td>\n",
       "      <td>42.68</td>\n",
       "      <td>17.00</td>\n",
       "      <td>2020-10-31</td>\n",
       "      <td>Saturday</td>\n",
       "      <td>360.00</td>\n",
       "    </tr>\n",
       "    <tr>\n",
       "      <th>70178</th>\n",
       "      <td>397.80</td>\n",
       "      <td>2020</td>\n",
       "      <td>10</td>\n",
       "      <td>31</td>\n",
       "      <td>24</td>\n",
       "      <td>12</td>\n",
       "      <td>180.30</td>\n",
       "      <td>37.80</td>\n",
       "      <td>2020-10-31</td>\n",
       "      <td>Saturday</td>\n",
       "      <td>397.80</td>\n",
       "    </tr>\n",
       "  </tbody>\n",
       "</table>\n",
       "<p>70179 rows × 11 columns</p>\n",
       "</div>"
      ],
      "text/plain": [
       "       Pot_max  Year  Month  Day  Period  Block  Price  Energy       Date  \\\n",
       "0       397.80  2019     11   18       1     12 180.30  397.80 2019-11-18   \n",
       "1       397.80  2019     11   18       2     12 180.30  397.80 2019-11-18   \n",
       "2       397.80  2019     11   18       3      1   1.13   50.00 2019-11-18   \n",
       "3       397.80  2019     11   18       3     12 180.30  347.80 2019-11-18   \n",
       "4       397.80  2019     11   18       4      1   1.13   60.00 2019-11-18   \n",
       "...        ...   ...    ...  ...     ...    ...    ...     ...        ...   \n",
       "70174   397.80  2020     10   31      24      8  39.09   17.00 2020-10-31   \n",
       "70175   397.80  2020     10   31      24      9  40.12   17.00 2020-10-31   \n",
       "70176   397.80  2020     10   31      24     10  41.15   17.00 2020-10-31   \n",
       "70177   397.80  2020     10   31      24     11  42.68   17.00 2020-10-31   \n",
       "70178   397.80  2020     10   31      24     12 180.30   37.80 2020-10-31   \n",
       "\n",
       "        Weekday  Energy_tot  \n",
       "0        Monday      397.80  \n",
       "1        Monday      397.80  \n",
       "2        Monday       50.00  \n",
       "3        Monday      397.80  \n",
       "4        Monday       60.00  \n",
       "...         ...         ...  \n",
       "70174  Saturday      309.00  \n",
       "70175  Saturday      326.00  \n",
       "70176  Saturday      343.00  \n",
       "70177  Saturday      360.00  \n",
       "70178  Saturday      397.80  \n",
       "\n",
       "[70179 rows x 11 columns]"
      ]
     },
     "execution_count": 79,
     "metadata": {},
     "output_type": "execute_result"
    }
   ],
   "source": [
    "df_curve_24h = df_curve_24h.sort_values(['Date','Period','Block']).reset_index(drop=True)\n",
    "df_curve_24h"
   ]
  },
  {
   "cell_type": "code",
   "execution_count": null,
   "metadata": {},
   "outputs": [],
   "source": []
  },
  {
   "cell_type": "code",
   "execution_count": 80,
   "metadata": {},
   "outputs": [
    {
     "data": {
      "text/plain": [
       "((70179, 11), (70179, 11))"
      ]
     },
     "execution_count": 80,
     "metadata": {},
     "output_type": "execute_result"
    }
   ],
   "source": [
    "df_curve_24h.shape, df_curve.shape"
   ]
  },
  {
   "cell_type": "code",
   "execution_count": null,
   "metadata": {},
   "outputs": [],
   "source": []
  },
  {
   "cell_type": "markdown",
   "metadata": {},
   "source": [
    "\n",
    "### 3.2. CREATING A NEW DATAFRAME WITH ALL BLOCKS PER EACH HOUR \n",
    "\n",
    "In this section a new dataframe will be created from the original one (with only 24h-days) by completing the information por every hour that does not have all blocks (12). \n",
    "\n",
    "It is important to point out that in the original dataframe does not have 12 blocks per each hour (or period), since not always is necessary in the biding curve. In order to use the information in the models that will be created, it is important that every hour is divided in 12 blocks. \n",
    "\n",
    "As the original dataframe does not have all days and hours for a given period, it is decided to create a new dataframe equal to the original one (only for dates, hours and blocks) but with all 12 blocks per each hour in the orignal data.\n",
    "\n",
    "The new dataframe is created considering a df structure for 1 Block and then copy this new df, changing the number of the block and appending it to the original. The correct structure of the df will be created by doing it 12 times.\n",
    "\n",
    "Then this new dataframe will be merged with the original one so NaN will be created for all the columns without blocks in the original dataframe. This NaN will be filled depending on each case."
   ]
  },
  {
   "cell_type": "code",
   "execution_count": null,
   "metadata": {},
   "outputs": [],
   "source": []
  },
  {
   "cell_type": "markdown",
   "metadata": {},
   "source": [
    "#### 3.2.1. CREATING AN EMPTY DATAFRAME WITH THE SAME STRUCTRUE AS THE ORIGINAL WITH 24h-DAYS AND ALL BLOCKS PER EACH HOUR"
   ]
  },
  {
   "cell_type": "code",
   "execution_count": 81,
   "metadata": {
    "scrolled": true
   },
   "outputs": [
    {
     "data": {
      "text/html": [
       "<div>\n",
       "<style scoped>\n",
       "    .dataframe tbody tr th:only-of-type {\n",
       "        vertical-align: middle;\n",
       "    }\n",
       "\n",
       "    .dataframe tbody tr th {\n",
       "        vertical-align: top;\n",
       "    }\n",
       "\n",
       "    .dataframe thead th {\n",
       "        text-align: right;\n",
       "    }\n",
       "</style>\n",
       "<table border=\"1\" class=\"dataframe\">\n",
       "  <thead>\n",
       "    <tr style=\"text-align: right;\">\n",
       "      <th></th>\n",
       "      <th>Pot_max</th>\n",
       "      <th>Year</th>\n",
       "      <th>Month</th>\n",
       "      <th>Day</th>\n",
       "      <th>Period</th>\n",
       "      <th>Block</th>\n",
       "      <th>Price</th>\n",
       "      <th>Energy</th>\n",
       "      <th>Date</th>\n",
       "      <th>Weekday</th>\n",
       "      <th>Energy_tot</th>\n",
       "    </tr>\n",
       "  </thead>\n",
       "  <tbody>\n",
       "    <tr>\n",
       "      <th>68190</th>\n",
       "      <td>397.80</td>\n",
       "      <td>2020</td>\n",
       "      <td>10</td>\n",
       "      <td>22</td>\n",
       "      <td>9</td>\n",
       "      <td>1</td>\n",
       "      <td>1.13</td>\n",
       "      <td>190.00</td>\n",
       "      <td>2020-10-22</td>\n",
       "      <td>Thursday</td>\n",
       "      <td>190.00</td>\n",
       "    </tr>\n",
       "    <tr>\n",
       "      <th>68191</th>\n",
       "      <td>397.80</td>\n",
       "      <td>2020</td>\n",
       "      <td>10</td>\n",
       "      <td>22</td>\n",
       "      <td>9</td>\n",
       "      <td>2</td>\n",
       "      <td>35.57</td>\n",
       "      <td>17.00</td>\n",
       "      <td>2020-10-22</td>\n",
       "      <td>Thursday</td>\n",
       "      <td>207.00</td>\n",
       "    </tr>\n",
       "    <tr>\n",
       "      <th>68192</th>\n",
       "      <td>397.80</td>\n",
       "      <td>2020</td>\n",
       "      <td>10</td>\n",
       "      <td>22</td>\n",
       "      <td>9</td>\n",
       "      <td>3</td>\n",
       "      <td>36.10</td>\n",
       "      <td>17.00</td>\n",
       "      <td>2020-10-22</td>\n",
       "      <td>Thursday</td>\n",
       "      <td>224.00</td>\n",
       "    </tr>\n",
       "    <tr>\n",
       "      <th>68193</th>\n",
       "      <td>397.80</td>\n",
       "      <td>2020</td>\n",
       "      <td>10</td>\n",
       "      <td>22</td>\n",
       "      <td>9</td>\n",
       "      <td>4</td>\n",
       "      <td>36.64</td>\n",
       "      <td>17.00</td>\n",
       "      <td>2020-10-22</td>\n",
       "      <td>Thursday</td>\n",
       "      <td>241.00</td>\n",
       "    </tr>\n",
       "    <tr>\n",
       "      <th>68194</th>\n",
       "      <td>397.80</td>\n",
       "      <td>2020</td>\n",
       "      <td>10</td>\n",
       "      <td>22</td>\n",
       "      <td>9</td>\n",
       "      <td>5</td>\n",
       "      <td>37.18</td>\n",
       "      <td>4.00</td>\n",
       "      <td>2020-10-22</td>\n",
       "      <td>Thursday</td>\n",
       "      <td>245.00</td>\n",
       "    </tr>\n",
       "    <tr>\n",
       "      <th>68195</th>\n",
       "      <td>397.80</td>\n",
       "      <td>2020</td>\n",
       "      <td>10</td>\n",
       "      <td>22</td>\n",
       "      <td>9</td>\n",
       "      <td>12</td>\n",
       "      <td>180.30</td>\n",
       "      <td>152.80</td>\n",
       "      <td>2020-10-22</td>\n",
       "      <td>Thursday</td>\n",
       "      <td>397.80</td>\n",
       "    </tr>\n",
       "  </tbody>\n",
       "</table>\n",
       "</div>"
      ],
      "text/plain": [
       "       Pot_max  Year  Month  Day  Period  Block  Price  Energy       Date  \\\n",
       "68190   397.80  2020     10   22       9      1   1.13  190.00 2020-10-22   \n",
       "68191   397.80  2020     10   22       9      2  35.57   17.00 2020-10-22   \n",
       "68192   397.80  2020     10   22       9      3  36.10   17.00 2020-10-22   \n",
       "68193   397.80  2020     10   22       9      4  36.64   17.00 2020-10-22   \n",
       "68194   397.80  2020     10   22       9      5  37.18    4.00 2020-10-22   \n",
       "68195   397.80  2020     10   22       9     12 180.30  152.80 2020-10-22   \n",
       "\n",
       "        Weekday  Energy_tot  \n",
       "68190  Thursday      190.00  \n",
       "68191  Thursday      207.00  \n",
       "68192  Thursday      224.00  \n",
       "68193  Thursday      241.00  \n",
       "68194  Thursday      245.00  \n",
       "68195  Thursday      397.80  "
      ]
     },
     "execution_count": 81,
     "metadata": {},
     "output_type": "execute_result"
    }
   ],
   "source": [
    "#Checking blocks for one day\n",
    "data_date_hour_info(df_curve, '2020-10-22',9)"
   ]
  },
  {
   "cell_type": "code",
   "execution_count": 82,
   "metadata": {
    "scrolled": false
   },
   "outputs": [],
   "source": [
    "#Creating a new df with the same structure of the orinal one, without 23h and 25h-days. \n",
    "#First of all, it is choosen from the orininal df the information from the date, hours and ONE block.\n",
    "#Block number \"block_all\" is choosen as it is the only block that it is in all the hour.\n",
    "\n",
    "df_block_24h = df_curve_24h[['Year','Month','Day','Period','Block']][df_curve_24h['Block']==block_all].reset_index(drop=True)\n",
    "\n",
    "#Changing the value of all Blocks to 1\n",
    "df_block_24h['Block'] = 1\n",
    "\n",
    "#Creating a new dataframe with the same structure for all Blocks\n",
    "df_block_tot_24h = pd.DataFrame()\n",
    "\n",
    "for block_24h in range(1,block_max+1):\n",
    "    df_block_new_24h = df_block_24h.copy()\n",
    "    df_block_new_24h['Block'] = block_24h\n",
    "    df_block_tot_24h = pd.concat([df_block_tot_24h,df_block_new_24h])\n",
    "    \n",
    "\n",
    "df_block_tot_24h.reset_index(inplace=True,drop=True)"
   ]
  },
  {
   "cell_type": "code",
   "execution_count": 83,
   "metadata": {
    "scrolled": true
   },
   "outputs": [
    {
     "data": {
      "text/plain": [
       "True"
      ]
     },
     "execution_count": 83,
     "metadata": {},
     "output_type": "execute_result"
    }
   ],
   "source": [
    "len(df_block_tot_24h) == df_block_24h.shape[0]*block_max"
   ]
  },
  {
   "cell_type": "code",
   "execution_count": 84,
   "metadata": {},
   "outputs": [
    {
     "data": {
      "text/plain": [
       "(100512, 5)"
      ]
     },
     "execution_count": 84,
     "metadata": {},
     "output_type": "execute_result"
    }
   ],
   "source": [
    "df_block_tot_24h.shape"
   ]
  },
  {
   "cell_type": "markdown",
   "metadata": {},
   "source": [
    "#### 3.2.2. CREATING AN NEW DATAFRAME WITH ALL BLOCKS PER EACH HOUR (without 23h and 25h-days)"
   ]
  },
  {
   "cell_type": "code",
   "execution_count": 85,
   "metadata": {},
   "outputs": [
    {
     "name": "stderr",
     "output_type": "stream",
     "text": [
      "<ipython-input-85-426908049f2c>:34: SettingWithCopyWarning: \n",
      "A value is trying to be set on a copy of a slice from a DataFrame\n",
      "\n",
      "See the caveats in the documentation: https://pandas.pydata.org/pandas-docs/stable/user_guide/indexing.html#returning-a-view-versus-a-copy\n",
      "  df_tot_24h['Energy_tot'][(df_tot_24h['Block']==1) &\n"
     ]
    }
   ],
   "source": [
    "#Now the complete dataframe is created by merging the original df (df_curve) with the new structure dataframe \n",
    "#created (df_block_tot)\n",
    "\n",
    "df_tot_24h = df_curve_24h.merge(df_block_tot_24h,how='outer')\n",
    "\n",
    "#New dataframe is sorted and reseted index\n",
    "df_tot_24h = df_tot_24h.sort_values(['Year','Month','Day','Period','Block']).reset_index(drop=True)\n",
    "\n",
    "#As the structrue dataframe has more rows that the original, a lot of NaN have been created.\n",
    "#These NaN must be filled.\n",
    "\n",
    "#As Block 12 is always in the original dataframe and dataframe is sorted by 'Block', bfill is the\n",
    "#right method to fill NaN since the meaning of no Block in OMIE curve is a fixed Price.\n",
    "df_tot_24h['Price'].fillna(method='bfill',inplace=True)\n",
    "\n",
    "#Pot_max is allways the same value\n",
    "df_tot_24h['Pot_max'].fillna(df_tot_24h['Pot_max'].max(),inplace=True)\n",
    "\n",
    "#For the same reason of Price, Weekday is filled with bfill method\n",
    "df_tot_24h['Weekday'].fillna(method='bfill',inplace=True)\n",
    "\n",
    "#For the same reason of Price, Datw is filled with bfill method\n",
    "df_tot_24h['Date'].fillna(method='bfill',inplace=True)\n",
    "\n",
    "#Energy NaN will be filled with 0 since allways Energy of Block 12 must be Pot_max (394.1)\n",
    "df_tot_24h['Energy'].fillna(float(0),inplace=True)\n",
    "\n",
    "#Now only Energy_tot columns have NaN\n",
    "#NaN in Energy_tot can be filled by interpolation method, but first of all a value must be included\n",
    "#in all cells with Block number equal to 1, since it is necessary 2 values in each Period to be able to \n",
    "#interpolate and it is the only way to fill NaN in all Periods with only one Block (12)\n",
    "\n",
    "#Filling Energy_tot NaN for Block=1 with 50\n",
    "df_tot_24h['Energy_tot'][(df_tot_24h['Block']==1) & \n",
    "                     (df_tot_24h['Energy_tot'].isnull())] = df_tot_24h['Energy_tot'][df_tot_24h['Block']==1].min()\n",
    "\n",
    "#Now remaining NaN in Energy_tot are filled by interpolation \n",
    "df_tot_24h['Energy_tot'].interpolate(inplace=True)"
   ]
  },
  {
   "cell_type": "code",
   "execution_count": 86,
   "metadata": {
    "scrolled": false
   },
   "outputs": [
    {
     "data": {
      "text/html": [
       "<div>\n",
       "<style scoped>\n",
       "    .dataframe tbody tr th:only-of-type {\n",
       "        vertical-align: middle;\n",
       "    }\n",
       "\n",
       "    .dataframe tbody tr th {\n",
       "        vertical-align: top;\n",
       "    }\n",
       "\n",
       "    .dataframe thead th {\n",
       "        text-align: right;\n",
       "    }\n",
       "</style>\n",
       "<table border=\"1\" class=\"dataframe\">\n",
       "  <thead>\n",
       "    <tr style=\"text-align: right;\">\n",
       "      <th></th>\n",
       "      <th>Pot_max</th>\n",
       "      <th>Year</th>\n",
       "      <th>Month</th>\n",
       "      <th>Day</th>\n",
       "      <th>Period</th>\n",
       "      <th>Block</th>\n",
       "      <th>Price</th>\n",
       "      <th>Energy</th>\n",
       "      <th>Date</th>\n",
       "      <th>Weekday</th>\n",
       "      <th>Energy_tot</th>\n",
       "    </tr>\n",
       "  </thead>\n",
       "  <tbody>\n",
       "    <tr>\n",
       "      <th>0</th>\n",
       "      <td>397.80</td>\n",
       "      <td>2019</td>\n",
       "      <td>11</td>\n",
       "      <td>18</td>\n",
       "      <td>1</td>\n",
       "      <td>1</td>\n",
       "      <td>180.30</td>\n",
       "      <td>0.00</td>\n",
       "      <td>2019-11-18</td>\n",
       "      <td>Monday</td>\n",
       "      <td>50.00</td>\n",
       "    </tr>\n",
       "    <tr>\n",
       "      <th>1</th>\n",
       "      <td>397.80</td>\n",
       "      <td>2019</td>\n",
       "      <td>11</td>\n",
       "      <td>18</td>\n",
       "      <td>1</td>\n",
       "      <td>2</td>\n",
       "      <td>180.30</td>\n",
       "      <td>0.00</td>\n",
       "      <td>2019-11-18</td>\n",
       "      <td>Monday</td>\n",
       "      <td>81.62</td>\n",
       "    </tr>\n",
       "    <tr>\n",
       "      <th>2</th>\n",
       "      <td>397.80</td>\n",
       "      <td>2019</td>\n",
       "      <td>11</td>\n",
       "      <td>18</td>\n",
       "      <td>1</td>\n",
       "      <td>3</td>\n",
       "      <td>180.30</td>\n",
       "      <td>0.00</td>\n",
       "      <td>2019-11-18</td>\n",
       "      <td>Monday</td>\n",
       "      <td>113.24</td>\n",
       "    </tr>\n",
       "    <tr>\n",
       "      <th>3</th>\n",
       "      <td>397.80</td>\n",
       "      <td>2019</td>\n",
       "      <td>11</td>\n",
       "      <td>18</td>\n",
       "      <td>1</td>\n",
       "      <td>4</td>\n",
       "      <td>180.30</td>\n",
       "      <td>0.00</td>\n",
       "      <td>2019-11-18</td>\n",
       "      <td>Monday</td>\n",
       "      <td>144.85</td>\n",
       "    </tr>\n",
       "    <tr>\n",
       "      <th>4</th>\n",
       "      <td>397.80</td>\n",
       "      <td>2019</td>\n",
       "      <td>11</td>\n",
       "      <td>18</td>\n",
       "      <td>1</td>\n",
       "      <td>5</td>\n",
       "      <td>180.30</td>\n",
       "      <td>0.00</td>\n",
       "      <td>2019-11-18</td>\n",
       "      <td>Monday</td>\n",
       "      <td>176.47</td>\n",
       "    </tr>\n",
       "    <tr>\n",
       "      <th>5</th>\n",
       "      <td>397.80</td>\n",
       "      <td>2019</td>\n",
       "      <td>11</td>\n",
       "      <td>18</td>\n",
       "      <td>1</td>\n",
       "      <td>6</td>\n",
       "      <td>180.30</td>\n",
       "      <td>0.00</td>\n",
       "      <td>2019-11-18</td>\n",
       "      <td>Monday</td>\n",
       "      <td>208.09</td>\n",
       "    </tr>\n",
       "    <tr>\n",
       "      <th>6</th>\n",
       "      <td>397.80</td>\n",
       "      <td>2019</td>\n",
       "      <td>11</td>\n",
       "      <td>18</td>\n",
       "      <td>1</td>\n",
       "      <td>7</td>\n",
       "      <td>180.30</td>\n",
       "      <td>0.00</td>\n",
       "      <td>2019-11-18</td>\n",
       "      <td>Monday</td>\n",
       "      <td>239.71</td>\n",
       "    </tr>\n",
       "    <tr>\n",
       "      <th>7</th>\n",
       "      <td>397.80</td>\n",
       "      <td>2019</td>\n",
       "      <td>11</td>\n",
       "      <td>18</td>\n",
       "      <td>1</td>\n",
       "      <td>8</td>\n",
       "      <td>180.30</td>\n",
       "      <td>0.00</td>\n",
       "      <td>2019-11-18</td>\n",
       "      <td>Monday</td>\n",
       "      <td>271.33</td>\n",
       "    </tr>\n",
       "    <tr>\n",
       "      <th>8</th>\n",
       "      <td>397.80</td>\n",
       "      <td>2019</td>\n",
       "      <td>11</td>\n",
       "      <td>18</td>\n",
       "      <td>1</td>\n",
       "      <td>9</td>\n",
       "      <td>180.30</td>\n",
       "      <td>0.00</td>\n",
       "      <td>2019-11-18</td>\n",
       "      <td>Monday</td>\n",
       "      <td>302.95</td>\n",
       "    </tr>\n",
       "    <tr>\n",
       "      <th>9</th>\n",
       "      <td>397.80</td>\n",
       "      <td>2019</td>\n",
       "      <td>11</td>\n",
       "      <td>18</td>\n",
       "      <td>1</td>\n",
       "      <td>10</td>\n",
       "      <td>180.30</td>\n",
       "      <td>0.00</td>\n",
       "      <td>2019-11-18</td>\n",
       "      <td>Monday</td>\n",
       "      <td>334.56</td>\n",
       "    </tr>\n",
       "    <tr>\n",
       "      <th>10</th>\n",
       "      <td>397.80</td>\n",
       "      <td>2019</td>\n",
       "      <td>11</td>\n",
       "      <td>18</td>\n",
       "      <td>1</td>\n",
       "      <td>11</td>\n",
       "      <td>180.30</td>\n",
       "      <td>0.00</td>\n",
       "      <td>2019-11-18</td>\n",
       "      <td>Monday</td>\n",
       "      <td>366.18</td>\n",
       "    </tr>\n",
       "    <tr>\n",
       "      <th>11</th>\n",
       "      <td>397.80</td>\n",
       "      <td>2019</td>\n",
       "      <td>11</td>\n",
       "      <td>18</td>\n",
       "      <td>1</td>\n",
       "      <td>12</td>\n",
       "      <td>180.30</td>\n",
       "      <td>397.80</td>\n",
       "      <td>2019-11-18</td>\n",
       "      <td>Monday</td>\n",
       "      <td>397.80</td>\n",
       "    </tr>\n",
       "    <tr>\n",
       "      <th>12</th>\n",
       "      <td>397.80</td>\n",
       "      <td>2019</td>\n",
       "      <td>11</td>\n",
       "      <td>18</td>\n",
       "      <td>2</td>\n",
       "      <td>1</td>\n",
       "      <td>180.30</td>\n",
       "      <td>0.00</td>\n",
       "      <td>2019-11-18</td>\n",
       "      <td>Monday</td>\n",
       "      <td>50.00</td>\n",
       "    </tr>\n",
       "    <tr>\n",
       "      <th>13</th>\n",
       "      <td>397.80</td>\n",
       "      <td>2019</td>\n",
       "      <td>11</td>\n",
       "      <td>18</td>\n",
       "      <td>2</td>\n",
       "      <td>2</td>\n",
       "      <td>180.30</td>\n",
       "      <td>0.00</td>\n",
       "      <td>2019-11-18</td>\n",
       "      <td>Monday</td>\n",
       "      <td>81.62</td>\n",
       "    </tr>\n",
       "    <tr>\n",
       "      <th>14</th>\n",
       "      <td>397.80</td>\n",
       "      <td>2019</td>\n",
       "      <td>11</td>\n",
       "      <td>18</td>\n",
       "      <td>2</td>\n",
       "      <td>3</td>\n",
       "      <td>180.30</td>\n",
       "      <td>0.00</td>\n",
       "      <td>2019-11-18</td>\n",
       "      <td>Monday</td>\n",
       "      <td>113.24</td>\n",
       "    </tr>\n",
       "  </tbody>\n",
       "</table>\n",
       "</div>"
      ],
      "text/plain": [
       "    Pot_max  Year  Month  Day  Period  Block  Price  Energy       Date  \\\n",
       "0    397.80  2019     11   18       1      1 180.30    0.00 2019-11-18   \n",
       "1    397.80  2019     11   18       1      2 180.30    0.00 2019-11-18   \n",
       "2    397.80  2019     11   18       1      3 180.30    0.00 2019-11-18   \n",
       "3    397.80  2019     11   18       1      4 180.30    0.00 2019-11-18   \n",
       "4    397.80  2019     11   18       1      5 180.30    0.00 2019-11-18   \n",
       "5    397.80  2019     11   18       1      6 180.30    0.00 2019-11-18   \n",
       "6    397.80  2019     11   18       1      7 180.30    0.00 2019-11-18   \n",
       "7    397.80  2019     11   18       1      8 180.30    0.00 2019-11-18   \n",
       "8    397.80  2019     11   18       1      9 180.30    0.00 2019-11-18   \n",
       "9    397.80  2019     11   18       1     10 180.30    0.00 2019-11-18   \n",
       "10   397.80  2019     11   18       1     11 180.30    0.00 2019-11-18   \n",
       "11   397.80  2019     11   18       1     12 180.30  397.80 2019-11-18   \n",
       "12   397.80  2019     11   18       2      1 180.30    0.00 2019-11-18   \n",
       "13   397.80  2019     11   18       2      2 180.30    0.00 2019-11-18   \n",
       "14   397.80  2019     11   18       2      3 180.30    0.00 2019-11-18   \n",
       "\n",
       "   Weekday  Energy_tot  \n",
       "0   Monday       50.00  \n",
       "1   Monday       81.62  \n",
       "2   Monday      113.24  \n",
       "3   Monday      144.85  \n",
       "4   Monday      176.47  \n",
       "5   Monday      208.09  \n",
       "6   Monday      239.71  \n",
       "7   Monday      271.33  \n",
       "8   Monday      302.95  \n",
       "9   Monday      334.56  \n",
       "10  Monday      366.18  \n",
       "11  Monday      397.80  \n",
       "12  Monday       50.00  \n",
       "13  Monday       81.62  \n",
       "14  Monday      113.24  "
      ]
     },
     "execution_count": 86,
     "metadata": {},
     "output_type": "execute_result"
    }
   ],
   "source": [
    "df_tot_24h.head(15)"
   ]
  },
  {
   "cell_type": "code",
   "execution_count": 87,
   "metadata": {
    "scrolled": true
   },
   "outputs": [
    {
     "data": {
      "text/plain": [
       "Block  Energy_tot\n",
       "1      190.00        5657\n",
       "       120.00         822\n",
       "       125.00         274\n",
       "       80.00          274\n",
       "       60.00          225\n",
       "       65.00           75\n",
       "       50.00           75\n",
       "dtype: int64"
      ]
     },
     "execution_count": 87,
     "metadata": {},
     "output_type": "execute_result"
    }
   ],
   "source": [
    "#Cheching that everything is OK between original dataframe and new one\n",
    "\n",
    "df_curve[['Block','Energy_tot']] [df_curve['Block']==1].value_counts()"
   ]
  },
  {
   "cell_type": "code",
   "execution_count": 88,
   "metadata": {},
   "outputs": [
    {
     "data": {
      "text/plain": [
       "Block  Energy_tot\n",
       "1      190.00        5657\n",
       "       50.00         1049\n",
       "       120.00         822\n",
       "       125.00         274\n",
       "       80.00          274\n",
       "       60.00          225\n",
       "       65.00           75\n",
       "dtype: int64"
      ]
     },
     "execution_count": 88,
     "metadata": {},
     "output_type": "execute_result"
    }
   ],
   "source": [
    "df_tot_24h[['Block','Energy_tot']] [df_tot_24h['Block']==1].value_counts()"
   ]
  },
  {
   "cell_type": "code",
   "execution_count": 89,
   "metadata": {},
   "outputs": [],
   "source": [
    "#It is OK since the only modification is 50 that goes from 75 to 1091"
   ]
  },
  {
   "cell_type": "code",
   "execution_count": null,
   "metadata": {},
   "outputs": [],
   "source": []
  },
  {
   "cell_type": "code",
   "execution_count": 90,
   "metadata": {},
   "outputs": [
    {
     "data": {
      "text/plain": [
       "(100512, 11)"
      ]
     },
     "execution_count": 90,
     "metadata": {},
     "output_type": "execute_result"
    }
   ],
   "source": [
    "df_tot_24h.shape"
   ]
  },
  {
   "cell_type": "code",
   "execution_count": 91,
   "metadata": {},
   "outputs": [],
   "source": [
    "#df_tot_24h.to_csv('/home/dsc/Repos/TFM/df_tot_24h_PALOS1.csv')"
   ]
  },
  {
   "cell_type": "code",
   "execution_count": null,
   "metadata": {},
   "outputs": [],
   "source": []
  },
  {
   "cell_type": "markdown",
   "metadata": {},
   "source": [
    "### 3.3. CREATING AN NEW DATAFRAME WITH ALL DATES, HOURS AND BLOCKS BETWEEN THE ORIGINAL TIME PERIOD (without 23h and 25h-days)\n",
    "\n",
    "In order to create a proper dataframe used in the models it is important to consider the data from previous bids, so a dataframe with the Energy and Price with a time lag of 24h and 168h is created. The best way to do it is to shift the columns Energy and Price 24x12 and 168x12 down, but this only works if all the dates, hours, and blocks are in the the dataframe. As it is not the case, a new dataframe should be created with NaN in the places where the dates and hours are missing in the original dataframe."
   ]
  },
  {
   "cell_type": "markdown",
   "metadata": {},
   "source": [
    "#### 3.3.1. CREATING AN EMPTY DATA STRUCTURE GIVEN A STARTING AND ENDING DATES  (without 23h & 25h-days)"
   ]
  },
  {
   "cell_type": "code",
   "execution_count": 92,
   "metadata": {},
   "outputs": [],
   "source": [
    "#Moving this function to the TOOLS\n",
    "\n",
    "from datetime import datetime, timedelta\n",
    "\n",
    "def df_structure_24h(year_start, month_start, day_start, year_end, month_end, day_end):\n",
    "\n",
    "    '''This function creates a empty structure of days, hours and blocks between two dates\n",
    "    without 23h & 25h days'''\n",
    "    \n",
    "    #Adding the days of between the staring and ending days\n",
    "    \n",
    "    start = datetime(year_start,month_start,day_start)\n",
    "    end = datetime(year_end,month_end,day_end)\n",
    "\n",
    "    date_list = [start + timedelta(days=d) for d in range((end - start).days + 1)] \n",
    "\n",
    "    structure = pd.DataFrame({'Date' : date_list})\n",
    "    structure['Year'] = structure['Date'].apply(lambda x: x.year)\n",
    "    structure['Month'] = structure['Date'].apply(lambda x: x.month)\n",
    "    structure['Day'] = structure['Date'].apply(lambda x: x.day)\n",
    "    structure['Period'] = 1\n",
    "    structure['Block'] = 1\n",
    "\n",
    "    #Adding 24 hours per each day\n",
    "    structure_tot = pd.DataFrame()\n",
    "\n",
    "    for hour in range(1,25):\n",
    "        structure_new = structure.copy()\n",
    "        structure_new['Period'] = hour\n",
    "        structure_tot = pd.concat([structure_tot,structure_new])\n",
    "\n",
    "    structure_tot = structure_tot.reset_index(drop=True)\n",
    "\n",
    "    #Adding maximum number of blocks per each period (hour)\n",
    "\n",
    "    structure_block = pd.DataFrame()\n",
    "\n",
    "    for block in range(1,block_max+1):\n",
    "        structure_new = structure_tot.copy()\n",
    "        structure_new['Block'] = block\n",
    "        structure_block = pd.concat([structure_block,structure_new])\n",
    "    \n",
    "    structure_block = structure_block.sort_values(['Date','Period','Block'])\n",
    "    structure_block = structure_block.reset_index(drop=True)\n",
    "    return structure_block"
   ]
  },
  {
   "cell_type": "code",
   "execution_count": 93,
   "metadata": {},
   "outputs": [],
   "source": [
    "struct_block_24h = df_structure_24h(df_tot_24h['Date'].min().year,\n",
    "                              df_tot_24h['Date'].min().month,\n",
    "                              df_tot_24h['Date'].min().day,\n",
    "                              df_tot_24h['Date'].max().year,\n",
    "                              df_tot_24h['Date'].max().month,\n",
    "                              df_tot_24h['Date'].max().day) "
   ]
  },
  {
   "cell_type": "code",
   "execution_count": 94,
   "metadata": {
    "scrolled": true
   },
   "outputs": [
    {
     "data": {
      "text/html": [
       "<div>\n",
       "<style scoped>\n",
       "    .dataframe tbody tr th:only-of-type {\n",
       "        vertical-align: middle;\n",
       "    }\n",
       "\n",
       "    .dataframe tbody tr th {\n",
       "        vertical-align: top;\n",
       "    }\n",
       "\n",
       "    .dataframe thead th {\n",
       "        text-align: right;\n",
       "    }\n",
       "</style>\n",
       "<table border=\"1\" class=\"dataframe\">\n",
       "  <thead>\n",
       "    <tr style=\"text-align: right;\">\n",
       "      <th></th>\n",
       "      <th>Date</th>\n",
       "      <th>Year</th>\n",
       "      <th>Month</th>\n",
       "      <th>Day</th>\n",
       "      <th>Period</th>\n",
       "      <th>Block</th>\n",
       "    </tr>\n",
       "  </thead>\n",
       "  <tbody>\n",
       "    <tr>\n",
       "      <th>0</th>\n",
       "      <td>2019-11-18</td>\n",
       "      <td>2019</td>\n",
       "      <td>11</td>\n",
       "      <td>18</td>\n",
       "      <td>1</td>\n",
       "      <td>1</td>\n",
       "    </tr>\n",
       "    <tr>\n",
       "      <th>1</th>\n",
       "      <td>2019-11-18</td>\n",
       "      <td>2019</td>\n",
       "      <td>11</td>\n",
       "      <td>18</td>\n",
       "      <td>1</td>\n",
       "      <td>2</td>\n",
       "    </tr>\n",
       "    <tr>\n",
       "      <th>2</th>\n",
       "      <td>2019-11-18</td>\n",
       "      <td>2019</td>\n",
       "      <td>11</td>\n",
       "      <td>18</td>\n",
       "      <td>1</td>\n",
       "      <td>3</td>\n",
       "    </tr>\n",
       "    <tr>\n",
       "      <th>3</th>\n",
       "      <td>2019-11-18</td>\n",
       "      <td>2019</td>\n",
       "      <td>11</td>\n",
       "      <td>18</td>\n",
       "      <td>1</td>\n",
       "      <td>4</td>\n",
       "    </tr>\n",
       "    <tr>\n",
       "      <th>4</th>\n",
       "      <td>2019-11-18</td>\n",
       "      <td>2019</td>\n",
       "      <td>11</td>\n",
       "      <td>18</td>\n",
       "      <td>1</td>\n",
       "      <td>5</td>\n",
       "    </tr>\n",
       "    <tr>\n",
       "      <th>...</th>\n",
       "      <td>...</td>\n",
       "      <td>...</td>\n",
       "      <td>...</td>\n",
       "      <td>...</td>\n",
       "      <td>...</td>\n",
       "      <td>...</td>\n",
       "    </tr>\n",
       "    <tr>\n",
       "      <th>100507</th>\n",
       "      <td>2020-10-31</td>\n",
       "      <td>2020</td>\n",
       "      <td>10</td>\n",
       "      <td>31</td>\n",
       "      <td>24</td>\n",
       "      <td>8</td>\n",
       "    </tr>\n",
       "    <tr>\n",
       "      <th>100508</th>\n",
       "      <td>2020-10-31</td>\n",
       "      <td>2020</td>\n",
       "      <td>10</td>\n",
       "      <td>31</td>\n",
       "      <td>24</td>\n",
       "      <td>9</td>\n",
       "    </tr>\n",
       "    <tr>\n",
       "      <th>100509</th>\n",
       "      <td>2020-10-31</td>\n",
       "      <td>2020</td>\n",
       "      <td>10</td>\n",
       "      <td>31</td>\n",
       "      <td>24</td>\n",
       "      <td>10</td>\n",
       "    </tr>\n",
       "    <tr>\n",
       "      <th>100510</th>\n",
       "      <td>2020-10-31</td>\n",
       "      <td>2020</td>\n",
       "      <td>10</td>\n",
       "      <td>31</td>\n",
       "      <td>24</td>\n",
       "      <td>11</td>\n",
       "    </tr>\n",
       "    <tr>\n",
       "      <th>100511</th>\n",
       "      <td>2020-10-31</td>\n",
       "      <td>2020</td>\n",
       "      <td>10</td>\n",
       "      <td>31</td>\n",
       "      <td>24</td>\n",
       "      <td>12</td>\n",
       "    </tr>\n",
       "  </tbody>\n",
       "</table>\n",
       "<p>100512 rows × 6 columns</p>\n",
       "</div>"
      ],
      "text/plain": [
       "             Date  Year  Month  Day  Period  Block\n",
       "0      2019-11-18  2019     11   18       1      1\n",
       "1      2019-11-18  2019     11   18       1      2\n",
       "2      2019-11-18  2019     11   18       1      3\n",
       "3      2019-11-18  2019     11   18       1      4\n",
       "4      2019-11-18  2019     11   18       1      5\n",
       "...           ...   ...    ...  ...     ...    ...\n",
       "100507 2020-10-31  2020     10   31      24      8\n",
       "100508 2020-10-31  2020     10   31      24      9\n",
       "100509 2020-10-31  2020     10   31      24     10\n",
       "100510 2020-10-31  2020     10   31      24     11\n",
       "100511 2020-10-31  2020     10   31      24     12\n",
       "\n",
       "[100512 rows x 6 columns]"
      ]
     },
     "execution_count": 94,
     "metadata": {},
     "output_type": "execute_result"
    }
   ],
   "source": [
    "struct_block_24h"
   ]
  },
  {
   "cell_type": "code",
   "execution_count": null,
   "metadata": {},
   "outputs": [],
   "source": []
  },
  {
   "cell_type": "markdown",
   "metadata": {},
   "source": [
    "#### 3.3.2. CREATING AN NEW DATAFRAME WITH ALL DATES, HOURS AND BLOCKS BETWEEN THE ORIGINAL TIME PERIOD (without 23h &25h-days)"
   ]
  },
  {
   "cell_type": "code",
   "execution_count": 95,
   "metadata": {},
   "outputs": [
    {
     "data": {
      "text/plain": [
       "((100512, 11), (100512, 6))"
      ]
     },
     "execution_count": 95,
     "metadata": {},
     "output_type": "execute_result"
    }
   ],
   "source": [
    "df_tot_24h.shape, struct_block_24h.shape"
   ]
  },
  {
   "cell_type": "code",
   "execution_count": 96,
   "metadata": {},
   "outputs": [],
   "source": [
    "#Now the complete dataframe is created by merging the complete-block df (df_tot) with the new structure dataframe \n",
    "#created (structure_block)\n",
    "\n",
    "df_tot_struct_24h = df_tot_24h.merge(struct_block_24h,how='outer')\n",
    "df_tot_struct_24h = df_tot_struct_24h.sort_values(['Date','Period','Block']).reset_index(drop=True)"
   ]
  },
  {
   "cell_type": "code",
   "execution_count": 97,
   "metadata": {},
   "outputs": [
    {
     "data": {
      "text/html": [
       "<div>\n",
       "<style scoped>\n",
       "    .dataframe tbody tr th:only-of-type {\n",
       "        vertical-align: middle;\n",
       "    }\n",
       "\n",
       "    .dataframe tbody tr th {\n",
       "        vertical-align: top;\n",
       "    }\n",
       "\n",
       "    .dataframe thead th {\n",
       "        text-align: right;\n",
       "    }\n",
       "</style>\n",
       "<table border=\"1\" class=\"dataframe\">\n",
       "  <thead>\n",
       "    <tr style=\"text-align: right;\">\n",
       "      <th></th>\n",
       "      <th>Pot_max</th>\n",
       "      <th>Year</th>\n",
       "      <th>Month</th>\n",
       "      <th>Day</th>\n",
       "      <th>Period</th>\n",
       "      <th>Block</th>\n",
       "      <th>Price</th>\n",
       "      <th>Energy</th>\n",
       "      <th>Date</th>\n",
       "      <th>Weekday</th>\n",
       "      <th>Energy_tot</th>\n",
       "    </tr>\n",
       "  </thead>\n",
       "  <tbody>\n",
       "    <tr>\n",
       "      <th>0</th>\n",
       "      <td>397.80</td>\n",
       "      <td>2019</td>\n",
       "      <td>11</td>\n",
       "      <td>18</td>\n",
       "      <td>1</td>\n",
       "      <td>1</td>\n",
       "      <td>180.30</td>\n",
       "      <td>0.00</td>\n",
       "      <td>2019-11-18</td>\n",
       "      <td>Monday</td>\n",
       "      <td>50.00</td>\n",
       "    </tr>\n",
       "    <tr>\n",
       "      <th>1</th>\n",
       "      <td>397.80</td>\n",
       "      <td>2019</td>\n",
       "      <td>11</td>\n",
       "      <td>18</td>\n",
       "      <td>1</td>\n",
       "      <td>2</td>\n",
       "      <td>180.30</td>\n",
       "      <td>0.00</td>\n",
       "      <td>2019-11-18</td>\n",
       "      <td>Monday</td>\n",
       "      <td>81.62</td>\n",
       "    </tr>\n",
       "    <tr>\n",
       "      <th>2</th>\n",
       "      <td>397.80</td>\n",
       "      <td>2019</td>\n",
       "      <td>11</td>\n",
       "      <td>18</td>\n",
       "      <td>1</td>\n",
       "      <td>3</td>\n",
       "      <td>180.30</td>\n",
       "      <td>0.00</td>\n",
       "      <td>2019-11-18</td>\n",
       "      <td>Monday</td>\n",
       "      <td>113.24</td>\n",
       "    </tr>\n",
       "    <tr>\n",
       "      <th>3</th>\n",
       "      <td>397.80</td>\n",
       "      <td>2019</td>\n",
       "      <td>11</td>\n",
       "      <td>18</td>\n",
       "      <td>1</td>\n",
       "      <td>4</td>\n",
       "      <td>180.30</td>\n",
       "      <td>0.00</td>\n",
       "      <td>2019-11-18</td>\n",
       "      <td>Monday</td>\n",
       "      <td>144.85</td>\n",
       "    </tr>\n",
       "    <tr>\n",
       "      <th>4</th>\n",
       "      <td>397.80</td>\n",
       "      <td>2019</td>\n",
       "      <td>11</td>\n",
       "      <td>18</td>\n",
       "      <td>1</td>\n",
       "      <td>5</td>\n",
       "      <td>180.30</td>\n",
       "      <td>0.00</td>\n",
       "      <td>2019-11-18</td>\n",
       "      <td>Monday</td>\n",
       "      <td>176.47</td>\n",
       "    </tr>\n",
       "    <tr>\n",
       "      <th>5</th>\n",
       "      <td>397.80</td>\n",
       "      <td>2019</td>\n",
       "      <td>11</td>\n",
       "      <td>18</td>\n",
       "      <td>1</td>\n",
       "      <td>6</td>\n",
       "      <td>180.30</td>\n",
       "      <td>0.00</td>\n",
       "      <td>2019-11-18</td>\n",
       "      <td>Monday</td>\n",
       "      <td>208.09</td>\n",
       "    </tr>\n",
       "    <tr>\n",
       "      <th>6</th>\n",
       "      <td>397.80</td>\n",
       "      <td>2019</td>\n",
       "      <td>11</td>\n",
       "      <td>18</td>\n",
       "      <td>1</td>\n",
       "      <td>7</td>\n",
       "      <td>180.30</td>\n",
       "      <td>0.00</td>\n",
       "      <td>2019-11-18</td>\n",
       "      <td>Monday</td>\n",
       "      <td>239.71</td>\n",
       "    </tr>\n",
       "    <tr>\n",
       "      <th>7</th>\n",
       "      <td>397.80</td>\n",
       "      <td>2019</td>\n",
       "      <td>11</td>\n",
       "      <td>18</td>\n",
       "      <td>1</td>\n",
       "      <td>8</td>\n",
       "      <td>180.30</td>\n",
       "      <td>0.00</td>\n",
       "      <td>2019-11-18</td>\n",
       "      <td>Monday</td>\n",
       "      <td>271.33</td>\n",
       "    </tr>\n",
       "    <tr>\n",
       "      <th>8</th>\n",
       "      <td>397.80</td>\n",
       "      <td>2019</td>\n",
       "      <td>11</td>\n",
       "      <td>18</td>\n",
       "      <td>1</td>\n",
       "      <td>9</td>\n",
       "      <td>180.30</td>\n",
       "      <td>0.00</td>\n",
       "      <td>2019-11-18</td>\n",
       "      <td>Monday</td>\n",
       "      <td>302.95</td>\n",
       "    </tr>\n",
       "    <tr>\n",
       "      <th>9</th>\n",
       "      <td>397.80</td>\n",
       "      <td>2019</td>\n",
       "      <td>11</td>\n",
       "      <td>18</td>\n",
       "      <td>1</td>\n",
       "      <td>10</td>\n",
       "      <td>180.30</td>\n",
       "      <td>0.00</td>\n",
       "      <td>2019-11-18</td>\n",
       "      <td>Monday</td>\n",
       "      <td>334.56</td>\n",
       "    </tr>\n",
       "    <tr>\n",
       "      <th>10</th>\n",
       "      <td>397.80</td>\n",
       "      <td>2019</td>\n",
       "      <td>11</td>\n",
       "      <td>18</td>\n",
       "      <td>1</td>\n",
       "      <td>11</td>\n",
       "      <td>180.30</td>\n",
       "      <td>0.00</td>\n",
       "      <td>2019-11-18</td>\n",
       "      <td>Monday</td>\n",
       "      <td>366.18</td>\n",
       "    </tr>\n",
       "    <tr>\n",
       "      <th>11</th>\n",
       "      <td>397.80</td>\n",
       "      <td>2019</td>\n",
       "      <td>11</td>\n",
       "      <td>18</td>\n",
       "      <td>1</td>\n",
       "      <td>12</td>\n",
       "      <td>180.30</td>\n",
       "      <td>397.80</td>\n",
       "      <td>2019-11-18</td>\n",
       "      <td>Monday</td>\n",
       "      <td>397.80</td>\n",
       "    </tr>\n",
       "    <tr>\n",
       "      <th>12</th>\n",
       "      <td>397.80</td>\n",
       "      <td>2019</td>\n",
       "      <td>11</td>\n",
       "      <td>18</td>\n",
       "      <td>2</td>\n",
       "      <td>1</td>\n",
       "      <td>180.30</td>\n",
       "      <td>0.00</td>\n",
       "      <td>2019-11-18</td>\n",
       "      <td>Monday</td>\n",
       "      <td>50.00</td>\n",
       "    </tr>\n",
       "    <tr>\n",
       "      <th>13</th>\n",
       "      <td>397.80</td>\n",
       "      <td>2019</td>\n",
       "      <td>11</td>\n",
       "      <td>18</td>\n",
       "      <td>2</td>\n",
       "      <td>2</td>\n",
       "      <td>180.30</td>\n",
       "      <td>0.00</td>\n",
       "      <td>2019-11-18</td>\n",
       "      <td>Monday</td>\n",
       "      <td>81.62</td>\n",
       "    </tr>\n",
       "    <tr>\n",
       "      <th>14</th>\n",
       "      <td>397.80</td>\n",
       "      <td>2019</td>\n",
       "      <td>11</td>\n",
       "      <td>18</td>\n",
       "      <td>2</td>\n",
       "      <td>3</td>\n",
       "      <td>180.30</td>\n",
       "      <td>0.00</td>\n",
       "      <td>2019-11-18</td>\n",
       "      <td>Monday</td>\n",
       "      <td>113.24</td>\n",
       "    </tr>\n",
       "  </tbody>\n",
       "</table>\n",
       "</div>"
      ],
      "text/plain": [
       "    Pot_max  Year  Month  Day  Period  Block  Price  Energy       Date  \\\n",
       "0    397.80  2019     11   18       1      1 180.30    0.00 2019-11-18   \n",
       "1    397.80  2019     11   18       1      2 180.30    0.00 2019-11-18   \n",
       "2    397.80  2019     11   18       1      3 180.30    0.00 2019-11-18   \n",
       "3    397.80  2019     11   18       1      4 180.30    0.00 2019-11-18   \n",
       "4    397.80  2019     11   18       1      5 180.30    0.00 2019-11-18   \n",
       "5    397.80  2019     11   18       1      6 180.30    0.00 2019-11-18   \n",
       "6    397.80  2019     11   18       1      7 180.30    0.00 2019-11-18   \n",
       "7    397.80  2019     11   18       1      8 180.30    0.00 2019-11-18   \n",
       "8    397.80  2019     11   18       1      9 180.30    0.00 2019-11-18   \n",
       "9    397.80  2019     11   18       1     10 180.30    0.00 2019-11-18   \n",
       "10   397.80  2019     11   18       1     11 180.30    0.00 2019-11-18   \n",
       "11   397.80  2019     11   18       1     12 180.30  397.80 2019-11-18   \n",
       "12   397.80  2019     11   18       2      1 180.30    0.00 2019-11-18   \n",
       "13   397.80  2019     11   18       2      2 180.30    0.00 2019-11-18   \n",
       "14   397.80  2019     11   18       2      3 180.30    0.00 2019-11-18   \n",
       "\n",
       "   Weekday  Energy_tot  \n",
       "0   Monday       50.00  \n",
       "1   Monday       81.62  \n",
       "2   Monday      113.24  \n",
       "3   Monday      144.85  \n",
       "4   Monday      176.47  \n",
       "5   Monday      208.09  \n",
       "6   Monday      239.71  \n",
       "7   Monday      271.33  \n",
       "8   Monday      302.95  \n",
       "9   Monday      334.56  \n",
       "10  Monday      366.18  \n",
       "11  Monday      397.80  \n",
       "12  Monday       50.00  \n",
       "13  Monday       81.62  \n",
       "14  Monday      113.24  "
      ]
     },
     "execution_count": 97,
     "metadata": {},
     "output_type": "execute_result"
    }
   ],
   "source": [
    "df_tot_struct_24h.head(15)"
   ]
  },
  {
   "cell_type": "code",
   "execution_count": 98,
   "metadata": {
    "scrolled": true
   },
   "outputs": [
    {
     "data": {
      "text/plain": [
       "((100512, 11), (100512, 6), (100512, 11))"
      ]
     },
     "execution_count": 98,
     "metadata": {},
     "output_type": "execute_result"
    }
   ],
   "source": [
    "df_tot_24h.shape, struct_block_24h.shape, df_tot_struct_24h.shape"
   ]
  },
  {
   "cell_type": "code",
   "execution_count": 99,
   "metadata": {
    "scrolled": true
   },
   "outputs": [
    {
     "data": {
      "text/html": [
       "<div>\n",
       "<style scoped>\n",
       "    .dataframe tbody tr th:only-of-type {\n",
       "        vertical-align: middle;\n",
       "    }\n",
       "\n",
       "    .dataframe tbody tr th {\n",
       "        vertical-align: top;\n",
       "    }\n",
       "\n",
       "    .dataframe thead th {\n",
       "        text-align: right;\n",
       "    }\n",
       "</style>\n",
       "<table border=\"1\" class=\"dataframe\">\n",
       "  <thead>\n",
       "    <tr style=\"text-align: right;\">\n",
       "      <th></th>\n",
       "      <th>Pot_max</th>\n",
       "      <th>Year</th>\n",
       "      <th>Month</th>\n",
       "      <th>Day</th>\n",
       "      <th>Period</th>\n",
       "      <th>Block</th>\n",
       "      <th>Price</th>\n",
       "      <th>Energy</th>\n",
       "      <th>Date</th>\n",
       "      <th>Weekday</th>\n",
       "      <th>Energy_tot</th>\n",
       "    </tr>\n",
       "  </thead>\n",
       "  <tbody>\n",
       "  </tbody>\n",
       "</table>\n",
       "</div>"
      ],
      "text/plain": [
       "Empty DataFrame\n",
       "Columns: [Pot_max, Year, Month, Day, Period, Block, Price, Energy, Date, Weekday, Energy_tot]\n",
       "Index: []"
      ]
     },
     "execution_count": 99,
     "metadata": {},
     "output_type": "execute_result"
    }
   ],
   "source": [
    "df_tot_struct_24h[df_tot_struct_24h['Date']=='2019-11-6']"
   ]
  },
  {
   "cell_type": "code",
   "execution_count": 100,
   "metadata": {
    "scrolled": true
   },
   "outputs": [],
   "source": [
    "#This df has NaN since there are days without data in the original df. These NaN will be dropped in later stages\n",
    "#where the time-lagged dataframe is created"
   ]
  },
  {
   "cell_type": "code",
   "execution_count": null,
   "metadata": {},
   "outputs": [],
   "source": []
  },
  {
   "cell_type": "markdown",
   "metadata": {},
   "source": [
    "### 3.4. CREATING AN NEW DATAFRAME WITH PRICE AND ENERGY TIME-LAGGED"
   ]
  },
  {
   "cell_type": "code",
   "execution_count": 101,
   "metadata": {},
   "outputs": [],
   "source": [
    "df_tot_lagT = df_tot_struct_24h.copy()"
   ]
  },
  {
   "cell_type": "code",
   "execution_count": 102,
   "metadata": {},
   "outputs": [],
   "source": [
    "time_lag1 = 24 #One day in hours\n",
    "time_lag2 = 24*7 #One week in hours\n",
    "num_blocks = block_max #Number of blocks per each hour\n",
    "\n",
    "df_tot_lagT['Energy_24h'] = df_tot_lagT['Energy'].shift(periods=time_lag1*num_blocks)\n",
    "df_tot_lagT['Energy_168h'] = df_tot_lagT['Energy'].shift(periods=time_lag2*num_blocks)\n",
    "df_tot_lagT['Price_24h'] = df_tot_lagT['Price'].shift(periods=time_lag1*num_blocks)\n",
    "df_tot_lagT['Price_168h'] = df_tot_lagT['Price'].shift(periods=time_lag2*num_blocks)\n",
    "df_tot_lagT['Energy_tot_24h'] = df_tot_lagT['Energy_tot'].shift(periods=time_lag1*num_blocks)\n",
    "df_tot_lagT['Energy_tot_168h'] = df_tot_lagT['Energy_tot'].shift(periods=time_lag2*num_blocks)\n",
    "\n",
    "#Just for checking purposes\n",
    "df_tot_lagT['Date_24h'] = df_tot_lagT['Date'].shift(periods=time_lag1*num_blocks)\n",
    "df_tot_lagT['Period_24h'] = df_tot_lagT['Period'].shift(periods=time_lag1*num_blocks)\n",
    "df_tot_lagT['Block_24h'] = df_tot_lagT['Block'].shift(periods=time_lag1*num_blocks)\n",
    "df_tot_lagT['Date_168h'] = df_tot_lagT['Date'].shift(periods=time_lag2*num_blocks)\n",
    "df_tot_lagT['Period_168h'] = df_tot_lagT['Period'].shift(periods=time_lag2*num_blocks)\n",
    "df_tot_lagT['Block_168h'] = df_tot_lagT['Block'].shift(periods=time_lag2*num_blocks)"
   ]
  },
  {
   "cell_type": "code",
   "execution_count": 103,
   "metadata": {
    "scrolled": true
   },
   "outputs": [
    {
     "data": {
      "text/html": [
       "<div>\n",
       "<style scoped>\n",
       "    .dataframe tbody tr th:only-of-type {\n",
       "        vertical-align: middle;\n",
       "    }\n",
       "\n",
       "    .dataframe tbody tr th {\n",
       "        vertical-align: top;\n",
       "    }\n",
       "\n",
       "    .dataframe thead th {\n",
       "        text-align: right;\n",
       "    }\n",
       "</style>\n",
       "<table border=\"1\" class=\"dataframe\">\n",
       "  <thead>\n",
       "    <tr style=\"text-align: right;\">\n",
       "      <th></th>\n",
       "      <th>Pot_max</th>\n",
       "      <th>Year</th>\n",
       "      <th>Month</th>\n",
       "      <th>Day</th>\n",
       "      <th>Period</th>\n",
       "      <th>Block</th>\n",
       "      <th>Price</th>\n",
       "      <th>Energy</th>\n",
       "      <th>Date</th>\n",
       "      <th>Weekday</th>\n",
       "      <th>...</th>\n",
       "      <th>Price_24h</th>\n",
       "      <th>Price_168h</th>\n",
       "      <th>Energy_tot_24h</th>\n",
       "      <th>Energy_tot_168h</th>\n",
       "      <th>Date_24h</th>\n",
       "      <th>Period_24h</th>\n",
       "      <th>Block_24h</th>\n",
       "      <th>Date_168h</th>\n",
       "      <th>Period_168h</th>\n",
       "      <th>Block_168h</th>\n",
       "    </tr>\n",
       "  </thead>\n",
       "  <tbody>\n",
       "    <tr>\n",
       "      <th>0</th>\n",
       "      <td>397.80</td>\n",
       "      <td>2019</td>\n",
       "      <td>11</td>\n",
       "      <td>18</td>\n",
       "      <td>1</td>\n",
       "      <td>1</td>\n",
       "      <td>180.30</td>\n",
       "      <td>0.00</td>\n",
       "      <td>2019-11-18</td>\n",
       "      <td>Monday</td>\n",
       "      <td>...</td>\n",
       "      <td>nan</td>\n",
       "      <td>nan</td>\n",
       "      <td>nan</td>\n",
       "      <td>nan</td>\n",
       "      <td>NaT</td>\n",
       "      <td>nan</td>\n",
       "      <td>nan</td>\n",
       "      <td>NaT</td>\n",
       "      <td>nan</td>\n",
       "      <td>nan</td>\n",
       "    </tr>\n",
       "    <tr>\n",
       "      <th>1</th>\n",
       "      <td>397.80</td>\n",
       "      <td>2019</td>\n",
       "      <td>11</td>\n",
       "      <td>18</td>\n",
       "      <td>1</td>\n",
       "      <td>2</td>\n",
       "      <td>180.30</td>\n",
       "      <td>0.00</td>\n",
       "      <td>2019-11-18</td>\n",
       "      <td>Monday</td>\n",
       "      <td>...</td>\n",
       "      <td>nan</td>\n",
       "      <td>nan</td>\n",
       "      <td>nan</td>\n",
       "      <td>nan</td>\n",
       "      <td>NaT</td>\n",
       "      <td>nan</td>\n",
       "      <td>nan</td>\n",
       "      <td>NaT</td>\n",
       "      <td>nan</td>\n",
       "      <td>nan</td>\n",
       "    </tr>\n",
       "    <tr>\n",
       "      <th>2</th>\n",
       "      <td>397.80</td>\n",
       "      <td>2019</td>\n",
       "      <td>11</td>\n",
       "      <td>18</td>\n",
       "      <td>1</td>\n",
       "      <td>3</td>\n",
       "      <td>180.30</td>\n",
       "      <td>0.00</td>\n",
       "      <td>2019-11-18</td>\n",
       "      <td>Monday</td>\n",
       "      <td>...</td>\n",
       "      <td>nan</td>\n",
       "      <td>nan</td>\n",
       "      <td>nan</td>\n",
       "      <td>nan</td>\n",
       "      <td>NaT</td>\n",
       "      <td>nan</td>\n",
       "      <td>nan</td>\n",
       "      <td>NaT</td>\n",
       "      <td>nan</td>\n",
       "      <td>nan</td>\n",
       "    </tr>\n",
       "    <tr>\n",
       "      <th>3</th>\n",
       "      <td>397.80</td>\n",
       "      <td>2019</td>\n",
       "      <td>11</td>\n",
       "      <td>18</td>\n",
       "      <td>1</td>\n",
       "      <td>4</td>\n",
       "      <td>180.30</td>\n",
       "      <td>0.00</td>\n",
       "      <td>2019-11-18</td>\n",
       "      <td>Monday</td>\n",
       "      <td>...</td>\n",
       "      <td>nan</td>\n",
       "      <td>nan</td>\n",
       "      <td>nan</td>\n",
       "      <td>nan</td>\n",
       "      <td>NaT</td>\n",
       "      <td>nan</td>\n",
       "      <td>nan</td>\n",
       "      <td>NaT</td>\n",
       "      <td>nan</td>\n",
       "      <td>nan</td>\n",
       "    </tr>\n",
       "    <tr>\n",
       "      <th>4</th>\n",
       "      <td>397.80</td>\n",
       "      <td>2019</td>\n",
       "      <td>11</td>\n",
       "      <td>18</td>\n",
       "      <td>1</td>\n",
       "      <td>5</td>\n",
       "      <td>180.30</td>\n",
       "      <td>0.00</td>\n",
       "      <td>2019-11-18</td>\n",
       "      <td>Monday</td>\n",
       "      <td>...</td>\n",
       "      <td>nan</td>\n",
       "      <td>nan</td>\n",
       "      <td>nan</td>\n",
       "      <td>nan</td>\n",
       "      <td>NaT</td>\n",
       "      <td>nan</td>\n",
       "      <td>nan</td>\n",
       "      <td>NaT</td>\n",
       "      <td>nan</td>\n",
       "      <td>nan</td>\n",
       "    </tr>\n",
       "  </tbody>\n",
       "</table>\n",
       "<p>5 rows × 23 columns</p>\n",
       "</div>"
      ],
      "text/plain": [
       "   Pot_max  Year  Month  Day  Period  Block  Price  Energy       Date Weekday  \\\n",
       "0   397.80  2019     11   18       1      1 180.30    0.00 2019-11-18  Monday   \n",
       "1   397.80  2019     11   18       1      2 180.30    0.00 2019-11-18  Monday   \n",
       "2   397.80  2019     11   18       1      3 180.30    0.00 2019-11-18  Monday   \n",
       "3   397.80  2019     11   18       1      4 180.30    0.00 2019-11-18  Monday   \n",
       "4   397.80  2019     11   18       1      5 180.30    0.00 2019-11-18  Monday   \n",
       "\n",
       "   ...  Price_24h  Price_168h  Energy_tot_24h  Energy_tot_168h  Date_24h  \\\n",
       "0  ...        nan         nan             nan              nan       NaT   \n",
       "1  ...        nan         nan             nan              nan       NaT   \n",
       "2  ...        nan         nan             nan              nan       NaT   \n",
       "3  ...        nan         nan             nan              nan       NaT   \n",
       "4  ...        nan         nan             nan              nan       NaT   \n",
       "\n",
       "   Period_24h  Block_24h Date_168h  Period_168h  Block_168h  \n",
       "0         nan        nan       NaT          nan         nan  \n",
       "1         nan        nan       NaT          nan         nan  \n",
       "2         nan        nan       NaT          nan         nan  \n",
       "3         nan        nan       NaT          nan         nan  \n",
       "4         nan        nan       NaT          nan         nan  \n",
       "\n",
       "[5 rows x 23 columns]"
      ]
     },
     "execution_count": 103,
     "metadata": {},
     "output_type": "execute_result"
    }
   ],
   "source": [
    "df_tot_lagT.head()"
   ]
  },
  {
   "cell_type": "code",
   "execution_count": 104,
   "metadata": {},
   "outputs": [],
   "source": [
    "#Checking that the shift operation has been done OK\n",
    "\n",
    "df_tot_lagT_checking = df_tot_lagT.copy()\n",
    "\n",
    "df_tot_lagT_checking['Date_OK'] = df_tot_lagT_checking['Date'] - df_tot_lagT_checking['Date_24h']\n",
    "df_tot_lagT_checking['Date_168h_OK'] = df_tot_lagT_checking['Date'] - df_tot_lagT_checking['Date_168h']\n",
    "df_tot_lagT_checking['Period_OK'] = df_tot_lagT_checking['Period'] - df_tot_lagT_checking['Period_24h']\n",
    "df_tot_lagT_checking['Period_168h_OK'] = df_tot_lagT_checking['Period'] - df_tot_lagT_checking['Period_168h']\n",
    "df_tot_lagT_checking['Block_OK'] = df_tot_lagT_checking['Block'] - df_tot_lagT_checking['Block_24h']\n",
    "df_tot_lagT_checking['Block_168h_OK'] = df_tot_lagT_checking['Block'] - df_tot_lagT_checking['Block_168h']"
   ]
  },
  {
   "cell_type": "code",
   "execution_count": 105,
   "metadata": {},
   "outputs": [
    {
     "data": {
      "text/html": [
       "<div>\n",
       "<style scoped>\n",
       "    .dataframe tbody tr th:only-of-type {\n",
       "        vertical-align: middle;\n",
       "    }\n",
       "\n",
       "    .dataframe tbody tr th {\n",
       "        vertical-align: top;\n",
       "    }\n",
       "\n",
       "    .dataframe thead th {\n",
       "        text-align: right;\n",
       "    }\n",
       "</style>\n",
       "<table border=\"1\" class=\"dataframe\">\n",
       "  <thead>\n",
       "    <tr style=\"text-align: right;\">\n",
       "      <th></th>\n",
       "      <th>Date_OK</th>\n",
       "      <th>Date_168h_OK</th>\n",
       "      <th>Period_OK</th>\n",
       "      <th>Period_168h_OK</th>\n",
       "      <th>Block_OK</th>\n",
       "      <th>Block_168h_OK</th>\n",
       "    </tr>\n",
       "  </thead>\n",
       "  <tbody>\n",
       "    <tr>\n",
       "      <th>count</th>\n",
       "      <td>100224</td>\n",
       "      <td>98496</td>\n",
       "      <td>100,224.00</td>\n",
       "      <td>98,496.00</td>\n",
       "      <td>100,224.00</td>\n",
       "      <td>98,496.00</td>\n",
       "    </tr>\n",
       "    <tr>\n",
       "      <th>mean</th>\n",
       "      <td>1 days 00:00:00</td>\n",
       "      <td>7 days 00:00:00</td>\n",
       "      <td>0.00</td>\n",
       "      <td>0.00</td>\n",
       "      <td>0.00</td>\n",
       "      <td>0.00</td>\n",
       "    </tr>\n",
       "    <tr>\n",
       "      <th>std</th>\n",
       "      <td>0 days 00:00:00</td>\n",
       "      <td>0 days 00:00:00</td>\n",
       "      <td>0.00</td>\n",
       "      <td>0.00</td>\n",
       "      <td>0.00</td>\n",
       "      <td>0.00</td>\n",
       "    </tr>\n",
       "    <tr>\n",
       "      <th>min</th>\n",
       "      <td>1 days 00:00:00</td>\n",
       "      <td>7 days 00:00:00</td>\n",
       "      <td>0.00</td>\n",
       "      <td>0.00</td>\n",
       "      <td>0.00</td>\n",
       "      <td>0.00</td>\n",
       "    </tr>\n",
       "    <tr>\n",
       "      <th>25%</th>\n",
       "      <td>1 days 00:00:00</td>\n",
       "      <td>7 days 00:00:00</td>\n",
       "      <td>0.00</td>\n",
       "      <td>0.00</td>\n",
       "      <td>0.00</td>\n",
       "      <td>0.00</td>\n",
       "    </tr>\n",
       "    <tr>\n",
       "      <th>50%</th>\n",
       "      <td>1 days 00:00:00</td>\n",
       "      <td>7 days 00:00:00</td>\n",
       "      <td>0.00</td>\n",
       "      <td>0.00</td>\n",
       "      <td>0.00</td>\n",
       "      <td>0.00</td>\n",
       "    </tr>\n",
       "    <tr>\n",
       "      <th>75%</th>\n",
       "      <td>1 days 00:00:00</td>\n",
       "      <td>7 days 00:00:00</td>\n",
       "      <td>0.00</td>\n",
       "      <td>0.00</td>\n",
       "      <td>0.00</td>\n",
       "      <td>0.00</td>\n",
       "    </tr>\n",
       "    <tr>\n",
       "      <th>max</th>\n",
       "      <td>1 days 00:00:00</td>\n",
       "      <td>7 days 00:00:00</td>\n",
       "      <td>0.00</td>\n",
       "      <td>0.00</td>\n",
       "      <td>0.00</td>\n",
       "      <td>0.00</td>\n",
       "    </tr>\n",
       "  </tbody>\n",
       "</table>\n",
       "</div>"
      ],
      "text/plain": [
       "               Date_OK     Date_168h_OK  Period_OK  Period_168h_OK   Block_OK  \\\n",
       "count           100224            98496 100,224.00       98,496.00 100,224.00   \n",
       "mean   1 days 00:00:00  7 days 00:00:00       0.00            0.00       0.00   \n",
       "std    0 days 00:00:00  0 days 00:00:00       0.00            0.00       0.00   \n",
       "min    1 days 00:00:00  7 days 00:00:00       0.00            0.00       0.00   \n",
       "25%    1 days 00:00:00  7 days 00:00:00       0.00            0.00       0.00   \n",
       "50%    1 days 00:00:00  7 days 00:00:00       0.00            0.00       0.00   \n",
       "75%    1 days 00:00:00  7 days 00:00:00       0.00            0.00       0.00   \n",
       "max    1 days 00:00:00  7 days 00:00:00       0.00            0.00       0.00   \n",
       "\n",
       "       Block_168h_OK  \n",
       "count      98,496.00  \n",
       "mean            0.00  \n",
       "std             0.00  \n",
       "min             0.00  \n",
       "25%             0.00  \n",
       "50%             0.00  \n",
       "75%             0.00  \n",
       "max             0.00  "
      ]
     },
     "execution_count": 105,
     "metadata": {},
     "output_type": "execute_result"
    }
   ],
   "source": [
    "df_tot_lagT_checking[['Date_OK','Date_168h_OK','Period_OK','Period_168h_OK','Block_OK','Block_168h_OK']].describe()"
   ]
  },
  {
   "cell_type": "code",
   "execution_count": 106,
   "metadata": {},
   "outputs": [],
   "source": [
    "#Everthing is OK since date date time interval is 1 day and 7 days and period, and blocks are the same for all\n",
    "#of the rows"
   ]
  },
  {
   "cell_type": "code",
   "execution_count": 107,
   "metadata": {},
   "outputs": [],
   "source": [
    "#Picking the correct columns\n",
    "columns = ['Year', 'Month', 'Day', 'Period', 'Block', 'Date', 'Weekday',\n",
    "           'Energy', 'Energy_tot','Price', 'Energy_24h', 'Energy_tot_24h', 'Price_24h', \n",
    "           'Energy_168h', 'Energy_tot_168h', 'Price_168h', 'Pot_max']"
   ]
  },
  {
   "cell_type": "code",
   "execution_count": 108,
   "metadata": {},
   "outputs": [],
   "source": [
    "df_tot_lagT = df_tot_lagT[columns]"
   ]
  },
  {
   "cell_type": "code",
   "execution_count": 109,
   "metadata": {
    "scrolled": false
   },
   "outputs": [],
   "source": [
    "#Dropping all rows with NaN, since there are not enought data to build a dataframe (due to time lagging and \n",
    "#lack of data from the original dataframe\n",
    "\n",
    "df_tot_lagT.dropna(inplace=True)\n",
    "df_tot_lagT = df_tot_lagT.reset_index(drop=True)"
   ]
  },
  {
   "cell_type": "code",
   "execution_count": null,
   "metadata": {},
   "outputs": [],
   "source": []
  },
  {
   "cell_type": "code",
   "execution_count": 110,
   "metadata": {},
   "outputs": [
    {
     "name": "stdout",
     "output_type": "stream",
     "text": [
      "No NaN in df\n"
     ]
    }
   ],
   "source": [
    "#Searching for NaN\n",
    "\n",
    "if df_tot_lagT.shape[0] == df_tot_lagT.dropna().shape[0]:\n",
    "    print('No NaN in df')"
   ]
  },
  {
   "cell_type": "code",
   "execution_count": 111,
   "metadata": {},
   "outputs": [
    {
     "data": {
      "text/html": [
       "<div>\n",
       "<style scoped>\n",
       "    .dataframe tbody tr th:only-of-type {\n",
       "        vertical-align: middle;\n",
       "    }\n",
       "\n",
       "    .dataframe tbody tr th {\n",
       "        vertical-align: top;\n",
       "    }\n",
       "\n",
       "    .dataframe thead th {\n",
       "        text-align: right;\n",
       "    }\n",
       "</style>\n",
       "<table border=\"1\" class=\"dataframe\">\n",
       "  <thead>\n",
       "    <tr style=\"text-align: right;\">\n",
       "      <th></th>\n",
       "      <th>Year</th>\n",
       "      <th>Month</th>\n",
       "      <th>Day</th>\n",
       "      <th>Period</th>\n",
       "      <th>Block</th>\n",
       "      <th>Date</th>\n",
       "      <th>Weekday</th>\n",
       "      <th>Energy</th>\n",
       "      <th>Energy_tot</th>\n",
       "      <th>Price</th>\n",
       "      <th>Energy_24h</th>\n",
       "      <th>Energy_tot_24h</th>\n",
       "      <th>Price_24h</th>\n",
       "      <th>Energy_168h</th>\n",
       "      <th>Energy_tot_168h</th>\n",
       "      <th>Price_168h</th>\n",
       "      <th>Pot_max</th>\n",
       "    </tr>\n",
       "  </thead>\n",
       "  <tbody>\n",
       "    <tr>\n",
       "      <th>0</th>\n",
       "      <td>2019</td>\n",
       "      <td>11</td>\n",
       "      <td>25</td>\n",
       "      <td>1</td>\n",
       "      <td>1</td>\n",
       "      <td>2019-11-25</td>\n",
       "      <td>Monday</td>\n",
       "      <td>0.00</td>\n",
       "      <td>50.00</td>\n",
       "      <td>180.30</td>\n",
       "      <td>0.00</td>\n",
       "      <td>50.00</td>\n",
       "      <td>180.30</td>\n",
       "      <td>0.00</td>\n",
       "      <td>50.00</td>\n",
       "      <td>180.30</td>\n",
       "      <td>397.80</td>\n",
       "    </tr>\n",
       "    <tr>\n",
       "      <th>1</th>\n",
       "      <td>2019</td>\n",
       "      <td>11</td>\n",
       "      <td>25</td>\n",
       "      <td>1</td>\n",
       "      <td>2</td>\n",
       "      <td>2019-11-25</td>\n",
       "      <td>Monday</td>\n",
       "      <td>0.00</td>\n",
       "      <td>81.62</td>\n",
       "      <td>180.30</td>\n",
       "      <td>0.00</td>\n",
       "      <td>81.62</td>\n",
       "      <td>180.30</td>\n",
       "      <td>0.00</td>\n",
       "      <td>81.62</td>\n",
       "      <td>180.30</td>\n",
       "      <td>397.80</td>\n",
       "    </tr>\n",
       "    <tr>\n",
       "      <th>2</th>\n",
       "      <td>2019</td>\n",
       "      <td>11</td>\n",
       "      <td>25</td>\n",
       "      <td>1</td>\n",
       "      <td>3</td>\n",
       "      <td>2019-11-25</td>\n",
       "      <td>Monday</td>\n",
       "      <td>0.00</td>\n",
       "      <td>113.24</td>\n",
       "      <td>180.30</td>\n",
       "      <td>0.00</td>\n",
       "      <td>113.24</td>\n",
       "      <td>180.30</td>\n",
       "      <td>0.00</td>\n",
       "      <td>113.24</td>\n",
       "      <td>180.30</td>\n",
       "      <td>397.80</td>\n",
       "    </tr>\n",
       "    <tr>\n",
       "      <th>3</th>\n",
       "      <td>2019</td>\n",
       "      <td>11</td>\n",
       "      <td>25</td>\n",
       "      <td>1</td>\n",
       "      <td>4</td>\n",
       "      <td>2019-11-25</td>\n",
       "      <td>Monday</td>\n",
       "      <td>0.00</td>\n",
       "      <td>144.85</td>\n",
       "      <td>180.30</td>\n",
       "      <td>0.00</td>\n",
       "      <td>144.85</td>\n",
       "      <td>180.30</td>\n",
       "      <td>0.00</td>\n",
       "      <td>144.85</td>\n",
       "      <td>180.30</td>\n",
       "      <td>397.80</td>\n",
       "    </tr>\n",
       "    <tr>\n",
       "      <th>4</th>\n",
       "      <td>2019</td>\n",
       "      <td>11</td>\n",
       "      <td>25</td>\n",
       "      <td>1</td>\n",
       "      <td>5</td>\n",
       "      <td>2019-11-25</td>\n",
       "      <td>Monday</td>\n",
       "      <td>0.00</td>\n",
       "      <td>176.47</td>\n",
       "      <td>180.30</td>\n",
       "      <td>0.00</td>\n",
       "      <td>176.47</td>\n",
       "      <td>180.30</td>\n",
       "      <td>0.00</td>\n",
       "      <td>176.47</td>\n",
       "      <td>180.30</td>\n",
       "      <td>397.80</td>\n",
       "    </tr>\n",
       "  </tbody>\n",
       "</table>\n",
       "</div>"
      ],
      "text/plain": [
       "   Year  Month  Day  Period  Block       Date Weekday  Energy  Energy_tot  \\\n",
       "0  2019     11   25       1      1 2019-11-25  Monday    0.00       50.00   \n",
       "1  2019     11   25       1      2 2019-11-25  Monday    0.00       81.62   \n",
       "2  2019     11   25       1      3 2019-11-25  Monday    0.00      113.24   \n",
       "3  2019     11   25       1      4 2019-11-25  Monday    0.00      144.85   \n",
       "4  2019     11   25       1      5 2019-11-25  Monday    0.00      176.47   \n",
       "\n",
       "   Price  Energy_24h  Energy_tot_24h  Price_24h  Energy_168h  Energy_tot_168h  \\\n",
       "0 180.30        0.00           50.00     180.30         0.00            50.00   \n",
       "1 180.30        0.00           81.62     180.30         0.00            81.62   \n",
       "2 180.30        0.00          113.24     180.30         0.00           113.24   \n",
       "3 180.30        0.00          144.85     180.30         0.00           144.85   \n",
       "4 180.30        0.00          176.47     180.30         0.00           176.47   \n",
       "\n",
       "   Price_168h  Pot_max  \n",
       "0      180.30   397.80  \n",
       "1      180.30   397.80  \n",
       "2      180.30   397.80  \n",
       "3      180.30   397.80  \n",
       "4      180.30   397.80  "
      ]
     },
     "execution_count": 111,
     "metadata": {},
     "output_type": "execute_result"
    }
   ],
   "source": [
    "df_tot_lagT.head()"
   ]
  },
  {
   "cell_type": "code",
   "execution_count": null,
   "metadata": {},
   "outputs": [],
   "source": []
  },
  {
   "cell_type": "code",
   "execution_count": 112,
   "metadata": {},
   "outputs": [
    {
     "data": {
      "text/plain": [
       "342.0"
      ]
     },
     "execution_count": 112,
     "metadata": {},
     "output_type": "execute_result"
    }
   ],
   "source": [
    "df_tot_lagT.shape[0]/12/24"
   ]
  },
  {
   "cell_type": "code",
   "execution_count": 113,
   "metadata": {},
   "outputs": [
    {
     "data": {
      "text/plain": [
       "342"
      ]
     },
     "execution_count": 113,
     "metadata": {},
     "output_type": "execute_result"
    }
   ],
   "source": [
    "(df_tot_lagT['Date'].max() - df_tot_lagT['Date'].min()).days + 1"
   ]
  },
  {
   "cell_type": "code",
   "execution_count": null,
   "metadata": {},
   "outputs": [],
   "source": []
  },
  {
   "cell_type": "code",
   "execution_count": null,
   "metadata": {},
   "outputs": [],
   "source": []
  },
  {
   "cell_type": "markdown",
   "metadata": {},
   "source": [
    "### 3.5. CREATING DATAFRAMES AS MODELS' INPUT\n"
   ]
  },
  {
   "cell_type": "markdown",
   "metadata": {},
   "source": [
    "### 3.5.1. BUILDING DATAFRAMES PER PERIOD (HOUR) - DELTA ENERGY APPROACH\n",
    "\n",
    "In this section models' input dataframes will be created, considering that the models will be built for each period (hour). \n",
    "\n",
    "First of all, the following features will be considered for X:\n",
    "\n",
    "* Weekday\n",
    "* Block\n",
    "* Energy 24h lagged\n",
    "* Energy 168h lagged\n",
    "* Price 24h lagged\n",
    "* Price 168h lagged\n",
    "\n",
    "The target variables (y) will be:\n",
    "\n",
    "* Energy\n",
    "* Price\n",
    "\n",
    "Note that Delta Energy will be considered as Energy. It is considered that this approach will work better than considering Energy as target instead of Energy_tot."
   ]
  },
  {
   "cell_type": "markdown",
   "metadata": {},
   "source": [
    "Dataframes will be splitted in the following way:\n",
    "\n",
    "* TRAIN SET: data set to train the models\n",
    "* VALIDATION SET: data set to validate and to select the models' hyperparamenters\n",
    "* TEST SET: data set to test the models\n",
    "\n",
    "The sppliting will be done considering the following time preriods:\n",
    "\n",
    "* TEST SET: last month of the data set --> 2020-10-01 to 2020-10-31\n",
    "* VALIDATION SET: before last month of the data set --> 2020-09-01 to 2020-09-30\n",
    "* TRAIN SET: rest of the dataframe"
   ]
  },
  {
   "cell_type": "markdown",
   "metadata": {},
   "source": [
    "Dataframes will be splitted in the same way as it was done with the Energy_tot approach:\n",
    "\n",
    "* TEST SET: last month of the data set --> 2020-10-01 to 2020-10-31\n",
    "* VALIDATION SET: before last month of the data set --> 2020-09-01 to 2020-09-30\n",
    "* TRAIN SET: rest of the dataframe"
   ]
  },
  {
   "cell_type": "code",
   "execution_count": 114,
   "metadata": {},
   "outputs": [],
   "source": [
    "df_set_dE = df_tot_lagT[['Year','Month','Day','Period','Date','Weekday','Block',\n",
    "                      'Energy','Price','Energy_24h','Energy_168h','Price_24h','Price_168h']]"
   ]
  },
  {
   "cell_type": "markdown",
   "metadata": {},
   "source": [
    "#### TEST SET"
   ]
  },
  {
   "cell_type": "code",
   "execution_count": 115,
   "metadata": {},
   "outputs": [],
   "source": [
    "df_set_dE_TEST = df_set_dE[(df_set_dE['Year'] == df_set_dE['Date'].max().year)&\n",
    "               (df_set_dE['Month'] == df_set_dE['Date'].max().month)]\n",
    "\n",
    "df_set_dE_TEST = df_set_dE_TEST.reset_index(drop=True)\n",
    "\n",
    "df_set_dE_TEST_period = [df_set_dE_TEST[df_set_dE_TEST['Period']==hour] for hour in range(1,25)]\n",
    "\n",
    "df_X_dE_TEST = []\n",
    "y_dE_TEST = []\n",
    "\n",
    "for df in df_set_dE_TEST_period:\n",
    "    df_X_dE_TEST.append(df[['Weekday','Block','Energy_24h','Energy_168h','Price_24h','Price_168h']])\n",
    "    y_dE_TEST.append(np.array(df[['Energy','Price']]))"
   ]
  },
  {
   "cell_type": "markdown",
   "metadata": {},
   "source": [
    "#### VALIDATION SET"
   ]
  },
  {
   "cell_type": "code",
   "execution_count": 116,
   "metadata": {},
   "outputs": [],
   "source": [
    "df_set_dE_VAL = df_set_dE[(df_set_dE['Year'] == (df_set_dE_TEST['Date'].min() - timedelta(days=1)).year)&\n",
    "               (df_set_dE['Month'] == (df_set_dE_TEST['Date'].min() - timedelta(days=1)).month)]\n",
    "\n",
    "df_set_dE_VAL = df_set_dE_VAL.reset_index(drop=True)\n",
    "\n",
    "df_set_dE_VAL_period = [df_set_dE_VAL[df_set_dE_VAL['Period']==hour] for hour in range(1,25)]\n",
    "\n",
    "df_X_dE_VAL = []\n",
    "y_dE_VAL = []\n",
    "\n",
    "for df in df_set_dE_VAL_period:\n",
    "    df_X_dE_VAL.append(df[['Weekday','Block','Energy_24h','Energy_168h','Price_24h','Price_168h']])\n",
    "    y_dE_VAL.append(np.array(df[['Energy','Price']])) #Note y_test is a np.array"
   ]
  },
  {
   "cell_type": "markdown",
   "metadata": {},
   "source": [
    "#### TRAIN SET"
   ]
  },
  {
   "cell_type": "code",
   "execution_count": 117,
   "metadata": {
    "scrolled": true
   },
   "outputs": [],
   "source": [
    "df_set_dE_TRAIN_start = df_set_dE[((df_set_dE['Date'] == df_set_dE['Date'].min()) \n",
    "                                   & (df_set_dE['Period'] == 1)  \n",
    "                                   & (df_set_dE['Block'] == 1))].index\n",
    "\n",
    "df_set_dE_TRAIN_end = df_set_dE[(df_set_dE['Date'] == df_set_dE_VAL['Date'].min()- timedelta(days=1)) \n",
    "                                & (df_set_dE['Period'] == 24)  & (df_set_dE['Block'] == block_max)].index\n",
    "\n",
    "df_set_dE_TRAIN = df_set_dE.iloc[df_set_dE_TRAIN_start[0]:df_set_dE_TRAIN_end[0]+1]\n",
    "\n",
    "df_set_dE_num_days = (df_set_dE['Date'].max()-df_set_dE['Date'].min()).days + 1 \n",
    "df_set_dE_TEST_num_days = (df_set_dE_TEST['Date'].max()-df_set_dE_TEST['Date'].min()).days + 1\n",
    "df_set_dE_VAL_num_days = (df_set_dE_VAL['Date'].max()-df_set_dE_VAL['Date'].min()).days + 1\n",
    "df_set_dE_TRAIN_num_days = df_set_dE_num_days - df_set_dE_TEST_num_days - df_set_dE_VAL_num_days\n",
    "df_set_dE_TRAIN_num_days\n",
    "\n",
    "df_set_dE_TRAIN_period = [df_set_dE_TRAIN[df_set_dE_TRAIN['Period']==hour] for hour in range(1,25)]\n",
    "\n",
    "df_X_dE_TRAIN = []\n",
    "y_dE_TRAIN = []\n",
    "\n",
    "for df in df_set_dE_TRAIN_period:\n",
    "    df_X_dE_TRAIN.append(df[['Weekday','Block','Energy_24h','Energy_168h','Price_24h','Price_168h']])\n",
    "    y_dE_TRAIN.append(np.array(df[['Energy','Price']])) #Note y_train is a np.array"
   ]
  },
  {
   "cell_type": "code",
   "execution_count": null,
   "metadata": {},
   "outputs": [],
   "source": []
  },
  {
   "cell_type": "markdown",
   "metadata": {},
   "source": [
    "#### TRAIN + VALIDATION SET"
   ]
  },
  {
   "cell_type": "code",
   "execution_count": 118,
   "metadata": {},
   "outputs": [],
   "source": [
    "df_X_dE_TRAIN_VAL = []\n",
    "\n",
    "for hour in range(0,len(df_X_dE_TRAIN)):\n",
    "    df_X_dE_TRAIN_VAL.append(pd.concat([df_X_dE_TRAIN[hour], df_X_dE_VAL[hour]],axis=0))"
   ]
  },
  {
   "cell_type": "code",
   "execution_count": 119,
   "metadata": {},
   "outputs": [],
   "source": [
    "y_dE_TRAIN_VAL = []\n",
    "\n",
    "for hour in range(0,len(df_X_dE_TRAIN)):\n",
    "    y_dE_TRAIN_VAL.append(np.concatenate((y_dE_TRAIN[hour], \n",
    "                             y_dE_VAL[hour]),\n",
    "                            axis=0))"
   ]
  },
  {
   "cell_type": "markdown",
   "metadata": {},
   "source": [
    "### 3.5.2. NORMALIZATION AND ONE-HOT-ENCODING FOR FEATURES MODELS' INPUT - DELTA ENERGY APPROACH\n",
    "\n",
    "In this section X_train, X_val, and X_test will be transformed to normalize the Price and Energy features (24h and 168h lagged) and Weekday, and Block (categorical variables) will be transformed using One-Hot-Encoding."
   ]
  },
  {
   "cell_type": "markdown",
   "metadata": {},
   "source": [
    "#### TRAIN SET - ENCODING"
   ]
  },
  {
   "cell_type": "code",
   "execution_count": 120,
   "metadata": {},
   "outputs": [],
   "source": [
    "#One-hot encoding will be used to convert variables from categorical to binary.\n",
    "\n",
    "from sklearn.preprocessing import OneHotEncoder\n",
    "\n",
    "df_X_TRAIN_cat = []\n",
    "\n",
    "for df in df_X_dE_TRAIN:\n",
    "    df_X_TRAIN_cat.append(df[['Weekday','Block']])\n",
    "\n",
    "one_encoder = OneHotEncoder(drop=None, sparse=False) #Changing 'first' with 'None'\n",
    "\n",
    "df_X_TRAIN_cat_onehot_encoder = []\n",
    "\n",
    "for hour in range(0,len(df_X_dE_TRAIN)):\n",
    "    \n",
    "    df_X_TRAIN_cat_onehot_encoder.append(one_encoder.fit(df_X_TRAIN_cat[hour]))\n",
    "    \n",
    "df_X_TRAIN_cat_onehot = []\n",
    "\n",
    "for hour in range(0,len(df_X_dE_TRAIN)):\n",
    "    \n",
    "    df_X_TRAIN_cat_onehot.append(df_X_TRAIN_cat_onehot_encoder[hour].transform(df_X_TRAIN_cat[hour]))"
   ]
  },
  {
   "cell_type": "code",
   "execution_count": 121,
   "metadata": {},
   "outputs": [],
   "source": [
    "#Normalization of Energy_tot (24h and 168h lagged) to [0,1], by dividing the entire columns with Pmax.\n",
    "\n",
    "Energy_tot_max = df_tot_lagT['Pot_max'].max()\n",
    "\n",
    "df_X_dE_TRAIN_energy_norm = []\n",
    "\n",
    "for df in df_X_dE_TRAIN:\n",
    "    df_X_dE_TRAIN_energy_norm.append(df[['Energy_24h', 'Energy_168h']]/Energy_tot_max)"
   ]
  },
  {
   "cell_type": "code",
   "execution_count": null,
   "metadata": {},
   "outputs": [],
   "source": []
  },
  {
   "cell_type": "code",
   "execution_count": 122,
   "metadata": {},
   "outputs": [],
   "source": [
    "#Normalization of Price (24h and 168h lagged) by stardard method (mean = 0 and std = 1)\n",
    "\n",
    "from sklearn.preprocessing import StandardScaler\n",
    "\n",
    "df_X_TRAIN_price = []\n",
    "\n",
    "for df in df_X_dE_TRAIN:\n",
    "    df_X_TRAIN_price.append(df[['Price_24h','Price_168h']])\n",
    "\n",
    "std_encoder = StandardScaler()\n",
    "\n",
    "df_X_TRAIN_price_std_encoder = []\n",
    "\n",
    "for hour in range(0,len(df_X_dE_TRAIN)):\n",
    "    \n",
    "    df_X_TRAIN_price_std_encoder.append(std_encoder.fit(df_X_TRAIN_price[hour]))\n",
    "    \n",
    "\n",
    "    df_X_TRAIN_price_std = []\n",
    "\n",
    "for hour in range(0,len(df_X_dE_TRAIN)):\n",
    "    \n",
    "    df_X_TRAIN_price_std.append(df_X_TRAIN_price_std_encoder[hour].transform(df_X_TRAIN_price[hour]))"
   ]
  },
  {
   "cell_type": "code",
   "execution_count": 123,
   "metadata": {
    "scrolled": true
   },
   "outputs": [],
   "source": [
    "X_dE_TRAIN = []\n",
    "\n",
    "for hour in range(0,len(df_X_dE_TRAIN)):\n",
    "\n",
    "    X_dE_TRAIN.append(np.concatenate((df_X_TRAIN_cat_onehot[hour], \n",
    "                             df_X_dE_TRAIN_energy_norm[hour],\n",
    "                             df_X_TRAIN_price_std[hour]),\n",
    "                            axis=1))"
   ]
  },
  {
   "cell_type": "code",
   "execution_count": 124,
   "metadata": {
    "scrolled": true
   },
   "outputs": [
    {
     "data": {
      "text/plain": [
       "((3372, 19), (3372, 2), (3372, 2))"
      ]
     },
     "execution_count": 124,
     "metadata": {},
     "output_type": "execute_result"
    }
   ],
   "source": [
    "df_X_TRAIN_cat_onehot[0].shape, df_X_dE_TRAIN_energy_norm[0].shape, df_X_TRAIN_price_std[0].shape"
   ]
  },
  {
   "cell_type": "code",
   "execution_count": 125,
   "metadata": {
    "scrolled": true
   },
   "outputs": [
    {
     "data": {
      "text/plain": [
       "(24, 24, 24)"
      ]
     },
     "execution_count": 125,
     "metadata": {},
     "output_type": "execute_result"
    }
   ],
   "source": [
    "len(df_X_TRAIN_cat_onehot), len(df_X_dE_TRAIN_energy_norm), len(df_X_TRAIN_price_std)"
   ]
  },
  {
   "cell_type": "code",
   "execution_count": 126,
   "metadata": {},
   "outputs": [
    {
     "data": {
      "text/plain": [
       "24"
      ]
     },
     "execution_count": 126,
     "metadata": {},
     "output_type": "execute_result"
    }
   ],
   "source": [
    "len(df_X_dE_TRAIN)"
   ]
  },
  {
   "cell_type": "code",
   "execution_count": 127,
   "metadata": {},
   "outputs": [
    {
     "data": {
      "text/plain": [
       "(3372, 23)"
      ]
     },
     "execution_count": 127,
     "metadata": {},
     "output_type": "execute_result"
    }
   ],
   "source": [
    "X_dE_TRAIN[0].shape"
   ]
  },
  {
   "cell_type": "code",
   "execution_count": 128,
   "metadata": {
    "scrolled": true
   },
   "outputs": [
    {
     "data": {
      "text/plain": [
       "numpy.ndarray"
      ]
     },
     "execution_count": 128,
     "metadata": {},
     "output_type": "execute_result"
    }
   ],
   "source": [
    "type(X_dE_TRAIN[0])"
   ]
  },
  {
   "cell_type": "markdown",
   "metadata": {},
   "source": [
    "#### VALIDATION SET - ENCODING --> FITTING WITH TRAIN SET"
   ]
  },
  {
   "cell_type": "code",
   "execution_count": 129,
   "metadata": {},
   "outputs": [],
   "source": [
    "#One-hot encoding will be used to convert variables from categorical to binary.\n",
    "\n",
    "df_X_VAL_cat = []\n",
    "for df in df_X_dE_VAL:\n",
    "    df_X_VAL_cat.append(df[['Weekday','Block']])\n",
    "    \n",
    "df_X_VAL_cat_onehot = []\n",
    "for hour in range(0,len(df_X_dE_VAL)):\n",
    "    df_X_VAL_cat_onehot.append(df_X_TRAIN_cat_onehot_encoder[hour].transform(df_X_VAL_cat[hour]))\n",
    "    \n",
    "#Normalization of Energy_tot (24h and 168h lagged) to [0,1], by dividing the entire columns with Pmax.\n",
    "df_X_dE_VAL_energy_norm = []\n",
    "for df in df_X_dE_VAL:\n",
    "    df_X_dE_VAL_energy_norm.append(df[['Energy_24h', 'Energy_168h']]/Energy_tot_max)\n",
    "    \n",
    "#Normalization of Price (24h and 168h lagged) by stardard method (mean = 0 and std = 1)\n",
    "df_X_VAL_price = []\n",
    "\n",
    "for df in df_X_dE_VAL:\n",
    "    df_X_VAL_price.append(df[['Price_24h','Price_168h']])\n",
    "    \n",
    "df_X_VAL_price_std = []\n",
    "for hour in range(0,len(df_X_dE_VAL)):\n",
    "    df_X_VAL_price_std.append(df_X_TRAIN_price_std_encoder[hour].transform(df_X_VAL_price[hour]))\n",
    "    \n",
    "X_dE_VAL = []\n",
    "for hour in range(0,len(df_X_dE_VAL)):\n",
    "    X_dE_VAL.append(np.concatenate((df_X_VAL_cat_onehot[hour], \n",
    "                             df_X_dE_VAL_energy_norm[hour],\n",
    "                             df_X_VAL_price_std[hour]),\n",
    "                            axis=1))"
   ]
  },
  {
   "cell_type": "markdown",
   "metadata": {},
   "source": [
    "#### TEST SET - ENCODING --> FITTING WITH TRAIN_VAL SET"
   ]
  },
  {
   "cell_type": "code",
   "execution_count": 130,
   "metadata": {},
   "outputs": [],
   "source": [
    "#One-hot encoding will be used to convert variables from categorical to binary.\n",
    "\n",
    "from sklearn.preprocessing import OneHotEncoder\n",
    "\n",
    "one_encoder = OneHotEncoder(drop=None, sparse=False) #Changing 'first' with 'None'\n",
    "\n",
    "df_X_TEST_cat = []\n",
    "\n",
    "for df in df_X_dE_TEST:\n",
    "    df_X_TEST_cat.append(df[['Weekday','Block']])\n",
    "\n",
    "df_X_TRAIN_VAL_cat = []\n",
    "\n",
    "for df in df_X_dE_TRAIN_VAL:\n",
    "    df_X_TRAIN_VAL_cat.append(df[['Weekday','Block']])\n",
    "\n",
    "df_X_TRAIN_VAL_cat_onehot_encoder = []\n",
    "for hour in range(0,len(df_X_dE_TRAIN_VAL)):\n",
    "    df_X_TRAIN_VAL_cat_onehot_encoder.append(one_encoder.fit(df_X_TRAIN_VAL_cat[hour]))\n",
    "\n",
    "df_X_TRAIN_VAL_cat_onehot = []\n",
    "for hour in range(0,len(df_X_dE_TRAIN_VAL)):\n",
    "    df_X_TRAIN_VAL_cat_onehot.append(df_X_TRAIN_VAL_cat_onehot_encoder[hour].transform(df_X_TRAIN_VAL_cat[hour]))\n",
    "    \n",
    "df_X_TEST_cat_onehot = []\n",
    "for hour in range(0,len(df_X_dE_TEST)):\n",
    "    df_X_TEST_cat_onehot.append(df_X_TRAIN_VAL_cat_onehot_encoder[hour].transform(df_X_TEST_cat[hour]))"
   ]
  },
  {
   "cell_type": "code",
   "execution_count": 131,
   "metadata": {},
   "outputs": [],
   "source": [
    "#Normalization of Energy_tot (24h and 168h lagged) to [0,1], by dividing the entire columns with Pmax.\n",
    "df_X_dE_TEST_energy_norm = []\n",
    "for df in df_X_dE_TEST:\n",
    "    df_X_dE_TEST_energy_norm.append(df[['Energy_24h', 'Energy_168h']]/Energy_tot_max)\n",
    "    \n",
    "df_X_dE_TRAIN_VAL_energy_norm = []\n",
    "for df in df_X_dE_TRAIN_VAL:\n",
    "    df_X_dE_TRAIN_VAL_energy_norm.append(df[['Energy_24h', 'Energy_168h']]/Energy_tot_max)"
   ]
  },
  {
   "cell_type": "code",
   "execution_count": null,
   "metadata": {},
   "outputs": [],
   "source": []
  },
  {
   "cell_type": "code",
   "execution_count": 132,
   "metadata": {},
   "outputs": [],
   "source": [
    "#Normalization of Price (24h and 168h lagged) by stardard method (mean = 0 and std = 1)\n",
    "\n",
    "from sklearn.preprocessing import StandardScaler\n",
    "\n",
    "df_X_TEST_price = []\n",
    "\n",
    "for df in df_X_dE_TEST:\n",
    "    df_X_TEST_price.append(df[['Price_24h','Price_168h']])\n",
    "\n",
    "df_X_TRAIN_VAL_price = []\n",
    "\n",
    "for df in df_X_dE_TRAIN_VAL:\n",
    "    df_X_TRAIN_VAL_price.append(df[['Price_24h','Price_168h']])\n",
    "    \n",
    "std_encoder = StandardScaler()\n",
    "\n",
    "df_X_TRAIN_VAL_price_std_encoder = []\n",
    "\n",
    "for hour in range(0,len(df_X_dE_TRAIN_VAL)):  \n",
    "    df_X_TRAIN_VAL_price_std_encoder.append(std_encoder.fit(df_X_TRAIN_VAL_price[hour]))\n",
    "    \n",
    "df_X_TRAIN_VAL_price_std = []\n",
    "for hour in range(0,len(df_X_dE_TRAIN_VAL)):   \n",
    "    df_X_TRAIN_VAL_price_std.append(df_X_TRAIN_VAL_price_std_encoder[hour].transform(df_X_TRAIN_VAL_price[hour]))\n",
    "    \n",
    "df_X_TEST_price_std = []\n",
    "for hour in range(0,len(df_X_dE_TEST)):   \n",
    "    df_X_TEST_price_std.append(df_X_TRAIN_VAL_price_std_encoder[hour].transform(df_X_TEST_price[hour]))"
   ]
  },
  {
   "cell_type": "code",
   "execution_count": null,
   "metadata": {},
   "outputs": [],
   "source": []
  },
  {
   "cell_type": "code",
   "execution_count": 133,
   "metadata": {},
   "outputs": [],
   "source": [
    "X_dE_TEST = []\n",
    "for hour in range(0,len(df_X_dE_TEST)):\n",
    "    X_dE_TEST.append(np.concatenate((df_X_TEST_cat_onehot[hour], \n",
    "                             df_X_dE_TEST_energy_norm[hour],\n",
    "                             df_X_TEST_price_std[hour]),\n",
    "                            axis=1))"
   ]
  },
  {
   "cell_type": "code",
   "execution_count": 134,
   "metadata": {},
   "outputs": [],
   "source": [
    "X_dE_TRAIN_VAL = []\n",
    "for hour in range(0,len(df_X_dE_TRAIN_VAL)):\n",
    "    X_dE_TRAIN_VAL.append(np.concatenate((df_X_TRAIN_VAL_cat_onehot[hour], \n",
    "                             df_X_dE_TRAIN_VAL_energy_norm[hour],\n",
    "                             df_X_TRAIN_VAL_price_std[hour]),\n",
    "                            axis=1))"
   ]
  },
  {
   "cell_type": "code",
   "execution_count": null,
   "metadata": {},
   "outputs": [],
   "source": []
  },
  {
   "cell_type": "markdown",
   "metadata": {},
   "source": [
    "## 4. MULTI-OUTPUT REGRESSION MODELS\n",
    "\n",
    "In this section, several multi-output regression models will be develop to predict Energy_tot and Price.\n",
    "\n",
    "Test set will be used to adjust the models' hyperparameters and Validation test will be used to calibrate the quality of the models."
   ]
  },
  {
   "cell_type": "code",
   "execution_count": 135,
   "metadata": {
    "scrolled": true
   },
   "outputs": [
    {
     "data": {
      "text/plain": [
       "(numpy.ndarray, numpy.ndarray)"
      ]
     },
     "execution_count": 135,
     "metadata": {},
     "output_type": "execute_result"
    }
   ],
   "source": [
    "type(X_dE_TRAIN[0]), type(y_dE_TRAIN[0])"
   ]
  },
  {
   "cell_type": "code",
   "execution_count": 136,
   "metadata": {
    "scrolled": true
   },
   "outputs": [
    {
     "data": {
      "text/plain": [
       "array([[  0. , 180.3],\n",
       "       [  0. , 180.3],\n",
       "       [  0. , 180.3],\n",
       "       ...,\n",
       "       [  0. , 180.3],\n",
       "       [  0. , 180.3],\n",
       "       [397.8, 180.3]])"
      ]
     },
     "execution_count": 136,
     "metadata": {},
     "output_type": "execute_result"
    }
   ],
   "source": [
    "y_dE_TRAIN[0]"
   ]
  },
  {
   "cell_type": "markdown",
   "metadata": {},
   "source": [
    "### 4.1. MULTI-OUTPUT RANDOM FOREST REGRESSION - DELTA ENERGY APPROACH\n",
    "\n",
    "\n",
    "Models are fitted with the TRAIN SET and predictions to fit the hyperparameters are checked with VALIDATION SET.\n",
    "After selecting the hyperparameters, fit is done with TRAIN + VALIDATION SET and predictions with TEST SET."
   ]
  },
  {
   "cell_type": "code",
   "execution_count": 137,
   "metadata": {},
   "outputs": [],
   "source": [
    "import pickle\n",
    "\n",
    "hours = len(X_dE_TEST)"
   ]
  },
  {
   "cell_type": "code",
   "execution_count": 138,
   "metadata": {},
   "outputs": [],
   "source": [
    "# RANDOM FOREST\n",
    "from sklearn.ensemble import RandomForestRegressor\n",
    "\n",
    "reg_rf = RandomForestRegressor(n_estimators=100)"
   ]
  },
  {
   "cell_type": "markdown",
   "metadata": {},
   "source": [
    "#### 4.1.1. RANDOM FOREST - BASIC APPROACH"
   ]
  },
  {
   "cell_type": "code",
   "execution_count": 139,
   "metadata": {},
   "outputs": [],
   "source": [
    "reg_rf_fit_dE_TRAIN_VAL_pkl_names = []\n",
    "\n",
    "for hour in range(0,hours):    \n",
    "    model_name = '/home/dsc/Repos/TFM/Models_pkl/' + unit + '_rf_fit_dE_TRAIN_VAL_hour_' + str(hour+1) + '.pkl'\n",
    "    reg_rf_fit_dE_TRAIN_VAL_pkl_names.append(model_name)\n",
    "    \n",
    "    #Lines commented because models have been stored already\n",
    "    reg_rf_fit_dE_TRAIN_VAL = reg_rf.fit(X_dE_TRAIN_VAL[hour],y_dE_TRAIN_VAL[hour]) \n",
    "    pickle.dump(reg_rf_fit_dE_TRAIN_VAL, open(model_name, 'wb'))\n",
    "    \n",
    "\n",
    "y_dE_TEST_pred_rf = []\n",
    "for hour in range(0,hours):\n",
    "    loaded_model = pickle.load(open(reg_rf_fit_dE_TRAIN_VAL_pkl_names[hour], 'rb'))\n",
    "    y_dE_TEST_pred_rf.append(loaded_model.predict(X_dE_TEST[hour]))"
   ]
  },
  {
   "cell_type": "code",
   "execution_count": 140,
   "metadata": {},
   "outputs": [
    {
     "data": {
      "text/plain": [
       "[9.808927863501126e-13,\n",
       " 9.80969188794818e-13,\n",
       " 0.8311021505386467,\n",
       " 0.16297806805509504,\n",
       " 0.011470537114383358,\n",
       " 1.2653725140578272e-12,\n",
       " 0.013440860216371052,\n",
       " 2.130218605004564,\n",
       " 2.9750439932765635,\n",
       " 0.3812621490792239,\n",
       " 0.3466158733359059,\n",
       " 0.36302704301076516,\n",
       " 0.31770177595366994,\n",
       " 0.3708569487113949,\n",
       " 0.3625410608679074,\n",
       " 0.36031878584230337,\n",
       " 0.3593901168074861,\n",
       " 0.3282755734767118,\n",
       " 0.3480858000512151,\n",
       " 0.36399002368152783,\n",
       " 0.36898791890681876,\n",
       " 0.3515788821684675,\n",
       " 0.36333642825142237,\n",
       " 0.35675164330518055]"
      ]
     },
     "execution_count": 140,
     "metadata": {},
     "output_type": "execute_result"
    }
   ],
   "source": [
    "from sklearn.metrics import mean_absolute_error, mean_squared_error\n",
    "\n",
    "# MAE\n",
    "mae_dE_TEST_rf = []\n",
    "for hour in range(0,hours):\n",
    "    mae_dE_TEST_rf.append(mean_absolute_error(y_dE_TEST[hour],y_dE_TEST_pred_rf[hour]))\n",
    "mae_dE_TEST_rf"
   ]
  },
  {
   "cell_type": "code",
   "execution_count": 141,
   "metadata": {},
   "outputs": [
    {
     "data": {
      "text/plain": [
       "[1.4016428979220465e-12,\n",
       " 1.4079234089464192e-12,\n",
       " 10.498577591826997,\n",
       " 2.2489488828450352,\n",
       " 0.11062377786276127,\n",
       " 1.9330291446285228e-12,\n",
       " 0.25923792368260923,\n",
       " 16.157312974612676,\n",
       " 18.309470381439855,\n",
       " 1.2086055083682057,\n",
       " 1.0927980514093856,\n",
       " 1.1674981971026217,\n",
       " 1.001085756675136,\n",
       " 1.2314041705961682,\n",
       " 1.151109378239365,\n",
       " 1.1781230528271407,\n",
       " 1.1545827801348134,\n",
       " 1.0045637134038783,\n",
       " 1.103791745008036,\n",
       " 1.2032157909414942,\n",
       " 1.2148880575292496,\n",
       " 1.1203505294359701,\n",
       " 1.1722398785399488,\n",
       " 1.1883705878576702]"
      ]
     },
     "execution_count": 141,
     "metadata": {},
     "output_type": "execute_result"
    }
   ],
   "source": [
    "# RMSE from random forest\n",
    "\n",
    "rmse_dE_TEST_rf = []\n",
    "for hour in range(0,hours):\n",
    "    rmse_dE_TEST_rf.append(np.sqrt(mean_squared_error(y_dE_TEST[hour],y_dE_TEST_pred_rf[hour])))\n",
    "rmse_dE_TEST_rf"
   ]
  },
  {
   "cell_type": "code",
   "execution_count": 142,
   "metadata": {},
   "outputs": [
    {
     "data": {
      "text/plain": [
       "(0.47779059323578554, 2.69903328043099)"
      ]
     },
     "execution_count": 142,
     "metadata": {},
     "output_type": "execute_result"
    }
   ],
   "source": [
    "np.mean(mae_dE_TEST_rf), np.mean(rmse_dE_TEST_rf)"
   ]
  },
  {
   "cell_type": "code",
   "execution_count": null,
   "metadata": {},
   "outputs": [],
   "source": []
  },
  {
   "cell_type": "markdown",
   "metadata": {},
   "source": [
    "#### 4.1.2. RANDOM FOREST - SELECTING HYPERPARAMENTERS"
   ]
  },
  {
   "cell_type": "code",
   "execution_count": 143,
   "metadata": {},
   "outputs": [],
   "source": [
    "#Creating a fixed split for GridSearch\n",
    "#Since the length of all 24 sets are equal, only is necesary to create one \"test_fold\"\n",
    "\n",
    "TRAIN_len = len(X_dE_TRAIN[0])\n",
    "VAL_len = len(X_dE_VAL[0])\n",
    "\n",
    "test_fold = np.repeat([-1,0], [TRAIN_len, VAL_len])"
   ]
  },
  {
   "cell_type": "code",
   "execution_count": 144,
   "metadata": {},
   "outputs": [],
   "source": [
    "from sklearn.model_selection import PredefinedSplit\n",
    "\n",
    "ps = PredefinedSplit(test_fold)"
   ]
  },
  {
   "cell_type": "code",
   "execution_count": 145,
   "metadata": {},
   "outputs": [
    {
     "data": {
      "text/plain": [
       "1"
      ]
     },
     "execution_count": 145,
     "metadata": {},
     "output_type": "execute_result"
    }
   ],
   "source": [
    "#Checking the number of splits\n",
    "ps.get_n_splits()"
   ]
  },
  {
   "cell_type": "code",
   "execution_count": null,
   "metadata": {},
   "outputs": [],
   "source": []
  },
  {
   "cell_type": "code",
   "execution_count": 146,
   "metadata": {},
   "outputs": [],
   "source": [
    "from sklearn.model_selection import GridSearchCV\n",
    "\n",
    "reg_rf_grid = GridSearchCV(RandomForestRegressor(n_estimators=100),\n",
    "                  param_grid={\"max_depth\":np.arange(2,11),\n",
    "                              \"min_samples_leaf\":np.arange(10,100,15)},\n",
    "                  scoring=\"neg_mean_absolute_error\",\n",
    "                  cv=ps)"
   ]
  },
  {
   "cell_type": "code",
   "execution_count": 147,
   "metadata": {},
   "outputs": [],
   "source": [
    "hours = len(X_dE_TRAIN)\n",
    "\n",
    "reg_rf_grid_fit_dE_TRAIN_VAL_pkl_names = []\n",
    "\n",
    "for hour in range(0,hours):    \n",
    "    model_name = '/home/dsc/Repos/TFM/Models_pkl/' + unit + '_rf_grid_fit_dE_TRAIN_VAL_hour_' + str(hour+1) + '.pkl'\n",
    "    reg_rf_grid_fit_dE_TRAIN_VAL_pkl_names.append(model_name)\n",
    "    \n",
    "    #Lines commented because models have been stored already\n",
    "    reg_rf_grid_fit_dE_TRAIN_VAL = reg_rf_grid.fit(X_dE_TRAIN_VAL[hour],y_dE_TRAIN_VAL[hour]) \n",
    "    pickle.dump(reg_rf_grid_fit_dE_TRAIN_VAL, open(model_name, 'wb'))\n",
    "    \n",
    "\n",
    "y_dE_TEST_pred_rf_grid = []\n",
    "for hour in range(0,hours):\n",
    "    loaded_model = pickle.load(open(reg_rf_grid_fit_dE_TRAIN_VAL_pkl_names[hour], 'rb'))\n",
    "    y_dE_TEST_pred_rf_grid.append(loaded_model.predict(X_dE_TEST[hour]))"
   ]
  },
  {
   "cell_type": "code",
   "execution_count": null,
   "metadata": {},
   "outputs": [],
   "source": []
  },
  {
   "cell_type": "code",
   "execution_count": 148,
   "metadata": {},
   "outputs": [
    {
     "data": {
      "text/plain": [
       "[1.0348329123121157e-12,\n",
       " 1.1158195036998263e-12,\n",
       " 0.8252848960842156,\n",
       " 0.1574922720983325,\n",
       " 0.010993999216762789,\n",
       " 1.2894392841400243e-12,\n",
       " 0.013440860216299998,\n",
       " 2.146461308907314,\n",
       " 2.8701595932908184,\n",
       " 0.20437432337023018,\n",
       " 0.18345493950955236,\n",
       " 0.18855943756880808,\n",
       " 0.18702452732707273,\n",
       " 0.18245983321672468,\n",
       " 0.18270569300664227,\n",
       " 0.18386475500517194,\n",
       " 0.18421268664265927,\n",
       " 0.18544960524026022,\n",
       " 0.18953352954622946,\n",
       " 0.18577821084789065,\n",
       " 0.18783352133219303,\n",
       " 0.18365631412171843,\n",
       " 0.18280541204448553,\n",
       " 0.1895811375618128]"
      ]
     },
     "execution_count": 148,
     "metadata": {},
     "output_type": "execute_result"
    }
   ],
   "source": [
    "# MAE - RANDOM FOREST - GRID\n",
    "mae_dE_TEST_rf_grid = []\n",
    "for hour in range(0,hours):\n",
    "    mae_dE_TEST_rf_grid.append(mean_absolute_error(y_dE_TEST[hour],y_dE_TEST_pred_rf_grid[hour]))\n",
    "mae_dE_TEST_rf_grid"
   ]
  },
  {
   "cell_type": "code",
   "execution_count": 149,
   "metadata": {},
   "outputs": [
    {
     "data": {
      "text/plain": [
       "[1.4842315095085592e-12,\n",
       " 1.5943580552204572e-12,\n",
       " 10.423617386768699,\n",
       " 2.23021455292988,\n",
       " 0.10623812120953866,\n",
       " 1.9747366618248403e-12,\n",
       " 0.2592379236826063,\n",
       " 16.073078973381538,\n",
       " 18.404619443841483,\n",
       " 0.6197574713204588,\n",
       " 0.6146127762400774,\n",
       " 0.6121269249143506,\n",
       " 0.6124111955413116,\n",
       " 0.6101065349420823,\n",
       " 0.610296923021725,\n",
       " 0.6129686868062217,\n",
       " 0.6127473330448517,\n",
       " 0.6129644735767986,\n",
       " 0.612393969008557,\n",
       " 0.6120001324538725,\n",
       " 0.6278292474268214,\n",
       " 0.6137228786070198,\n",
       " 0.6140933114684113,\n",
       " 0.611833525899557]"
      ]
     },
     "execution_count": 149,
     "metadata": {},
     "output_type": "execute_result"
    }
   ],
   "source": [
    "# RMSE from random forest\n",
    "\n",
    "rmse_dE_TEST_rf_grid = []\n",
    "for hour in range(0,hours):\n",
    "    rmse_dE_TEST_rf_grid.append(np.sqrt(mean_squared_error(y_dE_TEST[hour],y_dE_TEST_pred_rf_grid[hour])))\n",
    "rmse_dE_TEST_rf_grid"
   ]
  },
  {
   "cell_type": "code",
   "execution_count": 150,
   "metadata": {
    "scrolled": true
   },
   "outputs": [
    {
     "data": {
      "text/plain": [
       "(0.36771361900660976, 2.3627863244204548)"
      ]
     },
     "execution_count": 150,
     "metadata": {},
     "output_type": "execute_result"
    }
   ],
   "source": [
    "np.mean(mae_dE_TEST_rf_grid) , np.mean(rmse_dE_TEST_rf_grid)"
   ]
  },
  {
   "cell_type": "code",
   "execution_count": 151,
   "metadata": {
    "scrolled": true
   },
   "outputs": [
    {
     "data": {
      "text/plain": [
       "(0.47779059323578554, 2.69903328043099)"
      ]
     },
     "execution_count": 151,
     "metadata": {},
     "output_type": "execute_result"
    }
   ],
   "source": [
    "np.mean(mae_dE_TEST_rf) , np.mean(rmse_dE_TEST_rf)"
   ]
  },
  {
   "cell_type": "markdown",
   "metadata": {},
   "source": [
    "### 4.2. MULTI-OUTPUT XG-BOOST REGRESSION - DELTA ENERGY APPROACH\n",
    "\n",
    "Models are fitted with the TEST SET and predictions to fit the hyperparameters are checked with VALIDATION SET."
   ]
  },
  {
   "cell_type": "code",
   "execution_count": 152,
   "metadata": {},
   "outputs": [],
   "source": [
    "#XG-BOOST\n",
    "\n",
    "from xgboost import XGBRegressor\n",
    "#from sklearn.ensemble import GradientBoostingRegressor"
   ]
  },
  {
   "cell_type": "code",
   "execution_count": 153,
   "metadata": {},
   "outputs": [],
   "source": [
    "#reg_XGB = GradientBoostingRegressor(max_depth=4, n_estimators=100,learning_rate=0.1)\n",
    "\n",
    "reg_XGB = XGBRegressor(max_depth=4, n_estimators=100,learning_rate=0.1)"
   ]
  },
  {
   "cell_type": "markdown",
   "metadata": {},
   "source": [
    "#### 4.2.1. XG-BOOST REGRESSION - BASIC APPROACH"
   ]
  },
  {
   "cell_type": "markdown",
   "metadata": {},
   "source": [
    "##### DIRECT WRAPPER"
   ]
  },
  {
   "cell_type": "code",
   "execution_count": 154,
   "metadata": {},
   "outputs": [],
   "source": [
    "from sklearn.multioutput import MultiOutputRegressor\n",
    "\n",
    "wrapper_XGB = MultiOutputRegressor(reg_XGB)"
   ]
  },
  {
   "cell_type": "code",
   "execution_count": 155,
   "metadata": {},
   "outputs": [],
   "source": [
    "   \n",
    "reg_XGB_fit_dE_TRAIN_VAL_pkl_names = []\n",
    "\n",
    "for hour in range(0,hours):    \n",
    "    model_name = '/home/dsc/Repos/TFM/Models_pkl/' + unit + '_XGB_fit_dE_TRAIN_VAL_hour_' + str(hour+1) + '.pkl'\n",
    "    reg_XGB_fit_dE_TRAIN_VAL_pkl_names.append(model_name)\n",
    "    \n",
    "    #Lines commented because models have been stored already\n",
    "    wrapper_XGB_fit_dE_TRAIN_VAL = wrapper_XGB.fit(X_dE_TRAIN_VAL[hour],y_dE_TRAIN_VAL[hour]) \n",
    "    pickle.dump(wrapper_XGB_fit_dE_TRAIN_VAL, open(model_name, 'wb'))\n",
    "    \n",
    "\n",
    "y_dE_TEST_pred_XGB = []\n",
    "for hour in range(0,hours):\n",
    "    loaded_model = pickle.load(open(reg_XGB_fit_dE_TRAIN_VAL_pkl_names[hour], 'rb'))\n",
    "    y_dE_TEST_pred_XGB.append(loaded_model.predict(X_dE_TEST[hour]))"
   ]
  },
  {
   "cell_type": "code",
   "execution_count": 156,
   "metadata": {},
   "outputs": [
    {
     "data": {
      "text/plain": [
       "[0.002857224146531223,\n",
       " 0.002857224146531223,\n",
       " 0.8339275193727206,\n",
       " 0.1656609973151249,\n",
       " 0.01555401172369313,\n",
       " 0.00266169677178633,\n",
       " 0.0168864153790271,\n",
       " 2.1503236862953035,\n",
       " 2.951307567003912,\n",
       " 0.22880158392972882,\n",
       " 0.22512432368211874,\n",
       " 0.22512432368211874,\n",
       " 0.22512432368211874,\n",
       " 0.22512432368211874,\n",
       " 0.22512432368211874,\n",
       " 0.22512432368211874,\n",
       " 0.22512432368211874,\n",
       " 0.22512432368211874,\n",
       " 0.22512432368211874,\n",
       " 0.22512432368211874,\n",
       " 0.22512432368211874,\n",
       " 0.22512432368211874,\n",
       " 0.22512432368211874,\n",
       " 0.22512432368211874]"
      ]
     },
     "execution_count": 156,
     "metadata": {},
     "output_type": "execute_result"
    }
   ],
   "source": [
    "from sklearn.metrics import mean_absolute_error, mean_squared_error\n",
    "\n",
    "# MAE - XGBOOST - TEST\n",
    "mae_dE_TEST_XGB = []\n",
    "for hour in range(0,hours):\n",
    "    mae_dE_TEST_XGB.append(mean_absolute_error(y_dE_TEST[hour],y_dE_TEST_pred_XGB[hour]))\n",
    "mae_dE_TEST_XGB"
   ]
  },
  {
   "cell_type": "code",
   "execution_count": 157,
   "metadata": {},
   "outputs": [
    {
     "data": {
      "text/plain": [
       "[0.004059056754033446,\n",
       " 0.004059056754033446,\n",
       " 10.498398883179199,\n",
       " 2.242546499701644,\n",
       " 0.12489139144135505,\n",
       " 0.0036689297950253433,\n",
       " 0.2587444721085274,\n",
       " 16.153384118195586,\n",
       " 18.41200712050445,\n",
       " 0.6421072957098604,\n",
       " 0.6562490913092693,\n",
       " 0.6562490913092693,\n",
       " 0.6562490913092693,\n",
       " 0.6562490913092693,\n",
       " 0.6562490913092693,\n",
       " 0.6562490913092693,\n",
       " 0.6562490913092693,\n",
       " 0.6562490913092693,\n",
       " 0.6562490913092693,\n",
       " 0.6562490913092693,\n",
       " 0.6562490913092693,\n",
       " 0.6562490913092693,\n",
       " 0.6562490913092693,\n",
       " 0.6562490913092693]"
      ]
     },
     "execution_count": 157,
     "metadata": {},
     "output_type": "execute_result"
    }
   ],
   "source": [
    "# RMSE - XGBOOST - TEST\n",
    "\n",
    "rmse_dE_TEST_XGB = []\n",
    "for hour in range(0,hours):\n",
    "    rmse_dE_TEST_XGB.append(np.sqrt(mean_squared_error(y_dE_TEST[hour],y_dE_TEST_pred_XGB[hour])))\n",
    "rmse_dE_TEST_XGB"
   ]
  },
  {
   "cell_type": "code",
   "execution_count": 158,
   "metadata": {},
   "outputs": [
    {
     "data": {
      "text/plain": [
       "(0.3967741024014175, 2.3971397542697286)"
      ]
     },
     "execution_count": 158,
     "metadata": {},
     "output_type": "execute_result"
    }
   ],
   "source": [
    "np.mean(mae_dE_TEST_XGB), np.mean(rmse_dE_TEST_XGB)"
   ]
  },
  {
   "cell_type": "code",
   "execution_count": null,
   "metadata": {},
   "outputs": [],
   "source": []
  },
  {
   "cell_type": "markdown",
   "metadata": {},
   "source": [
    "##### CHAIN WRAPPER"
   ]
  },
  {
   "cell_type": "code",
   "execution_count": 159,
   "metadata": {},
   "outputs": [],
   "source": [
    "from sklearn.multioutput import RegressorChain\n",
    "\n",
    "wrapper_chain_XGB = RegressorChain(reg_XGB, order=[0,1])"
   ]
  },
  {
   "cell_type": "code",
   "execution_count": 160,
   "metadata": {},
   "outputs": [],
   "source": [
    "reg_chain_XGB_fit_dE_TRAIN_VAL_pkl_names = []\n",
    "\n",
    "for hour in range(0,hours):    \n",
    "    model_name = '/home/dsc/Repos/TFM/Models_pkl/' + unit + '_chain_XGB_fit_dE_TRAIN_VAL_hour_' + str(hour+1) + '.pkl'\n",
    "    reg_chain_XGB_fit_dE_TRAIN_VAL_pkl_names.append(model_name)\n",
    "    \n",
    "    #Lines commented because models have been stored already\n",
    "    chain_XGB_fit_dE_TRAIN_VAL = wrapper_chain_XGB.fit(X_dE_TRAIN_VAL[hour],y_dE_TRAIN_VAL[hour]) \n",
    "    pickle.dump(chain_XGB_fit_dE_TRAIN_VAL, open(model_name, 'wb'))\n",
    "    \n",
    "\n",
    "y_dE_TEST_pred_chain_XGB = []\n",
    "for hour in range(0,hours):\n",
    "    loaded_model = pickle.load(open(reg_chain_XGB_fit_dE_TRAIN_VAL_pkl_names[hour], 'rb'))\n",
    "    y_dE_TEST_pred_chain_XGB.append(loaded_model.predict(X_dE_TEST[hour]))"
   ]
  },
  {
   "cell_type": "code",
   "execution_count": null,
   "metadata": {},
   "outputs": [],
   "source": []
  },
  {
   "cell_type": "code",
   "execution_count": null,
   "metadata": {},
   "outputs": [],
   "source": []
  },
  {
   "cell_type": "code",
   "execution_count": 161,
   "metadata": {},
   "outputs": [
    {
     "data": {
      "text/plain": [
       "[0.002857224146531223,\n",
       " 0.002857224146531223,\n",
       " 0.8339263085332029,\n",
       " 0.13647283226572582,\n",
       " 0.01555401172369313,\n",
       " 0.00266169677178633,\n",
       " 0.0168864153790271,\n",
       " 2.14844721989927,\n",
       " 2.951625303220687,\n",
       " 0.2560116940929048,\n",
       " 0.22512432368211874,\n",
       " 0.22512432368211874,\n",
       " 0.22512432368211874,\n",
       " 0.22512432368211874,\n",
       " 0.22512432368211874,\n",
       " 0.22512432368211874,\n",
       " 0.22512432368211874,\n",
       " 0.22512432368211874,\n",
       " 0.22512432368211874,\n",
       " 0.22512432368211874,\n",
       " 0.22512432368211874,\n",
       " 0.22512432368211874,\n",
       " 0.22512432368211874,\n",
       " 0.22512432368211874]"
      ]
     },
     "execution_count": 161,
     "metadata": {},
     "output_type": "execute_result"
    }
   ],
   "source": [
    "from sklearn.metrics import mean_absolute_error, mean_squared_error\n",
    "\n",
    "# MAE - XGBOOST_chain - TEST\n",
    "mae_dE_TEST_chain_XGB = []\n",
    "for hour in range(0,hours):\n",
    "    mae_dE_TEST_chain_XGB.append(mean_absolute_error(y_dE_TEST[hour],y_dE_TEST_pred_chain_XGB[hour]))\n",
    "mae_dE_TEST_chain_XGB"
   ]
  },
  {
   "cell_type": "code",
   "execution_count": 162,
   "metadata": {},
   "outputs": [
    {
     "data": {
      "text/plain": [
       "[0.004059056754033446,\n",
       " 0.004059056754033446,\n",
       " 10.498399218995724,\n",
       " 2.206930997637414,\n",
       " 0.12489139144135505,\n",
       " 0.0036689297950253433,\n",
       " 0.2587444721085274,\n",
       " 16.15174029710978,\n",
       " 18.550329028215096,\n",
       " 0.7037849863754166,\n",
       " 0.6562490913092693,\n",
       " 0.6562490913092693,\n",
       " 0.6562490913092693,\n",
       " 0.6562490913092693,\n",
       " 0.6562490913092693,\n",
       " 0.6562490913092693,\n",
       " 0.6562490913092693,\n",
       " 0.6562490913092693,\n",
       " 0.6562490913092693,\n",
       " 0.6562490913092693,\n",
       " 0.6562490913092693,\n",
       " 0.6562490913092693,\n",
       " 0.6562490913092693,\n",
       " 0.6562490913092693]"
      ]
     },
     "execution_count": 162,
     "metadata": {},
     "output_type": "execute_result"
    }
   ],
   "source": [
    "# RMSE - XGBOOST_chain - TEST\n",
    "\n",
    "rmse_dE_TEST_chain_XGB = []\n",
    "for hour in range(0,hours):\n",
    "    rmse_dE_TEST_chain_XGB.append(np.sqrt(mean_squared_error(y_dE_TEST[hour],y_dE_TEST_pred_chain_XGB[hour])))\n",
    "rmse_dE_TEST_chain_XGB"
   ]
  },
  {
   "cell_type": "code",
   "execution_count": 163,
   "metadata": {
    "scrolled": true
   },
   "outputs": [
    {
     "data": {
      "text/plain": [
       "(0.3966266859053759, 2.4039206130631743)"
      ]
     },
     "execution_count": 163,
     "metadata": {},
     "output_type": "execute_result"
    }
   ],
   "source": [
    "np.mean(mae_dE_TEST_chain_XGB), np.mean(rmse_dE_TEST_chain_XGB)"
   ]
  },
  {
   "cell_type": "code",
   "execution_count": 164,
   "metadata": {},
   "outputs": [],
   "source": [
    "# Direct wrapper and Chain wrapper seems to be very similar"
   ]
  },
  {
   "cell_type": "markdown",
   "metadata": {},
   "source": [
    "#### 4.2.2. XG-BOOST REGRESSION - CHAIN MULTI-OUTPUT WRAPPER APPROACH - SELECTING HYPERPARAMETERS"
   ]
  },
  {
   "cell_type": "code",
   "execution_count": 165,
   "metadata": {},
   "outputs": [],
   "source": [
    "# X tiene que ser X_TEST + X_VAL y el split según X_TEST / X_VAL"
   ]
  },
  {
   "cell_type": "code",
   "execution_count": 166,
   "metadata": {},
   "outputs": [],
   "source": [
    "from sklearn.model_selection import GridSearchCV\n",
    "\n",
    "#We are using the same Predefined Split as for Random Forest\n",
    "\n",
    "reg_XGB_grid = GridSearchCV(XGBRegressor(n_estimators=100),\n",
    "                  param_grid={\"max_depth\":np.arange(2,10),\n",
    "                             \"learning_rate\":np.arange(1,10)/10},\n",
    "                  scoring=\"neg_mean_absolute_error\",\n",
    "                  cv=ps)"
   ]
  },
  {
   "cell_type": "code",
   "execution_count": 167,
   "metadata": {},
   "outputs": [],
   "source": [
    "wrapper_chain_XGB_grid = RegressorChain(reg_XGB_grid, order=[0,1])"
   ]
  },
  {
   "cell_type": "code",
   "execution_count": null,
   "metadata": {},
   "outputs": [],
   "source": []
  },
  {
   "cell_type": "code",
   "execution_count": 168,
   "metadata": {},
   "outputs": [],
   "source": [
    "reg_chain_XGB_grid_fit_dE_TRAIN_VAL_pkl_names = []\n",
    "\n",
    "for hour in range(0,hours):    \n",
    "    model_name = '/home/dsc/Repos/TFM/Models_pkl/' + unit + '_chain_XGB_grid_fit_dE_TRAIN_VAL_hour_' + str(hour+1) + '.pkl'\n",
    "    reg_chain_XGB_grid_fit_dE_TRAIN_VAL_pkl_names.append(model_name)\n",
    "    \n",
    "    #Lines commented because models have been stored already\n",
    "    chain_XGB_grid_fit_dE_TRAIN_VAL = wrapper_chain_XGB_grid.fit(X_dE_TRAIN_VAL[hour],y_dE_TRAIN_VAL[hour]) \n",
    "    pickle.dump(chain_XGB_grid_fit_dE_TRAIN_VAL, open(model_name, 'wb'))\n",
    "    \n",
    "\n",
    "y_dE_TEST_pred_chain_XGB_grid = []\n",
    "for hour in range(0,hours):\n",
    "    loaded_model = pickle.load(open(reg_chain_XGB_grid_fit_dE_TRAIN_VAL_pkl_names[hour], 'rb'))\n",
    "    y_dE_TEST_pred_chain_XGB_grid.append(loaded_model.predict(X_dE_TEST[hour]))"
   ]
  },
  {
   "cell_type": "code",
   "execution_count": null,
   "metadata": {},
   "outputs": [],
   "source": []
  },
  {
   "cell_type": "code",
   "execution_count": null,
   "metadata": {},
   "outputs": [],
   "source": []
  },
  {
   "cell_type": "code",
   "execution_count": 169,
   "metadata": {},
   "outputs": [
    {
     "data": {
      "text/plain": [
       "[4.562735552345506e-06,\n",
       " 4.562735552345506e-06,\n",
       " 0.8311049519943883,\n",
       " 0.13359936093770808,\n",
       " 0.013035708528046405,\n",
       " 2.5566290736211853e-06,\n",
       " 0.013444978774230041,\n",
       " 2.1438389724589118,\n",
       " 2.943182006463892,\n",
       " 0.2256159623079406,\n",
       " 0.2122690907088662,\n",
       " 0.2122690907088662,\n",
       " 0.2122690907088662,\n",
       " 0.2122690907088662,\n",
       " 0.2122690907088662,\n",
       " 0.2122690907088662,\n",
       " 0.2122690907088662,\n",
       " 0.2122690907088662,\n",
       " 0.2122690907088662,\n",
       " 0.2122690907088662,\n",
       " 0.2122690907088662,\n",
       " 0.2122690907088662,\n",
       " 0.2122690907088662,\n",
       " 0.2122690907088662]"
      ]
     },
     "execution_count": 169,
     "metadata": {},
     "output_type": "execute_result"
    }
   ],
   "source": [
    "from sklearn.metrics import mean_absolute_error, mean_squared_error\n",
    "\n",
    "# MAE - XGBOOST_chain - TEST\n",
    "mae_dE_TEST_chain_XGB_grid = []\n",
    "for hour in range(0,hours):\n",
    "    mae_dE_TEST_chain_XGB_grid.append(mean_absolute_error(y_dE_TEST[hour],y_dE_TEST_pred_chain_XGB_grid[hour]))\n",
    "mae_dE_TEST_chain_XGB_grid"
   ]
  },
  {
   "cell_type": "code",
   "execution_count": 170,
   "metadata": {},
   "outputs": [
    {
     "data": {
      "text/plain": [
       "[9.173884852591835e-06,\n",
       " 9.173884852591835e-06,\n",
       " 10.49857504491773,\n",
       " 2.2103276608706293,\n",
       " 0.12564487416116213,\n",
       " 3.584277988886314e-06,\n",
       " 0.2592372117147661,\n",
       " 16.168261816669425,\n",
       " 18.55252949951235,\n",
       " 0.6501906289027728,\n",
       " 0.6195426936074633,\n",
       " 0.6195426936074633,\n",
       " 0.6195426936074633,\n",
       " 0.6195426936074633,\n",
       " 0.6195426936074633,\n",
       " 0.6195426936074633,\n",
       " 0.6195426936074633,\n",
       " 0.6195426936074633,\n",
       " 0.6195426936074633,\n",
       " 0.6195426936074633,\n",
       " 0.6195426936074633,\n",
       " 0.6195426936074633,\n",
       " 0.6195426936074633,\n",
       " 0.6195426936074633]"
      ]
     },
     "execution_count": 170,
     "metadata": {},
     "output_type": "execute_result"
    }
   ],
   "source": [
    "# RMSE - XGBOOST_chain - TEST\n",
    "\n",
    "rmse_dE_TEST_chain_XGB_grid = []\n",
    "for hour in range(0,hours):\n",
    "    rmse_dE_TEST_chain_XGB_grid.append(np.sqrt(mean_squared_error(y_dE_TEST[hour],y_dE_TEST_pred_chain_XGB_grid[hour])))\n",
    "rmse_dE_TEST_chain_XGB_grid"
   ]
  },
  {
   "cell_type": "code",
   "execution_count": 171,
   "metadata": {},
   "outputs": [
    {
     "data": {
      "text/plain": [
       "(0.3864833705620592, 2.380766099137542)"
      ]
     },
     "execution_count": 171,
     "metadata": {},
     "output_type": "execute_result"
    }
   ],
   "source": [
    "np.mean(mae_dE_TEST_chain_XGB_grid), np.mean(rmse_dE_TEST_chain_XGB_grid)"
   ]
  },
  {
   "cell_type": "code",
   "execution_count": 172,
   "metadata": {
    "scrolled": true
   },
   "outputs": [
    {
     "data": {
      "text/plain": [
       "(0.3966266859053759, 2.4039206130631743)"
      ]
     },
     "execution_count": 172,
     "metadata": {},
     "output_type": "execute_result"
    }
   ],
   "source": [
    "np.mean(mae_dE_TEST_chain_XGB), np.mean(rmse_dE_TEST_chain_XGB)"
   ]
  },
  {
   "cell_type": "code",
   "execution_count": null,
   "metadata": {},
   "outputs": [],
   "source": []
  },
  {
   "cell_type": "code",
   "execution_count": null,
   "metadata": {},
   "outputs": [],
   "source": []
  },
  {
   "cell_type": "markdown",
   "metadata": {},
   "source": [
    "### 5. NEW METRIC CALCULATION: PERIOD CURVE AREA ERROR\n",
    "\n",
    "In this section a curve area calculation per each period will be calculated in order to compare the original curve and the predicted one.\n",
    "\n",
    "Area curve will have money (€) units and it will give good information about the model precision.\n",
    "\n",
    "Four different cuve areas will be calculated:\n",
    "\n",
    "+ Total curve area: A_tot\n",
    "+ Area when Price is maximum: A_max\n",
    "+ Area when Price is minimum: A_min\n",
    "+ Celtral Area: A_cen = A_tot - A_max - A_min\n",
    "\n",
    "#### NOTE: Calculating extreme areas when blocks are less than 2 is not possible, so it is checked only when using a complete dataframe (all blocks for all periods).\n",
    "\n",
    "Extreme areas (when Price is maximum or minimum) can introduce a lot of error in the metric that cound be not very relevant for the objective of the project: since it is not very probably that extreme cases are chosen, the real effective zone for the purpose of the project is to predict well the central part of the curve."
   ]
  },
  {
   "cell_type": "markdown",
   "metadata": {},
   "source": [
    "#### TOTAL CURVE AREA METRIC\n",
    "\n",
    "Different metrics based on curve area can be defined:\n",
    "\n",
    "* Difference of the total curve area between y_dE and y_dE_pred (absolute and relative)\n",
    "* Total absolute difference between y_dE and y_dE_pred (absolute and relative)"
   ]
  },
  {
   "cell_type": "code",
   "execution_count": 173,
   "metadata": {},
   "outputs": [],
   "source": [
    "#DIFFERENCE OF THE TOTAL CURVE AREAS & TOTAL ABSOLUTE DIFFERENCE OF y_dE and y_dE_pred\n",
    "\n",
    "def area_pred_curve_summary(y, y_pred):\n",
    "    \n",
    "    y_TEST_area_tot = []\n",
    "    y_area_tot_diff_TEST_abs = []\n",
    "    y_area_tot_diff_TEST_rel = []\n",
    "\n",
    "    y_TEST_area = []\n",
    "    y_area_diff_TEST_abs = []\n",
    "    y_area_diff_TEST_rel = []\n",
    "    \n",
    "    hours = len(y)\n",
    "    \n",
    "    for hour in range(0, hours):\n",
    "\n",
    "        y_dE_TEST_area = (y[hour][:,0]*y[hour][:,1])\n",
    "        y_dE_TEST_pred_area = (y_pred[hour][:,0]*y_pred[hour][:,1])\n",
    "        area_diff_TEST_abs = abs(y_dE_TEST_area - y_dE_TEST_pred_area).sum() #Total Absolute Area Differences\n",
    "\n",
    "        y_dE_TEST_area_tot = y_dE_TEST_area.sum() #Total area for the whole set period, for each hour \n",
    "        y_dE_TEST_pred_area_tot = y_dE_TEST_pred_area.sum()\n",
    "        area_tot_diff_TEST_abs = (y_dE_TEST_area_tot - y_dE_TEST_pred_area_tot) #Total Differences of Total Areas\n",
    "\n",
    "        #Relative area difference\n",
    "        area_diff_TEST_rel = (area_diff_TEST_abs / y_dE_TEST_area_tot) * 100\n",
    "        area_tot_diff_TEST_rel = (area_tot_diff_TEST_abs / y_dE_TEST_area_tot) * 100\n",
    "\n",
    "        y_area_diff_TEST_abs.append(area_diff_TEST_abs)\n",
    "        y_area_diff_TEST_rel.append(area_diff_TEST_rel)\n",
    "\n",
    "        y_TEST_area_tot.append(y_dE_TEST_area_tot)\n",
    "        y_area_tot_diff_TEST_abs.append(area_tot_diff_TEST_abs)\n",
    "        y_area_tot_diff_TEST_rel.append(area_tot_diff_TEST_rel)\n",
    "\n",
    "    df_y_TEST_area_summary = pd.DataFrame({'Area_tot(€)': y_TEST_area_tot,\n",
    "                  'Area_diff_abs(€)': y_area_diff_TEST_abs, \n",
    "                  'Area_diff_rel(%)': y_area_diff_TEST_rel,\n",
    "                  'Area_tot_diff_abs(€)': y_area_tot_diff_TEST_abs, \n",
    "                  'Area_tot_diff_rel(%)': y_area_tot_diff_TEST_rel})\n",
    "    \n",
    "    return df_y_TEST_area_summary"
   ]
  },
  {
   "cell_type": "code",
   "execution_count": 174,
   "metadata": {},
   "outputs": [
    {
     "data": {
      "text/html": [
       "<div>\n",
       "<style scoped>\n",
       "    .dataframe tbody tr th:only-of-type {\n",
       "        vertical-align: middle;\n",
       "    }\n",
       "\n",
       "    .dataframe tbody tr th {\n",
       "        vertical-align: top;\n",
       "    }\n",
       "\n",
       "    .dataframe thead th {\n",
       "        text-align: right;\n",
       "    }\n",
       "</style>\n",
       "<table border=\"1\" class=\"dataframe\">\n",
       "  <thead>\n",
       "    <tr style=\"text-align: right;\">\n",
       "      <th></th>\n",
       "      <th>Area_tot(€)</th>\n",
       "      <th>Area_diff_abs(€)</th>\n",
       "      <th>Area_diff_rel(%)</th>\n",
       "      <th>Area_tot_diff_abs(€)</th>\n",
       "      <th>Area_tot_diff_rel(%)</th>\n",
       "    </tr>\n",
       "  </thead>\n",
       "  <tbody>\n",
       "    <tr>\n",
       "      <th>0</th>\n",
       "      <td>2,223,423.54</td>\n",
       "      <td>0.00</td>\n",
       "      <td>0.00</td>\n",
       "      <td>0.00</td>\n",
       "      <td>0.00</td>\n",
       "    </tr>\n",
       "    <tr>\n",
       "      <th>1</th>\n",
       "      <td>2,223,423.54</td>\n",
       "      <td>0.00</td>\n",
       "      <td>0.00</td>\n",
       "      <td>-0.00</td>\n",
       "      <td>-0.00</td>\n",
       "    </tr>\n",
       "    <tr>\n",
       "      <th>2</th>\n",
       "      <td>2,209,089.94</td>\n",
       "      <td>23,609.81</td>\n",
       "      <td>1.07</td>\n",
       "      <td>-5,632.50</td>\n",
       "      <td>-0.25</td>\n",
       "    </tr>\n",
       "    <tr>\n",
       "      <th>3</th>\n",
       "      <td>1,771,915.14</td>\n",
       "      <td>10,446.54</td>\n",
       "      <td>0.59</td>\n",
       "      <td>-10,446.54</td>\n",
       "      <td>-0.59</td>\n",
       "    </tr>\n",
       "    <tr>\n",
       "      <th>4</th>\n",
       "      <td>1,556,911.14</td>\n",
       "      <td>695.23</td>\n",
       "      <td>0.04</td>\n",
       "      <td>-685.39</td>\n",
       "      <td>-0.04</td>\n",
       "    </tr>\n",
       "    <tr>\n",
       "      <th>5</th>\n",
       "      <td>1,556,911.14</td>\n",
       "      <td>0.00</td>\n",
       "      <td>0.00</td>\n",
       "      <td>0.00</td>\n",
       "      <td>0.00</td>\n",
       "    </tr>\n",
       "    <tr>\n",
       "      <th>6</th>\n",
       "      <td>1,556,015.29</td>\n",
       "      <td>907.15</td>\n",
       "      <td>0.06</td>\n",
       "      <td>-895.85</td>\n",
       "      <td>-0.06</td>\n",
       "    </tr>\n",
       "    <tr>\n",
       "      <th>7</th>\n",
       "      <td>1,509,731.87</td>\n",
       "      <td>46,354.91</td>\n",
       "      <td>3.07</td>\n",
       "      <td>-4,912.51</td>\n",
       "      <td>-0.33</td>\n",
       "    </tr>\n",
       "    <tr>\n",
       "      <th>8</th>\n",
       "      <td>907,171.75</td>\n",
       "      <td>53,361.40</td>\n",
       "      <td>5.88</td>\n",
       "      <td>-1,974.03</td>\n",
       "      <td>-0.22</td>\n",
       "    </tr>\n",
       "    <tr>\n",
       "      <th>9</th>\n",
       "      <td>424,230.83</td>\n",
       "      <td>4,363.88</td>\n",
       "      <td>1.03</td>\n",
       "      <td>-1,549.21</td>\n",
       "      <td>-0.37</td>\n",
       "    </tr>\n",
       "    <tr>\n",
       "      <th>10</th>\n",
       "      <td>424,230.83</td>\n",
       "      <td>2,320.34</td>\n",
       "      <td>0.55</td>\n",
       "      <td>478.55</td>\n",
       "      <td>0.11</td>\n",
       "    </tr>\n",
       "    <tr>\n",
       "      <th>11</th>\n",
       "      <td>424,230.83</td>\n",
       "      <td>2,384.90</td>\n",
       "      <td>0.56</td>\n",
       "      <td>439.16</td>\n",
       "      <td>0.10</td>\n",
       "    </tr>\n",
       "    <tr>\n",
       "      <th>12</th>\n",
       "      <td>424,230.83</td>\n",
       "      <td>2,365.49</td>\n",
       "      <td>0.56</td>\n",
       "      <td>535.06</td>\n",
       "      <td>0.13</td>\n",
       "    </tr>\n",
       "    <tr>\n",
       "      <th>13</th>\n",
       "      <td>424,230.83</td>\n",
       "      <td>2,307.75</td>\n",
       "      <td>0.54</td>\n",
       "      <td>481.53</td>\n",
       "      <td>0.11</td>\n",
       "    </tr>\n",
       "    <tr>\n",
       "      <th>14</th>\n",
       "      <td>424,230.83</td>\n",
       "      <td>2,310.86</td>\n",
       "      <td>0.54</td>\n",
       "      <td>486.97</td>\n",
       "      <td>0.11</td>\n",
       "    </tr>\n",
       "    <tr>\n",
       "      <th>15</th>\n",
       "      <td>424,230.83</td>\n",
       "      <td>2,325.52</td>\n",
       "      <td>0.55</td>\n",
       "      <td>478.04</td>\n",
       "      <td>0.11</td>\n",
       "    </tr>\n",
       "    <tr>\n",
       "      <th>16</th>\n",
       "      <td>424,230.83</td>\n",
       "      <td>2,329.92</td>\n",
       "      <td>0.55</td>\n",
       "      <td>485.25</td>\n",
       "      <td>0.11</td>\n",
       "    </tr>\n",
       "    <tr>\n",
       "      <th>17</th>\n",
       "      <td>424,230.83</td>\n",
       "      <td>2,345.57</td>\n",
       "      <td>0.55</td>\n",
       "      <td>443.59</td>\n",
       "      <td>0.10</td>\n",
       "    </tr>\n",
       "    <tr>\n",
       "      <th>18</th>\n",
       "      <td>424,230.83</td>\n",
       "      <td>2,397.22</td>\n",
       "      <td>0.57</td>\n",
       "      <td>418.97</td>\n",
       "      <td>0.10</td>\n",
       "    </tr>\n",
       "    <tr>\n",
       "      <th>19</th>\n",
       "      <td>424,230.83</td>\n",
       "      <td>2,349.72</td>\n",
       "      <td>0.55</td>\n",
       "      <td>538.58</td>\n",
       "      <td>0.13</td>\n",
       "    </tr>\n",
       "    <tr>\n",
       "      <th>20</th>\n",
       "      <td>424,230.83</td>\n",
       "      <td>2,375.72</td>\n",
       "      <td>0.56</td>\n",
       "      <td>259.91</td>\n",
       "      <td>0.06</td>\n",
       "    </tr>\n",
       "    <tr>\n",
       "      <th>21</th>\n",
       "      <td>424,230.83</td>\n",
       "      <td>2,322.89</td>\n",
       "      <td>0.55</td>\n",
       "      <td>519.54</td>\n",
       "      <td>0.12</td>\n",
       "    </tr>\n",
       "    <tr>\n",
       "      <th>22</th>\n",
       "      <td>424,230.83</td>\n",
       "      <td>2,312.12</td>\n",
       "      <td>0.55</td>\n",
       "      <td>461.51</td>\n",
       "      <td>0.11</td>\n",
       "    </tr>\n",
       "    <tr>\n",
       "      <th>23</th>\n",
       "      <td>424,230.83</td>\n",
       "      <td>2,397.82</td>\n",
       "      <td>0.57</td>\n",
       "      <td>487.25</td>\n",
       "      <td>0.11</td>\n",
       "    </tr>\n",
       "  </tbody>\n",
       "</table>\n",
       "</div>"
      ],
      "text/plain": [
       "    Area_tot(€)  Area_diff_abs(€)  Area_diff_rel(%)  Area_tot_diff_abs(€)  \\\n",
       "0  2,223,423.54              0.00              0.00                  0.00   \n",
       "1  2,223,423.54              0.00              0.00                 -0.00   \n",
       "2  2,209,089.94         23,609.81              1.07             -5,632.50   \n",
       "3  1,771,915.14         10,446.54              0.59            -10,446.54   \n",
       "4  1,556,911.14            695.23              0.04               -685.39   \n",
       "5  1,556,911.14              0.00              0.00                  0.00   \n",
       "6  1,556,015.29            907.15              0.06               -895.85   \n",
       "7  1,509,731.87         46,354.91              3.07             -4,912.51   \n",
       "8    907,171.75         53,361.40              5.88             -1,974.03   \n",
       "9    424,230.83          4,363.88              1.03             -1,549.21   \n",
       "10   424,230.83          2,320.34              0.55                478.55   \n",
       "11   424,230.83          2,384.90              0.56                439.16   \n",
       "12   424,230.83          2,365.49              0.56                535.06   \n",
       "13   424,230.83          2,307.75              0.54                481.53   \n",
       "14   424,230.83          2,310.86              0.54                486.97   \n",
       "15   424,230.83          2,325.52              0.55                478.04   \n",
       "16   424,230.83          2,329.92              0.55                485.25   \n",
       "17   424,230.83          2,345.57              0.55                443.59   \n",
       "18   424,230.83          2,397.22              0.57                418.97   \n",
       "19   424,230.83          2,349.72              0.55                538.58   \n",
       "20   424,230.83          2,375.72              0.56                259.91   \n",
       "21   424,230.83          2,322.89              0.55                519.54   \n",
       "22   424,230.83          2,312.12              0.55                461.51   \n",
       "23   424,230.83          2,397.82              0.57                487.25   \n",
       "\n",
       "    Area_tot_diff_rel(%)  \n",
       "0                   0.00  \n",
       "1                  -0.00  \n",
       "2                  -0.25  \n",
       "3                  -0.59  \n",
       "4                  -0.04  \n",
       "5                   0.00  \n",
       "6                  -0.06  \n",
       "7                  -0.33  \n",
       "8                  -0.22  \n",
       "9                  -0.37  \n",
       "10                  0.11  \n",
       "11                  0.10  \n",
       "12                  0.13  \n",
       "13                  0.11  \n",
       "14                  0.11  \n",
       "15                  0.11  \n",
       "16                  0.11  \n",
       "17                  0.10  \n",
       "18                  0.10  \n",
       "19                  0.13  \n",
       "20                  0.06  \n",
       "21                  0.12  \n",
       "22                  0.11  \n",
       "23                  0.11  "
      ]
     },
     "execution_count": 174,
     "metadata": {},
     "output_type": "execute_result"
    }
   ],
   "source": [
    "df_y_TEST_area_pred_rf_grid_summary = area_pred_curve_summary(y_dE_TEST, y_dE_TEST_pred_rf_grid)\n",
    "df_y_TEST_area_pred_rf_grid_summary"
   ]
  },
  {
   "cell_type": "code",
   "execution_count": 175,
   "metadata": {},
   "outputs": [],
   "source": [
    "# It can be seen that the bidding area for hours from 10 to 24 is the same, so the bid is the same \n",
    "# for 15 hours per day --> Possibility of reducing models???"
   ]
  },
  {
   "cell_type": "code",
   "execution_count": 176,
   "metadata": {
    "scrolled": false
   },
   "outputs": [
    {
     "data": {
      "text/html": [
       "<div>\n",
       "<style scoped>\n",
       "    .dataframe tbody tr th:only-of-type {\n",
       "        vertical-align: middle;\n",
       "    }\n",
       "\n",
       "    .dataframe tbody tr th {\n",
       "        vertical-align: top;\n",
       "    }\n",
       "\n",
       "    .dataframe thead th {\n",
       "        text-align: right;\n",
       "    }\n",
       "</style>\n",
       "<table border=\"1\" class=\"dataframe\">\n",
       "  <thead>\n",
       "    <tr style=\"text-align: right;\">\n",
       "      <th></th>\n",
       "      <th>Area_tot(€)</th>\n",
       "      <th>Area_diff_abs(€)</th>\n",
       "      <th>Area_diff_rel(%)</th>\n",
       "      <th>Area_tot_diff_abs(€)</th>\n",
       "      <th>Area_tot_diff_rel(%)</th>\n",
       "    </tr>\n",
       "  </thead>\n",
       "  <tbody>\n",
       "    <tr>\n",
       "      <th>0</th>\n",
       "      <td>2,223,423.54</td>\n",
       "      <td>0.00</td>\n",
       "      <td>0.00</td>\n",
       "      <td>0.00</td>\n",
       "      <td>0.00</td>\n",
       "    </tr>\n",
       "    <tr>\n",
       "      <th>1</th>\n",
       "      <td>2,223,423.54</td>\n",
       "      <td>0.00</td>\n",
       "      <td>0.00</td>\n",
       "      <td>0.00</td>\n",
       "      <td>0.00</td>\n",
       "    </tr>\n",
       "    <tr>\n",
       "      <th>2</th>\n",
       "      <td>2,209,089.94</td>\n",
       "      <td>23,585.90</td>\n",
       "      <td>1.07</td>\n",
       "      <td>-5,375.10</td>\n",
       "      <td>-0.24</td>\n",
       "    </tr>\n",
       "    <tr>\n",
       "      <th>3</th>\n",
       "      <td>1,771,915.14</td>\n",
       "      <td>10,699.68</td>\n",
       "      <td>0.60</td>\n",
       "      <td>-10,699.68</td>\n",
       "      <td>-0.60</td>\n",
       "    </tr>\n",
       "    <tr>\n",
       "      <th>4</th>\n",
       "      <td>1,556,911.14</td>\n",
       "      <td>766.26</td>\n",
       "      <td>0.05</td>\n",
       "      <td>-756.51</td>\n",
       "      <td>-0.05</td>\n",
       "    </tr>\n",
       "    <tr>\n",
       "      <th>5</th>\n",
       "      <td>1,556,911.14</td>\n",
       "      <td>0.00</td>\n",
       "      <td>0.00</td>\n",
       "      <td>0.00</td>\n",
       "      <td>0.00</td>\n",
       "    </tr>\n",
       "    <tr>\n",
       "      <th>6</th>\n",
       "      <td>1,556,015.29</td>\n",
       "      <td>907.15</td>\n",
       "      <td>0.06</td>\n",
       "      <td>-895.85</td>\n",
       "      <td>-0.06</td>\n",
       "    </tr>\n",
       "    <tr>\n",
       "      <th>7</th>\n",
       "      <td>1,509,731.87</td>\n",
       "      <td>44,801.45</td>\n",
       "      <td>2.97</td>\n",
       "      <td>-2,481.07</td>\n",
       "      <td>-0.16</td>\n",
       "    </tr>\n",
       "    <tr>\n",
       "      <th>8</th>\n",
       "      <td>907,171.75</td>\n",
       "      <td>55,458.36</td>\n",
       "      <td>6.11</td>\n",
       "      <td>-3,244.13</td>\n",
       "      <td>-0.36</td>\n",
       "    </tr>\n",
       "    <tr>\n",
       "      <th>9</th>\n",
       "      <td>424,230.83</td>\n",
       "      <td>6,569.50</td>\n",
       "      <td>1.55</td>\n",
       "      <td>-3,388.44</td>\n",
       "      <td>-0.80</td>\n",
       "    </tr>\n",
       "    <tr>\n",
       "      <th>10</th>\n",
       "      <td>424,230.83</td>\n",
       "      <td>4,384.00</td>\n",
       "      <td>1.03</td>\n",
       "      <td>-1,287.62</td>\n",
       "      <td>-0.30</td>\n",
       "    </tr>\n",
       "    <tr>\n",
       "      <th>11</th>\n",
       "      <td>424,230.83</td>\n",
       "      <td>4,591.57</td>\n",
       "      <td>1.08</td>\n",
       "      <td>-1,431.94</td>\n",
       "      <td>-0.34</td>\n",
       "    </tr>\n",
       "    <tr>\n",
       "      <th>12</th>\n",
       "      <td>424,230.83</td>\n",
       "      <td>4,018.29</td>\n",
       "      <td>0.95</td>\n",
       "      <td>-1,156.38</td>\n",
       "      <td>-0.27</td>\n",
       "    </tr>\n",
       "    <tr>\n",
       "      <th>13</th>\n",
       "      <td>424,230.83</td>\n",
       "      <td>4,690.60</td>\n",
       "      <td>1.11</td>\n",
       "      <td>-1,799.30</td>\n",
       "      <td>-0.42</td>\n",
       "    </tr>\n",
       "    <tr>\n",
       "      <th>14</th>\n",
       "      <td>424,230.83</td>\n",
       "      <td>4,585.42</td>\n",
       "      <td>1.08</td>\n",
       "      <td>-1,303.95</td>\n",
       "      <td>-0.31</td>\n",
       "    </tr>\n",
       "    <tr>\n",
       "      <th>15</th>\n",
       "      <td>424,230.83</td>\n",
       "      <td>4,557.31</td>\n",
       "      <td>1.07</td>\n",
       "      <td>-1,507.85</td>\n",
       "      <td>-0.36</td>\n",
       "    </tr>\n",
       "    <tr>\n",
       "      <th>16</th>\n",
       "      <td>424,230.83</td>\n",
       "      <td>4,545.57</td>\n",
       "      <td>1.07</td>\n",
       "      <td>-1,331.28</td>\n",
       "      <td>-0.31</td>\n",
       "    </tr>\n",
       "    <tr>\n",
       "      <th>17</th>\n",
       "      <td>424,230.83</td>\n",
       "      <td>4,152.03</td>\n",
       "      <td>0.98</td>\n",
       "      <td>-1,089.82</td>\n",
       "      <td>-0.26</td>\n",
       "    </tr>\n",
       "    <tr>\n",
       "      <th>18</th>\n",
       "      <td>424,230.83</td>\n",
       "      <td>4,402.59</td>\n",
       "      <td>1.04</td>\n",
       "      <td>-1,378.82</td>\n",
       "      <td>-0.33</td>\n",
       "    </tr>\n",
       "    <tr>\n",
       "      <th>19</th>\n",
       "      <td>424,230.83</td>\n",
       "      <td>4,603.75</td>\n",
       "      <td>1.09</td>\n",
       "      <td>-1,609.60</td>\n",
       "      <td>-0.38</td>\n",
       "    </tr>\n",
       "    <tr>\n",
       "      <th>20</th>\n",
       "      <td>424,230.83</td>\n",
       "      <td>4,666.96</td>\n",
       "      <td>1.10</td>\n",
       "      <td>-1,617.47</td>\n",
       "      <td>-0.38</td>\n",
       "    </tr>\n",
       "    <tr>\n",
       "      <th>21</th>\n",
       "      <td>424,230.83</td>\n",
       "      <td>4,446.77</td>\n",
       "      <td>1.05</td>\n",
       "      <td>-1,371.76</td>\n",
       "      <td>-0.32</td>\n",
       "    </tr>\n",
       "    <tr>\n",
       "      <th>22</th>\n",
       "      <td>424,230.83</td>\n",
       "      <td>4,595.48</td>\n",
       "      <td>1.08</td>\n",
       "      <td>-1,426.57</td>\n",
       "      <td>-0.34</td>\n",
       "    </tr>\n",
       "    <tr>\n",
       "      <th>23</th>\n",
       "      <td>424,230.83</td>\n",
       "      <td>4,512.19</td>\n",
       "      <td>1.06</td>\n",
       "      <td>-1,619.25</td>\n",
       "      <td>-0.38</td>\n",
       "    </tr>\n",
       "  </tbody>\n",
       "</table>\n",
       "</div>"
      ],
      "text/plain": [
       "    Area_tot(€)  Area_diff_abs(€)  Area_diff_rel(%)  Area_tot_diff_abs(€)  \\\n",
       "0  2,223,423.54              0.00              0.00                  0.00   \n",
       "1  2,223,423.54              0.00              0.00                  0.00   \n",
       "2  2,209,089.94         23,585.90              1.07             -5,375.10   \n",
       "3  1,771,915.14         10,699.68              0.60            -10,699.68   \n",
       "4  1,556,911.14            766.26              0.05               -756.51   \n",
       "5  1,556,911.14              0.00              0.00                  0.00   \n",
       "6  1,556,015.29            907.15              0.06               -895.85   \n",
       "7  1,509,731.87         44,801.45              2.97             -2,481.07   \n",
       "8    907,171.75         55,458.36              6.11             -3,244.13   \n",
       "9    424,230.83          6,569.50              1.55             -3,388.44   \n",
       "10   424,230.83          4,384.00              1.03             -1,287.62   \n",
       "11   424,230.83          4,591.57              1.08             -1,431.94   \n",
       "12   424,230.83          4,018.29              0.95             -1,156.38   \n",
       "13   424,230.83          4,690.60              1.11             -1,799.30   \n",
       "14   424,230.83          4,585.42              1.08             -1,303.95   \n",
       "15   424,230.83          4,557.31              1.07             -1,507.85   \n",
       "16   424,230.83          4,545.57              1.07             -1,331.28   \n",
       "17   424,230.83          4,152.03              0.98             -1,089.82   \n",
       "18   424,230.83          4,402.59              1.04             -1,378.82   \n",
       "19   424,230.83          4,603.75              1.09             -1,609.60   \n",
       "20   424,230.83          4,666.96              1.10             -1,617.47   \n",
       "21   424,230.83          4,446.77              1.05             -1,371.76   \n",
       "22   424,230.83          4,595.48              1.08             -1,426.57   \n",
       "23   424,230.83          4,512.19              1.06             -1,619.25   \n",
       "\n",
       "    Area_tot_diff_rel(%)  \n",
       "0                   0.00  \n",
       "1                   0.00  \n",
       "2                  -0.24  \n",
       "3                  -0.60  \n",
       "4                  -0.05  \n",
       "5                   0.00  \n",
       "6                  -0.06  \n",
       "7                  -0.16  \n",
       "8                  -0.36  \n",
       "9                  -0.80  \n",
       "10                 -0.30  \n",
       "11                 -0.34  \n",
       "12                 -0.27  \n",
       "13                 -0.42  \n",
       "14                 -0.31  \n",
       "15                 -0.36  \n",
       "16                 -0.31  \n",
       "17                 -0.26  \n",
       "18                 -0.33  \n",
       "19                 -0.38  \n",
       "20                 -0.38  \n",
       "21                 -0.32  \n",
       "22                 -0.34  \n",
       "23                 -0.38  "
      ]
     },
     "execution_count": 176,
     "metadata": {},
     "output_type": "execute_result"
    }
   ],
   "source": [
    "df_y_TEST_area_pred_rf_summary = area_pred_curve_summary(y_dE_TEST, y_dE_TEST_pred_rf)\n",
    "df_y_TEST_area_pred_rf_summary"
   ]
  },
  {
   "cell_type": "code",
   "execution_count": 177,
   "metadata": {},
   "outputs": [],
   "source": [
    "#INCLUDE HERE MORE INFORMATION FROM THE TABLE & GRAPHICS"
   ]
  },
  {
   "cell_type": "code",
   "execution_count": 178,
   "metadata": {},
   "outputs": [],
   "source": [
    "#List of df with the comparison of real data and prediction for every hour.\n",
    "#Returning a complete df for all predictions\n",
    "\n",
    "def df_pred_summary(y, y_pred):\n",
    "\n",
    "    df_pred_summary = []\n",
    "    \n",
    "    hours = len(y)\n",
    "\n",
    "    for hour in range(0, hours):\n",
    "\n",
    "        df_pred = pd.DataFrame(np.concatenate([y[hour],y_pred[hour]],axis=1), \n",
    "                                       columns= ['dE','Price','dE_pred','Price_pred'])\n",
    "        df_pred['dE_diff'] = df_pred['dE'] - df_pred['dE_pred']\n",
    "        df_pred['Price_diff'] = df_pred['Price'] - df_pred['Price_pred']\n",
    "        df_pred['Area'] = df_pred['dE'] * df_pred['Price']\n",
    "        df_pred['Area_pred'] = df_pred['dE_pred'] * df_pred['Price_pred']\n",
    "        df_pred['Area_diff'] = df_pred['Area'] - df_pred['Area_pred']\n",
    "        df_pred['Area_diff_rel(%)'] = df_pred['Area_diff']/df_pred['Area']*100\n",
    "        df_pred['Period'] = hour + 1\n",
    "        \n",
    "        df_pred_summary.append(df_pred)\n",
    "\n",
    "    # Creating a df with all the comparisons (to be able to retreive info easily)\n",
    "\n",
    "    df_y_pred_summary = pd.DataFrame()\n",
    "\n",
    "    for hour in range(0, len(df_pred_summary)):\n",
    "        df_y_pred_summary = pd.concat([df_y_pred_summary,df_pred_summary[hour]])\n",
    "        \n",
    "    df_y_pred_summary.fillna(0,inplace=True)\n",
    "    df_y_pred_summary.reset_index(drop=True,inplace=True)\n",
    "        \n",
    "    return df_y_pred_summary"
   ]
  },
  {
   "cell_type": "code",
   "execution_count": null,
   "metadata": {},
   "outputs": [],
   "source": []
  },
  {
   "cell_type": "code",
   "execution_count": 179,
   "metadata": {},
   "outputs": [],
   "source": [
    "df_TEST_pred_rf_summary  = df_pred_summary(y_dE_TEST, y_dE_TEST_pred_rf)"
   ]
  },
  {
   "cell_type": "code",
   "execution_count": 180,
   "metadata": {},
   "outputs": [
    {
     "data": {
      "text/html": [
       "<div>\n",
       "<style scoped>\n",
       "    .dataframe tbody tr th:only-of-type {\n",
       "        vertical-align: middle;\n",
       "    }\n",
       "\n",
       "    .dataframe tbody tr th {\n",
       "        vertical-align: top;\n",
       "    }\n",
       "\n",
       "    .dataframe thead th {\n",
       "        text-align: right;\n",
       "    }\n",
       "</style>\n",
       "<table border=\"1\" class=\"dataframe\">\n",
       "  <thead>\n",
       "    <tr style=\"text-align: right;\">\n",
       "      <th></th>\n",
       "      <th>dE</th>\n",
       "      <th>Price</th>\n",
       "      <th>dE_pred</th>\n",
       "      <th>Price_pred</th>\n",
       "      <th>dE_diff</th>\n",
       "      <th>Price_diff</th>\n",
       "      <th>Area</th>\n",
       "      <th>Area_pred</th>\n",
       "      <th>Area_diff</th>\n",
       "      <th>Area_diff_rel(%)</th>\n",
       "      <th>Period</th>\n",
       "    </tr>\n",
       "  </thead>\n",
       "  <tbody>\n",
       "    <tr>\n",
       "      <th>3395</th>\n",
       "      <td>37.80</td>\n",
       "      <td>180.30</td>\n",
       "      <td>40.47</td>\n",
       "      <td>180.30</td>\n",
       "      <td>-2.67</td>\n",
       "      <td>0.00</td>\n",
       "      <td>6,815.34</td>\n",
       "      <td>7,296.68</td>\n",
       "      <td>-481.34</td>\n",
       "      <td>-7.06</td>\n",
       "      <td>10</td>\n",
       "    </tr>\n",
       "    <tr>\n",
       "      <th>3479</th>\n",
       "      <td>37.80</td>\n",
       "      <td>180.30</td>\n",
       "      <td>40.47</td>\n",
       "      <td>180.30</td>\n",
       "      <td>-2.67</td>\n",
       "      <td>0.00</td>\n",
       "      <td>6,815.34</td>\n",
       "      <td>7,296.68</td>\n",
       "      <td>-481.34</td>\n",
       "      <td>-7.06</td>\n",
       "      <td>10</td>\n",
       "    </tr>\n",
       "    <tr>\n",
       "      <th>3563</th>\n",
       "      <td>37.80</td>\n",
       "      <td>180.30</td>\n",
       "      <td>40.47</td>\n",
       "      <td>180.30</td>\n",
       "      <td>-2.67</td>\n",
       "      <td>0.00</td>\n",
       "      <td>6,815.34</td>\n",
       "      <td>7,296.68</td>\n",
       "      <td>-481.34</td>\n",
       "      <td>-7.06</td>\n",
       "      <td>10</td>\n",
       "    </tr>\n",
       "    <tr>\n",
       "      <th>3647</th>\n",
       "      <td>37.80</td>\n",
       "      <td>180.30</td>\n",
       "      <td>40.47</td>\n",
       "      <td>180.30</td>\n",
       "      <td>-2.67</td>\n",
       "      <td>0.00</td>\n",
       "      <td>6,815.34</td>\n",
       "      <td>7,296.68</td>\n",
       "      <td>-481.34</td>\n",
       "      <td>-7.06</td>\n",
       "      <td>10</td>\n",
       "    </tr>\n",
       "  </tbody>\n",
       "</table>\n",
       "</div>"
      ],
      "text/plain": [
       "        dE  Price  dE_pred  Price_pred  dE_diff  Price_diff     Area  \\\n",
       "3395 37.80 180.30    40.47      180.30    -2.67        0.00 6,815.34   \n",
       "3479 37.80 180.30    40.47      180.30    -2.67        0.00 6,815.34   \n",
       "3563 37.80 180.30    40.47      180.30    -2.67        0.00 6,815.34   \n",
       "3647 37.80 180.30    40.47      180.30    -2.67        0.00 6,815.34   \n",
       "\n",
       "      Area_pred  Area_diff  Area_diff_rel(%)  Period  \n",
       "3395   7,296.68    -481.34             -7.06      10  \n",
       "3479   7,296.68    -481.34             -7.06      10  \n",
       "3563   7,296.68    -481.34             -7.06      10  \n",
       "3647   7,296.68    -481.34             -7.06      10  "
      ]
     },
     "execution_count": 180,
     "metadata": {},
     "output_type": "execute_result"
    }
   ],
   "source": [
    "df_TEST_pred_rf_summary[(df_TEST_pred_rf_summary['Period']==10) & (df_TEST_pred_rf_summary['dE_diff']<-2)]"
   ]
  },
  {
   "cell_type": "code",
   "execution_count": 181,
   "metadata": {},
   "outputs": [
    {
     "data": {
      "text/html": [
       "<div>\n",
       "<style scoped>\n",
       "    .dataframe tbody tr th:only-of-type {\n",
       "        vertical-align: middle;\n",
       "    }\n",
       "\n",
       "    .dataframe tbody tr th {\n",
       "        vertical-align: top;\n",
       "    }\n",
       "\n",
       "    .dataframe thead th {\n",
       "        text-align: right;\n",
       "    }\n",
       "</style>\n",
       "<table border=\"1\" class=\"dataframe\">\n",
       "  <thead>\n",
       "    <tr style=\"text-align: right;\">\n",
       "      <th></th>\n",
       "      <th>dE</th>\n",
       "      <th>Price</th>\n",
       "      <th>dE_pred</th>\n",
       "      <th>Price_pred</th>\n",
       "      <th>dE_diff</th>\n",
       "      <th>Price_diff</th>\n",
       "      <th>Area</th>\n",
       "      <th>Area_pred</th>\n",
       "      <th>Area_diff</th>\n",
       "      <th>Area_diff_rel(%)</th>\n",
       "      <th>Period</th>\n",
       "    </tr>\n",
       "  </thead>\n",
       "  <tbody>\n",
       "    <tr>\n",
       "      <th>count</th>\n",
       "      <td>8,928.00</td>\n",
       "      <td>8,928.00</td>\n",
       "      <td>8,928.00</td>\n",
       "      <td>8,928.00</td>\n",
       "      <td>8,928.00</td>\n",
       "      <td>8,928.00</td>\n",
       "      <td>8,928.00</td>\n",
       "      <td>8,928.00</td>\n",
       "      <td>8,928.00</td>\n",
       "      <td>8,928.00</td>\n",
       "      <td>8,928.00</td>\n",
       "    </tr>\n",
       "    <tr>\n",
       "      <th>mean</th>\n",
       "      <td>33.15</td>\n",
       "      <td>91.55</td>\n",
       "      <td>33.15</td>\n",
       "      <td>91.70</td>\n",
       "      <td>0.00</td>\n",
       "      <td>-0.16</td>\n",
       "      <td>2,450.50</td>\n",
       "      <td>2,455.74</td>\n",
       "      <td>-5.24</td>\n",
       "      <td>-inf</td>\n",
       "      <td>12.50</td>\n",
       "    </tr>\n",
       "    <tr>\n",
       "      <th>std</th>\n",
       "      <td>67.01</td>\n",
       "      <td>71.81</td>\n",
       "      <td>67.05</td>\n",
       "      <td>71.70</td>\n",
       "      <td>3.13</td>\n",
       "      <td>7.15</td>\n",
       "      <td>9,912.00</td>\n",
       "      <td>9,923.16</td>\n",
       "      <td>483.44</td>\n",
       "      <td>nan</td>\n",
       "      <td>6.92</td>\n",
       "    </tr>\n",
       "    <tr>\n",
       "      <th>min</th>\n",
       "      <td>0.00</td>\n",
       "      <td>1.13</td>\n",
       "      <td>0.00</td>\n",
       "      <td>1.13</td>\n",
       "      <td>-120.15</td>\n",
       "      <td>-179.17</td>\n",
       "      <td>0.00</td>\n",
       "      <td>0.00</td>\n",
       "      <td>-21,662.45</td>\n",
       "      <td>-inf</td>\n",
       "      <td>1.00</td>\n",
       "    </tr>\n",
       "    <tr>\n",
       "      <th>25%</th>\n",
       "      <td>0.00</td>\n",
       "      <td>37.18</td>\n",
       "      <td>0.00</td>\n",
       "      <td>38.30</td>\n",
       "      <td>0.00</td>\n",
       "      <td>-0.03</td>\n",
       "      <td>0.00</td>\n",
       "      <td>0.00</td>\n",
       "      <td>-0.54</td>\n",
       "      <td>-0.08</td>\n",
       "      <td>6.75</td>\n",
       "    </tr>\n",
       "    <tr>\n",
       "      <th>50%</th>\n",
       "      <td>17.00</td>\n",
       "      <td>41.64</td>\n",
       "      <td>17.00</td>\n",
       "      <td>41.53</td>\n",
       "      <td>0.00</td>\n",
       "      <td>0.00</td>\n",
       "      <td>616.08</td>\n",
       "      <td>625.10</td>\n",
       "      <td>0.00</td>\n",
       "      <td>0.00</td>\n",
       "      <td>12.50</td>\n",
       "    </tr>\n",
       "    <tr>\n",
       "      <th>75%</th>\n",
       "      <td>17.00</td>\n",
       "      <td>180.30</td>\n",
       "      <td>17.00</td>\n",
       "      <td>180.30</td>\n",
       "      <td>0.00</td>\n",
       "      <td>0.00</td>\n",
       "      <td>683.40</td>\n",
       "      <td>691.71</td>\n",
       "      <td>0.00</td>\n",
       "      <td>0.00</td>\n",
       "      <td>18.25</td>\n",
       "    </tr>\n",
       "    <tr>\n",
       "      <th>max</th>\n",
       "      <td>397.80</td>\n",
       "      <td>180.30</td>\n",
       "      <td>397.80</td>\n",
       "      <td>180.30</td>\n",
       "      <td>115.00</td>\n",
       "      <td>179.17</td>\n",
       "      <td>71,723.34</td>\n",
       "      <td>71,723.34</td>\n",
       "      <td>20,734.50</td>\n",
       "      <td>100.00</td>\n",
       "      <td>24.00</td>\n",
       "    </tr>\n",
       "  </tbody>\n",
       "</table>\n",
       "</div>"
      ],
      "text/plain": [
       "            dE    Price  dE_pred  Price_pred  dE_diff  Price_diff      Area  \\\n",
       "count 8,928.00 8,928.00 8,928.00    8,928.00 8,928.00    8,928.00  8,928.00   \n",
       "mean     33.15    91.55    33.15       91.70     0.00       -0.16  2,450.50   \n",
       "std      67.01    71.81    67.05       71.70     3.13        7.15  9,912.00   \n",
       "min       0.00     1.13     0.00        1.13  -120.15     -179.17      0.00   \n",
       "25%       0.00    37.18     0.00       38.30     0.00       -0.03      0.00   \n",
       "50%      17.00    41.64    17.00       41.53     0.00        0.00    616.08   \n",
       "75%      17.00   180.30    17.00      180.30     0.00        0.00    683.40   \n",
       "max     397.80   180.30   397.80      180.30   115.00      179.17 71,723.34   \n",
       "\n",
       "       Area_pred  Area_diff  Area_diff_rel(%)   Period  \n",
       "count   8,928.00   8,928.00          8,928.00 8,928.00  \n",
       "mean    2,455.74      -5.24              -inf    12.50  \n",
       "std     9,923.16     483.44               nan     6.92  \n",
       "min         0.00 -21,662.45              -inf     1.00  \n",
       "25%         0.00      -0.54             -0.08     6.75  \n",
       "50%       625.10       0.00              0.00    12.50  \n",
       "75%       691.71       0.00              0.00    18.25  \n",
       "max    71,723.34  20,734.50            100.00    24.00  "
      ]
     },
     "execution_count": 181,
     "metadata": {},
     "output_type": "execute_result"
    }
   ],
   "source": [
    "df_TEST_pred_rf_summary.describe()"
   ]
  },
  {
   "cell_type": "code",
   "execution_count": null,
   "metadata": {},
   "outputs": [],
   "source": []
  },
  {
   "cell_type": "code",
   "execution_count": 182,
   "metadata": {},
   "outputs": [
    {
     "data": {
      "text/plain": [
       "-5.238841681863739"
      ]
     },
     "execution_count": 182,
     "metadata": {},
     "output_type": "execute_result"
    }
   ],
   "source": [
    "df_TEST_pred_rf_summary['Area_diff'].mean()"
   ]
  },
  {
   "cell_type": "code",
   "execution_count": 183,
   "metadata": {},
   "outputs": [
    {
     "data": {
      "text/plain": [
       "(-5.238841681863739, -0.2137867229302921)"
      ]
     },
     "execution_count": 183,
     "metadata": {},
     "output_type": "execute_result"
    }
   ],
   "source": [
    "Area_pred_mean_error_TEST = df_TEST_pred_rf_summary['Area_diff'].mean()\n",
    "Area_pred_mean_error_TEST_rel = df_TEST_pred_rf_summary['Area_diff'].mean() / df_TEST_pred_rf_summary['Area'].mean() * 100\n",
    "Area_pred_mean_error_TEST, Area_pred_mean_error_TEST_rel"
   ]
  },
  {
   "cell_type": "code",
   "execution_count": 184,
   "metadata": {},
   "outputs": [
    {
     "data": {
      "text/plain": [
       "23.022044550170015"
      ]
     },
     "execution_count": 184,
     "metadata": {},
     "output_type": "execute_result"
    }
   ],
   "source": [
    "#MAE for Area and Area_pred\n",
    "\n",
    "mae_area_pred_TEST = mean_absolute_error(df_TEST_pred_rf_summary['Area'],df_TEST_pred_rf_summary['Area_pred'])\n",
    "mae_area_pred_TEST"
   ]
  },
  {
   "cell_type": "code",
   "execution_count": 185,
   "metadata": {},
   "outputs": [
    {
     "data": {
      "text/plain": [
       "483.4375777135522"
      ]
     },
     "execution_count": 185,
     "metadata": {},
     "output_type": "execute_result"
    }
   ],
   "source": [
    "#RMSE for Area and Area_pred\n",
    "\n",
    "rmse_area_pred_TEST = (np.sqrt(mean_squared_error(df_TEST_pred_rf_summary['Area'],df_TEST_pred_rf_summary['Area_pred'])))\n",
    "rmse_area_pred_TEST"
   ]
  },
  {
   "cell_type": "code",
   "execution_count": null,
   "metadata": {},
   "outputs": [],
   "source": []
  },
  {
   "cell_type": "code",
   "execution_count": 186,
   "metadata": {
    "scrolled": true
   },
   "outputs": [
    {
     "data": {
      "text/html": [
       "<div>\n",
       "<style scoped>\n",
       "    .dataframe tbody tr th:only-of-type {\n",
       "        vertical-align: middle;\n",
       "    }\n",
       "\n",
       "    .dataframe tbody tr th {\n",
       "        vertical-align: top;\n",
       "    }\n",
       "\n",
       "    .dataframe thead th {\n",
       "        text-align: right;\n",
       "    }\n",
       "</style>\n",
       "<table border=\"1\" class=\"dataframe\">\n",
       "  <thead>\n",
       "    <tr style=\"text-align: right;\">\n",
       "      <th></th>\n",
       "      <th>dE</th>\n",
       "      <th>Price</th>\n",
       "      <th>dE_pred</th>\n",
       "      <th>Price_pred</th>\n",
       "      <th>dE_diff</th>\n",
       "      <th>Price_diff</th>\n",
       "      <th>Area</th>\n",
       "      <th>Area_pred</th>\n",
       "      <th>Area_diff</th>\n",
       "      <th>Area_diff_rel(%)</th>\n",
       "      <th>Period</th>\n",
       "    </tr>\n",
       "  </thead>\n",
       "  <tbody>\n",
       "    <tr>\n",
       "      <th>1032</th>\n",
       "      <td>80.00</td>\n",
       "      <td>1.13</td>\n",
       "      <td>0.00</td>\n",
       "      <td>180.30</td>\n",
       "      <td>80.00</td>\n",
       "      <td>-179.17</td>\n",
       "      <td>90.40</td>\n",
       "      <td>0.00</td>\n",
       "      <td>90.40</td>\n",
       "      <td>100.00</td>\n",
       "      <td>3</td>\n",
       "    </tr>\n",
       "    <tr>\n",
       "      <th>1044</th>\n",
       "      <td>0.00</td>\n",
       "      <td>180.30</td>\n",
       "      <td>50.00</td>\n",
       "      <td>1.13</td>\n",
       "      <td>-50.00</td>\n",
       "      <td>179.17</td>\n",
       "      <td>0.00</td>\n",
       "      <td>56.50</td>\n",
       "      <td>-56.50</td>\n",
       "      <td>-inf</td>\n",
       "      <td>3</td>\n",
       "    </tr>\n",
       "    <tr>\n",
       "      <th>2893</th>\n",
       "      <td>17.00</td>\n",
       "      <td>38.51</td>\n",
       "      <td>0.00</td>\n",
       "      <td>180.30</td>\n",
       "      <td>17.00</td>\n",
       "      <td>-141.79</td>\n",
       "      <td>654.67</td>\n",
       "      <td>0.00</td>\n",
       "      <td>654.67</td>\n",
       "      <td>100.00</td>\n",
       "      <td>8</td>\n",
       "    </tr>\n",
       "    <tr>\n",
       "      <th>2894</th>\n",
       "      <td>17.00</td>\n",
       "      <td>39.09</td>\n",
       "      <td>0.00</td>\n",
       "      <td>180.30</td>\n",
       "      <td>17.00</td>\n",
       "      <td>-141.21</td>\n",
       "      <td>664.53</td>\n",
       "      <td>0.00</td>\n",
       "      <td>664.53</td>\n",
       "      <td>100.00</td>\n",
       "      <td>8</td>\n",
       "    </tr>\n",
       "    <tr>\n",
       "      <th>2895</th>\n",
       "      <td>17.00</td>\n",
       "      <td>39.67</td>\n",
       "      <td>0.00</td>\n",
       "      <td>180.30</td>\n",
       "      <td>17.00</td>\n",
       "      <td>-140.63</td>\n",
       "      <td>674.39</td>\n",
       "      <td>0.00</td>\n",
       "      <td>674.39</td>\n",
       "      <td>100.00</td>\n",
       "      <td>8</td>\n",
       "    </tr>\n",
       "    <tr>\n",
       "      <th>2896</th>\n",
       "      <td>4.00</td>\n",
       "      <td>40.26</td>\n",
       "      <td>0.00</td>\n",
       "      <td>180.30</td>\n",
       "      <td>4.00</td>\n",
       "      <td>-140.04</td>\n",
       "      <td>161.04</td>\n",
       "      <td>0.00</td>\n",
       "      <td>161.04</td>\n",
       "      <td>100.00</td>\n",
       "      <td>8</td>\n",
       "    </tr>\n",
       "    <tr>\n",
       "      <th>2905</th>\n",
       "      <td>0.00</td>\n",
       "      <td>180.30</td>\n",
       "      <td>13.48</td>\n",
       "      <td>38.40</td>\n",
       "      <td>-13.48</td>\n",
       "      <td>141.90</td>\n",
       "      <td>0.00</td>\n",
       "      <td>517.58</td>\n",
       "      <td>-517.58</td>\n",
       "      <td>-inf</td>\n",
       "      <td>8</td>\n",
       "    </tr>\n",
       "    <tr>\n",
       "      <th>2906</th>\n",
       "      <td>0.00</td>\n",
       "      <td>180.30</td>\n",
       "      <td>13.48</td>\n",
       "      <td>39.05</td>\n",
       "      <td>-13.48</td>\n",
       "      <td>141.25</td>\n",
       "      <td>0.00</td>\n",
       "      <td>526.37</td>\n",
       "      <td>-526.37</td>\n",
       "      <td>-inf</td>\n",
       "      <td>8</td>\n",
       "    </tr>\n",
       "    <tr>\n",
       "      <th>2907</th>\n",
       "      <td>0.00</td>\n",
       "      <td>180.30</td>\n",
       "      <td>8.42</td>\n",
       "      <td>39.37</td>\n",
       "      <td>-8.42</td>\n",
       "      <td>140.93</td>\n",
       "      <td>0.00</td>\n",
       "      <td>331.48</td>\n",
       "      <td>-331.48</td>\n",
       "      <td>-inf</td>\n",
       "      <td>8</td>\n",
       "    </tr>\n",
       "    <tr>\n",
       "      <th>2908</th>\n",
       "      <td>0.00</td>\n",
       "      <td>180.30</td>\n",
       "      <td>11.06</td>\n",
       "      <td>40.74</td>\n",
       "      <td>-11.06</td>\n",
       "      <td>139.56</td>\n",
       "      <td>0.00</td>\n",
       "      <td>450.57</td>\n",
       "      <td>-450.57</td>\n",
       "      <td>-inf</td>\n",
       "      <td>8</td>\n",
       "    </tr>\n",
       "    <tr>\n",
       "      <th>3269</th>\n",
       "      <td>17.00</td>\n",
       "      <td>41.64</td>\n",
       "      <td>0.00</td>\n",
       "      <td>180.30</td>\n",
       "      <td>17.00</td>\n",
       "      <td>-138.66</td>\n",
       "      <td>707.88</td>\n",
       "      <td>0.00</td>\n",
       "      <td>707.88</td>\n",
       "      <td>100.00</td>\n",
       "      <td>9</td>\n",
       "    </tr>\n",
       "    <tr>\n",
       "      <th>3270</th>\n",
       "      <td>17.00</td>\n",
       "      <td>42.22</td>\n",
       "      <td>0.00</td>\n",
       "      <td>180.30</td>\n",
       "      <td>17.00</td>\n",
       "      <td>-138.08</td>\n",
       "      <td>717.74</td>\n",
       "      <td>0.00</td>\n",
       "      <td>717.74</td>\n",
       "      <td>100.00</td>\n",
       "      <td>9</td>\n",
       "    </tr>\n",
       "    <tr>\n",
       "      <th>3271</th>\n",
       "      <td>17.00</td>\n",
       "      <td>42.81</td>\n",
       "      <td>0.00</td>\n",
       "      <td>180.30</td>\n",
       "      <td>17.00</td>\n",
       "      <td>-137.49</td>\n",
       "      <td>727.77</td>\n",
       "      <td>0.00</td>\n",
       "      <td>727.77</td>\n",
       "      <td>100.00</td>\n",
       "      <td>9</td>\n",
       "    </tr>\n",
       "    <tr>\n",
       "      <th>3272</th>\n",
       "      <td>17.00</td>\n",
       "      <td>43.89</td>\n",
       "      <td>0.00</td>\n",
       "      <td>180.30</td>\n",
       "      <td>17.00</td>\n",
       "      <td>-136.41</td>\n",
       "      <td>746.13</td>\n",
       "      <td>0.00</td>\n",
       "      <td>746.13</td>\n",
       "      <td>100.00</td>\n",
       "      <td>9</td>\n",
       "    </tr>\n",
       "    <tr>\n",
       "      <th>3273</th>\n",
       "      <td>17.00</td>\n",
       "      <td>44.97</td>\n",
       "      <td>0.00</td>\n",
       "      <td>180.30</td>\n",
       "      <td>17.00</td>\n",
       "      <td>-135.33</td>\n",
       "      <td>764.49</td>\n",
       "      <td>0.00</td>\n",
       "      <td>764.49</td>\n",
       "      <td>100.00</td>\n",
       "      <td>9</td>\n",
       "    </tr>\n",
       "    <tr>\n",
       "      <th>3274</th>\n",
       "      <td>17.00</td>\n",
       "      <td>46.56</td>\n",
       "      <td>0.00</td>\n",
       "      <td>180.30</td>\n",
       "      <td>17.00</td>\n",
       "      <td>-133.74</td>\n",
       "      <td>791.52</td>\n",
       "      <td>0.00</td>\n",
       "      <td>791.52</td>\n",
       "      <td>100.00</td>\n",
       "      <td>9</td>\n",
       "    </tr>\n",
       "    <tr>\n",
       "      <th>3281</th>\n",
       "      <td>0.00</td>\n",
       "      <td>180.30</td>\n",
       "      <td>12.37</td>\n",
       "      <td>44.31</td>\n",
       "      <td>-12.37</td>\n",
       "      <td>135.99</td>\n",
       "      <td>0.00</td>\n",
       "      <td>548.07</td>\n",
       "      <td>-548.07</td>\n",
       "      <td>-inf</td>\n",
       "      <td>9</td>\n",
       "    </tr>\n",
       "    <tr>\n",
       "      <th>3282</th>\n",
       "      <td>0.00</td>\n",
       "      <td>180.30</td>\n",
       "      <td>11.03</td>\n",
       "      <td>44.99</td>\n",
       "      <td>-11.03</td>\n",
       "      <td>135.31</td>\n",
       "      <td>0.00</td>\n",
       "      <td>496.21</td>\n",
       "      <td>-496.21</td>\n",
       "      <td>-inf</td>\n",
       "      <td>9</td>\n",
       "    </tr>\n",
       "    <tr>\n",
       "      <th>3283</th>\n",
       "      <td>0.00</td>\n",
       "      <td>180.30</td>\n",
       "      <td>10.64</td>\n",
       "      <td>47.00</td>\n",
       "      <td>-10.64</td>\n",
       "      <td>133.30</td>\n",
       "      <td>0.00</td>\n",
       "      <td>500.12</td>\n",
       "      <td>-500.12</td>\n",
       "      <td>-inf</td>\n",
       "      <td>9</td>\n",
       "    </tr>\n",
       "    <tr>\n",
       "      <th>3284</th>\n",
       "      <td>0.00</td>\n",
       "      <td>180.30</td>\n",
       "      <td>10.51</td>\n",
       "      <td>48.20</td>\n",
       "      <td>-10.51</td>\n",
       "      <td>132.10</td>\n",
       "      <td>0.00</td>\n",
       "      <td>506.57</td>\n",
       "      <td>-506.57</td>\n",
       "      <td>-inf</td>\n",
       "      <td>9</td>\n",
       "    </tr>\n",
       "    <tr>\n",
       "      <th>3285</th>\n",
       "      <td>0.00</td>\n",
       "      <td>180.30</td>\n",
       "      <td>10.51</td>\n",
       "      <td>48.73</td>\n",
       "      <td>-10.51</td>\n",
       "      <td>131.57</td>\n",
       "      <td>0.00</td>\n",
       "      <td>512.18</td>\n",
       "      <td>-512.18</td>\n",
       "      <td>-inf</td>\n",
       "      <td>9</td>\n",
       "    </tr>\n",
       "    <tr>\n",
       "      <th>3286</th>\n",
       "      <td>0.00</td>\n",
       "      <td>180.30</td>\n",
       "      <td>10.51</td>\n",
       "      <td>49.53</td>\n",
       "      <td>-10.51</td>\n",
       "      <td>130.77</td>\n",
       "      <td>0.00</td>\n",
       "      <td>520.51</td>\n",
       "      <td>-520.51</td>\n",
       "      <td>-inf</td>\n",
       "      <td>9</td>\n",
       "    </tr>\n",
       "  </tbody>\n",
       "</table>\n",
       "</div>"
      ],
      "text/plain": [
       "        dE  Price  dE_pred  Price_pred  dE_diff  Price_diff   Area  Area_pred  \\\n",
       "1032 80.00   1.13     0.00      180.30    80.00     -179.17  90.40       0.00   \n",
       "1044  0.00 180.30    50.00        1.13   -50.00      179.17   0.00      56.50   \n",
       "2893 17.00  38.51     0.00      180.30    17.00     -141.79 654.67       0.00   \n",
       "2894 17.00  39.09     0.00      180.30    17.00     -141.21 664.53       0.00   \n",
       "2895 17.00  39.67     0.00      180.30    17.00     -140.63 674.39       0.00   \n",
       "2896  4.00  40.26     0.00      180.30     4.00     -140.04 161.04       0.00   \n",
       "2905  0.00 180.30    13.48       38.40   -13.48      141.90   0.00     517.58   \n",
       "2906  0.00 180.30    13.48       39.05   -13.48      141.25   0.00     526.37   \n",
       "2907  0.00 180.30     8.42       39.37    -8.42      140.93   0.00     331.48   \n",
       "2908  0.00 180.30    11.06       40.74   -11.06      139.56   0.00     450.57   \n",
       "3269 17.00  41.64     0.00      180.30    17.00     -138.66 707.88       0.00   \n",
       "3270 17.00  42.22     0.00      180.30    17.00     -138.08 717.74       0.00   \n",
       "3271 17.00  42.81     0.00      180.30    17.00     -137.49 727.77       0.00   \n",
       "3272 17.00  43.89     0.00      180.30    17.00     -136.41 746.13       0.00   \n",
       "3273 17.00  44.97     0.00      180.30    17.00     -135.33 764.49       0.00   \n",
       "3274 17.00  46.56     0.00      180.30    17.00     -133.74 791.52       0.00   \n",
       "3281  0.00 180.30    12.37       44.31   -12.37      135.99   0.00     548.07   \n",
       "3282  0.00 180.30    11.03       44.99   -11.03      135.31   0.00     496.21   \n",
       "3283  0.00 180.30    10.64       47.00   -10.64      133.30   0.00     500.12   \n",
       "3284  0.00 180.30    10.51       48.20   -10.51      132.10   0.00     506.57   \n",
       "3285  0.00 180.30    10.51       48.73   -10.51      131.57   0.00     512.18   \n",
       "3286  0.00 180.30    10.51       49.53   -10.51      130.77   0.00     520.51   \n",
       "\n",
       "      Area_diff  Area_diff_rel(%)  Period  \n",
       "1032      90.40            100.00       3  \n",
       "1044     -56.50              -inf       3  \n",
       "2893     654.67            100.00       8  \n",
       "2894     664.53            100.00       8  \n",
       "2895     674.39            100.00       8  \n",
       "2896     161.04            100.00       8  \n",
       "2905    -517.58              -inf       8  \n",
       "2906    -526.37              -inf       8  \n",
       "2907    -331.48              -inf       8  \n",
       "2908    -450.57              -inf       8  \n",
       "3269     707.88            100.00       9  \n",
       "3270     717.74            100.00       9  \n",
       "3271     727.77            100.00       9  \n",
       "3272     746.13            100.00       9  \n",
       "3273     764.49            100.00       9  \n",
       "3274     791.52            100.00       9  \n",
       "3281    -548.07              -inf       9  \n",
       "3282    -496.21              -inf       9  \n",
       "3283    -500.12              -inf       9  \n",
       "3284    -506.57              -inf       9  \n",
       "3285    -512.18              -inf       9  \n",
       "3286    -520.51              -inf       9  "
      ]
     },
     "execution_count": 186,
     "metadata": {},
     "output_type": "execute_result"
    }
   ],
   "source": [
    "#Looking for min and max values in the df\n",
    "\n",
    "df_TEST_pred_rf_summary[(df_TEST_pred_rf_summary['Price_diff'] < -7) |\n",
    "                      (df_TEST_pred_rf_summary['Price_diff'] > 5)]"
   ]
  },
  {
   "cell_type": "code",
   "execution_count": 187,
   "metadata": {},
   "outputs": [
    {
     "data": {
      "text/html": [
       "<div>\n",
       "<style scoped>\n",
       "    .dataframe tbody tr th:only-of-type {\n",
       "        vertical-align: middle;\n",
       "    }\n",
       "\n",
       "    .dataframe tbody tr th {\n",
       "        vertical-align: top;\n",
       "    }\n",
       "\n",
       "    .dataframe thead th {\n",
       "        text-align: right;\n",
       "    }\n",
       "</style>\n",
       "<table border=\"1\" class=\"dataframe\">\n",
       "  <thead>\n",
       "    <tr style=\"text-align: right;\">\n",
       "      <th></th>\n",
       "      <th>dE</th>\n",
       "      <th>Price</th>\n",
       "      <th>dE_pred</th>\n",
       "      <th>Price_pred</th>\n",
       "      <th>dE_diff</th>\n",
       "      <th>Price_diff</th>\n",
       "      <th>Area</th>\n",
       "      <th>Area_pred</th>\n",
       "      <th>Area_diff</th>\n",
       "      <th>Area_diff_rel(%)</th>\n",
       "      <th>Period</th>\n",
       "    </tr>\n",
       "  </thead>\n",
       "  <tbody>\n",
       "    <tr>\n",
       "      <th>1032</th>\n",
       "      <td>80.00</td>\n",
       "      <td>1.13</td>\n",
       "      <td>0.00</td>\n",
       "      <td>180.30</td>\n",
       "      <td>80.00</td>\n",
       "      <td>-179.17</td>\n",
       "      <td>90.40</td>\n",
       "      <td>0.00</td>\n",
       "      <td>90.40</td>\n",
       "      <td>100.00</td>\n",
       "      <td>3</td>\n",
       "    </tr>\n",
       "    <tr>\n",
       "      <th>1044</th>\n",
       "      <td>0.00</td>\n",
       "      <td>180.30</td>\n",
       "      <td>50.00</td>\n",
       "      <td>1.13</td>\n",
       "      <td>-50.00</td>\n",
       "      <td>179.17</td>\n",
       "      <td>0.00</td>\n",
       "      <td>56.50</td>\n",
       "      <td>-56.50</td>\n",
       "      <td>-inf</td>\n",
       "      <td>3</td>\n",
       "    </tr>\n",
       "    <tr>\n",
       "      <th>2893</th>\n",
       "      <td>17.00</td>\n",
       "      <td>38.51</td>\n",
       "      <td>0.00</td>\n",
       "      <td>180.30</td>\n",
       "      <td>17.00</td>\n",
       "      <td>-141.79</td>\n",
       "      <td>654.67</td>\n",
       "      <td>0.00</td>\n",
       "      <td>654.67</td>\n",
       "      <td>100.00</td>\n",
       "      <td>8</td>\n",
       "    </tr>\n",
       "    <tr>\n",
       "      <th>2894</th>\n",
       "      <td>17.00</td>\n",
       "      <td>39.09</td>\n",
       "      <td>0.00</td>\n",
       "      <td>180.30</td>\n",
       "      <td>17.00</td>\n",
       "      <td>-141.21</td>\n",
       "      <td>664.53</td>\n",
       "      <td>0.00</td>\n",
       "      <td>664.53</td>\n",
       "      <td>100.00</td>\n",
       "      <td>8</td>\n",
       "    </tr>\n",
       "    <tr>\n",
       "      <th>2895</th>\n",
       "      <td>17.00</td>\n",
       "      <td>39.67</td>\n",
       "      <td>0.00</td>\n",
       "      <td>180.30</td>\n",
       "      <td>17.00</td>\n",
       "      <td>-140.63</td>\n",
       "      <td>674.39</td>\n",
       "      <td>0.00</td>\n",
       "      <td>674.39</td>\n",
       "      <td>100.00</td>\n",
       "      <td>8</td>\n",
       "    </tr>\n",
       "    <tr>\n",
       "      <th>2896</th>\n",
       "      <td>4.00</td>\n",
       "      <td>40.26</td>\n",
       "      <td>0.00</td>\n",
       "      <td>180.30</td>\n",
       "      <td>4.00</td>\n",
       "      <td>-140.04</td>\n",
       "      <td>161.04</td>\n",
       "      <td>0.00</td>\n",
       "      <td>161.04</td>\n",
       "      <td>100.00</td>\n",
       "      <td>8</td>\n",
       "    </tr>\n",
       "    <tr>\n",
       "      <th>2905</th>\n",
       "      <td>0.00</td>\n",
       "      <td>180.30</td>\n",
       "      <td>13.48</td>\n",
       "      <td>38.40</td>\n",
       "      <td>-13.48</td>\n",
       "      <td>141.90</td>\n",
       "      <td>0.00</td>\n",
       "      <td>517.58</td>\n",
       "      <td>-517.58</td>\n",
       "      <td>-inf</td>\n",
       "      <td>8</td>\n",
       "    </tr>\n",
       "    <tr>\n",
       "      <th>2906</th>\n",
       "      <td>0.00</td>\n",
       "      <td>180.30</td>\n",
       "      <td>13.48</td>\n",
       "      <td>39.05</td>\n",
       "      <td>-13.48</td>\n",
       "      <td>141.25</td>\n",
       "      <td>0.00</td>\n",
       "      <td>526.37</td>\n",
       "      <td>-526.37</td>\n",
       "      <td>-inf</td>\n",
       "      <td>8</td>\n",
       "    </tr>\n",
       "    <tr>\n",
       "      <th>2907</th>\n",
       "      <td>0.00</td>\n",
       "      <td>180.30</td>\n",
       "      <td>8.42</td>\n",
       "      <td>39.37</td>\n",
       "      <td>-8.42</td>\n",
       "      <td>140.93</td>\n",
       "      <td>0.00</td>\n",
       "      <td>331.48</td>\n",
       "      <td>-331.48</td>\n",
       "      <td>-inf</td>\n",
       "      <td>8</td>\n",
       "    </tr>\n",
       "    <tr>\n",
       "      <th>2908</th>\n",
       "      <td>0.00</td>\n",
       "      <td>180.30</td>\n",
       "      <td>11.06</td>\n",
       "      <td>40.74</td>\n",
       "      <td>-11.06</td>\n",
       "      <td>139.56</td>\n",
       "      <td>0.00</td>\n",
       "      <td>450.57</td>\n",
       "      <td>-450.57</td>\n",
       "      <td>-inf</td>\n",
       "      <td>8</td>\n",
       "    </tr>\n",
       "    <tr>\n",
       "      <th>3269</th>\n",
       "      <td>17.00</td>\n",
       "      <td>41.64</td>\n",
       "      <td>0.00</td>\n",
       "      <td>180.30</td>\n",
       "      <td>17.00</td>\n",
       "      <td>-138.66</td>\n",
       "      <td>707.88</td>\n",
       "      <td>0.00</td>\n",
       "      <td>707.88</td>\n",
       "      <td>100.00</td>\n",
       "      <td>9</td>\n",
       "    </tr>\n",
       "    <tr>\n",
       "      <th>3270</th>\n",
       "      <td>17.00</td>\n",
       "      <td>42.22</td>\n",
       "      <td>0.00</td>\n",
       "      <td>180.30</td>\n",
       "      <td>17.00</td>\n",
       "      <td>-138.08</td>\n",
       "      <td>717.74</td>\n",
       "      <td>0.00</td>\n",
       "      <td>717.74</td>\n",
       "      <td>100.00</td>\n",
       "      <td>9</td>\n",
       "    </tr>\n",
       "    <tr>\n",
       "      <th>3271</th>\n",
       "      <td>17.00</td>\n",
       "      <td>42.81</td>\n",
       "      <td>0.00</td>\n",
       "      <td>180.30</td>\n",
       "      <td>17.00</td>\n",
       "      <td>-137.49</td>\n",
       "      <td>727.77</td>\n",
       "      <td>0.00</td>\n",
       "      <td>727.77</td>\n",
       "      <td>100.00</td>\n",
       "      <td>9</td>\n",
       "    </tr>\n",
       "    <tr>\n",
       "      <th>3272</th>\n",
       "      <td>17.00</td>\n",
       "      <td>43.89</td>\n",
       "      <td>0.00</td>\n",
       "      <td>180.30</td>\n",
       "      <td>17.00</td>\n",
       "      <td>-136.41</td>\n",
       "      <td>746.13</td>\n",
       "      <td>0.00</td>\n",
       "      <td>746.13</td>\n",
       "      <td>100.00</td>\n",
       "      <td>9</td>\n",
       "    </tr>\n",
       "    <tr>\n",
       "      <th>3273</th>\n",
       "      <td>17.00</td>\n",
       "      <td>44.97</td>\n",
       "      <td>0.00</td>\n",
       "      <td>180.30</td>\n",
       "      <td>17.00</td>\n",
       "      <td>-135.33</td>\n",
       "      <td>764.49</td>\n",
       "      <td>0.00</td>\n",
       "      <td>764.49</td>\n",
       "      <td>100.00</td>\n",
       "      <td>9</td>\n",
       "    </tr>\n",
       "    <tr>\n",
       "      <th>3274</th>\n",
       "      <td>17.00</td>\n",
       "      <td>46.56</td>\n",
       "      <td>0.00</td>\n",
       "      <td>180.30</td>\n",
       "      <td>17.00</td>\n",
       "      <td>-133.74</td>\n",
       "      <td>791.52</td>\n",
       "      <td>0.00</td>\n",
       "      <td>791.52</td>\n",
       "      <td>100.00</td>\n",
       "      <td>9</td>\n",
       "    </tr>\n",
       "    <tr>\n",
       "      <th>3281</th>\n",
       "      <td>0.00</td>\n",
       "      <td>180.30</td>\n",
       "      <td>12.37</td>\n",
       "      <td>44.31</td>\n",
       "      <td>-12.37</td>\n",
       "      <td>135.99</td>\n",
       "      <td>0.00</td>\n",
       "      <td>548.07</td>\n",
       "      <td>-548.07</td>\n",
       "      <td>-inf</td>\n",
       "      <td>9</td>\n",
       "    </tr>\n",
       "    <tr>\n",
       "      <th>3282</th>\n",
       "      <td>0.00</td>\n",
       "      <td>180.30</td>\n",
       "      <td>11.03</td>\n",
       "      <td>44.99</td>\n",
       "      <td>-11.03</td>\n",
       "      <td>135.31</td>\n",
       "      <td>0.00</td>\n",
       "      <td>496.21</td>\n",
       "      <td>-496.21</td>\n",
       "      <td>-inf</td>\n",
       "      <td>9</td>\n",
       "    </tr>\n",
       "    <tr>\n",
       "      <th>3283</th>\n",
       "      <td>0.00</td>\n",
       "      <td>180.30</td>\n",
       "      <td>10.64</td>\n",
       "      <td>47.00</td>\n",
       "      <td>-10.64</td>\n",
       "      <td>133.30</td>\n",
       "      <td>0.00</td>\n",
       "      <td>500.12</td>\n",
       "      <td>-500.12</td>\n",
       "      <td>-inf</td>\n",
       "      <td>9</td>\n",
       "    </tr>\n",
       "    <tr>\n",
       "      <th>3284</th>\n",
       "      <td>0.00</td>\n",
       "      <td>180.30</td>\n",
       "      <td>10.51</td>\n",
       "      <td>48.20</td>\n",
       "      <td>-10.51</td>\n",
       "      <td>132.10</td>\n",
       "      <td>0.00</td>\n",
       "      <td>506.57</td>\n",
       "      <td>-506.57</td>\n",
       "      <td>-inf</td>\n",
       "      <td>9</td>\n",
       "    </tr>\n",
       "    <tr>\n",
       "      <th>3285</th>\n",
       "      <td>0.00</td>\n",
       "      <td>180.30</td>\n",
       "      <td>10.51</td>\n",
       "      <td>48.73</td>\n",
       "      <td>-10.51</td>\n",
       "      <td>131.57</td>\n",
       "      <td>0.00</td>\n",
       "      <td>512.18</td>\n",
       "      <td>-512.18</td>\n",
       "      <td>-inf</td>\n",
       "      <td>9</td>\n",
       "    </tr>\n",
       "    <tr>\n",
       "      <th>3286</th>\n",
       "      <td>0.00</td>\n",
       "      <td>180.30</td>\n",
       "      <td>10.51</td>\n",
       "      <td>49.53</td>\n",
       "      <td>-10.51</td>\n",
       "      <td>130.77</td>\n",
       "      <td>0.00</td>\n",
       "      <td>520.51</td>\n",
       "      <td>-520.51</td>\n",
       "      <td>-inf</td>\n",
       "      <td>9</td>\n",
       "    </tr>\n",
       "  </tbody>\n",
       "</table>\n",
       "</div>"
      ],
      "text/plain": [
       "        dE  Price  dE_pred  Price_pred  dE_diff  Price_diff   Area  Area_pred  \\\n",
       "1032 80.00   1.13     0.00      180.30    80.00     -179.17  90.40       0.00   \n",
       "1044  0.00 180.30    50.00        1.13   -50.00      179.17   0.00      56.50   \n",
       "2893 17.00  38.51     0.00      180.30    17.00     -141.79 654.67       0.00   \n",
       "2894 17.00  39.09     0.00      180.30    17.00     -141.21 664.53       0.00   \n",
       "2895 17.00  39.67     0.00      180.30    17.00     -140.63 674.39       0.00   \n",
       "2896  4.00  40.26     0.00      180.30     4.00     -140.04 161.04       0.00   \n",
       "2905  0.00 180.30    13.48       38.40   -13.48      141.90   0.00     517.58   \n",
       "2906  0.00 180.30    13.48       39.05   -13.48      141.25   0.00     526.37   \n",
       "2907  0.00 180.30     8.42       39.37    -8.42      140.93   0.00     331.48   \n",
       "2908  0.00 180.30    11.06       40.74   -11.06      139.56   0.00     450.57   \n",
       "3269 17.00  41.64     0.00      180.30    17.00     -138.66 707.88       0.00   \n",
       "3270 17.00  42.22     0.00      180.30    17.00     -138.08 717.74       0.00   \n",
       "3271 17.00  42.81     0.00      180.30    17.00     -137.49 727.77       0.00   \n",
       "3272 17.00  43.89     0.00      180.30    17.00     -136.41 746.13       0.00   \n",
       "3273 17.00  44.97     0.00      180.30    17.00     -135.33 764.49       0.00   \n",
       "3274 17.00  46.56     0.00      180.30    17.00     -133.74 791.52       0.00   \n",
       "3281  0.00 180.30    12.37       44.31   -12.37      135.99   0.00     548.07   \n",
       "3282  0.00 180.30    11.03       44.99   -11.03      135.31   0.00     496.21   \n",
       "3283  0.00 180.30    10.64       47.00   -10.64      133.30   0.00     500.12   \n",
       "3284  0.00 180.30    10.51       48.20   -10.51      132.10   0.00     506.57   \n",
       "3285  0.00 180.30    10.51       48.73   -10.51      131.57   0.00     512.18   \n",
       "3286  0.00 180.30    10.51       49.53   -10.51      130.77   0.00     520.51   \n",
       "\n",
       "      Area_diff  Area_diff_rel(%)  Period  \n",
       "1032      90.40            100.00       3  \n",
       "1044     -56.50              -inf       3  \n",
       "2893     654.67            100.00       8  \n",
       "2894     664.53            100.00       8  \n",
       "2895     674.39            100.00       8  \n",
       "2896     161.04            100.00       8  \n",
       "2905    -517.58              -inf       8  \n",
       "2906    -526.37              -inf       8  \n",
       "2907    -331.48              -inf       8  \n",
       "2908    -450.57              -inf       8  \n",
       "3269     707.88            100.00       9  \n",
       "3270     717.74            100.00       9  \n",
       "3271     727.77            100.00       9  \n",
       "3272     746.13            100.00       9  \n",
       "3273     764.49            100.00       9  \n",
       "3274     791.52            100.00       9  \n",
       "3281    -548.07              -inf       9  \n",
       "3282    -496.21              -inf       9  \n",
       "3283    -500.12              -inf       9  \n",
       "3284    -506.57              -inf       9  \n",
       "3285    -512.18              -inf       9  \n",
       "3286    -520.51              -inf       9  "
      ]
     },
     "execution_count": 187,
     "metadata": {},
     "output_type": "execute_result"
    }
   ],
   "source": [
    "df_TEST_pred_rf_summary[(df_TEST_pred_rf_summary['Price_diff'] < -7) |\n",
    "                      (df_TEST_pred_rf_summary['Price_diff'] > 5)]"
   ]
  },
  {
   "cell_type": "code",
   "execution_count": 188,
   "metadata": {},
   "outputs": [
    {
     "data": {
      "text/html": [
       "<div>\n",
       "<style scoped>\n",
       "    .dataframe tbody tr th:only-of-type {\n",
       "        vertical-align: middle;\n",
       "    }\n",
       "\n",
       "    .dataframe tbody tr th {\n",
       "        vertical-align: top;\n",
       "    }\n",
       "\n",
       "    .dataframe thead th {\n",
       "        text-align: right;\n",
       "    }\n",
       "</style>\n",
       "<table border=\"1\" class=\"dataframe\">\n",
       "  <thead>\n",
       "    <tr style=\"text-align: right;\">\n",
       "      <th></th>\n",
       "      <th>dE</th>\n",
       "      <th>Price</th>\n",
       "      <th>dE_pred</th>\n",
       "      <th>Price_pred</th>\n",
       "      <th>dE_diff</th>\n",
       "      <th>Price_diff</th>\n",
       "      <th>Area</th>\n",
       "      <th>Area_pred</th>\n",
       "      <th>Area_diff</th>\n",
       "      <th>Area_diff_rel(%)</th>\n",
       "      <th>Period</th>\n",
       "    </tr>\n",
       "  </thead>\n",
       "  <tbody>\n",
       "    <tr>\n",
       "      <th>1044</th>\n",
       "      <td>0.00</td>\n",
       "      <td>180.30</td>\n",
       "      <td>50.00</td>\n",
       "      <td>1.13</td>\n",
       "      <td>-50.00</td>\n",
       "      <td>179.17</td>\n",
       "      <td>0.00</td>\n",
       "      <td>56.50</td>\n",
       "      <td>-56.50</td>\n",
       "      <td>-inf</td>\n",
       "      <td>3</td>\n",
       "    </tr>\n",
       "    <tr>\n",
       "      <th>2905</th>\n",
       "      <td>0.00</td>\n",
       "      <td>180.30</td>\n",
       "      <td>13.48</td>\n",
       "      <td>38.40</td>\n",
       "      <td>-13.48</td>\n",
       "      <td>141.90</td>\n",
       "      <td>0.00</td>\n",
       "      <td>517.58</td>\n",
       "      <td>-517.58</td>\n",
       "      <td>-inf</td>\n",
       "      <td>8</td>\n",
       "    </tr>\n",
       "    <tr>\n",
       "      <th>2906</th>\n",
       "      <td>0.00</td>\n",
       "      <td>180.30</td>\n",
       "      <td>13.48</td>\n",
       "      <td>39.05</td>\n",
       "      <td>-13.48</td>\n",
       "      <td>141.25</td>\n",
       "      <td>0.00</td>\n",
       "      <td>526.37</td>\n",
       "      <td>-526.37</td>\n",
       "      <td>-inf</td>\n",
       "      <td>8</td>\n",
       "    </tr>\n",
       "    <tr>\n",
       "      <th>2907</th>\n",
       "      <td>0.00</td>\n",
       "      <td>180.30</td>\n",
       "      <td>8.42</td>\n",
       "      <td>39.37</td>\n",
       "      <td>-8.42</td>\n",
       "      <td>140.93</td>\n",
       "      <td>0.00</td>\n",
       "      <td>331.48</td>\n",
       "      <td>-331.48</td>\n",
       "      <td>-inf</td>\n",
       "      <td>8</td>\n",
       "    </tr>\n",
       "    <tr>\n",
       "      <th>2908</th>\n",
       "      <td>0.00</td>\n",
       "      <td>180.30</td>\n",
       "      <td>11.06</td>\n",
       "      <td>40.74</td>\n",
       "      <td>-11.06</td>\n",
       "      <td>139.56</td>\n",
       "      <td>0.00</td>\n",
       "      <td>450.57</td>\n",
       "      <td>-450.57</td>\n",
       "      <td>-inf</td>\n",
       "      <td>8</td>\n",
       "    </tr>\n",
       "    <tr>\n",
       "      <th>3281</th>\n",
       "      <td>0.00</td>\n",
       "      <td>180.30</td>\n",
       "      <td>12.37</td>\n",
       "      <td>44.31</td>\n",
       "      <td>-12.37</td>\n",
       "      <td>135.99</td>\n",
       "      <td>0.00</td>\n",
       "      <td>548.07</td>\n",
       "      <td>-548.07</td>\n",
       "      <td>-inf</td>\n",
       "      <td>9</td>\n",
       "    </tr>\n",
       "    <tr>\n",
       "      <th>3282</th>\n",
       "      <td>0.00</td>\n",
       "      <td>180.30</td>\n",
       "      <td>11.03</td>\n",
       "      <td>44.99</td>\n",
       "      <td>-11.03</td>\n",
       "      <td>135.31</td>\n",
       "      <td>0.00</td>\n",
       "      <td>496.21</td>\n",
       "      <td>-496.21</td>\n",
       "      <td>-inf</td>\n",
       "      <td>9</td>\n",
       "    </tr>\n",
       "    <tr>\n",
       "      <th>3283</th>\n",
       "      <td>0.00</td>\n",
       "      <td>180.30</td>\n",
       "      <td>10.64</td>\n",
       "      <td>47.00</td>\n",
       "      <td>-10.64</td>\n",
       "      <td>133.30</td>\n",
       "      <td>0.00</td>\n",
       "      <td>500.12</td>\n",
       "      <td>-500.12</td>\n",
       "      <td>-inf</td>\n",
       "      <td>9</td>\n",
       "    </tr>\n",
       "    <tr>\n",
       "      <th>3284</th>\n",
       "      <td>0.00</td>\n",
       "      <td>180.30</td>\n",
       "      <td>10.51</td>\n",
       "      <td>48.20</td>\n",
       "      <td>-10.51</td>\n",
       "      <td>132.10</td>\n",
       "      <td>0.00</td>\n",
       "      <td>506.57</td>\n",
       "      <td>-506.57</td>\n",
       "      <td>-inf</td>\n",
       "      <td>9</td>\n",
       "    </tr>\n",
       "    <tr>\n",
       "      <th>3285</th>\n",
       "      <td>0.00</td>\n",
       "      <td>180.30</td>\n",
       "      <td>10.51</td>\n",
       "      <td>48.73</td>\n",
       "      <td>-10.51</td>\n",
       "      <td>131.57</td>\n",
       "      <td>0.00</td>\n",
       "      <td>512.18</td>\n",
       "      <td>-512.18</td>\n",
       "      <td>-inf</td>\n",
       "      <td>9</td>\n",
       "    </tr>\n",
       "    <tr>\n",
       "      <th>3286</th>\n",
       "      <td>0.00</td>\n",
       "      <td>180.30</td>\n",
       "      <td>10.51</td>\n",
       "      <td>49.53</td>\n",
       "      <td>-10.51</td>\n",
       "      <td>130.77</td>\n",
       "      <td>0.00</td>\n",
       "      <td>520.51</td>\n",
       "      <td>-520.51</td>\n",
       "      <td>-inf</td>\n",
       "      <td>9</td>\n",
       "    </tr>\n",
       "  </tbody>\n",
       "</table>\n",
       "</div>"
      ],
      "text/plain": [
       "       dE  Price  dE_pred  Price_pred  dE_diff  Price_diff  Area  Area_pred  \\\n",
       "1044 0.00 180.30    50.00        1.13   -50.00      179.17  0.00      56.50   \n",
       "2905 0.00 180.30    13.48       38.40   -13.48      141.90  0.00     517.58   \n",
       "2906 0.00 180.30    13.48       39.05   -13.48      141.25  0.00     526.37   \n",
       "2907 0.00 180.30     8.42       39.37    -8.42      140.93  0.00     331.48   \n",
       "2908 0.00 180.30    11.06       40.74   -11.06      139.56  0.00     450.57   \n",
       "3281 0.00 180.30    12.37       44.31   -12.37      135.99  0.00     548.07   \n",
       "3282 0.00 180.30    11.03       44.99   -11.03      135.31  0.00     496.21   \n",
       "3283 0.00 180.30    10.64       47.00   -10.64      133.30  0.00     500.12   \n",
       "3284 0.00 180.30    10.51       48.20   -10.51      132.10  0.00     506.57   \n",
       "3285 0.00 180.30    10.51       48.73   -10.51      131.57  0.00     512.18   \n",
       "3286 0.00 180.30    10.51       49.53   -10.51      130.77  0.00     520.51   \n",
       "\n",
       "      Area_diff  Area_diff_rel(%)  Period  \n",
       "1044     -56.50              -inf       3  \n",
       "2905    -517.58              -inf       8  \n",
       "2906    -526.37              -inf       8  \n",
       "2907    -331.48              -inf       8  \n",
       "2908    -450.57              -inf       8  \n",
       "3281    -548.07              -inf       9  \n",
       "3282    -496.21              -inf       9  \n",
       "3283    -500.12              -inf       9  \n",
       "3284    -506.57              -inf       9  \n",
       "3285    -512.18              -inf       9  \n",
       "3286    -520.51              -inf       9  "
      ]
     },
     "execution_count": 188,
     "metadata": {},
     "output_type": "execute_result"
    }
   ],
   "source": [
    "#Looking for maximum price difference\n",
    "#It does not seems very important, since the error comes in a place where unit will not be operating\n",
    "\n",
    "df_TEST_pred_rf_summary [df_TEST_pred_rf_summary['Area_diff_rel(%)']== float('-inf')]"
   ]
  },
  {
   "cell_type": "code",
   "execution_count": 189,
   "metadata": {},
   "outputs": [
    {
     "data": {
      "text/html": [
       "<div>\n",
       "<style scoped>\n",
       "    .dataframe tbody tr th:only-of-type {\n",
       "        vertical-align: middle;\n",
       "    }\n",
       "\n",
       "    .dataframe tbody tr th {\n",
       "        vertical-align: top;\n",
       "    }\n",
       "\n",
       "    .dataframe thead th {\n",
       "        text-align: right;\n",
       "    }\n",
       "</style>\n",
       "<table border=\"1\" class=\"dataframe\">\n",
       "  <thead>\n",
       "    <tr style=\"text-align: right;\">\n",
       "      <th></th>\n",
       "      <th>dE</th>\n",
       "      <th>Price</th>\n",
       "      <th>dE_pred</th>\n",
       "      <th>Price_pred</th>\n",
       "      <th>dE_diff</th>\n",
       "      <th>Price_diff</th>\n",
       "      <th>Area</th>\n",
       "      <th>Area_pred</th>\n",
       "      <th>Area_diff</th>\n",
       "      <th>Area_diff_rel(%)</th>\n",
       "      <th>Period</th>\n",
       "    </tr>\n",
       "  </thead>\n",
       "  <tbody>\n",
       "    <tr>\n",
       "      <th>3733</th>\n",
       "      <td>17.00</td>\n",
       "      <td>35.18</td>\n",
       "      <td>17.00</td>\n",
       "      <td>40.52</td>\n",
       "      <td>0.00</td>\n",
       "      <td>-5.34</td>\n",
       "      <td>598.06</td>\n",
       "      <td>688.84</td>\n",
       "      <td>-90.78</td>\n",
       "      <td>-15.18</td>\n",
       "      <td>11</td>\n",
       "    </tr>\n",
       "    <tr>\n",
       "      <th>3741</th>\n",
       "      <td>17.00</td>\n",
       "      <td>41.23</td>\n",
       "      <td>17.00</td>\n",
       "      <td>39.75</td>\n",
       "      <td>0.00</td>\n",
       "      <td>1.48</td>\n",
       "      <td>700.91</td>\n",
       "      <td>675.71</td>\n",
       "      <td>25.20</td>\n",
       "      <td>3.60</td>\n",
       "      <td>11</td>\n",
       "    </tr>\n",
       "    <tr>\n",
       "      <th>3745</th>\n",
       "      <td>17.00</td>\n",
       "      <td>35.18</td>\n",
       "      <td>17.00</td>\n",
       "      <td>40.48</td>\n",
       "      <td>0.00</td>\n",
       "      <td>-5.30</td>\n",
       "      <td>598.06</td>\n",
       "      <td>688.14</td>\n",
       "      <td>-90.08</td>\n",
       "      <td>-15.06</td>\n",
       "      <td>11</td>\n",
       "    </tr>\n",
       "    <tr>\n",
       "      <th>3757</th>\n",
       "      <td>17.00</td>\n",
       "      <td>35.18</td>\n",
       "      <td>17.00</td>\n",
       "      <td>40.48</td>\n",
       "      <td>0.00</td>\n",
       "      <td>-5.30</td>\n",
       "      <td>598.06</td>\n",
       "      <td>688.14</td>\n",
       "      <td>-90.08</td>\n",
       "      <td>-15.06</td>\n",
       "      <td>11</td>\n",
       "    </tr>\n",
       "    <tr>\n",
       "      <th>3769</th>\n",
       "      <td>17.00</td>\n",
       "      <td>35.18</td>\n",
       "      <td>17.00</td>\n",
       "      <td>40.48</td>\n",
       "      <td>0.00</td>\n",
       "      <td>-5.30</td>\n",
       "      <td>598.06</td>\n",
       "      <td>688.14</td>\n",
       "      <td>-90.08</td>\n",
       "      <td>-15.06</td>\n",
       "      <td>11</td>\n",
       "    </tr>\n",
       "    <tr>\n",
       "      <th>3781</th>\n",
       "      <td>17.00</td>\n",
       "      <td>35.18</td>\n",
       "      <td>17.00</td>\n",
       "      <td>40.51</td>\n",
       "      <td>0.00</td>\n",
       "      <td>-5.33</td>\n",
       "      <td>598.06</td>\n",
       "      <td>688.66</td>\n",
       "      <td>-90.60</td>\n",
       "      <td>-15.15</td>\n",
       "      <td>11</td>\n",
       "    </tr>\n",
       "    <tr>\n",
       "      <th>3793</th>\n",
       "      <td>17.00</td>\n",
       "      <td>35.18</td>\n",
       "      <td>17.00</td>\n",
       "      <td>40.47</td>\n",
       "      <td>0.00</td>\n",
       "      <td>-5.29</td>\n",
       "      <td>598.06</td>\n",
       "      <td>688.00</td>\n",
       "      <td>-89.94</td>\n",
       "      <td>-15.04</td>\n",
       "      <td>11</td>\n",
       "    </tr>\n",
       "    <tr>\n",
       "      <th>3801</th>\n",
       "      <td>17.00</td>\n",
       "      <td>41.23</td>\n",
       "      <td>17.00</td>\n",
       "      <td>40.00</td>\n",
       "      <td>0.00</td>\n",
       "      <td>1.23</td>\n",
       "      <td>700.91</td>\n",
       "      <td>680.01</td>\n",
       "      <td>20.90</td>\n",
       "      <td>2.98</td>\n",
       "      <td>11</td>\n",
       "    </tr>\n",
       "    <tr>\n",
       "      <th>3805</th>\n",
       "      <td>17.00</td>\n",
       "      <td>35.18</td>\n",
       "      <td>17.00</td>\n",
       "      <td>40.48</td>\n",
       "      <td>0.00</td>\n",
       "      <td>-5.30</td>\n",
       "      <td>598.06</td>\n",
       "      <td>688.23</td>\n",
       "      <td>-90.17</td>\n",
       "      <td>-15.08</td>\n",
       "      <td>11</td>\n",
       "    </tr>\n",
       "    <tr>\n",
       "      <th>3817</th>\n",
       "      <td>17.00</td>\n",
       "      <td>35.18</td>\n",
       "      <td>17.00</td>\n",
       "      <td>40.60</td>\n",
       "      <td>0.00</td>\n",
       "      <td>-5.42</td>\n",
       "      <td>598.06</td>\n",
       "      <td>690.22</td>\n",
       "      <td>-92.16</td>\n",
       "      <td>-15.41</td>\n",
       "      <td>11</td>\n",
       "    </tr>\n",
       "    <tr>\n",
       "      <th>3829</th>\n",
       "      <td>17.00</td>\n",
       "      <td>35.18</td>\n",
       "      <td>17.00</td>\n",
       "      <td>40.48</td>\n",
       "      <td>0.00</td>\n",
       "      <td>-5.30</td>\n",
       "      <td>598.06</td>\n",
       "      <td>688.21</td>\n",
       "      <td>-90.15</td>\n",
       "      <td>-15.07</td>\n",
       "      <td>11</td>\n",
       "    </tr>\n",
       "    <tr>\n",
       "      <th>3838</th>\n",
       "      <td>17.00</td>\n",
       "      <td>42.76</td>\n",
       "      <td>17.00</td>\n",
       "      <td>41.61</td>\n",
       "      <td>0.00</td>\n",
       "      <td>1.15</td>\n",
       "      <td>726.92</td>\n",
       "      <td>707.42</td>\n",
       "      <td>19.50</td>\n",
       "      <td>2.68</td>\n",
       "      <td>11</td>\n",
       "    </tr>\n",
       "    <tr>\n",
       "      <th>3841</th>\n",
       "      <td>17.00</td>\n",
       "      <td>35.18</td>\n",
       "      <td>17.00</td>\n",
       "      <td>40.48</td>\n",
       "      <td>0.00</td>\n",
       "      <td>-5.30</td>\n",
       "      <td>598.06</td>\n",
       "      <td>688.22</td>\n",
       "      <td>-90.16</td>\n",
       "      <td>-15.08</td>\n",
       "      <td>11</td>\n",
       "    </tr>\n",
       "    <tr>\n",
       "      <th>3853</th>\n",
       "      <td>17.00</td>\n",
       "      <td>35.18</td>\n",
       "      <td>17.00</td>\n",
       "      <td>40.48</td>\n",
       "      <td>0.00</td>\n",
       "      <td>-5.30</td>\n",
       "      <td>598.06</td>\n",
       "      <td>688.22</td>\n",
       "      <td>-90.16</td>\n",
       "      <td>-15.08</td>\n",
       "      <td>11</td>\n",
       "    </tr>\n",
       "    <tr>\n",
       "      <th>3865</th>\n",
       "      <td>17.00</td>\n",
       "      <td>35.18</td>\n",
       "      <td>17.00</td>\n",
       "      <td>40.51</td>\n",
       "      <td>0.00</td>\n",
       "      <td>-5.33</td>\n",
       "      <td>598.06</td>\n",
       "      <td>688.60</td>\n",
       "      <td>-90.54</td>\n",
       "      <td>-15.14</td>\n",
       "      <td>11</td>\n",
       "    </tr>\n",
       "    <tr>\n",
       "      <th>3877</th>\n",
       "      <td>17.00</td>\n",
       "      <td>35.18</td>\n",
       "      <td>17.00</td>\n",
       "      <td>40.48</td>\n",
       "      <td>0.00</td>\n",
       "      <td>-5.30</td>\n",
       "      <td>598.06</td>\n",
       "      <td>688.20</td>\n",
       "      <td>-90.14</td>\n",
       "      <td>-15.07</td>\n",
       "      <td>11</td>\n",
       "    </tr>\n",
       "    <tr>\n",
       "      <th>3889</th>\n",
       "      <td>17.00</td>\n",
       "      <td>35.18</td>\n",
       "      <td>17.00</td>\n",
       "      <td>40.48</td>\n",
       "      <td>0.00</td>\n",
       "      <td>-5.30</td>\n",
       "      <td>598.06</td>\n",
       "      <td>688.23</td>\n",
       "      <td>-90.17</td>\n",
       "      <td>-15.08</td>\n",
       "      <td>11</td>\n",
       "    </tr>\n",
       "    <tr>\n",
       "      <th>3901</th>\n",
       "      <td>17.00</td>\n",
       "      <td>34.71</td>\n",
       "      <td>17.00</td>\n",
       "      <td>40.60</td>\n",
       "      <td>0.00</td>\n",
       "      <td>-5.89</td>\n",
       "      <td>590.07</td>\n",
       "      <td>690.22</td>\n",
       "      <td>-100.15</td>\n",
       "      <td>-16.97</td>\n",
       "      <td>11</td>\n",
       "    </tr>\n",
       "    <tr>\n",
       "      <th>3921</th>\n",
       "      <td>17.00</td>\n",
       "      <td>41.67</td>\n",
       "      <td>17.00</td>\n",
       "      <td>40.61</td>\n",
       "      <td>0.00</td>\n",
       "      <td>1.06</td>\n",
       "      <td>708.39</td>\n",
       "      <td>690.30</td>\n",
       "      <td>18.09</td>\n",
       "      <td>2.55</td>\n",
       "      <td>11</td>\n",
       "    </tr>\n",
       "    <tr>\n",
       "      <th>3922</th>\n",
       "      <td>17.00</td>\n",
       "      <td>43.21</td>\n",
       "      <td>17.00</td>\n",
       "      <td>42.12</td>\n",
       "      <td>0.00</td>\n",
       "      <td>1.09</td>\n",
       "      <td>734.57</td>\n",
       "      <td>716.10</td>\n",
       "      <td>18.47</td>\n",
       "      <td>2.51</td>\n",
       "      <td>11</td>\n",
       "    </tr>\n",
       "    <tr>\n",
       "      <th>3926</th>\n",
       "      <td>17.00</td>\n",
       "      <td>36.10</td>\n",
       "      <td>17.00</td>\n",
       "      <td>41.12</td>\n",
       "      <td>0.00</td>\n",
       "      <td>-5.02</td>\n",
       "      <td>613.70</td>\n",
       "      <td>699.02</td>\n",
       "      <td>-85.32</td>\n",
       "      <td>-13.90</td>\n",
       "      <td>11</td>\n",
       "    </tr>\n",
       "    <tr>\n",
       "      <th>3938</th>\n",
       "      <td>17.00</td>\n",
       "      <td>36.10</td>\n",
       "      <td>17.00</td>\n",
       "      <td>41.12</td>\n",
       "      <td>0.00</td>\n",
       "      <td>-5.02</td>\n",
       "      <td>613.70</td>\n",
       "      <td>699.07</td>\n",
       "      <td>-85.37</td>\n",
       "      <td>-13.91</td>\n",
       "      <td>11</td>\n",
       "    </tr>\n",
       "    <tr>\n",
       "      <th>3950</th>\n",
       "      <td>17.00</td>\n",
       "      <td>36.10</td>\n",
       "      <td>17.00</td>\n",
       "      <td>41.13</td>\n",
       "      <td>0.00</td>\n",
       "      <td>-5.03</td>\n",
       "      <td>613.70</td>\n",
       "      <td>699.27</td>\n",
       "      <td>-85.57</td>\n",
       "      <td>-13.94</td>\n",
       "      <td>11</td>\n",
       "    </tr>\n",
       "    <tr>\n",
       "      <th>3962</th>\n",
       "      <td>17.00</td>\n",
       "      <td>36.10</td>\n",
       "      <td>17.00</td>\n",
       "      <td>41.14</td>\n",
       "      <td>0.00</td>\n",
       "      <td>-5.04</td>\n",
       "      <td>613.70</td>\n",
       "      <td>699.36</td>\n",
       "      <td>-85.66</td>\n",
       "      <td>-13.96</td>\n",
       "      <td>11</td>\n",
       "    </tr>\n",
       "    <tr>\n",
       "      <th>3974</th>\n",
       "      <td>17.00</td>\n",
       "      <td>36.10</td>\n",
       "      <td>17.00</td>\n",
       "      <td>41.21</td>\n",
       "      <td>0.00</td>\n",
       "      <td>-5.11</td>\n",
       "      <td>613.70</td>\n",
       "      <td>700.61</td>\n",
       "      <td>-86.91</td>\n",
       "      <td>-14.16</td>\n",
       "      <td>11</td>\n",
       "    </tr>\n",
       "    <tr>\n",
       "      <th>3986</th>\n",
       "      <td>17.00</td>\n",
       "      <td>35.63</td>\n",
       "      <td>17.00</td>\n",
       "      <td>41.10</td>\n",
       "      <td>0.00</td>\n",
       "      <td>-5.47</td>\n",
       "      <td>605.71</td>\n",
       "      <td>698.62</td>\n",
       "      <td>-92.91</td>\n",
       "      <td>-15.34</td>\n",
       "      <td>11</td>\n",
       "    </tr>\n",
       "    <tr>\n",
       "      <th>3994</th>\n",
       "      <td>17.00</td>\n",
       "      <td>42.68</td>\n",
       "      <td>17.00</td>\n",
       "      <td>40.10</td>\n",
       "      <td>0.00</td>\n",
       "      <td>2.58</td>\n",
       "      <td>725.56</td>\n",
       "      <td>681.78</td>\n",
       "      <td>43.78</td>\n",
       "      <td>6.03</td>\n",
       "      <td>11</td>\n",
       "    </tr>\n",
       "    <tr>\n",
       "      <th>3997</th>\n",
       "      <td>17.00</td>\n",
       "      <td>38.51</td>\n",
       "      <td>17.00</td>\n",
       "      <td>35.07</td>\n",
       "      <td>0.00</td>\n",
       "      <td>3.44</td>\n",
       "      <td>654.67</td>\n",
       "      <td>596.16</td>\n",
       "      <td>58.51</td>\n",
       "      <td>8.94</td>\n",
       "      <td>11</td>\n",
       "    </tr>\n",
       "    <tr>\n",
       "      <th>3998</th>\n",
       "      <td>17.00</td>\n",
       "      <td>39.09</td>\n",
       "      <td>17.00</td>\n",
       "      <td>35.68</td>\n",
       "      <td>0.00</td>\n",
       "      <td>3.41</td>\n",
       "      <td>664.53</td>\n",
       "      <td>606.52</td>\n",
       "      <td>58.01</td>\n",
       "      <td>8.73</td>\n",
       "      <td>11</td>\n",
       "    </tr>\n",
       "    <tr>\n",
       "      <th>3999</th>\n",
       "      <td>17.00</td>\n",
       "      <td>39.67</td>\n",
       "      <td>17.00</td>\n",
       "      <td>36.19</td>\n",
       "      <td>0.00</td>\n",
       "      <td>3.48</td>\n",
       "      <td>674.39</td>\n",
       "      <td>615.31</td>\n",
       "      <td>59.08</td>\n",
       "      <td>8.76</td>\n",
       "      <td>11</td>\n",
       "    </tr>\n",
       "    <tr>\n",
       "      <th>4000</th>\n",
       "      <td>17.00</td>\n",
       "      <td>40.26</td>\n",
       "      <td>17.00</td>\n",
       "      <td>36.39</td>\n",
       "      <td>0.00</td>\n",
       "      <td>3.87</td>\n",
       "      <td>684.42</td>\n",
       "      <td>618.67</td>\n",
       "      <td>65.75</td>\n",
       "      <td>9.61</td>\n",
       "      <td>11</td>\n",
       "    </tr>\n",
       "    <tr>\n",
       "      <th>4001</th>\n",
       "      <td>17.00</td>\n",
       "      <td>41.64</td>\n",
       "      <td>17.00</td>\n",
       "      <td>38.25</td>\n",
       "      <td>0.00</td>\n",
       "      <td>3.39</td>\n",
       "      <td>707.88</td>\n",
       "      <td>650.33</td>\n",
       "      <td>57.55</td>\n",
       "      <td>8.13</td>\n",
       "      <td>11</td>\n",
       "    </tr>\n",
       "    <tr>\n",
       "      <th>4002</th>\n",
       "      <td>17.00</td>\n",
       "      <td>42.22</td>\n",
       "      <td>17.00</td>\n",
       "      <td>38.56</td>\n",
       "      <td>0.00</td>\n",
       "      <td>3.66</td>\n",
       "      <td>717.74</td>\n",
       "      <td>655.56</td>\n",
       "      <td>62.18</td>\n",
       "      <td>8.66</td>\n",
       "      <td>11</td>\n",
       "    </tr>\n",
       "    <tr>\n",
       "      <th>4003</th>\n",
       "      <td>17.00</td>\n",
       "      <td>42.81</td>\n",
       "      <td>17.00</td>\n",
       "      <td>39.11</td>\n",
       "      <td>0.00</td>\n",
       "      <td>3.70</td>\n",
       "      <td>727.77</td>\n",
       "      <td>664.84</td>\n",
       "      <td>62.93</td>\n",
       "      <td>8.65</td>\n",
       "      <td>11</td>\n",
       "    </tr>\n",
       "    <tr>\n",
       "      <th>4004</th>\n",
       "      <td>17.00</td>\n",
       "      <td>43.89</td>\n",
       "      <td>17.00</td>\n",
       "      <td>40.00</td>\n",
       "      <td>0.00</td>\n",
       "      <td>3.89</td>\n",
       "      <td>746.13</td>\n",
       "      <td>680.06</td>\n",
       "      <td>66.07</td>\n",
       "      <td>8.85</td>\n",
       "      <td>11</td>\n",
       "    </tr>\n",
       "    <tr>\n",
       "      <th>4005</th>\n",
       "      <td>17.00</td>\n",
       "      <td>44.97</td>\n",
       "      <td>17.00</td>\n",
       "      <td>41.00</td>\n",
       "      <td>0.00</td>\n",
       "      <td>3.97</td>\n",
       "      <td>764.49</td>\n",
       "      <td>696.99</td>\n",
       "      <td>67.50</td>\n",
       "      <td>8.83</td>\n",
       "      <td>11</td>\n",
       "    </tr>\n",
       "    <tr>\n",
       "      <th>4006</th>\n",
       "      <td>17.00</td>\n",
       "      <td>46.56</td>\n",
       "      <td>17.00</td>\n",
       "      <td>42.17</td>\n",
       "      <td>0.00</td>\n",
       "      <td>4.39</td>\n",
       "      <td>791.52</td>\n",
       "      <td>716.90</td>\n",
       "      <td>74.62</td>\n",
       "      <td>9.43</td>\n",
       "      <td>11</td>\n",
       "    </tr>\n",
       "    <tr>\n",
       "      <th>4012</th>\n",
       "      <td>17.00</td>\n",
       "      <td>40.26</td>\n",
       "      <td>17.00</td>\n",
       "      <td>39.22</td>\n",
       "      <td>0.00</td>\n",
       "      <td>1.04</td>\n",
       "      <td>684.42</td>\n",
       "      <td>666.78</td>\n",
       "      <td>17.64</td>\n",
       "      <td>2.58</td>\n",
       "      <td>11</td>\n",
       "    </tr>\n",
       "    <tr>\n",
       "      <th>4017</th>\n",
       "      <td>17.00</td>\n",
       "      <td>44.97</td>\n",
       "      <td>17.00</td>\n",
       "      <td>43.58</td>\n",
       "      <td>0.00</td>\n",
       "      <td>1.39</td>\n",
       "      <td>764.49</td>\n",
       "      <td>740.82</td>\n",
       "      <td>23.67</td>\n",
       "      <td>3.10</td>\n",
       "      <td>11</td>\n",
       "    </tr>\n",
       "    <tr>\n",
       "      <th>4024</th>\n",
       "      <td>17.00</td>\n",
       "      <td>40.26</td>\n",
       "      <td>17.00</td>\n",
       "      <td>39.23</td>\n",
       "      <td>0.00</td>\n",
       "      <td>1.03</td>\n",
       "      <td>684.42</td>\n",
       "      <td>666.84</td>\n",
       "      <td>17.58</td>\n",
       "      <td>2.57</td>\n",
       "      <td>11</td>\n",
       "    </tr>\n",
       "    <tr>\n",
       "      <th>4029</th>\n",
       "      <td>17.00</td>\n",
       "      <td>44.97</td>\n",
       "      <td>17.00</td>\n",
       "      <td>43.50</td>\n",
       "      <td>0.00</td>\n",
       "      <td>1.47</td>\n",
       "      <td>764.49</td>\n",
       "      <td>739.56</td>\n",
       "      <td>24.93</td>\n",
       "      <td>3.26</td>\n",
       "      <td>11</td>\n",
       "    </tr>\n",
       "    <tr>\n",
       "      <th>4041</th>\n",
       "      <td>17.00</td>\n",
       "      <td>44.97</td>\n",
       "      <td>17.00</td>\n",
       "      <td>43.58</td>\n",
       "      <td>0.00</td>\n",
       "      <td>1.39</td>\n",
       "      <td>764.49</td>\n",
       "      <td>740.86</td>\n",
       "      <td>23.63</td>\n",
       "      <td>3.09</td>\n",
       "      <td>11</td>\n",
       "    </tr>\n",
       "    <tr>\n",
       "      <th>4048</th>\n",
       "      <td>17.00</td>\n",
       "      <td>40.26</td>\n",
       "      <td>17.00</td>\n",
       "      <td>39.03</td>\n",
       "      <td>0.00</td>\n",
       "      <td>1.23</td>\n",
       "      <td>684.42</td>\n",
       "      <td>663.45</td>\n",
       "      <td>20.97</td>\n",
       "      <td>3.06</td>\n",
       "      <td>11</td>\n",
       "    </tr>\n",
       "    <tr>\n",
       "      <th>4050</th>\n",
       "      <td>17.00</td>\n",
       "      <td>42.22</td>\n",
       "      <td>17.00</td>\n",
       "      <td>44.11</td>\n",
       "      <td>0.00</td>\n",
       "      <td>-1.89</td>\n",
       "      <td>717.74</td>\n",
       "      <td>749.83</td>\n",
       "      <td>-32.09</td>\n",
       "      <td>-4.47</td>\n",
       "      <td>11</td>\n",
       "    </tr>\n",
       "    <tr>\n",
       "      <th>4052</th>\n",
       "      <td>17.00</td>\n",
       "      <td>43.89</td>\n",
       "      <td>17.00</td>\n",
       "      <td>41.66</td>\n",
       "      <td>0.00</td>\n",
       "      <td>2.23</td>\n",
       "      <td>746.13</td>\n",
       "      <td>708.19</td>\n",
       "      <td>37.94</td>\n",
       "      <td>5.09</td>\n",
       "      <td>11</td>\n",
       "    </tr>\n",
       "    <tr>\n",
       "      <th>4053</th>\n",
       "      <td>17.00</td>\n",
       "      <td>44.97</td>\n",
       "      <td>17.00</td>\n",
       "      <td>42.42</td>\n",
       "      <td>0.00</td>\n",
       "      <td>2.55</td>\n",
       "      <td>764.49</td>\n",
       "      <td>721.18</td>\n",
       "      <td>43.31</td>\n",
       "      <td>5.66</td>\n",
       "      <td>11</td>\n",
       "    </tr>\n",
       "    <tr>\n",
       "      <th>4065</th>\n",
       "      <td>17.00</td>\n",
       "      <td>44.97</td>\n",
       "      <td>17.00</td>\n",
       "      <td>43.82</td>\n",
       "      <td>0.00</td>\n",
       "      <td>1.15</td>\n",
       "      <td>764.49</td>\n",
       "      <td>745.00</td>\n",
       "      <td>19.49</td>\n",
       "      <td>2.55</td>\n",
       "      <td>11</td>\n",
       "    </tr>\n",
       "    <tr>\n",
       "      <th>4069</th>\n",
       "      <td>17.00</td>\n",
       "      <td>35.10</td>\n",
       "      <td>17.00</td>\n",
       "      <td>38.54</td>\n",
       "      <td>0.00</td>\n",
       "      <td>-3.44</td>\n",
       "      <td>596.70</td>\n",
       "      <td>655.22</td>\n",
       "      <td>-58.52</td>\n",
       "      <td>-9.81</td>\n",
       "      <td>11</td>\n",
       "    </tr>\n",
       "    <tr>\n",
       "      <th>4070</th>\n",
       "      <td>17.00</td>\n",
       "      <td>35.63</td>\n",
       "      <td>17.00</td>\n",
       "      <td>39.34</td>\n",
       "      <td>0.00</td>\n",
       "      <td>-3.71</td>\n",
       "      <td>605.71</td>\n",
       "      <td>668.70</td>\n",
       "      <td>-62.99</td>\n",
       "      <td>-10.40</td>\n",
       "      <td>11</td>\n",
       "    </tr>\n",
       "    <tr>\n",
       "      <th>4071</th>\n",
       "      <td>17.00</td>\n",
       "      <td>36.17</td>\n",
       "      <td>17.00</td>\n",
       "      <td>39.06</td>\n",
       "      <td>0.00</td>\n",
       "      <td>-2.89</td>\n",
       "      <td>614.89</td>\n",
       "      <td>663.99</td>\n",
       "      <td>-49.10</td>\n",
       "      <td>-7.99</td>\n",
       "      <td>11</td>\n",
       "    </tr>\n",
       "    <tr>\n",
       "      <th>4072</th>\n",
       "      <td>17.00</td>\n",
       "      <td>36.70</td>\n",
       "      <td>17.00</td>\n",
       "      <td>38.55</td>\n",
       "      <td>0.00</td>\n",
       "      <td>-1.85</td>\n",
       "      <td>623.90</td>\n",
       "      <td>655.29</td>\n",
       "      <td>-31.39</td>\n",
       "      <td>-5.03</td>\n",
       "      <td>11</td>\n",
       "    </tr>\n",
       "    <tr>\n",
       "      <th>4073</th>\n",
       "      <td>17.00</td>\n",
       "      <td>38.03</td>\n",
       "      <td>17.00</td>\n",
       "      <td>40.67</td>\n",
       "      <td>0.00</td>\n",
       "      <td>-2.64</td>\n",
       "      <td>646.51</td>\n",
       "      <td>691.32</td>\n",
       "      <td>-44.81</td>\n",
       "      <td>-6.93</td>\n",
       "      <td>11</td>\n",
       "    </tr>\n",
       "    <tr>\n",
       "      <th>4074</th>\n",
       "      <td>17.00</td>\n",
       "      <td>38.56</td>\n",
       "      <td>17.00</td>\n",
       "      <td>41.97</td>\n",
       "      <td>0.00</td>\n",
       "      <td>-3.41</td>\n",
       "      <td>655.52</td>\n",
       "      <td>713.45</td>\n",
       "      <td>-57.93</td>\n",
       "      <td>-8.84</td>\n",
       "      <td>11</td>\n",
       "    </tr>\n",
       "    <tr>\n",
       "      <th>4075</th>\n",
       "      <td>17.00</td>\n",
       "      <td>39.09</td>\n",
       "      <td>17.00</td>\n",
       "      <td>42.72</td>\n",
       "      <td>0.00</td>\n",
       "      <td>-3.63</td>\n",
       "      <td>664.53</td>\n",
       "      <td>726.22</td>\n",
       "      <td>-61.69</td>\n",
       "      <td>-9.28</td>\n",
       "      <td>11</td>\n",
       "    </tr>\n",
       "    <tr>\n",
       "      <th>4076</th>\n",
       "      <td>17.00</td>\n",
       "      <td>40.12</td>\n",
       "      <td>17.00</td>\n",
       "      <td>43.22</td>\n",
       "      <td>0.00</td>\n",
       "      <td>-3.10</td>\n",
       "      <td>682.04</td>\n",
       "      <td>734.66</td>\n",
       "      <td>-52.62</td>\n",
       "      <td>-7.71</td>\n",
       "      <td>11</td>\n",
       "    </tr>\n",
       "    <tr>\n",
       "      <th>4077</th>\n",
       "      <td>17.00</td>\n",
       "      <td>41.15</td>\n",
       "      <td>17.00</td>\n",
       "      <td>42.61</td>\n",
       "      <td>0.00</td>\n",
       "      <td>-1.46</td>\n",
       "      <td>699.55</td>\n",
       "      <td>724.31</td>\n",
       "      <td>-24.76</td>\n",
       "      <td>-3.54</td>\n",
       "      <td>11</td>\n",
       "    </tr>\n",
       "    <tr>\n",
       "      <th>4078</th>\n",
       "      <td>17.00</td>\n",
       "      <td>42.68</td>\n",
       "      <td>17.00</td>\n",
       "      <td>46.60</td>\n",
       "      <td>0.00</td>\n",
       "      <td>-3.92</td>\n",
       "      <td>725.56</td>\n",
       "      <td>792.16</td>\n",
       "      <td>-66.60</td>\n",
       "      <td>-9.18</td>\n",
       "      <td>11</td>\n",
       "    </tr>\n",
       "  </tbody>\n",
       "</table>\n",
       "</div>"
      ],
      "text/plain": [
       "        dE  Price  dE_pred  Price_pred  dE_diff  Price_diff   Area  Area_pred  \\\n",
       "3733 17.00  35.18    17.00       40.52     0.00       -5.34 598.06     688.84   \n",
       "3741 17.00  41.23    17.00       39.75     0.00        1.48 700.91     675.71   \n",
       "3745 17.00  35.18    17.00       40.48     0.00       -5.30 598.06     688.14   \n",
       "3757 17.00  35.18    17.00       40.48     0.00       -5.30 598.06     688.14   \n",
       "3769 17.00  35.18    17.00       40.48     0.00       -5.30 598.06     688.14   \n",
       "3781 17.00  35.18    17.00       40.51     0.00       -5.33 598.06     688.66   \n",
       "3793 17.00  35.18    17.00       40.47     0.00       -5.29 598.06     688.00   \n",
       "3801 17.00  41.23    17.00       40.00     0.00        1.23 700.91     680.01   \n",
       "3805 17.00  35.18    17.00       40.48     0.00       -5.30 598.06     688.23   \n",
       "3817 17.00  35.18    17.00       40.60     0.00       -5.42 598.06     690.22   \n",
       "3829 17.00  35.18    17.00       40.48     0.00       -5.30 598.06     688.21   \n",
       "3838 17.00  42.76    17.00       41.61     0.00        1.15 726.92     707.42   \n",
       "3841 17.00  35.18    17.00       40.48     0.00       -5.30 598.06     688.22   \n",
       "3853 17.00  35.18    17.00       40.48     0.00       -5.30 598.06     688.22   \n",
       "3865 17.00  35.18    17.00       40.51     0.00       -5.33 598.06     688.60   \n",
       "3877 17.00  35.18    17.00       40.48     0.00       -5.30 598.06     688.20   \n",
       "3889 17.00  35.18    17.00       40.48     0.00       -5.30 598.06     688.23   \n",
       "3901 17.00  34.71    17.00       40.60     0.00       -5.89 590.07     690.22   \n",
       "3921 17.00  41.67    17.00       40.61     0.00        1.06 708.39     690.30   \n",
       "3922 17.00  43.21    17.00       42.12     0.00        1.09 734.57     716.10   \n",
       "3926 17.00  36.10    17.00       41.12     0.00       -5.02 613.70     699.02   \n",
       "3938 17.00  36.10    17.00       41.12     0.00       -5.02 613.70     699.07   \n",
       "3950 17.00  36.10    17.00       41.13     0.00       -5.03 613.70     699.27   \n",
       "3962 17.00  36.10    17.00       41.14     0.00       -5.04 613.70     699.36   \n",
       "3974 17.00  36.10    17.00       41.21     0.00       -5.11 613.70     700.61   \n",
       "3986 17.00  35.63    17.00       41.10     0.00       -5.47 605.71     698.62   \n",
       "3994 17.00  42.68    17.00       40.10     0.00        2.58 725.56     681.78   \n",
       "3997 17.00  38.51    17.00       35.07     0.00        3.44 654.67     596.16   \n",
       "3998 17.00  39.09    17.00       35.68     0.00        3.41 664.53     606.52   \n",
       "3999 17.00  39.67    17.00       36.19     0.00        3.48 674.39     615.31   \n",
       "4000 17.00  40.26    17.00       36.39     0.00        3.87 684.42     618.67   \n",
       "4001 17.00  41.64    17.00       38.25     0.00        3.39 707.88     650.33   \n",
       "4002 17.00  42.22    17.00       38.56     0.00        3.66 717.74     655.56   \n",
       "4003 17.00  42.81    17.00       39.11     0.00        3.70 727.77     664.84   \n",
       "4004 17.00  43.89    17.00       40.00     0.00        3.89 746.13     680.06   \n",
       "4005 17.00  44.97    17.00       41.00     0.00        3.97 764.49     696.99   \n",
       "4006 17.00  46.56    17.00       42.17     0.00        4.39 791.52     716.90   \n",
       "4012 17.00  40.26    17.00       39.22     0.00        1.04 684.42     666.78   \n",
       "4017 17.00  44.97    17.00       43.58     0.00        1.39 764.49     740.82   \n",
       "4024 17.00  40.26    17.00       39.23     0.00        1.03 684.42     666.84   \n",
       "4029 17.00  44.97    17.00       43.50     0.00        1.47 764.49     739.56   \n",
       "4041 17.00  44.97    17.00       43.58     0.00        1.39 764.49     740.86   \n",
       "4048 17.00  40.26    17.00       39.03     0.00        1.23 684.42     663.45   \n",
       "4050 17.00  42.22    17.00       44.11     0.00       -1.89 717.74     749.83   \n",
       "4052 17.00  43.89    17.00       41.66     0.00        2.23 746.13     708.19   \n",
       "4053 17.00  44.97    17.00       42.42     0.00        2.55 764.49     721.18   \n",
       "4065 17.00  44.97    17.00       43.82     0.00        1.15 764.49     745.00   \n",
       "4069 17.00  35.10    17.00       38.54     0.00       -3.44 596.70     655.22   \n",
       "4070 17.00  35.63    17.00       39.34     0.00       -3.71 605.71     668.70   \n",
       "4071 17.00  36.17    17.00       39.06     0.00       -2.89 614.89     663.99   \n",
       "4072 17.00  36.70    17.00       38.55     0.00       -1.85 623.90     655.29   \n",
       "4073 17.00  38.03    17.00       40.67     0.00       -2.64 646.51     691.32   \n",
       "4074 17.00  38.56    17.00       41.97     0.00       -3.41 655.52     713.45   \n",
       "4075 17.00  39.09    17.00       42.72     0.00       -3.63 664.53     726.22   \n",
       "4076 17.00  40.12    17.00       43.22     0.00       -3.10 682.04     734.66   \n",
       "4077 17.00  41.15    17.00       42.61     0.00       -1.46 699.55     724.31   \n",
       "4078 17.00  42.68    17.00       46.60     0.00       -3.92 725.56     792.16   \n",
       "\n",
       "      Area_diff  Area_diff_rel(%)  Period  \n",
       "3733     -90.78            -15.18      11  \n",
       "3741      25.20              3.60      11  \n",
       "3745     -90.08            -15.06      11  \n",
       "3757     -90.08            -15.06      11  \n",
       "3769     -90.08            -15.06      11  \n",
       "3781     -90.60            -15.15      11  \n",
       "3793     -89.94            -15.04      11  \n",
       "3801      20.90              2.98      11  \n",
       "3805     -90.17            -15.08      11  \n",
       "3817     -92.16            -15.41      11  \n",
       "3829     -90.15            -15.07      11  \n",
       "3838      19.50              2.68      11  \n",
       "3841     -90.16            -15.08      11  \n",
       "3853     -90.16            -15.08      11  \n",
       "3865     -90.54            -15.14      11  \n",
       "3877     -90.14            -15.07      11  \n",
       "3889     -90.17            -15.08      11  \n",
       "3901    -100.15            -16.97      11  \n",
       "3921      18.09              2.55      11  \n",
       "3922      18.47              2.51      11  \n",
       "3926     -85.32            -13.90      11  \n",
       "3938     -85.37            -13.91      11  \n",
       "3950     -85.57            -13.94      11  \n",
       "3962     -85.66            -13.96      11  \n",
       "3974     -86.91            -14.16      11  \n",
       "3986     -92.91            -15.34      11  \n",
       "3994      43.78              6.03      11  \n",
       "3997      58.51              8.94      11  \n",
       "3998      58.01              8.73      11  \n",
       "3999      59.08              8.76      11  \n",
       "4000      65.75              9.61      11  \n",
       "4001      57.55              8.13      11  \n",
       "4002      62.18              8.66      11  \n",
       "4003      62.93              8.65      11  \n",
       "4004      66.07              8.85      11  \n",
       "4005      67.50              8.83      11  \n",
       "4006      74.62              9.43      11  \n",
       "4012      17.64              2.58      11  \n",
       "4017      23.67              3.10      11  \n",
       "4024      17.58              2.57      11  \n",
       "4029      24.93              3.26      11  \n",
       "4041      23.63              3.09      11  \n",
       "4048      20.97              3.06      11  \n",
       "4050     -32.09             -4.47      11  \n",
       "4052      37.94              5.09      11  \n",
       "4053      43.31              5.66      11  \n",
       "4065      19.49              2.55      11  \n",
       "4069     -58.52             -9.81      11  \n",
       "4070     -62.99            -10.40      11  \n",
       "4071     -49.10             -7.99      11  \n",
       "4072     -31.39             -5.03      11  \n",
       "4073     -44.81             -6.93      11  \n",
       "4074     -57.93             -8.84      11  \n",
       "4075     -61.69             -9.28      11  \n",
       "4076     -52.62             -7.71      11  \n",
       "4077     -24.76             -3.54      11  \n",
       "4078     -66.60             -9.18      11  "
      ]
     },
     "execution_count": 189,
     "metadata": {},
     "output_type": "execute_result"
    }
   ],
   "source": [
    "#Looking for minimmum price difference\n",
    "\n",
    "df_TEST_pred_rf_summary[(df_TEST_pred_rf_summary['Period'] == 11) &\n",
    "                      (abs(df_TEST_pred_rf_summary['Price_diff']) >= 1)]"
   ]
  },
  {
   "cell_type": "code",
   "execution_count": null,
   "metadata": {},
   "outputs": [],
   "source": []
  },
  {
   "cell_type": "code",
   "execution_count": null,
   "metadata": {},
   "outputs": [],
   "source": []
  },
  {
   "cell_type": "markdown",
   "metadata": {},
   "source": [
    "#### CURVE AREA METRIC WHEN MAXIMUM PRICE IS NOT CONSIDERED --> NO SÉ SI ES MEJOR BORRAR ESTO\n",
    "\n",
    "When Price is the maximum (180.3€) the unit is not going to be operated, son these areas should not be cosidered to evaluate the quality of the model."
   ]
  },
  {
   "cell_type": "code",
   "execution_count": 190,
   "metadata": {},
   "outputs": [],
   "source": [
    "#NO TENGO CLARO QUE ESTA MÉTRICA TENGA MUCHO SENTIDO"
   ]
  },
  {
   "cell_type": "code",
   "execution_count": 191,
   "metadata": {},
   "outputs": [],
   "source": [
    "def df_pred_summary_noPmax(df):\n",
    "    \n",
    "    df_noPmax = df[df['Price'] != df['Price'].max()]\n",
    "    \n",
    "    return df_noPmax"
   ]
  },
  {
   "cell_type": "code",
   "execution_count": 192,
   "metadata": {},
   "outputs": [],
   "source": [
    "#Looking for maximum price\n",
    "\n",
    "df_TEST_pred_rf_summary_Pmax = df_TEST_pred_rf_summary[df_TEST_pred_rf_summary['Price'] == df_TEST_pred_rf_summary['Price'].max()]"
   ]
  },
  {
   "cell_type": "code",
   "execution_count": 193,
   "metadata": {},
   "outputs": [
    {
     "data": {
      "text/html": [
       "<div>\n",
       "<style scoped>\n",
       "    .dataframe tbody tr th:only-of-type {\n",
       "        vertical-align: middle;\n",
       "    }\n",
       "\n",
       "    .dataframe tbody tr th {\n",
       "        vertical-align: top;\n",
       "    }\n",
       "\n",
       "    .dataframe thead th {\n",
       "        text-align: right;\n",
       "    }\n",
       "</style>\n",
       "<table border=\"1\" class=\"dataframe\">\n",
       "  <thead>\n",
       "    <tr style=\"text-align: right;\">\n",
       "      <th></th>\n",
       "      <th>dE</th>\n",
       "      <th>Price</th>\n",
       "      <th>dE_pred</th>\n",
       "      <th>Price_pred</th>\n",
       "      <th>dE_diff</th>\n",
       "      <th>Price_diff</th>\n",
       "      <th>Area</th>\n",
       "      <th>Area_pred</th>\n",
       "      <th>Area_diff</th>\n",
       "      <th>Area_diff_rel(%)</th>\n",
       "      <th>Period</th>\n",
       "    </tr>\n",
       "  </thead>\n",
       "  <tbody>\n",
       "    <tr>\n",
       "      <th>1055</th>\n",
       "      <td>397.80</td>\n",
       "      <td>180.30</td>\n",
       "      <td>347.80</td>\n",
       "      <td>180.30</td>\n",
       "      <td>50.00</td>\n",
       "      <td>0.00</td>\n",
       "      <td>71,723.34</td>\n",
       "      <td>62,708.34</td>\n",
       "      <td>9,015.00</td>\n",
       "      <td>12.57</td>\n",
       "      <td>3</td>\n",
       "    </tr>\n",
       "    <tr>\n",
       "      <th>2915</th>\n",
       "      <td>272.80</td>\n",
       "      <td>180.30</td>\n",
       "      <td>167.80</td>\n",
       "      <td>180.30</td>\n",
       "      <td>105.00</td>\n",
       "      <td>0.00</td>\n",
       "      <td>49,185.84</td>\n",
       "      <td>30,254.34</td>\n",
       "      <td>18,931.50</td>\n",
       "      <td>38.49</td>\n",
       "      <td>8</td>\n",
       "    </tr>\n",
       "    <tr>\n",
       "      <th>3287</th>\n",
       "      <td>152.80</td>\n",
       "      <td>180.30</td>\n",
       "      <td>37.80</td>\n",
       "      <td>180.30</td>\n",
       "      <td>115.00</td>\n",
       "      <td>0.00</td>\n",
       "      <td>27,549.84</td>\n",
       "      <td>6,815.34</td>\n",
       "      <td>20,734.50</td>\n",
       "      <td>75.26</td>\n",
       "      <td>9</td>\n",
       "    </tr>\n",
       "  </tbody>\n",
       "</table>\n",
       "</div>"
      ],
      "text/plain": [
       "         dE  Price  dE_pred  Price_pred  dE_diff  Price_diff      Area  \\\n",
       "1055 397.80 180.30   347.80      180.30    50.00        0.00 71,723.34   \n",
       "2915 272.80 180.30   167.80      180.30   105.00        0.00 49,185.84   \n",
       "3287 152.80 180.30    37.80      180.30   115.00        0.00 27,549.84   \n",
       "\n",
       "      Area_pred  Area_diff  Area_diff_rel(%)  Period  \n",
       "1055  62,708.34   9,015.00             12.57       3  \n",
       "2915  30,254.34  18,931.50             38.49       8  \n",
       "3287   6,815.34  20,734.50             75.26       9  "
      ]
     },
     "execution_count": 193,
     "metadata": {},
     "output_type": "execute_result"
    }
   ],
   "source": [
    "df_TEST_pred_rf_summary_Pmax[df_TEST_pred_rf_summary_Pmax['dE_diff']>1]"
   ]
  },
  {
   "cell_type": "code",
   "execution_count": 194,
   "metadata": {
    "scrolled": true
   },
   "outputs": [
    {
     "data": {
      "text/html": [
       "<div>\n",
       "<style scoped>\n",
       "    .dataframe tbody tr th:only-of-type {\n",
       "        vertical-align: middle;\n",
       "    }\n",
       "\n",
       "    .dataframe tbody tr th {\n",
       "        vertical-align: top;\n",
       "    }\n",
       "\n",
       "    .dataframe thead th {\n",
       "        text-align: right;\n",
       "    }\n",
       "</style>\n",
       "<table border=\"1\" class=\"dataframe\">\n",
       "  <thead>\n",
       "    <tr style=\"text-align: right;\">\n",
       "      <th></th>\n",
       "      <th>dE</th>\n",
       "      <th>Price</th>\n",
       "      <th>dE_pred</th>\n",
       "      <th>Price_pred</th>\n",
       "      <th>dE_diff</th>\n",
       "      <th>Price_diff</th>\n",
       "      <th>Area</th>\n",
       "      <th>Area_pred</th>\n",
       "      <th>Area_diff</th>\n",
       "      <th>Area_diff_rel(%)</th>\n",
       "      <th>Period</th>\n",
       "    </tr>\n",
       "  </thead>\n",
       "  <tbody>\n",
       "    <tr>\n",
       "      <th>1032</th>\n",
       "      <td>80.00</td>\n",
       "      <td>1.13</td>\n",
       "      <td>0.00</td>\n",
       "      <td>180.30</td>\n",
       "      <td>80.00</td>\n",
       "      <td>-179.17</td>\n",
       "      <td>90.40</td>\n",
       "      <td>0.00</td>\n",
       "      <td>90.40</td>\n",
       "      <td>100.00</td>\n",
       "      <td>3</td>\n",
       "    </tr>\n",
       "    <tr>\n",
       "      <th>1116</th>\n",
       "      <td>80.00</td>\n",
       "      <td>1.13</td>\n",
       "      <td>80.00</td>\n",
       "      <td>1.13</td>\n",
       "      <td>0.00</td>\n",
       "      <td>0.00</td>\n",
       "      <td>90.40</td>\n",
       "      <td>90.40</td>\n",
       "      <td>0.00</td>\n",
       "      <td>0.00</td>\n",
       "      <td>4</td>\n",
       "    </tr>\n",
       "    <tr>\n",
       "      <th>1128</th>\n",
       "      <td>80.00</td>\n",
       "      <td>1.13</td>\n",
       "      <td>80.00</td>\n",
       "      <td>1.13</td>\n",
       "      <td>0.00</td>\n",
       "      <td>0.00</td>\n",
       "      <td>90.40</td>\n",
       "      <td>90.40</td>\n",
       "      <td>0.00</td>\n",
       "      <td>0.00</td>\n",
       "      <td>4</td>\n",
       "    </tr>\n",
       "    <tr>\n",
       "      <th>1140</th>\n",
       "      <td>80.00</td>\n",
       "      <td>1.13</td>\n",
       "      <td>80.00</td>\n",
       "      <td>1.13</td>\n",
       "      <td>0.00</td>\n",
       "      <td>0.00</td>\n",
       "      <td>90.40</td>\n",
       "      <td>90.40</td>\n",
       "      <td>0.00</td>\n",
       "      <td>0.00</td>\n",
       "      <td>4</td>\n",
       "    </tr>\n",
       "    <tr>\n",
       "      <th>1152</th>\n",
       "      <td>80.00</td>\n",
       "      <td>1.13</td>\n",
       "      <td>77.63</td>\n",
       "      <td>6.45</td>\n",
       "      <td>2.37</td>\n",
       "      <td>-5.32</td>\n",
       "      <td>90.40</td>\n",
       "      <td>500.35</td>\n",
       "      <td>-409.95</td>\n",
       "      <td>-453.48</td>\n",
       "      <td>4</td>\n",
       "    </tr>\n",
       "  </tbody>\n",
       "</table>\n",
       "</div>"
      ],
      "text/plain": [
       "        dE  Price  dE_pred  Price_pred  dE_diff  Price_diff  Area  Area_pred  \\\n",
       "1032 80.00   1.13     0.00      180.30    80.00     -179.17 90.40       0.00   \n",
       "1116 80.00   1.13    80.00        1.13     0.00        0.00 90.40      90.40   \n",
       "1128 80.00   1.13    80.00        1.13     0.00        0.00 90.40      90.40   \n",
       "1140 80.00   1.13    80.00        1.13     0.00        0.00 90.40      90.40   \n",
       "1152 80.00   1.13    77.63        6.45     2.37       -5.32 90.40     500.35   \n",
       "\n",
       "      Area_diff  Area_diff_rel(%)  Period  \n",
       "1032      90.40            100.00       3  \n",
       "1116       0.00              0.00       4  \n",
       "1128       0.00              0.00       4  \n",
       "1140       0.00              0.00       4  \n",
       "1152    -409.95           -453.48       4  "
      ]
     },
     "execution_count": 194,
     "metadata": {},
     "output_type": "execute_result"
    }
   ],
   "source": [
    "#df without Pmax Areas\n",
    "\n",
    "df_TEST_pred_rf_summary_noPmax = df_pred_summary_noPmax(df_TEST_pred_rf_summary)\n",
    "df_TEST_pred_rf_summary_noPmax.head()"
   ]
  },
  {
   "cell_type": "code",
   "execution_count": 195,
   "metadata": {
    "scrolled": true
   },
   "outputs": [
    {
     "data": {
      "text/html": [
       "<div>\n",
       "<style scoped>\n",
       "    .dataframe tbody tr th:only-of-type {\n",
       "        vertical-align: middle;\n",
       "    }\n",
       "\n",
       "    .dataframe tbody tr th {\n",
       "        vertical-align: top;\n",
       "    }\n",
       "\n",
       "    .dataframe thead th {\n",
       "        text-align: right;\n",
       "    }\n",
       "</style>\n",
       "<table border=\"1\" class=\"dataframe\">\n",
       "  <thead>\n",
       "    <tr style=\"text-align: right;\">\n",
       "      <th></th>\n",
       "      <th>dE</th>\n",
       "      <th>Price</th>\n",
       "      <th>dE_pred</th>\n",
       "      <th>Price_pred</th>\n",
       "      <th>dE_diff</th>\n",
       "      <th>Price_diff</th>\n",
       "      <th>Area</th>\n",
       "      <th>Area_pred</th>\n",
       "      <th>Area_diff</th>\n",
       "      <th>Area_diff_rel(%)</th>\n",
       "      <th>Period</th>\n",
       "    </tr>\n",
       "  </thead>\n",
       "  <tbody>\n",
       "    <tr>\n",
       "      <th>count</th>\n",
       "      <td>5,436.00</td>\n",
       "      <td>5,436.00</td>\n",
       "      <td>5,436.00</td>\n",
       "      <td>5,436.00</td>\n",
       "      <td>5,436.00</td>\n",
       "      <td>5,436.00</td>\n",
       "      <td>5,436.00</td>\n",
       "      <td>5,436.00</td>\n",
       "      <td>5,436.00</td>\n",
       "      <td>5,436.00</td>\n",
       "      <td>5,436.00</td>\n",
       "    </tr>\n",
       "    <tr>\n",
       "      <th>mean</th>\n",
       "      <td>35.48</td>\n",
       "      <td>34.54</td>\n",
       "      <td>35.42</td>\n",
       "      <td>35.07</td>\n",
       "      <td>0.06</td>\n",
       "      <td>-0.54</td>\n",
       "      <td>605.29</td>\n",
       "      <td>608.55</td>\n",
       "      <td>-3.26</td>\n",
       "      <td>-0.90</td>\n",
       "      <td>16.44</td>\n",
       "    </tr>\n",
       "    <tr>\n",
       "      <th>std</th>\n",
       "      <td>51.64</td>\n",
       "      <td>12.61</td>\n",
       "      <td>51.64</td>\n",
       "      <td>14.23</td>\n",
       "      <td>1.90</td>\n",
       "      <td>6.61</td>\n",
       "      <td>163.36</td>\n",
       "      <td>165.47</td>\n",
       "      <td>43.32</td>\n",
       "      <td>13.64</td>\n",
       "      <td>4.77</td>\n",
       "    </tr>\n",
       "    <tr>\n",
       "      <th>min</th>\n",
       "      <td>4.00</td>\n",
       "      <td>1.13</td>\n",
       "      <td>0.00</td>\n",
       "      <td>1.13</td>\n",
       "      <td>-65.00</td>\n",
       "      <td>-179.17</td>\n",
       "      <td>90.40</td>\n",
       "      <td>0.00</td>\n",
       "      <td>-490.00</td>\n",
       "      <td>-453.48</td>\n",
       "      <td>3.00</td>\n",
       "    </tr>\n",
       "    <tr>\n",
       "      <th>25%</th>\n",
       "      <td>17.00</td>\n",
       "      <td>35.76</td>\n",
       "      <td>17.00</td>\n",
       "      <td>36.33</td>\n",
       "      <td>0.00</td>\n",
       "      <td>-0.16</td>\n",
       "      <td>607.07</td>\n",
       "      <td>617.34</td>\n",
       "      <td>-2.62</td>\n",
       "      <td>-0.40</td>\n",
       "      <td>13.00</td>\n",
       "    </tr>\n",
       "    <tr>\n",
       "      <th>50%</th>\n",
       "      <td>17.00</td>\n",
       "      <td>38.52</td>\n",
       "      <td>17.00</td>\n",
       "      <td>38.80</td>\n",
       "      <td>0.00</td>\n",
       "      <td>0.00</td>\n",
       "      <td>654.84</td>\n",
       "      <td>659.22</td>\n",
       "      <td>0.00</td>\n",
       "      <td>0.00</td>\n",
       "      <td>17.00</td>\n",
       "    </tr>\n",
       "    <tr>\n",
       "      <th>75%</th>\n",
       "      <td>17.00</td>\n",
       "      <td>40.63</td>\n",
       "      <td>17.00</td>\n",
       "      <td>41.06</td>\n",
       "      <td>0.00</td>\n",
       "      <td>0.17</td>\n",
       "      <td>690.71</td>\n",
       "      <td>697.95</td>\n",
       "      <td>2.87</td>\n",
       "      <td>0.44</td>\n",
       "      <td>21.00</td>\n",
       "    </tr>\n",
       "    <tr>\n",
       "      <th>max</th>\n",
       "      <td>190.00</td>\n",
       "      <td>46.56</td>\n",
       "      <td>190.00</td>\n",
       "      <td>180.30</td>\n",
       "      <td>80.00</td>\n",
       "      <td>4.39</td>\n",
       "      <td>791.52</td>\n",
       "      <td>795.08</td>\n",
       "      <td>791.52</td>\n",
       "      <td>100.00</td>\n",
       "      <td>24.00</td>\n",
       "    </tr>\n",
       "  </tbody>\n",
       "</table>\n",
       "</div>"
      ],
      "text/plain": [
       "            dE    Price  dE_pred  Price_pred  dE_diff  Price_diff     Area  \\\n",
       "count 5,436.00 5,436.00 5,436.00    5,436.00 5,436.00    5,436.00 5,436.00   \n",
       "mean     35.48    34.54    35.42       35.07     0.06       -0.54   605.29   \n",
       "std      51.64    12.61    51.64       14.23     1.90        6.61   163.36   \n",
       "min       4.00     1.13     0.00        1.13   -65.00     -179.17    90.40   \n",
       "25%      17.00    35.76    17.00       36.33     0.00       -0.16   607.07   \n",
       "50%      17.00    38.52    17.00       38.80     0.00        0.00   654.84   \n",
       "75%      17.00    40.63    17.00       41.06     0.00        0.17   690.71   \n",
       "max     190.00    46.56   190.00      180.30    80.00        4.39   791.52   \n",
       "\n",
       "       Area_pred  Area_diff  Area_diff_rel(%)   Period  \n",
       "count   5,436.00   5,436.00          5,436.00 5,436.00  \n",
       "mean      608.55      -3.26             -0.90    16.44  \n",
       "std       165.47      43.32             13.64     4.77  \n",
       "min         0.00    -490.00           -453.48     3.00  \n",
       "25%       617.34      -2.62             -0.40    13.00  \n",
       "50%       659.22       0.00              0.00    17.00  \n",
       "75%       697.95       2.87              0.44    21.00  \n",
       "max       795.08     791.52            100.00    24.00  "
      ]
     },
     "execution_count": 195,
     "metadata": {},
     "output_type": "execute_result"
    }
   ],
   "source": [
    "df_TEST_pred_rf_summary_noPmax.describe()"
   ]
  },
  {
   "cell_type": "code",
   "execution_count": null,
   "metadata": {},
   "outputs": [],
   "source": []
  },
  {
   "cell_type": "code",
   "execution_count": 196,
   "metadata": {},
   "outputs": [
    {
     "data": {
      "text/plain": [
       "-3.2596208905390376"
      ]
     },
     "execution_count": 196,
     "metadata": {},
     "output_type": "execute_result"
    }
   ],
   "source": [
    "df_TEST_pred_rf_summary_noPmax['Area_diff'].mean()"
   ]
  },
  {
   "cell_type": "code",
   "execution_count": 197,
   "metadata": {},
   "outputs": [
    {
     "data": {
      "text/plain": [
       "(-3.2596208905390376, -0.5385229307565558)"
      ]
     },
     "execution_count": 197,
     "metadata": {},
     "output_type": "execute_result"
    }
   ],
   "source": [
    "Area_pred_noPmax_mean_error_TEST = df_TEST_pred_rf_summary_noPmax['Area_diff'].mean()\n",
    "Area_pred_noPmax_mean_error_TEST_rel = df_TEST_pred_rf_summary_noPmax['Area_diff'].mean() / df_TEST_pred_rf_summary_noPmax['Area'].mean() * 100\n",
    "Area_pred_noPmax_mean_error_TEST, Area_pred_noPmax_mean_error_TEST_rel"
   ]
  },
  {
   "cell_type": "code",
   "execution_count": null,
   "metadata": {},
   "outputs": [],
   "source": []
  },
  {
   "cell_type": "code",
   "execution_count": 198,
   "metadata": {},
   "outputs": [
    {
     "data": {
      "text/plain": [
       "14.555874608014465"
      ]
     },
     "execution_count": 198,
     "metadata": {},
     "output_type": "execute_result"
    }
   ],
   "source": [
    "#MAE for Area and Area_pred without Pmax\n",
    "\n",
    "mae_area_noPmax_pred_TEST = mean_absolute_error(df_TEST_pred_rf_summary_noPmax['Area'],df_TEST_pred_rf_summary_noPmax['Area_pred'])\n",
    "mae_area_noPmax_pred_TEST"
   ]
  },
  {
   "cell_type": "code",
   "execution_count": 199,
   "metadata": {},
   "outputs": [
    {
     "data": {
      "text/plain": [
       "43.44127144674282"
      ]
     },
     "execution_count": 199,
     "metadata": {},
     "output_type": "execute_result"
    }
   ],
   "source": [
    "#RMSE for Area and Area_pred without Pmax\n",
    "\n",
    "rmse_area_noPmax_pred_TEST = (np.sqrt(mean_squared_error(df_TEST_pred_rf_summary_noPmax['Area'],df_TEST_pred_rf_summary_noPmax['Area_pred'])))\n",
    "rmse_area_noPmax_pred_TEST"
   ]
  },
  {
   "cell_type": "code",
   "execution_count": null,
   "metadata": {},
   "outputs": [],
   "source": []
  },
  {
   "cell_type": "markdown",
   "metadata": {},
   "source": [
    "### RANDOM FOREST AREA METRIC EVALUATION - HYPERPARAMENTERS"
   ]
  },
  {
   "cell_type": "code",
   "execution_count": 200,
   "metadata": {},
   "outputs": [],
   "source": [
    "df_TEST_pred_rf_grid_summary  = df_pred_summary(y_dE_TEST, y_dE_TEST_pred_rf_grid)"
   ]
  },
  {
   "cell_type": "code",
   "execution_count": 201,
   "metadata": {},
   "outputs": [
    {
     "data": {
      "text/plain": [
       "(-2.193337958213716, -0.089505765365735)"
      ]
     },
     "execution_count": 201,
     "metadata": {},
     "output_type": "execute_result"
    }
   ],
   "source": [
    "Area_pred_grid_mean_error_TEST = df_TEST_pred_rf_grid_summary['Area_diff'].mean()\n",
    "Area_pred_grid_mean_error_TEST_rel = df_TEST_pred_rf_grid_summary['Area_diff'].mean() / df_TEST_pred_rf_grid_summary['Area'].mean() * 100\n",
    "Area_pred_grid_mean_error_TEST, Area_pred_grid_mean_error_TEST_rel"
   ]
  },
  {
   "cell_type": "code",
   "execution_count": 202,
   "metadata": {},
   "outputs": [
    {
     "data": {
      "text/plain": [
       "19.33073056279528"
      ]
     },
     "execution_count": 202,
     "metadata": {},
     "output_type": "execute_result"
    }
   ],
   "source": [
    "#MAE for Area and Area_pred\n",
    "\n",
    "mae_area_pred_grid_TEST = mean_absolute_error(df_TEST_pred_rf_grid_summary['Area'],df_TEST_pred_rf_grid_summary['Area_pred'])\n",
    "mae_area_pred_grid_TEST"
   ]
  },
  {
   "cell_type": "code",
   "execution_count": 203,
   "metadata": {},
   "outputs": [
    {
     "data": {
      "text/plain": [
       "478.03373480977876"
      ]
     },
     "execution_count": 203,
     "metadata": {},
     "output_type": "execute_result"
    }
   ],
   "source": [
    "#RMSE for Area and Area_pred\n",
    "\n",
    "rmse_area_pred_grid_TEST = (np.sqrt(mean_squared_error(df_TEST_pred_rf_grid_summary['Area'],df_TEST_pred_rf_grid_summary['Area_pred'])))\n",
    "rmse_area_pred_grid_TEST"
   ]
  },
  {
   "cell_type": "code",
   "execution_count": null,
   "metadata": {},
   "outputs": [],
   "source": []
  },
  {
   "cell_type": "markdown",
   "metadata": {},
   "source": [
    "#### METRICS FOR RANDOM FOREST WITHOUT PRICE MAX PREDICTIONS"
   ]
  },
  {
   "cell_type": "code",
   "execution_count": 204,
   "metadata": {},
   "outputs": [],
   "source": [
    "df_TEST_pred_grid_summary_noPmax = df_pred_summary_noPmax(df_TEST_pred_rf_grid_summary)"
   ]
  },
  {
   "cell_type": "code",
   "execution_count": 205,
   "metadata": {},
   "outputs": [
    {
     "data": {
      "text/plain": [
       "2.255342981659602"
      ]
     },
     "execution_count": 205,
     "metadata": {},
     "output_type": "execute_result"
    }
   ],
   "source": [
    "df_TEST_pred_grid_summary_noPmax['Area_diff'].mean()"
   ]
  },
  {
   "cell_type": "code",
   "execution_count": 206,
   "metadata": {},
   "outputs": [
    {
     "data": {
      "text/plain": [
       "(2.255342981659602, 0.37260588060095207)"
      ]
     },
     "execution_count": 206,
     "metadata": {},
     "output_type": "execute_result"
    }
   ],
   "source": [
    "Area_pred_grid_noPmax_mean_error_TEST = df_TEST_pred_grid_summary_noPmax['Area_diff'].mean()\n",
    "Area_pred_grid_noPmax_mean_error_TEST_rel = df_TEST_pred_grid_summary_noPmax['Area_diff'].mean() / df_TEST_pred_grid_summary_noPmax['Area'].mean() * 100\n",
    "Area_pred_grid_noPmax_mean_error_TEST, Area_pred_grid_noPmax_mean_error_TEST_rel"
   ]
  },
  {
   "cell_type": "code",
   "execution_count": null,
   "metadata": {},
   "outputs": [],
   "source": []
  },
  {
   "cell_type": "code",
   "execution_count": 207,
   "metadata": {},
   "outputs": [
    {
     "data": {
      "text/plain": [
       "8.314670863129827"
      ]
     },
     "execution_count": 207,
     "metadata": {},
     "output_type": "execute_result"
    }
   ],
   "source": [
    "#MAE for Area and Area_pred without Pmax\n",
    "\n",
    "mae_area_noPmax_pred_grid_TEST = mean_absolute_error(df_TEST_pred_grid_summary_noPmax['Area'],df_TEST_pred_grid_summary_noPmax['Area_pred'])\n",
    "mae_area_noPmax_pred_grid_TEST"
   ]
  },
  {
   "cell_type": "code",
   "execution_count": 208,
   "metadata": {},
   "outputs": [
    {
     "data": {
      "text/plain": [
       "35.77091978041184"
      ]
     },
     "execution_count": 208,
     "metadata": {},
     "output_type": "execute_result"
    }
   ],
   "source": [
    "#RMSE for Area and Area_pred without Pmax\n",
    "\n",
    "rmse_area_noPmax_pred_grid_TEST = (np.sqrt(mean_squared_error(df_TEST_pred_grid_summary_noPmax['Area'],df_TEST_pred_grid_summary_noPmax['Area_pred'])))\n",
    "rmse_area_noPmax_pred_grid_TEST"
   ]
  },
  {
   "cell_type": "code",
   "execution_count": null,
   "metadata": {},
   "outputs": [],
   "source": []
  },
  {
   "cell_type": "markdown",
   "metadata": {},
   "source": [
    "### XGBOOST AREA METRIC EVALUATION"
   ]
  },
  {
   "cell_type": "code",
   "execution_count": 209,
   "metadata": {},
   "outputs": [],
   "source": [
    "df_TEST_pred_XGB_summary  = df_pred_summary(y_dE_TEST, y_dE_TEST_pred_XGB)"
   ]
  },
  {
   "cell_type": "code",
   "execution_count": 210,
   "metadata": {},
   "outputs": [
    {
     "data": {
      "text/plain": [
       "-3.6323247609367146"
      ]
     },
     "execution_count": 210,
     "metadata": {},
     "output_type": "execute_result"
    }
   ],
   "source": [
    "df_TEST_pred_XGB_summary['Area_diff'].mean()"
   ]
  },
  {
   "cell_type": "code",
   "execution_count": 211,
   "metadata": {},
   "outputs": [
    {
     "data": {
      "text/plain": [
       "(-3.6323247609367146, -0.14822795847172057)"
      ]
     },
     "execution_count": 211,
     "metadata": {},
     "output_type": "execute_result"
    }
   ],
   "source": [
    "Area_pred_XGB_mean_error_TEST = df_TEST_pred_XGB_summary['Area_diff'].mean()\n",
    "Area_pred_XGB_mean_error_TEST_rel = df_TEST_pred_XGB_summary['Area_diff'].mean() / df_TEST_pred_XGB_summary['Area'].mean() * 100\n",
    "Area_pred_XGB_mean_error_TEST, Area_pred_XGB_mean_error_TEST_rel"
   ]
  },
  {
   "cell_type": "code",
   "execution_count": 212,
   "metadata": {},
   "outputs": [
    {
     "data": {
      "text/plain": [
       "20.879407282782456"
      ]
     },
     "execution_count": 212,
     "metadata": {},
     "output_type": "execute_result"
    }
   ],
   "source": [
    "#MAE for Area and Area_pred\n",
    "\n",
    "mae_area_pred_XGB_TEST = mean_absolute_error(df_TEST_pred_XGB_summary['Area'],df_TEST_pred_XGB_summary['Area_pred'])\n",
    "mae_area_pred_XGB_TEST"
   ]
  },
  {
   "cell_type": "code",
   "execution_count": 213,
   "metadata": {},
   "outputs": [
    {
     "data": {
      "text/plain": [
       "481.0863746485794"
      ]
     },
     "execution_count": 213,
     "metadata": {},
     "output_type": "execute_result"
    }
   ],
   "source": [
    "#RMSE for Area and Area_pred\n",
    "\n",
    "rmse_area_pred_XGB_TEST = (np.sqrt(mean_squared_error(df_TEST_pred_XGB_summary['Area'],df_TEST_pred_XGB_summary['Area_pred'])))\n",
    "rmse_area_pred_XGB_TEST"
   ]
  },
  {
   "cell_type": "code",
   "execution_count": null,
   "metadata": {},
   "outputs": [],
   "source": []
  },
  {
   "cell_type": "markdown",
   "metadata": {},
   "source": [
    "#### METRICS FOR XGBOOST WITHOUT PRICE MAX PREDICTIONS"
   ]
  },
  {
   "cell_type": "code",
   "execution_count": 214,
   "metadata": {},
   "outputs": [
    {
     "data": {
      "text/html": [
       "<div>\n",
       "<style scoped>\n",
       "    .dataframe tbody tr th:only-of-type {\n",
       "        vertical-align: middle;\n",
       "    }\n",
       "\n",
       "    .dataframe tbody tr th {\n",
       "        vertical-align: top;\n",
       "    }\n",
       "\n",
       "    .dataframe thead th {\n",
       "        text-align: right;\n",
       "    }\n",
       "</style>\n",
       "<table border=\"1\" class=\"dataframe\">\n",
       "  <thead>\n",
       "    <tr style=\"text-align: right;\">\n",
       "      <th></th>\n",
       "      <th>dE</th>\n",
       "      <th>Price</th>\n",
       "      <th>dE_pred</th>\n",
       "      <th>Price_pred</th>\n",
       "      <th>dE_diff</th>\n",
       "      <th>Price_diff</th>\n",
       "      <th>Area</th>\n",
       "      <th>Area_pred</th>\n",
       "      <th>Area_diff</th>\n",
       "      <th>Area_diff_rel(%)</th>\n",
       "      <th>Period</th>\n",
       "    </tr>\n",
       "  </thead>\n",
       "  <tbody>\n",
       "    <tr>\n",
       "      <th>1032</th>\n",
       "      <td>80.00</td>\n",
       "      <td>1.13</td>\n",
       "      <td>0.00</td>\n",
       "      <td>180.30</td>\n",
       "      <td>80.00</td>\n",
       "      <td>-179.17</td>\n",
       "      <td>90.40</td>\n",
       "      <td>0.00</td>\n",
       "      <td>90.40</td>\n",
       "      <td>100.00</td>\n",
       "      <td>3</td>\n",
       "    </tr>\n",
       "    <tr>\n",
       "      <th>1116</th>\n",
       "      <td>80.00</td>\n",
       "      <td>1.13</td>\n",
       "      <td>79.94</td>\n",
       "      <td>1.13</td>\n",
       "      <td>0.06</td>\n",
       "      <td>0.00</td>\n",
       "      <td>90.40</td>\n",
       "      <td>90.33</td>\n",
       "      <td>0.07</td>\n",
       "      <td>0.08</td>\n",
       "      <td>4</td>\n",
       "    </tr>\n",
       "    <tr>\n",
       "      <th>1128</th>\n",
       "      <td>80.00</td>\n",
       "      <td>1.13</td>\n",
       "      <td>80.00</td>\n",
       "      <td>1.13</td>\n",
       "      <td>-0.00</td>\n",
       "      <td>0.00</td>\n",
       "      <td>90.40</td>\n",
       "      <td>90.40</td>\n",
       "      <td>-0.00</td>\n",
       "      <td>-0.00</td>\n",
       "      <td>4</td>\n",
       "    </tr>\n",
       "    <tr>\n",
       "      <th>1140</th>\n",
       "      <td>80.00</td>\n",
       "      <td>1.13</td>\n",
       "      <td>80.00</td>\n",
       "      <td>1.13</td>\n",
       "      <td>0.00</td>\n",
       "      <td>0.00</td>\n",
       "      <td>90.40</td>\n",
       "      <td>90.39</td>\n",
       "      <td>0.01</td>\n",
       "      <td>0.01</td>\n",
       "      <td>4</td>\n",
       "    </tr>\n",
       "    <tr>\n",
       "      <th>1152</th>\n",
       "      <td>80.00</td>\n",
       "      <td>1.13</td>\n",
       "      <td>77.64</td>\n",
       "      <td>6.56</td>\n",
       "      <td>2.36</td>\n",
       "      <td>-5.43</td>\n",
       "      <td>90.40</td>\n",
       "      <td>509.24</td>\n",
       "      <td>-418.84</td>\n",
       "      <td>-463.31</td>\n",
       "      <td>4</td>\n",
       "    </tr>\n",
       "    <tr>\n",
       "      <th>...</th>\n",
       "      <td>...</td>\n",
       "      <td>...</td>\n",
       "      <td>...</td>\n",
       "      <td>...</td>\n",
       "      <td>...</td>\n",
       "      <td>...</td>\n",
       "      <td>...</td>\n",
       "      <td>...</td>\n",
       "      <td>...</td>\n",
       "      <td>...</td>\n",
       "      <td>...</td>\n",
       "    </tr>\n",
       "    <tr>\n",
       "      <th>8922</th>\n",
       "      <td>17.00</td>\n",
       "      <td>38.56</td>\n",
       "      <td>17.00</td>\n",
       "      <td>38.35</td>\n",
       "      <td>0.00</td>\n",
       "      <td>0.21</td>\n",
       "      <td>655.52</td>\n",
       "      <td>651.92</td>\n",
       "      <td>3.60</td>\n",
       "      <td>0.55</td>\n",
       "      <td>24</td>\n",
       "    </tr>\n",
       "    <tr>\n",
       "      <th>8923</th>\n",
       "      <td>17.00</td>\n",
       "      <td>39.09</td>\n",
       "      <td>17.00</td>\n",
       "      <td>39.30</td>\n",
       "      <td>0.00</td>\n",
       "      <td>-0.21</td>\n",
       "      <td>664.53</td>\n",
       "      <td>668.05</td>\n",
       "      <td>-3.52</td>\n",
       "      <td>-0.53</td>\n",
       "      <td>24</td>\n",
       "    </tr>\n",
       "    <tr>\n",
       "      <th>8924</th>\n",
       "      <td>17.00</td>\n",
       "      <td>40.12</td>\n",
       "      <td>17.00</td>\n",
       "      <td>39.99</td>\n",
       "      <td>0.00</td>\n",
       "      <td>0.13</td>\n",
       "      <td>682.04</td>\n",
       "      <td>679.79</td>\n",
       "      <td>2.25</td>\n",
       "      <td>0.33</td>\n",
       "      <td>24</td>\n",
       "    </tr>\n",
       "    <tr>\n",
       "      <th>8925</th>\n",
       "      <td>17.00</td>\n",
       "      <td>41.15</td>\n",
       "      <td>17.00</td>\n",
       "      <td>40.83</td>\n",
       "      <td>0.00</td>\n",
       "      <td>0.32</td>\n",
       "      <td>699.55</td>\n",
       "      <td>694.15</td>\n",
       "      <td>5.40</td>\n",
       "      <td>0.77</td>\n",
       "      <td>24</td>\n",
       "    </tr>\n",
       "    <tr>\n",
       "      <th>8926</th>\n",
       "      <td>17.00</td>\n",
       "      <td>42.68</td>\n",
       "      <td>17.00</td>\n",
       "      <td>42.65</td>\n",
       "      <td>0.00</td>\n",
       "      <td>0.03</td>\n",
       "      <td>725.56</td>\n",
       "      <td>724.96</td>\n",
       "      <td>0.60</td>\n",
       "      <td>0.08</td>\n",
       "      <td>24</td>\n",
       "    </tr>\n",
       "  </tbody>\n",
       "</table>\n",
       "<p>5436 rows × 11 columns</p>\n",
       "</div>"
      ],
      "text/plain": [
       "        dE  Price  dE_pred  Price_pred  dE_diff  Price_diff   Area  Area_pred  \\\n",
       "1032 80.00   1.13     0.00      180.30    80.00     -179.17  90.40       0.00   \n",
       "1116 80.00   1.13    79.94        1.13     0.06        0.00  90.40      90.33   \n",
       "1128 80.00   1.13    80.00        1.13    -0.00        0.00  90.40      90.40   \n",
       "1140 80.00   1.13    80.00        1.13     0.00        0.00  90.40      90.39   \n",
       "1152 80.00   1.13    77.64        6.56     2.36       -5.43  90.40     509.24   \n",
       "...    ...    ...      ...         ...      ...         ...    ...        ...   \n",
       "8922 17.00  38.56    17.00       38.35     0.00        0.21 655.52     651.92   \n",
       "8923 17.00  39.09    17.00       39.30     0.00       -0.21 664.53     668.05   \n",
       "8924 17.00  40.12    17.00       39.99     0.00        0.13 682.04     679.79   \n",
       "8925 17.00  41.15    17.00       40.83     0.00        0.32 699.55     694.15   \n",
       "8926 17.00  42.68    17.00       42.65     0.00        0.03 725.56     724.96   \n",
       "\n",
       "      Area_diff  Area_diff_rel(%)  Period  \n",
       "1032      90.40            100.00       3  \n",
       "1116       0.07              0.08       4  \n",
       "1128      -0.00             -0.00       4  \n",
       "1140       0.01              0.01       4  \n",
       "1152    -418.84           -463.31       4  \n",
       "...         ...               ...     ...  \n",
       "8922       3.60              0.55      24  \n",
       "8923      -3.52             -0.53      24  \n",
       "8924       2.25              0.33      24  \n",
       "8925       5.40              0.77      24  \n",
       "8926       0.60              0.08      24  \n",
       "\n",
       "[5436 rows x 11 columns]"
      ]
     },
     "execution_count": 214,
     "metadata": {},
     "output_type": "execute_result"
    }
   ],
   "source": [
    "df_TEST_pred_XGB_summary_noPmax = df_pred_summary_noPmax(df_TEST_pred_XGB_summary)\n",
    "df_TEST_pred_XGB_summary_noPmax"
   ]
  },
  {
   "cell_type": "code",
   "execution_count": 215,
   "metadata": {},
   "outputs": [
    {
     "data": {
      "text/plain": [
       "-0.7321995429222532"
      ]
     },
     "execution_count": 215,
     "metadata": {},
     "output_type": "execute_result"
    }
   ],
   "source": [
    "df_TEST_pred_XGB_summary_noPmax['Area_diff'].mean()"
   ]
  },
  {
   "cell_type": "code",
   "execution_count": 216,
   "metadata": {},
   "outputs": [
    {
     "data": {
      "text/plain": [
       "(-0.7321995429222532, -0.12096690289891245)"
      ]
     },
     "execution_count": 216,
     "metadata": {},
     "output_type": "execute_result"
    }
   ],
   "source": [
    "Area_pred_XGB_noPmax_mean_error_TEST = df_TEST_pred_XGB_summary_noPmax['Area_diff'].mean()\n",
    "Area_pred_XGB_noPmax_mean_error_TEST_rel = df_TEST_pred_XGB_summary_noPmax['Area_diff'].mean() / df_TEST_pred_XGB_summary_noPmax['Area'].mean() * 100\n",
    "Area_pred_XGB_noPmax_mean_error_TEST, Area_pred_XGB_noPmax_mean_error_TEST_rel"
   ]
  },
  {
   "cell_type": "code",
   "execution_count": null,
   "metadata": {},
   "outputs": [],
   "source": []
  },
  {
   "cell_type": "code",
   "execution_count": 217,
   "metadata": {},
   "outputs": [
    {
     "data": {
      "text/plain": [
       "10.359382631047145"
      ]
     },
     "execution_count": 217,
     "metadata": {},
     "output_type": "execute_result"
    }
   ],
   "source": [
    "#MAE for Area and Area_pred without Pmax\n",
    "\n",
    "mae_area_noPmax_pred_XGB_TEST = mean_absolute_error(df_TEST_pred_XGB_summary_noPmax['Area'],df_TEST_pred_XGB_summary_noPmax['Area_pred'])\n",
    "mae_area_noPmax_pred_XGB_TEST"
   ]
  },
  {
   "cell_type": "code",
   "execution_count": 218,
   "metadata": {},
   "outputs": [
    {
     "data": {
      "text/plain": [
       "36.84158884010351"
      ]
     },
     "execution_count": 218,
     "metadata": {},
     "output_type": "execute_result"
    }
   ],
   "source": [
    "#RMSE for Area and Area_pred without Pmax\n",
    "\n",
    "rmse_area_noPmax_pred_XGB_TEST = (np.sqrt(mean_squared_error(df_TEST_pred_XGB_summary_noPmax['Area'],df_TEST_pred_XGB_summary_noPmax['Area_pred'])))\n",
    "rmse_area_noPmax_pred_XGB_TEST"
   ]
  },
  {
   "cell_type": "code",
   "execution_count": null,
   "metadata": {},
   "outputs": [],
   "source": []
  },
  {
   "cell_type": "markdown",
   "metadata": {},
   "source": [
    "### XGBOOST - HYPERPARMETERS - AREA METRIC EVALUATION"
   ]
  },
  {
   "cell_type": "code",
   "execution_count": null,
   "metadata": {},
   "outputs": [],
   "source": []
  },
  {
   "cell_type": "code",
   "execution_count": 219,
   "metadata": {},
   "outputs": [],
   "source": [
    "df_TEST_pred_XGB_grid_summary  = df_pred_summary(y_dE_TEST, y_dE_TEST_pred_chain_XGB_grid)"
   ]
  },
  {
   "cell_type": "code",
   "execution_count": null,
   "metadata": {},
   "outputs": [],
   "source": []
  },
  {
   "cell_type": "code",
   "execution_count": 220,
   "metadata": {},
   "outputs": [
    {
     "data": {
      "text/plain": [
       "-2.5705706668316144"
      ]
     },
     "execution_count": 220,
     "metadata": {},
     "output_type": "execute_result"
    }
   ],
   "source": [
    "df_TEST_pred_XGB_grid_summary['Area_diff'].mean()"
   ]
  },
  {
   "cell_type": "code",
   "execution_count": 221,
   "metadata": {},
   "outputs": [
    {
     "data": {
      "text/plain": [
       "(-2.5705706668316144, -0.10489988289303688)"
      ]
     },
     "execution_count": 221,
     "metadata": {},
     "output_type": "execute_result"
    }
   ],
   "source": [
    "Area_pred_XGB_grid_mean_error_TEST = df_TEST_pred_XGB_grid_summary['Area_diff'].mean()\n",
    "Area_pred_XGB_grid_mean_error_TEST_rel = df_TEST_pred_XGB_grid_summary['Area_diff'].mean() / df_TEST_pred_XGB_grid_summary['Area'].mean() * 100\n",
    "Area_pred_XGB_grid_mean_error_TEST, Area_pred_XGB_grid_mean_error_TEST_rel"
   ]
  },
  {
   "cell_type": "code",
   "execution_count": 222,
   "metadata": {},
   "outputs": [
    {
     "data": {
      "text/plain": [
       "20.384554132775712"
      ]
     },
     "execution_count": 222,
     "metadata": {},
     "output_type": "execute_result"
    }
   ],
   "source": [
    "#MAE for Area and Area_pred\n",
    "\n",
    "mae_area_pred_XGB_grid_TEST = mean_absolute_error(df_TEST_pred_XGB_grid_summary['Area'],df_TEST_pred_XGB_grid_summary['Area_pred'])\n",
    "mae_area_pred_XGB_grid_TEST"
   ]
  },
  {
   "cell_type": "code",
   "execution_count": 223,
   "metadata": {},
   "outputs": [
    {
     "data": {
      "text/plain": [
       "482.44972962326517"
      ]
     },
     "execution_count": 223,
     "metadata": {},
     "output_type": "execute_result"
    }
   ],
   "source": [
    "#RMSE for Area and Area_pred\n",
    "\n",
    "rmse_area_pred_XGB_grid_TEST = (np.sqrt(mean_squared_error(df_TEST_pred_XGB_grid_summary['Area'],df_TEST_pred_XGB_grid_summary['Area_pred'])))\n",
    "rmse_area_pred_XGB_grid_TEST"
   ]
  },
  {
   "cell_type": "code",
   "execution_count": null,
   "metadata": {},
   "outputs": [],
   "source": []
  },
  {
   "cell_type": "markdown",
   "metadata": {},
   "source": [
    "#### METRICS FOR XGBOOST WITHOUT PRICE MAX PREDICTIONS"
   ]
  },
  {
   "cell_type": "code",
   "execution_count": 224,
   "metadata": {},
   "outputs": [
    {
     "data": {
      "text/html": [
       "<div>\n",
       "<style scoped>\n",
       "    .dataframe tbody tr th:only-of-type {\n",
       "        vertical-align: middle;\n",
       "    }\n",
       "\n",
       "    .dataframe tbody tr th {\n",
       "        vertical-align: top;\n",
       "    }\n",
       "\n",
       "    .dataframe thead th {\n",
       "        text-align: right;\n",
       "    }\n",
       "</style>\n",
       "<table border=\"1\" class=\"dataframe\">\n",
       "  <thead>\n",
       "    <tr style=\"text-align: right;\">\n",
       "      <th></th>\n",
       "      <th>dE</th>\n",
       "      <th>Price</th>\n",
       "      <th>dE_pred</th>\n",
       "      <th>Price_pred</th>\n",
       "      <th>dE_diff</th>\n",
       "      <th>Price_diff</th>\n",
       "      <th>Area</th>\n",
       "      <th>Area_pred</th>\n",
       "      <th>Area_diff</th>\n",
       "      <th>Area_diff_rel(%)</th>\n",
       "      <th>Period</th>\n",
       "    </tr>\n",
       "  </thead>\n",
       "  <tbody>\n",
       "    <tr>\n",
       "      <th>1032</th>\n",
       "      <td>80.00</td>\n",
       "      <td>1.13</td>\n",
       "      <td>0.00</td>\n",
       "      <td>180.30</td>\n",
       "      <td>80.00</td>\n",
       "      <td>-179.17</td>\n",
       "      <td>90.40</td>\n",
       "      <td>0.00</td>\n",
       "      <td>90.40</td>\n",
       "      <td>100.00</td>\n",
       "      <td>3</td>\n",
       "    </tr>\n",
       "    <tr>\n",
       "      <th>1116</th>\n",
       "      <td>80.00</td>\n",
       "      <td>1.13</td>\n",
       "      <td>80.00</td>\n",
       "      <td>1.13</td>\n",
       "      <td>0.00</td>\n",
       "      <td>-0.00</td>\n",
       "      <td>90.40</td>\n",
       "      <td>90.40</td>\n",
       "      <td>-0.00</td>\n",
       "      <td>-0.00</td>\n",
       "      <td>4</td>\n",
       "    </tr>\n",
       "    <tr>\n",
       "      <th>1128</th>\n",
       "      <td>80.00</td>\n",
       "      <td>1.13</td>\n",
       "      <td>80.00</td>\n",
       "      <td>1.13</td>\n",
       "      <td>0.00</td>\n",
       "      <td>-0.00</td>\n",
       "      <td>90.40</td>\n",
       "      <td>90.40</td>\n",
       "      <td>-0.00</td>\n",
       "      <td>-0.00</td>\n",
       "      <td>4</td>\n",
       "    </tr>\n",
       "    <tr>\n",
       "      <th>1140</th>\n",
       "      <td>80.00</td>\n",
       "      <td>1.13</td>\n",
       "      <td>80.00</td>\n",
       "      <td>1.13</td>\n",
       "      <td>0.00</td>\n",
       "      <td>-0.00</td>\n",
       "      <td>90.40</td>\n",
       "      <td>90.40</td>\n",
       "      <td>-0.00</td>\n",
       "      <td>-0.00</td>\n",
       "      <td>4</td>\n",
       "    </tr>\n",
       "    <tr>\n",
       "      <th>1152</th>\n",
       "      <td>80.00</td>\n",
       "      <td>1.13</td>\n",
       "      <td>77.58</td>\n",
       "      <td>1.13</td>\n",
       "      <td>2.42</td>\n",
       "      <td>-0.00</td>\n",
       "      <td>90.40</td>\n",
       "      <td>87.66</td>\n",
       "      <td>2.74</td>\n",
       "      <td>3.03</td>\n",
       "      <td>4</td>\n",
       "    </tr>\n",
       "    <tr>\n",
       "      <th>...</th>\n",
       "      <td>...</td>\n",
       "      <td>...</td>\n",
       "      <td>...</td>\n",
       "      <td>...</td>\n",
       "      <td>...</td>\n",
       "      <td>...</td>\n",
       "      <td>...</td>\n",
       "      <td>...</td>\n",
       "      <td>...</td>\n",
       "      <td>...</td>\n",
       "      <td>...</td>\n",
       "    </tr>\n",
       "    <tr>\n",
       "      <th>8922</th>\n",
       "      <td>17.00</td>\n",
       "      <td>38.56</td>\n",
       "      <td>17.00</td>\n",
       "      <td>38.41</td>\n",
       "      <td>-0.00</td>\n",
       "      <td>0.15</td>\n",
       "      <td>655.52</td>\n",
       "      <td>653.04</td>\n",
       "      <td>2.48</td>\n",
       "      <td>0.38</td>\n",
       "      <td>24</td>\n",
       "    </tr>\n",
       "    <tr>\n",
       "      <th>8923</th>\n",
       "      <td>17.00</td>\n",
       "      <td>39.09</td>\n",
       "      <td>17.00</td>\n",
       "      <td>39.36</td>\n",
       "      <td>-0.00</td>\n",
       "      <td>-0.27</td>\n",
       "      <td>664.53</td>\n",
       "      <td>669.10</td>\n",
       "      <td>-4.57</td>\n",
       "      <td>-0.69</td>\n",
       "      <td>24</td>\n",
       "    </tr>\n",
       "    <tr>\n",
       "      <th>8924</th>\n",
       "      <td>17.00</td>\n",
       "      <td>40.12</td>\n",
       "      <td>17.00</td>\n",
       "      <td>39.94</td>\n",
       "      <td>-0.00</td>\n",
       "      <td>0.18</td>\n",
       "      <td>682.04</td>\n",
       "      <td>678.95</td>\n",
       "      <td>3.09</td>\n",
       "      <td>0.45</td>\n",
       "      <td>24</td>\n",
       "    </tr>\n",
       "    <tr>\n",
       "      <th>8925</th>\n",
       "      <td>17.00</td>\n",
       "      <td>41.15</td>\n",
       "      <td>17.00</td>\n",
       "      <td>40.79</td>\n",
       "      <td>-0.00</td>\n",
       "      <td>0.36</td>\n",
       "      <td>699.55</td>\n",
       "      <td>693.44</td>\n",
       "      <td>6.11</td>\n",
       "      <td>0.87</td>\n",
       "      <td>24</td>\n",
       "    </tr>\n",
       "    <tr>\n",
       "      <th>8926</th>\n",
       "      <td>17.00</td>\n",
       "      <td>42.68</td>\n",
       "      <td>17.00</td>\n",
       "      <td>42.68</td>\n",
       "      <td>-0.00</td>\n",
       "      <td>0.00</td>\n",
       "      <td>725.56</td>\n",
       "      <td>725.56</td>\n",
       "      <td>0.00</td>\n",
       "      <td>0.00</td>\n",
       "      <td>24</td>\n",
       "    </tr>\n",
       "  </tbody>\n",
       "</table>\n",
       "<p>5436 rows × 11 columns</p>\n",
       "</div>"
      ],
      "text/plain": [
       "        dE  Price  dE_pred  Price_pred  dE_diff  Price_diff   Area  Area_pred  \\\n",
       "1032 80.00   1.13     0.00      180.30    80.00     -179.17  90.40       0.00   \n",
       "1116 80.00   1.13    80.00        1.13     0.00       -0.00  90.40      90.40   \n",
       "1128 80.00   1.13    80.00        1.13     0.00       -0.00  90.40      90.40   \n",
       "1140 80.00   1.13    80.00        1.13     0.00       -0.00  90.40      90.40   \n",
       "1152 80.00   1.13    77.58        1.13     2.42       -0.00  90.40      87.66   \n",
       "...    ...    ...      ...         ...      ...         ...    ...        ...   \n",
       "8922 17.00  38.56    17.00       38.41    -0.00        0.15 655.52     653.04   \n",
       "8923 17.00  39.09    17.00       39.36    -0.00       -0.27 664.53     669.10   \n",
       "8924 17.00  40.12    17.00       39.94    -0.00        0.18 682.04     678.95   \n",
       "8925 17.00  41.15    17.00       40.79    -0.00        0.36 699.55     693.44   \n",
       "8926 17.00  42.68    17.00       42.68    -0.00        0.00 725.56     725.56   \n",
       "\n",
       "      Area_diff  Area_diff_rel(%)  Period  \n",
       "1032      90.40            100.00       3  \n",
       "1116      -0.00             -0.00       4  \n",
       "1128      -0.00             -0.00       4  \n",
       "1140      -0.00             -0.00       4  \n",
       "1152       2.74              3.03       4  \n",
       "...         ...               ...     ...  \n",
       "8922       2.48              0.38      24  \n",
       "8923      -4.57             -0.69      24  \n",
       "8924       3.09              0.45      24  \n",
       "8925       6.11              0.87      24  \n",
       "8926       0.00              0.00      24  \n",
       "\n",
       "[5436 rows x 11 columns]"
      ]
     },
     "execution_count": 224,
     "metadata": {},
     "output_type": "execute_result"
    }
   ],
   "source": [
    "df_TEST_pred_XGB_grid_summary_noPmax = df_pred_summary_noPmax(df_TEST_pred_XGB_grid_summary)\n",
    "df_TEST_pred_XGB_grid_summary_noPmax"
   ]
  },
  {
   "cell_type": "code",
   "execution_count": 225,
   "metadata": {},
   "outputs": [
    {
     "data": {
      "text/plain": [
       "1.0985485871373653"
      ]
     },
     "execution_count": 225,
     "metadata": {},
     "output_type": "execute_result"
    }
   ],
   "source": [
    "df_TEST_pred_XGB_grid_summary_noPmax['Area_diff'].mean()"
   ]
  },
  {
   "cell_type": "code",
   "execution_count": 226,
   "metadata": {},
   "outputs": [
    {
     "data": {
      "text/plain": [
       "(1.0985485871373653, -0.12096690289891245)"
      ]
     },
     "execution_count": 226,
     "metadata": {},
     "output_type": "execute_result"
    }
   ],
   "source": [
    "Area_pred_XGB_grid_noPmax_mean_error_TEST = df_TEST_pred_XGB_grid_summary_noPmax['Area_diff'].mean()\n",
    "Area_pred_XGB_grid_noPmax_mean_error_TEST_rel = df_TEST_pred_XGB_grid_summary_noPmax['Area_diff'].mean() / df_TEST_pred_XGB_grid_summary_noPmax['Area'].mean() * 100\n",
    "Area_pred_XGB_grid_noPmax_mean_error_TEST, Area_pred_XGB_noPmax_mean_error_TEST_rel"
   ]
  },
  {
   "cell_type": "code",
   "execution_count": null,
   "metadata": {},
   "outputs": [],
   "source": []
  },
  {
   "cell_type": "code",
   "execution_count": 227,
   "metadata": {},
   "outputs": [
    {
     "data": {
      "text/plain": [
       "9.770822303179834"
      ]
     },
     "execution_count": 227,
     "metadata": {},
     "output_type": "execute_result"
    }
   ],
   "source": [
    "#MAE for Area and Area_pred without Pmax\n",
    "\n",
    "mae_area_noPmax_pred_XGB_grid_TEST = mean_absolute_error(df_TEST_pred_XGB_grid_summary_noPmax['Area'],df_TEST_pred_XGB_grid_summary_noPmax['Area_pred'])\n",
    "mae_area_noPmax_pred_XGB_grid_TEST"
   ]
  },
  {
   "cell_type": "code",
   "execution_count": 228,
   "metadata": {},
   "outputs": [
    {
     "data": {
      "text/plain": [
       "35.18479291927469"
      ]
     },
     "execution_count": 228,
     "metadata": {},
     "output_type": "execute_result"
    }
   ],
   "source": [
    "#RMSE for Area and Area_pred without Pmax\n",
    "\n",
    "rmse_area_noPmax_pred_XGB_grid_TEST = (np.sqrt(mean_squared_error(df_TEST_pred_XGB_grid_summary_noPmax['Area'],df_TEST_pred_XGB_grid_summary_noPmax['Area_pred'])))\n",
    "rmse_area_noPmax_pred_XGB_grid_TEST"
   ]
  },
  {
   "cell_type": "code",
   "execution_count": null,
   "metadata": {},
   "outputs": [],
   "source": []
  },
  {
   "cell_type": "markdown",
   "metadata": {},
   "source": [
    "### 6. NAIVE MODEL\n",
    "\n",
    "In this section a dumb model is developed to have a baseline as reference for the future models to be built.\n",
    "\n",
    "In this case, two dumb models will be created:\n",
    "\n",
    "* Naive_24h: the target prediction will be the same as is was 24h before\n",
    "* Naive_mean: the target prediction will be the average of 24h and 168h before"
   ]
  },
  {
   "cell_type": "code",
   "execution_count": 229,
   "metadata": {},
   "outputs": [],
   "source": [
    "#NAIVE MODEL-24h\n",
    "\n",
    "y_dE_naive_TEST = []\n",
    "\n",
    "hours = len(df_X_dE_TEST)\n",
    "\n",
    "for hour in range(0,hours):\n",
    "    y_dE_naive_TEST.append(df_X_dE_TEST[hour][['Energy_24h', 'Price_24h']])"
   ]
  },
  {
   "cell_type": "code",
   "execution_count": null,
   "metadata": {},
   "outputs": [],
   "source": []
  },
  {
   "cell_type": "code",
   "execution_count": 230,
   "metadata": {},
   "outputs": [],
   "source": [
    "df_TEST_pred_naive_summary  = df_pred_summary(y_dE_TEST, y_dE_naive_TEST)"
   ]
  },
  {
   "cell_type": "code",
   "execution_count": 231,
   "metadata": {},
   "outputs": [
    {
     "data": {
      "text/plain": [
       "Index(['dE', 'Price', 'dE_pred', 'Price_pred', 'dE_diff', 'Price_diff', 'Area',\n",
       "       'Area_pred', 'Area_diff', 'Area_diff_rel(%)', 'Period'],\n",
       "      dtype='object')"
      ]
     },
     "execution_count": 231,
     "metadata": {},
     "output_type": "execute_result"
    }
   ],
   "source": [
    "df_TEST_pred_naive_summary.columns"
   ]
  },
  {
   "cell_type": "code",
   "execution_count": 232,
   "metadata": {},
   "outputs": [
    {
     "data": {
      "text/plain": [
       "0.3403645833333333"
      ]
     },
     "execution_count": 232,
     "metadata": {},
     "output_type": "execute_result"
    }
   ],
   "source": [
    "#MAE for Area and Area_pred\n",
    "\n",
    "mae_pred_naive_TEST = mean_absolute_error(df_TEST_pred_naive_summary[['dE','Price']],df_TEST_pred_naive_summary[['dE_pred','Price_pred']])\n",
    "mae_pred_naive_TEST"
   ]
  },
  {
   "cell_type": "code",
   "execution_count": 233,
   "metadata": {},
   "outputs": [
    {
     "data": {
      "text/plain": [
       "5.564039011754677"
      ]
     },
     "execution_count": 233,
     "metadata": {},
     "output_type": "execute_result"
    }
   ],
   "source": [
    "#RMSE for Area and Area_pred\n",
    "\n",
    "rmse_pred_naive_TEST = (np.sqrt(mean_squared_error(df_TEST_pred_naive_summary[['dE','Price']],df_TEST_pred_naive_summary[['dE_pred','Price_pred']])))\n",
    "rmse_pred_naive_TEST"
   ]
  },
  {
   "cell_type": "code",
   "execution_count": 234,
   "metadata": {},
   "outputs": [
    {
     "data": {
      "text/plain": [
       "19.052329749103944"
      ]
     },
     "execution_count": 234,
     "metadata": {},
     "output_type": "execute_result"
    }
   ],
   "source": [
    "#MAE for Area and Area_pred\n",
    "\n",
    "mae_area_pred_naive_TEST = mean_absolute_error(df_TEST_pred_naive_summary['Area'],df_TEST_pred_naive_summary['Area_pred'])\n",
    "mae_area_pred_naive_TEST"
   ]
  },
  {
   "cell_type": "code",
   "execution_count": 235,
   "metadata": {},
   "outputs": [
    {
     "data": {
      "text/plain": [
       "510.74732917742494"
      ]
     },
     "execution_count": 235,
     "metadata": {},
     "output_type": "execute_result"
    }
   ],
   "source": [
    "#RMSE for Area and Area_pred\n",
    "\n",
    "rmse_area_pred_naive_TEST = (np.sqrt(mean_squared_error(df_TEST_pred_naive_summary['Area'],df_TEST_pred_naive_summary['Area_pred'])))\n",
    "rmse_area_pred_naive_TEST"
   ]
  },
  {
   "cell_type": "code",
   "execution_count": null,
   "metadata": {},
   "outputs": [],
   "source": []
  },
  {
   "cell_type": "code",
   "execution_count": 236,
   "metadata": {},
   "outputs": [
    {
     "data": {
      "text/html": [
       "<div>\n",
       "<style scoped>\n",
       "    .dataframe tbody tr th:only-of-type {\n",
       "        vertical-align: middle;\n",
       "    }\n",
       "\n",
       "    .dataframe tbody tr th {\n",
       "        vertical-align: top;\n",
       "    }\n",
       "\n",
       "    .dataframe thead th {\n",
       "        text-align: right;\n",
       "    }\n",
       "</style>\n",
       "<table border=\"1\" class=\"dataframe\">\n",
       "  <thead>\n",
       "    <tr style=\"text-align: right;\">\n",
       "      <th></th>\n",
       "      <th>dE</th>\n",
       "      <th>Price</th>\n",
       "      <th>dE_pred</th>\n",
       "      <th>Price_pred</th>\n",
       "      <th>dE_diff</th>\n",
       "      <th>Price_diff</th>\n",
       "      <th>Area</th>\n",
       "      <th>Area_pred</th>\n",
       "      <th>Area_diff</th>\n",
       "      <th>Area_diff_rel(%)</th>\n",
       "      <th>Period</th>\n",
       "    </tr>\n",
       "  </thead>\n",
       "  <tbody>\n",
       "    <tr>\n",
       "      <th>1032</th>\n",
       "      <td>80.00</td>\n",
       "      <td>1.13</td>\n",
       "      <td>0.00</td>\n",
       "      <td>180.30</td>\n",
       "      <td>80.00</td>\n",
       "      <td>-179.17</td>\n",
       "      <td>90.40</td>\n",
       "      <td>0.00</td>\n",
       "      <td>90.40</td>\n",
       "      <td>100.00</td>\n",
       "      <td>3</td>\n",
       "    </tr>\n",
       "    <tr>\n",
       "      <th>1116</th>\n",
       "      <td>80.00</td>\n",
       "      <td>1.13</td>\n",
       "      <td>80.00</td>\n",
       "      <td>1.13</td>\n",
       "      <td>0.00</td>\n",
       "      <td>0.00</td>\n",
       "      <td>90.40</td>\n",
       "      <td>90.40</td>\n",
       "      <td>0.00</td>\n",
       "      <td>0.00</td>\n",
       "      <td>4</td>\n",
       "    </tr>\n",
       "    <tr>\n",
       "      <th>1128</th>\n",
       "      <td>80.00</td>\n",
       "      <td>1.13</td>\n",
       "      <td>80.00</td>\n",
       "      <td>1.13</td>\n",
       "      <td>0.00</td>\n",
       "      <td>0.00</td>\n",
       "      <td>90.40</td>\n",
       "      <td>90.40</td>\n",
       "      <td>0.00</td>\n",
       "      <td>0.00</td>\n",
       "      <td>4</td>\n",
       "    </tr>\n",
       "    <tr>\n",
       "      <th>1140</th>\n",
       "      <td>80.00</td>\n",
       "      <td>1.13</td>\n",
       "      <td>80.00</td>\n",
       "      <td>1.13</td>\n",
       "      <td>0.00</td>\n",
       "      <td>0.00</td>\n",
       "      <td>90.40</td>\n",
       "      <td>90.40</td>\n",
       "      <td>0.00</td>\n",
       "      <td>0.00</td>\n",
       "      <td>4</td>\n",
       "    </tr>\n",
       "    <tr>\n",
       "      <th>1152</th>\n",
       "      <td>80.00</td>\n",
       "      <td>1.13</td>\n",
       "      <td>80.00</td>\n",
       "      <td>1.13</td>\n",
       "      <td>0.00</td>\n",
       "      <td>0.00</td>\n",
       "      <td>90.40</td>\n",
       "      <td>90.40</td>\n",
       "      <td>0.00</td>\n",
       "      <td>0.00</td>\n",
       "      <td>4</td>\n",
       "    </tr>\n",
       "    <tr>\n",
       "      <th>...</th>\n",
       "      <td>...</td>\n",
       "      <td>...</td>\n",
       "      <td>...</td>\n",
       "      <td>...</td>\n",
       "      <td>...</td>\n",
       "      <td>...</td>\n",
       "      <td>...</td>\n",
       "      <td>...</td>\n",
       "      <td>...</td>\n",
       "      <td>...</td>\n",
       "      <td>...</td>\n",
       "    </tr>\n",
       "    <tr>\n",
       "      <th>8922</th>\n",
       "      <td>17.00</td>\n",
       "      <td>38.56</td>\n",
       "      <td>17.00</td>\n",
       "      <td>38.56</td>\n",
       "      <td>0.00</td>\n",
       "      <td>0.00</td>\n",
       "      <td>655.52</td>\n",
       "      <td>655.52</td>\n",
       "      <td>0.00</td>\n",
       "      <td>0.00</td>\n",
       "      <td>24</td>\n",
       "    </tr>\n",
       "    <tr>\n",
       "      <th>8923</th>\n",
       "      <td>17.00</td>\n",
       "      <td>39.09</td>\n",
       "      <td>17.00</td>\n",
       "      <td>39.09</td>\n",
       "      <td>0.00</td>\n",
       "      <td>0.00</td>\n",
       "      <td>664.53</td>\n",
       "      <td>664.53</td>\n",
       "      <td>0.00</td>\n",
       "      <td>0.00</td>\n",
       "      <td>24</td>\n",
       "    </tr>\n",
       "    <tr>\n",
       "      <th>8924</th>\n",
       "      <td>17.00</td>\n",
       "      <td>40.12</td>\n",
       "      <td>17.00</td>\n",
       "      <td>40.12</td>\n",
       "      <td>0.00</td>\n",
       "      <td>0.00</td>\n",
       "      <td>682.04</td>\n",
       "      <td>682.04</td>\n",
       "      <td>0.00</td>\n",
       "      <td>0.00</td>\n",
       "      <td>24</td>\n",
       "    </tr>\n",
       "    <tr>\n",
       "      <th>8925</th>\n",
       "      <td>17.00</td>\n",
       "      <td>41.15</td>\n",
       "      <td>17.00</td>\n",
       "      <td>41.15</td>\n",
       "      <td>0.00</td>\n",
       "      <td>0.00</td>\n",
       "      <td>699.55</td>\n",
       "      <td>699.55</td>\n",
       "      <td>0.00</td>\n",
       "      <td>0.00</td>\n",
       "      <td>24</td>\n",
       "    </tr>\n",
       "    <tr>\n",
       "      <th>8926</th>\n",
       "      <td>17.00</td>\n",
       "      <td>42.68</td>\n",
       "      <td>17.00</td>\n",
       "      <td>42.68</td>\n",
       "      <td>0.00</td>\n",
       "      <td>0.00</td>\n",
       "      <td>725.56</td>\n",
       "      <td>725.56</td>\n",
       "      <td>0.00</td>\n",
       "      <td>0.00</td>\n",
       "      <td>24</td>\n",
       "    </tr>\n",
       "  </tbody>\n",
       "</table>\n",
       "<p>5436 rows × 11 columns</p>\n",
       "</div>"
      ],
      "text/plain": [
       "        dE  Price  dE_pred  Price_pred  dE_diff  Price_diff   Area  Area_pred  \\\n",
       "1032 80.00   1.13     0.00      180.30    80.00     -179.17  90.40       0.00   \n",
       "1116 80.00   1.13    80.00        1.13     0.00        0.00  90.40      90.40   \n",
       "1128 80.00   1.13    80.00        1.13     0.00        0.00  90.40      90.40   \n",
       "1140 80.00   1.13    80.00        1.13     0.00        0.00  90.40      90.40   \n",
       "1152 80.00   1.13    80.00        1.13     0.00        0.00  90.40      90.40   \n",
       "...    ...    ...      ...         ...      ...         ...    ...        ...   \n",
       "8922 17.00  38.56    17.00       38.56     0.00        0.00 655.52     655.52   \n",
       "8923 17.00  39.09    17.00       39.09     0.00        0.00 664.53     664.53   \n",
       "8924 17.00  40.12    17.00       40.12     0.00        0.00 682.04     682.04   \n",
       "8925 17.00  41.15    17.00       41.15     0.00        0.00 699.55     699.55   \n",
       "8926 17.00  42.68    17.00       42.68     0.00        0.00 725.56     725.56   \n",
       "\n",
       "      Area_diff  Area_diff_rel(%)  Period  \n",
       "1032      90.40            100.00       3  \n",
       "1116       0.00              0.00       4  \n",
       "1128       0.00              0.00       4  \n",
       "1140       0.00              0.00       4  \n",
       "1152       0.00              0.00       4  \n",
       "...         ...               ...     ...  \n",
       "8922       0.00              0.00      24  \n",
       "8923       0.00              0.00      24  \n",
       "8924       0.00              0.00      24  \n",
       "8925       0.00              0.00      24  \n",
       "8926       0.00              0.00      24  \n",
       "\n",
       "[5436 rows x 11 columns]"
      ]
     },
     "execution_count": 236,
     "metadata": {},
     "output_type": "execute_result"
    }
   ],
   "source": [
    "df_TEST_pred_naive_summary_noPmax = df_pred_summary_noPmax(df_TEST_pred_naive_summary)\n",
    "df_TEST_pred_naive_summary_noPmax"
   ]
  },
  {
   "cell_type": "code",
   "execution_count": null,
   "metadata": {},
   "outputs": [],
   "source": []
  },
  {
   "cell_type": "code",
   "execution_count": null,
   "metadata": {},
   "outputs": [],
   "source": []
  },
  {
   "cell_type": "code",
   "execution_count": 237,
   "metadata": {},
   "outputs": [
    {
     "data": {
      "text/plain": [
       "6.177821927888153"
      ]
     },
     "execution_count": 237,
     "metadata": {},
     "output_type": "execute_result"
    }
   ],
   "source": [
    "#MAE for Area and Area_pred naive\n",
    "\n",
    "mae_area_naive_noPmax_TEST = mean_absolute_error(df_TEST_pred_naive_summary_noPmax['Area'],df_TEST_pred_naive_summary_noPmax['Area_pred'])\n",
    "mae_area_naive_noPmax_TEST"
   ]
  },
  {
   "cell_type": "code",
   "execution_count": 238,
   "metadata": {},
   "outputs": [
    {
     "data": {
      "text/plain": [
       "34.53654478545066"
      ]
     },
     "execution_count": 238,
     "metadata": {},
     "output_type": "execute_result"
    }
   ],
   "source": [
    "#RMSE for Area and Area_pred\n",
    "\n",
    "rmse_area_naive_noPmax_TEST = (np.sqrt(mean_squared_error(df_TEST_pred_naive_summary_noPmax['Area'],df_TEST_pred_naive_summary_noPmax['Area_pred'])))\n",
    "rmse_area_naive_noPmax_TEST"
   ]
  },
  {
   "cell_type": "code",
   "execution_count": null,
   "metadata": {},
   "outputs": [],
   "source": []
  },
  {
   "cell_type": "code",
   "execution_count": null,
   "metadata": {},
   "outputs": [],
   "source": []
  },
  {
   "cell_type": "code",
   "execution_count": null,
   "metadata": {},
   "outputs": [],
   "source": []
  },
  {
   "cell_type": "code",
   "execution_count": null,
   "metadata": {},
   "outputs": [],
   "source": []
  },
  {
   "cell_type": "markdown",
   "metadata": {},
   "source": [
    "### MODELS' RESULTS SUMMARY "
   ]
  },
  {
   "cell_type": "code",
   "execution_count": 239,
   "metadata": {},
   "outputs": [
    {
     "data": {
      "text/html": [
       "<div>\n",
       "<style scoped>\n",
       "    .dataframe tbody tr th:only-of-type {\n",
       "        vertical-align: middle;\n",
       "    }\n",
       "\n",
       "    .dataframe tbody tr th {\n",
       "        vertical-align: top;\n",
       "    }\n",
       "\n",
       "    .dataframe thead th {\n",
       "        text-align: right;\n",
       "    }\n",
       "</style>\n",
       "<table border=\"1\" class=\"dataframe\">\n",
       "  <thead>\n",
       "    <tr style=\"text-align: right;\">\n",
       "      <th></th>\n",
       "      <th>MAE</th>\n",
       "      <th>RMSE</th>\n",
       "      <th>MAE_area</th>\n",
       "      <th>RMSE_area</th>\n",
       "      <th>MAE_area_noPmax</th>\n",
       "      <th>RMSE_area_noPmax</th>\n",
       "    </tr>\n",
       "  </thead>\n",
       "  <tbody>\n",
       "    <tr>\n",
       "      <th>Naive</th>\n",
       "      <td>0.34</td>\n",
       "      <td>5.56</td>\n",
       "      <td>19.05</td>\n",
       "      <td>510.75</td>\n",
       "      <td>6.18</td>\n",
       "      <td>34.54</td>\n",
       "    </tr>\n",
       "    <tr>\n",
       "      <th>Random Forest(basic)</th>\n",
       "      <td>0.48</td>\n",
       "      <td>2.70</td>\n",
       "      <td>23.02</td>\n",
       "      <td>483.44</td>\n",
       "      <td>14.56</td>\n",
       "      <td>43.44</td>\n",
       "    </tr>\n",
       "    <tr>\n",
       "      <th>Random Forest(hyper)</th>\n",
       "      <td>0.37</td>\n",
       "      <td>2.36</td>\n",
       "      <td>19.33</td>\n",
       "      <td>478.03</td>\n",
       "      <td>8.31</td>\n",
       "      <td>35.77</td>\n",
       "    </tr>\n",
       "    <tr>\n",
       "      <th>XGBosst(basic)</th>\n",
       "      <td>0.40</td>\n",
       "      <td>2.40</td>\n",
       "      <td>20.88</td>\n",
       "      <td>481.09</td>\n",
       "      <td>10.36</td>\n",
       "      <td>36.84</td>\n",
       "    </tr>\n",
       "    <tr>\n",
       "      <th>XGBosst(hyper)</th>\n",
       "      <td>0.39</td>\n",
       "      <td>2.38</td>\n",
       "      <td>20.38</td>\n",
       "      <td>482.45</td>\n",
       "      <td>9.77</td>\n",
       "      <td>35.18</td>\n",
       "    </tr>\n",
       "  </tbody>\n",
       "</table>\n",
       "</div>"
      ],
      "text/plain": [
       "                      MAE  RMSE  MAE_area  RMSE_area  MAE_area_noPmax  \\\n",
       "Naive                0.34  5.56     19.05     510.75             6.18   \n",
       "Random Forest(basic) 0.48  2.70     23.02     483.44            14.56   \n",
       "Random Forest(hyper) 0.37  2.36     19.33     478.03             8.31   \n",
       "XGBosst(basic)       0.40  2.40     20.88     481.09            10.36   \n",
       "XGBosst(hyper)       0.39  2.38     20.38     482.45             9.77   \n",
       "\n",
       "                      RMSE_area_noPmax  \n",
       "Naive                            34.54  \n",
       "Random Forest(basic)             43.44  \n",
       "Random Forest(hyper)             35.77  \n",
       "XGBosst(basic)                   36.84  \n",
       "XGBosst(hyper)                   35.18  "
      ]
     },
     "execution_count": 239,
     "metadata": {},
     "output_type": "execute_result"
    }
   ],
   "source": [
    "models_summary = pd.DataFrame({'MAE': [np.mean(mae_pred_naive_TEST),\n",
    "                                       np.mean(mae_dE_TEST_rf),\n",
    "                                       np.mean(mae_dE_TEST_rf_grid),\n",
    "                                       np.mean(mae_dE_TEST_chain_XGB),\n",
    "                                       np.mean(mae_dE_TEST_chain_XGB_grid)],\n",
    "                              'RMSE': [np.mean(rmse_pred_naive_TEST),\n",
    "                                       np.mean(rmse_dE_TEST_rf),\n",
    "                                       np.mean(rmse_dE_TEST_rf_grid),\n",
    "                                       np.mean(rmse_dE_TEST_chain_XGB),\n",
    "                                       np.mean(rmse_dE_TEST_chain_XGB_grid)],\n",
    "                              'MAE_area': [mae_area_pred_naive_TEST,\n",
    "                                           mae_area_pred_TEST,\n",
    "                                           mae_area_pred_grid_TEST,\n",
    "                                           mae_area_pred_XGB_TEST,\n",
    "                                           mae_area_pred_XGB_grid_TEST],\n",
    "                              'RMSE_area': [rmse_area_pred_naive_TEST,\n",
    "                                            rmse_area_pred_TEST,\n",
    "                                            rmse_area_pred_grid_TEST,\n",
    "                                            rmse_area_pred_XGB_TEST,\n",
    "                                            rmse_area_pred_XGB_grid_TEST],\n",
    "                              'MAE_area_noPmax': [mae_area_naive_noPmax_TEST,\n",
    "                                                  mae_area_noPmax_pred_TEST,\n",
    "                                                  mae_area_noPmax_pred_grid_TEST,\n",
    "                                                  mae_area_noPmax_pred_XGB_TEST,\n",
    "                                                  mae_area_noPmax_pred_XGB_grid_TEST],\n",
    "                              'RMSE_area_noPmax': [rmse_area_naive_noPmax_TEST,\n",
    "                                                   rmse_area_noPmax_pred_TEST,\n",
    "                                                   rmse_area_noPmax_pred_grid_TEST,\n",
    "                                                   rmse_area_noPmax_pred_XGB_TEST,\n",
    "                                                   rmse_area_noPmax_pred_XGB_grid_TEST]},\n",
    "                              index =['Naive', 'Random Forest(basic)', \n",
    "                                      'Random Forest(hyper)','XGBosst(basic)','XGBosst(hyper)'])\n",
    "models_summary"
   ]
  },
  {
   "cell_type": "code",
   "execution_count": null,
   "metadata": {},
   "outputs": [],
   "source": []
  },
  {
   "cell_type": "code",
   "execution_count": 925,
   "metadata": {},
   "outputs": [],
   "source": [
    "################################################################################################"
   ]
  },
  {
   "cell_type": "code",
   "execution_count": 926,
   "metadata": {},
   "outputs": [],
   "source": [
    "#CODE TO BE ADAPTED FOR ENERGY_TOT APPROACH\n",
    "\n",
    "#X_area_pred_tot['Energy_tot_pred_shift'] = X_area_pred_tot['Energy_tot_pred'].shift(periods=1).fillna(X_area_pred_tot.loc[0,'Energy_tot_pred'])"
   ]
  },
  {
   "cell_type": "code",
   "execution_count": null,
   "metadata": {},
   "outputs": [],
   "source": []
  },
  {
   "cell_type": "code",
   "execution_count": 927,
   "metadata": {},
   "outputs": [],
   "source": [
    "########################################################################################################\n",
    "\n",
    "### CODE BELOW TO BE DELETED WHEN CHECKED NOT USEFULL"
   ]
  },
  {
   "cell_type": "code",
   "execution_count": 928,
   "metadata": {},
   "outputs": [
    {
     "ename": "NameError",
     "evalue": "name 'example_X' is not defined",
     "output_type": "error",
     "traceback": [
      "\u001b[0;31m---------------------------------------------------------------------------\u001b[0m",
      "\u001b[0;31mNameError\u001b[0m                                 Traceback (most recent call last)",
      "\u001b[0;32m<ipython-input-928-e29f506cc6ab>\u001b[0m in \u001b[0;36m<module>\u001b[0;34m\u001b[0m\n\u001b[1;32m      1\u001b[0m \u001b[0;31m#Example with random forest regression\u001b[0m\u001b[0;34m\u001b[0m\u001b[0;34m\u001b[0m\u001b[0;34m\u001b[0m\u001b[0m\n\u001b[1;32m      2\u001b[0m \u001b[0;34m\u001b[0m\u001b[0m\n\u001b[0;32m----> 3\u001b[0;31m \u001b[0mexample_y_pred_rf\u001b[0m \u001b[0;34m=\u001b[0m \u001b[0mreg_rf\u001b[0m\u001b[0;34m.\u001b[0m\u001b[0mpredict\u001b[0m\u001b[0;34m(\u001b[0m\u001b[0mexample_X\u001b[0m\u001b[0;34m)\u001b[0m\u001b[0;34m\u001b[0m\u001b[0;34m\u001b[0m\u001b[0m\n\u001b[0m",
      "\u001b[0;31mNameError\u001b[0m: name 'example_X' is not defined"
     ]
    }
   ],
   "source": [
    "#Example with random forest regression\n",
    "\n",
    "example_y_pred_rf = reg_rf.predict(example_X)"
   ]
  },
  {
   "cell_type": "code",
   "execution_count": null,
   "metadata": {},
   "outputs": [],
   "source": [
    "example_y_pred_rf"
   ]
  },
  {
   "cell_type": "code",
   "execution_count": null,
   "metadata": {},
   "outputs": [],
   "source": [
    "example_y"
   ]
  },
  {
   "cell_type": "code",
   "execution_count": null,
   "metadata": {},
   "outputs": [],
   "source": [
    "plt.plot(example['Energy_tot'][1:-1], example_y_pred_rf[1:-1], drawstyle='steps', \n",
    "         label='steps (=steps-pre)', color='red')\n",
    "\n",
    "plt.plot(example['Energy_tot'][1:-1], example_y[1:-1], drawstyle='steps', \n",
    "         label='steps (=steps-pre)', color='blue')"
   ]
  },
  {
   "cell_type": "code",
   "execution_count": null,
   "metadata": {},
   "outputs": [],
   "source": [
    "#We can observe that with dt first and last price are very good predicted\n",
    "\n",
    "plt.plot(example['Energy_tot'], example_y_pred_rf, drawstyle='steps', \n",
    "         label='steps (=steps-pre)', color='red')\n",
    "\n",
    "plt.plot(example['Energy_tot'], example_y, drawstyle='steps', \n",
    "         label='steps (=steps-pre)', color='blue')"
   ]
  },
  {
   "cell_type": "code",
   "execution_count": null,
   "metadata": {
    "scrolled": true
   },
   "outputs": [],
   "source": []
  },
  {
   "cell_type": "markdown",
   "metadata": {},
   "source": [
    "## REGRESSION MODELS"
   ]
  },
  {
   "cell_type": "code",
   "execution_count": null,
   "metadata": {},
   "outputs": [],
   "source": [
    "## LINEAR REGRESSION\n",
    "\n",
    "from sklearn.linear_model import LinearRegression\n",
    "\n",
    "#Creation of a model instance \n",
    "reg_linear = LinearRegression()\n",
    "\n",
    "reg_linear.fit(X_train,y_train)\n"
   ]
  },
  {
   "cell_type": "code",
   "execution_count": null,
   "metadata": {},
   "outputs": [],
   "source": [
    "y_pred_linear = reg_linear.predict(X_test)"
   ]
  },
  {
   "cell_type": "code",
   "execution_count": null,
   "metadata": {
    "scrolled": true
   },
   "outputs": [],
   "source": [
    "reg_linear.coef_"
   ]
  },
  {
   "cell_type": "code",
   "execution_count": null,
   "metadata": {},
   "outputs": [],
   "source": [
    "#MAE metric\n",
    "from sklearn.metrics import mean_absolute_error\n",
    "\n",
    "mean_absolute_error(y_test,y_pred_linear) # Primero valor real y luego prediccion"
   ]
  },
  {
   "cell_type": "code",
   "execution_count": null,
   "metadata": {},
   "outputs": [],
   "source": []
  },
  {
   "cell_type": "code",
   "execution_count": null,
   "metadata": {},
   "outputs": [],
   "source": [
    "#############################################################################################################"
   ]
  },
  {
   "cell_type": "code",
   "execution_count": null,
   "metadata": {},
   "outputs": [],
   "source": [
    "#Examples of real and predition curves will be ploted to compare them."
   ]
  },
  {
   "cell_type": "code",
   "execution_count": null,
   "metadata": {},
   "outputs": [],
   "source": [
    "plot_bid_curve('2020-8-16',18)"
   ]
  },
  {
   "cell_type": "code",
   "execution_count": null,
   "metadata": {},
   "outputs": [],
   "source": [
    "example = df_tot.sort_values(['Date','Period','Block'])[(df_tot['Date']=='2020-08-16') & \n",
    "                                                (df_tot['Period']==18)]\n",
    "example"
   ]
  },
  {
   "cell_type": "code",
   "execution_count": null,
   "metadata": {},
   "outputs": [],
   "source": [
    "example_cat = example[['Month','Day','Period','Weekday','Block']]\n",
    "example_cat"
   ]
  },
  {
   "cell_type": "code",
   "execution_count": null,
   "metadata": {},
   "outputs": [],
   "source": [
    "# example transformation to predict only this sample.\n",
    "example_cat_onehot = one_encoder.transform(example_cat)\n",
    "example_cat_onehot.shape"
   ]
  },
  {
   "cell_type": "code",
   "execution_count": null,
   "metadata": {
    "scrolled": true
   },
   "outputs": [],
   "source": [
    "example_cat_onehot"
   ]
  },
  {
   "cell_type": "code",
   "execution_count": null,
   "metadata": {},
   "outputs": [],
   "source": [
    "example_energy = np.asarray(example[['Energy_tot']]/example['Energy_tot'].max())\n",
    "example_energy"
   ]
  },
  {
   "cell_type": "code",
   "execution_count": null,
   "metadata": {},
   "outputs": [],
   "source": [
    "example_X = np.concatenate((example_cat_onehot, example_energy), axis=1)"
   ]
  },
  {
   "cell_type": "code",
   "execution_count": null,
   "metadata": {},
   "outputs": [],
   "source": [
    "example_y = np.asarray(example['Price'])"
   ]
  },
  {
   "cell_type": "code",
   "execution_count": null,
   "metadata": {},
   "outputs": [],
   "source": [
    "#Example with linear regression\n",
    "\n",
    "example_y_pred_linear = reg_linear.predict(example_X)"
   ]
  },
  {
   "cell_type": "code",
   "execution_count": null,
   "metadata": {},
   "outputs": [],
   "source": [
    "example_y_pred_linear"
   ]
  },
  {
   "cell_type": "code",
   "execution_count": null,
   "metadata": {},
   "outputs": [],
   "source": [
    "example_y"
   ]
  },
  {
   "cell_type": "code",
   "execution_count": null,
   "metadata": {
    "scrolled": true
   },
   "outputs": [],
   "source": [
    "plt.plot(example['Energy_tot'], example_y_pred_linear, drawstyle='steps', label='steps (=steps-pre)', color='red')\n",
    "plot_bid_curve('2020-8-16',18)"
   ]
  },
  {
   "cell_type": "code",
   "execution_count": null,
   "metadata": {},
   "outputs": [],
   "source": [
    "plt.plot(example['Energy_tot'][1:-1], example_y_pred_linear[1:-1], drawstyle='steps', \n",
    "         label='steps (=steps-pre)', color='red')\n",
    "\n",
    "plt.plot(example['Energy_tot'][1:-1], example_y[1:-1], drawstyle='steps', \n",
    "         label='steps (=steps-pre)', color='blue')"
   ]
  }
 ],
 "metadata": {
  "kernelspec": {
   "display_name": "Python 3",
   "language": "python",
   "name": "python3"
  },
  "language_info": {
   "codemirror_mode": {
    "name": "ipython",
    "version": 3
   },
   "file_extension": ".py",
   "mimetype": "text/x-python",
   "name": "python",
   "nbconvert_exporter": "python",
   "pygments_lexer": "ipython3",
   "version": "3.8.5"
  }
 },
 "nbformat": 4,
 "nbformat_minor": 4
}
