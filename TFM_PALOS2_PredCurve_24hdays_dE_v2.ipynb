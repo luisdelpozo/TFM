{
 "cells": [
  {
   "cell_type": "markdown",
   "metadata": {},
   "source": [
    "# TFM - CCC PALOS 2 - ENERGY-PRICE CURVE PREDICTION\n",
    "\n",
    "\n",
    "## 1. INTRODUCTION\n",
    "\n",
    "In this Notebook a PREDICTED ENERGY-PRICE CURVE model will be created.\n",
    "\n",
    "The following asumptions will be considered:\n",
    "\n",
    "+ OMIE energy-price curves from November, 2019 to October, 2020 will be considered as the baseline data information. This info comes from the csv file \"OMIE_PALOS1.csv\", created previously in \"TFM_merged-files.ipynb\" notebook.\n",
    "\n",
    "\n",
    "+ As the information in OMIE file does not consider all 12 blocks for every hourly curve, it is created a new dataframe with 12 blocks for all the curves.\n",
    "\n",
    "\n",
    "+ Only the following information will be considered as features of the models (X):\n",
    "    * Weekday\n",
    "    * Period (hour)\n",
    "    * Energy offered in the block 24h (one day) before the period considered (MWh)\n",
    "    * Energy offered in the block 168h (one week) before the period considered (MWh)\n",
    "   NOTE: In further stages of the project, total demanded energy and fuel gas price will be included as features as well. \n",
    "   \n",
    "   \n",
    "+ The following information will be considered as targets of the models (y):\n",
    "    * Energy offered in the block (MWh)\n",
    "    * Price (€/MWh)\n",
    "    \n",
    "    \n",
    "+ The information from the original OMIE information will be split in the following way:\n",
    "    * TRAIN SET: November, 2019 - August, 2020. (Note that November will have only 3 weeks, since there are no data for the energy offered one week before the first week of the month.)\n",
    "    * VALIDATION SET: September, 2020\n",
    "    * TEST SET: October, 2020"
   ]
  },
  {
   "cell_type": "code",
   "execution_count": 1,
   "metadata": {},
   "outputs": [],
   "source": [
    "import pandas as pd\n",
    "import numpy as np\n",
    "import matplotlib.pyplot as plt\n",
    "import seaborn as sns\n",
    "import datetime as dt\n",
    "from datetime import datetime, timedelta\n",
    "from TFM_PredCurve_Tools import data_date_hour_info, convert_to_df_curve"
   ]
  },
  {
   "cell_type": "code",
   "execution_count": 2,
   "metadata": {},
   "outputs": [],
   "source": [
    "#pd.reset_option('precision')\n",
    "pd.options.display.float_format = '{:,.2f}'.format"
   ]
  },
  {
   "cell_type": "code",
   "execution_count": 3,
   "metadata": {},
   "outputs": [],
   "source": [
    "unit = 'PALOS2'"
   ]
  },
  {
   "cell_type": "code",
   "execution_count": null,
   "metadata": {},
   "outputs": [],
   "source": []
  },
  {
   "cell_type": "markdown",
   "metadata": {},
   "source": [
    "# FUNCTIONS TO BE STORED IN TFM_PredCurve_Tools"
   ]
  },
  {
   "cell_type": "code",
   "execution_count": 4,
   "metadata": {},
   "outputs": [],
   "source": [
    "def data_date_hour_info(data, date, hour):\n",
    "    return data[(data['Date']==date) & (data['Period']==hour)]"
   ]
  },
  {
   "cell_type": "code",
   "execution_count": 5,
   "metadata": {},
   "outputs": [],
   "source": [
    "def convert_to_df_curve(data):\n",
    "    df_curve = data[['Pot_max', 'Year', 'Month', 'Day', 'Period', 'Block', 'Price', 'Energy']]\n",
    "\n",
    "    #Including date and week day per each day.\n",
    "    #Including date\n",
    "    df_curve['Date']= pd.to_datetime(df_curve[['Year', 'Month', 'Day']])\n",
    "\n",
    "    #Including weekdays as it is an important information\n",
    "    df_curve['Weekday'] = df_curve['Date'].apply(lambda x: x.weekday())\n",
    "    weekDays = (\"Monday\",\"Tuesday\",\"Wednesday\",\"Thursday\",\"Friday\",\"Saturday\",\"Sunday\")\n",
    "    df_curve['Weekday'] = df_curve['Weekday'].apply(lambda x: weekDays[x])\n",
    "\n",
    "    #Including the total Energy for all blocks in a certain hour (to be able to plot the bid curve)\n",
    "    df_curve['Energy_tot'] = df_curve.groupby(['Date','Period'])['Energy'].cumsum()\n",
    "\n",
    "    #Sorting the dataframe by date, hour and block \n",
    "    df_curve = df_curve.sort_values(['Date','Period','Block']).reset_index(drop=True)\n",
    "    \n",
    "    return df_curve"
   ]
  },
  {
   "cell_type": "code",
   "execution_count": 6,
   "metadata": {},
   "outputs": [],
   "source": [
    "#Searching the days with 23h and 25h within the original data period. \n",
    "#It is known that in Spain times changes from 2am to 3am every last Sunday of March and \n",
    "#from 3am to 2am every last Sunday of October\n",
    "\n",
    "def days_25h_23h(data):\n",
    "\n",
    "    start_year = data['Year'].min()\n",
    "    end_year = data['Year'].max()\n",
    "\n",
    "    days_23h = []\n",
    "    days_25h = []\n",
    "\n",
    "    for yx in range(start_year,end_year+1):\n",
    "    \n",
    "        m_min = data['Month'][data['Year']==yx].min()\n",
    "        m_max = data['Month'][data['Year']==yx].max()\n",
    "    \n",
    "        if 10 in range(m_min,m_max+1):\n",
    "            October_date = datetime(yx,10,31)\n",
    "            offset_October = (October_date.weekday() - 6)%7\n",
    "            last_October_sunday = October_date - timedelta(days=offset_October)\n",
    "            days_25h += [last_October_sunday]\n",
    " \n",
    "        if 3 in range(m_min,m_max+1):\n",
    "            March_date = datetime(yx,3,31)\n",
    "            offset_March = (March_date.weekday() - 6)%7\n",
    "            last_March_sunday = March_date - timedelta(days=offset_March)\n",
    "            days_23h += [last_March_sunday]\n",
    "\n",
    "    return days_25h, days_23h"
   ]
  },
  {
   "cell_type": "code",
   "execution_count": 7,
   "metadata": {},
   "outputs": [],
   "source": [
    "#Function to plot bid curves for a chosen dataframe, date and period (hour)\n",
    "\n",
    "def plot_bid_curve(dataframe, date, hour):\n",
    "    df_plot = dataframe[(dataframe['Date'] == date) & (dataframe['Period'] == hour)]\n",
    "    return plt.plot(pd.Series(0).append(df_plot['Energy_tot']), \n",
    "                    pd.Series(df_plot['Price'].iloc[0]).append(df_plot['Price']), \n",
    "                    drawstyle='steps', \n",
    "                    label='steps (=steps-pre)')"
   ]
  },
  {
   "cell_type": "code",
   "execution_count": null,
   "metadata": {},
   "outputs": [],
   "source": []
  },
  {
   "cell_type": "markdown",
   "metadata": {},
   "source": [
    "## 2. RETRIEVING, EXPLORING AND PLOTTING OMIE DATA INFORMATION\n",
    "\n",
    "### 2.1. RETRIEVING DATA INFORMATION"
   ]
  },
  {
   "cell_type": "code",
   "execution_count": 8,
   "metadata": {},
   "outputs": [],
   "source": [
    "#df will be all data for unit PALOS1 from November 2019 to October 2020. \n",
    "#This data was previously created from OMIE web page in \"TFM_merged-files.ipynb\" notebook \n",
    "#and TFM_df_sel_unit_v0.ipynb.\n",
    "\n",
    "df_unit = pd.read_csv('/home/dsc/Documents/TFM/Data/OMIE/OMIE_PALOS2_112019_102020.csv',index_col=0)"
   ]
  },
  {
   "cell_type": "code",
   "execution_count": 9,
   "metadata": {},
   "outputs": [
    {
     "data": {
      "text/html": [
       "<div>\n",
       "<style scoped>\n",
       "    .dataframe tbody tr th:only-of-type {\n",
       "        vertical-align: middle;\n",
       "    }\n",
       "\n",
       "    .dataframe tbody tr th {\n",
       "        vertical-align: top;\n",
       "    }\n",
       "\n",
       "    .dataframe thead th {\n",
       "        text-align: right;\n",
       "    }\n",
       "</style>\n",
       "<table border=\"1\" class=\"dataframe\">\n",
       "  <thead>\n",
       "    <tr style=\"text-align: right;\">\n",
       "      <th></th>\n",
       "      <th>Bid_Code</th>\n",
       "      <th>Num_Version</th>\n",
       "      <th>Bid_Unit</th>\n",
       "      <th>Unit_Description</th>\n",
       "      <th>Sell_Buy</th>\n",
       "      <th>Pot_max</th>\n",
       "      <th>Year</th>\n",
       "      <th>Month</th>\n",
       "      <th>Day</th>\n",
       "      <th>Period</th>\n",
       "      <th>Block</th>\n",
       "      <th>Price</th>\n",
       "      <th>Energy</th>\n",
       "    </tr>\n",
       "  </thead>\n",
       "  <tbody>\n",
       "    <tr>\n",
       "      <th>0</th>\n",
       "      <td>6128192</td>\n",
       "      <td>2</td>\n",
       "      <td>PALOS2</td>\n",
       "      <td>C.C. PALOS 2</td>\n",
       "      <td>VNO</td>\n",
       "      <td>395.60</td>\n",
       "      <td>2020</td>\n",
       "      <td>1</td>\n",
       "      <td>1</td>\n",
       "      <td>1</td>\n",
       "      <td>12</td>\n",
       "      <td>180.30</td>\n",
       "      <td>395.60</td>\n",
       "    </tr>\n",
       "    <tr>\n",
       "      <th>1</th>\n",
       "      <td>6128192</td>\n",
       "      <td>2</td>\n",
       "      <td>PALOS2</td>\n",
       "      <td>C.C. PALOS 2</td>\n",
       "      <td>VNO</td>\n",
       "      <td>395.60</td>\n",
       "      <td>2020</td>\n",
       "      <td>1</td>\n",
       "      <td>1</td>\n",
       "      <td>2</td>\n",
       "      <td>12</td>\n",
       "      <td>180.30</td>\n",
       "      <td>395.60</td>\n",
       "    </tr>\n",
       "    <tr>\n",
       "      <th>2</th>\n",
       "      <td>6128192</td>\n",
       "      <td>2</td>\n",
       "      <td>PALOS2</td>\n",
       "      <td>C.C. PALOS 2</td>\n",
       "      <td>VNO</td>\n",
       "      <td>395.60</td>\n",
       "      <td>2020</td>\n",
       "      <td>1</td>\n",
       "      <td>1</td>\n",
       "      <td>3</td>\n",
       "      <td>12</td>\n",
       "      <td>180.30</td>\n",
       "      <td>395.60</td>\n",
       "    </tr>\n",
       "    <tr>\n",
       "      <th>3</th>\n",
       "      <td>6128192</td>\n",
       "      <td>2</td>\n",
       "      <td>PALOS2</td>\n",
       "      <td>C.C. PALOS 2</td>\n",
       "      <td>VNO</td>\n",
       "      <td>395.60</td>\n",
       "      <td>2020</td>\n",
       "      <td>1</td>\n",
       "      <td>1</td>\n",
       "      <td>4</td>\n",
       "      <td>1</td>\n",
       "      <td>1.13</td>\n",
       "      <td>50.00</td>\n",
       "    </tr>\n",
       "    <tr>\n",
       "      <th>4</th>\n",
       "      <td>6128192</td>\n",
       "      <td>2</td>\n",
       "      <td>PALOS2</td>\n",
       "      <td>C.C. PALOS 2</td>\n",
       "      <td>VNO</td>\n",
       "      <td>395.60</td>\n",
       "      <td>2020</td>\n",
       "      <td>1</td>\n",
       "      <td>1</td>\n",
       "      <td>4</td>\n",
       "      <td>12</td>\n",
       "      <td>180.30</td>\n",
       "      <td>345.60</td>\n",
       "    </tr>\n",
       "  </tbody>\n",
       "</table>\n",
       "</div>"
      ],
      "text/plain": [
       "   Bid_Code  Num_Version Bid_Unit Unit_Description Sell_Buy  Pot_max  Year  \\\n",
       "0   6128192            2   PALOS2     C.C. PALOS 2      VNO   395.60  2020   \n",
       "1   6128192            2   PALOS2     C.C. PALOS 2      VNO   395.60  2020   \n",
       "2   6128192            2   PALOS2     C.C. PALOS 2      VNO   395.60  2020   \n",
       "3   6128192            2   PALOS2     C.C. PALOS 2      VNO   395.60  2020   \n",
       "4   6128192            2   PALOS2     C.C. PALOS 2      VNO   395.60  2020   \n",
       "\n",
       "   Month  Day  Period  Block  Price  Energy  \n",
       "0      1    1       1     12 180.30  395.60  \n",
       "1      1    1       2     12 180.30  395.60  \n",
       "2      1    1       3     12 180.30  395.60  \n",
       "3      1    1       4      1   1.13   50.00  \n",
       "4      1    1       4     12 180.30  345.60  "
      ]
     },
     "execution_count": 9,
     "metadata": {},
     "output_type": "execute_result"
    }
   ],
   "source": [
    "df_unit.head()"
   ]
  },
  {
   "cell_type": "code",
   "execution_count": 10,
   "metadata": {
    "scrolled": true
   },
   "outputs": [
    {
     "data": {
      "text/plain": [
       "(68034, 13)"
      ]
     },
     "execution_count": 10,
     "metadata": {},
     "output_type": "execute_result"
    }
   ],
   "source": [
    "df_unit.shape"
   ]
  },
  {
   "cell_type": "code",
   "execution_count": 11,
   "metadata": {},
   "outputs": [
    {
     "data": {
      "text/plain": [
       "Index(['Bid_Code', 'Num_Version', 'Bid_Unit', 'Unit_Description', 'Sell_Buy',\n",
       "       'Pot_max', 'Year', 'Month', 'Day', 'Period', 'Block', 'Price',\n",
       "       'Energy'],\n",
       "      dtype='object')"
      ]
     },
     "execution_count": 11,
     "metadata": {},
     "output_type": "execute_result"
    }
   ],
   "source": [
    "df_unit.columns"
   ]
  },
  {
   "cell_type": "code",
   "execution_count": 12,
   "metadata": {
    "scrolled": false
   },
   "outputs": [
    {
     "data": {
      "text/html": [
       "<div>\n",
       "<style scoped>\n",
       "    .dataframe tbody tr th:only-of-type {\n",
       "        vertical-align: middle;\n",
       "    }\n",
       "\n",
       "    .dataframe tbody tr th {\n",
       "        vertical-align: top;\n",
       "    }\n",
       "\n",
       "    .dataframe thead th {\n",
       "        text-align: right;\n",
       "    }\n",
       "</style>\n",
       "<table border=\"1\" class=\"dataframe\">\n",
       "  <thead>\n",
       "    <tr style=\"text-align: right;\">\n",
       "      <th></th>\n",
       "      <th>Bid_Code</th>\n",
       "      <th>Num_Version</th>\n",
       "      <th>Bid_Unit</th>\n",
       "      <th>Unit_Description</th>\n",
       "      <th>Sell_Buy</th>\n",
       "      <th>Pot_max</th>\n",
       "      <th>Year</th>\n",
       "      <th>Month</th>\n",
       "      <th>Day</th>\n",
       "      <th>Period</th>\n",
       "      <th>Block</th>\n",
       "      <th>Price</th>\n",
       "      <th>Energy</th>\n",
       "    </tr>\n",
       "  </thead>\n",
       "  <tbody>\n",
       "    <tr>\n",
       "      <th>68029</th>\n",
       "      <td>6126742</td>\n",
       "      <td>2</td>\n",
       "      <td>PALOS2</td>\n",
       "      <td>C.C. PALOS 2</td>\n",
       "      <td>VNO</td>\n",
       "      <td>395.60</td>\n",
       "      <td>2019</td>\n",
       "      <td>12</td>\n",
       "      <td>31</td>\n",
       "      <td>24</td>\n",
       "      <td>8</td>\n",
       "      <td>43.21</td>\n",
       "      <td>21.00</td>\n",
       "    </tr>\n",
       "    <tr>\n",
       "      <th>68030</th>\n",
       "      <td>6126742</td>\n",
       "      <td>2</td>\n",
       "      <td>PALOS2</td>\n",
       "      <td>C.C. PALOS 2</td>\n",
       "      <td>VNO</td>\n",
       "      <td>395.60</td>\n",
       "      <td>2019</td>\n",
       "      <td>12</td>\n",
       "      <td>31</td>\n",
       "      <td>24</td>\n",
       "      <td>9</td>\n",
       "      <td>44.30</td>\n",
       "      <td>21.00</td>\n",
       "    </tr>\n",
       "    <tr>\n",
       "      <th>68031</th>\n",
       "      <td>6126742</td>\n",
       "      <td>2</td>\n",
       "      <td>PALOS2</td>\n",
       "      <td>C.C. PALOS 2</td>\n",
       "      <td>VNO</td>\n",
       "      <td>395.60</td>\n",
       "      <td>2019</td>\n",
       "      <td>12</td>\n",
       "      <td>31</td>\n",
       "      <td>24</td>\n",
       "      <td>10</td>\n",
       "      <td>45.40</td>\n",
       "      <td>21.00</td>\n",
       "    </tr>\n",
       "    <tr>\n",
       "      <th>68032</th>\n",
       "      <td>6126742</td>\n",
       "      <td>2</td>\n",
       "      <td>PALOS2</td>\n",
       "      <td>C.C. PALOS 2</td>\n",
       "      <td>VNO</td>\n",
       "      <td>395.60</td>\n",
       "      <td>2019</td>\n",
       "      <td>12</td>\n",
       "      <td>31</td>\n",
       "      <td>24</td>\n",
       "      <td>11</td>\n",
       "      <td>46.49</td>\n",
       "      <td>21.00</td>\n",
       "    </tr>\n",
       "    <tr>\n",
       "      <th>68033</th>\n",
       "      <td>6126742</td>\n",
       "      <td>2</td>\n",
       "      <td>PALOS2</td>\n",
       "      <td>C.C. PALOS 2</td>\n",
       "      <td>VNO</td>\n",
       "      <td>395.60</td>\n",
       "      <td>2019</td>\n",
       "      <td>12</td>\n",
       "      <td>31</td>\n",
       "      <td>24</td>\n",
       "      <td>12</td>\n",
       "      <td>180.30</td>\n",
       "      <td>35.30</td>\n",
       "    </tr>\n",
       "  </tbody>\n",
       "</table>\n",
       "</div>"
      ],
      "text/plain": [
       "       Bid_Code  Num_Version Bid_Unit Unit_Description Sell_Buy  Pot_max  \\\n",
       "68029   6126742            2   PALOS2     C.C. PALOS 2      VNO   395.60   \n",
       "68030   6126742            2   PALOS2     C.C. PALOS 2      VNO   395.60   \n",
       "68031   6126742            2   PALOS2     C.C. PALOS 2      VNO   395.60   \n",
       "68032   6126742            2   PALOS2     C.C. PALOS 2      VNO   395.60   \n",
       "68033   6126742            2   PALOS2     C.C. PALOS 2      VNO   395.60   \n",
       "\n",
       "       Year  Month  Day  Period  Block  Price  Energy  \n",
       "68029  2019     12   31      24      8  43.21   21.00  \n",
       "68030  2019     12   31      24      9  44.30   21.00  \n",
       "68031  2019     12   31      24     10  45.40   21.00  \n",
       "68032  2019     12   31      24     11  46.49   21.00  \n",
       "68033  2019     12   31      24     12 180.30   35.30  "
      ]
     },
     "execution_count": 12,
     "metadata": {},
     "output_type": "execute_result"
    }
   ],
   "source": [
    "df_unit.tail()"
   ]
  },
  {
   "cell_type": "code",
   "execution_count": 13,
   "metadata": {
    "scrolled": false
   },
   "outputs": [
    {
     "data": {
      "text/html": [
       "<div>\n",
       "<style scoped>\n",
       "    .dataframe tbody tr th:only-of-type {\n",
       "        vertical-align: middle;\n",
       "    }\n",
       "\n",
       "    .dataframe tbody tr th {\n",
       "        vertical-align: top;\n",
       "    }\n",
       "\n",
       "    .dataframe thead th {\n",
       "        text-align: right;\n",
       "    }\n",
       "</style>\n",
       "<table border=\"1\" class=\"dataframe\">\n",
       "  <thead>\n",
       "    <tr style=\"text-align: right;\">\n",
       "      <th></th>\n",
       "      <th>Bid_Code</th>\n",
       "      <th>Num_Version</th>\n",
       "      <th>Pot_max</th>\n",
       "      <th>Year</th>\n",
       "      <th>Month</th>\n",
       "      <th>Day</th>\n",
       "      <th>Period</th>\n",
       "      <th>Block</th>\n",
       "      <th>Price</th>\n",
       "      <th>Energy</th>\n",
       "    </tr>\n",
       "  </thead>\n",
       "  <tbody>\n",
       "    <tr>\n",
       "      <th>count</th>\n",
       "      <td>68,034.00</td>\n",
       "      <td>68,034.00</td>\n",
       "      <td>68,034.00</td>\n",
       "      <td>68,034.00</td>\n",
       "      <td>68,034.00</td>\n",
       "      <td>68,034.00</td>\n",
       "      <td>68,034.00</td>\n",
       "      <td>68,034.00</td>\n",
       "      <td>68,034.00</td>\n",
       "      <td>68,034.00</td>\n",
       "    </tr>\n",
       "    <tr>\n",
       "      <th>mean</th>\n",
       "      <td>6,311,018.51</td>\n",
       "      <td>1.75</td>\n",
       "      <td>395.60</td>\n",
       "      <td>2,019.88</td>\n",
       "      <td>6.27</td>\n",
       "      <td>16.08</td>\n",
       "      <td>15.82</td>\n",
       "      <td>6.58</td>\n",
       "      <td>52.47</td>\n",
       "      <td>48.15</td>\n",
       "    </tr>\n",
       "    <tr>\n",
       "      <th>std</th>\n",
       "      <td>140,269.64</td>\n",
       "      <td>0.85</td>\n",
       "      <td>0.00</td>\n",
       "      <td>0.32</td>\n",
       "      <td>3.38</td>\n",
       "      <td>8.84</td>\n",
       "      <td>5.19</td>\n",
       "      <td>3.63</td>\n",
       "      <td>49.21</td>\n",
       "      <td>75.45</td>\n",
       "    </tr>\n",
       "    <tr>\n",
       "      <th>min</th>\n",
       "      <td>6,073,909.00</td>\n",
       "      <td>1.00</td>\n",
       "      <td>395.60</td>\n",
       "      <td>2,019.00</td>\n",
       "      <td>1.00</td>\n",
       "      <td>1.00</td>\n",
       "      <td>1.00</td>\n",
       "      <td>1.00</td>\n",
       "      <td>1.13</td>\n",
       "      <td>0.70</td>\n",
       "    </tr>\n",
       "    <tr>\n",
       "      <th>25%</th>\n",
       "      <td>6,187,944.00</td>\n",
       "      <td>1.00</td>\n",
       "      <td>395.60</td>\n",
       "      <td>2,020.00</td>\n",
       "      <td>3.00</td>\n",
       "      <td>8.00</td>\n",
       "      <td>12.00</td>\n",
       "      <td>3.00</td>\n",
       "      <td>34.12</td>\n",
       "      <td>21.00</td>\n",
       "    </tr>\n",
       "    <tr>\n",
       "      <th>50%</th>\n",
       "      <td>6,308,806.00</td>\n",
       "      <td>2.00</td>\n",
       "      <td>395.60</td>\n",
       "      <td>2,020.00</td>\n",
       "      <td>6.00</td>\n",
       "      <td>16.00</td>\n",
       "      <td>16.00</td>\n",
       "      <td>7.00</td>\n",
       "      <td>39.92</td>\n",
       "      <td>21.00</td>\n",
       "    </tr>\n",
       "    <tr>\n",
       "      <th>75%</th>\n",
       "      <td>6,432,962.00</td>\n",
       "      <td>2.00</td>\n",
       "      <td>395.60</td>\n",
       "      <td>2,020.00</td>\n",
       "      <td>9.00</td>\n",
       "      <td>24.00</td>\n",
       "      <td>20.00</td>\n",
       "      <td>10.00</td>\n",
       "      <td>45.07</td>\n",
       "      <td>21.00</td>\n",
       "    </tr>\n",
       "    <tr>\n",
       "      <th>max</th>\n",
       "      <td>6,555,574.00</td>\n",
       "      <td>5.00</td>\n",
       "      <td>395.60</td>\n",
       "      <td>2,020.00</td>\n",
       "      <td>12.00</td>\n",
       "      <td>31.00</td>\n",
       "      <td>25.00</td>\n",
       "      <td>12.00</td>\n",
       "      <td>180.30</td>\n",
       "      <td>395.60</td>\n",
       "    </tr>\n",
       "  </tbody>\n",
       "</table>\n",
       "</div>"
      ],
      "text/plain": [
       "          Bid_Code  Num_Version   Pot_max      Year     Month       Day  \\\n",
       "count    68,034.00    68,034.00 68,034.00 68,034.00 68,034.00 68,034.00   \n",
       "mean  6,311,018.51         1.75    395.60  2,019.88      6.27     16.08   \n",
       "std     140,269.64         0.85      0.00      0.32      3.38      8.84   \n",
       "min   6,073,909.00         1.00    395.60  2,019.00      1.00      1.00   \n",
       "25%   6,187,944.00         1.00    395.60  2,020.00      3.00      8.00   \n",
       "50%   6,308,806.00         2.00    395.60  2,020.00      6.00     16.00   \n",
       "75%   6,432,962.00         2.00    395.60  2,020.00      9.00     24.00   \n",
       "max   6,555,574.00         5.00    395.60  2,020.00     12.00     31.00   \n",
       "\n",
       "         Period     Block     Price    Energy  \n",
       "count 68,034.00 68,034.00 68,034.00 68,034.00  \n",
       "mean      15.82      6.58     52.47     48.15  \n",
       "std        5.19      3.63     49.21     75.45  \n",
       "min        1.00      1.00      1.13      0.70  \n",
       "25%       12.00      3.00     34.12     21.00  \n",
       "50%       16.00      7.00     39.92     21.00  \n",
       "75%       20.00     10.00     45.07     21.00  \n",
       "max       25.00     12.00    180.30    395.60  "
      ]
     },
     "execution_count": 13,
     "metadata": {},
     "output_type": "execute_result"
    }
   ],
   "source": [
    "df_unit.describe()"
   ]
  },
  {
   "cell_type": "code",
   "execution_count": 14,
   "metadata": {
    "scrolled": true
   },
   "outputs": [
    {
     "data": {
      "text/plain": [
       "Bid_Code              int64\n",
       "Num_Version           int64\n",
       "Bid_Unit             object\n",
       "Unit_Description     object\n",
       "Sell_Buy             object\n",
       "Pot_max             float64\n",
       "Year                  int64\n",
       "Month                 int64\n",
       "Day                   int64\n",
       "Period                int64\n",
       "Block                 int64\n",
       "Price               float64\n",
       "Energy              float64\n",
       "dtype: object"
      ]
     },
     "execution_count": 14,
     "metadata": {},
     "output_type": "execute_result"
    }
   ],
   "source": [
    "df_unit.dtypes"
   ]
  },
  {
   "cell_type": "code",
   "execution_count": 15,
   "metadata": {
    "scrolled": true
   },
   "outputs": [
    {
     "name": "stderr",
     "output_type": "stream",
     "text": [
      "<ipython-input-5-bb65f80c31b1>:6: SettingWithCopyWarning: \n",
      "A value is trying to be set on a copy of a slice from a DataFrame.\n",
      "Try using .loc[row_indexer,col_indexer] = value instead\n",
      "\n",
      "See the caveats in the documentation: https://pandas.pydata.org/pandas-docs/stable/user_guide/indexing.html#returning-a-view-versus-a-copy\n",
      "  df_curve['Date']= pd.to_datetime(df_curve[['Year', 'Month', 'Day']])\n",
      "<ipython-input-5-bb65f80c31b1>:9: SettingWithCopyWarning: \n",
      "A value is trying to be set on a copy of a slice from a DataFrame.\n",
      "Try using .loc[row_indexer,col_indexer] = value instead\n",
      "\n",
      "See the caveats in the documentation: https://pandas.pydata.org/pandas-docs/stable/user_guide/indexing.html#returning-a-view-versus-a-copy\n",
      "  df_curve['Weekday'] = df_curve['Date'].apply(lambda x: x.weekday())\n",
      "<ipython-input-5-bb65f80c31b1>:11: SettingWithCopyWarning: \n",
      "A value is trying to be set on a copy of a slice from a DataFrame.\n",
      "Try using .loc[row_indexer,col_indexer] = value instead\n",
      "\n",
      "See the caveats in the documentation: https://pandas.pydata.org/pandas-docs/stable/user_guide/indexing.html#returning-a-view-versus-a-copy\n",
      "  df_curve['Weekday'] = df_curve['Weekday'].apply(lambda x: weekDays[x])\n",
      "<ipython-input-5-bb65f80c31b1>:14: SettingWithCopyWarning: \n",
      "A value is trying to be set on a copy of a slice from a DataFrame.\n",
      "Try using .loc[row_indexer,col_indexer] = value instead\n",
      "\n",
      "See the caveats in the documentation: https://pandas.pydata.org/pandas-docs/stable/user_guide/indexing.html#returning-a-view-versus-a-copy\n",
      "  df_curve['Energy_tot'] = df_curve.groupby(['Date','Period'])['Energy'].cumsum()\n"
     ]
    }
   ],
   "source": [
    "#Converting df_unit to a df with only the information that will be needed for ploting the bid curve, including\n",
    "#date and and weekday per each day, and including the total Energy for all blocks in a certain hour,\n",
    "#(to be able to plot the bid curve)\n",
    "\n",
    "df_curve = convert_to_df_curve(df_unit)"
   ]
  },
  {
   "cell_type": "code",
   "execution_count": 16,
   "metadata": {
    "scrolled": true
   },
   "outputs": [
    {
     "data": {
      "text/html": [
       "<div>\n",
       "<style scoped>\n",
       "    .dataframe tbody tr th:only-of-type {\n",
       "        vertical-align: middle;\n",
       "    }\n",
       "\n",
       "    .dataframe tbody tr th {\n",
       "        vertical-align: top;\n",
       "    }\n",
       "\n",
       "    .dataframe thead th {\n",
       "        text-align: right;\n",
       "    }\n",
       "</style>\n",
       "<table border=\"1\" class=\"dataframe\">\n",
       "  <thead>\n",
       "    <tr style=\"text-align: right;\">\n",
       "      <th></th>\n",
       "      <th>Pot_max</th>\n",
       "      <th>Year</th>\n",
       "      <th>Month</th>\n",
       "      <th>Day</th>\n",
       "      <th>Period</th>\n",
       "      <th>Block</th>\n",
       "      <th>Price</th>\n",
       "      <th>Energy</th>\n",
       "      <th>Date</th>\n",
       "      <th>Weekday</th>\n",
       "      <th>Energy_tot</th>\n",
       "    </tr>\n",
       "  </thead>\n",
       "  <tbody>\n",
       "    <tr>\n",
       "      <th>0</th>\n",
       "      <td>395.60</td>\n",
       "      <td>2019</td>\n",
       "      <td>11</td>\n",
       "      <td>20</td>\n",
       "      <td>1</td>\n",
       "      <td>12</td>\n",
       "      <td>180.30</td>\n",
       "      <td>395.60</td>\n",
       "      <td>2019-11-20</td>\n",
       "      <td>Wednesday</td>\n",
       "      <td>395.60</td>\n",
       "    </tr>\n",
       "    <tr>\n",
       "      <th>1</th>\n",
       "      <td>395.60</td>\n",
       "      <td>2019</td>\n",
       "      <td>11</td>\n",
       "      <td>20</td>\n",
       "      <td>2</td>\n",
       "      <td>12</td>\n",
       "      <td>180.30</td>\n",
       "      <td>395.60</td>\n",
       "      <td>2019-11-20</td>\n",
       "      <td>Wednesday</td>\n",
       "      <td>395.60</td>\n",
       "    </tr>\n",
       "    <tr>\n",
       "      <th>2</th>\n",
       "      <td>395.60</td>\n",
       "      <td>2019</td>\n",
       "      <td>11</td>\n",
       "      <td>20</td>\n",
       "      <td>3</td>\n",
       "      <td>12</td>\n",
       "      <td>180.30</td>\n",
       "      <td>395.60</td>\n",
       "      <td>2019-11-20</td>\n",
       "      <td>Wednesday</td>\n",
       "      <td>395.60</td>\n",
       "    </tr>\n",
       "    <tr>\n",
       "      <th>3</th>\n",
       "      <td>395.60</td>\n",
       "      <td>2019</td>\n",
       "      <td>11</td>\n",
       "      <td>20</td>\n",
       "      <td>4</td>\n",
       "      <td>12</td>\n",
       "      <td>180.30</td>\n",
       "      <td>395.60</td>\n",
       "      <td>2019-11-20</td>\n",
       "      <td>Wednesday</td>\n",
       "      <td>395.60</td>\n",
       "    </tr>\n",
       "    <tr>\n",
       "      <th>4</th>\n",
       "      <td>395.60</td>\n",
       "      <td>2019</td>\n",
       "      <td>11</td>\n",
       "      <td>20</td>\n",
       "      <td>5</td>\n",
       "      <td>1</td>\n",
       "      <td>1.13</td>\n",
       "      <td>50.00</td>\n",
       "      <td>2019-11-20</td>\n",
       "      <td>Wednesday</td>\n",
       "      <td>50.00</td>\n",
       "    </tr>\n",
       "  </tbody>\n",
       "</table>\n",
       "</div>"
      ],
      "text/plain": [
       "   Pot_max  Year  Month  Day  Period  Block  Price  Energy       Date  \\\n",
       "0   395.60  2019     11   20       1     12 180.30  395.60 2019-11-20   \n",
       "1   395.60  2019     11   20       2     12 180.30  395.60 2019-11-20   \n",
       "2   395.60  2019     11   20       3     12 180.30  395.60 2019-11-20   \n",
       "3   395.60  2019     11   20       4     12 180.30  395.60 2019-11-20   \n",
       "4   395.60  2019     11   20       5      1   1.13   50.00 2019-11-20   \n",
       "\n",
       "     Weekday  Energy_tot  \n",
       "0  Wednesday      395.60  \n",
       "1  Wednesday      395.60  \n",
       "2  Wednesday      395.60  \n",
       "3  Wednesday      395.60  \n",
       "4  Wednesday       50.00  "
      ]
     },
     "execution_count": 16,
     "metadata": {},
     "output_type": "execute_result"
    }
   ],
   "source": [
    "df_curve.head()"
   ]
  },
  {
   "cell_type": "code",
   "execution_count": null,
   "metadata": {},
   "outputs": [],
   "source": []
  },
  {
   "cell_type": "code",
   "execution_count": 17,
   "metadata": {
    "scrolled": true
   },
   "outputs": [
    {
     "data": {
      "text/plain": [
       "69.17"
      ]
     },
     "execution_count": 17,
     "metadata": {},
     "output_type": "execute_result"
    }
   ],
   "source": [
    "#Checkings to be moved to other places in the document\n",
    "#Second Maximum Price (not considering the maximum of 180.3€)\n",
    "df_curve[df_curve['Price']!=df_curve['Price'].max()]['Price'].max()"
   ]
  },
  {
   "cell_type": "code",
   "execution_count": 18,
   "metadata": {},
   "outputs": [
    {
     "data": {
      "text/html": [
       "<div>\n",
       "<style scoped>\n",
       "    .dataframe tbody tr th:only-of-type {\n",
       "        vertical-align: middle;\n",
       "    }\n",
       "\n",
       "    .dataframe tbody tr th {\n",
       "        vertical-align: top;\n",
       "    }\n",
       "\n",
       "    .dataframe thead th {\n",
       "        text-align: right;\n",
       "    }\n",
       "</style>\n",
       "<table border=\"1\" class=\"dataframe\">\n",
       "  <thead>\n",
       "    <tr style=\"text-align: right;\">\n",
       "      <th></th>\n",
       "      <th>Pot_max</th>\n",
       "      <th>Year</th>\n",
       "      <th>Month</th>\n",
       "      <th>Day</th>\n",
       "      <th>Period</th>\n",
       "      <th>Block</th>\n",
       "      <th>Price</th>\n",
       "      <th>Energy</th>\n",
       "      <th>Date</th>\n",
       "      <th>Weekday</th>\n",
       "      <th>Energy_tot</th>\n",
       "    </tr>\n",
       "  </thead>\n",
       "  <tbody>\n",
       "    <tr>\n",
       "      <th>26</th>\n",
       "      <td>395.60</td>\n",
       "      <td>2019</td>\n",
       "      <td>11</td>\n",
       "      <td>20</td>\n",
       "      <td>10</td>\n",
       "      <td>11</td>\n",
       "      <td>69.17</td>\n",
       "      <td>21.00</td>\n",
       "      <td>2019-11-20</td>\n",
       "      <td>Wednesday</td>\n",
       "      <td>360.30</td>\n",
       "    </tr>\n",
       "    <tr>\n",
       "      <th>38</th>\n",
       "      <td>395.60</td>\n",
       "      <td>2019</td>\n",
       "      <td>11</td>\n",
       "      <td>20</td>\n",
       "      <td>11</td>\n",
       "      <td>11</td>\n",
       "      <td>69.17</td>\n",
       "      <td>21.00</td>\n",
       "      <td>2019-11-20</td>\n",
       "      <td>Wednesday</td>\n",
       "      <td>360.30</td>\n",
       "    </tr>\n",
       "    <tr>\n",
       "      <th>50</th>\n",
       "      <td>395.60</td>\n",
       "      <td>2019</td>\n",
       "      <td>11</td>\n",
       "      <td>20</td>\n",
       "      <td>12</td>\n",
       "      <td>11</td>\n",
       "      <td>69.17</td>\n",
       "      <td>21.00</td>\n",
       "      <td>2019-11-20</td>\n",
       "      <td>Wednesday</td>\n",
       "      <td>360.30</td>\n",
       "    </tr>\n",
       "    <tr>\n",
       "      <th>62</th>\n",
       "      <td>395.60</td>\n",
       "      <td>2019</td>\n",
       "      <td>11</td>\n",
       "      <td>20</td>\n",
       "      <td>13</td>\n",
       "      <td>11</td>\n",
       "      <td>69.17</td>\n",
       "      <td>21.00</td>\n",
       "      <td>2019-11-20</td>\n",
       "      <td>Wednesday</td>\n",
       "      <td>360.30</td>\n",
       "    </tr>\n",
       "    <tr>\n",
       "      <th>74</th>\n",
       "      <td>395.60</td>\n",
       "      <td>2019</td>\n",
       "      <td>11</td>\n",
       "      <td>20</td>\n",
       "      <td>14</td>\n",
       "      <td>11</td>\n",
       "      <td>69.17</td>\n",
       "      <td>21.00</td>\n",
       "      <td>2019-11-20</td>\n",
       "      <td>Wednesday</td>\n",
       "      <td>360.30</td>\n",
       "    </tr>\n",
       "    <tr>\n",
       "      <th>86</th>\n",
       "      <td>395.60</td>\n",
       "      <td>2019</td>\n",
       "      <td>11</td>\n",
       "      <td>20</td>\n",
       "      <td>15</td>\n",
       "      <td>11</td>\n",
       "      <td>69.17</td>\n",
       "      <td>21.00</td>\n",
       "      <td>2019-11-20</td>\n",
       "      <td>Wednesday</td>\n",
       "      <td>360.30</td>\n",
       "    </tr>\n",
       "    <tr>\n",
       "      <th>98</th>\n",
       "      <td>395.60</td>\n",
       "      <td>2019</td>\n",
       "      <td>11</td>\n",
       "      <td>20</td>\n",
       "      <td>16</td>\n",
       "      <td>11</td>\n",
       "      <td>69.17</td>\n",
       "      <td>21.00</td>\n",
       "      <td>2019-11-20</td>\n",
       "      <td>Wednesday</td>\n",
       "      <td>360.30</td>\n",
       "    </tr>\n",
       "    <tr>\n",
       "      <th>110</th>\n",
       "      <td>395.60</td>\n",
       "      <td>2019</td>\n",
       "      <td>11</td>\n",
       "      <td>20</td>\n",
       "      <td>17</td>\n",
       "      <td>11</td>\n",
       "      <td>69.17</td>\n",
       "      <td>21.00</td>\n",
       "      <td>2019-11-20</td>\n",
       "      <td>Wednesday</td>\n",
       "      <td>360.30</td>\n",
       "    </tr>\n",
       "    <tr>\n",
       "      <th>122</th>\n",
       "      <td>395.60</td>\n",
       "      <td>2019</td>\n",
       "      <td>11</td>\n",
       "      <td>20</td>\n",
       "      <td>18</td>\n",
       "      <td>11</td>\n",
       "      <td>69.17</td>\n",
       "      <td>21.00</td>\n",
       "      <td>2019-11-20</td>\n",
       "      <td>Wednesday</td>\n",
       "      <td>360.30</td>\n",
       "    </tr>\n",
       "    <tr>\n",
       "      <th>134</th>\n",
       "      <td>395.60</td>\n",
       "      <td>2019</td>\n",
       "      <td>11</td>\n",
       "      <td>20</td>\n",
       "      <td>19</td>\n",
       "      <td>11</td>\n",
       "      <td>69.17</td>\n",
       "      <td>21.00</td>\n",
       "      <td>2019-11-20</td>\n",
       "      <td>Wednesday</td>\n",
       "      <td>360.30</td>\n",
       "    </tr>\n",
       "    <tr>\n",
       "      <th>146</th>\n",
       "      <td>395.60</td>\n",
       "      <td>2019</td>\n",
       "      <td>11</td>\n",
       "      <td>20</td>\n",
       "      <td>20</td>\n",
       "      <td>11</td>\n",
       "      <td>69.17</td>\n",
       "      <td>21.00</td>\n",
       "      <td>2019-11-20</td>\n",
       "      <td>Wednesday</td>\n",
       "      <td>360.30</td>\n",
       "    </tr>\n",
       "    <tr>\n",
       "      <th>158</th>\n",
       "      <td>395.60</td>\n",
       "      <td>2019</td>\n",
       "      <td>11</td>\n",
       "      <td>20</td>\n",
       "      <td>21</td>\n",
       "      <td>11</td>\n",
       "      <td>69.17</td>\n",
       "      <td>21.00</td>\n",
       "      <td>2019-11-20</td>\n",
       "      <td>Wednesday</td>\n",
       "      <td>360.30</td>\n",
       "    </tr>\n",
       "    <tr>\n",
       "      <th>170</th>\n",
       "      <td>395.60</td>\n",
       "      <td>2019</td>\n",
       "      <td>11</td>\n",
       "      <td>20</td>\n",
       "      <td>22</td>\n",
       "      <td>11</td>\n",
       "      <td>69.17</td>\n",
       "      <td>21.00</td>\n",
       "      <td>2019-11-20</td>\n",
       "      <td>Wednesday</td>\n",
       "      <td>360.30</td>\n",
       "    </tr>\n",
       "    <tr>\n",
       "      <th>182</th>\n",
       "      <td>395.60</td>\n",
       "      <td>2019</td>\n",
       "      <td>11</td>\n",
       "      <td>20</td>\n",
       "      <td>23</td>\n",
       "      <td>11</td>\n",
       "      <td>69.17</td>\n",
       "      <td>21.00</td>\n",
       "      <td>2019-11-20</td>\n",
       "      <td>Wednesday</td>\n",
       "      <td>360.30</td>\n",
       "    </tr>\n",
       "    <tr>\n",
       "      <th>204</th>\n",
       "      <td>395.60</td>\n",
       "      <td>2019</td>\n",
       "      <td>11</td>\n",
       "      <td>21</td>\n",
       "      <td>8</td>\n",
       "      <td>11</td>\n",
       "      <td>69.17</td>\n",
       "      <td>5.70</td>\n",
       "      <td>2019-11-21</td>\n",
       "      <td>Thursday</td>\n",
       "      <td>345.00</td>\n",
       "    </tr>\n",
       "    <tr>\n",
       "      <th>216</th>\n",
       "      <td>395.60</td>\n",
       "      <td>2019</td>\n",
       "      <td>11</td>\n",
       "      <td>21</td>\n",
       "      <td>9</td>\n",
       "      <td>11</td>\n",
       "      <td>69.17</td>\n",
       "      <td>21.00</td>\n",
       "      <td>2019-11-21</td>\n",
       "      <td>Thursday</td>\n",
       "      <td>360.30</td>\n",
       "    </tr>\n",
       "    <tr>\n",
       "      <th>228</th>\n",
       "      <td>395.60</td>\n",
       "      <td>2019</td>\n",
       "      <td>11</td>\n",
       "      <td>21</td>\n",
       "      <td>10</td>\n",
       "      <td>11</td>\n",
       "      <td>69.17</td>\n",
       "      <td>21.00</td>\n",
       "      <td>2019-11-21</td>\n",
       "      <td>Thursday</td>\n",
       "      <td>360.30</td>\n",
       "    </tr>\n",
       "    <tr>\n",
       "      <th>240</th>\n",
       "      <td>395.60</td>\n",
       "      <td>2019</td>\n",
       "      <td>11</td>\n",
       "      <td>21</td>\n",
       "      <td>11</td>\n",
       "      <td>11</td>\n",
       "      <td>69.17</td>\n",
       "      <td>21.00</td>\n",
       "      <td>2019-11-21</td>\n",
       "      <td>Thursday</td>\n",
       "      <td>360.30</td>\n",
       "    </tr>\n",
       "    <tr>\n",
       "      <th>252</th>\n",
       "      <td>395.60</td>\n",
       "      <td>2019</td>\n",
       "      <td>11</td>\n",
       "      <td>21</td>\n",
       "      <td>12</td>\n",
       "      <td>11</td>\n",
       "      <td>69.17</td>\n",
       "      <td>21.00</td>\n",
       "      <td>2019-11-21</td>\n",
       "      <td>Thursday</td>\n",
       "      <td>360.30</td>\n",
       "    </tr>\n",
       "    <tr>\n",
       "      <th>264</th>\n",
       "      <td>395.60</td>\n",
       "      <td>2019</td>\n",
       "      <td>11</td>\n",
       "      <td>21</td>\n",
       "      <td>13</td>\n",
       "      <td>11</td>\n",
       "      <td>69.17</td>\n",
       "      <td>21.00</td>\n",
       "      <td>2019-11-21</td>\n",
       "      <td>Thursday</td>\n",
       "      <td>360.30</td>\n",
       "    </tr>\n",
       "    <tr>\n",
       "      <th>276</th>\n",
       "      <td>395.60</td>\n",
       "      <td>2019</td>\n",
       "      <td>11</td>\n",
       "      <td>21</td>\n",
       "      <td>14</td>\n",
       "      <td>11</td>\n",
       "      <td>69.17</td>\n",
       "      <td>21.00</td>\n",
       "      <td>2019-11-21</td>\n",
       "      <td>Thursday</td>\n",
       "      <td>360.30</td>\n",
       "    </tr>\n",
       "    <tr>\n",
       "      <th>288</th>\n",
       "      <td>395.60</td>\n",
       "      <td>2019</td>\n",
       "      <td>11</td>\n",
       "      <td>21</td>\n",
       "      <td>15</td>\n",
       "      <td>11</td>\n",
       "      <td>69.17</td>\n",
       "      <td>21.00</td>\n",
       "      <td>2019-11-21</td>\n",
       "      <td>Thursday</td>\n",
       "      <td>360.30</td>\n",
       "    </tr>\n",
       "    <tr>\n",
       "      <th>300</th>\n",
       "      <td>395.60</td>\n",
       "      <td>2019</td>\n",
       "      <td>11</td>\n",
       "      <td>21</td>\n",
       "      <td>16</td>\n",
       "      <td>11</td>\n",
       "      <td>69.17</td>\n",
       "      <td>21.00</td>\n",
       "      <td>2019-11-21</td>\n",
       "      <td>Thursday</td>\n",
       "      <td>360.30</td>\n",
       "    </tr>\n",
       "    <tr>\n",
       "      <th>312</th>\n",
       "      <td>395.60</td>\n",
       "      <td>2019</td>\n",
       "      <td>11</td>\n",
       "      <td>21</td>\n",
       "      <td>17</td>\n",
       "      <td>11</td>\n",
       "      <td>69.17</td>\n",
       "      <td>21.00</td>\n",
       "      <td>2019-11-21</td>\n",
       "      <td>Thursday</td>\n",
       "      <td>360.30</td>\n",
       "    </tr>\n",
       "    <tr>\n",
       "      <th>324</th>\n",
       "      <td>395.60</td>\n",
       "      <td>2019</td>\n",
       "      <td>11</td>\n",
       "      <td>21</td>\n",
       "      <td>18</td>\n",
       "      <td>11</td>\n",
       "      <td>69.17</td>\n",
       "      <td>21.00</td>\n",
       "      <td>2019-11-21</td>\n",
       "      <td>Thursday</td>\n",
       "      <td>360.30</td>\n",
       "    </tr>\n",
       "    <tr>\n",
       "      <th>336</th>\n",
       "      <td>395.60</td>\n",
       "      <td>2019</td>\n",
       "      <td>11</td>\n",
       "      <td>21</td>\n",
       "      <td>19</td>\n",
       "      <td>11</td>\n",
       "      <td>69.17</td>\n",
       "      <td>21.00</td>\n",
       "      <td>2019-11-21</td>\n",
       "      <td>Thursday</td>\n",
       "      <td>360.30</td>\n",
       "    </tr>\n",
       "    <tr>\n",
       "      <th>348</th>\n",
       "      <td>395.60</td>\n",
       "      <td>2019</td>\n",
       "      <td>11</td>\n",
       "      <td>21</td>\n",
       "      <td>20</td>\n",
       "      <td>11</td>\n",
       "      <td>69.17</td>\n",
       "      <td>21.00</td>\n",
       "      <td>2019-11-21</td>\n",
       "      <td>Thursday</td>\n",
       "      <td>360.30</td>\n",
       "    </tr>\n",
       "    <tr>\n",
       "      <th>360</th>\n",
       "      <td>395.60</td>\n",
       "      <td>2019</td>\n",
       "      <td>11</td>\n",
       "      <td>21</td>\n",
       "      <td>21</td>\n",
       "      <td>11</td>\n",
       "      <td>69.17</td>\n",
       "      <td>21.00</td>\n",
       "      <td>2019-11-21</td>\n",
       "      <td>Thursday</td>\n",
       "      <td>360.30</td>\n",
       "    </tr>\n",
       "    <tr>\n",
       "      <th>372</th>\n",
       "      <td>395.60</td>\n",
       "      <td>2019</td>\n",
       "      <td>11</td>\n",
       "      <td>21</td>\n",
       "      <td>22</td>\n",
       "      <td>11</td>\n",
       "      <td>69.17</td>\n",
       "      <td>21.00</td>\n",
       "      <td>2019-11-21</td>\n",
       "      <td>Thursday</td>\n",
       "      <td>360.30</td>\n",
       "    </tr>\n",
       "    <tr>\n",
       "      <th>384</th>\n",
       "      <td>395.60</td>\n",
       "      <td>2019</td>\n",
       "      <td>11</td>\n",
       "      <td>21</td>\n",
       "      <td>23</td>\n",
       "      <td>11</td>\n",
       "      <td>69.17</td>\n",
       "      <td>21.00</td>\n",
       "      <td>2019-11-21</td>\n",
       "      <td>Thursday</td>\n",
       "      <td>360.30</td>\n",
       "    </tr>\n",
       "  </tbody>\n",
       "</table>\n",
       "</div>"
      ],
      "text/plain": [
       "     Pot_max  Year  Month  Day  Period  Block  Price  Energy       Date  \\\n",
       "26    395.60  2019     11   20      10     11  69.17   21.00 2019-11-20   \n",
       "38    395.60  2019     11   20      11     11  69.17   21.00 2019-11-20   \n",
       "50    395.60  2019     11   20      12     11  69.17   21.00 2019-11-20   \n",
       "62    395.60  2019     11   20      13     11  69.17   21.00 2019-11-20   \n",
       "74    395.60  2019     11   20      14     11  69.17   21.00 2019-11-20   \n",
       "86    395.60  2019     11   20      15     11  69.17   21.00 2019-11-20   \n",
       "98    395.60  2019     11   20      16     11  69.17   21.00 2019-11-20   \n",
       "110   395.60  2019     11   20      17     11  69.17   21.00 2019-11-20   \n",
       "122   395.60  2019     11   20      18     11  69.17   21.00 2019-11-20   \n",
       "134   395.60  2019     11   20      19     11  69.17   21.00 2019-11-20   \n",
       "146   395.60  2019     11   20      20     11  69.17   21.00 2019-11-20   \n",
       "158   395.60  2019     11   20      21     11  69.17   21.00 2019-11-20   \n",
       "170   395.60  2019     11   20      22     11  69.17   21.00 2019-11-20   \n",
       "182   395.60  2019     11   20      23     11  69.17   21.00 2019-11-20   \n",
       "204   395.60  2019     11   21       8     11  69.17    5.70 2019-11-21   \n",
       "216   395.60  2019     11   21       9     11  69.17   21.00 2019-11-21   \n",
       "228   395.60  2019     11   21      10     11  69.17   21.00 2019-11-21   \n",
       "240   395.60  2019     11   21      11     11  69.17   21.00 2019-11-21   \n",
       "252   395.60  2019     11   21      12     11  69.17   21.00 2019-11-21   \n",
       "264   395.60  2019     11   21      13     11  69.17   21.00 2019-11-21   \n",
       "276   395.60  2019     11   21      14     11  69.17   21.00 2019-11-21   \n",
       "288   395.60  2019     11   21      15     11  69.17   21.00 2019-11-21   \n",
       "300   395.60  2019     11   21      16     11  69.17   21.00 2019-11-21   \n",
       "312   395.60  2019     11   21      17     11  69.17   21.00 2019-11-21   \n",
       "324   395.60  2019     11   21      18     11  69.17   21.00 2019-11-21   \n",
       "336   395.60  2019     11   21      19     11  69.17   21.00 2019-11-21   \n",
       "348   395.60  2019     11   21      20     11  69.17   21.00 2019-11-21   \n",
       "360   395.60  2019     11   21      21     11  69.17   21.00 2019-11-21   \n",
       "372   395.60  2019     11   21      22     11  69.17   21.00 2019-11-21   \n",
       "384   395.60  2019     11   21      23     11  69.17   21.00 2019-11-21   \n",
       "\n",
       "       Weekday  Energy_tot  \n",
       "26   Wednesday      360.30  \n",
       "38   Wednesday      360.30  \n",
       "50   Wednesday      360.30  \n",
       "62   Wednesday      360.30  \n",
       "74   Wednesday      360.30  \n",
       "86   Wednesday      360.30  \n",
       "98   Wednesday      360.30  \n",
       "110  Wednesday      360.30  \n",
       "122  Wednesday      360.30  \n",
       "134  Wednesday      360.30  \n",
       "146  Wednesday      360.30  \n",
       "158  Wednesday      360.30  \n",
       "170  Wednesday      360.30  \n",
       "182  Wednesday      360.30  \n",
       "204   Thursday      345.00  \n",
       "216   Thursday      360.30  \n",
       "228   Thursday      360.30  \n",
       "240   Thursday      360.30  \n",
       "252   Thursday      360.30  \n",
       "264   Thursday      360.30  \n",
       "276   Thursday      360.30  \n",
       "288   Thursday      360.30  \n",
       "300   Thursday      360.30  \n",
       "312   Thursday      360.30  \n",
       "324   Thursday      360.30  \n",
       "336   Thursday      360.30  \n",
       "348   Thursday      360.30  \n",
       "360   Thursday      360.30  \n",
       "372   Thursday      360.30  \n",
       "384   Thursday      360.30  "
      ]
     },
     "execution_count": 18,
     "metadata": {},
     "output_type": "execute_result"
    }
   ],
   "source": [
    "df_curve[df_curve['Price']==df_curve[df_curve['Price']!=df_curve['Price'].max()]['Price'].max()]"
   ]
  },
  {
   "cell_type": "code",
   "execution_count": 19,
   "metadata": {},
   "outputs": [
    {
     "data": {
      "text/plain": [
       "24.52"
      ]
     },
     "execution_count": 19,
     "metadata": {},
     "output_type": "execute_result"
    }
   ],
   "source": [
    "#Second Minimum Price (not considering the maximum of 1.13€)\n",
    "df_curve[df_curve['Price']!=df_curve['Price'].min()]['Price'].min()"
   ]
  },
  {
   "cell_type": "code",
   "execution_count": null,
   "metadata": {
    "scrolled": true
   },
   "outputs": [],
   "source": []
  },
  {
   "cell_type": "code",
   "execution_count": 20,
   "metadata": {},
   "outputs": [],
   "source": [
    "#Storing the DataFrame locally\n",
    "#df_curve.to_csv('/home/dsc/Repos/TFM/PALOS1_DataFrame.csv')"
   ]
  },
  {
   "cell_type": "markdown",
   "metadata": {},
   "source": [
    "### 2.2. EXPLORING DATA INFORMATION"
   ]
  },
  {
   "cell_type": "code",
   "execution_count": 21,
   "metadata": {},
   "outputs": [
    {
     "name": "stdout",
     "output_type": "stream",
     "text": [
      "No NaN in df\n"
     ]
    }
   ],
   "source": [
    "#Searching for NaN\n",
    "\n",
    "if df_unit.shape[0] == df_unit.dropna().shape[0]:\n",
    "    print('No NaN in df')"
   ]
  },
  {
   "cell_type": "code",
   "execution_count": null,
   "metadata": {},
   "outputs": [],
   "source": []
  },
  {
   "cell_type": "code",
   "execution_count": 22,
   "metadata": {},
   "outputs": [
    {
     "data": {
      "text/html": [
       "<div>\n",
       "<style scoped>\n",
       "    .dataframe tbody tr th:only-of-type {\n",
       "        vertical-align: middle;\n",
       "    }\n",
       "\n",
       "    .dataframe tbody tr th {\n",
       "        vertical-align: top;\n",
       "    }\n",
       "\n",
       "    .dataframe thead th {\n",
       "        text-align: right;\n",
       "    }\n",
       "</style>\n",
       "<table border=\"1\" class=\"dataframe\">\n",
       "  <thead>\n",
       "    <tr style=\"text-align: right;\">\n",
       "      <th></th>\n",
       "      <th>Pot_max</th>\n",
       "      <th>Year</th>\n",
       "      <th>Month</th>\n",
       "      <th>Day</th>\n",
       "      <th>Period</th>\n",
       "      <th>Block</th>\n",
       "      <th>Price</th>\n",
       "      <th>Energy</th>\n",
       "      <th>Date</th>\n",
       "      <th>Weekday</th>\n",
       "      <th>Energy_tot</th>\n",
       "    </tr>\n",
       "  </thead>\n",
       "  <tbody>\n",
       "    <tr>\n",
       "      <th>67844</th>\n",
       "      <td>395.60</td>\n",
       "      <td>2020</td>\n",
       "      <td>10</td>\n",
       "      <td>31</td>\n",
       "      <td>1</td>\n",
       "      <td>12</td>\n",
       "      <td>180.30</td>\n",
       "      <td>395.60</td>\n",
       "      <td>2020-10-31</td>\n",
       "      <td>Saturday</td>\n",
       "      <td>395.60</td>\n",
       "    </tr>\n",
       "  </tbody>\n",
       "</table>\n",
       "</div>"
      ],
      "text/plain": [
       "       Pot_max  Year  Month  Day  Period  Block  Price  Energy       Date  \\\n",
       "67844   395.60  2020     10   31       1     12 180.30  395.60 2020-10-31   \n",
       "\n",
       "        Weekday  Energy_tot  \n",
       "67844  Saturday      395.60  "
      ]
     },
     "execution_count": 22,
     "metadata": {},
     "output_type": "execute_result"
    }
   ],
   "source": [
    "data_date_hour_info(df_curve, '2020-10-31', 1)"
   ]
  },
  {
   "cell_type": "code",
   "execution_count": null,
   "metadata": {},
   "outputs": [],
   "source": []
  },
  {
   "cell_type": "code",
   "execution_count": 27,
   "metadata": {
    "scrolled": true
   },
   "outputs": [
    {
     "data": {
      "text/html": [
       "<div>\n",
       "<style scoped>\n",
       "    .dataframe tbody tr th:only-of-type {\n",
       "        vertical-align: middle;\n",
       "    }\n",
       "\n",
       "    .dataframe tbody tr th {\n",
       "        vertical-align: top;\n",
       "    }\n",
       "\n",
       "    .dataframe thead th {\n",
       "        text-align: right;\n",
       "    }\n",
       "</style>\n",
       "<table border=\"1\" class=\"dataframe\">\n",
       "  <thead>\n",
       "    <tr style=\"text-align: right;\">\n",
       "      <th></th>\n",
       "      <th>Pot_max</th>\n",
       "      <th>Year</th>\n",
       "      <th>Month</th>\n",
       "      <th>Day</th>\n",
       "      <th>Period</th>\n",
       "      <th>Block</th>\n",
       "      <th>Price</th>\n",
       "      <th>Energy</th>\n",
       "      <th>Date</th>\n",
       "      <th>Weekday</th>\n",
       "      <th>Energy_tot</th>\n",
       "    </tr>\n",
       "  </thead>\n",
       "  <tbody>\n",
       "    <tr>\n",
       "      <th>68020</th>\n",
       "      <td>395.60</td>\n",
       "      <td>2020</td>\n",
       "      <td>10</td>\n",
       "      <td>31</td>\n",
       "      <td>23</td>\n",
       "      <td>1</td>\n",
       "      <td>1.13</td>\n",
       "      <td>150.30</td>\n",
       "      <td>2020-10-31</td>\n",
       "      <td>Saturday</td>\n",
       "      <td>150.30</td>\n",
       "    </tr>\n",
       "    <tr>\n",
       "      <th>68021</th>\n",
       "      <td>395.60</td>\n",
       "      <td>2020</td>\n",
       "      <td>10</td>\n",
       "      <td>31</td>\n",
       "      <td>23</td>\n",
       "      <td>2</td>\n",
       "      <td>30.18</td>\n",
       "      <td>21.00</td>\n",
       "      <td>2020-10-31</td>\n",
       "      <td>Saturday</td>\n",
       "      <td>171.30</td>\n",
       "    </tr>\n",
       "    <tr>\n",
       "      <th>68022</th>\n",
       "      <td>395.60</td>\n",
       "      <td>2020</td>\n",
       "      <td>10</td>\n",
       "      <td>31</td>\n",
       "      <td>23</td>\n",
       "      <td>3</td>\n",
       "      <td>30.80</td>\n",
       "      <td>21.00</td>\n",
       "      <td>2020-10-31</td>\n",
       "      <td>Saturday</td>\n",
       "      <td>192.30</td>\n",
       "    </tr>\n",
       "    <tr>\n",
       "      <th>68023</th>\n",
       "      <td>395.60</td>\n",
       "      <td>2020</td>\n",
       "      <td>10</td>\n",
       "      <td>31</td>\n",
       "      <td>23</td>\n",
       "      <td>4</td>\n",
       "      <td>31.42</td>\n",
       "      <td>21.00</td>\n",
       "      <td>2020-10-31</td>\n",
       "      <td>Saturday</td>\n",
       "      <td>213.30</td>\n",
       "    </tr>\n",
       "    <tr>\n",
       "      <th>68024</th>\n",
       "      <td>395.60</td>\n",
       "      <td>2020</td>\n",
       "      <td>10</td>\n",
       "      <td>31</td>\n",
       "      <td>23</td>\n",
       "      <td>5</td>\n",
       "      <td>32.04</td>\n",
       "      <td>21.00</td>\n",
       "      <td>2020-10-31</td>\n",
       "      <td>Saturday</td>\n",
       "      <td>234.30</td>\n",
       "    </tr>\n",
       "    <tr>\n",
       "      <th>68025</th>\n",
       "      <td>395.60</td>\n",
       "      <td>2020</td>\n",
       "      <td>10</td>\n",
       "      <td>31</td>\n",
       "      <td>23</td>\n",
       "      <td>6</td>\n",
       "      <td>33.46</td>\n",
       "      <td>21.00</td>\n",
       "      <td>2020-10-31</td>\n",
       "      <td>Saturday</td>\n",
       "      <td>255.30</td>\n",
       "    </tr>\n",
       "    <tr>\n",
       "      <th>68026</th>\n",
       "      <td>395.60</td>\n",
       "      <td>2020</td>\n",
       "      <td>10</td>\n",
       "      <td>31</td>\n",
       "      <td>23</td>\n",
       "      <td>7</td>\n",
       "      <td>34.08</td>\n",
       "      <td>21.00</td>\n",
       "      <td>2020-10-31</td>\n",
       "      <td>Saturday</td>\n",
       "      <td>276.30</td>\n",
       "    </tr>\n",
       "    <tr>\n",
       "      <th>68027</th>\n",
       "      <td>395.60</td>\n",
       "      <td>2020</td>\n",
       "      <td>10</td>\n",
       "      <td>31</td>\n",
       "      <td>23</td>\n",
       "      <td>8</td>\n",
       "      <td>34.70</td>\n",
       "      <td>21.00</td>\n",
       "      <td>2020-10-31</td>\n",
       "      <td>Saturday</td>\n",
       "      <td>297.30</td>\n",
       "    </tr>\n",
       "    <tr>\n",
       "      <th>68028</th>\n",
       "      <td>395.60</td>\n",
       "      <td>2020</td>\n",
       "      <td>10</td>\n",
       "      <td>31</td>\n",
       "      <td>23</td>\n",
       "      <td>9</td>\n",
       "      <td>35.82</td>\n",
       "      <td>21.00</td>\n",
       "      <td>2020-10-31</td>\n",
       "      <td>Saturday</td>\n",
       "      <td>318.30</td>\n",
       "    </tr>\n",
       "    <tr>\n",
       "      <th>68029</th>\n",
       "      <td>395.60</td>\n",
       "      <td>2020</td>\n",
       "      <td>10</td>\n",
       "      <td>31</td>\n",
       "      <td>23</td>\n",
       "      <td>10</td>\n",
       "      <td>36.94</td>\n",
       "      <td>21.00</td>\n",
       "      <td>2020-10-31</td>\n",
       "      <td>Saturday</td>\n",
       "      <td>339.30</td>\n",
       "    </tr>\n",
       "    <tr>\n",
       "      <th>68030</th>\n",
       "      <td>395.60</td>\n",
       "      <td>2020</td>\n",
       "      <td>10</td>\n",
       "      <td>31</td>\n",
       "      <td>23</td>\n",
       "      <td>11</td>\n",
       "      <td>38.56</td>\n",
       "      <td>20.70</td>\n",
       "      <td>2020-10-31</td>\n",
       "      <td>Saturday</td>\n",
       "      <td>360.00</td>\n",
       "    </tr>\n",
       "    <tr>\n",
       "      <th>68031</th>\n",
       "      <td>395.60</td>\n",
       "      <td>2020</td>\n",
       "      <td>10</td>\n",
       "      <td>31</td>\n",
       "      <td>23</td>\n",
       "      <td>12</td>\n",
       "      <td>180.30</td>\n",
       "      <td>35.60</td>\n",
       "      <td>2020-10-31</td>\n",
       "      <td>Saturday</td>\n",
       "      <td>395.60</td>\n",
       "    </tr>\n",
       "  </tbody>\n",
       "</table>\n",
       "</div>"
      ],
      "text/plain": [
       "       Pot_max  Year  Month  Day  Period  Block  Price  Energy       Date  \\\n",
       "68020   395.60  2020     10   31      23      1   1.13  150.30 2020-10-31   \n",
       "68021   395.60  2020     10   31      23      2  30.18   21.00 2020-10-31   \n",
       "68022   395.60  2020     10   31      23      3  30.80   21.00 2020-10-31   \n",
       "68023   395.60  2020     10   31      23      4  31.42   21.00 2020-10-31   \n",
       "68024   395.60  2020     10   31      23      5  32.04   21.00 2020-10-31   \n",
       "68025   395.60  2020     10   31      23      6  33.46   21.00 2020-10-31   \n",
       "68026   395.60  2020     10   31      23      7  34.08   21.00 2020-10-31   \n",
       "68027   395.60  2020     10   31      23      8  34.70   21.00 2020-10-31   \n",
       "68028   395.60  2020     10   31      23      9  35.82   21.00 2020-10-31   \n",
       "68029   395.60  2020     10   31      23     10  36.94   21.00 2020-10-31   \n",
       "68030   395.60  2020     10   31      23     11  38.56   20.70 2020-10-31   \n",
       "68031   395.60  2020     10   31      23     12 180.30   35.60 2020-10-31   \n",
       "\n",
       "        Weekday  Energy_tot  \n",
       "68020  Saturday      150.30  \n",
       "68021  Saturday      171.30  \n",
       "68022  Saturday      192.30  \n",
       "68023  Saturday      213.30  \n",
       "68024  Saturday      234.30  \n",
       "68025  Saturday      255.30  \n",
       "68026  Saturday      276.30  \n",
       "68027  Saturday      297.30  \n",
       "68028  Saturday      318.30  \n",
       "68029  Saturday      339.30  \n",
       "68030  Saturday      360.00  \n",
       "68031  Saturday      395.60  "
      ]
     },
     "execution_count": 27,
     "metadata": {},
     "output_type": "execute_result"
    }
   ],
   "source": [
    "data_date_hour_info(df_curve,'2020-10-31',23)"
   ]
  },
  {
   "cell_type": "code",
   "execution_count": 28,
   "metadata": {
    "scrolled": true
   },
   "outputs": [
    {
     "name": "stderr",
     "output_type": "stream",
     "text": [
      "<ipython-input-28-e7293a7ddee3>:4: DeprecationWarning: elementwise comparison failed; this will raise an error in the future.\n",
      "  np.array(data_date_hour_info(df_curve, '2020-10-31',24)['Price']) == np.array(data_date_hour_info(df_curve, '2020-10-31',23)['Price'])\n"
     ]
    },
    {
     "data": {
      "text/plain": [
       "False"
      ]
     },
     "execution_count": 28,
     "metadata": {},
     "output_type": "execute_result"
    }
   ],
   "source": [
    "#Checking that hour 23 and 24 are exactly the same for one day\n",
    "#A GENERAL CHECKING TO BE INCLUDED\n",
    "\n",
    "np.array(data_date_hour_info(df_curve, '2020-10-31',24)['Price']) == np.array(data_date_hour_info(df_curve, '2020-10-31',23)['Price'])"
   ]
  },
  {
   "cell_type": "code",
   "execution_count": 29,
   "metadata": {},
   "outputs": [
    {
     "name": "stderr",
     "output_type": "stream",
     "text": [
      "<ipython-input-29-01a74f976ac1>:1: DeprecationWarning: elementwise comparison failed; this will raise an error in the future.\n",
      "  np.array(data_date_hour_info(df_curve, '2020-10-31',24)['Energy']) == np.array(data_date_hour_info(df_curve, '2020-10-31',23)['Energy'])\n"
     ]
    },
    {
     "data": {
      "text/plain": [
       "False"
      ]
     },
     "execution_count": 29,
     "metadata": {},
     "output_type": "execute_result"
    }
   ],
   "source": [
    "np.array(data_date_hour_info(df_curve, '2020-10-31',24)['Energy']) == np.array(data_date_hour_info(df_curve, '2020-10-31',23)['Energy'])"
   ]
  },
  {
   "cell_type": "code",
   "execution_count": 30,
   "metadata": {
    "scrolled": true
   },
   "outputs": [
    {
     "data": {
      "text/html": [
       "<div>\n",
       "<style scoped>\n",
       "    .dataframe tbody tr th:only-of-type {\n",
       "        vertical-align: middle;\n",
       "    }\n",
       "\n",
       "    .dataframe tbody tr th {\n",
       "        vertical-align: top;\n",
       "    }\n",
       "\n",
       "    .dataframe thead th {\n",
       "        text-align: right;\n",
       "    }\n",
       "</style>\n",
       "<table border=\"1\" class=\"dataframe\">\n",
       "  <thead>\n",
       "    <tr style=\"text-align: right;\">\n",
       "      <th></th>\n",
       "      <th>Pot_max</th>\n",
       "      <th>Year</th>\n",
       "      <th>Month</th>\n",
       "      <th>Day</th>\n",
       "      <th>Period</th>\n",
       "      <th>Block</th>\n",
       "      <th>Price</th>\n",
       "      <th>Energy</th>\n",
       "      <th>Date</th>\n",
       "      <th>Weekday</th>\n",
       "      <th>Energy_tot</th>\n",
       "    </tr>\n",
       "  </thead>\n",
       "  <tbody>\n",
       "    <tr>\n",
       "      <th>66565</th>\n",
       "      <td>395.60</td>\n",
       "      <td>2020</td>\n",
       "      <td>10</td>\n",
       "      <td>25</td>\n",
       "      <td>1</td>\n",
       "      <td>12</td>\n",
       "      <td>180.30</td>\n",
       "      <td>395.60</td>\n",
       "      <td>2020-10-25</td>\n",
       "      <td>Sunday</td>\n",
       "      <td>395.60</td>\n",
       "    </tr>\n",
       "  </tbody>\n",
       "</table>\n",
       "</div>"
      ],
      "text/plain": [
       "       Pot_max  Year  Month  Day  Period  Block  Price  Energy       Date  \\\n",
       "66565   395.60  2020     10   25       1     12 180.30  395.60 2020-10-25   \n",
       "\n",
       "      Weekday  Energy_tot  \n",
       "66565  Sunday      395.60  "
      ]
     },
     "execution_count": 30,
     "metadata": {},
     "output_type": "execute_result"
    }
   ],
   "source": [
    "data_date_hour_info(df_curve,'2020-10-25',1)"
   ]
  },
  {
   "cell_type": "code",
   "execution_count": null,
   "metadata": {},
   "outputs": [],
   "source": []
  },
  {
   "cell_type": "code",
   "execution_count": null,
   "metadata": {},
   "outputs": [],
   "source": []
  },
  {
   "cell_type": "code",
   "execution_count": 31,
   "metadata": {},
   "outputs": [],
   "source": [
    "############# CHECKING DATA FROM df_curve  #############################################"
   ]
  },
  {
   "cell_type": "code",
   "execution_count": 32,
   "metadata": {},
   "outputs": [
    {
     "data": {
      "text/plain": [
       "(68034, 11)"
      ]
     },
     "execution_count": 32,
     "metadata": {},
     "output_type": "execute_result"
    }
   ],
   "source": [
    "df_curve.shape"
   ]
  },
  {
   "cell_type": "code",
   "execution_count": 33,
   "metadata": {},
   "outputs": [
    {
     "data": {
      "text/plain": [
       "(8280, 11)"
      ]
     },
     "execution_count": 33,
     "metadata": {},
     "output_type": "execute_result"
    }
   ],
   "source": [
    "df_curve[df_curve['Block']==12].shape"
   ]
  },
  {
   "cell_type": "code",
   "execution_count": 34,
   "metadata": {},
   "outputs": [
    {
     "data": {
      "text/plain": [
       "345.0"
      ]
     },
     "execution_count": 34,
     "metadata": {},
     "output_type": "execute_result"
    }
   ],
   "source": [
    "df_curve[df_curve['Block']==12].shape[0]/24"
   ]
  },
  {
   "cell_type": "code",
   "execution_count": 35,
   "metadata": {},
   "outputs": [],
   "source": [
    "#Something is wrong if the number above is not an integer"
   ]
  },
  {
   "cell_type": "code",
   "execution_count": null,
   "metadata": {},
   "outputs": [],
   "source": []
  },
  {
   "cell_type": "code",
   "execution_count": 36,
   "metadata": {},
   "outputs": [],
   "source": [
    "from datetime import datetime\n",
    "\n",
    "first_day = datetime(df_curve['Date'].min().year,\n",
    "                  df_curve['Date'].min().month,\n",
    "                  df_curve['Date'].min().day)\n",
    "\n",
    "last_day = datetime(df_curve['Date'].max().year,\n",
    "                  df_curve['Date'].max().month,\n",
    "                  df_curve['Date'].max().day)"
   ]
  },
  {
   "cell_type": "code",
   "execution_count": 37,
   "metadata": {},
   "outputs": [
    {
     "data": {
      "text/plain": [
       "2"
      ]
     },
     "execution_count": 37,
     "metadata": {},
     "output_type": "execute_result"
    }
   ],
   "source": [
    "#Checking the number of years\n",
    "num_years = len(df_curve['Year'].value_counts())\n",
    "num_years"
   ]
  },
  {
   "cell_type": "code",
   "execution_count": 38,
   "metadata": {},
   "outputs": [
    {
     "data": {
      "text/plain": [
       "0"
      ]
     },
     "execution_count": 38,
     "metadata": {},
     "output_type": "execute_result"
    }
   ],
   "source": [
    "#Number of missing years in the original data\n",
    "\n",
    "num_years_real = (last_day.year - first_day.year) + 1\n",
    "diff_num_years = num_years_real - num_years\n",
    "diff_num_years"
   ]
  },
  {
   "cell_type": "code",
   "execution_count": 39,
   "metadata": {},
   "outputs": [
    {
     "data": {
      "text/plain": [
       "12"
      ]
     },
     "execution_count": 39,
     "metadata": {},
     "output_type": "execute_result"
    }
   ],
   "source": [
    "#Checking the number of months in the original data\n",
    "\n",
    "num_months = len(df_curve[['Year','Month']].value_counts())\n",
    "num_months"
   ]
  },
  {
   "cell_type": "code",
   "execution_count": 40,
   "metadata": {},
   "outputs": [
    {
     "data": {
      "text/plain": [
       "0"
      ]
     },
     "execution_count": 40,
     "metadata": {},
     "output_type": "execute_result"
    }
   ],
   "source": [
    "#Number of missing months in the original data\n",
    "\n",
    "num_months_real = (last_day.month -first_day.month) + 12*(last_day.year - first_day.year) + 1\n",
    "diff_num_months = num_months_real - num_months\n",
    "diff_num_months"
   ]
  },
  {
   "cell_type": "code",
   "execution_count": null,
   "metadata": {},
   "outputs": [],
   "source": []
  },
  {
   "cell_type": "code",
   "execution_count": 41,
   "metadata": {},
   "outputs": [
    {
     "data": {
      "text/plain": [
       "345"
      ]
     },
     "execution_count": 41,
     "metadata": {},
     "output_type": "execute_result"
    }
   ],
   "source": [
    "#Checking the number of days in the original data\n",
    "\n",
    "num_days = len(df_curve['Date'].value_counts())\n",
    "num_days"
   ]
  },
  {
   "cell_type": "code",
   "execution_count": 42,
   "metadata": {},
   "outputs": [
    {
     "data": {
      "text/plain": [
       "Timestamp('2019-11-20 00:00:00')"
      ]
     },
     "execution_count": 42,
     "metadata": {},
     "output_type": "execute_result"
    }
   ],
   "source": [
    "df_curve['Date'].min()"
   ]
  },
  {
   "cell_type": "code",
   "execution_count": 43,
   "metadata": {},
   "outputs": [
    {
     "data": {
      "text/plain": [
       "Timestamp('2020-10-31 00:00:00')"
      ]
     },
     "execution_count": 43,
     "metadata": {},
     "output_type": "execute_result"
    }
   ],
   "source": [
    "df_curve['Date'].max()"
   ]
  },
  {
   "cell_type": "code",
   "execution_count": 44,
   "metadata": {},
   "outputs": [
    {
     "data": {
      "text/plain": [
       "347"
      ]
     },
     "execution_count": 44,
     "metadata": {},
     "output_type": "execute_result"
    }
   ],
   "source": [
    "num_days_real = (last_day - first_day).days + 1\n",
    "num_days_real"
   ]
  },
  {
   "cell_type": "code",
   "execution_count": 45,
   "metadata": {},
   "outputs": [
    {
     "data": {
      "text/plain": [
       "2"
      ]
     },
     "execution_count": 45,
     "metadata": {},
     "output_type": "execute_result"
    }
   ],
   "source": [
    "#Number of missing days in original data\n",
    "diff_num_days = num_days_real - num_days\n",
    "diff_num_days"
   ]
  },
  {
   "cell_type": "code",
   "execution_count": 46,
   "metadata": {},
   "outputs": [
    {
     "data": {
      "text/plain": [
       "8328"
      ]
     },
     "execution_count": 46,
     "metadata": {},
     "output_type": "execute_result"
    }
   ],
   "source": [
    "#Checking the number of hours in the original data\n",
    "\n",
    "num_hours_real = num_days_real*24 #It should be checked if within the date range there is an odd number \n",
    "                                    #of 23h-day or 25-h-day\n",
    "num_hours_real\n"
   ]
  },
  {
   "cell_type": "code",
   "execution_count": 47,
   "metadata": {},
   "outputs": [
    {
     "data": {
      "text/plain": [
       "8280"
      ]
     },
     "execution_count": 47,
     "metadata": {},
     "output_type": "execute_result"
    }
   ],
   "source": [
    "num_hours_orig_real = num_days*24 #It should be checked if within the date range there is an odd number \n",
    "                                    #of 23h-day or 25-h-day\n",
    "num_hours_orig_real"
   ]
  },
  {
   "cell_type": "code",
   "execution_count": 48,
   "metadata": {},
   "outputs": [
    {
     "data": {
      "text/plain": [
       "8280"
      ]
     },
     "execution_count": 48,
     "metadata": {},
     "output_type": "execute_result"
    }
   ],
   "source": [
    "#Checking the number of hours\n",
    "\n",
    "num_hours = df_curve.groupby(['Date','Period'])['Block'].count().value_counts().sum()\n",
    "num_hours"
   ]
  },
  {
   "cell_type": "code",
   "execution_count": 49,
   "metadata": {},
   "outputs": [
    {
     "data": {
      "text/plain": [
       "48"
      ]
     },
     "execution_count": 49,
     "metadata": {},
     "output_type": "execute_result"
    }
   ],
   "source": [
    "#Number of missing hours from the original data\n",
    "diff_num_hours = num_hours_real - num_hours\n",
    "diff_num_hours"
   ]
  },
  {
   "cell_type": "code",
   "execution_count": 50,
   "metadata": {},
   "outputs": [
    {
     "data": {
      "text/plain": [
       "0"
      ]
     },
     "execution_count": 50,
     "metadata": {},
     "output_type": "execute_result"
    }
   ],
   "source": [
    "#Number of missing hours from the days in the original data\n",
    "diff_num_hours_orig = num_hours_orig_real - num_hours\n",
    "diff_num_hours_orig"
   ]
  },
  {
   "cell_type": "code",
   "execution_count": 51,
   "metadata": {},
   "outputs": [
    {
     "data": {
      "text/plain": [
       "True"
      ]
     },
     "execution_count": 51,
     "metadata": {},
     "output_type": "execute_result"
    }
   ],
   "source": [
    "(diff_num_hours_orig + diff_num_days*24) == diff_num_hours"
   ]
  },
  {
   "cell_type": "code",
   "execution_count": null,
   "metadata": {},
   "outputs": [],
   "source": []
  },
  {
   "cell_type": "code",
   "execution_count": null,
   "metadata": {},
   "outputs": [],
   "source": []
  },
  {
   "cell_type": "code",
   "execution_count": 52,
   "metadata": {
    "scrolled": true
   },
   "outputs": [
    {
     "data": {
      "text/plain": [
       "Block\n",
       "1     6825\n",
       "2     5540\n",
       "3     5534\n",
       "4     5254\n",
       "5     5248\n",
       "6     5244\n",
       "7     5233\n",
       "8     5233\n",
       "9     5228\n",
       "10    5216\n",
       "11    5199\n",
       "12    8280\n",
       "Name: Period, dtype: int64"
      ]
     },
     "execution_count": 52,
     "metadata": {},
     "output_type": "execute_result"
    }
   ],
   "source": [
    "#Number of hours per each block. We can see that the only block that appears in all periods is BLOCK 12.\n",
    "df_curve.groupby(['Block'])['Period'].count()"
   ]
  },
  {
   "cell_type": "code",
   "execution_count": 53,
   "metadata": {
    "scrolled": true
   },
   "outputs": [
    {
     "data": {
      "text/plain": [
       "12"
      ]
     },
     "execution_count": 53,
     "metadata": {},
     "output_type": "execute_result"
    }
   ],
   "source": [
    "#Variable to include the number of the block that appears always (if there are more than one the minimum is chosen).\n",
    "\n",
    "serie_block_all = df_curve.groupby(['Block'])['Period'].count()[df_curve.groupby(['Block'])['Period'].count() == num_hours]\n",
    "serie_block_all = serie_block_all.reset_index()\n",
    "block_all = serie_block_all['Block'].min()\n",
    "block_all"
   ]
  },
  {
   "cell_type": "code",
   "execution_count": 54,
   "metadata": {},
   "outputs": [
    {
     "data": {
      "text/plain": [
       "12"
      ]
     },
     "execution_count": 54,
     "metadata": {},
     "output_type": "execute_result"
    }
   ],
   "source": [
    "#Variable to include the maximum number of blocks\n",
    "\n",
    "block_max = df_curve['Block'].max()\n",
    "block_max"
   ]
  },
  {
   "cell_type": "code",
   "execution_count": 55,
   "metadata": {
    "scrolled": false
   },
   "outputs": [
    {
     "data": {
      "text/plain": [
       "24    343\n",
       "25      1\n",
       "23      1\n",
       "Name: Period, dtype: int64"
      ]
     },
     "execution_count": 55,
     "metadata": {},
     "output_type": "execute_result"
    }
   ],
   "source": [
    "#Checking that every day has 23, 24 or 25 hours\n",
    "#We know that all periods have at least the block with the number equal to block_all\n",
    "\n",
    "df_curve_hours = df_curve[(df_curve['Block']==block_all)].groupby('Date')['Period'].count()\n",
    "df_curve_hours.value_counts()"
   ]
  },
  {
   "cell_type": "code",
   "execution_count": 56,
   "metadata": {},
   "outputs": [
    {
     "data": {
      "text/plain": [
       "Series([], Name: Period, dtype: int64)"
      ]
     },
     "execution_count": 56,
     "metadata": {},
     "output_type": "execute_result"
    }
   ],
   "source": [
    "#Day with less than 23 hours\n",
    "df_curve_hours[(df_curve_hours != 23) & (df_curve_hours != 24) & (df_curve_hours != 25)]"
   ]
  },
  {
   "cell_type": "code",
   "execution_count": 57,
   "metadata": {
    "scrolled": false
   },
   "outputs": [
    {
     "data": {
      "text/html": [
       "<div>\n",
       "<style scoped>\n",
       "    .dataframe tbody tr th:only-of-type {\n",
       "        vertical-align: middle;\n",
       "    }\n",
       "\n",
       "    .dataframe tbody tr th {\n",
       "        vertical-align: top;\n",
       "    }\n",
       "\n",
       "    .dataframe thead th {\n",
       "        text-align: right;\n",
       "    }\n",
       "</style>\n",
       "<table border=\"1\" class=\"dataframe\">\n",
       "  <thead>\n",
       "    <tr style=\"text-align: right;\">\n",
       "      <th></th>\n",
       "      <th>Pot_max</th>\n",
       "      <th>Year</th>\n",
       "      <th>Month</th>\n",
       "      <th>Day</th>\n",
       "      <th>Period</th>\n",
       "      <th>Block</th>\n",
       "      <th>Price</th>\n",
       "      <th>Energy</th>\n",
       "      <th>Date</th>\n",
       "      <th>Weekday</th>\n",
       "      <th>Energy_tot</th>\n",
       "    </tr>\n",
       "  </thead>\n",
       "  <tbody>\n",
       "  </tbody>\n",
       "</table>\n",
       "</div>"
      ],
      "text/plain": [
       "Empty DataFrame\n",
       "Columns: [Pot_max, Year, Month, Day, Period, Block, Price, Energy, Date, Weekday, Energy_tot]\n",
       "Index: []"
      ]
     },
     "execution_count": 57,
     "metadata": {},
     "output_type": "execute_result"
    }
   ],
   "source": [
    "#Checking data in a period of time\n",
    "df_curve.loc[df_curve['Date'].isin(['2019-11-05','2019-11-17'])]"
   ]
  },
  {
   "cell_type": "code",
   "execution_count": null,
   "metadata": {},
   "outputs": [],
   "source": []
  },
  {
   "cell_type": "code",
   "execution_count": 58,
   "metadata": {},
   "outputs": [],
   "source": [
    "#Searching the days with 23h and 25h within the original data period. \n",
    "#It is known that in Spain times changes from 2am to 3am every last Sunday of March and \n",
    "#from 3am to 2am every last Sunday of October\n",
    "\n",
    "days_25h, days_23h = days_25h_23h(df_curve)"
   ]
  },
  {
   "cell_type": "code",
   "execution_count": 59,
   "metadata": {},
   "outputs": [
    {
     "data": {
      "text/plain": [
       "([datetime.datetime(2020, 10, 25, 0, 0)],\n",
       " [datetime.datetime(2020, 3, 29, 0, 0)])"
      ]
     },
     "execution_count": 59,
     "metadata": {},
     "output_type": "execute_result"
    }
   ],
   "source": [
    "days_25h, days_23h"
   ]
  },
  {
   "cell_type": "code",
   "execution_count": 60,
   "metadata": {
    "scrolled": true
   },
   "outputs": [
    {
     "data": {
      "text/plain": [
       "2020"
      ]
     },
     "execution_count": 60,
     "metadata": {},
     "output_type": "execute_result"
    }
   ],
   "source": [
    "days_25h[0].year"
   ]
  },
  {
   "cell_type": "code",
   "execution_count": null,
   "metadata": {},
   "outputs": [],
   "source": []
  },
  {
   "cell_type": "code",
   "execution_count": 61,
   "metadata": {},
   "outputs": [],
   "source": [
    "#View of some expamples of bids per hour"
   ]
  },
  {
   "cell_type": "code",
   "execution_count": 62,
   "metadata": {
    "scrolled": false
   },
   "outputs": [
    {
     "data": {
      "text/html": [
       "<div>\n",
       "<style scoped>\n",
       "    .dataframe tbody tr th:only-of-type {\n",
       "        vertical-align: middle;\n",
       "    }\n",
       "\n",
       "    .dataframe tbody tr th {\n",
       "        vertical-align: top;\n",
       "    }\n",
       "\n",
       "    .dataframe thead th {\n",
       "        text-align: right;\n",
       "    }\n",
       "</style>\n",
       "<table border=\"1\" class=\"dataframe\">\n",
       "  <thead>\n",
       "    <tr style=\"text-align: right;\">\n",
       "      <th></th>\n",
       "      <th>Pot_max</th>\n",
       "      <th>Year</th>\n",
       "      <th>Month</th>\n",
       "      <th>Day</th>\n",
       "      <th>Period</th>\n",
       "      <th>Block</th>\n",
       "      <th>Price</th>\n",
       "      <th>Energy</th>\n",
       "      <th>Date</th>\n",
       "      <th>Weekday</th>\n",
       "      <th>Energy_tot</th>\n",
       "    </tr>\n",
       "  </thead>\n",
       "  <tbody>\n",
       "    <tr>\n",
       "      <th>66565</th>\n",
       "      <td>395.60</td>\n",
       "      <td>2020</td>\n",
       "      <td>10</td>\n",
       "      <td>25</td>\n",
       "      <td>1</td>\n",
       "      <td>12</td>\n",
       "      <td>180.30</td>\n",
       "      <td>395.60</td>\n",
       "      <td>2020-10-25</td>\n",
       "      <td>Sunday</td>\n",
       "      <td>395.60</td>\n",
       "    </tr>\n",
       "    <tr>\n",
       "      <th>66566</th>\n",
       "      <td>395.60</td>\n",
       "      <td>2020</td>\n",
       "      <td>10</td>\n",
       "      <td>25</td>\n",
       "      <td>2</td>\n",
       "      <td>12</td>\n",
       "      <td>180.30</td>\n",
       "      <td>395.60</td>\n",
       "      <td>2020-10-25</td>\n",
       "      <td>Sunday</td>\n",
       "      <td>395.60</td>\n",
       "    </tr>\n",
       "    <tr>\n",
       "      <th>66567</th>\n",
       "      <td>395.60</td>\n",
       "      <td>2020</td>\n",
       "      <td>10</td>\n",
       "      <td>25</td>\n",
       "      <td>3</td>\n",
       "      <td>12</td>\n",
       "      <td>180.30</td>\n",
       "      <td>395.60</td>\n",
       "      <td>2020-10-25</td>\n",
       "      <td>Sunday</td>\n",
       "      <td>395.60</td>\n",
       "    </tr>\n",
       "    <tr>\n",
       "      <th>66568</th>\n",
       "      <td>395.60</td>\n",
       "      <td>2020</td>\n",
       "      <td>10</td>\n",
       "      <td>25</td>\n",
       "      <td>4</td>\n",
       "      <td>12</td>\n",
       "      <td>180.30</td>\n",
       "      <td>395.60</td>\n",
       "      <td>2020-10-25</td>\n",
       "      <td>Sunday</td>\n",
       "      <td>395.60</td>\n",
       "    </tr>\n",
       "    <tr>\n",
       "      <th>66569</th>\n",
       "      <td>395.60</td>\n",
       "      <td>2020</td>\n",
       "      <td>10</td>\n",
       "      <td>25</td>\n",
       "      <td>5</td>\n",
       "      <td>12</td>\n",
       "      <td>180.30</td>\n",
       "      <td>395.60</td>\n",
       "      <td>2020-10-25</td>\n",
       "      <td>Sunday</td>\n",
       "      <td>395.60</td>\n",
       "    </tr>\n",
       "  </tbody>\n",
       "</table>\n",
       "</div>"
      ],
      "text/plain": [
       "       Pot_max  Year  Month  Day  Period  Block  Price  Energy       Date  \\\n",
       "66565   395.60  2020     10   25       1     12 180.30  395.60 2020-10-25   \n",
       "66566   395.60  2020     10   25       2     12 180.30  395.60 2020-10-25   \n",
       "66567   395.60  2020     10   25       3     12 180.30  395.60 2020-10-25   \n",
       "66568   395.60  2020     10   25       4     12 180.30  395.60 2020-10-25   \n",
       "66569   395.60  2020     10   25       5     12 180.30  395.60 2020-10-25   \n",
       "\n",
       "      Weekday  Energy_tot  \n",
       "66565  Sunday      395.60  \n",
       "66566  Sunday      395.60  \n",
       "66567  Sunday      395.60  \n",
       "66568  Sunday      395.60  \n",
       "66569  Sunday      395.60  "
      ]
     },
     "execution_count": 62,
     "metadata": {},
     "output_type": "execute_result"
    }
   ],
   "source": [
    "df_curve[(df_curve['Date']==days_25h[0])&(df_curve['Period'].isin([1,2,3,4,5]))]"
   ]
  },
  {
   "cell_type": "code",
   "execution_count": 63,
   "metadata": {
    "scrolled": true
   },
   "outputs": [
    {
     "data": {
      "text/html": [
       "<div>\n",
       "<style scoped>\n",
       "    .dataframe tbody tr th:only-of-type {\n",
       "        vertical-align: middle;\n",
       "    }\n",
       "\n",
       "    .dataframe tbody tr th {\n",
       "        vertical-align: top;\n",
       "    }\n",
       "\n",
       "    .dataframe thead th {\n",
       "        text-align: right;\n",
       "    }\n",
       "</style>\n",
       "<table border=\"1\" class=\"dataframe\">\n",
       "  <thead>\n",
       "    <tr style=\"text-align: right;\">\n",
       "      <th></th>\n",
       "      <th>Pot_max</th>\n",
       "      <th>Year</th>\n",
       "      <th>Month</th>\n",
       "      <th>Day</th>\n",
       "      <th>Period</th>\n",
       "      <th>Block</th>\n",
       "      <th>Price</th>\n",
       "      <th>Energy</th>\n",
       "      <th>Date</th>\n",
       "      <th>Weekday</th>\n",
       "      <th>Energy_tot</th>\n",
       "    </tr>\n",
       "  </thead>\n",
       "  <tbody>\n",
       "    <tr>\n",
       "      <th>25287</th>\n",
       "      <td>395.60</td>\n",
       "      <td>2020</td>\n",
       "      <td>3</td>\n",
       "      <td>29</td>\n",
       "      <td>1</td>\n",
       "      <td>12</td>\n",
       "      <td>180.30</td>\n",
       "      <td>395.60</td>\n",
       "      <td>2020-03-29</td>\n",
       "      <td>Sunday</td>\n",
       "      <td>395.60</td>\n",
       "    </tr>\n",
       "    <tr>\n",
       "      <th>25288</th>\n",
       "      <td>395.60</td>\n",
       "      <td>2020</td>\n",
       "      <td>3</td>\n",
       "      <td>29</td>\n",
       "      <td>2</td>\n",
       "      <td>12</td>\n",
       "      <td>180.30</td>\n",
       "      <td>395.60</td>\n",
       "      <td>2020-03-29</td>\n",
       "      <td>Sunday</td>\n",
       "      <td>395.60</td>\n",
       "    </tr>\n",
       "    <tr>\n",
       "      <th>25289</th>\n",
       "      <td>395.60</td>\n",
       "      <td>2020</td>\n",
       "      <td>3</td>\n",
       "      <td>29</td>\n",
       "      <td>3</td>\n",
       "      <td>12</td>\n",
       "      <td>180.30</td>\n",
       "      <td>395.60</td>\n",
       "      <td>2020-03-29</td>\n",
       "      <td>Sunday</td>\n",
       "      <td>395.60</td>\n",
       "    </tr>\n",
       "    <tr>\n",
       "      <th>25290</th>\n",
       "      <td>395.60</td>\n",
       "      <td>2020</td>\n",
       "      <td>3</td>\n",
       "      <td>29</td>\n",
       "      <td>4</td>\n",
       "      <td>12</td>\n",
       "      <td>180.30</td>\n",
       "      <td>395.60</td>\n",
       "      <td>2020-03-29</td>\n",
       "      <td>Sunday</td>\n",
       "      <td>395.60</td>\n",
       "    </tr>\n",
       "    <tr>\n",
       "      <th>25291</th>\n",
       "      <td>395.60</td>\n",
       "      <td>2020</td>\n",
       "      <td>3</td>\n",
       "      <td>29</td>\n",
       "      <td>5</td>\n",
       "      <td>1</td>\n",
       "      <td>1.13</td>\n",
       "      <td>50.00</td>\n",
       "      <td>2020-03-29</td>\n",
       "      <td>Sunday</td>\n",
       "      <td>50.00</td>\n",
       "    </tr>\n",
       "    <tr>\n",
       "      <th>25292</th>\n",
       "      <td>395.60</td>\n",
       "      <td>2020</td>\n",
       "      <td>3</td>\n",
       "      <td>29</td>\n",
       "      <td>5</td>\n",
       "      <td>12</td>\n",
       "      <td>180.30</td>\n",
       "      <td>345.60</td>\n",
       "      <td>2020-03-29</td>\n",
       "      <td>Sunday</td>\n",
       "      <td>395.60</td>\n",
       "    </tr>\n",
       "  </tbody>\n",
       "</table>\n",
       "</div>"
      ],
      "text/plain": [
       "       Pot_max  Year  Month  Day  Period  Block  Price  Energy       Date  \\\n",
       "25287   395.60  2020      3   29       1     12 180.30  395.60 2020-03-29   \n",
       "25288   395.60  2020      3   29       2     12 180.30  395.60 2020-03-29   \n",
       "25289   395.60  2020      3   29       3     12 180.30  395.60 2020-03-29   \n",
       "25290   395.60  2020      3   29       4     12 180.30  395.60 2020-03-29   \n",
       "25291   395.60  2020      3   29       5      1   1.13   50.00 2020-03-29   \n",
       "25292   395.60  2020      3   29       5     12 180.30  345.60 2020-03-29   \n",
       "\n",
       "      Weekday  Energy_tot  \n",
       "25287  Sunday      395.60  \n",
       "25288  Sunday      395.60  \n",
       "25289  Sunday      395.60  \n",
       "25290  Sunday      395.60  \n",
       "25291  Sunday       50.00  \n",
       "25292  Sunday      395.60  "
      ]
     },
     "execution_count": 63,
     "metadata": {},
     "output_type": "execute_result"
    }
   ],
   "source": [
    "df_curve[(df_curve['Date']==days_23h[0])&(df_curve['Period'].isin([1,2,3,4,5]))]"
   ]
  },
  {
   "cell_type": "code",
   "execution_count": 64,
   "metadata": {},
   "outputs": [],
   "source": [
    "#View of some expamples of bids per hour"
   ]
  },
  {
   "cell_type": "code",
   "execution_count": 65,
   "metadata": {
    "scrolled": true
   },
   "outputs": [
    {
     "data": {
      "text/html": [
       "<div>\n",
       "<style scoped>\n",
       "    .dataframe tbody tr th:only-of-type {\n",
       "        vertical-align: middle;\n",
       "    }\n",
       "\n",
       "    .dataframe tbody tr th {\n",
       "        vertical-align: top;\n",
       "    }\n",
       "\n",
       "    .dataframe thead th {\n",
       "        text-align: right;\n",
       "    }\n",
       "</style>\n",
       "<table border=\"1\" class=\"dataframe\">\n",
       "  <thead>\n",
       "    <tr style=\"text-align: right;\">\n",
       "      <th></th>\n",
       "      <th>Pot_max</th>\n",
       "      <th>Year</th>\n",
       "      <th>Month</th>\n",
       "      <th>Day</th>\n",
       "      <th>Period</th>\n",
       "      <th>Block</th>\n",
       "      <th>Price</th>\n",
       "      <th>Energy</th>\n",
       "      <th>Date</th>\n",
       "      <th>Weekday</th>\n",
       "      <th>Energy_tot</th>\n",
       "    </tr>\n",
       "  </thead>\n",
       "  <tbody>\n",
       "    <tr>\n",
       "      <th>66570</th>\n",
       "      <td>395.60</td>\n",
       "      <td>2020</td>\n",
       "      <td>10</td>\n",
       "      <td>25</td>\n",
       "      <td>6</td>\n",
       "      <td>12</td>\n",
       "      <td>180.30</td>\n",
       "      <td>395.60</td>\n",
       "      <td>2020-10-25</td>\n",
       "      <td>Sunday</td>\n",
       "      <td>395.60</td>\n",
       "    </tr>\n",
       "    <tr>\n",
       "      <th>66571</th>\n",
       "      <td>395.60</td>\n",
       "      <td>2020</td>\n",
       "      <td>10</td>\n",
       "      <td>25</td>\n",
       "      <td>7</td>\n",
       "      <td>1</td>\n",
       "      <td>1.13</td>\n",
       "      <td>75.00</td>\n",
       "      <td>2020-10-25</td>\n",
       "      <td>Sunday</td>\n",
       "      <td>75.00</td>\n",
       "    </tr>\n",
       "    <tr>\n",
       "      <th>66572</th>\n",
       "      <td>395.60</td>\n",
       "      <td>2020</td>\n",
       "      <td>10</td>\n",
       "      <td>25</td>\n",
       "      <td>7</td>\n",
       "      <td>12</td>\n",
       "      <td>180.30</td>\n",
       "      <td>320.60</td>\n",
       "      <td>2020-10-25</td>\n",
       "      <td>Sunday</td>\n",
       "      <td>395.60</td>\n",
       "    </tr>\n",
       "    <tr>\n",
       "      <th>66573</th>\n",
       "      <td>395.60</td>\n",
       "      <td>2020</td>\n",
       "      <td>10</td>\n",
       "      <td>25</td>\n",
       "      <td>8</td>\n",
       "      <td>1</td>\n",
       "      <td>1.13</td>\n",
       "      <td>115.00</td>\n",
       "      <td>2020-10-25</td>\n",
       "      <td>Sunday</td>\n",
       "      <td>115.00</td>\n",
       "    </tr>\n",
       "    <tr>\n",
       "      <th>66574</th>\n",
       "      <td>395.60</td>\n",
       "      <td>2020</td>\n",
       "      <td>10</td>\n",
       "      <td>25</td>\n",
       "      <td>8</td>\n",
       "      <td>12</td>\n",
       "      <td>180.30</td>\n",
       "      <td>280.60</td>\n",
       "      <td>2020-10-25</td>\n",
       "      <td>Sunday</td>\n",
       "      <td>395.60</td>\n",
       "    </tr>\n",
       "  </tbody>\n",
       "</table>\n",
       "</div>"
      ],
      "text/plain": [
       "       Pot_max  Year  Month  Day  Period  Block  Price  Energy       Date  \\\n",
       "66570   395.60  2020     10   25       6     12 180.30  395.60 2020-10-25   \n",
       "66571   395.60  2020     10   25       7      1   1.13   75.00 2020-10-25   \n",
       "66572   395.60  2020     10   25       7     12 180.30  320.60 2020-10-25   \n",
       "66573   395.60  2020     10   25       8      1   1.13  115.00 2020-10-25   \n",
       "66574   395.60  2020     10   25       8     12 180.30  280.60 2020-10-25   \n",
       "\n",
       "      Weekday  Energy_tot  \n",
       "66570  Sunday      395.60  \n",
       "66571  Sunday       75.00  \n",
       "66572  Sunday      395.60  \n",
       "66573  Sunday      115.00  \n",
       "66574  Sunday      395.60  "
      ]
     },
     "execution_count": 65,
     "metadata": {},
     "output_type": "execute_result"
    }
   ],
   "source": [
    "df_curve[(df_curve['Date']==days_25h[0])&(df_curve['Period'].isin([6,7,8]))]"
   ]
  },
  {
   "cell_type": "code",
   "execution_count": 66,
   "metadata": {
    "scrolled": true
   },
   "outputs": [
    {
     "data": {
      "text/html": [
       "<div>\n",
       "<style scoped>\n",
       "    .dataframe tbody tr th:only-of-type {\n",
       "        vertical-align: middle;\n",
       "    }\n",
       "\n",
       "    .dataframe tbody tr th {\n",
       "        vertical-align: top;\n",
       "    }\n",
       "\n",
       "    .dataframe thead th {\n",
       "        text-align: right;\n",
       "    }\n",
       "</style>\n",
       "<table border=\"1\" class=\"dataframe\">\n",
       "  <thead>\n",
       "    <tr style=\"text-align: right;\">\n",
       "      <th></th>\n",
       "      <th>Pot_max</th>\n",
       "      <th>Year</th>\n",
       "      <th>Month</th>\n",
       "      <th>Day</th>\n",
       "      <th>Period</th>\n",
       "      <th>Block</th>\n",
       "      <th>Price</th>\n",
       "      <th>Energy</th>\n",
       "      <th>Date</th>\n",
       "      <th>Weekday</th>\n",
       "      <th>Energy_tot</th>\n",
       "    </tr>\n",
       "  </thead>\n",
       "  <tbody>\n",
       "    <tr>\n",
       "      <th>25293</th>\n",
       "      <td>395.60</td>\n",
       "      <td>2020</td>\n",
       "      <td>3</td>\n",
       "      <td>29</td>\n",
       "      <td>6</td>\n",
       "      <td>1</td>\n",
       "      <td>1.13</td>\n",
       "      <td>60.00</td>\n",
       "      <td>2020-03-29</td>\n",
       "      <td>Sunday</td>\n",
       "      <td>60.00</td>\n",
       "    </tr>\n",
       "    <tr>\n",
       "      <th>25294</th>\n",
       "      <td>395.60</td>\n",
       "      <td>2020</td>\n",
       "      <td>3</td>\n",
       "      <td>29</td>\n",
       "      <td>6</td>\n",
       "      <td>12</td>\n",
       "      <td>180.30</td>\n",
       "      <td>335.60</td>\n",
       "      <td>2020-03-29</td>\n",
       "      <td>Sunday</td>\n",
       "      <td>395.60</td>\n",
       "    </tr>\n",
       "    <tr>\n",
       "      <th>25295</th>\n",
       "      <td>395.60</td>\n",
       "      <td>2020</td>\n",
       "      <td>3</td>\n",
       "      <td>29</td>\n",
       "      <td>7</td>\n",
       "      <td>1</td>\n",
       "      <td>1.13</td>\n",
       "      <td>60.00</td>\n",
       "      <td>2020-03-29</td>\n",
       "      <td>Sunday</td>\n",
       "      <td>60.00</td>\n",
       "    </tr>\n",
       "    <tr>\n",
       "      <th>25296</th>\n",
       "      <td>395.60</td>\n",
       "      <td>2020</td>\n",
       "      <td>3</td>\n",
       "      <td>29</td>\n",
       "      <td>7</td>\n",
       "      <td>12</td>\n",
       "      <td>180.30</td>\n",
       "      <td>335.60</td>\n",
       "      <td>2020-03-29</td>\n",
       "      <td>Sunday</td>\n",
       "      <td>395.60</td>\n",
       "    </tr>\n",
       "    <tr>\n",
       "      <th>25297</th>\n",
       "      <td>395.60</td>\n",
       "      <td>2020</td>\n",
       "      <td>3</td>\n",
       "      <td>29</td>\n",
       "      <td>8</td>\n",
       "      <td>1</td>\n",
       "      <td>1.13</td>\n",
       "      <td>60.00</td>\n",
       "      <td>2020-03-29</td>\n",
       "      <td>Sunday</td>\n",
       "      <td>60.00</td>\n",
       "    </tr>\n",
       "    <tr>\n",
       "      <th>25298</th>\n",
       "      <td>395.60</td>\n",
       "      <td>2020</td>\n",
       "      <td>3</td>\n",
       "      <td>29</td>\n",
       "      <td>8</td>\n",
       "      <td>12</td>\n",
       "      <td>180.30</td>\n",
       "      <td>335.60</td>\n",
       "      <td>2020-03-29</td>\n",
       "      <td>Sunday</td>\n",
       "      <td>395.60</td>\n",
       "    </tr>\n",
       "  </tbody>\n",
       "</table>\n",
       "</div>"
      ],
      "text/plain": [
       "       Pot_max  Year  Month  Day  Period  Block  Price  Energy       Date  \\\n",
       "25293   395.60  2020      3   29       6      1   1.13   60.00 2020-03-29   \n",
       "25294   395.60  2020      3   29       6     12 180.30  335.60 2020-03-29   \n",
       "25295   395.60  2020      3   29       7      1   1.13   60.00 2020-03-29   \n",
       "25296   395.60  2020      3   29       7     12 180.30  335.60 2020-03-29   \n",
       "25297   395.60  2020      3   29       8      1   1.13   60.00 2020-03-29   \n",
       "25298   395.60  2020      3   29       8     12 180.30  335.60 2020-03-29   \n",
       "\n",
       "      Weekday  Energy_tot  \n",
       "25293  Sunday       60.00  \n",
       "25294  Sunday      395.60  \n",
       "25295  Sunday       60.00  \n",
       "25296  Sunday      395.60  \n",
       "25297  Sunday       60.00  \n",
       "25298  Sunday      395.60  "
      ]
     },
     "execution_count": 66,
     "metadata": {},
     "output_type": "execute_result"
    }
   ],
   "source": [
    "df_curve[(df_curve['Date']==days_23h[0])&(df_curve['Period'].isin([6,7,8]))]"
   ]
  },
  {
   "cell_type": "code",
   "execution_count": null,
   "metadata": {},
   "outputs": [],
   "source": []
  },
  {
   "cell_type": "code",
   "execution_count": 67,
   "metadata": {},
   "outputs": [
    {
     "data": {
      "text/html": [
       "<div>\n",
       "<style scoped>\n",
       "    .dataframe tbody tr th:only-of-type {\n",
       "        vertical-align: middle;\n",
       "    }\n",
       "\n",
       "    .dataframe tbody tr th {\n",
       "        vertical-align: top;\n",
       "    }\n",
       "\n",
       "    .dataframe thead th {\n",
       "        text-align: right;\n",
       "    }\n",
       "</style>\n",
       "<table border=\"1\" class=\"dataframe\">\n",
       "  <thead>\n",
       "    <tr style=\"text-align: right;\">\n",
       "      <th></th>\n",
       "      <th>Pot_max</th>\n",
       "      <th>Year</th>\n",
       "      <th>Month</th>\n",
       "      <th>Day</th>\n",
       "      <th>Period</th>\n",
       "      <th>Block</th>\n",
       "      <th>Price</th>\n",
       "      <th>Energy</th>\n",
       "      <th>Date</th>\n",
       "      <th>Weekday</th>\n",
       "      <th>Energy_tot</th>\n",
       "    </tr>\n",
       "  </thead>\n",
       "  <tbody>\n",
       "    <tr>\n",
       "      <th>66575</th>\n",
       "      <td>395.60</td>\n",
       "      <td>2020</td>\n",
       "      <td>10</td>\n",
       "      <td>25</td>\n",
       "      <td>9</td>\n",
       "      <td>1</td>\n",
       "      <td>1.13</td>\n",
       "      <td>150.30</td>\n",
       "      <td>2020-10-25</td>\n",
       "      <td>Sunday</td>\n",
       "      <td>150.30</td>\n",
       "    </tr>\n",
       "    <tr>\n",
       "      <th>66576</th>\n",
       "      <td>395.60</td>\n",
       "      <td>2020</td>\n",
       "      <td>10</td>\n",
       "      <td>25</td>\n",
       "      <td>9</td>\n",
       "      <td>2</td>\n",
       "      <td>33.52</td>\n",
       "      <td>21.00</td>\n",
       "      <td>2020-10-25</td>\n",
       "      <td>Sunday</td>\n",
       "      <td>171.30</td>\n",
       "    </tr>\n",
       "    <tr>\n",
       "      <th>66577</th>\n",
       "      <td>395.60</td>\n",
       "      <td>2020</td>\n",
       "      <td>10</td>\n",
       "      <td>25</td>\n",
       "      <td>9</td>\n",
       "      <td>3</td>\n",
       "      <td>34.21</td>\n",
       "      <td>21.00</td>\n",
       "      <td>2020-10-25</td>\n",
       "      <td>Sunday</td>\n",
       "      <td>192.30</td>\n",
       "    </tr>\n",
       "    <tr>\n",
       "      <th>66578</th>\n",
       "      <td>395.60</td>\n",
       "      <td>2020</td>\n",
       "      <td>10</td>\n",
       "      <td>25</td>\n",
       "      <td>9</td>\n",
       "      <td>4</td>\n",
       "      <td>34.90</td>\n",
       "      <td>21.00</td>\n",
       "      <td>2020-10-25</td>\n",
       "      <td>Sunday</td>\n",
       "      <td>213.30</td>\n",
       "    </tr>\n",
       "    <tr>\n",
       "      <th>66579</th>\n",
       "      <td>395.60</td>\n",
       "      <td>2020</td>\n",
       "      <td>10</td>\n",
       "      <td>25</td>\n",
       "      <td>9</td>\n",
       "      <td>5</td>\n",
       "      <td>35.59</td>\n",
       "      <td>21.00</td>\n",
       "      <td>2020-10-25</td>\n",
       "      <td>Sunday</td>\n",
       "      <td>234.30</td>\n",
       "    </tr>\n",
       "    <tr>\n",
       "      <th>66580</th>\n",
       "      <td>395.60</td>\n",
       "      <td>2020</td>\n",
       "      <td>10</td>\n",
       "      <td>25</td>\n",
       "      <td>9</td>\n",
       "      <td>6</td>\n",
       "      <td>37.08</td>\n",
       "      <td>21.00</td>\n",
       "      <td>2020-10-25</td>\n",
       "      <td>Sunday</td>\n",
       "      <td>255.30</td>\n",
       "    </tr>\n",
       "    <tr>\n",
       "      <th>66581</th>\n",
       "      <td>395.60</td>\n",
       "      <td>2020</td>\n",
       "      <td>10</td>\n",
       "      <td>25</td>\n",
       "      <td>9</td>\n",
       "      <td>7</td>\n",
       "      <td>37.77</td>\n",
       "      <td>21.00</td>\n",
       "      <td>2020-10-25</td>\n",
       "      <td>Sunday</td>\n",
       "      <td>276.30</td>\n",
       "    </tr>\n",
       "    <tr>\n",
       "      <th>66582</th>\n",
       "      <td>395.60</td>\n",
       "      <td>2020</td>\n",
       "      <td>10</td>\n",
       "      <td>25</td>\n",
       "      <td>9</td>\n",
       "      <td>8</td>\n",
       "      <td>38.46</td>\n",
       "      <td>21.00</td>\n",
       "      <td>2020-10-25</td>\n",
       "      <td>Sunday</td>\n",
       "      <td>297.30</td>\n",
       "    </tr>\n",
       "    <tr>\n",
       "      <th>66583</th>\n",
       "      <td>395.60</td>\n",
       "      <td>2020</td>\n",
       "      <td>10</td>\n",
       "      <td>25</td>\n",
       "      <td>9</td>\n",
       "      <td>9</td>\n",
       "      <td>39.65</td>\n",
       "      <td>21.00</td>\n",
       "      <td>2020-10-25</td>\n",
       "      <td>Sunday</td>\n",
       "      <td>318.30</td>\n",
       "    </tr>\n",
       "    <tr>\n",
       "      <th>66584</th>\n",
       "      <td>395.60</td>\n",
       "      <td>2020</td>\n",
       "      <td>10</td>\n",
       "      <td>25</td>\n",
       "      <td>9</td>\n",
       "      <td>10</td>\n",
       "      <td>40.84</td>\n",
       "      <td>21.00</td>\n",
       "      <td>2020-10-25</td>\n",
       "      <td>Sunday</td>\n",
       "      <td>339.30</td>\n",
       "    </tr>\n",
       "    <tr>\n",
       "      <th>66585</th>\n",
       "      <td>395.60</td>\n",
       "      <td>2020</td>\n",
       "      <td>10</td>\n",
       "      <td>25</td>\n",
       "      <td>9</td>\n",
       "      <td>11</td>\n",
       "      <td>42.53</td>\n",
       "      <td>20.70</td>\n",
       "      <td>2020-10-25</td>\n",
       "      <td>Sunday</td>\n",
       "      <td>360.00</td>\n",
       "    </tr>\n",
       "    <tr>\n",
       "      <th>66586</th>\n",
       "      <td>395.60</td>\n",
       "      <td>2020</td>\n",
       "      <td>10</td>\n",
       "      <td>25</td>\n",
       "      <td>9</td>\n",
       "      <td>12</td>\n",
       "      <td>180.30</td>\n",
       "      <td>35.60</td>\n",
       "      <td>2020-10-25</td>\n",
       "      <td>Sunday</td>\n",
       "      <td>395.60</td>\n",
       "    </tr>\n",
       "    <tr>\n",
       "      <th>66587</th>\n",
       "      <td>395.60</td>\n",
       "      <td>2020</td>\n",
       "      <td>10</td>\n",
       "      <td>25</td>\n",
       "      <td>10</td>\n",
       "      <td>1</td>\n",
       "      <td>1.13</td>\n",
       "      <td>150.30</td>\n",
       "      <td>2020-10-25</td>\n",
       "      <td>Sunday</td>\n",
       "      <td>150.30</td>\n",
       "    </tr>\n",
       "    <tr>\n",
       "      <th>66588</th>\n",
       "      <td>395.60</td>\n",
       "      <td>2020</td>\n",
       "      <td>10</td>\n",
       "      <td>25</td>\n",
       "      <td>10</td>\n",
       "      <td>2</td>\n",
       "      <td>33.52</td>\n",
       "      <td>21.00</td>\n",
       "      <td>2020-10-25</td>\n",
       "      <td>Sunday</td>\n",
       "      <td>171.30</td>\n",
       "    </tr>\n",
       "    <tr>\n",
       "      <th>66589</th>\n",
       "      <td>395.60</td>\n",
       "      <td>2020</td>\n",
       "      <td>10</td>\n",
       "      <td>25</td>\n",
       "      <td>10</td>\n",
       "      <td>3</td>\n",
       "      <td>34.21</td>\n",
       "      <td>21.00</td>\n",
       "      <td>2020-10-25</td>\n",
       "      <td>Sunday</td>\n",
       "      <td>192.30</td>\n",
       "    </tr>\n",
       "    <tr>\n",
       "      <th>66590</th>\n",
       "      <td>395.60</td>\n",
       "      <td>2020</td>\n",
       "      <td>10</td>\n",
       "      <td>25</td>\n",
       "      <td>10</td>\n",
       "      <td>4</td>\n",
       "      <td>34.90</td>\n",
       "      <td>21.00</td>\n",
       "      <td>2020-10-25</td>\n",
       "      <td>Sunday</td>\n",
       "      <td>213.30</td>\n",
       "    </tr>\n",
       "    <tr>\n",
       "      <th>66591</th>\n",
       "      <td>395.60</td>\n",
       "      <td>2020</td>\n",
       "      <td>10</td>\n",
       "      <td>25</td>\n",
       "      <td>10</td>\n",
       "      <td>5</td>\n",
       "      <td>35.59</td>\n",
       "      <td>21.00</td>\n",
       "      <td>2020-10-25</td>\n",
       "      <td>Sunday</td>\n",
       "      <td>234.30</td>\n",
       "    </tr>\n",
       "    <tr>\n",
       "      <th>66592</th>\n",
       "      <td>395.60</td>\n",
       "      <td>2020</td>\n",
       "      <td>10</td>\n",
       "      <td>25</td>\n",
       "      <td>10</td>\n",
       "      <td>6</td>\n",
       "      <td>37.08</td>\n",
       "      <td>21.00</td>\n",
       "      <td>2020-10-25</td>\n",
       "      <td>Sunday</td>\n",
       "      <td>255.30</td>\n",
       "    </tr>\n",
       "    <tr>\n",
       "      <th>66593</th>\n",
       "      <td>395.60</td>\n",
       "      <td>2020</td>\n",
       "      <td>10</td>\n",
       "      <td>25</td>\n",
       "      <td>10</td>\n",
       "      <td>7</td>\n",
       "      <td>37.77</td>\n",
       "      <td>21.00</td>\n",
       "      <td>2020-10-25</td>\n",
       "      <td>Sunday</td>\n",
       "      <td>276.30</td>\n",
       "    </tr>\n",
       "    <tr>\n",
       "      <th>66594</th>\n",
       "      <td>395.60</td>\n",
       "      <td>2020</td>\n",
       "      <td>10</td>\n",
       "      <td>25</td>\n",
       "      <td>10</td>\n",
       "      <td>8</td>\n",
       "      <td>38.46</td>\n",
       "      <td>21.00</td>\n",
       "      <td>2020-10-25</td>\n",
       "      <td>Sunday</td>\n",
       "      <td>297.30</td>\n",
       "    </tr>\n",
       "    <tr>\n",
       "      <th>66595</th>\n",
       "      <td>395.60</td>\n",
       "      <td>2020</td>\n",
       "      <td>10</td>\n",
       "      <td>25</td>\n",
       "      <td>10</td>\n",
       "      <td>9</td>\n",
       "      <td>39.65</td>\n",
       "      <td>21.00</td>\n",
       "      <td>2020-10-25</td>\n",
       "      <td>Sunday</td>\n",
       "      <td>318.30</td>\n",
       "    </tr>\n",
       "    <tr>\n",
       "      <th>66596</th>\n",
       "      <td>395.60</td>\n",
       "      <td>2020</td>\n",
       "      <td>10</td>\n",
       "      <td>25</td>\n",
       "      <td>10</td>\n",
       "      <td>10</td>\n",
       "      <td>40.84</td>\n",
       "      <td>21.00</td>\n",
       "      <td>2020-10-25</td>\n",
       "      <td>Sunday</td>\n",
       "      <td>339.30</td>\n",
       "    </tr>\n",
       "    <tr>\n",
       "      <th>66597</th>\n",
       "      <td>395.60</td>\n",
       "      <td>2020</td>\n",
       "      <td>10</td>\n",
       "      <td>25</td>\n",
       "      <td>10</td>\n",
       "      <td>11</td>\n",
       "      <td>42.53</td>\n",
       "      <td>10.70</td>\n",
       "      <td>2020-10-25</td>\n",
       "      <td>Sunday</td>\n",
       "      <td>350.00</td>\n",
       "    </tr>\n",
       "    <tr>\n",
       "      <th>66598</th>\n",
       "      <td>395.60</td>\n",
       "      <td>2020</td>\n",
       "      <td>10</td>\n",
       "      <td>25</td>\n",
       "      <td>10</td>\n",
       "      <td>12</td>\n",
       "      <td>180.30</td>\n",
       "      <td>45.60</td>\n",
       "      <td>2020-10-25</td>\n",
       "      <td>Sunday</td>\n",
       "      <td>395.60</td>\n",
       "    </tr>\n",
       "  </tbody>\n",
       "</table>\n",
       "</div>"
      ],
      "text/plain": [
       "       Pot_max  Year  Month  Day  Period  Block  Price  Energy       Date  \\\n",
       "66575   395.60  2020     10   25       9      1   1.13  150.30 2020-10-25   \n",
       "66576   395.60  2020     10   25       9      2  33.52   21.00 2020-10-25   \n",
       "66577   395.60  2020     10   25       9      3  34.21   21.00 2020-10-25   \n",
       "66578   395.60  2020     10   25       9      4  34.90   21.00 2020-10-25   \n",
       "66579   395.60  2020     10   25       9      5  35.59   21.00 2020-10-25   \n",
       "66580   395.60  2020     10   25       9      6  37.08   21.00 2020-10-25   \n",
       "66581   395.60  2020     10   25       9      7  37.77   21.00 2020-10-25   \n",
       "66582   395.60  2020     10   25       9      8  38.46   21.00 2020-10-25   \n",
       "66583   395.60  2020     10   25       9      9  39.65   21.00 2020-10-25   \n",
       "66584   395.60  2020     10   25       9     10  40.84   21.00 2020-10-25   \n",
       "66585   395.60  2020     10   25       9     11  42.53   20.70 2020-10-25   \n",
       "66586   395.60  2020     10   25       9     12 180.30   35.60 2020-10-25   \n",
       "66587   395.60  2020     10   25      10      1   1.13  150.30 2020-10-25   \n",
       "66588   395.60  2020     10   25      10      2  33.52   21.00 2020-10-25   \n",
       "66589   395.60  2020     10   25      10      3  34.21   21.00 2020-10-25   \n",
       "66590   395.60  2020     10   25      10      4  34.90   21.00 2020-10-25   \n",
       "66591   395.60  2020     10   25      10      5  35.59   21.00 2020-10-25   \n",
       "66592   395.60  2020     10   25      10      6  37.08   21.00 2020-10-25   \n",
       "66593   395.60  2020     10   25      10      7  37.77   21.00 2020-10-25   \n",
       "66594   395.60  2020     10   25      10      8  38.46   21.00 2020-10-25   \n",
       "66595   395.60  2020     10   25      10      9  39.65   21.00 2020-10-25   \n",
       "66596   395.60  2020     10   25      10     10  40.84   21.00 2020-10-25   \n",
       "66597   395.60  2020     10   25      10     11  42.53   10.70 2020-10-25   \n",
       "66598   395.60  2020     10   25      10     12 180.30   45.60 2020-10-25   \n",
       "\n",
       "      Weekday  Energy_tot  \n",
       "66575  Sunday      150.30  \n",
       "66576  Sunday      171.30  \n",
       "66577  Sunday      192.30  \n",
       "66578  Sunday      213.30  \n",
       "66579  Sunday      234.30  \n",
       "66580  Sunday      255.30  \n",
       "66581  Sunday      276.30  \n",
       "66582  Sunday      297.30  \n",
       "66583  Sunday      318.30  \n",
       "66584  Sunday      339.30  \n",
       "66585  Sunday      360.00  \n",
       "66586  Sunday      395.60  \n",
       "66587  Sunday      150.30  \n",
       "66588  Sunday      171.30  \n",
       "66589  Sunday      192.30  \n",
       "66590  Sunday      213.30  \n",
       "66591  Sunday      234.30  \n",
       "66592  Sunday      255.30  \n",
       "66593  Sunday      276.30  \n",
       "66594  Sunday      297.30  \n",
       "66595  Sunday      318.30  \n",
       "66596  Sunday      339.30  \n",
       "66597  Sunday      350.00  \n",
       "66598  Sunday      395.60  "
      ]
     },
     "execution_count": 67,
     "metadata": {},
     "output_type": "execute_result"
    }
   ],
   "source": [
    "df_curve[(df_curve['Date']==days_25h[0])&(df_curve['Period'].isin([9,10]))]"
   ]
  },
  {
   "cell_type": "code",
   "execution_count": 68,
   "metadata": {
    "scrolled": true
   },
   "outputs": [
    {
     "data": {
      "text/html": [
       "<div>\n",
       "<style scoped>\n",
       "    .dataframe tbody tr th:only-of-type {\n",
       "        vertical-align: middle;\n",
       "    }\n",
       "\n",
       "    .dataframe tbody tr th {\n",
       "        vertical-align: top;\n",
       "    }\n",
       "\n",
       "    .dataframe thead th {\n",
       "        text-align: right;\n",
       "    }\n",
       "</style>\n",
       "<table border=\"1\" class=\"dataframe\">\n",
       "  <thead>\n",
       "    <tr style=\"text-align: right;\">\n",
       "      <th></th>\n",
       "      <th>Pot_max</th>\n",
       "      <th>Year</th>\n",
       "      <th>Month</th>\n",
       "      <th>Day</th>\n",
       "      <th>Period</th>\n",
       "      <th>Block</th>\n",
       "      <th>Price</th>\n",
       "      <th>Energy</th>\n",
       "      <th>Date</th>\n",
       "      <th>Weekday</th>\n",
       "      <th>Energy_tot</th>\n",
       "    </tr>\n",
       "  </thead>\n",
       "  <tbody>\n",
       "    <tr>\n",
       "      <th>25299</th>\n",
       "      <td>395.60</td>\n",
       "      <td>2020</td>\n",
       "      <td>3</td>\n",
       "      <td>29</td>\n",
       "      <td>9</td>\n",
       "      <td>1</td>\n",
       "      <td>1.13</td>\n",
       "      <td>150.30</td>\n",
       "      <td>2020-03-29</td>\n",
       "      <td>Sunday</td>\n",
       "      <td>150.30</td>\n",
       "    </tr>\n",
       "    <tr>\n",
       "      <th>25300</th>\n",
       "      <td>395.60</td>\n",
       "      <td>2020</td>\n",
       "      <td>3</td>\n",
       "      <td>29</td>\n",
       "      <td>9</td>\n",
       "      <td>2</td>\n",
       "      <td>40.67</td>\n",
       "      <td>21.00</td>\n",
       "      <td>2020-03-29</td>\n",
       "      <td>Sunday</td>\n",
       "      <td>171.30</td>\n",
       "    </tr>\n",
       "    <tr>\n",
       "      <th>25301</th>\n",
       "      <td>395.60</td>\n",
       "      <td>2020</td>\n",
       "      <td>3</td>\n",
       "      <td>29</td>\n",
       "      <td>9</td>\n",
       "      <td>3</td>\n",
       "      <td>41.86</td>\n",
       "      <td>13.70</td>\n",
       "      <td>2020-03-29</td>\n",
       "      <td>Sunday</td>\n",
       "      <td>185.00</td>\n",
       "    </tr>\n",
       "    <tr>\n",
       "      <th>25302</th>\n",
       "      <td>395.60</td>\n",
       "      <td>2020</td>\n",
       "      <td>3</td>\n",
       "      <td>29</td>\n",
       "      <td>9</td>\n",
       "      <td>12</td>\n",
       "      <td>180.30</td>\n",
       "      <td>210.60</td>\n",
       "      <td>2020-03-29</td>\n",
       "      <td>Sunday</td>\n",
       "      <td>395.60</td>\n",
       "    </tr>\n",
       "    <tr>\n",
       "      <th>25303</th>\n",
       "      <td>395.60</td>\n",
       "      <td>2020</td>\n",
       "      <td>3</td>\n",
       "      <td>29</td>\n",
       "      <td>10</td>\n",
       "      <td>1</td>\n",
       "      <td>1.13</td>\n",
       "      <td>150.30</td>\n",
       "      <td>2020-03-29</td>\n",
       "      <td>Sunday</td>\n",
       "      <td>150.30</td>\n",
       "    </tr>\n",
       "    <tr>\n",
       "      <th>25304</th>\n",
       "      <td>395.60</td>\n",
       "      <td>2020</td>\n",
       "      <td>3</td>\n",
       "      <td>29</td>\n",
       "      <td>10</td>\n",
       "      <td>2</td>\n",
       "      <td>40.67</td>\n",
       "      <td>21.00</td>\n",
       "      <td>2020-03-29</td>\n",
       "      <td>Sunday</td>\n",
       "      <td>171.30</td>\n",
       "    </tr>\n",
       "    <tr>\n",
       "      <th>25305</th>\n",
       "      <td>395.60</td>\n",
       "      <td>2020</td>\n",
       "      <td>3</td>\n",
       "      <td>29</td>\n",
       "      <td>10</td>\n",
       "      <td>3</td>\n",
       "      <td>41.86</td>\n",
       "      <td>21.00</td>\n",
       "      <td>2020-03-29</td>\n",
       "      <td>Sunday</td>\n",
       "      <td>192.30</td>\n",
       "    </tr>\n",
       "    <tr>\n",
       "      <th>25306</th>\n",
       "      <td>395.60</td>\n",
       "      <td>2020</td>\n",
       "      <td>3</td>\n",
       "      <td>29</td>\n",
       "      <td>10</td>\n",
       "      <td>4</td>\n",
       "      <td>43.05</td>\n",
       "      <td>21.00</td>\n",
       "      <td>2020-03-29</td>\n",
       "      <td>Sunday</td>\n",
       "      <td>213.30</td>\n",
       "    </tr>\n",
       "    <tr>\n",
       "      <th>25307</th>\n",
       "      <td>395.60</td>\n",
       "      <td>2020</td>\n",
       "      <td>3</td>\n",
       "      <td>29</td>\n",
       "      <td>10</td>\n",
       "      <td>5</td>\n",
       "      <td>44.24</td>\n",
       "      <td>21.00</td>\n",
       "      <td>2020-03-29</td>\n",
       "      <td>Sunday</td>\n",
       "      <td>234.30</td>\n",
       "    </tr>\n",
       "    <tr>\n",
       "      <th>25308</th>\n",
       "      <td>395.60</td>\n",
       "      <td>2020</td>\n",
       "      <td>3</td>\n",
       "      <td>29</td>\n",
       "      <td>10</td>\n",
       "      <td>6</td>\n",
       "      <td>45.43</td>\n",
       "      <td>21.00</td>\n",
       "      <td>2020-03-29</td>\n",
       "      <td>Sunday</td>\n",
       "      <td>255.30</td>\n",
       "    </tr>\n",
       "    <tr>\n",
       "      <th>25309</th>\n",
       "      <td>395.60</td>\n",
       "      <td>2020</td>\n",
       "      <td>3</td>\n",
       "      <td>29</td>\n",
       "      <td>10</td>\n",
       "      <td>7</td>\n",
       "      <td>46.61</td>\n",
       "      <td>21.00</td>\n",
       "      <td>2020-03-29</td>\n",
       "      <td>Sunday</td>\n",
       "      <td>276.30</td>\n",
       "    </tr>\n",
       "    <tr>\n",
       "      <th>25310</th>\n",
       "      <td>395.60</td>\n",
       "      <td>2020</td>\n",
       "      <td>3</td>\n",
       "      <td>29</td>\n",
       "      <td>10</td>\n",
       "      <td>8</td>\n",
       "      <td>47.80</td>\n",
       "      <td>21.00</td>\n",
       "      <td>2020-03-29</td>\n",
       "      <td>Sunday</td>\n",
       "      <td>297.30</td>\n",
       "    </tr>\n",
       "    <tr>\n",
       "      <th>25311</th>\n",
       "      <td>395.60</td>\n",
       "      <td>2020</td>\n",
       "      <td>3</td>\n",
       "      <td>29</td>\n",
       "      <td>10</td>\n",
       "      <td>9</td>\n",
       "      <td>48.99</td>\n",
       "      <td>21.00</td>\n",
       "      <td>2020-03-29</td>\n",
       "      <td>Sunday</td>\n",
       "      <td>318.30</td>\n",
       "    </tr>\n",
       "    <tr>\n",
       "      <th>25312</th>\n",
       "      <td>395.60</td>\n",
       "      <td>2020</td>\n",
       "      <td>3</td>\n",
       "      <td>29</td>\n",
       "      <td>10</td>\n",
       "      <td>10</td>\n",
       "      <td>50.18</td>\n",
       "      <td>21.00</td>\n",
       "      <td>2020-03-29</td>\n",
       "      <td>Sunday</td>\n",
       "      <td>339.30</td>\n",
       "    </tr>\n",
       "    <tr>\n",
       "      <th>25313</th>\n",
       "      <td>395.60</td>\n",
       "      <td>2020</td>\n",
       "      <td>3</td>\n",
       "      <td>29</td>\n",
       "      <td>10</td>\n",
       "      <td>11</td>\n",
       "      <td>51.36</td>\n",
       "      <td>21.00</td>\n",
       "      <td>2020-03-29</td>\n",
       "      <td>Sunday</td>\n",
       "      <td>360.30</td>\n",
       "    </tr>\n",
       "    <tr>\n",
       "      <th>25314</th>\n",
       "      <td>395.60</td>\n",
       "      <td>2020</td>\n",
       "      <td>3</td>\n",
       "      <td>29</td>\n",
       "      <td>10</td>\n",
       "      <td>12</td>\n",
       "      <td>180.30</td>\n",
       "      <td>35.30</td>\n",
       "      <td>2020-03-29</td>\n",
       "      <td>Sunday</td>\n",
       "      <td>395.60</td>\n",
       "    </tr>\n",
       "  </tbody>\n",
       "</table>\n",
       "</div>"
      ],
      "text/plain": [
       "       Pot_max  Year  Month  Day  Period  Block  Price  Energy       Date  \\\n",
       "25299   395.60  2020      3   29       9      1   1.13  150.30 2020-03-29   \n",
       "25300   395.60  2020      3   29       9      2  40.67   21.00 2020-03-29   \n",
       "25301   395.60  2020      3   29       9      3  41.86   13.70 2020-03-29   \n",
       "25302   395.60  2020      3   29       9     12 180.30  210.60 2020-03-29   \n",
       "25303   395.60  2020      3   29      10      1   1.13  150.30 2020-03-29   \n",
       "25304   395.60  2020      3   29      10      2  40.67   21.00 2020-03-29   \n",
       "25305   395.60  2020      3   29      10      3  41.86   21.00 2020-03-29   \n",
       "25306   395.60  2020      3   29      10      4  43.05   21.00 2020-03-29   \n",
       "25307   395.60  2020      3   29      10      5  44.24   21.00 2020-03-29   \n",
       "25308   395.60  2020      3   29      10      6  45.43   21.00 2020-03-29   \n",
       "25309   395.60  2020      3   29      10      7  46.61   21.00 2020-03-29   \n",
       "25310   395.60  2020      3   29      10      8  47.80   21.00 2020-03-29   \n",
       "25311   395.60  2020      3   29      10      9  48.99   21.00 2020-03-29   \n",
       "25312   395.60  2020      3   29      10     10  50.18   21.00 2020-03-29   \n",
       "25313   395.60  2020      3   29      10     11  51.36   21.00 2020-03-29   \n",
       "25314   395.60  2020      3   29      10     12 180.30   35.30 2020-03-29   \n",
       "\n",
       "      Weekday  Energy_tot  \n",
       "25299  Sunday      150.30  \n",
       "25300  Sunday      171.30  \n",
       "25301  Sunday      185.00  \n",
       "25302  Sunday      395.60  \n",
       "25303  Sunday      150.30  \n",
       "25304  Sunday      171.30  \n",
       "25305  Sunday      192.30  \n",
       "25306  Sunday      213.30  \n",
       "25307  Sunday      234.30  \n",
       "25308  Sunday      255.30  \n",
       "25309  Sunday      276.30  \n",
       "25310  Sunday      297.30  \n",
       "25311  Sunday      318.30  \n",
       "25312  Sunday      339.30  \n",
       "25313  Sunday      360.30  \n",
       "25314  Sunday      395.60  "
      ]
     },
     "execution_count": 68,
     "metadata": {},
     "output_type": "execute_result"
    }
   ],
   "source": [
    "df_curve[(df_curve['Date']==days_23h[0])&(df_curve['Period'].isin([9,10]))]"
   ]
  },
  {
   "cell_type": "code",
   "execution_count": null,
   "metadata": {},
   "outputs": [],
   "source": []
  },
  {
   "cell_type": "markdown",
   "metadata": {},
   "source": [
    "### 2.3. PLOTTING DATA INFORMATION"
   ]
  },
  {
   "cell_type": "code",
   "execution_count": 69,
   "metadata": {
    "scrolled": true
   },
   "outputs": [
    {
     "data": {
      "text/plain": [
       "[<matplotlib.lines.Line2D at 0x7f0b5cc453d0>]"
      ]
     },
     "execution_count": 69,
     "metadata": {},
     "output_type": "execute_result"
    },
    {
     "data": {
      "image/png": "[encoded data removed]",
      "text/plain": [
       "<Figure size 432x288 with 1 Axes>"
      ]
     },
     "metadata": {
      "needs_background": "light"
     },
     "output_type": "display_data"
    }
   ],
   "source": [
    "plot_bid_curve(df_curve, '2020-10-31', 24)"
   ]
  },
  {
   "cell_type": "code",
   "execution_count": 70,
   "metadata": {},
   "outputs": [
    {
     "data": {
      "text/plain": [
       "[<matplotlib.lines.Line2D at 0x7f0b5c0c2cd0>]"
      ]
     },
     "execution_count": 70,
     "metadata": {},
     "output_type": "execute_result"
    },
    {
     "data": {
      "image/png": "[encoded data removed]",
      "text/plain": [
       "<Figure size 432x288 with 1 Axes>"
      ]
     },
     "metadata": {
      "needs_background": "light"
     },
     "output_type": "display_data"
    }
   ],
   "source": [
    "plot_bid_curve(df_curve,'2020-10-31', 1)"
   ]
  },
  {
   "cell_type": "code",
   "execution_count": 71,
   "metadata": {
    "scrolled": false
   },
   "outputs": [
    {
     "data": {
      "text/plain": [
       "[<matplotlib.lines.Line2D at 0x7f0b5c0a8670>]"
      ]
     },
     "execution_count": 71,
     "metadata": {},
     "output_type": "execute_result"
    },
    {
     "data": {
      "image/png": "[encoded data removed]",
      "text/plain": [
       "<Figure size 432x288 with 1 Axes>"
      ]
     },
     "metadata": {
      "needs_background": "light"
     },
     "output_type": "display_data"
    }
   ],
   "source": [
    "plot_bid_curve(df_curve,'2020-8-25', 1)"
   ]
  },
  {
   "cell_type": "code",
   "execution_count": 72,
   "metadata": {
    "scrolled": true
   },
   "outputs": [
    {
     "data": {
      "text/plain": [
       "[<matplotlib.lines.Line2D at 0x7f0b57fcfc70>]"
      ]
     },
     "execution_count": 72,
     "metadata": {},
     "output_type": "execute_result"
    },
    {
     "data": {
      "image/png": "[encoded data removed]",
      "text/plain": [
       "<Figure size 432x288 with 1 Axes>"
      ]
     },
     "metadata": {
      "needs_background": "light"
     },
     "output_type": "display_data"
    }
   ],
   "source": [
    "plot_bid_curve(df_curve,'2020-8-25',4)"
   ]
  },
  {
   "cell_type": "code",
   "execution_count": 73,
   "metadata": {
    "scrolled": true
   },
   "outputs": [
    {
     "data": {
      "text/html": [
       "<div>\n",
       "<style scoped>\n",
       "    .dataframe tbody tr th:only-of-type {\n",
       "        vertical-align: middle;\n",
       "    }\n",
       "\n",
       "    .dataframe tbody tr th {\n",
       "        vertical-align: top;\n",
       "    }\n",
       "\n",
       "    .dataframe thead th {\n",
       "        text-align: right;\n",
       "    }\n",
       "</style>\n",
       "<table border=\"1\" class=\"dataframe\">\n",
       "  <thead>\n",
       "    <tr style=\"text-align: right;\">\n",
       "      <th></th>\n",
       "      <th>Pot_max</th>\n",
       "      <th>Year</th>\n",
       "      <th>Month</th>\n",
       "      <th>Day</th>\n",
       "      <th>Period</th>\n",
       "      <th>Block</th>\n",
       "      <th>Price</th>\n",
       "      <th>Energy</th>\n",
       "      <th>Date</th>\n",
       "      <th>Weekday</th>\n",
       "      <th>Energy_tot</th>\n",
       "    </tr>\n",
       "  </thead>\n",
       "  <tbody>\n",
       "  </tbody>\n",
       "</table>\n",
       "</div>"
      ],
      "text/plain": [
       "Empty DataFrame\n",
       "Columns: [Pot_max, Year, Month, Day, Period, Block, Price, Energy, Date, Weekday, Energy_tot]\n",
       "Index: []"
      ]
     },
     "execution_count": 73,
     "metadata": {},
     "output_type": "execute_result"
    }
   ],
   "source": [
    "df_curve[(df_curve['Date'] == '2019-11-9') & (df_curve['Period'] == 4)]"
   ]
  },
  {
   "cell_type": "code",
   "execution_count": 74,
   "metadata": {},
   "outputs": [
    {
     "data": {
      "image/png": "[encoded data removed]",
      "text/plain": [
       "<Figure size 432x288 with 1 Axes>"
      ]
     },
     "metadata": {
      "needs_background": "light"
     },
     "output_type": "display_data"
    }
   ],
   "source": [
    "for block in range(1, df_curve['Block'].max()+1):\n",
    "    plt.scatter(df_curve[df_curve['Block']==block]['Date'],df_curve[df_curve['Block']==block]['Price'])"
   ]
  },
  {
   "cell_type": "code",
   "execution_count": 75,
   "metadata": {
    "scrolled": true
   },
   "outputs": [
    {
     "data": {
      "image/png": "[encoded data removed]",
      "text/plain": [
       "<Figure size 432x288 with 1 Axes>"
      ]
     },
     "metadata": {
      "needs_background": "light"
     },
     "output_type": "display_data"
    }
   ],
   "source": [
    "for block in range(2, df_curve['Block'].max()):\n",
    "    plt.scatter(df_curve[df_curve['Block']==block]['Date'],df_curve[df_curve['Block']==block]['Price'])"
   ]
  },
  {
   "cell_type": "code",
   "execution_count": 77,
   "metadata": {},
   "outputs": [
    {
     "data": {
      "image/png": "[encoded data removed]",
      "text/plain": [
       "<Figure size 432x288 with 1 Axes>"
      ]
     },
     "metadata": {
      "needs_background": "light"
     },
     "output_type": "display_data"
    }
   ],
   "source": [
    "for block in range(2, df_curve['Block'].max()):\n",
    "    df_curve[df_curve['Block']==block]['Price'].plot(linewidth=0.5)"
   ]
  },
  {
   "cell_type": "code",
   "execution_count": null,
   "metadata": {},
   "outputs": [],
   "source": []
  },
  {
   "cell_type": "code",
   "execution_count": 147,
   "metadata": {},
   "outputs": [
    {
     "data": {
      "image/png": "[encoded data removed]",
      "text/plain": [
       "<Figure size 432x288 with 1 Axes>"
      ]
     },
     "metadata": {
      "needs_background": "light"
     },
     "output_type": "display_data"
    }
   ],
   "source": [
    "for block in range(1, df_curve['Block'].max()+1):\n",
    "    plt.scatter(df_curve[df_curve['Block']==block]['Date'],df_curve[df_curve['Block']==block]['Energy_tot'])"
   ]
  },
  {
   "cell_type": "code",
   "execution_count": 148,
   "metadata": {},
   "outputs": [
    {
     "data": {
      "image/png": "[encoded data removed]",
      "text/plain": [
       "<Figure size 432x288 with 1 Axes>"
      ]
     },
     "metadata": {
      "needs_background": "light"
     },
     "output_type": "display_data"
    }
   ],
   "source": [
    "for block in range(2, df_curve['Block'].max()):\n",
    "    plt.scatter(df_curve[df_curve['Block']==block]['Date'],df_curve[df_curve['Block']==block]['Energy_tot'])"
   ]
  },
  {
   "cell_type": "code",
   "execution_count": null,
   "metadata": {},
   "outputs": [],
   "source": []
  },
  {
   "cell_type": "code",
   "execution_count": 149,
   "metadata": {},
   "outputs": [
    {
     "data": {
      "image/png": "[encoded data removed]",
      "text/plain": [
       "<Figure size 432x288 with 1 Axes>"
      ]
     },
     "metadata": {
      "needs_background": "light"
     },
     "output_type": "display_data"
    }
   ],
   "source": [
    "for block in range(2, 6):\n",
    "    plt.scatter(df_curve[df_curve['Block']==block]['Date'],df_curve[df_curve['Block']==block]['Energy_tot'])"
   ]
  },
  {
   "cell_type": "code",
   "execution_count": null,
   "metadata": {},
   "outputs": [],
   "source": []
  },
  {
   "cell_type": "markdown",
   "metadata": {},
   "source": [
    "## 3. DATA WRANGLING"
   ]
  },
  {
   "cell_type": "markdown",
   "metadata": {},
   "source": [
    "### 3.1. CREATING A NEW DATAFRAME CONVERTING ALL DAYS INTO 24h-DAYS\n",
    "\n",
    "First of all a new dataframe is created considering that all days have 24h. In order to do it, it is deleted..."
   ]
  },
  {
   "cell_type": "code",
   "execution_count": 150,
   "metadata": {},
   "outputs": [],
   "source": [
    "#New dataframe is created considering 24h for all days\n",
    "df_curve_24h = df_curve.copy()"
   ]
  },
  {
   "cell_type": "code",
   "execution_count": 151,
   "metadata": {},
   "outputs": [],
   "source": [
    "#Funtions needed for renaming periods in 23h-days and 25h-days.\n",
    "\n",
    "def change_25h_to24h(x):\n",
    "    if x >= 4:\n",
    "        x -= 1\n",
    "    return x\n",
    "\n",
    "def change_23h_to24h(x):\n",
    "    if x >= 2:\n",
    "        x += 1\n",
    "    return x"
   ]
  },
  {
   "cell_type": "code",
   "execution_count": 152,
   "metadata": {},
   "outputs": [],
   "source": [
    "#Transforming 25h-day into 24h-day.\n",
    "\n",
    "for date_25h in days_25h:\n",
    "    #dataframe only with 25h-day data\n",
    "    df_curve_day25h = df_curve_24h[df_curve_24h['Date']==date_25h]\n",
    "    #Deleting period 3 from 25h-days.\n",
    "    df_curve_day25h = df_curve_day25h.drop(df_curve_day25h.loc[df_curve_day25h['Period']==3].index)\n",
    "    #Renaming periods from 4 to 25 to 3 to 24\n",
    "    df_curve_day25h['Period'] = df_curve_day25h['Period'].apply(change_25h_to24h)\n",
    "    df_curve_24h = df_curve_24h.drop(df_curve_24h[df_curve_24h['Date']==date_25h].index)\n",
    "    df_curve_24h = pd.concat([df_curve_24h,df_curve_day25h])"
   ]
  },
  {
   "cell_type": "code",
   "execution_count": 153,
   "metadata": {
    "scrolled": true
   },
   "outputs": [
    {
     "name": "stderr",
     "output_type": "stream",
     "text": [
      "<ipython-input-153-377225477582>:6: SettingWithCopyWarning: \n",
      "A value is trying to be set on a copy of a slice from a DataFrame.\n",
      "Try using .loc[row_indexer,col_indexer] = value instead\n",
      "\n",
      "See the caveats in the documentation: https://pandas.pydata.org/pandas-docs/stable/user_guide/indexing.html#returning-a-view-versus-a-copy\n",
      "  df_curve_day23h['Period'] = df_curve_day23h['Period'].apply(change_23h_to24h)\n",
      "<ipython-input-153-377225477582>:9: SettingWithCopyWarning: \n",
      "A value is trying to be set on a copy of a slice from a DataFrame.\n",
      "Try using .loc[row_indexer,col_indexer] = value instead\n",
      "\n",
      "See the caveats in the documentation: https://pandas.pydata.org/pandas-docs/stable/user_guide/indexing.html#returning-a-view-versus-a-copy\n",
      "  df_curve_day23h_period1['Period'] = df_curve_day23h_period1['Period'].apply(lambda x: x+1)\n"
     ]
    }
   ],
   "source": [
    "#Transforming 23h-day into 24h-day.\n",
    "\n",
    "for date_23h in days_23h:\n",
    "    df_curve_day23h = df_curve_24h[df_curve_24h['Date']==date_23h]\n",
    "    #Renaming periods from 2 to 23 to 3 to 24\n",
    "    df_curve_day23h['Period'] = df_curve_day23h['Period'].apply(change_23h_to24h)\n",
    "    #Copying period 1 as period 2 and renaming it\n",
    "    df_curve_day23h_period1 = df_curve_day23h[(df_curve_day23h['Date']==date_23h)&(df_curve_day23h['Period']==1)]\n",
    "    df_curve_day23h_period1['Period'] = df_curve_day23h_period1['Period'].apply(lambda x: x+1)\n",
    "    df_curve_day23h = df_curve_day23h.append(df_curve_day23h_period1, ignore_index=True)\n",
    "    df_curve_24h = df_curve_24h.drop(df_curve_24h[df_curve_24h['Date']==date_23h].index)\n",
    "    df_curve_24h = pd.concat([df_curve_24h,df_curve_day23h])"
   ]
  },
  {
   "cell_type": "code",
   "execution_count": null,
   "metadata": {},
   "outputs": [],
   "source": []
  },
  {
   "cell_type": "code",
   "execution_count": 154,
   "metadata": {
    "scrolled": true
   },
   "outputs": [
    {
     "data": {
      "text/html": [
       "<div>\n",
       "<style scoped>\n",
       "    .dataframe tbody tr th:only-of-type {\n",
       "        vertical-align: middle;\n",
       "    }\n",
       "\n",
       "    .dataframe tbody tr th {\n",
       "        vertical-align: top;\n",
       "    }\n",
       "\n",
       "    .dataframe thead th {\n",
       "        text-align: right;\n",
       "    }\n",
       "</style>\n",
       "<table border=\"1\" class=\"dataframe\">\n",
       "  <thead>\n",
       "    <tr style=\"text-align: right;\">\n",
       "      <th></th>\n",
       "      <th>Pot_max</th>\n",
       "      <th>Year</th>\n",
       "      <th>Month</th>\n",
       "      <th>Day</th>\n",
       "      <th>Period</th>\n",
       "      <th>Block</th>\n",
       "      <th>Price</th>\n",
       "      <th>Energy</th>\n",
       "      <th>Date</th>\n",
       "      <th>Weekday</th>\n",
       "      <th>Energy_tot</th>\n",
       "    </tr>\n",
       "  </thead>\n",
       "  <tbody>\n",
       "    <tr>\n",
       "      <th>0</th>\n",
       "      <td>395.60</td>\n",
       "      <td>2019</td>\n",
       "      <td>11</td>\n",
       "      <td>20</td>\n",
       "      <td>1</td>\n",
       "      <td>12</td>\n",
       "      <td>180.30</td>\n",
       "      <td>395.60</td>\n",
       "      <td>2019-11-20</td>\n",
       "      <td>Wednesday</td>\n",
       "      <td>395.60</td>\n",
       "    </tr>\n",
       "    <tr>\n",
       "      <th>1</th>\n",
       "      <td>395.60</td>\n",
       "      <td>2019</td>\n",
       "      <td>11</td>\n",
       "      <td>20</td>\n",
       "      <td>2</td>\n",
       "      <td>12</td>\n",
       "      <td>180.30</td>\n",
       "      <td>395.60</td>\n",
       "      <td>2019-11-20</td>\n",
       "      <td>Wednesday</td>\n",
       "      <td>395.60</td>\n",
       "    </tr>\n",
       "    <tr>\n",
       "      <th>2</th>\n",
       "      <td>395.60</td>\n",
       "      <td>2019</td>\n",
       "      <td>11</td>\n",
       "      <td>20</td>\n",
       "      <td>3</td>\n",
       "      <td>12</td>\n",
       "      <td>180.30</td>\n",
       "      <td>395.60</td>\n",
       "      <td>2019-11-20</td>\n",
       "      <td>Wednesday</td>\n",
       "      <td>395.60</td>\n",
       "    </tr>\n",
       "    <tr>\n",
       "      <th>3</th>\n",
       "      <td>395.60</td>\n",
       "      <td>2019</td>\n",
       "      <td>11</td>\n",
       "      <td>20</td>\n",
       "      <td>4</td>\n",
       "      <td>12</td>\n",
       "      <td>180.30</td>\n",
       "      <td>395.60</td>\n",
       "      <td>2019-11-20</td>\n",
       "      <td>Wednesday</td>\n",
       "      <td>395.60</td>\n",
       "    </tr>\n",
       "    <tr>\n",
       "      <th>4</th>\n",
       "      <td>395.60</td>\n",
       "      <td>2019</td>\n",
       "      <td>11</td>\n",
       "      <td>20</td>\n",
       "      <td>5</td>\n",
       "      <td>1</td>\n",
       "      <td>1.13</td>\n",
       "      <td>50.00</td>\n",
       "      <td>2019-11-20</td>\n",
       "      <td>Wednesday</td>\n",
       "      <td>50.00</td>\n",
       "    </tr>\n",
       "    <tr>\n",
       "      <th>...</th>\n",
       "      <td>...</td>\n",
       "      <td>...</td>\n",
       "      <td>...</td>\n",
       "      <td>...</td>\n",
       "      <td>...</td>\n",
       "      <td>...</td>\n",
       "      <td>...</td>\n",
       "      <td>...</td>\n",
       "      <td>...</td>\n",
       "      <td>...</td>\n",
       "      <td>...</td>\n",
       "    </tr>\n",
       "    <tr>\n",
       "      <th>68029</th>\n",
       "      <td>395.60</td>\n",
       "      <td>2020</td>\n",
       "      <td>10</td>\n",
       "      <td>31</td>\n",
       "      <td>23</td>\n",
       "      <td>10</td>\n",
       "      <td>36.94</td>\n",
       "      <td>21.00</td>\n",
       "      <td>2020-10-31</td>\n",
       "      <td>Saturday</td>\n",
       "      <td>339.30</td>\n",
       "    </tr>\n",
       "    <tr>\n",
       "      <th>68030</th>\n",
       "      <td>395.60</td>\n",
       "      <td>2020</td>\n",
       "      <td>10</td>\n",
       "      <td>31</td>\n",
       "      <td>23</td>\n",
       "      <td>11</td>\n",
       "      <td>38.56</td>\n",
       "      <td>20.70</td>\n",
       "      <td>2020-10-31</td>\n",
       "      <td>Saturday</td>\n",
       "      <td>360.00</td>\n",
       "    </tr>\n",
       "    <tr>\n",
       "      <th>68031</th>\n",
       "      <td>395.60</td>\n",
       "      <td>2020</td>\n",
       "      <td>10</td>\n",
       "      <td>31</td>\n",
       "      <td>23</td>\n",
       "      <td>12</td>\n",
       "      <td>180.30</td>\n",
       "      <td>35.60</td>\n",
       "      <td>2020-10-31</td>\n",
       "      <td>Saturday</td>\n",
       "      <td>395.60</td>\n",
       "    </tr>\n",
       "    <tr>\n",
       "      <th>68032</th>\n",
       "      <td>395.60</td>\n",
       "      <td>2020</td>\n",
       "      <td>10</td>\n",
       "      <td>31</td>\n",
       "      <td>24</td>\n",
       "      <td>1</td>\n",
       "      <td>1.13</td>\n",
       "      <td>100.00</td>\n",
       "      <td>2020-10-31</td>\n",
       "      <td>Saturday</td>\n",
       "      <td>100.00</td>\n",
       "    </tr>\n",
       "    <tr>\n",
       "      <th>68033</th>\n",
       "      <td>395.60</td>\n",
       "      <td>2020</td>\n",
       "      <td>10</td>\n",
       "      <td>31</td>\n",
       "      <td>24</td>\n",
       "      <td>12</td>\n",
       "      <td>180.30</td>\n",
       "      <td>295.60</td>\n",
       "      <td>2020-10-31</td>\n",
       "      <td>Saturday</td>\n",
       "      <td>395.60</td>\n",
       "    </tr>\n",
       "  </tbody>\n",
       "</table>\n",
       "<p>68034 rows × 11 columns</p>\n",
       "</div>"
      ],
      "text/plain": [
       "       Pot_max  Year  Month  Day  Period  Block  Price  Energy       Date  \\\n",
       "0       395.60  2019     11   20       1     12 180.30  395.60 2019-11-20   \n",
       "1       395.60  2019     11   20       2     12 180.30  395.60 2019-11-20   \n",
       "2       395.60  2019     11   20       3     12 180.30  395.60 2019-11-20   \n",
       "3       395.60  2019     11   20       4     12 180.30  395.60 2019-11-20   \n",
       "4       395.60  2019     11   20       5      1   1.13   50.00 2019-11-20   \n",
       "...        ...   ...    ...  ...     ...    ...    ...     ...        ...   \n",
       "68029   395.60  2020     10   31      23     10  36.94   21.00 2020-10-31   \n",
       "68030   395.60  2020     10   31      23     11  38.56   20.70 2020-10-31   \n",
       "68031   395.60  2020     10   31      23     12 180.30   35.60 2020-10-31   \n",
       "68032   395.60  2020     10   31      24      1   1.13  100.00 2020-10-31   \n",
       "68033   395.60  2020     10   31      24     12 180.30  295.60 2020-10-31   \n",
       "\n",
       "         Weekday  Energy_tot  \n",
       "0      Wednesday      395.60  \n",
       "1      Wednesday      395.60  \n",
       "2      Wednesday      395.60  \n",
       "3      Wednesday      395.60  \n",
       "4      Wednesday       50.00  \n",
       "...          ...         ...  \n",
       "68029   Saturday      339.30  \n",
       "68030   Saturday      360.00  \n",
       "68031   Saturday      395.60  \n",
       "68032   Saturday      100.00  \n",
       "68033   Saturday      395.60  \n",
       "\n",
       "[68034 rows x 11 columns]"
      ]
     },
     "execution_count": 154,
     "metadata": {},
     "output_type": "execute_result"
    }
   ],
   "source": [
    "df_curve_24h = df_curve_24h.sort_values(['Date','Period','Block']).reset_index(drop=True)\n",
    "df_curve_24h"
   ]
  },
  {
   "cell_type": "code",
   "execution_count": null,
   "metadata": {},
   "outputs": [],
   "source": []
  },
  {
   "cell_type": "code",
   "execution_count": 155,
   "metadata": {},
   "outputs": [
    {
     "data": {
      "text/plain": [
       "((68034, 11), (68034, 11))"
      ]
     },
     "execution_count": 155,
     "metadata": {},
     "output_type": "execute_result"
    }
   ],
   "source": [
    "df_curve_24h.shape, df_curve.shape"
   ]
  },
  {
   "cell_type": "code",
   "execution_count": null,
   "metadata": {},
   "outputs": [],
   "source": []
  },
  {
   "cell_type": "markdown",
   "metadata": {},
   "source": [
    "\n",
    "### 3.2. CREATING A NEW DATAFRAME WITH ALL BLOCKS PER EACH HOUR \n",
    "\n",
    "In this section a new dataframe will be created from the original one (with only 24h-days) by completing the information por every hour that does not have all blocks (12). \n",
    "\n",
    "It is important to point out that in the original dataframe does not have 12 blocks per each hour (or period), since not always is necessary in the biding curve. In order to use the information in the models that will be created, it is important that every hour is divided in 12 blocks. \n",
    "\n",
    "As the original dataframe does not have all days and hours for a given period, it is decided to create a new dataframe equal to the original one (only for dates, hours and blocks) but with all 12 blocks per each hour in the orignal data.\n",
    "\n",
    "The new dataframe is created considering a df structure for 1 Block and then copy this new df, changing the number of the block and appending it to the original. The correct structure of the df will be created by doing it 12 times.\n",
    "\n",
    "Then this new dataframe will be merged with the original one so NaN will be created for all the columns without blocks in the original dataframe. This NaN will be filled depending on each case."
   ]
  },
  {
   "cell_type": "code",
   "execution_count": null,
   "metadata": {},
   "outputs": [],
   "source": []
  },
  {
   "cell_type": "markdown",
   "metadata": {},
   "source": [
    "#### 3.2.1. CREATING AN EMPTY DATAFRAME WITH THE SAME STRUCTRUE AS THE ORIGINAL WITH 24h-DAYS AND ALL BLOCKS PER EACH HOUR"
   ]
  },
  {
   "cell_type": "code",
   "execution_count": 156,
   "metadata": {
    "scrolled": true
   },
   "outputs": [
    {
     "data": {
      "text/html": [
       "<div>\n",
       "<style scoped>\n",
       "    .dataframe tbody tr th:only-of-type {\n",
       "        vertical-align: middle;\n",
       "    }\n",
       "\n",
       "    .dataframe tbody tr th {\n",
       "        vertical-align: top;\n",
       "    }\n",
       "\n",
       "    .dataframe thead th {\n",
       "        text-align: right;\n",
       "    }\n",
       "</style>\n",
       "<table border=\"1\" class=\"dataframe\">\n",
       "  <thead>\n",
       "    <tr style=\"text-align: right;\">\n",
       "      <th></th>\n",
       "      <th>Pot_max</th>\n",
       "      <th>Year</th>\n",
       "      <th>Month</th>\n",
       "      <th>Day</th>\n",
       "      <th>Period</th>\n",
       "      <th>Block</th>\n",
       "      <th>Price</th>\n",
       "      <th>Energy</th>\n",
       "      <th>Date</th>\n",
       "      <th>Weekday</th>\n",
       "      <th>Energy_tot</th>\n",
       "    </tr>\n",
       "  </thead>\n",
       "  <tbody>\n",
       "    <tr>\n",
       "      <th>65981</th>\n",
       "      <td>395.60</td>\n",
       "      <td>2020</td>\n",
       "      <td>10</td>\n",
       "      <td>22</td>\n",
       "      <td>9</td>\n",
       "      <td>1</td>\n",
       "      <td>1.13</td>\n",
       "      <td>150.30</td>\n",
       "      <td>2020-10-22</td>\n",
       "      <td>Thursday</td>\n",
       "      <td>150.30</td>\n",
       "    </tr>\n",
       "    <tr>\n",
       "      <th>65982</th>\n",
       "      <td>395.60</td>\n",
       "      <td>2020</td>\n",
       "      <td>10</td>\n",
       "      <td>22</td>\n",
       "      <td>9</td>\n",
       "      <td>2</td>\n",
       "      <td>30.63</td>\n",
       "      <td>21.00</td>\n",
       "      <td>2020-10-22</td>\n",
       "      <td>Thursday</td>\n",
       "      <td>171.30</td>\n",
       "    </tr>\n",
       "    <tr>\n",
       "      <th>65983</th>\n",
       "      <td>395.60</td>\n",
       "      <td>2020</td>\n",
       "      <td>10</td>\n",
       "      <td>22</td>\n",
       "      <td>9</td>\n",
       "      <td>3</td>\n",
       "      <td>31.26</td>\n",
       "      <td>21.00</td>\n",
       "      <td>2020-10-22</td>\n",
       "      <td>Thursday</td>\n",
       "      <td>192.30</td>\n",
       "    </tr>\n",
       "    <tr>\n",
       "      <th>65984</th>\n",
       "      <td>395.60</td>\n",
       "      <td>2020</td>\n",
       "      <td>10</td>\n",
       "      <td>22</td>\n",
       "      <td>9</td>\n",
       "      <td>4</td>\n",
       "      <td>31.89</td>\n",
       "      <td>21.00</td>\n",
       "      <td>2020-10-22</td>\n",
       "      <td>Thursday</td>\n",
       "      <td>213.30</td>\n",
       "    </tr>\n",
       "    <tr>\n",
       "      <th>65985</th>\n",
       "      <td>395.60</td>\n",
       "      <td>2020</td>\n",
       "      <td>10</td>\n",
       "      <td>22</td>\n",
       "      <td>9</td>\n",
       "      <td>5</td>\n",
       "      <td>32.52</td>\n",
       "      <td>21.00</td>\n",
       "      <td>2020-10-22</td>\n",
       "      <td>Thursday</td>\n",
       "      <td>234.30</td>\n",
       "    </tr>\n",
       "    <tr>\n",
       "      <th>65986</th>\n",
       "      <td>395.60</td>\n",
       "      <td>2020</td>\n",
       "      <td>10</td>\n",
       "      <td>22</td>\n",
       "      <td>9</td>\n",
       "      <td>6</td>\n",
       "      <td>33.95</td>\n",
       "      <td>21.00</td>\n",
       "      <td>2020-10-22</td>\n",
       "      <td>Thursday</td>\n",
       "      <td>255.30</td>\n",
       "    </tr>\n",
       "    <tr>\n",
       "      <th>65987</th>\n",
       "      <td>395.60</td>\n",
       "      <td>2020</td>\n",
       "      <td>10</td>\n",
       "      <td>22</td>\n",
       "      <td>9</td>\n",
       "      <td>7</td>\n",
       "      <td>34.58</td>\n",
       "      <td>21.00</td>\n",
       "      <td>2020-10-22</td>\n",
       "      <td>Thursday</td>\n",
       "      <td>276.30</td>\n",
       "    </tr>\n",
       "    <tr>\n",
       "      <th>65988</th>\n",
       "      <td>395.60</td>\n",
       "      <td>2020</td>\n",
       "      <td>10</td>\n",
       "      <td>22</td>\n",
       "      <td>9</td>\n",
       "      <td>8</td>\n",
       "      <td>35.21</td>\n",
       "      <td>21.00</td>\n",
       "      <td>2020-10-22</td>\n",
       "      <td>Thursday</td>\n",
       "      <td>297.30</td>\n",
       "    </tr>\n",
       "    <tr>\n",
       "      <th>65989</th>\n",
       "      <td>395.60</td>\n",
       "      <td>2020</td>\n",
       "      <td>10</td>\n",
       "      <td>22</td>\n",
       "      <td>9</td>\n",
       "      <td>9</td>\n",
       "      <td>36.34</td>\n",
       "      <td>21.00</td>\n",
       "      <td>2020-10-22</td>\n",
       "      <td>Thursday</td>\n",
       "      <td>318.30</td>\n",
       "    </tr>\n",
       "    <tr>\n",
       "      <th>65990</th>\n",
       "      <td>395.60</td>\n",
       "      <td>2020</td>\n",
       "      <td>10</td>\n",
       "      <td>22</td>\n",
       "      <td>9</td>\n",
       "      <td>10</td>\n",
       "      <td>37.47</td>\n",
       "      <td>21.00</td>\n",
       "      <td>2020-10-22</td>\n",
       "      <td>Thursday</td>\n",
       "      <td>339.30</td>\n",
       "    </tr>\n",
       "    <tr>\n",
       "      <th>65991</th>\n",
       "      <td>395.60</td>\n",
       "      <td>2020</td>\n",
       "      <td>10</td>\n",
       "      <td>22</td>\n",
       "      <td>9</td>\n",
       "      <td>11</td>\n",
       "      <td>44.25</td>\n",
       "      <td>20.70</td>\n",
       "      <td>2020-10-22</td>\n",
       "      <td>Thursday</td>\n",
       "      <td>360.00</td>\n",
       "    </tr>\n",
       "    <tr>\n",
       "      <th>65992</th>\n",
       "      <td>395.60</td>\n",
       "      <td>2020</td>\n",
       "      <td>10</td>\n",
       "      <td>22</td>\n",
       "      <td>9</td>\n",
       "      <td>12</td>\n",
       "      <td>180.30</td>\n",
       "      <td>35.60</td>\n",
       "      <td>2020-10-22</td>\n",
       "      <td>Thursday</td>\n",
       "      <td>395.60</td>\n",
       "    </tr>\n",
       "  </tbody>\n",
       "</table>\n",
       "</div>"
      ],
      "text/plain": [
       "       Pot_max  Year  Month  Day  Period  Block  Price  Energy       Date  \\\n",
       "65981   395.60  2020     10   22       9      1   1.13  150.30 2020-10-22   \n",
       "65982   395.60  2020     10   22       9      2  30.63   21.00 2020-10-22   \n",
       "65983   395.60  2020     10   22       9      3  31.26   21.00 2020-10-22   \n",
       "65984   395.60  2020     10   22       9      4  31.89   21.00 2020-10-22   \n",
       "65985   395.60  2020     10   22       9      5  32.52   21.00 2020-10-22   \n",
       "65986   395.60  2020     10   22       9      6  33.95   21.00 2020-10-22   \n",
       "65987   395.60  2020     10   22       9      7  34.58   21.00 2020-10-22   \n",
       "65988   395.60  2020     10   22       9      8  35.21   21.00 2020-10-22   \n",
       "65989   395.60  2020     10   22       9      9  36.34   21.00 2020-10-22   \n",
       "65990   395.60  2020     10   22       9     10  37.47   21.00 2020-10-22   \n",
       "65991   395.60  2020     10   22       9     11  44.25   20.70 2020-10-22   \n",
       "65992   395.60  2020     10   22       9     12 180.30   35.60 2020-10-22   \n",
       "\n",
       "        Weekday  Energy_tot  \n",
       "65981  Thursday      150.30  \n",
       "65982  Thursday      171.30  \n",
       "65983  Thursday      192.30  \n",
       "65984  Thursday      213.30  \n",
       "65985  Thursday      234.30  \n",
       "65986  Thursday      255.30  \n",
       "65987  Thursday      276.30  \n",
       "65988  Thursday      297.30  \n",
       "65989  Thursday      318.30  \n",
       "65990  Thursday      339.30  \n",
       "65991  Thursday      360.00  \n",
       "65992  Thursday      395.60  "
      ]
     },
     "execution_count": 156,
     "metadata": {},
     "output_type": "execute_result"
    }
   ],
   "source": [
    "#Checking blocks for one day\n",
    "data_date_hour_info(df_curve, '2020-10-22',9)"
   ]
  },
  {
   "cell_type": "code",
   "execution_count": 157,
   "metadata": {
    "scrolled": false
   },
   "outputs": [],
   "source": [
    "#Creating a new df with the same structure of the orinal one, without 23h and 25h-days. \n",
    "#First of all, it is choosen from the orininal df the information from the date, hours and ONE block.\n",
    "#Block number \"block_all\" is choosen as it is the only block that it is in all the hour.\n",
    "\n",
    "df_block_24h = df_curve_24h[['Year','Month','Day','Period','Block']][df_curve_24h['Block']==block_all].reset_index(drop=True)\n",
    "\n",
    "#Changing the value of all Blocks to 1\n",
    "df_block_24h['Block'] = 1\n",
    "\n",
    "#Creating a new dataframe with the same structure for all Blocks\n",
    "df_block_tot_24h = pd.DataFrame()\n",
    "\n",
    "for block_24h in range(1,block_max+1):\n",
    "    df_block_new_24h = df_block_24h.copy()\n",
    "    df_block_new_24h['Block'] = block_24h\n",
    "    df_block_tot_24h = pd.concat([df_block_tot_24h,df_block_new_24h])\n",
    "    \n",
    "\n",
    "df_block_tot_24h.reset_index(inplace=True,drop=True)"
   ]
  },
  {
   "cell_type": "code",
   "execution_count": 158,
   "metadata": {
    "scrolled": true
   },
   "outputs": [
    {
     "data": {
      "text/plain": [
       "True"
      ]
     },
     "execution_count": 158,
     "metadata": {},
     "output_type": "execute_result"
    }
   ],
   "source": [
    "len(df_block_tot_24h) == df_block_24h.shape[0]*block_max"
   ]
  },
  {
   "cell_type": "code",
   "execution_count": 159,
   "metadata": {},
   "outputs": [
    {
     "data": {
      "text/plain": [
       "(99360, 5)"
      ]
     },
     "execution_count": 159,
     "metadata": {},
     "output_type": "execute_result"
    }
   ],
   "source": [
    "df_block_tot_24h.shape"
   ]
  },
  {
   "cell_type": "markdown",
   "metadata": {},
   "source": [
    "#### 3.2.2. CREATING AN NEW DATAFRAME WITH ALL BLOCKS PER EACH HOUR (without 23h and 25h-days)"
   ]
  },
  {
   "cell_type": "code",
   "execution_count": 160,
   "metadata": {},
   "outputs": [
    {
     "name": "stderr",
     "output_type": "stream",
     "text": [
      "<ipython-input-160-426908049f2c>:34: SettingWithCopyWarning: \n",
      "A value is trying to be set on a copy of a slice from a DataFrame\n",
      "\n",
      "See the caveats in the documentation: https://pandas.pydata.org/pandas-docs/stable/user_guide/indexing.html#returning-a-view-versus-a-copy\n",
      "  df_tot_24h['Energy_tot'][(df_tot_24h['Block']==1) &\n"
     ]
    }
   ],
   "source": [
    "#Now the complete dataframe is created by merging the original df (df_curve) with the new structure dataframe \n",
    "#created (df_block_tot)\n",
    "\n",
    "df_tot_24h = df_curve_24h.merge(df_block_tot_24h,how='outer')\n",
    "\n",
    "#New dataframe is sorted and reseted index\n",
    "df_tot_24h = df_tot_24h.sort_values(['Year','Month','Day','Period','Block']).reset_index(drop=True)\n",
    "\n",
    "#As the structrue dataframe has more rows that the original, a lot of NaN have been created.\n",
    "#These NaN must be filled.\n",
    "\n",
    "#As Block 12 is always in the original dataframe and dataframe is sorted by 'Block', bfill is the\n",
    "#right method to fill NaN since the meaning of no Block in OMIE curve is a fixed Price.\n",
    "df_tot_24h['Price'].fillna(method='bfill',inplace=True)\n",
    "\n",
    "#Pot_max is allways the same value\n",
    "df_tot_24h['Pot_max'].fillna(df_tot_24h['Pot_max'].max(),inplace=True)\n",
    "\n",
    "#For the same reason of Price, Weekday is filled with bfill method\n",
    "df_tot_24h['Weekday'].fillna(method='bfill',inplace=True)\n",
    "\n",
    "#For the same reason of Price, Datw is filled with bfill method\n",
    "df_tot_24h['Date'].fillna(method='bfill',inplace=True)\n",
    "\n",
    "#Energy NaN will be filled with 0 since allways Energy of Block 12 must be Pot_max (394.1)\n",
    "df_tot_24h['Energy'].fillna(float(0),inplace=True)\n",
    "\n",
    "#Now only Energy_tot columns have NaN\n",
    "#NaN in Energy_tot can be filled by interpolation method, but first of all a value must be included\n",
    "#in all cells with Block number equal to 1, since it is necessary 2 values in each Period to be able to \n",
    "#interpolate and it is the only way to fill NaN in all Periods with only one Block (12)\n",
    "\n",
    "#Filling Energy_tot NaN for Block=1 with 50\n",
    "df_tot_24h['Energy_tot'][(df_tot_24h['Block']==1) & \n",
    "                     (df_tot_24h['Energy_tot'].isnull())] = df_tot_24h['Energy_tot'][df_tot_24h['Block']==1].min()\n",
    "\n",
    "#Now remaining NaN in Energy_tot are filled by interpolation \n",
    "df_tot_24h['Energy_tot'].interpolate(inplace=True)"
   ]
  },
  {
   "cell_type": "code",
   "execution_count": 161,
   "metadata": {
    "scrolled": false
   },
   "outputs": [
    {
     "data": {
      "text/html": [
       "<div>\n",
       "<style scoped>\n",
       "    .dataframe tbody tr th:only-of-type {\n",
       "        vertical-align: middle;\n",
       "    }\n",
       "\n",
       "    .dataframe tbody tr th {\n",
       "        vertical-align: top;\n",
       "    }\n",
       "\n",
       "    .dataframe thead th {\n",
       "        text-align: right;\n",
       "    }\n",
       "</style>\n",
       "<table border=\"1\" class=\"dataframe\">\n",
       "  <thead>\n",
       "    <tr style=\"text-align: right;\">\n",
       "      <th></th>\n",
       "      <th>Pot_max</th>\n",
       "      <th>Year</th>\n",
       "      <th>Month</th>\n",
       "      <th>Day</th>\n",
       "      <th>Period</th>\n",
       "      <th>Block</th>\n",
       "      <th>Price</th>\n",
       "      <th>Energy</th>\n",
       "      <th>Date</th>\n",
       "      <th>Weekday</th>\n",
       "      <th>Energy_tot</th>\n",
       "    </tr>\n",
       "  </thead>\n",
       "  <tbody>\n",
       "    <tr>\n",
       "      <th>0</th>\n",
       "      <td>395.60</td>\n",
       "      <td>2019</td>\n",
       "      <td>11</td>\n",
       "      <td>20</td>\n",
       "      <td>1</td>\n",
       "      <td>1</td>\n",
       "      <td>180.30</td>\n",
       "      <td>0.00</td>\n",
       "      <td>2019-11-20</td>\n",
       "      <td>Wednesday</td>\n",
       "      <td>10.00</td>\n",
       "    </tr>\n",
       "    <tr>\n",
       "      <th>1</th>\n",
       "      <td>395.60</td>\n",
       "      <td>2019</td>\n",
       "      <td>11</td>\n",
       "      <td>20</td>\n",
       "      <td>1</td>\n",
       "      <td>2</td>\n",
       "      <td>180.30</td>\n",
       "      <td>0.00</td>\n",
       "      <td>2019-11-20</td>\n",
       "      <td>Wednesday</td>\n",
       "      <td>45.05</td>\n",
       "    </tr>\n",
       "    <tr>\n",
       "      <th>2</th>\n",
       "      <td>395.60</td>\n",
       "      <td>2019</td>\n",
       "      <td>11</td>\n",
       "      <td>20</td>\n",
       "      <td>1</td>\n",
       "      <td>3</td>\n",
       "      <td>180.30</td>\n",
       "      <td>0.00</td>\n",
       "      <td>2019-11-20</td>\n",
       "      <td>Wednesday</td>\n",
       "      <td>80.11</td>\n",
       "    </tr>\n",
       "    <tr>\n",
       "      <th>3</th>\n",
       "      <td>395.60</td>\n",
       "      <td>2019</td>\n",
       "      <td>11</td>\n",
       "      <td>20</td>\n",
       "      <td>1</td>\n",
       "      <td>4</td>\n",
       "      <td>180.30</td>\n",
       "      <td>0.00</td>\n",
       "      <td>2019-11-20</td>\n",
       "      <td>Wednesday</td>\n",
       "      <td>115.16</td>\n",
       "    </tr>\n",
       "    <tr>\n",
       "      <th>4</th>\n",
       "      <td>395.60</td>\n",
       "      <td>2019</td>\n",
       "      <td>11</td>\n",
       "      <td>20</td>\n",
       "      <td>1</td>\n",
       "      <td>5</td>\n",
       "      <td>180.30</td>\n",
       "      <td>0.00</td>\n",
       "      <td>2019-11-20</td>\n",
       "      <td>Wednesday</td>\n",
       "      <td>150.22</td>\n",
       "    </tr>\n",
       "    <tr>\n",
       "      <th>5</th>\n",
       "      <td>395.60</td>\n",
       "      <td>2019</td>\n",
       "      <td>11</td>\n",
       "      <td>20</td>\n",
       "      <td>1</td>\n",
       "      <td>6</td>\n",
       "      <td>180.30</td>\n",
       "      <td>0.00</td>\n",
       "      <td>2019-11-20</td>\n",
       "      <td>Wednesday</td>\n",
       "      <td>185.27</td>\n",
       "    </tr>\n",
       "    <tr>\n",
       "      <th>6</th>\n",
       "      <td>395.60</td>\n",
       "      <td>2019</td>\n",
       "      <td>11</td>\n",
       "      <td>20</td>\n",
       "      <td>1</td>\n",
       "      <td>7</td>\n",
       "      <td>180.30</td>\n",
       "      <td>0.00</td>\n",
       "      <td>2019-11-20</td>\n",
       "      <td>Wednesday</td>\n",
       "      <td>220.33</td>\n",
       "    </tr>\n",
       "    <tr>\n",
       "      <th>7</th>\n",
       "      <td>395.60</td>\n",
       "      <td>2019</td>\n",
       "      <td>11</td>\n",
       "      <td>20</td>\n",
       "      <td>1</td>\n",
       "      <td>8</td>\n",
       "      <td>180.30</td>\n",
       "      <td>0.00</td>\n",
       "      <td>2019-11-20</td>\n",
       "      <td>Wednesday</td>\n",
       "      <td>255.38</td>\n",
       "    </tr>\n",
       "    <tr>\n",
       "      <th>8</th>\n",
       "      <td>395.60</td>\n",
       "      <td>2019</td>\n",
       "      <td>11</td>\n",
       "      <td>20</td>\n",
       "      <td>1</td>\n",
       "      <td>9</td>\n",
       "      <td>180.30</td>\n",
       "      <td>0.00</td>\n",
       "      <td>2019-11-20</td>\n",
       "      <td>Wednesday</td>\n",
       "      <td>290.44</td>\n",
       "    </tr>\n",
       "    <tr>\n",
       "      <th>9</th>\n",
       "      <td>395.60</td>\n",
       "      <td>2019</td>\n",
       "      <td>11</td>\n",
       "      <td>20</td>\n",
       "      <td>1</td>\n",
       "      <td>10</td>\n",
       "      <td>180.30</td>\n",
       "      <td>0.00</td>\n",
       "      <td>2019-11-20</td>\n",
       "      <td>Wednesday</td>\n",
       "      <td>325.49</td>\n",
       "    </tr>\n",
       "    <tr>\n",
       "      <th>10</th>\n",
       "      <td>395.60</td>\n",
       "      <td>2019</td>\n",
       "      <td>11</td>\n",
       "      <td>20</td>\n",
       "      <td>1</td>\n",
       "      <td>11</td>\n",
       "      <td>180.30</td>\n",
       "      <td>0.00</td>\n",
       "      <td>2019-11-20</td>\n",
       "      <td>Wednesday</td>\n",
       "      <td>360.55</td>\n",
       "    </tr>\n",
       "    <tr>\n",
       "      <th>11</th>\n",
       "      <td>395.60</td>\n",
       "      <td>2019</td>\n",
       "      <td>11</td>\n",
       "      <td>20</td>\n",
       "      <td>1</td>\n",
       "      <td>12</td>\n",
       "      <td>180.30</td>\n",
       "      <td>395.60</td>\n",
       "      <td>2019-11-20</td>\n",
       "      <td>Wednesday</td>\n",
       "      <td>395.60</td>\n",
       "    </tr>\n",
       "    <tr>\n",
       "      <th>12</th>\n",
       "      <td>395.60</td>\n",
       "      <td>2019</td>\n",
       "      <td>11</td>\n",
       "      <td>20</td>\n",
       "      <td>2</td>\n",
       "      <td>1</td>\n",
       "      <td>180.30</td>\n",
       "      <td>0.00</td>\n",
       "      <td>2019-11-20</td>\n",
       "      <td>Wednesday</td>\n",
       "      <td>10.00</td>\n",
       "    </tr>\n",
       "    <tr>\n",
       "      <th>13</th>\n",
       "      <td>395.60</td>\n",
       "      <td>2019</td>\n",
       "      <td>11</td>\n",
       "      <td>20</td>\n",
       "      <td>2</td>\n",
       "      <td>2</td>\n",
       "      <td>180.30</td>\n",
       "      <td>0.00</td>\n",
       "      <td>2019-11-20</td>\n",
       "      <td>Wednesday</td>\n",
       "      <td>45.05</td>\n",
       "    </tr>\n",
       "    <tr>\n",
       "      <th>14</th>\n",
       "      <td>395.60</td>\n",
       "      <td>2019</td>\n",
       "      <td>11</td>\n",
       "      <td>20</td>\n",
       "      <td>2</td>\n",
       "      <td>3</td>\n",
       "      <td>180.30</td>\n",
       "      <td>0.00</td>\n",
       "      <td>2019-11-20</td>\n",
       "      <td>Wednesday</td>\n",
       "      <td>80.11</td>\n",
       "    </tr>\n",
       "  </tbody>\n",
       "</table>\n",
       "</div>"
      ],
      "text/plain": [
       "    Pot_max  Year  Month  Day  Period  Block  Price  Energy       Date  \\\n",
       "0    395.60  2019     11   20       1      1 180.30    0.00 2019-11-20   \n",
       "1    395.60  2019     11   20       1      2 180.30    0.00 2019-11-20   \n",
       "2    395.60  2019     11   20       1      3 180.30    0.00 2019-11-20   \n",
       "3    395.60  2019     11   20       1      4 180.30    0.00 2019-11-20   \n",
       "4    395.60  2019     11   20       1      5 180.30    0.00 2019-11-20   \n",
       "5    395.60  2019     11   20       1      6 180.30    0.00 2019-11-20   \n",
       "6    395.60  2019     11   20       1      7 180.30    0.00 2019-11-20   \n",
       "7    395.60  2019     11   20       1      8 180.30    0.00 2019-11-20   \n",
       "8    395.60  2019     11   20       1      9 180.30    0.00 2019-11-20   \n",
       "9    395.60  2019     11   20       1     10 180.30    0.00 2019-11-20   \n",
       "10   395.60  2019     11   20       1     11 180.30    0.00 2019-11-20   \n",
       "11   395.60  2019     11   20       1     12 180.30  395.60 2019-11-20   \n",
       "12   395.60  2019     11   20       2      1 180.30    0.00 2019-11-20   \n",
       "13   395.60  2019     11   20       2      2 180.30    0.00 2019-11-20   \n",
       "14   395.60  2019     11   20       2      3 180.30    0.00 2019-11-20   \n",
       "\n",
       "      Weekday  Energy_tot  \n",
       "0   Wednesday       10.00  \n",
       "1   Wednesday       45.05  \n",
       "2   Wednesday       80.11  \n",
       "3   Wednesday      115.16  \n",
       "4   Wednesday      150.22  \n",
       "5   Wednesday      185.27  \n",
       "6   Wednesday      220.33  \n",
       "7   Wednesday      255.38  \n",
       "8   Wednesday      290.44  \n",
       "9   Wednesday      325.49  \n",
       "10  Wednesday      360.55  \n",
       "11  Wednesday      395.60  \n",
       "12  Wednesday       10.00  \n",
       "13  Wednesday       45.05  \n",
       "14  Wednesday       80.11  "
      ]
     },
     "execution_count": 161,
     "metadata": {},
     "output_type": "execute_result"
    }
   ],
   "source": [
    "df_tot_24h.head(15)"
   ]
  },
  {
   "cell_type": "code",
   "execution_count": 162,
   "metadata": {
    "scrolled": true
   },
   "outputs": [
    {
     "data": {
      "text/plain": [
       "Block  Energy_tot\n",
       "1      150.30        5540\n",
       "       60.00          847\n",
       "       50.00          286\n",
       "       100.00          45\n",
       "       75.00           25\n",
       "       95.00           16\n",
       "       93.00           15\n",
       "       115.00          10\n",
       "       120.00           9\n",
       "       20.00            9\n",
       "       110.00           8\n",
       "       80.00            4\n",
       "       85.00            3\n",
       "       84.00            2\n",
       "       86.00            2\n",
       "       130.00           1\n",
       "       30.00            1\n",
       "       25.00            1\n",
       "       10.00            1\n",
       "dtype: int64"
      ]
     },
     "execution_count": 162,
     "metadata": {},
     "output_type": "execute_result"
    }
   ],
   "source": [
    "#Cheching that everything is OK between original dataframe and new one\n",
    "\n",
    "df_curve[['Block','Energy_tot']] [df_curve['Block']==1].value_counts()"
   ]
  },
  {
   "cell_type": "code",
   "execution_count": 163,
   "metadata": {},
   "outputs": [
    {
     "data": {
      "text/plain": [
       "Block  Energy_tot\n",
       "1      150.30        5540\n",
       "       10.00         1456\n",
       "       60.00          847\n",
       "       50.00          286\n",
       "       100.00          45\n",
       "       75.00           25\n",
       "       95.00           16\n",
       "       93.00           15\n",
       "       115.00          10\n",
       "       120.00           9\n",
       "       20.00            9\n",
       "       110.00           8\n",
       "       80.00            4\n",
       "       85.00            3\n",
       "       86.00            2\n",
       "       84.00            2\n",
       "       130.00           1\n",
       "       30.00            1\n",
       "       25.00            1\n",
       "dtype: int64"
      ]
     },
     "execution_count": 163,
     "metadata": {},
     "output_type": "execute_result"
    }
   ],
   "source": [
    "df_tot_24h[['Block','Energy_tot']] [df_tot_24h['Block']==1].value_counts()"
   ]
  },
  {
   "cell_type": "code",
   "execution_count": 164,
   "metadata": {},
   "outputs": [],
   "source": [
    "#It is OK since the only modification is 50 that goes from 75 to 1091"
   ]
  },
  {
   "cell_type": "code",
   "execution_count": null,
   "metadata": {},
   "outputs": [],
   "source": []
  },
  {
   "cell_type": "code",
   "execution_count": 165,
   "metadata": {},
   "outputs": [
    {
     "data": {
      "text/plain": [
       "(99360, 11)"
      ]
     },
     "execution_count": 165,
     "metadata": {},
     "output_type": "execute_result"
    }
   ],
   "source": [
    "df_tot_24h.shape"
   ]
  },
  {
   "cell_type": "code",
   "execution_count": 166,
   "metadata": {},
   "outputs": [],
   "source": [
    "#df_tot_24h.to_csv('/home/dsc/Repos/TFM/df_tot_24h_PALOS1.csv')"
   ]
  },
  {
   "cell_type": "code",
   "execution_count": null,
   "metadata": {},
   "outputs": [],
   "source": []
  },
  {
   "cell_type": "markdown",
   "metadata": {},
   "source": [
    "### 3.3. CREATING AN NEW DATAFRAME WITH ALL DATES, HOURS AND BLOCKS BETWEEN THE ORIGINAL TIME PERIOD (without 23h and 25h-days)\n",
    "\n",
    "In order to create a proper dataframe used in the models it is important to consider the data from previous bids, so a dataframe with the Energy and Price with a time lag of 24h and 168h is created. The best way to do it is to shift the columns Energy and Price 24x12 and 168x12 down, but this only works if all the dates, hours, and blocks are in the the dataframe. As it is not the case, a new dataframe should be created with NaN in the places where the dates and hours are missing in the original dataframe."
   ]
  },
  {
   "cell_type": "markdown",
   "metadata": {},
   "source": [
    "#### 3.3.1. CREATING AN EMPTY DATA STRUCTURE GIVEN A STARTING AND ENDING DATES  (without 23h & 25h-days)"
   ]
  },
  {
   "cell_type": "code",
   "execution_count": 167,
   "metadata": {},
   "outputs": [],
   "source": [
    "#Moving this function to the TOOLS\n",
    "\n",
    "from datetime import datetime, timedelta\n",
    "\n",
    "def df_structure_24h(year_start, month_start, day_start, year_end, month_end, day_end):\n",
    "\n",
    "    '''This function creates a empty structure of days, hours and blocks between two dates\n",
    "    without 23h & 25h days'''\n",
    "    \n",
    "    #Adding the days of between the staring and ending days\n",
    "    \n",
    "    start = datetime(year_start,month_start,day_start)\n",
    "    end = datetime(year_end,month_end,day_end)\n",
    "\n",
    "    date_list = [start + timedelta(days=d) for d in range((end - start).days + 1)] \n",
    "\n",
    "    structure = pd.DataFrame({'Date' : date_list})\n",
    "    structure['Year'] = structure['Date'].apply(lambda x: x.year)\n",
    "    structure['Month'] = structure['Date'].apply(lambda x: x.month)\n",
    "    structure['Day'] = structure['Date'].apply(lambda x: x.day)\n",
    "    structure['Period'] = 1\n",
    "    structure['Block'] = 1\n",
    "\n",
    "    #Adding 24 hours per each day\n",
    "    structure_tot = pd.DataFrame()\n",
    "\n",
    "    for hour in range(1,25):\n",
    "        structure_new = structure.copy()\n",
    "        structure_new['Period'] = hour\n",
    "        structure_tot = pd.concat([structure_tot,structure_new])\n",
    "\n",
    "    structure_tot = structure_tot.reset_index(drop=True)\n",
    "\n",
    "    #Adding maximum number of blocks per each period (hour)\n",
    "\n",
    "    structure_block = pd.DataFrame()\n",
    "\n",
    "    for block in range(1,block_max+1):\n",
    "        structure_new = structure_tot.copy()\n",
    "        structure_new['Block'] = block\n",
    "        structure_block = pd.concat([structure_block,structure_new])\n",
    "    \n",
    "    structure_block = structure_block.sort_values(['Date','Period','Block'])\n",
    "    structure_block = structure_block.reset_index(drop=True)\n",
    "    return structure_block"
   ]
  },
  {
   "cell_type": "code",
   "execution_count": 168,
   "metadata": {},
   "outputs": [],
   "source": [
    "struct_block_24h = df_structure_24h(df_tot_24h['Date'].min().year,\n",
    "                              df_tot_24h['Date'].min().month,\n",
    "                              df_tot_24h['Date'].min().day,\n",
    "                              df_tot_24h['Date'].max().year,\n",
    "                              df_tot_24h['Date'].max().month,\n",
    "                              df_tot_24h['Date'].max().day) "
   ]
  },
  {
   "cell_type": "code",
   "execution_count": 169,
   "metadata": {
    "scrolled": true
   },
   "outputs": [
    {
     "data": {
      "text/html": [
       "<div>\n",
       "<style scoped>\n",
       "    .dataframe tbody tr th:only-of-type {\n",
       "        vertical-align: middle;\n",
       "    }\n",
       "\n",
       "    .dataframe tbody tr th {\n",
       "        vertical-align: top;\n",
       "    }\n",
       "\n",
       "    .dataframe thead th {\n",
       "        text-align: right;\n",
       "    }\n",
       "</style>\n",
       "<table border=\"1\" class=\"dataframe\">\n",
       "  <thead>\n",
       "    <tr style=\"text-align: right;\">\n",
       "      <th></th>\n",
       "      <th>Date</th>\n",
       "      <th>Year</th>\n",
       "      <th>Month</th>\n",
       "      <th>Day</th>\n",
       "      <th>Period</th>\n",
       "      <th>Block</th>\n",
       "    </tr>\n",
       "  </thead>\n",
       "  <tbody>\n",
       "    <tr>\n",
       "      <th>0</th>\n",
       "      <td>2019-11-20</td>\n",
       "      <td>2019</td>\n",
       "      <td>11</td>\n",
       "      <td>20</td>\n",
       "      <td>1</td>\n",
       "      <td>1</td>\n",
       "    </tr>\n",
       "    <tr>\n",
       "      <th>1</th>\n",
       "      <td>2019-11-20</td>\n",
       "      <td>2019</td>\n",
       "      <td>11</td>\n",
       "      <td>20</td>\n",
       "      <td>1</td>\n",
       "      <td>2</td>\n",
       "    </tr>\n",
       "    <tr>\n",
       "      <th>2</th>\n",
       "      <td>2019-11-20</td>\n",
       "      <td>2019</td>\n",
       "      <td>11</td>\n",
       "      <td>20</td>\n",
       "      <td>1</td>\n",
       "      <td>3</td>\n",
       "    </tr>\n",
       "    <tr>\n",
       "      <th>3</th>\n",
       "      <td>2019-11-20</td>\n",
       "      <td>2019</td>\n",
       "      <td>11</td>\n",
       "      <td>20</td>\n",
       "      <td>1</td>\n",
       "      <td>4</td>\n",
       "    </tr>\n",
       "    <tr>\n",
       "      <th>4</th>\n",
       "      <td>2019-11-20</td>\n",
       "      <td>2019</td>\n",
       "      <td>11</td>\n",
       "      <td>20</td>\n",
       "      <td>1</td>\n",
       "      <td>5</td>\n",
       "    </tr>\n",
       "    <tr>\n",
       "      <th>...</th>\n",
       "      <td>...</td>\n",
       "      <td>...</td>\n",
       "      <td>...</td>\n",
       "      <td>...</td>\n",
       "      <td>...</td>\n",
       "      <td>...</td>\n",
       "    </tr>\n",
       "    <tr>\n",
       "      <th>99931</th>\n",
       "      <td>2020-10-31</td>\n",
       "      <td>2020</td>\n",
       "      <td>10</td>\n",
       "      <td>31</td>\n",
       "      <td>24</td>\n",
       "      <td>8</td>\n",
       "    </tr>\n",
       "    <tr>\n",
       "      <th>99932</th>\n",
       "      <td>2020-10-31</td>\n",
       "      <td>2020</td>\n",
       "      <td>10</td>\n",
       "      <td>31</td>\n",
       "      <td>24</td>\n",
       "      <td>9</td>\n",
       "    </tr>\n",
       "    <tr>\n",
       "      <th>99933</th>\n",
       "      <td>2020-10-31</td>\n",
       "      <td>2020</td>\n",
       "      <td>10</td>\n",
       "      <td>31</td>\n",
       "      <td>24</td>\n",
       "      <td>10</td>\n",
       "    </tr>\n",
       "    <tr>\n",
       "      <th>99934</th>\n",
       "      <td>2020-10-31</td>\n",
       "      <td>2020</td>\n",
       "      <td>10</td>\n",
       "      <td>31</td>\n",
       "      <td>24</td>\n",
       "      <td>11</td>\n",
       "    </tr>\n",
       "    <tr>\n",
       "      <th>99935</th>\n",
       "      <td>2020-10-31</td>\n",
       "      <td>2020</td>\n",
       "      <td>10</td>\n",
       "      <td>31</td>\n",
       "      <td>24</td>\n",
       "      <td>12</td>\n",
       "    </tr>\n",
       "  </tbody>\n",
       "</table>\n",
       "<p>99936 rows × 6 columns</p>\n",
       "</div>"
      ],
      "text/plain": [
       "            Date  Year  Month  Day  Period  Block\n",
       "0     2019-11-20  2019     11   20       1      1\n",
       "1     2019-11-20  2019     11   20       1      2\n",
       "2     2019-11-20  2019     11   20       1      3\n",
       "3     2019-11-20  2019     11   20       1      4\n",
       "4     2019-11-20  2019     11   20       1      5\n",
       "...          ...   ...    ...  ...     ...    ...\n",
       "99931 2020-10-31  2020     10   31      24      8\n",
       "99932 2020-10-31  2020     10   31      24      9\n",
       "99933 2020-10-31  2020     10   31      24     10\n",
       "99934 2020-10-31  2020     10   31      24     11\n",
       "99935 2020-10-31  2020     10   31      24     12\n",
       "\n",
       "[99936 rows x 6 columns]"
      ]
     },
     "execution_count": 169,
     "metadata": {},
     "output_type": "execute_result"
    }
   ],
   "source": [
    "struct_block_24h"
   ]
  },
  {
   "cell_type": "code",
   "execution_count": null,
   "metadata": {},
   "outputs": [],
   "source": []
  },
  {
   "cell_type": "markdown",
   "metadata": {},
   "source": [
    "#### 3.3.2. CREATING AN NEW DATAFRAME WITH ALL DATES, HOURS AND BLOCKS BETWEEN THE ORIGINAL TIME PERIOD (without 23h &25h-days)"
   ]
  },
  {
   "cell_type": "code",
   "execution_count": 170,
   "metadata": {},
   "outputs": [
    {
     "data": {
      "text/plain": [
       "((99360, 11), (99936, 6))"
      ]
     },
     "execution_count": 170,
     "metadata": {},
     "output_type": "execute_result"
    }
   ],
   "source": [
    "df_tot_24h.shape, struct_block_24h.shape"
   ]
  },
  {
   "cell_type": "code",
   "execution_count": 171,
   "metadata": {},
   "outputs": [],
   "source": [
    "#Now the complete dataframe is created by merging the complete-block df (df_tot) with the new structure dataframe \n",
    "#created (structure_block)\n",
    "\n",
    "df_tot_struct_24h = df_tot_24h.merge(struct_block_24h,how='outer')\n",
    "df_tot_struct_24h = df_tot_struct_24h.sort_values(['Date','Period','Block']).reset_index(drop=True)"
   ]
  },
  {
   "cell_type": "code",
   "execution_count": 172,
   "metadata": {},
   "outputs": [
    {
     "data": {
      "text/html": [
       "<div>\n",
       "<style scoped>\n",
       "    .dataframe tbody tr th:only-of-type {\n",
       "        vertical-align: middle;\n",
       "    }\n",
       "\n",
       "    .dataframe tbody tr th {\n",
       "        vertical-align: top;\n",
       "    }\n",
       "\n",
       "    .dataframe thead th {\n",
       "        text-align: right;\n",
       "    }\n",
       "</style>\n",
       "<table border=\"1\" class=\"dataframe\">\n",
       "  <thead>\n",
       "    <tr style=\"text-align: right;\">\n",
       "      <th></th>\n",
       "      <th>Pot_max</th>\n",
       "      <th>Year</th>\n",
       "      <th>Month</th>\n",
       "      <th>Day</th>\n",
       "      <th>Period</th>\n",
       "      <th>Block</th>\n",
       "      <th>Price</th>\n",
       "      <th>Energy</th>\n",
       "      <th>Date</th>\n",
       "      <th>Weekday</th>\n",
       "      <th>Energy_tot</th>\n",
       "    </tr>\n",
       "  </thead>\n",
       "  <tbody>\n",
       "    <tr>\n",
       "      <th>0</th>\n",
       "      <td>395.60</td>\n",
       "      <td>2019</td>\n",
       "      <td>11</td>\n",
       "      <td>20</td>\n",
       "      <td>1</td>\n",
       "      <td>1</td>\n",
       "      <td>180.30</td>\n",
       "      <td>0.00</td>\n",
       "      <td>2019-11-20</td>\n",
       "      <td>Wednesday</td>\n",
       "      <td>10.00</td>\n",
       "    </tr>\n",
       "    <tr>\n",
       "      <th>1</th>\n",
       "      <td>395.60</td>\n",
       "      <td>2019</td>\n",
       "      <td>11</td>\n",
       "      <td>20</td>\n",
       "      <td>1</td>\n",
       "      <td>2</td>\n",
       "      <td>180.30</td>\n",
       "      <td>0.00</td>\n",
       "      <td>2019-11-20</td>\n",
       "      <td>Wednesday</td>\n",
       "      <td>45.05</td>\n",
       "    </tr>\n",
       "    <tr>\n",
       "      <th>2</th>\n",
       "      <td>395.60</td>\n",
       "      <td>2019</td>\n",
       "      <td>11</td>\n",
       "      <td>20</td>\n",
       "      <td>1</td>\n",
       "      <td>3</td>\n",
       "      <td>180.30</td>\n",
       "      <td>0.00</td>\n",
       "      <td>2019-11-20</td>\n",
       "      <td>Wednesday</td>\n",
       "      <td>80.11</td>\n",
       "    </tr>\n",
       "    <tr>\n",
       "      <th>3</th>\n",
       "      <td>395.60</td>\n",
       "      <td>2019</td>\n",
       "      <td>11</td>\n",
       "      <td>20</td>\n",
       "      <td>1</td>\n",
       "      <td>4</td>\n",
       "      <td>180.30</td>\n",
       "      <td>0.00</td>\n",
       "      <td>2019-11-20</td>\n",
       "      <td>Wednesday</td>\n",
       "      <td>115.16</td>\n",
       "    </tr>\n",
       "    <tr>\n",
       "      <th>4</th>\n",
       "      <td>395.60</td>\n",
       "      <td>2019</td>\n",
       "      <td>11</td>\n",
       "      <td>20</td>\n",
       "      <td>1</td>\n",
       "      <td>5</td>\n",
       "      <td>180.30</td>\n",
       "      <td>0.00</td>\n",
       "      <td>2019-11-20</td>\n",
       "      <td>Wednesday</td>\n",
       "      <td>150.22</td>\n",
       "    </tr>\n",
       "    <tr>\n",
       "      <th>5</th>\n",
       "      <td>395.60</td>\n",
       "      <td>2019</td>\n",
       "      <td>11</td>\n",
       "      <td>20</td>\n",
       "      <td>1</td>\n",
       "      <td>6</td>\n",
       "      <td>180.30</td>\n",
       "      <td>0.00</td>\n",
       "      <td>2019-11-20</td>\n",
       "      <td>Wednesday</td>\n",
       "      <td>185.27</td>\n",
       "    </tr>\n",
       "    <tr>\n",
       "      <th>6</th>\n",
       "      <td>395.60</td>\n",
       "      <td>2019</td>\n",
       "      <td>11</td>\n",
       "      <td>20</td>\n",
       "      <td>1</td>\n",
       "      <td>7</td>\n",
       "      <td>180.30</td>\n",
       "      <td>0.00</td>\n",
       "      <td>2019-11-20</td>\n",
       "      <td>Wednesday</td>\n",
       "      <td>220.33</td>\n",
       "    </tr>\n",
       "    <tr>\n",
       "      <th>7</th>\n",
       "      <td>395.60</td>\n",
       "      <td>2019</td>\n",
       "      <td>11</td>\n",
       "      <td>20</td>\n",
       "      <td>1</td>\n",
       "      <td>8</td>\n",
       "      <td>180.30</td>\n",
       "      <td>0.00</td>\n",
       "      <td>2019-11-20</td>\n",
       "      <td>Wednesday</td>\n",
       "      <td>255.38</td>\n",
       "    </tr>\n",
       "    <tr>\n",
       "      <th>8</th>\n",
       "      <td>395.60</td>\n",
       "      <td>2019</td>\n",
       "      <td>11</td>\n",
       "      <td>20</td>\n",
       "      <td>1</td>\n",
       "      <td>9</td>\n",
       "      <td>180.30</td>\n",
       "      <td>0.00</td>\n",
       "      <td>2019-11-20</td>\n",
       "      <td>Wednesday</td>\n",
       "      <td>290.44</td>\n",
       "    </tr>\n",
       "    <tr>\n",
       "      <th>9</th>\n",
       "      <td>395.60</td>\n",
       "      <td>2019</td>\n",
       "      <td>11</td>\n",
       "      <td>20</td>\n",
       "      <td>1</td>\n",
       "      <td>10</td>\n",
       "      <td>180.30</td>\n",
       "      <td>0.00</td>\n",
       "      <td>2019-11-20</td>\n",
       "      <td>Wednesday</td>\n",
       "      <td>325.49</td>\n",
       "    </tr>\n",
       "    <tr>\n",
       "      <th>10</th>\n",
       "      <td>395.60</td>\n",
       "      <td>2019</td>\n",
       "      <td>11</td>\n",
       "      <td>20</td>\n",
       "      <td>1</td>\n",
       "      <td>11</td>\n",
       "      <td>180.30</td>\n",
       "      <td>0.00</td>\n",
       "      <td>2019-11-20</td>\n",
       "      <td>Wednesday</td>\n",
       "      <td>360.55</td>\n",
       "    </tr>\n",
       "    <tr>\n",
       "      <th>11</th>\n",
       "      <td>395.60</td>\n",
       "      <td>2019</td>\n",
       "      <td>11</td>\n",
       "      <td>20</td>\n",
       "      <td>1</td>\n",
       "      <td>12</td>\n",
       "      <td>180.30</td>\n",
       "      <td>395.60</td>\n",
       "      <td>2019-11-20</td>\n",
       "      <td>Wednesday</td>\n",
       "      <td>395.60</td>\n",
       "    </tr>\n",
       "    <tr>\n",
       "      <th>12</th>\n",
       "      <td>395.60</td>\n",
       "      <td>2019</td>\n",
       "      <td>11</td>\n",
       "      <td>20</td>\n",
       "      <td>2</td>\n",
       "      <td>1</td>\n",
       "      <td>180.30</td>\n",
       "      <td>0.00</td>\n",
       "      <td>2019-11-20</td>\n",
       "      <td>Wednesday</td>\n",
       "      <td>10.00</td>\n",
       "    </tr>\n",
       "    <tr>\n",
       "      <th>13</th>\n",
       "      <td>395.60</td>\n",
       "      <td>2019</td>\n",
       "      <td>11</td>\n",
       "      <td>20</td>\n",
       "      <td>2</td>\n",
       "      <td>2</td>\n",
       "      <td>180.30</td>\n",
       "      <td>0.00</td>\n",
       "      <td>2019-11-20</td>\n",
       "      <td>Wednesday</td>\n",
       "      <td>45.05</td>\n",
       "    </tr>\n",
       "    <tr>\n",
       "      <th>14</th>\n",
       "      <td>395.60</td>\n",
       "      <td>2019</td>\n",
       "      <td>11</td>\n",
       "      <td>20</td>\n",
       "      <td>2</td>\n",
       "      <td>3</td>\n",
       "      <td>180.30</td>\n",
       "      <td>0.00</td>\n",
       "      <td>2019-11-20</td>\n",
       "      <td>Wednesday</td>\n",
       "      <td>80.11</td>\n",
       "    </tr>\n",
       "  </tbody>\n",
       "</table>\n",
       "</div>"
      ],
      "text/plain": [
       "    Pot_max  Year  Month  Day  Period  Block  Price  Energy       Date  \\\n",
       "0    395.60  2019     11   20       1      1 180.30    0.00 2019-11-20   \n",
       "1    395.60  2019     11   20       1      2 180.30    0.00 2019-11-20   \n",
       "2    395.60  2019     11   20       1      3 180.30    0.00 2019-11-20   \n",
       "3    395.60  2019     11   20       1      4 180.30    0.00 2019-11-20   \n",
       "4    395.60  2019     11   20       1      5 180.30    0.00 2019-11-20   \n",
       "5    395.60  2019     11   20       1      6 180.30    0.00 2019-11-20   \n",
       "6    395.60  2019     11   20       1      7 180.30    0.00 2019-11-20   \n",
       "7    395.60  2019     11   20       1      8 180.30    0.00 2019-11-20   \n",
       "8    395.60  2019     11   20       1      9 180.30    0.00 2019-11-20   \n",
       "9    395.60  2019     11   20       1     10 180.30    0.00 2019-11-20   \n",
       "10   395.60  2019     11   20       1     11 180.30    0.00 2019-11-20   \n",
       "11   395.60  2019     11   20       1     12 180.30  395.60 2019-11-20   \n",
       "12   395.60  2019     11   20       2      1 180.30    0.00 2019-11-20   \n",
       "13   395.60  2019     11   20       2      2 180.30    0.00 2019-11-20   \n",
       "14   395.60  2019     11   20       2      3 180.30    0.00 2019-11-20   \n",
       "\n",
       "      Weekday  Energy_tot  \n",
       "0   Wednesday       10.00  \n",
       "1   Wednesday       45.05  \n",
       "2   Wednesday       80.11  \n",
       "3   Wednesday      115.16  \n",
       "4   Wednesday      150.22  \n",
       "5   Wednesday      185.27  \n",
       "6   Wednesday      220.33  \n",
       "7   Wednesday      255.38  \n",
       "8   Wednesday      290.44  \n",
       "9   Wednesday      325.49  \n",
       "10  Wednesday      360.55  \n",
       "11  Wednesday      395.60  \n",
       "12  Wednesday       10.00  \n",
       "13  Wednesday       45.05  \n",
       "14  Wednesday       80.11  "
      ]
     },
     "execution_count": 172,
     "metadata": {},
     "output_type": "execute_result"
    }
   ],
   "source": [
    "df_tot_struct_24h.head(15)"
   ]
  },
  {
   "cell_type": "code",
   "execution_count": 173,
   "metadata": {
    "scrolled": true
   },
   "outputs": [
    {
     "data": {
      "text/plain": [
       "((99360, 11), (99936, 6), (99936, 11))"
      ]
     },
     "execution_count": 173,
     "metadata": {},
     "output_type": "execute_result"
    }
   ],
   "source": [
    "df_tot_24h.shape, struct_block_24h.shape, df_tot_struct_24h.shape"
   ]
  },
  {
   "cell_type": "code",
   "execution_count": 174,
   "metadata": {
    "scrolled": true
   },
   "outputs": [
    {
     "data": {
      "text/html": [
       "<div>\n",
       "<style scoped>\n",
       "    .dataframe tbody tr th:only-of-type {\n",
       "        vertical-align: middle;\n",
       "    }\n",
       "\n",
       "    .dataframe tbody tr th {\n",
       "        vertical-align: top;\n",
       "    }\n",
       "\n",
       "    .dataframe thead th {\n",
       "        text-align: right;\n",
       "    }\n",
       "</style>\n",
       "<table border=\"1\" class=\"dataframe\">\n",
       "  <thead>\n",
       "    <tr style=\"text-align: right;\">\n",
       "      <th></th>\n",
       "      <th>Pot_max</th>\n",
       "      <th>Year</th>\n",
       "      <th>Month</th>\n",
       "      <th>Day</th>\n",
       "      <th>Period</th>\n",
       "      <th>Block</th>\n",
       "      <th>Price</th>\n",
       "      <th>Energy</th>\n",
       "      <th>Date</th>\n",
       "      <th>Weekday</th>\n",
       "      <th>Energy_tot</th>\n",
       "    </tr>\n",
       "  </thead>\n",
       "  <tbody>\n",
       "  </tbody>\n",
       "</table>\n",
       "</div>"
      ],
      "text/plain": [
       "Empty DataFrame\n",
       "Columns: [Pot_max, Year, Month, Day, Period, Block, Price, Energy, Date, Weekday, Energy_tot]\n",
       "Index: []"
      ]
     },
     "execution_count": 174,
     "metadata": {},
     "output_type": "execute_result"
    }
   ],
   "source": [
    "df_tot_struct_24h[df_tot_struct_24h['Date']=='2019-11-6']"
   ]
  },
  {
   "cell_type": "code",
   "execution_count": 175,
   "metadata": {
    "scrolled": true
   },
   "outputs": [],
   "source": [
    "#This df has NaN since there are days without data in the original df. These NaN will be dropped in later stages\n",
    "#where the time-lagged dataframe is created"
   ]
  },
  {
   "cell_type": "code",
   "execution_count": null,
   "metadata": {},
   "outputs": [],
   "source": []
  },
  {
   "cell_type": "markdown",
   "metadata": {},
   "source": [
    "### 3.4. CREATING AN NEW DATAFRAME WITH PRICE AND ENERGY TIME-LAGGED"
   ]
  },
  {
   "cell_type": "code",
   "execution_count": 176,
   "metadata": {},
   "outputs": [],
   "source": [
    "df_tot_lagT = df_tot_struct_24h.copy()"
   ]
  },
  {
   "cell_type": "code",
   "execution_count": 177,
   "metadata": {},
   "outputs": [],
   "source": [
    "time_lag1 = 24 #One day in hours\n",
    "time_lag2 = 24*7 #One week in hours\n",
    "num_blocks = block_max #Number of blocks per each hour\n",
    "\n",
    "df_tot_lagT['Energy_24h'] = df_tot_lagT['Energy'].shift(periods=time_lag1*num_blocks)\n",
    "df_tot_lagT['Energy_168h'] = df_tot_lagT['Energy'].shift(periods=time_lag2*num_blocks)\n",
    "df_tot_lagT['Price_24h'] = df_tot_lagT['Price'].shift(periods=time_lag1*num_blocks)\n",
    "df_tot_lagT['Price_168h'] = df_tot_lagT['Price'].shift(periods=time_lag2*num_blocks)\n",
    "df_tot_lagT['Energy_tot_24h'] = df_tot_lagT['Energy_tot'].shift(periods=time_lag1*num_blocks)\n",
    "df_tot_lagT['Energy_tot_168h'] = df_tot_lagT['Energy_tot'].shift(periods=time_lag2*num_blocks)\n",
    "\n",
    "#Just for checking purposes\n",
    "df_tot_lagT['Date_24h'] = df_tot_lagT['Date'].shift(periods=time_lag1*num_blocks)\n",
    "df_tot_lagT['Period_24h'] = df_tot_lagT['Period'].shift(periods=time_lag1*num_blocks)\n",
    "df_tot_lagT['Block_24h'] = df_tot_lagT['Block'].shift(periods=time_lag1*num_blocks)\n",
    "df_tot_lagT['Date_168h'] = df_tot_lagT['Date'].shift(periods=time_lag2*num_blocks)\n",
    "df_tot_lagT['Period_168h'] = df_tot_lagT['Period'].shift(periods=time_lag2*num_blocks)\n",
    "df_tot_lagT['Block_168h'] = df_tot_lagT['Block'].shift(periods=time_lag2*num_blocks)"
   ]
  },
  {
   "cell_type": "code",
   "execution_count": 178,
   "metadata": {
    "scrolled": true
   },
   "outputs": [
    {
     "data": {
      "text/html": [
       "<div>\n",
       "<style scoped>\n",
       "    .dataframe tbody tr th:only-of-type {\n",
       "        vertical-align: middle;\n",
       "    }\n",
       "\n",
       "    .dataframe tbody tr th {\n",
       "        vertical-align: top;\n",
       "    }\n",
       "\n",
       "    .dataframe thead th {\n",
       "        text-align: right;\n",
       "    }\n",
       "</style>\n",
       "<table border=\"1\" class=\"dataframe\">\n",
       "  <thead>\n",
       "    <tr style=\"text-align: right;\">\n",
       "      <th></th>\n",
       "      <th>Pot_max</th>\n",
       "      <th>Year</th>\n",
       "      <th>Month</th>\n",
       "      <th>Day</th>\n",
       "      <th>Period</th>\n",
       "      <th>Block</th>\n",
       "      <th>Price</th>\n",
       "      <th>Energy</th>\n",
       "      <th>Date</th>\n",
       "      <th>Weekday</th>\n",
       "      <th>...</th>\n",
       "      <th>Price_24h</th>\n",
       "      <th>Price_168h</th>\n",
       "      <th>Energy_tot_24h</th>\n",
       "      <th>Energy_tot_168h</th>\n",
       "      <th>Date_24h</th>\n",
       "      <th>Period_24h</th>\n",
       "      <th>Block_24h</th>\n",
       "      <th>Date_168h</th>\n",
       "      <th>Period_168h</th>\n",
       "      <th>Block_168h</th>\n",
       "    </tr>\n",
       "  </thead>\n",
       "  <tbody>\n",
       "    <tr>\n",
       "      <th>0</th>\n",
       "      <td>395.60</td>\n",
       "      <td>2019</td>\n",
       "      <td>11</td>\n",
       "      <td>20</td>\n",
       "      <td>1</td>\n",
       "      <td>1</td>\n",
       "      <td>180.30</td>\n",
       "      <td>0.00</td>\n",
       "      <td>2019-11-20</td>\n",
       "      <td>Wednesday</td>\n",
       "      <td>...</td>\n",
       "      <td>nan</td>\n",
       "      <td>nan</td>\n",
       "      <td>nan</td>\n",
       "      <td>nan</td>\n",
       "      <td>NaT</td>\n",
       "      <td>nan</td>\n",
       "      <td>nan</td>\n",
       "      <td>NaT</td>\n",
       "      <td>nan</td>\n",
       "      <td>nan</td>\n",
       "    </tr>\n",
       "    <tr>\n",
       "      <th>1</th>\n",
       "      <td>395.60</td>\n",
       "      <td>2019</td>\n",
       "      <td>11</td>\n",
       "      <td>20</td>\n",
       "      <td>1</td>\n",
       "      <td>2</td>\n",
       "      <td>180.30</td>\n",
       "      <td>0.00</td>\n",
       "      <td>2019-11-20</td>\n",
       "      <td>Wednesday</td>\n",
       "      <td>...</td>\n",
       "      <td>nan</td>\n",
       "      <td>nan</td>\n",
       "      <td>nan</td>\n",
       "      <td>nan</td>\n",
       "      <td>NaT</td>\n",
       "      <td>nan</td>\n",
       "      <td>nan</td>\n",
       "      <td>NaT</td>\n",
       "      <td>nan</td>\n",
       "      <td>nan</td>\n",
       "    </tr>\n",
       "    <tr>\n",
       "      <th>2</th>\n",
       "      <td>395.60</td>\n",
       "      <td>2019</td>\n",
       "      <td>11</td>\n",
       "      <td>20</td>\n",
       "      <td>1</td>\n",
       "      <td>3</td>\n",
       "      <td>180.30</td>\n",
       "      <td>0.00</td>\n",
       "      <td>2019-11-20</td>\n",
       "      <td>Wednesday</td>\n",
       "      <td>...</td>\n",
       "      <td>nan</td>\n",
       "      <td>nan</td>\n",
       "      <td>nan</td>\n",
       "      <td>nan</td>\n",
       "      <td>NaT</td>\n",
       "      <td>nan</td>\n",
       "      <td>nan</td>\n",
       "      <td>NaT</td>\n",
       "      <td>nan</td>\n",
       "      <td>nan</td>\n",
       "    </tr>\n",
       "    <tr>\n",
       "      <th>3</th>\n",
       "      <td>395.60</td>\n",
       "      <td>2019</td>\n",
       "      <td>11</td>\n",
       "      <td>20</td>\n",
       "      <td>1</td>\n",
       "      <td>4</td>\n",
       "      <td>180.30</td>\n",
       "      <td>0.00</td>\n",
       "      <td>2019-11-20</td>\n",
       "      <td>Wednesday</td>\n",
       "      <td>...</td>\n",
       "      <td>nan</td>\n",
       "      <td>nan</td>\n",
       "      <td>nan</td>\n",
       "      <td>nan</td>\n",
       "      <td>NaT</td>\n",
       "      <td>nan</td>\n",
       "      <td>nan</td>\n",
       "      <td>NaT</td>\n",
       "      <td>nan</td>\n",
       "      <td>nan</td>\n",
       "    </tr>\n",
       "    <tr>\n",
       "      <th>4</th>\n",
       "      <td>395.60</td>\n",
       "      <td>2019</td>\n",
       "      <td>11</td>\n",
       "      <td>20</td>\n",
       "      <td>1</td>\n",
       "      <td>5</td>\n",
       "      <td>180.30</td>\n",
       "      <td>0.00</td>\n",
       "      <td>2019-11-20</td>\n",
       "      <td>Wednesday</td>\n",
       "      <td>...</td>\n",
       "      <td>nan</td>\n",
       "      <td>nan</td>\n",
       "      <td>nan</td>\n",
       "      <td>nan</td>\n",
       "      <td>NaT</td>\n",
       "      <td>nan</td>\n",
       "      <td>nan</td>\n",
       "      <td>NaT</td>\n",
       "      <td>nan</td>\n",
       "      <td>nan</td>\n",
       "    </tr>\n",
       "  </tbody>\n",
       "</table>\n",
       "<p>5 rows × 23 columns</p>\n",
       "</div>"
      ],
      "text/plain": [
       "   Pot_max  Year  Month  Day  Period  Block  Price  Energy       Date  \\\n",
       "0   395.60  2019     11   20       1      1 180.30    0.00 2019-11-20   \n",
       "1   395.60  2019     11   20       1      2 180.30    0.00 2019-11-20   \n",
       "2   395.60  2019     11   20       1      3 180.30    0.00 2019-11-20   \n",
       "3   395.60  2019     11   20       1      4 180.30    0.00 2019-11-20   \n",
       "4   395.60  2019     11   20       1      5 180.30    0.00 2019-11-20   \n",
       "\n",
       "     Weekday  ...  Price_24h  Price_168h  Energy_tot_24h  Energy_tot_168h  \\\n",
       "0  Wednesday  ...        nan         nan             nan              nan   \n",
       "1  Wednesday  ...        nan         nan             nan              nan   \n",
       "2  Wednesday  ...        nan         nan             nan              nan   \n",
       "3  Wednesday  ...        nan         nan             nan              nan   \n",
       "4  Wednesday  ...        nan         nan             nan              nan   \n",
       "\n",
       "   Date_24h  Period_24h  Block_24h Date_168h  Period_168h  Block_168h  \n",
       "0       NaT         nan        nan       NaT          nan         nan  \n",
       "1       NaT         nan        nan       NaT          nan         nan  \n",
       "2       NaT         nan        nan       NaT          nan         nan  \n",
       "3       NaT         nan        nan       NaT          nan         nan  \n",
       "4       NaT         nan        nan       NaT          nan         nan  \n",
       "\n",
       "[5 rows x 23 columns]"
      ]
     },
     "execution_count": 178,
     "metadata": {},
     "output_type": "execute_result"
    }
   ],
   "source": [
    "df_tot_lagT.head()"
   ]
  },
  {
   "cell_type": "code",
   "execution_count": 179,
   "metadata": {},
   "outputs": [],
   "source": [
    "#Checking that the shift operation has been done OK\n",
    "\n",
    "df_tot_lagT_checking = df_tot_lagT.copy()\n",
    "\n",
    "df_tot_lagT_checking['Date_OK'] = df_tot_lagT_checking['Date'] - df_tot_lagT_checking['Date_24h']\n",
    "df_tot_lagT_checking['Date_168h_OK'] = df_tot_lagT_checking['Date'] - df_tot_lagT_checking['Date_168h']\n",
    "df_tot_lagT_checking['Period_OK'] = df_tot_lagT_checking['Period'] - df_tot_lagT_checking['Period_24h']\n",
    "df_tot_lagT_checking['Period_168h_OK'] = df_tot_lagT_checking['Period'] - df_tot_lagT_checking['Period_168h']\n",
    "df_tot_lagT_checking['Block_OK'] = df_tot_lagT_checking['Block'] - df_tot_lagT_checking['Block_24h']\n",
    "df_tot_lagT_checking['Block_168h_OK'] = df_tot_lagT_checking['Block'] - df_tot_lagT_checking['Block_168h']"
   ]
  },
  {
   "cell_type": "code",
   "execution_count": 180,
   "metadata": {},
   "outputs": [
    {
     "data": {
      "text/html": [
       "<div>\n",
       "<style scoped>\n",
       "    .dataframe tbody tr th:only-of-type {\n",
       "        vertical-align: middle;\n",
       "    }\n",
       "\n",
       "    .dataframe tbody tr th {\n",
       "        vertical-align: top;\n",
       "    }\n",
       "\n",
       "    .dataframe thead th {\n",
       "        text-align: right;\n",
       "    }\n",
       "</style>\n",
       "<table border=\"1\" class=\"dataframe\">\n",
       "  <thead>\n",
       "    <tr style=\"text-align: right;\">\n",
       "      <th></th>\n",
       "      <th>Date_OK</th>\n",
       "      <th>Date_168h_OK</th>\n",
       "      <th>Period_OK</th>\n",
       "      <th>Period_168h_OK</th>\n",
       "      <th>Block_OK</th>\n",
       "      <th>Block_168h_OK</th>\n",
       "    </tr>\n",
       "  </thead>\n",
       "  <tbody>\n",
       "    <tr>\n",
       "      <th>count</th>\n",
       "      <td>99648</td>\n",
       "      <td>97920</td>\n",
       "      <td>99,648.00</td>\n",
       "      <td>97,920.00</td>\n",
       "      <td>99,648.00</td>\n",
       "      <td>97,920.00</td>\n",
       "    </tr>\n",
       "    <tr>\n",
       "      <th>mean</th>\n",
       "      <td>1 days 00:00:00</td>\n",
       "      <td>7 days 00:00:00</td>\n",
       "      <td>0.00</td>\n",
       "      <td>0.00</td>\n",
       "      <td>0.00</td>\n",
       "      <td>0.00</td>\n",
       "    </tr>\n",
       "    <tr>\n",
       "      <th>std</th>\n",
       "      <td>0 days 00:00:00</td>\n",
       "      <td>0 days 00:00:00</td>\n",
       "      <td>0.00</td>\n",
       "      <td>0.00</td>\n",
       "      <td>0.00</td>\n",
       "      <td>0.00</td>\n",
       "    </tr>\n",
       "    <tr>\n",
       "      <th>min</th>\n",
       "      <td>1 days 00:00:00</td>\n",
       "      <td>7 days 00:00:00</td>\n",
       "      <td>0.00</td>\n",
       "      <td>0.00</td>\n",
       "      <td>0.00</td>\n",
       "      <td>0.00</td>\n",
       "    </tr>\n",
       "    <tr>\n",
       "      <th>25%</th>\n",
       "      <td>1 days 00:00:00</td>\n",
       "      <td>7 days 00:00:00</td>\n",
       "      <td>0.00</td>\n",
       "      <td>0.00</td>\n",
       "      <td>0.00</td>\n",
       "      <td>0.00</td>\n",
       "    </tr>\n",
       "    <tr>\n",
       "      <th>50%</th>\n",
       "      <td>1 days 00:00:00</td>\n",
       "      <td>7 days 00:00:00</td>\n",
       "      <td>0.00</td>\n",
       "      <td>0.00</td>\n",
       "      <td>0.00</td>\n",
       "      <td>0.00</td>\n",
       "    </tr>\n",
       "    <tr>\n",
       "      <th>75%</th>\n",
       "      <td>1 days 00:00:00</td>\n",
       "      <td>7 days 00:00:00</td>\n",
       "      <td>0.00</td>\n",
       "      <td>0.00</td>\n",
       "      <td>0.00</td>\n",
       "      <td>0.00</td>\n",
       "    </tr>\n",
       "    <tr>\n",
       "      <th>max</th>\n",
       "      <td>1 days 00:00:00</td>\n",
       "      <td>7 days 00:00:00</td>\n",
       "      <td>0.00</td>\n",
       "      <td>0.00</td>\n",
       "      <td>0.00</td>\n",
       "      <td>0.00</td>\n",
       "    </tr>\n",
       "  </tbody>\n",
       "</table>\n",
       "</div>"
      ],
      "text/plain": [
       "               Date_OK     Date_168h_OK  Period_OK  Period_168h_OK  Block_OK  \\\n",
       "count            99648            97920  99,648.00       97,920.00 99,648.00   \n",
       "mean   1 days 00:00:00  7 days 00:00:00       0.00            0.00      0.00   \n",
       "std    0 days 00:00:00  0 days 00:00:00       0.00            0.00      0.00   \n",
       "min    1 days 00:00:00  7 days 00:00:00       0.00            0.00      0.00   \n",
       "25%    1 days 00:00:00  7 days 00:00:00       0.00            0.00      0.00   \n",
       "50%    1 days 00:00:00  7 days 00:00:00       0.00            0.00      0.00   \n",
       "75%    1 days 00:00:00  7 days 00:00:00       0.00            0.00      0.00   \n",
       "max    1 days 00:00:00  7 days 00:00:00       0.00            0.00      0.00   \n",
       "\n",
       "       Block_168h_OK  \n",
       "count      97,920.00  \n",
       "mean            0.00  \n",
       "std             0.00  \n",
       "min             0.00  \n",
       "25%             0.00  \n",
       "50%             0.00  \n",
       "75%             0.00  \n",
       "max             0.00  "
      ]
     },
     "execution_count": 180,
     "metadata": {},
     "output_type": "execute_result"
    }
   ],
   "source": [
    "df_tot_lagT_checking[['Date_OK','Date_168h_OK','Period_OK','Period_168h_OK','Block_OK','Block_168h_OK']].describe()"
   ]
  },
  {
   "cell_type": "code",
   "execution_count": 181,
   "metadata": {},
   "outputs": [],
   "source": [
    "#Everthing is OK since date date time interval is 1 day and 7 days and period, and blocks are the same for all\n",
    "#of the rows"
   ]
  },
  {
   "cell_type": "code",
   "execution_count": 182,
   "metadata": {},
   "outputs": [],
   "source": [
    "#Picking the correct columns\n",
    "columns = ['Year', 'Month', 'Day', 'Period', 'Block', 'Date', 'Weekday',\n",
    "           'Energy', 'Energy_tot','Price', 'Energy_24h', 'Energy_tot_24h', 'Price_24h', \n",
    "           'Energy_168h', 'Energy_tot_168h', 'Price_168h', 'Pot_max']"
   ]
  },
  {
   "cell_type": "code",
   "execution_count": 183,
   "metadata": {},
   "outputs": [],
   "source": [
    "df_tot_lagT = df_tot_lagT[columns]"
   ]
  },
  {
   "cell_type": "code",
   "execution_count": 184,
   "metadata": {
    "scrolled": false
   },
   "outputs": [],
   "source": [
    "#Dropping all rows with NaN, since there are not enought data to build a dataframe (due to time lagging and \n",
    "#lack of data from the original dataframe\n",
    "\n",
    "df_tot_lagT.dropna(inplace=True)\n",
    "df_tot_lagT = df_tot_lagT.reset_index(drop=True)"
   ]
  },
  {
   "cell_type": "code",
   "execution_count": null,
   "metadata": {},
   "outputs": [],
   "source": []
  },
  {
   "cell_type": "code",
   "execution_count": 185,
   "metadata": {},
   "outputs": [
    {
     "name": "stdout",
     "output_type": "stream",
     "text": [
      "No NaN in df\n"
     ]
    }
   ],
   "source": [
    "#Searching for NaN\n",
    "\n",
    "if df_tot_lagT.shape[0] == df_tot_lagT.dropna().shape[0]:\n",
    "    print('No NaN in df')"
   ]
  },
  {
   "cell_type": "code",
   "execution_count": 186,
   "metadata": {},
   "outputs": [
    {
     "data": {
      "text/html": [
       "<div>\n",
       "<style scoped>\n",
       "    .dataframe tbody tr th:only-of-type {\n",
       "        vertical-align: middle;\n",
       "    }\n",
       "\n",
       "    .dataframe tbody tr th {\n",
       "        vertical-align: top;\n",
       "    }\n",
       "\n",
       "    .dataframe thead th {\n",
       "        text-align: right;\n",
       "    }\n",
       "</style>\n",
       "<table border=\"1\" class=\"dataframe\">\n",
       "  <thead>\n",
       "    <tr style=\"text-align: right;\">\n",
       "      <th></th>\n",
       "      <th>Year</th>\n",
       "      <th>Month</th>\n",
       "      <th>Day</th>\n",
       "      <th>Period</th>\n",
       "      <th>Block</th>\n",
       "      <th>Date</th>\n",
       "      <th>Weekday</th>\n",
       "      <th>Energy</th>\n",
       "      <th>Energy_tot</th>\n",
       "      <th>Price</th>\n",
       "      <th>Energy_24h</th>\n",
       "      <th>Energy_tot_24h</th>\n",
       "      <th>Price_24h</th>\n",
       "      <th>Energy_168h</th>\n",
       "      <th>Energy_tot_168h</th>\n",
       "      <th>Price_168h</th>\n",
       "      <th>Pot_max</th>\n",
       "    </tr>\n",
       "  </thead>\n",
       "  <tbody>\n",
       "    <tr>\n",
       "      <th>0</th>\n",
       "      <td>2019</td>\n",
       "      <td>11</td>\n",
       "      <td>27</td>\n",
       "      <td>1</td>\n",
       "      <td>1</td>\n",
       "      <td>2019-11-27</td>\n",
       "      <td>Wednesday</td>\n",
       "      <td>0.00</td>\n",
       "      <td>10.00</td>\n",
       "      <td>180.30</td>\n",
       "      <td>0.00</td>\n",
       "      <td>10.00</td>\n",
       "      <td>180.30</td>\n",
       "      <td>0.00</td>\n",
       "      <td>10.00</td>\n",
       "      <td>180.30</td>\n",
       "      <td>395.60</td>\n",
       "    </tr>\n",
       "    <tr>\n",
       "      <th>1</th>\n",
       "      <td>2019</td>\n",
       "      <td>11</td>\n",
       "      <td>27</td>\n",
       "      <td>1</td>\n",
       "      <td>2</td>\n",
       "      <td>2019-11-27</td>\n",
       "      <td>Wednesday</td>\n",
       "      <td>0.00</td>\n",
       "      <td>45.05</td>\n",
       "      <td>180.30</td>\n",
       "      <td>0.00</td>\n",
       "      <td>45.05</td>\n",
       "      <td>180.30</td>\n",
       "      <td>0.00</td>\n",
       "      <td>45.05</td>\n",
       "      <td>180.30</td>\n",
       "      <td>395.60</td>\n",
       "    </tr>\n",
       "    <tr>\n",
       "      <th>2</th>\n",
       "      <td>2019</td>\n",
       "      <td>11</td>\n",
       "      <td>27</td>\n",
       "      <td>1</td>\n",
       "      <td>3</td>\n",
       "      <td>2019-11-27</td>\n",
       "      <td>Wednesday</td>\n",
       "      <td>0.00</td>\n",
       "      <td>80.11</td>\n",
       "      <td>180.30</td>\n",
       "      <td>0.00</td>\n",
       "      <td>80.11</td>\n",
       "      <td>180.30</td>\n",
       "      <td>0.00</td>\n",
       "      <td>80.11</td>\n",
       "      <td>180.30</td>\n",
       "      <td>395.60</td>\n",
       "    </tr>\n",
       "    <tr>\n",
       "      <th>3</th>\n",
       "      <td>2019</td>\n",
       "      <td>11</td>\n",
       "      <td>27</td>\n",
       "      <td>1</td>\n",
       "      <td>4</td>\n",
       "      <td>2019-11-27</td>\n",
       "      <td>Wednesday</td>\n",
       "      <td>0.00</td>\n",
       "      <td>115.16</td>\n",
       "      <td>180.30</td>\n",
       "      <td>0.00</td>\n",
       "      <td>115.16</td>\n",
       "      <td>180.30</td>\n",
       "      <td>0.00</td>\n",
       "      <td>115.16</td>\n",
       "      <td>180.30</td>\n",
       "      <td>395.60</td>\n",
       "    </tr>\n",
       "    <tr>\n",
       "      <th>4</th>\n",
       "      <td>2019</td>\n",
       "      <td>11</td>\n",
       "      <td>27</td>\n",
       "      <td>1</td>\n",
       "      <td>5</td>\n",
       "      <td>2019-11-27</td>\n",
       "      <td>Wednesday</td>\n",
       "      <td>0.00</td>\n",
       "      <td>150.22</td>\n",
       "      <td>180.30</td>\n",
       "      <td>0.00</td>\n",
       "      <td>150.22</td>\n",
       "      <td>180.30</td>\n",
       "      <td>0.00</td>\n",
       "      <td>150.22</td>\n",
       "      <td>180.30</td>\n",
       "      <td>395.60</td>\n",
       "    </tr>\n",
       "  </tbody>\n",
       "</table>\n",
       "</div>"
      ],
      "text/plain": [
       "   Year  Month  Day  Period  Block       Date    Weekday  Energy  Energy_tot  \\\n",
       "0  2019     11   27       1      1 2019-11-27  Wednesday    0.00       10.00   \n",
       "1  2019     11   27       1      2 2019-11-27  Wednesday    0.00       45.05   \n",
       "2  2019     11   27       1      3 2019-11-27  Wednesday    0.00       80.11   \n",
       "3  2019     11   27       1      4 2019-11-27  Wednesday    0.00      115.16   \n",
       "4  2019     11   27       1      5 2019-11-27  Wednesday    0.00      150.22   \n",
       "\n",
       "   Price  Energy_24h  Energy_tot_24h  Price_24h  Energy_168h  Energy_tot_168h  \\\n",
       "0 180.30        0.00           10.00     180.30         0.00            10.00   \n",
       "1 180.30        0.00           45.05     180.30         0.00            45.05   \n",
       "2 180.30        0.00           80.11     180.30         0.00            80.11   \n",
       "3 180.30        0.00          115.16     180.30         0.00           115.16   \n",
       "4 180.30        0.00          150.22     180.30         0.00           150.22   \n",
       "\n",
       "   Price_168h  Pot_max  \n",
       "0      180.30   395.60  \n",
       "1      180.30   395.60  \n",
       "2      180.30   395.60  \n",
       "3      180.30   395.60  \n",
       "4      180.30   395.60  "
      ]
     },
     "execution_count": 186,
     "metadata": {},
     "output_type": "execute_result"
    }
   ],
   "source": [
    "df_tot_lagT.head()"
   ]
  },
  {
   "cell_type": "code",
   "execution_count": null,
   "metadata": {},
   "outputs": [],
   "source": []
  },
  {
   "cell_type": "code",
   "execution_count": 187,
   "metadata": {},
   "outputs": [
    {
     "data": {
      "text/plain": [
       "335.0"
      ]
     },
     "execution_count": 187,
     "metadata": {},
     "output_type": "execute_result"
    }
   ],
   "source": [
    "df_tot_lagT.shape[0]/12/24"
   ]
  },
  {
   "cell_type": "code",
   "execution_count": 188,
   "metadata": {},
   "outputs": [
    {
     "data": {
      "text/plain": [
       "340"
      ]
     },
     "execution_count": 188,
     "metadata": {},
     "output_type": "execute_result"
    }
   ],
   "source": [
    "(df_tot_lagT['Date'].max() - df_tot_lagT['Date'].min()).days + 1"
   ]
  },
  {
   "cell_type": "code",
   "execution_count": null,
   "metadata": {},
   "outputs": [],
   "source": []
  },
  {
   "cell_type": "code",
   "execution_count": null,
   "metadata": {},
   "outputs": [],
   "source": []
  },
  {
   "cell_type": "markdown",
   "metadata": {},
   "source": [
    "### 3.5. CREATING DATAFRAMES AS MODELS' INPUT\n"
   ]
  },
  {
   "cell_type": "markdown",
   "metadata": {},
   "source": [
    "### 3.5.1. BUILDING DATAFRAMES PER PERIOD (HOUR) - DELTA ENERGY APPROACH\n",
    "\n",
    "In this section models' input dataframes will be created, considering that the models will be built for each period (hour). \n",
    "\n",
    "First of all, the following features will be considered for X:\n",
    "\n",
    "* Weekday\n",
    "* Block\n",
    "* Energy 24h lagged\n",
    "* Energy 168h lagged\n",
    "* Price 24h lagged\n",
    "* Price 168h lagged\n",
    "\n",
    "The target variables (y) will be:\n",
    "\n",
    "* Energy\n",
    "* Price\n",
    "\n",
    "Note that Delta Energy will be considered as Energy. It is considered that this approach will work better than considering Energy as target instead of Energy_tot."
   ]
  },
  {
   "cell_type": "markdown",
   "metadata": {},
   "source": [
    "Dataframes will be splitted in the following way:\n",
    "\n",
    "* TRAIN SET: data set to train the models\n",
    "* VALIDATION SET: data set to validate and to select the models' hyperparamenters\n",
    "* TEST SET: data set to test the models\n",
    "\n",
    "The sppliting will be done considering the following time preriods:\n",
    "\n",
    "* TEST SET: last month of the data set --> 2020-10-01 to 2020-10-31\n",
    "* VALIDATION SET: before last month of the data set --> 2020-09-01 to 2020-09-30\n",
    "* TRAIN SET: rest of the dataframe"
   ]
  },
  {
   "cell_type": "markdown",
   "metadata": {},
   "source": [
    "Dataframes will be splitted in the same way as it was done with the Energy_tot approach:\n",
    "\n",
    "* TEST SET: last month of the data set --> 2020-10-01 to 2020-10-31\n",
    "* VALIDATION SET: before last month of the data set --> 2020-09-01 to 2020-09-30\n",
    "* TRAIN SET: rest of the dataframe"
   ]
  },
  {
   "cell_type": "code",
   "execution_count": 189,
   "metadata": {},
   "outputs": [],
   "source": [
    "df_set_dE = df_tot_lagT[['Year','Month','Day','Period','Date','Weekday','Block',\n",
    "                      'Energy','Price','Energy_24h','Energy_168h','Price_24h','Price_168h']]"
   ]
  },
  {
   "cell_type": "markdown",
   "metadata": {},
   "source": [
    "#### TEST SET"
   ]
  },
  {
   "cell_type": "code",
   "execution_count": 190,
   "metadata": {},
   "outputs": [],
   "source": [
    "df_set_dE_TEST = df_set_dE[(df_set_dE['Year'] == df_set_dE['Date'].max().year)&\n",
    "               (df_set_dE['Month'] == df_set_dE['Date'].max().month)]\n",
    "\n",
    "df_set_dE_TEST = df_set_dE_TEST.reset_index(drop=True)\n",
    "\n",
    "df_set_dE_TEST_period = [df_set_dE_TEST[df_set_dE_TEST['Period']==hour] for hour in range(1,25)]\n",
    "\n",
    "df_X_dE_TEST = []\n",
    "y_dE_TEST = []\n",
    "\n",
    "for df in df_set_dE_TEST_period:\n",
    "    df_X_dE_TEST.append(df[['Weekday','Block','Energy_24h','Energy_168h','Price_24h','Price_168h']])\n",
    "    y_dE_TEST.append(np.array(df[['Energy','Price']]))"
   ]
  },
  {
   "cell_type": "markdown",
   "metadata": {},
   "source": [
    "#### VALIDATION SET"
   ]
  },
  {
   "cell_type": "code",
   "execution_count": 191,
   "metadata": {},
   "outputs": [],
   "source": [
    "df_set_dE_VAL = df_set_dE[(df_set_dE['Year'] == (df_set_dE_TEST['Date'].min() - timedelta(days=1)).year)&\n",
    "               (df_set_dE['Month'] == (df_set_dE_TEST['Date'].min() - timedelta(days=1)).month)]\n",
    "\n",
    "df_set_dE_VAL = df_set_dE_VAL.reset_index(drop=True)\n",
    "\n",
    "df_set_dE_VAL_period = [df_set_dE_VAL[df_set_dE_VAL['Period']==hour] for hour in range(1,25)]\n",
    "\n",
    "df_X_dE_VAL = []\n",
    "y_dE_VAL = []\n",
    "\n",
    "for df in df_set_dE_VAL_period:\n",
    "    df_X_dE_VAL.append(df[['Weekday','Block','Energy_24h','Energy_168h','Price_24h','Price_168h']])\n",
    "    y_dE_VAL.append(np.array(df[['Energy','Price']])) #Note y_test is a np.array"
   ]
  },
  {
   "cell_type": "markdown",
   "metadata": {},
   "source": [
    "#### TRAIN SET"
   ]
  },
  {
   "cell_type": "code",
   "execution_count": 192,
   "metadata": {
    "scrolled": true
   },
   "outputs": [],
   "source": [
    "df_set_dE_TRAIN_start = df_set_dE[((df_set_dE['Date'] == df_set_dE['Date'].min()) \n",
    "                                   & (df_set_dE['Period'] == 1)  \n",
    "                                   & (df_set_dE['Block'] == 1))].index\n",
    "\n",
    "df_set_dE_TRAIN_end = df_set_dE[(df_set_dE['Date'] == df_set_dE_VAL['Date'].min()- timedelta(days=1)) \n",
    "                                & (df_set_dE['Period'] == 24)  & (df_set_dE['Block'] == block_max)].index\n",
    "\n",
    "df_set_dE_TRAIN = df_set_dE.iloc[df_set_dE_TRAIN_start[0]:df_set_dE_TRAIN_end[0]+1]\n",
    "\n",
    "df_set_dE_num_days = (df_set_dE['Date'].max()-df_set_dE['Date'].min()).days + 1 \n",
    "df_set_dE_TEST_num_days = (df_set_dE_TEST['Date'].max()-df_set_dE_TEST['Date'].min()).days + 1\n",
    "df_set_dE_VAL_num_days = (df_set_dE_VAL['Date'].max()-df_set_dE_VAL['Date'].min()).days + 1\n",
    "df_set_dE_TRAIN_num_days = df_set_dE_num_days - df_set_dE_TEST_num_days - df_set_dE_VAL_num_days\n",
    "df_set_dE_TRAIN_num_days\n",
    "\n",
    "df_set_dE_TRAIN_period = [df_set_dE_TRAIN[df_set_dE_TRAIN['Period']==hour] for hour in range(1,25)]\n",
    "\n",
    "df_X_dE_TRAIN = []\n",
    "y_dE_TRAIN = []\n",
    "\n",
    "for df in df_set_dE_TRAIN_period:\n",
    "    df_X_dE_TRAIN.append(df[['Weekday','Block','Energy_24h','Energy_168h','Price_24h','Price_168h']])\n",
    "    y_dE_TRAIN.append(np.array(df[['Energy','Price']])) #Note y_train is a np.array"
   ]
  },
  {
   "cell_type": "code",
   "execution_count": null,
   "metadata": {},
   "outputs": [],
   "source": []
  },
  {
   "cell_type": "markdown",
   "metadata": {},
   "source": [
    "#### TRAIN + VALIDATION SET"
   ]
  },
  {
   "cell_type": "code",
   "execution_count": 193,
   "metadata": {},
   "outputs": [],
   "source": [
    "df_X_dE_TRAIN_VAL = []\n",
    "\n",
    "for hour in range(0,len(df_X_dE_TRAIN)):\n",
    "    df_X_dE_TRAIN_VAL.append(pd.concat([df_X_dE_TRAIN[hour], df_X_dE_VAL[hour]],axis=0))"
   ]
  },
  {
   "cell_type": "code",
   "execution_count": 194,
   "metadata": {},
   "outputs": [],
   "source": [
    "y_dE_TRAIN_VAL = []\n",
    "\n",
    "for hour in range(0,len(df_X_dE_TRAIN)):\n",
    "    y_dE_TRAIN_VAL.append(np.concatenate((y_dE_TRAIN[hour], \n",
    "                             y_dE_VAL[hour]),\n",
    "                            axis=0))"
   ]
  },
  {
   "cell_type": "markdown",
   "metadata": {},
   "source": [
    "### 3.5.2. NORMALIZATION AND ONE-HOT-ENCODING FOR FEATURES MODELS' INPUT - DELTA ENERGY APPROACH\n",
    "\n",
    "In this section X_train, X_val, and X_test will be transformed to normalize the Price and Energy features (24h and 168h lagged) and Weekday, and Block (categorical variables) will be transformed using One-Hot-Encoding."
   ]
  },
  {
   "cell_type": "markdown",
   "metadata": {},
   "source": [
    "#### TRAIN SET - ENCODING"
   ]
  },
  {
   "cell_type": "code",
   "execution_count": 195,
   "metadata": {},
   "outputs": [],
   "source": [
    "#One-hot encoding will be used to convert variables from categorical to binary.\n",
    "\n",
    "from sklearn.preprocessing import OneHotEncoder\n",
    "\n",
    "df_X_TRAIN_cat = []\n",
    "\n",
    "for df in df_X_dE_TRAIN:\n",
    "    df_X_TRAIN_cat.append(df[['Weekday','Block']])\n",
    "\n",
    "one_encoder = OneHotEncoder(drop=None, sparse=False) #Changing 'first' with 'None'\n",
    "\n",
    "df_X_TRAIN_cat_onehot_encoder = []\n",
    "\n",
    "for hour in range(0,len(df_X_dE_TRAIN)):\n",
    "    \n",
    "    df_X_TRAIN_cat_onehot_encoder.append(one_encoder.fit(df_X_TRAIN_cat[hour]))\n",
    "    \n",
    "df_X_TRAIN_cat_onehot = []\n",
    "\n",
    "for hour in range(0,len(df_X_dE_TRAIN)):\n",
    "    \n",
    "    df_X_TRAIN_cat_onehot.append(df_X_TRAIN_cat_onehot_encoder[hour].transform(df_X_TRAIN_cat[hour]))"
   ]
  },
  {
   "cell_type": "code",
   "execution_count": 196,
   "metadata": {},
   "outputs": [],
   "source": [
    "#Normalization of Energy_tot (24h and 168h lagged) to [0,1], by dividing the entire columns with Pmax.\n",
    "\n",
    "Energy_tot_max = df_tot_lagT['Pot_max'].max()\n",
    "\n",
    "df_X_dE_TRAIN_energy_norm = []\n",
    "\n",
    "for df in df_X_dE_TRAIN:\n",
    "    df_X_dE_TRAIN_energy_norm.append(df[['Energy_24h', 'Energy_168h']]/Energy_tot_max)"
   ]
  },
  {
   "cell_type": "code",
   "execution_count": null,
   "metadata": {},
   "outputs": [],
   "source": []
  },
  {
   "cell_type": "code",
   "execution_count": 197,
   "metadata": {},
   "outputs": [],
   "source": [
    "#Normalization of Price (24h and 168h lagged) by stardard method (mean = 0 and std = 1)\n",
    "\n",
    "from sklearn.preprocessing import StandardScaler\n",
    "\n",
    "df_X_TRAIN_price = []\n",
    "\n",
    "for df in df_X_dE_TRAIN:\n",
    "    df_X_TRAIN_price.append(df[['Price_24h','Price_168h']])\n",
    "\n",
    "std_encoder = StandardScaler()\n",
    "\n",
    "df_X_TRAIN_price_std_encoder = []\n",
    "\n",
    "for hour in range(0,len(df_X_dE_TRAIN)):\n",
    "    \n",
    "    df_X_TRAIN_price_std_encoder.append(std_encoder.fit(df_X_TRAIN_price[hour]))\n",
    "    \n",
    "\n",
    "    df_X_TRAIN_price_std = []\n",
    "\n",
    "for hour in range(0,len(df_X_dE_TRAIN)):\n",
    "    \n",
    "    df_X_TRAIN_price_std.append(df_X_TRAIN_price_std_encoder[hour].transform(df_X_TRAIN_price[hour]))"
   ]
  },
  {
   "cell_type": "code",
   "execution_count": 198,
   "metadata": {
    "scrolled": true
   },
   "outputs": [],
   "source": [
    "X_dE_TRAIN = []\n",
    "\n",
    "for hour in range(0,len(df_X_dE_TRAIN)):\n",
    "\n",
    "    X_dE_TRAIN.append(np.concatenate((df_X_TRAIN_cat_onehot[hour], \n",
    "                             df_X_dE_TRAIN_energy_norm[hour],\n",
    "                             df_X_TRAIN_price_std[hour]),\n",
    "                            axis=1))"
   ]
  },
  {
   "cell_type": "code",
   "execution_count": 199,
   "metadata": {
    "scrolled": true
   },
   "outputs": [
    {
     "data": {
      "text/plain": [
       "((3288, 19), (3288, 2), (3288, 2))"
      ]
     },
     "execution_count": 199,
     "metadata": {},
     "output_type": "execute_result"
    }
   ],
   "source": [
    "df_X_TRAIN_cat_onehot[0].shape, df_X_dE_TRAIN_energy_norm[0].shape, df_X_TRAIN_price_std[0].shape"
   ]
  },
  {
   "cell_type": "code",
   "execution_count": 200,
   "metadata": {
    "scrolled": true
   },
   "outputs": [
    {
     "data": {
      "text/plain": [
       "(24, 24, 24)"
      ]
     },
     "execution_count": 200,
     "metadata": {},
     "output_type": "execute_result"
    }
   ],
   "source": [
    "len(df_X_TRAIN_cat_onehot), len(df_X_dE_TRAIN_energy_norm), len(df_X_TRAIN_price_std)"
   ]
  },
  {
   "cell_type": "code",
   "execution_count": 201,
   "metadata": {},
   "outputs": [
    {
     "data": {
      "text/plain": [
       "24"
      ]
     },
     "execution_count": 201,
     "metadata": {},
     "output_type": "execute_result"
    }
   ],
   "source": [
    "len(df_X_dE_TRAIN)"
   ]
  },
  {
   "cell_type": "code",
   "execution_count": 202,
   "metadata": {},
   "outputs": [
    {
     "data": {
      "text/plain": [
       "(3288, 23)"
      ]
     },
     "execution_count": 202,
     "metadata": {},
     "output_type": "execute_result"
    }
   ],
   "source": [
    "X_dE_TRAIN[0].shape"
   ]
  },
  {
   "cell_type": "code",
   "execution_count": 203,
   "metadata": {
    "scrolled": true
   },
   "outputs": [
    {
     "data": {
      "text/plain": [
       "numpy.ndarray"
      ]
     },
     "execution_count": 203,
     "metadata": {},
     "output_type": "execute_result"
    }
   ],
   "source": [
    "type(X_dE_TRAIN[0])"
   ]
  },
  {
   "cell_type": "markdown",
   "metadata": {},
   "source": [
    "#### VALIDATION SET - ENCODING --> FITTING WITH TRAIN SET"
   ]
  },
  {
   "cell_type": "code",
   "execution_count": 204,
   "metadata": {},
   "outputs": [],
   "source": [
    "#One-hot encoding will be used to convert variables from categorical to binary.\n",
    "\n",
    "df_X_VAL_cat = []\n",
    "for df in df_X_dE_VAL:\n",
    "    df_X_VAL_cat.append(df[['Weekday','Block']])\n",
    "    \n",
    "df_X_VAL_cat_onehot = []\n",
    "for hour in range(0,len(df_X_dE_VAL)):\n",
    "    df_X_VAL_cat_onehot.append(df_X_TRAIN_cat_onehot_encoder[hour].transform(df_X_VAL_cat[hour]))\n",
    "    \n",
    "#Normalization of Energy_tot (24h and 168h lagged) to [0,1], by dividing the entire columns with Pmax.\n",
    "df_X_dE_VAL_energy_norm = []\n",
    "for df in df_X_dE_VAL:\n",
    "    df_X_dE_VAL_energy_norm.append(df[['Energy_24h', 'Energy_168h']]/Energy_tot_max)\n",
    "    \n",
    "#Normalization of Price (24h and 168h lagged) by stardard method (mean = 0 and std = 1)\n",
    "df_X_VAL_price = []\n",
    "\n",
    "for df in df_X_dE_VAL:\n",
    "    df_X_VAL_price.append(df[['Price_24h','Price_168h']])\n",
    "    \n",
    "df_X_VAL_price_std = []\n",
    "for hour in range(0,len(df_X_dE_VAL)):\n",
    "    df_X_VAL_price_std.append(df_X_TRAIN_price_std_encoder[hour].transform(df_X_VAL_price[hour]))\n",
    "    \n",
    "X_dE_VAL = []\n",
    "for hour in range(0,len(df_X_dE_VAL)):\n",
    "    X_dE_VAL.append(np.concatenate((df_X_VAL_cat_onehot[hour], \n",
    "                             df_X_dE_VAL_energy_norm[hour],\n",
    "                             df_X_VAL_price_std[hour]),\n",
    "                            axis=1))"
   ]
  },
  {
   "cell_type": "markdown",
   "metadata": {},
   "source": [
    "#### TEST SET - ENCODING --> FITTING WITH TRAIN_VAL SET"
   ]
  },
  {
   "cell_type": "code",
   "execution_count": 205,
   "metadata": {},
   "outputs": [],
   "source": [
    "#One-hot encoding will be used to convert variables from categorical to binary.\n",
    "\n",
    "from sklearn.preprocessing import OneHotEncoder\n",
    "\n",
    "one_encoder = OneHotEncoder(drop=None, sparse=False) #Changing 'first' with 'None'\n",
    "\n",
    "df_X_TEST_cat = []\n",
    "\n",
    "for df in df_X_dE_TEST:\n",
    "    df_X_TEST_cat.append(df[['Weekday','Block']])\n",
    "\n",
    "df_X_TRAIN_VAL_cat = []\n",
    "\n",
    "for df in df_X_dE_TRAIN_VAL:\n",
    "    df_X_TRAIN_VAL_cat.append(df[['Weekday','Block']])\n",
    "\n",
    "df_X_TRAIN_VAL_cat_onehot_encoder = []\n",
    "for hour in range(0,len(df_X_dE_TRAIN_VAL)):\n",
    "    df_X_TRAIN_VAL_cat_onehot_encoder.append(one_encoder.fit(df_X_TRAIN_VAL_cat[hour]))\n",
    "\n",
    "df_X_TRAIN_VAL_cat_onehot = []\n",
    "for hour in range(0,len(df_X_dE_TRAIN_VAL)):\n",
    "    df_X_TRAIN_VAL_cat_onehot.append(df_X_TRAIN_VAL_cat_onehot_encoder[hour].transform(df_X_TRAIN_VAL_cat[hour]))\n",
    "    \n",
    "df_X_TEST_cat_onehot = []\n",
    "for hour in range(0,len(df_X_dE_TEST)):\n",
    "    df_X_TEST_cat_onehot.append(df_X_TRAIN_VAL_cat_onehot_encoder[hour].transform(df_X_TEST_cat[hour]))"
   ]
  },
  {
   "cell_type": "code",
   "execution_count": 206,
   "metadata": {},
   "outputs": [],
   "source": [
    "#Normalization of Energy_tot (24h and 168h lagged) to [0,1], by dividing the entire columns with Pmax.\n",
    "df_X_dE_TEST_energy_norm = []\n",
    "for df in df_X_dE_TEST:\n",
    "    df_X_dE_TEST_energy_norm.append(df[['Energy_24h', 'Energy_168h']]/Energy_tot_max)\n",
    "    \n",
    "df_X_dE_TRAIN_VAL_energy_norm = []\n",
    "for df in df_X_dE_TRAIN_VAL:\n",
    "    df_X_dE_TRAIN_VAL_energy_norm.append(df[['Energy_24h', 'Energy_168h']]/Energy_tot_max)"
   ]
  },
  {
   "cell_type": "code",
   "execution_count": null,
   "metadata": {},
   "outputs": [],
   "source": []
  },
  {
   "cell_type": "code",
   "execution_count": 207,
   "metadata": {},
   "outputs": [],
   "source": [
    "#Normalization of Price (24h and 168h lagged) by stardard method (mean = 0 and std = 1)\n",
    "\n",
    "from sklearn.preprocessing import StandardScaler\n",
    "\n",
    "df_X_TEST_price = []\n",
    "\n",
    "for df in df_X_dE_TEST:\n",
    "    df_X_TEST_price.append(df[['Price_24h','Price_168h']])\n",
    "\n",
    "df_X_TRAIN_VAL_price = []\n",
    "\n",
    "for df in df_X_dE_TRAIN_VAL:\n",
    "    df_X_TRAIN_VAL_price.append(df[['Price_24h','Price_168h']])\n",
    "    \n",
    "std_encoder = StandardScaler()\n",
    "\n",
    "df_X_TRAIN_VAL_price_std_encoder = []\n",
    "\n",
    "for hour in range(0,len(df_X_dE_TRAIN_VAL)):  \n",
    "    df_X_TRAIN_VAL_price_std_encoder.append(std_encoder.fit(df_X_TRAIN_VAL_price[hour]))\n",
    "    \n",
    "df_X_TRAIN_VAL_price_std = []\n",
    "for hour in range(0,len(df_X_dE_TRAIN_VAL)):   \n",
    "    df_X_TRAIN_VAL_price_std.append(df_X_TRAIN_VAL_price_std_encoder[hour].transform(df_X_TRAIN_VAL_price[hour]))\n",
    "    \n",
    "df_X_TEST_price_std = []\n",
    "for hour in range(0,len(df_X_dE_TEST)):   \n",
    "    df_X_TEST_price_std.append(df_X_TRAIN_VAL_price_std_encoder[hour].transform(df_X_TEST_price[hour]))"
   ]
  },
  {
   "cell_type": "code",
   "execution_count": null,
   "metadata": {},
   "outputs": [],
   "source": []
  },
  {
   "cell_type": "code",
   "execution_count": 208,
   "metadata": {},
   "outputs": [],
   "source": [
    "X_dE_TEST = []\n",
    "for hour in range(0,len(df_X_dE_TEST)):\n",
    "    X_dE_TEST.append(np.concatenate((df_X_TEST_cat_onehot[hour], \n",
    "                             df_X_dE_TEST_energy_norm[hour],\n",
    "                             df_X_TEST_price_std[hour]),\n",
    "                            axis=1))"
   ]
  },
  {
   "cell_type": "code",
   "execution_count": 209,
   "metadata": {},
   "outputs": [],
   "source": [
    "X_dE_TRAIN_VAL = []\n",
    "for hour in range(0,len(df_X_dE_TRAIN_VAL)):\n",
    "    X_dE_TRAIN_VAL.append(np.concatenate((df_X_TRAIN_VAL_cat_onehot[hour], \n",
    "                             df_X_dE_TRAIN_VAL_energy_norm[hour],\n",
    "                             df_X_TRAIN_VAL_price_std[hour]),\n",
    "                            axis=1))"
   ]
  },
  {
   "cell_type": "code",
   "execution_count": null,
   "metadata": {},
   "outputs": [],
   "source": []
  },
  {
   "cell_type": "markdown",
   "metadata": {},
   "source": [
    "## 4. MULTI-OUTPUT REGRESSION MODELS\n",
    "\n",
    "In this section, several multi-output regression models will be develop to predict Energy_tot and Price.\n",
    "\n",
    "Test set will be used to adjust the models' hyperparameters and Validation test will be used to calibrate the quality of the models."
   ]
  },
  {
   "cell_type": "code",
   "execution_count": 210,
   "metadata": {
    "scrolled": true
   },
   "outputs": [
    {
     "data": {
      "text/plain": [
       "(numpy.ndarray, numpy.ndarray)"
      ]
     },
     "execution_count": 210,
     "metadata": {},
     "output_type": "execute_result"
    }
   ],
   "source": [
    "type(X_dE_TRAIN[0]), type(y_dE_TRAIN[0])"
   ]
  },
  {
   "cell_type": "code",
   "execution_count": 211,
   "metadata": {
    "scrolled": true
   },
   "outputs": [
    {
     "data": {
      "text/plain": [
       "array([[  0. , 180.3],\n",
       "       [  0. , 180.3],\n",
       "       [  0. , 180.3],\n",
       "       ...,\n",
       "       [  0. , 180.3],\n",
       "       [  0. , 180.3],\n",
       "       [395.6, 180.3]])"
      ]
     },
     "execution_count": 211,
     "metadata": {},
     "output_type": "execute_result"
    }
   ],
   "source": [
    "y_dE_TRAIN[0]"
   ]
  },
  {
   "cell_type": "markdown",
   "metadata": {},
   "source": [
    "### 4.1. MULTI-OUTPUT RANDOM FOREST REGRESSION - DELTA ENERGY APPROACH\n",
    "\n",
    "\n",
    "Models are fitted with the TRAIN SET and predictions to fit the hyperparameters are checked with VALIDATION SET.\n",
    "After selecting the hyperparameters, fit is done with TRAIN + VALIDATION SET and predictions with TEST SET."
   ]
  },
  {
   "cell_type": "code",
   "execution_count": 212,
   "metadata": {},
   "outputs": [],
   "source": [
    "import pickle\n",
    "\n",
    "hours = len(X_dE_TEST)"
   ]
  },
  {
   "cell_type": "code",
   "execution_count": 213,
   "metadata": {},
   "outputs": [],
   "source": [
    "# RANDOM FOREST\n",
    "from sklearn.ensemble import RandomForestRegressor\n",
    "\n",
    "reg_rf = RandomForestRegressor(n_estimators=100)"
   ]
  },
  {
   "cell_type": "markdown",
   "metadata": {},
   "source": [
    "#### 4.1.1. RANDOM FOREST - BASIC APPROACH"
   ]
  },
  {
   "cell_type": "code",
   "execution_count": 214,
   "metadata": {},
   "outputs": [],
   "source": [
    "reg_rf_fit_dE_TRAIN_VAL_pkl_names = []\n",
    "\n",
    "for hour in range(0,hours):    \n",
    "    model_name = '/home/dsc/Repos/TFM/Models_pkl/' + unit + '_rf_fit_dE_TRAIN_VAL_hour_' + str(hour+1) + '.pkl'\n",
    "    reg_rf_fit_dE_TRAIN_VAL_pkl_names.append(model_name)\n",
    "    \n",
    "    #Lines commented because models have been stored already\n",
    "    reg_rf_fit_dE_TRAIN_VAL = reg_rf.fit(X_dE_TRAIN_VAL[hour],y_dE_TRAIN_VAL[hour]) \n",
    "    pickle.dump(reg_rf_fit_dE_TRAIN_VAL, open(model_name, 'wb'))\n",
    "    \n",
    "\n",
    "y_dE_TEST_pred_rf = []\n",
    "for hour in range(0,hours):\n",
    "    loaded_model = pickle.load(open(reg_rf_fit_dE_TRAIN_VAL_pkl_names[hour], 'rb'))\n",
    "    y_dE_TEST_pred_rf.append(loaded_model.predict(X_dE_TEST[hour]))"
   ]
  },
  {
   "cell_type": "code",
   "execution_count": 215,
   "metadata": {},
   "outputs": [
    {
     "data": {
      "text/plain": [
       "[10.207983870968722,\n",
       " 7.295091397850452,\n",
       " 6.893276881721417,\n",
       " 9.162579971900769,\n",
       " 10.886612432223368,\n",
       " 13.058741888219071,\n",
       " 20.599528243672697,\n",
       " 28.846769363298776,\n",
       " 19.360636747032544,\n",
       " 7.5561229567699,\n",
       " 1.6265882002003589,\n",
       " 0.6735970349313262,\n",
       " 0.5630606950396051,\n",
       " 5.686004766767925,\n",
       " 6.393429867954263,\n",
       " 6.304743041517493,\n",
       " 6.3601936801234,\n",
       " 6.3504932012310125,\n",
       " 6.350210678011872,\n",
       " 9.494299626689976,\n",
       " 10.965660205599448,\n",
       " 10.846885517609829,\n",
       " 9.13704238760761,\n",
       " 18.94509623264336]"
      ]
     },
     "execution_count": 215,
     "metadata": {},
     "output_type": "execute_result"
    }
   ],
   "source": [
    "from sklearn.metrics import mean_absolute_error, mean_squared_error\n",
    "\n",
    "# MAE\n",
    "mae_dE_TEST_rf = []\n",
    "for hour in range(0,hours):\n",
    "    mae_dE_TEST_rf.append(mean_absolute_error(y_dE_TEST[hour],y_dE_TEST_pred_rf[hour]))\n",
    "mae_dE_TEST_rf"
   ]
  },
  {
   "cell_type": "code",
   "execution_count": 216,
   "metadata": {},
   "outputs": [
    {
     "data": {
      "text/plain": [
       "[40.3865318199128,\n",
       " 33.26120815200734,\n",
       " 32.39717984946997,\n",
       " 35.64350486227529,\n",
       " 38.165087301515015,\n",
       " 37.88976366388465,\n",
       " 49.912312160579695,\n",
       " 58.27229330289317,\n",
       " 44.4805696669274,\n",
       " 25.202247958290304,\n",
       " 10.283730983133063,\n",
       " 2.6477342930344285,\n",
       " 1.5046044499907323,\n",
       " 24.46355116826662,\n",
       " 27.12080236444937,\n",
       " 26.97301898894599,\n",
       " 27.023558353744523,\n",
       " 27.157653969500544,\n",
       " 27.265507697848744,\n",
       " 35.28458993174324,\n",
       " 37.18771773001494,\n",
       " 37.02004630010312,\n",
       " 35.0608101486479,\n",
       " 51.63496053034324]"
      ]
     },
     "execution_count": 216,
     "metadata": {},
     "output_type": "execute_result"
    }
   ],
   "source": [
    "# RMSE from random forest\n",
    "\n",
    "rmse_dE_TEST_rf = []\n",
    "for hour in range(0,hours):\n",
    "    rmse_dE_TEST_rf.append(np.sqrt(mean_squared_error(y_dE_TEST[hour],y_dE_TEST_pred_rf[hour])))\n",
    "rmse_dE_TEST_rf"
   ]
  },
  {
   "cell_type": "code",
   "execution_count": 217,
   "metadata": {},
   "outputs": [
    {
     "data": {
      "text/plain": [
       "(9.731860370399383, 31.92662440198008)"
      ]
     },
     "execution_count": 217,
     "metadata": {},
     "output_type": "execute_result"
    }
   ],
   "source": [
    "np.mean(mae_dE_TEST_rf), np.mean(rmse_dE_TEST_rf)"
   ]
  },
  {
   "cell_type": "code",
   "execution_count": null,
   "metadata": {},
   "outputs": [],
   "source": []
  },
  {
   "cell_type": "markdown",
   "metadata": {},
   "source": [
    "#### 4.1.2. RANDOM FOREST - SELECTING HYPERPARAMENTERS"
   ]
  },
  {
   "cell_type": "code",
   "execution_count": 218,
   "metadata": {},
   "outputs": [],
   "source": [
    "#Creating a fixed split for GridSearch\n",
    "#Since the length of all 24 sets are equal, only is necesary to create one \"test_fold\"\n",
    "\n",
    "TRAIN_len = len(X_dE_TRAIN[0])\n",
    "VAL_len = len(X_dE_VAL[0])\n",
    "\n",
    "test_fold = np.repeat([-1,0], [TRAIN_len, VAL_len])"
   ]
  },
  {
   "cell_type": "code",
   "execution_count": 219,
   "metadata": {},
   "outputs": [],
   "source": [
    "from sklearn.model_selection import PredefinedSplit\n",
    "\n",
    "ps = PredefinedSplit(test_fold)"
   ]
  },
  {
   "cell_type": "code",
   "execution_count": 220,
   "metadata": {},
   "outputs": [
    {
     "data": {
      "text/plain": [
       "1"
      ]
     },
     "execution_count": 220,
     "metadata": {},
     "output_type": "execute_result"
    }
   ],
   "source": [
    "#Checking the number of splits\n",
    "ps.get_n_splits()"
   ]
  },
  {
   "cell_type": "code",
   "execution_count": null,
   "metadata": {},
   "outputs": [],
   "source": []
  },
  {
   "cell_type": "code",
   "execution_count": 221,
   "metadata": {},
   "outputs": [],
   "source": [
    "from sklearn.model_selection import GridSearchCV\n",
    "\n",
    "reg_rf_grid = GridSearchCV(RandomForestRegressor(n_estimators=100),\n",
    "                  param_grid={\"max_depth\":np.arange(2,11),\n",
    "                              \"min_samples_leaf\":np.arange(10,100,15)},\n",
    "                  scoring=\"neg_mean_absolute_error\",\n",
    "                  cv=ps)"
   ]
  },
  {
   "cell_type": "code",
   "execution_count": 222,
   "metadata": {},
   "outputs": [],
   "source": [
    "hours = len(X_dE_TRAIN)\n",
    "\n",
    "reg_rf_grid_fit_dE_TRAIN_VAL_pkl_names = []\n",
    "\n",
    "for hour in range(0,hours):    \n",
    "    model_name = '/home/dsc/Repos/TFM/Models_pkl/' + unit + '_rf_grid_fit_dE_TRAIN_VAL_hour_' + str(hour+1) + '.pkl'\n",
    "    reg_rf_grid_fit_dE_TRAIN_VAL_pkl_names.append(model_name)\n",
    "    \n",
    "    #Lines commented because models have been stored already\n",
    "    reg_rf_grid_fit_dE_TRAIN_VAL = reg_rf_grid.fit(X_dE_TRAIN_VAL[hour],y_dE_TRAIN_VAL[hour]) \n",
    "    pickle.dump(reg_rf_grid_fit_dE_TRAIN_VAL, open(model_name, 'wb'))\n",
    "    \n",
    "\n",
    "y_dE_TEST_pred_rf_grid = []\n",
    "for hour in range(0,hours):\n",
    "    loaded_model = pickle.load(open(reg_rf_grid_fit_dE_TRAIN_VAL_pkl_names[hour], 'rb'))\n",
    "    y_dE_TEST_pred_rf_grid.append(loaded_model.predict(X_dE_TEST[hour]))"
   ]
  },
  {
   "cell_type": "code",
   "execution_count": null,
   "metadata": {},
   "outputs": [],
   "source": []
  },
  {
   "cell_type": "code",
   "execution_count": 223,
   "metadata": {},
   "outputs": [
    {
     "data": {
      "text/plain": [
       "[10.032516129033233,\n",
       " 7.295091397850478,\n",
       " 6.87732526881825,\n",
       " 9.405759850033704,\n",
       " 10.81604047241269,\n",
       " 14.483199065759003,\n",
       " 21.737964433699563,\n",
       " 28.979227767482985,\n",
       " 14.341027278808413,\n",
       " 4.182163585722845,\n",
       " 0.8331764980297376,\n",
       " 0.3533054391837949,\n",
       " 0.3257094664198788,\n",
       " 5.501663147689997,\n",
       " 6.13190384340732,\n",
       " 6.180593758490474,\n",
       " 6.190266004584292,\n",
       " 6.120063765941907,\n",
       " 6.197505167924604,\n",
       " 8.69908902140637,\n",
       " 9.98630496747215,\n",
       " 10.844458472627984,\n",
       " 9.98109290212369,\n",
       " 19.205529833068262]"
      ]
     },
     "execution_count": 223,
     "metadata": {},
     "output_type": "execute_result"
    }
   ],
   "source": [
    "# MAE - RANDOM FOREST - GRID\n",
    "mae_dE_TEST_rf_grid = []\n",
    "for hour in range(0,hours):\n",
    "    mae_dE_TEST_rf_grid.append(mean_absolute_error(y_dE_TEST[hour],y_dE_TEST_pred_rf_grid[hour]))\n",
    "mae_dE_TEST_rf_grid"
   ]
  },
  {
   "cell_type": "code",
   "execution_count": 224,
   "metadata": {},
   "outputs": [
    {
     "data": {
      "text/plain": [
       "[40.05862782813571,\n",
       " 33.39043958770523,\n",
       " 32.4267860559651,\n",
       " 36.67615505479036,\n",
       " 36.90806180117488,\n",
       " 41.15942407666124,\n",
       " 48.14410514289465,\n",
       " 57.801761096108024,\n",
       " 39.292413164440184,\n",
       " 15.808534166232254,\n",
       " 1.7400415014844182,\n",
       " 1.060666141702018,\n",
       " 0.9538113012272538,\n",
       " 24.593474885662367,\n",
       " 27.082128200361264,\n",
       " 27.203701595895993,\n",
       " 27.22775663590828,\n",
       " 27.039665779898698,\n",
       " 27.347648432688917,\n",
       " 33.96188606312814,\n",
       " 36.73938131568074,\n",
       " 34.27271319853226,\n",
       " 33.76550826824896,\n",
       " 50.48338900725357]"
      ]
     },
     "execution_count": 224,
     "metadata": {},
     "output_type": "execute_result"
    }
   ],
   "source": [
    "# RMSE from random forest\n",
    "\n",
    "rmse_dE_TEST_rf_grid = []\n",
    "for hour in range(0,hours):\n",
    "    rmse_dE_TEST_rf_grid.append(np.sqrt(mean_squared_error(y_dE_TEST[hour],y_dE_TEST_pred_rf_grid[hour])))\n",
    "rmse_dE_TEST_rf_grid"
   ]
  },
  {
   "cell_type": "code",
   "execution_count": 225,
   "metadata": {
    "scrolled": true
   },
   "outputs": [
    {
     "data": {
      "text/plain": [
       "(9.36254073074965, 30.63075334590752)"
      ]
     },
     "execution_count": 225,
     "metadata": {},
     "output_type": "execute_result"
    }
   ],
   "source": [
    "np.mean(mae_dE_TEST_rf_grid) , np.mean(rmse_dE_TEST_rf_grid)"
   ]
  },
  {
   "cell_type": "code",
   "execution_count": 226,
   "metadata": {
    "scrolled": true
   },
   "outputs": [
    {
     "data": {
      "text/plain": [
       "(9.731860370399383, 31.92662440198008)"
      ]
     },
     "execution_count": 226,
     "metadata": {},
     "output_type": "execute_result"
    }
   ],
   "source": [
    "np.mean(mae_dE_TEST_rf) , np.mean(rmse_dE_TEST_rf)"
   ]
  },
  {
   "cell_type": "markdown",
   "metadata": {},
   "source": [
    "### 4.2. MULTI-OUTPUT XG-BOOST REGRESSION - DELTA ENERGY APPROACH\n",
    "\n",
    "Models are fitted with the TEST SET and predictions to fit the hyperparameters are checked with VALIDATION SET."
   ]
  },
  {
   "cell_type": "code",
   "execution_count": 227,
   "metadata": {},
   "outputs": [],
   "source": [
    "#XG-BOOST\n",
    "\n",
    "from xgboost import XGBRegressor\n",
    "#from sklearn.ensemble import GradientBoostingRegressor"
   ]
  },
  {
   "cell_type": "code",
   "execution_count": 228,
   "metadata": {},
   "outputs": [],
   "source": [
    "#reg_XGB = GradientBoostingRegressor(max_depth=4, n_estimators=100,learning_rate=0.1)\n",
    "\n",
    "reg_XGB = XGBRegressor(max_depth=4, n_estimators=100,learning_rate=0.1)"
   ]
  },
  {
   "cell_type": "markdown",
   "metadata": {},
   "source": [
    "#### 4.2.1. XG-BOOST REGRESSION - BASIC APPROACH"
   ]
  },
  {
   "cell_type": "markdown",
   "metadata": {},
   "source": [
    "##### DIRECT WRAPPER"
   ]
  },
  {
   "cell_type": "code",
   "execution_count": 229,
   "metadata": {},
   "outputs": [],
   "source": [
    "from sklearn.multioutput import MultiOutputRegressor\n",
    "\n",
    "wrapper_XGB = MultiOutputRegressor(reg_XGB)"
   ]
  },
  {
   "cell_type": "code",
   "execution_count": 230,
   "metadata": {},
   "outputs": [],
   "source": [
    "   \n",
    "reg_XGB_fit_dE_TRAIN_VAL_pkl_names = []\n",
    "\n",
    "for hour in range(0,hours):    \n",
    "    model_name = '/home/dsc/Repos/TFM/Models_pkl/' + unit + '_XGB_fit_dE_TRAIN_VAL_hour_' + str(hour+1) + '.pkl'\n",
    "    reg_XGB_fit_dE_TRAIN_VAL_pkl_names.append(model_name)\n",
    "    \n",
    "    #Lines commented because models have been stored already\n",
    "    wrapper_XGB_fit_dE_TRAIN_VAL = wrapper_XGB.fit(X_dE_TRAIN_VAL[hour],y_dE_TRAIN_VAL[hour]) \n",
    "    pickle.dump(wrapper_XGB_fit_dE_TRAIN_VAL, open(model_name, 'wb'))\n",
    "    \n",
    "\n",
    "y_dE_TEST_pred_XGB = []\n",
    "for hour in range(0,hours):\n",
    "    loaded_model = pickle.load(open(reg_XGB_fit_dE_TRAIN_VAL_pkl_names[hour], 'rb'))\n",
    "    y_dE_TEST_pred_XGB.append(loaded_model.predict(X_dE_TEST[hour]))"
   ]
  },
  {
   "cell_type": "code",
   "execution_count": 231,
   "metadata": {},
   "outputs": [
    {
     "data": {
      "text/plain": [
       "[9.651984832008043,\n",
       " 7.148633255391357,\n",
       " 6.773446938648664,\n",
       " 8.519224330371111,\n",
       " 10.455812891619182,\n",
       " 11.611560942924797,\n",
       " 22.990562180884744,\n",
       " 30.129640446122615,\n",
       " 21.22885326669101,\n",
       " 8.694895917920658,\n",
       " 1.5153624459107724,\n",
       " 0.529684739119264,\n",
       " 0.42604771553829246,\n",
       " 3.392087445015549,\n",
       " 3.7961045132913913,\n",
       " 3.7961045132913913,\n",
       " 3.7961045132913913,\n",
       " 3.7961045132913913,\n",
       " 3.7961045132913913,\n",
       " 6.317957006071206,\n",
       " 11.847473916856835,\n",
       " 10.602606690263237,\n",
       " 9.137013882872882,\n",
       " 19.0215077363211]"
      ]
     },
     "execution_count": 231,
     "metadata": {},
     "output_type": "execute_result"
    }
   ],
   "source": [
    "from sklearn.metrics import mean_absolute_error, mean_squared_error\n",
    "\n",
    "# MAE - XGBOOST - TEST\n",
    "mae_dE_TEST_XGB = []\n",
    "for hour in range(0,hours):\n",
    "    mae_dE_TEST_XGB.append(mean_absolute_error(y_dE_TEST[hour],y_dE_TEST_pred_XGB[hour]))\n",
    "mae_dE_TEST_XGB"
   ]
  },
  {
   "cell_type": "code",
   "execution_count": 232,
   "metadata": {},
   "outputs": [
    {
     "data": {
      "text/plain": [
       "[39.6089106522382,\n",
       " 33.787220107940854,\n",
       " 33.04106360106596,\n",
       " 35.2817981013374,\n",
       " 39.06766789156065,\n",
       " 38.210252965440155,\n",
       " 53.837458846811856,\n",
       " 59.94055696062808,\n",
       " 46.84201111186123,\n",
       " 26.57454523116753,\n",
       " 12.60535981735535,\n",
       " 2.678021385258793,\n",
       " 1.1014744613707361,\n",
       " 20.951847095762982,\n",
       " 23.335067557654174,\n",
       " 23.335067557654174,\n",
       " 23.335067557654174,\n",
       " 23.335067557654174,\n",
       " 23.335067557654174,\n",
       " 28.102431139925216,\n",
       " 40.441663169332706,\n",
       " 37.31546206244206,\n",
       " 35.68753366728695,\n",
       " 52.088539364792815]"
      ]
     },
     "execution_count": 232,
     "metadata": {},
     "output_type": "execute_result"
    }
   ],
   "source": [
    "# RMSE - XGBOOST - TEST\n",
    "\n",
    "rmse_dE_TEST_XGB = []\n",
    "for hour in range(0,hours):\n",
    "    rmse_dE_TEST_XGB.append(np.sqrt(mean_squared_error(y_dE_TEST[hour],y_dE_TEST_pred_XGB[hour])))\n",
    "rmse_dE_TEST_XGB"
   ]
  },
  {
   "cell_type": "code",
   "execution_count": 233,
   "metadata": {},
   "outputs": [
    {
     "data": {
      "text/plain": [
       "(9.123953297792012, 31.409964809243764)"
      ]
     },
     "execution_count": 233,
     "metadata": {},
     "output_type": "execute_result"
    }
   ],
   "source": [
    "np.mean(mae_dE_TEST_XGB), np.mean(rmse_dE_TEST_XGB)"
   ]
  },
  {
   "cell_type": "code",
   "execution_count": null,
   "metadata": {},
   "outputs": [],
   "source": []
  },
  {
   "cell_type": "markdown",
   "metadata": {},
   "source": [
    "##### CHAIN WRAPPER"
   ]
  },
  {
   "cell_type": "code",
   "execution_count": 234,
   "metadata": {},
   "outputs": [],
   "source": [
    "from sklearn.multioutput import RegressorChain\n",
    "\n",
    "wrapper_chain_XGB = RegressorChain(reg_XGB, order=[0,1])"
   ]
  },
  {
   "cell_type": "code",
   "execution_count": 235,
   "metadata": {},
   "outputs": [],
   "source": [
    "reg_chain_XGB_fit_dE_TRAIN_VAL_pkl_names = []\n",
    "\n",
    "for hour in range(0,hours):    \n",
    "    model_name = '/home/dsc/Repos/TFM/Models_pkl/' + unit + '_chain_XGB_fit_dE_TRAIN_VAL_hour_' + str(hour+1) + '.pkl'\n",
    "    reg_chain_XGB_fit_dE_TRAIN_VAL_pkl_names.append(model_name)\n",
    "    \n",
    "    #Lines commented because models have been stored already\n",
    "    chain_XGB_fit_dE_TRAIN_VAL = wrapper_chain_XGB.fit(X_dE_TRAIN_VAL[hour],y_dE_TRAIN_VAL[hour]) \n",
    "    pickle.dump(chain_XGB_fit_dE_TRAIN_VAL, open(model_name, 'wb'))\n",
    "    \n",
    "\n",
    "y_dE_TEST_pred_chain_XGB = []\n",
    "for hour in range(0,hours):\n",
    "    loaded_model = pickle.load(open(reg_chain_XGB_fit_dE_TRAIN_VAL_pkl_names[hour], 'rb'))\n",
    "    y_dE_TEST_pred_chain_XGB.append(loaded_model.predict(X_dE_TEST[hour]))"
   ]
  },
  {
   "cell_type": "code",
   "execution_count": null,
   "metadata": {},
   "outputs": [],
   "source": []
  },
  {
   "cell_type": "code",
   "execution_count": null,
   "metadata": {},
   "outputs": [],
   "source": []
  },
  {
   "cell_type": "code",
   "execution_count": 236,
   "metadata": {},
   "outputs": [
    {
     "data": {
      "text/plain": [
       "[9.651984832008043,\n",
       " 7.148633255391357,\n",
       " 6.773446938648664,\n",
       " 6.952650052339486,\n",
       " 8.366324192801475,\n",
       " 10.930983195824016,\n",
       " 19.620724292713152,\n",
       " 25.550898944565688,\n",
       " 15.37433494950815,\n",
       " 4.257177317379624,\n",
       " 1.1453261573596674,\n",
       " 0.5248647291045044,\n",
       " 0.39072176544897114,\n",
       " 3.3763045764353983,\n",
       " 3.7844922188789627,\n",
       " 3.7844922188789627,\n",
       " 3.7844922188789627,\n",
       " 3.7844922188789627,\n",
       " 3.7844922188789627,\n",
       " 4.897339515833446,\n",
       " 10.096710394470282,\n",
       " 9.970822859970475,\n",
       " 8.158948891617918,\n",
       " 18.12646660973789]"
      ]
     },
     "execution_count": 236,
     "metadata": {},
     "output_type": "execute_result"
    }
   ],
   "source": [
    "from sklearn.metrics import mean_absolute_error, mean_squared_error\n",
    "\n",
    "# MAE - XGBOOST_chain - TEST\n",
    "mae_dE_TEST_chain_XGB = []\n",
    "for hour in range(0,hours):\n",
    "    mae_dE_TEST_chain_XGB.append(mean_absolute_error(y_dE_TEST[hour],y_dE_TEST_pred_chain_XGB[hour]))\n",
    "mae_dE_TEST_chain_XGB"
   ]
  },
  {
   "cell_type": "code",
   "execution_count": 237,
   "metadata": {},
   "outputs": [
    {
     "data": {
      "text/plain": [
       "[39.6089106522382,\n",
       " 33.787220107940854,\n",
       " 33.04106360106596,\n",
       " 32.427318050355716,\n",
       " 34.52843674998823,\n",
       " 37.814758818443316,\n",
       " 51.76934601620669,\n",
       " 58.50346085405028,\n",
       " 42.98149312532499,\n",
       " 19.329894556289876,\n",
       " 12.34965765512731,\n",
       " 2.6595044748721604,\n",
       " 1.08496722365424,\n",
       " 20.97689306419028,\n",
       " 23.35920317819189,\n",
       " 23.35920317819189,\n",
       " 23.35920317819189,\n",
       " 23.35920317819189,\n",
       " 23.35920317819189,\n",
       " 25.57647370773349,\n",
       " 38.302867452981886,\n",
       " 38.251913224081754,\n",
       " 35.61776335996357,\n",
       " 51.657431606021674]"
      ]
     },
     "execution_count": 237,
     "metadata": {},
     "output_type": "execute_result"
    }
   ],
   "source": [
    "# RMSE - XGBOOST_chain - TEST\n",
    "\n",
    "rmse_dE_TEST_chain_XGB = []\n",
    "for hour in range(0,hours):\n",
    "    rmse_dE_TEST_chain_XGB.append(np.sqrt(mean_squared_error(y_dE_TEST[hour],y_dE_TEST_pred_chain_XGB[hour])))\n",
    "rmse_dE_TEST_chain_XGB"
   ]
  },
  {
   "cell_type": "code",
   "execution_count": 238,
   "metadata": {
    "scrolled": true
   },
   "outputs": [
    {
     "data": {
      "text/plain": [
       "(7.926546856898043, 30.294391257978745)"
      ]
     },
     "execution_count": 238,
     "metadata": {},
     "output_type": "execute_result"
    }
   ],
   "source": [
    "np.mean(mae_dE_TEST_chain_XGB), np.mean(rmse_dE_TEST_chain_XGB)"
   ]
  },
  {
   "cell_type": "code",
   "execution_count": 239,
   "metadata": {},
   "outputs": [],
   "source": [
    "# Direct wrapper and Chain wrapper seems to be very similar"
   ]
  },
  {
   "cell_type": "markdown",
   "metadata": {},
   "source": [
    "#### 4.2.2. XG-BOOST REGRESSION - CHAIN MULTI-OUTPUT WRAPPER APPROACH - SELECTING HYPERPARAMETERS"
   ]
  },
  {
   "cell_type": "code",
   "execution_count": 240,
   "metadata": {},
   "outputs": [],
   "source": [
    "# X tiene que ser X_TEST + X_VAL y el split según X_TEST / X_VAL"
   ]
  },
  {
   "cell_type": "code",
   "execution_count": 241,
   "metadata": {},
   "outputs": [],
   "source": [
    "from sklearn.model_selection import GridSearchCV\n",
    "\n",
    "#We are using the same Predefined Split as for Random Forest\n",
    "\n",
    "reg_XGB_grid = GridSearchCV(XGBRegressor(n_estimators=100),\n",
    "                  param_grid={\"max_depth\":np.arange(2,10),\n",
    "                             \"learning_rate\":np.arange(1,10)/10},\n",
    "                  scoring=\"neg_mean_absolute_error\",\n",
    "                  cv=ps)"
   ]
  },
  {
   "cell_type": "code",
   "execution_count": 242,
   "metadata": {},
   "outputs": [],
   "source": [
    "wrapper_chain_XGB_grid = RegressorChain(reg_XGB_grid, order=[0,1])"
   ]
  },
  {
   "cell_type": "code",
   "execution_count": null,
   "metadata": {},
   "outputs": [],
   "source": []
  },
  {
   "cell_type": "code",
   "execution_count": 243,
   "metadata": {},
   "outputs": [],
   "source": [
    "reg_chain_XGB_grid_fit_dE_TRAIN_VAL_pkl_names = []\n",
    "\n",
    "for hour in range(0,hours):    \n",
    "    model_name = '/home/dsc/Repos/TFM/Models_pkl/' + unit + '_chain_XGB_grid_fit_dE_TRAIN_VAL_hour_' + str(hour+1) + '.pkl'\n",
    "    reg_chain_XGB_grid_fit_dE_TRAIN_VAL_pkl_names.append(model_name)\n",
    "    \n",
    "    #Lines commented because models have been stored already\n",
    "    chain_XGB_grid_fit_dE_TRAIN_VAL = wrapper_chain_XGB_grid.fit(X_dE_TRAIN_VAL[hour],y_dE_TRAIN_VAL[hour]) \n",
    "    pickle.dump(chain_XGB_grid_fit_dE_TRAIN_VAL, open(model_name, 'wb'))\n",
    "    \n",
    "\n",
    "y_dE_TEST_pred_chain_XGB_grid = []\n",
    "for hour in range(0,hours):\n",
    "    loaded_model = pickle.load(open(reg_chain_XGB_grid_fit_dE_TRAIN_VAL_pkl_names[hour], 'rb'))\n",
    "    y_dE_TEST_pred_chain_XGB_grid.append(loaded_model.predict(X_dE_TEST[hour]))"
   ]
  },
  {
   "cell_type": "code",
   "execution_count": null,
   "metadata": {},
   "outputs": [],
   "source": []
  },
  {
   "cell_type": "code",
   "execution_count": null,
   "metadata": {},
   "outputs": [],
   "source": []
  },
  {
   "cell_type": "code",
   "execution_count": 244,
   "metadata": {},
   "outputs": [
    {
     "data": {
      "text/plain": [
       "[9.649680662520465,\n",
       " 7.146212986919183,\n",
       " 6.770984565295194,\n",
       " 6.9068809163971014,\n",
       " 7.2204458905676425,\n",
       " 11.259045035805432,\n",
       " 20.607082358055536,\n",
       " 24.568986683954158,\n",
       " 15.219535490208736,\n",
       " 6.481748364558143,\n",
       " 1.3597571068425334,\n",
       " 0.5733088453482562,\n",
       " 0.44608406744977547,\n",
       " 3.445374412651986,\n",
       " 3.856005143093807,\n",
       " 3.856005143093807,\n",
       " 3.856005143093807,\n",
       " 3.856005143093807,\n",
       " 3.856005143093807,\n",
       " 4.48154404210147,\n",
       " 12.832654023638336,\n",
       " 10.388084060309396,\n",
       " 8.37943709276216,\n",
       " 18.296088632092044]"
      ]
     },
     "execution_count": 244,
     "metadata": {},
     "output_type": "execute_result"
    }
   ],
   "source": [
    "from sklearn.metrics import mean_absolute_error, mean_squared_error\n",
    "\n",
    "# MAE - XGBOOST_chain - TEST\n",
    "mae_dE_TEST_chain_XGB_grid = []\n",
    "for hour in range(0,hours):\n",
    "    mae_dE_TEST_chain_XGB_grid.append(mean_absolute_error(y_dE_TEST[hour],y_dE_TEST_pred_chain_XGB_grid[hour]))\n",
    "mae_dE_TEST_chain_XGB_grid"
   ]
  },
  {
   "cell_type": "code",
   "execution_count": 245,
   "metadata": {},
   "outputs": [
    {
     "data": {
      "text/plain": [
       "[39.610131410978184,\n",
       " 33.78828232510042,\n",
       " 33.04209276693735,\n",
       " 32.0896763572597,\n",
       " 31.35482480178571,\n",
       " 38.19040738969505,\n",
       " 52.730416019279424,\n",
       " 56.4179252665298,\n",
       " 42.56360314208649,\n",
       " 26.19683887237555,\n",
       " 13.879676093797555,\n",
       " 3.29536276665984,\n",
       " 1.3557703568604145,\n",
       " 20.990611361900985,\n",
       " 23.371617166071594,\n",
       " 23.371617166071594,\n",
       " 23.371617166071594,\n",
       " 23.371617166071594,\n",
       " 23.371617166071594,\n",
       " 24.802965012597838,\n",
       " 43.64712459553295,\n",
       " 38.5904354232496,\n",
       " 36.365696075306005,\n",
       " 52.01078367959236]"
      ]
     },
     "execution_count": 245,
     "metadata": {},
     "output_type": "execute_result"
    }
   ],
   "source": [
    "# RMSE - XGBOOST_chain - TEST\n",
    "\n",
    "rmse_dE_TEST_chain_XGB_grid = []\n",
    "for hour in range(0,hours):\n",
    "    rmse_dE_TEST_chain_XGB_grid.append(np.sqrt(mean_squared_error(y_dE_TEST[hour],y_dE_TEST_pred_chain_XGB_grid[hour])))\n",
    "rmse_dE_TEST_chain_XGB_grid"
   ]
  },
  {
   "cell_type": "code",
   "execution_count": 246,
   "metadata": {},
   "outputs": [
    {
     "data": {
      "text/plain": [
       "(8.138040039706107, 30.740862897828464)"
      ]
     },
     "execution_count": 246,
     "metadata": {},
     "output_type": "execute_result"
    }
   ],
   "source": [
    "np.mean(mae_dE_TEST_chain_XGB_grid), np.mean(rmse_dE_TEST_chain_XGB_grid)"
   ]
  },
  {
   "cell_type": "code",
   "execution_count": 247,
   "metadata": {
    "scrolled": true
   },
   "outputs": [
    {
     "data": {
      "text/plain": [
       "(7.926546856898043, 30.294391257978745)"
      ]
     },
     "execution_count": 247,
     "metadata": {},
     "output_type": "execute_result"
    }
   ],
   "source": [
    "np.mean(mae_dE_TEST_chain_XGB), np.mean(rmse_dE_TEST_chain_XGB)"
   ]
  },
  {
   "cell_type": "code",
   "execution_count": null,
   "metadata": {},
   "outputs": [],
   "source": []
  },
  {
   "cell_type": "code",
   "execution_count": null,
   "metadata": {},
   "outputs": [],
   "source": []
  },
  {
   "cell_type": "markdown",
   "metadata": {},
   "source": [
    "### 5. NEW METRIC CALCULATION: PERIOD CURVE AREA ERROR\n",
    "\n",
    "In this section a curve area calculation per each period will be calculated in order to compare the original curve and the predicted one.\n",
    "\n",
    "Area curve will have money (€) units and it will give good information about the model precision.\n",
    "\n",
    "Four different cuve areas will be calculated:\n",
    "\n",
    "+ Total curve area: A_tot\n",
    "+ Area when Price is maximum: A_max\n",
    "+ Area when Price is minimum: A_min\n",
    "+ Celtral Area: A_cen = A_tot - A_max - A_min\n",
    "\n",
    "#### NOTE: Calculating extreme areas when blocks are less than 2 is not possible, so it is checked only when using a complete dataframe (all blocks for all periods).\n",
    "\n",
    "Extreme areas (when Price is maximum or minimum) can introduce a lot of error in the metric that cound be not very relevant for the objective of the project: since it is not very probably that extreme cases are chosen, the real effective zone for the purpose of the project is to predict well the central part of the curve."
   ]
  },
  {
   "cell_type": "markdown",
   "metadata": {},
   "source": [
    "#### TOTAL CURVE AREA METRIC\n",
    "\n",
    "Different metrics based on curve area can be defined:\n",
    "\n",
    "* Difference of the total curve area between y_dE and y_dE_pred (absolute and relative)\n",
    "* Total absolute difference between y_dE and y_dE_pred (absolute and relative)"
   ]
  },
  {
   "cell_type": "code",
   "execution_count": 248,
   "metadata": {},
   "outputs": [],
   "source": [
    "#DIFFERENCE OF THE TOTAL CURVE AREAS & TOTAL ABSOLUTE DIFFERENCE OF y_dE and y_dE_pred\n",
    "\n",
    "def area_pred_curve_summary(y, y_pred):\n",
    "    \n",
    "    y_TEST_area_tot = []\n",
    "    y_area_tot_diff_TEST_abs = []\n",
    "    y_area_tot_diff_TEST_rel = []\n",
    "\n",
    "    y_TEST_area = []\n",
    "    y_area_diff_TEST_abs = []\n",
    "    y_area_diff_TEST_rel = []\n",
    "    \n",
    "    hours = len(y)\n",
    "    \n",
    "    for hour in range(0, hours):\n",
    "\n",
    "        y_dE_TEST_area = (y[hour][:,0]*y[hour][:,1])\n",
    "        y_dE_TEST_pred_area = (y_pred[hour][:,0]*y_pred[hour][:,1])\n",
    "        area_diff_TEST_abs = abs(y_dE_TEST_area - y_dE_TEST_pred_area).sum() #Total Absolute Area Differences\n",
    "\n",
    "        y_dE_TEST_area_tot = y_dE_TEST_area.sum() #Total area for the whole set period, for each hour \n",
    "        y_dE_TEST_pred_area_tot = y_dE_TEST_pred_area.sum()\n",
    "        area_tot_diff_TEST_abs = (y_dE_TEST_area_tot - y_dE_TEST_pred_area_tot) #Total Differences of Total Areas\n",
    "\n",
    "        #Relative area difference\n",
    "        area_diff_TEST_rel = (area_diff_TEST_abs / y_dE_TEST_area_tot) * 100\n",
    "        area_tot_diff_TEST_rel = (area_tot_diff_TEST_abs / y_dE_TEST_area_tot) * 100\n",
    "\n",
    "        y_area_diff_TEST_abs.append(area_diff_TEST_abs)\n",
    "        y_area_diff_TEST_rel.append(area_diff_TEST_rel)\n",
    "\n",
    "        y_TEST_area_tot.append(y_dE_TEST_area_tot)\n",
    "        y_area_tot_diff_TEST_abs.append(area_tot_diff_TEST_abs)\n",
    "        y_area_tot_diff_TEST_rel.append(area_tot_diff_TEST_rel)\n",
    "\n",
    "    df_y_TEST_area_summary = pd.DataFrame({'Area_tot(€)': y_TEST_area_tot,\n",
    "                  'Area_diff_abs(€)': y_area_diff_TEST_abs, \n",
    "                  'Area_diff_rel(%)': y_area_diff_TEST_rel,\n",
    "                  'Area_tot_diff_abs(€)': y_area_tot_diff_TEST_abs, \n",
    "                  'Area_tot_diff_rel(%)': y_area_tot_diff_TEST_rel})\n",
    "    \n",
    "    return df_y_TEST_area_summary"
   ]
  },
  {
   "cell_type": "code",
   "execution_count": 249,
   "metadata": {},
   "outputs": [
    {
     "data": {
      "text/html": [
       "<div>\n",
       "<style scoped>\n",
       "    .dataframe tbody tr th:only-of-type {\n",
       "        vertical-align: middle;\n",
       "    }\n",
       "\n",
       "    .dataframe tbody tr th {\n",
       "        vertical-align: top;\n",
       "    }\n",
       "\n",
       "    .dataframe thead th {\n",
       "        text-align: right;\n",
       "    }\n",
       "</style>\n",
       "<table border=\"1\" class=\"dataframe\">\n",
       "  <thead>\n",
       "    <tr style=\"text-align: right;\">\n",
       "      <th></th>\n",
       "      <th>Area_tot(€)</th>\n",
       "      <th>Area_diff_abs(€)</th>\n",
       "      <th>Area_diff_rel(%)</th>\n",
       "      <th>Area_tot_diff_abs(€)</th>\n",
       "      <th>Area_tot_diff_rel(%)</th>\n",
       "    </tr>\n",
       "  </thead>\n",
       "  <tbody>\n",
       "    <tr>\n",
       "      <th>0</th>\n",
       "      <td>2,006,543.54</td>\n",
       "      <td>288,506.67</td>\n",
       "      <td>14.38</td>\n",
       "      <td>-41,958.71</td>\n",
       "      <td>-2.09</td>\n",
       "    </tr>\n",
       "    <tr>\n",
       "      <th>1</th>\n",
       "      <td>2,049,523.17</td>\n",
       "      <td>202,740.56</td>\n",
       "      <td>9.89</td>\n",
       "      <td>-33,215.89</td>\n",
       "      <td>-1.62</td>\n",
       "    </tr>\n",
       "    <tr>\n",
       "      <th>2</th>\n",
       "      <td>2,058,481.67</td>\n",
       "      <td>187,962.93</td>\n",
       "      <td>9.13</td>\n",
       "      <td>-35,669.65</td>\n",
       "      <td>-1.73</td>\n",
       "    </tr>\n",
       "    <tr>\n",
       "      <th>3</th>\n",
       "      <td>2,058,481.67</td>\n",
       "      <td>207,668.89</td>\n",
       "      <td>10.09</td>\n",
       "      <td>-11,437.94</td>\n",
       "      <td>-0.56</td>\n",
       "    </tr>\n",
       "    <tr>\n",
       "      <th>4</th>\n",
       "      <td>2,031,606.17</td>\n",
       "      <td>251,166.69</td>\n",
       "      <td>12.36</td>\n",
       "      <td>-19,658.87</td>\n",
       "      <td>-0.97</td>\n",
       "    </tr>\n",
       "    <tr>\n",
       "      <th>5</th>\n",
       "      <td>1,867,949.96</td>\n",
       "      <td>430,386.17</td>\n",
       "      <td>23.04</td>\n",
       "      <td>88,555.87</td>\n",
       "      <td>4.74</td>\n",
       "    </tr>\n",
       "    <tr>\n",
       "      <th>6</th>\n",
       "      <td>1,485,023.58</td>\n",
       "      <td>646,796.83</td>\n",
       "      <td>43.55</td>\n",
       "      <td>-29,497.48</td>\n",
       "      <td>-1.99</td>\n",
       "    </tr>\n",
       "    <tr>\n",
       "      <th>7</th>\n",
       "      <td>1,005,290.29</td>\n",
       "      <td>678,351.91</td>\n",
       "      <td>67.48</td>\n",
       "      <td>56,581.85</td>\n",
       "      <td>5.63</td>\n",
       "    </tr>\n",
       "    <tr>\n",
       "      <th>8</th>\n",
       "      <td>642,835.27</td>\n",
       "      <td>295,525.04</td>\n",
       "      <td>45.97</td>\n",
       "      <td>-39,853.44</td>\n",
       "      <td>-6.20</td>\n",
       "    </tr>\n",
       "    <tr>\n",
       "      <th>9</th>\n",
       "      <td>479,022.95</td>\n",
       "      <td>98,046.32</td>\n",
       "      <td>20.47</td>\n",
       "      <td>-1,483.45</td>\n",
       "      <td>-0.31</td>\n",
       "    </tr>\n",
       "    <tr>\n",
       "      <th>10</th>\n",
       "      <td>435,938.97</td>\n",
       "      <td>20,941.02</td>\n",
       "      <td>4.80</td>\n",
       "      <td>-17,996.18</td>\n",
       "      <td>-4.13</td>\n",
       "    </tr>\n",
       "    <tr>\n",
       "      <th>11</th>\n",
       "      <td>435,938.97</td>\n",
       "      <td>6,280.77</td>\n",
       "      <td>1.44</td>\n",
       "      <td>-2,493.65</td>\n",
       "      <td>-0.57</td>\n",
       "    </tr>\n",
       "    <tr>\n",
       "      <th>12</th>\n",
       "      <td>435,938.97</td>\n",
       "      <td>5,835.31</td>\n",
       "      <td>1.34</td>\n",
       "      <td>-1,139.06</td>\n",
       "      <td>-0.26</td>\n",
       "    </tr>\n",
       "    <tr>\n",
       "      <th>13</th>\n",
       "      <td>484,658.76</td>\n",
       "      <td>119,331.53</td>\n",
       "      <td>24.62</td>\n",
       "      <td>-3,370.39</td>\n",
       "      <td>-0.70</td>\n",
       "    </tr>\n",
       "    <tr>\n",
       "      <th>14</th>\n",
       "      <td>493,617.26</td>\n",
       "      <td>138,494.37</td>\n",
       "      <td>28.06</td>\n",
       "      <td>-4,302.64</td>\n",
       "      <td>-0.87</td>\n",
       "    </tr>\n",
       "    <tr>\n",
       "      <th>15</th>\n",
       "      <td>493,617.26</td>\n",
       "      <td>139,085.00</td>\n",
       "      <td>28.18</td>\n",
       "      <td>-4,990.29</td>\n",
       "      <td>-1.01</td>\n",
       "    </tr>\n",
       "    <tr>\n",
       "      <th>16</th>\n",
       "      <td>493,617.26</td>\n",
       "      <td>139,407.66</td>\n",
       "      <td>28.24</td>\n",
       "      <td>-5,309.74</td>\n",
       "      <td>-1.08</td>\n",
       "    </tr>\n",
       "    <tr>\n",
       "      <th>17</th>\n",
       "      <td>493,617.26</td>\n",
       "      <td>137,581.73</td>\n",
       "      <td>27.87</td>\n",
       "      <td>-3,595.77</td>\n",
       "      <td>-0.73</td>\n",
       "    </tr>\n",
       "    <tr>\n",
       "      <th>18</th>\n",
       "      <td>493,617.26</td>\n",
       "      <td>139,782.52</td>\n",
       "      <td>28.32</td>\n",
       "      <td>-5,568.65</td>\n",
       "      <td>-1.13</td>\n",
       "    </tr>\n",
       "    <tr>\n",
       "      <th>19</th>\n",
       "      <td>493,617.26</td>\n",
       "      <td>211,225.03</td>\n",
       "      <td>42.79</td>\n",
       "      <td>-79,606.61</td>\n",
       "      <td>-16.13</td>\n",
       "    </tr>\n",
       "    <tr>\n",
       "      <th>20</th>\n",
       "      <td>546,683.97</td>\n",
       "      <td>339,220.45</td>\n",
       "      <td>62.05</td>\n",
       "      <td>-86,506.05</td>\n",
       "      <td>-15.82</td>\n",
       "    </tr>\n",
       "    <tr>\n",
       "      <th>21</th>\n",
       "      <td>550,267.37</td>\n",
       "      <td>362,428.03</td>\n",
       "      <td>65.86</td>\n",
       "      <td>-126,313.14</td>\n",
       "      <td>-22.95</td>\n",
       "    </tr>\n",
       "    <tr>\n",
       "      <th>22</th>\n",
       "      <td>550,267.37</td>\n",
       "      <td>398,153.28</td>\n",
       "      <td>72.36</td>\n",
       "      <td>-193,901.37</td>\n",
       "      <td>-35.24</td>\n",
       "    </tr>\n",
       "    <tr>\n",
       "      <th>23</th>\n",
       "      <td>1,069,476.14</td>\n",
       "      <td>455,318.14</td>\n",
       "      <td>42.57</td>\n",
       "      <td>-104,394.61</td>\n",
       "      <td>-9.76</td>\n",
       "    </tr>\n",
       "  </tbody>\n",
       "</table>\n",
       "</div>"
      ],
      "text/plain": [
       "    Area_tot(€)  Area_diff_abs(€)  Area_diff_rel(%)  Area_tot_diff_abs(€)  \\\n",
       "0  2,006,543.54        288,506.67             14.38            -41,958.71   \n",
       "1  2,049,523.17        202,740.56              9.89            -33,215.89   \n",
       "2  2,058,481.67        187,962.93              9.13            -35,669.65   \n",
       "3  2,058,481.67        207,668.89             10.09            -11,437.94   \n",
       "4  2,031,606.17        251,166.69             12.36            -19,658.87   \n",
       "5  1,867,949.96        430,386.17             23.04             88,555.87   \n",
       "6  1,485,023.58        646,796.83             43.55            -29,497.48   \n",
       "7  1,005,290.29        678,351.91             67.48             56,581.85   \n",
       "8    642,835.27        295,525.04             45.97            -39,853.44   \n",
       "9    479,022.95         98,046.32             20.47             -1,483.45   \n",
       "10   435,938.97         20,941.02              4.80            -17,996.18   \n",
       "11   435,938.97          6,280.77              1.44             -2,493.65   \n",
       "12   435,938.97          5,835.31              1.34             -1,139.06   \n",
       "13   484,658.76        119,331.53             24.62             -3,370.39   \n",
       "14   493,617.26        138,494.37             28.06             -4,302.64   \n",
       "15   493,617.26        139,085.00             28.18             -4,990.29   \n",
       "16   493,617.26        139,407.66             28.24             -5,309.74   \n",
       "17   493,617.26        137,581.73             27.87             -3,595.77   \n",
       "18   493,617.26        139,782.52             28.32             -5,568.65   \n",
       "19   493,617.26        211,225.03             42.79            -79,606.61   \n",
       "20   546,683.97        339,220.45             62.05            -86,506.05   \n",
       "21   550,267.37        362,428.03             65.86           -126,313.14   \n",
       "22   550,267.37        398,153.28             72.36           -193,901.37   \n",
       "23 1,069,476.14        455,318.14             42.57           -104,394.61   \n",
       "\n",
       "    Area_tot_diff_rel(%)  \n",
       "0                  -2.09  \n",
       "1                  -1.62  \n",
       "2                  -1.73  \n",
       "3                  -0.56  \n",
       "4                  -0.97  \n",
       "5                   4.74  \n",
       "6                  -1.99  \n",
       "7                   5.63  \n",
       "8                  -6.20  \n",
       "9                  -0.31  \n",
       "10                 -4.13  \n",
       "11                 -0.57  \n",
       "12                 -0.26  \n",
       "13                 -0.70  \n",
       "14                 -0.87  \n",
       "15                 -1.01  \n",
       "16                 -1.08  \n",
       "17                 -0.73  \n",
       "18                 -1.13  \n",
       "19                -16.13  \n",
       "20                -15.82  \n",
       "21                -22.95  \n",
       "22                -35.24  \n",
       "23                 -9.76  "
      ]
     },
     "execution_count": 249,
     "metadata": {},
     "output_type": "execute_result"
    }
   ],
   "source": [
    "df_y_TEST_area_pred_rf_grid_summary = area_pred_curve_summary(y_dE_TEST, y_dE_TEST_pred_rf_grid)\n",
    "df_y_TEST_area_pred_rf_grid_summary"
   ]
  },
  {
   "cell_type": "code",
   "execution_count": 250,
   "metadata": {},
   "outputs": [],
   "source": [
    "# It can be seen that the bidding area for hours from 10 to 24 is the same, so the bid is the same \n",
    "# for 15 hours per day --> Possibility of reducing models???"
   ]
  },
  {
   "cell_type": "code",
   "execution_count": 251,
   "metadata": {
    "scrolled": false
   },
   "outputs": [
    {
     "data": {
      "text/html": [
       "<div>\n",
       "<style scoped>\n",
       "    .dataframe tbody tr th:only-of-type {\n",
       "        vertical-align: middle;\n",
       "    }\n",
       "\n",
       "    .dataframe tbody tr th {\n",
       "        vertical-align: top;\n",
       "    }\n",
       "\n",
       "    .dataframe thead th {\n",
       "        text-align: right;\n",
       "    }\n",
       "</style>\n",
       "<table border=\"1\" class=\"dataframe\">\n",
       "  <thead>\n",
       "    <tr style=\"text-align: right;\">\n",
       "      <th></th>\n",
       "      <th>Area_tot(€)</th>\n",
       "      <th>Area_diff_abs(€)</th>\n",
       "      <th>Area_diff_rel(%)</th>\n",
       "      <th>Area_tot_diff_abs(€)</th>\n",
       "      <th>Area_tot_diff_rel(%)</th>\n",
       "    </tr>\n",
       "  </thead>\n",
       "  <tbody>\n",
       "    <tr>\n",
       "      <th>0</th>\n",
       "      <td>2,006,543.54</td>\n",
       "      <td>312,044.48</td>\n",
       "      <td>15.55</td>\n",
       "      <td>-52,657.71</td>\n",
       "      <td>-2.62</td>\n",
       "    </tr>\n",
       "    <tr>\n",
       "      <th>1</th>\n",
       "      <td>2,049,523.17</td>\n",
       "      <td>202,740.56</td>\n",
       "      <td>9.89</td>\n",
       "      <td>-50,334.29</td>\n",
       "      <td>-2.46</td>\n",
       "    </tr>\n",
       "    <tr>\n",
       "      <th>2</th>\n",
       "      <td>2,058,481.67</td>\n",
       "      <td>190,102.73</td>\n",
       "      <td>9.24</td>\n",
       "      <td>-47,795.19</td>\n",
       "      <td>-2.32</td>\n",
       "    </tr>\n",
       "    <tr>\n",
       "      <th>3</th>\n",
       "      <td>2,058,481.67</td>\n",
       "      <td>229,552.68</td>\n",
       "      <td>11.15</td>\n",
       "      <td>-41,178.67</td>\n",
       "      <td>-2.00</td>\n",
       "    </tr>\n",
       "    <tr>\n",
       "      <th>4</th>\n",
       "      <td>2,031,606.17</td>\n",
       "      <td>248,145.09</td>\n",
       "      <td>12.21</td>\n",
       "      <td>-7,943.72</td>\n",
       "      <td>-0.39</td>\n",
       "    </tr>\n",
       "    <tr>\n",
       "      <th>5</th>\n",
       "      <td>1,867,949.96</td>\n",
       "      <td>411,618.01</td>\n",
       "      <td>22.04</td>\n",
       "      <td>-31,501.60</td>\n",
       "      <td>-1.69</td>\n",
       "    </tr>\n",
       "    <tr>\n",
       "      <th>6</th>\n",
       "      <td>1,485,023.58</td>\n",
       "      <td>646,947.40</td>\n",
       "      <td>43.56</td>\n",
       "      <td>-7,041.29</td>\n",
       "      <td>-0.47</td>\n",
       "    </tr>\n",
       "    <tr>\n",
       "      <th>7</th>\n",
       "      <td>1,005,290.29</td>\n",
       "      <td>681,377.97</td>\n",
       "      <td>67.78</td>\n",
       "      <td>-245,887.93</td>\n",
       "      <td>-24.46</td>\n",
       "    </tr>\n",
       "    <tr>\n",
       "      <th>8</th>\n",
       "      <td>642,835.27</td>\n",
       "      <td>315,050.82</td>\n",
       "      <td>49.01</td>\n",
       "      <td>-139,468.72</td>\n",
       "      <td>-21.70</td>\n",
       "    </tr>\n",
       "    <tr>\n",
       "      <th>9</th>\n",
       "      <td>479,022.95</td>\n",
       "      <td>204,866.41</td>\n",
       "      <td>42.77</td>\n",
       "      <td>-123,815.79</td>\n",
       "      <td>-25.85</td>\n",
       "    </tr>\n",
       "    <tr>\n",
       "      <th>10</th>\n",
       "      <td>435,938.97</td>\n",
       "      <td>75,572.05</td>\n",
       "      <td>17.34</td>\n",
       "      <td>-69,934.38</td>\n",
       "      <td>-16.04</td>\n",
       "    </tr>\n",
       "    <tr>\n",
       "      <th>11</th>\n",
       "      <td>435,938.97</td>\n",
       "      <td>23,304.35</td>\n",
       "      <td>5.35</td>\n",
       "      <td>-18,033.40</td>\n",
       "      <td>-4.14</td>\n",
       "    </tr>\n",
       "    <tr>\n",
       "      <th>12</th>\n",
       "      <td>435,938.97</td>\n",
       "      <td>8,800.90</td>\n",
       "      <td>2.02</td>\n",
       "      <td>-3,605.51</td>\n",
       "      <td>-0.83</td>\n",
       "    </tr>\n",
       "    <tr>\n",
       "      <th>13</th>\n",
       "      <td>484,658.76</td>\n",
       "      <td>120,991.58</td>\n",
       "      <td>24.96</td>\n",
       "      <td>-4,362.67</td>\n",
       "      <td>-0.90</td>\n",
       "    </tr>\n",
       "    <tr>\n",
       "      <th>14</th>\n",
       "      <td>493,617.26</td>\n",
       "      <td>141,700.58</td>\n",
       "      <td>28.71</td>\n",
       "      <td>-6,883.85</td>\n",
       "      <td>-1.39</td>\n",
       "    </tr>\n",
       "    <tr>\n",
       "      <th>15</th>\n",
       "      <td>493,617.26</td>\n",
       "      <td>140,102.82</td>\n",
       "      <td>28.38</td>\n",
       "      <td>-5,438.54</td>\n",
       "      <td>-1.10</td>\n",
       "    </tr>\n",
       "    <tr>\n",
       "      <th>16</th>\n",
       "      <td>493,617.26</td>\n",
       "      <td>140,771.18</td>\n",
       "      <td>28.52</td>\n",
       "      <td>-5,743.89</td>\n",
       "      <td>-1.16</td>\n",
       "    </tr>\n",
       "    <tr>\n",
       "      <th>17</th>\n",
       "      <td>493,617.26</td>\n",
       "      <td>142,052.61</td>\n",
       "      <td>28.78</td>\n",
       "      <td>-7,576.84</td>\n",
       "      <td>-1.53</td>\n",
       "    </tr>\n",
       "    <tr>\n",
       "      <th>18</th>\n",
       "      <td>493,617.26</td>\n",
       "      <td>142,385.36</td>\n",
       "      <td>28.85</td>\n",
       "      <td>-6,768.19</td>\n",
       "      <td>-1.37</td>\n",
       "    </tr>\n",
       "    <tr>\n",
       "      <th>19</th>\n",
       "      <td>493,617.26</td>\n",
       "      <td>259,319.69</td>\n",
       "      <td>52.53</td>\n",
       "      <td>-125,039.85</td>\n",
       "      <td>-25.33</td>\n",
       "    </tr>\n",
       "    <tr>\n",
       "      <th>20</th>\n",
       "      <td>546,683.97</td>\n",
       "      <td>260,942.81</td>\n",
       "      <td>47.73</td>\n",
       "      <td>-47,913.91</td>\n",
       "      <td>-8.76</td>\n",
       "    </tr>\n",
       "    <tr>\n",
       "      <th>21</th>\n",
       "      <td>550,267.37</td>\n",
       "      <td>271,419.98</td>\n",
       "      <td>49.33</td>\n",
       "      <td>-66,615.46</td>\n",
       "      <td>-12.11</td>\n",
       "    </tr>\n",
       "    <tr>\n",
       "      <th>22</th>\n",
       "      <td>550,267.37</td>\n",
       "      <td>267,276.69</td>\n",
       "      <td>48.57</td>\n",
       "      <td>-107,432.54</td>\n",
       "      <td>-19.52</td>\n",
       "    </tr>\n",
       "    <tr>\n",
       "      <th>23</th>\n",
       "      <td>1,069,476.14</td>\n",
       "      <td>435,032.25</td>\n",
       "      <td>40.68</td>\n",
       "      <td>-83,023.54</td>\n",
       "      <td>-7.76</td>\n",
       "    </tr>\n",
       "  </tbody>\n",
       "</table>\n",
       "</div>"
      ],
      "text/plain": [
       "    Area_tot(€)  Area_diff_abs(€)  Area_diff_rel(%)  Area_tot_diff_abs(€)  \\\n",
       "0  2,006,543.54        312,044.48             15.55            -52,657.71   \n",
       "1  2,049,523.17        202,740.56              9.89            -50,334.29   \n",
       "2  2,058,481.67        190,102.73              9.24            -47,795.19   \n",
       "3  2,058,481.67        229,552.68             11.15            -41,178.67   \n",
       "4  2,031,606.17        248,145.09             12.21             -7,943.72   \n",
       "5  1,867,949.96        411,618.01             22.04            -31,501.60   \n",
       "6  1,485,023.58        646,947.40             43.56             -7,041.29   \n",
       "7  1,005,290.29        681,377.97             67.78           -245,887.93   \n",
       "8    642,835.27        315,050.82             49.01           -139,468.72   \n",
       "9    479,022.95        204,866.41             42.77           -123,815.79   \n",
       "10   435,938.97         75,572.05             17.34            -69,934.38   \n",
       "11   435,938.97         23,304.35              5.35            -18,033.40   \n",
       "12   435,938.97          8,800.90              2.02             -3,605.51   \n",
       "13   484,658.76        120,991.58             24.96             -4,362.67   \n",
       "14   493,617.26        141,700.58             28.71             -6,883.85   \n",
       "15   493,617.26        140,102.82             28.38             -5,438.54   \n",
       "16   493,617.26        140,771.18             28.52             -5,743.89   \n",
       "17   493,617.26        142,052.61             28.78             -7,576.84   \n",
       "18   493,617.26        142,385.36             28.85             -6,768.19   \n",
       "19   493,617.26        259,319.69             52.53           -125,039.85   \n",
       "20   546,683.97        260,942.81             47.73            -47,913.91   \n",
       "21   550,267.37        271,419.98             49.33            -66,615.46   \n",
       "22   550,267.37        267,276.69             48.57           -107,432.54   \n",
       "23 1,069,476.14        435,032.25             40.68            -83,023.54   \n",
       "\n",
       "    Area_tot_diff_rel(%)  \n",
       "0                  -2.62  \n",
       "1                  -2.46  \n",
       "2                  -2.32  \n",
       "3                  -2.00  \n",
       "4                  -0.39  \n",
       "5                  -1.69  \n",
       "6                  -0.47  \n",
       "7                 -24.46  \n",
       "8                 -21.70  \n",
       "9                 -25.85  \n",
       "10                -16.04  \n",
       "11                 -4.14  \n",
       "12                 -0.83  \n",
       "13                 -0.90  \n",
       "14                 -1.39  \n",
       "15                 -1.10  \n",
       "16                 -1.16  \n",
       "17                 -1.53  \n",
       "18                 -1.37  \n",
       "19                -25.33  \n",
       "20                 -8.76  \n",
       "21                -12.11  \n",
       "22                -19.52  \n",
       "23                 -7.76  "
      ]
     },
     "execution_count": 251,
     "metadata": {},
     "output_type": "execute_result"
    }
   ],
   "source": [
    "df_y_TEST_area_pred_rf_summary = area_pred_curve_summary(y_dE_TEST, y_dE_TEST_pred_rf)\n",
    "df_y_TEST_area_pred_rf_summary"
   ]
  },
  {
   "cell_type": "code",
   "execution_count": 252,
   "metadata": {},
   "outputs": [],
   "source": [
    "#INCLUDE HERE MORE INFORMATION FROM THE TABLE & GRAPHICS"
   ]
  },
  {
   "cell_type": "code",
   "execution_count": 253,
   "metadata": {},
   "outputs": [],
   "source": [
    "#List of df with the comparison of real data and prediction for every hour.\n",
    "#Returning a complete df for all predictions\n",
    "\n",
    "def df_pred_summary(y, y_pred):\n",
    "\n",
    "    df_pred_summary = []\n",
    "    \n",
    "    hours = len(y)\n",
    "\n",
    "    for hour in range(0, hours):\n",
    "\n",
    "        df_pred = pd.DataFrame(np.concatenate([y[hour],y_pred[hour]],axis=1), \n",
    "                                       columns= ['dE','Price','dE_pred','Price_pred'])\n",
    "        df_pred['dE_diff'] = df_pred['dE'] - df_pred['dE_pred']\n",
    "        df_pred['Price_diff'] = df_pred['Price'] - df_pred['Price_pred']\n",
    "        df_pred['Area'] = df_pred['dE'] * df_pred['Price']\n",
    "        df_pred['Area_pred'] = df_pred['dE_pred'] * df_pred['Price_pred']\n",
    "        df_pred['Area_diff'] = df_pred['Area'] - df_pred['Area_pred']\n",
    "        df_pred['Area_diff_rel(%)'] = df_pred['Area_diff']/df_pred['Area']*100\n",
    "        df_pred['Period'] = hour + 1\n",
    "        \n",
    "        df_pred_summary.append(df_pred)\n",
    "\n",
    "    # Creating a df with all the comparisons (to be able to retreive info easily)\n",
    "\n",
    "    df_y_pred_summary = pd.DataFrame()\n",
    "\n",
    "    for hour in range(0, len(df_pred_summary)):\n",
    "        df_y_pred_summary = pd.concat([df_y_pred_summary,df_pred_summary[hour]])\n",
    "        \n",
    "    df_y_pred_summary.fillna(0,inplace=True)\n",
    "    df_y_pred_summary.reset_index(drop=True,inplace=True)\n",
    "        \n",
    "    return df_y_pred_summary"
   ]
  },
  {
   "cell_type": "code",
   "execution_count": null,
   "metadata": {},
   "outputs": [],
   "source": []
  },
  {
   "cell_type": "code",
   "execution_count": 254,
   "metadata": {},
   "outputs": [],
   "source": [
    "df_TEST_pred_rf_summary  = df_pred_summary(y_dE_TEST, y_dE_TEST_pred_rf)"
   ]
  },
  {
   "cell_type": "code",
   "execution_count": 255,
   "metadata": {},
   "outputs": [
    {
     "data": {
      "text/html": [
       "<div>\n",
       "<style scoped>\n",
       "    .dataframe tbody tr th:only-of-type {\n",
       "        vertical-align: middle;\n",
       "    }\n",
       "\n",
       "    .dataframe tbody tr th {\n",
       "        vertical-align: top;\n",
       "    }\n",
       "\n",
       "    .dataframe thead th {\n",
       "        text-align: right;\n",
       "    }\n",
       "</style>\n",
       "<table border=\"1\" class=\"dataframe\">\n",
       "  <thead>\n",
       "    <tr style=\"text-align: right;\">\n",
       "      <th></th>\n",
       "      <th>dE</th>\n",
       "      <th>Price</th>\n",
       "      <th>dE_pred</th>\n",
       "      <th>Price_pred</th>\n",
       "      <th>dE_diff</th>\n",
       "      <th>Price_diff</th>\n",
       "      <th>Area</th>\n",
       "      <th>Area_pred</th>\n",
       "      <th>Area_diff</th>\n",
       "      <th>Area_diff_rel(%)</th>\n",
       "      <th>Period</th>\n",
       "    </tr>\n",
       "  </thead>\n",
       "  <tbody>\n",
       "    <tr>\n",
       "      <th>3356</th>\n",
       "      <td>0.00</td>\n",
       "      <td>180.30</td>\n",
       "      <td>5.11</td>\n",
       "      <td>152.78</td>\n",
       "      <td>-5.11</td>\n",
       "      <td>27.52</td>\n",
       "      <td>0.00</td>\n",
       "      <td>780.69</td>\n",
       "      <td>-780.69</td>\n",
       "      <td>-inf</td>\n",
       "      <td>10</td>\n",
       "    </tr>\n",
       "    <tr>\n",
       "      <th>3357</th>\n",
       "      <td>0.00</td>\n",
       "      <td>180.30</td>\n",
       "      <td>5.74</td>\n",
       "      <td>148.72</td>\n",
       "      <td>-5.74</td>\n",
       "      <td>31.58</td>\n",
       "      <td>0.00</td>\n",
       "      <td>853.20</td>\n",
       "      <td>-853.20</td>\n",
       "      <td>-inf</td>\n",
       "      <td>10</td>\n",
       "    </tr>\n",
       "    <tr>\n",
       "      <th>3358</th>\n",
       "      <td>0.00</td>\n",
       "      <td>180.30</td>\n",
       "      <td>6.16</td>\n",
       "      <td>146.07</td>\n",
       "      <td>-6.16</td>\n",
       "      <td>34.23</td>\n",
       "      <td>0.00</td>\n",
       "      <td>899.36</td>\n",
       "      <td>-899.36</td>\n",
       "      <td>-inf</td>\n",
       "      <td>10</td>\n",
       "    </tr>\n",
       "    <tr>\n",
       "      <th>3359</th>\n",
       "      <td>115.60</td>\n",
       "      <td>180.30</td>\n",
       "      <td>168.46</td>\n",
       "      <td>178.51</td>\n",
       "      <td>-52.86</td>\n",
       "      <td>1.79</td>\n",
       "      <td>20,842.68</td>\n",
       "      <td>30,070.62</td>\n",
       "      <td>-9,227.94</td>\n",
       "      <td>-44.27</td>\n",
       "      <td>10</td>\n",
       "    </tr>\n",
       "    <tr>\n",
       "      <th>3371</th>\n",
       "      <td>35.30</td>\n",
       "      <td>180.30</td>\n",
       "      <td>55.59</td>\n",
       "      <td>180.30</td>\n",
       "      <td>-20.29</td>\n",
       "      <td>0.00</td>\n",
       "      <td>6,364.59</td>\n",
       "      <td>10,022.52</td>\n",
       "      <td>-3,657.93</td>\n",
       "      <td>-57.47</td>\n",
       "      <td>10</td>\n",
       "    </tr>\n",
       "    <tr>\n",
       "      <th>3419</th>\n",
       "      <td>35.30</td>\n",
       "      <td>180.30</td>\n",
       "      <td>218.49</td>\n",
       "      <td>180.30</td>\n",
       "      <td>-183.19</td>\n",
       "      <td>0.00</td>\n",
       "      <td>6,364.59</td>\n",
       "      <td>39,393.03</td>\n",
       "      <td>-33,028.44</td>\n",
       "      <td>-518.94</td>\n",
       "      <td>10</td>\n",
       "    </tr>\n",
       "    <tr>\n",
       "      <th>3431</th>\n",
       "      <td>35.30</td>\n",
       "      <td>180.30</td>\n",
       "      <td>170.68</td>\n",
       "      <td>180.30</td>\n",
       "      <td>-135.38</td>\n",
       "      <td>0.00</td>\n",
       "      <td>6,364.59</td>\n",
       "      <td>30,774.26</td>\n",
       "      <td>-24,409.67</td>\n",
       "      <td>-383.52</td>\n",
       "      <td>10</td>\n",
       "    </tr>\n",
       "    <tr>\n",
       "      <th>3443</th>\n",
       "      <td>35.30</td>\n",
       "      <td>180.30</td>\n",
       "      <td>127.21</td>\n",
       "      <td>178.51</td>\n",
       "      <td>-91.91</td>\n",
       "      <td>1.79</td>\n",
       "      <td>6,364.59</td>\n",
       "      <td>22,708.93</td>\n",
       "      <td>-16,344.34</td>\n",
       "      <td>-256.80</td>\n",
       "      <td>10</td>\n",
       "    </tr>\n",
       "    <tr>\n",
       "      <th>3473</th>\n",
       "      <td>0.70</td>\n",
       "      <td>33.54</td>\n",
       "      <td>21.00</td>\n",
       "      <td>33.68</td>\n",
       "      <td>-20.30</td>\n",
       "      <td>-0.14</td>\n",
       "      <td>23.48</td>\n",
       "      <td>707.33</td>\n",
       "      <td>-683.86</td>\n",
       "      <td>-2,912.75</td>\n",
       "      <td>10</td>\n",
       "    </tr>\n",
       "    <tr>\n",
       "      <th>3474</th>\n",
       "      <td>0.00</td>\n",
       "      <td>180.30</td>\n",
       "      <td>21.00</td>\n",
       "      <td>34.08</td>\n",
       "      <td>-21.00</td>\n",
       "      <td>146.22</td>\n",
       "      <td>0.00</td>\n",
       "      <td>715.71</td>\n",
       "      <td>-715.71</td>\n",
       "      <td>-inf</td>\n",
       "      <td>10</td>\n",
       "    </tr>\n",
       "    <tr>\n",
       "      <th>3475</th>\n",
       "      <td>0.00</td>\n",
       "      <td>180.30</td>\n",
       "      <td>21.00</td>\n",
       "      <td>35.21</td>\n",
       "      <td>-21.00</td>\n",
       "      <td>145.09</td>\n",
       "      <td>0.00</td>\n",
       "      <td>739.51</td>\n",
       "      <td>-739.51</td>\n",
       "      <td>-inf</td>\n",
       "      <td>10</td>\n",
       "    </tr>\n",
       "    <tr>\n",
       "      <th>3476</th>\n",
       "      <td>0.00</td>\n",
       "      <td>180.30</td>\n",
       "      <td>21.00</td>\n",
       "      <td>35.81</td>\n",
       "      <td>-21.00</td>\n",
       "      <td>144.49</td>\n",
       "      <td>0.00</td>\n",
       "      <td>752.06</td>\n",
       "      <td>-752.06</td>\n",
       "      <td>-inf</td>\n",
       "      <td>10</td>\n",
       "    </tr>\n",
       "    <tr>\n",
       "      <th>3477</th>\n",
       "      <td>0.00</td>\n",
       "      <td>180.30</td>\n",
       "      <td>20.79</td>\n",
       "      <td>38.31</td>\n",
       "      <td>-20.79</td>\n",
       "      <td>141.99</td>\n",
       "      <td>0.00</td>\n",
       "      <td>796.38</td>\n",
       "      <td>-796.38</td>\n",
       "      <td>-inf</td>\n",
       "      <td>10</td>\n",
       "    </tr>\n",
       "    <tr>\n",
       "      <th>3478</th>\n",
       "      <td>0.00</td>\n",
       "      <td>180.30</td>\n",
       "      <td>21.00</td>\n",
       "      <td>38.64</td>\n",
       "      <td>-21.00</td>\n",
       "      <td>141.66</td>\n",
       "      <td>0.00</td>\n",
       "      <td>811.47</td>\n",
       "      <td>-811.47</td>\n",
       "      <td>-inf</td>\n",
       "      <td>10</td>\n",
       "    </tr>\n",
       "    <tr>\n",
       "      <th>3491</th>\n",
       "      <td>35.30</td>\n",
       "      <td>180.30</td>\n",
       "      <td>46.62</td>\n",
       "      <td>180.30</td>\n",
       "      <td>-11.32</td>\n",
       "      <td>0.00</td>\n",
       "      <td>6,364.59</td>\n",
       "      <td>8,405.95</td>\n",
       "      <td>-2,041.36</td>\n",
       "      <td>-32.07</td>\n",
       "      <td>10</td>\n",
       "    </tr>\n",
       "    <tr>\n",
       "      <th>3562</th>\n",
       "      <td>10.70</td>\n",
       "      <td>39.10</td>\n",
       "      <td>20.11</td>\n",
       "      <td>47.99</td>\n",
       "      <td>-9.41</td>\n",
       "      <td>-8.89</td>\n",
       "      <td>418.37</td>\n",
       "      <td>965.18</td>\n",
       "      <td>-546.81</td>\n",
       "      <td>-130.70</td>\n",
       "      <td>10</td>\n",
       "    </tr>\n",
       "    <tr>\n",
       "      <th>3563</th>\n",
       "      <td>45.60</td>\n",
       "      <td>180.30</td>\n",
       "      <td>108.30</td>\n",
       "      <td>180.30</td>\n",
       "      <td>-62.70</td>\n",
       "      <td>0.00</td>\n",
       "      <td>8,221.68</td>\n",
       "      <td>19,525.59</td>\n",
       "      <td>-11,303.91</td>\n",
       "      <td>-137.49</td>\n",
       "      <td>10</td>\n",
       "    </tr>\n",
       "    <tr>\n",
       "      <th>3574</th>\n",
       "      <td>10.70</td>\n",
       "      <td>39.10</td>\n",
       "      <td>19.17</td>\n",
       "      <td>38.94</td>\n",
       "      <td>-8.47</td>\n",
       "      <td>0.16</td>\n",
       "      <td>418.37</td>\n",
       "      <td>746.58</td>\n",
       "      <td>-328.21</td>\n",
       "      <td>-78.45</td>\n",
       "      <td>10</td>\n",
       "    </tr>\n",
       "    <tr>\n",
       "      <th>3586</th>\n",
       "      <td>10.70</td>\n",
       "      <td>39.10</td>\n",
       "      <td>19.97</td>\n",
       "      <td>41.90</td>\n",
       "      <td>-9.27</td>\n",
       "      <td>-2.80</td>\n",
       "      <td>418.37</td>\n",
       "      <td>836.56</td>\n",
       "      <td>-418.19</td>\n",
       "      <td>-99.96</td>\n",
       "      <td>10</td>\n",
       "    </tr>\n",
       "    <tr>\n",
       "      <th>3598</th>\n",
       "      <td>10.70</td>\n",
       "      <td>45.68</td>\n",
       "      <td>19.37</td>\n",
       "      <td>38.97</td>\n",
       "      <td>-8.67</td>\n",
       "      <td>6.71</td>\n",
       "      <td>488.78</td>\n",
       "      <td>754.95</td>\n",
       "      <td>-266.17</td>\n",
       "      <td>-54.46</td>\n",
       "      <td>10</td>\n",
       "    </tr>\n",
       "    <tr>\n",
       "      <th>3610</th>\n",
       "      <td>10.70</td>\n",
       "      <td>44.25</td>\n",
       "      <td>20.96</td>\n",
       "      <td>45.84</td>\n",
       "      <td>-10.26</td>\n",
       "      <td>-1.59</td>\n",
       "      <td>473.47</td>\n",
       "      <td>961.08</td>\n",
       "      <td>-487.61</td>\n",
       "      <td>-102.98</td>\n",
       "      <td>10</td>\n",
       "    </tr>\n",
       "    <tr>\n",
       "      <th>3622</th>\n",
       "      <td>10.70</td>\n",
       "      <td>38.56</td>\n",
       "      <td>20.91</td>\n",
       "      <td>44.26</td>\n",
       "      <td>-10.21</td>\n",
       "      <td>-5.70</td>\n",
       "      <td>412.59</td>\n",
       "      <td>925.46</td>\n",
       "      <td>-512.87</td>\n",
       "      <td>-124.30</td>\n",
       "      <td>10</td>\n",
       "    </tr>\n",
       "    <tr>\n",
       "      <th>3634</th>\n",
       "      <td>10.70</td>\n",
       "      <td>42.53</td>\n",
       "      <td>17.14</td>\n",
       "      <td>38.61</td>\n",
       "      <td>-6.44</td>\n",
       "      <td>3.92</td>\n",
       "      <td>455.07</td>\n",
       "      <td>661.76</td>\n",
       "      <td>-206.69</td>\n",
       "      <td>-45.42</td>\n",
       "      <td>10</td>\n",
       "    </tr>\n",
       "    <tr>\n",
       "      <th>3658</th>\n",
       "      <td>10.70</td>\n",
       "      <td>42.53</td>\n",
       "      <td>20.95</td>\n",
       "      <td>43.42</td>\n",
       "      <td>-10.25</td>\n",
       "      <td>-0.89</td>\n",
       "      <td>455.07</td>\n",
       "      <td>909.38</td>\n",
       "      <td>-454.31</td>\n",
       "      <td>-99.83</td>\n",
       "      <td>10</td>\n",
       "    </tr>\n",
       "    <tr>\n",
       "      <th>3670</th>\n",
       "      <td>10.70</td>\n",
       "      <td>42.53</td>\n",
       "      <td>19.27</td>\n",
       "      <td>53.84</td>\n",
       "      <td>-8.57</td>\n",
       "      <td>-11.31</td>\n",
       "      <td>455.07</td>\n",
       "      <td>1,037.37</td>\n",
       "      <td>-582.30</td>\n",
       "      <td>-127.96</td>\n",
       "      <td>10</td>\n",
       "    </tr>\n",
       "    <tr>\n",
       "      <th>3671</th>\n",
       "      <td>45.60</td>\n",
       "      <td>180.30</td>\n",
       "      <td>221.54</td>\n",
       "      <td>180.30</td>\n",
       "      <td>-175.94</td>\n",
       "      <td>0.00</td>\n",
       "      <td>8,221.68</td>\n",
       "      <td>39,943.66</td>\n",
       "      <td>-31,721.98</td>\n",
       "      <td>-385.83</td>\n",
       "      <td>10</td>\n",
       "    </tr>\n",
       "    <tr>\n",
       "      <th>3682</th>\n",
       "      <td>10.70</td>\n",
       "      <td>42.53</td>\n",
       "      <td>18.03</td>\n",
       "      <td>62.93</td>\n",
       "      <td>-7.33</td>\n",
       "      <td>-20.40</td>\n",
       "      <td>455.07</td>\n",
       "      <td>1,134.71</td>\n",
       "      <td>-679.64</td>\n",
       "      <td>-149.35</td>\n",
       "      <td>10</td>\n",
       "    </tr>\n",
       "    <tr>\n",
       "      <th>3695</th>\n",
       "      <td>35.60</td>\n",
       "      <td>180.30</td>\n",
       "      <td>50.50</td>\n",
       "      <td>180.30</td>\n",
       "      <td>-14.90</td>\n",
       "      <td>0.00</td>\n",
       "      <td>6,418.68</td>\n",
       "      <td>9,105.33</td>\n",
       "      <td>-2,686.65</td>\n",
       "      <td>-41.86</td>\n",
       "      <td>10</td>\n",
       "    </tr>\n",
       "  </tbody>\n",
       "</table>\n",
       "</div>"
      ],
      "text/plain": [
       "         dE  Price  dE_pred  Price_pred  dE_diff  Price_diff      Area  \\\n",
       "3356   0.00 180.30     5.11      152.78    -5.11       27.52      0.00   \n",
       "3357   0.00 180.30     5.74      148.72    -5.74       31.58      0.00   \n",
       "3358   0.00 180.30     6.16      146.07    -6.16       34.23      0.00   \n",
       "3359 115.60 180.30   168.46      178.51   -52.86        1.79 20,842.68   \n",
       "3371  35.30 180.30    55.59      180.30   -20.29        0.00  6,364.59   \n",
       "3419  35.30 180.30   218.49      180.30  -183.19        0.00  6,364.59   \n",
       "3431  35.30 180.30   170.68      180.30  -135.38        0.00  6,364.59   \n",
       "3443  35.30 180.30   127.21      178.51   -91.91        1.79  6,364.59   \n",
       "3473   0.70  33.54    21.00       33.68   -20.30       -0.14     23.48   \n",
       "3474   0.00 180.30    21.00       34.08   -21.00      146.22      0.00   \n",
       "3475   0.00 180.30    21.00       35.21   -21.00      145.09      0.00   \n",
       "3476   0.00 180.30    21.00       35.81   -21.00      144.49      0.00   \n",
       "3477   0.00 180.30    20.79       38.31   -20.79      141.99      0.00   \n",
       "3478   0.00 180.30    21.00       38.64   -21.00      141.66      0.00   \n",
       "3491  35.30 180.30    46.62      180.30   -11.32        0.00  6,364.59   \n",
       "3562  10.70  39.10    20.11       47.99    -9.41       -8.89    418.37   \n",
       "3563  45.60 180.30   108.30      180.30   -62.70        0.00  8,221.68   \n",
       "3574  10.70  39.10    19.17       38.94    -8.47        0.16    418.37   \n",
       "3586  10.70  39.10    19.97       41.90    -9.27       -2.80    418.37   \n",
       "3598  10.70  45.68    19.37       38.97    -8.67        6.71    488.78   \n",
       "3610  10.70  44.25    20.96       45.84   -10.26       -1.59    473.47   \n",
       "3622  10.70  38.56    20.91       44.26   -10.21       -5.70    412.59   \n",
       "3634  10.70  42.53    17.14       38.61    -6.44        3.92    455.07   \n",
       "3658  10.70  42.53    20.95       43.42   -10.25       -0.89    455.07   \n",
       "3670  10.70  42.53    19.27       53.84    -8.57      -11.31    455.07   \n",
       "3671  45.60 180.30   221.54      180.30  -175.94        0.00  8,221.68   \n",
       "3682  10.70  42.53    18.03       62.93    -7.33      -20.40    455.07   \n",
       "3695  35.60 180.30    50.50      180.30   -14.90        0.00  6,418.68   \n",
       "\n",
       "      Area_pred  Area_diff  Area_diff_rel(%)  Period  \n",
       "3356     780.69    -780.69              -inf      10  \n",
       "3357     853.20    -853.20              -inf      10  \n",
       "3358     899.36    -899.36              -inf      10  \n",
       "3359  30,070.62  -9,227.94            -44.27      10  \n",
       "3371  10,022.52  -3,657.93            -57.47      10  \n",
       "3419  39,393.03 -33,028.44           -518.94      10  \n",
       "3431  30,774.26 -24,409.67           -383.52      10  \n",
       "3443  22,708.93 -16,344.34           -256.80      10  \n",
       "3473     707.33    -683.86         -2,912.75      10  \n",
       "3474     715.71    -715.71              -inf      10  \n",
       "3475     739.51    -739.51              -inf      10  \n",
       "3476     752.06    -752.06              -inf      10  \n",
       "3477     796.38    -796.38              -inf      10  \n",
       "3478     811.47    -811.47              -inf      10  \n",
       "3491   8,405.95  -2,041.36            -32.07      10  \n",
       "3562     965.18    -546.81           -130.70      10  \n",
       "3563  19,525.59 -11,303.91           -137.49      10  \n",
       "3574     746.58    -328.21            -78.45      10  \n",
       "3586     836.56    -418.19            -99.96      10  \n",
       "3598     754.95    -266.17            -54.46      10  \n",
       "3610     961.08    -487.61           -102.98      10  \n",
       "3622     925.46    -512.87           -124.30      10  \n",
       "3634     661.76    -206.69            -45.42      10  \n",
       "3658     909.38    -454.31            -99.83      10  \n",
       "3670   1,037.37    -582.30           -127.96      10  \n",
       "3671  39,943.66 -31,721.98           -385.83      10  \n",
       "3682   1,134.71    -679.64           -149.35      10  \n",
       "3695   9,105.33  -2,686.65            -41.86      10  "
      ]
     },
     "execution_count": 255,
     "metadata": {},
     "output_type": "execute_result"
    }
   ],
   "source": [
    "df_TEST_pred_rf_summary[(df_TEST_pred_rf_summary['Period']==10) & (df_TEST_pred_rf_summary['dE_diff']<-2)]"
   ]
  },
  {
   "cell_type": "code",
   "execution_count": 256,
   "metadata": {},
   "outputs": [
    {
     "data": {
      "text/html": [
       "<div>\n",
       "<style scoped>\n",
       "    .dataframe tbody tr th:only-of-type {\n",
       "        vertical-align: middle;\n",
       "    }\n",
       "\n",
       "    .dataframe tbody tr th {\n",
       "        vertical-align: top;\n",
       "    }\n",
       "\n",
       "    .dataframe thead th {\n",
       "        text-align: right;\n",
       "    }\n",
       "</style>\n",
       "<table border=\"1\" class=\"dataframe\">\n",
       "  <thead>\n",
       "    <tr style=\"text-align: right;\">\n",
       "      <th></th>\n",
       "      <th>dE</th>\n",
       "      <th>Price</th>\n",
       "      <th>dE_pred</th>\n",
       "      <th>Price_pred</th>\n",
       "      <th>dE_diff</th>\n",
       "      <th>Price_diff</th>\n",
       "      <th>Area</th>\n",
       "      <th>Area_pred</th>\n",
       "      <th>Area_diff</th>\n",
       "      <th>Area_diff_rel(%)</th>\n",
       "      <th>Period</th>\n",
       "    </tr>\n",
       "  </thead>\n",
       "  <tbody>\n",
       "    <tr>\n",
       "      <th>count</th>\n",
       "      <td>8,928.00</td>\n",
       "      <td>8,928.00</td>\n",
       "      <td>8,928.00</td>\n",
       "      <td>8,928.00</td>\n",
       "      <td>8,928.00</td>\n",
       "      <td>8,928.00</td>\n",
       "      <td>8,928.00</td>\n",
       "      <td>8,928.00</td>\n",
       "      <td>8,928.00</td>\n",
       "      <td>8,928.00</td>\n",
       "      <td>8,928.00</td>\n",
       "    </tr>\n",
       "    <tr>\n",
       "      <th>mean</th>\n",
       "      <td>32.97</td>\n",
       "      <td>87.91</td>\n",
       "      <td>32.81</td>\n",
       "      <td>91.78</td>\n",
       "      <td>0.16</td>\n",
       "      <td>-3.87</td>\n",
       "      <td>2,593.60</td>\n",
       "      <td>2,739.88</td>\n",
       "      <td>-146.28</td>\n",
       "      <td>-inf</td>\n",
       "      <td>12.50</td>\n",
       "    </tr>\n",
       "    <tr>\n",
       "      <th>std</th>\n",
       "      <td>65.25</td>\n",
       "      <td>72.39</td>\n",
       "      <td>64.23</td>\n",
       "      <td>70.92</td>\n",
       "      <td>27.43</td>\n",
       "      <td>40.34</td>\n",
       "      <td>10,725.72</td>\n",
       "      <td>10,627.88</td>\n",
       "      <td>4,402.73</td>\n",
       "      <td>nan</td>\n",
       "      <td>6.92</td>\n",
       "    </tr>\n",
       "    <tr>\n",
       "      <th>min</th>\n",
       "      <td>0.00</td>\n",
       "      <td>1.13</td>\n",
       "      <td>0.00</td>\n",
       "      <td>1.13</td>\n",
       "      <td>-360.10</td>\n",
       "      <td>-179.17</td>\n",
       "      <td>0.00</td>\n",
       "      <td>0.00</td>\n",
       "      <td>-64,926.03</td>\n",
       "      <td>-inf</td>\n",
       "      <td>1.00</td>\n",
       "    </tr>\n",
       "    <tr>\n",
       "      <th>25%</th>\n",
       "      <td>0.00</td>\n",
       "      <td>34.08</td>\n",
       "      <td>0.00</td>\n",
       "      <td>35.30</td>\n",
       "      <td>0.00</td>\n",
       "      <td>-0.53</td>\n",
       "      <td>0.00</td>\n",
       "      <td>0.00</td>\n",
       "      <td>-32.84</td>\n",
       "      <td>-3.57</td>\n",
       "      <td>6.75</td>\n",
       "    </tr>\n",
       "    <tr>\n",
       "      <th>50%</th>\n",
       "      <td>21.00</td>\n",
       "      <td>38.46</td>\n",
       "      <td>21.00</td>\n",
       "      <td>41.05</td>\n",
       "      <td>0.00</td>\n",
       "      <td>0.00</td>\n",
       "      <td>693.84</td>\n",
       "      <td>727.39</td>\n",
       "      <td>0.00</td>\n",
       "      <td>0.00</td>\n",
       "      <td>12.50</td>\n",
       "    </tr>\n",
       "    <tr>\n",
       "      <th>75%</th>\n",
       "      <td>21.00</td>\n",
       "      <td>180.30</td>\n",
       "      <td>21.00</td>\n",
       "      <td>180.30</td>\n",
       "      <td>0.00</td>\n",
       "      <td>0.00</td>\n",
       "      <td>778.68</td>\n",
       "      <td>822.37</td>\n",
       "      <td>0.00</td>\n",
       "      <td>0.00</td>\n",
       "      <td>18.25</td>\n",
       "    </tr>\n",
       "    <tr>\n",
       "      <th>max</th>\n",
       "      <td>395.60</td>\n",
       "      <td>180.30</td>\n",
       "      <td>395.60</td>\n",
       "      <td>180.30</td>\n",
       "      <td>360.29</td>\n",
       "      <td>179.17</td>\n",
       "      <td>71,326.68</td>\n",
       "      <td>71,326.68</td>\n",
       "      <td>64,960.95</td>\n",
       "      <td>100.00</td>\n",
       "      <td>24.00</td>\n",
       "    </tr>\n",
       "  </tbody>\n",
       "</table>\n",
       "</div>"
      ],
      "text/plain": [
       "            dE    Price  dE_pred  Price_pred  dE_diff  Price_diff      Area  \\\n",
       "count 8,928.00 8,928.00 8,928.00    8,928.00 8,928.00    8,928.00  8,928.00   \n",
       "mean     32.97    87.91    32.81       91.78     0.16       -3.87  2,593.60   \n",
       "std      65.25    72.39    64.23       70.92    27.43       40.34 10,725.72   \n",
       "min       0.00     1.13     0.00        1.13  -360.10     -179.17      0.00   \n",
       "25%       0.00    34.08     0.00       35.30     0.00       -0.53      0.00   \n",
       "50%      21.00    38.46    21.00       41.05     0.00        0.00    693.84   \n",
       "75%      21.00   180.30    21.00      180.30     0.00        0.00    778.68   \n",
       "max     395.60   180.30   395.60      180.30   360.29      179.17 71,326.68   \n",
       "\n",
       "       Area_pred  Area_diff  Area_diff_rel(%)   Period  \n",
       "count   8,928.00   8,928.00          8,928.00 8,928.00  \n",
       "mean    2,739.88    -146.28              -inf    12.50  \n",
       "std    10,627.88   4,402.73               nan     6.92  \n",
       "min         0.00 -64,926.03              -inf     1.00  \n",
       "25%         0.00     -32.84             -3.57     6.75  \n",
       "50%       727.39       0.00              0.00    12.50  \n",
       "75%       822.37       0.00              0.00    18.25  \n",
       "max    71,326.68  64,960.95            100.00    24.00  "
      ]
     },
     "execution_count": 256,
     "metadata": {},
     "output_type": "execute_result"
    }
   ],
   "source": [
    "df_TEST_pred_rf_summary.describe()"
   ]
  },
  {
   "cell_type": "code",
   "execution_count": null,
   "metadata": {},
   "outputs": [],
   "source": []
  },
  {
   "cell_type": "code",
   "execution_count": 257,
   "metadata": {},
   "outputs": [
    {
     "data": {
      "text/plain": [
       "-146.28107977644632"
      ]
     },
     "execution_count": 257,
     "metadata": {},
     "output_type": "execute_result"
    }
   ],
   "source": [
    "df_TEST_pred_rf_summary['Area_diff'].mean()"
   ]
  },
  {
   "cell_type": "code",
   "execution_count": 258,
   "metadata": {},
   "outputs": [
    {
     "data": {
      "text/plain": [
       "(-146.28107977644632, -5.640085581531988)"
      ]
     },
     "execution_count": 258,
     "metadata": {},
     "output_type": "execute_result"
    }
   ],
   "source": [
    "Area_pred_mean_error_TEST = df_TEST_pred_rf_summary['Area_diff'].mean()\n",
    "Area_pred_mean_error_TEST_rel = df_TEST_pred_rf_summary['Area_diff'].mean() / df_TEST_pred_rf_summary['Area'].mean() * 100\n",
    "Area_pred_mean_error_TEST, Area_pred_mean_error_TEST_rel"
   ]
  },
  {
   "cell_type": "code",
   "execution_count": 259,
   "metadata": {},
   "outputs": [
    {
     "data": {
      "text/plain": [
       "657.7194230368902"
      ]
     },
     "execution_count": 259,
     "metadata": {},
     "output_type": "execute_result"
    }
   ],
   "source": [
    "#MAE for Area and Area_pred\n",
    "\n",
    "mae_area_pred_TEST = mean_absolute_error(df_TEST_pred_rf_summary['Area'],df_TEST_pred_rf_summary['Area_pred'])\n",
    "mae_area_pred_TEST"
   ]
  },
  {
   "cell_type": "code",
   "execution_count": 260,
   "metadata": {},
   "outputs": [
    {
     "data": {
      "text/plain": [
       "4404.9136333943525"
      ]
     },
     "execution_count": 260,
     "metadata": {},
     "output_type": "execute_result"
    }
   ],
   "source": [
    "#RMSE for Area and Area_pred\n",
    "\n",
    "rmse_area_pred_TEST = (np.sqrt(mean_squared_error(df_TEST_pred_rf_summary['Area'],df_TEST_pred_rf_summary['Area_pred'])))\n",
    "rmse_area_pred_TEST"
   ]
  },
  {
   "cell_type": "code",
   "execution_count": null,
   "metadata": {},
   "outputs": [],
   "source": []
  },
  {
   "cell_type": "code",
   "execution_count": 261,
   "metadata": {
    "scrolled": true
   },
   "outputs": [
    {
     "data": {
      "text/html": [
       "<div>\n",
       "<style scoped>\n",
       "    .dataframe tbody tr th:only-of-type {\n",
       "        vertical-align: middle;\n",
       "    }\n",
       "\n",
       "    .dataframe tbody tr th {\n",
       "        vertical-align: top;\n",
       "    }\n",
       "\n",
       "    .dataframe thead th {\n",
       "        text-align: right;\n",
       "    }\n",
       "</style>\n",
       "<table border=\"1\" class=\"dataframe\">\n",
       "  <thead>\n",
       "    <tr style=\"text-align: right;\">\n",
       "      <th></th>\n",
       "      <th>dE</th>\n",
       "      <th>Price</th>\n",
       "      <th>dE_pred</th>\n",
       "      <th>Price_pred</th>\n",
       "      <th>dE_diff</th>\n",
       "      <th>Price_diff</th>\n",
       "      <th>Area</th>\n",
       "      <th>Area_pred</th>\n",
       "      <th>Area_diff</th>\n",
       "      <th>Area_diff_rel(%)</th>\n",
       "      <th>Period</th>\n",
       "    </tr>\n",
       "  </thead>\n",
       "  <tbody>\n",
       "    <tr>\n",
       "      <th>84</th>\n",
       "      <td>150.30</td>\n",
       "      <td>1.13</td>\n",
       "      <td>0.00</td>\n",
       "      <td>180.30</td>\n",
       "      <td>150.30</td>\n",
       "      <td>-179.17</td>\n",
       "      <td>169.84</td>\n",
       "      <td>0.00</td>\n",
       "      <td>169.84</td>\n",
       "      <td>100.00</td>\n",
       "      <td>1</td>\n",
       "    </tr>\n",
       "    <tr>\n",
       "      <th>85</th>\n",
       "      <td>21.00</td>\n",
       "      <td>30.25</td>\n",
       "      <td>0.00</td>\n",
       "      <td>180.30</td>\n",
       "      <td>21.00</td>\n",
       "      <td>-150.05</td>\n",
       "      <td>635.25</td>\n",
       "      <td>0.00</td>\n",
       "      <td>635.25</td>\n",
       "      <td>100.00</td>\n",
       "      <td>1</td>\n",
       "    </tr>\n",
       "    <tr>\n",
       "      <th>86</th>\n",
       "      <td>21.00</td>\n",
       "      <td>30.87</td>\n",
       "      <td>0.00</td>\n",
       "      <td>180.30</td>\n",
       "      <td>21.00</td>\n",
       "      <td>-149.43</td>\n",
       "      <td>648.27</td>\n",
       "      <td>0.00</td>\n",
       "      <td>648.27</td>\n",
       "      <td>100.00</td>\n",
       "      <td>1</td>\n",
       "    </tr>\n",
       "    <tr>\n",
       "      <th>87</th>\n",
       "      <td>21.00</td>\n",
       "      <td>31.49</td>\n",
       "      <td>0.00</td>\n",
       "      <td>180.30</td>\n",
       "      <td>21.00</td>\n",
       "      <td>-148.81</td>\n",
       "      <td>661.29</td>\n",
       "      <td>0.00</td>\n",
       "      <td>661.29</td>\n",
       "      <td>100.00</td>\n",
       "      <td>1</td>\n",
       "    </tr>\n",
       "    <tr>\n",
       "      <th>88</th>\n",
       "      <td>21.00</td>\n",
       "      <td>32.11</td>\n",
       "      <td>0.00</td>\n",
       "      <td>180.30</td>\n",
       "      <td>21.00</td>\n",
       "      <td>-148.19</td>\n",
       "      <td>674.31</td>\n",
       "      <td>0.00</td>\n",
       "      <td>674.31</td>\n",
       "      <td>100.00</td>\n",
       "      <td>1</td>\n",
       "    </tr>\n",
       "    <tr>\n",
       "      <th>...</th>\n",
       "      <td>...</td>\n",
       "      <td>...</td>\n",
       "      <td>...</td>\n",
       "      <td>...</td>\n",
       "      <td>...</td>\n",
       "      <td>...</td>\n",
       "      <td>...</td>\n",
       "      <td>...</td>\n",
       "      <td>...</td>\n",
       "      <td>...</td>\n",
       "      <td>...</td>\n",
       "    </tr>\n",
       "    <tr>\n",
       "      <th>8910</th>\n",
       "      <td>0.00</td>\n",
       "      <td>180.30</td>\n",
       "      <td>21.00</td>\n",
       "      <td>38.73</td>\n",
       "      <td>-21.00</td>\n",
       "      <td>141.57</td>\n",
       "      <td>0.00</td>\n",
       "      <td>813.23</td>\n",
       "      <td>-813.23</td>\n",
       "      <td>-inf</td>\n",
       "      <td>24</td>\n",
       "    </tr>\n",
       "    <tr>\n",
       "      <th>8911</th>\n",
       "      <td>0.00</td>\n",
       "      <td>180.30</td>\n",
       "      <td>21.00</td>\n",
       "      <td>38.94</td>\n",
       "      <td>-21.00</td>\n",
       "      <td>141.36</td>\n",
       "      <td>0.00</td>\n",
       "      <td>817.84</td>\n",
       "      <td>-817.84</td>\n",
       "      <td>-inf</td>\n",
       "      <td>24</td>\n",
       "    </tr>\n",
       "    <tr>\n",
       "      <th>8912</th>\n",
       "      <td>0.00</td>\n",
       "      <td>180.30</td>\n",
       "      <td>21.00</td>\n",
       "      <td>37.44</td>\n",
       "      <td>-21.00</td>\n",
       "      <td>142.86</td>\n",
       "      <td>0.00</td>\n",
       "      <td>786.33</td>\n",
       "      <td>-786.33</td>\n",
       "      <td>-inf</td>\n",
       "      <td>24</td>\n",
       "    </tr>\n",
       "    <tr>\n",
       "      <th>8913</th>\n",
       "      <td>0.00</td>\n",
       "      <td>180.30</td>\n",
       "      <td>21.00</td>\n",
       "      <td>45.59</td>\n",
       "      <td>-21.00</td>\n",
       "      <td>134.71</td>\n",
       "      <td>0.00</td>\n",
       "      <td>957.38</td>\n",
       "      <td>-957.38</td>\n",
       "      <td>-inf</td>\n",
       "      <td>24</td>\n",
       "    </tr>\n",
       "    <tr>\n",
       "      <th>8914</th>\n",
       "      <td>0.00</td>\n",
       "      <td>180.30</td>\n",
       "      <td>20.88</td>\n",
       "      <td>43.56</td>\n",
       "      <td>-20.88</td>\n",
       "      <td>136.74</td>\n",
       "      <td>0.00</td>\n",
       "      <td>909.37</td>\n",
       "      <td>-909.37</td>\n",
       "      <td>-inf</td>\n",
       "      <td>24</td>\n",
       "    </tr>\n",
       "  </tbody>\n",
       "</table>\n",
       "<p>1369 rows × 11 columns</p>\n",
       "</div>"
      ],
      "text/plain": [
       "         dE  Price  dE_pred  Price_pred  dE_diff  Price_diff   Area  \\\n",
       "84   150.30   1.13     0.00      180.30   150.30     -179.17 169.84   \n",
       "85    21.00  30.25     0.00      180.30    21.00     -150.05 635.25   \n",
       "86    21.00  30.87     0.00      180.30    21.00     -149.43 648.27   \n",
       "87    21.00  31.49     0.00      180.30    21.00     -148.81 661.29   \n",
       "88    21.00  32.11     0.00      180.30    21.00     -148.19 674.31   \n",
       "...     ...    ...      ...         ...      ...         ...    ...   \n",
       "8910   0.00 180.30    21.00       38.73   -21.00      141.57   0.00   \n",
       "8911   0.00 180.30    21.00       38.94   -21.00      141.36   0.00   \n",
       "8912   0.00 180.30    21.00       37.44   -21.00      142.86   0.00   \n",
       "8913   0.00 180.30    21.00       45.59   -21.00      134.71   0.00   \n",
       "8914   0.00 180.30    20.88       43.56   -20.88      136.74   0.00   \n",
       "\n",
       "      Area_pred  Area_diff  Area_diff_rel(%)  Period  \n",
       "84         0.00     169.84            100.00       1  \n",
       "85         0.00     635.25            100.00       1  \n",
       "86         0.00     648.27            100.00       1  \n",
       "87         0.00     661.29            100.00       1  \n",
       "88         0.00     674.31            100.00       1  \n",
       "...         ...        ...               ...     ...  \n",
       "8910     813.23    -813.23              -inf      24  \n",
       "8911     817.84    -817.84              -inf      24  \n",
       "8912     786.33    -786.33              -inf      24  \n",
       "8913     957.38    -957.38              -inf      24  \n",
       "8914     909.37    -909.37              -inf      24  \n",
       "\n",
       "[1369 rows x 11 columns]"
      ]
     },
     "execution_count": 261,
     "metadata": {},
     "output_type": "execute_result"
    }
   ],
   "source": [
    "#Looking for min and max values in the df\n",
    "\n",
    "df_TEST_pred_rf_summary[(df_TEST_pred_rf_summary['Price_diff'] < -7) |\n",
    "                      (df_TEST_pred_rf_summary['Price_diff'] > 5)]"
   ]
  },
  {
   "cell_type": "code",
   "execution_count": 262,
   "metadata": {},
   "outputs": [
    {
     "data": {
      "text/html": [
       "<div>\n",
       "<style scoped>\n",
       "    .dataframe tbody tr th:only-of-type {\n",
       "        vertical-align: middle;\n",
       "    }\n",
       "\n",
       "    .dataframe tbody tr th {\n",
       "        vertical-align: top;\n",
       "    }\n",
       "\n",
       "    .dataframe thead th {\n",
       "        text-align: right;\n",
       "    }\n",
       "</style>\n",
       "<table border=\"1\" class=\"dataframe\">\n",
       "  <thead>\n",
       "    <tr style=\"text-align: right;\">\n",
       "      <th></th>\n",
       "      <th>dE</th>\n",
       "      <th>Price</th>\n",
       "      <th>dE_pred</th>\n",
       "      <th>Price_pred</th>\n",
       "      <th>dE_diff</th>\n",
       "      <th>Price_diff</th>\n",
       "      <th>Area</th>\n",
       "      <th>Area_pred</th>\n",
       "      <th>Area_diff</th>\n",
       "      <th>Area_diff_rel(%)</th>\n",
       "      <th>Period</th>\n",
       "    </tr>\n",
       "  </thead>\n",
       "  <tbody>\n",
       "    <tr>\n",
       "      <th>84</th>\n",
       "      <td>150.30</td>\n",
       "      <td>1.13</td>\n",
       "      <td>0.00</td>\n",
       "      <td>180.30</td>\n",
       "      <td>150.30</td>\n",
       "      <td>-179.17</td>\n",
       "      <td>169.84</td>\n",
       "      <td>0.00</td>\n",
       "      <td>169.84</td>\n",
       "      <td>100.00</td>\n",
       "      <td>1</td>\n",
       "    </tr>\n",
       "    <tr>\n",
       "      <th>85</th>\n",
       "      <td>21.00</td>\n",
       "      <td>30.25</td>\n",
       "      <td>0.00</td>\n",
       "      <td>180.30</td>\n",
       "      <td>21.00</td>\n",
       "      <td>-150.05</td>\n",
       "      <td>635.25</td>\n",
       "      <td>0.00</td>\n",
       "      <td>635.25</td>\n",
       "      <td>100.00</td>\n",
       "      <td>1</td>\n",
       "    </tr>\n",
       "    <tr>\n",
       "      <th>86</th>\n",
       "      <td>21.00</td>\n",
       "      <td>30.87</td>\n",
       "      <td>0.00</td>\n",
       "      <td>180.30</td>\n",
       "      <td>21.00</td>\n",
       "      <td>-149.43</td>\n",
       "      <td>648.27</td>\n",
       "      <td>0.00</td>\n",
       "      <td>648.27</td>\n",
       "      <td>100.00</td>\n",
       "      <td>1</td>\n",
       "    </tr>\n",
       "    <tr>\n",
       "      <th>87</th>\n",
       "      <td>21.00</td>\n",
       "      <td>31.49</td>\n",
       "      <td>0.00</td>\n",
       "      <td>180.30</td>\n",
       "      <td>21.00</td>\n",
       "      <td>-148.81</td>\n",
       "      <td>661.29</td>\n",
       "      <td>0.00</td>\n",
       "      <td>661.29</td>\n",
       "      <td>100.00</td>\n",
       "      <td>1</td>\n",
       "    </tr>\n",
       "    <tr>\n",
       "      <th>88</th>\n",
       "      <td>21.00</td>\n",
       "      <td>32.11</td>\n",
       "      <td>0.00</td>\n",
       "      <td>180.30</td>\n",
       "      <td>21.00</td>\n",
       "      <td>-148.19</td>\n",
       "      <td>674.31</td>\n",
       "      <td>0.00</td>\n",
       "      <td>674.31</td>\n",
       "      <td>100.00</td>\n",
       "      <td>1</td>\n",
       "    </tr>\n",
       "    <tr>\n",
       "      <th>...</th>\n",
       "      <td>...</td>\n",
       "      <td>...</td>\n",
       "      <td>...</td>\n",
       "      <td>...</td>\n",
       "      <td>...</td>\n",
       "      <td>...</td>\n",
       "      <td>...</td>\n",
       "      <td>...</td>\n",
       "      <td>...</td>\n",
       "      <td>...</td>\n",
       "      <td>...</td>\n",
       "    </tr>\n",
       "    <tr>\n",
       "      <th>8910</th>\n",
       "      <td>0.00</td>\n",
       "      <td>180.30</td>\n",
       "      <td>21.00</td>\n",
       "      <td>38.73</td>\n",
       "      <td>-21.00</td>\n",
       "      <td>141.57</td>\n",
       "      <td>0.00</td>\n",
       "      <td>813.23</td>\n",
       "      <td>-813.23</td>\n",
       "      <td>-inf</td>\n",
       "      <td>24</td>\n",
       "    </tr>\n",
       "    <tr>\n",
       "      <th>8911</th>\n",
       "      <td>0.00</td>\n",
       "      <td>180.30</td>\n",
       "      <td>21.00</td>\n",
       "      <td>38.94</td>\n",
       "      <td>-21.00</td>\n",
       "      <td>141.36</td>\n",
       "      <td>0.00</td>\n",
       "      <td>817.84</td>\n",
       "      <td>-817.84</td>\n",
       "      <td>-inf</td>\n",
       "      <td>24</td>\n",
       "    </tr>\n",
       "    <tr>\n",
       "      <th>8912</th>\n",
       "      <td>0.00</td>\n",
       "      <td>180.30</td>\n",
       "      <td>21.00</td>\n",
       "      <td>37.44</td>\n",
       "      <td>-21.00</td>\n",
       "      <td>142.86</td>\n",
       "      <td>0.00</td>\n",
       "      <td>786.33</td>\n",
       "      <td>-786.33</td>\n",
       "      <td>-inf</td>\n",
       "      <td>24</td>\n",
       "    </tr>\n",
       "    <tr>\n",
       "      <th>8913</th>\n",
       "      <td>0.00</td>\n",
       "      <td>180.30</td>\n",
       "      <td>21.00</td>\n",
       "      <td>45.59</td>\n",
       "      <td>-21.00</td>\n",
       "      <td>134.71</td>\n",
       "      <td>0.00</td>\n",
       "      <td>957.38</td>\n",
       "      <td>-957.38</td>\n",
       "      <td>-inf</td>\n",
       "      <td>24</td>\n",
       "    </tr>\n",
       "    <tr>\n",
       "      <th>8914</th>\n",
       "      <td>0.00</td>\n",
       "      <td>180.30</td>\n",
       "      <td>20.88</td>\n",
       "      <td>43.56</td>\n",
       "      <td>-20.88</td>\n",
       "      <td>136.74</td>\n",
       "      <td>0.00</td>\n",
       "      <td>909.37</td>\n",
       "      <td>-909.37</td>\n",
       "      <td>-inf</td>\n",
       "      <td>24</td>\n",
       "    </tr>\n",
       "  </tbody>\n",
       "</table>\n",
       "<p>1369 rows × 11 columns</p>\n",
       "</div>"
      ],
      "text/plain": [
       "         dE  Price  dE_pred  Price_pred  dE_diff  Price_diff   Area  \\\n",
       "84   150.30   1.13     0.00      180.30   150.30     -179.17 169.84   \n",
       "85    21.00  30.25     0.00      180.30    21.00     -150.05 635.25   \n",
       "86    21.00  30.87     0.00      180.30    21.00     -149.43 648.27   \n",
       "87    21.00  31.49     0.00      180.30    21.00     -148.81 661.29   \n",
       "88    21.00  32.11     0.00      180.30    21.00     -148.19 674.31   \n",
       "...     ...    ...      ...         ...      ...         ...    ...   \n",
       "8910   0.00 180.30    21.00       38.73   -21.00      141.57   0.00   \n",
       "8911   0.00 180.30    21.00       38.94   -21.00      141.36   0.00   \n",
       "8912   0.00 180.30    21.00       37.44   -21.00      142.86   0.00   \n",
       "8913   0.00 180.30    21.00       45.59   -21.00      134.71   0.00   \n",
       "8914   0.00 180.30    20.88       43.56   -20.88      136.74   0.00   \n",
       "\n",
       "      Area_pred  Area_diff  Area_diff_rel(%)  Period  \n",
       "84         0.00     169.84            100.00       1  \n",
       "85         0.00     635.25            100.00       1  \n",
       "86         0.00     648.27            100.00       1  \n",
       "87         0.00     661.29            100.00       1  \n",
       "88         0.00     674.31            100.00       1  \n",
       "...         ...        ...               ...     ...  \n",
       "8910     813.23    -813.23              -inf      24  \n",
       "8911     817.84    -817.84              -inf      24  \n",
       "8912     786.33    -786.33              -inf      24  \n",
       "8913     957.38    -957.38              -inf      24  \n",
       "8914     909.37    -909.37              -inf      24  \n",
       "\n",
       "[1369 rows x 11 columns]"
      ]
     },
     "execution_count": 262,
     "metadata": {},
     "output_type": "execute_result"
    }
   ],
   "source": [
    "df_TEST_pred_rf_summary[(df_TEST_pred_rf_summary['Price_diff'] < -7) |\n",
    "                      (df_TEST_pred_rf_summary['Price_diff'] > 5)]"
   ]
  },
  {
   "cell_type": "code",
   "execution_count": 263,
   "metadata": {},
   "outputs": [
    {
     "data": {
      "text/html": [
       "<div>\n",
       "<style scoped>\n",
       "    .dataframe tbody tr th:only-of-type {\n",
       "        vertical-align: middle;\n",
       "    }\n",
       "\n",
       "    .dataframe tbody tr th {\n",
       "        vertical-align: top;\n",
       "    }\n",
       "\n",
       "    .dataframe thead th {\n",
       "        text-align: right;\n",
       "    }\n",
       "</style>\n",
       "<table border=\"1\" class=\"dataframe\">\n",
       "  <thead>\n",
       "    <tr style=\"text-align: right;\">\n",
       "      <th></th>\n",
       "      <th>dE</th>\n",
       "      <th>Price</th>\n",
       "      <th>dE_pred</th>\n",
       "      <th>Price_pred</th>\n",
       "      <th>dE_diff</th>\n",
       "      <th>Price_diff</th>\n",
       "      <th>Area</th>\n",
       "      <th>Area_pred</th>\n",
       "      <th>Area_diff</th>\n",
       "      <th>Area_diff_rel(%)</th>\n",
       "      <th>Period</th>\n",
       "    </tr>\n",
       "  </thead>\n",
       "  <tbody>\n",
       "    <tr>\n",
       "      <th>1188</th>\n",
       "      <td>0.00</td>\n",
       "      <td>180.30</td>\n",
       "      <td>1.22</td>\n",
       "      <td>175.92</td>\n",
       "      <td>-1.22</td>\n",
       "      <td>4.38</td>\n",
       "      <td>0.00</td>\n",
       "      <td>214.88</td>\n",
       "      <td>-214.88</td>\n",
       "      <td>-inf</td>\n",
       "      <td>4</td>\n",
       "    </tr>\n",
       "    <tr>\n",
       "      <th>1218</th>\n",
       "      <td>0.00</td>\n",
       "      <td>180.30</td>\n",
       "      <td>29.34</td>\n",
       "      <td>75.15</td>\n",
       "      <td>-29.34</td>\n",
       "      <td>105.15</td>\n",
       "      <td>0.00</td>\n",
       "      <td>2,205.16</td>\n",
       "      <td>-2,205.16</td>\n",
       "      <td>-inf</td>\n",
       "      <td>4</td>\n",
       "    </tr>\n",
       "    <tr>\n",
       "      <th>1219</th>\n",
       "      <td>0.00</td>\n",
       "      <td>180.30</td>\n",
       "      <td>29.34</td>\n",
       "      <td>75.15</td>\n",
       "      <td>-29.34</td>\n",
       "      <td>105.15</td>\n",
       "      <td>0.00</td>\n",
       "      <td>2,205.16</td>\n",
       "      <td>-2,205.16</td>\n",
       "      <td>-inf</td>\n",
       "      <td>4</td>\n",
       "    </tr>\n",
       "    <tr>\n",
       "      <th>1220</th>\n",
       "      <td>0.00</td>\n",
       "      <td>180.30</td>\n",
       "      <td>29.34</td>\n",
       "      <td>75.15</td>\n",
       "      <td>-29.34</td>\n",
       "      <td>105.15</td>\n",
       "      <td>0.00</td>\n",
       "      <td>2,205.16</td>\n",
       "      <td>-2,205.16</td>\n",
       "      <td>-inf</td>\n",
       "      <td>4</td>\n",
       "    </tr>\n",
       "    <tr>\n",
       "      <th>1224</th>\n",
       "      <td>0.00</td>\n",
       "      <td>180.30</td>\n",
       "      <td>50.00</td>\n",
       "      <td>1.13</td>\n",
       "      <td>-50.00</td>\n",
       "      <td>179.17</td>\n",
       "      <td>0.00</td>\n",
       "      <td>56.50</td>\n",
       "      <td>-56.50</td>\n",
       "      <td>-inf</td>\n",
       "      <td>4</td>\n",
       "    </tr>\n",
       "    <tr>\n",
       "      <th>...</th>\n",
       "      <td>...</td>\n",
       "      <td>...</td>\n",
       "      <td>...</td>\n",
       "      <td>...</td>\n",
       "      <td>...</td>\n",
       "      <td>...</td>\n",
       "      <td>...</td>\n",
       "      <td>...</td>\n",
       "      <td>...</td>\n",
       "      <td>...</td>\n",
       "      <td>...</td>\n",
       "    </tr>\n",
       "    <tr>\n",
       "      <th>8910</th>\n",
       "      <td>0.00</td>\n",
       "      <td>180.30</td>\n",
       "      <td>21.00</td>\n",
       "      <td>38.73</td>\n",
       "      <td>-21.00</td>\n",
       "      <td>141.57</td>\n",
       "      <td>0.00</td>\n",
       "      <td>813.23</td>\n",
       "      <td>-813.23</td>\n",
       "      <td>-inf</td>\n",
       "      <td>24</td>\n",
       "    </tr>\n",
       "    <tr>\n",
       "      <th>8911</th>\n",
       "      <td>0.00</td>\n",
       "      <td>180.30</td>\n",
       "      <td>21.00</td>\n",
       "      <td>38.94</td>\n",
       "      <td>-21.00</td>\n",
       "      <td>141.36</td>\n",
       "      <td>0.00</td>\n",
       "      <td>817.84</td>\n",
       "      <td>-817.84</td>\n",
       "      <td>-inf</td>\n",
       "      <td>24</td>\n",
       "    </tr>\n",
       "    <tr>\n",
       "      <th>8912</th>\n",
       "      <td>0.00</td>\n",
       "      <td>180.30</td>\n",
       "      <td>21.00</td>\n",
       "      <td>37.44</td>\n",
       "      <td>-21.00</td>\n",
       "      <td>142.86</td>\n",
       "      <td>0.00</td>\n",
       "      <td>786.33</td>\n",
       "      <td>-786.33</td>\n",
       "      <td>-inf</td>\n",
       "      <td>24</td>\n",
       "    </tr>\n",
       "    <tr>\n",
       "      <th>8913</th>\n",
       "      <td>0.00</td>\n",
       "      <td>180.30</td>\n",
       "      <td>21.00</td>\n",
       "      <td>45.59</td>\n",
       "      <td>-21.00</td>\n",
       "      <td>134.71</td>\n",
       "      <td>0.00</td>\n",
       "      <td>957.38</td>\n",
       "      <td>-957.38</td>\n",
       "      <td>-inf</td>\n",
       "      <td>24</td>\n",
       "    </tr>\n",
       "    <tr>\n",
       "      <th>8914</th>\n",
       "      <td>0.00</td>\n",
       "      <td>180.30</td>\n",
       "      <td>20.88</td>\n",
       "      <td>43.56</td>\n",
       "      <td>-20.88</td>\n",
       "      <td>136.74</td>\n",
       "      <td>0.00</td>\n",
       "      <td>909.37</td>\n",
       "      <td>-909.37</td>\n",
       "      <td>-inf</td>\n",
       "      <td>24</td>\n",
       "    </tr>\n",
       "  </tbody>\n",
       "</table>\n",
       "<p>462 rows × 11 columns</p>\n",
       "</div>"
      ],
      "text/plain": [
       "       dE  Price  dE_pred  Price_pred  dE_diff  Price_diff  Area  Area_pred  \\\n",
       "1188 0.00 180.30     1.22      175.92    -1.22        4.38  0.00     214.88   \n",
       "1218 0.00 180.30    29.34       75.15   -29.34      105.15  0.00   2,205.16   \n",
       "1219 0.00 180.30    29.34       75.15   -29.34      105.15  0.00   2,205.16   \n",
       "1220 0.00 180.30    29.34       75.15   -29.34      105.15  0.00   2,205.16   \n",
       "1224 0.00 180.30    50.00        1.13   -50.00      179.17  0.00      56.50   \n",
       "...   ...    ...      ...         ...      ...         ...   ...        ...   \n",
       "8910 0.00 180.30    21.00       38.73   -21.00      141.57  0.00     813.23   \n",
       "8911 0.00 180.30    21.00       38.94   -21.00      141.36  0.00     817.84   \n",
       "8912 0.00 180.30    21.00       37.44   -21.00      142.86  0.00     786.33   \n",
       "8913 0.00 180.30    21.00       45.59   -21.00      134.71  0.00     957.38   \n",
       "8914 0.00 180.30    20.88       43.56   -20.88      136.74  0.00     909.37   \n",
       "\n",
       "      Area_diff  Area_diff_rel(%)  Period  \n",
       "1188    -214.88              -inf       4  \n",
       "1218  -2,205.16              -inf       4  \n",
       "1219  -2,205.16              -inf       4  \n",
       "1220  -2,205.16              -inf       4  \n",
       "1224     -56.50              -inf       4  \n",
       "...         ...               ...     ...  \n",
       "8910    -813.23              -inf      24  \n",
       "8911    -817.84              -inf      24  \n",
       "8912    -786.33              -inf      24  \n",
       "8913    -957.38              -inf      24  \n",
       "8914    -909.37              -inf      24  \n",
       "\n",
       "[462 rows x 11 columns]"
      ]
     },
     "execution_count": 263,
     "metadata": {},
     "output_type": "execute_result"
    }
   ],
   "source": [
    "#Looking for maximum price difference\n",
    "#It does not seems very important, since the error comes in a place where unit will not be operating\n",
    "\n",
    "df_TEST_pred_rf_summary [df_TEST_pred_rf_summary['Area_diff_rel(%)']== float('-inf')]"
   ]
  },
  {
   "cell_type": "code",
   "execution_count": 264,
   "metadata": {},
   "outputs": [
    {
     "data": {
      "text/html": [
       "<div>\n",
       "<style scoped>\n",
       "    .dataframe tbody tr th:only-of-type {\n",
       "        vertical-align: middle;\n",
       "    }\n",
       "\n",
       "    .dataframe tbody tr th {\n",
       "        vertical-align: top;\n",
       "    }\n",
       "\n",
       "    .dataframe thead th {\n",
       "        text-align: right;\n",
       "    }\n",
       "</style>\n",
       "<table border=\"1\" class=\"dataframe\">\n",
       "  <thead>\n",
       "    <tr style=\"text-align: right;\">\n",
       "      <th></th>\n",
       "      <th>dE</th>\n",
       "      <th>Price</th>\n",
       "      <th>dE_pred</th>\n",
       "      <th>Price_pred</th>\n",
       "      <th>dE_diff</th>\n",
       "      <th>Price_diff</th>\n",
       "      <th>Area</th>\n",
       "      <th>Area_pred</th>\n",
       "      <th>Area_diff</th>\n",
       "      <th>Area_diff_rel(%)</th>\n",
       "      <th>Period</th>\n",
       "    </tr>\n",
       "  </thead>\n",
       "  <tbody>\n",
       "    <tr>\n",
       "      <th>3730</th>\n",
       "      <td>20.70</td>\n",
       "      <td>43.75</td>\n",
       "      <td>16.90</td>\n",
       "      <td>85.30</td>\n",
       "      <td>3.80</td>\n",
       "      <td>-41.55</td>\n",
       "      <td>905.62</td>\n",
       "      <td>1,441.38</td>\n",
       "      <td>-535.75</td>\n",
       "      <td>-59.16</td>\n",
       "      <td>11</td>\n",
       "    </tr>\n",
       "    <tr>\n",
       "      <th>3740</th>\n",
       "      <td>21.00</td>\n",
       "      <td>40.83</td>\n",
       "      <td>21.00</td>\n",
       "      <td>39.36</td>\n",
       "      <td>0.00</td>\n",
       "      <td>1.47</td>\n",
       "      <td>857.43</td>\n",
       "      <td>826.48</td>\n",
       "      <td>30.95</td>\n",
       "      <td>3.61</td>\n",
       "      <td>11</td>\n",
       "    </tr>\n",
       "    <tr>\n",
       "      <th>3741</th>\n",
       "      <td>21.00</td>\n",
       "      <td>42.04</td>\n",
       "      <td>21.00</td>\n",
       "      <td>39.64</td>\n",
       "      <td>0.00</td>\n",
       "      <td>2.40</td>\n",
       "      <td>882.84</td>\n",
       "      <td>832.52</td>\n",
       "      <td>50.32</td>\n",
       "      <td>5.70</td>\n",
       "      <td>11</td>\n",
       "    </tr>\n",
       "    <tr>\n",
       "      <th>3742</th>\n",
       "      <td>21.00</td>\n",
       "      <td>43.75</td>\n",
       "      <td>20.90</td>\n",
       "      <td>40.10</td>\n",
       "      <td>0.10</td>\n",
       "      <td>3.65</td>\n",
       "      <td>918.75</td>\n",
       "      <td>838.14</td>\n",
       "      <td>80.61</td>\n",
       "      <td>8.77</td>\n",
       "      <td>11</td>\n",
       "    </tr>\n",
       "    <tr>\n",
       "      <th>3753</th>\n",
       "      <td>21.00</td>\n",
       "      <td>42.04</td>\n",
       "      <td>21.00</td>\n",
       "      <td>40.57</td>\n",
       "      <td>0.00</td>\n",
       "      <td>1.47</td>\n",
       "      <td>882.84</td>\n",
       "      <td>852.00</td>\n",
       "      <td>30.84</td>\n",
       "      <td>3.49</td>\n",
       "      <td>11</td>\n",
       "    </tr>\n",
       "    <tr>\n",
       "      <th>...</th>\n",
       "      <td>...</td>\n",
       "      <td>...</td>\n",
       "      <td>...</td>\n",
       "      <td>...</td>\n",
       "      <td>...</td>\n",
       "      <td>...</td>\n",
       "      <td>...</td>\n",
       "      <td>...</td>\n",
       "      <td>...</td>\n",
       "      <td>...</td>\n",
       "      <td>...</td>\n",
       "    </tr>\n",
       "    <tr>\n",
       "      <th>4073</th>\n",
       "      <td>21.00</td>\n",
       "      <td>33.46</td>\n",
       "      <td>21.00</td>\n",
       "      <td>36.74</td>\n",
       "      <td>0.00</td>\n",
       "      <td>-3.28</td>\n",
       "      <td>702.66</td>\n",
       "      <td>771.54</td>\n",
       "      <td>-68.88</td>\n",
       "      <td>-9.80</td>\n",
       "      <td>11</td>\n",
       "    </tr>\n",
       "    <tr>\n",
       "      <th>4074</th>\n",
       "      <td>21.00</td>\n",
       "      <td>34.08</td>\n",
       "      <td>21.00</td>\n",
       "      <td>38.47</td>\n",
       "      <td>0.00</td>\n",
       "      <td>-4.39</td>\n",
       "      <td>715.68</td>\n",
       "      <td>807.94</td>\n",
       "      <td>-92.26</td>\n",
       "      <td>-12.89</td>\n",
       "      <td>11</td>\n",
       "    </tr>\n",
       "    <tr>\n",
       "      <th>4075</th>\n",
       "      <td>21.00</td>\n",
       "      <td>34.70</td>\n",
       "      <td>21.00</td>\n",
       "      <td>38.23</td>\n",
       "      <td>0.00</td>\n",
       "      <td>-3.53</td>\n",
       "      <td>728.70</td>\n",
       "      <td>802.92</td>\n",
       "      <td>-74.22</td>\n",
       "      <td>-10.18</td>\n",
       "      <td>11</td>\n",
       "    </tr>\n",
       "    <tr>\n",
       "      <th>4077</th>\n",
       "      <td>21.00</td>\n",
       "      <td>36.94</td>\n",
       "      <td>21.00</td>\n",
       "      <td>42.59</td>\n",
       "      <td>0.00</td>\n",
       "      <td>-5.65</td>\n",
       "      <td>775.74</td>\n",
       "      <td>894.37</td>\n",
       "      <td>-118.63</td>\n",
       "      <td>-15.29</td>\n",
       "      <td>11</td>\n",
       "    </tr>\n",
       "    <tr>\n",
       "      <th>4078</th>\n",
       "      <td>20.70</td>\n",
       "      <td>38.56</td>\n",
       "      <td>20.96</td>\n",
       "      <td>43.41</td>\n",
       "      <td>-0.26</td>\n",
       "      <td>-4.85</td>\n",
       "      <td>798.19</td>\n",
       "      <td>910.11</td>\n",
       "      <td>-111.92</td>\n",
       "      <td>-14.02</td>\n",
       "      <td>11</td>\n",
       "    </tr>\n",
       "  </tbody>\n",
       "</table>\n",
       "<p>105 rows × 11 columns</p>\n",
       "</div>"
      ],
      "text/plain": [
       "        dE  Price  dE_pred  Price_pred  dE_diff  Price_diff   Area  Area_pred  \\\n",
       "3730 20.70  43.75    16.90       85.30     3.80      -41.55 905.62   1,441.38   \n",
       "3740 21.00  40.83    21.00       39.36     0.00        1.47 857.43     826.48   \n",
       "3741 21.00  42.04    21.00       39.64     0.00        2.40 882.84     832.52   \n",
       "3742 21.00  43.75    20.90       40.10     0.10        3.65 918.75     838.14   \n",
       "3753 21.00  42.04    21.00       40.57     0.00        1.47 882.84     852.00   \n",
       "...    ...    ...      ...         ...      ...         ...    ...        ...   \n",
       "4073 21.00  33.46    21.00       36.74     0.00       -3.28 702.66     771.54   \n",
       "4074 21.00  34.08    21.00       38.47     0.00       -4.39 715.68     807.94   \n",
       "4075 21.00  34.70    21.00       38.23     0.00       -3.53 728.70     802.92   \n",
       "4077 21.00  36.94    21.00       42.59     0.00       -5.65 775.74     894.37   \n",
       "4078 20.70  38.56    20.96       43.41    -0.26       -4.85 798.19     910.11   \n",
       "\n",
       "      Area_diff  Area_diff_rel(%)  Period  \n",
       "3730    -535.75            -59.16      11  \n",
       "3740      30.95              3.61      11  \n",
       "3741      50.32              5.70      11  \n",
       "3742      80.61              8.77      11  \n",
       "3753      30.84              3.49      11  \n",
       "...         ...               ...     ...  \n",
       "4073     -68.88             -9.80      11  \n",
       "4074     -92.26            -12.89      11  \n",
       "4075     -74.22            -10.18      11  \n",
       "4077    -118.63            -15.29      11  \n",
       "4078    -111.92            -14.02      11  \n",
       "\n",
       "[105 rows x 11 columns]"
      ]
     },
     "execution_count": 264,
     "metadata": {},
     "output_type": "execute_result"
    }
   ],
   "source": [
    "#Looking for minimmum price difference\n",
    "\n",
    "df_TEST_pred_rf_summary[(df_TEST_pred_rf_summary['Period'] == 11) &\n",
    "                      (abs(df_TEST_pred_rf_summary['Price_diff']) >= 1)]"
   ]
  },
  {
   "cell_type": "code",
   "execution_count": null,
   "metadata": {},
   "outputs": [],
   "source": []
  },
  {
   "cell_type": "code",
   "execution_count": null,
   "metadata": {},
   "outputs": [],
   "source": []
  },
  {
   "cell_type": "markdown",
   "metadata": {},
   "source": [
    "#### CURVE AREA METRIC WHEN MAXIMUM PRICE IS NOT CONSIDERED --> NO SÉ SI ES MEJOR BORRAR ESTO\n",
    "\n",
    "When Price is the maximum (180.3€) the unit is not going to be operated, son these areas should not be cosidered to evaluate the quality of the model."
   ]
  },
  {
   "cell_type": "code",
   "execution_count": 265,
   "metadata": {},
   "outputs": [],
   "source": [
    "#NO TENGO CLARO QUE ESTA MÉTRICA TENGA MUCHO SENTIDO"
   ]
  },
  {
   "cell_type": "code",
   "execution_count": 266,
   "metadata": {},
   "outputs": [],
   "source": [
    "def df_pred_summary_noPmax(df):\n",
    "    \n",
    "    df_noPmax = df[df['Price'] != df['Price'].max()]\n",
    "    \n",
    "    return df_noPmax"
   ]
  },
  {
   "cell_type": "code",
   "execution_count": 267,
   "metadata": {},
   "outputs": [],
   "source": [
    "#Looking for maximum price\n",
    "\n",
    "df_TEST_pred_rf_summary_Pmax = df_TEST_pred_rf_summary[df_TEST_pred_rf_summary['Price'] == df_TEST_pred_rf_summary['Price'].max()]"
   ]
  },
  {
   "cell_type": "code",
   "execution_count": 268,
   "metadata": {},
   "outputs": [
    {
     "data": {
      "text/html": [
       "<div>\n",
       "<style scoped>\n",
       "    .dataframe tbody tr th:only-of-type {\n",
       "        vertical-align: middle;\n",
       "    }\n",
       "\n",
       "    .dataframe tbody tr th {\n",
       "        vertical-align: top;\n",
       "    }\n",
       "\n",
       "    .dataframe thead th {\n",
       "        text-align: right;\n",
       "    }\n",
       "</style>\n",
       "<table border=\"1\" class=\"dataframe\">\n",
       "  <thead>\n",
       "    <tr style=\"text-align: right;\">\n",
       "      <th></th>\n",
       "      <th>dE</th>\n",
       "      <th>Price</th>\n",
       "      <th>dE_pred</th>\n",
       "      <th>Price_pred</th>\n",
       "      <th>dE_diff</th>\n",
       "      <th>Price_diff</th>\n",
       "      <th>Area</th>\n",
       "      <th>Area_pred</th>\n",
       "      <th>Area_diff</th>\n",
       "      <th>Area_diff_rel(%)</th>\n",
       "      <th>Period</th>\n",
       "    </tr>\n",
       "  </thead>\n",
       "  <tbody>\n",
       "    <tr>\n",
       "      <th>119</th>\n",
       "      <td>395.60</td>\n",
       "      <td>180.30</td>\n",
       "      <td>288.79</td>\n",
       "      <td>180.30</td>\n",
       "      <td>106.81</td>\n",
       "      <td>0.00</td>\n",
       "      <td>71,326.68</td>\n",
       "      <td>52,068.48</td>\n",
       "      <td>19,258.20</td>\n",
       "      <td>27.00</td>\n",
       "      <td>1</td>\n",
       "    </tr>\n",
       "    <tr>\n",
       "      <th>179</th>\n",
       "      <td>395.60</td>\n",
       "      <td>180.30</td>\n",
       "      <td>150.33</td>\n",
       "      <td>180.30</td>\n",
       "      <td>245.27</td>\n",
       "      <td>0.00</td>\n",
       "      <td>71,326.68</td>\n",
       "      <td>27,104.14</td>\n",
       "      <td>44,222.54</td>\n",
       "      <td>62.00</td>\n",
       "      <td>1</td>\n",
       "    </tr>\n",
       "    <tr>\n",
       "      <th>191</th>\n",
       "      <td>395.60</td>\n",
       "      <td>180.30</td>\n",
       "      <td>257.14</td>\n",
       "      <td>180.30</td>\n",
       "      <td>138.46</td>\n",
       "      <td>0.00</td>\n",
       "      <td>71,326.68</td>\n",
       "      <td>46,362.34</td>\n",
       "      <td>24,964.34</td>\n",
       "      <td>35.00</td>\n",
       "      <td>1</td>\n",
       "    </tr>\n",
       "    <tr>\n",
       "      <th>251</th>\n",
       "      <td>395.60</td>\n",
       "      <td>180.30</td>\n",
       "      <td>257.14</td>\n",
       "      <td>180.30</td>\n",
       "      <td>138.46</td>\n",
       "      <td>0.00</td>\n",
       "      <td>71,326.68</td>\n",
       "      <td>46,362.34</td>\n",
       "      <td>24,964.34</td>\n",
       "      <td>35.00</td>\n",
       "      <td>1</td>\n",
       "    </tr>\n",
       "    <tr>\n",
       "      <th>491</th>\n",
       "      <td>395.60</td>\n",
       "      <td>180.30</td>\n",
       "      <td>269.01</td>\n",
       "      <td>180.30</td>\n",
       "      <td>126.59</td>\n",
       "      <td>0.00</td>\n",
       "      <td>71,326.68</td>\n",
       "      <td>48,502.14</td>\n",
       "      <td>22,824.54</td>\n",
       "      <td>32.00</td>\n",
       "      <td>2</td>\n",
       "    </tr>\n",
       "    <tr>\n",
       "      <th>...</th>\n",
       "      <td>...</td>\n",
       "      <td>...</td>\n",
       "      <td>...</td>\n",
       "      <td>...</td>\n",
       "      <td>...</td>\n",
       "      <td>...</td>\n",
       "      <td>...</td>\n",
       "      <td>...</td>\n",
       "      <td>...</td>\n",
       "      <td>...</td>\n",
       "      <td>...</td>\n",
       "    </tr>\n",
       "    <tr>\n",
       "      <th>8195</th>\n",
       "      <td>395.60</td>\n",
       "      <td>180.30</td>\n",
       "      <td>353.95</td>\n",
       "      <td>180.30</td>\n",
       "      <td>41.65</td>\n",
       "      <td>0.00</td>\n",
       "      <td>71,326.68</td>\n",
       "      <td>63,817.18</td>\n",
       "      <td>7,509.50</td>\n",
       "      <td>10.53</td>\n",
       "      <td>23</td>\n",
       "    </tr>\n",
       "    <tr>\n",
       "      <th>8351</th>\n",
       "      <td>395.60</td>\n",
       "      <td>180.30</td>\n",
       "      <td>45.69</td>\n",
       "      <td>180.30</td>\n",
       "      <td>349.91</td>\n",
       "      <td>0.00</td>\n",
       "      <td>71,326.68</td>\n",
       "      <td>8,238.55</td>\n",
       "      <td>63,088.13</td>\n",
       "      <td>88.45</td>\n",
       "      <td>23</td>\n",
       "    </tr>\n",
       "    <tr>\n",
       "      <th>8723</th>\n",
       "      <td>395.60</td>\n",
       "      <td>180.30</td>\n",
       "      <td>41.60</td>\n",
       "      <td>180.30</td>\n",
       "      <td>354.00</td>\n",
       "      <td>0.00</td>\n",
       "      <td>71,326.68</td>\n",
       "      <td>7,501.30</td>\n",
       "      <td>63,825.38</td>\n",
       "      <td>89.48</td>\n",
       "      <td>24</td>\n",
       "    </tr>\n",
       "    <tr>\n",
       "      <th>8759</th>\n",
       "      <td>275.60</td>\n",
       "      <td>180.30</td>\n",
       "      <td>35.30</td>\n",
       "      <td>180.30</td>\n",
       "      <td>240.30</td>\n",
       "      <td>0.00</td>\n",
       "      <td>49,690.68</td>\n",
       "      <td>6,364.59</td>\n",
       "      <td>43,326.09</td>\n",
       "      <td>87.19</td>\n",
       "      <td>24</td>\n",
       "    </tr>\n",
       "    <tr>\n",
       "      <th>8915</th>\n",
       "      <td>295.60</td>\n",
       "      <td>180.30</td>\n",
       "      <td>39.21</td>\n",
       "      <td>180.30</td>\n",
       "      <td>256.39</td>\n",
       "      <td>0.00</td>\n",
       "      <td>53,296.68</td>\n",
       "      <td>7,069.69</td>\n",
       "      <td>46,226.99</td>\n",
       "      <td>86.74</td>\n",
       "      <td>24</td>\n",
       "    </tr>\n",
       "  </tbody>\n",
       "</table>\n",
       "<p>103 rows × 11 columns</p>\n",
       "</div>"
      ],
      "text/plain": [
       "         dE  Price  dE_pred  Price_pred  dE_diff  Price_diff      Area  \\\n",
       "119  395.60 180.30   288.79      180.30   106.81        0.00 71,326.68   \n",
       "179  395.60 180.30   150.33      180.30   245.27        0.00 71,326.68   \n",
       "191  395.60 180.30   257.14      180.30   138.46        0.00 71,326.68   \n",
       "251  395.60 180.30   257.14      180.30   138.46        0.00 71,326.68   \n",
       "491  395.60 180.30   269.01      180.30   126.59        0.00 71,326.68   \n",
       "...     ...    ...      ...         ...      ...         ...       ...   \n",
       "8195 395.60 180.30   353.95      180.30    41.65        0.00 71,326.68   \n",
       "8351 395.60 180.30    45.69      180.30   349.91        0.00 71,326.68   \n",
       "8723 395.60 180.30    41.60      180.30   354.00        0.00 71,326.68   \n",
       "8759 275.60 180.30    35.30      180.30   240.30        0.00 49,690.68   \n",
       "8915 295.60 180.30    39.21      180.30   256.39        0.00 53,296.68   \n",
       "\n",
       "      Area_pred  Area_diff  Area_diff_rel(%)  Period  \n",
       "119   52,068.48  19,258.20             27.00       1  \n",
       "179   27,104.14  44,222.54             62.00       1  \n",
       "191   46,362.34  24,964.34             35.00       1  \n",
       "251   46,362.34  24,964.34             35.00       1  \n",
       "491   48,502.14  22,824.54             32.00       2  \n",
       "...         ...        ...               ...     ...  \n",
       "8195  63,817.18   7,509.50             10.53      23  \n",
       "8351   8,238.55  63,088.13             88.45      23  \n",
       "8723   7,501.30  63,825.38             89.48      24  \n",
       "8759   6,364.59  43,326.09             87.19      24  \n",
       "8915   7,069.69  46,226.99             86.74      24  \n",
       "\n",
       "[103 rows x 11 columns]"
      ]
     },
     "execution_count": 268,
     "metadata": {},
     "output_type": "execute_result"
    }
   ],
   "source": [
    "df_TEST_pred_rf_summary_Pmax[df_TEST_pred_rf_summary_Pmax['dE_diff']>1]"
   ]
  },
  {
   "cell_type": "code",
   "execution_count": 269,
   "metadata": {
    "scrolled": true
   },
   "outputs": [
    {
     "data": {
      "text/html": [
       "<div>\n",
       "<style scoped>\n",
       "    .dataframe tbody tr th:only-of-type {\n",
       "        vertical-align: middle;\n",
       "    }\n",
       "\n",
       "    .dataframe tbody tr th {\n",
       "        vertical-align: top;\n",
       "    }\n",
       "\n",
       "    .dataframe thead th {\n",
       "        text-align: right;\n",
       "    }\n",
       "</style>\n",
       "<table border=\"1\" class=\"dataframe\">\n",
       "  <thead>\n",
       "    <tr style=\"text-align: right;\">\n",
       "      <th></th>\n",
       "      <th>dE</th>\n",
       "      <th>Price</th>\n",
       "      <th>dE_pred</th>\n",
       "      <th>Price_pred</th>\n",
       "      <th>dE_diff</th>\n",
       "      <th>Price_diff</th>\n",
       "      <th>Area</th>\n",
       "      <th>Area_pred</th>\n",
       "      <th>Area_diff</th>\n",
       "      <th>Area_diff_rel(%)</th>\n",
       "      <th>Period</th>\n",
       "    </tr>\n",
       "  </thead>\n",
       "  <tbody>\n",
       "    <tr>\n",
       "      <th>84</th>\n",
       "      <td>150.30</td>\n",
       "      <td>1.13</td>\n",
       "      <td>0.00</td>\n",
       "      <td>180.30</td>\n",
       "      <td>150.30</td>\n",
       "      <td>-179.17</td>\n",
       "      <td>169.84</td>\n",
       "      <td>0.00</td>\n",
       "      <td>169.84</td>\n",
       "      <td>100.00</td>\n",
       "      <td>1</td>\n",
       "    </tr>\n",
       "    <tr>\n",
       "      <th>85</th>\n",
       "      <td>21.00</td>\n",
       "      <td>30.25</td>\n",
       "      <td>0.00</td>\n",
       "      <td>180.30</td>\n",
       "      <td>21.00</td>\n",
       "      <td>-150.05</td>\n",
       "      <td>635.25</td>\n",
       "      <td>0.00</td>\n",
       "      <td>635.25</td>\n",
       "      <td>100.00</td>\n",
       "      <td>1</td>\n",
       "    </tr>\n",
       "    <tr>\n",
       "      <th>86</th>\n",
       "      <td>21.00</td>\n",
       "      <td>30.87</td>\n",
       "      <td>0.00</td>\n",
       "      <td>180.30</td>\n",
       "      <td>21.00</td>\n",
       "      <td>-149.43</td>\n",
       "      <td>648.27</td>\n",
       "      <td>0.00</td>\n",
       "      <td>648.27</td>\n",
       "      <td>100.00</td>\n",
       "      <td>1</td>\n",
       "    </tr>\n",
       "    <tr>\n",
       "      <th>87</th>\n",
       "      <td>21.00</td>\n",
       "      <td>31.49</td>\n",
       "      <td>0.00</td>\n",
       "      <td>180.30</td>\n",
       "      <td>21.00</td>\n",
       "      <td>-148.81</td>\n",
       "      <td>661.29</td>\n",
       "      <td>0.00</td>\n",
       "      <td>661.29</td>\n",
       "      <td>100.00</td>\n",
       "      <td>1</td>\n",
       "    </tr>\n",
       "    <tr>\n",
       "      <th>88</th>\n",
       "      <td>21.00</td>\n",
       "      <td>32.11</td>\n",
       "      <td>0.00</td>\n",
       "      <td>180.30</td>\n",
       "      <td>21.00</td>\n",
       "      <td>-148.19</td>\n",
       "      <td>674.31</td>\n",
       "      <td>0.00</td>\n",
       "      <td>674.31</td>\n",
       "      <td>100.00</td>\n",
       "      <td>1</td>\n",
       "    </tr>\n",
       "  </tbody>\n",
       "</table>\n",
       "</div>"
      ],
      "text/plain": [
       "       dE  Price  dE_pred  Price_pred  dE_diff  Price_diff   Area  Area_pred  \\\n",
       "84 150.30   1.13     0.00      180.30   150.30     -179.17 169.84       0.00   \n",
       "85  21.00  30.25     0.00      180.30    21.00     -150.05 635.25       0.00   \n",
       "86  21.00  30.87     0.00      180.30    21.00     -149.43 648.27       0.00   \n",
       "87  21.00  31.49     0.00      180.30    21.00     -148.81 661.29       0.00   \n",
       "88  21.00  32.11     0.00      180.30    21.00     -148.19 674.31       0.00   \n",
       "\n",
       "    Area_diff  Area_diff_rel(%)  Period  \n",
       "84     169.84            100.00       1  \n",
       "85     635.25            100.00       1  \n",
       "86     648.27            100.00       1  \n",
       "87     661.29            100.00       1  \n",
       "88     674.31            100.00       1  "
      ]
     },
     "execution_count": 269,
     "metadata": {},
     "output_type": "execute_result"
    }
   ],
   "source": [
    "#df without Pmax Areas\n",
    "\n",
    "df_TEST_pred_rf_summary_noPmax = df_pred_summary_noPmax(df_TEST_pred_rf_summary)\n",
    "df_TEST_pred_rf_summary_noPmax.head()"
   ]
  },
  {
   "cell_type": "code",
   "execution_count": 270,
   "metadata": {
    "scrolled": true
   },
   "outputs": [
    {
     "data": {
      "text/html": [
       "<div>\n",
       "<style scoped>\n",
       "    .dataframe tbody tr th:only-of-type {\n",
       "        vertical-align: middle;\n",
       "    }\n",
       "\n",
       "    .dataframe tbody tr th {\n",
       "        vertical-align: top;\n",
       "    }\n",
       "\n",
       "    .dataframe thead th {\n",
       "        text-align: right;\n",
       "    }\n",
       "</style>\n",
       "<table border=\"1\" class=\"dataframe\">\n",
       "  <thead>\n",
       "    <tr style=\"text-align: right;\">\n",
       "      <th></th>\n",
       "      <th>dE</th>\n",
       "      <th>Price</th>\n",
       "      <th>dE_pred</th>\n",
       "      <th>Price_pred</th>\n",
       "      <th>dE_diff</th>\n",
       "      <th>Price_diff</th>\n",
       "      <th>Area</th>\n",
       "      <th>Area_pred</th>\n",
       "      <th>Area_diff</th>\n",
       "      <th>Area_diff_rel(%)</th>\n",
       "      <th>Period</th>\n",
       "    </tr>\n",
       "  </thead>\n",
       "  <tbody>\n",
       "    <tr>\n",
       "      <th>count</th>\n",
       "      <td>5,563.00</td>\n",
       "      <td>5,563.00</td>\n",
       "      <td>5,563.00</td>\n",
       "      <td>5,563.00</td>\n",
       "      <td>5,563.00</td>\n",
       "      <td>5,563.00</td>\n",
       "      <td>5,563.00</td>\n",
       "      <td>5,563.00</td>\n",
       "      <td>5,563.00</td>\n",
       "      <td>5,563.00</td>\n",
       "      <td>5,563.00</td>\n",
       "    </tr>\n",
       "    <tr>\n",
       "      <th>mean</th>\n",
       "      <td>33.60</td>\n",
       "      <td>32.03</td>\n",
       "      <td>31.28</td>\n",
       "      <td>45.76</td>\n",
       "      <td>2.32</td>\n",
       "      <td>-13.74</td>\n",
       "      <td>681.50</td>\n",
       "      <td>782.34</td>\n",
       "      <td>-100.84</td>\n",
       "      <td>-33.85</td>\n",
       "      <td>15.43</td>\n",
       "    </tr>\n",
       "    <tr>\n",
       "      <th>std</th>\n",
       "      <td>38.10</td>\n",
       "      <td>11.06</td>\n",
       "      <td>36.86</td>\n",
       "      <td>38.91</td>\n",
       "      <td>13.38</td>\n",
       "      <td>37.59</td>\n",
       "      <td>195.89</td>\n",
       "      <td>637.22</td>\n",
       "      <td>630.15</td>\n",
       "      <td>266.04</td>\n",
       "      <td>5.12</td>\n",
       "    </tr>\n",
       "    <tr>\n",
       "      <th>min</th>\n",
       "      <td>0.70</td>\n",
       "      <td>1.13</td>\n",
       "      <td>0.00</td>\n",
       "      <td>1.13</td>\n",
       "      <td>-100.30</td>\n",
       "      <td>-179.17</td>\n",
       "      <td>22.60</td>\n",
       "      <td>0.00</td>\n",
       "      <td>-7,417.17</td>\n",
       "      <td>-4,367.18</td>\n",
       "      <td>1.00</td>\n",
       "    </tr>\n",
       "    <tr>\n",
       "      <th>25%</th>\n",
       "      <td>21.00</td>\n",
       "      <td>31.63</td>\n",
       "      <td>21.00</td>\n",
       "      <td>33.84</td>\n",
       "      <td>0.00</td>\n",
       "      <td>-4.30</td>\n",
       "      <td>661.29</td>\n",
       "      <td>673.94</td>\n",
       "      <td>-49.91</td>\n",
       "      <td>-6.79</td>\n",
       "      <td>11.00</td>\n",
       "    </tr>\n",
       "    <tr>\n",
       "      <th>50%</th>\n",
       "      <td>21.00</td>\n",
       "      <td>34.78</td>\n",
       "      <td>21.00</td>\n",
       "      <td>36.54</td>\n",
       "      <td>0.00</td>\n",
       "      <td>-0.13</td>\n",
       "      <td>728.70</td>\n",
       "      <td>755.93</td>\n",
       "      <td>-1.28</td>\n",
       "      <td>-0.18</td>\n",
       "      <td>16.00</td>\n",
       "    </tr>\n",
       "    <tr>\n",
       "      <th>75%</th>\n",
       "      <td>21.00</td>\n",
       "      <td>37.77</td>\n",
       "      <td>21.00</td>\n",
       "      <td>40.52</td>\n",
       "      <td>0.00</td>\n",
       "      <td>0.04</td>\n",
       "      <td>786.87</td>\n",
       "      <td>821.76</td>\n",
       "      <td>2.60</td>\n",
       "      <td>0.36</td>\n",
       "      <td>20.00</td>\n",
       "    </tr>\n",
       "    <tr>\n",
       "      <th>max</th>\n",
       "      <td>150.30</td>\n",
       "      <td>45.68</td>\n",
       "      <td>150.30</td>\n",
       "      <td>180.30</td>\n",
       "      <td>150.30</td>\n",
       "      <td>32.41</td>\n",
       "      <td>945.58</td>\n",
       "      <td>7,587.01</td>\n",
       "      <td>945.58</td>\n",
       "      <td>100.00</td>\n",
       "      <td>24.00</td>\n",
       "    </tr>\n",
       "  </tbody>\n",
       "</table>\n",
       "</div>"
      ],
      "text/plain": [
       "            dE    Price  dE_pred  Price_pred  dE_diff  Price_diff     Area  \\\n",
       "count 5,563.00 5,563.00 5,563.00    5,563.00 5,563.00    5,563.00 5,563.00   \n",
       "mean     33.60    32.03    31.28       45.76     2.32      -13.74   681.50   \n",
       "std      38.10    11.06    36.86       38.91    13.38       37.59   195.89   \n",
       "min       0.70     1.13     0.00        1.13  -100.30     -179.17    22.60   \n",
       "25%      21.00    31.63    21.00       33.84     0.00       -4.30   661.29   \n",
       "50%      21.00    34.78    21.00       36.54     0.00       -0.13   728.70   \n",
       "75%      21.00    37.77    21.00       40.52     0.00        0.04   786.87   \n",
       "max     150.30    45.68   150.30      180.30   150.30       32.41   945.58   \n",
       "\n",
       "       Area_pred  Area_diff  Area_diff_rel(%)   Period  \n",
       "count   5,563.00   5,563.00          5,563.00 5,563.00  \n",
       "mean      782.34    -100.84            -33.85    15.43  \n",
       "std       637.22     630.15            266.04     5.12  \n",
       "min         0.00  -7,417.17         -4,367.18     1.00  \n",
       "25%       673.94     -49.91             -6.79    11.00  \n",
       "50%       755.93      -1.28             -0.18    16.00  \n",
       "75%       821.76       2.60              0.36    20.00  \n",
       "max     7,587.01     945.58            100.00    24.00  "
      ]
     },
     "execution_count": 270,
     "metadata": {},
     "output_type": "execute_result"
    }
   ],
   "source": [
    "df_TEST_pred_rf_summary_noPmax.describe()"
   ]
  },
  {
   "cell_type": "code",
   "execution_count": null,
   "metadata": {},
   "outputs": [],
   "source": []
  },
  {
   "cell_type": "code",
   "execution_count": 271,
   "metadata": {},
   "outputs": [
    {
     "data": {
      "text/plain": [
       "-100.83840639162395"
      ]
     },
     "execution_count": 271,
     "metadata": {},
     "output_type": "execute_result"
    }
   ],
   "source": [
    "df_TEST_pred_rf_summary_noPmax['Area_diff'].mean()"
   ]
  },
  {
   "cell_type": "code",
   "execution_count": 272,
   "metadata": {},
   "outputs": [
    {
     "data": {
      "text/plain": [
       "(-100.83840639162395, -14.796563599242058)"
      ]
     },
     "execution_count": 272,
     "metadata": {},
     "output_type": "execute_result"
    }
   ],
   "source": [
    "Area_pred_noPmax_mean_error_TEST = df_TEST_pred_rf_summary_noPmax['Area_diff'].mean()\n",
    "Area_pred_noPmax_mean_error_TEST_rel = df_TEST_pred_rf_summary_noPmax['Area_diff'].mean() / df_TEST_pred_rf_summary_noPmax['Area'].mean() * 100\n",
    "Area_pred_noPmax_mean_error_TEST, Area_pred_noPmax_mean_error_TEST_rel"
   ]
  },
  {
   "cell_type": "code",
   "execution_count": null,
   "metadata": {},
   "outputs": [],
   "source": []
  },
  {
   "cell_type": "code",
   "execution_count": 273,
   "metadata": {},
   "outputs": [
    {
     "data": {
      "text/plain": [
       "182.9755449190705"
      ]
     },
     "execution_count": 273,
     "metadata": {},
     "output_type": "execute_result"
    }
   ],
   "source": [
    "#MAE for Area and Area_pred without Pmax\n",
    "\n",
    "mae_area_noPmax_pred_TEST = mean_absolute_error(df_TEST_pred_rf_summary_noPmax['Area'],df_TEST_pred_rf_summary_noPmax['Area_pred'])\n",
    "mae_area_noPmax_pred_TEST"
   ]
  },
  {
   "cell_type": "code",
   "execution_count": 274,
   "metadata": {},
   "outputs": [
    {
     "data": {
      "text/plain": [
       "638.1108653450051"
      ]
     },
     "execution_count": 274,
     "metadata": {},
     "output_type": "execute_result"
    }
   ],
   "source": [
    "#RMSE for Area and Area_pred without Pmax\n",
    "\n",
    "rmse_area_noPmax_pred_TEST = (np.sqrt(mean_squared_error(df_TEST_pred_rf_summary_noPmax['Area'],df_TEST_pred_rf_summary_noPmax['Area_pred'])))\n",
    "rmse_area_noPmax_pred_TEST"
   ]
  },
  {
   "cell_type": "code",
   "execution_count": null,
   "metadata": {},
   "outputs": [],
   "source": []
  },
  {
   "cell_type": "markdown",
   "metadata": {},
   "source": [
    "### RANDOM FOREST AREA METRIC EVALUATION - HYPERPARAMENTERS"
   ]
  },
  {
   "cell_type": "code",
   "execution_count": 275,
   "metadata": {},
   "outputs": [],
   "source": [
    "df_TEST_pred_rf_grid_summary  = df_pred_summary(y_dE_TEST, y_dE_TEST_pred_rf_grid)"
   ]
  },
  {
   "cell_type": "code",
   "execution_count": 276,
   "metadata": {},
   "outputs": [
    {
     "data": {
      "text/plain": [
       "(-79.2031666079616, -3.0537964217923976)"
      ]
     },
     "execution_count": 276,
     "metadata": {},
     "output_type": "execute_result"
    }
   ],
   "source": [
    "Area_pred_grid_mean_error_TEST = df_TEST_pred_rf_grid_summary['Area_diff'].mean()\n",
    "Area_pred_grid_mean_error_TEST_rel = df_TEST_pred_rf_grid_summary['Area_diff'].mean() / df_TEST_pred_rf_grid_summary['Area'].mean() * 100\n",
    "Area_pred_grid_mean_error_TEST, Area_pred_grid_mean_error_TEST_rel"
   ]
  },
  {
   "cell_type": "code",
   "execution_count": 277,
   "metadata": {},
   "outputs": [
    {
     "data": {
      "text/plain": [
       "660.8688251105012"
      ]
     },
     "execution_count": 277,
     "metadata": {},
     "output_type": "execute_result"
    }
   ],
   "source": [
    "#MAE for Area and Area_pred\n",
    "\n",
    "mae_area_pred_grid_TEST = mean_absolute_error(df_TEST_pred_rf_grid_summary['Area'],df_TEST_pred_rf_grid_summary['Area_pred'])\n",
    "mae_area_pred_grid_TEST"
   ]
  },
  {
   "cell_type": "code",
   "execution_count": 278,
   "metadata": {},
   "outputs": [
    {
     "data": {
      "text/plain": [
       "4274.160445303199"
      ]
     },
     "execution_count": 278,
     "metadata": {},
     "output_type": "execute_result"
    }
   ],
   "source": [
    "#RMSE for Area and Area_pred\n",
    "\n",
    "rmse_area_pred_grid_TEST = (np.sqrt(mean_squared_error(df_TEST_pred_rf_grid_summary['Area'],df_TEST_pred_rf_grid_summary['Area_pred'])))\n",
    "rmse_area_pred_grid_TEST"
   ]
  },
  {
   "cell_type": "code",
   "execution_count": null,
   "metadata": {},
   "outputs": [],
   "source": []
  },
  {
   "cell_type": "markdown",
   "metadata": {},
   "source": [
    "#### METRICS FOR RANDOM FOREST WITHOUT PRICE MAX PREDICTIONS"
   ]
  },
  {
   "cell_type": "code",
   "execution_count": 279,
   "metadata": {},
   "outputs": [],
   "source": [
    "df_TEST_pred_grid_summary_noPmax = df_pred_summary_noPmax(df_TEST_pred_rf_grid_summary)"
   ]
  },
  {
   "cell_type": "code",
   "execution_count": 280,
   "metadata": {},
   "outputs": [
    {
     "data": {
      "text/plain": [
       "-132.44660282717322"
      ]
     },
     "execution_count": 280,
     "metadata": {},
     "output_type": "execute_result"
    }
   ],
   "source": [
    "df_TEST_pred_grid_summary_noPmax['Area_diff'].mean()"
   ]
  },
  {
   "cell_type": "code",
   "execution_count": 281,
   "metadata": {},
   "outputs": [
    {
     "data": {
      "text/plain": [
       "(-132.44660282717322, -19.43460485308311)"
      ]
     },
     "execution_count": 281,
     "metadata": {},
     "output_type": "execute_result"
    }
   ],
   "source": [
    "Area_pred_grid_noPmax_mean_error_TEST = df_TEST_pred_grid_summary_noPmax['Area_diff'].mean()\n",
    "Area_pred_grid_noPmax_mean_error_TEST_rel = df_TEST_pred_grid_summary_noPmax['Area_diff'].mean() / df_TEST_pred_grid_summary_noPmax['Area'].mean() * 100\n",
    "Area_pred_grid_noPmax_mean_error_TEST, Area_pred_grid_noPmax_mean_error_TEST_rel"
   ]
  },
  {
   "cell_type": "code",
   "execution_count": null,
   "metadata": {},
   "outputs": [],
   "source": []
  },
  {
   "cell_type": "code",
   "execution_count": 282,
   "metadata": {},
   "outputs": [
    {
     "data": {
      "text/plain": [
       "190.86382804379622"
      ]
     },
     "execution_count": 282,
     "metadata": {},
     "output_type": "execute_result"
    }
   ],
   "source": [
    "#MAE for Area and Area_pred without Pmax\n",
    "\n",
    "mae_area_noPmax_pred_grid_TEST = mean_absolute_error(df_TEST_pred_grid_summary_noPmax['Area'],df_TEST_pred_grid_summary_noPmax['Area_pred'])\n",
    "mae_area_noPmax_pred_grid_TEST"
   ]
  },
  {
   "cell_type": "code",
   "execution_count": 283,
   "metadata": {},
   "outputs": [
    {
     "data": {
      "text/plain": [
       "714.7148042192047"
      ]
     },
     "execution_count": 283,
     "metadata": {},
     "output_type": "execute_result"
    }
   ],
   "source": [
    "#RMSE for Area and Area_pred without Pmax\n",
    "\n",
    "rmse_area_noPmax_pred_grid_TEST = (np.sqrt(mean_squared_error(df_TEST_pred_grid_summary_noPmax['Area'],df_TEST_pred_grid_summary_noPmax['Area_pred'])))\n",
    "rmse_area_noPmax_pred_grid_TEST"
   ]
  },
  {
   "cell_type": "code",
   "execution_count": null,
   "metadata": {},
   "outputs": [],
   "source": []
  },
  {
   "cell_type": "markdown",
   "metadata": {},
   "source": [
    "### XGBOOST AREA METRIC EVALUATION"
   ]
  },
  {
   "cell_type": "code",
   "execution_count": 284,
   "metadata": {},
   "outputs": [],
   "source": [
    "df_TEST_pred_XGB_summary  = df_pred_summary(y_dE_TEST, y_dE_TEST_pred_XGB)"
   ]
  },
  {
   "cell_type": "code",
   "execution_count": 285,
   "metadata": {},
   "outputs": [
    {
     "data": {
      "text/plain": [
       "-207.28029348215694"
      ]
     },
     "execution_count": 285,
     "metadata": {},
     "output_type": "execute_result"
    }
   ],
   "source": [
    "df_TEST_pred_XGB_summary['Area_diff'].mean()"
   ]
  },
  {
   "cell_type": "code",
   "execution_count": 286,
   "metadata": {},
   "outputs": [
    {
     "data": {
      "text/plain": [
       "(-207.28029348215694, -7.992001401624008)"
      ]
     },
     "execution_count": 286,
     "metadata": {},
     "output_type": "execute_result"
    }
   ],
   "source": [
    "Area_pred_XGB_mean_error_TEST = df_TEST_pred_XGB_summary['Area_diff'].mean()\n",
    "Area_pred_XGB_mean_error_TEST_rel = df_TEST_pred_XGB_summary['Area_diff'].mean() / df_TEST_pred_XGB_summary['Area'].mean() * 100\n",
    "Area_pred_XGB_mean_error_TEST, Area_pred_XGB_mean_error_TEST_rel"
   ]
  },
  {
   "cell_type": "code",
   "execution_count": 287,
   "metadata": {},
   "outputs": [
    {
     "data": {
      "text/plain": [
       "620.4893813125566"
      ]
     },
     "execution_count": 287,
     "metadata": {},
     "output_type": "execute_result"
    }
   ],
   "source": [
    "#MAE for Area and Area_pred\n",
    "\n",
    "mae_area_pred_XGB_TEST = mean_absolute_error(df_TEST_pred_XGB_summary['Area'],df_TEST_pred_XGB_summary['Area_pred'])\n",
    "mae_area_pred_XGB_TEST"
   ]
  },
  {
   "cell_type": "code",
   "execution_count": 288,
   "metadata": {},
   "outputs": [
    {
     "data": {
      "text/plain": [
       "4558.746540240402"
      ]
     },
     "execution_count": 288,
     "metadata": {},
     "output_type": "execute_result"
    }
   ],
   "source": [
    "#RMSE for Area and Area_pred\n",
    "\n",
    "rmse_area_pred_XGB_TEST = (np.sqrt(mean_squared_error(df_TEST_pred_XGB_summary['Area'],df_TEST_pred_XGB_summary['Area_pred'])))\n",
    "rmse_area_pred_XGB_TEST"
   ]
  },
  {
   "cell_type": "code",
   "execution_count": null,
   "metadata": {},
   "outputs": [],
   "source": []
  },
  {
   "cell_type": "markdown",
   "metadata": {},
   "source": [
    "#### METRICS FOR XGBOOST WITHOUT PRICE MAX PREDICTIONS"
   ]
  },
  {
   "cell_type": "code",
   "execution_count": 289,
   "metadata": {},
   "outputs": [
    {
     "data": {
      "text/html": [
       "<div>\n",
       "<style scoped>\n",
       "    .dataframe tbody tr th:only-of-type {\n",
       "        vertical-align: middle;\n",
       "    }\n",
       "\n",
       "    .dataframe tbody tr th {\n",
       "        vertical-align: top;\n",
       "    }\n",
       "\n",
       "    .dataframe thead th {\n",
       "        text-align: right;\n",
       "    }\n",
       "</style>\n",
       "<table border=\"1\" class=\"dataframe\">\n",
       "  <thead>\n",
       "    <tr style=\"text-align: right;\">\n",
       "      <th></th>\n",
       "      <th>dE</th>\n",
       "      <th>Price</th>\n",
       "      <th>dE_pred</th>\n",
       "      <th>Price_pred</th>\n",
       "      <th>dE_diff</th>\n",
       "      <th>Price_diff</th>\n",
       "      <th>Area</th>\n",
       "      <th>Area_pred</th>\n",
       "      <th>Area_diff</th>\n",
       "      <th>Area_diff_rel(%)</th>\n",
       "      <th>Period</th>\n",
       "    </tr>\n",
       "  </thead>\n",
       "  <tbody>\n",
       "    <tr>\n",
       "      <th>84</th>\n",
       "      <td>150.30</td>\n",
       "      <td>1.13</td>\n",
       "      <td>0.00</td>\n",
       "      <td>180.30</td>\n",
       "      <td>150.30</td>\n",
       "      <td>-179.17</td>\n",
       "      <td>169.84</td>\n",
       "      <td>0.00</td>\n",
       "      <td>169.84</td>\n",
       "      <td>100.00</td>\n",
       "      <td>1</td>\n",
       "    </tr>\n",
       "    <tr>\n",
       "      <th>85</th>\n",
       "      <td>21.00</td>\n",
       "      <td>30.25</td>\n",
       "      <td>0.00</td>\n",
       "      <td>180.30</td>\n",
       "      <td>21.00</td>\n",
       "      <td>-150.05</td>\n",
       "      <td>635.25</td>\n",
       "      <td>0.00</td>\n",
       "      <td>635.25</td>\n",
       "      <td>100.00</td>\n",
       "      <td>1</td>\n",
       "    </tr>\n",
       "    <tr>\n",
       "      <th>86</th>\n",
       "      <td>21.00</td>\n",
       "      <td>30.87</td>\n",
       "      <td>0.00</td>\n",
       "      <td>180.30</td>\n",
       "      <td>21.00</td>\n",
       "      <td>-149.43</td>\n",
       "      <td>648.27</td>\n",
       "      <td>0.00</td>\n",
       "      <td>648.27</td>\n",
       "      <td>100.00</td>\n",
       "      <td>1</td>\n",
       "    </tr>\n",
       "    <tr>\n",
       "      <th>87</th>\n",
       "      <td>21.00</td>\n",
       "      <td>31.49</td>\n",
       "      <td>0.00</td>\n",
       "      <td>180.30</td>\n",
       "      <td>21.00</td>\n",
       "      <td>-148.81</td>\n",
       "      <td>661.29</td>\n",
       "      <td>0.00</td>\n",
       "      <td>661.29</td>\n",
       "      <td>100.00</td>\n",
       "      <td>1</td>\n",
       "    </tr>\n",
       "    <tr>\n",
       "      <th>88</th>\n",
       "      <td>21.00</td>\n",
       "      <td>32.11</td>\n",
       "      <td>0.00</td>\n",
       "      <td>180.30</td>\n",
       "      <td>21.00</td>\n",
       "      <td>-148.19</td>\n",
       "      <td>674.31</td>\n",
       "      <td>0.00</td>\n",
       "      <td>674.31</td>\n",
       "      <td>100.00</td>\n",
       "      <td>1</td>\n",
       "    </tr>\n",
       "    <tr>\n",
       "      <th>...</th>\n",
       "      <td>...</td>\n",
       "      <td>...</td>\n",
       "      <td>...</td>\n",
       "      <td>...</td>\n",
       "      <td>...</td>\n",
       "      <td>...</td>\n",
       "      <td>...</td>\n",
       "      <td>...</td>\n",
       "      <td>...</td>\n",
       "      <td>...</td>\n",
       "      <td>...</td>\n",
       "    </tr>\n",
       "    <tr>\n",
       "      <th>8900</th>\n",
       "      <td>21.00</td>\n",
       "      <td>39.65</td>\n",
       "      <td>0.38</td>\n",
       "      <td>180.30</td>\n",
       "      <td>20.62</td>\n",
       "      <td>-140.65</td>\n",
       "      <td>832.65</td>\n",
       "      <td>67.67</td>\n",
       "      <td>764.98</td>\n",
       "      <td>91.87</td>\n",
       "      <td>24</td>\n",
       "    </tr>\n",
       "    <tr>\n",
       "      <th>8901</th>\n",
       "      <td>21.00</td>\n",
       "      <td>40.84</td>\n",
       "      <td>0.38</td>\n",
       "      <td>180.41</td>\n",
       "      <td>20.62</td>\n",
       "      <td>-139.57</td>\n",
       "      <td>857.64</td>\n",
       "      <td>67.71</td>\n",
       "      <td>789.93</td>\n",
       "      <td>92.10</td>\n",
       "      <td>24</td>\n",
       "    </tr>\n",
       "    <tr>\n",
       "      <th>8902</th>\n",
       "      <td>20.70</td>\n",
       "      <td>42.53</td>\n",
       "      <td>0.38</td>\n",
       "      <td>180.30</td>\n",
       "      <td>20.32</td>\n",
       "      <td>-137.77</td>\n",
       "      <td>880.37</td>\n",
       "      <td>67.67</td>\n",
       "      <td>812.70</td>\n",
       "      <td>92.31</td>\n",
       "      <td>24</td>\n",
       "    </tr>\n",
       "    <tr>\n",
       "      <th>8904</th>\n",
       "      <td>100.00</td>\n",
       "      <td>1.13</td>\n",
       "      <td>150.26</td>\n",
       "      <td>2.34</td>\n",
       "      <td>-50.26</td>\n",
       "      <td>-1.21</td>\n",
       "      <td>113.00</td>\n",
       "      <td>350.87</td>\n",
       "      <td>-237.87</td>\n",
       "      <td>-210.51</td>\n",
       "      <td>24</td>\n",
       "    </tr>\n",
       "    <tr>\n",
       "      <th>8916</th>\n",
       "      <td>100.00</td>\n",
       "      <td>1.13</td>\n",
       "      <td>93.80</td>\n",
       "      <td>4.26</td>\n",
       "      <td>6.20</td>\n",
       "      <td>-3.13</td>\n",
       "      <td>113.00</td>\n",
       "      <td>399.87</td>\n",
       "      <td>-286.87</td>\n",
       "      <td>-253.86</td>\n",
       "      <td>24</td>\n",
       "    </tr>\n",
       "  </tbody>\n",
       "</table>\n",
       "<p>5563 rows × 11 columns</p>\n",
       "</div>"
      ],
      "text/plain": [
       "         dE  Price  dE_pred  Price_pred  dE_diff  Price_diff   Area  \\\n",
       "84   150.30   1.13     0.00      180.30   150.30     -179.17 169.84   \n",
       "85    21.00  30.25     0.00      180.30    21.00     -150.05 635.25   \n",
       "86    21.00  30.87     0.00      180.30    21.00     -149.43 648.27   \n",
       "87    21.00  31.49     0.00      180.30    21.00     -148.81 661.29   \n",
       "88    21.00  32.11     0.00      180.30    21.00     -148.19 674.31   \n",
       "...     ...    ...      ...         ...      ...         ...    ...   \n",
       "8900  21.00  39.65     0.38      180.30    20.62     -140.65 832.65   \n",
       "8901  21.00  40.84     0.38      180.41    20.62     -139.57 857.64   \n",
       "8902  20.70  42.53     0.38      180.30    20.32     -137.77 880.37   \n",
       "8904 100.00   1.13   150.26        2.34   -50.26       -1.21 113.00   \n",
       "8916 100.00   1.13    93.80        4.26     6.20       -3.13 113.00   \n",
       "\n",
       "      Area_pred  Area_diff  Area_diff_rel(%)  Period  \n",
       "84         0.00     169.84            100.00       1  \n",
       "85         0.00     635.25            100.00       1  \n",
       "86         0.00     648.27            100.00       1  \n",
       "87         0.00     661.29            100.00       1  \n",
       "88         0.00     674.31            100.00       1  \n",
       "...         ...        ...               ...     ...  \n",
       "8900      67.67     764.98             91.87      24  \n",
       "8901      67.71     789.93             92.10      24  \n",
       "8902      67.67     812.70             92.31      24  \n",
       "8904     350.87    -237.87           -210.51      24  \n",
       "8916     399.87    -286.87           -253.86      24  \n",
       "\n",
       "[5563 rows x 11 columns]"
      ]
     },
     "execution_count": 289,
     "metadata": {},
     "output_type": "execute_result"
    }
   ],
   "source": [
    "df_TEST_pred_XGB_summary_noPmax = df_pred_summary_noPmax(df_TEST_pred_XGB_summary)\n",
    "df_TEST_pred_XGB_summary_noPmax"
   ]
  },
  {
   "cell_type": "code",
   "execution_count": 290,
   "metadata": {},
   "outputs": [
    {
     "data": {
      "text/plain": [
       "-28.372137527254345"
      ]
     },
     "execution_count": 290,
     "metadata": {},
     "output_type": "execute_result"
    }
   ],
   "source": [
    "df_TEST_pred_XGB_summary_noPmax['Area_diff'].mean()"
   ]
  },
  {
   "cell_type": "code",
   "execution_count": 291,
   "metadata": {},
   "outputs": [
    {
     "data": {
      "text/plain": [
       "(-28.372137527254345, -4.163196865071961)"
      ]
     },
     "execution_count": 291,
     "metadata": {},
     "output_type": "execute_result"
    }
   ],
   "source": [
    "Area_pred_XGB_noPmax_mean_error_TEST = df_TEST_pred_XGB_summary_noPmax['Area_diff'].mean()\n",
    "Area_pred_XGB_noPmax_mean_error_TEST_rel = df_TEST_pred_XGB_summary_noPmax['Area_diff'].mean() / df_TEST_pred_XGB_summary_noPmax['Area'].mean() * 100\n",
    "Area_pred_XGB_noPmax_mean_error_TEST, Area_pred_XGB_noPmax_mean_error_TEST_rel"
   ]
  },
  {
   "cell_type": "code",
   "execution_count": null,
   "metadata": {},
   "outputs": [],
   "source": []
  },
  {
   "cell_type": "code",
   "execution_count": 292,
   "metadata": {},
   "outputs": [
    {
     "data": {
      "text/plain": [
       "119.26498798261626"
      ]
     },
     "execution_count": 292,
     "metadata": {},
     "output_type": "execute_result"
    }
   ],
   "source": [
    "#MAE for Area and Area_pred without Pmax\n",
    "\n",
    "mae_area_noPmax_pred_XGB_TEST = mean_absolute_error(df_TEST_pred_XGB_summary_noPmax['Area'],df_TEST_pred_XGB_summary_noPmax['Area_pred'])\n",
    "mae_area_noPmax_pred_XGB_TEST"
   ]
  },
  {
   "cell_type": "code",
   "execution_count": 293,
   "metadata": {},
   "outputs": [
    {
     "data": {
      "text/plain": [
       "422.0465968695486"
      ]
     },
     "execution_count": 293,
     "metadata": {},
     "output_type": "execute_result"
    }
   ],
   "source": [
    "#RMSE for Area and Area_pred without Pmax\n",
    "\n",
    "rmse_area_noPmax_pred_XGB_TEST = (np.sqrt(mean_squared_error(df_TEST_pred_XGB_summary_noPmax['Area'],df_TEST_pred_XGB_summary_noPmax['Area_pred'])))\n",
    "rmse_area_noPmax_pred_XGB_TEST"
   ]
  },
  {
   "cell_type": "code",
   "execution_count": null,
   "metadata": {},
   "outputs": [],
   "source": []
  },
  {
   "cell_type": "markdown",
   "metadata": {},
   "source": [
    "### XGBOOST - HYPERPARMETERS - AREA METRIC EVALUATION"
   ]
  },
  {
   "cell_type": "code",
   "execution_count": null,
   "metadata": {},
   "outputs": [],
   "source": []
  },
  {
   "cell_type": "code",
   "execution_count": 294,
   "metadata": {},
   "outputs": [],
   "source": [
    "df_TEST_pred_XGB_grid_summary  = df_pred_summary(y_dE_TEST, y_dE_TEST_pred_chain_XGB_grid)"
   ]
  },
  {
   "cell_type": "code",
   "execution_count": null,
   "metadata": {},
   "outputs": [],
   "source": []
  },
  {
   "cell_type": "code",
   "execution_count": 295,
   "metadata": {},
   "outputs": [
    {
     "data": {
      "text/plain": [
       "-164.15194624716383"
      ]
     },
     "execution_count": 295,
     "metadata": {},
     "output_type": "execute_result"
    }
   ],
   "source": [
    "df_TEST_pred_XGB_grid_summary['Area_diff'].mean()"
   ]
  },
  {
   "cell_type": "code",
   "execution_count": 296,
   "metadata": {},
   "outputs": [
    {
     "data": {
      "text/plain": [
       "(-164.15194624716383, -6.3291235382179405)"
      ]
     },
     "execution_count": 296,
     "metadata": {},
     "output_type": "execute_result"
    }
   ],
   "source": [
    "Area_pred_XGB_grid_mean_error_TEST = df_TEST_pred_XGB_grid_summary['Area_diff'].mean()\n",
    "Area_pred_XGB_grid_mean_error_TEST_rel = df_TEST_pred_XGB_grid_summary['Area_diff'].mean() / df_TEST_pred_XGB_grid_summary['Area'].mean() * 100\n",
    "Area_pred_XGB_grid_mean_error_TEST, Area_pred_XGB_grid_mean_error_TEST_rel"
   ]
  },
  {
   "cell_type": "code",
   "execution_count": 297,
   "metadata": {},
   "outputs": [
    {
     "data": {
      "text/plain": [
       "586.7869224080088"
      ]
     },
     "execution_count": 297,
     "metadata": {},
     "output_type": "execute_result"
    }
   ],
   "source": [
    "#MAE for Area and Area_pred\n",
    "\n",
    "mae_area_pred_XGB_grid_TEST = mean_absolute_error(df_TEST_pred_XGB_grid_summary['Area'],df_TEST_pred_XGB_grid_summary['Area_pred'])\n",
    "mae_area_pred_XGB_grid_TEST"
   ]
  },
  {
   "cell_type": "code",
   "execution_count": 298,
   "metadata": {},
   "outputs": [
    {
     "data": {
      "text/plain": [
       "4549.665814491034"
      ]
     },
     "execution_count": 298,
     "metadata": {},
     "output_type": "execute_result"
    }
   ],
   "source": [
    "#RMSE for Area and Area_pred\n",
    "\n",
    "rmse_area_pred_XGB_grid_TEST = (np.sqrt(mean_squared_error(df_TEST_pred_XGB_grid_summary['Area'],df_TEST_pred_XGB_grid_summary['Area_pred'])))\n",
    "rmse_area_pred_XGB_grid_TEST"
   ]
  },
  {
   "cell_type": "code",
   "execution_count": null,
   "metadata": {},
   "outputs": [],
   "source": []
  },
  {
   "cell_type": "markdown",
   "metadata": {},
   "source": [
    "#### METRICS FOR XGBOOST WITHOUT PRICE MAX PREDICTIONS"
   ]
  },
  {
   "cell_type": "code",
   "execution_count": 299,
   "metadata": {},
   "outputs": [
    {
     "data": {
      "text/html": [
       "<div>\n",
       "<style scoped>\n",
       "    .dataframe tbody tr th:only-of-type {\n",
       "        vertical-align: middle;\n",
       "    }\n",
       "\n",
       "    .dataframe tbody tr th {\n",
       "        vertical-align: top;\n",
       "    }\n",
       "\n",
       "    .dataframe thead th {\n",
       "        text-align: right;\n",
       "    }\n",
       "</style>\n",
       "<table border=\"1\" class=\"dataframe\">\n",
       "  <thead>\n",
       "    <tr style=\"text-align: right;\">\n",
       "      <th></th>\n",
       "      <th>dE</th>\n",
       "      <th>Price</th>\n",
       "      <th>dE_pred</th>\n",
       "      <th>Price_pred</th>\n",
       "      <th>dE_diff</th>\n",
       "      <th>Price_diff</th>\n",
       "      <th>Area</th>\n",
       "      <th>Area_pred</th>\n",
       "      <th>Area_diff</th>\n",
       "      <th>Area_diff_rel(%)</th>\n",
       "      <th>Period</th>\n",
       "    </tr>\n",
       "  </thead>\n",
       "  <tbody>\n",
       "    <tr>\n",
       "      <th>84</th>\n",
       "      <td>150.30</td>\n",
       "      <td>1.13</td>\n",
       "      <td>0.00</td>\n",
       "      <td>180.30</td>\n",
       "      <td>150.30</td>\n",
       "      <td>-179.17</td>\n",
       "      <td>169.84</td>\n",
       "      <td>0.00</td>\n",
       "      <td>169.84</td>\n",
       "      <td>100.00</td>\n",
       "      <td>1</td>\n",
       "    </tr>\n",
       "    <tr>\n",
       "      <th>85</th>\n",
       "      <td>21.00</td>\n",
       "      <td>30.25</td>\n",
       "      <td>0.00</td>\n",
       "      <td>180.30</td>\n",
       "      <td>21.00</td>\n",
       "      <td>-150.05</td>\n",
       "      <td>635.25</td>\n",
       "      <td>0.00</td>\n",
       "      <td>635.25</td>\n",
       "      <td>100.00</td>\n",
       "      <td>1</td>\n",
       "    </tr>\n",
       "    <tr>\n",
       "      <th>86</th>\n",
       "      <td>21.00</td>\n",
       "      <td>30.87</td>\n",
       "      <td>0.00</td>\n",
       "      <td>180.30</td>\n",
       "      <td>21.00</td>\n",
       "      <td>-149.43</td>\n",
       "      <td>648.27</td>\n",
       "      <td>0.00</td>\n",
       "      <td>648.27</td>\n",
       "      <td>100.00</td>\n",
       "      <td>1</td>\n",
       "    </tr>\n",
       "    <tr>\n",
       "      <th>87</th>\n",
       "      <td>21.00</td>\n",
       "      <td>31.49</td>\n",
       "      <td>0.00</td>\n",
       "      <td>180.30</td>\n",
       "      <td>21.00</td>\n",
       "      <td>-148.81</td>\n",
       "      <td>661.29</td>\n",
       "      <td>0.00</td>\n",
       "      <td>661.29</td>\n",
       "      <td>100.00</td>\n",
       "      <td>1</td>\n",
       "    </tr>\n",
       "    <tr>\n",
       "      <th>88</th>\n",
       "      <td>21.00</td>\n",
       "      <td>32.11</td>\n",
       "      <td>0.00</td>\n",
       "      <td>180.30</td>\n",
       "      <td>21.00</td>\n",
       "      <td>-148.19</td>\n",
       "      <td>674.31</td>\n",
       "      <td>0.00</td>\n",
       "      <td>674.31</td>\n",
       "      <td>100.00</td>\n",
       "      <td>1</td>\n",
       "    </tr>\n",
       "    <tr>\n",
       "      <th>...</th>\n",
       "      <td>...</td>\n",
       "      <td>...</td>\n",
       "      <td>...</td>\n",
       "      <td>...</td>\n",
       "      <td>...</td>\n",
       "      <td>...</td>\n",
       "      <td>...</td>\n",
       "      <td>...</td>\n",
       "      <td>...</td>\n",
       "      <td>...</td>\n",
       "      <td>...</td>\n",
       "    </tr>\n",
       "    <tr>\n",
       "      <th>8900</th>\n",
       "      <td>21.00</td>\n",
       "      <td>39.65</td>\n",
       "      <td>0.01</td>\n",
       "      <td>180.34</td>\n",
       "      <td>20.99</td>\n",
       "      <td>-140.69</td>\n",
       "      <td>832.65</td>\n",
       "      <td>0.99</td>\n",
       "      <td>831.66</td>\n",
       "      <td>99.88</td>\n",
       "      <td>24</td>\n",
       "    </tr>\n",
       "    <tr>\n",
       "      <th>8901</th>\n",
       "      <td>21.00</td>\n",
       "      <td>40.84</td>\n",
       "      <td>0.00</td>\n",
       "      <td>180.23</td>\n",
       "      <td>21.00</td>\n",
       "      <td>-139.39</td>\n",
       "      <td>857.64</td>\n",
       "      <td>0.68</td>\n",
       "      <td>856.96</td>\n",
       "      <td>99.92</td>\n",
       "      <td>24</td>\n",
       "    </tr>\n",
       "    <tr>\n",
       "      <th>8902</th>\n",
       "      <td>20.70</td>\n",
       "      <td>42.53</td>\n",
       "      <td>0.00</td>\n",
       "      <td>180.30</td>\n",
       "      <td>20.70</td>\n",
       "      <td>-137.77</td>\n",
       "      <td>880.37</td>\n",
       "      <td>0.72</td>\n",
       "      <td>879.65</td>\n",
       "      <td>99.92</td>\n",
       "      <td>24</td>\n",
       "    </tr>\n",
       "    <tr>\n",
       "      <th>8904</th>\n",
       "      <td>100.00</td>\n",
       "      <td>1.13</td>\n",
       "      <td>151.30</td>\n",
       "      <td>1.11</td>\n",
       "      <td>-51.30</td>\n",
       "      <td>0.02</td>\n",
       "      <td>113.00</td>\n",
       "      <td>168.32</td>\n",
       "      <td>-55.32</td>\n",
       "      <td>-48.95</td>\n",
       "      <td>24</td>\n",
       "    </tr>\n",
       "    <tr>\n",
       "      <th>8916</th>\n",
       "      <td>100.00</td>\n",
       "      <td>1.13</td>\n",
       "      <td>100.00</td>\n",
       "      <td>1.15</td>\n",
       "      <td>0.00</td>\n",
       "      <td>-0.02</td>\n",
       "      <td>113.00</td>\n",
       "      <td>115.04</td>\n",
       "      <td>-2.04</td>\n",
       "      <td>-1.80</td>\n",
       "      <td>24</td>\n",
       "    </tr>\n",
       "  </tbody>\n",
       "</table>\n",
       "<p>5563 rows × 11 columns</p>\n",
       "</div>"
      ],
      "text/plain": [
       "         dE  Price  dE_pred  Price_pred  dE_diff  Price_diff   Area  \\\n",
       "84   150.30   1.13     0.00      180.30   150.30     -179.17 169.84   \n",
       "85    21.00  30.25     0.00      180.30    21.00     -150.05 635.25   \n",
       "86    21.00  30.87     0.00      180.30    21.00     -149.43 648.27   \n",
       "87    21.00  31.49     0.00      180.30    21.00     -148.81 661.29   \n",
       "88    21.00  32.11     0.00      180.30    21.00     -148.19 674.31   \n",
       "...     ...    ...      ...         ...      ...         ...    ...   \n",
       "8900  21.00  39.65     0.01      180.34    20.99     -140.69 832.65   \n",
       "8901  21.00  40.84     0.00      180.23    21.00     -139.39 857.64   \n",
       "8902  20.70  42.53     0.00      180.30    20.70     -137.77 880.37   \n",
       "8904 100.00   1.13   151.30        1.11   -51.30        0.02 113.00   \n",
       "8916 100.00   1.13   100.00        1.15     0.00       -0.02 113.00   \n",
       "\n",
       "      Area_pred  Area_diff  Area_diff_rel(%)  Period  \n",
       "84         0.00     169.84            100.00       1  \n",
       "85         0.00     635.25            100.00       1  \n",
       "86         0.00     648.27            100.00       1  \n",
       "87         0.00     661.29            100.00       1  \n",
       "88         0.00     674.31            100.00       1  \n",
       "...         ...        ...               ...     ...  \n",
       "8900       0.99     831.66             99.88      24  \n",
       "8901       0.68     856.96             99.92      24  \n",
       "8902       0.72     879.65             99.92      24  \n",
       "8904     168.32     -55.32            -48.95      24  \n",
       "8916     115.04      -2.04             -1.80      24  \n",
       "\n",
       "[5563 rows x 11 columns]"
      ]
     },
     "execution_count": 299,
     "metadata": {},
     "output_type": "execute_result"
    }
   ],
   "source": [
    "df_TEST_pred_XGB_grid_summary_noPmax = df_pred_summary_noPmax(df_TEST_pred_XGB_grid_summary)\n",
    "df_TEST_pred_XGB_grid_summary_noPmax"
   ]
  },
  {
   "cell_type": "code",
   "execution_count": 300,
   "metadata": {},
   "outputs": [
    {
     "data": {
      "text/plain": [
       "24.79094950057041"
      ]
     },
     "execution_count": 300,
     "metadata": {},
     "output_type": "execute_result"
    }
   ],
   "source": [
    "df_TEST_pred_XGB_grid_summary_noPmax['Area_diff'].mean()"
   ]
  },
  {
   "cell_type": "code",
   "execution_count": 301,
   "metadata": {},
   "outputs": [
    {
     "data": {
      "text/plain": [
       "(24.79094950057041, -4.163196865071961)"
      ]
     },
     "execution_count": 301,
     "metadata": {},
     "output_type": "execute_result"
    }
   ],
   "source": [
    "Area_pred_XGB_grid_noPmax_mean_error_TEST = df_TEST_pred_XGB_grid_summary_noPmax['Area_diff'].mean()\n",
    "Area_pred_XGB_grid_noPmax_mean_error_TEST_rel = df_TEST_pred_XGB_grid_summary_noPmax['Area_diff'].mean() / df_TEST_pred_XGB_grid_summary_noPmax['Area'].mean() * 100\n",
    "Area_pred_XGB_grid_noPmax_mean_error_TEST, Area_pred_XGB_noPmax_mean_error_TEST_rel"
   ]
  },
  {
   "cell_type": "code",
   "execution_count": null,
   "metadata": {},
   "outputs": [],
   "source": []
  },
  {
   "cell_type": "code",
   "execution_count": 302,
   "metadata": {},
   "outputs": [
    {
     "data": {
      "text/plain": [
       "83.87749762512264"
      ]
     },
     "execution_count": 302,
     "metadata": {},
     "output_type": "execute_result"
    }
   ],
   "source": [
    "#MAE for Area and Area_pred without Pmax\n",
    "\n",
    "mae_area_noPmax_pred_XGB_grid_TEST = mean_absolute_error(df_TEST_pred_XGB_grid_summary_noPmax['Area'],df_TEST_pred_XGB_grid_summary_noPmax['Area_pred'])\n",
    "mae_area_noPmax_pred_XGB_grid_TEST"
   ]
  },
  {
   "cell_type": "code",
   "execution_count": 303,
   "metadata": {},
   "outputs": [
    {
     "data": {
      "text/plain": [
       "249.77604660511372"
      ]
     },
     "execution_count": 303,
     "metadata": {},
     "output_type": "execute_result"
    }
   ],
   "source": [
    "#RMSE for Area and Area_pred without Pmax\n",
    "\n",
    "rmse_area_noPmax_pred_XGB_grid_TEST = (np.sqrt(mean_squared_error(df_TEST_pred_XGB_grid_summary_noPmax['Area'],df_TEST_pred_XGB_grid_summary_noPmax['Area_pred'])))\n",
    "rmse_area_noPmax_pred_XGB_grid_TEST"
   ]
  },
  {
   "cell_type": "code",
   "execution_count": null,
   "metadata": {},
   "outputs": [],
   "source": []
  },
  {
   "cell_type": "markdown",
   "metadata": {},
   "source": [
    "### 6. NAIVE MODEL\n",
    "\n",
    "In this section a dumb model is developed to have a baseline as reference for the future models to be built.\n",
    "\n",
    "In this case, two dumb models will be created:\n",
    "\n",
    "* Naive_24h: the target prediction will be the same as is was 24h before\n",
    "* Naive_mean: the target prediction will be the average of 24h and 168h before"
   ]
  },
  {
   "cell_type": "code",
   "execution_count": 304,
   "metadata": {},
   "outputs": [],
   "source": [
    "#NAIVE MODEL-24h\n",
    "\n",
    "y_dE_naive_TEST = []\n",
    "\n",
    "hours = len(df_X_dE_TEST)\n",
    "\n",
    "for hour in range(0,hours):\n",
    "    y_dE_naive_TEST.append(df_X_dE_TEST[hour][['Energy_24h', 'Price_24h']])"
   ]
  },
  {
   "cell_type": "code",
   "execution_count": null,
   "metadata": {},
   "outputs": [],
   "source": []
  },
  {
   "cell_type": "code",
   "execution_count": 305,
   "metadata": {},
   "outputs": [],
   "source": [
    "df_TEST_pred_naive_summary  = df_pred_summary(y_dE_TEST, y_dE_naive_TEST)"
   ]
  },
  {
   "cell_type": "code",
   "execution_count": 306,
   "metadata": {},
   "outputs": [
    {
     "data": {
      "text/plain": [
       "Index(['dE', 'Price', 'dE_pred', 'Price_pred', 'dE_diff', 'Price_diff', 'Area',\n",
       "       'Area_pred', 'Area_diff', 'Area_diff_rel(%)', 'Period'],\n",
       "      dtype='object')"
      ]
     },
     "execution_count": 306,
     "metadata": {},
     "output_type": "execute_result"
    }
   ],
   "source": [
    "df_TEST_pred_naive_summary.columns"
   ]
  },
  {
   "cell_type": "code",
   "execution_count": 307,
   "metadata": {},
   "outputs": [
    {
     "data": {
      "text/plain": [
       "8.999517249103944"
      ]
     },
     "execution_count": 307,
     "metadata": {},
     "output_type": "execute_result"
    }
   ],
   "source": [
    "#MAE for Area and Area_pred\n",
    "\n",
    "mae_pred_naive_TEST = mean_absolute_error(df_TEST_pred_naive_summary[['dE','Price']],df_TEST_pred_naive_summary[['dE_pred','Price_pred']])\n",
    "mae_pred_naive_TEST"
   ]
  },
  {
   "cell_type": "code",
   "execution_count": 308,
   "metadata": {},
   "outputs": [
    {
     "data": {
      "text/plain": [
       "37.00400205700415"
      ]
     },
     "execution_count": 308,
     "metadata": {},
     "output_type": "execute_result"
    }
   ],
   "source": [
    "#RMSE for Area and Area_pred\n",
    "\n",
    "rmse_pred_naive_TEST = (np.sqrt(mean_squared_error(df_TEST_pred_naive_summary[['dE','Price']],df_TEST_pred_naive_summary[['dE_pred','Price_pred']])))\n",
    "rmse_pred_naive_TEST"
   ]
  },
  {
   "cell_type": "code",
   "execution_count": 309,
   "metadata": {},
   "outputs": [
    {
     "data": {
      "text/plain": [
       "554.2781293682796"
      ]
     },
     "execution_count": 309,
     "metadata": {},
     "output_type": "execute_result"
    }
   ],
   "source": [
    "#MAE for Area and Area_pred\n",
    "\n",
    "mae_area_pred_naive_TEST = mean_absolute_error(df_TEST_pred_naive_summary['Area'],df_TEST_pred_naive_summary['Area_pred'])\n",
    "mae_area_pred_naive_TEST"
   ]
  },
  {
   "cell_type": "code",
   "execution_count": 310,
   "metadata": {},
   "outputs": [
    {
     "data": {
      "text/plain": [
       "4888.865922322749"
      ]
     },
     "execution_count": 310,
     "metadata": {},
     "output_type": "execute_result"
    }
   ],
   "source": [
    "#RMSE for Area and Area_pred\n",
    "\n",
    "rmse_area_pred_naive_TEST = (np.sqrt(mean_squared_error(df_TEST_pred_naive_summary['Area'],df_TEST_pred_naive_summary['Area_pred'])))\n",
    "rmse_area_pred_naive_TEST"
   ]
  },
  {
   "cell_type": "code",
   "execution_count": null,
   "metadata": {},
   "outputs": [],
   "source": []
  },
  {
   "cell_type": "code",
   "execution_count": 311,
   "metadata": {},
   "outputs": [
    {
     "data": {
      "text/html": [
       "<div>\n",
       "<style scoped>\n",
       "    .dataframe tbody tr th:only-of-type {\n",
       "        vertical-align: middle;\n",
       "    }\n",
       "\n",
       "    .dataframe tbody tr th {\n",
       "        vertical-align: top;\n",
       "    }\n",
       "\n",
       "    .dataframe thead th {\n",
       "        text-align: right;\n",
       "    }\n",
       "</style>\n",
       "<table border=\"1\" class=\"dataframe\">\n",
       "  <thead>\n",
       "    <tr style=\"text-align: right;\">\n",
       "      <th></th>\n",
       "      <th>dE</th>\n",
       "      <th>Price</th>\n",
       "      <th>dE_pred</th>\n",
       "      <th>Price_pred</th>\n",
       "      <th>dE_diff</th>\n",
       "      <th>Price_diff</th>\n",
       "      <th>Area</th>\n",
       "      <th>Area_pred</th>\n",
       "      <th>Area_diff</th>\n",
       "      <th>Area_diff_rel(%)</th>\n",
       "      <th>Period</th>\n",
       "    </tr>\n",
       "  </thead>\n",
       "  <tbody>\n",
       "    <tr>\n",
       "      <th>84</th>\n",
       "      <td>150.30</td>\n",
       "      <td>1.13</td>\n",
       "      <td>0.00</td>\n",
       "      <td>180.30</td>\n",
       "      <td>150.30</td>\n",
       "      <td>-179.17</td>\n",
       "      <td>169.84</td>\n",
       "      <td>0.00</td>\n",
       "      <td>169.84</td>\n",
       "      <td>100.00</td>\n",
       "      <td>1</td>\n",
       "    </tr>\n",
       "    <tr>\n",
       "      <th>85</th>\n",
       "      <td>21.00</td>\n",
       "      <td>30.25</td>\n",
       "      <td>0.00</td>\n",
       "      <td>180.30</td>\n",
       "      <td>21.00</td>\n",
       "      <td>-150.05</td>\n",
       "      <td>635.25</td>\n",
       "      <td>0.00</td>\n",
       "      <td>635.25</td>\n",
       "      <td>100.00</td>\n",
       "      <td>1</td>\n",
       "    </tr>\n",
       "    <tr>\n",
       "      <th>86</th>\n",
       "      <td>21.00</td>\n",
       "      <td>30.87</td>\n",
       "      <td>0.00</td>\n",
       "      <td>180.30</td>\n",
       "      <td>21.00</td>\n",
       "      <td>-149.43</td>\n",
       "      <td>648.27</td>\n",
       "      <td>0.00</td>\n",
       "      <td>648.27</td>\n",
       "      <td>100.00</td>\n",
       "      <td>1</td>\n",
       "    </tr>\n",
       "    <tr>\n",
       "      <th>87</th>\n",
       "      <td>21.00</td>\n",
       "      <td>31.49</td>\n",
       "      <td>0.00</td>\n",
       "      <td>180.30</td>\n",
       "      <td>21.00</td>\n",
       "      <td>-148.81</td>\n",
       "      <td>661.29</td>\n",
       "      <td>0.00</td>\n",
       "      <td>661.29</td>\n",
       "      <td>100.00</td>\n",
       "      <td>1</td>\n",
       "    </tr>\n",
       "    <tr>\n",
       "      <th>88</th>\n",
       "      <td>21.00</td>\n",
       "      <td>32.11</td>\n",
       "      <td>0.00</td>\n",
       "      <td>180.30</td>\n",
       "      <td>21.00</td>\n",
       "      <td>-148.19</td>\n",
       "      <td>674.31</td>\n",
       "      <td>0.00</td>\n",
       "      <td>674.31</td>\n",
       "      <td>100.00</td>\n",
       "      <td>1</td>\n",
       "    </tr>\n",
       "    <tr>\n",
       "      <th>...</th>\n",
       "      <td>...</td>\n",
       "      <td>...</td>\n",
       "      <td>...</td>\n",
       "      <td>...</td>\n",
       "      <td>...</td>\n",
       "      <td>...</td>\n",
       "      <td>...</td>\n",
       "      <td>...</td>\n",
       "      <td>...</td>\n",
       "      <td>...</td>\n",
       "      <td>...</td>\n",
       "    </tr>\n",
       "    <tr>\n",
       "      <th>8900</th>\n",
       "      <td>21.00</td>\n",
       "      <td>39.65</td>\n",
       "      <td>0.00</td>\n",
       "      <td>180.30</td>\n",
       "      <td>21.00</td>\n",
       "      <td>-140.65</td>\n",
       "      <td>832.65</td>\n",
       "      <td>0.00</td>\n",
       "      <td>832.65</td>\n",
       "      <td>100.00</td>\n",
       "      <td>24</td>\n",
       "    </tr>\n",
       "    <tr>\n",
       "      <th>8901</th>\n",
       "      <td>21.00</td>\n",
       "      <td>40.84</td>\n",
       "      <td>0.00</td>\n",
       "      <td>180.30</td>\n",
       "      <td>21.00</td>\n",
       "      <td>-139.46</td>\n",
       "      <td>857.64</td>\n",
       "      <td>0.00</td>\n",
       "      <td>857.64</td>\n",
       "      <td>100.00</td>\n",
       "      <td>24</td>\n",
       "    </tr>\n",
       "    <tr>\n",
       "      <th>8902</th>\n",
       "      <td>20.70</td>\n",
       "      <td>42.53</td>\n",
       "      <td>0.00</td>\n",
       "      <td>180.30</td>\n",
       "      <td>20.70</td>\n",
       "      <td>-137.77</td>\n",
       "      <td>880.37</td>\n",
       "      <td>0.00</td>\n",
       "      <td>880.37</td>\n",
       "      <td>100.00</td>\n",
       "      <td>24</td>\n",
       "    </tr>\n",
       "    <tr>\n",
       "      <th>8904</th>\n",
       "      <td>100.00</td>\n",
       "      <td>1.13</td>\n",
       "      <td>150.30</td>\n",
       "      <td>1.13</td>\n",
       "      <td>-50.30</td>\n",
       "      <td>0.00</td>\n",
       "      <td>113.00</td>\n",
       "      <td>169.84</td>\n",
       "      <td>-56.84</td>\n",
       "      <td>-50.30</td>\n",
       "      <td>24</td>\n",
       "    </tr>\n",
       "    <tr>\n",
       "      <th>8916</th>\n",
       "      <td>100.00</td>\n",
       "      <td>1.13</td>\n",
       "      <td>100.00</td>\n",
       "      <td>1.13</td>\n",
       "      <td>0.00</td>\n",
       "      <td>0.00</td>\n",
       "      <td>113.00</td>\n",
       "      <td>113.00</td>\n",
       "      <td>0.00</td>\n",
       "      <td>0.00</td>\n",
       "      <td>24</td>\n",
       "    </tr>\n",
       "  </tbody>\n",
       "</table>\n",
       "<p>5563 rows × 11 columns</p>\n",
       "</div>"
      ],
      "text/plain": [
       "         dE  Price  dE_pred  Price_pred  dE_diff  Price_diff   Area  \\\n",
       "84   150.30   1.13     0.00      180.30   150.30     -179.17 169.84   \n",
       "85    21.00  30.25     0.00      180.30    21.00     -150.05 635.25   \n",
       "86    21.00  30.87     0.00      180.30    21.00     -149.43 648.27   \n",
       "87    21.00  31.49     0.00      180.30    21.00     -148.81 661.29   \n",
       "88    21.00  32.11     0.00      180.30    21.00     -148.19 674.31   \n",
       "...     ...    ...      ...         ...      ...         ...    ...   \n",
       "8900  21.00  39.65     0.00      180.30    21.00     -140.65 832.65   \n",
       "8901  21.00  40.84     0.00      180.30    21.00     -139.46 857.64   \n",
       "8902  20.70  42.53     0.00      180.30    20.70     -137.77 880.37   \n",
       "8904 100.00   1.13   150.30        1.13   -50.30        0.00 113.00   \n",
       "8916 100.00   1.13   100.00        1.13     0.00        0.00 113.00   \n",
       "\n",
       "      Area_pred  Area_diff  Area_diff_rel(%)  Period  \n",
       "84         0.00     169.84            100.00       1  \n",
       "85         0.00     635.25            100.00       1  \n",
       "86         0.00     648.27            100.00       1  \n",
       "87         0.00     661.29            100.00       1  \n",
       "88         0.00     674.31            100.00       1  \n",
       "...         ...        ...               ...     ...  \n",
       "8900       0.00     832.65            100.00      24  \n",
       "8901       0.00     857.64            100.00      24  \n",
       "8902       0.00     880.37            100.00      24  \n",
       "8904     169.84     -56.84            -50.30      24  \n",
       "8916     113.00       0.00              0.00      24  \n",
       "\n",
       "[5563 rows x 11 columns]"
      ]
     },
     "execution_count": 311,
     "metadata": {},
     "output_type": "execute_result"
    }
   ],
   "source": [
    "df_TEST_pred_naive_summary_noPmax = df_pred_summary_noPmax(df_TEST_pred_naive_summary)\n",
    "df_TEST_pred_naive_summary_noPmax"
   ]
  },
  {
   "cell_type": "code",
   "execution_count": null,
   "metadata": {},
   "outputs": [],
   "source": []
  },
  {
   "cell_type": "code",
   "execution_count": null,
   "metadata": {},
   "outputs": [],
   "source": []
  },
  {
   "cell_type": "code",
   "execution_count": 312,
   "metadata": {},
   "outputs": [
    {
     "data": {
      "text/plain": [
       "61.429507639762726"
      ]
     },
     "execution_count": 312,
     "metadata": {},
     "output_type": "execute_result"
    }
   ],
   "source": [
    "#MAE for Area and Area_pred naive\n",
    "\n",
    "mae_area_naive_noPmax_TEST = mean_absolute_error(df_TEST_pred_naive_summary_noPmax['Area'],df_TEST_pred_naive_summary_noPmax['Area_pred'])\n",
    "mae_area_naive_noPmax_TEST"
   ]
  },
  {
   "cell_type": "code",
   "execution_count": 313,
   "metadata": {},
   "outputs": [
    {
     "data": {
      "text/plain": [
       "191.66455599746305"
      ]
     },
     "execution_count": 313,
     "metadata": {},
     "output_type": "execute_result"
    }
   ],
   "source": [
    "#RMSE for Area and Area_pred\n",
    "\n",
    "rmse_area_naive_noPmax_TEST = (np.sqrt(mean_squared_error(df_TEST_pred_naive_summary_noPmax['Area'],df_TEST_pred_naive_summary_noPmax['Area_pred'])))\n",
    "rmse_area_naive_noPmax_TEST"
   ]
  },
  {
   "cell_type": "code",
   "execution_count": null,
   "metadata": {},
   "outputs": [],
   "source": []
  },
  {
   "cell_type": "code",
   "execution_count": null,
   "metadata": {},
   "outputs": [],
   "source": []
  },
  {
   "cell_type": "code",
   "execution_count": null,
   "metadata": {},
   "outputs": [],
   "source": []
  },
  {
   "cell_type": "code",
   "execution_count": null,
   "metadata": {},
   "outputs": [],
   "source": []
  },
  {
   "cell_type": "markdown",
   "metadata": {},
   "source": [
    "### MODELS' RESULTS SUMMARY "
   ]
  },
  {
   "cell_type": "code",
   "execution_count": 314,
   "metadata": {},
   "outputs": [
    {
     "data": {
      "text/html": [
       "<div>\n",
       "<style scoped>\n",
       "    .dataframe tbody tr th:only-of-type {\n",
       "        vertical-align: middle;\n",
       "    }\n",
       "\n",
       "    .dataframe tbody tr th {\n",
       "        vertical-align: top;\n",
       "    }\n",
       "\n",
       "    .dataframe thead th {\n",
       "        text-align: right;\n",
       "    }\n",
       "</style>\n",
       "<table border=\"1\" class=\"dataframe\">\n",
       "  <thead>\n",
       "    <tr style=\"text-align: right;\">\n",
       "      <th></th>\n",
       "      <th>MAE</th>\n",
       "      <th>RMSE</th>\n",
       "      <th>MAE_area</th>\n",
       "      <th>RMSE_area</th>\n",
       "      <th>MAE_area_noPmax</th>\n",
       "      <th>RMSE_area_noPmax</th>\n",
       "    </tr>\n",
       "  </thead>\n",
       "  <tbody>\n",
       "    <tr>\n",
       "      <th>Naive</th>\n",
       "      <td>9.00</td>\n",
       "      <td>37.00</td>\n",
       "      <td>554.28</td>\n",
       "      <td>4,888.87</td>\n",
       "      <td>61.43</td>\n",
       "      <td>191.66</td>\n",
       "    </tr>\n",
       "    <tr>\n",
       "      <th>Random Forest(basic)</th>\n",
       "      <td>9.73</td>\n",
       "      <td>31.93</td>\n",
       "      <td>657.72</td>\n",
       "      <td>4,404.91</td>\n",
       "      <td>182.98</td>\n",
       "      <td>638.11</td>\n",
       "    </tr>\n",
       "    <tr>\n",
       "      <th>Random Forest(hyper)</th>\n",
       "      <td>9.36</td>\n",
       "      <td>30.63</td>\n",
       "      <td>660.87</td>\n",
       "      <td>4,274.16</td>\n",
       "      <td>190.86</td>\n",
       "      <td>714.71</td>\n",
       "    </tr>\n",
       "    <tr>\n",
       "      <th>XGBosst(basic)</th>\n",
       "      <td>7.93</td>\n",
       "      <td>30.29</td>\n",
       "      <td>620.49</td>\n",
       "      <td>4,558.75</td>\n",
       "      <td>119.26</td>\n",
       "      <td>422.05</td>\n",
       "    </tr>\n",
       "    <tr>\n",
       "      <th>XGBosst(hyper)</th>\n",
       "      <td>8.14</td>\n",
       "      <td>30.74</td>\n",
       "      <td>586.79</td>\n",
       "      <td>4,549.67</td>\n",
       "      <td>83.88</td>\n",
       "      <td>249.78</td>\n",
       "    </tr>\n",
       "  </tbody>\n",
       "</table>\n",
       "</div>"
      ],
      "text/plain": [
       "                      MAE  RMSE  MAE_area  RMSE_area  MAE_area_noPmax  \\\n",
       "Naive                9.00 37.00    554.28   4,888.87            61.43   \n",
       "Random Forest(basic) 9.73 31.93    657.72   4,404.91           182.98   \n",
       "Random Forest(hyper) 9.36 30.63    660.87   4,274.16           190.86   \n",
       "XGBosst(basic)       7.93 30.29    620.49   4,558.75           119.26   \n",
       "XGBosst(hyper)       8.14 30.74    586.79   4,549.67            83.88   \n",
       "\n",
       "                      RMSE_area_noPmax  \n",
       "Naive                           191.66  \n",
       "Random Forest(basic)            638.11  \n",
       "Random Forest(hyper)            714.71  \n",
       "XGBosst(basic)                  422.05  \n",
       "XGBosst(hyper)                  249.78  "
      ]
     },
     "execution_count": 314,
     "metadata": {},
     "output_type": "execute_result"
    }
   ],
   "source": [
    "models_summary = pd.DataFrame({'MAE': [np.mean(mae_pred_naive_TEST),\n",
    "                                       np.mean(mae_dE_TEST_rf),\n",
    "                                       np.mean(mae_dE_TEST_rf_grid),\n",
    "                                       np.mean(mae_dE_TEST_chain_XGB),\n",
    "                                       np.mean(mae_dE_TEST_chain_XGB_grid)],\n",
    "                              'RMSE': [np.mean(rmse_pred_naive_TEST),\n",
    "                                       np.mean(rmse_dE_TEST_rf),\n",
    "                                       np.mean(rmse_dE_TEST_rf_grid),\n",
    "                                       np.mean(rmse_dE_TEST_chain_XGB),\n",
    "                                       np.mean(rmse_dE_TEST_chain_XGB_grid)],\n",
    "                              'MAE_area': [mae_area_pred_naive_TEST,\n",
    "                                           mae_area_pred_TEST,\n",
    "                                           mae_area_pred_grid_TEST,\n",
    "                                           mae_area_pred_XGB_TEST,\n",
    "                                           mae_area_pred_XGB_grid_TEST],\n",
    "                              'RMSE_area': [rmse_area_pred_naive_TEST,\n",
    "                                            rmse_area_pred_TEST,\n",
    "                                            rmse_area_pred_grid_TEST,\n",
    "                                            rmse_area_pred_XGB_TEST,\n",
    "                                            rmse_area_pred_XGB_grid_TEST],\n",
    "                              'MAE_area_noPmax': [mae_area_naive_noPmax_TEST,\n",
    "                                                  mae_area_noPmax_pred_TEST,\n",
    "                                                  mae_area_noPmax_pred_grid_TEST,\n",
    "                                                  mae_area_noPmax_pred_XGB_TEST,\n",
    "                                                  mae_area_noPmax_pred_XGB_grid_TEST],\n",
    "                              'RMSE_area_noPmax': [rmse_area_naive_noPmax_TEST,\n",
    "                                                   rmse_area_noPmax_pred_TEST,\n",
    "                                                   rmse_area_noPmax_pred_grid_TEST,\n",
    "                                                   rmse_area_noPmax_pred_XGB_TEST,\n",
    "                                                   rmse_area_noPmax_pred_XGB_grid_TEST]},\n",
    "                              index =['Naive', 'Random Forest(basic)', \n",
    "                                      'Random Forest(hyper)','XGBosst(basic)','XGBosst(hyper)'])\n",
    "models_summary"
   ]
  },
  {
   "cell_type": "code",
   "execution_count": null,
   "metadata": {},
   "outputs": [],
   "source": []
  },
  {
   "cell_type": "code",
   "execution_count": 925,
   "metadata": {},
   "outputs": [],
   "source": [
    "################################################################################################"
   ]
  },
  {
   "cell_type": "code",
   "execution_count": 926,
   "metadata": {},
   "outputs": [],
   "source": [
    "#CODE TO BE ADAPTED FOR ENERGY_TOT APPROACH\n",
    "\n",
    "#X_area_pred_tot['Energy_tot_pred_shift'] = X_area_pred_tot['Energy_tot_pred'].shift(periods=1).fillna(X_area_pred_tot.loc[0,'Energy_tot_pred'])"
   ]
  },
  {
   "cell_type": "code",
   "execution_count": null,
   "metadata": {},
   "outputs": [],
   "source": []
  },
  {
   "cell_type": "code",
   "execution_count": 927,
   "metadata": {},
   "outputs": [],
   "source": [
    "########################################################################################################\n",
    "\n",
    "### CODE BELOW TO BE DELETED WHEN CHECKED NOT USEFULL"
   ]
  },
  {
   "cell_type": "code",
   "execution_count": 928,
   "metadata": {},
   "outputs": [
    {
     "ename": "NameError",
     "evalue": "name 'example_X' is not defined",
     "output_type": "error",
     "traceback": [
      "\u001b[0;31m---------------------------------------------------------------------------\u001b[0m",
      "\u001b[0;31mNameError\u001b[0m                                 Traceback (most recent call last)",
      "\u001b[0;32m<ipython-input-928-e29f506cc6ab>\u001b[0m in \u001b[0;36m<module>\u001b[0;34m\u001b[0m\n\u001b[1;32m      1\u001b[0m \u001b[0;31m#Example with random forest regression\u001b[0m\u001b[0;34m\u001b[0m\u001b[0;34m\u001b[0m\u001b[0;34m\u001b[0m\u001b[0m\n\u001b[1;32m      2\u001b[0m \u001b[0;34m\u001b[0m\u001b[0m\n\u001b[0;32m----> 3\u001b[0;31m \u001b[0mexample_y_pred_rf\u001b[0m \u001b[0;34m=\u001b[0m \u001b[0mreg_rf\u001b[0m\u001b[0;34m.\u001b[0m\u001b[0mpredict\u001b[0m\u001b[0;34m(\u001b[0m\u001b[0mexample_X\u001b[0m\u001b[0;34m)\u001b[0m\u001b[0;34m\u001b[0m\u001b[0;34m\u001b[0m\u001b[0m\n\u001b[0m",
      "\u001b[0;31mNameError\u001b[0m: name 'example_X' is not defined"
     ]
    }
   ],
   "source": [
    "#Example with random forest regression\n",
    "\n",
    "example_y_pred_rf = reg_rf.predict(example_X)"
   ]
  },
  {
   "cell_type": "code",
   "execution_count": null,
   "metadata": {},
   "outputs": [],
   "source": [
    "example_y_pred_rf"
   ]
  },
  {
   "cell_type": "code",
   "execution_count": null,
   "metadata": {},
   "outputs": [],
   "source": [
    "example_y"
   ]
  },
  {
   "cell_type": "code",
   "execution_count": null,
   "metadata": {},
   "outputs": [],
   "source": [
    "plt.plot(example['Energy_tot'][1:-1], example_y_pred_rf[1:-1], drawstyle='steps', \n",
    "         label='steps (=steps-pre)', color='red')\n",
    "\n",
    "plt.plot(example['Energy_tot'][1:-1], example_y[1:-1], drawstyle='steps', \n",
    "         label='steps (=steps-pre)', color='blue')"
   ]
  },
  {
   "cell_type": "code",
   "execution_count": null,
   "metadata": {},
   "outputs": [],
   "source": [
    "#We can observe that with dt first and last price are very good predicted\n",
    "\n",
    "plt.plot(example['Energy_tot'], example_y_pred_rf, drawstyle='steps', \n",
    "         label='steps (=steps-pre)', color='red')\n",
    "\n",
    "plt.plot(example['Energy_tot'], example_y, drawstyle='steps', \n",
    "         label='steps (=steps-pre)', color='blue')"
   ]
  },
  {
   "cell_type": "code",
   "execution_count": null,
   "metadata": {
    "scrolled": true
   },
   "outputs": [],
   "source": []
  },
  {
   "cell_type": "markdown",
   "metadata": {},
   "source": [
    "## REGRESSION MODELS"
   ]
  },
  {
   "cell_type": "code",
   "execution_count": null,
   "metadata": {},
   "outputs": [],
   "source": [
    "## LINEAR REGRESSION\n",
    "\n",
    "from sklearn.linear_model import LinearRegression\n",
    "\n",
    "#Creation of a model instance \n",
    "reg_linear = LinearRegression()\n",
    "\n",
    "reg_linear.fit(X_train,y_train)\n"
   ]
  },
  {
   "cell_type": "code",
   "execution_count": null,
   "metadata": {},
   "outputs": [],
   "source": [
    "y_pred_linear = reg_linear.predict(X_test)"
   ]
  },
  {
   "cell_type": "code",
   "execution_count": null,
   "metadata": {
    "scrolled": true
   },
   "outputs": [],
   "source": [
    "reg_linear.coef_"
   ]
  },
  {
   "cell_type": "code",
   "execution_count": null,
   "metadata": {},
   "outputs": [],
   "source": [
    "#MAE metric\n",
    "from sklearn.metrics import mean_absolute_error\n",
    "\n",
    "mean_absolute_error(y_test,y_pred_linear) # Primero valor real y luego prediccion"
   ]
  },
  {
   "cell_type": "code",
   "execution_count": null,
   "metadata": {},
   "outputs": [],
   "source": []
  },
  {
   "cell_type": "code",
   "execution_count": null,
   "metadata": {},
   "outputs": [],
   "source": [
    "#############################################################################################################"
   ]
  },
  {
   "cell_type": "code",
   "execution_count": null,
   "metadata": {},
   "outputs": [],
   "source": [
    "#Examples of real and predition curves will be ploted to compare them."
   ]
  },
  {
   "cell_type": "code",
   "execution_count": null,
   "metadata": {},
   "outputs": [],
   "source": [
    "plot_bid_curve('2020-8-16',18)"
   ]
  },
  {
   "cell_type": "code",
   "execution_count": null,
   "metadata": {},
   "outputs": [],
   "source": [
    "example = df_tot.sort_values(['Date','Period','Block'])[(df_tot['Date']=='2020-08-16') & \n",
    "                                                (df_tot['Period']==18)]\n",
    "example"
   ]
  },
  {
   "cell_type": "code",
   "execution_count": null,
   "metadata": {},
   "outputs": [],
   "source": [
    "example_cat = example[['Month','Day','Period','Weekday','Block']]\n",
    "example_cat"
   ]
  },
  {
   "cell_type": "code",
   "execution_count": null,
   "metadata": {},
   "outputs": [],
   "source": [
    "# example transformation to predict only this sample.\n",
    "example_cat_onehot = one_encoder.transform(example_cat)\n",
    "example_cat_onehot.shape"
   ]
  },
  {
   "cell_type": "code",
   "execution_count": null,
   "metadata": {
    "scrolled": true
   },
   "outputs": [],
   "source": [
    "example_cat_onehot"
   ]
  },
  {
   "cell_type": "code",
   "execution_count": null,
   "metadata": {},
   "outputs": [],
   "source": [
    "example_energy = np.asarray(example[['Energy_tot']]/example['Energy_tot'].max())\n",
    "example_energy"
   ]
  },
  {
   "cell_type": "code",
   "execution_count": null,
   "metadata": {},
   "outputs": [],
   "source": [
    "example_X = np.concatenate((example_cat_onehot, example_energy), axis=1)"
   ]
  },
  {
   "cell_type": "code",
   "execution_count": null,
   "metadata": {},
   "outputs": [],
   "source": [
    "example_y = np.asarray(example['Price'])"
   ]
  },
  {
   "cell_type": "code",
   "execution_count": null,
   "metadata": {},
   "outputs": [],
   "source": [
    "#Example with linear regression\n",
    "\n",
    "example_y_pred_linear = reg_linear.predict(example_X)"
   ]
  },
  {
   "cell_type": "code",
   "execution_count": null,
   "metadata": {},
   "outputs": [],
   "source": [
    "example_y_pred_linear"
   ]
  },
  {
   "cell_type": "code",
   "execution_count": null,
   "metadata": {},
   "outputs": [],
   "source": [
    "example_y"
   ]
  },
  {
   "cell_type": "code",
   "execution_count": null,
   "metadata": {
    "scrolled": true
   },
   "outputs": [],
   "source": [
    "plt.plot(example['Energy_tot'], example_y_pred_linear, drawstyle='steps', label='steps (=steps-pre)', color='red')\n",
    "plot_bid_curve('2020-8-16',18)"
   ]
  },
  {
   "cell_type": "code",
   "execution_count": null,
   "metadata": {},
   "outputs": [],
   "source": [
    "plt.plot(example['Energy_tot'][1:-1], example_y_pred_linear[1:-1], drawstyle='steps', \n",
    "         label='steps (=steps-pre)', color='red')\n",
    "\n",
    "plt.plot(example['Energy_tot'][1:-1], example_y[1:-1], drawstyle='steps', \n",
    "         label='steps (=steps-pre)', color='blue')"
   ]
  }
 ],
 "metadata": {
  "kernelspec": {
   "display_name": "Python 3",
   "language": "python",
   "name": "python3"
  },
  "language_info": {
   "codemirror_mode": {
    "name": "ipython",
    "version": 3
   },
   "file_extension": ".py",
   "mimetype": "text/x-python",
   "name": "python",
   "nbconvert_exporter": "python",
   "pygments_lexer": "ipython3",
   "version": "3.8.5"
  }
 },
 "nbformat": 4,
 "nbformat_minor": 4
}
