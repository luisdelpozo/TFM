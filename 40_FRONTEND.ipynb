{
 "cells": [
  {
   "cell_type": "markdown",
   "metadata": {},
   "source": [
    "# FRONTEND - BID CURVE"
   ]
  },
  {
   "cell_type": "code",
   "execution_count": 1,
   "metadata": {},
   "outputs": [],
   "source": [
    "import streamlit as st\n",
    "import altair as alt\n",
    "import time\n",
    "import pandas as pd\n",
    "import numpy as np\n",
    "import matplotlib.pyplot as plt\n",
    "import seaborn as sns\n",
    "import datetime as dt\n",
    "from datetime import datetime, timedelta\n",
    "\n",
    "from TFM_PredCurve_Tools import data_date_hour_info, convert_to_df_curve, days_25h_23h\n",
    "from TFM_PredCurve_Tools import data_report, data_report_total, missing_dates, bid_hour_summary\n",
    "from TFM_PredCurve_Tools import plot_bid_curve, plot_marginal_price, plot_bid_margprice, plot_bid_margprice_day\n",
    "from TFM_PredCurve_Tools import plot_bid_curve_day, plot_marginal_price_day, myplot, plot_24bids\n",
    "from TFM_PredCurve_Tools import plot_bid_timeperiod, plot_bid_timeperiod_line\n",
    "from TFM_PredCurve_Tools import plot_energy_timeperiod, plot_energy_timeperiod_line\n",
    "from TFM_PredCurve_Tools import bid_comparison, bid_comp_cumm"
   ]
  },
  {
   "cell_type": "code",
   "execution_count": 2,
   "metadata": {},
   "outputs": [],
   "source": [
    "unit_path = './Data_Output/'"
   ]
  },
  {
   "cell_type": "markdown",
   "metadata": {},
   "source": [
    "In this notebook 5 different FRONTENDS have been developed to see how several combined cycle and hydraulic units present their bids in the Day-ahead electricity market."
   ]
  },
  {
   "cell_type": "markdown",
   "metadata": {},
   "source": [
    "## 1. UNIT BID PLOT\n",
    "\n",
    "\n",
    "In this section, a frontend where it is possible to see graphically the shape of the bid for a specific unit (depending on the unit technology), date and hour.\n",
    "\n",
    "To see the followign code must be write in terminal:\n",
    "\n",
    "> streamlit run 41_FRONTEND_BidCurve_Units.py"
   ]
  },
  {
   "cell_type": "code",
   "execution_count": 4,
   "metadata": {
    "scrolled": false
   },
   "outputs": [
    {
     "name": "stdout",
     "output_type": "stream",
     "text": [
      "Overwriting 41_FRONTEND_BidCurve_Units.py\n"
     ]
    }
   ],
   "source": [
    "%%writefile 41_FRONTEND_BidCurve_Units.py\n",
    "\n",
    "import streamlit as st\n",
    "import time\n",
    "import pandas as pd\n",
    "import numpy as np\n",
    "import matplotlib.pyplot as plt\n",
    "import seaborn as sns\n",
    "\n",
    "from TFM_PredCurve_Tools import plot_bid_margprice\n",
    "\n",
    "sns.set_theme(style='darkgrid')\n",
    "\n",
    "st.write('# UNIT BID CURVE')\n",
    "\n",
    "unit_path = './Data_Output/'\n",
    "\n",
    "unit_type_list = ['COMBINED CYCLE', 'HYDRAULIC']\n",
    "\n",
    "unit_list = ['PALOS1',\n",
    "             'PALOS2',\n",
    "             'PALOS3',\n",
    "             'SAGUNTO1',\n",
    "             'ARCOS1',\n",
    "             'COLON4',\n",
    "             'ESCATRON3',\n",
    "             'ALGECIRAS3',\n",
    "             'CASTELNOU']\n",
    "\n",
    "unit_hyd_list = ['AGUAYO_GEN',\n",
    "                 'TAJOENCANT',\n",
    "                 'MORALETS',\n",
    "                 'MUELA']\n",
    "\n",
    "unit_type = st.selectbox('SELECT THE UNIT TECHNOLOGY', unit_type_list)\n",
    "\n",
    "if unit_type == 'COMBINED CYCLE':\n",
    "    unit = st.selectbox('SELECT A UNIT', unit_list)\n",
    "else:\n",
    "    unit = st.selectbox('SELECT A UNIT', unit_hyd_list)\n",
    "    \n",
    "df_unit = pd.read_csv(unit_path + unit + '_DataFrame.csv',index_col=0)\n",
    "    \n",
    "year_list = df_unit['Year'].unique()\n",
    "year = st.selectbox('SELECT A YEAR', year_list)\n",
    "    \n",
    "month_list = df_unit[df_unit['Year']==year]['Month'].unique()\n",
    "month = st.selectbox('SELECT A MONTH', month_list)\n",
    "    \n",
    "day_list = df_unit[(df_unit['Year']==year) & \n",
    "                    (df_unit['Month']==month)]['Day'].unique()\n",
    "day = st.selectbox('SELECT A DAY', day_list)\n",
    "    \n",
    "hour_list = df_unit[(df_unit['Year']==year) & \n",
    "                     (df_unit['Month']==month) & \n",
    "                     (df_unit['Day']==day)]['Period'].unique()\n",
    "hour = st.selectbox('SELECT AN HOUR', hour_list)\n",
    "\n",
    "date = str(year) + '-' + str(month) + '-' + str(day)\n",
    "\n",
    "df_unit['Date'] = df_unit['Date'].astype('datetime64[ns]')\n",
    "\n",
    "df_plot = df_unit[(df_unit['Date'] == date) & (df_unit['Period'] == hour)]\n",
    "\n",
    "st.set_option('deprecation.showPyplotGlobalUse', False)\n",
    "\n",
    "my_chart = plot_bid_margprice(df_plot, date, hour, unit)\n",
    "st.pyplot(my_chart)"
   ]
  },
  {
   "cell_type": "markdown",
   "metadata": {},
   "source": [
    "## 2. UNIT 24 BIDS PLOT\n",
    "\n",
    "\n",
    "In this section, a frontend where it is possible to see graphically the shape of the bids for a specific unit (depending on the unit technology), and date.\n",
    "\n",
    "To see the followign code must be write in terminal:\n",
    "\n",
    "> streamlit run 42_FRONTEND_24h_BidCurve_Units.py"
   ]
  },
  {
   "cell_type": "code",
   "execution_count": 5,
   "metadata": {
    "scrolled": false
   },
   "outputs": [
    {
     "name": "stdout",
     "output_type": "stream",
     "text": [
      "Writing 42_FRONTEND_24h_BidCurve_Units.py\n"
     ]
    }
   ],
   "source": [
    "%%writefile 42_FRONTEND_24h_BidCurve_Units.py\n",
    "\n",
    "import streamlit as st\n",
    "import time\n",
    "import pandas as pd\n",
    "import numpy as np\n",
    "import matplotlib.pyplot as plt\n",
    "import seaborn as sns\n",
    "\n",
    "\n",
    "from TFM_PredCurve_Tools import plot_24bids\n",
    "\n",
    "sns.set_theme(style='darkgrid')\n",
    "\n",
    "st.write('# UNIT DAY BID CURVES')\n",
    "\n",
    "unit_path = './Data_Output/'\n",
    "\n",
    "unit_type_list = ['COMBINED CYCLE', 'HYDRAULIC']\n",
    "\n",
    "unit_list = ['PALOS1',\n",
    "             'PALOS2',\n",
    "             'PALOS3',\n",
    "             'SAGUNTO1',\n",
    "             'ARCOS1',\n",
    "             'COLON4',\n",
    "             'ESCATRON3',\n",
    "             'ALGECIRAS3',\n",
    "             'CASTELNOU']\n",
    "\n",
    "unit_hyd_list = ['AGUAYO_GEN',\n",
    "                 'TAJOENCANT',\n",
    "                 'MORALETS',\n",
    "                 'MUELA']\n",
    "\n",
    "unit_type = st.selectbox('SELECT THE UNIT TECHNOLOGY', unit_type_list)\n",
    "\n",
    "if unit_type == 'COMBINED CYCLE':\n",
    "    unit = st.selectbox('SELECT A UNIT', unit_list)\n",
    "else:\n",
    "    unit = st.selectbox('SELECT A UNIT', unit_hyd_list)\n",
    "    \n",
    "df_unit = pd.read_csv(unit_path + unit + '_DataFrame.csv',index_col=0)\n",
    "    \n",
    "year_list = df_unit['Year'].unique()\n",
    "year = st.selectbox('SELECT A YEAR', year_list)\n",
    "    \n",
    "month_list = df_unit[df_unit['Year']==year]['Month'].unique()\n",
    "month = st.selectbox('SELECT A MONTH', month_list)\n",
    "    \n",
    "day_list = df_unit[(df_unit['Year']==year) & \n",
    "                    (df_unit['Month']==month)]['Day'].unique()\n",
    "day = st.selectbox('SELECT A DAY', day_list)\n",
    "    \n",
    "date = str(year) + '-' + str(month) + '-' + str(day)\n",
    "\n",
    "df_unit['Date'] = df_unit['Date'].astype('datetime64[ns]')\n",
    "\n",
    "df_plot = df_unit[(df_unit['Date'] == date)]\n",
    "\n",
    "st.set_option('deprecation.showPyplotGlobalUse', False)\n",
    "\n",
    "my_chart = plot_24bids(df_plot, date)\n",
    "st.pyplot(my_chart)"
   ]
  },
  {
   "cell_type": "markdown",
   "metadata": {},
   "source": [
    "## 3. UNIT BIDS TIME PERIOD PLOT\n",
    "\n",
    "\n",
    "In this section, a frontend where it is possible to see graphically the shape of the bids for a specific unit (depending on the unit technology) during the total time period considered in this TFM.\n",
    "\n",
    "To see the followign code must be write in terminal:\n",
    "\n",
    "> streamlit run 43_FRONTEND_Bid_Units_timeperiod.py"
   ]
  },
  {
   "cell_type": "code",
   "execution_count": 6,
   "metadata": {
    "scrolled": false
   },
   "outputs": [
    {
     "name": "stdout",
     "output_type": "stream",
     "text": [
      "Writing 43_FRONTEND_Bid_Units_timeperiod.py\n"
     ]
    }
   ],
   "source": [
    "%%writefile 43_FRONTEND_Bid_Units_timeperiod.py\n",
    "\n",
    "import streamlit as st\n",
    "import time\n",
    "import pandas as pd\n",
    "import numpy as np\n",
    "import matplotlib.pyplot as plt\n",
    "import seaborn as sns\n",
    "\n",
    "from TFM_PredCurve_Tools import plot_bid_timeperiod\n",
    "\n",
    "sns.set_theme(style='darkgrid')\n",
    "\n",
    "st.write('# UNIT BID CURVES TIME PERIOD')\n",
    "\n",
    "unit_path = './Data_Output/'\n",
    "\n",
    "unit_type_list = ['COMBINED CYCLE', 'HYDRAULIC']\n",
    "\n",
    "unit_list = ['PALOS1',\n",
    "             'PALOS2',\n",
    "             'PALOS3',\n",
    "             'SAGUNTO1',\n",
    "             'ARCOS1',\n",
    "             'COLON4',\n",
    "             'ESCATRON3',\n",
    "             'ALGECIRAS3',\n",
    "             'CASTELNOU']\n",
    "\n",
    "unit_hyd_list = ['AGUAYO_GEN',\n",
    "                 'TAJOENCANT',\n",
    "                 'MORALETS',\n",
    "                 'MUELA']\n",
    "\n",
    "unit_type = st.selectbox('SELECT THE UNIT TECHNOLOGY', unit_type_list)\n",
    "\n",
    "if unit_type == 'COMBINED CYCLE':\n",
    "    unit = st.selectbox('SELECT A UNIT', unit_list)\n",
    "else:\n",
    "    unit = st.selectbox('SELECT A UNIT', unit_hyd_list)\n",
    "    \n",
    "df_unit = pd.read_csv(unit_path + unit + '_DataFrame.csv',index_col=0)\n",
    "\n",
    "df_unit['Date'] = df_unit['Date'].astype('datetime64[ns]')\n",
    "\n",
    "df_unit.rename(columns={\"Period\": \"Hour\"}, inplace = True)\n",
    "df_unit['Date_Hour'] = pd.to_datetime(df_unit[['Year', 'Month', 'Day', 'Hour']])\n",
    "df_unit_reduced = df_unit.set_index('Date_Hour') #New time index is created\n",
    "df_unit_reduced = df_unit_reduced[['Block', 'Hour', 'Energy_tot', 'Price', 'Marg_Price', 'NG_Price']]\n",
    "\n",
    "st.set_option('deprecation.showPyplotGlobalUse', False)\n",
    "\n",
    "start_date = str(df_unit['Date'].min())[0:10]\n",
    "end_date = str(df_unit['Date'].max())[0:10]\n",
    "\n",
    "start_sel_block = df_unit['Block'].min()\n",
    "end_sel_block = df_unit['Block'].max()\n",
    "\n",
    "num_hours = df_unit.groupby(['Date','Hour'])['Block'].count().value_counts().sum()\n",
    "serie_block_all = df_unit.groupby(['Block'])['Hour'].count()[df_unit.groupby(['Block'])['Hour'].count() == num_hours]\n",
    "serie_block_all = serie_block_all.reset_index()\n",
    "block_all = serie_block_all['Block'].min()\n",
    "\n",
    "my_chart = plot_bid_timeperiod(df_unit_reduced, start_date, end_date, start_sel_block, end_sel_block, block_all)\n",
    "st.pyplot(my_chart)"
   ]
  },
  {
   "cell_type": "markdown",
   "metadata": {},
   "source": [
    "## 4. UNIT BIDS COMPARISON PLOT\n",
    "\n",
    "\n",
    "In this section, a frontend where it is possible to see graphically a comparison of the unit bids considered in this TFM for a specific date and hour.\n",
    "\n",
    "To see the followign code must be write in terminal:\n",
    "\n",
    "> streamlit run 44_FRONTEND_BidCurve_Comparison.py"
   ]
  },
  {
   "cell_type": "code",
   "execution_count": 7,
   "metadata": {
    "scrolled": false
   },
   "outputs": [
    {
     "name": "stdout",
     "output_type": "stream",
     "text": [
      "Writing 44_FRONTEND_BidCurve_Comparison.py\n"
     ]
    }
   ],
   "source": [
    "%%writefile 44_FRONTEND_BidCurve_Comparison.py\n",
    "\n",
    "import streamlit as st\n",
    "import time\n",
    "import pandas as pd\n",
    "import numpy as np\n",
    "import matplotlib.pyplot as plt\n",
    "import seaborn as sns\n",
    "\n",
    "from TFM_PredCurve_Tools import bid_comparison\n",
    "\n",
    "sns.set_theme(style='darkgrid')\n",
    "\n",
    "st.write('# UNIT BID CURVES COMPARISON')\n",
    "\n",
    "unit_path = './Data_Output/'\n",
    "\n",
    "unit_type_list = ['COMBINED CYCLE', 'HYDRAULIC']\n",
    "\n",
    "unit_type = st.selectbox('SELECT THE UNIT TECHNOLOGY', unit_type_list)\n",
    "\n",
    "if unit_type == 'COMBINED CYCLE':\n",
    "    df_units = pd.read_csv(unit_path + 'df_units_CC_112019_102020.csv',index_col=0) \n",
    "else:\n",
    "    df_units = pd.read_csv(unit_path + 'df_units_HYD_112019_102020.csv',index_col=0)\n",
    "\n",
    "df_units['Date'] = df_units['Date'].astype('datetime64[ns]')\n",
    "\n",
    "year_list = df_units['Year'].unique()\n",
    "year = st.selectbox('SELECT A YEAR', year_list)\n",
    "    \n",
    "month_list = df_units[df_units['Year']==year]['Month'].unique()\n",
    "month = st.selectbox('SELECT A MONTH', month_list)\n",
    "    \n",
    "day_list = df_units[(df_units['Year']==year) & \n",
    "                    (df_units['Month']==month)]['Day'].unique()\n",
    "day = st.selectbox('SELECT A DAY', day_list)\n",
    "    \n",
    "date = str(year) + '-' + str(month) + '-' + str(day)\n",
    "\n",
    "hour_list = df_units[(df_units['Year']==year) & \n",
    "                     (df_units['Month']==month) & \n",
    "                     (df_units['Day']==day)]['Period'].unique()\n",
    "hour = st.selectbox('SELECT AN HOUR', hour_list)\n",
    "\n",
    "\n",
    "st.set_option('deprecation.showPyplotGlobalUse', False)\n",
    "\n",
    "my_chart = bid_comparison(df_units, date, hour)\n",
    "st.pyplot(my_chart)"
   ]
  },
  {
   "cell_type": "markdown",
   "metadata": {},
   "source": [
    "## 5. UNIT AGGREGATED BIDS COMPARISON PLOT\n",
    "\n",
    "\n",
    "In this section, a frontend where it is possible to see graphically a comparison of the unit aggregated bids for a specific date and hour.\n",
    "\n",
    "To see the followign code must be write in terminal:\n",
    "\n",
    "> streamlit run 45_FRONTEND_BidCurve_CompCumm.py"
   ]
  },
  {
   "cell_type": "code",
   "execution_count": 8,
   "metadata": {
    "scrolled": false
   },
   "outputs": [
    {
     "name": "stdout",
     "output_type": "stream",
     "text": [
      "Writing 45_FRONTEND_BidCurve_CompCumm.py\n"
     ]
    }
   ],
   "source": [
    "%%writefile 45_FRONTEND_BidCurve_CompCumm.py\n",
    "\n",
    "import streamlit as st\n",
    "import time\n",
    "import pandas as pd\n",
    "import numpy as np\n",
    "import matplotlib.pyplot as plt\n",
    "import seaborn as sns\n",
    "\n",
    "from TFM_PredCurve_Tools import bid_comp_cumm\n",
    "\n",
    "sns.set_theme(style='darkgrid')\n",
    "\n",
    "st.write('# UNIT BID CURVES AGGREGATED')\n",
    "\n",
    "unit_path = './Data_Output/'\n",
    "\n",
    "unit_type_list = ['COMBINED CYCLE', 'HYDRAULIC']\n",
    "\n",
    "unit_type = st.selectbox('SELECT THE UNIT TECHNOLOGY', unit_type_list)\n",
    "\n",
    "if unit_type == 'COMBINED CYCLE':\n",
    "    df_units = pd.read_csv(unit_path + 'df_units_CC_112019_102020.csv',index_col=0) \n",
    "else:\n",
    "    df_units = pd.read_csv(unit_path + 'df_units_HYD_112019_102020.csv',index_col=0)\n",
    "\n",
    "df_units['Date'] = df_units['Date'].astype('datetime64[ns]')\n",
    "\n",
    "year_list = df_units['Year'].unique()\n",
    "year = st.selectbox('SELECT A YEAR', year_list)\n",
    "    \n",
    "month_list = df_units[df_units['Year']==year]['Month'].unique()\n",
    "month = st.selectbox('SELECT A MONTH', month_list)\n",
    "    \n",
    "day_list = df_units[(df_units['Year']==year) & \n",
    "                    (df_units['Month']==month)]['Day'].unique()\n",
    "day = st.selectbox('SELECT A DAY', day_list)\n",
    "    \n",
    "date = str(year) + '-' + str(month) + '-' + str(day)\n",
    "\n",
    "hour_list = df_units[(df_units['Year']==year) & \n",
    "                     (df_units['Month']==month) & \n",
    "                     (df_units['Day']==day)]['Period'].unique()\n",
    "hour = st.selectbox('SELECT AN HOUR', hour_list)\n",
    "\n",
    "\n",
    "st.set_option('deprecation.showPyplotGlobalUse', False)\n",
    "\n",
    "my_chart = bid_comp_cumm(df_units, date, hour)\n",
    "st.pyplot(my_chart)"
   ]
  }
 ],
 "metadata": {
  "kernelspec": {
   "display_name": "Python 3",
   "language": "python",
   "name": "python3"
  },
  "language_info": {
   "codemirror_mode": {
    "name": "ipython",
    "version": 3
   },
   "file_extension": ".py",
   "mimetype": "text/x-python",
   "name": "python",
   "nbconvert_exporter": "python",
   "pygments_lexer": "ipython3",
   "version": "3.8.5"
  }
 },
 "nbformat": 4,
 "nbformat_minor": 4
}
