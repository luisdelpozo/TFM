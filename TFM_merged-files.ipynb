{
 "cells": [
  {
   "cell_type": "code",
   "execution_count": 1,
   "metadata": {},
   "outputs": [],
   "source": [
    "import pandas as pd\n",
    "import numpy as np\n",
    "import matplotlib.pyplot as plt"
   ]
  },
  {
   "cell_type": "code",
   "execution_count": 2,
   "metadata": {},
   "outputs": [],
   "source": [
    "#EXPLORANDO ARCHIVO CABECERAS"
   ]
  },
  {
   "cell_type": "code",
   "execution_count": 3,
   "metadata": {},
   "outputs": [],
   "source": [
    "archive_list = !ls -1 /home/dsc/Documents/TFM/Data/OMIE/cab_202009/"
   ]
  },
  {
   "cell_type": "code",
   "execution_count": 4,
   "metadata": {},
   "outputs": [
    {
     "data": {
      "text/plain": [
       "['CAB_20200901.1',\n",
       " 'CAB_20200902.1',\n",
       " 'CAB_20200903.1',\n",
       " 'CAB_20200904.1',\n",
       " 'CAB_20200905.1',\n",
       " 'CAB_20200906.1',\n",
       " 'CAB_20200907.1',\n",
       " 'CAB_20200908.1',\n",
       " 'CAB_20200909.1',\n",
       " 'CAB_20200910.1',\n",
       " 'CAB_20200911.1',\n",
       " 'CAB_20200912.1',\n",
       " 'CAB_20200913.1',\n",
       " 'CAB_20200914.1',\n",
       " 'CAB_20200915.1',\n",
       " 'CAB_20200916.1',\n",
       " 'CAB_20200917.1',\n",
       " 'CAB_20200918.1',\n",
       " 'CAB_20200919.1',\n",
       " 'CAB_20200920.1',\n",
       " 'CAB_20200921.1',\n",
       " 'CAB_20200922.1',\n",
       " 'CAB_20200923.1',\n",
       " 'CAB_20200924.1',\n",
       " 'CAB_20200925.1',\n",
       " 'CAB_20200926.1',\n",
       " 'CAB_20200927.1',\n",
       " 'CAB_20200928.1',\n",
       " 'CAB_20200929.1',\n",
       " 'CAB_20200930.1']"
      ]
     },
     "execution_count": 4,
     "metadata": {},
     "output_type": "execute_result"
    }
   ],
   "source": [
    "archive_list"
   ]
  },
  {
   "cell_type": "code",
   "execution_count": 5,
   "metadata": {},
   "outputs": [],
   "source": [
    "path = '/home/dsc/Documents/TFM/Data/OMIE/cab_202009/CAB_20200901.1'"
   ]
  },
  {
   "cell_type": "code",
   "execution_count": 6,
   "metadata": {},
   "outputs": [],
   "source": [
    "archive_path = '/home/dsc/Documents/TFM/Data/OMIE/cab_202009/'"
   ]
  },
  {
   "cell_type": "code",
   "execution_count": null,
   "metadata": {},
   "outputs": [],
   "source": []
  },
  {
   "cell_type": "code",
   "execution_count": 7,
   "metadata": {},
   "outputs": [
    {
     "name": "stdout",
     "output_type": "stream",
     "text": [
      "1483\n",
      "1488\n",
      "1465\n",
      "1488\n",
      "1470\n",
      "1450\n",
      "1470\n",
      "1474\n",
      "1475\n",
      "1477\n",
      "1484\n",
      "1467\n",
      "1452\n",
      "1478\n",
      "1474\n",
      "1463\n",
      "1461\n",
      "1463\n",
      "1465\n",
      "1443\n",
      "1481\n",
      "1478\n",
      "1481\n",
      "1474\n",
      "1484\n",
      "1471\n",
      "1454\n",
      "1480\n",
      "1482\n",
      "1477\n"
     ]
    }
   ],
   "source": [
    "archive_09 = []\n",
    "\n",
    "for archive in archive_list:\n",
    "    with open(archive_path + archive, errors='replace') as f:\n",
    "        lines = f.readlines()\n",
    "        archive_09.append(lines)\n",
    "        print(len(lines))"
   ]
  },
  {
   "cell_type": "code",
   "execution_count": null,
   "metadata": {},
   "outputs": [],
   "source": []
  },
  {
   "cell_type": "code",
   "execution_count": null,
   "metadata": {},
   "outputs": [],
   "source": []
  },
  {
   "cell_type": "code",
   "execution_count": null,
   "metadata": {},
   "outputs": [],
   "source": [
    "# f = open(archive_path + archive, errors='replace')"
   ]
  },
  {
   "cell_type": "code",
   "execution_count": 8,
   "metadata": {},
   "outputs": [
    {
     "data": {
      "text/plain": [
       "14"
      ]
     },
     "execution_count": 8,
     "metadata": {},
     "output_type": "execute_result"
    }
   ],
   "source": [
    "#Pruebas para obtener la fecha del nombre del archivo\n",
    "len(archive)"
   ]
  },
  {
   "cell_type": "code",
   "execution_count": 9,
   "metadata": {},
   "outputs": [
    {
     "data": {
      "text/plain": [
       "'20200930'"
      ]
     },
     "execution_count": 9,
     "metadata": {},
     "output_type": "execute_result"
    }
   ],
   "source": [
    "archive[4:12]"
   ]
  },
  {
   "cell_type": "code",
   "execution_count": 10,
   "metadata": {},
   "outputs": [
    {
     "data": {
      "text/plain": [
       "'0930'"
      ]
     },
     "execution_count": 10,
     "metadata": {},
     "output_type": "execute_result"
    }
   ],
   "source": [
    "archive[8:12]"
   ]
  },
  {
   "cell_type": "code",
   "execution_count": 11,
   "metadata": {},
   "outputs": [
    {
     "data": {
      "text/plain": [
       "str"
      ]
     },
     "execution_count": 11,
     "metadata": {},
     "output_type": "execute_result"
    }
   ],
   "source": [
    "type(archive[8:12])"
   ]
  },
  {
   "cell_type": "code",
   "execution_count": null,
   "metadata": {},
   "outputs": [],
   "source": []
  },
  {
   "cell_type": "code",
   "execution_count": 12,
   "metadata": {
    "scrolled": false
   },
   "outputs": [
    {
     "data": {
      "text/plain": [
       "30"
      ]
     },
     "execution_count": 12,
     "metadata": {},
     "output_type": "execute_result"
    }
   ],
   "source": [
    "len(archive_09)"
   ]
  },
  {
   "cell_type": "code",
   "execution_count": 13,
   "metadata": {},
   "outputs": [
    {
     "data": {
      "text/plain": [
       "1483"
      ]
     },
     "execution_count": 13,
     "metadata": {},
     "output_type": "execute_result"
    }
   ],
   "source": [
    "len(archive_09[0])"
   ]
  },
  {
   "cell_type": "code",
   "execution_count": 14,
   "metadata": {},
   "outputs": [
    {
     "data": {
      "text/plain": [
       "170"
      ]
     },
     "execution_count": 14,
     "metadata": {},
     "output_type": "execute_result"
    }
   ],
   "source": [
    "len(archive_09[0][0])"
   ]
  },
  {
   "cell_type": "code",
   "execution_count": 15,
   "metadata": {},
   "outputs": [
    {
     "data": {
      "text/plain": [
       "str"
      ]
     },
     "execution_count": 15,
     "metadata": {},
     "output_type": "execute_result"
    }
   ],
   "source": [
    "type(archive)"
   ]
  },
  {
   "cell_type": "code",
   "execution_count": 16,
   "metadata": {
    "collapsed": true
   },
   "outputs": [
    {
     "name": "stdout",
     "output_type": "stream",
     "text": [
      "OK\n",
      "OK\n",
      "OK\n",
      "OK\n",
      "OK\n",
      "OK\n",
      "OK\n",
      "OK\n",
      "OK\n",
      "OK\n",
      "OK\n",
      "OK\n",
      "OK\n",
      "OK\n",
      "OK\n",
      "OK\n",
      "OK\n",
      "OK\n",
      "OK\n",
      "OK\n",
      "OK\n",
      "OK\n",
      "OK\n",
      "OK\n",
      "OK\n",
      "OK\n",
      "OK\n",
      "OK\n",
      "OK\n",
      "OK\n"
     ]
    }
   ],
   "source": [
    "#Comprobación de que todas las lineas tienen todas el mismo número de caracteres, en este caso 170.\n",
    "\n",
    "for x in range(len(archive_09)):\n",
    "    for i in archive_09[x]:\n",
    "        if len(i) != 170:\n",
    "            print(len(i))\n",
    "    print('OK')"
   ]
  },
  {
   "cell_type": "code",
   "execution_count": null,
   "metadata": {},
   "outputs": [],
   "source": []
  },
  {
   "cell_type": "code",
   "execution_count": 17,
   "metadata": {},
   "outputs": [
    {
     "data": {
      "text/plain": [
       "list"
      ]
     },
     "execution_count": 17,
     "metadata": {},
     "output_type": "execute_result"
    }
   ],
   "source": [
    "type(lines)"
   ]
  },
  {
   "cell_type": "code",
   "execution_count": 18,
   "metadata": {
    "scrolled": true
   },
   "outputs": [
    {
     "data": {
      "text/plain": [
       "'1696149  6EDPC2  EDP COMERCIAL COMPRA (PORT)   CNO            0.000            0.000    0.0    0.0            0.000            0.000 6000.0    0.0    0.0 220100531155344\\n'"
      ]
     },
     "execution_count": 18,
     "metadata": {},
     "output_type": "execute_result"
    }
   ],
   "source": [
    "lines[0]"
   ]
  },
  {
   "cell_type": "code",
   "execution_count": 19,
   "metadata": {},
   "outputs": [
    {
     "data": {
      "text/plain": [
       "170"
      ]
     },
     "execution_count": 19,
     "metadata": {},
     "output_type": "execute_result"
    }
   ],
   "source": [
    "len(lines[0])"
   ]
  },
  {
   "cell_type": "code",
   "execution_count": 20,
   "metadata": {
    "scrolled": false
   },
   "outputs": [
    {
     "data": {
      "text/plain": [
       "'1717319  3EONUC01EONUR CONSUMO CLIENTES TUR    CNO            0.000            0.000    0.0    0.0            0.000            0.000  400.0    0.0    0.0 120111128182553\\n'"
      ]
     },
     "execution_count": 20,
     "metadata": {},
     "output_type": "execute_result"
    }
   ],
   "source": [
    "lines[1]"
   ]
  },
  {
   "cell_type": "code",
   "execution_count": 21,
   "metadata": {},
   "outputs": [
    {
     "data": {
      "text/plain": [
       "170"
      ]
     },
     "execution_count": 21,
     "metadata": {},
     "output_type": "execute_result"
    }
   ],
   "source": [
    "len(lines[1])"
   ]
  },
  {
   "cell_type": "code",
   "execution_count": 22,
   "metadata": {
    "scrolled": true
   },
   "outputs": [
    {
     "data": {
      "text/plain": [
       "' 298526  4CENTC01C�NTRICA ENERG�A COM. 1 (ESP) CNO            0.000            0.000    0.0    0.0            0.000            0.000 1200.0    0.0    0.0 120161118143949\\n'"
      ]
     },
     "execution_count": 22,
     "metadata": {},
     "output_type": "execute_result"
    }
   ],
   "source": [
    "lines[7]"
   ]
  },
  {
   "cell_type": "code",
   "execution_count": 23,
   "metadata": {},
   "outputs": [
    {
     "data": {
      "text/plain": [
       "170"
      ]
     },
     "execution_count": 23,
     "metadata": {},
     "output_type": "execute_result"
    }
   ],
   "source": [
    "len(lines[7])"
   ]
  },
  {
   "cell_type": "code",
   "execution_count": 24,
   "metadata": {},
   "outputs": [],
   "source": [
    "x = lines[0]"
   ]
  },
  {
   "cell_type": "code",
   "execution_count": 25,
   "metadata": {},
   "outputs": [
    {
     "data": {
      "text/plain": [
       "'1696149  6EDPC2  EDP COMERCIAL COMPRA (PORT)   CNO            0.000            0.000    0.0    0.0            0.000            0.000 6000.0    0.0    0.0 220100531155344\\n'"
      ]
     },
     "execution_count": 25,
     "metadata": {},
     "output_type": "execute_result"
    }
   ],
   "source": [
    "x"
   ]
  },
  {
   "cell_type": "code",
   "execution_count": 26,
   "metadata": {},
   "outputs": [
    {
     "data": {
      "text/plain": [
       "170"
      ]
     },
     "execution_count": 26,
     "metadata": {},
     "output_type": "execute_result"
    }
   ],
   "source": [
    "len(x)"
   ]
  },
  {
   "cell_type": "code",
   "execution_count": 27,
   "metadata": {},
   "outputs": [
    {
     "data": {
      "text/plain": [
       "'1696149'"
      ]
     },
     "execution_count": 27,
     "metadata": {},
     "output_type": "execute_result"
    }
   ],
   "source": [
    "x[0:7]"
   ]
  },
  {
   "cell_type": "code",
   "execution_count": 28,
   "metadata": {},
   "outputs": [
    {
     "data": {
      "text/plain": [
       "'  6'"
      ]
     },
     "execution_count": 28,
     "metadata": {},
     "output_type": "execute_result"
    }
   ],
   "source": [
    "x[7:10]"
   ]
  },
  {
   "cell_type": "code",
   "execution_count": 29,
   "metadata": {},
   "outputs": [
    {
     "data": {
      "text/plain": [
       "'EDPC2  '"
      ]
     },
     "execution_count": 29,
     "metadata": {},
     "output_type": "execute_result"
    }
   ],
   "source": [
    "x[10:17]"
   ]
  },
  {
   "cell_type": "code",
   "execution_count": 30,
   "metadata": {},
   "outputs": [
    {
     "data": {
      "text/plain": [
       "'EDP COMERCIAL COMPRA (PORT)   '"
      ]
     },
     "execution_count": 30,
     "metadata": {},
     "output_type": "execute_result"
    }
   ],
   "source": [
    "x[17:47]"
   ]
  },
  {
   "cell_type": "code",
   "execution_count": 31,
   "metadata": {},
   "outputs": [
    {
     "data": {
      "text/plain": [
       "'CNO'"
      ]
     },
     "execution_count": 31,
     "metadata": {},
     "output_type": "execute_result"
    }
   ],
   "source": [
    "x[47:50]"
   ]
  },
  {
   "cell_type": "code",
   "execution_count": 32,
   "metadata": {},
   "outputs": [
    {
     "data": {
      "text/plain": [
       "'            0.000'"
      ]
     },
     "execution_count": 32,
     "metadata": {},
     "output_type": "execute_result"
    }
   ],
   "source": [
    "x[50:67]"
   ]
  },
  {
   "cell_type": "code",
   "execution_count": 33,
   "metadata": {},
   "outputs": [
    {
     "data": {
      "text/plain": [
       "'            0.000'"
      ]
     },
     "execution_count": 33,
     "metadata": {},
     "output_type": "execute_result"
    }
   ],
   "source": [
    "x[67:84]"
   ]
  },
  {
   "cell_type": "code",
   "execution_count": 34,
   "metadata": {},
   "outputs": [
    {
     "data": {
      "text/plain": [
       "'    0.0'"
      ]
     },
     "execution_count": 34,
     "metadata": {},
     "output_type": "execute_result"
    }
   ],
   "source": [
    "x[84:91]"
   ]
  },
  {
   "cell_type": "code",
   "execution_count": 35,
   "metadata": {},
   "outputs": [
    {
     "data": {
      "text/plain": [
       "'    0.0'"
      ]
     },
     "execution_count": 35,
     "metadata": {},
     "output_type": "execute_result"
    }
   ],
   "source": [
    "x[91:98]"
   ]
  },
  {
   "cell_type": "code",
   "execution_count": 36,
   "metadata": {},
   "outputs": [
    {
     "data": {
      "text/plain": [
       "'            0.000'"
      ]
     },
     "execution_count": 36,
     "metadata": {},
     "output_type": "execute_result"
    }
   ],
   "source": [
    "x[98:115]"
   ]
  },
  {
   "cell_type": "code",
   "execution_count": 37,
   "metadata": {},
   "outputs": [
    {
     "data": {
      "text/plain": [
       "'            0.000'"
      ]
     },
     "execution_count": 37,
     "metadata": {},
     "output_type": "execute_result"
    }
   ],
   "source": [
    "x[115:132]"
   ]
  },
  {
   "cell_type": "code",
   "execution_count": 38,
   "metadata": {},
   "outputs": [
    {
     "data": {
      "text/plain": [
       "' 6000.0'"
      ]
     },
     "execution_count": 38,
     "metadata": {},
     "output_type": "execute_result"
    }
   ],
   "source": [
    "x[132:139]"
   ]
  },
  {
   "cell_type": "code",
   "execution_count": 39,
   "metadata": {},
   "outputs": [
    {
     "data": {
      "text/plain": [
       "'    0.0'"
      ]
     },
     "execution_count": 39,
     "metadata": {},
     "output_type": "execute_result"
    }
   ],
   "source": [
    "x[139:146]"
   ]
  },
  {
   "cell_type": "code",
   "execution_count": 40,
   "metadata": {},
   "outputs": [
    {
     "data": {
      "text/plain": [
       "'    0.0'"
      ]
     },
     "execution_count": 40,
     "metadata": {},
     "output_type": "execute_result"
    }
   ],
   "source": [
    "x[146:153]"
   ]
  },
  {
   "cell_type": "code",
   "execution_count": 41,
   "metadata": {},
   "outputs": [
    {
     "data": {
      "text/plain": [
       "' 220100531155344\\n'"
      ]
     },
     "execution_count": 41,
     "metadata": {},
     "output_type": "execute_result"
    }
   ],
   "source": [
    "x[153:170]"
   ]
  },
  {
   "cell_type": "code",
   "execution_count": 94,
   "metadata": {},
   "outputs": [
    {
     "data": {
      "text/plain": [
       "['1696149^  6^EDPC2  ^EDP COMERCIAL COMPRA (PORT)   ^CNO^ 6000.0']"
      ]
     },
     "execution_count": 94,
     "metadata": {},
     "output_type": "execute_result"
    }
   ],
   "source": [
    "[x[0:7] + '^' + x[7:10] +'^'+ x[10:17] +'^'+ x[17:47] +'^'+ x[47:50] +'^'+ x[132:139]]"
   ]
  },
  {
   "cell_type": "code",
   "execution_count": null,
   "metadata": {},
   "outputs": [],
   "source": []
  },
  {
   "cell_type": "code",
   "execution_count": 44,
   "metadata": {},
   "outputs": [
    {
     "data": {
      "text/plain": [
       "30"
      ]
     },
     "execution_count": 44,
     "metadata": {},
     "output_type": "execute_result"
    }
   ],
   "source": [
    "len(archive_09)"
   ]
  },
  {
   "cell_type": "code",
   "execution_count": 45,
   "metadata": {},
   "outputs": [
    {
     "data": {
      "text/plain": [
       "1483"
      ]
     },
     "execution_count": 45,
     "metadata": {},
     "output_type": "execute_result"
    }
   ],
   "source": [
    "len(archive_09[0])"
   ]
  },
  {
   "cell_type": "code",
   "execution_count": 46,
   "metadata": {},
   "outputs": [
    {
     "data": {
      "text/plain": [
       "'1696149'"
      ]
     },
     "execution_count": 46,
     "metadata": {},
     "output_type": "execute_result"
    }
   ],
   "source": [
    "archive_09[0][0][0:7]"
   ]
  },
  {
   "cell_type": "code",
   "execution_count": 95,
   "metadata": {},
   "outputs": [],
   "source": [
    "#Prueba crear una lista única con strings y ',' y solo la info que me interesa:\n",
    "#[Código de oferta, Num. versión, Unidad ofertante, Descripción unidad, Indicador Compra/Venta, Potencia máxima]\n",
    "#[[0:7],[7:10],[10:17],[17:47],[47:50],[132:139]]\n",
    "#Se unen con \"^\" para evitar problemas con el \"split\" y las \",\" en los nombres\n",
    "\n",
    "cab_total_09 = []\n",
    "\n",
    "for day in range(len(archive_09)):\n",
    "    for count in range(len(archive_09[day])):\n",
    "        cab_total_09.append((archive_09[day][count][0:7] +'^'+ \n",
    "                            archive_09[day][count][7:10] +'^'+ \n",
    "                            archive_09[day][count][10:17] +'^'+ \n",
    "                            archive_09[day][count][17:47] +'^'+ \n",
    "                            archive_09[day][count][47:50] +'^'+ \n",
    "                            archive_09[day][count][132:139] +'^'+ \n",
    "                            archive_list[day][4:8] + '^' + \n",
    "                            archive_list[day][8:10] + '^' + \n",
    "                            archive_list[day][10:12]).split('^'))"
   ]
  },
  {
   "cell_type": "code",
   "execution_count": null,
   "metadata": {},
   "outputs": [],
   "source": []
  },
  {
   "cell_type": "code",
   "execution_count": 96,
   "metadata": {},
   "outputs": [
    {
     "data": {
      "text/plain": [
       "44152"
      ]
     },
     "execution_count": 96,
     "metadata": {},
     "output_type": "execute_result"
    }
   ],
   "source": [
    "#Lista con todos la info.\n",
    "\n",
    "len(cab_total_09)"
   ]
  },
  {
   "cell_type": "code",
   "execution_count": 97,
   "metadata": {},
   "outputs": [
    {
     "data": {
      "text/plain": [
       "['1696149',\n",
       " '  6',\n",
       " 'EDPC2  ',\n",
       " 'EDP COMERCIAL COMPRA (PORT)   ',\n",
       " 'CNO',\n",
       " ' 6000.0',\n",
       " '2020',\n",
       " '09',\n",
       " '01']"
      ]
     },
     "execution_count": 97,
     "metadata": {},
     "output_type": "execute_result"
    }
   ],
   "source": [
    "cab_total_09[0]"
   ]
  },
  {
   "cell_type": "code",
   "execution_count": 98,
   "metadata": {},
   "outputs": [
    {
     "data": {
      "text/plain": [
       "list"
      ]
     },
     "execution_count": 98,
     "metadata": {},
     "output_type": "execute_result"
    }
   ],
   "source": [
    "type(cab_total_09)"
   ]
  },
  {
   "cell_type": "code",
   "execution_count": 99,
   "metadata": {
    "scrolled": true
   },
   "outputs": [
    {
     "data": {
      "text/plain": [
       "['1696149',\n",
       " '  6',\n",
       " 'EDPC2  ',\n",
       " 'EDP COMERCIAL COMPRA (PORT)   ',\n",
       " 'CNO',\n",
       " ' 6000.0',\n",
       " '2020',\n",
       " '09',\n",
       " '21']"
      ]
     },
     "execution_count": 99,
     "metadata": {},
     "output_type": "execute_result"
    }
   ],
   "source": [
    "cab_total_09[29390]"
   ]
  },
  {
   "cell_type": "code",
   "execution_count": 100,
   "metadata": {},
   "outputs": [
    {
     "data": {
      "text/plain": [
       "9"
      ]
     },
     "execution_count": 100,
     "metadata": {},
     "output_type": "execute_result"
    }
   ],
   "source": [
    "len(cab_total_09[29390])"
   ]
  },
  {
   "cell_type": "code",
   "execution_count": 101,
   "metadata": {},
   "outputs": [
    {
     "data": {
      "text/plain": [
       "list"
      ]
     },
     "execution_count": 101,
     "metadata": {},
     "output_type": "execute_result"
    }
   ],
   "source": [
    "type(cab_total_09[29390])"
   ]
  },
  {
   "cell_type": "code",
   "execution_count": 105,
   "metadata": {},
   "outputs": [],
   "source": [
    "#columns=['Bid_Code', 'Num_Version', 'Bid_Unit', 'Unit_Description', 'Sell/Buy', 'Pot_max', 'Year','Month','Day']\n",
    "df_cab_09 = pd.DataFrame(cab_total_09,\n",
    "                        columns=['Bid_Code', \n",
    "                                 'Num_Version', \n",
    "                                 'Bid_Unit', \n",
    "                                 'Unit_Description', \n",
    "                                 'Sell_Buy', \n",
    "                                 'Pot_max', \n",
    "                                 'Year',\n",
    "                                 'Month',\n",
    "                                 'Day'])"
   ]
  },
  {
   "cell_type": "code",
   "execution_count": 106,
   "metadata": {},
   "outputs": [
    {
     "data": {
      "text/html": [
       "<div>\n",
       "<style scoped>\n",
       "    .dataframe tbody tr th:only-of-type {\n",
       "        vertical-align: middle;\n",
       "    }\n",
       "\n",
       "    .dataframe tbody tr th {\n",
       "        vertical-align: top;\n",
       "    }\n",
       "\n",
       "    .dataframe thead th {\n",
       "        text-align: right;\n",
       "    }\n",
       "</style>\n",
       "<table border=\"1\" class=\"dataframe\">\n",
       "  <thead>\n",
       "    <tr style=\"text-align: right;\">\n",
       "      <th></th>\n",
       "      <th>Bid_Code</th>\n",
       "      <th>Num_Version</th>\n",
       "      <th>Bid_Unit</th>\n",
       "      <th>Unit_Description</th>\n",
       "      <th>Sell_Buy</th>\n",
       "      <th>Pot_max</th>\n",
       "      <th>Year</th>\n",
       "      <th>Month</th>\n",
       "      <th>Day</th>\n",
       "    </tr>\n",
       "  </thead>\n",
       "  <tbody>\n",
       "    <tr>\n",
       "      <th>0</th>\n",
       "      <td>1696149</td>\n",
       "      <td>6</td>\n",
       "      <td>EDPC2</td>\n",
       "      <td>EDP COMERCIAL COMPRA (PORT)</td>\n",
       "      <td>CNO</td>\n",
       "      <td>6000.0</td>\n",
       "      <td>2020</td>\n",
       "      <td>09</td>\n",
       "      <td>01</td>\n",
       "    </tr>\n",
       "    <tr>\n",
       "      <th>1</th>\n",
       "      <td>1717319</td>\n",
       "      <td>3</td>\n",
       "      <td>EONUC01</td>\n",
       "      <td>EONUR CONSUMO CLIENTES TUR</td>\n",
       "      <td>CNO</td>\n",
       "      <td>400.0</td>\n",
       "      <td>2020</td>\n",
       "      <td>09</td>\n",
       "      <td>01</td>\n",
       "    </tr>\n",
       "    <tr>\n",
       "      <th>2</th>\n",
       "      <td>1811311</td>\n",
       "      <td>7</td>\n",
       "      <td>IPG</td>\n",
       "      <td>C.H. IP GENERACION</td>\n",
       "      <td>VNO</td>\n",
       "      <td>84.0</td>\n",
       "      <td>2020</td>\n",
       "      <td>09</td>\n",
       "      <td>01</td>\n",
       "    </tr>\n",
       "    <tr>\n",
       "      <th>3</th>\n",
       "      <td>426609</td>\n",
       "      <td>12</td>\n",
       "      <td>IPB</td>\n",
       "      <td>C.H.B.IP BOMBEO</td>\n",
       "      <td>CNO</td>\n",
       "      <td>99.0</td>\n",
       "      <td>2020</td>\n",
       "      <td>09</td>\n",
       "      <td>01</td>\n",
       "    </tr>\n",
       "    <tr>\n",
       "      <th>4</th>\n",
       "      <td>2532852</td>\n",
       "      <td>28</td>\n",
       "      <td>NRENVD1</td>\n",
       "      <td>NRENO-VENTA</td>\n",
       "      <td>VNO</td>\n",
       "      <td>1.7</td>\n",
       "      <td>2020</td>\n",
       "      <td>09</td>\n",
       "      <td>01</td>\n",
       "    </tr>\n",
       "  </tbody>\n",
       "</table>\n",
       "</div>"
      ],
      "text/plain": [
       "  Bid_Code Num_Version Bid_Unit                Unit_Description Sell_Buy  \\\n",
       "0  1696149           6  EDPC2    EDP COMERCIAL COMPRA (PORT)         CNO   \n",
       "1  1717319           3  EONUC01  EONUR CONSUMO CLIENTES TUR          CNO   \n",
       "2  1811311           7  IPG      C.H. IP GENERACION                  VNO   \n",
       "3   426609          12  IPB      C.H.B.IP BOMBEO                     CNO   \n",
       "4  2532852          28  NRENVD1  NRENO-VENTA                         VNO   \n",
       "\n",
       "   Pot_max  Year Month Day  \n",
       "0   6000.0  2020    09  01  \n",
       "1    400.0  2020    09  01  \n",
       "2     84.0  2020    09  01  \n",
       "3     99.0  2020    09  01  \n",
       "4      1.7  2020    09  01  "
      ]
     },
     "execution_count": 106,
     "metadata": {},
     "output_type": "execute_result"
    }
   ],
   "source": [
    "df_cab_09.head()"
   ]
  },
  {
   "cell_type": "code",
   "execution_count": 107,
   "metadata": {},
   "outputs": [
    {
     "data": {
      "text/html": [
       "<div>\n",
       "<style scoped>\n",
       "    .dataframe tbody tr th:only-of-type {\n",
       "        vertical-align: middle;\n",
       "    }\n",
       "\n",
       "    .dataframe tbody tr th {\n",
       "        vertical-align: top;\n",
       "    }\n",
       "\n",
       "    .dataframe thead th {\n",
       "        text-align: right;\n",
       "    }\n",
       "</style>\n",
       "<table border=\"1\" class=\"dataframe\">\n",
       "  <thead>\n",
       "    <tr style=\"text-align: right;\">\n",
       "      <th></th>\n",
       "      <th>Bid_Code</th>\n",
       "      <th>Num_Version</th>\n",
       "      <th>Bid_Unit</th>\n",
       "      <th>Unit_Description</th>\n",
       "      <th>Sell_Buy</th>\n",
       "      <th>Pot_max</th>\n",
       "      <th>Year</th>\n",
       "      <th>Month</th>\n",
       "      <th>Day</th>\n",
       "    </tr>\n",
       "  </thead>\n",
       "  <tbody>\n",
       "    <tr>\n",
       "      <th>0</th>\n",
       "      <td>1696149</td>\n",
       "      <td>6</td>\n",
       "      <td>EDPC2</td>\n",
       "      <td>EDP COMERCIAL COMPRA (PORT)</td>\n",
       "      <td>CNO</td>\n",
       "      <td>6000.0</td>\n",
       "      <td>2020</td>\n",
       "      <td>09</td>\n",
       "      <td>01</td>\n",
       "    </tr>\n",
       "    <tr>\n",
       "      <th>1</th>\n",
       "      <td>1717319</td>\n",
       "      <td>3</td>\n",
       "      <td>EONUC01</td>\n",
       "      <td>EONUR CONSUMO CLIENTES TUR</td>\n",
       "      <td>CNO</td>\n",
       "      <td>400.0</td>\n",
       "      <td>2020</td>\n",
       "      <td>09</td>\n",
       "      <td>01</td>\n",
       "    </tr>\n",
       "    <tr>\n",
       "      <th>2</th>\n",
       "      <td>1811311</td>\n",
       "      <td>7</td>\n",
       "      <td>IPG</td>\n",
       "      <td>C.H. IP GENERACION</td>\n",
       "      <td>VNO</td>\n",
       "      <td>84.0</td>\n",
       "      <td>2020</td>\n",
       "      <td>09</td>\n",
       "      <td>01</td>\n",
       "    </tr>\n",
       "    <tr>\n",
       "      <th>3</th>\n",
       "      <td>426609</td>\n",
       "      <td>12</td>\n",
       "      <td>IPB</td>\n",
       "      <td>C.H.B.IP BOMBEO</td>\n",
       "      <td>CNO</td>\n",
       "      <td>99.0</td>\n",
       "      <td>2020</td>\n",
       "      <td>09</td>\n",
       "      <td>01</td>\n",
       "    </tr>\n",
       "    <tr>\n",
       "      <th>4</th>\n",
       "      <td>2532852</td>\n",
       "      <td>28</td>\n",
       "      <td>NRENVD1</td>\n",
       "      <td>NRENO-VENTA</td>\n",
       "      <td>VNO</td>\n",
       "      <td>1.7</td>\n",
       "      <td>2020</td>\n",
       "      <td>09</td>\n",
       "      <td>01</td>\n",
       "    </tr>\n",
       "  </tbody>\n",
       "</table>\n",
       "</div>"
      ],
      "text/plain": [
       "  Bid_Code Num_Version Bid_Unit                Unit_Description Sell_Buy  \\\n",
       "0  1696149           6  EDPC2    EDP COMERCIAL COMPRA (PORT)         CNO   \n",
       "1  1717319           3  EONUC01  EONUR CONSUMO CLIENTES TUR          CNO   \n",
       "2  1811311           7  IPG      C.H. IP GENERACION                  VNO   \n",
       "3   426609          12  IPB      C.H.B.IP BOMBEO                     CNO   \n",
       "4  2532852          28  NRENVD1  NRENO-VENTA                         VNO   \n",
       "\n",
       "   Pot_max  Year Month Day  \n",
       "0   6000.0  2020    09  01  \n",
       "1    400.0  2020    09  01  \n",
       "2     84.0  2020    09  01  \n",
       "3     99.0  2020    09  01  \n",
       "4      1.7  2020    09  01  "
      ]
     },
     "execution_count": 107,
     "metadata": {},
     "output_type": "execute_result"
    }
   ],
   "source": [
    "df_cab_09.head()"
   ]
  },
  {
   "cell_type": "code",
   "execution_count": 108,
   "metadata": {},
   "outputs": [],
   "source": [
    "df_cab_09.to_csv(archive_path +'CAB_09.csv')"
   ]
  },
  {
   "cell_type": "code",
   "execution_count": 109,
   "metadata": {},
   "outputs": [
    {
     "data": {
      "text/plain": [
       "Bid_Code                                   6469718\n",
       "Num_Version                                      0\n",
       "Bid_Unit                                   VISAC01\n",
       "Unit_Description    SAMOYEDO, S.L.                \n",
       "Sell_Buy                                       CNO\n",
       "Pot_max                                        1.2\n",
       "Year                                          2020\n",
       "Month                                           09\n",
       "Day                                             01\n",
       "Name: 549, dtype: object"
      ]
     },
     "execution_count": 109,
     "metadata": {},
     "output_type": "execute_result"
    }
   ],
   "source": [
    "df_cab_09.iloc[549]"
   ]
  },
  {
   "cell_type": "code",
   "execution_count": null,
   "metadata": {},
   "outputs": [],
   "source": []
  },
  {
   "cell_type": "code",
   "execution_count": 110,
   "metadata": {},
   "outputs": [
    {
     "name": "stdout",
     "output_type": "stream",
     "text": [
      "50676\n"
     ]
    }
   ],
   "source": [
    "###VAMOS AHORA A INSPECCIONAR UN ARCHIVO DET_\n",
    "\n",
    "DET_path = '/home/dsc/Documents/TFM/Data/OMIE/det_202009/DET_20200901.1'\n",
    "det_0901 = []\n",
    "\n",
    "with open(DET_path) as det:\n",
    "        det_lines = det.readlines()\n",
    "        det_0901.append(det_lines)\n",
    "        print(len(det_lines))\n",
    "        \n"
   ]
  },
  {
   "cell_type": "code",
   "execution_count": null,
   "metadata": {},
   "outputs": [],
   "source": []
  },
  {
   "cell_type": "code",
   "execution_count": 112,
   "metadata": {
    "scrolled": false
   },
   "outputs": [
    {
     "data": {
      "text/plain": [
       "1"
      ]
     },
     "execution_count": 112,
     "metadata": {},
     "output_type": "execute_result"
    }
   ],
   "source": [
    "len(det_0901)"
   ]
  },
  {
   "cell_type": "code",
   "execution_count": 113,
   "metadata": {},
   "outputs": [
    {
     "data": {
      "text/plain": [
       "50676"
      ]
     },
     "execution_count": 113,
     "metadata": {},
     "output_type": "execute_result"
    }
   ],
   "source": [
    "len(det_0901[0])"
   ]
  },
  {
   "cell_type": "code",
   "execution_count": 114,
   "metadata": {},
   "outputs": [
    {
     "data": {
      "text/plain": [
       "58"
      ]
     },
     "execution_count": 114,
     "metadata": {},
     "output_type": "execute_result"
    }
   ],
   "source": [
    "len(det_0901[0][0])"
   ]
  },
  {
   "cell_type": "code",
   "execution_count": 116,
   "metadata": {},
   "outputs": [
    {
     "name": "stdout",
     "output_type": "stream",
     "text": [
      "OK\n"
     ]
    }
   ],
   "source": [
    "#Comprobación de que todas las lineas tienen todas el mismo número de caracteres, en este caso 170.\n",
    "\n",
    "for x in range(len(det_0901)):\n",
    "    for i in det_0901[x]:\n",
    "        if len(i) != 58:\n",
    "            print(len(i))\n",
    "    print('OK')"
   ]
  },
  {
   "cell_type": "code",
   "execution_count": 118,
   "metadata": {},
   "outputs": [
    {
     "data": {
      "text/plain": [
       "'1696149  622 1            0.000            0.010    0.1SS\\n'"
      ]
     },
     "execution_count": 118,
     "metadata": {},
     "output_type": "execute_result"
    }
   ],
   "source": [
    "y = det_lines[0]\n",
    "y"
   ]
  },
  {
   "cell_type": "code",
   "execution_count": 119,
   "metadata": {},
   "outputs": [
    {
     "data": {
      "text/plain": [
       "'1696149'"
      ]
     },
     "execution_count": 119,
     "metadata": {},
     "output_type": "execute_result"
    }
   ],
   "source": [
    "y[0:7]"
   ]
  },
  {
   "cell_type": "code",
   "execution_count": 120,
   "metadata": {},
   "outputs": [
    {
     "data": {
      "text/plain": [
       "'  6'"
      ]
     },
     "execution_count": 120,
     "metadata": {},
     "output_type": "execute_result"
    }
   ],
   "source": [
    "y[7:10]"
   ]
  },
  {
   "cell_type": "code",
   "execution_count": 121,
   "metadata": {},
   "outputs": [
    {
     "data": {
      "text/plain": [
       "'22'"
      ]
     },
     "execution_count": 121,
     "metadata": {},
     "output_type": "execute_result"
    }
   ],
   "source": [
    "y[10:12]"
   ]
  },
  {
   "cell_type": "code",
   "execution_count": 122,
   "metadata": {},
   "outputs": [
    {
     "data": {
      "text/plain": [
       "' 1'"
      ]
     },
     "execution_count": 122,
     "metadata": {},
     "output_type": "execute_result"
    }
   ],
   "source": [
    "y[12:14]"
   ]
  },
  {
   "cell_type": "code",
   "execution_count": 125,
   "metadata": {},
   "outputs": [
    {
     "data": {
      "text/plain": [
       "'            0.010'"
      ]
     },
     "execution_count": 125,
     "metadata": {},
     "output_type": "execute_result"
    }
   ],
   "source": [
    "y[31:48]"
   ]
  },
  {
   "cell_type": "code",
   "execution_count": 128,
   "metadata": {},
   "outputs": [
    {
     "data": {
      "text/plain": [
       "'    0.1'"
      ]
     },
     "execution_count": 128,
     "metadata": {},
     "output_type": "execute_result"
    }
   ],
   "source": [
    "y[48:55]"
   ]
  },
  {
   "cell_type": "code",
   "execution_count": null,
   "metadata": {},
   "outputs": [],
   "source": []
  },
  {
   "cell_type": "code",
   "execution_count": 129,
   "metadata": {},
   "outputs": [],
   "source": [
    "archive_det_list = !ls -1 /home/dsc/Documents/TFM/Data/OMIE/det_202009/"
   ]
  },
  {
   "cell_type": "code",
   "execution_count": 130,
   "metadata": {},
   "outputs": [],
   "source": [
    "#Prueba crear una lista única con strings y ',' y solo la info que me interesa:\n",
    "#[Código de oferta, Num. versión, Periodo, Bloque, Precio, Energía]\n",
    "#[[0:7],[7:10],[10:12],[12:14],[31:48],[48:55]]\n",
    "#Se unen con \"^\" para evitar problemas con el \"split\" y las \",\" en los nombres\n",
    "\n",
    "det_total_0901 = []\n",
    "\n",
    "for day in range(len(det_0901)):\n",
    "    for count in range(len(det_0901[day])):\n",
    "        det_total_0901.append((det_0901[day][count][0:7] +'^'+ \n",
    "                            det_0901[day][count][7:10] +'^'+ \n",
    "                            det_0901[day][count][10:12] +'^'+ \n",
    "                            det_0901[day][count][12:14] +'^'+ \n",
    "                            det_0901[day][count][31:48] +'^'+ \n",
    "                            det_0901[day][count][48:55] +'^'+ \n",
    "                            archive_det_list[day][4:8] + '^' + \n",
    "                            archive_det_list[day][8:10] + '^' + \n",
    "                            archive_det_list[day][10:12]).split('^'))\n"
   ]
  },
  {
   "cell_type": "code",
   "execution_count": null,
   "metadata": {},
   "outputs": [],
   "source": []
  },
  {
   "cell_type": "code",
   "execution_count": 131,
   "metadata": {},
   "outputs": [
    {
     "data": {
      "text/plain": [
       "50676"
      ]
     },
     "execution_count": 131,
     "metadata": {},
     "output_type": "execute_result"
    }
   ],
   "source": [
    "#Lista con todos la info.\n",
    "\n",
    "len(det_total_0901)"
   ]
  },
  {
   "cell_type": "code",
   "execution_count": 132,
   "metadata": {},
   "outputs": [
    {
     "data": {
      "text/plain": [
       "['1696149',\n",
       " '  6',\n",
       " '22',\n",
       " ' 1',\n",
       " '            0.010',\n",
       " '    0.1',\n",
       " '2020',\n",
       " '09',\n",
       " '01']"
      ]
     },
     "execution_count": 132,
     "metadata": {},
     "output_type": "execute_result"
    }
   ],
   "source": [
    "det_total_0901[0]"
   ]
  },
  {
   "cell_type": "code",
   "execution_count": 133,
   "metadata": {},
   "outputs": [
    {
     "data": {
      "text/plain": [
       "list"
      ]
     },
     "execution_count": 133,
     "metadata": {},
     "output_type": "execute_result"
    }
   ],
   "source": [
    "type(det_total_0901)"
   ]
  },
  {
   "cell_type": "code",
   "execution_count": 134,
   "metadata": {},
   "outputs": [
    {
     "data": {
      "text/plain": [
       "9"
      ]
     },
     "execution_count": 134,
     "metadata": {},
     "output_type": "execute_result"
    }
   ],
   "source": [
    "len(det_total_0901[29390])"
   ]
  },
  {
   "cell_type": "code",
   "execution_count": 136,
   "metadata": {},
   "outputs": [],
   "source": [
    "#columns=['Bid_Code', 'Num_Version', 'Bid_Unit', 'Unit_Description', 'Sell/Buy', 'Pot_max', 'Year','Month','Day']\n",
    "df_det_0901 = pd.DataFrame(det_total_0901,\n",
    "                        columns=['Bid_Code', \n",
    "                                 'Num_Version', \n",
    "                                 'Period', \n",
    "                                 'Block', \n",
    "                                 'Price', \n",
    "                                 'Energy', \n",
    "                                 'Year',\n",
    "                                 'Month',\n",
    "                                 'Day'])"
   ]
  },
  {
   "cell_type": "code",
   "execution_count": 137,
   "metadata": {
    "scrolled": true
   },
   "outputs": [
    {
     "data": {
      "text/html": [
       "<div>\n",
       "<style scoped>\n",
       "    .dataframe tbody tr th:only-of-type {\n",
       "        vertical-align: middle;\n",
       "    }\n",
       "\n",
       "    .dataframe tbody tr th {\n",
       "        vertical-align: top;\n",
       "    }\n",
       "\n",
       "    .dataframe thead th {\n",
       "        text-align: right;\n",
       "    }\n",
       "</style>\n",
       "<table border=\"1\" class=\"dataframe\">\n",
       "  <thead>\n",
       "    <tr style=\"text-align: right;\">\n",
       "      <th></th>\n",
       "      <th>Bid_Code</th>\n",
       "      <th>Num_Version</th>\n",
       "      <th>Period</th>\n",
       "      <th>Block</th>\n",
       "      <th>Price</th>\n",
       "      <th>Energy</th>\n",
       "      <th>Year</th>\n",
       "      <th>Month</th>\n",
       "      <th>Day</th>\n",
       "    </tr>\n",
       "  </thead>\n",
       "  <tbody>\n",
       "    <tr>\n",
       "      <th>0</th>\n",
       "      <td>1696149</td>\n",
       "      <td>6</td>\n",
       "      <td>22</td>\n",
       "      <td>1</td>\n",
       "      <td>0.010</td>\n",
       "      <td>0.1</td>\n",
       "      <td>2020</td>\n",
       "      <td>09</td>\n",
       "      <td>01</td>\n",
       "    </tr>\n",
       "    <tr>\n",
       "      <th>1</th>\n",
       "      <td>1717319</td>\n",
       "      <td>3</td>\n",
       "      <td>1</td>\n",
       "      <td>1</td>\n",
       "      <td>0.000</td>\n",
       "      <td>1.0</td>\n",
       "      <td>2020</td>\n",
       "      <td>09</td>\n",
       "      <td>01</td>\n",
       "    </tr>\n",
       "    <tr>\n",
       "      <th>2</th>\n",
       "      <td>1717319</td>\n",
       "      <td>3</td>\n",
       "      <td>2</td>\n",
       "      <td>1</td>\n",
       "      <td>0.000</td>\n",
       "      <td>1.0</td>\n",
       "      <td>2020</td>\n",
       "      <td>09</td>\n",
       "      <td>01</td>\n",
       "    </tr>\n",
       "    <tr>\n",
       "      <th>3</th>\n",
       "      <td>1717319</td>\n",
       "      <td>3</td>\n",
       "      <td>3</td>\n",
       "      <td>1</td>\n",
       "      <td>0.000</td>\n",
       "      <td>1.0</td>\n",
       "      <td>2020</td>\n",
       "      <td>09</td>\n",
       "      <td>01</td>\n",
       "    </tr>\n",
       "    <tr>\n",
       "      <th>4</th>\n",
       "      <td>1717319</td>\n",
       "      <td>3</td>\n",
       "      <td>4</td>\n",
       "      <td>1</td>\n",
       "      <td>0.000</td>\n",
       "      <td>1.0</td>\n",
       "      <td>2020</td>\n",
       "      <td>09</td>\n",
       "      <td>01</td>\n",
       "    </tr>\n",
       "  </tbody>\n",
       "</table>\n",
       "</div>"
      ],
      "text/plain": [
       "  Bid_Code Num_Version Period Block              Price   Energy  Year Month  \\\n",
       "0  1696149           6     22     1              0.010      0.1  2020    09   \n",
       "1  1717319           3      1     1              0.000      1.0  2020    09   \n",
       "2  1717319           3      2     1              0.000      1.0  2020    09   \n",
       "3  1717319           3      3     1              0.000      1.0  2020    09   \n",
       "4  1717319           3      4     1              0.000      1.0  2020    09   \n",
       "\n",
       "  Day  \n",
       "0  01  \n",
       "1  01  \n",
       "2  01  \n",
       "3  01  \n",
       "4  01  "
      ]
     },
     "execution_count": 137,
     "metadata": {},
     "output_type": "execute_result"
    }
   ],
   "source": [
    "df_det_0901.head()"
   ]
  },
  {
   "cell_type": "code",
   "execution_count": 138,
   "metadata": {},
   "outputs": [],
   "source": [
    "df_det_0901.to_csv('/home/dsc/Documents/TFM/Data/OMIE/det_202009/DET_20200901.csv')"
   ]
  },
  {
   "cell_type": "code",
   "execution_count": 140,
   "metadata": {},
   "outputs": [
    {
     "data": {
      "text/plain": [
       "pandas.core.frame.DataFrame"
      ]
     },
     "execution_count": 140,
     "metadata": {},
     "output_type": "execute_result"
    }
   ],
   "source": [
    "type(df_det_0901)"
   ]
  },
  {
   "cell_type": "code",
   "execution_count": 142,
   "metadata": {},
   "outputs": [
    {
     "data": {
      "text/plain": [
       "Bid_Code       object\n",
       "Num_Version    object\n",
       "Period         object\n",
       "Block          object\n",
       "Price          object\n",
       "Energy         object\n",
       "Year           object\n",
       "Month          object\n",
       "Day            object\n",
       "dtype: object"
      ]
     },
     "execution_count": 142,
     "metadata": {},
     "output_type": "execute_result"
    }
   ],
   "source": [
    "df_det_0901.dtypes"
   ]
  },
  {
   "cell_type": "code",
   "execution_count": 143,
   "metadata": {},
   "outputs": [
    {
     "data": {
      "text/html": [
       "<div>\n",
       "<style scoped>\n",
       "    .dataframe tbody tr th:only-of-type {\n",
       "        vertical-align: middle;\n",
       "    }\n",
       "\n",
       "    .dataframe tbody tr th {\n",
       "        vertical-align: top;\n",
       "    }\n",
       "\n",
       "    .dataframe thead th {\n",
       "        text-align: right;\n",
       "    }\n",
       "</style>\n",
       "<table border=\"1\" class=\"dataframe\">\n",
       "  <thead>\n",
       "    <tr style=\"text-align: right;\">\n",
       "      <th></th>\n",
       "      <th>Bid_Code</th>\n",
       "      <th>Num_Version</th>\n",
       "      <th>Period</th>\n",
       "      <th>Block</th>\n",
       "      <th>Price</th>\n",
       "      <th>Energy</th>\n",
       "      <th>Year</th>\n",
       "      <th>Month</th>\n",
       "      <th>Day</th>\n",
       "    </tr>\n",
       "  </thead>\n",
       "  <tbody>\n",
       "    <tr>\n",
       "      <th>0</th>\n",
       "      <td>1696149</td>\n",
       "      <td>6</td>\n",
       "      <td>22</td>\n",
       "      <td>1</td>\n",
       "      <td>0.010</td>\n",
       "      <td>0.1</td>\n",
       "      <td>2020</td>\n",
       "      <td>09</td>\n",
       "      <td>01</td>\n",
       "    </tr>\n",
       "    <tr>\n",
       "      <th>1</th>\n",
       "      <td>1717319</td>\n",
       "      <td>3</td>\n",
       "      <td>1</td>\n",
       "      <td>1</td>\n",
       "      <td>0.000</td>\n",
       "      <td>1.0</td>\n",
       "      <td>2020</td>\n",
       "      <td>09</td>\n",
       "      <td>01</td>\n",
       "    </tr>\n",
       "    <tr>\n",
       "      <th>2</th>\n",
       "      <td>1717319</td>\n",
       "      <td>3</td>\n",
       "      <td>2</td>\n",
       "      <td>1</td>\n",
       "      <td>0.000</td>\n",
       "      <td>1.0</td>\n",
       "      <td>2020</td>\n",
       "      <td>09</td>\n",
       "      <td>01</td>\n",
       "    </tr>\n",
       "    <tr>\n",
       "      <th>3</th>\n",
       "      <td>1717319</td>\n",
       "      <td>3</td>\n",
       "      <td>3</td>\n",
       "      <td>1</td>\n",
       "      <td>0.000</td>\n",
       "      <td>1.0</td>\n",
       "      <td>2020</td>\n",
       "      <td>09</td>\n",
       "      <td>01</td>\n",
       "    </tr>\n",
       "    <tr>\n",
       "      <th>4</th>\n",
       "      <td>1717319</td>\n",
       "      <td>3</td>\n",
       "      <td>4</td>\n",
       "      <td>1</td>\n",
       "      <td>0.000</td>\n",
       "      <td>1.0</td>\n",
       "      <td>2020</td>\n",
       "      <td>09</td>\n",
       "      <td>01</td>\n",
       "    </tr>\n",
       "    <tr>\n",
       "      <th>5</th>\n",
       "      <td>1717319</td>\n",
       "      <td>3</td>\n",
       "      <td>5</td>\n",
       "      <td>1</td>\n",
       "      <td>0.000</td>\n",
       "      <td>1.0</td>\n",
       "      <td>2020</td>\n",
       "      <td>09</td>\n",
       "      <td>01</td>\n",
       "    </tr>\n",
       "    <tr>\n",
       "      <th>6</th>\n",
       "      <td>1717319</td>\n",
       "      <td>3</td>\n",
       "      <td>6</td>\n",
       "      <td>1</td>\n",
       "      <td>0.000</td>\n",
       "      <td>1.0</td>\n",
       "      <td>2020</td>\n",
       "      <td>09</td>\n",
       "      <td>01</td>\n",
       "    </tr>\n",
       "    <tr>\n",
       "      <th>7</th>\n",
       "      <td>1717319</td>\n",
       "      <td>3</td>\n",
       "      <td>7</td>\n",
       "      <td>1</td>\n",
       "      <td>0.000</td>\n",
       "      <td>1.0</td>\n",
       "      <td>2020</td>\n",
       "      <td>09</td>\n",
       "      <td>01</td>\n",
       "    </tr>\n",
       "    <tr>\n",
       "      <th>8</th>\n",
       "      <td>1717319</td>\n",
       "      <td>3</td>\n",
       "      <td>8</td>\n",
       "      <td>1</td>\n",
       "      <td>0.000</td>\n",
       "      <td>1.0</td>\n",
       "      <td>2020</td>\n",
       "      <td>09</td>\n",
       "      <td>01</td>\n",
       "    </tr>\n",
       "    <tr>\n",
       "      <th>9</th>\n",
       "      <td>1717319</td>\n",
       "      <td>3</td>\n",
       "      <td>9</td>\n",
       "      <td>1</td>\n",
       "      <td>0.000</td>\n",
       "      <td>1.0</td>\n",
       "      <td>2020</td>\n",
       "      <td>09</td>\n",
       "      <td>01</td>\n",
       "    </tr>\n",
       "    <tr>\n",
       "      <th>10</th>\n",
       "      <td>1717319</td>\n",
       "      <td>3</td>\n",
       "      <td>10</td>\n",
       "      <td>1</td>\n",
       "      <td>0.000</td>\n",
       "      <td>1.0</td>\n",
       "      <td>2020</td>\n",
       "      <td>09</td>\n",
       "      <td>01</td>\n",
       "    </tr>\n",
       "    <tr>\n",
       "      <th>11</th>\n",
       "      <td>1717319</td>\n",
       "      <td>3</td>\n",
       "      <td>11</td>\n",
       "      <td>1</td>\n",
       "      <td>0.000</td>\n",
       "      <td>1.0</td>\n",
       "      <td>2020</td>\n",
       "      <td>09</td>\n",
       "      <td>01</td>\n",
       "    </tr>\n",
       "    <tr>\n",
       "      <th>12</th>\n",
       "      <td>1717319</td>\n",
       "      <td>3</td>\n",
       "      <td>12</td>\n",
       "      <td>1</td>\n",
       "      <td>0.000</td>\n",
       "      <td>1.0</td>\n",
       "      <td>2020</td>\n",
       "      <td>09</td>\n",
       "      <td>01</td>\n",
       "    </tr>\n",
       "    <tr>\n",
       "      <th>13</th>\n",
       "      <td>1717319</td>\n",
       "      <td>3</td>\n",
       "      <td>13</td>\n",
       "      <td>1</td>\n",
       "      <td>0.000</td>\n",
       "      <td>1.0</td>\n",
       "      <td>2020</td>\n",
       "      <td>09</td>\n",
       "      <td>01</td>\n",
       "    </tr>\n",
       "    <tr>\n",
       "      <th>14</th>\n",
       "      <td>1717319</td>\n",
       "      <td>3</td>\n",
       "      <td>14</td>\n",
       "      <td>1</td>\n",
       "      <td>0.000</td>\n",
       "      <td>1.0</td>\n",
       "      <td>2020</td>\n",
       "      <td>09</td>\n",
       "      <td>01</td>\n",
       "    </tr>\n",
       "    <tr>\n",
       "      <th>15</th>\n",
       "      <td>1717319</td>\n",
       "      <td>3</td>\n",
       "      <td>15</td>\n",
       "      <td>1</td>\n",
       "      <td>0.000</td>\n",
       "      <td>1.0</td>\n",
       "      <td>2020</td>\n",
       "      <td>09</td>\n",
       "      <td>01</td>\n",
       "    </tr>\n",
       "    <tr>\n",
       "      <th>16</th>\n",
       "      <td>1717319</td>\n",
       "      <td>3</td>\n",
       "      <td>16</td>\n",
       "      <td>1</td>\n",
       "      <td>0.000</td>\n",
       "      <td>1.0</td>\n",
       "      <td>2020</td>\n",
       "      <td>09</td>\n",
       "      <td>01</td>\n",
       "    </tr>\n",
       "    <tr>\n",
       "      <th>17</th>\n",
       "      <td>1717319</td>\n",
       "      <td>3</td>\n",
       "      <td>17</td>\n",
       "      <td>1</td>\n",
       "      <td>0.000</td>\n",
       "      <td>1.0</td>\n",
       "      <td>2020</td>\n",
       "      <td>09</td>\n",
       "      <td>01</td>\n",
       "    </tr>\n",
       "    <tr>\n",
       "      <th>18</th>\n",
       "      <td>1717319</td>\n",
       "      <td>3</td>\n",
       "      <td>18</td>\n",
       "      <td>1</td>\n",
       "      <td>0.000</td>\n",
       "      <td>1.0</td>\n",
       "      <td>2020</td>\n",
       "      <td>09</td>\n",
       "      <td>01</td>\n",
       "    </tr>\n",
       "    <tr>\n",
       "      <th>19</th>\n",
       "      <td>1717319</td>\n",
       "      <td>3</td>\n",
       "      <td>19</td>\n",
       "      <td>1</td>\n",
       "      <td>0.000</td>\n",
       "      <td>1.0</td>\n",
       "      <td>2020</td>\n",
       "      <td>09</td>\n",
       "      <td>01</td>\n",
       "    </tr>\n",
       "  </tbody>\n",
       "</table>\n",
       "</div>"
      ],
      "text/plain": [
       "   Bid_Code Num_Version Period Block              Price   Energy  Year Month  \\\n",
       "0   1696149           6     22     1              0.010      0.1  2020    09   \n",
       "1   1717319           3      1     1              0.000      1.0  2020    09   \n",
       "2   1717319           3      2     1              0.000      1.0  2020    09   \n",
       "3   1717319           3      3     1              0.000      1.0  2020    09   \n",
       "4   1717319           3      4     1              0.000      1.0  2020    09   \n",
       "5   1717319           3      5     1              0.000      1.0  2020    09   \n",
       "6   1717319           3      6     1              0.000      1.0  2020    09   \n",
       "7   1717319           3      7     1              0.000      1.0  2020    09   \n",
       "8   1717319           3      8     1              0.000      1.0  2020    09   \n",
       "9   1717319           3      9     1              0.000      1.0  2020    09   \n",
       "10  1717319           3     10     1              0.000      1.0  2020    09   \n",
       "11  1717319           3     11     1              0.000      1.0  2020    09   \n",
       "12  1717319           3     12     1              0.000      1.0  2020    09   \n",
       "13  1717319           3     13     1              0.000      1.0  2020    09   \n",
       "14  1717319           3     14     1              0.000      1.0  2020    09   \n",
       "15  1717319           3     15     1              0.000      1.0  2020    09   \n",
       "16  1717319           3     16     1              0.000      1.0  2020    09   \n",
       "17  1717319           3     17     1              0.000      1.0  2020    09   \n",
       "18  1717319           3     18     1              0.000      1.0  2020    09   \n",
       "19  1717319           3     19     1              0.000      1.0  2020    09   \n",
       "\n",
       "   Day  \n",
       "0   01  \n",
       "1   01  \n",
       "2   01  \n",
       "3   01  \n",
       "4   01  \n",
       "5   01  \n",
       "6   01  \n",
       "7   01  \n",
       "8   01  \n",
       "9   01  \n",
       "10  01  \n",
       "11  01  \n",
       "12  01  \n",
       "13  01  \n",
       "14  01  \n",
       "15  01  \n",
       "16  01  \n",
       "17  01  \n",
       "18  01  \n",
       "19  01  "
      ]
     },
     "execution_count": 143,
     "metadata": {},
     "output_type": "execute_result"
    }
   ],
   "source": [
    "df_det_0901.head(20)"
   ]
  },
  {
   "cell_type": "code",
   "execution_count": 144,
   "metadata": {},
   "outputs": [
    {
     "data": {
      "text/html": [
       "<div>\n",
       "<style scoped>\n",
       "    .dataframe tbody tr th:only-of-type {\n",
       "        vertical-align: middle;\n",
       "    }\n",
       "\n",
       "    .dataframe tbody tr th {\n",
       "        vertical-align: top;\n",
       "    }\n",
       "\n",
       "    .dataframe thead th {\n",
       "        text-align: right;\n",
       "    }\n",
       "</style>\n",
       "<table border=\"1\" class=\"dataframe\">\n",
       "  <thead>\n",
       "    <tr style=\"text-align: right;\">\n",
       "      <th></th>\n",
       "      <th>Bid_Code</th>\n",
       "      <th>Num_Version</th>\n",
       "      <th>Period</th>\n",
       "      <th>Block</th>\n",
       "      <th>Price</th>\n",
       "      <th>Energy</th>\n",
       "      <th>Year</th>\n",
       "      <th>Month</th>\n",
       "      <th>Day</th>\n",
       "    </tr>\n",
       "  </thead>\n",
       "  <tbody>\n",
       "    <tr>\n",
       "      <th>1</th>\n",
       "      <td>1717319</td>\n",
       "      <td>3</td>\n",
       "      <td>1</td>\n",
       "      <td>1</td>\n",
       "      <td>0.000</td>\n",
       "      <td>1.0</td>\n",
       "      <td>2020</td>\n",
       "      <td>09</td>\n",
       "      <td>01</td>\n",
       "    </tr>\n",
       "    <tr>\n",
       "      <th>2</th>\n",
       "      <td>1717319</td>\n",
       "      <td>3</td>\n",
       "      <td>2</td>\n",
       "      <td>1</td>\n",
       "      <td>0.000</td>\n",
       "      <td>1.0</td>\n",
       "      <td>2020</td>\n",
       "      <td>09</td>\n",
       "      <td>01</td>\n",
       "    </tr>\n",
       "    <tr>\n",
       "      <th>3</th>\n",
       "      <td>1717319</td>\n",
       "      <td>3</td>\n",
       "      <td>3</td>\n",
       "      <td>1</td>\n",
       "      <td>0.000</td>\n",
       "      <td>1.0</td>\n",
       "      <td>2020</td>\n",
       "      <td>09</td>\n",
       "      <td>01</td>\n",
       "    </tr>\n",
       "    <tr>\n",
       "      <th>4</th>\n",
       "      <td>1717319</td>\n",
       "      <td>3</td>\n",
       "      <td>4</td>\n",
       "      <td>1</td>\n",
       "      <td>0.000</td>\n",
       "      <td>1.0</td>\n",
       "      <td>2020</td>\n",
       "      <td>09</td>\n",
       "      <td>01</td>\n",
       "    </tr>\n",
       "    <tr>\n",
       "      <th>5</th>\n",
       "      <td>1717319</td>\n",
       "      <td>3</td>\n",
       "      <td>5</td>\n",
       "      <td>1</td>\n",
       "      <td>0.000</td>\n",
       "      <td>1.0</td>\n",
       "      <td>2020</td>\n",
       "      <td>09</td>\n",
       "      <td>01</td>\n",
       "    </tr>\n",
       "    <tr>\n",
       "      <th>6</th>\n",
       "      <td>1717319</td>\n",
       "      <td>3</td>\n",
       "      <td>6</td>\n",
       "      <td>1</td>\n",
       "      <td>0.000</td>\n",
       "      <td>1.0</td>\n",
       "      <td>2020</td>\n",
       "      <td>09</td>\n",
       "      <td>01</td>\n",
       "    </tr>\n",
       "    <tr>\n",
       "      <th>7</th>\n",
       "      <td>1717319</td>\n",
       "      <td>3</td>\n",
       "      <td>7</td>\n",
       "      <td>1</td>\n",
       "      <td>0.000</td>\n",
       "      <td>1.0</td>\n",
       "      <td>2020</td>\n",
       "      <td>09</td>\n",
       "      <td>01</td>\n",
       "    </tr>\n",
       "    <tr>\n",
       "      <th>8</th>\n",
       "      <td>1717319</td>\n",
       "      <td>3</td>\n",
       "      <td>8</td>\n",
       "      <td>1</td>\n",
       "      <td>0.000</td>\n",
       "      <td>1.0</td>\n",
       "      <td>2020</td>\n",
       "      <td>09</td>\n",
       "      <td>01</td>\n",
       "    </tr>\n",
       "    <tr>\n",
       "      <th>9</th>\n",
       "      <td>1717319</td>\n",
       "      <td>3</td>\n",
       "      <td>9</td>\n",
       "      <td>1</td>\n",
       "      <td>0.000</td>\n",
       "      <td>1.0</td>\n",
       "      <td>2020</td>\n",
       "      <td>09</td>\n",
       "      <td>01</td>\n",
       "    </tr>\n",
       "    <tr>\n",
       "      <th>10</th>\n",
       "      <td>1717319</td>\n",
       "      <td>3</td>\n",
       "      <td>10</td>\n",
       "      <td>1</td>\n",
       "      <td>0.000</td>\n",
       "      <td>1.0</td>\n",
       "      <td>2020</td>\n",
       "      <td>09</td>\n",
       "      <td>01</td>\n",
       "    </tr>\n",
       "    <tr>\n",
       "      <th>11</th>\n",
       "      <td>1717319</td>\n",
       "      <td>3</td>\n",
       "      <td>11</td>\n",
       "      <td>1</td>\n",
       "      <td>0.000</td>\n",
       "      <td>1.0</td>\n",
       "      <td>2020</td>\n",
       "      <td>09</td>\n",
       "      <td>01</td>\n",
       "    </tr>\n",
       "    <tr>\n",
       "      <th>12</th>\n",
       "      <td>1717319</td>\n",
       "      <td>3</td>\n",
       "      <td>12</td>\n",
       "      <td>1</td>\n",
       "      <td>0.000</td>\n",
       "      <td>1.0</td>\n",
       "      <td>2020</td>\n",
       "      <td>09</td>\n",
       "      <td>01</td>\n",
       "    </tr>\n",
       "    <tr>\n",
       "      <th>13</th>\n",
       "      <td>1717319</td>\n",
       "      <td>3</td>\n",
       "      <td>13</td>\n",
       "      <td>1</td>\n",
       "      <td>0.000</td>\n",
       "      <td>1.0</td>\n",
       "      <td>2020</td>\n",
       "      <td>09</td>\n",
       "      <td>01</td>\n",
       "    </tr>\n",
       "    <tr>\n",
       "      <th>14</th>\n",
       "      <td>1717319</td>\n",
       "      <td>3</td>\n",
       "      <td>14</td>\n",
       "      <td>1</td>\n",
       "      <td>0.000</td>\n",
       "      <td>1.0</td>\n",
       "      <td>2020</td>\n",
       "      <td>09</td>\n",
       "      <td>01</td>\n",
       "    </tr>\n",
       "    <tr>\n",
       "      <th>15</th>\n",
       "      <td>1717319</td>\n",
       "      <td>3</td>\n",
       "      <td>15</td>\n",
       "      <td>1</td>\n",
       "      <td>0.000</td>\n",
       "      <td>1.0</td>\n",
       "      <td>2020</td>\n",
       "      <td>09</td>\n",
       "      <td>01</td>\n",
       "    </tr>\n",
       "    <tr>\n",
       "      <th>16</th>\n",
       "      <td>1717319</td>\n",
       "      <td>3</td>\n",
       "      <td>16</td>\n",
       "      <td>1</td>\n",
       "      <td>0.000</td>\n",
       "      <td>1.0</td>\n",
       "      <td>2020</td>\n",
       "      <td>09</td>\n",
       "      <td>01</td>\n",
       "    </tr>\n",
       "    <tr>\n",
       "      <th>17</th>\n",
       "      <td>1717319</td>\n",
       "      <td>3</td>\n",
       "      <td>17</td>\n",
       "      <td>1</td>\n",
       "      <td>0.000</td>\n",
       "      <td>1.0</td>\n",
       "      <td>2020</td>\n",
       "      <td>09</td>\n",
       "      <td>01</td>\n",
       "    </tr>\n",
       "    <tr>\n",
       "      <th>18</th>\n",
       "      <td>1717319</td>\n",
       "      <td>3</td>\n",
       "      <td>18</td>\n",
       "      <td>1</td>\n",
       "      <td>0.000</td>\n",
       "      <td>1.0</td>\n",
       "      <td>2020</td>\n",
       "      <td>09</td>\n",
       "      <td>01</td>\n",
       "    </tr>\n",
       "    <tr>\n",
       "      <th>19</th>\n",
       "      <td>1717319</td>\n",
       "      <td>3</td>\n",
       "      <td>19</td>\n",
       "      <td>1</td>\n",
       "      <td>0.000</td>\n",
       "      <td>1.0</td>\n",
       "      <td>2020</td>\n",
       "      <td>09</td>\n",
       "      <td>01</td>\n",
       "    </tr>\n",
       "    <tr>\n",
       "      <th>20</th>\n",
       "      <td>1717319</td>\n",
       "      <td>3</td>\n",
       "      <td>20</td>\n",
       "      <td>1</td>\n",
       "      <td>0.000</td>\n",
       "      <td>1.0</td>\n",
       "      <td>2020</td>\n",
       "      <td>09</td>\n",
       "      <td>01</td>\n",
       "    </tr>\n",
       "    <tr>\n",
       "      <th>21</th>\n",
       "      <td>1717319</td>\n",
       "      <td>3</td>\n",
       "      <td>21</td>\n",
       "      <td>1</td>\n",
       "      <td>0.000</td>\n",
       "      <td>1.0</td>\n",
       "      <td>2020</td>\n",
       "      <td>09</td>\n",
       "      <td>01</td>\n",
       "    </tr>\n",
       "    <tr>\n",
       "      <th>22</th>\n",
       "      <td>1717319</td>\n",
       "      <td>3</td>\n",
       "      <td>22</td>\n",
       "      <td>1</td>\n",
       "      <td>0.000</td>\n",
       "      <td>1.0</td>\n",
       "      <td>2020</td>\n",
       "      <td>09</td>\n",
       "      <td>01</td>\n",
       "    </tr>\n",
       "    <tr>\n",
       "      <th>23</th>\n",
       "      <td>1717319</td>\n",
       "      <td>3</td>\n",
       "      <td>23</td>\n",
       "      <td>1</td>\n",
       "      <td>0.000</td>\n",
       "      <td>1.0</td>\n",
       "      <td>2020</td>\n",
       "      <td>09</td>\n",
       "      <td>01</td>\n",
       "    </tr>\n",
       "    <tr>\n",
       "      <th>24</th>\n",
       "      <td>1717319</td>\n",
       "      <td>3</td>\n",
       "      <td>24</td>\n",
       "      <td>1</td>\n",
       "      <td>0.000</td>\n",
       "      <td>1.0</td>\n",
       "      <td>2020</td>\n",
       "      <td>09</td>\n",
       "      <td>01</td>\n",
       "    </tr>\n",
       "  </tbody>\n",
       "</table>\n",
       "</div>"
      ],
      "text/plain": [
       "   Bid_Code Num_Version Period Block              Price   Energy  Year Month  \\\n",
       "1   1717319           3      1     1              0.000      1.0  2020    09   \n",
       "2   1717319           3      2     1              0.000      1.0  2020    09   \n",
       "3   1717319           3      3     1              0.000      1.0  2020    09   \n",
       "4   1717319           3      4     1              0.000      1.0  2020    09   \n",
       "5   1717319           3      5     1              0.000      1.0  2020    09   \n",
       "6   1717319           3      6     1              0.000      1.0  2020    09   \n",
       "7   1717319           3      7     1              0.000      1.0  2020    09   \n",
       "8   1717319           3      8     1              0.000      1.0  2020    09   \n",
       "9   1717319           3      9     1              0.000      1.0  2020    09   \n",
       "10  1717319           3     10     1              0.000      1.0  2020    09   \n",
       "11  1717319           3     11     1              0.000      1.0  2020    09   \n",
       "12  1717319           3     12     1              0.000      1.0  2020    09   \n",
       "13  1717319           3     13     1              0.000      1.0  2020    09   \n",
       "14  1717319           3     14     1              0.000      1.0  2020    09   \n",
       "15  1717319           3     15     1              0.000      1.0  2020    09   \n",
       "16  1717319           3     16     1              0.000      1.0  2020    09   \n",
       "17  1717319           3     17     1              0.000      1.0  2020    09   \n",
       "18  1717319           3     18     1              0.000      1.0  2020    09   \n",
       "19  1717319           3     19     1              0.000      1.0  2020    09   \n",
       "20  1717319           3     20     1              0.000      1.0  2020    09   \n",
       "21  1717319           3     21     1              0.000      1.0  2020    09   \n",
       "22  1717319           3     22     1              0.000      1.0  2020    09   \n",
       "23  1717319           3     23     1              0.000      1.0  2020    09   \n",
       "24  1717319           3     24     1              0.000      1.0  2020    09   \n",
       "\n",
       "   Day  \n",
       "1   01  \n",
       "2   01  \n",
       "3   01  \n",
       "4   01  \n",
       "5   01  \n",
       "6   01  \n",
       "7   01  \n",
       "8   01  \n",
       "9   01  \n",
       "10  01  \n",
       "11  01  \n",
       "12  01  \n",
       "13  01  \n",
       "14  01  \n",
       "15  01  \n",
       "16  01  \n",
       "17  01  \n",
       "18  01  \n",
       "19  01  \n",
       "20  01  \n",
       "21  01  \n",
       "22  01  \n",
       "23  01  \n",
       "24  01  "
      ]
     },
     "execution_count": 144,
     "metadata": {},
     "output_type": "execute_result"
    }
   ],
   "source": [
    "df_det_0901.loc[df_det_0901['Bid_Code'] == '1717319']"
   ]
  },
  {
   "cell_type": "code",
   "execution_count": 147,
   "metadata": {},
   "outputs": [
    {
     "data": {
      "text/html": [
       "<div>\n",
       "<style scoped>\n",
       "    .dataframe tbody tr th:only-of-type {\n",
       "        vertical-align: middle;\n",
       "    }\n",
       "\n",
       "    .dataframe tbody tr th {\n",
       "        vertical-align: top;\n",
       "    }\n",
       "\n",
       "    .dataframe thead th {\n",
       "        text-align: right;\n",
       "    }\n",
       "</style>\n",
       "<table border=\"1\" class=\"dataframe\">\n",
       "  <thead>\n",
       "    <tr style=\"text-align: right;\">\n",
       "      <th></th>\n",
       "      <th>Bid_Code</th>\n",
       "      <th>Num_Version</th>\n",
       "      <th>Bid_Unit</th>\n",
       "      <th>Unit_Description</th>\n",
       "      <th>Sell_Buy</th>\n",
       "      <th>Pot_max</th>\n",
       "      <th>Year</th>\n",
       "      <th>Month</th>\n",
       "      <th>Day</th>\n",
       "      <th>Period</th>\n",
       "      <th>Block</th>\n",
       "      <th>Price</th>\n",
       "      <th>Energy</th>\n",
       "    </tr>\n",
       "  </thead>\n",
       "  <tbody>\n",
       "    <tr>\n",
       "      <th>1</th>\n",
       "      <td>1717319</td>\n",
       "      <td>3</td>\n",
       "      <td>EONUC01</td>\n",
       "      <td>EONUR CONSUMO CLIENTES TUR</td>\n",
       "      <td>CNO</td>\n",
       "      <td>400.0</td>\n",
       "      <td>2020</td>\n",
       "      <td>09</td>\n",
       "      <td>01</td>\n",
       "      <td>1</td>\n",
       "      <td>1</td>\n",
       "      <td>0.000</td>\n",
       "      <td>1.0</td>\n",
       "    </tr>\n",
       "    <tr>\n",
       "      <th>2</th>\n",
       "      <td>1717319</td>\n",
       "      <td>3</td>\n",
       "      <td>EONUC01</td>\n",
       "      <td>EONUR CONSUMO CLIENTES TUR</td>\n",
       "      <td>CNO</td>\n",
       "      <td>400.0</td>\n",
       "      <td>2020</td>\n",
       "      <td>09</td>\n",
       "      <td>01</td>\n",
       "      <td>2</td>\n",
       "      <td>1</td>\n",
       "      <td>0.000</td>\n",
       "      <td>1.0</td>\n",
       "    </tr>\n",
       "    <tr>\n",
       "      <th>3</th>\n",
       "      <td>1717319</td>\n",
       "      <td>3</td>\n",
       "      <td>EONUC01</td>\n",
       "      <td>EONUR CONSUMO CLIENTES TUR</td>\n",
       "      <td>CNO</td>\n",
       "      <td>400.0</td>\n",
       "      <td>2020</td>\n",
       "      <td>09</td>\n",
       "      <td>01</td>\n",
       "      <td>3</td>\n",
       "      <td>1</td>\n",
       "      <td>0.000</td>\n",
       "      <td>1.0</td>\n",
       "    </tr>\n",
       "    <tr>\n",
       "      <th>4</th>\n",
       "      <td>1717319</td>\n",
       "      <td>3</td>\n",
       "      <td>EONUC01</td>\n",
       "      <td>EONUR CONSUMO CLIENTES TUR</td>\n",
       "      <td>CNO</td>\n",
       "      <td>400.0</td>\n",
       "      <td>2020</td>\n",
       "      <td>09</td>\n",
       "      <td>01</td>\n",
       "      <td>4</td>\n",
       "      <td>1</td>\n",
       "      <td>0.000</td>\n",
       "      <td>1.0</td>\n",
       "    </tr>\n",
       "    <tr>\n",
       "      <th>5</th>\n",
       "      <td>1717319</td>\n",
       "      <td>3</td>\n",
       "      <td>EONUC01</td>\n",
       "      <td>EONUR CONSUMO CLIENTES TUR</td>\n",
       "      <td>CNO</td>\n",
       "      <td>400.0</td>\n",
       "      <td>2020</td>\n",
       "      <td>09</td>\n",
       "      <td>01</td>\n",
       "      <td>5</td>\n",
       "      <td>1</td>\n",
       "      <td>0.000</td>\n",
       "      <td>1.0</td>\n",
       "    </tr>\n",
       "    <tr>\n",
       "      <th>6</th>\n",
       "      <td>1717319</td>\n",
       "      <td>3</td>\n",
       "      <td>EONUC01</td>\n",
       "      <td>EONUR CONSUMO CLIENTES TUR</td>\n",
       "      <td>CNO</td>\n",
       "      <td>400.0</td>\n",
       "      <td>2020</td>\n",
       "      <td>09</td>\n",
       "      <td>01</td>\n",
       "      <td>6</td>\n",
       "      <td>1</td>\n",
       "      <td>0.000</td>\n",
       "      <td>1.0</td>\n",
       "    </tr>\n",
       "    <tr>\n",
       "      <th>7</th>\n",
       "      <td>1717319</td>\n",
       "      <td>3</td>\n",
       "      <td>EONUC01</td>\n",
       "      <td>EONUR CONSUMO CLIENTES TUR</td>\n",
       "      <td>CNO</td>\n",
       "      <td>400.0</td>\n",
       "      <td>2020</td>\n",
       "      <td>09</td>\n",
       "      <td>01</td>\n",
       "      <td>7</td>\n",
       "      <td>1</td>\n",
       "      <td>0.000</td>\n",
       "      <td>1.0</td>\n",
       "    </tr>\n",
       "    <tr>\n",
       "      <th>8</th>\n",
       "      <td>1717319</td>\n",
       "      <td>3</td>\n",
       "      <td>EONUC01</td>\n",
       "      <td>EONUR CONSUMO CLIENTES TUR</td>\n",
       "      <td>CNO</td>\n",
       "      <td>400.0</td>\n",
       "      <td>2020</td>\n",
       "      <td>09</td>\n",
       "      <td>01</td>\n",
       "      <td>8</td>\n",
       "      <td>1</td>\n",
       "      <td>0.000</td>\n",
       "      <td>1.0</td>\n",
       "    </tr>\n",
       "    <tr>\n",
       "      <th>9</th>\n",
       "      <td>1717319</td>\n",
       "      <td>3</td>\n",
       "      <td>EONUC01</td>\n",
       "      <td>EONUR CONSUMO CLIENTES TUR</td>\n",
       "      <td>CNO</td>\n",
       "      <td>400.0</td>\n",
       "      <td>2020</td>\n",
       "      <td>09</td>\n",
       "      <td>01</td>\n",
       "      <td>9</td>\n",
       "      <td>1</td>\n",
       "      <td>0.000</td>\n",
       "      <td>1.0</td>\n",
       "    </tr>\n",
       "    <tr>\n",
       "      <th>10</th>\n",
       "      <td>1717319</td>\n",
       "      <td>3</td>\n",
       "      <td>EONUC01</td>\n",
       "      <td>EONUR CONSUMO CLIENTES TUR</td>\n",
       "      <td>CNO</td>\n",
       "      <td>400.0</td>\n",
       "      <td>2020</td>\n",
       "      <td>09</td>\n",
       "      <td>01</td>\n",
       "      <td>10</td>\n",
       "      <td>1</td>\n",
       "      <td>0.000</td>\n",
       "      <td>1.0</td>\n",
       "    </tr>\n",
       "    <tr>\n",
       "      <th>11</th>\n",
       "      <td>1717319</td>\n",
       "      <td>3</td>\n",
       "      <td>EONUC01</td>\n",
       "      <td>EONUR CONSUMO CLIENTES TUR</td>\n",
       "      <td>CNO</td>\n",
       "      <td>400.0</td>\n",
       "      <td>2020</td>\n",
       "      <td>09</td>\n",
       "      <td>01</td>\n",
       "      <td>11</td>\n",
       "      <td>1</td>\n",
       "      <td>0.000</td>\n",
       "      <td>1.0</td>\n",
       "    </tr>\n",
       "    <tr>\n",
       "      <th>12</th>\n",
       "      <td>1717319</td>\n",
       "      <td>3</td>\n",
       "      <td>EONUC01</td>\n",
       "      <td>EONUR CONSUMO CLIENTES TUR</td>\n",
       "      <td>CNO</td>\n",
       "      <td>400.0</td>\n",
       "      <td>2020</td>\n",
       "      <td>09</td>\n",
       "      <td>01</td>\n",
       "      <td>12</td>\n",
       "      <td>1</td>\n",
       "      <td>0.000</td>\n",
       "      <td>1.0</td>\n",
       "    </tr>\n",
       "    <tr>\n",
       "      <th>13</th>\n",
       "      <td>1717319</td>\n",
       "      <td>3</td>\n",
       "      <td>EONUC01</td>\n",
       "      <td>EONUR CONSUMO CLIENTES TUR</td>\n",
       "      <td>CNO</td>\n",
       "      <td>400.0</td>\n",
       "      <td>2020</td>\n",
       "      <td>09</td>\n",
       "      <td>01</td>\n",
       "      <td>13</td>\n",
       "      <td>1</td>\n",
       "      <td>0.000</td>\n",
       "      <td>1.0</td>\n",
       "    </tr>\n",
       "    <tr>\n",
       "      <th>14</th>\n",
       "      <td>1717319</td>\n",
       "      <td>3</td>\n",
       "      <td>EONUC01</td>\n",
       "      <td>EONUR CONSUMO CLIENTES TUR</td>\n",
       "      <td>CNO</td>\n",
       "      <td>400.0</td>\n",
       "      <td>2020</td>\n",
       "      <td>09</td>\n",
       "      <td>01</td>\n",
       "      <td>14</td>\n",
       "      <td>1</td>\n",
       "      <td>0.000</td>\n",
       "      <td>1.0</td>\n",
       "    </tr>\n",
       "    <tr>\n",
       "      <th>15</th>\n",
       "      <td>1717319</td>\n",
       "      <td>3</td>\n",
       "      <td>EONUC01</td>\n",
       "      <td>EONUR CONSUMO CLIENTES TUR</td>\n",
       "      <td>CNO</td>\n",
       "      <td>400.0</td>\n",
       "      <td>2020</td>\n",
       "      <td>09</td>\n",
       "      <td>01</td>\n",
       "      <td>15</td>\n",
       "      <td>1</td>\n",
       "      <td>0.000</td>\n",
       "      <td>1.0</td>\n",
       "    </tr>\n",
       "    <tr>\n",
       "      <th>16</th>\n",
       "      <td>1717319</td>\n",
       "      <td>3</td>\n",
       "      <td>EONUC01</td>\n",
       "      <td>EONUR CONSUMO CLIENTES TUR</td>\n",
       "      <td>CNO</td>\n",
       "      <td>400.0</td>\n",
       "      <td>2020</td>\n",
       "      <td>09</td>\n",
       "      <td>01</td>\n",
       "      <td>16</td>\n",
       "      <td>1</td>\n",
       "      <td>0.000</td>\n",
       "      <td>1.0</td>\n",
       "    </tr>\n",
       "    <tr>\n",
       "      <th>17</th>\n",
       "      <td>1717319</td>\n",
       "      <td>3</td>\n",
       "      <td>EONUC01</td>\n",
       "      <td>EONUR CONSUMO CLIENTES TUR</td>\n",
       "      <td>CNO</td>\n",
       "      <td>400.0</td>\n",
       "      <td>2020</td>\n",
       "      <td>09</td>\n",
       "      <td>01</td>\n",
       "      <td>17</td>\n",
       "      <td>1</td>\n",
       "      <td>0.000</td>\n",
       "      <td>1.0</td>\n",
       "    </tr>\n",
       "    <tr>\n",
       "      <th>18</th>\n",
       "      <td>1717319</td>\n",
       "      <td>3</td>\n",
       "      <td>EONUC01</td>\n",
       "      <td>EONUR CONSUMO CLIENTES TUR</td>\n",
       "      <td>CNO</td>\n",
       "      <td>400.0</td>\n",
       "      <td>2020</td>\n",
       "      <td>09</td>\n",
       "      <td>01</td>\n",
       "      <td>18</td>\n",
       "      <td>1</td>\n",
       "      <td>0.000</td>\n",
       "      <td>1.0</td>\n",
       "    </tr>\n",
       "    <tr>\n",
       "      <th>19</th>\n",
       "      <td>1717319</td>\n",
       "      <td>3</td>\n",
       "      <td>EONUC01</td>\n",
       "      <td>EONUR CONSUMO CLIENTES TUR</td>\n",
       "      <td>CNO</td>\n",
       "      <td>400.0</td>\n",
       "      <td>2020</td>\n",
       "      <td>09</td>\n",
       "      <td>01</td>\n",
       "      <td>19</td>\n",
       "      <td>1</td>\n",
       "      <td>0.000</td>\n",
       "      <td>1.0</td>\n",
       "    </tr>\n",
       "    <tr>\n",
       "      <th>20</th>\n",
       "      <td>1717319</td>\n",
       "      <td>3</td>\n",
       "      <td>EONUC01</td>\n",
       "      <td>EONUR CONSUMO CLIENTES TUR</td>\n",
       "      <td>CNO</td>\n",
       "      <td>400.0</td>\n",
       "      <td>2020</td>\n",
       "      <td>09</td>\n",
       "      <td>01</td>\n",
       "      <td>20</td>\n",
       "      <td>1</td>\n",
       "      <td>0.000</td>\n",
       "      <td>1.0</td>\n",
       "    </tr>\n",
       "    <tr>\n",
       "      <th>21</th>\n",
       "      <td>1717319</td>\n",
       "      <td>3</td>\n",
       "      <td>EONUC01</td>\n",
       "      <td>EONUR CONSUMO CLIENTES TUR</td>\n",
       "      <td>CNO</td>\n",
       "      <td>400.0</td>\n",
       "      <td>2020</td>\n",
       "      <td>09</td>\n",
       "      <td>01</td>\n",
       "      <td>21</td>\n",
       "      <td>1</td>\n",
       "      <td>0.000</td>\n",
       "      <td>1.0</td>\n",
       "    </tr>\n",
       "    <tr>\n",
       "      <th>22</th>\n",
       "      <td>1717319</td>\n",
       "      <td>3</td>\n",
       "      <td>EONUC01</td>\n",
       "      <td>EONUR CONSUMO CLIENTES TUR</td>\n",
       "      <td>CNO</td>\n",
       "      <td>400.0</td>\n",
       "      <td>2020</td>\n",
       "      <td>09</td>\n",
       "      <td>01</td>\n",
       "      <td>22</td>\n",
       "      <td>1</td>\n",
       "      <td>0.000</td>\n",
       "      <td>1.0</td>\n",
       "    </tr>\n",
       "    <tr>\n",
       "      <th>23</th>\n",
       "      <td>1717319</td>\n",
       "      <td>3</td>\n",
       "      <td>EONUC01</td>\n",
       "      <td>EONUR CONSUMO CLIENTES TUR</td>\n",
       "      <td>CNO</td>\n",
       "      <td>400.0</td>\n",
       "      <td>2020</td>\n",
       "      <td>09</td>\n",
       "      <td>01</td>\n",
       "      <td>23</td>\n",
       "      <td>1</td>\n",
       "      <td>0.000</td>\n",
       "      <td>1.0</td>\n",
       "    </tr>\n",
       "    <tr>\n",
       "      <th>24</th>\n",
       "      <td>1717319</td>\n",
       "      <td>3</td>\n",
       "      <td>EONUC01</td>\n",
       "      <td>EONUR CONSUMO CLIENTES TUR</td>\n",
       "      <td>CNO</td>\n",
       "      <td>400.0</td>\n",
       "      <td>2020</td>\n",
       "      <td>09</td>\n",
       "      <td>01</td>\n",
       "      <td>24</td>\n",
       "      <td>1</td>\n",
       "      <td>0.000</td>\n",
       "      <td>1.0</td>\n",
       "    </tr>\n",
       "  </tbody>\n",
       "</table>\n",
       "</div>"
      ],
      "text/plain": [
       "   Bid_Code Num_Version Bid_Unit                Unit_Description Sell_Buy  \\\n",
       "1   1717319           3  EONUC01  EONUR CONSUMO CLIENTES TUR          CNO   \n",
       "2   1717319           3  EONUC01  EONUR CONSUMO CLIENTES TUR          CNO   \n",
       "3   1717319           3  EONUC01  EONUR CONSUMO CLIENTES TUR          CNO   \n",
       "4   1717319           3  EONUC01  EONUR CONSUMO CLIENTES TUR          CNO   \n",
       "5   1717319           3  EONUC01  EONUR CONSUMO CLIENTES TUR          CNO   \n",
       "6   1717319           3  EONUC01  EONUR CONSUMO CLIENTES TUR          CNO   \n",
       "7   1717319           3  EONUC01  EONUR CONSUMO CLIENTES TUR          CNO   \n",
       "8   1717319           3  EONUC01  EONUR CONSUMO CLIENTES TUR          CNO   \n",
       "9   1717319           3  EONUC01  EONUR CONSUMO CLIENTES TUR          CNO   \n",
       "10  1717319           3  EONUC01  EONUR CONSUMO CLIENTES TUR          CNO   \n",
       "11  1717319           3  EONUC01  EONUR CONSUMO CLIENTES TUR          CNO   \n",
       "12  1717319           3  EONUC01  EONUR CONSUMO CLIENTES TUR          CNO   \n",
       "13  1717319           3  EONUC01  EONUR CONSUMO CLIENTES TUR          CNO   \n",
       "14  1717319           3  EONUC01  EONUR CONSUMO CLIENTES TUR          CNO   \n",
       "15  1717319           3  EONUC01  EONUR CONSUMO CLIENTES TUR          CNO   \n",
       "16  1717319           3  EONUC01  EONUR CONSUMO CLIENTES TUR          CNO   \n",
       "17  1717319           3  EONUC01  EONUR CONSUMO CLIENTES TUR          CNO   \n",
       "18  1717319           3  EONUC01  EONUR CONSUMO CLIENTES TUR          CNO   \n",
       "19  1717319           3  EONUC01  EONUR CONSUMO CLIENTES TUR          CNO   \n",
       "20  1717319           3  EONUC01  EONUR CONSUMO CLIENTES TUR          CNO   \n",
       "21  1717319           3  EONUC01  EONUR CONSUMO CLIENTES TUR          CNO   \n",
       "22  1717319           3  EONUC01  EONUR CONSUMO CLIENTES TUR          CNO   \n",
       "23  1717319           3  EONUC01  EONUR CONSUMO CLIENTES TUR          CNO   \n",
       "24  1717319           3  EONUC01  EONUR CONSUMO CLIENTES TUR          CNO   \n",
       "\n",
       "    Pot_max  Year Month Day Period Block              Price   Energy  \n",
       "1     400.0  2020    09  01      1     1              0.000      1.0  \n",
       "2     400.0  2020    09  01      2     1              0.000      1.0  \n",
       "3     400.0  2020    09  01      3     1              0.000      1.0  \n",
       "4     400.0  2020    09  01      4     1              0.000      1.0  \n",
       "5     400.0  2020    09  01      5     1              0.000      1.0  \n",
       "6     400.0  2020    09  01      6     1              0.000      1.0  \n",
       "7     400.0  2020    09  01      7     1              0.000      1.0  \n",
       "8     400.0  2020    09  01      8     1              0.000      1.0  \n",
       "9     400.0  2020    09  01      9     1              0.000      1.0  \n",
       "10    400.0  2020    09  01     10     1              0.000      1.0  \n",
       "11    400.0  2020    09  01     11     1              0.000      1.0  \n",
       "12    400.0  2020    09  01     12     1              0.000      1.0  \n",
       "13    400.0  2020    09  01     13     1              0.000      1.0  \n",
       "14    400.0  2020    09  01     14     1              0.000      1.0  \n",
       "15    400.0  2020    09  01     15     1              0.000      1.0  \n",
       "16    400.0  2020    09  01     16     1              0.000      1.0  \n",
       "17    400.0  2020    09  01     17     1              0.000      1.0  \n",
       "18    400.0  2020    09  01     18     1              0.000      1.0  \n",
       "19    400.0  2020    09  01     19     1              0.000      1.0  \n",
       "20    400.0  2020    09  01     20     1              0.000      1.0  \n",
       "21    400.0  2020    09  01     21     1              0.000      1.0  \n",
       "22    400.0  2020    09  01     22     1              0.000      1.0  \n",
       "23    400.0  2020    09  01     23     1              0.000      1.0  \n",
       "24    400.0  2020    09  01     24     1              0.000      1.0  "
      ]
     },
     "execution_count": 147,
     "metadata": {},
     "output_type": "execute_result"
    }
   ],
   "source": [
    "df_cab_09.merge(df_det_0901,how = 'inner').loc[df_det_0901['Bid_Code'] == '1717319']"
   ]
  },
  {
   "cell_type": "code",
   "execution_count": null,
   "metadata": {},
   "outputs": [],
   "source": [
    "#Para evitar la multiplicación de lines no deseadas, lo lógico es eliminar las celdas de \"COMPRA\" en el df de\n",
    "#cabeceras o elegir las unidades de negocio en ese momento para que la consulta con el fichero de detalle no\n",
    "#acabe con millones de lineas.\n",
    "\n"
   ]
  }
 ],
 "metadata": {
  "kernelspec": {
   "display_name": "Python 3",
   "language": "python",
   "name": "python3"
  },
  "language_info": {
   "codemirror_mode": {
    "name": "ipython",
    "version": 3
   },
   "file_extension": ".py",
   "mimetype": "text/x-python",
   "name": "python",
   "nbconvert_exporter": "python",
   "pygments_lexer": "ipython3",
   "version": "3.8.5"
  }
 },
 "nbformat": 4,
 "nbformat_minor": 4
}
