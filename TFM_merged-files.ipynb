{
 "cells": [
  {
   "cell_type": "code",
   "execution_count": 1,
   "metadata": {},
   "outputs": [],
   "source": [
    "import pandas as pd\n",
    "import numpy as np\n",
    "import matplotlib.pyplot as plt"
   ]
  },
  {
   "cell_type": "code",
   "execution_count": 6,
   "metadata": {},
   "outputs": [],
   "source": [
    "#EXPLORANDO ARCHIVO CABECERAS"
   ]
  },
  {
   "cell_type": "code",
   "execution_count": 7,
   "metadata": {},
   "outputs": [],
   "source": [
    "archive_list = !ls -1 /home/dsc/Documents/TFM/Data/OMIE/CAB/cab_202009/"
   ]
  },
  {
   "cell_type": "code",
   "execution_count": 8,
   "metadata": {},
   "outputs": [
    {
     "data": {
      "text/plain": [
       "['CAB_20200901.1',\n",
       " 'CAB_20200902.1',\n",
       " 'CAB_20200903.1',\n",
       " 'CAB_20200904.1',\n",
       " 'CAB_20200905.1',\n",
       " 'CAB_20200906.1',\n",
       " 'CAB_20200907.1',\n",
       " 'CAB_20200908.1',\n",
       " 'CAB_20200909.1',\n",
       " 'CAB_20200910.1',\n",
       " 'CAB_20200911.1',\n",
       " 'CAB_20200912.1',\n",
       " 'CAB_20200913.1',\n",
       " 'CAB_20200914.1',\n",
       " 'CAB_20200915.1',\n",
       " 'CAB_20200916.1',\n",
       " 'CAB_20200917.1',\n",
       " 'CAB_20200918.1',\n",
       " 'CAB_20200919.1',\n",
       " 'CAB_20200920.1',\n",
       " 'CAB_20200921.1',\n",
       " 'CAB_20200922.1',\n",
       " 'CAB_20200923.1',\n",
       " 'CAB_20200924.1',\n",
       " 'CAB_20200925.1',\n",
       " 'CAB_20200926.1',\n",
       " 'CAB_20200927.1',\n",
       " 'CAB_20200928.1',\n",
       " 'CAB_20200929.1',\n",
       " 'CAB_20200930.1']"
      ]
     },
     "execution_count": 8,
     "metadata": {},
     "output_type": "execute_result"
    }
   ],
   "source": [
    "archive_list"
   ]
  },
  {
   "cell_type": "code",
   "execution_count": 9,
   "metadata": {},
   "outputs": [],
   "source": [
    "path = '/home/dsc/Documents/TFM/Data/OMIE/cab_202009/CAB/CAB_20200901.1'"
   ]
  },
  {
   "cell_type": "code",
   "execution_count": 10,
   "metadata": {},
   "outputs": [],
   "source": [
    "archive_path = '/home/dsc/Documents/TFM/Data/OMIE/CAB/cab_202009/'"
   ]
  },
  {
   "cell_type": "code",
   "execution_count": null,
   "metadata": {},
   "outputs": [],
   "source": []
  },
  {
   "cell_type": "code",
   "execution_count": 11,
   "metadata": {},
   "outputs": [
    {
     "name": "stdout",
     "output_type": "stream",
     "text": [
      "1483\n",
      "1488\n",
      "1465\n",
      "1488\n",
      "1470\n",
      "1450\n",
      "1470\n",
      "1474\n",
      "1475\n",
      "1477\n",
      "1484\n",
      "1467\n",
      "1452\n",
      "1478\n",
      "1474\n",
      "1463\n",
      "1461\n",
      "1463\n",
      "1465\n",
      "1443\n",
      "1481\n",
      "1478\n",
      "1481\n",
      "1474\n",
      "1484\n",
      "1471\n",
      "1454\n",
      "1480\n",
      "1482\n",
      "1477\n"
     ]
    }
   ],
   "source": [
    "archive_09 = []\n",
    "\n",
    "for archive in archive_list:\n",
    "    with open(archive_path + archive, errors='replace') as f:\n",
    "        lines = f.readlines()\n",
    "        archive_09.append(lines)\n",
    "        print(len(lines))"
   ]
  },
  {
   "cell_type": "code",
   "execution_count": null,
   "metadata": {},
   "outputs": [],
   "source": []
  },
  {
   "cell_type": "code",
   "execution_count": null,
   "metadata": {},
   "outputs": [],
   "source": []
  },
  {
   "cell_type": "code",
   "execution_count": 12,
   "metadata": {},
   "outputs": [],
   "source": [
    "# f = open(archive_path + archive, errors='replace')"
   ]
  },
  {
   "cell_type": "code",
   "execution_count": 13,
   "metadata": {},
   "outputs": [
    {
     "data": {
      "text/plain": [
       "14"
      ]
     },
     "execution_count": 13,
     "metadata": {},
     "output_type": "execute_result"
    }
   ],
   "source": [
    "#Pruebas para obtener la fecha del nombre del archivo\n",
    "len(archive)"
   ]
  },
  {
   "cell_type": "code",
   "execution_count": 14,
   "metadata": {},
   "outputs": [
    {
     "data": {
      "text/plain": [
       "'20200930'"
      ]
     },
     "execution_count": 14,
     "metadata": {},
     "output_type": "execute_result"
    }
   ],
   "source": [
    "archive[4:12]"
   ]
  },
  {
   "cell_type": "code",
   "execution_count": 15,
   "metadata": {},
   "outputs": [
    {
     "data": {
      "text/plain": [
       "'0930'"
      ]
     },
     "execution_count": 15,
     "metadata": {},
     "output_type": "execute_result"
    }
   ],
   "source": [
    "archive[8:12]"
   ]
  },
  {
   "cell_type": "code",
   "execution_count": 16,
   "metadata": {},
   "outputs": [
    {
     "data": {
      "text/plain": [
       "str"
      ]
     },
     "execution_count": 16,
     "metadata": {},
     "output_type": "execute_result"
    }
   ],
   "source": [
    "type(archive[8:12])"
   ]
  },
  {
   "cell_type": "code",
   "execution_count": null,
   "metadata": {},
   "outputs": [],
   "source": []
  },
  {
   "cell_type": "code",
   "execution_count": 17,
   "metadata": {
    "scrolled": false
   },
   "outputs": [
    {
     "data": {
      "text/plain": [
       "30"
      ]
     },
     "execution_count": 17,
     "metadata": {},
     "output_type": "execute_result"
    }
   ],
   "source": [
    "len(archive_09)"
   ]
  },
  {
   "cell_type": "code",
   "execution_count": 18,
   "metadata": {},
   "outputs": [
    {
     "data": {
      "text/plain": [
       "1483"
      ]
     },
     "execution_count": 18,
     "metadata": {},
     "output_type": "execute_result"
    }
   ],
   "source": [
    "len(archive_09[0])"
   ]
  },
  {
   "cell_type": "code",
   "execution_count": 19,
   "metadata": {},
   "outputs": [
    {
     "data": {
      "text/plain": [
       "170"
      ]
     },
     "execution_count": 19,
     "metadata": {},
     "output_type": "execute_result"
    }
   ],
   "source": [
    "len(archive_09[0][0])"
   ]
  },
  {
   "cell_type": "code",
   "execution_count": 20,
   "metadata": {},
   "outputs": [
    {
     "data": {
      "text/plain": [
       "str"
      ]
     },
     "execution_count": 20,
     "metadata": {},
     "output_type": "execute_result"
    }
   ],
   "source": [
    "type(archive)"
   ]
  },
  {
   "cell_type": "code",
   "execution_count": 21,
   "metadata": {},
   "outputs": [
    {
     "name": "stdout",
     "output_type": "stream",
     "text": [
      "OK\n",
      "OK\n",
      "OK\n",
      "OK\n",
      "OK\n",
      "OK\n",
      "OK\n",
      "OK\n",
      "OK\n",
      "OK\n",
      "OK\n",
      "OK\n",
      "OK\n",
      "OK\n",
      "OK\n",
      "OK\n",
      "OK\n",
      "OK\n",
      "OK\n",
      "OK\n",
      "OK\n",
      "OK\n",
      "OK\n",
      "OK\n",
      "OK\n",
      "OK\n",
      "OK\n",
      "OK\n",
      "OK\n",
      "OK\n"
     ]
    }
   ],
   "source": [
    "#Comprobación de que todas las lineas tienen todas el mismo número de caracteres, en este caso 170.\n",
    "\n",
    "for x in range(len(archive_09)):\n",
    "    for i in archive_09[x]:\n",
    "        if len(i) != 170:\n",
    "            print(len(i))\n",
    "    print('OK')"
   ]
  },
  {
   "cell_type": "code",
   "execution_count": null,
   "metadata": {},
   "outputs": [],
   "source": []
  },
  {
   "cell_type": "code",
   "execution_count": 22,
   "metadata": {},
   "outputs": [
    {
     "data": {
      "text/plain": [
       "list"
      ]
     },
     "execution_count": 22,
     "metadata": {},
     "output_type": "execute_result"
    }
   ],
   "source": [
    "type(lines)"
   ]
  },
  {
   "cell_type": "code",
   "execution_count": 23,
   "metadata": {
    "scrolled": true
   },
   "outputs": [
    {
     "data": {
      "text/plain": [
       "'1696149  6EDPC2  EDP COMERCIAL COMPRA (PORT)   CNO            0.000            0.000    0.0    0.0            0.000            0.000 6000.0    0.0    0.0 220100531155344\\n'"
      ]
     },
     "execution_count": 23,
     "metadata": {},
     "output_type": "execute_result"
    }
   ],
   "source": [
    "lines[0]"
   ]
  },
  {
   "cell_type": "code",
   "execution_count": 24,
   "metadata": {},
   "outputs": [
    {
     "data": {
      "text/plain": [
       "170"
      ]
     },
     "execution_count": 24,
     "metadata": {},
     "output_type": "execute_result"
    }
   ],
   "source": [
    "len(lines[0])"
   ]
  },
  {
   "cell_type": "code",
   "execution_count": 25,
   "metadata": {
    "scrolled": false
   },
   "outputs": [
    {
     "data": {
      "text/plain": [
       "'1717319  3EONUC01EONUR CONSUMO CLIENTES TUR    CNO            0.000            0.000    0.0    0.0            0.000            0.000  400.0    0.0    0.0 120111128182553\\n'"
      ]
     },
     "execution_count": 25,
     "metadata": {},
     "output_type": "execute_result"
    }
   ],
   "source": [
    "lines[1]"
   ]
  },
  {
   "cell_type": "code",
   "execution_count": 26,
   "metadata": {},
   "outputs": [
    {
     "data": {
      "text/plain": [
       "170"
      ]
     },
     "execution_count": 26,
     "metadata": {},
     "output_type": "execute_result"
    }
   ],
   "source": [
    "len(lines[1])"
   ]
  },
  {
   "cell_type": "code",
   "execution_count": 27,
   "metadata": {
    "scrolled": true
   },
   "outputs": [
    {
     "data": {
      "text/plain": [
       "' 298526  4CENTC01C�NTRICA ENERG�A COM. 1 (ESP) CNO            0.000            0.000    0.0    0.0            0.000            0.000 1200.0    0.0    0.0 120161118143949\\n'"
      ]
     },
     "execution_count": 27,
     "metadata": {},
     "output_type": "execute_result"
    }
   ],
   "source": [
    "lines[7]"
   ]
  },
  {
   "cell_type": "code",
   "execution_count": 28,
   "metadata": {},
   "outputs": [
    {
     "data": {
      "text/plain": [
       "170"
      ]
     },
     "execution_count": 28,
     "metadata": {},
     "output_type": "execute_result"
    }
   ],
   "source": [
    "len(lines[7])"
   ]
  },
  {
   "cell_type": "code",
   "execution_count": 29,
   "metadata": {},
   "outputs": [],
   "source": [
    "x = lines[0]"
   ]
  },
  {
   "cell_type": "code",
   "execution_count": 30,
   "metadata": {},
   "outputs": [
    {
     "data": {
      "text/plain": [
       "'1696149  6EDPC2  EDP COMERCIAL COMPRA (PORT)   CNO            0.000            0.000    0.0    0.0            0.000            0.000 6000.0    0.0    0.0 220100531155344\\n'"
      ]
     },
     "execution_count": 30,
     "metadata": {},
     "output_type": "execute_result"
    }
   ],
   "source": [
    "x"
   ]
  },
  {
   "cell_type": "code",
   "execution_count": 31,
   "metadata": {},
   "outputs": [
    {
     "data": {
      "text/plain": [
       "170"
      ]
     },
     "execution_count": 31,
     "metadata": {},
     "output_type": "execute_result"
    }
   ],
   "source": [
    "len(x)"
   ]
  },
  {
   "cell_type": "code",
   "execution_count": 32,
   "metadata": {},
   "outputs": [
    {
     "data": {
      "text/plain": [
       "'1696149'"
      ]
     },
     "execution_count": 32,
     "metadata": {},
     "output_type": "execute_result"
    }
   ],
   "source": [
    "x[0:7]"
   ]
  },
  {
   "cell_type": "code",
   "execution_count": 33,
   "metadata": {},
   "outputs": [
    {
     "data": {
      "text/plain": [
       "'  6'"
      ]
     },
     "execution_count": 33,
     "metadata": {},
     "output_type": "execute_result"
    }
   ],
   "source": [
    "x[7:10]"
   ]
  },
  {
   "cell_type": "code",
   "execution_count": 34,
   "metadata": {},
   "outputs": [
    {
     "data": {
      "text/plain": [
       "'EDPC2  '"
      ]
     },
     "execution_count": 34,
     "metadata": {},
     "output_type": "execute_result"
    }
   ],
   "source": [
    "x[10:17]"
   ]
  },
  {
   "cell_type": "code",
   "execution_count": 35,
   "metadata": {},
   "outputs": [
    {
     "data": {
      "text/plain": [
       "'EDP COMERCIAL COMPRA (PORT)   '"
      ]
     },
     "execution_count": 35,
     "metadata": {},
     "output_type": "execute_result"
    }
   ],
   "source": [
    "x[17:47]"
   ]
  },
  {
   "cell_type": "code",
   "execution_count": 36,
   "metadata": {},
   "outputs": [
    {
     "data": {
      "text/plain": [
       "'CNO'"
      ]
     },
     "execution_count": 36,
     "metadata": {},
     "output_type": "execute_result"
    }
   ],
   "source": [
    "x[47:50]"
   ]
  },
  {
   "cell_type": "code",
   "execution_count": 37,
   "metadata": {},
   "outputs": [
    {
     "data": {
      "text/plain": [
       "'            0.000'"
      ]
     },
     "execution_count": 37,
     "metadata": {},
     "output_type": "execute_result"
    }
   ],
   "source": [
    "x[50:67]"
   ]
  },
  {
   "cell_type": "code",
   "execution_count": 38,
   "metadata": {},
   "outputs": [
    {
     "data": {
      "text/plain": [
       "'            0.000'"
      ]
     },
     "execution_count": 38,
     "metadata": {},
     "output_type": "execute_result"
    }
   ],
   "source": [
    "x[67:84]"
   ]
  },
  {
   "cell_type": "code",
   "execution_count": 39,
   "metadata": {},
   "outputs": [
    {
     "data": {
      "text/plain": [
       "'    0.0'"
      ]
     },
     "execution_count": 39,
     "metadata": {},
     "output_type": "execute_result"
    }
   ],
   "source": [
    "x[84:91]"
   ]
  },
  {
   "cell_type": "code",
   "execution_count": 40,
   "metadata": {},
   "outputs": [
    {
     "data": {
      "text/plain": [
       "'    0.0'"
      ]
     },
     "execution_count": 40,
     "metadata": {},
     "output_type": "execute_result"
    }
   ],
   "source": [
    "x[91:98]"
   ]
  },
  {
   "cell_type": "code",
   "execution_count": 41,
   "metadata": {},
   "outputs": [
    {
     "data": {
      "text/plain": [
       "'            0.000'"
      ]
     },
     "execution_count": 41,
     "metadata": {},
     "output_type": "execute_result"
    }
   ],
   "source": [
    "x[98:115]"
   ]
  },
  {
   "cell_type": "code",
   "execution_count": 42,
   "metadata": {},
   "outputs": [
    {
     "data": {
      "text/plain": [
       "'            0.000'"
      ]
     },
     "execution_count": 42,
     "metadata": {},
     "output_type": "execute_result"
    }
   ],
   "source": [
    "x[115:132]"
   ]
  },
  {
   "cell_type": "code",
   "execution_count": 43,
   "metadata": {},
   "outputs": [
    {
     "data": {
      "text/plain": [
       "' 6000.0'"
      ]
     },
     "execution_count": 43,
     "metadata": {},
     "output_type": "execute_result"
    }
   ],
   "source": [
    "x[132:139]"
   ]
  },
  {
   "cell_type": "code",
   "execution_count": 44,
   "metadata": {},
   "outputs": [
    {
     "data": {
      "text/plain": [
       "'    0.0'"
      ]
     },
     "execution_count": 44,
     "metadata": {},
     "output_type": "execute_result"
    }
   ],
   "source": [
    "x[139:146]"
   ]
  },
  {
   "cell_type": "code",
   "execution_count": 45,
   "metadata": {},
   "outputs": [
    {
     "data": {
      "text/plain": [
       "'    0.0'"
      ]
     },
     "execution_count": 45,
     "metadata": {},
     "output_type": "execute_result"
    }
   ],
   "source": [
    "x[146:153]"
   ]
  },
  {
   "cell_type": "code",
   "execution_count": 46,
   "metadata": {},
   "outputs": [
    {
     "data": {
      "text/plain": [
       "' 220100531155344\\n'"
      ]
     },
     "execution_count": 46,
     "metadata": {},
     "output_type": "execute_result"
    }
   ],
   "source": [
    "x[153:170]"
   ]
  },
  {
   "cell_type": "code",
   "execution_count": 47,
   "metadata": {},
   "outputs": [
    {
     "data": {
      "text/plain": [
       "['1696149^  6^EDPC2  ^EDP COMERCIAL COMPRA (PORT)   ^CNO^ 6000.0']"
      ]
     },
     "execution_count": 47,
     "metadata": {},
     "output_type": "execute_result"
    }
   ],
   "source": [
    "[x[0:7] + '^' + x[7:10] +'^'+ x[10:17] +'^'+ x[17:47] +'^'+ x[47:50] +'^'+ x[132:139]]"
   ]
  },
  {
   "cell_type": "code",
   "execution_count": null,
   "metadata": {},
   "outputs": [],
   "source": []
  },
  {
   "cell_type": "code",
   "execution_count": 48,
   "metadata": {},
   "outputs": [
    {
     "data": {
      "text/plain": [
       "30"
      ]
     },
     "execution_count": 48,
     "metadata": {},
     "output_type": "execute_result"
    }
   ],
   "source": [
    "len(archive_09)"
   ]
  },
  {
   "cell_type": "code",
   "execution_count": 49,
   "metadata": {},
   "outputs": [
    {
     "data": {
      "text/plain": [
       "1483"
      ]
     },
     "execution_count": 49,
     "metadata": {},
     "output_type": "execute_result"
    }
   ],
   "source": [
    "len(archive_09[0])"
   ]
  },
  {
   "cell_type": "code",
   "execution_count": 50,
   "metadata": {},
   "outputs": [
    {
     "data": {
      "text/plain": [
       "'1696149'"
      ]
     },
     "execution_count": 50,
     "metadata": {},
     "output_type": "execute_result"
    }
   ],
   "source": [
    "archive_09[0][0][0:7]"
   ]
  },
  {
   "cell_type": "code",
   "execution_count": 51,
   "metadata": {},
   "outputs": [],
   "source": [
    "#Prueba crear una lista única con strings y ',' y solo la info que me interesa:\n",
    "#[Código de oferta, Num. versión, Unidad ofertante, Descripción unidad, Indicador Compra/Venta, Potencia máxima]\n",
    "#[[0:7],[7:10],[10:17],[17:47],[47:50],[132:139]]\n",
    "#Se unen con \"^\" para evitar problemas con el \"split\" y las \",\" en los nombres\n",
    "\n",
    "cab_total_09 = []\n",
    "\n",
    "for day in range(len(archive_09)):\n",
    "    for count in range(len(archive_09[day])):\n",
    "        cab_total_09.append((archive_09[day][count][0:7] +'^'+ \n",
    "                            archive_09[day][count][7:10] +'^'+ \n",
    "                            archive_09[day][count][10:17] +'^'+ \n",
    "                            archive_09[day][count][17:47] +'^'+ \n",
    "                            archive_09[day][count][47:50] +'^'+ \n",
    "                            archive_09[day][count][132:139] +'^'+ \n",
    "                            archive_list[day][4:8] + '^' + \n",
    "                            archive_list[day][8:10] + '^' + \n",
    "                            archive_list[day][10:12]).split('^'))"
   ]
  },
  {
   "cell_type": "code",
   "execution_count": null,
   "metadata": {},
   "outputs": [],
   "source": []
  },
  {
   "cell_type": "code",
   "execution_count": 52,
   "metadata": {},
   "outputs": [
    {
     "data": {
      "text/plain": [
       "44152"
      ]
     },
     "execution_count": 52,
     "metadata": {},
     "output_type": "execute_result"
    }
   ],
   "source": [
    "#Lista con todos la info.\n",
    "\n",
    "len(cab_total_09)"
   ]
  },
  {
   "cell_type": "code",
   "execution_count": 53,
   "metadata": {},
   "outputs": [
    {
     "data": {
      "text/plain": [
       "['1696149',\n",
       " '  6',\n",
       " 'EDPC2  ',\n",
       " 'EDP COMERCIAL COMPRA (PORT)   ',\n",
       " 'CNO',\n",
       " ' 6000.0',\n",
       " '2020',\n",
       " '09',\n",
       " '01']"
      ]
     },
     "execution_count": 53,
     "metadata": {},
     "output_type": "execute_result"
    }
   ],
   "source": [
    "cab_total_09[0]"
   ]
  },
  {
   "cell_type": "code",
   "execution_count": 54,
   "metadata": {},
   "outputs": [
    {
     "data": {
      "text/plain": [
       "list"
      ]
     },
     "execution_count": 54,
     "metadata": {},
     "output_type": "execute_result"
    }
   ],
   "source": [
    "type(cab_total_09)"
   ]
  },
  {
   "cell_type": "code",
   "execution_count": 55,
   "metadata": {
    "scrolled": true
   },
   "outputs": [
    {
     "data": {
      "text/plain": [
       "['1696149',\n",
       " '  6',\n",
       " 'EDPC2  ',\n",
       " 'EDP COMERCIAL COMPRA (PORT)   ',\n",
       " 'CNO',\n",
       " ' 6000.0',\n",
       " '2020',\n",
       " '09',\n",
       " '21']"
      ]
     },
     "execution_count": 55,
     "metadata": {},
     "output_type": "execute_result"
    }
   ],
   "source": [
    "cab_total_09[29390]"
   ]
  },
  {
   "cell_type": "code",
   "execution_count": 56,
   "metadata": {},
   "outputs": [
    {
     "data": {
      "text/plain": [
       "9"
      ]
     },
     "execution_count": 56,
     "metadata": {},
     "output_type": "execute_result"
    }
   ],
   "source": [
    "len(cab_total_09[29390])"
   ]
  },
  {
   "cell_type": "code",
   "execution_count": 57,
   "metadata": {},
   "outputs": [
    {
     "data": {
      "text/plain": [
       "list"
      ]
     },
     "execution_count": 57,
     "metadata": {},
     "output_type": "execute_result"
    }
   ],
   "source": [
    "type(cab_total_09[29390])"
   ]
  },
  {
   "cell_type": "code",
   "execution_count": 58,
   "metadata": {},
   "outputs": [],
   "source": [
    "#columns=['Bid_Code', 'Num_Version', 'Bid_Unit', 'Unit_Description', 'Sell/Buy', 'Pot_max', 'Year','Month','Day']\n",
    "df_cab_09 = pd.DataFrame(cab_total_09,\n",
    "                        columns=['Bid_Code', \n",
    "                                 'Num_Version', \n",
    "                                 'Bid_Unit', \n",
    "                                 'Unit_Description', \n",
    "                                 'Sell_Buy', \n",
    "                                 'Pot_max', \n",
    "                                 'Year',\n",
    "                                 'Month',\n",
    "                                 'Day'])"
   ]
  },
  {
   "cell_type": "code",
   "execution_count": 59,
   "metadata": {},
   "outputs": [
    {
     "data": {
      "text/html": [
       "<div>\n",
       "<style scoped>\n",
       "    .dataframe tbody tr th:only-of-type {\n",
       "        vertical-align: middle;\n",
       "    }\n",
       "\n",
       "    .dataframe tbody tr th {\n",
       "        vertical-align: top;\n",
       "    }\n",
       "\n",
       "    .dataframe thead th {\n",
       "        text-align: right;\n",
       "    }\n",
       "</style>\n",
       "<table border=\"1\" class=\"dataframe\">\n",
       "  <thead>\n",
       "    <tr style=\"text-align: right;\">\n",
       "      <th></th>\n",
       "      <th>Bid_Code</th>\n",
       "      <th>Num_Version</th>\n",
       "      <th>Bid_Unit</th>\n",
       "      <th>Unit_Description</th>\n",
       "      <th>Sell_Buy</th>\n",
       "      <th>Pot_max</th>\n",
       "      <th>Year</th>\n",
       "      <th>Month</th>\n",
       "      <th>Day</th>\n",
       "    </tr>\n",
       "  </thead>\n",
       "  <tbody>\n",
       "    <tr>\n",
       "      <th>0</th>\n",
       "      <td>1696149</td>\n",
       "      <td>6</td>\n",
       "      <td>EDPC2</td>\n",
       "      <td>EDP COMERCIAL COMPRA (PORT)</td>\n",
       "      <td>CNO</td>\n",
       "      <td>6000.0</td>\n",
       "      <td>2020</td>\n",
       "      <td>09</td>\n",
       "      <td>01</td>\n",
       "    </tr>\n",
       "    <tr>\n",
       "      <th>1</th>\n",
       "      <td>1717319</td>\n",
       "      <td>3</td>\n",
       "      <td>EONUC01</td>\n",
       "      <td>EONUR CONSUMO CLIENTES TUR</td>\n",
       "      <td>CNO</td>\n",
       "      <td>400.0</td>\n",
       "      <td>2020</td>\n",
       "      <td>09</td>\n",
       "      <td>01</td>\n",
       "    </tr>\n",
       "    <tr>\n",
       "      <th>2</th>\n",
       "      <td>1811311</td>\n",
       "      <td>7</td>\n",
       "      <td>IPG</td>\n",
       "      <td>C.H. IP GENERACION</td>\n",
       "      <td>VNO</td>\n",
       "      <td>84.0</td>\n",
       "      <td>2020</td>\n",
       "      <td>09</td>\n",
       "      <td>01</td>\n",
       "    </tr>\n",
       "    <tr>\n",
       "      <th>3</th>\n",
       "      <td>426609</td>\n",
       "      <td>12</td>\n",
       "      <td>IPB</td>\n",
       "      <td>C.H.B.IP BOMBEO</td>\n",
       "      <td>CNO</td>\n",
       "      <td>99.0</td>\n",
       "      <td>2020</td>\n",
       "      <td>09</td>\n",
       "      <td>01</td>\n",
       "    </tr>\n",
       "    <tr>\n",
       "      <th>4</th>\n",
       "      <td>2532852</td>\n",
       "      <td>28</td>\n",
       "      <td>NRENVD1</td>\n",
       "      <td>NRENO-VENTA</td>\n",
       "      <td>VNO</td>\n",
       "      <td>1.7</td>\n",
       "      <td>2020</td>\n",
       "      <td>09</td>\n",
       "      <td>01</td>\n",
       "    </tr>\n",
       "  </tbody>\n",
       "</table>\n",
       "</div>"
      ],
      "text/plain": [
       "  Bid_Code Num_Version Bid_Unit                Unit_Description Sell_Buy  \\\n",
       "0  1696149           6  EDPC2    EDP COMERCIAL COMPRA (PORT)         CNO   \n",
       "1  1717319           3  EONUC01  EONUR CONSUMO CLIENTES TUR          CNO   \n",
       "2  1811311           7  IPG      C.H. IP GENERACION                  VNO   \n",
       "3   426609          12  IPB      C.H.B.IP BOMBEO                     CNO   \n",
       "4  2532852          28  NRENVD1  NRENO-VENTA                         VNO   \n",
       "\n",
       "   Pot_max  Year Month Day  \n",
       "0   6000.0  2020    09  01  \n",
       "1    400.0  2020    09  01  \n",
       "2     84.0  2020    09  01  \n",
       "3     99.0  2020    09  01  \n",
       "4      1.7  2020    09  01  "
      ]
     },
     "execution_count": 59,
     "metadata": {},
     "output_type": "execute_result"
    }
   ],
   "source": [
    "df_cab_09.head()"
   ]
  },
  {
   "cell_type": "code",
   "execution_count": 60,
   "metadata": {},
   "outputs": [],
   "source": [
    "df_cab_09.to_csv('/home/dsc/Documents/TFM/Data/OMIE/' +'CAB_09.csv')"
   ]
  },
  {
   "cell_type": "code",
   "execution_count": 61,
   "metadata": {},
   "outputs": [
    {
     "data": {
      "text/plain": [
       "Bid_Code                                   6469718\n",
       "Num_Version                                      0\n",
       "Bid_Unit                                   VISAC01\n",
       "Unit_Description    SAMOYEDO, S.L.                \n",
       "Sell_Buy                                       CNO\n",
       "Pot_max                                        1.2\n",
       "Year                                          2020\n",
       "Month                                           09\n",
       "Day                                             01\n",
       "Name: 549, dtype: object"
      ]
     },
     "execution_count": 61,
     "metadata": {},
     "output_type": "execute_result"
    }
   ],
   "source": [
    "df_cab_09.iloc[549]"
   ]
  },
  {
   "cell_type": "code",
   "execution_count": null,
   "metadata": {},
   "outputs": [],
   "source": []
  },
  {
   "cell_type": "code",
   "execution_count": 62,
   "metadata": {},
   "outputs": [
    {
     "name": "stdout",
     "output_type": "stream",
     "text": [
      "50676\n"
     ]
    }
   ],
   "source": [
    "###VAMOS AHORA A INSPECCIONAR UN ARCHIVO DET_\n",
    "\n",
    "DET_path = '/home/dsc/Documents/TFM/Data/OMIE/DET/det_202009/DET_20200901.1'\n",
    "det_0901 = []\n",
    "\n",
    "with open(DET_path) as det:\n",
    "        det_lines = det.readlines()\n",
    "        det_0901.append(det_lines)\n",
    "        print(len(det_lines))\n",
    "        \n"
   ]
  },
  {
   "cell_type": "code",
   "execution_count": null,
   "metadata": {},
   "outputs": [],
   "source": []
  },
  {
   "cell_type": "code",
   "execution_count": 63,
   "metadata": {
    "scrolled": false
   },
   "outputs": [
    {
     "data": {
      "text/plain": [
       "1"
      ]
     },
     "execution_count": 63,
     "metadata": {},
     "output_type": "execute_result"
    }
   ],
   "source": [
    "len(det_0901)"
   ]
  },
  {
   "cell_type": "code",
   "execution_count": 64,
   "metadata": {},
   "outputs": [
    {
     "data": {
      "text/plain": [
       "50676"
      ]
     },
     "execution_count": 64,
     "metadata": {},
     "output_type": "execute_result"
    }
   ],
   "source": [
    "len(det_0901[0])"
   ]
  },
  {
   "cell_type": "code",
   "execution_count": 65,
   "metadata": {},
   "outputs": [
    {
     "data": {
      "text/plain": [
       "58"
      ]
     },
     "execution_count": 65,
     "metadata": {},
     "output_type": "execute_result"
    }
   ],
   "source": [
    "len(det_0901[0][0])"
   ]
  },
  {
   "cell_type": "code",
   "execution_count": 66,
   "metadata": {},
   "outputs": [
    {
     "name": "stdout",
     "output_type": "stream",
     "text": [
      "OK\n"
     ]
    }
   ],
   "source": [
    "#Comprobación de que todas las lineas tienen todas el mismo número de caracteres, en este caso 58.\n",
    "\n",
    "for x in range(len(det_0901)):\n",
    "    for i in det_0901[x]:\n",
    "        if len(i) != 58:\n",
    "            print(len(i))\n",
    "    print('OK')"
   ]
  },
  {
   "cell_type": "code",
   "execution_count": 67,
   "metadata": {},
   "outputs": [
    {
     "data": {
      "text/plain": [
       "'1696149  622 1            0.000            0.010    0.1SS\\n'"
      ]
     },
     "execution_count": 67,
     "metadata": {},
     "output_type": "execute_result"
    }
   ],
   "source": [
    "y = det_lines[0]\n",
    "y"
   ]
  },
  {
   "cell_type": "code",
   "execution_count": 68,
   "metadata": {},
   "outputs": [
    {
     "data": {
      "text/plain": [
       "'1696149'"
      ]
     },
     "execution_count": 68,
     "metadata": {},
     "output_type": "execute_result"
    }
   ],
   "source": [
    "y[0:7]"
   ]
  },
  {
   "cell_type": "code",
   "execution_count": 69,
   "metadata": {},
   "outputs": [
    {
     "data": {
      "text/plain": [
       "'  6'"
      ]
     },
     "execution_count": 69,
     "metadata": {},
     "output_type": "execute_result"
    }
   ],
   "source": [
    "y[7:10]"
   ]
  },
  {
   "cell_type": "code",
   "execution_count": 70,
   "metadata": {},
   "outputs": [
    {
     "data": {
      "text/plain": [
       "'22'"
      ]
     },
     "execution_count": 70,
     "metadata": {},
     "output_type": "execute_result"
    }
   ],
   "source": [
    "y[10:12]"
   ]
  },
  {
   "cell_type": "code",
   "execution_count": 71,
   "metadata": {},
   "outputs": [
    {
     "data": {
      "text/plain": [
       "' 1'"
      ]
     },
     "execution_count": 71,
     "metadata": {},
     "output_type": "execute_result"
    }
   ],
   "source": [
    "y[12:14]"
   ]
  },
  {
   "cell_type": "code",
   "execution_count": 72,
   "metadata": {},
   "outputs": [
    {
     "data": {
      "text/plain": [
       "'            0.010'"
      ]
     },
     "execution_count": 72,
     "metadata": {},
     "output_type": "execute_result"
    }
   ],
   "source": [
    "y[31:48]"
   ]
  },
  {
   "cell_type": "code",
   "execution_count": 73,
   "metadata": {},
   "outputs": [
    {
     "data": {
      "text/plain": [
       "'    0.1'"
      ]
     },
     "execution_count": 73,
     "metadata": {},
     "output_type": "execute_result"
    }
   ],
   "source": [
    "y[48:55]"
   ]
  },
  {
   "cell_type": "code",
   "execution_count": null,
   "metadata": {},
   "outputs": [],
   "source": []
  },
  {
   "cell_type": "code",
   "execution_count": 74,
   "metadata": {},
   "outputs": [],
   "source": [
    "archive_det_list = !ls -1 /home/dsc/Documents/TFM/Data/OMIE/DET/det_202009/"
   ]
  },
  {
   "cell_type": "code",
   "execution_count": 75,
   "metadata": {},
   "outputs": [
    {
     "data": {
      "text/plain": [
       "['DET_20200901.1',\n",
       " 'DET_20200902.1',\n",
       " 'DET_20200903.1',\n",
       " 'DET_20200904.1',\n",
       " 'DET_20200905.1',\n",
       " 'DET_20200906.1',\n",
       " 'DET_20200907.1',\n",
       " 'DET_20200908.1',\n",
       " 'DET_20200909.1',\n",
       " 'DET_20200910.1',\n",
       " 'DET_20200911.1',\n",
       " 'DET_20200912.1',\n",
       " 'DET_20200913.1',\n",
       " 'DET_20200914.1',\n",
       " 'DET_20200915.1',\n",
       " 'DET_20200916.1',\n",
       " 'DET_20200917.1',\n",
       " 'DET_20200918.1',\n",
       " 'DET_20200919.1',\n",
       " 'DET_20200920.1',\n",
       " 'DET_20200921.1',\n",
       " 'DET_20200922.1',\n",
       " 'DET_20200923.1',\n",
       " 'DET_20200924.1',\n",
       " 'DET_20200925.1',\n",
       " 'DET_20200926.1',\n",
       " 'DET_20200927.1',\n",
       " 'DET_20200928.1',\n",
       " 'DET_20200929.1',\n",
       " 'DET_20200930.1']"
      ]
     },
     "execution_count": 75,
     "metadata": {},
     "output_type": "execute_result"
    }
   ],
   "source": [
    "archive_det_list"
   ]
  },
  {
   "cell_type": "code",
   "execution_count": 76,
   "metadata": {},
   "outputs": [],
   "source": [
    "#Prueba crear una lista única con strings y ',' y solo la info que me interesa:\n",
    "#[Código de oferta, Num. versión, Periodo, Bloque, Precio, Energía]\n",
    "#[[0:7],[7:10],[10:12],[12:14],[31:48],[48:55]]\n",
    "#Se unen con \"^\" para evitar problemas con el \"split\" y las \",\" en los nombres\n",
    "\n",
    "det_total_0901 = []\n",
    "\n",
    "for day in range(len(det_0901)):\n",
    "    for count in range(len(det_0901[day])):\n",
    "        det_total_0901.append((det_0901[day][count][0:7] +'^'+ \n",
    "                            det_0901[day][count][7:10] +'^'+ \n",
    "                            det_0901[day][count][10:12] +'^'+ \n",
    "                            det_0901[day][count][12:14] +'^'+ \n",
    "                            det_0901[day][count][31:48] +'^'+ \n",
    "                            det_0901[day][count][48:55] +'^'+ \n",
    "                            archive_det_list[day][4:8] + '^' + \n",
    "                            archive_det_list[day][8:10] + '^' + \n",
    "                            archive_det_list[day][10:12]).split('^'))\n"
   ]
  },
  {
   "cell_type": "code",
   "execution_count": null,
   "metadata": {},
   "outputs": [],
   "source": []
  },
  {
   "cell_type": "code",
   "execution_count": 77,
   "metadata": {},
   "outputs": [
    {
     "data": {
      "text/plain": [
       "50676"
      ]
     },
     "execution_count": 77,
     "metadata": {},
     "output_type": "execute_result"
    }
   ],
   "source": [
    "#Lista con todos la info.\n",
    "\n",
    "len(det_total_0901)"
   ]
  },
  {
   "cell_type": "code",
   "execution_count": 78,
   "metadata": {},
   "outputs": [
    {
     "data": {
      "text/plain": [
       "['1696149',\n",
       " '  6',\n",
       " '22',\n",
       " ' 1',\n",
       " '            0.010',\n",
       " '    0.1',\n",
       " '2020',\n",
       " '09',\n",
       " '01']"
      ]
     },
     "execution_count": 78,
     "metadata": {},
     "output_type": "execute_result"
    }
   ],
   "source": [
    "det_total_0901[0]"
   ]
  },
  {
   "cell_type": "code",
   "execution_count": 79,
   "metadata": {},
   "outputs": [
    {
     "data": {
      "text/plain": [
       "list"
      ]
     },
     "execution_count": 79,
     "metadata": {},
     "output_type": "execute_result"
    }
   ],
   "source": [
    "type(det_total_0901)"
   ]
  },
  {
   "cell_type": "code",
   "execution_count": 80,
   "metadata": {},
   "outputs": [
    {
     "data": {
      "text/plain": [
       "9"
      ]
     },
     "execution_count": 80,
     "metadata": {},
     "output_type": "execute_result"
    }
   ],
   "source": [
    "len(det_total_0901[29390])"
   ]
  },
  {
   "cell_type": "code",
   "execution_count": 81,
   "metadata": {},
   "outputs": [],
   "source": [
    "#columns=['Bid_Code', 'Num_Version', 'Bid_Unit', 'Unit_Description', 'Sell/Buy', 'Pot_max', 'Year','Month','Day']\n",
    "df_det_0901 = pd.DataFrame(det_total_0901,\n",
    "                        columns=['Bid_Code', \n",
    "                                 'Num_Version', \n",
    "                                 'Period', \n",
    "                                 'Block', \n",
    "                                 'Price', \n",
    "                                 'Energy', \n",
    "                                 'Year',\n",
    "                                 'Month',\n",
    "                                 'Day'])"
   ]
  },
  {
   "cell_type": "code",
   "execution_count": 82,
   "metadata": {
    "scrolled": true
   },
   "outputs": [
    {
     "data": {
      "text/html": [
       "<div>\n",
       "<style scoped>\n",
       "    .dataframe tbody tr th:only-of-type {\n",
       "        vertical-align: middle;\n",
       "    }\n",
       "\n",
       "    .dataframe tbody tr th {\n",
       "        vertical-align: top;\n",
       "    }\n",
       "\n",
       "    .dataframe thead th {\n",
       "        text-align: right;\n",
       "    }\n",
       "</style>\n",
       "<table border=\"1\" class=\"dataframe\">\n",
       "  <thead>\n",
       "    <tr style=\"text-align: right;\">\n",
       "      <th></th>\n",
       "      <th>Bid_Code</th>\n",
       "      <th>Num_Version</th>\n",
       "      <th>Period</th>\n",
       "      <th>Block</th>\n",
       "      <th>Price</th>\n",
       "      <th>Energy</th>\n",
       "      <th>Year</th>\n",
       "      <th>Month</th>\n",
       "      <th>Day</th>\n",
       "    </tr>\n",
       "  </thead>\n",
       "  <tbody>\n",
       "    <tr>\n",
       "      <th>0</th>\n",
       "      <td>1696149</td>\n",
       "      <td>6</td>\n",
       "      <td>22</td>\n",
       "      <td>1</td>\n",
       "      <td>0.010</td>\n",
       "      <td>0.1</td>\n",
       "      <td>2020</td>\n",
       "      <td>09</td>\n",
       "      <td>01</td>\n",
       "    </tr>\n",
       "    <tr>\n",
       "      <th>1</th>\n",
       "      <td>1717319</td>\n",
       "      <td>3</td>\n",
       "      <td>1</td>\n",
       "      <td>1</td>\n",
       "      <td>0.000</td>\n",
       "      <td>1.0</td>\n",
       "      <td>2020</td>\n",
       "      <td>09</td>\n",
       "      <td>01</td>\n",
       "    </tr>\n",
       "    <tr>\n",
       "      <th>2</th>\n",
       "      <td>1717319</td>\n",
       "      <td>3</td>\n",
       "      <td>2</td>\n",
       "      <td>1</td>\n",
       "      <td>0.000</td>\n",
       "      <td>1.0</td>\n",
       "      <td>2020</td>\n",
       "      <td>09</td>\n",
       "      <td>01</td>\n",
       "    </tr>\n",
       "    <tr>\n",
       "      <th>3</th>\n",
       "      <td>1717319</td>\n",
       "      <td>3</td>\n",
       "      <td>3</td>\n",
       "      <td>1</td>\n",
       "      <td>0.000</td>\n",
       "      <td>1.0</td>\n",
       "      <td>2020</td>\n",
       "      <td>09</td>\n",
       "      <td>01</td>\n",
       "    </tr>\n",
       "    <tr>\n",
       "      <th>4</th>\n",
       "      <td>1717319</td>\n",
       "      <td>3</td>\n",
       "      <td>4</td>\n",
       "      <td>1</td>\n",
       "      <td>0.000</td>\n",
       "      <td>1.0</td>\n",
       "      <td>2020</td>\n",
       "      <td>09</td>\n",
       "      <td>01</td>\n",
       "    </tr>\n",
       "  </tbody>\n",
       "</table>\n",
       "</div>"
      ],
      "text/plain": [
       "  Bid_Code Num_Version Period Block              Price   Energy  Year Month  \\\n",
       "0  1696149           6     22     1              0.010      0.1  2020    09   \n",
       "1  1717319           3      1     1              0.000      1.0  2020    09   \n",
       "2  1717319           3      2     1              0.000      1.0  2020    09   \n",
       "3  1717319           3      3     1              0.000      1.0  2020    09   \n",
       "4  1717319           3      4     1              0.000      1.0  2020    09   \n",
       "\n",
       "  Day  \n",
       "0  01  \n",
       "1  01  \n",
       "2  01  \n",
       "3  01  \n",
       "4  01  "
      ]
     },
     "execution_count": 82,
     "metadata": {},
     "output_type": "execute_result"
    }
   ],
   "source": [
    "df_det_0901.head()"
   ]
  },
  {
   "cell_type": "code",
   "execution_count": 83,
   "metadata": {},
   "outputs": [],
   "source": [
    "df_det_0901.to_csv('/home/dsc/Documents/TFM/Data/OMIE/DET_20200901.csv')"
   ]
  },
  {
   "cell_type": "code",
   "execution_count": 84,
   "metadata": {},
   "outputs": [
    {
     "data": {
      "text/plain": [
       "pandas.core.frame.DataFrame"
      ]
     },
     "execution_count": 84,
     "metadata": {},
     "output_type": "execute_result"
    }
   ],
   "source": [
    "type(df_det_0901)"
   ]
  },
  {
   "cell_type": "code",
   "execution_count": 85,
   "metadata": {},
   "outputs": [
    {
     "data": {
      "text/plain": [
       "Bid_Code       object\n",
       "Num_Version    object\n",
       "Period         object\n",
       "Block          object\n",
       "Price          object\n",
       "Energy         object\n",
       "Year           object\n",
       "Month          object\n",
       "Day            object\n",
       "dtype: object"
      ]
     },
     "execution_count": 85,
     "metadata": {},
     "output_type": "execute_result"
    }
   ],
   "source": [
    "df_det_0901.dtypes"
   ]
  },
  {
   "cell_type": "code",
   "execution_count": 86,
   "metadata": {},
   "outputs": [
    {
     "data": {
      "text/html": [
       "<div>\n",
       "<style scoped>\n",
       "    .dataframe tbody tr th:only-of-type {\n",
       "        vertical-align: middle;\n",
       "    }\n",
       "\n",
       "    .dataframe tbody tr th {\n",
       "        vertical-align: top;\n",
       "    }\n",
       "\n",
       "    .dataframe thead th {\n",
       "        text-align: right;\n",
       "    }\n",
       "</style>\n",
       "<table border=\"1\" class=\"dataframe\">\n",
       "  <thead>\n",
       "    <tr style=\"text-align: right;\">\n",
       "      <th></th>\n",
       "      <th>Bid_Code</th>\n",
       "      <th>Num_Version</th>\n",
       "      <th>Period</th>\n",
       "      <th>Block</th>\n",
       "      <th>Price</th>\n",
       "      <th>Energy</th>\n",
       "      <th>Year</th>\n",
       "      <th>Month</th>\n",
       "      <th>Day</th>\n",
       "    </tr>\n",
       "  </thead>\n",
       "  <tbody>\n",
       "    <tr>\n",
       "      <th>0</th>\n",
       "      <td>1696149</td>\n",
       "      <td>6</td>\n",
       "      <td>22</td>\n",
       "      <td>1</td>\n",
       "      <td>0.010</td>\n",
       "      <td>0.1</td>\n",
       "      <td>2020</td>\n",
       "      <td>09</td>\n",
       "      <td>01</td>\n",
       "    </tr>\n",
       "    <tr>\n",
       "      <th>1</th>\n",
       "      <td>1717319</td>\n",
       "      <td>3</td>\n",
       "      <td>1</td>\n",
       "      <td>1</td>\n",
       "      <td>0.000</td>\n",
       "      <td>1.0</td>\n",
       "      <td>2020</td>\n",
       "      <td>09</td>\n",
       "      <td>01</td>\n",
       "    </tr>\n",
       "    <tr>\n",
       "      <th>2</th>\n",
       "      <td>1717319</td>\n",
       "      <td>3</td>\n",
       "      <td>2</td>\n",
       "      <td>1</td>\n",
       "      <td>0.000</td>\n",
       "      <td>1.0</td>\n",
       "      <td>2020</td>\n",
       "      <td>09</td>\n",
       "      <td>01</td>\n",
       "    </tr>\n",
       "    <tr>\n",
       "      <th>3</th>\n",
       "      <td>1717319</td>\n",
       "      <td>3</td>\n",
       "      <td>3</td>\n",
       "      <td>1</td>\n",
       "      <td>0.000</td>\n",
       "      <td>1.0</td>\n",
       "      <td>2020</td>\n",
       "      <td>09</td>\n",
       "      <td>01</td>\n",
       "    </tr>\n",
       "    <tr>\n",
       "      <th>4</th>\n",
       "      <td>1717319</td>\n",
       "      <td>3</td>\n",
       "      <td>4</td>\n",
       "      <td>1</td>\n",
       "      <td>0.000</td>\n",
       "      <td>1.0</td>\n",
       "      <td>2020</td>\n",
       "      <td>09</td>\n",
       "      <td>01</td>\n",
       "    </tr>\n",
       "    <tr>\n",
       "      <th>5</th>\n",
       "      <td>1717319</td>\n",
       "      <td>3</td>\n",
       "      <td>5</td>\n",
       "      <td>1</td>\n",
       "      <td>0.000</td>\n",
       "      <td>1.0</td>\n",
       "      <td>2020</td>\n",
       "      <td>09</td>\n",
       "      <td>01</td>\n",
       "    </tr>\n",
       "    <tr>\n",
       "      <th>6</th>\n",
       "      <td>1717319</td>\n",
       "      <td>3</td>\n",
       "      <td>6</td>\n",
       "      <td>1</td>\n",
       "      <td>0.000</td>\n",
       "      <td>1.0</td>\n",
       "      <td>2020</td>\n",
       "      <td>09</td>\n",
       "      <td>01</td>\n",
       "    </tr>\n",
       "    <tr>\n",
       "      <th>7</th>\n",
       "      <td>1717319</td>\n",
       "      <td>3</td>\n",
       "      <td>7</td>\n",
       "      <td>1</td>\n",
       "      <td>0.000</td>\n",
       "      <td>1.0</td>\n",
       "      <td>2020</td>\n",
       "      <td>09</td>\n",
       "      <td>01</td>\n",
       "    </tr>\n",
       "    <tr>\n",
       "      <th>8</th>\n",
       "      <td>1717319</td>\n",
       "      <td>3</td>\n",
       "      <td>8</td>\n",
       "      <td>1</td>\n",
       "      <td>0.000</td>\n",
       "      <td>1.0</td>\n",
       "      <td>2020</td>\n",
       "      <td>09</td>\n",
       "      <td>01</td>\n",
       "    </tr>\n",
       "    <tr>\n",
       "      <th>9</th>\n",
       "      <td>1717319</td>\n",
       "      <td>3</td>\n",
       "      <td>9</td>\n",
       "      <td>1</td>\n",
       "      <td>0.000</td>\n",
       "      <td>1.0</td>\n",
       "      <td>2020</td>\n",
       "      <td>09</td>\n",
       "      <td>01</td>\n",
       "    </tr>\n",
       "    <tr>\n",
       "      <th>10</th>\n",
       "      <td>1717319</td>\n",
       "      <td>3</td>\n",
       "      <td>10</td>\n",
       "      <td>1</td>\n",
       "      <td>0.000</td>\n",
       "      <td>1.0</td>\n",
       "      <td>2020</td>\n",
       "      <td>09</td>\n",
       "      <td>01</td>\n",
       "    </tr>\n",
       "    <tr>\n",
       "      <th>11</th>\n",
       "      <td>1717319</td>\n",
       "      <td>3</td>\n",
       "      <td>11</td>\n",
       "      <td>1</td>\n",
       "      <td>0.000</td>\n",
       "      <td>1.0</td>\n",
       "      <td>2020</td>\n",
       "      <td>09</td>\n",
       "      <td>01</td>\n",
       "    </tr>\n",
       "    <tr>\n",
       "      <th>12</th>\n",
       "      <td>1717319</td>\n",
       "      <td>3</td>\n",
       "      <td>12</td>\n",
       "      <td>1</td>\n",
       "      <td>0.000</td>\n",
       "      <td>1.0</td>\n",
       "      <td>2020</td>\n",
       "      <td>09</td>\n",
       "      <td>01</td>\n",
       "    </tr>\n",
       "    <tr>\n",
       "      <th>13</th>\n",
       "      <td>1717319</td>\n",
       "      <td>3</td>\n",
       "      <td>13</td>\n",
       "      <td>1</td>\n",
       "      <td>0.000</td>\n",
       "      <td>1.0</td>\n",
       "      <td>2020</td>\n",
       "      <td>09</td>\n",
       "      <td>01</td>\n",
       "    </tr>\n",
       "    <tr>\n",
       "      <th>14</th>\n",
       "      <td>1717319</td>\n",
       "      <td>3</td>\n",
       "      <td>14</td>\n",
       "      <td>1</td>\n",
       "      <td>0.000</td>\n",
       "      <td>1.0</td>\n",
       "      <td>2020</td>\n",
       "      <td>09</td>\n",
       "      <td>01</td>\n",
       "    </tr>\n",
       "    <tr>\n",
       "      <th>15</th>\n",
       "      <td>1717319</td>\n",
       "      <td>3</td>\n",
       "      <td>15</td>\n",
       "      <td>1</td>\n",
       "      <td>0.000</td>\n",
       "      <td>1.0</td>\n",
       "      <td>2020</td>\n",
       "      <td>09</td>\n",
       "      <td>01</td>\n",
       "    </tr>\n",
       "    <tr>\n",
       "      <th>16</th>\n",
       "      <td>1717319</td>\n",
       "      <td>3</td>\n",
       "      <td>16</td>\n",
       "      <td>1</td>\n",
       "      <td>0.000</td>\n",
       "      <td>1.0</td>\n",
       "      <td>2020</td>\n",
       "      <td>09</td>\n",
       "      <td>01</td>\n",
       "    </tr>\n",
       "    <tr>\n",
       "      <th>17</th>\n",
       "      <td>1717319</td>\n",
       "      <td>3</td>\n",
       "      <td>17</td>\n",
       "      <td>1</td>\n",
       "      <td>0.000</td>\n",
       "      <td>1.0</td>\n",
       "      <td>2020</td>\n",
       "      <td>09</td>\n",
       "      <td>01</td>\n",
       "    </tr>\n",
       "    <tr>\n",
       "      <th>18</th>\n",
       "      <td>1717319</td>\n",
       "      <td>3</td>\n",
       "      <td>18</td>\n",
       "      <td>1</td>\n",
       "      <td>0.000</td>\n",
       "      <td>1.0</td>\n",
       "      <td>2020</td>\n",
       "      <td>09</td>\n",
       "      <td>01</td>\n",
       "    </tr>\n",
       "    <tr>\n",
       "      <th>19</th>\n",
       "      <td>1717319</td>\n",
       "      <td>3</td>\n",
       "      <td>19</td>\n",
       "      <td>1</td>\n",
       "      <td>0.000</td>\n",
       "      <td>1.0</td>\n",
       "      <td>2020</td>\n",
       "      <td>09</td>\n",
       "      <td>01</td>\n",
       "    </tr>\n",
       "  </tbody>\n",
       "</table>\n",
       "</div>"
      ],
      "text/plain": [
       "   Bid_Code Num_Version Period Block              Price   Energy  Year Month  \\\n",
       "0   1696149           6     22     1              0.010      0.1  2020    09   \n",
       "1   1717319           3      1     1              0.000      1.0  2020    09   \n",
       "2   1717319           3      2     1              0.000      1.0  2020    09   \n",
       "3   1717319           3      3     1              0.000      1.0  2020    09   \n",
       "4   1717319           3      4     1              0.000      1.0  2020    09   \n",
       "5   1717319           3      5     1              0.000      1.0  2020    09   \n",
       "6   1717319           3      6     1              0.000      1.0  2020    09   \n",
       "7   1717319           3      7     1              0.000      1.0  2020    09   \n",
       "8   1717319           3      8     1              0.000      1.0  2020    09   \n",
       "9   1717319           3      9     1              0.000      1.0  2020    09   \n",
       "10  1717319           3     10     1              0.000      1.0  2020    09   \n",
       "11  1717319           3     11     1              0.000      1.0  2020    09   \n",
       "12  1717319           3     12     1              0.000      1.0  2020    09   \n",
       "13  1717319           3     13     1              0.000      1.0  2020    09   \n",
       "14  1717319           3     14     1              0.000      1.0  2020    09   \n",
       "15  1717319           3     15     1              0.000      1.0  2020    09   \n",
       "16  1717319           3     16     1              0.000      1.0  2020    09   \n",
       "17  1717319           3     17     1              0.000      1.0  2020    09   \n",
       "18  1717319           3     18     1              0.000      1.0  2020    09   \n",
       "19  1717319           3     19     1              0.000      1.0  2020    09   \n",
       "\n",
       "   Day  \n",
       "0   01  \n",
       "1   01  \n",
       "2   01  \n",
       "3   01  \n",
       "4   01  \n",
       "5   01  \n",
       "6   01  \n",
       "7   01  \n",
       "8   01  \n",
       "9   01  \n",
       "10  01  \n",
       "11  01  \n",
       "12  01  \n",
       "13  01  \n",
       "14  01  \n",
       "15  01  \n",
       "16  01  \n",
       "17  01  \n",
       "18  01  \n",
       "19  01  "
      ]
     },
     "execution_count": 86,
     "metadata": {},
     "output_type": "execute_result"
    }
   ],
   "source": [
    "df_det_0901.head(20)"
   ]
  },
  {
   "cell_type": "code",
   "execution_count": 87,
   "metadata": {},
   "outputs": [
    {
     "data": {
      "text/html": [
       "<div>\n",
       "<style scoped>\n",
       "    .dataframe tbody tr th:only-of-type {\n",
       "        vertical-align: middle;\n",
       "    }\n",
       "\n",
       "    .dataframe tbody tr th {\n",
       "        vertical-align: top;\n",
       "    }\n",
       "\n",
       "    .dataframe thead th {\n",
       "        text-align: right;\n",
       "    }\n",
       "</style>\n",
       "<table border=\"1\" class=\"dataframe\">\n",
       "  <thead>\n",
       "    <tr style=\"text-align: right;\">\n",
       "      <th></th>\n",
       "      <th>Bid_Code</th>\n",
       "      <th>Num_Version</th>\n",
       "      <th>Period</th>\n",
       "      <th>Block</th>\n",
       "      <th>Price</th>\n",
       "      <th>Energy</th>\n",
       "      <th>Year</th>\n",
       "      <th>Month</th>\n",
       "      <th>Day</th>\n",
       "    </tr>\n",
       "  </thead>\n",
       "  <tbody>\n",
       "    <tr>\n",
       "      <th>1</th>\n",
       "      <td>1717319</td>\n",
       "      <td>3</td>\n",
       "      <td>1</td>\n",
       "      <td>1</td>\n",
       "      <td>0.000</td>\n",
       "      <td>1.0</td>\n",
       "      <td>2020</td>\n",
       "      <td>09</td>\n",
       "      <td>01</td>\n",
       "    </tr>\n",
       "    <tr>\n",
       "      <th>2</th>\n",
       "      <td>1717319</td>\n",
       "      <td>3</td>\n",
       "      <td>2</td>\n",
       "      <td>1</td>\n",
       "      <td>0.000</td>\n",
       "      <td>1.0</td>\n",
       "      <td>2020</td>\n",
       "      <td>09</td>\n",
       "      <td>01</td>\n",
       "    </tr>\n",
       "    <tr>\n",
       "      <th>3</th>\n",
       "      <td>1717319</td>\n",
       "      <td>3</td>\n",
       "      <td>3</td>\n",
       "      <td>1</td>\n",
       "      <td>0.000</td>\n",
       "      <td>1.0</td>\n",
       "      <td>2020</td>\n",
       "      <td>09</td>\n",
       "      <td>01</td>\n",
       "    </tr>\n",
       "    <tr>\n",
       "      <th>4</th>\n",
       "      <td>1717319</td>\n",
       "      <td>3</td>\n",
       "      <td>4</td>\n",
       "      <td>1</td>\n",
       "      <td>0.000</td>\n",
       "      <td>1.0</td>\n",
       "      <td>2020</td>\n",
       "      <td>09</td>\n",
       "      <td>01</td>\n",
       "    </tr>\n",
       "    <tr>\n",
       "      <th>5</th>\n",
       "      <td>1717319</td>\n",
       "      <td>3</td>\n",
       "      <td>5</td>\n",
       "      <td>1</td>\n",
       "      <td>0.000</td>\n",
       "      <td>1.0</td>\n",
       "      <td>2020</td>\n",
       "      <td>09</td>\n",
       "      <td>01</td>\n",
       "    </tr>\n",
       "    <tr>\n",
       "      <th>6</th>\n",
       "      <td>1717319</td>\n",
       "      <td>3</td>\n",
       "      <td>6</td>\n",
       "      <td>1</td>\n",
       "      <td>0.000</td>\n",
       "      <td>1.0</td>\n",
       "      <td>2020</td>\n",
       "      <td>09</td>\n",
       "      <td>01</td>\n",
       "    </tr>\n",
       "    <tr>\n",
       "      <th>7</th>\n",
       "      <td>1717319</td>\n",
       "      <td>3</td>\n",
       "      <td>7</td>\n",
       "      <td>1</td>\n",
       "      <td>0.000</td>\n",
       "      <td>1.0</td>\n",
       "      <td>2020</td>\n",
       "      <td>09</td>\n",
       "      <td>01</td>\n",
       "    </tr>\n",
       "    <tr>\n",
       "      <th>8</th>\n",
       "      <td>1717319</td>\n",
       "      <td>3</td>\n",
       "      <td>8</td>\n",
       "      <td>1</td>\n",
       "      <td>0.000</td>\n",
       "      <td>1.0</td>\n",
       "      <td>2020</td>\n",
       "      <td>09</td>\n",
       "      <td>01</td>\n",
       "    </tr>\n",
       "    <tr>\n",
       "      <th>9</th>\n",
       "      <td>1717319</td>\n",
       "      <td>3</td>\n",
       "      <td>9</td>\n",
       "      <td>1</td>\n",
       "      <td>0.000</td>\n",
       "      <td>1.0</td>\n",
       "      <td>2020</td>\n",
       "      <td>09</td>\n",
       "      <td>01</td>\n",
       "    </tr>\n",
       "    <tr>\n",
       "      <th>10</th>\n",
       "      <td>1717319</td>\n",
       "      <td>3</td>\n",
       "      <td>10</td>\n",
       "      <td>1</td>\n",
       "      <td>0.000</td>\n",
       "      <td>1.0</td>\n",
       "      <td>2020</td>\n",
       "      <td>09</td>\n",
       "      <td>01</td>\n",
       "    </tr>\n",
       "    <tr>\n",
       "      <th>11</th>\n",
       "      <td>1717319</td>\n",
       "      <td>3</td>\n",
       "      <td>11</td>\n",
       "      <td>1</td>\n",
       "      <td>0.000</td>\n",
       "      <td>1.0</td>\n",
       "      <td>2020</td>\n",
       "      <td>09</td>\n",
       "      <td>01</td>\n",
       "    </tr>\n",
       "    <tr>\n",
       "      <th>12</th>\n",
       "      <td>1717319</td>\n",
       "      <td>3</td>\n",
       "      <td>12</td>\n",
       "      <td>1</td>\n",
       "      <td>0.000</td>\n",
       "      <td>1.0</td>\n",
       "      <td>2020</td>\n",
       "      <td>09</td>\n",
       "      <td>01</td>\n",
       "    </tr>\n",
       "    <tr>\n",
       "      <th>13</th>\n",
       "      <td>1717319</td>\n",
       "      <td>3</td>\n",
       "      <td>13</td>\n",
       "      <td>1</td>\n",
       "      <td>0.000</td>\n",
       "      <td>1.0</td>\n",
       "      <td>2020</td>\n",
       "      <td>09</td>\n",
       "      <td>01</td>\n",
       "    </tr>\n",
       "    <tr>\n",
       "      <th>14</th>\n",
       "      <td>1717319</td>\n",
       "      <td>3</td>\n",
       "      <td>14</td>\n",
       "      <td>1</td>\n",
       "      <td>0.000</td>\n",
       "      <td>1.0</td>\n",
       "      <td>2020</td>\n",
       "      <td>09</td>\n",
       "      <td>01</td>\n",
       "    </tr>\n",
       "    <tr>\n",
       "      <th>15</th>\n",
       "      <td>1717319</td>\n",
       "      <td>3</td>\n",
       "      <td>15</td>\n",
       "      <td>1</td>\n",
       "      <td>0.000</td>\n",
       "      <td>1.0</td>\n",
       "      <td>2020</td>\n",
       "      <td>09</td>\n",
       "      <td>01</td>\n",
       "    </tr>\n",
       "    <tr>\n",
       "      <th>16</th>\n",
       "      <td>1717319</td>\n",
       "      <td>3</td>\n",
       "      <td>16</td>\n",
       "      <td>1</td>\n",
       "      <td>0.000</td>\n",
       "      <td>1.0</td>\n",
       "      <td>2020</td>\n",
       "      <td>09</td>\n",
       "      <td>01</td>\n",
       "    </tr>\n",
       "    <tr>\n",
       "      <th>17</th>\n",
       "      <td>1717319</td>\n",
       "      <td>3</td>\n",
       "      <td>17</td>\n",
       "      <td>1</td>\n",
       "      <td>0.000</td>\n",
       "      <td>1.0</td>\n",
       "      <td>2020</td>\n",
       "      <td>09</td>\n",
       "      <td>01</td>\n",
       "    </tr>\n",
       "    <tr>\n",
       "      <th>18</th>\n",
       "      <td>1717319</td>\n",
       "      <td>3</td>\n",
       "      <td>18</td>\n",
       "      <td>1</td>\n",
       "      <td>0.000</td>\n",
       "      <td>1.0</td>\n",
       "      <td>2020</td>\n",
       "      <td>09</td>\n",
       "      <td>01</td>\n",
       "    </tr>\n",
       "    <tr>\n",
       "      <th>19</th>\n",
       "      <td>1717319</td>\n",
       "      <td>3</td>\n",
       "      <td>19</td>\n",
       "      <td>1</td>\n",
       "      <td>0.000</td>\n",
       "      <td>1.0</td>\n",
       "      <td>2020</td>\n",
       "      <td>09</td>\n",
       "      <td>01</td>\n",
       "    </tr>\n",
       "    <tr>\n",
       "      <th>20</th>\n",
       "      <td>1717319</td>\n",
       "      <td>3</td>\n",
       "      <td>20</td>\n",
       "      <td>1</td>\n",
       "      <td>0.000</td>\n",
       "      <td>1.0</td>\n",
       "      <td>2020</td>\n",
       "      <td>09</td>\n",
       "      <td>01</td>\n",
       "    </tr>\n",
       "    <tr>\n",
       "      <th>21</th>\n",
       "      <td>1717319</td>\n",
       "      <td>3</td>\n",
       "      <td>21</td>\n",
       "      <td>1</td>\n",
       "      <td>0.000</td>\n",
       "      <td>1.0</td>\n",
       "      <td>2020</td>\n",
       "      <td>09</td>\n",
       "      <td>01</td>\n",
       "    </tr>\n",
       "    <tr>\n",
       "      <th>22</th>\n",
       "      <td>1717319</td>\n",
       "      <td>3</td>\n",
       "      <td>22</td>\n",
       "      <td>1</td>\n",
       "      <td>0.000</td>\n",
       "      <td>1.0</td>\n",
       "      <td>2020</td>\n",
       "      <td>09</td>\n",
       "      <td>01</td>\n",
       "    </tr>\n",
       "    <tr>\n",
       "      <th>23</th>\n",
       "      <td>1717319</td>\n",
       "      <td>3</td>\n",
       "      <td>23</td>\n",
       "      <td>1</td>\n",
       "      <td>0.000</td>\n",
       "      <td>1.0</td>\n",
       "      <td>2020</td>\n",
       "      <td>09</td>\n",
       "      <td>01</td>\n",
       "    </tr>\n",
       "    <tr>\n",
       "      <th>24</th>\n",
       "      <td>1717319</td>\n",
       "      <td>3</td>\n",
       "      <td>24</td>\n",
       "      <td>1</td>\n",
       "      <td>0.000</td>\n",
       "      <td>1.0</td>\n",
       "      <td>2020</td>\n",
       "      <td>09</td>\n",
       "      <td>01</td>\n",
       "    </tr>\n",
       "  </tbody>\n",
       "</table>\n",
       "</div>"
      ],
      "text/plain": [
       "   Bid_Code Num_Version Period Block              Price   Energy  Year Month  \\\n",
       "1   1717319           3      1     1              0.000      1.0  2020    09   \n",
       "2   1717319           3      2     1              0.000      1.0  2020    09   \n",
       "3   1717319           3      3     1              0.000      1.0  2020    09   \n",
       "4   1717319           3      4     1              0.000      1.0  2020    09   \n",
       "5   1717319           3      5     1              0.000      1.0  2020    09   \n",
       "6   1717319           3      6     1              0.000      1.0  2020    09   \n",
       "7   1717319           3      7     1              0.000      1.0  2020    09   \n",
       "8   1717319           3      8     1              0.000      1.0  2020    09   \n",
       "9   1717319           3      9     1              0.000      1.0  2020    09   \n",
       "10  1717319           3     10     1              0.000      1.0  2020    09   \n",
       "11  1717319           3     11     1              0.000      1.0  2020    09   \n",
       "12  1717319           3     12     1              0.000      1.0  2020    09   \n",
       "13  1717319           3     13     1              0.000      1.0  2020    09   \n",
       "14  1717319           3     14     1              0.000      1.0  2020    09   \n",
       "15  1717319           3     15     1              0.000      1.0  2020    09   \n",
       "16  1717319           3     16     1              0.000      1.0  2020    09   \n",
       "17  1717319           3     17     1              0.000      1.0  2020    09   \n",
       "18  1717319           3     18     1              0.000      1.0  2020    09   \n",
       "19  1717319           3     19     1              0.000      1.0  2020    09   \n",
       "20  1717319           3     20     1              0.000      1.0  2020    09   \n",
       "21  1717319           3     21     1              0.000      1.0  2020    09   \n",
       "22  1717319           3     22     1              0.000      1.0  2020    09   \n",
       "23  1717319           3     23     1              0.000      1.0  2020    09   \n",
       "24  1717319           3     24     1              0.000      1.0  2020    09   \n",
       "\n",
       "   Day  \n",
       "1   01  \n",
       "2   01  \n",
       "3   01  \n",
       "4   01  \n",
       "5   01  \n",
       "6   01  \n",
       "7   01  \n",
       "8   01  \n",
       "9   01  \n",
       "10  01  \n",
       "11  01  \n",
       "12  01  \n",
       "13  01  \n",
       "14  01  \n",
       "15  01  \n",
       "16  01  \n",
       "17  01  \n",
       "18  01  \n",
       "19  01  \n",
       "20  01  \n",
       "21  01  \n",
       "22  01  \n",
       "23  01  \n",
       "24  01  "
      ]
     },
     "execution_count": 87,
     "metadata": {},
     "output_type": "execute_result"
    }
   ],
   "source": [
    "df_det_0901.loc[df_det_0901['Bid_Code'] == '1717319']"
   ]
  },
  {
   "cell_type": "code",
   "execution_count": 88,
   "metadata": {
    "scrolled": true
   },
   "outputs": [
    {
     "data": {
      "text/html": [
       "<div>\n",
       "<style scoped>\n",
       "    .dataframe tbody tr th:only-of-type {\n",
       "        vertical-align: middle;\n",
       "    }\n",
       "\n",
       "    .dataframe tbody tr th {\n",
       "        vertical-align: top;\n",
       "    }\n",
       "\n",
       "    .dataframe thead th {\n",
       "        text-align: right;\n",
       "    }\n",
       "</style>\n",
       "<table border=\"1\" class=\"dataframe\">\n",
       "  <thead>\n",
       "    <tr style=\"text-align: right;\">\n",
       "      <th></th>\n",
       "      <th>Bid_Code</th>\n",
       "      <th>Num_Version</th>\n",
       "      <th>Bid_Unit</th>\n",
       "      <th>Unit_Description</th>\n",
       "      <th>Sell_Buy</th>\n",
       "      <th>Pot_max</th>\n",
       "      <th>Year</th>\n",
       "      <th>Month</th>\n",
       "      <th>Day</th>\n",
       "      <th>Period</th>\n",
       "      <th>Block</th>\n",
       "      <th>Price</th>\n",
       "      <th>Energy</th>\n",
       "    </tr>\n",
       "  </thead>\n",
       "  <tbody>\n",
       "    <tr>\n",
       "      <th>0</th>\n",
       "      <td>1696149</td>\n",
       "      <td>6</td>\n",
       "      <td>EDPC2</td>\n",
       "      <td>EDP COMERCIAL COMPRA (PORT)</td>\n",
       "      <td>CNO</td>\n",
       "      <td>6000.0</td>\n",
       "      <td>2020</td>\n",
       "      <td>09</td>\n",
       "      <td>01</td>\n",
       "      <td>22</td>\n",
       "      <td>1</td>\n",
       "      <td>0.010</td>\n",
       "      <td>0.1</td>\n",
       "    </tr>\n",
       "    <tr>\n",
       "      <th>1</th>\n",
       "      <td>1717319</td>\n",
       "      <td>3</td>\n",
       "      <td>EONUC01</td>\n",
       "      <td>EONUR CONSUMO CLIENTES TUR</td>\n",
       "      <td>CNO</td>\n",
       "      <td>400.0</td>\n",
       "      <td>2020</td>\n",
       "      <td>09</td>\n",
       "      <td>01</td>\n",
       "      <td>1</td>\n",
       "      <td>1</td>\n",
       "      <td>0.000</td>\n",
       "      <td>1.0</td>\n",
       "    </tr>\n",
       "    <tr>\n",
       "      <th>2</th>\n",
       "      <td>1717319</td>\n",
       "      <td>3</td>\n",
       "      <td>EONUC01</td>\n",
       "      <td>EONUR CONSUMO CLIENTES TUR</td>\n",
       "      <td>CNO</td>\n",
       "      <td>400.0</td>\n",
       "      <td>2020</td>\n",
       "      <td>09</td>\n",
       "      <td>01</td>\n",
       "      <td>2</td>\n",
       "      <td>1</td>\n",
       "      <td>0.000</td>\n",
       "      <td>1.0</td>\n",
       "    </tr>\n",
       "    <tr>\n",
       "      <th>3</th>\n",
       "      <td>1717319</td>\n",
       "      <td>3</td>\n",
       "      <td>EONUC01</td>\n",
       "      <td>EONUR CONSUMO CLIENTES TUR</td>\n",
       "      <td>CNO</td>\n",
       "      <td>400.0</td>\n",
       "      <td>2020</td>\n",
       "      <td>09</td>\n",
       "      <td>01</td>\n",
       "      <td>3</td>\n",
       "      <td>1</td>\n",
       "      <td>0.000</td>\n",
       "      <td>1.0</td>\n",
       "    </tr>\n",
       "    <tr>\n",
       "      <th>4</th>\n",
       "      <td>1717319</td>\n",
       "      <td>3</td>\n",
       "      <td>EONUC01</td>\n",
       "      <td>EONUR CONSUMO CLIENTES TUR</td>\n",
       "      <td>CNO</td>\n",
       "      <td>400.0</td>\n",
       "      <td>2020</td>\n",
       "      <td>09</td>\n",
       "      <td>01</td>\n",
       "      <td>4</td>\n",
       "      <td>1</td>\n",
       "      <td>0.000</td>\n",
       "      <td>1.0</td>\n",
       "    </tr>\n",
       "    <tr>\n",
       "      <th>...</th>\n",
       "      <td>...</td>\n",
       "      <td>...</td>\n",
       "      <td>...</td>\n",
       "      <td>...</td>\n",
       "      <td>...</td>\n",
       "      <td>...</td>\n",
       "      <td>...</td>\n",
       "      <td>...</td>\n",
       "      <td>...</td>\n",
       "      <td>...</td>\n",
       "      <td>...</td>\n",
       "      <td>...</td>\n",
       "      <td>...</td>\n",
       "    </tr>\n",
       "    <tr>\n",
       "      <th>50671</th>\n",
       "      <td>6469400</td>\n",
       "      <td>4</td>\n",
       "      <td>NEXUC01</td>\n",
       "      <td>NEXUS ENERG�A COMPRA (ESP)</td>\n",
       "      <td>CNO</td>\n",
       "      <td>900.0</td>\n",
       "      <td>2020</td>\n",
       "      <td>09</td>\n",
       "      <td>01</td>\n",
       "      <td>24</td>\n",
       "      <td>21</td>\n",
       "      <td>25.720</td>\n",
       "      <td>0.1</td>\n",
       "    </tr>\n",
       "    <tr>\n",
       "      <th>50672</th>\n",
       "      <td>6469400</td>\n",
       "      <td>4</td>\n",
       "      <td>NEXUC01</td>\n",
       "      <td>NEXUS ENERG�A COMPRA (ESP)</td>\n",
       "      <td>CNO</td>\n",
       "      <td>900.0</td>\n",
       "      <td>2020</td>\n",
       "      <td>09</td>\n",
       "      <td>01</td>\n",
       "      <td>24</td>\n",
       "      <td>22</td>\n",
       "      <td>25.220</td>\n",
       "      <td>0.1</td>\n",
       "    </tr>\n",
       "    <tr>\n",
       "      <th>50673</th>\n",
       "      <td>6469400</td>\n",
       "      <td>4</td>\n",
       "      <td>NEXUC01</td>\n",
       "      <td>NEXUS ENERG�A COMPRA (ESP)</td>\n",
       "      <td>CNO</td>\n",
       "      <td>900.0</td>\n",
       "      <td>2020</td>\n",
       "      <td>09</td>\n",
       "      <td>01</td>\n",
       "      <td>24</td>\n",
       "      <td>23</td>\n",
       "      <td>24.720</td>\n",
       "      <td>0.1</td>\n",
       "    </tr>\n",
       "    <tr>\n",
       "      <th>50674</th>\n",
       "      <td>6469400</td>\n",
       "      <td>4</td>\n",
       "      <td>NEXUC01</td>\n",
       "      <td>NEXUS ENERG�A COMPRA (ESP)</td>\n",
       "      <td>CNO</td>\n",
       "      <td>900.0</td>\n",
       "      <td>2020</td>\n",
       "      <td>09</td>\n",
       "      <td>01</td>\n",
       "      <td>24</td>\n",
       "      <td>24</td>\n",
       "      <td>24.220</td>\n",
       "      <td>0.1</td>\n",
       "    </tr>\n",
       "    <tr>\n",
       "      <th>50675</th>\n",
       "      <td>6469400</td>\n",
       "      <td>4</td>\n",
       "      <td>NEXUC01</td>\n",
       "      <td>NEXUS ENERG�A COMPRA (ESP)</td>\n",
       "      <td>CNO</td>\n",
       "      <td>900.0</td>\n",
       "      <td>2020</td>\n",
       "      <td>09</td>\n",
       "      <td>01</td>\n",
       "      <td>24</td>\n",
       "      <td>25</td>\n",
       "      <td>0.010</td>\n",
       "      <td>5.0</td>\n",
       "    </tr>\n",
       "  </tbody>\n",
       "</table>\n",
       "<p>50676 rows × 13 columns</p>\n",
       "</div>"
      ],
      "text/plain": [
       "      Bid_Code Num_Version Bid_Unit                Unit_Description Sell_Buy  \\\n",
       "0      1696149           6  EDPC2    EDP COMERCIAL COMPRA (PORT)         CNO   \n",
       "1      1717319           3  EONUC01  EONUR CONSUMO CLIENTES TUR          CNO   \n",
       "2      1717319           3  EONUC01  EONUR CONSUMO CLIENTES TUR          CNO   \n",
       "3      1717319           3  EONUC01  EONUR CONSUMO CLIENTES TUR          CNO   \n",
       "4      1717319           3  EONUC01  EONUR CONSUMO CLIENTES TUR          CNO   \n",
       "...        ...         ...      ...                             ...      ...   \n",
       "50671  6469400           4  NEXUC01  NEXUS ENERG�A COMPRA (ESP)          CNO   \n",
       "50672  6469400           4  NEXUC01  NEXUS ENERG�A COMPRA (ESP)          CNO   \n",
       "50673  6469400           4  NEXUC01  NEXUS ENERG�A COMPRA (ESP)          CNO   \n",
       "50674  6469400           4  NEXUC01  NEXUS ENERG�A COMPRA (ESP)          CNO   \n",
       "50675  6469400           4  NEXUC01  NEXUS ENERG�A COMPRA (ESP)          CNO   \n",
       "\n",
       "       Pot_max  Year Month Day Period Block              Price   Energy  \n",
       "0       6000.0  2020    09  01     22     1              0.010      0.1  \n",
       "1        400.0  2020    09  01      1     1              0.000      1.0  \n",
       "2        400.0  2020    09  01      2     1              0.000      1.0  \n",
       "3        400.0  2020    09  01      3     1              0.000      1.0  \n",
       "4        400.0  2020    09  01      4     1              0.000      1.0  \n",
       "...        ...   ...   ...  ..    ...   ...                ...      ...  \n",
       "50671    900.0  2020    09  01     24    21             25.720      0.1  \n",
       "50672    900.0  2020    09  01     24    22             25.220      0.1  \n",
       "50673    900.0  2020    09  01     24    23             24.720      0.1  \n",
       "50674    900.0  2020    09  01     24    24             24.220      0.1  \n",
       "50675    900.0  2020    09  01     24    25              0.010      5.0  \n",
       "\n",
       "[50676 rows x 13 columns]"
      ]
     },
     "execution_count": 88,
     "metadata": {},
     "output_type": "execute_result"
    }
   ],
   "source": [
    "#En este df se encuentran lincadas todas las ofertas de un día con el precio y la enería ofertada\n",
    "\n",
    "df_cab_09.merge(df_det_0901,how = 'inner')"
   ]
  },
  {
   "cell_type": "code",
   "execution_count": 89,
   "metadata": {},
   "outputs": [
    {
     "data": {
      "text/html": [
       "<div>\n",
       "<style scoped>\n",
       "    .dataframe tbody tr th:only-of-type {\n",
       "        vertical-align: middle;\n",
       "    }\n",
       "\n",
       "    .dataframe tbody tr th {\n",
       "        vertical-align: top;\n",
       "    }\n",
       "\n",
       "    .dataframe thead th {\n",
       "        text-align: right;\n",
       "    }\n",
       "</style>\n",
       "<table border=\"1\" class=\"dataframe\">\n",
       "  <thead>\n",
       "    <tr style=\"text-align: right;\">\n",
       "      <th></th>\n",
       "      <th>Bid_Code</th>\n",
       "      <th>Num_Version</th>\n",
       "      <th>Bid_Unit</th>\n",
       "      <th>Unit_Description</th>\n",
       "      <th>Sell_Buy</th>\n",
       "      <th>Pot_max</th>\n",
       "      <th>Year</th>\n",
       "      <th>Month</th>\n",
       "      <th>Day</th>\n",
       "      <th>Period</th>\n",
       "      <th>Block</th>\n",
       "      <th>Price</th>\n",
       "      <th>Energy</th>\n",
       "    </tr>\n",
       "  </thead>\n",
       "  <tbody>\n",
       "    <tr>\n",
       "      <th>1</th>\n",
       "      <td>1717319</td>\n",
       "      <td>3</td>\n",
       "      <td>EONUC01</td>\n",
       "      <td>EONUR CONSUMO CLIENTES TUR</td>\n",
       "      <td>CNO</td>\n",
       "      <td>400.0</td>\n",
       "      <td>2020</td>\n",
       "      <td>09</td>\n",
       "      <td>01</td>\n",
       "      <td>1</td>\n",
       "      <td>1</td>\n",
       "      <td>0.000</td>\n",
       "      <td>1.0</td>\n",
       "    </tr>\n",
       "    <tr>\n",
       "      <th>2</th>\n",
       "      <td>1717319</td>\n",
       "      <td>3</td>\n",
       "      <td>EONUC01</td>\n",
       "      <td>EONUR CONSUMO CLIENTES TUR</td>\n",
       "      <td>CNO</td>\n",
       "      <td>400.0</td>\n",
       "      <td>2020</td>\n",
       "      <td>09</td>\n",
       "      <td>01</td>\n",
       "      <td>2</td>\n",
       "      <td>1</td>\n",
       "      <td>0.000</td>\n",
       "      <td>1.0</td>\n",
       "    </tr>\n",
       "    <tr>\n",
       "      <th>3</th>\n",
       "      <td>1717319</td>\n",
       "      <td>3</td>\n",
       "      <td>EONUC01</td>\n",
       "      <td>EONUR CONSUMO CLIENTES TUR</td>\n",
       "      <td>CNO</td>\n",
       "      <td>400.0</td>\n",
       "      <td>2020</td>\n",
       "      <td>09</td>\n",
       "      <td>01</td>\n",
       "      <td>3</td>\n",
       "      <td>1</td>\n",
       "      <td>0.000</td>\n",
       "      <td>1.0</td>\n",
       "    </tr>\n",
       "    <tr>\n",
       "      <th>4</th>\n",
       "      <td>1717319</td>\n",
       "      <td>3</td>\n",
       "      <td>EONUC01</td>\n",
       "      <td>EONUR CONSUMO CLIENTES TUR</td>\n",
       "      <td>CNO</td>\n",
       "      <td>400.0</td>\n",
       "      <td>2020</td>\n",
       "      <td>09</td>\n",
       "      <td>01</td>\n",
       "      <td>4</td>\n",
       "      <td>1</td>\n",
       "      <td>0.000</td>\n",
       "      <td>1.0</td>\n",
       "    </tr>\n",
       "    <tr>\n",
       "      <th>5</th>\n",
       "      <td>1717319</td>\n",
       "      <td>3</td>\n",
       "      <td>EONUC01</td>\n",
       "      <td>EONUR CONSUMO CLIENTES TUR</td>\n",
       "      <td>CNO</td>\n",
       "      <td>400.0</td>\n",
       "      <td>2020</td>\n",
       "      <td>09</td>\n",
       "      <td>01</td>\n",
       "      <td>5</td>\n",
       "      <td>1</td>\n",
       "      <td>0.000</td>\n",
       "      <td>1.0</td>\n",
       "    </tr>\n",
       "    <tr>\n",
       "      <th>6</th>\n",
       "      <td>1717319</td>\n",
       "      <td>3</td>\n",
       "      <td>EONUC01</td>\n",
       "      <td>EONUR CONSUMO CLIENTES TUR</td>\n",
       "      <td>CNO</td>\n",
       "      <td>400.0</td>\n",
       "      <td>2020</td>\n",
       "      <td>09</td>\n",
       "      <td>01</td>\n",
       "      <td>6</td>\n",
       "      <td>1</td>\n",
       "      <td>0.000</td>\n",
       "      <td>1.0</td>\n",
       "    </tr>\n",
       "    <tr>\n",
       "      <th>7</th>\n",
       "      <td>1717319</td>\n",
       "      <td>3</td>\n",
       "      <td>EONUC01</td>\n",
       "      <td>EONUR CONSUMO CLIENTES TUR</td>\n",
       "      <td>CNO</td>\n",
       "      <td>400.0</td>\n",
       "      <td>2020</td>\n",
       "      <td>09</td>\n",
       "      <td>01</td>\n",
       "      <td>7</td>\n",
       "      <td>1</td>\n",
       "      <td>0.000</td>\n",
       "      <td>1.0</td>\n",
       "    </tr>\n",
       "    <tr>\n",
       "      <th>8</th>\n",
       "      <td>1717319</td>\n",
       "      <td>3</td>\n",
       "      <td>EONUC01</td>\n",
       "      <td>EONUR CONSUMO CLIENTES TUR</td>\n",
       "      <td>CNO</td>\n",
       "      <td>400.0</td>\n",
       "      <td>2020</td>\n",
       "      <td>09</td>\n",
       "      <td>01</td>\n",
       "      <td>8</td>\n",
       "      <td>1</td>\n",
       "      <td>0.000</td>\n",
       "      <td>1.0</td>\n",
       "    </tr>\n",
       "    <tr>\n",
       "      <th>9</th>\n",
       "      <td>1717319</td>\n",
       "      <td>3</td>\n",
       "      <td>EONUC01</td>\n",
       "      <td>EONUR CONSUMO CLIENTES TUR</td>\n",
       "      <td>CNO</td>\n",
       "      <td>400.0</td>\n",
       "      <td>2020</td>\n",
       "      <td>09</td>\n",
       "      <td>01</td>\n",
       "      <td>9</td>\n",
       "      <td>1</td>\n",
       "      <td>0.000</td>\n",
       "      <td>1.0</td>\n",
       "    </tr>\n",
       "    <tr>\n",
       "      <th>10</th>\n",
       "      <td>1717319</td>\n",
       "      <td>3</td>\n",
       "      <td>EONUC01</td>\n",
       "      <td>EONUR CONSUMO CLIENTES TUR</td>\n",
       "      <td>CNO</td>\n",
       "      <td>400.0</td>\n",
       "      <td>2020</td>\n",
       "      <td>09</td>\n",
       "      <td>01</td>\n",
       "      <td>10</td>\n",
       "      <td>1</td>\n",
       "      <td>0.000</td>\n",
       "      <td>1.0</td>\n",
       "    </tr>\n",
       "    <tr>\n",
       "      <th>11</th>\n",
       "      <td>1717319</td>\n",
       "      <td>3</td>\n",
       "      <td>EONUC01</td>\n",
       "      <td>EONUR CONSUMO CLIENTES TUR</td>\n",
       "      <td>CNO</td>\n",
       "      <td>400.0</td>\n",
       "      <td>2020</td>\n",
       "      <td>09</td>\n",
       "      <td>01</td>\n",
       "      <td>11</td>\n",
       "      <td>1</td>\n",
       "      <td>0.000</td>\n",
       "      <td>1.0</td>\n",
       "    </tr>\n",
       "    <tr>\n",
       "      <th>12</th>\n",
       "      <td>1717319</td>\n",
       "      <td>3</td>\n",
       "      <td>EONUC01</td>\n",
       "      <td>EONUR CONSUMO CLIENTES TUR</td>\n",
       "      <td>CNO</td>\n",
       "      <td>400.0</td>\n",
       "      <td>2020</td>\n",
       "      <td>09</td>\n",
       "      <td>01</td>\n",
       "      <td>12</td>\n",
       "      <td>1</td>\n",
       "      <td>0.000</td>\n",
       "      <td>1.0</td>\n",
       "    </tr>\n",
       "    <tr>\n",
       "      <th>13</th>\n",
       "      <td>1717319</td>\n",
       "      <td>3</td>\n",
       "      <td>EONUC01</td>\n",
       "      <td>EONUR CONSUMO CLIENTES TUR</td>\n",
       "      <td>CNO</td>\n",
       "      <td>400.0</td>\n",
       "      <td>2020</td>\n",
       "      <td>09</td>\n",
       "      <td>01</td>\n",
       "      <td>13</td>\n",
       "      <td>1</td>\n",
       "      <td>0.000</td>\n",
       "      <td>1.0</td>\n",
       "    </tr>\n",
       "    <tr>\n",
       "      <th>14</th>\n",
       "      <td>1717319</td>\n",
       "      <td>3</td>\n",
       "      <td>EONUC01</td>\n",
       "      <td>EONUR CONSUMO CLIENTES TUR</td>\n",
       "      <td>CNO</td>\n",
       "      <td>400.0</td>\n",
       "      <td>2020</td>\n",
       "      <td>09</td>\n",
       "      <td>01</td>\n",
       "      <td>14</td>\n",
       "      <td>1</td>\n",
       "      <td>0.000</td>\n",
       "      <td>1.0</td>\n",
       "    </tr>\n",
       "    <tr>\n",
       "      <th>15</th>\n",
       "      <td>1717319</td>\n",
       "      <td>3</td>\n",
       "      <td>EONUC01</td>\n",
       "      <td>EONUR CONSUMO CLIENTES TUR</td>\n",
       "      <td>CNO</td>\n",
       "      <td>400.0</td>\n",
       "      <td>2020</td>\n",
       "      <td>09</td>\n",
       "      <td>01</td>\n",
       "      <td>15</td>\n",
       "      <td>1</td>\n",
       "      <td>0.000</td>\n",
       "      <td>1.0</td>\n",
       "    </tr>\n",
       "    <tr>\n",
       "      <th>16</th>\n",
       "      <td>1717319</td>\n",
       "      <td>3</td>\n",
       "      <td>EONUC01</td>\n",
       "      <td>EONUR CONSUMO CLIENTES TUR</td>\n",
       "      <td>CNO</td>\n",
       "      <td>400.0</td>\n",
       "      <td>2020</td>\n",
       "      <td>09</td>\n",
       "      <td>01</td>\n",
       "      <td>16</td>\n",
       "      <td>1</td>\n",
       "      <td>0.000</td>\n",
       "      <td>1.0</td>\n",
       "    </tr>\n",
       "    <tr>\n",
       "      <th>17</th>\n",
       "      <td>1717319</td>\n",
       "      <td>3</td>\n",
       "      <td>EONUC01</td>\n",
       "      <td>EONUR CONSUMO CLIENTES TUR</td>\n",
       "      <td>CNO</td>\n",
       "      <td>400.0</td>\n",
       "      <td>2020</td>\n",
       "      <td>09</td>\n",
       "      <td>01</td>\n",
       "      <td>17</td>\n",
       "      <td>1</td>\n",
       "      <td>0.000</td>\n",
       "      <td>1.0</td>\n",
       "    </tr>\n",
       "    <tr>\n",
       "      <th>18</th>\n",
       "      <td>1717319</td>\n",
       "      <td>3</td>\n",
       "      <td>EONUC01</td>\n",
       "      <td>EONUR CONSUMO CLIENTES TUR</td>\n",
       "      <td>CNO</td>\n",
       "      <td>400.0</td>\n",
       "      <td>2020</td>\n",
       "      <td>09</td>\n",
       "      <td>01</td>\n",
       "      <td>18</td>\n",
       "      <td>1</td>\n",
       "      <td>0.000</td>\n",
       "      <td>1.0</td>\n",
       "    </tr>\n",
       "    <tr>\n",
       "      <th>19</th>\n",
       "      <td>1717319</td>\n",
       "      <td>3</td>\n",
       "      <td>EONUC01</td>\n",
       "      <td>EONUR CONSUMO CLIENTES TUR</td>\n",
       "      <td>CNO</td>\n",
       "      <td>400.0</td>\n",
       "      <td>2020</td>\n",
       "      <td>09</td>\n",
       "      <td>01</td>\n",
       "      <td>19</td>\n",
       "      <td>1</td>\n",
       "      <td>0.000</td>\n",
       "      <td>1.0</td>\n",
       "    </tr>\n",
       "    <tr>\n",
       "      <th>20</th>\n",
       "      <td>1717319</td>\n",
       "      <td>3</td>\n",
       "      <td>EONUC01</td>\n",
       "      <td>EONUR CONSUMO CLIENTES TUR</td>\n",
       "      <td>CNO</td>\n",
       "      <td>400.0</td>\n",
       "      <td>2020</td>\n",
       "      <td>09</td>\n",
       "      <td>01</td>\n",
       "      <td>20</td>\n",
       "      <td>1</td>\n",
       "      <td>0.000</td>\n",
       "      <td>1.0</td>\n",
       "    </tr>\n",
       "    <tr>\n",
       "      <th>21</th>\n",
       "      <td>1717319</td>\n",
       "      <td>3</td>\n",
       "      <td>EONUC01</td>\n",
       "      <td>EONUR CONSUMO CLIENTES TUR</td>\n",
       "      <td>CNO</td>\n",
       "      <td>400.0</td>\n",
       "      <td>2020</td>\n",
       "      <td>09</td>\n",
       "      <td>01</td>\n",
       "      <td>21</td>\n",
       "      <td>1</td>\n",
       "      <td>0.000</td>\n",
       "      <td>1.0</td>\n",
       "    </tr>\n",
       "    <tr>\n",
       "      <th>22</th>\n",
       "      <td>1717319</td>\n",
       "      <td>3</td>\n",
       "      <td>EONUC01</td>\n",
       "      <td>EONUR CONSUMO CLIENTES TUR</td>\n",
       "      <td>CNO</td>\n",
       "      <td>400.0</td>\n",
       "      <td>2020</td>\n",
       "      <td>09</td>\n",
       "      <td>01</td>\n",
       "      <td>22</td>\n",
       "      <td>1</td>\n",
       "      <td>0.000</td>\n",
       "      <td>1.0</td>\n",
       "    </tr>\n",
       "    <tr>\n",
       "      <th>23</th>\n",
       "      <td>1717319</td>\n",
       "      <td>3</td>\n",
       "      <td>EONUC01</td>\n",
       "      <td>EONUR CONSUMO CLIENTES TUR</td>\n",
       "      <td>CNO</td>\n",
       "      <td>400.0</td>\n",
       "      <td>2020</td>\n",
       "      <td>09</td>\n",
       "      <td>01</td>\n",
       "      <td>23</td>\n",
       "      <td>1</td>\n",
       "      <td>0.000</td>\n",
       "      <td>1.0</td>\n",
       "    </tr>\n",
       "    <tr>\n",
       "      <th>24</th>\n",
       "      <td>1717319</td>\n",
       "      <td>3</td>\n",
       "      <td>EONUC01</td>\n",
       "      <td>EONUR CONSUMO CLIENTES TUR</td>\n",
       "      <td>CNO</td>\n",
       "      <td>400.0</td>\n",
       "      <td>2020</td>\n",
       "      <td>09</td>\n",
       "      <td>01</td>\n",
       "      <td>24</td>\n",
       "      <td>1</td>\n",
       "      <td>0.000</td>\n",
       "      <td>1.0</td>\n",
       "    </tr>\n",
       "  </tbody>\n",
       "</table>\n",
       "</div>"
      ],
      "text/plain": [
       "   Bid_Code Num_Version Bid_Unit                Unit_Description Sell_Buy  \\\n",
       "1   1717319           3  EONUC01  EONUR CONSUMO CLIENTES TUR          CNO   \n",
       "2   1717319           3  EONUC01  EONUR CONSUMO CLIENTES TUR          CNO   \n",
       "3   1717319           3  EONUC01  EONUR CONSUMO CLIENTES TUR          CNO   \n",
       "4   1717319           3  EONUC01  EONUR CONSUMO CLIENTES TUR          CNO   \n",
       "5   1717319           3  EONUC01  EONUR CONSUMO CLIENTES TUR          CNO   \n",
       "6   1717319           3  EONUC01  EONUR CONSUMO CLIENTES TUR          CNO   \n",
       "7   1717319           3  EONUC01  EONUR CONSUMO CLIENTES TUR          CNO   \n",
       "8   1717319           3  EONUC01  EONUR CONSUMO CLIENTES TUR          CNO   \n",
       "9   1717319           3  EONUC01  EONUR CONSUMO CLIENTES TUR          CNO   \n",
       "10  1717319           3  EONUC01  EONUR CONSUMO CLIENTES TUR          CNO   \n",
       "11  1717319           3  EONUC01  EONUR CONSUMO CLIENTES TUR          CNO   \n",
       "12  1717319           3  EONUC01  EONUR CONSUMO CLIENTES TUR          CNO   \n",
       "13  1717319           3  EONUC01  EONUR CONSUMO CLIENTES TUR          CNO   \n",
       "14  1717319           3  EONUC01  EONUR CONSUMO CLIENTES TUR          CNO   \n",
       "15  1717319           3  EONUC01  EONUR CONSUMO CLIENTES TUR          CNO   \n",
       "16  1717319           3  EONUC01  EONUR CONSUMO CLIENTES TUR          CNO   \n",
       "17  1717319           3  EONUC01  EONUR CONSUMO CLIENTES TUR          CNO   \n",
       "18  1717319           3  EONUC01  EONUR CONSUMO CLIENTES TUR          CNO   \n",
       "19  1717319           3  EONUC01  EONUR CONSUMO CLIENTES TUR          CNO   \n",
       "20  1717319           3  EONUC01  EONUR CONSUMO CLIENTES TUR          CNO   \n",
       "21  1717319           3  EONUC01  EONUR CONSUMO CLIENTES TUR          CNO   \n",
       "22  1717319           3  EONUC01  EONUR CONSUMO CLIENTES TUR          CNO   \n",
       "23  1717319           3  EONUC01  EONUR CONSUMO CLIENTES TUR          CNO   \n",
       "24  1717319           3  EONUC01  EONUR CONSUMO CLIENTES TUR          CNO   \n",
       "\n",
       "    Pot_max  Year Month Day Period Block              Price   Energy  \n",
       "1     400.0  2020    09  01      1     1              0.000      1.0  \n",
       "2     400.0  2020    09  01      2     1              0.000      1.0  \n",
       "3     400.0  2020    09  01      3     1              0.000      1.0  \n",
       "4     400.0  2020    09  01      4     1              0.000      1.0  \n",
       "5     400.0  2020    09  01      5     1              0.000      1.0  \n",
       "6     400.0  2020    09  01      6     1              0.000      1.0  \n",
       "7     400.0  2020    09  01      7     1              0.000      1.0  \n",
       "8     400.0  2020    09  01      8     1              0.000      1.0  \n",
       "9     400.0  2020    09  01      9     1              0.000      1.0  \n",
       "10    400.0  2020    09  01     10     1              0.000      1.0  \n",
       "11    400.0  2020    09  01     11     1              0.000      1.0  \n",
       "12    400.0  2020    09  01     12     1              0.000      1.0  \n",
       "13    400.0  2020    09  01     13     1              0.000      1.0  \n",
       "14    400.0  2020    09  01     14     1              0.000      1.0  \n",
       "15    400.0  2020    09  01     15     1              0.000      1.0  \n",
       "16    400.0  2020    09  01     16     1              0.000      1.0  \n",
       "17    400.0  2020    09  01     17     1              0.000      1.0  \n",
       "18    400.0  2020    09  01     18     1              0.000      1.0  \n",
       "19    400.0  2020    09  01     19     1              0.000      1.0  \n",
       "20    400.0  2020    09  01     20     1              0.000      1.0  \n",
       "21    400.0  2020    09  01     21     1              0.000      1.0  \n",
       "22    400.0  2020    09  01     22     1              0.000      1.0  \n",
       "23    400.0  2020    09  01     23     1              0.000      1.0  \n",
       "24    400.0  2020    09  01     24     1              0.000      1.0  "
      ]
     },
     "execution_count": 89,
     "metadata": {},
     "output_type": "execute_result"
    }
   ],
   "source": [
    "df_cab_09.merge(df_det_0901,how = 'inner').loc[df_det_0901['Bid_Code'] == '1717319']"
   ]
  },
  {
   "cell_type": "code",
   "execution_count": 90,
   "metadata": {},
   "outputs": [],
   "source": [
    "#Para evitar la multiplicación de lines no deseadas, lo lógico es eliminar las celdas de \"COMPRA\" en el df de\n",
    "#cabeceras o elegir las unidades de negocio en ese momento para que la consulta con el fichero de detalle no\n",
    "#acabe con millones de lineas.\n",
    "\n"
   ]
  },
  {
   "cell_type": "code",
   "execution_count": 91,
   "metadata": {},
   "outputs": [],
   "source": [
    "#Vemos si es viable generar un archivo DET mensual (aprox. 1.5M lineas)"
   ]
  },
  {
   "cell_type": "code",
   "execution_count": null,
   "metadata": {},
   "outputs": [],
   "source": []
  },
  {
   "cell_type": "code",
   "execution_count": 92,
   "metadata": {},
   "outputs": [
    {
     "name": "stdout",
     "output_type": "stream",
     "text": [
      "50676\n",
      "50276\n",
      "49509\n",
      "50102\n",
      "48885\n",
      "48385\n",
      "48974\n",
      "49975\n",
      "49167\n",
      "49163\n",
      "49939\n",
      "47797\n",
      "48843\n",
      "49202\n",
      "48848\n",
      "48730\n",
      "48658\n",
      "50117\n",
      "49236\n",
      "48829\n",
      "50030\n",
      "49036\n",
      "49580\n",
      "49526\n",
      "50182\n",
      "49290\n",
      "49451\n",
      "49594\n",
      "48059\n",
      "48770\n"
     ]
    }
   ],
   "source": [
    "###VAMOS INCLUIR LOS ARCHIVOS DET DE SEPTIEMBRE\n",
    "\n",
    "DET_path_09 = '/home/dsc/Documents/TFM/Data/OMIE/DET/det_202009/'\n",
    "\n",
    "det_09 = []\n",
    "\n",
    "for archive in archive_det_list:\n",
    "    with open(DET_path_09 + archive, errors='replace') as f:\n",
    "        lines = f.readlines()\n",
    "        det_09.append(lines)\n",
    "        print(len(lines))"
   ]
  },
  {
   "cell_type": "code",
   "execution_count": 93,
   "metadata": {},
   "outputs": [
    {
     "name": "stdout",
     "output_type": "stream",
     "text": [
      "OK\n",
      "OK\n",
      "OK\n",
      "OK\n",
      "OK\n",
      "OK\n",
      "OK\n",
      "OK\n",
      "OK\n",
      "OK\n",
      "OK\n",
      "OK\n",
      "OK\n",
      "OK\n",
      "OK\n",
      "OK\n",
      "OK\n",
      "OK\n",
      "OK\n",
      "OK\n",
      "OK\n",
      "OK\n",
      "OK\n",
      "OK\n",
      "OK\n",
      "OK\n",
      "OK\n",
      "OK\n",
      "OK\n",
      "OK\n"
     ]
    }
   ],
   "source": [
    "#Comprobación de que todas las lineas tienen todas el mismo número de caracteres, en este caso 58.\n",
    "\n",
    "for x in range(len(det_09)):\n",
    "    for i in det_09[x]:\n",
    "        if len(i) != 58:\n",
    "            print(len(i))\n",
    "    print('OK')"
   ]
  },
  {
   "cell_type": "code",
   "execution_count": null,
   "metadata": {},
   "outputs": [],
   "source": []
  },
  {
   "cell_type": "code",
   "execution_count": 94,
   "metadata": {},
   "outputs": [],
   "source": [
    "det_09\n",
    "\n",
    "det_total_09 = []\n",
    "\n",
    "for day in range(len(det_09)):\n",
    "    for count in range(len(det_09[day])):\n",
    "        det_total_09.append((det_09[day][count][0:7] +'^'+ \n",
    "                            det_09[day][count][7:10] +'^'+ \n",
    "                            det_09[day][count][10:12] +'^'+ \n",
    "                            det_09[day][count][12:14] +'^'+ \n",
    "                            det_09[day][count][31:48] +'^'+ \n",
    "                            det_09[day][count][48:55] +'^'+ \n",
    "                            archive_det_list[day][4:8] + '^' + \n",
    "                            archive_det_list[day][8:10] + '^' + \n",
    "                            archive_det_list[day][10:12]).split('^'))\n"
   ]
  },
  {
   "cell_type": "code",
   "execution_count": null,
   "metadata": {},
   "outputs": [],
   "source": []
  },
  {
   "cell_type": "code",
   "execution_count": 95,
   "metadata": {},
   "outputs": [
    {
     "data": {
      "text/plain": [
       "1478829"
      ]
     },
     "execution_count": 95,
     "metadata": {},
     "output_type": "execute_result"
    }
   ],
   "source": [
    "#Lista con todos la info.\n",
    "\n",
    "len(det_total_09)"
   ]
  },
  {
   "cell_type": "code",
   "execution_count": 96,
   "metadata": {},
   "outputs": [
    {
     "data": {
      "text/plain": [
       "['1696149',\n",
       " '  6',\n",
       " '22',\n",
       " ' 1',\n",
       " '            0.010',\n",
       " '    0.1',\n",
       " '2020',\n",
       " '09',\n",
       " '01']"
      ]
     },
     "execution_count": 96,
     "metadata": {},
     "output_type": "execute_result"
    }
   ],
   "source": [
    "det_total_09[0]"
   ]
  },
  {
   "cell_type": "code",
   "execution_count": 97,
   "metadata": {},
   "outputs": [
    {
     "data": {
      "text/plain": [
       "list"
      ]
     },
     "execution_count": 97,
     "metadata": {},
     "output_type": "execute_result"
    }
   ],
   "source": [
    "type(det_total_09)"
   ]
  },
  {
   "cell_type": "code",
   "execution_count": 98,
   "metadata": {},
   "outputs": [
    {
     "data": {
      "text/plain": [
       "9"
      ]
     },
     "execution_count": 98,
     "metadata": {},
     "output_type": "execute_result"
    }
   ],
   "source": [
    "len(det_total_09[29390])"
   ]
  },
  {
   "cell_type": "code",
   "execution_count": 99,
   "metadata": {},
   "outputs": [],
   "source": [
    "#columns=['Bid_Code', 'Num_Version', 'Bid_Unit', 'Unit_Description', 'Sell/Buy', 'Pot_max', 'Year','Month','Day']\n",
    "df_det_09 = pd.DataFrame(det_total_09,\n",
    "                        columns=['Bid_Code', \n",
    "                                 'Num_Version', \n",
    "                                 'Period', \n",
    "                                 'Block', \n",
    "                                 'Price', \n",
    "                                 'Energy', \n",
    "                                 'Year',\n",
    "                                 'Month',\n",
    "                                 'Day'])"
   ]
  },
  {
   "cell_type": "code",
   "execution_count": 100,
   "metadata": {
    "scrolled": true
   },
   "outputs": [
    {
     "data": {
      "text/html": [
       "<div>\n",
       "<style scoped>\n",
       "    .dataframe tbody tr th:only-of-type {\n",
       "        vertical-align: middle;\n",
       "    }\n",
       "\n",
       "    .dataframe tbody tr th {\n",
       "        vertical-align: top;\n",
       "    }\n",
       "\n",
       "    .dataframe thead th {\n",
       "        text-align: right;\n",
       "    }\n",
       "</style>\n",
       "<table border=\"1\" class=\"dataframe\">\n",
       "  <thead>\n",
       "    <tr style=\"text-align: right;\">\n",
       "      <th></th>\n",
       "      <th>Bid_Code</th>\n",
       "      <th>Num_Version</th>\n",
       "      <th>Period</th>\n",
       "      <th>Block</th>\n",
       "      <th>Price</th>\n",
       "      <th>Energy</th>\n",
       "      <th>Year</th>\n",
       "      <th>Month</th>\n",
       "      <th>Day</th>\n",
       "    </tr>\n",
       "  </thead>\n",
       "  <tbody>\n",
       "    <tr>\n",
       "      <th>0</th>\n",
       "      <td>1696149</td>\n",
       "      <td>6</td>\n",
       "      <td>22</td>\n",
       "      <td>1</td>\n",
       "      <td>0.010</td>\n",
       "      <td>0.1</td>\n",
       "      <td>2020</td>\n",
       "      <td>09</td>\n",
       "      <td>01</td>\n",
       "    </tr>\n",
       "    <tr>\n",
       "      <th>1</th>\n",
       "      <td>1717319</td>\n",
       "      <td>3</td>\n",
       "      <td>1</td>\n",
       "      <td>1</td>\n",
       "      <td>0.000</td>\n",
       "      <td>1.0</td>\n",
       "      <td>2020</td>\n",
       "      <td>09</td>\n",
       "      <td>01</td>\n",
       "    </tr>\n",
       "    <tr>\n",
       "      <th>2</th>\n",
       "      <td>1717319</td>\n",
       "      <td>3</td>\n",
       "      <td>2</td>\n",
       "      <td>1</td>\n",
       "      <td>0.000</td>\n",
       "      <td>1.0</td>\n",
       "      <td>2020</td>\n",
       "      <td>09</td>\n",
       "      <td>01</td>\n",
       "    </tr>\n",
       "    <tr>\n",
       "      <th>3</th>\n",
       "      <td>1717319</td>\n",
       "      <td>3</td>\n",
       "      <td>3</td>\n",
       "      <td>1</td>\n",
       "      <td>0.000</td>\n",
       "      <td>1.0</td>\n",
       "      <td>2020</td>\n",
       "      <td>09</td>\n",
       "      <td>01</td>\n",
       "    </tr>\n",
       "    <tr>\n",
       "      <th>4</th>\n",
       "      <td>1717319</td>\n",
       "      <td>3</td>\n",
       "      <td>4</td>\n",
       "      <td>1</td>\n",
       "      <td>0.000</td>\n",
       "      <td>1.0</td>\n",
       "      <td>2020</td>\n",
       "      <td>09</td>\n",
       "      <td>01</td>\n",
       "    </tr>\n",
       "  </tbody>\n",
       "</table>\n",
       "</div>"
      ],
      "text/plain": [
       "  Bid_Code Num_Version Period Block              Price   Energy  Year Month  \\\n",
       "0  1696149           6     22     1              0.010      0.1  2020    09   \n",
       "1  1717319           3      1     1              0.000      1.0  2020    09   \n",
       "2  1717319           3      2     1              0.000      1.0  2020    09   \n",
       "3  1717319           3      3     1              0.000      1.0  2020    09   \n",
       "4  1717319           3      4     1              0.000      1.0  2020    09   \n",
       "\n",
       "  Day  \n",
       "0  01  \n",
       "1  01  \n",
       "2  01  \n",
       "3  01  \n",
       "4  01  "
      ]
     },
     "execution_count": 100,
     "metadata": {},
     "output_type": "execute_result"
    }
   ],
   "source": [
    "df_det_09.head()"
   ]
  },
  {
   "cell_type": "code",
   "execution_count": 101,
   "metadata": {},
   "outputs": [],
   "source": [
    "df_det_09.to_csv('/home/dsc/Documents/TFM/Data/OMIE/DET_202009.csv')"
   ]
  },
  {
   "cell_type": "code",
   "execution_count": 102,
   "metadata": {},
   "outputs": [
    {
     "data": {
      "text/plain": [
       "(1478829, 9)"
      ]
     },
     "execution_count": 102,
     "metadata": {},
     "output_type": "execute_result"
    }
   ],
   "source": [
    "df_det_09.shape"
   ]
  },
  {
   "cell_type": "code",
   "execution_count": 103,
   "metadata": {
    "scrolled": true
   },
   "outputs": [],
   "source": [
    "#En este df se encuentran lincadas todas las ofertas de un día con el precio y la enería ofertada\n",
    "\n",
    "df_merge_09 = df_cab_09.merge(df_det_09,how = 'inner')"
   ]
  },
  {
   "cell_type": "code",
   "execution_count": 104,
   "metadata": {},
   "outputs": [
    {
     "data": {
      "text/html": [
       "<div>\n",
       "<style scoped>\n",
       "    .dataframe tbody tr th:only-of-type {\n",
       "        vertical-align: middle;\n",
       "    }\n",
       "\n",
       "    .dataframe tbody tr th {\n",
       "        vertical-align: top;\n",
       "    }\n",
       "\n",
       "    .dataframe thead th {\n",
       "        text-align: right;\n",
       "    }\n",
       "</style>\n",
       "<table border=\"1\" class=\"dataframe\">\n",
       "  <thead>\n",
       "    <tr style=\"text-align: right;\">\n",
       "      <th></th>\n",
       "      <th>Bid_Code</th>\n",
       "      <th>Num_Version</th>\n",
       "      <th>Bid_Unit</th>\n",
       "      <th>Unit_Description</th>\n",
       "      <th>Sell_Buy</th>\n",
       "      <th>Pot_max</th>\n",
       "      <th>Year</th>\n",
       "      <th>Month</th>\n",
       "      <th>Day</th>\n",
       "      <th>Period</th>\n",
       "      <th>Block</th>\n",
       "      <th>Price</th>\n",
       "      <th>Energy</th>\n",
       "    </tr>\n",
       "  </thead>\n",
       "  <tbody>\n",
       "    <tr>\n",
       "      <th>0</th>\n",
       "      <td>1696149</td>\n",
       "      <td>6</td>\n",
       "      <td>EDPC2</td>\n",
       "      <td>EDP COMERCIAL COMPRA (PORT)</td>\n",
       "      <td>CNO</td>\n",
       "      <td>6000.0</td>\n",
       "      <td>2020</td>\n",
       "      <td>09</td>\n",
       "      <td>01</td>\n",
       "      <td>22</td>\n",
       "      <td>1</td>\n",
       "      <td>0.010</td>\n",
       "      <td>0.1</td>\n",
       "    </tr>\n",
       "    <tr>\n",
       "      <th>1</th>\n",
       "      <td>1717319</td>\n",
       "      <td>3</td>\n",
       "      <td>EONUC01</td>\n",
       "      <td>EONUR CONSUMO CLIENTES TUR</td>\n",
       "      <td>CNO</td>\n",
       "      <td>400.0</td>\n",
       "      <td>2020</td>\n",
       "      <td>09</td>\n",
       "      <td>01</td>\n",
       "      <td>1</td>\n",
       "      <td>1</td>\n",
       "      <td>0.000</td>\n",
       "      <td>1.0</td>\n",
       "    </tr>\n",
       "    <tr>\n",
       "      <th>2</th>\n",
       "      <td>1717319</td>\n",
       "      <td>3</td>\n",
       "      <td>EONUC01</td>\n",
       "      <td>EONUR CONSUMO CLIENTES TUR</td>\n",
       "      <td>CNO</td>\n",
       "      <td>400.0</td>\n",
       "      <td>2020</td>\n",
       "      <td>09</td>\n",
       "      <td>01</td>\n",
       "      <td>2</td>\n",
       "      <td>1</td>\n",
       "      <td>0.000</td>\n",
       "      <td>1.0</td>\n",
       "    </tr>\n",
       "    <tr>\n",
       "      <th>3</th>\n",
       "      <td>1717319</td>\n",
       "      <td>3</td>\n",
       "      <td>EONUC01</td>\n",
       "      <td>EONUR CONSUMO CLIENTES TUR</td>\n",
       "      <td>CNO</td>\n",
       "      <td>400.0</td>\n",
       "      <td>2020</td>\n",
       "      <td>09</td>\n",
       "      <td>01</td>\n",
       "      <td>3</td>\n",
       "      <td>1</td>\n",
       "      <td>0.000</td>\n",
       "      <td>1.0</td>\n",
       "    </tr>\n",
       "    <tr>\n",
       "      <th>4</th>\n",
       "      <td>1717319</td>\n",
       "      <td>3</td>\n",
       "      <td>EONUC01</td>\n",
       "      <td>EONUR CONSUMO CLIENTES TUR</td>\n",
       "      <td>CNO</td>\n",
       "      <td>400.0</td>\n",
       "      <td>2020</td>\n",
       "      <td>09</td>\n",
       "      <td>01</td>\n",
       "      <td>4</td>\n",
       "      <td>1</td>\n",
       "      <td>0.000</td>\n",
       "      <td>1.0</td>\n",
       "    </tr>\n",
       "  </tbody>\n",
       "</table>\n",
       "</div>"
      ],
      "text/plain": [
       "  Bid_Code Num_Version Bid_Unit                Unit_Description Sell_Buy  \\\n",
       "0  1696149           6  EDPC2    EDP COMERCIAL COMPRA (PORT)         CNO   \n",
       "1  1717319           3  EONUC01  EONUR CONSUMO CLIENTES TUR          CNO   \n",
       "2  1717319           3  EONUC01  EONUR CONSUMO CLIENTES TUR          CNO   \n",
       "3  1717319           3  EONUC01  EONUR CONSUMO CLIENTES TUR          CNO   \n",
       "4  1717319           3  EONUC01  EONUR CONSUMO CLIENTES TUR          CNO   \n",
       "\n",
       "   Pot_max  Year Month Day Period Block              Price   Energy  \n",
       "0   6000.0  2020    09  01     22     1              0.010      0.1  \n",
       "1    400.0  2020    09  01      1     1              0.000      1.0  \n",
       "2    400.0  2020    09  01      2     1              0.000      1.0  \n",
       "3    400.0  2020    09  01      3     1              0.000      1.0  \n",
       "4    400.0  2020    09  01      4     1              0.000      1.0  "
      ]
     },
     "execution_count": 104,
     "metadata": {},
     "output_type": "execute_result"
    }
   ],
   "source": [
    "df_merge_09.head()"
   ]
  },
  {
   "cell_type": "code",
   "execution_count": 105,
   "metadata": {},
   "outputs": [
    {
     "data": {
      "text/plain": [
       "(1478829, 13)"
      ]
     },
     "execution_count": 105,
     "metadata": {},
     "output_type": "execute_result"
    }
   ],
   "source": [
    "df_merge_09.shape"
   ]
  },
  {
   "cell_type": "code",
   "execution_count": 106,
   "metadata": {},
   "outputs": [
    {
     "data": {
      "text/plain": [
       "VNO    1072350\n",
       "CNO     405759\n",
       "VNP        720\n",
       "Name: Sell_Buy, dtype: int64"
      ]
     },
     "execution_count": 106,
     "metadata": {},
     "output_type": "execute_result"
    }
   ],
   "source": [
    "df_merge_09['Sell_Buy'].value_counts()"
   ]
  },
  {
   "cell_type": "code",
   "execution_count": 107,
   "metadata": {},
   "outputs": [],
   "source": [
    "df_merge_09_V = df_merge_09.loc[df_merge_09['Sell_Buy'] != 'CNO']"
   ]
  },
  {
   "cell_type": "code",
   "execution_count": 108,
   "metadata": {},
   "outputs": [
    {
     "data": {
      "text/plain": [
       "(1073070, 13)"
      ]
     },
     "execution_count": 108,
     "metadata": {},
     "output_type": "execute_result"
    }
   ],
   "source": [
    "df_merge_09_V.shape"
   ]
  },
  {
   "cell_type": "code",
   "execution_count": 109,
   "metadata": {},
   "outputs": [
    {
     "data": {
      "text/html": [
       "<div>\n",
       "<style scoped>\n",
       "    .dataframe tbody tr th:only-of-type {\n",
       "        vertical-align: middle;\n",
       "    }\n",
       "\n",
       "    .dataframe tbody tr th {\n",
       "        vertical-align: top;\n",
       "    }\n",
       "\n",
       "    .dataframe thead th {\n",
       "        text-align: right;\n",
       "    }\n",
       "</style>\n",
       "<table border=\"1\" class=\"dataframe\">\n",
       "  <thead>\n",
       "    <tr style=\"text-align: right;\">\n",
       "      <th></th>\n",
       "      <th>Bid_Code</th>\n",
       "      <th>Num_Version</th>\n",
       "      <th>Bid_Unit</th>\n",
       "      <th>Unit_Description</th>\n",
       "      <th>Sell_Buy</th>\n",
       "      <th>Pot_max</th>\n",
       "      <th>Year</th>\n",
       "      <th>Month</th>\n",
       "      <th>Day</th>\n",
       "      <th>Period</th>\n",
       "      <th>Block</th>\n",
       "      <th>Price</th>\n",
       "      <th>Energy</th>\n",
       "    </tr>\n",
       "  </thead>\n",
       "  <tbody>\n",
       "    <tr>\n",
       "      <th>25</th>\n",
       "      <td>1811311</td>\n",
       "      <td>7</td>\n",
       "      <td>IPG</td>\n",
       "      <td>C.H. IP GENERACION</td>\n",
       "      <td>VNO</td>\n",
       "      <td>84.0</td>\n",
       "      <td>2020</td>\n",
       "      <td>09</td>\n",
       "      <td>01</td>\n",
       "      <td>23</td>\n",
       "      <td>1</td>\n",
       "      <td>150.000</td>\n",
       "      <td>0.1</td>\n",
       "    </tr>\n",
       "    <tr>\n",
       "      <th>29</th>\n",
       "      <td>2532852</td>\n",
       "      <td>28</td>\n",
       "      <td>NRENVD1</td>\n",
       "      <td>NRENO-VENTA</td>\n",
       "      <td>VNO</td>\n",
       "      <td>1.7</td>\n",
       "      <td>2020</td>\n",
       "      <td>09</td>\n",
       "      <td>01</td>\n",
       "      <td>9</td>\n",
       "      <td>1</td>\n",
       "      <td>0.000</td>\n",
       "      <td>0.1</td>\n",
       "    </tr>\n",
       "    <tr>\n",
       "      <th>30</th>\n",
       "      <td>2532852</td>\n",
       "      <td>28</td>\n",
       "      <td>NRENVD1</td>\n",
       "      <td>NRENO-VENTA</td>\n",
       "      <td>VNO</td>\n",
       "      <td>1.7</td>\n",
       "      <td>2020</td>\n",
       "      <td>09</td>\n",
       "      <td>01</td>\n",
       "      <td>10</td>\n",
       "      <td>1</td>\n",
       "      <td>0.000</td>\n",
       "      <td>0.4</td>\n",
       "    </tr>\n",
       "    <tr>\n",
       "      <th>31</th>\n",
       "      <td>2532852</td>\n",
       "      <td>28</td>\n",
       "      <td>NRENVD1</td>\n",
       "      <td>NRENO-VENTA</td>\n",
       "      <td>VNO</td>\n",
       "      <td>1.7</td>\n",
       "      <td>2020</td>\n",
       "      <td>09</td>\n",
       "      <td>01</td>\n",
       "      <td>11</td>\n",
       "      <td>1</td>\n",
       "      <td>0.000</td>\n",
       "      <td>0.7</td>\n",
       "    </tr>\n",
       "    <tr>\n",
       "      <th>32</th>\n",
       "      <td>2532852</td>\n",
       "      <td>28</td>\n",
       "      <td>NRENVD1</td>\n",
       "      <td>NRENO-VENTA</td>\n",
       "      <td>VNO</td>\n",
       "      <td>1.7</td>\n",
       "      <td>2020</td>\n",
       "      <td>09</td>\n",
       "      <td>01</td>\n",
       "      <td>12</td>\n",
       "      <td>1</td>\n",
       "      <td>0.000</td>\n",
       "      <td>1.0</td>\n",
       "    </tr>\n",
       "  </tbody>\n",
       "</table>\n",
       "</div>"
      ],
      "text/plain": [
       "   Bid_Code Num_Version Bid_Unit                Unit_Description Sell_Buy  \\\n",
       "25  1811311           7  IPG      C.H. IP GENERACION                  VNO   \n",
       "29  2532852          28  NRENVD1  NRENO-VENTA                         VNO   \n",
       "30  2532852          28  NRENVD1  NRENO-VENTA                         VNO   \n",
       "31  2532852          28  NRENVD1  NRENO-VENTA                         VNO   \n",
       "32  2532852          28  NRENVD1  NRENO-VENTA                         VNO   \n",
       "\n",
       "    Pot_max  Year Month Day Period Block              Price   Energy  \n",
       "25     84.0  2020    09  01     23     1            150.000      0.1  \n",
       "29      1.7  2020    09  01      9     1              0.000      0.1  \n",
       "30      1.7  2020    09  01     10     1              0.000      0.4  \n",
       "31      1.7  2020    09  01     11     1              0.000      0.7  \n",
       "32      1.7  2020    09  01     12     1              0.000      1.0  "
      ]
     },
     "execution_count": 109,
     "metadata": {},
     "output_type": "execute_result"
    }
   ],
   "source": [
    "df_merge_09_V.head()"
   ]
  },
  {
   "cell_type": "code",
   "execution_count": 110,
   "metadata": {},
   "outputs": [],
   "source": [
    "df_merge_09_PALOS1 = df_merge_09_V.loc[df_merge_09_V['Bid_Unit'].str.contains('PALOS1')]"
   ]
  },
  {
   "cell_type": "code",
   "execution_count": 111,
   "metadata": {},
   "outputs": [
    {
     "data": {
      "text/html": [
       "<div>\n",
       "<style scoped>\n",
       "    .dataframe tbody tr th:only-of-type {\n",
       "        vertical-align: middle;\n",
       "    }\n",
       "\n",
       "    .dataframe tbody tr th {\n",
       "        vertical-align: top;\n",
       "    }\n",
       "\n",
       "    .dataframe thead th {\n",
       "        text-align: right;\n",
       "    }\n",
       "</style>\n",
       "<table border=\"1\" class=\"dataframe\">\n",
       "  <thead>\n",
       "    <tr style=\"text-align: right;\">\n",
       "      <th></th>\n",
       "      <th>Bid_Code</th>\n",
       "      <th>Num_Version</th>\n",
       "      <th>Bid_Unit</th>\n",
       "      <th>Unit_Description</th>\n",
       "      <th>Sell_Buy</th>\n",
       "      <th>Pot_max</th>\n",
       "      <th>Year</th>\n",
       "      <th>Month</th>\n",
       "      <th>Day</th>\n",
       "      <th>Period</th>\n",
       "      <th>Block</th>\n",
       "      <th>Price</th>\n",
       "      <th>Energy</th>\n",
       "    </tr>\n",
       "  </thead>\n",
       "  <tbody>\n",
       "    <tr>\n",
       "      <th>18724</th>\n",
       "      <td>6468171</td>\n",
       "      <td>3</td>\n",
       "      <td>PALOS1</td>\n",
       "      <td>C.C. PALOS 1</td>\n",
       "      <td>VNO</td>\n",
       "      <td>394.1</td>\n",
       "      <td>2020</td>\n",
       "      <td>09</td>\n",
       "      <td>01</td>\n",
       "      <td>1</td>\n",
       "      <td>12</td>\n",
       "      <td>180.300</td>\n",
       "      <td>394.1</td>\n",
       "    </tr>\n",
       "    <tr>\n",
       "      <th>18725</th>\n",
       "      <td>6468171</td>\n",
       "      <td>3</td>\n",
       "      <td>PALOS1</td>\n",
       "      <td>C.C. PALOS 1</td>\n",
       "      <td>VNO</td>\n",
       "      <td>394.1</td>\n",
       "      <td>2020</td>\n",
       "      <td>09</td>\n",
       "      <td>01</td>\n",
       "      <td>2</td>\n",
       "      <td>12</td>\n",
       "      <td>180.300</td>\n",
       "      <td>394.1</td>\n",
       "    </tr>\n",
       "    <tr>\n",
       "      <th>18726</th>\n",
       "      <td>6468171</td>\n",
       "      <td>3</td>\n",
       "      <td>PALOS1</td>\n",
       "      <td>C.C. PALOS 1</td>\n",
       "      <td>VNO</td>\n",
       "      <td>394.1</td>\n",
       "      <td>2020</td>\n",
       "      <td>09</td>\n",
       "      <td>01</td>\n",
       "      <td>3</td>\n",
       "      <td>12</td>\n",
       "      <td>180.300</td>\n",
       "      <td>394.1</td>\n",
       "    </tr>\n",
       "    <tr>\n",
       "      <th>18727</th>\n",
       "      <td>6468171</td>\n",
       "      <td>3</td>\n",
       "      <td>PALOS1</td>\n",
       "      <td>C.C. PALOS 1</td>\n",
       "      <td>VNO</td>\n",
       "      <td>394.1</td>\n",
       "      <td>2020</td>\n",
       "      <td>09</td>\n",
       "      <td>01</td>\n",
       "      <td>4</td>\n",
       "      <td>1</td>\n",
       "      <td>1.130</td>\n",
       "      <td>75.0</td>\n",
       "    </tr>\n",
       "    <tr>\n",
       "      <th>18728</th>\n",
       "      <td>6468171</td>\n",
       "      <td>3</td>\n",
       "      <td>PALOS1</td>\n",
       "      <td>C.C. PALOS 1</td>\n",
       "      <td>VNO</td>\n",
       "      <td>394.1</td>\n",
       "      <td>2020</td>\n",
       "      <td>09</td>\n",
       "      <td>01</td>\n",
       "      <td>4</td>\n",
       "      <td>12</td>\n",
       "      <td>180.300</td>\n",
       "      <td>319.1</td>\n",
       "    </tr>\n",
       "  </tbody>\n",
       "</table>\n",
       "</div>"
      ],
      "text/plain": [
       "      Bid_Code Num_Version Bid_Unit                Unit_Description Sell_Buy  \\\n",
       "18724  6468171           3  PALOS1   C.C. PALOS 1                        VNO   \n",
       "18725  6468171           3  PALOS1   C.C. PALOS 1                        VNO   \n",
       "18726  6468171           3  PALOS1   C.C. PALOS 1                        VNO   \n",
       "18727  6468171           3  PALOS1   C.C. PALOS 1                        VNO   \n",
       "18728  6468171           3  PALOS1   C.C. PALOS 1                        VNO   \n",
       "\n",
       "       Pot_max  Year Month Day Period Block              Price   Energy  \n",
       "18724    394.1  2020    09  01      1    12            180.300    394.1  \n",
       "18725    394.1  2020    09  01      2    12            180.300    394.1  \n",
       "18726    394.1  2020    09  01      3    12            180.300    394.1  \n",
       "18727    394.1  2020    09  01      4     1              1.130     75.0  \n",
       "18728    394.1  2020    09  01      4    12            180.300    319.1  "
      ]
     },
     "execution_count": 111,
     "metadata": {},
     "output_type": "execute_result"
    }
   ],
   "source": [
    "df_merge_09_PALOS1.head()"
   ]
  },
  {
   "cell_type": "code",
   "execution_count": 112,
   "metadata": {
    "scrolled": true
   },
   "outputs": [
    {
     "data": {
      "text/plain": [
       "Bid_Code                                   6468171\n",
       "Num_Version                                      3\n",
       "Bid_Unit                                   PALOS1 \n",
       "Unit_Description    C.C. PALOS 1                  \n",
       "Sell_Buy                                       VNO\n",
       "Pot_max                                      394.1\n",
       "Year                                          2020\n",
       "Month                                           09\n",
       "Day                                             01\n",
       "Period                                           1\n",
       "Block                                           12\n",
       "Price                                      180.300\n",
       "Energy                                       394.1\n",
       "Name: 18724, dtype: object"
      ]
     },
     "execution_count": 112,
     "metadata": {},
     "output_type": "execute_result"
    }
   ],
   "source": [
    "df_merge_09_PALOS1.iloc[0]"
   ]
  },
  {
   "cell_type": "code",
   "execution_count": 113,
   "metadata": {},
   "outputs": [
    {
     "data": {
      "text/plain": [
       "(5970, 13)"
      ]
     },
     "execution_count": 113,
     "metadata": {},
     "output_type": "execute_result"
    }
   ],
   "source": [
    "df_merge_09_PALOS1.shape"
   ]
  },
  {
   "cell_type": "code",
   "execution_count": 114,
   "metadata": {},
   "outputs": [],
   "source": [
    "df_merge_09_PALOS1_21_27 = df_merge_09_PALOS1[df_merge_09_PALOS1['Day']\n",
    "                                              .isin(['21','22','23','24','25','26','27'])]"
   ]
  },
  {
   "cell_type": "code",
   "execution_count": 115,
   "metadata": {},
   "outputs": [
    {
     "data": {
      "text/plain": [
       "(1393, 13)"
      ]
     },
     "execution_count": 115,
     "metadata": {},
     "output_type": "execute_result"
    }
   ],
   "source": [
    "df_merge_09_PALOS1_21_27.shape"
   ]
  },
  {
   "cell_type": "code",
   "execution_count": 116,
   "metadata": {},
   "outputs": [
    {
     "data": {
      "text/html": [
       "<div>\n",
       "<style scoped>\n",
       "    .dataframe tbody tr th:only-of-type {\n",
       "        vertical-align: middle;\n",
       "    }\n",
       "\n",
       "    .dataframe tbody tr th {\n",
       "        vertical-align: top;\n",
       "    }\n",
       "\n",
       "    .dataframe thead th {\n",
       "        text-align: right;\n",
       "    }\n",
       "</style>\n",
       "<table border=\"1\" class=\"dataframe\">\n",
       "  <thead>\n",
       "    <tr style=\"text-align: right;\">\n",
       "      <th></th>\n",
       "      <th>Bid_Code</th>\n",
       "      <th>Num_Version</th>\n",
       "      <th>Bid_Unit</th>\n",
       "      <th>Unit_Description</th>\n",
       "      <th>Sell_Buy</th>\n",
       "      <th>Pot_max</th>\n",
       "      <th>Year</th>\n",
       "      <th>Month</th>\n",
       "      <th>Day</th>\n",
       "      <th>Period</th>\n",
       "      <th>Block</th>\n",
       "      <th>Price</th>\n",
       "      <th>Energy</th>\n",
       "    </tr>\n",
       "  </thead>\n",
       "  <tbody>\n",
       "    <tr>\n",
       "      <th>1001267</th>\n",
       "      <td>6496963</td>\n",
       "      <td>1</td>\n",
       "      <td>PALOS1</td>\n",
       "      <td>C.C. PALOS 1</td>\n",
       "      <td>VNO</td>\n",
       "      <td>394.1</td>\n",
       "      <td>2020</td>\n",
       "      <td>09</td>\n",
       "      <td>21</td>\n",
       "      <td>1</td>\n",
       "      <td>12</td>\n",
       "      <td>180.300</td>\n",
       "      <td>394.1</td>\n",
       "    </tr>\n",
       "    <tr>\n",
       "      <th>1001268</th>\n",
       "      <td>6496963</td>\n",
       "      <td>1</td>\n",
       "      <td>PALOS1</td>\n",
       "      <td>C.C. PALOS 1</td>\n",
       "      <td>VNO</td>\n",
       "      <td>394.1</td>\n",
       "      <td>2020</td>\n",
       "      <td>09</td>\n",
       "      <td>21</td>\n",
       "      <td>2</td>\n",
       "      <td>12</td>\n",
       "      <td>180.300</td>\n",
       "      <td>394.1</td>\n",
       "    </tr>\n",
       "    <tr>\n",
       "      <th>1001269</th>\n",
       "      <td>6496963</td>\n",
       "      <td>1</td>\n",
       "      <td>PALOS1</td>\n",
       "      <td>C.C. PALOS 1</td>\n",
       "      <td>VNO</td>\n",
       "      <td>394.1</td>\n",
       "      <td>2020</td>\n",
       "      <td>09</td>\n",
       "      <td>21</td>\n",
       "      <td>3</td>\n",
       "      <td>12</td>\n",
       "      <td>180.300</td>\n",
       "      <td>394.1</td>\n",
       "    </tr>\n",
       "    <tr>\n",
       "      <th>1001270</th>\n",
       "      <td>6496963</td>\n",
       "      <td>1</td>\n",
       "      <td>PALOS1</td>\n",
       "      <td>C.C. PALOS 1</td>\n",
       "      <td>VNO</td>\n",
       "      <td>394.1</td>\n",
       "      <td>2020</td>\n",
       "      <td>09</td>\n",
       "      <td>21</td>\n",
       "      <td>4</td>\n",
       "      <td>1</td>\n",
       "      <td>1.130</td>\n",
       "      <td>75.0</td>\n",
       "    </tr>\n",
       "    <tr>\n",
       "      <th>1001271</th>\n",
       "      <td>6496963</td>\n",
       "      <td>1</td>\n",
       "      <td>PALOS1</td>\n",
       "      <td>C.C. PALOS 1</td>\n",
       "      <td>VNO</td>\n",
       "      <td>394.1</td>\n",
       "      <td>2020</td>\n",
       "      <td>09</td>\n",
       "      <td>21</td>\n",
       "      <td>4</td>\n",
       "      <td>12</td>\n",
       "      <td>180.300</td>\n",
       "      <td>319.1</td>\n",
       "    </tr>\n",
       "  </tbody>\n",
       "</table>\n",
       "</div>"
      ],
      "text/plain": [
       "        Bid_Code Num_Version Bid_Unit                Unit_Description  \\\n",
       "1001267  6496963           1  PALOS1   C.C. PALOS 1                     \n",
       "1001268  6496963           1  PALOS1   C.C. PALOS 1                     \n",
       "1001269  6496963           1  PALOS1   C.C. PALOS 1                     \n",
       "1001270  6496963           1  PALOS1   C.C. PALOS 1                     \n",
       "1001271  6496963           1  PALOS1   C.C. PALOS 1                     \n",
       "\n",
       "        Sell_Buy  Pot_max  Year Month Day Period Block              Price  \\\n",
       "1001267      VNO    394.1  2020    09  21      1    12            180.300   \n",
       "1001268      VNO    394.1  2020    09  21      2    12            180.300   \n",
       "1001269      VNO    394.1  2020    09  21      3    12            180.300   \n",
       "1001270      VNO    394.1  2020    09  21      4     1              1.130   \n",
       "1001271      VNO    394.1  2020    09  21      4    12            180.300   \n",
       "\n",
       "          Energy  \n",
       "1001267    394.1  \n",
       "1001268    394.1  \n",
       "1001269    394.1  \n",
       "1001270     75.0  \n",
       "1001271    319.1  "
      ]
     },
     "execution_count": 116,
     "metadata": {},
     "output_type": "execute_result"
    }
   ],
   "source": [
    "df_merge_09_PALOS1_21_27.head()"
   ]
  },
  {
   "cell_type": "code",
   "execution_count": 117,
   "metadata": {
    "scrolled": false
   },
   "outputs": [
    {
     "data": {
      "text/html": [
       "<div>\n",
       "<style scoped>\n",
       "    .dataframe tbody tr th:only-of-type {\n",
       "        vertical-align: middle;\n",
       "    }\n",
       "\n",
       "    .dataframe tbody tr th {\n",
       "        vertical-align: top;\n",
       "    }\n",
       "\n",
       "    .dataframe thead th {\n",
       "        text-align: right;\n",
       "    }\n",
       "</style>\n",
       "<table border=\"1\" class=\"dataframe\">\n",
       "  <thead>\n",
       "    <tr style=\"text-align: right;\">\n",
       "      <th></th>\n",
       "      <th>Bid_Code</th>\n",
       "      <th>Num_Version</th>\n",
       "      <th>Bid_Unit</th>\n",
       "      <th>Unit_Description</th>\n",
       "      <th>Sell_Buy</th>\n",
       "      <th>Pot_max</th>\n",
       "      <th>Year</th>\n",
       "      <th>Month</th>\n",
       "      <th>Day</th>\n",
       "      <th>Period</th>\n",
       "      <th>Block</th>\n",
       "      <th>Price</th>\n",
       "      <th>Energy</th>\n",
       "    </tr>\n",
       "  </thead>\n",
       "  <tbody>\n",
       "    <tr>\n",
       "      <th>1293773</th>\n",
       "      <td>6505575</td>\n",
       "      <td>1</td>\n",
       "      <td>PALOS1</td>\n",
       "      <td>C.C. PALOS 1</td>\n",
       "      <td>VNO</td>\n",
       "      <td>394.1</td>\n",
       "      <td>2020</td>\n",
       "      <td>09</td>\n",
       "      <td>27</td>\n",
       "      <td>24</td>\n",
       "      <td>8</td>\n",
       "      <td>39.610</td>\n",
       "      <td>17.0</td>\n",
       "    </tr>\n",
       "    <tr>\n",
       "      <th>1293774</th>\n",
       "      <td>6505575</td>\n",
       "      <td>1</td>\n",
       "      <td>PALOS1</td>\n",
       "      <td>C.C. PALOS 1</td>\n",
       "      <td>VNO</td>\n",
       "      <td>394.1</td>\n",
       "      <td>2020</td>\n",
       "      <td>09</td>\n",
       "      <td>27</td>\n",
       "      <td>24</td>\n",
       "      <td>9</td>\n",
       "      <td>40.850</td>\n",
       "      <td>17.0</td>\n",
       "    </tr>\n",
       "    <tr>\n",
       "      <th>1293775</th>\n",
       "      <td>6505575</td>\n",
       "      <td>1</td>\n",
       "      <td>PALOS1</td>\n",
       "      <td>C.C. PALOS 1</td>\n",
       "      <td>VNO</td>\n",
       "      <td>394.1</td>\n",
       "      <td>2020</td>\n",
       "      <td>09</td>\n",
       "      <td>27</td>\n",
       "      <td>24</td>\n",
       "      <td>10</td>\n",
       "      <td>42.090</td>\n",
       "      <td>17.0</td>\n",
       "    </tr>\n",
       "    <tr>\n",
       "      <th>1293776</th>\n",
       "      <td>6505575</td>\n",
       "      <td>1</td>\n",
       "      <td>PALOS1</td>\n",
       "      <td>C.C. PALOS 1</td>\n",
       "      <td>VNO</td>\n",
       "      <td>394.1</td>\n",
       "      <td>2020</td>\n",
       "      <td>09</td>\n",
       "      <td>27</td>\n",
       "      <td>24</td>\n",
       "      <td>11</td>\n",
       "      <td>43.840</td>\n",
       "      <td>17.0</td>\n",
       "    </tr>\n",
       "    <tr>\n",
       "      <th>1293777</th>\n",
       "      <td>6505575</td>\n",
       "      <td>1</td>\n",
       "      <td>PALOS1</td>\n",
       "      <td>C.C. PALOS 1</td>\n",
       "      <td>VNO</td>\n",
       "      <td>394.1</td>\n",
       "      <td>2020</td>\n",
       "      <td>09</td>\n",
       "      <td>27</td>\n",
       "      <td>24</td>\n",
       "      <td>12</td>\n",
       "      <td>180.300</td>\n",
       "      <td>34.1</td>\n",
       "    </tr>\n",
       "  </tbody>\n",
       "</table>\n",
       "</div>"
      ],
      "text/plain": [
       "        Bid_Code Num_Version Bid_Unit                Unit_Description  \\\n",
       "1293773  6505575           1  PALOS1   C.C. PALOS 1                     \n",
       "1293774  6505575           1  PALOS1   C.C. PALOS 1                     \n",
       "1293775  6505575           1  PALOS1   C.C. PALOS 1                     \n",
       "1293776  6505575           1  PALOS1   C.C. PALOS 1                     \n",
       "1293777  6505575           1  PALOS1   C.C. PALOS 1                     \n",
       "\n",
       "        Sell_Buy  Pot_max  Year Month Day Period Block              Price  \\\n",
       "1293773      VNO    394.1  2020    09  27     24     8             39.610   \n",
       "1293774      VNO    394.1  2020    09  27     24     9             40.850   \n",
       "1293775      VNO    394.1  2020    09  27     24    10             42.090   \n",
       "1293776      VNO    394.1  2020    09  27     24    11             43.840   \n",
       "1293777      VNO    394.1  2020    09  27     24    12            180.300   \n",
       "\n",
       "          Energy  \n",
       "1293773     17.0  \n",
       "1293774     17.0  \n",
       "1293775     17.0  \n",
       "1293776     17.0  \n",
       "1293777     34.1  "
      ]
     },
     "execution_count": 117,
     "metadata": {},
     "output_type": "execute_result"
    }
   ],
   "source": [
    "df_merge_09_PALOS1_21_27.tail()"
   ]
  },
  {
   "cell_type": "code",
   "execution_count": 2,
   "metadata": {},
   "outputs": [],
   "source": [
    "def OMIE_merge_month(month, year):\n",
    "    \n",
    "    #En esta parte del código se leerán los archivos de CABECERA (CAB)\n",
    "    \n",
    "    #Path donde se encuentran los archivos CAB\n",
    "    cab_path = '/home/dsc/Documents/TFM/Data/OMIE/CAB/cab_' + year + month + '/'\n",
    "    cab_list = !ls -1 $cab_path\n",
    "    \n",
    "    #Se leen los archivos del mes elegido y se almacenan en cab_month como una lista de listas \n",
    "    #(num. archvos x num. lineas)\n",
    "    cab_month = []\n",
    "    for archive in cab_list:\n",
    "        with open(cab_path + archive, errors='replace') as f:\n",
    "            lines = f.readlines()\n",
    "            cab_month.append(lines)\n",
    "    \n",
    "    #Se agregan todas las lineas en una sola lista, incluyendo día, mes y año (leidos del nombre del fichero)\n",
    "    cab_total_month = []\n",
    "    for day in range(len(cab_month)):\n",
    "        for count in range(len(cab_month[day])):\n",
    "            cab_total_month.append((cab_month[day][count][0:7] +'^'+ \n",
    "                            cab_month[day][count][7:10] +'^'+ \n",
    "                            cab_month[day][count][10:17] +'^'+ \n",
    "                            cab_month[day][count][17:47] +'^'+ \n",
    "                            cab_month[day][count][47:50] +'^'+ \n",
    "                            cab_month[day][count][132:139] +'^'+ \n",
    "                            cab_list[day][4:8] + '^' + \n",
    "                            cab_list[day][8:10] + '^' + \n",
    "                            cab_list[day][10:12]).split('^'))\n",
    "            \n",
    "    #Las lista de lineas se transforma en un dataframe con sus nombres correspondientes\n",
    "    df_cab_month = pd.DataFrame(cab_total_month,\n",
    "                        columns=['Bid_Code', \n",
    "                                 'Num_Version', \n",
    "                                 'Bid_Unit', \n",
    "                                 'Unit_Description', \n",
    "                                 'Sell_Buy', \n",
    "                                 'Pot_max', \n",
    "                                 'Year',\n",
    "                                 'Month',\n",
    "                                 'Day'])\n",
    "    \n",
    "    #Ahora se hace un proceso similar para los archivos DETALLE (DET) \n",
    "    \n",
    "    #Path donde se encuentran los archivos DET\n",
    "    det_path = '/home/dsc/Documents/TFM/Data/OMIE/DET/det_' + year + month + '/'\n",
    "    det_list = !ls -1 $det_path\n",
    "    \n",
    "    #Se leen los archivos del mes elegido y se almacenan en det_month\n",
    "    det_month = []\n",
    "    for archive in det_list:\n",
    "        with open(det_path + archive) as f:\n",
    "            lines = f.readlines()\n",
    "            det_month.append(lines)  \n",
    "\n",
    "    #Se agregan todas las lineas en una sola lista, incluyendo día, mes y año (leidos del nombre del fichero)\n",
    "    det_total_month = []\n",
    "    for day in range(len(det_month)):\n",
    "        for count in range(len(det_month[day])):\n",
    "            det_total_month.append((det_month[day][count][0:7] +'^'+ \n",
    "                            det_month[day][count][7:10] +'^'+ \n",
    "                            det_month[day][count][10:12] +'^'+ \n",
    "                            det_month[day][count][12:14] +'^'+ \n",
    "                            det_month[day][count][31:48] +'^'+ \n",
    "                            det_month[day][count][48:55] +'^'+ \n",
    "                            det_list[day][4:8] + '^' + \n",
    "                            det_list[day][8:10] + '^' + \n",
    "                            det_list[day][10:12]).split('^'))\n",
    "    \n",
    "    #Las lista de lineas se transforma en un dataframe con sus nombres correspondientes\n",
    "    df_det_month = pd.DataFrame(det_total_month,\n",
    "                        columns=['Bid_Code', \n",
    "                                 'Num_Version', \n",
    "                                 'Period', \n",
    "                                 'Block', \n",
    "                                 'Price', \n",
    "                                 'Energy', \n",
    "                                 'Year',\n",
    "                                 'Month',\n",
    "                                 'Day'])\n",
    "    \n",
    "    #Se crea un df con los dos archivos \"lincados\"\n",
    "    df_merge_month = df_cab_month.merge(df_det_month,how = 'inner')\n",
    "    \n",
    "    return df_merge_month"
   ]
  },
  {
   "cell_type": "code",
   "execution_count": 3,
   "metadata": {},
   "outputs": [],
   "source": [
    "#Now we will create dataframes for one year (from november 2019 to november 2020).\n",
    "\n",
    "OMIE_112019 = OMIE_merge_month('11', '2019')"
   ]
  },
  {
   "cell_type": "code",
   "execution_count": 4,
   "metadata": {},
   "outputs": [],
   "source": [
    "OMIE_112019.to_csv('/home/dsc/Documents/TFM/Data/OMIE/CAB_DET/OMIE_112019.csv')"
   ]
  },
  {
   "cell_type": "code",
   "execution_count": 7,
   "metadata": {},
   "outputs": [],
   "source": [
    "OMIE_122019 = OMIE_merge_month('12', '2019')"
   ]
  },
  {
   "cell_type": "code",
   "execution_count": 8,
   "metadata": {},
   "outputs": [],
   "source": [
    "OMIE_122019.to_csv('/home/dsc/Documents/TFM/Data/OMIE/CAB_DET/OMIE_122019.csv')"
   ]
  },
  {
   "cell_type": "code",
   "execution_count": 5,
   "metadata": {},
   "outputs": [],
   "source": [
    "OMIE_012020 = OMIE_merge_month('01', '2020')"
   ]
  },
  {
   "cell_type": "code",
   "execution_count": 6,
   "metadata": {},
   "outputs": [],
   "source": [
    "OMIE_012020.to_csv('/home/dsc/Documents/TFM/Data/OMIE/CAB_DET/OMIE_012020.csv')"
   ]
  },
  {
   "cell_type": "code",
   "execution_count": 9,
   "metadata": {},
   "outputs": [],
   "source": [
    "OMIE_022020 = OMIE_merge_month('02', '2020')"
   ]
  },
  {
   "cell_type": "code",
   "execution_count": 10,
   "metadata": {},
   "outputs": [],
   "source": [
    "OMIE_022020.to_csv('/home/dsc/Documents/TFM/Data/OMIE/CAB_DET/OMIE_022020.csv')"
   ]
  },
  {
   "cell_type": "code",
   "execution_count": 3,
   "metadata": {},
   "outputs": [],
   "source": [
    "OMIE_032020 = OMIE_merge_month('03', '2020')"
   ]
  },
  {
   "cell_type": "code",
   "execution_count": 4,
   "metadata": {},
   "outputs": [],
   "source": [
    "OMIE_032020.to_csv('/home/dsc/Documents/TFM/Data/OMIE/CAB_DET/OMIE_032020.csv')"
   ]
  },
  {
   "cell_type": "code",
   "execution_count": 5,
   "metadata": {},
   "outputs": [],
   "source": [
    "OMIE_042020 = OMIE_merge_month('04', '2020')"
   ]
  },
  {
   "cell_type": "code",
   "execution_count": 6,
   "metadata": {},
   "outputs": [],
   "source": [
    "OMIE_042020.to_csv('/home/dsc/Documents/TFM/Data/OMIE/CAB_DET/OMIE_042020.csv')"
   ]
  },
  {
   "cell_type": "code",
   "execution_count": 7,
   "metadata": {},
   "outputs": [],
   "source": [
    "OMIE_052020 = OMIE_merge_month('05', '2020')"
   ]
  },
  {
   "cell_type": "code",
   "execution_count": 8,
   "metadata": {},
   "outputs": [],
   "source": [
    "OMIE_052020.to_csv('/home/dsc/Documents/TFM/Data/OMIE/CAB_DET/OMIE_052020.csv')"
   ]
  },
  {
   "cell_type": "code",
   "execution_count": 9,
   "metadata": {},
   "outputs": [],
   "source": [
    "OMIE_062020 = OMIE_merge_month('06', '2020')"
   ]
  },
  {
   "cell_type": "code",
   "execution_count": 10,
   "metadata": {},
   "outputs": [],
   "source": [
    "OMIE_062020.to_csv('/home/dsc/Documents/TFM/Data/OMIE/CAB_DET/OMIE_062020.csv')"
   ]
  },
  {
   "cell_type": "code",
   "execution_count": 3,
   "metadata": {},
   "outputs": [],
   "source": [
    "OMIE_072020 = OMIE_merge_month('07', '2020')"
   ]
  },
  {
   "cell_type": "code",
   "execution_count": 4,
   "metadata": {},
   "outputs": [],
   "source": [
    "OMIE_072020.to_csv('/home/dsc/Documents/TFM/Data/OMIE/CAB_DET/OMIE_072020.csv')"
   ]
  },
  {
   "cell_type": "code",
   "execution_count": 5,
   "metadata": {},
   "outputs": [],
   "source": [
    "OMIE_082020 = OMIE_merge_month('08', '2020')"
   ]
  },
  {
   "cell_type": "code",
   "execution_count": 6,
   "metadata": {},
   "outputs": [],
   "source": [
    "OMIE_082020.to_csv('/home/dsc/Documents/TFM/Data/OMIE/CAB_DET/OMIE_082020.csv')"
   ]
  },
  {
   "cell_type": "code",
   "execution_count": 7,
   "metadata": {},
   "outputs": [],
   "source": [
    "OMIE_092020 = OMIE_merge_month('09', '2020')"
   ]
  },
  {
   "cell_type": "code",
   "execution_count": 8,
   "metadata": {},
   "outputs": [],
   "source": [
    "OMIE_092020.to_csv('/home/dsc/Documents/TFM/Data/OMIE/CAB_DET/OMIE_092020.csv')"
   ]
  },
  {
   "cell_type": "code",
   "execution_count": 9,
   "metadata": {},
   "outputs": [],
   "source": [
    "OMIE_102020 = OMIE_merge_month('10', '2020')"
   ]
  },
  {
   "cell_type": "code",
   "execution_count": 10,
   "metadata": {},
   "outputs": [],
   "source": [
    "OMIE_102020.to_csv('/home/dsc/Documents/TFM/Data/OMIE/CAB_DET/OMIE_102020.csv')"
   ]
  },
  {
   "cell_type": "code",
   "execution_count": null,
   "metadata": {},
   "outputs": [],
   "source": []
  },
  {
   "cell_type": "code",
   "execution_count": 11,
   "metadata": {},
   "outputs": [],
   "source": [
    "OMIE_092020_PALOS1 = OMIE_092020[(OMIE_092020['Day'].isin(['21','22','23','24','25','26','27'])) \n",
    "                   & (OMIE_092020['Bid_Unit'].str.contains('PALOS1'))]"
   ]
  },
  {
   "cell_type": "code",
   "execution_count": 12,
   "metadata": {},
   "outputs": [
    {
     "data": {
      "text/plain": [
       "(1393, 13)"
      ]
     },
     "execution_count": 12,
     "metadata": {},
     "output_type": "execute_result"
    }
   ],
   "source": [
    "OMIE_092020_PALOS1.shape"
   ]
  },
  {
   "cell_type": "code",
   "execution_count": 13,
   "metadata": {},
   "outputs": [
    {
     "data": {
      "text/plain": [
       "(1540027, 13)"
      ]
     },
     "execution_count": 13,
     "metadata": {},
     "output_type": "execute_result"
    }
   ],
   "source": [
    "OMIE_082020.shape"
   ]
  },
  {
   "cell_type": "code",
   "execution_count": null,
   "metadata": {},
   "outputs": [],
   "source": []
  }
 ],
 "metadata": {
  "kernelspec": {
   "display_name": "Python 3",
   "language": "python",
   "name": "python3"
  },
  "language_info": {
   "codemirror_mode": {
    "name": "ipython",
    "version": 3
   },
   "file_extension": ".py",
   "mimetype": "text/x-python",
   "name": "python",
   "nbconvert_exporter": "python",
   "pygments_lexer": "ipython3",
   "version": "3.8.5"
  }
 },
 "nbformat": 4,
 "nbformat_minor": 4
}
