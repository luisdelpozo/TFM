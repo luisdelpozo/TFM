{
 "cells": [
  {
   "cell_type": "markdown",
   "metadata": {},
   "source": [
    "# TFM - MVP - CCC PALOS 1\n",
    "\n",
    "### BLOCK COMPLETION\n",
    "\n",
    "In this Notebook I will try to complete Blocks for every Period up to the maximum of 12."
   ]
  },
  {
   "cell_type": "code",
   "execution_count": 370,
   "metadata": {},
   "outputs": [],
   "source": [
    "import pandas as pd\n",
    "import numpy as np\n",
    "import matplotlib.pyplot as plt\n",
    "import seaborn as sns\n",
    "\n",
    "\n",
    "#df will be all data for unit PALOS1 from november 2019 to october 2020. \n",
    "#This data was previously created from OMIE web page\n",
    "\n",
    "df = pd.read_csv('/home/dsc/Documents/TFM/Data/OMIE/OMIE_PALOS1/OMIE_PALOS1.csv',index_col=0)"
   ]
  },
  {
   "cell_type": "code",
   "execution_count": 371,
   "metadata": {},
   "outputs": [
    {
     "data": {
      "text/html": [
       "<div>\n",
       "<style scoped>\n",
       "    .dataframe tbody tr th:only-of-type {\n",
       "        vertical-align: middle;\n",
       "    }\n",
       "\n",
       "    .dataframe tbody tr th {\n",
       "        vertical-align: top;\n",
       "    }\n",
       "\n",
       "    .dataframe thead th {\n",
       "        text-align: right;\n",
       "    }\n",
       "</style>\n",
       "<table border=\"1\" class=\"dataframe\">\n",
       "  <thead>\n",
       "    <tr style=\"text-align: right;\">\n",
       "      <th></th>\n",
       "      <th>Bid_Code</th>\n",
       "      <th>Num_Version</th>\n",
       "      <th>Bid_Unit</th>\n",
       "      <th>Unit_Description</th>\n",
       "      <th>Sell_Buy</th>\n",
       "      <th>Pot_max</th>\n",
       "      <th>Year</th>\n",
       "      <th>Month</th>\n",
       "      <th>Day</th>\n",
       "      <th>Period</th>\n",
       "      <th>Block</th>\n",
       "      <th>Price</th>\n",
       "      <th>Energy</th>\n",
       "    </tr>\n",
       "  </thead>\n",
       "  <tbody>\n",
       "    <tr>\n",
       "      <th>0</th>\n",
       "      <td>6128191</td>\n",
       "      <td>2</td>\n",
       "      <td>PALOS1</td>\n",
       "      <td>C.C. PALOS 1</td>\n",
       "      <td>VNO</td>\n",
       "      <td>394.10</td>\n",
       "      <td>2020</td>\n",
       "      <td>1</td>\n",
       "      <td>1</td>\n",
       "      <td>1</td>\n",
       "      <td>12</td>\n",
       "      <td>180.30</td>\n",
       "      <td>394.10</td>\n",
       "    </tr>\n",
       "    <tr>\n",
       "      <th>1</th>\n",
       "      <td>6128191</td>\n",
       "      <td>2</td>\n",
       "      <td>PALOS1</td>\n",
       "      <td>C.C. PALOS 1</td>\n",
       "      <td>VNO</td>\n",
       "      <td>394.10</td>\n",
       "      <td>2020</td>\n",
       "      <td>1</td>\n",
       "      <td>1</td>\n",
       "      <td>2</td>\n",
       "      <td>12</td>\n",
       "      <td>180.30</td>\n",
       "      <td>394.10</td>\n",
       "    </tr>\n",
       "    <tr>\n",
       "      <th>2</th>\n",
       "      <td>6128191</td>\n",
       "      <td>2</td>\n",
       "      <td>PALOS1</td>\n",
       "      <td>C.C. PALOS 1</td>\n",
       "      <td>VNO</td>\n",
       "      <td>394.10</td>\n",
       "      <td>2020</td>\n",
       "      <td>1</td>\n",
       "      <td>1</td>\n",
       "      <td>3</td>\n",
       "      <td>1</td>\n",
       "      <td>1.13</td>\n",
       "      <td>50.00</td>\n",
       "    </tr>\n",
       "    <tr>\n",
       "      <th>3</th>\n",
       "      <td>6128191</td>\n",
       "      <td>2</td>\n",
       "      <td>PALOS1</td>\n",
       "      <td>C.C. PALOS 1</td>\n",
       "      <td>VNO</td>\n",
       "      <td>394.10</td>\n",
       "      <td>2020</td>\n",
       "      <td>1</td>\n",
       "      <td>1</td>\n",
       "      <td>3</td>\n",
       "      <td>12</td>\n",
       "      <td>180.30</td>\n",
       "      <td>344.10</td>\n",
       "    </tr>\n",
       "    <tr>\n",
       "      <th>4</th>\n",
       "      <td>6128191</td>\n",
       "      <td>2</td>\n",
       "      <td>PALOS1</td>\n",
       "      <td>C.C. PALOS 1</td>\n",
       "      <td>VNO</td>\n",
       "      <td>394.10</td>\n",
       "      <td>2020</td>\n",
       "      <td>1</td>\n",
       "      <td>1</td>\n",
       "      <td>4</td>\n",
       "      <td>1</td>\n",
       "      <td>1.13</td>\n",
       "      <td>60.00</td>\n",
       "    </tr>\n",
       "  </tbody>\n",
       "</table>\n",
       "</div>"
      ],
      "text/plain": [
       "   Bid_Code  Num_Version Bid_Unit Unit_Description Sell_Buy  Pot_max  Year  \\\n",
       "0   6128191            2   PALOS1     C.C. PALOS 1      VNO   394.10  2020   \n",
       "1   6128191            2   PALOS1     C.C. PALOS 1      VNO   394.10  2020   \n",
       "2   6128191            2   PALOS1     C.C. PALOS 1      VNO   394.10  2020   \n",
       "3   6128191            2   PALOS1     C.C. PALOS 1      VNO   394.10  2020   \n",
       "4   6128191            2   PALOS1     C.C. PALOS 1      VNO   394.10  2020   \n",
       "\n",
       "   Month  Day  Period  Block  Price  Energy  \n",
       "0      1    1       1     12 180.30  394.10  \n",
       "1      1    1       2     12 180.30  394.10  \n",
       "2      1    1       3      1   1.13   50.00  \n",
       "3      1    1       3     12 180.30  344.10  \n",
       "4      1    1       4      1   1.13   60.00  "
      ]
     },
     "execution_count": 371,
     "metadata": {},
     "output_type": "execute_result"
    }
   ],
   "source": [
    "df.head()"
   ]
  },
  {
   "cell_type": "code",
   "execution_count": 372,
   "metadata": {},
   "outputs": [
    {
     "data": {
      "text/plain": [
       "(71112, 13)"
      ]
     },
     "execution_count": 372,
     "metadata": {},
     "output_type": "execute_result"
    }
   ],
   "source": [
    "df.shape"
   ]
  },
  {
   "cell_type": "code",
   "execution_count": 373,
   "metadata": {
    "scrolled": false
   },
   "outputs": [
    {
     "data": {
      "text/html": [
       "<div>\n",
       "<style scoped>\n",
       "    .dataframe tbody tr th:only-of-type {\n",
       "        vertical-align: middle;\n",
       "    }\n",
       "\n",
       "    .dataframe tbody tr th {\n",
       "        vertical-align: top;\n",
       "    }\n",
       "\n",
       "    .dataframe thead th {\n",
       "        text-align: right;\n",
       "    }\n",
       "</style>\n",
       "<table border=\"1\" class=\"dataframe\">\n",
       "  <thead>\n",
       "    <tr style=\"text-align: right;\">\n",
       "      <th></th>\n",
       "      <th>Bid_Code</th>\n",
       "      <th>Num_Version</th>\n",
       "      <th>Bid_Unit</th>\n",
       "      <th>Unit_Description</th>\n",
       "      <th>Sell_Buy</th>\n",
       "      <th>Pot_max</th>\n",
       "      <th>Year</th>\n",
       "      <th>Month</th>\n",
       "      <th>Day</th>\n",
       "      <th>Period</th>\n",
       "      <th>Block</th>\n",
       "      <th>Price</th>\n",
       "      <th>Energy</th>\n",
       "    </tr>\n",
       "  </thead>\n",
       "  <tbody>\n",
       "    <tr>\n",
       "      <th>71107</th>\n",
       "      <td>6126741</td>\n",
       "      <td>2</td>\n",
       "      <td>PALOS1</td>\n",
       "      <td>C.C. PALOS 1</td>\n",
       "      <td>VNO</td>\n",
       "      <td>394.10</td>\n",
       "      <td>2019</td>\n",
       "      <td>12</td>\n",
       "      <td>31</td>\n",
       "      <td>24</td>\n",
       "      <td>8</td>\n",
       "      <td>43.22</td>\n",
       "      <td>17.00</td>\n",
       "    </tr>\n",
       "    <tr>\n",
       "      <th>71108</th>\n",
       "      <td>6126741</td>\n",
       "      <td>2</td>\n",
       "      <td>PALOS1</td>\n",
       "      <td>C.C. PALOS 1</td>\n",
       "      <td>VNO</td>\n",
       "      <td>394.10</td>\n",
       "      <td>2019</td>\n",
       "      <td>12</td>\n",
       "      <td>31</td>\n",
       "      <td>24</td>\n",
       "      <td>9</td>\n",
       "      <td>44.26</td>\n",
       "      <td>17.00</td>\n",
       "    </tr>\n",
       "    <tr>\n",
       "      <th>71109</th>\n",
       "      <td>6126741</td>\n",
       "      <td>2</td>\n",
       "      <td>PALOS1</td>\n",
       "      <td>C.C. PALOS 1</td>\n",
       "      <td>VNO</td>\n",
       "      <td>394.10</td>\n",
       "      <td>2019</td>\n",
       "      <td>12</td>\n",
       "      <td>31</td>\n",
       "      <td>24</td>\n",
       "      <td>10</td>\n",
       "      <td>45.31</td>\n",
       "      <td>17.00</td>\n",
       "    </tr>\n",
       "    <tr>\n",
       "      <th>71110</th>\n",
       "      <td>6126741</td>\n",
       "      <td>2</td>\n",
       "      <td>PALOS1</td>\n",
       "      <td>C.C. PALOS 1</td>\n",
       "      <td>VNO</td>\n",
       "      <td>394.10</td>\n",
       "      <td>2019</td>\n",
       "      <td>12</td>\n",
       "      <td>31</td>\n",
       "      <td>24</td>\n",
       "      <td>11</td>\n",
       "      <td>46.35</td>\n",
       "      <td>17.00</td>\n",
       "    </tr>\n",
       "    <tr>\n",
       "      <th>71111</th>\n",
       "      <td>6126741</td>\n",
       "      <td>2</td>\n",
       "      <td>PALOS1</td>\n",
       "      <td>C.C. PALOS 1</td>\n",
       "      <td>VNO</td>\n",
       "      <td>394.10</td>\n",
       "      <td>2019</td>\n",
       "      <td>12</td>\n",
       "      <td>31</td>\n",
       "      <td>24</td>\n",
       "      <td>12</td>\n",
       "      <td>180.30</td>\n",
       "      <td>34.10</td>\n",
       "    </tr>\n",
       "  </tbody>\n",
       "</table>\n",
       "</div>"
      ],
      "text/plain": [
       "       Bid_Code  Num_Version Bid_Unit Unit_Description Sell_Buy  Pot_max  \\\n",
       "71107   6126741            2   PALOS1     C.C. PALOS 1      VNO   394.10   \n",
       "71108   6126741            2   PALOS1     C.C. PALOS 1      VNO   394.10   \n",
       "71109   6126741            2   PALOS1     C.C. PALOS 1      VNO   394.10   \n",
       "71110   6126741            2   PALOS1     C.C. PALOS 1      VNO   394.10   \n",
       "71111   6126741            2   PALOS1     C.C. PALOS 1      VNO   394.10   \n",
       "\n",
       "       Year  Month  Day  Period  Block  Price  Energy  \n",
       "71107  2019     12   31      24      8  43.22   17.00  \n",
       "71108  2019     12   31      24      9  44.26   17.00  \n",
       "71109  2019     12   31      24     10  45.31   17.00  \n",
       "71110  2019     12   31      24     11  46.35   17.00  \n",
       "71111  2019     12   31      24     12 180.30   34.10  "
      ]
     },
     "execution_count": 373,
     "metadata": {},
     "output_type": "execute_result"
    }
   ],
   "source": [
    "df.tail()"
   ]
  },
  {
   "cell_type": "code",
   "execution_count": 374,
   "metadata": {},
   "outputs": [
    {
     "data": {
      "text/plain": [
       "71112"
      ]
     },
     "execution_count": 374,
     "metadata": {},
     "output_type": "execute_result"
    }
   ],
   "source": [
    "len(df)"
   ]
  },
  {
   "cell_type": "code",
   "execution_count": 375,
   "metadata": {
    "scrolled": false
   },
   "outputs": [
    {
     "data": {
      "text/plain": [
       "Index(['Bid_Code', 'Num_Version', 'Bid_Unit', 'Unit_Description', 'Sell_Buy',\n",
       "       'Pot_max', 'Year', 'Month', 'Day', 'Period', 'Block', 'Price',\n",
       "       'Energy'],\n",
       "      dtype='object')"
      ]
     },
     "execution_count": 375,
     "metadata": {},
     "output_type": "execute_result"
    }
   ],
   "source": [
    "df.columns"
   ]
  },
  {
   "cell_type": "code",
   "execution_count": 376,
   "metadata": {},
   "outputs": [],
   "source": [
    "#pd.reset_option('precision')\n",
    "pd.options.display.float_format = '{:,.2f}'.format"
   ]
  },
  {
   "cell_type": "code",
   "execution_count": 377,
   "metadata": {
    "scrolled": true
   },
   "outputs": [
    {
     "data": {
      "text/html": [
       "<div>\n",
       "<style scoped>\n",
       "    .dataframe tbody tr th:only-of-type {\n",
       "        vertical-align: middle;\n",
       "    }\n",
       "\n",
       "    .dataframe tbody tr th {\n",
       "        vertical-align: top;\n",
       "    }\n",
       "\n",
       "    .dataframe thead th {\n",
       "        text-align: right;\n",
       "    }\n",
       "</style>\n",
       "<table border=\"1\" class=\"dataframe\">\n",
       "  <thead>\n",
       "    <tr style=\"text-align: right;\">\n",
       "      <th></th>\n",
       "      <th>Bid_Code</th>\n",
       "      <th>Num_Version</th>\n",
       "      <th>Pot_max</th>\n",
       "      <th>Year</th>\n",
       "      <th>Month</th>\n",
       "      <th>Day</th>\n",
       "      <th>Period</th>\n",
       "      <th>Block</th>\n",
       "      <th>Price</th>\n",
       "      <th>Energy</th>\n",
       "    </tr>\n",
       "  </thead>\n",
       "  <tbody>\n",
       "    <tr>\n",
       "      <th>count</th>\n",
       "      <td>71,112.00</td>\n",
       "      <td>71,112.00</td>\n",
       "      <td>71,112.00</td>\n",
       "      <td>71,112.00</td>\n",
       "      <td>71,112.00</td>\n",
       "      <td>71,112.00</td>\n",
       "      <td>71,112.00</td>\n",
       "      <td>71,112.00</td>\n",
       "      <td>71,112.00</td>\n",
       "      <td>71,112.00</td>\n",
       "    </tr>\n",
       "    <tr>\n",
       "      <th>mean</th>\n",
       "      <td>6,303,430.78</td>\n",
       "      <td>1.78</td>\n",
       "      <td>394.10</td>\n",
       "      <td>2,019.86</td>\n",
       "      <td>6.36</td>\n",
       "      <td>15.93</td>\n",
       "      <td>15.88</td>\n",
       "      <td>6.52</td>\n",
       "      <td>52.56</td>\n",
       "      <td>47.00</td>\n",
       "    </tr>\n",
       "    <tr>\n",
       "      <th>std</th>\n",
       "      <td>143,155.02</td>\n",
       "      <td>0.87</td>\n",
       "      <td>0.00</td>\n",
       "      <td>0.35</td>\n",
       "      <td>3.43</td>\n",
       "      <td>8.90</td>\n",
       "      <td>5.27</td>\n",
       "      <td>3.64</td>\n",
       "      <td>48.74</td>\n",
       "      <td>75.62</td>\n",
       "    </tr>\n",
       "    <tr>\n",
       "      <th>min</th>\n",
       "      <td>6,049,903.00</td>\n",
       "      <td>1.00</td>\n",
       "      <td>394.10</td>\n",
       "      <td>2,019.00</td>\n",
       "      <td>1.00</td>\n",
       "      <td>1.00</td>\n",
       "      <td>1.00</td>\n",
       "      <td>1.00</td>\n",
       "      <td>1.13</td>\n",
       "      <td>3.00</td>\n",
       "    </tr>\n",
       "    <tr>\n",
       "      <th>25%</th>\n",
       "      <td>6,176,254.00</td>\n",
       "      <td>1.00</td>\n",
       "      <td>394.10</td>\n",
       "      <td>2,020.00</td>\n",
       "      <td>3.00</td>\n",
       "      <td>8.00</td>\n",
       "      <td>12.00</td>\n",
       "      <td>3.00</td>\n",
       "      <td>35.40</td>\n",
       "      <td>17.00</td>\n",
       "    </tr>\n",
       "    <tr>\n",
       "      <th>50%</th>\n",
       "      <td>6,300,456.00</td>\n",
       "      <td>2.00</td>\n",
       "      <td>394.10</td>\n",
       "      <td>2,020.00</td>\n",
       "      <td>6.00</td>\n",
       "      <td>16.00</td>\n",
       "      <td>16.00</td>\n",
       "      <td>6.00</td>\n",
       "      <td>40.72</td>\n",
       "      <td>17.00</td>\n",
       "    </tr>\n",
       "    <tr>\n",
       "      <th>75%</th>\n",
       "      <td>6,427,697.00</td>\n",
       "      <td>2.00</td>\n",
       "      <td>394.10</td>\n",
       "      <td>2,020.00</td>\n",
       "      <td>9.00</td>\n",
       "      <td>24.00</td>\n",
       "      <td>20.00</td>\n",
       "      <td>10.00</td>\n",
       "      <td>45.42</td>\n",
       "      <td>17.00</td>\n",
       "    </tr>\n",
       "    <tr>\n",
       "      <th>max</th>\n",
       "      <td>6,555,573.00</td>\n",
       "      <td>5.00</td>\n",
       "      <td>394.10</td>\n",
       "      <td>2,020.00</td>\n",
       "      <td>12.00</td>\n",
       "      <td>31.00</td>\n",
       "      <td>25.00</td>\n",
       "      <td>12.00</td>\n",
       "      <td>180.30</td>\n",
       "      <td>394.10</td>\n",
       "    </tr>\n",
       "  </tbody>\n",
       "</table>\n",
       "</div>"
      ],
      "text/plain": [
       "          Bid_Code  Num_Version   Pot_max      Year     Month       Day  \\\n",
       "count    71,112.00    71,112.00 71,112.00 71,112.00 71,112.00 71,112.00   \n",
       "mean  6,303,430.78         1.78    394.10  2,019.86      6.36     15.93   \n",
       "std     143,155.02         0.87      0.00      0.35      3.43      8.90   \n",
       "min   6,049,903.00         1.00    394.10  2,019.00      1.00      1.00   \n",
       "25%   6,176,254.00         1.00    394.10  2,020.00      3.00      8.00   \n",
       "50%   6,300,456.00         2.00    394.10  2,020.00      6.00     16.00   \n",
       "75%   6,427,697.00         2.00    394.10  2,020.00      9.00     24.00   \n",
       "max   6,555,573.00         5.00    394.10  2,020.00     12.00     31.00   \n",
       "\n",
       "         Period     Block     Price    Energy  \n",
       "count 71,112.00 71,112.00 71,112.00 71,112.00  \n",
       "mean      15.88      6.52     52.56     47.00  \n",
       "std        5.27      3.64     48.74     75.62  \n",
       "min        1.00      1.00      1.13      3.00  \n",
       "25%       12.00      3.00     35.40     17.00  \n",
       "50%       16.00      6.00     40.72     17.00  \n",
       "75%       20.00     10.00     45.42     17.00  \n",
       "max       25.00     12.00    180.30    394.10  "
      ]
     },
     "execution_count": 377,
     "metadata": {},
     "output_type": "execute_result"
    }
   ],
   "source": [
    "df.describe()"
   ]
  },
  {
   "cell_type": "code",
   "execution_count": 378,
   "metadata": {},
   "outputs": [
    {
     "name": "stdout",
     "output_type": "stream",
     "text": [
      "No NaN in df\n"
     ]
    }
   ],
   "source": [
    "#Searching for NaN\n",
    "\n",
    "if df.shape[0] == df.dropna().shape[0]:\n",
    "    print('No NaN in df')"
   ]
  },
  {
   "cell_type": "code",
   "execution_count": 379,
   "metadata": {},
   "outputs": [
    {
     "data": {
      "text/plain": [
       "Bid_Code              int64\n",
       "Num_Version           int64\n",
       "Bid_Unit             object\n",
       "Unit_Description     object\n",
       "Sell_Buy             object\n",
       "Pot_max             float64\n",
       "Year                  int64\n",
       "Month                 int64\n",
       "Day                   int64\n",
       "Period                int64\n",
       "Block                 int64\n",
       "Price               float64\n",
       "Energy              float64\n",
       "dtype: object"
      ]
     },
     "execution_count": 379,
     "metadata": {},
     "output_type": "execute_result"
    }
   ],
   "source": [
    "df.dtypes"
   ]
  },
  {
   "cell_type": "code",
   "execution_count": 380,
   "metadata": {},
   "outputs": [],
   "source": [
    "#Picking only the information that will be needed for ploting the bid curve.\n",
    "\n",
    "df_curve = df[['Pot_max', 'Year', 'Month', 'Day', 'Period', 'Block', 'Price',\n",
    "       'Energy']]"
   ]
  },
  {
   "cell_type": "code",
   "execution_count": 381,
   "metadata": {},
   "outputs": [
    {
     "data": {
      "text/html": [
       "<div>\n",
       "<style scoped>\n",
       "    .dataframe tbody tr th:only-of-type {\n",
       "        vertical-align: middle;\n",
       "    }\n",
       "\n",
       "    .dataframe tbody tr th {\n",
       "        vertical-align: top;\n",
       "    }\n",
       "\n",
       "    .dataframe thead th {\n",
       "        text-align: right;\n",
       "    }\n",
       "</style>\n",
       "<table border=\"1\" class=\"dataframe\">\n",
       "  <thead>\n",
       "    <tr style=\"text-align: right;\">\n",
       "      <th></th>\n",
       "      <th>Pot_max</th>\n",
       "      <th>Year</th>\n",
       "      <th>Month</th>\n",
       "      <th>Day</th>\n",
       "      <th>Period</th>\n",
       "      <th>Block</th>\n",
       "      <th>Price</th>\n",
       "      <th>Energy</th>\n",
       "    </tr>\n",
       "  </thead>\n",
       "  <tbody>\n",
       "    <tr>\n",
       "      <th>0</th>\n",
       "      <td>394.10</td>\n",
       "      <td>2020</td>\n",
       "      <td>1</td>\n",
       "      <td>1</td>\n",
       "      <td>1</td>\n",
       "      <td>12</td>\n",
       "      <td>180.30</td>\n",
       "      <td>394.10</td>\n",
       "    </tr>\n",
       "    <tr>\n",
       "      <th>1</th>\n",
       "      <td>394.10</td>\n",
       "      <td>2020</td>\n",
       "      <td>1</td>\n",
       "      <td>1</td>\n",
       "      <td>2</td>\n",
       "      <td>12</td>\n",
       "      <td>180.30</td>\n",
       "      <td>394.10</td>\n",
       "    </tr>\n",
       "    <tr>\n",
       "      <th>2</th>\n",
       "      <td>394.10</td>\n",
       "      <td>2020</td>\n",
       "      <td>1</td>\n",
       "      <td>1</td>\n",
       "      <td>3</td>\n",
       "      <td>1</td>\n",
       "      <td>1.13</td>\n",
       "      <td>50.00</td>\n",
       "    </tr>\n",
       "    <tr>\n",
       "      <th>3</th>\n",
       "      <td>394.10</td>\n",
       "      <td>2020</td>\n",
       "      <td>1</td>\n",
       "      <td>1</td>\n",
       "      <td>3</td>\n",
       "      <td>12</td>\n",
       "      <td>180.30</td>\n",
       "      <td>344.10</td>\n",
       "    </tr>\n",
       "    <tr>\n",
       "      <th>4</th>\n",
       "      <td>394.10</td>\n",
       "      <td>2020</td>\n",
       "      <td>1</td>\n",
       "      <td>1</td>\n",
       "      <td>4</td>\n",
       "      <td>1</td>\n",
       "      <td>1.13</td>\n",
       "      <td>60.00</td>\n",
       "    </tr>\n",
       "  </tbody>\n",
       "</table>\n",
       "</div>"
      ],
      "text/plain": [
       "   Pot_max  Year  Month  Day  Period  Block  Price  Energy\n",
       "0   394.10  2020      1    1       1     12 180.30  394.10\n",
       "1   394.10  2020      1    1       2     12 180.30  394.10\n",
       "2   394.10  2020      1    1       3      1   1.13   50.00\n",
       "3   394.10  2020      1    1       3     12 180.30  344.10\n",
       "4   394.10  2020      1    1       4      1   1.13   60.00"
      ]
     },
     "execution_count": 381,
     "metadata": {},
     "output_type": "execute_result"
    }
   ],
   "source": [
    "df_curve.head()"
   ]
  },
  {
   "cell_type": "code",
   "execution_count": 382,
   "metadata": {},
   "outputs": [
    {
     "name": "stderr",
     "output_type": "stream",
     "text": [
      "<ipython-input-382-749467c0d990>:5: SettingWithCopyWarning: \n",
      "A value is trying to be set on a copy of a slice from a DataFrame.\n",
      "Try using .loc[row_indexer,col_indexer] = value instead\n",
      "\n",
      "See the caveats in the documentation: https://pandas.pydata.org/pandas-docs/stable/user_guide/indexing.html#returning-a-view-versus-a-copy\n",
      "  df_curve['Date']= pd.to_datetime(df_curve[['Year', 'Month', 'Day']])\n"
     ]
    }
   ],
   "source": [
    "#Including the week day per each day.\n",
    "\n",
    "import datetime as dt\n",
    "\n",
    "df_curve['Date']= pd.to_datetime(df_curve[['Year', 'Month', 'Day']])"
   ]
  },
  {
   "cell_type": "code",
   "execution_count": 383,
   "metadata": {
    "scrolled": true
   },
   "outputs": [
    {
     "data": {
      "text/html": [
       "<div>\n",
       "<style scoped>\n",
       "    .dataframe tbody tr th:only-of-type {\n",
       "        vertical-align: middle;\n",
       "    }\n",
       "\n",
       "    .dataframe tbody tr th {\n",
       "        vertical-align: top;\n",
       "    }\n",
       "\n",
       "    .dataframe thead th {\n",
       "        text-align: right;\n",
       "    }\n",
       "</style>\n",
       "<table border=\"1\" class=\"dataframe\">\n",
       "  <thead>\n",
       "    <tr style=\"text-align: right;\">\n",
       "      <th></th>\n",
       "      <th>Pot_max</th>\n",
       "      <th>Year</th>\n",
       "      <th>Month</th>\n",
       "      <th>Day</th>\n",
       "      <th>Period</th>\n",
       "      <th>Block</th>\n",
       "      <th>Price</th>\n",
       "      <th>Energy</th>\n",
       "      <th>Date</th>\n",
       "    </tr>\n",
       "  </thead>\n",
       "  <tbody>\n",
       "    <tr>\n",
       "      <th>0</th>\n",
       "      <td>394.10</td>\n",
       "      <td>2020</td>\n",
       "      <td>1</td>\n",
       "      <td>1</td>\n",
       "      <td>1</td>\n",
       "      <td>12</td>\n",
       "      <td>180.30</td>\n",
       "      <td>394.10</td>\n",
       "      <td>2020-01-01</td>\n",
       "    </tr>\n",
       "    <tr>\n",
       "      <th>1</th>\n",
       "      <td>394.10</td>\n",
       "      <td>2020</td>\n",
       "      <td>1</td>\n",
       "      <td>1</td>\n",
       "      <td>2</td>\n",
       "      <td>12</td>\n",
       "      <td>180.30</td>\n",
       "      <td>394.10</td>\n",
       "      <td>2020-01-01</td>\n",
       "    </tr>\n",
       "    <tr>\n",
       "      <th>2</th>\n",
       "      <td>394.10</td>\n",
       "      <td>2020</td>\n",
       "      <td>1</td>\n",
       "      <td>1</td>\n",
       "      <td>3</td>\n",
       "      <td>1</td>\n",
       "      <td>1.13</td>\n",
       "      <td>50.00</td>\n",
       "      <td>2020-01-01</td>\n",
       "    </tr>\n",
       "    <tr>\n",
       "      <th>3</th>\n",
       "      <td>394.10</td>\n",
       "      <td>2020</td>\n",
       "      <td>1</td>\n",
       "      <td>1</td>\n",
       "      <td>3</td>\n",
       "      <td>12</td>\n",
       "      <td>180.30</td>\n",
       "      <td>344.10</td>\n",
       "      <td>2020-01-01</td>\n",
       "    </tr>\n",
       "    <tr>\n",
       "      <th>4</th>\n",
       "      <td>394.10</td>\n",
       "      <td>2020</td>\n",
       "      <td>1</td>\n",
       "      <td>1</td>\n",
       "      <td>4</td>\n",
       "      <td>1</td>\n",
       "      <td>1.13</td>\n",
       "      <td>60.00</td>\n",
       "      <td>2020-01-01</td>\n",
       "    </tr>\n",
       "  </tbody>\n",
       "</table>\n",
       "</div>"
      ],
      "text/plain": [
       "   Pot_max  Year  Month  Day  Period  Block  Price  Energy       Date\n",
       "0   394.10  2020      1    1       1     12 180.30  394.10 2020-01-01\n",
       "1   394.10  2020      1    1       2     12 180.30  394.10 2020-01-01\n",
       "2   394.10  2020      1    1       3      1   1.13   50.00 2020-01-01\n",
       "3   394.10  2020      1    1       3     12 180.30  344.10 2020-01-01\n",
       "4   394.10  2020      1    1       4      1   1.13   60.00 2020-01-01"
      ]
     },
     "execution_count": 383,
     "metadata": {},
     "output_type": "execute_result"
    }
   ],
   "source": [
    "df_curve.head()"
   ]
  },
  {
   "cell_type": "code",
   "execution_count": null,
   "metadata": {},
   "outputs": [],
   "source": []
  },
  {
   "cell_type": "code",
   "execution_count": 384,
   "metadata": {
    "scrolled": true
   },
   "outputs": [
    {
     "name": "stderr",
     "output_type": "stream",
     "text": [
      "<ipython-input-384-89fa5e36ee21>:1: SettingWithCopyWarning: \n",
      "A value is trying to be set on a copy of a slice from a DataFrame.\n",
      "Try using .loc[row_indexer,col_indexer] = value instead\n",
      "\n",
      "See the caveats in the documentation: https://pandas.pydata.org/pandas-docs/stable/user_guide/indexing.html#returning-a-view-versus-a-copy\n",
      "  df_curve['Weekday'] = df_curve['Date'].apply(lambda x: x.weekday())\n"
     ]
    }
   ],
   "source": [
    "df_curve['Weekday'] = df_curve['Date'].apply(lambda x: x.weekday())\n"
   ]
  },
  {
   "cell_type": "code",
   "execution_count": 385,
   "metadata": {},
   "outputs": [
    {
     "data": {
      "text/html": [
       "<div>\n",
       "<style scoped>\n",
       "    .dataframe tbody tr th:only-of-type {\n",
       "        vertical-align: middle;\n",
       "    }\n",
       "\n",
       "    .dataframe tbody tr th {\n",
       "        vertical-align: top;\n",
       "    }\n",
       "\n",
       "    .dataframe thead th {\n",
       "        text-align: right;\n",
       "    }\n",
       "</style>\n",
       "<table border=\"1\" class=\"dataframe\">\n",
       "  <thead>\n",
       "    <tr style=\"text-align: right;\">\n",
       "      <th></th>\n",
       "      <th>Pot_max</th>\n",
       "      <th>Year</th>\n",
       "      <th>Month</th>\n",
       "      <th>Day</th>\n",
       "      <th>Period</th>\n",
       "      <th>Block</th>\n",
       "      <th>Price</th>\n",
       "      <th>Energy</th>\n",
       "      <th>Date</th>\n",
       "      <th>Weekday</th>\n",
       "    </tr>\n",
       "  </thead>\n",
       "  <tbody>\n",
       "    <tr>\n",
       "      <th>0</th>\n",
       "      <td>394.10</td>\n",
       "      <td>2020</td>\n",
       "      <td>1</td>\n",
       "      <td>1</td>\n",
       "      <td>1</td>\n",
       "      <td>12</td>\n",
       "      <td>180.30</td>\n",
       "      <td>394.10</td>\n",
       "      <td>2020-01-01</td>\n",
       "      <td>2</td>\n",
       "    </tr>\n",
       "    <tr>\n",
       "      <th>1</th>\n",
       "      <td>394.10</td>\n",
       "      <td>2020</td>\n",
       "      <td>1</td>\n",
       "      <td>1</td>\n",
       "      <td>2</td>\n",
       "      <td>12</td>\n",
       "      <td>180.30</td>\n",
       "      <td>394.10</td>\n",
       "      <td>2020-01-01</td>\n",
       "      <td>2</td>\n",
       "    </tr>\n",
       "    <tr>\n",
       "      <th>2</th>\n",
       "      <td>394.10</td>\n",
       "      <td>2020</td>\n",
       "      <td>1</td>\n",
       "      <td>1</td>\n",
       "      <td>3</td>\n",
       "      <td>1</td>\n",
       "      <td>1.13</td>\n",
       "      <td>50.00</td>\n",
       "      <td>2020-01-01</td>\n",
       "      <td>2</td>\n",
       "    </tr>\n",
       "    <tr>\n",
       "      <th>3</th>\n",
       "      <td>394.10</td>\n",
       "      <td>2020</td>\n",
       "      <td>1</td>\n",
       "      <td>1</td>\n",
       "      <td>3</td>\n",
       "      <td>12</td>\n",
       "      <td>180.30</td>\n",
       "      <td>344.10</td>\n",
       "      <td>2020-01-01</td>\n",
       "      <td>2</td>\n",
       "    </tr>\n",
       "    <tr>\n",
       "      <th>4</th>\n",
       "      <td>394.10</td>\n",
       "      <td>2020</td>\n",
       "      <td>1</td>\n",
       "      <td>1</td>\n",
       "      <td>4</td>\n",
       "      <td>1</td>\n",
       "      <td>1.13</td>\n",
       "      <td>60.00</td>\n",
       "      <td>2020-01-01</td>\n",
       "      <td>2</td>\n",
       "    </tr>\n",
       "  </tbody>\n",
       "</table>\n",
       "</div>"
      ],
      "text/plain": [
       "   Pot_max  Year  Month  Day  Period  Block  Price  Energy       Date  Weekday\n",
       "0   394.10  2020      1    1       1     12 180.30  394.10 2020-01-01        2\n",
       "1   394.10  2020      1    1       2     12 180.30  394.10 2020-01-01        2\n",
       "2   394.10  2020      1    1       3      1   1.13   50.00 2020-01-01        2\n",
       "3   394.10  2020      1    1       3     12 180.30  344.10 2020-01-01        2\n",
       "4   394.10  2020      1    1       4      1   1.13   60.00 2020-01-01        2"
      ]
     },
     "execution_count": 385,
     "metadata": {},
     "output_type": "execute_result"
    }
   ],
   "source": [
    "df_curve.head()"
   ]
  },
  {
   "cell_type": "code",
   "execution_count": 386,
   "metadata": {},
   "outputs": [
    {
     "name": "stderr",
     "output_type": "stream",
     "text": [
      "<ipython-input-386-ad44a60512b3>:3: SettingWithCopyWarning: \n",
      "A value is trying to be set on a copy of a slice from a DataFrame.\n",
      "Try using .loc[row_indexer,col_indexer] = value instead\n",
      "\n",
      "See the caveats in the documentation: https://pandas.pydata.org/pandas-docs/stable/user_guide/indexing.html#returning-a-view-versus-a-copy\n",
      "  df_curve['Weekday'] = df_curve['Weekday'].apply(lambda x: weekDays[x])\n"
     ]
    }
   ],
   "source": [
    "weekDays = (\"Monday\",\"Tuesday\",\"Wednesday\",\"Thursday\",\"Friday\",\"Saturday\",\"Sunday\")\n",
    "\n",
    "df_curve['Weekday'] = df_curve['Weekday'].apply(lambda x: weekDays[x])"
   ]
  },
  {
   "cell_type": "code",
   "execution_count": 387,
   "metadata": {},
   "outputs": [
    {
     "data": {
      "text/html": [
       "<div>\n",
       "<style scoped>\n",
       "    .dataframe tbody tr th:only-of-type {\n",
       "        vertical-align: middle;\n",
       "    }\n",
       "\n",
       "    .dataframe tbody tr th {\n",
       "        vertical-align: top;\n",
       "    }\n",
       "\n",
       "    .dataframe thead th {\n",
       "        text-align: right;\n",
       "    }\n",
       "</style>\n",
       "<table border=\"1\" class=\"dataframe\">\n",
       "  <thead>\n",
       "    <tr style=\"text-align: right;\">\n",
       "      <th></th>\n",
       "      <th>Pot_max</th>\n",
       "      <th>Year</th>\n",
       "      <th>Month</th>\n",
       "      <th>Day</th>\n",
       "      <th>Period</th>\n",
       "      <th>Block</th>\n",
       "      <th>Price</th>\n",
       "      <th>Energy</th>\n",
       "      <th>Date</th>\n",
       "      <th>Weekday</th>\n",
       "    </tr>\n",
       "  </thead>\n",
       "  <tbody>\n",
       "    <tr>\n",
       "      <th>0</th>\n",
       "      <td>394.10</td>\n",
       "      <td>2020</td>\n",
       "      <td>1</td>\n",
       "      <td>1</td>\n",
       "      <td>1</td>\n",
       "      <td>12</td>\n",
       "      <td>180.30</td>\n",
       "      <td>394.10</td>\n",
       "      <td>2020-01-01</td>\n",
       "      <td>Wednesday</td>\n",
       "    </tr>\n",
       "    <tr>\n",
       "      <th>1</th>\n",
       "      <td>394.10</td>\n",
       "      <td>2020</td>\n",
       "      <td>1</td>\n",
       "      <td>1</td>\n",
       "      <td>2</td>\n",
       "      <td>12</td>\n",
       "      <td>180.30</td>\n",
       "      <td>394.10</td>\n",
       "      <td>2020-01-01</td>\n",
       "      <td>Wednesday</td>\n",
       "    </tr>\n",
       "    <tr>\n",
       "      <th>2</th>\n",
       "      <td>394.10</td>\n",
       "      <td>2020</td>\n",
       "      <td>1</td>\n",
       "      <td>1</td>\n",
       "      <td>3</td>\n",
       "      <td>1</td>\n",
       "      <td>1.13</td>\n",
       "      <td>50.00</td>\n",
       "      <td>2020-01-01</td>\n",
       "      <td>Wednesday</td>\n",
       "    </tr>\n",
       "    <tr>\n",
       "      <th>3</th>\n",
       "      <td>394.10</td>\n",
       "      <td>2020</td>\n",
       "      <td>1</td>\n",
       "      <td>1</td>\n",
       "      <td>3</td>\n",
       "      <td>12</td>\n",
       "      <td>180.30</td>\n",
       "      <td>344.10</td>\n",
       "      <td>2020-01-01</td>\n",
       "      <td>Wednesday</td>\n",
       "    </tr>\n",
       "    <tr>\n",
       "      <th>4</th>\n",
       "      <td>394.10</td>\n",
       "      <td>2020</td>\n",
       "      <td>1</td>\n",
       "      <td>1</td>\n",
       "      <td>4</td>\n",
       "      <td>1</td>\n",
       "      <td>1.13</td>\n",
       "      <td>60.00</td>\n",
       "      <td>2020-01-01</td>\n",
       "      <td>Wednesday</td>\n",
       "    </tr>\n",
       "  </tbody>\n",
       "</table>\n",
       "</div>"
      ],
      "text/plain": [
       "   Pot_max  Year  Month  Day  Period  Block  Price  Energy       Date  \\\n",
       "0   394.10  2020      1    1       1     12 180.30  394.10 2020-01-01   \n",
       "1   394.10  2020      1    1       2     12 180.30  394.10 2020-01-01   \n",
       "2   394.10  2020      1    1       3      1   1.13   50.00 2020-01-01   \n",
       "3   394.10  2020      1    1       3     12 180.30  344.10 2020-01-01   \n",
       "4   394.10  2020      1    1       4      1   1.13   60.00 2020-01-01   \n",
       "\n",
       "     Weekday  \n",
       "0  Wednesday  \n",
       "1  Wednesday  \n",
       "2  Wednesday  \n",
       "3  Wednesday  \n",
       "4  Wednesday  "
      ]
     },
     "execution_count": 387,
     "metadata": {},
     "output_type": "execute_result"
    }
   ],
   "source": [
    "df_curve.head()"
   ]
  },
  {
   "cell_type": "code",
   "execution_count": 388,
   "metadata": {},
   "outputs": [
    {
     "name": "stderr",
     "output_type": "stream",
     "text": [
      "<ipython-input-388-6fea66b8d305>:3: UserWarning: Boolean Series key will be reindexed to match DataFrame index.\n",
      "  df_curve_example = df_curve.sort_values(['Date','Period','Block'])[(df_curve['Date']=='2020-10-31') &\n"
     ]
    },
    {
     "data": {
      "text/html": [
       "<div>\n",
       "<style scoped>\n",
       "    .dataframe tbody tr th:only-of-type {\n",
       "        vertical-align: middle;\n",
       "    }\n",
       "\n",
       "    .dataframe tbody tr th {\n",
       "        vertical-align: top;\n",
       "    }\n",
       "\n",
       "    .dataframe thead th {\n",
       "        text-align: right;\n",
       "    }\n",
       "</style>\n",
       "<table border=\"1\" class=\"dataframe\">\n",
       "  <thead>\n",
       "    <tr style=\"text-align: right;\">\n",
       "      <th></th>\n",
       "      <th>Pot_max</th>\n",
       "      <th>Year</th>\n",
       "      <th>Month</th>\n",
       "      <th>Day</th>\n",
       "      <th>Period</th>\n",
       "      <th>Block</th>\n",
       "      <th>Price</th>\n",
       "      <th>Energy</th>\n",
       "      <th>Date</th>\n",
       "      <th>Weekday</th>\n",
       "    </tr>\n",
       "  </thead>\n",
       "  <tbody>\n",
       "    <tr>\n",
       "      <th>60846</th>\n",
       "      <td>394.10</td>\n",
       "      <td>2020</td>\n",
       "      <td>10</td>\n",
       "      <td>31</td>\n",
       "      <td>1</td>\n",
       "      <td>12</td>\n",
       "      <td>180.30</td>\n",
       "      <td>394.10</td>\n",
       "      <td>2020-10-31</td>\n",
       "      <td>Saturday</td>\n",
       "    </tr>\n",
       "  </tbody>\n",
       "</table>\n",
       "</div>"
      ],
      "text/plain": [
       "       Pot_max  Year  Month  Day  Period  Block  Price  Energy       Date  \\\n",
       "60846   394.10  2020     10   31       1     12 180.30  394.10 2020-10-31   \n",
       "\n",
       "        Weekday  \n",
       "60846  Saturday  "
      ]
     },
     "execution_count": 388,
     "metadata": {},
     "output_type": "execute_result"
    }
   ],
   "source": [
    "#Picking an exaple for a certain day\n",
    "\n",
    "df_curve_example = df_curve.sort_values(['Date','Period','Block'])[(df_curve['Date']=='2020-10-31') & \n",
    "                                                (df_curve['Period']==1)]\n",
    "\n",
    "df_curve_example"
   ]
  },
  {
   "cell_type": "code",
   "execution_count": 389,
   "metadata": {},
   "outputs": [
    {
     "name": "stderr",
     "output_type": "stream",
     "text": [
      "<ipython-input-389-d9b8cc5aca74>:3: UserWarning: Boolean Series key will be reindexed to match DataFrame index.\n",
      "  df_curve_example = df_curve.sort_values(['Date','Period','Block'])[(df_curve['Date']=='2020-10-31') &\n"
     ]
    },
    {
     "data": {
      "text/html": [
       "<div>\n",
       "<style scoped>\n",
       "    .dataframe tbody tr th:only-of-type {\n",
       "        vertical-align: middle;\n",
       "    }\n",
       "\n",
       "    .dataframe tbody tr th {\n",
       "        vertical-align: top;\n",
       "    }\n",
       "\n",
       "    .dataframe thead th {\n",
       "        text-align: right;\n",
       "    }\n",
       "</style>\n",
       "<table border=\"1\" class=\"dataframe\">\n",
       "  <thead>\n",
       "    <tr style=\"text-align: right;\">\n",
       "      <th></th>\n",
       "      <th>Pot_max</th>\n",
       "      <th>Year</th>\n",
       "      <th>Month</th>\n",
       "      <th>Day</th>\n",
       "      <th>Period</th>\n",
       "      <th>Block</th>\n",
       "      <th>Price</th>\n",
       "      <th>Energy</th>\n",
       "      <th>Date</th>\n",
       "      <th>Weekday</th>\n",
       "    </tr>\n",
       "  </thead>\n",
       "  <tbody>\n",
       "    <tr>\n",
       "      <th>61033</th>\n",
       "      <td>394.10</td>\n",
       "      <td>2020</td>\n",
       "      <td>10</td>\n",
       "      <td>31</td>\n",
       "      <td>24</td>\n",
       "      <td>1</td>\n",
       "      <td>1.13</td>\n",
       "      <td>190.00</td>\n",
       "      <td>2020-10-31</td>\n",
       "      <td>Saturday</td>\n",
       "    </tr>\n",
       "    <tr>\n",
       "      <th>61034</th>\n",
       "      <td>394.10</td>\n",
       "      <td>2020</td>\n",
       "      <td>10</td>\n",
       "      <td>31</td>\n",
       "      <td>24</td>\n",
       "      <td>2</td>\n",
       "      <td>34.89</td>\n",
       "      <td>17.00</td>\n",
       "      <td>2020-10-31</td>\n",
       "      <td>Saturday</td>\n",
       "    </tr>\n",
       "    <tr>\n",
       "      <th>61035</th>\n",
       "      <td>394.10</td>\n",
       "      <td>2020</td>\n",
       "      <td>10</td>\n",
       "      <td>31</td>\n",
       "      <td>24</td>\n",
       "      <td>3</td>\n",
       "      <td>35.64</td>\n",
       "      <td>17.00</td>\n",
       "      <td>2020-10-31</td>\n",
       "      <td>Saturday</td>\n",
       "    </tr>\n",
       "    <tr>\n",
       "      <th>61036</th>\n",
       "      <td>394.10</td>\n",
       "      <td>2020</td>\n",
       "      <td>10</td>\n",
       "      <td>31</td>\n",
       "      <td>24</td>\n",
       "      <td>4</td>\n",
       "      <td>36.40</td>\n",
       "      <td>17.00</td>\n",
       "      <td>2020-10-31</td>\n",
       "      <td>Saturday</td>\n",
       "    </tr>\n",
       "    <tr>\n",
       "      <th>61037</th>\n",
       "      <td>394.10</td>\n",
       "      <td>2020</td>\n",
       "      <td>10</td>\n",
       "      <td>31</td>\n",
       "      <td>24</td>\n",
       "      <td>5</td>\n",
       "      <td>37.15</td>\n",
       "      <td>17.00</td>\n",
       "      <td>2020-10-31</td>\n",
       "      <td>Saturday</td>\n",
       "    </tr>\n",
       "    <tr>\n",
       "      <th>61038</th>\n",
       "      <td>394.10</td>\n",
       "      <td>2020</td>\n",
       "      <td>10</td>\n",
       "      <td>31</td>\n",
       "      <td>24</td>\n",
       "      <td>6</td>\n",
       "      <td>38.71</td>\n",
       "      <td>17.00</td>\n",
       "      <td>2020-10-31</td>\n",
       "      <td>Saturday</td>\n",
       "    </tr>\n",
       "    <tr>\n",
       "      <th>61039</th>\n",
       "      <td>394.10</td>\n",
       "      <td>2020</td>\n",
       "      <td>10</td>\n",
       "      <td>31</td>\n",
       "      <td>24</td>\n",
       "      <td>7</td>\n",
       "      <td>39.46</td>\n",
       "      <td>17.00</td>\n",
       "      <td>2020-10-31</td>\n",
       "      <td>Saturday</td>\n",
       "    </tr>\n",
       "    <tr>\n",
       "      <th>61040</th>\n",
       "      <td>394.10</td>\n",
       "      <td>2020</td>\n",
       "      <td>10</td>\n",
       "      <td>31</td>\n",
       "      <td>24</td>\n",
       "      <td>8</td>\n",
       "      <td>40.22</td>\n",
       "      <td>17.00</td>\n",
       "      <td>2020-10-31</td>\n",
       "      <td>Saturday</td>\n",
       "    </tr>\n",
       "    <tr>\n",
       "      <th>61041</th>\n",
       "      <td>394.10</td>\n",
       "      <td>2020</td>\n",
       "      <td>10</td>\n",
       "      <td>31</td>\n",
       "      <td>24</td>\n",
       "      <td>9</td>\n",
       "      <td>41.47</td>\n",
       "      <td>17.00</td>\n",
       "      <td>2020-10-31</td>\n",
       "      <td>Saturday</td>\n",
       "    </tr>\n",
       "    <tr>\n",
       "      <th>61042</th>\n",
       "      <td>394.10</td>\n",
       "      <td>2020</td>\n",
       "      <td>10</td>\n",
       "      <td>31</td>\n",
       "      <td>24</td>\n",
       "      <td>10</td>\n",
       "      <td>42.73</td>\n",
       "      <td>17.00</td>\n",
       "      <td>2020-10-31</td>\n",
       "      <td>Saturday</td>\n",
       "    </tr>\n",
       "    <tr>\n",
       "      <th>61043</th>\n",
       "      <td>394.10</td>\n",
       "      <td>2020</td>\n",
       "      <td>10</td>\n",
       "      <td>31</td>\n",
       "      <td>24</td>\n",
       "      <td>11</td>\n",
       "      <td>44.48</td>\n",
       "      <td>17.00</td>\n",
       "      <td>2020-10-31</td>\n",
       "      <td>Saturday</td>\n",
       "    </tr>\n",
       "    <tr>\n",
       "      <th>61044</th>\n",
       "      <td>394.10</td>\n",
       "      <td>2020</td>\n",
       "      <td>10</td>\n",
       "      <td>31</td>\n",
       "      <td>24</td>\n",
       "      <td>12</td>\n",
       "      <td>180.30</td>\n",
       "      <td>34.10</td>\n",
       "      <td>2020-10-31</td>\n",
       "      <td>Saturday</td>\n",
       "    </tr>\n",
       "  </tbody>\n",
       "</table>\n",
       "</div>"
      ],
      "text/plain": [
       "       Pot_max  Year  Month  Day  Period  Block  Price  Energy       Date  \\\n",
       "61033   394.10  2020     10   31      24      1   1.13  190.00 2020-10-31   \n",
       "61034   394.10  2020     10   31      24      2  34.89   17.00 2020-10-31   \n",
       "61035   394.10  2020     10   31      24      3  35.64   17.00 2020-10-31   \n",
       "61036   394.10  2020     10   31      24      4  36.40   17.00 2020-10-31   \n",
       "61037   394.10  2020     10   31      24      5  37.15   17.00 2020-10-31   \n",
       "61038   394.10  2020     10   31      24      6  38.71   17.00 2020-10-31   \n",
       "61039   394.10  2020     10   31      24      7  39.46   17.00 2020-10-31   \n",
       "61040   394.10  2020     10   31      24      8  40.22   17.00 2020-10-31   \n",
       "61041   394.10  2020     10   31      24      9  41.47   17.00 2020-10-31   \n",
       "61042   394.10  2020     10   31      24     10  42.73   17.00 2020-10-31   \n",
       "61043   394.10  2020     10   31      24     11  44.48   17.00 2020-10-31   \n",
       "61044   394.10  2020     10   31      24     12 180.30   34.10 2020-10-31   \n",
       "\n",
       "        Weekday  \n",
       "61033  Saturday  \n",
       "61034  Saturday  \n",
       "61035  Saturday  \n",
       "61036  Saturday  \n",
       "61037  Saturday  \n",
       "61038  Saturday  \n",
       "61039  Saturday  \n",
       "61040  Saturday  \n",
       "61041  Saturday  \n",
       "61042  Saturday  \n",
       "61043  Saturday  \n",
       "61044  Saturday  "
      ]
     },
     "execution_count": 389,
     "metadata": {},
     "output_type": "execute_result"
    }
   ],
   "source": [
    "#Picking an exaple for a certain day\n",
    "\n",
    "df_curve_example = df_curve.sort_values(['Date','Period','Block'])[(df_curve['Date']=='2020-10-31') & \n",
    "                                                (df_curve['Period']==24)]\n",
    "\n",
    "df_curve_example"
   ]
  },
  {
   "cell_type": "code",
   "execution_count": 390,
   "metadata": {
    "scrolled": false
   },
   "outputs": [
    {
     "data": {
      "text/plain": [
       "61033   190.00\n",
       "61034   207.00\n",
       "61035   224.00\n",
       "61036   241.00\n",
       "61037   258.00\n",
       "61038   275.00\n",
       "61039   292.00\n",
       "61040   309.00\n",
       "61041   326.00\n",
       "61042   343.00\n",
       "61043   360.00\n",
       "61044   394.10\n",
       "Name: Energy, dtype: float64"
      ]
     },
     "execution_count": 390,
     "metadata": {},
     "output_type": "execute_result"
    }
   ],
   "source": [
    "df_curve_example['Energy'].cumsum()"
   ]
  },
  {
   "cell_type": "code",
   "execution_count": 391,
   "metadata": {},
   "outputs": [
    {
     "name": "stderr",
     "output_type": "stream",
     "text": [
      "<ipython-input-391-3bb43226947c>:1: SettingWithCopyWarning: \n",
      "A value is trying to be set on a copy of a slice from a DataFrame.\n",
      "Try using .loc[row_indexer,col_indexer] = value instead\n",
      "\n",
      "See the caveats in the documentation: https://pandas.pydata.org/pandas-docs/stable/user_guide/indexing.html#returning-a-view-versus-a-copy\n",
      "  df_curve['Energy_tot'] = df_curve.groupby(['Date','Period'])['Energy'].cumsum()\n"
     ]
    }
   ],
   "source": [
    "df_curve['Energy_tot'] = df_curve.groupby(['Date','Period'])['Energy'].cumsum()"
   ]
  },
  {
   "cell_type": "code",
   "execution_count": 392,
   "metadata": {
    "scrolled": true
   },
   "outputs": [
    {
     "data": {
      "text/html": [
       "<div>\n",
       "<style scoped>\n",
       "    .dataframe tbody tr th:only-of-type {\n",
       "        vertical-align: middle;\n",
       "    }\n",
       "\n",
       "    .dataframe tbody tr th {\n",
       "        vertical-align: top;\n",
       "    }\n",
       "\n",
       "    .dataframe thead th {\n",
       "        text-align: right;\n",
       "    }\n",
       "</style>\n",
       "<table border=\"1\" class=\"dataframe\">\n",
       "  <thead>\n",
       "    <tr style=\"text-align: right;\">\n",
       "      <th></th>\n",
       "      <th>Pot_max</th>\n",
       "      <th>Year</th>\n",
       "      <th>Month</th>\n",
       "      <th>Day</th>\n",
       "      <th>Period</th>\n",
       "      <th>Block</th>\n",
       "      <th>Price</th>\n",
       "      <th>Energy</th>\n",
       "      <th>Date</th>\n",
       "      <th>Weekday</th>\n",
       "      <th>Energy_tot</th>\n",
       "    </tr>\n",
       "  </thead>\n",
       "  <tbody>\n",
       "    <tr>\n",
       "      <th>0</th>\n",
       "      <td>394.10</td>\n",
       "      <td>2020</td>\n",
       "      <td>1</td>\n",
       "      <td>1</td>\n",
       "      <td>1</td>\n",
       "      <td>12</td>\n",
       "      <td>180.30</td>\n",
       "      <td>394.10</td>\n",
       "      <td>2020-01-01</td>\n",
       "      <td>Wednesday</td>\n",
       "      <td>394.10</td>\n",
       "    </tr>\n",
       "    <tr>\n",
       "      <th>1</th>\n",
       "      <td>394.10</td>\n",
       "      <td>2020</td>\n",
       "      <td>1</td>\n",
       "      <td>1</td>\n",
       "      <td>2</td>\n",
       "      <td>12</td>\n",
       "      <td>180.30</td>\n",
       "      <td>394.10</td>\n",
       "      <td>2020-01-01</td>\n",
       "      <td>Wednesday</td>\n",
       "      <td>394.10</td>\n",
       "    </tr>\n",
       "    <tr>\n",
       "      <th>2</th>\n",
       "      <td>394.10</td>\n",
       "      <td>2020</td>\n",
       "      <td>1</td>\n",
       "      <td>1</td>\n",
       "      <td>3</td>\n",
       "      <td>1</td>\n",
       "      <td>1.13</td>\n",
       "      <td>50.00</td>\n",
       "      <td>2020-01-01</td>\n",
       "      <td>Wednesday</td>\n",
       "      <td>50.00</td>\n",
       "    </tr>\n",
       "    <tr>\n",
       "      <th>3</th>\n",
       "      <td>394.10</td>\n",
       "      <td>2020</td>\n",
       "      <td>1</td>\n",
       "      <td>1</td>\n",
       "      <td>3</td>\n",
       "      <td>12</td>\n",
       "      <td>180.30</td>\n",
       "      <td>344.10</td>\n",
       "      <td>2020-01-01</td>\n",
       "      <td>Wednesday</td>\n",
       "      <td>394.10</td>\n",
       "    </tr>\n",
       "    <tr>\n",
       "      <th>4</th>\n",
       "      <td>394.10</td>\n",
       "      <td>2020</td>\n",
       "      <td>1</td>\n",
       "      <td>1</td>\n",
       "      <td>4</td>\n",
       "      <td>1</td>\n",
       "      <td>1.13</td>\n",
       "      <td>60.00</td>\n",
       "      <td>2020-01-01</td>\n",
       "      <td>Wednesday</td>\n",
       "      <td>60.00</td>\n",
       "    </tr>\n",
       "  </tbody>\n",
       "</table>\n",
       "</div>"
      ],
      "text/plain": [
       "   Pot_max  Year  Month  Day  Period  Block  Price  Energy       Date  \\\n",
       "0   394.10  2020      1    1       1     12 180.30  394.10 2020-01-01   \n",
       "1   394.10  2020      1    1       2     12 180.30  394.10 2020-01-01   \n",
       "2   394.10  2020      1    1       3      1   1.13   50.00 2020-01-01   \n",
       "3   394.10  2020      1    1       3     12 180.30  344.10 2020-01-01   \n",
       "4   394.10  2020      1    1       4      1   1.13   60.00 2020-01-01   \n",
       "\n",
       "     Weekday  Energy_tot  \n",
       "0  Wednesday      394.10  \n",
       "1  Wednesday      394.10  \n",
       "2  Wednesday       50.00  \n",
       "3  Wednesday      394.10  \n",
       "4  Wednesday       60.00  "
      ]
     },
     "execution_count": 392,
     "metadata": {},
     "output_type": "execute_result"
    }
   ],
   "source": [
    "df_curve.head()"
   ]
  },
  {
   "cell_type": "code",
   "execution_count": null,
   "metadata": {},
   "outputs": [],
   "source": []
  },
  {
   "cell_type": "code",
   "execution_count": null,
   "metadata": {},
   "outputs": [],
   "source": []
  },
  {
   "cell_type": "code",
   "execution_count": 393,
   "metadata": {},
   "outputs": [],
   "source": [
    "#Storing the DataFrame locally\n",
    "df_curve.to_csv('/home/dsc/Repos/TFM/PALOS1_DataFrame.csv')"
   ]
  },
  {
   "cell_type": "code",
   "execution_count": null,
   "metadata": {},
   "outputs": [],
   "source": []
  },
  {
   "cell_type": "code",
   "execution_count": null,
   "metadata": {},
   "outputs": [],
   "source": []
  },
  {
   "cell_type": "code",
   "execution_count": 394,
   "metadata": {
    "scrolled": true
   },
   "outputs": [
    {
     "name": "stderr",
     "output_type": "stream",
     "text": [
      "<ipython-input-394-1704094d25ac>:1: UserWarning: Boolean Series key will be reindexed to match DataFrame index.\n",
      "  df_curve_example2 = df_curve.sort_values(['Date','Period','Block'])[(df_curve['Date']=='2020-10-31') &\n"
     ]
    }
   ],
   "source": [
    "df_curve_example2 = df_curve.sort_values(['Date','Period','Block'])[(df_curve['Date']=='2020-10-31') & \n",
    "                                                (df_curve['Period']==24)]\n",
    "\n",
    "\n",
    "df_curve_example2.reset_index(drop=True,inplace=True)"
   ]
  },
  {
   "cell_type": "code",
   "execution_count": 395,
   "metadata": {
    "scrolled": true
   },
   "outputs": [
    {
     "data": {
      "text/html": [
       "<div>\n",
       "<style scoped>\n",
       "    .dataframe tbody tr th:only-of-type {\n",
       "        vertical-align: middle;\n",
       "    }\n",
       "\n",
       "    .dataframe tbody tr th {\n",
       "        vertical-align: top;\n",
       "    }\n",
       "\n",
       "    .dataframe thead th {\n",
       "        text-align: right;\n",
       "    }\n",
       "</style>\n",
       "<table border=\"1\" class=\"dataframe\">\n",
       "  <thead>\n",
       "    <tr style=\"text-align: right;\">\n",
       "      <th></th>\n",
       "      <th>Pot_max</th>\n",
       "      <th>Year</th>\n",
       "      <th>Month</th>\n",
       "      <th>Day</th>\n",
       "      <th>Period</th>\n",
       "      <th>Block</th>\n",
       "      <th>Price</th>\n",
       "      <th>Energy</th>\n",
       "      <th>Date</th>\n",
       "      <th>Weekday</th>\n",
       "      <th>Energy_tot</th>\n",
       "    </tr>\n",
       "  </thead>\n",
       "  <tbody>\n",
       "    <tr>\n",
       "      <th>0</th>\n",
       "      <td>394.10</td>\n",
       "      <td>2020</td>\n",
       "      <td>10</td>\n",
       "      <td>31</td>\n",
       "      <td>24</td>\n",
       "      <td>1</td>\n",
       "      <td>1.13</td>\n",
       "      <td>190.00</td>\n",
       "      <td>2020-10-31</td>\n",
       "      <td>Saturday</td>\n",
       "      <td>190.00</td>\n",
       "    </tr>\n",
       "    <tr>\n",
       "      <th>1</th>\n",
       "      <td>394.10</td>\n",
       "      <td>2020</td>\n",
       "      <td>10</td>\n",
       "      <td>31</td>\n",
       "      <td>24</td>\n",
       "      <td>2</td>\n",
       "      <td>34.89</td>\n",
       "      <td>17.00</td>\n",
       "      <td>2020-10-31</td>\n",
       "      <td>Saturday</td>\n",
       "      <td>207.00</td>\n",
       "    </tr>\n",
       "    <tr>\n",
       "      <th>2</th>\n",
       "      <td>394.10</td>\n",
       "      <td>2020</td>\n",
       "      <td>10</td>\n",
       "      <td>31</td>\n",
       "      <td>24</td>\n",
       "      <td>3</td>\n",
       "      <td>35.64</td>\n",
       "      <td>17.00</td>\n",
       "      <td>2020-10-31</td>\n",
       "      <td>Saturday</td>\n",
       "      <td>224.00</td>\n",
       "    </tr>\n",
       "    <tr>\n",
       "      <th>3</th>\n",
       "      <td>394.10</td>\n",
       "      <td>2020</td>\n",
       "      <td>10</td>\n",
       "      <td>31</td>\n",
       "      <td>24</td>\n",
       "      <td>4</td>\n",
       "      <td>36.40</td>\n",
       "      <td>17.00</td>\n",
       "      <td>2020-10-31</td>\n",
       "      <td>Saturday</td>\n",
       "      <td>241.00</td>\n",
       "    </tr>\n",
       "    <tr>\n",
       "      <th>4</th>\n",
       "      <td>394.10</td>\n",
       "      <td>2020</td>\n",
       "      <td>10</td>\n",
       "      <td>31</td>\n",
       "      <td>24</td>\n",
       "      <td>5</td>\n",
       "      <td>37.15</td>\n",
       "      <td>17.00</td>\n",
       "      <td>2020-10-31</td>\n",
       "      <td>Saturday</td>\n",
       "      <td>258.00</td>\n",
       "    </tr>\n",
       "    <tr>\n",
       "      <th>5</th>\n",
       "      <td>394.10</td>\n",
       "      <td>2020</td>\n",
       "      <td>10</td>\n",
       "      <td>31</td>\n",
       "      <td>24</td>\n",
       "      <td>6</td>\n",
       "      <td>38.71</td>\n",
       "      <td>17.00</td>\n",
       "      <td>2020-10-31</td>\n",
       "      <td>Saturday</td>\n",
       "      <td>275.00</td>\n",
       "    </tr>\n",
       "    <tr>\n",
       "      <th>6</th>\n",
       "      <td>394.10</td>\n",
       "      <td>2020</td>\n",
       "      <td>10</td>\n",
       "      <td>31</td>\n",
       "      <td>24</td>\n",
       "      <td>7</td>\n",
       "      <td>39.46</td>\n",
       "      <td>17.00</td>\n",
       "      <td>2020-10-31</td>\n",
       "      <td>Saturday</td>\n",
       "      <td>292.00</td>\n",
       "    </tr>\n",
       "    <tr>\n",
       "      <th>7</th>\n",
       "      <td>394.10</td>\n",
       "      <td>2020</td>\n",
       "      <td>10</td>\n",
       "      <td>31</td>\n",
       "      <td>24</td>\n",
       "      <td>8</td>\n",
       "      <td>40.22</td>\n",
       "      <td>17.00</td>\n",
       "      <td>2020-10-31</td>\n",
       "      <td>Saturday</td>\n",
       "      <td>309.00</td>\n",
       "    </tr>\n",
       "    <tr>\n",
       "      <th>8</th>\n",
       "      <td>394.10</td>\n",
       "      <td>2020</td>\n",
       "      <td>10</td>\n",
       "      <td>31</td>\n",
       "      <td>24</td>\n",
       "      <td>9</td>\n",
       "      <td>41.47</td>\n",
       "      <td>17.00</td>\n",
       "      <td>2020-10-31</td>\n",
       "      <td>Saturday</td>\n",
       "      <td>326.00</td>\n",
       "    </tr>\n",
       "    <tr>\n",
       "      <th>9</th>\n",
       "      <td>394.10</td>\n",
       "      <td>2020</td>\n",
       "      <td>10</td>\n",
       "      <td>31</td>\n",
       "      <td>24</td>\n",
       "      <td>10</td>\n",
       "      <td>42.73</td>\n",
       "      <td>17.00</td>\n",
       "      <td>2020-10-31</td>\n",
       "      <td>Saturday</td>\n",
       "      <td>343.00</td>\n",
       "    </tr>\n",
       "    <tr>\n",
       "      <th>10</th>\n",
       "      <td>394.10</td>\n",
       "      <td>2020</td>\n",
       "      <td>10</td>\n",
       "      <td>31</td>\n",
       "      <td>24</td>\n",
       "      <td>11</td>\n",
       "      <td>44.48</td>\n",
       "      <td>17.00</td>\n",
       "      <td>2020-10-31</td>\n",
       "      <td>Saturday</td>\n",
       "      <td>360.00</td>\n",
       "    </tr>\n",
       "    <tr>\n",
       "      <th>11</th>\n",
       "      <td>394.10</td>\n",
       "      <td>2020</td>\n",
       "      <td>10</td>\n",
       "      <td>31</td>\n",
       "      <td>24</td>\n",
       "      <td>12</td>\n",
       "      <td>180.30</td>\n",
       "      <td>34.10</td>\n",
       "      <td>2020-10-31</td>\n",
       "      <td>Saturday</td>\n",
       "      <td>394.10</td>\n",
       "    </tr>\n",
       "  </tbody>\n",
       "</table>\n",
       "</div>"
      ],
      "text/plain": [
       "    Pot_max  Year  Month  Day  Period  Block  Price  Energy       Date  \\\n",
       "0    394.10  2020     10   31      24      1   1.13  190.00 2020-10-31   \n",
       "1    394.10  2020     10   31      24      2  34.89   17.00 2020-10-31   \n",
       "2    394.10  2020     10   31      24      3  35.64   17.00 2020-10-31   \n",
       "3    394.10  2020     10   31      24      4  36.40   17.00 2020-10-31   \n",
       "4    394.10  2020     10   31      24      5  37.15   17.00 2020-10-31   \n",
       "5    394.10  2020     10   31      24      6  38.71   17.00 2020-10-31   \n",
       "6    394.10  2020     10   31      24      7  39.46   17.00 2020-10-31   \n",
       "7    394.10  2020     10   31      24      8  40.22   17.00 2020-10-31   \n",
       "8    394.10  2020     10   31      24      9  41.47   17.00 2020-10-31   \n",
       "9    394.10  2020     10   31      24     10  42.73   17.00 2020-10-31   \n",
       "10   394.10  2020     10   31      24     11  44.48   17.00 2020-10-31   \n",
       "11   394.10  2020     10   31      24     12 180.30   34.10 2020-10-31   \n",
       "\n",
       "     Weekday  Energy_tot  \n",
       "0   Saturday      190.00  \n",
       "1   Saturday      207.00  \n",
       "2   Saturday      224.00  \n",
       "3   Saturday      241.00  \n",
       "4   Saturday      258.00  \n",
       "5   Saturday      275.00  \n",
       "6   Saturday      292.00  \n",
       "7   Saturday      309.00  \n",
       "8   Saturday      326.00  \n",
       "9   Saturday      343.00  \n",
       "10  Saturday      360.00  \n",
       "11  Saturday      394.10  "
      ]
     },
     "execution_count": 395,
     "metadata": {},
     "output_type": "execute_result"
    }
   ],
   "source": [
    "df_curve_example2"
   ]
  },
  {
   "cell_type": "code",
   "execution_count": 396,
   "metadata": {},
   "outputs": [
    {
     "name": "stderr",
     "output_type": "stream",
     "text": [
      "<ipython-input-396-a0db271286b4>:4: UserWarning: Boolean Series key will be reindexed to match DataFrame index.\n",
      "  df_curve.sort_values(['Date','Period','Block'])[(df_curve['Date']=='2020-10-22') &\n"
     ]
    },
    {
     "data": {
      "text/html": [
       "<div>\n",
       "<style scoped>\n",
       "    .dataframe tbody tr th:only-of-type {\n",
       "        vertical-align: middle;\n",
       "    }\n",
       "\n",
       "    .dataframe tbody tr th {\n",
       "        vertical-align: top;\n",
       "    }\n",
       "\n",
       "    .dataframe thead th {\n",
       "        text-align: right;\n",
       "    }\n",
       "</style>\n",
       "<table border=\"1\" class=\"dataframe\">\n",
       "  <thead>\n",
       "    <tr style=\"text-align: right;\">\n",
       "      <th></th>\n",
       "      <th>Pot_max</th>\n",
       "      <th>Year</th>\n",
       "      <th>Month</th>\n",
       "      <th>Day</th>\n",
       "      <th>Period</th>\n",
       "      <th>Block</th>\n",
       "      <th>Price</th>\n",
       "      <th>Energy</th>\n",
       "      <th>Date</th>\n",
       "      <th>Weekday</th>\n",
       "      <th>Energy_tot</th>\n",
       "    </tr>\n",
       "  </thead>\n",
       "  <tbody>\n",
       "    <tr>\n",
       "      <th>59230</th>\n",
       "      <td>394.10</td>\n",
       "      <td>2020</td>\n",
       "      <td>10</td>\n",
       "      <td>22</td>\n",
       "      <td>24</td>\n",
       "      <td>1</td>\n",
       "      <td>1.13</td>\n",
       "      <td>190.00</td>\n",
       "      <td>2020-10-22</td>\n",
       "      <td>Thursday</td>\n",
       "      <td>190.00</td>\n",
       "    </tr>\n",
       "    <tr>\n",
       "      <th>59231</th>\n",
       "      <td>394.10</td>\n",
       "      <td>2020</td>\n",
       "      <td>10</td>\n",
       "      <td>22</td>\n",
       "      <td>24</td>\n",
       "      <td>2</td>\n",
       "      <td>35.34</td>\n",
       "      <td>17.00</td>\n",
       "      <td>2020-10-22</td>\n",
       "      <td>Thursday</td>\n",
       "      <td>207.00</td>\n",
       "    </tr>\n",
       "    <tr>\n",
       "      <th>59232</th>\n",
       "      <td>394.10</td>\n",
       "      <td>2020</td>\n",
       "      <td>10</td>\n",
       "      <td>22</td>\n",
       "      <td>24</td>\n",
       "      <td>3</td>\n",
       "      <td>36.11</td>\n",
       "      <td>17.00</td>\n",
       "      <td>2020-10-22</td>\n",
       "      <td>Thursday</td>\n",
       "      <td>224.00</td>\n",
       "    </tr>\n",
       "    <tr>\n",
       "      <th>59233</th>\n",
       "      <td>394.10</td>\n",
       "      <td>2020</td>\n",
       "      <td>10</td>\n",
       "      <td>22</td>\n",
       "      <td>24</td>\n",
       "      <td>4</td>\n",
       "      <td>36.87</td>\n",
       "      <td>17.00</td>\n",
       "      <td>2020-10-22</td>\n",
       "      <td>Thursday</td>\n",
       "      <td>241.00</td>\n",
       "    </tr>\n",
       "    <tr>\n",
       "      <th>59234</th>\n",
       "      <td>394.10</td>\n",
       "      <td>2020</td>\n",
       "      <td>10</td>\n",
       "      <td>22</td>\n",
       "      <td>24</td>\n",
       "      <td>5</td>\n",
       "      <td>37.64</td>\n",
       "      <td>17.00</td>\n",
       "      <td>2020-10-22</td>\n",
       "      <td>Thursday</td>\n",
       "      <td>258.00</td>\n",
       "    </tr>\n",
       "    <tr>\n",
       "      <th>59235</th>\n",
       "      <td>394.10</td>\n",
       "      <td>2020</td>\n",
       "      <td>10</td>\n",
       "      <td>22</td>\n",
       "      <td>24</td>\n",
       "      <td>6</td>\n",
       "      <td>39.20</td>\n",
       "      <td>17.00</td>\n",
       "      <td>2020-10-22</td>\n",
       "      <td>Thursday</td>\n",
       "      <td>275.00</td>\n",
       "    </tr>\n",
       "    <tr>\n",
       "      <th>59236</th>\n",
       "      <td>394.10</td>\n",
       "      <td>2020</td>\n",
       "      <td>10</td>\n",
       "      <td>22</td>\n",
       "      <td>24</td>\n",
       "      <td>7</td>\n",
       "      <td>39.97</td>\n",
       "      <td>17.00</td>\n",
       "      <td>2020-10-22</td>\n",
       "      <td>Thursday</td>\n",
       "      <td>292.00</td>\n",
       "    </tr>\n",
       "    <tr>\n",
       "      <th>59237</th>\n",
       "      <td>394.10</td>\n",
       "      <td>2020</td>\n",
       "      <td>10</td>\n",
       "      <td>22</td>\n",
       "      <td>24</td>\n",
       "      <td>8</td>\n",
       "      <td>40.74</td>\n",
       "      <td>17.00</td>\n",
       "      <td>2020-10-22</td>\n",
       "      <td>Thursday</td>\n",
       "      <td>309.00</td>\n",
       "    </tr>\n",
       "    <tr>\n",
       "      <th>59238</th>\n",
       "      <td>394.10</td>\n",
       "      <td>2020</td>\n",
       "      <td>10</td>\n",
       "      <td>22</td>\n",
       "      <td>24</td>\n",
       "      <td>9</td>\n",
       "      <td>42.00</td>\n",
       "      <td>17.00</td>\n",
       "      <td>2020-10-22</td>\n",
       "      <td>Thursday</td>\n",
       "      <td>326.00</td>\n",
       "    </tr>\n",
       "    <tr>\n",
       "      <th>59239</th>\n",
       "      <td>394.10</td>\n",
       "      <td>2020</td>\n",
       "      <td>10</td>\n",
       "      <td>22</td>\n",
       "      <td>24</td>\n",
       "      <td>10</td>\n",
       "      <td>43.27</td>\n",
       "      <td>17.00</td>\n",
       "      <td>2020-10-22</td>\n",
       "      <td>Thursday</td>\n",
       "      <td>343.00</td>\n",
       "    </tr>\n",
       "    <tr>\n",
       "      <th>59240</th>\n",
       "      <td>394.10</td>\n",
       "      <td>2020</td>\n",
       "      <td>10</td>\n",
       "      <td>22</td>\n",
       "      <td>24</td>\n",
       "      <td>11</td>\n",
       "      <td>45.03</td>\n",
       "      <td>17.00</td>\n",
       "      <td>2020-10-22</td>\n",
       "      <td>Thursday</td>\n",
       "      <td>360.00</td>\n",
       "    </tr>\n",
       "    <tr>\n",
       "      <th>59241</th>\n",
       "      <td>394.10</td>\n",
       "      <td>2020</td>\n",
       "      <td>10</td>\n",
       "      <td>22</td>\n",
       "      <td>24</td>\n",
       "      <td>12</td>\n",
       "      <td>180.30</td>\n",
       "      <td>34.10</td>\n",
       "      <td>2020-10-22</td>\n",
       "      <td>Thursday</td>\n",
       "      <td>394.10</td>\n",
       "    </tr>\n",
       "  </tbody>\n",
       "</table>\n",
       "</div>"
      ],
      "text/plain": [
       "       Pot_max  Year  Month  Day  Period  Block  Price  Energy       Date  \\\n",
       "59230   394.10  2020     10   22      24      1   1.13  190.00 2020-10-22   \n",
       "59231   394.10  2020     10   22      24      2  35.34   17.00 2020-10-22   \n",
       "59232   394.10  2020     10   22      24      3  36.11   17.00 2020-10-22   \n",
       "59233   394.10  2020     10   22      24      4  36.87   17.00 2020-10-22   \n",
       "59234   394.10  2020     10   22      24      5  37.64   17.00 2020-10-22   \n",
       "59235   394.10  2020     10   22      24      6  39.20   17.00 2020-10-22   \n",
       "59236   394.10  2020     10   22      24      7  39.97   17.00 2020-10-22   \n",
       "59237   394.10  2020     10   22      24      8  40.74   17.00 2020-10-22   \n",
       "59238   394.10  2020     10   22      24      9  42.00   17.00 2020-10-22   \n",
       "59239   394.10  2020     10   22      24     10  43.27   17.00 2020-10-22   \n",
       "59240   394.10  2020     10   22      24     11  45.03   17.00 2020-10-22   \n",
       "59241   394.10  2020     10   22      24     12 180.30   34.10 2020-10-22   \n",
       "\n",
       "        Weekday  Energy_tot  \n",
       "59230  Thursday      190.00  \n",
       "59231  Thursday      207.00  \n",
       "59232  Thursday      224.00  \n",
       "59233  Thursday      241.00  \n",
       "59234  Thursday      258.00  \n",
       "59235  Thursday      275.00  \n",
       "59236  Thursday      292.00  \n",
       "59237  Thursday      309.00  \n",
       "59238  Thursday      326.00  \n",
       "59239  Thursday      343.00  \n",
       "59240  Thursday      360.00  \n",
       "59241  Thursday      394.10  "
      ]
     },
     "execution_count": 396,
     "metadata": {},
     "output_type": "execute_result"
    }
   ],
   "source": [
    "#Example to create the plot function\n",
    "#This part of the code will be deleted\n",
    "\n",
    "df_curve.sort_values(['Date','Period','Block'])[(df_curve['Date']=='2020-10-22') & \n",
    "                                                (df_curve['Period']==24)]"
   ]
  },
  {
   "cell_type": "code",
   "execution_count": 397,
   "metadata": {},
   "outputs": [],
   "source": [
    "xs = np.linspace(0,len(df_curve_example2),len(df_curve_example2))"
   ]
  },
  {
   "cell_type": "code",
   "execution_count": 398,
   "metadata": {
    "scrolled": true
   },
   "outputs": [
    {
     "data": {
      "text/plain": [
       "[<matplotlib.lines.Line2D at 0x7fca5f07c130>]"
      ]
     },
     "execution_count": 398,
     "metadata": {},
     "output_type": "execute_result"
    },
    {
     "data": {
      "image/png": "[encoded data removed]",
      "text/plain": [
       "<Figure size 432x288 with 1 Axes>"
      ]
     },
     "metadata": {
      "needs_background": "light"
     },
     "output_type": "display_data"
    }
   ],
   "source": [
    "plt.plot(xs, df_curve_example2['Energy_tot'])"
   ]
  },
  {
   "cell_type": "code",
   "execution_count": 399,
   "metadata": {},
   "outputs": [
    {
     "data": {
      "text/plain": [
       "[<matplotlib.lines.Line2D at 0x7fca5cedafa0>]"
      ]
     },
     "execution_count": 399,
     "metadata": {},
     "output_type": "execute_result"
    },
    {
     "data": {
      "image/png": "[encoded data removed]",
      "text/plain": [
       "<Figure size 432x288 with 1 Axes>"
      ]
     },
     "metadata": {
      "needs_background": "light"
     },
     "output_type": "display_data"
    }
   ],
   "source": [
    "plt.plot(df_curve_example2['Energy_tot'],df_curve_example2['Price'])"
   ]
  },
  {
   "cell_type": "code",
   "execution_count": 400,
   "metadata": {},
   "outputs": [
    {
     "data": {
      "text/plain": [
       "[<matplotlib.lines.Line2D at 0x7fca5fc78490>]"
      ]
     },
     "execution_count": 400,
     "metadata": {},
     "output_type": "execute_result"
    },
    {
     "data": {
      "image/png": "[encoded data removed]",
      "text/plain": [
       "<Figure size 432x288 with 1 Axes>"
      ]
     },
     "metadata": {
      "needs_background": "light"
     },
     "output_type": "display_data"
    }
   ],
   "source": [
    "plt.step(df_curve_example2['Energy_tot'],df_curve_example2['Price'], label='pre (default)')"
   ]
  },
  {
   "cell_type": "code",
   "execution_count": 401,
   "metadata": {},
   "outputs": [
    {
     "data": {
      "text/plain": [
       "[<matplotlib.lines.Line2D at 0x7fca6580c850>]"
      ]
     },
     "execution_count": 401,
     "metadata": {},
     "output_type": "execute_result"
    },
    {
     "data": {
      "image/png": "[encoded data removed]",
      "text/plain": [
       "<Figure size 432x288 with 1 Axes>"
      ]
     },
     "metadata": {
      "needs_background": "light"
     },
     "output_type": "display_data"
    }
   ],
   "source": [
    "plt.plot(df_curve_example2['Energy_tot'],\n",
    "         df_curve_example2['Price'], \n",
    "         drawstyle='steps', label='steps (=steps-pre)')"
   ]
  },
  {
   "cell_type": "code",
   "execution_count": 402,
   "metadata": {},
   "outputs": [],
   "source": [
    "#Function to plot bid curves for a chosen date and period (hour)\n",
    "\n",
    "def plot_bid_curve(date, period):\n",
    "    df_plot = df_curve.sort_values(['Date','Period','Block'])[(df_curve['Date'] == date) & \n",
    "                                                (df_curve['Period'] == period)]\n",
    "   \n",
    "    return plt.plot(df_plot['Energy_tot'], df_plot['Price'], drawstyle='steps', label='steps (=steps-pre)')\n",
    "\n",
    "#The first step should be included"
   ]
  },
  {
   "cell_type": "code",
   "execution_count": 403,
   "metadata": {},
   "outputs": [
    {
     "name": "stderr",
     "output_type": "stream",
     "text": [
      "<ipython-input-402-ece397bd5943>:4: UserWarning: Boolean Series key will be reindexed to match DataFrame index.\n",
      "  df_plot = df_curve.sort_values(['Date','Period','Block'])[(df_curve['Date'] == date) &\n"
     ]
    },
    {
     "data": {
      "text/plain": [
       "[<matplotlib.lines.Line2D at 0x7fca645f9b50>]"
      ]
     },
     "execution_count": 403,
     "metadata": {},
     "output_type": "execute_result"
    },
    {
     "data": {
      "image/png": "[encoded data removed]",
      "text/plain": [
       "<Figure size 432x288 with 1 Axes>"
      ]
     },
     "metadata": {
      "needs_background": "light"
     },
     "output_type": "display_data"
    }
   ],
   "source": [
    "plot_bid_curve('2020-8-25',4)"
   ]
  },
  {
   "cell_type": "code",
   "execution_count": null,
   "metadata": {},
   "outputs": [],
   "source": []
  },
  {
   "cell_type": "code",
   "execution_count": 404,
   "metadata": {},
   "outputs": [
    {
     "name": "stderr",
     "output_type": "stream",
     "text": [
      "<ipython-input-402-ece397bd5943>:4: UserWarning: Boolean Series key will be reindexed to match DataFrame index.\n",
      "  df_plot = df_curve.sort_values(['Date','Period','Block'])[(df_curve['Date'] == date) &\n"
     ]
    },
    {
     "data": {
      "text/plain": [
       "[<matplotlib.lines.Line2D at 0x7fca646514c0>]"
      ]
     },
     "execution_count": 404,
     "metadata": {},
     "output_type": "execute_result"
    },
    {
     "data": {
      "image/png": "[encoded data removed]",
      "text/plain": [
       "<Figure size 432x288 with 1 Axes>"
      ]
     },
     "metadata": {
      "needs_background": "light"
     },
     "output_type": "display_data"
    }
   ],
   "source": [
    "plot_bid_curve('2020-8-25',5)"
   ]
  },
  {
   "cell_type": "code",
   "execution_count": 405,
   "metadata": {},
   "outputs": [
    {
     "name": "stderr",
     "output_type": "stream",
     "text": [
      "<ipython-input-402-ece397bd5943>:4: UserWarning: Boolean Series key will be reindexed to match DataFrame index.\n",
      "  df_plot = df_curve.sort_values(['Date','Period','Block'])[(df_curve['Date'] == date) &\n"
     ]
    },
    {
     "data": {
      "text/plain": [
       "[<matplotlib.lines.Line2D at 0x7fca64e27850>]"
      ]
     },
     "execution_count": 405,
     "metadata": {},
     "output_type": "execute_result"
    },
    {
     "data": {
      "image/png": "[encoded data removed]",
      "text/plain": [
       "<Figure size 432x288 with 1 Axes>"
      ]
     },
     "metadata": {
      "needs_background": "light"
     },
     "output_type": "display_data"
    }
   ],
   "source": [
    "plot_bid_curve('2020-8-25',18)"
   ]
  },
  {
   "cell_type": "code",
   "execution_count": 406,
   "metadata": {},
   "outputs": [],
   "source": [
    "#It seems that energy blocks are equal for the hole year."
   ]
  },
  {
   "cell_type": "code",
   "execution_count": null,
   "metadata": {},
   "outputs": [],
   "source": []
  },
  {
   "cell_type": "markdown",
   "metadata": {},
   "source": [
    "### TRYING TO COMPLETE ALL PERIODS WITH 12 BLOCKS"
   ]
  },
  {
   "cell_type": "code",
   "execution_count": 407,
   "metadata": {},
   "outputs": [
    {
     "name": "stderr",
     "output_type": "stream",
     "text": [
      "<ipython-input-407-c892746408ab>:3: UserWarning: Boolean Series key will be reindexed to match DataFrame index.\n",
      "  df_curve.sort_values(['Date','Period','Block'])[(df_curve['Date']=='2020-10-22') &\n"
     ]
    },
    {
     "data": {
      "text/html": [
       "<div>\n",
       "<style scoped>\n",
       "    .dataframe tbody tr th:only-of-type {\n",
       "        vertical-align: middle;\n",
       "    }\n",
       "\n",
       "    .dataframe tbody tr th {\n",
       "        vertical-align: top;\n",
       "    }\n",
       "\n",
       "    .dataframe thead th {\n",
       "        text-align: right;\n",
       "    }\n",
       "</style>\n",
       "<table border=\"1\" class=\"dataframe\">\n",
       "  <thead>\n",
       "    <tr style=\"text-align: right;\">\n",
       "      <th></th>\n",
       "      <th>Pot_max</th>\n",
       "      <th>Year</th>\n",
       "      <th>Month</th>\n",
       "      <th>Day</th>\n",
       "      <th>Period</th>\n",
       "      <th>Block</th>\n",
       "      <th>Price</th>\n",
       "      <th>Energy</th>\n",
       "      <th>Date</th>\n",
       "      <th>Weekday</th>\n",
       "      <th>Energy_tot</th>\n",
       "    </tr>\n",
       "  </thead>\n",
       "  <tbody>\n",
       "    <tr>\n",
       "      <th>59056</th>\n",
       "      <td>394.10</td>\n",
       "      <td>2020</td>\n",
       "      <td>10</td>\n",
       "      <td>22</td>\n",
       "      <td>9</td>\n",
       "      <td>1</td>\n",
       "      <td>1.13</td>\n",
       "      <td>190.00</td>\n",
       "      <td>2020-10-22</td>\n",
       "      <td>Thursday</td>\n",
       "      <td>190.00</td>\n",
       "    </tr>\n",
       "    <tr>\n",
       "      <th>59057</th>\n",
       "      <td>394.10</td>\n",
       "      <td>2020</td>\n",
       "      <td>10</td>\n",
       "      <td>22</td>\n",
       "      <td>9</td>\n",
       "      <td>2</td>\n",
       "      <td>35.34</td>\n",
       "      <td>17.00</td>\n",
       "      <td>2020-10-22</td>\n",
       "      <td>Thursday</td>\n",
       "      <td>207.00</td>\n",
       "    </tr>\n",
       "    <tr>\n",
       "      <th>59058</th>\n",
       "      <td>394.10</td>\n",
       "      <td>2020</td>\n",
       "      <td>10</td>\n",
       "      <td>22</td>\n",
       "      <td>9</td>\n",
       "      <td>3</td>\n",
       "      <td>36.11</td>\n",
       "      <td>17.00</td>\n",
       "      <td>2020-10-22</td>\n",
       "      <td>Thursday</td>\n",
       "      <td>224.00</td>\n",
       "    </tr>\n",
       "    <tr>\n",
       "      <th>59059</th>\n",
       "      <td>394.10</td>\n",
       "      <td>2020</td>\n",
       "      <td>10</td>\n",
       "      <td>22</td>\n",
       "      <td>9</td>\n",
       "      <td>4</td>\n",
       "      <td>36.87</td>\n",
       "      <td>17.00</td>\n",
       "      <td>2020-10-22</td>\n",
       "      <td>Thursday</td>\n",
       "      <td>241.00</td>\n",
       "    </tr>\n",
       "    <tr>\n",
       "      <th>59060</th>\n",
       "      <td>394.10</td>\n",
       "      <td>2020</td>\n",
       "      <td>10</td>\n",
       "      <td>22</td>\n",
       "      <td>9</td>\n",
       "      <td>5</td>\n",
       "      <td>37.64</td>\n",
       "      <td>14.00</td>\n",
       "      <td>2020-10-22</td>\n",
       "      <td>Thursday</td>\n",
       "      <td>255.00</td>\n",
       "    </tr>\n",
       "    <tr>\n",
       "      <th>59061</th>\n",
       "      <td>394.10</td>\n",
       "      <td>2020</td>\n",
       "      <td>10</td>\n",
       "      <td>22</td>\n",
       "      <td>9</td>\n",
       "      <td>12</td>\n",
       "      <td>180.30</td>\n",
       "      <td>139.10</td>\n",
       "      <td>2020-10-22</td>\n",
       "      <td>Thursday</td>\n",
       "      <td>394.10</td>\n",
       "    </tr>\n",
       "  </tbody>\n",
       "</table>\n",
       "</div>"
      ],
      "text/plain": [
       "       Pot_max  Year  Month  Day  Period  Block  Price  Energy       Date  \\\n",
       "59056   394.10  2020     10   22       9      1   1.13  190.00 2020-10-22   \n",
       "59057   394.10  2020     10   22       9      2  35.34   17.00 2020-10-22   \n",
       "59058   394.10  2020     10   22       9      3  36.11   17.00 2020-10-22   \n",
       "59059   394.10  2020     10   22       9      4  36.87   17.00 2020-10-22   \n",
       "59060   394.10  2020     10   22       9      5  37.64   14.00 2020-10-22   \n",
       "59061   394.10  2020     10   22       9     12 180.30  139.10 2020-10-22   \n",
       "\n",
       "        Weekday  Energy_tot  \n",
       "59056  Thursday      190.00  \n",
       "59057  Thursday      207.00  \n",
       "59058  Thursday      224.00  \n",
       "59059  Thursday      241.00  \n",
       "59060  Thursday      255.00  \n",
       "59061  Thursday      394.10  "
      ]
     },
     "execution_count": 407,
     "metadata": {},
     "output_type": "execute_result"
    }
   ],
   "source": [
    "#Checking blocks for one day\n",
    "\n",
    "df_curve.sort_values(['Date','Period','Block'])[(df_curve['Date']=='2020-10-22') & \n",
    "                                                (df_curve['Period']==9)]"
   ]
  },
  {
   "cell_type": "code",
   "execution_count": 408,
   "metadata": {},
   "outputs": [
    {
     "data": {
      "text/plain": [
       "pandas.core.series.Series"
      ]
     },
     "execution_count": 408,
     "metadata": {},
     "output_type": "execute_result"
    }
   ],
   "source": [
    "type(df_curve.groupby(['Month','Day','Period'])['Block'].count())"
   ]
  },
  {
   "cell_type": "code",
   "execution_count": 409,
   "metadata": {},
   "outputs": [
    {
     "data": {
      "text/plain": [
       "Month  Day  Period\n",
       "1      1    1          1\n",
       "            2          1\n",
       "            3          2\n",
       "            4          2\n",
       "            5          2\n",
       "                      ..\n",
       "12     31   20        12\n",
       "            21        12\n",
       "            22        12\n",
       "            23        12\n",
       "            24        12\n",
       "Name: Block, Length: 8480, dtype: int64"
      ]
     },
     "execution_count": 409,
     "metadata": {},
     "output_type": "execute_result"
    }
   ],
   "source": [
    "df_curve.groupby(['Month','Day','Period'])['Block'].count()"
   ]
  },
  {
   "cell_type": "code",
   "execution_count": 410,
   "metadata": {
    "scrolled": true
   },
   "outputs": [
    {
     "data": {
      "text/plain": [
       "12    5370\n",
       "2     1745\n",
       "1     1016\n",
       "6      274\n",
       "7       74\n",
       "4        1\n",
       "Name: Block, dtype: int64"
      ]
     },
     "execution_count": 410,
     "metadata": {},
     "output_type": "execute_result"
    }
   ],
   "source": [
    "df_curve.groupby(['Month','Day','Period'])['Block'].count().value_counts()"
   ]
  },
  {
   "cell_type": "code",
   "execution_count": 411,
   "metadata": {},
   "outputs": [
    {
     "data": {
      "text/plain": [
       "8480"
      ]
     },
     "execution_count": 411,
     "metadata": {},
     "output_type": "execute_result"
    }
   ],
   "source": [
    "len(df_curve.groupby(['Month','Day','Period'])['Block'].count())"
   ]
  },
  {
   "cell_type": "code",
   "execution_count": 412,
   "metadata": {},
   "outputs": [
    {
     "data": {
      "text/plain": [
       "8480"
      ]
     },
     "execution_count": 412,
     "metadata": {},
     "output_type": "execute_result"
    }
   ],
   "source": [
    "df_curve.groupby(['Month','Day','Period'])['Block'].count().value_counts().sum()"
   ]
  },
  {
   "cell_type": "code",
   "execution_count": 413,
   "metadata": {},
   "outputs": [
    {
     "data": {
      "text/plain": [
       "71112"
      ]
     },
     "execution_count": 413,
     "metadata": {},
     "output_type": "execute_result"
    }
   ],
   "source": [
    "len(df_curve)"
   ]
  },
  {
   "cell_type": "code",
   "execution_count": 414,
   "metadata": {},
   "outputs": [
    {
     "data": {
      "text/html": [
       "<div>\n",
       "<style scoped>\n",
       "    .dataframe tbody tr th:only-of-type {\n",
       "        vertical-align: middle;\n",
       "    }\n",
       "\n",
       "    .dataframe tbody tr th {\n",
       "        vertical-align: top;\n",
       "    }\n",
       "\n",
       "    .dataframe thead th {\n",
       "        text-align: right;\n",
       "    }\n",
       "</style>\n",
       "<table border=\"1\" class=\"dataframe\">\n",
       "  <thead>\n",
       "    <tr style=\"text-align: right;\">\n",
       "      <th></th>\n",
       "      <th>Month</th>\n",
       "      <th>Day</th>\n",
       "    </tr>\n",
       "    <tr>\n",
       "      <th>Block</th>\n",
       "      <th></th>\n",
       "      <th></th>\n",
       "    </tr>\n",
       "  </thead>\n",
       "  <tbody>\n",
       "    <tr>\n",
       "      <th>1</th>\n",
       "      <td>7464</td>\n",
       "      <td>7464</td>\n",
       "    </tr>\n",
       "    <tr>\n",
       "      <th>2</th>\n",
       "      <td>5719</td>\n",
       "      <td>5719</td>\n",
       "    </tr>\n",
       "    <tr>\n",
       "      <th>3</th>\n",
       "      <td>5719</td>\n",
       "      <td>5719</td>\n",
       "    </tr>\n",
       "    <tr>\n",
       "      <th>4</th>\n",
       "      <td>5718</td>\n",
       "      <td>5718</td>\n",
       "    </tr>\n",
       "    <tr>\n",
       "      <th>5</th>\n",
       "      <td>5718</td>\n",
       "      <td>5718</td>\n",
       "    </tr>\n",
       "    <tr>\n",
       "      <th>6</th>\n",
       "      <td>5444</td>\n",
       "      <td>5444</td>\n",
       "    </tr>\n",
       "    <tr>\n",
       "      <th>7</th>\n",
       "      <td>5370</td>\n",
       "      <td>5370</td>\n",
       "    </tr>\n",
       "    <tr>\n",
       "      <th>8</th>\n",
       "      <td>5370</td>\n",
       "      <td>5370</td>\n",
       "    </tr>\n",
       "    <tr>\n",
       "      <th>9</th>\n",
       "      <td>5370</td>\n",
       "      <td>5370</td>\n",
       "    </tr>\n",
       "    <tr>\n",
       "      <th>10</th>\n",
       "      <td>5370</td>\n",
       "      <td>5370</td>\n",
       "    </tr>\n",
       "    <tr>\n",
       "      <th>11</th>\n",
       "      <td>5370</td>\n",
       "      <td>5370</td>\n",
       "    </tr>\n",
       "    <tr>\n",
       "      <th>12</th>\n",
       "      <td>8480</td>\n",
       "      <td>8480</td>\n",
       "    </tr>\n",
       "  </tbody>\n",
       "</table>\n",
       "</div>"
      ],
      "text/plain": [
       "       Month   Day\n",
       "Block             \n",
       "1       7464  7464\n",
       "2       5719  5719\n",
       "3       5719  5719\n",
       "4       5718  5718\n",
       "5       5718  5718\n",
       "6       5444  5444\n",
       "7       5370  5370\n",
       "8       5370  5370\n",
       "9       5370  5370\n",
       "10      5370  5370\n",
       "11      5370  5370\n",
       "12      8480  8480"
      ]
     },
     "execution_count": 414,
     "metadata": {},
     "output_type": "execute_result"
    }
   ],
   "source": [
    "df_curve[['Month','Day','Block']].groupby(['Block']).count()"
   ]
  },
  {
   "cell_type": "code",
   "execution_count": 415,
   "metadata": {},
   "outputs": [
    {
     "data": {
      "text/plain": [
       "Month    71112\n",
       "Day      71112\n",
       "dtype: int64"
      ]
     },
     "execution_count": 415,
     "metadata": {},
     "output_type": "execute_result"
    }
   ],
   "source": [
    "df_curve[['Month','Day','Block']].groupby(['Block']).count().sum()"
   ]
  },
  {
   "cell_type": "code",
   "execution_count": 416,
   "metadata": {
    "scrolled": false
   },
   "outputs": [
    {
     "data": {
      "text/html": [
       "<div>\n",
       "<style scoped>\n",
       "    .dataframe tbody tr th:only-of-type {\n",
       "        vertical-align: middle;\n",
       "    }\n",
       "\n",
       "    .dataframe tbody tr th {\n",
       "        vertical-align: top;\n",
       "    }\n",
       "\n",
       "    .dataframe thead th {\n",
       "        text-align: right;\n",
       "    }\n",
       "</style>\n",
       "<table border=\"1\" class=\"dataframe\">\n",
       "  <thead>\n",
       "    <tr style=\"text-align: right;\">\n",
       "      <th></th>\n",
       "      <th>Pot_max</th>\n",
       "      <th>Year</th>\n",
       "      <th>Month</th>\n",
       "      <th>Day</th>\n",
       "      <th>Period</th>\n",
       "      <th>Block</th>\n",
       "      <th>Price</th>\n",
       "      <th>Energy</th>\n",
       "      <th>Date</th>\n",
       "      <th>Weekday</th>\n",
       "      <th>Energy_tot</th>\n",
       "    </tr>\n",
       "  </thead>\n",
       "  <tbody>\n",
       "    <tr>\n",
       "      <th>0</th>\n",
       "      <td>394.10</td>\n",
       "      <td>2020</td>\n",
       "      <td>1</td>\n",
       "      <td>1</td>\n",
       "      <td>1</td>\n",
       "      <td>12</td>\n",
       "      <td>180.30</td>\n",
       "      <td>394.10</td>\n",
       "      <td>2020-01-01</td>\n",
       "      <td>Wednesday</td>\n",
       "      <td>394.10</td>\n",
       "    </tr>\n",
       "    <tr>\n",
       "      <th>1</th>\n",
       "      <td>394.10</td>\n",
       "      <td>2020</td>\n",
       "      <td>1</td>\n",
       "      <td>1</td>\n",
       "      <td>2</td>\n",
       "      <td>12</td>\n",
       "      <td>180.30</td>\n",
       "      <td>394.10</td>\n",
       "      <td>2020-01-01</td>\n",
       "      <td>Wednesday</td>\n",
       "      <td>394.10</td>\n",
       "    </tr>\n",
       "    <tr>\n",
       "      <th>2</th>\n",
       "      <td>394.10</td>\n",
       "      <td>2020</td>\n",
       "      <td>1</td>\n",
       "      <td>1</td>\n",
       "      <td>3</td>\n",
       "      <td>1</td>\n",
       "      <td>1.13</td>\n",
       "      <td>50.00</td>\n",
       "      <td>2020-01-01</td>\n",
       "      <td>Wednesday</td>\n",
       "      <td>50.00</td>\n",
       "    </tr>\n",
       "    <tr>\n",
       "      <th>3</th>\n",
       "      <td>394.10</td>\n",
       "      <td>2020</td>\n",
       "      <td>1</td>\n",
       "      <td>1</td>\n",
       "      <td>3</td>\n",
       "      <td>12</td>\n",
       "      <td>180.30</td>\n",
       "      <td>344.10</td>\n",
       "      <td>2020-01-01</td>\n",
       "      <td>Wednesday</td>\n",
       "      <td>394.10</td>\n",
       "    </tr>\n",
       "    <tr>\n",
       "      <th>4</th>\n",
       "      <td>394.10</td>\n",
       "      <td>2020</td>\n",
       "      <td>1</td>\n",
       "      <td>1</td>\n",
       "      <td>4</td>\n",
       "      <td>1</td>\n",
       "      <td>1.13</td>\n",
       "      <td>60.00</td>\n",
       "      <td>2020-01-01</td>\n",
       "      <td>Wednesday</td>\n",
       "      <td>60.00</td>\n",
       "    </tr>\n",
       "  </tbody>\n",
       "</table>\n",
       "</div>"
      ],
      "text/plain": [
       "   Pot_max  Year  Month  Day  Period  Block  Price  Energy       Date  \\\n",
       "0   394.10  2020      1    1       1     12 180.30  394.10 2020-01-01   \n",
       "1   394.10  2020      1    1       2     12 180.30  394.10 2020-01-01   \n",
       "2   394.10  2020      1    1       3      1   1.13   50.00 2020-01-01   \n",
       "3   394.10  2020      1    1       3     12 180.30  344.10 2020-01-01   \n",
       "4   394.10  2020      1    1       4      1   1.13   60.00 2020-01-01   \n",
       "\n",
       "     Weekday  Energy_tot  \n",
       "0  Wednesday      394.10  \n",
       "1  Wednesday      394.10  \n",
       "2  Wednesday       50.00  \n",
       "3  Wednesday      394.10  \n",
       "4  Wednesday       60.00  "
      ]
     },
     "execution_count": 416,
     "metadata": {},
     "output_type": "execute_result"
    }
   ],
   "source": [
    "df_curve.head()"
   ]
  },
  {
   "cell_type": "code",
   "execution_count": 417,
   "metadata": {},
   "outputs": [],
   "source": [
    "########## FIST APPROACHES ########################\n",
    "\n",
    "#First idea was to create a blank structure with Year, Month, Day, Period and all Blocks (12) following the \n",
    "#original structure in df_curve. With this structure, multiindex and using \"reset_index_like\",\n",
    "#the original dataframe is modify with NaN."
   ]
  },
  {
   "cell_type": "code",
   "execution_count": 418,
   "metadata": {},
   "outputs": [
    {
     "data": {
      "text/plain": [
       "(2019, 2020)"
      ]
     },
     "execution_count": 418,
     "metadata": {},
     "output_type": "execute_result"
    }
   ],
   "source": [
    "y_min = df_curve['Year'].min()\n",
    "y_max = df_curve['Year'].max()\n",
    "y_min, y_max "
   ]
  },
  {
   "cell_type": "code",
   "execution_count": 419,
   "metadata": {},
   "outputs": [
    {
     "data": {
      "text/plain": [
       "(1, 10)"
      ]
     },
     "execution_count": 419,
     "metadata": {},
     "output_type": "execute_result"
    }
   ],
   "source": [
    "year = 2020\n",
    "m_min = df_curve[df_curve['Year']==year]['Month'].min()\n",
    "m_max = df_curve[df_curve['Year']==year]['Month'].max()\n",
    "m_min, m_max"
   ]
  },
  {
   "cell_type": "code",
   "execution_count": 420,
   "metadata": {},
   "outputs": [
    {
     "data": {
      "text/plain": [
       "(1, 29)"
      ]
     },
     "execution_count": 420,
     "metadata": {},
     "output_type": "execute_result"
    }
   ],
   "source": [
    "year = 2020\n",
    "month = 2\n",
    "d_min = df_curve[(df_curve['Year']==year)&(df_curve['Month']==month)]['Day'].min()\n",
    "d_max = df_curve[(df_curve['Year']==year)&(df_curve['Month']==month)]['Day'].max()\n",
    "d_min, d_max"
   ]
  },
  {
   "cell_type": "code",
   "execution_count": 421,
   "metadata": {},
   "outputs": [
    {
     "data": {
      "text/plain": [
       "(nan, nan)"
      ]
     },
     "execution_count": 421,
     "metadata": {},
     "output_type": "execute_result"
    }
   ],
   "source": [
    "year = 2019\n",
    "month = 10\n",
    "day = 25\n",
    "p_min = df_curve[(df_curve['Year']==year)&(df_curve['Month']==month)&(df_curve['Day']==day)]['Period'].min()\n",
    "p_max = df_curve[(df_curve['Year']==year)&(df_curve['Month']==month)&(df_curve['Day']==day)]['Period'].max()\n",
    "p_min, p_max"
   ]
  },
  {
   "cell_type": "code",
   "execution_count": 422,
   "metadata": {},
   "outputs": [
    {
     "data": {
      "text/plain": [
       "(1, 25)"
      ]
     },
     "execution_count": 422,
     "metadata": {},
     "output_type": "execute_result"
    }
   ],
   "source": [
    "year = 2020\n",
    "month = 10\n",
    "day = 25\n",
    "p_min = df_curve[(df_curve['Year']==year)&(df_curve['Month']==month)&(df_curve['Day']==day)]['Period'].min()\n",
    "p_max = df_curve[(df_curve['Year']==year)&(df_curve['Month']==month)&(df_curve['Day']==day)]['Period'].max()\n",
    "p_min, p_max"
   ]
  },
  {
   "cell_type": "code",
   "execution_count": 423,
   "metadata": {},
   "outputs": [
    {
     "data": {
      "text/plain": [
       "(1, 23)"
      ]
     },
     "execution_count": 423,
     "metadata": {},
     "output_type": "execute_result"
    }
   ],
   "source": [
    "year = 2020\n",
    "month = 3\n",
    "day = 29\n",
    "p_min = df_curve[(df_curve['Year']==year)&(df_curve['Month']==month)&(df_curve['Day']==day)]['Period'].min()\n",
    "p_max = df_curve[(df_curve['Year']==year)&(df_curve['Month']==month)&(df_curve['Day']==day)]['Period'].max()\n",
    "p_min, p_max"
   ]
  },
  {
   "cell_type": "code",
   "execution_count": 424,
   "metadata": {
    "scrolled": false
   },
   "outputs": [
    {
     "data": {
      "text/plain": [
       "int"
      ]
     },
     "execution_count": 424,
     "metadata": {},
     "output_type": "execute_result"
    }
   ],
   "source": [
    "type(p_max)"
   ]
  },
  {
   "cell_type": "code",
   "execution_count": 425,
   "metadata": {},
   "outputs": [
    {
     "data": {
      "text/plain": [
       "101760"
      ]
     },
     "execution_count": 425,
     "metadata": {},
     "output_type": "execute_result"
    }
   ],
   "source": [
    "#Number rows when Blocks are completed\n",
    "len(df_curve[df_curve['Block']==12])*12"
   ]
  },
  {
   "cell_type": "code",
   "execution_count": 426,
   "metadata": {},
   "outputs": [
    {
     "data": {
      "text/plain": [
       "71112"
      ]
     },
     "execution_count": 426,
     "metadata": {},
     "output_type": "execute_result"
    }
   ],
   "source": [
    "#Current number of rows\n",
    "len(df_curve)"
   ]
  },
  {
   "cell_type": "code",
   "execution_count": 427,
   "metadata": {},
   "outputs": [
    {
     "data": {
      "text/plain": [
       "30648"
      ]
     },
     "execution_count": 427,
     "metadata": {},
     "output_type": "execute_result"
    }
   ],
   "source": [
    "#Difference between current number of rows and complete number of rows\n",
    "diff = len(df_curve[df_curve['Block']==12])*12 - len(df_curve)\n",
    "diff"
   ]
  },
  {
   "cell_type": "code",
   "execution_count": 428,
   "metadata": {},
   "outputs": [
    {
     "data": {
      "text/plain": [
       "8480"
      ]
     },
     "execution_count": 428,
     "metadata": {},
     "output_type": "execute_result"
    }
   ],
   "source": [
    "num_periods = len(df_curve[df_curve['Block']==12])\n",
    "num_periods"
   ]
  },
  {
   "cell_type": "code",
   "execution_count": 429,
   "metadata": {},
   "outputs": [
    {
     "data": {
      "text/plain": [
       "3.6141509433962264"
      ]
     },
     "execution_count": 429,
     "metadata": {},
     "output_type": "execute_result"
    }
   ],
   "source": [
    "#Media of missing blocks per period\n",
    "\n",
    "diff/num_periods"
   ]
  },
  {
   "cell_type": "code",
   "execution_count": null,
   "metadata": {},
   "outputs": [],
   "source": []
  },
  {
   "cell_type": "code",
   "execution_count": 430,
   "metadata": {
    "scrolled": false
   },
   "outputs": [
    {
     "data": {
      "text/html": [
       "<div>\n",
       "<style scoped>\n",
       "    .dataframe tbody tr th:only-of-type {\n",
       "        vertical-align: middle;\n",
       "    }\n",
       "\n",
       "    .dataframe tbody tr th {\n",
       "        vertical-align: top;\n",
       "    }\n",
       "\n",
       "    .dataframe thead th {\n",
       "        text-align: right;\n",
       "    }\n",
       "</style>\n",
       "<table border=\"1\" class=\"dataframe\">\n",
       "  <thead>\n",
       "    <tr style=\"text-align: right;\">\n",
       "      <th></th>\n",
       "      <th>Year</th>\n",
       "      <th>Month</th>\n",
       "      <th>Day</th>\n",
       "    </tr>\n",
       "  </thead>\n",
       "  <tbody>\n",
       "    <tr>\n",
       "      <th>0</th>\n",
       "      <td>2019</td>\n",
       "      <td>11</td>\n",
       "      <td>1</td>\n",
       "    </tr>\n",
       "    <tr>\n",
       "      <th>1</th>\n",
       "      <td>2019</td>\n",
       "      <td>11</td>\n",
       "      <td>2</td>\n",
       "    </tr>\n",
       "    <tr>\n",
       "      <th>2</th>\n",
       "      <td>2019</td>\n",
       "      <td>11</td>\n",
       "      <td>3</td>\n",
       "    </tr>\n",
       "    <tr>\n",
       "      <th>3</th>\n",
       "      <td>2019</td>\n",
       "      <td>11</td>\n",
       "      <td>4</td>\n",
       "    </tr>\n",
       "    <tr>\n",
       "      <th>4</th>\n",
       "      <td>2019</td>\n",
       "      <td>11</td>\n",
       "      <td>5</td>\n",
       "    </tr>\n",
       "  </tbody>\n",
       "</table>\n",
       "</div>"
      ],
      "text/plain": [
       "   Year Month Day\n",
       "0  2019    11   1\n",
       "1  2019    11   2\n",
       "2  2019    11   3\n",
       "3  2019    11   4\n",
       "4  2019    11   5"
      ]
     },
     "execution_count": 430,
     "metadata": {},
     "output_type": "execute_result"
    }
   ],
   "source": [
    "############# DELETE IF THE OTHER CELLS WORK #######################\n",
    "\n",
    "\n",
    "#Trying to create the DataFrame structure for Month, Day, Period and Block\n",
    "\n",
    "df_empty = pd.DataFrame([], columns=['Year','Month','Day'])\n",
    "\n",
    "i = 0\n",
    "\n",
    "y_min = df_curve['Year'].min()\n",
    "y_max = df_curve['Year'].max()\n",
    "\n",
    "\n",
    "for yx in range(y_min,y_max+1):\n",
    "    \n",
    "    m_min = df_curve[df_curve['Year']==yx]['Month'].min()\n",
    "    m_max = df_curve[df_curve['Year']==yx]['Month'].max()\n",
    "    \n",
    "    for mx in range(m_min, m_max+1): \n",
    "        \n",
    "        d_min = df_curve[(df_curve['Year']==yx)&\n",
    "                         (df_curve['Month']==mx)]['Day'].min()\n",
    "        d_max = df_curve[(df_curve['Year']==yx)&\n",
    "                         (df_curve['Month']==mx)]['Day'].max()\n",
    "        \n",
    "        for dx in range(d_min, d_max+1):\n",
    "            \n",
    "            p_min = df_curve[(df_curve['Year']==yx)&\n",
    "                             (df_curve['Month']==mx)&\n",
    "                             (df_curve['Day']==dx)]['Period'].min()\n",
    "            p_max = df_curve[(df_curve['Year']==yx)&\n",
    "                             (df_curve['Month']==mx)&\n",
    "                             (df_curve['Day']==dx)]['Period'].max()\n",
    "            \n",
    "            #For some reason I do not understand p_max is a float NaN and the rest of the code do not work\n",
    "            \n",
    "            #for px in range(1, 24):\n",
    "            i += 1\n",
    "            df_empty = df_empty.append({'Year': yx, 'Month': mx, 'Day': dx}, ignore_index=True)\n",
    "            \n",
    "df_empty.head()"
   ]
  },
  {
   "cell_type": "code",
   "execution_count": 431,
   "metadata": {},
   "outputs": [
    {
     "data": {
      "text/plain": [
       "366"
      ]
     },
     "execution_count": 431,
     "metadata": {},
     "output_type": "execute_result"
    }
   ],
   "source": [
    "len(df_empty)"
   ]
  },
  {
   "cell_type": "code",
   "execution_count": 432,
   "metadata": {},
   "outputs": [
    {
     "data": {
      "text/html": [
       "<div>\n",
       "<style scoped>\n",
       "    .dataframe tbody tr th:only-of-type {\n",
       "        vertical-align: middle;\n",
       "    }\n",
       "\n",
       "    .dataframe tbody tr th {\n",
       "        vertical-align: top;\n",
       "    }\n",
       "\n",
       "    .dataframe thead th {\n",
       "        text-align: right;\n",
       "    }\n",
       "</style>\n",
       "<table border=\"1\" class=\"dataframe\">\n",
       "  <thead>\n",
       "    <tr style=\"text-align: right;\">\n",
       "      <th></th>\n",
       "      <th></th>\n",
       "      <th>Day</th>\n",
       "    </tr>\n",
       "    <tr>\n",
       "      <th>Year</th>\n",
       "      <th>Month</th>\n",
       "      <th></th>\n",
       "    </tr>\n",
       "  </thead>\n",
       "  <tbody>\n",
       "    <tr>\n",
       "      <th rowspan=\"2\" valign=\"top\">2019</th>\n",
       "      <th>11</th>\n",
       "      <td>30</td>\n",
       "    </tr>\n",
       "    <tr>\n",
       "      <th>12</th>\n",
       "      <td>31</td>\n",
       "    </tr>\n",
       "    <tr>\n",
       "      <th rowspan=\"10\" valign=\"top\">2020</th>\n",
       "      <th>1</th>\n",
       "      <td>31</td>\n",
       "    </tr>\n",
       "    <tr>\n",
       "      <th>2</th>\n",
       "      <td>29</td>\n",
       "    </tr>\n",
       "    <tr>\n",
       "      <th>3</th>\n",
       "      <td>31</td>\n",
       "    </tr>\n",
       "    <tr>\n",
       "      <th>4</th>\n",
       "      <td>30</td>\n",
       "    </tr>\n",
       "    <tr>\n",
       "      <th>5</th>\n",
       "      <td>31</td>\n",
       "    </tr>\n",
       "    <tr>\n",
       "      <th>6</th>\n",
       "      <td>30</td>\n",
       "    </tr>\n",
       "    <tr>\n",
       "      <th>7</th>\n",
       "      <td>31</td>\n",
       "    </tr>\n",
       "    <tr>\n",
       "      <th>8</th>\n",
       "      <td>31</td>\n",
       "    </tr>\n",
       "    <tr>\n",
       "      <th>9</th>\n",
       "      <td>30</td>\n",
       "    </tr>\n",
       "    <tr>\n",
       "      <th>10</th>\n",
       "      <td>31</td>\n",
       "    </tr>\n",
       "  </tbody>\n",
       "</table>\n",
       "</div>"
      ],
      "text/plain": [
       "            Day\n",
       "Year Month     \n",
       "2019 11      30\n",
       "     12      31\n",
       "2020 1       31\n",
       "     2       29\n",
       "     3       31\n",
       "     4       30\n",
       "     5       31\n",
       "     6       30\n",
       "     7       31\n",
       "     8       31\n",
       "     9       30\n",
       "     10      31"
      ]
     },
     "execution_count": 432,
     "metadata": {},
     "output_type": "execute_result"
    }
   ],
   "source": [
    "df_empty.groupby(['Year','Month']).count()"
   ]
  },
  {
   "cell_type": "code",
   "execution_count": 433,
   "metadata": {
    "scrolled": true
   },
   "outputs": [
    {
     "data": {
      "text/plain": [
       "Year  Month  Day  Period\n",
       "2019  11     1    1         12\n",
       "                  2         12\n",
       "                  3         13\n",
       "                  4         13\n",
       "                  5         13\n",
       "                            ..\n",
       "2020  10     31   20        78\n",
       "                  21        78\n",
       "                  22        78\n",
       "                  23        78\n",
       "                  24        78\n",
       "Name: Block, Length: 8480, dtype: int64"
      ]
     },
     "execution_count": 433,
     "metadata": {},
     "output_type": "execute_result"
    }
   ],
   "source": [
    "df_curve.groupby(['Year','Month','Day','Period'])['Block'].sum()"
   ]
  },
  {
   "cell_type": "code",
   "execution_count": 434,
   "metadata": {},
   "outputs": [],
   "source": [
    "#FIRST APPROACH WILL BE DELETED"
   ]
  },
  {
   "cell_type": "code",
   "execution_count": null,
   "metadata": {},
   "outputs": [],
   "source": []
  },
  {
   "cell_type": "code",
   "execution_count": 435,
   "metadata": {},
   "outputs": [],
   "source": [
    "############   NEW APPROACH  ##########################\n",
    "#The new idea consists in creating a df structure for 1 Block and then copy this new df, changing the number \n",
    "#of Block and appending it to the original. Doing it 12 times, we have the correct structure of the df."
   ]
  },
  {
   "cell_type": "code",
   "execution_count": 436,
   "metadata": {},
   "outputs": [
    {
     "data": {
      "text/html": [
       "<div>\n",
       "<style scoped>\n",
       "    .dataframe tbody tr th:only-of-type {\n",
       "        vertical-align: middle;\n",
       "    }\n",
       "\n",
       "    .dataframe tbody tr th {\n",
       "        vertical-align: top;\n",
       "    }\n",
       "\n",
       "    .dataframe thead th {\n",
       "        text-align: right;\n",
       "    }\n",
       "</style>\n",
       "<table border=\"1\" class=\"dataframe\">\n",
       "  <thead>\n",
       "    <tr style=\"text-align: right;\">\n",
       "      <th></th>\n",
       "      <th>Year</th>\n",
       "      <th>Month</th>\n",
       "      <th>Day</th>\n",
       "      <th>Period</th>\n",
       "      <th>Block</th>\n",
       "    </tr>\n",
       "  </thead>\n",
       "  <tbody>\n",
       "    <tr>\n",
       "      <th>0</th>\n",
       "      <td>2019</td>\n",
       "      <td>11</td>\n",
       "      <td>1</td>\n",
       "      <td>1</td>\n",
       "      <td>12</td>\n",
       "    </tr>\n",
       "    <tr>\n",
       "      <th>1</th>\n",
       "      <td>2019</td>\n",
       "      <td>11</td>\n",
       "      <td>1</td>\n",
       "      <td>2</td>\n",
       "      <td>12</td>\n",
       "    </tr>\n",
       "    <tr>\n",
       "      <th>2</th>\n",
       "      <td>2019</td>\n",
       "      <td>11</td>\n",
       "      <td>1</td>\n",
       "      <td>3</td>\n",
       "      <td>13</td>\n",
       "    </tr>\n",
       "    <tr>\n",
       "      <th>3</th>\n",
       "      <td>2019</td>\n",
       "      <td>11</td>\n",
       "      <td>1</td>\n",
       "      <td>4</td>\n",
       "      <td>13</td>\n",
       "    </tr>\n",
       "    <tr>\n",
       "      <th>4</th>\n",
       "      <td>2019</td>\n",
       "      <td>11</td>\n",
       "      <td>1</td>\n",
       "      <td>5</td>\n",
       "      <td>13</td>\n",
       "    </tr>\n",
       "    <tr>\n",
       "      <th>...</th>\n",
       "      <td>...</td>\n",
       "      <td>...</td>\n",
       "      <td>...</td>\n",
       "      <td>...</td>\n",
       "      <td>...</td>\n",
       "    </tr>\n",
       "    <tr>\n",
       "      <th>8475</th>\n",
       "      <td>2020</td>\n",
       "      <td>10</td>\n",
       "      <td>31</td>\n",
       "      <td>20</td>\n",
       "      <td>78</td>\n",
       "    </tr>\n",
       "    <tr>\n",
       "      <th>8476</th>\n",
       "      <td>2020</td>\n",
       "      <td>10</td>\n",
       "      <td>31</td>\n",
       "      <td>21</td>\n",
       "      <td>78</td>\n",
       "    </tr>\n",
       "    <tr>\n",
       "      <th>8477</th>\n",
       "      <td>2020</td>\n",
       "      <td>10</td>\n",
       "      <td>31</td>\n",
       "      <td>22</td>\n",
       "      <td>78</td>\n",
       "    </tr>\n",
       "    <tr>\n",
       "      <th>8478</th>\n",
       "      <td>2020</td>\n",
       "      <td>10</td>\n",
       "      <td>31</td>\n",
       "      <td>23</td>\n",
       "      <td>78</td>\n",
       "    </tr>\n",
       "    <tr>\n",
       "      <th>8479</th>\n",
       "      <td>2020</td>\n",
       "      <td>10</td>\n",
       "      <td>31</td>\n",
       "      <td>24</td>\n",
       "      <td>78</td>\n",
       "    </tr>\n",
       "  </tbody>\n",
       "</table>\n",
       "<p>8480 rows × 5 columns</p>\n",
       "</div>"
      ],
      "text/plain": [
       "      Year  Month  Day  Period  Block\n",
       "0     2019     11    1       1     12\n",
       "1     2019     11    1       2     12\n",
       "2     2019     11    1       3     13\n",
       "3     2019     11    1       4     13\n",
       "4     2019     11    1       5     13\n",
       "...    ...    ...  ...     ...    ...\n",
       "8475  2020     10   31      20     78\n",
       "8476  2020     10   31      21     78\n",
       "8477  2020     10   31      22     78\n",
       "8478  2020     10   31      23     78\n",
       "8479  2020     10   31      24     78\n",
       "\n",
       "[8480 rows x 5 columns]"
      ]
     },
     "execution_count": 436,
     "metadata": {},
     "output_type": "execute_result"
    }
   ],
   "source": [
    "df_block = df_curve.groupby(['Year','Month','Day','Period'])['Block'].sum().reset_index()\n",
    "df_block"
   ]
  },
  {
   "cell_type": "code",
   "execution_count": 437,
   "metadata": {},
   "outputs": [
    {
     "data": {
      "text/plain": [
       "101760"
      ]
     },
     "execution_count": 437,
     "metadata": {},
     "output_type": "execute_result"
    }
   ],
   "source": [
    "#Number of row that should have the new dataframe.\n",
    "\n",
    "8480*12"
   ]
  },
  {
   "cell_type": "code",
   "execution_count": 438,
   "metadata": {},
   "outputs": [],
   "source": [
    "#Changing the value of all Blocks to 1\n",
    "df_block['Block'] = 1"
   ]
  },
  {
   "cell_type": "code",
   "execution_count": 439,
   "metadata": {
    "scrolled": true
   },
   "outputs": [
    {
     "data": {
      "text/html": [
       "<div>\n",
       "<style scoped>\n",
       "    .dataframe tbody tr th:only-of-type {\n",
       "        vertical-align: middle;\n",
       "    }\n",
       "\n",
       "    .dataframe tbody tr th {\n",
       "        vertical-align: top;\n",
       "    }\n",
       "\n",
       "    .dataframe thead th {\n",
       "        text-align: right;\n",
       "    }\n",
       "</style>\n",
       "<table border=\"1\" class=\"dataframe\">\n",
       "  <thead>\n",
       "    <tr style=\"text-align: right;\">\n",
       "      <th></th>\n",
       "      <th>Year</th>\n",
       "      <th>Month</th>\n",
       "      <th>Day</th>\n",
       "      <th>Period</th>\n",
       "      <th>Block</th>\n",
       "    </tr>\n",
       "  </thead>\n",
       "  <tbody>\n",
       "    <tr>\n",
       "      <th>0</th>\n",
       "      <td>2019</td>\n",
       "      <td>11</td>\n",
       "      <td>1</td>\n",
       "      <td>1</td>\n",
       "      <td>1</td>\n",
       "    </tr>\n",
       "    <tr>\n",
       "      <th>1</th>\n",
       "      <td>2019</td>\n",
       "      <td>11</td>\n",
       "      <td>1</td>\n",
       "      <td>2</td>\n",
       "      <td>1</td>\n",
       "    </tr>\n",
       "    <tr>\n",
       "      <th>2</th>\n",
       "      <td>2019</td>\n",
       "      <td>11</td>\n",
       "      <td>1</td>\n",
       "      <td>3</td>\n",
       "      <td>1</td>\n",
       "    </tr>\n",
       "    <tr>\n",
       "      <th>3</th>\n",
       "      <td>2019</td>\n",
       "      <td>11</td>\n",
       "      <td>1</td>\n",
       "      <td>4</td>\n",
       "      <td>1</td>\n",
       "    </tr>\n",
       "    <tr>\n",
       "      <th>4</th>\n",
       "      <td>2019</td>\n",
       "      <td>11</td>\n",
       "      <td>1</td>\n",
       "      <td>5</td>\n",
       "      <td>1</td>\n",
       "    </tr>\n",
       "  </tbody>\n",
       "</table>\n",
       "</div>"
      ],
      "text/plain": [
       "   Year  Month  Day  Period  Block\n",
       "0  2019     11    1       1      1\n",
       "1  2019     11    1       2      1\n",
       "2  2019     11    1       3      1\n",
       "3  2019     11    1       4      1\n",
       "4  2019     11    1       5      1"
      ]
     },
     "execution_count": 439,
     "metadata": {},
     "output_type": "execute_result"
    }
   ],
   "source": [
    "df_block.head()"
   ]
  },
  {
   "cell_type": "code",
   "execution_count": 440,
   "metadata": {},
   "outputs": [],
   "source": [
    "#Creating a new dataframe with the same structure for all Blocks\n",
    "\n",
    "df_block_tot = pd.DataFrame()\n",
    "\n",
    "for block in range(1,13):\n",
    "    df_block_new = df_block.copy()\n",
    "    df_block_new['Block'] = block\n",
    "    df_block_tot = pd.concat([df_block_tot,df_block_new])"
   ]
  },
  {
   "cell_type": "code",
   "execution_count": 441,
   "metadata": {},
   "outputs": [
    {
     "data": {
      "text/html": [
       "<div>\n",
       "<style scoped>\n",
       "    .dataframe tbody tr th:only-of-type {\n",
       "        vertical-align: middle;\n",
       "    }\n",
       "\n",
       "    .dataframe tbody tr th {\n",
       "        vertical-align: top;\n",
       "    }\n",
       "\n",
       "    .dataframe thead th {\n",
       "        text-align: right;\n",
       "    }\n",
       "</style>\n",
       "<table border=\"1\" class=\"dataframe\">\n",
       "  <thead>\n",
       "    <tr style=\"text-align: right;\">\n",
       "      <th></th>\n",
       "      <th>Year</th>\n",
       "      <th>Month</th>\n",
       "      <th>Day</th>\n",
       "      <th>Period</th>\n",
       "      <th>Block</th>\n",
       "    </tr>\n",
       "  </thead>\n",
       "  <tbody>\n",
       "    <tr>\n",
       "      <th>0</th>\n",
       "      <td>2019</td>\n",
       "      <td>11</td>\n",
       "      <td>1</td>\n",
       "      <td>1</td>\n",
       "      <td>1</td>\n",
       "    </tr>\n",
       "    <tr>\n",
       "      <th>1</th>\n",
       "      <td>2019</td>\n",
       "      <td>11</td>\n",
       "      <td>1</td>\n",
       "      <td>2</td>\n",
       "      <td>1</td>\n",
       "    </tr>\n",
       "    <tr>\n",
       "      <th>2</th>\n",
       "      <td>2019</td>\n",
       "      <td>11</td>\n",
       "      <td>1</td>\n",
       "      <td>3</td>\n",
       "      <td>1</td>\n",
       "    </tr>\n",
       "    <tr>\n",
       "      <th>3</th>\n",
       "      <td>2019</td>\n",
       "      <td>11</td>\n",
       "      <td>1</td>\n",
       "      <td>4</td>\n",
       "      <td>1</td>\n",
       "    </tr>\n",
       "    <tr>\n",
       "      <th>4</th>\n",
       "      <td>2019</td>\n",
       "      <td>11</td>\n",
       "      <td>1</td>\n",
       "      <td>5</td>\n",
       "      <td>1</td>\n",
       "    </tr>\n",
       "    <tr>\n",
       "      <th>...</th>\n",
       "      <td>...</td>\n",
       "      <td>...</td>\n",
       "      <td>...</td>\n",
       "      <td>...</td>\n",
       "      <td>...</td>\n",
       "    </tr>\n",
       "    <tr>\n",
       "      <th>8475</th>\n",
       "      <td>2020</td>\n",
       "      <td>10</td>\n",
       "      <td>31</td>\n",
       "      <td>20</td>\n",
       "      <td>12</td>\n",
       "    </tr>\n",
       "    <tr>\n",
       "      <th>8476</th>\n",
       "      <td>2020</td>\n",
       "      <td>10</td>\n",
       "      <td>31</td>\n",
       "      <td>21</td>\n",
       "      <td>12</td>\n",
       "    </tr>\n",
       "    <tr>\n",
       "      <th>8477</th>\n",
       "      <td>2020</td>\n",
       "      <td>10</td>\n",
       "      <td>31</td>\n",
       "      <td>22</td>\n",
       "      <td>12</td>\n",
       "    </tr>\n",
       "    <tr>\n",
       "      <th>8478</th>\n",
       "      <td>2020</td>\n",
       "      <td>10</td>\n",
       "      <td>31</td>\n",
       "      <td>23</td>\n",
       "      <td>12</td>\n",
       "    </tr>\n",
       "    <tr>\n",
       "      <th>8479</th>\n",
       "      <td>2020</td>\n",
       "      <td>10</td>\n",
       "      <td>31</td>\n",
       "      <td>24</td>\n",
       "      <td>12</td>\n",
       "    </tr>\n",
       "  </tbody>\n",
       "</table>\n",
       "<p>101760 rows × 5 columns</p>\n",
       "</div>"
      ],
      "text/plain": [
       "      Year  Month  Day  Period  Block\n",
       "0     2019     11    1       1      1\n",
       "1     2019     11    1       2      1\n",
       "2     2019     11    1       3      1\n",
       "3     2019     11    1       4      1\n",
       "4     2019     11    1       5      1\n",
       "...    ...    ...  ...     ...    ...\n",
       "8475  2020     10   31      20     12\n",
       "8476  2020     10   31      21     12\n",
       "8477  2020     10   31      22     12\n",
       "8478  2020     10   31      23     12\n",
       "8479  2020     10   31      24     12\n",
       "\n",
       "[101760 rows x 5 columns]"
      ]
     },
     "execution_count": 441,
     "metadata": {},
     "output_type": "execute_result"
    }
   ],
   "source": [
    "df_block_tot"
   ]
  },
  {
   "cell_type": "code",
   "execution_count": 442,
   "metadata": {},
   "outputs": [],
   "source": [
    "df_block_tot.reset_index(inplace=True)"
   ]
  },
  {
   "cell_type": "code",
   "execution_count": 443,
   "metadata": {
    "scrolled": false
   },
   "outputs": [
    {
     "data": {
      "text/html": [
       "<div>\n",
       "<style scoped>\n",
       "    .dataframe tbody tr th:only-of-type {\n",
       "        vertical-align: middle;\n",
       "    }\n",
       "\n",
       "    .dataframe tbody tr th {\n",
       "        vertical-align: top;\n",
       "    }\n",
       "\n",
       "    .dataframe thead th {\n",
       "        text-align: right;\n",
       "    }\n",
       "</style>\n",
       "<table border=\"1\" class=\"dataframe\">\n",
       "  <thead>\n",
       "    <tr style=\"text-align: right;\">\n",
       "      <th></th>\n",
       "      <th>index</th>\n",
       "      <th>Year</th>\n",
       "      <th>Month</th>\n",
       "      <th>Day</th>\n",
       "      <th>Period</th>\n",
       "      <th>Block</th>\n",
       "    </tr>\n",
       "  </thead>\n",
       "  <tbody>\n",
       "    <tr>\n",
       "      <th>0</th>\n",
       "      <td>0</td>\n",
       "      <td>2019</td>\n",
       "      <td>11</td>\n",
       "      <td>1</td>\n",
       "      <td>1</td>\n",
       "      <td>1</td>\n",
       "    </tr>\n",
       "    <tr>\n",
       "      <th>1</th>\n",
       "      <td>1</td>\n",
       "      <td>2019</td>\n",
       "      <td>11</td>\n",
       "      <td>1</td>\n",
       "      <td>2</td>\n",
       "      <td>1</td>\n",
       "    </tr>\n",
       "    <tr>\n",
       "      <th>2</th>\n",
       "      <td>2</td>\n",
       "      <td>2019</td>\n",
       "      <td>11</td>\n",
       "      <td>1</td>\n",
       "      <td>3</td>\n",
       "      <td>1</td>\n",
       "    </tr>\n",
       "    <tr>\n",
       "      <th>3</th>\n",
       "      <td>3</td>\n",
       "      <td>2019</td>\n",
       "      <td>11</td>\n",
       "      <td>1</td>\n",
       "      <td>4</td>\n",
       "      <td>1</td>\n",
       "    </tr>\n",
       "    <tr>\n",
       "      <th>4</th>\n",
       "      <td>4</td>\n",
       "      <td>2019</td>\n",
       "      <td>11</td>\n",
       "      <td>1</td>\n",
       "      <td>5</td>\n",
       "      <td>1</td>\n",
       "    </tr>\n",
       "    <tr>\n",
       "      <th>...</th>\n",
       "      <td>...</td>\n",
       "      <td>...</td>\n",
       "      <td>...</td>\n",
       "      <td>...</td>\n",
       "      <td>...</td>\n",
       "      <td>...</td>\n",
       "    </tr>\n",
       "    <tr>\n",
       "      <th>101755</th>\n",
       "      <td>8475</td>\n",
       "      <td>2020</td>\n",
       "      <td>10</td>\n",
       "      <td>31</td>\n",
       "      <td>20</td>\n",
       "      <td>12</td>\n",
       "    </tr>\n",
       "    <tr>\n",
       "      <th>101756</th>\n",
       "      <td>8476</td>\n",
       "      <td>2020</td>\n",
       "      <td>10</td>\n",
       "      <td>31</td>\n",
       "      <td>21</td>\n",
       "      <td>12</td>\n",
       "    </tr>\n",
       "    <tr>\n",
       "      <th>101757</th>\n",
       "      <td>8477</td>\n",
       "      <td>2020</td>\n",
       "      <td>10</td>\n",
       "      <td>31</td>\n",
       "      <td>22</td>\n",
       "      <td>12</td>\n",
       "    </tr>\n",
       "    <tr>\n",
       "      <th>101758</th>\n",
       "      <td>8478</td>\n",
       "      <td>2020</td>\n",
       "      <td>10</td>\n",
       "      <td>31</td>\n",
       "      <td>23</td>\n",
       "      <td>12</td>\n",
       "    </tr>\n",
       "    <tr>\n",
       "      <th>101759</th>\n",
       "      <td>8479</td>\n",
       "      <td>2020</td>\n",
       "      <td>10</td>\n",
       "      <td>31</td>\n",
       "      <td>24</td>\n",
       "      <td>12</td>\n",
       "    </tr>\n",
       "  </tbody>\n",
       "</table>\n",
       "<p>101760 rows × 6 columns</p>\n",
       "</div>"
      ],
      "text/plain": [
       "        index  Year  Month  Day  Period  Block\n",
       "0           0  2019     11    1       1      1\n",
       "1           1  2019     11    1       2      1\n",
       "2           2  2019     11    1       3      1\n",
       "3           3  2019     11    1       4      1\n",
       "4           4  2019     11    1       5      1\n",
       "...       ...   ...    ...  ...     ...    ...\n",
       "101755   8475  2020     10   31      20     12\n",
       "101756   8476  2020     10   31      21     12\n",
       "101757   8477  2020     10   31      22     12\n",
       "101758   8478  2020     10   31      23     12\n",
       "101759   8479  2020     10   31      24     12\n",
       "\n",
       "[101760 rows x 6 columns]"
      ]
     },
     "execution_count": 443,
     "metadata": {},
     "output_type": "execute_result"
    }
   ],
   "source": [
    "df_block_tot"
   ]
  },
  {
   "cell_type": "code",
   "execution_count": 444,
   "metadata": {},
   "outputs": [
    {
     "data": {
      "text/plain": [
       "True"
      ]
     },
     "execution_count": 444,
     "metadata": {},
     "output_type": "execute_result"
    }
   ],
   "source": [
    "len(df_block_tot) == 8480*12"
   ]
  },
  {
   "cell_type": "code",
   "execution_count": null,
   "metadata": {},
   "outputs": [],
   "source": []
  },
  {
   "cell_type": "code",
   "execution_count": 445,
   "metadata": {},
   "outputs": [],
   "source": [
    "#Now the complet dataframe is created by merging the original df (df_curve) with the new structure dataframe \n",
    "#created (df_block_tot)\n",
    "\n",
    "df_tot = df_curve.merge(df_block_tot,how='outer')"
   ]
  },
  {
   "cell_type": "code",
   "execution_count": 446,
   "metadata": {},
   "outputs": [
    {
     "data": {
      "text/html": [
       "<div>\n",
       "<style scoped>\n",
       "    .dataframe tbody tr th:only-of-type {\n",
       "        vertical-align: middle;\n",
       "    }\n",
       "\n",
       "    .dataframe tbody tr th {\n",
       "        vertical-align: top;\n",
       "    }\n",
       "\n",
       "    .dataframe thead th {\n",
       "        text-align: right;\n",
       "    }\n",
       "</style>\n",
       "<table border=\"1\" class=\"dataframe\">\n",
       "  <thead>\n",
       "    <tr style=\"text-align: right;\">\n",
       "      <th></th>\n",
       "      <th>Pot_max</th>\n",
       "      <th>Year</th>\n",
       "      <th>Month</th>\n",
       "      <th>Day</th>\n",
       "      <th>Period</th>\n",
       "      <th>Block</th>\n",
       "      <th>Price</th>\n",
       "      <th>Energy</th>\n",
       "      <th>Date</th>\n",
       "      <th>Weekday</th>\n",
       "      <th>Energy_tot</th>\n",
       "      <th>index</th>\n",
       "    </tr>\n",
       "  </thead>\n",
       "  <tbody>\n",
       "    <tr>\n",
       "      <th>0</th>\n",
       "      <td>394.10</td>\n",
       "      <td>2020</td>\n",
       "      <td>1</td>\n",
       "      <td>1</td>\n",
       "      <td>1</td>\n",
       "      <td>12</td>\n",
       "      <td>180.30</td>\n",
       "      <td>394.10</td>\n",
       "      <td>2020-01-01</td>\n",
       "      <td>Wednesday</td>\n",
       "      <td>394.10</td>\n",
       "      <td>1160</td>\n",
       "    </tr>\n",
       "    <tr>\n",
       "      <th>1</th>\n",
       "      <td>394.10</td>\n",
       "      <td>2020</td>\n",
       "      <td>1</td>\n",
       "      <td>1</td>\n",
       "      <td>2</td>\n",
       "      <td>12</td>\n",
       "      <td>180.30</td>\n",
       "      <td>394.10</td>\n",
       "      <td>2020-01-01</td>\n",
       "      <td>Wednesday</td>\n",
       "      <td>394.10</td>\n",
       "      <td>1161</td>\n",
       "    </tr>\n",
       "    <tr>\n",
       "      <th>2</th>\n",
       "      <td>394.10</td>\n",
       "      <td>2020</td>\n",
       "      <td>1</td>\n",
       "      <td>1</td>\n",
       "      <td>3</td>\n",
       "      <td>1</td>\n",
       "      <td>1.13</td>\n",
       "      <td>50.00</td>\n",
       "      <td>2020-01-01</td>\n",
       "      <td>Wednesday</td>\n",
       "      <td>50.00</td>\n",
       "      <td>1162</td>\n",
       "    </tr>\n",
       "    <tr>\n",
       "      <th>3</th>\n",
       "      <td>394.10</td>\n",
       "      <td>2020</td>\n",
       "      <td>1</td>\n",
       "      <td>1</td>\n",
       "      <td>3</td>\n",
       "      <td>12</td>\n",
       "      <td>180.30</td>\n",
       "      <td>344.10</td>\n",
       "      <td>2020-01-01</td>\n",
       "      <td>Wednesday</td>\n",
       "      <td>394.10</td>\n",
       "      <td>1162</td>\n",
       "    </tr>\n",
       "    <tr>\n",
       "      <th>4</th>\n",
       "      <td>394.10</td>\n",
       "      <td>2020</td>\n",
       "      <td>1</td>\n",
       "      <td>1</td>\n",
       "      <td>4</td>\n",
       "      <td>1</td>\n",
       "      <td>1.13</td>\n",
       "      <td>60.00</td>\n",
       "      <td>2020-01-01</td>\n",
       "      <td>Wednesday</td>\n",
       "      <td>60.00</td>\n",
       "      <td>1163</td>\n",
       "    </tr>\n",
       "    <tr>\n",
       "      <th>...</th>\n",
       "      <td>...</td>\n",
       "      <td>...</td>\n",
       "      <td>...</td>\n",
       "      <td>...</td>\n",
       "      <td>...</td>\n",
       "      <td>...</td>\n",
       "      <td>...</td>\n",
       "      <td>...</td>\n",
       "      <td>...</td>\n",
       "      <td>...</td>\n",
       "      <td>...</td>\n",
       "      <td>...</td>\n",
       "    </tr>\n",
       "    <tr>\n",
       "      <th>101755</th>\n",
       "      <td>nan</td>\n",
       "      <td>2020</td>\n",
       "      <td>10</td>\n",
       "      <td>31</td>\n",
       "      <td>5</td>\n",
       "      <td>11</td>\n",
       "      <td>nan</td>\n",
       "      <td>nan</td>\n",
       "      <td>NaT</td>\n",
       "      <td>NaN</td>\n",
       "      <td>nan</td>\n",
       "      <td>8460</td>\n",
       "    </tr>\n",
       "    <tr>\n",
       "      <th>101756</th>\n",
       "      <td>nan</td>\n",
       "      <td>2020</td>\n",
       "      <td>10</td>\n",
       "      <td>31</td>\n",
       "      <td>6</td>\n",
       "      <td>11</td>\n",
       "      <td>nan</td>\n",
       "      <td>nan</td>\n",
       "      <td>NaT</td>\n",
       "      <td>NaN</td>\n",
       "      <td>nan</td>\n",
       "      <td>8461</td>\n",
       "    </tr>\n",
       "    <tr>\n",
       "      <th>101757</th>\n",
       "      <td>nan</td>\n",
       "      <td>2020</td>\n",
       "      <td>10</td>\n",
       "      <td>31</td>\n",
       "      <td>7</td>\n",
       "      <td>11</td>\n",
       "      <td>nan</td>\n",
       "      <td>nan</td>\n",
       "      <td>NaT</td>\n",
       "      <td>NaN</td>\n",
       "      <td>nan</td>\n",
       "      <td>8462</td>\n",
       "    </tr>\n",
       "    <tr>\n",
       "      <th>101758</th>\n",
       "      <td>nan</td>\n",
       "      <td>2020</td>\n",
       "      <td>10</td>\n",
       "      <td>31</td>\n",
       "      <td>8</td>\n",
       "      <td>11</td>\n",
       "      <td>nan</td>\n",
       "      <td>nan</td>\n",
       "      <td>NaT</td>\n",
       "      <td>NaN</td>\n",
       "      <td>nan</td>\n",
       "      <td>8463</td>\n",
       "    </tr>\n",
       "    <tr>\n",
       "      <th>101759</th>\n",
       "      <td>nan</td>\n",
       "      <td>2020</td>\n",
       "      <td>10</td>\n",
       "      <td>31</td>\n",
       "      <td>9</td>\n",
       "      <td>11</td>\n",
       "      <td>nan</td>\n",
       "      <td>nan</td>\n",
       "      <td>NaT</td>\n",
       "      <td>NaN</td>\n",
       "      <td>nan</td>\n",
       "      <td>8464</td>\n",
       "    </tr>\n",
       "  </tbody>\n",
       "</table>\n",
       "<p>101760 rows × 12 columns</p>\n",
       "</div>"
      ],
      "text/plain": [
       "        Pot_max  Year  Month  Day  Period  Block  Price  Energy       Date  \\\n",
       "0        394.10  2020      1    1       1     12 180.30  394.10 2020-01-01   \n",
       "1        394.10  2020      1    1       2     12 180.30  394.10 2020-01-01   \n",
       "2        394.10  2020      1    1       3      1   1.13   50.00 2020-01-01   \n",
       "3        394.10  2020      1    1       3     12 180.30  344.10 2020-01-01   \n",
       "4        394.10  2020      1    1       4      1   1.13   60.00 2020-01-01   \n",
       "...         ...   ...    ...  ...     ...    ...    ...     ...        ...   \n",
       "101755      nan  2020     10   31       5     11    nan     nan        NaT   \n",
       "101756      nan  2020     10   31       6     11    nan     nan        NaT   \n",
       "101757      nan  2020     10   31       7     11    nan     nan        NaT   \n",
       "101758      nan  2020     10   31       8     11    nan     nan        NaT   \n",
       "101759      nan  2020     10   31       9     11    nan     nan        NaT   \n",
       "\n",
       "          Weekday  Energy_tot  index  \n",
       "0       Wednesday      394.10   1160  \n",
       "1       Wednesday      394.10   1161  \n",
       "2       Wednesday       50.00   1162  \n",
       "3       Wednesday      394.10   1162  \n",
       "4       Wednesday       60.00   1163  \n",
       "...           ...         ...    ...  \n",
       "101755        NaN         nan   8460  \n",
       "101756        NaN         nan   8461  \n",
       "101757        NaN         nan   8462  \n",
       "101758        NaN         nan   8463  \n",
       "101759        NaN         nan   8464  \n",
       "\n",
       "[101760 rows x 12 columns]"
      ]
     },
     "execution_count": 446,
     "metadata": {},
     "output_type": "execute_result"
    }
   ],
   "source": [
    "df_tot"
   ]
  },
  {
   "cell_type": "code",
   "execution_count": 447,
   "metadata": {},
   "outputs": [
    {
     "data": {
      "text/html": [
       "<div>\n",
       "<style scoped>\n",
       "    .dataframe tbody tr th:only-of-type {\n",
       "        vertical-align: middle;\n",
       "    }\n",
       "\n",
       "    .dataframe tbody tr th {\n",
       "        vertical-align: top;\n",
       "    }\n",
       "\n",
       "    .dataframe thead th {\n",
       "        text-align: right;\n",
       "    }\n",
       "</style>\n",
       "<table border=\"1\" class=\"dataframe\">\n",
       "  <thead>\n",
       "    <tr style=\"text-align: right;\">\n",
       "      <th></th>\n",
       "      <th>level_0</th>\n",
       "      <th>Pot_max</th>\n",
       "      <th>Year</th>\n",
       "      <th>Month</th>\n",
       "      <th>Day</th>\n",
       "      <th>Period</th>\n",
       "      <th>Block</th>\n",
       "      <th>Price</th>\n",
       "      <th>Energy</th>\n",
       "      <th>Date</th>\n",
       "      <th>Weekday</th>\n",
       "      <th>Energy_tot</th>\n",
       "      <th>index</th>\n",
       "    </tr>\n",
       "  </thead>\n",
       "  <tbody>\n",
       "    <tr>\n",
       "      <th>0</th>\n",
       "      <td>71112</td>\n",
       "      <td>nan</td>\n",
       "      <td>2019</td>\n",
       "      <td>11</td>\n",
       "      <td>1</td>\n",
       "      <td>1</td>\n",
       "      <td>1</td>\n",
       "      <td>nan</td>\n",
       "      <td>nan</td>\n",
       "      <td>NaT</td>\n",
       "      <td>NaN</td>\n",
       "      <td>nan</td>\n",
       "      <td>0</td>\n",
       "    </tr>\n",
       "    <tr>\n",
       "      <th>1</th>\n",
       "      <td>72128</td>\n",
       "      <td>nan</td>\n",
       "      <td>2019</td>\n",
       "      <td>11</td>\n",
       "      <td>1</td>\n",
       "      <td>1</td>\n",
       "      <td>2</td>\n",
       "      <td>nan</td>\n",
       "      <td>nan</td>\n",
       "      <td>NaT</td>\n",
       "      <td>NaN</td>\n",
       "      <td>nan</td>\n",
       "      <td>0</td>\n",
       "    </tr>\n",
       "    <tr>\n",
       "      <th>2</th>\n",
       "      <td>74889</td>\n",
       "      <td>nan</td>\n",
       "      <td>2019</td>\n",
       "      <td>11</td>\n",
       "      <td>1</td>\n",
       "      <td>1</td>\n",
       "      <td>3</td>\n",
       "      <td>nan</td>\n",
       "      <td>nan</td>\n",
       "      <td>NaT</td>\n",
       "      <td>NaN</td>\n",
       "      <td>nan</td>\n",
       "      <td>0</td>\n",
       "    </tr>\n",
       "    <tr>\n",
       "      <th>3</th>\n",
       "      <td>77650</td>\n",
       "      <td>nan</td>\n",
       "      <td>2019</td>\n",
       "      <td>11</td>\n",
       "      <td>1</td>\n",
       "      <td>1</td>\n",
       "      <td>4</td>\n",
       "      <td>nan</td>\n",
       "      <td>nan</td>\n",
       "      <td>NaT</td>\n",
       "      <td>NaN</td>\n",
       "      <td>nan</td>\n",
       "      <td>0</td>\n",
       "    </tr>\n",
       "    <tr>\n",
       "      <th>4</th>\n",
       "      <td>80412</td>\n",
       "      <td>nan</td>\n",
       "      <td>2019</td>\n",
       "      <td>11</td>\n",
       "      <td>1</td>\n",
       "      <td>1</td>\n",
       "      <td>5</td>\n",
       "      <td>nan</td>\n",
       "      <td>nan</td>\n",
       "      <td>NaT</td>\n",
       "      <td>NaN</td>\n",
       "      <td>nan</td>\n",
       "      <td>0</td>\n",
       "    </tr>\n",
       "    <tr>\n",
       "      <th>...</th>\n",
       "      <td>...</td>\n",
       "      <td>...</td>\n",
       "      <td>...</td>\n",
       "      <td>...</td>\n",
       "      <td>...</td>\n",
       "      <td>...</td>\n",
       "      <td>...</td>\n",
       "      <td>...</td>\n",
       "      <td>...</td>\n",
       "      <td>...</td>\n",
       "      <td>...</td>\n",
       "      <td>...</td>\n",
       "      <td>...</td>\n",
       "    </tr>\n",
       "    <tr>\n",
       "      <th>101755</th>\n",
       "      <td>61040</td>\n",
       "      <td>394.10</td>\n",
       "      <td>2020</td>\n",
       "      <td>10</td>\n",
       "      <td>31</td>\n",
       "      <td>24</td>\n",
       "      <td>8</td>\n",
       "      <td>40.22</td>\n",
       "      <td>17.00</td>\n",
       "      <td>2020-10-31</td>\n",
       "      <td>Saturday</td>\n",
       "      <td>309.00</td>\n",
       "      <td>8479</td>\n",
       "    </tr>\n",
       "    <tr>\n",
       "      <th>101756</th>\n",
       "      <td>61041</td>\n",
       "      <td>394.10</td>\n",
       "      <td>2020</td>\n",
       "      <td>10</td>\n",
       "      <td>31</td>\n",
       "      <td>24</td>\n",
       "      <td>9</td>\n",
       "      <td>41.47</td>\n",
       "      <td>17.00</td>\n",
       "      <td>2020-10-31</td>\n",
       "      <td>Saturday</td>\n",
       "      <td>326.00</td>\n",
       "      <td>8479</td>\n",
       "    </tr>\n",
       "    <tr>\n",
       "      <th>101757</th>\n",
       "      <td>61042</td>\n",
       "      <td>394.10</td>\n",
       "      <td>2020</td>\n",
       "      <td>10</td>\n",
       "      <td>31</td>\n",
       "      <td>24</td>\n",
       "      <td>10</td>\n",
       "      <td>42.73</td>\n",
       "      <td>17.00</td>\n",
       "      <td>2020-10-31</td>\n",
       "      <td>Saturday</td>\n",
       "      <td>343.00</td>\n",
       "      <td>8479</td>\n",
       "    </tr>\n",
       "    <tr>\n",
       "      <th>101758</th>\n",
       "      <td>61043</td>\n",
       "      <td>394.10</td>\n",
       "      <td>2020</td>\n",
       "      <td>10</td>\n",
       "      <td>31</td>\n",
       "      <td>24</td>\n",
       "      <td>11</td>\n",
       "      <td>44.48</td>\n",
       "      <td>17.00</td>\n",
       "      <td>2020-10-31</td>\n",
       "      <td>Saturday</td>\n",
       "      <td>360.00</td>\n",
       "      <td>8479</td>\n",
       "    </tr>\n",
       "    <tr>\n",
       "      <th>101759</th>\n",
       "      <td>61044</td>\n",
       "      <td>394.10</td>\n",
       "      <td>2020</td>\n",
       "      <td>10</td>\n",
       "      <td>31</td>\n",
       "      <td>24</td>\n",
       "      <td>12</td>\n",
       "      <td>180.30</td>\n",
       "      <td>34.10</td>\n",
       "      <td>2020-10-31</td>\n",
       "      <td>Saturday</td>\n",
       "      <td>394.10</td>\n",
       "      <td>8479</td>\n",
       "    </tr>\n",
       "  </tbody>\n",
       "</table>\n",
       "<p>101760 rows × 13 columns</p>\n",
       "</div>"
      ],
      "text/plain": [
       "        level_0  Pot_max  Year  Month  Day  Period  Block  Price  Energy  \\\n",
       "0         71112      nan  2019     11    1       1      1    nan     nan   \n",
       "1         72128      nan  2019     11    1       1      2    nan     nan   \n",
       "2         74889      nan  2019     11    1       1      3    nan     nan   \n",
       "3         77650      nan  2019     11    1       1      4    nan     nan   \n",
       "4         80412      nan  2019     11    1       1      5    nan     nan   \n",
       "...         ...      ...   ...    ...  ...     ...    ...    ...     ...   \n",
       "101755    61040   394.10  2020     10   31      24      8  40.22   17.00   \n",
       "101756    61041   394.10  2020     10   31      24      9  41.47   17.00   \n",
       "101757    61042   394.10  2020     10   31      24     10  42.73   17.00   \n",
       "101758    61043   394.10  2020     10   31      24     11  44.48   17.00   \n",
       "101759    61044   394.10  2020     10   31      24     12 180.30   34.10   \n",
       "\n",
       "             Date   Weekday  Energy_tot  index  \n",
       "0             NaT       NaN         nan      0  \n",
       "1             NaT       NaN         nan      0  \n",
       "2             NaT       NaN         nan      0  \n",
       "3             NaT       NaN         nan      0  \n",
       "4             NaT       NaN         nan      0  \n",
       "...           ...       ...         ...    ...  \n",
       "101755 2020-10-31  Saturday      309.00   8479  \n",
       "101756 2020-10-31  Saturday      326.00   8479  \n",
       "101757 2020-10-31  Saturday      343.00   8479  \n",
       "101758 2020-10-31  Saturday      360.00   8479  \n",
       "101759 2020-10-31  Saturday      394.10   8479  \n",
       "\n",
       "[101760 rows x 13 columns]"
      ]
     },
     "execution_count": 447,
     "metadata": {},
     "output_type": "execute_result"
    }
   ],
   "source": [
    "#New dataframe is sorted and reseted index\n",
    "df_tot = df_tot.sort_values(['Year','Month','Day','Period','Block']).reset_index()\n",
    "df_tot"
   ]
  },
  {
   "cell_type": "code",
   "execution_count": 448,
   "metadata": {},
   "outputs": [],
   "source": [
    "df_tot.drop(['level_0','index'],axis=1,inplace=True)"
   ]
  },
  {
   "cell_type": "code",
   "execution_count": 449,
   "metadata": {
    "scrolled": false
   },
   "outputs": [
    {
     "data": {
      "text/html": [
       "<div>\n",
       "<style scoped>\n",
       "    .dataframe tbody tr th:only-of-type {\n",
       "        vertical-align: middle;\n",
       "    }\n",
       "\n",
       "    .dataframe tbody tr th {\n",
       "        vertical-align: top;\n",
       "    }\n",
       "\n",
       "    .dataframe thead th {\n",
       "        text-align: right;\n",
       "    }\n",
       "</style>\n",
       "<table border=\"1\" class=\"dataframe\">\n",
       "  <thead>\n",
       "    <tr style=\"text-align: right;\">\n",
       "      <th></th>\n",
       "      <th>Pot_max</th>\n",
       "      <th>Year</th>\n",
       "      <th>Month</th>\n",
       "      <th>Day</th>\n",
       "      <th>Period</th>\n",
       "      <th>Block</th>\n",
       "      <th>Price</th>\n",
       "      <th>Energy</th>\n",
       "      <th>Date</th>\n",
       "      <th>Weekday</th>\n",
       "      <th>Energy_tot</th>\n",
       "    </tr>\n",
       "  </thead>\n",
       "  <tbody>\n",
       "    <tr>\n",
       "      <th>0</th>\n",
       "      <td>nan</td>\n",
       "      <td>2019</td>\n",
       "      <td>11</td>\n",
       "      <td>1</td>\n",
       "      <td>1</td>\n",
       "      <td>1</td>\n",
       "      <td>nan</td>\n",
       "      <td>nan</td>\n",
       "      <td>NaT</td>\n",
       "      <td>NaN</td>\n",
       "      <td>nan</td>\n",
       "    </tr>\n",
       "    <tr>\n",
       "      <th>1</th>\n",
       "      <td>nan</td>\n",
       "      <td>2019</td>\n",
       "      <td>11</td>\n",
       "      <td>1</td>\n",
       "      <td>1</td>\n",
       "      <td>2</td>\n",
       "      <td>nan</td>\n",
       "      <td>nan</td>\n",
       "      <td>NaT</td>\n",
       "      <td>NaN</td>\n",
       "      <td>nan</td>\n",
       "    </tr>\n",
       "    <tr>\n",
       "      <th>2</th>\n",
       "      <td>nan</td>\n",
       "      <td>2019</td>\n",
       "      <td>11</td>\n",
       "      <td>1</td>\n",
       "      <td>1</td>\n",
       "      <td>3</td>\n",
       "      <td>nan</td>\n",
       "      <td>nan</td>\n",
       "      <td>NaT</td>\n",
       "      <td>NaN</td>\n",
       "      <td>nan</td>\n",
       "    </tr>\n",
       "    <tr>\n",
       "      <th>3</th>\n",
       "      <td>nan</td>\n",
       "      <td>2019</td>\n",
       "      <td>11</td>\n",
       "      <td>1</td>\n",
       "      <td>1</td>\n",
       "      <td>4</td>\n",
       "      <td>nan</td>\n",
       "      <td>nan</td>\n",
       "      <td>NaT</td>\n",
       "      <td>NaN</td>\n",
       "      <td>nan</td>\n",
       "    </tr>\n",
       "    <tr>\n",
       "      <th>4</th>\n",
       "      <td>nan</td>\n",
       "      <td>2019</td>\n",
       "      <td>11</td>\n",
       "      <td>1</td>\n",
       "      <td>1</td>\n",
       "      <td>5</td>\n",
       "      <td>nan</td>\n",
       "      <td>nan</td>\n",
       "      <td>NaT</td>\n",
       "      <td>NaN</td>\n",
       "      <td>nan</td>\n",
       "    </tr>\n",
       "    <tr>\n",
       "      <th>...</th>\n",
       "      <td>...</td>\n",
       "      <td>...</td>\n",
       "      <td>...</td>\n",
       "      <td>...</td>\n",
       "      <td>...</td>\n",
       "      <td>...</td>\n",
       "      <td>...</td>\n",
       "      <td>...</td>\n",
       "      <td>...</td>\n",
       "      <td>...</td>\n",
       "      <td>...</td>\n",
       "    </tr>\n",
       "    <tr>\n",
       "      <th>101755</th>\n",
       "      <td>394.10</td>\n",
       "      <td>2020</td>\n",
       "      <td>10</td>\n",
       "      <td>31</td>\n",
       "      <td>24</td>\n",
       "      <td>8</td>\n",
       "      <td>40.22</td>\n",
       "      <td>17.00</td>\n",
       "      <td>2020-10-31</td>\n",
       "      <td>Saturday</td>\n",
       "      <td>309.00</td>\n",
       "    </tr>\n",
       "    <tr>\n",
       "      <th>101756</th>\n",
       "      <td>394.10</td>\n",
       "      <td>2020</td>\n",
       "      <td>10</td>\n",
       "      <td>31</td>\n",
       "      <td>24</td>\n",
       "      <td>9</td>\n",
       "      <td>41.47</td>\n",
       "      <td>17.00</td>\n",
       "      <td>2020-10-31</td>\n",
       "      <td>Saturday</td>\n",
       "      <td>326.00</td>\n",
       "    </tr>\n",
       "    <tr>\n",
       "      <th>101757</th>\n",
       "      <td>394.10</td>\n",
       "      <td>2020</td>\n",
       "      <td>10</td>\n",
       "      <td>31</td>\n",
       "      <td>24</td>\n",
       "      <td>10</td>\n",
       "      <td>42.73</td>\n",
       "      <td>17.00</td>\n",
       "      <td>2020-10-31</td>\n",
       "      <td>Saturday</td>\n",
       "      <td>343.00</td>\n",
       "    </tr>\n",
       "    <tr>\n",
       "      <th>101758</th>\n",
       "      <td>394.10</td>\n",
       "      <td>2020</td>\n",
       "      <td>10</td>\n",
       "      <td>31</td>\n",
       "      <td>24</td>\n",
       "      <td>11</td>\n",
       "      <td>44.48</td>\n",
       "      <td>17.00</td>\n",
       "      <td>2020-10-31</td>\n",
       "      <td>Saturday</td>\n",
       "      <td>360.00</td>\n",
       "    </tr>\n",
       "    <tr>\n",
       "      <th>101759</th>\n",
       "      <td>394.10</td>\n",
       "      <td>2020</td>\n",
       "      <td>10</td>\n",
       "      <td>31</td>\n",
       "      <td>24</td>\n",
       "      <td>12</td>\n",
       "      <td>180.30</td>\n",
       "      <td>34.10</td>\n",
       "      <td>2020-10-31</td>\n",
       "      <td>Saturday</td>\n",
       "      <td>394.10</td>\n",
       "    </tr>\n",
       "  </tbody>\n",
       "</table>\n",
       "<p>101760 rows × 11 columns</p>\n",
       "</div>"
      ],
      "text/plain": [
       "        Pot_max  Year  Month  Day  Period  Block  Price  Energy       Date  \\\n",
       "0           nan  2019     11    1       1      1    nan     nan        NaT   \n",
       "1           nan  2019     11    1       1      2    nan     nan        NaT   \n",
       "2           nan  2019     11    1       1      3    nan     nan        NaT   \n",
       "3           nan  2019     11    1       1      4    nan     nan        NaT   \n",
       "4           nan  2019     11    1       1      5    nan     nan        NaT   \n",
       "...         ...   ...    ...  ...     ...    ...    ...     ...        ...   \n",
       "101755   394.10  2020     10   31      24      8  40.22   17.00 2020-10-31   \n",
       "101756   394.10  2020     10   31      24      9  41.47   17.00 2020-10-31   \n",
       "101757   394.10  2020     10   31      24     10  42.73   17.00 2020-10-31   \n",
       "101758   394.10  2020     10   31      24     11  44.48   17.00 2020-10-31   \n",
       "101759   394.10  2020     10   31      24     12 180.30   34.10 2020-10-31   \n",
       "\n",
       "         Weekday  Energy_tot  \n",
       "0            NaN         nan  \n",
       "1            NaN         nan  \n",
       "2            NaN         nan  \n",
       "3            NaN         nan  \n",
       "4            NaN         nan  \n",
       "...          ...         ...  \n",
       "101755  Saturday      309.00  \n",
       "101756  Saturday      326.00  \n",
       "101757  Saturday      343.00  \n",
       "101758  Saturday      360.00  \n",
       "101759  Saturday      394.10  \n",
       "\n",
       "[101760 rows x 11 columns]"
      ]
     },
     "execution_count": 449,
     "metadata": {},
     "output_type": "execute_result"
    }
   ],
   "source": [
    "df_tot"
   ]
  },
  {
   "cell_type": "code",
   "execution_count": 450,
   "metadata": {},
   "outputs": [],
   "source": [
    "#As the structrue dataframe has more rows that the original, a lot of NaN have been created.\n",
    "#These NaN must be filled."
   ]
  },
  {
   "cell_type": "code",
   "execution_count": 451,
   "metadata": {
    "scrolled": true
   },
   "outputs": [],
   "source": [
    "#As Block 12 is always filled in the original dataframe and dataframe is sorted by 'Block', bfill is the\n",
    "#right method to fill NaN since the meaning of no Block in OMIE curve is a fixed Price.\n",
    "df_tot['Price'].fillna(method='bfill',inplace=True)"
   ]
  },
  {
   "cell_type": "code",
   "execution_count": 452,
   "metadata": {},
   "outputs": [],
   "source": [
    "#Pot_max is allways the same value\n",
    "df_tot['Pot_max'].fillna(df_tot['Pot_max'].max(),inplace=True)"
   ]
  },
  {
   "cell_type": "code",
   "execution_count": 454,
   "metadata": {},
   "outputs": [],
   "source": [
    "#For the same reason of Price, Weekday is filled with bfill method\n",
    "df_tot['Weekday'].fillna(method='bfill',inplace=True)"
   ]
  },
  {
   "cell_type": "code",
   "execution_count": 455,
   "metadata": {},
   "outputs": [],
   "source": [
    "#For the same reason of Price, Datw is filled with bfill method\n",
    "df_tot['Date'].fillna(method='bfill',inplace=True)"
   ]
  },
  {
   "cell_type": "code",
   "execution_count": 457,
   "metadata": {},
   "outputs": [],
   "source": [
    "#Energy NaN will be filled with 0 since allways Energy of Block 12 must be Pot_max (394.1)\n",
    "df_tot['Energy'].fillna(float(0),inplace=True)"
   ]
  },
  {
   "cell_type": "code",
   "execution_count": 458,
   "metadata": {
    "scrolled": false
   },
   "outputs": [
    {
     "data": {
      "text/html": [
       "<div>\n",
       "<style scoped>\n",
       "    .dataframe tbody tr th:only-of-type {\n",
       "        vertical-align: middle;\n",
       "    }\n",
       "\n",
       "    .dataframe tbody tr th {\n",
       "        vertical-align: top;\n",
       "    }\n",
       "\n",
       "    .dataframe thead th {\n",
       "        text-align: right;\n",
       "    }\n",
       "</style>\n",
       "<table border=\"1\" class=\"dataframe\">\n",
       "  <thead>\n",
       "    <tr style=\"text-align: right;\">\n",
       "      <th></th>\n",
       "      <th>Pot_max</th>\n",
       "      <th>Year</th>\n",
       "      <th>Month</th>\n",
       "      <th>Day</th>\n",
       "      <th>Period</th>\n",
       "      <th>Block</th>\n",
       "      <th>Price</th>\n",
       "      <th>Energy</th>\n",
       "      <th>Date</th>\n",
       "      <th>Weekday</th>\n",
       "      <th>Energy_tot</th>\n",
       "    </tr>\n",
       "  </thead>\n",
       "  <tbody>\n",
       "    <tr>\n",
       "      <th>0</th>\n",
       "      <td>394.10</td>\n",
       "      <td>2019</td>\n",
       "      <td>11</td>\n",
       "      <td>1</td>\n",
       "      <td>1</td>\n",
       "      <td>1</td>\n",
       "      <td>180.30</td>\n",
       "      <td>0.00</td>\n",
       "      <td>2019-11-01</td>\n",
       "      <td>Friday</td>\n",
       "      <td>nan</td>\n",
       "    </tr>\n",
       "    <tr>\n",
       "      <th>1</th>\n",
       "      <td>394.10</td>\n",
       "      <td>2019</td>\n",
       "      <td>11</td>\n",
       "      <td>1</td>\n",
       "      <td>1</td>\n",
       "      <td>2</td>\n",
       "      <td>180.30</td>\n",
       "      <td>0.00</td>\n",
       "      <td>2019-11-01</td>\n",
       "      <td>Friday</td>\n",
       "      <td>nan</td>\n",
       "    </tr>\n",
       "    <tr>\n",
       "      <th>2</th>\n",
       "      <td>394.10</td>\n",
       "      <td>2019</td>\n",
       "      <td>11</td>\n",
       "      <td>1</td>\n",
       "      <td>1</td>\n",
       "      <td>3</td>\n",
       "      <td>180.30</td>\n",
       "      <td>0.00</td>\n",
       "      <td>2019-11-01</td>\n",
       "      <td>Friday</td>\n",
       "      <td>nan</td>\n",
       "    </tr>\n",
       "    <tr>\n",
       "      <th>3</th>\n",
       "      <td>394.10</td>\n",
       "      <td>2019</td>\n",
       "      <td>11</td>\n",
       "      <td>1</td>\n",
       "      <td>1</td>\n",
       "      <td>4</td>\n",
       "      <td>180.30</td>\n",
       "      <td>0.00</td>\n",
       "      <td>2019-11-01</td>\n",
       "      <td>Friday</td>\n",
       "      <td>nan</td>\n",
       "    </tr>\n",
       "    <tr>\n",
       "      <th>4</th>\n",
       "      <td>394.10</td>\n",
       "      <td>2019</td>\n",
       "      <td>11</td>\n",
       "      <td>1</td>\n",
       "      <td>1</td>\n",
       "      <td>5</td>\n",
       "      <td>180.30</td>\n",
       "      <td>0.00</td>\n",
       "      <td>2019-11-01</td>\n",
       "      <td>Friday</td>\n",
       "      <td>nan</td>\n",
       "    </tr>\n",
       "    <tr>\n",
       "      <th>...</th>\n",
       "      <td>...</td>\n",
       "      <td>...</td>\n",
       "      <td>...</td>\n",
       "      <td>...</td>\n",
       "      <td>...</td>\n",
       "      <td>...</td>\n",
       "      <td>...</td>\n",
       "      <td>...</td>\n",
       "      <td>...</td>\n",
       "      <td>...</td>\n",
       "      <td>...</td>\n",
       "    </tr>\n",
       "    <tr>\n",
       "      <th>101755</th>\n",
       "      <td>394.10</td>\n",
       "      <td>2020</td>\n",
       "      <td>10</td>\n",
       "      <td>31</td>\n",
       "      <td>24</td>\n",
       "      <td>8</td>\n",
       "      <td>40.22</td>\n",
       "      <td>17.00</td>\n",
       "      <td>2020-10-31</td>\n",
       "      <td>Saturday</td>\n",
       "      <td>309.00</td>\n",
       "    </tr>\n",
       "    <tr>\n",
       "      <th>101756</th>\n",
       "      <td>394.10</td>\n",
       "      <td>2020</td>\n",
       "      <td>10</td>\n",
       "      <td>31</td>\n",
       "      <td>24</td>\n",
       "      <td>9</td>\n",
       "      <td>41.47</td>\n",
       "      <td>17.00</td>\n",
       "      <td>2020-10-31</td>\n",
       "      <td>Saturday</td>\n",
       "      <td>326.00</td>\n",
       "    </tr>\n",
       "    <tr>\n",
       "      <th>101757</th>\n",
       "      <td>394.10</td>\n",
       "      <td>2020</td>\n",
       "      <td>10</td>\n",
       "      <td>31</td>\n",
       "      <td>24</td>\n",
       "      <td>10</td>\n",
       "      <td>42.73</td>\n",
       "      <td>17.00</td>\n",
       "      <td>2020-10-31</td>\n",
       "      <td>Saturday</td>\n",
       "      <td>343.00</td>\n",
       "    </tr>\n",
       "    <tr>\n",
       "      <th>101758</th>\n",
       "      <td>394.10</td>\n",
       "      <td>2020</td>\n",
       "      <td>10</td>\n",
       "      <td>31</td>\n",
       "      <td>24</td>\n",
       "      <td>11</td>\n",
       "      <td>44.48</td>\n",
       "      <td>17.00</td>\n",
       "      <td>2020-10-31</td>\n",
       "      <td>Saturday</td>\n",
       "      <td>360.00</td>\n",
       "    </tr>\n",
       "    <tr>\n",
       "      <th>101759</th>\n",
       "      <td>394.10</td>\n",
       "      <td>2020</td>\n",
       "      <td>10</td>\n",
       "      <td>31</td>\n",
       "      <td>24</td>\n",
       "      <td>12</td>\n",
       "      <td>180.30</td>\n",
       "      <td>34.10</td>\n",
       "      <td>2020-10-31</td>\n",
       "      <td>Saturday</td>\n",
       "      <td>394.10</td>\n",
       "    </tr>\n",
       "  </tbody>\n",
       "</table>\n",
       "<p>101760 rows × 11 columns</p>\n",
       "</div>"
      ],
      "text/plain": [
       "        Pot_max  Year  Month  Day  Period  Block  Price  Energy       Date  \\\n",
       "0        394.10  2019     11    1       1      1 180.30    0.00 2019-11-01   \n",
       "1        394.10  2019     11    1       1      2 180.30    0.00 2019-11-01   \n",
       "2        394.10  2019     11    1       1      3 180.30    0.00 2019-11-01   \n",
       "3        394.10  2019     11    1       1      4 180.30    0.00 2019-11-01   \n",
       "4        394.10  2019     11    1       1      5 180.30    0.00 2019-11-01   \n",
       "...         ...   ...    ...  ...     ...    ...    ...     ...        ...   \n",
       "101755   394.10  2020     10   31      24      8  40.22   17.00 2020-10-31   \n",
       "101756   394.10  2020     10   31      24      9  41.47   17.00 2020-10-31   \n",
       "101757   394.10  2020     10   31      24     10  42.73   17.00 2020-10-31   \n",
       "101758   394.10  2020     10   31      24     11  44.48   17.00 2020-10-31   \n",
       "101759   394.10  2020     10   31      24     12 180.30   34.10 2020-10-31   \n",
       "\n",
       "         Weekday  Energy_tot  \n",
       "0         Friday         nan  \n",
       "1         Friday         nan  \n",
       "2         Friday         nan  \n",
       "3         Friday         nan  \n",
       "4         Friday         nan  \n",
       "...          ...         ...  \n",
       "101755  Saturday      309.00  \n",
       "101756  Saturday      326.00  \n",
       "101757  Saturday      343.00  \n",
       "101758  Saturday      360.00  \n",
       "101759  Saturday      394.10  \n",
       "\n",
       "[101760 rows x 11 columns]"
      ]
     },
     "execution_count": 458,
     "metadata": {},
     "output_type": "execute_result"
    }
   ],
   "source": [
    "df_tot"
   ]
  },
  {
   "cell_type": "code",
   "execution_count": 459,
   "metadata": {},
   "outputs": [],
   "source": [
    "#Now only Energy_tot columns have NaN\n",
    "#NaN in Energy_tot can be filled by interpolation method, but first of all a value must be included\n",
    "#in all cells with Block ==1, since it is necessary 2 values in each Period to be able to interpolate\n",
    "#and it is the only way to fill NaN in all Periods with only one Block (12)"
   ]
  },
  {
   "cell_type": "code",
   "execution_count": null,
   "metadata": {},
   "outputs": [],
   "source": []
  },
  {
   "cell_type": "code",
   "execution_count": 460,
   "metadata": {},
   "outputs": [
    {
     "data": {
      "text/plain": [
       "0           nan\n",
       "1           nan\n",
       "2           nan\n",
       "3           nan\n",
       "4           nan\n",
       "          ...  \n",
       "101755   309.00\n",
       "101756   326.00\n",
       "101757   343.00\n",
       "101758   360.00\n",
       "101759   394.10\n",
       "Name: Energy_tot, Length: 101760, dtype: float64"
      ]
     },
     "execution_count": 460,
     "metadata": {},
     "output_type": "execute_result"
    }
   ],
   "source": [
    "#Problem with Periods with only Block 12\n",
    "df_tot['Energy_tot'].interpolate()"
   ]
  },
  {
   "cell_type": "code",
   "execution_count": null,
   "metadata": {},
   "outputs": [],
   "source": []
  },
  {
   "cell_type": "code",
   "execution_count": 461,
   "metadata": {},
   "outputs": [
    {
     "data": {
      "text/html": [
       "<div>\n",
       "<style scoped>\n",
       "    .dataframe tbody tr th:only-of-type {\n",
       "        vertical-align: middle;\n",
       "    }\n",
       "\n",
       "    .dataframe tbody tr th {\n",
       "        vertical-align: top;\n",
       "    }\n",
       "\n",
       "    .dataframe thead th {\n",
       "        text-align: right;\n",
       "    }\n",
       "</style>\n",
       "<table border=\"1\" class=\"dataframe\">\n",
       "  <thead>\n",
       "    <tr style=\"text-align: right;\">\n",
       "      <th></th>\n",
       "      <th>Pot_max</th>\n",
       "      <th>Year</th>\n",
       "      <th>Month</th>\n",
       "      <th>Day</th>\n",
       "      <th>Period</th>\n",
       "      <th>Block</th>\n",
       "      <th>Price</th>\n",
       "      <th>Energy</th>\n",
       "      <th>Date</th>\n",
       "      <th>Weekday</th>\n",
       "      <th>Energy_tot</th>\n",
       "    </tr>\n",
       "  </thead>\n",
       "  <tbody>\n",
       "    <tr>\n",
       "      <th>0</th>\n",
       "      <td>394.10</td>\n",
       "      <td>2019</td>\n",
       "      <td>11</td>\n",
       "      <td>1</td>\n",
       "      <td>1</td>\n",
       "      <td>1</td>\n",
       "      <td>180.30</td>\n",
       "      <td>0.00</td>\n",
       "      <td>2019-11-01</td>\n",
       "      <td>Friday</td>\n",
       "      <td>nan</td>\n",
       "    </tr>\n",
       "    <tr>\n",
       "      <th>1</th>\n",
       "      <td>394.10</td>\n",
       "      <td>2019</td>\n",
       "      <td>11</td>\n",
       "      <td>1</td>\n",
       "      <td>1</td>\n",
       "      <td>2</td>\n",
       "      <td>180.30</td>\n",
       "      <td>0.00</td>\n",
       "      <td>2019-11-01</td>\n",
       "      <td>Friday</td>\n",
       "      <td>nan</td>\n",
       "    </tr>\n",
       "    <tr>\n",
       "      <th>2</th>\n",
       "      <td>394.10</td>\n",
       "      <td>2019</td>\n",
       "      <td>11</td>\n",
       "      <td>1</td>\n",
       "      <td>1</td>\n",
       "      <td>3</td>\n",
       "      <td>180.30</td>\n",
       "      <td>0.00</td>\n",
       "      <td>2019-11-01</td>\n",
       "      <td>Friday</td>\n",
       "      <td>nan</td>\n",
       "    </tr>\n",
       "    <tr>\n",
       "      <th>3</th>\n",
       "      <td>394.10</td>\n",
       "      <td>2019</td>\n",
       "      <td>11</td>\n",
       "      <td>1</td>\n",
       "      <td>1</td>\n",
       "      <td>4</td>\n",
       "      <td>180.30</td>\n",
       "      <td>0.00</td>\n",
       "      <td>2019-11-01</td>\n",
       "      <td>Friday</td>\n",
       "      <td>nan</td>\n",
       "    </tr>\n",
       "    <tr>\n",
       "      <th>4</th>\n",
       "      <td>394.10</td>\n",
       "      <td>2019</td>\n",
       "      <td>11</td>\n",
       "      <td>1</td>\n",
       "      <td>1</td>\n",
       "      <td>5</td>\n",
       "      <td>180.30</td>\n",
       "      <td>0.00</td>\n",
       "      <td>2019-11-01</td>\n",
       "      <td>Friday</td>\n",
       "      <td>nan</td>\n",
       "    </tr>\n",
       "    <tr>\n",
       "      <th>5</th>\n",
       "      <td>394.10</td>\n",
       "      <td>2019</td>\n",
       "      <td>11</td>\n",
       "      <td>1</td>\n",
       "      <td>1</td>\n",
       "      <td>6</td>\n",
       "      <td>180.30</td>\n",
       "      <td>0.00</td>\n",
       "      <td>2019-11-01</td>\n",
       "      <td>Friday</td>\n",
       "      <td>nan</td>\n",
       "    </tr>\n",
       "    <tr>\n",
       "      <th>6</th>\n",
       "      <td>394.10</td>\n",
       "      <td>2019</td>\n",
       "      <td>11</td>\n",
       "      <td>1</td>\n",
       "      <td>1</td>\n",
       "      <td>7</td>\n",
       "      <td>180.30</td>\n",
       "      <td>0.00</td>\n",
       "      <td>2019-11-01</td>\n",
       "      <td>Friday</td>\n",
       "      <td>nan</td>\n",
       "    </tr>\n",
       "    <tr>\n",
       "      <th>7</th>\n",
       "      <td>394.10</td>\n",
       "      <td>2019</td>\n",
       "      <td>11</td>\n",
       "      <td>1</td>\n",
       "      <td>1</td>\n",
       "      <td>8</td>\n",
       "      <td>180.30</td>\n",
       "      <td>0.00</td>\n",
       "      <td>2019-11-01</td>\n",
       "      <td>Friday</td>\n",
       "      <td>nan</td>\n",
       "    </tr>\n",
       "    <tr>\n",
       "      <th>8</th>\n",
       "      <td>394.10</td>\n",
       "      <td>2019</td>\n",
       "      <td>11</td>\n",
       "      <td>1</td>\n",
       "      <td>1</td>\n",
       "      <td>9</td>\n",
       "      <td>180.30</td>\n",
       "      <td>0.00</td>\n",
       "      <td>2019-11-01</td>\n",
       "      <td>Friday</td>\n",
       "      <td>nan</td>\n",
       "    </tr>\n",
       "    <tr>\n",
       "      <th>9</th>\n",
       "      <td>394.10</td>\n",
       "      <td>2019</td>\n",
       "      <td>11</td>\n",
       "      <td>1</td>\n",
       "      <td>1</td>\n",
       "      <td>10</td>\n",
       "      <td>180.30</td>\n",
       "      <td>0.00</td>\n",
       "      <td>2019-11-01</td>\n",
       "      <td>Friday</td>\n",
       "      <td>nan</td>\n",
       "    </tr>\n",
       "    <tr>\n",
       "      <th>10</th>\n",
       "      <td>394.10</td>\n",
       "      <td>2019</td>\n",
       "      <td>11</td>\n",
       "      <td>1</td>\n",
       "      <td>1</td>\n",
       "      <td>11</td>\n",
       "      <td>180.30</td>\n",
       "      <td>0.00</td>\n",
       "      <td>2019-11-01</td>\n",
       "      <td>Friday</td>\n",
       "      <td>nan</td>\n",
       "    </tr>\n",
       "    <tr>\n",
       "      <th>11</th>\n",
       "      <td>394.10</td>\n",
       "      <td>2019</td>\n",
       "      <td>11</td>\n",
       "      <td>1</td>\n",
       "      <td>1</td>\n",
       "      <td>12</td>\n",
       "      <td>180.30</td>\n",
       "      <td>394.10</td>\n",
       "      <td>2019-11-01</td>\n",
       "      <td>Friday</td>\n",
       "      <td>394.10</td>\n",
       "    </tr>\n",
       "    <tr>\n",
       "      <th>12</th>\n",
       "      <td>394.10</td>\n",
       "      <td>2019</td>\n",
       "      <td>11</td>\n",
       "      <td>1</td>\n",
       "      <td>2</td>\n",
       "      <td>1</td>\n",
       "      <td>180.30</td>\n",
       "      <td>0.00</td>\n",
       "      <td>2019-11-01</td>\n",
       "      <td>Friday</td>\n",
       "      <td>nan</td>\n",
       "    </tr>\n",
       "    <tr>\n",
       "      <th>13</th>\n",
       "      <td>394.10</td>\n",
       "      <td>2019</td>\n",
       "      <td>11</td>\n",
       "      <td>1</td>\n",
       "      <td>2</td>\n",
       "      <td>2</td>\n",
       "      <td>180.30</td>\n",
       "      <td>0.00</td>\n",
       "      <td>2019-11-01</td>\n",
       "      <td>Friday</td>\n",
       "      <td>nan</td>\n",
       "    </tr>\n",
       "    <tr>\n",
       "      <th>14</th>\n",
       "      <td>394.10</td>\n",
       "      <td>2019</td>\n",
       "      <td>11</td>\n",
       "      <td>1</td>\n",
       "      <td>2</td>\n",
       "      <td>3</td>\n",
       "      <td>180.30</td>\n",
       "      <td>0.00</td>\n",
       "      <td>2019-11-01</td>\n",
       "      <td>Friday</td>\n",
       "      <td>nan</td>\n",
       "    </tr>\n",
       "    <tr>\n",
       "      <th>15</th>\n",
       "      <td>394.10</td>\n",
       "      <td>2019</td>\n",
       "      <td>11</td>\n",
       "      <td>1</td>\n",
       "      <td>2</td>\n",
       "      <td>4</td>\n",
       "      <td>180.30</td>\n",
       "      <td>0.00</td>\n",
       "      <td>2019-11-01</td>\n",
       "      <td>Friday</td>\n",
       "      <td>nan</td>\n",
       "    </tr>\n",
       "    <tr>\n",
       "      <th>16</th>\n",
       "      <td>394.10</td>\n",
       "      <td>2019</td>\n",
       "      <td>11</td>\n",
       "      <td>1</td>\n",
       "      <td>2</td>\n",
       "      <td>5</td>\n",
       "      <td>180.30</td>\n",
       "      <td>0.00</td>\n",
       "      <td>2019-11-01</td>\n",
       "      <td>Friday</td>\n",
       "      <td>nan</td>\n",
       "    </tr>\n",
       "    <tr>\n",
       "      <th>17</th>\n",
       "      <td>394.10</td>\n",
       "      <td>2019</td>\n",
       "      <td>11</td>\n",
       "      <td>1</td>\n",
       "      <td>2</td>\n",
       "      <td>6</td>\n",
       "      <td>180.30</td>\n",
       "      <td>0.00</td>\n",
       "      <td>2019-11-01</td>\n",
       "      <td>Friday</td>\n",
       "      <td>nan</td>\n",
       "    </tr>\n",
       "    <tr>\n",
       "      <th>18</th>\n",
       "      <td>394.10</td>\n",
       "      <td>2019</td>\n",
       "      <td>11</td>\n",
       "      <td>1</td>\n",
       "      <td>2</td>\n",
       "      <td>7</td>\n",
       "      <td>180.30</td>\n",
       "      <td>0.00</td>\n",
       "      <td>2019-11-01</td>\n",
       "      <td>Friday</td>\n",
       "      <td>nan</td>\n",
       "    </tr>\n",
       "    <tr>\n",
       "      <th>19</th>\n",
       "      <td>394.10</td>\n",
       "      <td>2019</td>\n",
       "      <td>11</td>\n",
       "      <td>1</td>\n",
       "      <td>2</td>\n",
       "      <td>8</td>\n",
       "      <td>180.30</td>\n",
       "      <td>0.00</td>\n",
       "      <td>2019-11-01</td>\n",
       "      <td>Friday</td>\n",
       "      <td>nan</td>\n",
       "    </tr>\n",
       "    <tr>\n",
       "      <th>20</th>\n",
       "      <td>394.10</td>\n",
       "      <td>2019</td>\n",
       "      <td>11</td>\n",
       "      <td>1</td>\n",
       "      <td>2</td>\n",
       "      <td>9</td>\n",
       "      <td>180.30</td>\n",
       "      <td>0.00</td>\n",
       "      <td>2019-11-01</td>\n",
       "      <td>Friday</td>\n",
       "      <td>nan</td>\n",
       "    </tr>\n",
       "    <tr>\n",
       "      <th>21</th>\n",
       "      <td>394.10</td>\n",
       "      <td>2019</td>\n",
       "      <td>11</td>\n",
       "      <td>1</td>\n",
       "      <td>2</td>\n",
       "      <td>10</td>\n",
       "      <td>180.30</td>\n",
       "      <td>0.00</td>\n",
       "      <td>2019-11-01</td>\n",
       "      <td>Friday</td>\n",
       "      <td>nan</td>\n",
       "    </tr>\n",
       "    <tr>\n",
       "      <th>22</th>\n",
       "      <td>394.10</td>\n",
       "      <td>2019</td>\n",
       "      <td>11</td>\n",
       "      <td>1</td>\n",
       "      <td>2</td>\n",
       "      <td>11</td>\n",
       "      <td>180.30</td>\n",
       "      <td>0.00</td>\n",
       "      <td>2019-11-01</td>\n",
       "      <td>Friday</td>\n",
       "      <td>nan</td>\n",
       "    </tr>\n",
       "    <tr>\n",
       "      <th>23</th>\n",
       "      <td>394.10</td>\n",
       "      <td>2019</td>\n",
       "      <td>11</td>\n",
       "      <td>1</td>\n",
       "      <td>2</td>\n",
       "      <td>12</td>\n",
       "      <td>180.30</td>\n",
       "      <td>394.10</td>\n",
       "      <td>2019-11-01</td>\n",
       "      <td>Friday</td>\n",
       "      <td>394.10</td>\n",
       "    </tr>\n",
       "    <tr>\n",
       "      <th>24</th>\n",
       "      <td>394.10</td>\n",
       "      <td>2019</td>\n",
       "      <td>11</td>\n",
       "      <td>1</td>\n",
       "      <td>3</td>\n",
       "      <td>1</td>\n",
       "      <td>1.13</td>\n",
       "      <td>50.00</td>\n",
       "      <td>2019-11-01</td>\n",
       "      <td>Friday</td>\n",
       "      <td>50.00</td>\n",
       "    </tr>\n",
       "    <tr>\n",
       "      <th>25</th>\n",
       "      <td>394.10</td>\n",
       "      <td>2019</td>\n",
       "      <td>11</td>\n",
       "      <td>1</td>\n",
       "      <td>3</td>\n",
       "      <td>2</td>\n",
       "      <td>180.30</td>\n",
       "      <td>0.00</td>\n",
       "      <td>2019-11-01</td>\n",
       "      <td>Friday</td>\n",
       "      <td>nan</td>\n",
       "    </tr>\n",
       "    <tr>\n",
       "      <th>26</th>\n",
       "      <td>394.10</td>\n",
       "      <td>2019</td>\n",
       "      <td>11</td>\n",
       "      <td>1</td>\n",
       "      <td>3</td>\n",
       "      <td>3</td>\n",
       "      <td>180.30</td>\n",
       "      <td>0.00</td>\n",
       "      <td>2019-11-01</td>\n",
       "      <td>Friday</td>\n",
       "      <td>nan</td>\n",
       "    </tr>\n",
       "    <tr>\n",
       "      <th>27</th>\n",
       "      <td>394.10</td>\n",
       "      <td>2019</td>\n",
       "      <td>11</td>\n",
       "      <td>1</td>\n",
       "      <td>3</td>\n",
       "      <td>4</td>\n",
       "      <td>180.30</td>\n",
       "      <td>0.00</td>\n",
       "      <td>2019-11-01</td>\n",
       "      <td>Friday</td>\n",
       "      <td>nan</td>\n",
       "    </tr>\n",
       "    <tr>\n",
       "      <th>28</th>\n",
       "      <td>394.10</td>\n",
       "      <td>2019</td>\n",
       "      <td>11</td>\n",
       "      <td>1</td>\n",
       "      <td>3</td>\n",
       "      <td>5</td>\n",
       "      <td>180.30</td>\n",
       "      <td>0.00</td>\n",
       "      <td>2019-11-01</td>\n",
       "      <td>Friday</td>\n",
       "      <td>nan</td>\n",
       "    </tr>\n",
       "    <tr>\n",
       "      <th>29</th>\n",
       "      <td>394.10</td>\n",
       "      <td>2019</td>\n",
       "      <td>11</td>\n",
       "      <td>1</td>\n",
       "      <td>3</td>\n",
       "      <td>6</td>\n",
       "      <td>180.30</td>\n",
       "      <td>0.00</td>\n",
       "      <td>2019-11-01</td>\n",
       "      <td>Friday</td>\n",
       "      <td>nan</td>\n",
       "    </tr>\n",
       "    <tr>\n",
       "      <th>30</th>\n",
       "      <td>394.10</td>\n",
       "      <td>2019</td>\n",
       "      <td>11</td>\n",
       "      <td>1</td>\n",
       "      <td>3</td>\n",
       "      <td>7</td>\n",
       "      <td>180.30</td>\n",
       "      <td>0.00</td>\n",
       "      <td>2019-11-01</td>\n",
       "      <td>Friday</td>\n",
       "      <td>nan</td>\n",
       "    </tr>\n",
       "    <tr>\n",
       "      <th>31</th>\n",
       "      <td>394.10</td>\n",
       "      <td>2019</td>\n",
       "      <td>11</td>\n",
       "      <td>1</td>\n",
       "      <td>3</td>\n",
       "      <td>8</td>\n",
       "      <td>180.30</td>\n",
       "      <td>0.00</td>\n",
       "      <td>2019-11-01</td>\n",
       "      <td>Friday</td>\n",
       "      <td>nan</td>\n",
       "    </tr>\n",
       "    <tr>\n",
       "      <th>32</th>\n",
       "      <td>394.10</td>\n",
       "      <td>2019</td>\n",
       "      <td>11</td>\n",
       "      <td>1</td>\n",
       "      <td>3</td>\n",
       "      <td>9</td>\n",
       "      <td>180.30</td>\n",
       "      <td>0.00</td>\n",
       "      <td>2019-11-01</td>\n",
       "      <td>Friday</td>\n",
       "      <td>nan</td>\n",
       "    </tr>\n",
       "    <tr>\n",
       "      <th>33</th>\n",
       "      <td>394.10</td>\n",
       "      <td>2019</td>\n",
       "      <td>11</td>\n",
       "      <td>1</td>\n",
       "      <td>3</td>\n",
       "      <td>10</td>\n",
       "      <td>180.30</td>\n",
       "      <td>0.00</td>\n",
       "      <td>2019-11-01</td>\n",
       "      <td>Friday</td>\n",
       "      <td>nan</td>\n",
       "    </tr>\n",
       "    <tr>\n",
       "      <th>34</th>\n",
       "      <td>394.10</td>\n",
       "      <td>2019</td>\n",
       "      <td>11</td>\n",
       "      <td>1</td>\n",
       "      <td>3</td>\n",
       "      <td>11</td>\n",
       "      <td>180.30</td>\n",
       "      <td>0.00</td>\n",
       "      <td>2019-11-01</td>\n",
       "      <td>Friday</td>\n",
       "      <td>nan</td>\n",
       "    </tr>\n",
       "    <tr>\n",
       "      <th>35</th>\n",
       "      <td>394.10</td>\n",
       "      <td>2019</td>\n",
       "      <td>11</td>\n",
       "      <td>1</td>\n",
       "      <td>3</td>\n",
       "      <td>12</td>\n",
       "      <td>180.30</td>\n",
       "      <td>344.10</td>\n",
       "      <td>2019-11-01</td>\n",
       "      <td>Friday</td>\n",
       "      <td>394.10</td>\n",
       "    </tr>\n",
       "    <tr>\n",
       "      <th>36</th>\n",
       "      <td>394.10</td>\n",
       "      <td>2019</td>\n",
       "      <td>11</td>\n",
       "      <td>1</td>\n",
       "      <td>4</td>\n",
       "      <td>1</td>\n",
       "      <td>1.13</td>\n",
       "      <td>60.00</td>\n",
       "      <td>2019-11-01</td>\n",
       "      <td>Friday</td>\n",
       "      <td>60.00</td>\n",
       "    </tr>\n",
       "    <tr>\n",
       "      <th>37</th>\n",
       "      <td>394.10</td>\n",
       "      <td>2019</td>\n",
       "      <td>11</td>\n",
       "      <td>1</td>\n",
       "      <td>4</td>\n",
       "      <td>2</td>\n",
       "      <td>180.30</td>\n",
       "      <td>0.00</td>\n",
       "      <td>2019-11-01</td>\n",
       "      <td>Friday</td>\n",
       "      <td>nan</td>\n",
       "    </tr>\n",
       "    <tr>\n",
       "      <th>38</th>\n",
       "      <td>394.10</td>\n",
       "      <td>2019</td>\n",
       "      <td>11</td>\n",
       "      <td>1</td>\n",
       "      <td>4</td>\n",
       "      <td>3</td>\n",
       "      <td>180.30</td>\n",
       "      <td>0.00</td>\n",
       "      <td>2019-11-01</td>\n",
       "      <td>Friday</td>\n",
       "      <td>nan</td>\n",
       "    </tr>\n",
       "    <tr>\n",
       "      <th>39</th>\n",
       "      <td>394.10</td>\n",
       "      <td>2019</td>\n",
       "      <td>11</td>\n",
       "      <td>1</td>\n",
       "      <td>4</td>\n",
       "      <td>4</td>\n",
       "      <td>180.30</td>\n",
       "      <td>0.00</td>\n",
       "      <td>2019-11-01</td>\n",
       "      <td>Friday</td>\n",
       "      <td>nan</td>\n",
       "    </tr>\n",
       "    <tr>\n",
       "      <th>40</th>\n",
       "      <td>394.10</td>\n",
       "      <td>2019</td>\n",
       "      <td>11</td>\n",
       "      <td>1</td>\n",
       "      <td>4</td>\n",
       "      <td>5</td>\n",
       "      <td>180.30</td>\n",
       "      <td>0.00</td>\n",
       "      <td>2019-11-01</td>\n",
       "      <td>Friday</td>\n",
       "      <td>nan</td>\n",
       "    </tr>\n",
       "    <tr>\n",
       "      <th>41</th>\n",
       "      <td>394.10</td>\n",
       "      <td>2019</td>\n",
       "      <td>11</td>\n",
       "      <td>1</td>\n",
       "      <td>4</td>\n",
       "      <td>6</td>\n",
       "      <td>180.30</td>\n",
       "      <td>0.00</td>\n",
       "      <td>2019-11-01</td>\n",
       "      <td>Friday</td>\n",
       "      <td>nan</td>\n",
       "    </tr>\n",
       "    <tr>\n",
       "      <th>42</th>\n",
       "      <td>394.10</td>\n",
       "      <td>2019</td>\n",
       "      <td>11</td>\n",
       "      <td>1</td>\n",
       "      <td>4</td>\n",
       "      <td>7</td>\n",
       "      <td>180.30</td>\n",
       "      <td>0.00</td>\n",
       "      <td>2019-11-01</td>\n",
       "      <td>Friday</td>\n",
       "      <td>nan</td>\n",
       "    </tr>\n",
       "    <tr>\n",
       "      <th>43</th>\n",
       "      <td>394.10</td>\n",
       "      <td>2019</td>\n",
       "      <td>11</td>\n",
       "      <td>1</td>\n",
       "      <td>4</td>\n",
       "      <td>8</td>\n",
       "      <td>180.30</td>\n",
       "      <td>0.00</td>\n",
       "      <td>2019-11-01</td>\n",
       "      <td>Friday</td>\n",
       "      <td>nan</td>\n",
       "    </tr>\n",
       "    <tr>\n",
       "      <th>44</th>\n",
       "      <td>394.10</td>\n",
       "      <td>2019</td>\n",
       "      <td>11</td>\n",
       "      <td>1</td>\n",
       "      <td>4</td>\n",
       "      <td>9</td>\n",
       "      <td>180.30</td>\n",
       "      <td>0.00</td>\n",
       "      <td>2019-11-01</td>\n",
       "      <td>Friday</td>\n",
       "      <td>nan</td>\n",
       "    </tr>\n",
       "    <tr>\n",
       "      <th>45</th>\n",
       "      <td>394.10</td>\n",
       "      <td>2019</td>\n",
       "      <td>11</td>\n",
       "      <td>1</td>\n",
       "      <td>4</td>\n",
       "      <td>10</td>\n",
       "      <td>180.30</td>\n",
       "      <td>0.00</td>\n",
       "      <td>2019-11-01</td>\n",
       "      <td>Friday</td>\n",
       "      <td>nan</td>\n",
       "    </tr>\n",
       "    <tr>\n",
       "      <th>46</th>\n",
       "      <td>394.10</td>\n",
       "      <td>2019</td>\n",
       "      <td>11</td>\n",
       "      <td>1</td>\n",
       "      <td>4</td>\n",
       "      <td>11</td>\n",
       "      <td>180.30</td>\n",
       "      <td>0.00</td>\n",
       "      <td>2019-11-01</td>\n",
       "      <td>Friday</td>\n",
       "      <td>nan</td>\n",
       "    </tr>\n",
       "    <tr>\n",
       "      <th>47</th>\n",
       "      <td>394.10</td>\n",
       "      <td>2019</td>\n",
       "      <td>11</td>\n",
       "      <td>1</td>\n",
       "      <td>4</td>\n",
       "      <td>12</td>\n",
       "      <td>180.30</td>\n",
       "      <td>334.10</td>\n",
       "      <td>2019-11-01</td>\n",
       "      <td>Friday</td>\n",
       "      <td>394.10</td>\n",
       "    </tr>\n",
       "    <tr>\n",
       "      <th>48</th>\n",
       "      <td>394.10</td>\n",
       "      <td>2019</td>\n",
       "      <td>11</td>\n",
       "      <td>1</td>\n",
       "      <td>5</td>\n",
       "      <td>1</td>\n",
       "      <td>1.13</td>\n",
       "      <td>60.00</td>\n",
       "      <td>2019-11-01</td>\n",
       "      <td>Friday</td>\n",
       "      <td>60.00</td>\n",
       "    </tr>\n",
       "    <tr>\n",
       "      <th>49</th>\n",
       "      <td>394.10</td>\n",
       "      <td>2019</td>\n",
       "      <td>11</td>\n",
       "      <td>1</td>\n",
       "      <td>5</td>\n",
       "      <td>2</td>\n",
       "      <td>180.30</td>\n",
       "      <td>0.00</td>\n",
       "      <td>2019-11-01</td>\n",
       "      <td>Friday</td>\n",
       "      <td>nan</td>\n",
       "    </tr>\n",
       "  </tbody>\n",
       "</table>\n",
       "</div>"
      ],
      "text/plain": [
       "    Pot_max  Year  Month  Day  Period  Block  Price  Energy       Date  \\\n",
       "0    394.10  2019     11    1       1      1 180.30    0.00 2019-11-01   \n",
       "1    394.10  2019     11    1       1      2 180.30    0.00 2019-11-01   \n",
       "2    394.10  2019     11    1       1      3 180.30    0.00 2019-11-01   \n",
       "3    394.10  2019     11    1       1      4 180.30    0.00 2019-11-01   \n",
       "4    394.10  2019     11    1       1      5 180.30    0.00 2019-11-01   \n",
       "5    394.10  2019     11    1       1      6 180.30    0.00 2019-11-01   \n",
       "6    394.10  2019     11    1       1      7 180.30    0.00 2019-11-01   \n",
       "7    394.10  2019     11    1       1      8 180.30    0.00 2019-11-01   \n",
       "8    394.10  2019     11    1       1      9 180.30    0.00 2019-11-01   \n",
       "9    394.10  2019     11    1       1     10 180.30    0.00 2019-11-01   \n",
       "10   394.10  2019     11    1       1     11 180.30    0.00 2019-11-01   \n",
       "11   394.10  2019     11    1       1     12 180.30  394.10 2019-11-01   \n",
       "12   394.10  2019     11    1       2      1 180.30    0.00 2019-11-01   \n",
       "13   394.10  2019     11    1       2      2 180.30    0.00 2019-11-01   \n",
       "14   394.10  2019     11    1       2      3 180.30    0.00 2019-11-01   \n",
       "15   394.10  2019     11    1       2      4 180.30    0.00 2019-11-01   \n",
       "16   394.10  2019     11    1       2      5 180.30    0.00 2019-11-01   \n",
       "17   394.10  2019     11    1       2      6 180.30    0.00 2019-11-01   \n",
       "18   394.10  2019     11    1       2      7 180.30    0.00 2019-11-01   \n",
       "19   394.10  2019     11    1       2      8 180.30    0.00 2019-11-01   \n",
       "20   394.10  2019     11    1       2      9 180.30    0.00 2019-11-01   \n",
       "21   394.10  2019     11    1       2     10 180.30    0.00 2019-11-01   \n",
       "22   394.10  2019     11    1       2     11 180.30    0.00 2019-11-01   \n",
       "23   394.10  2019     11    1       2     12 180.30  394.10 2019-11-01   \n",
       "24   394.10  2019     11    1       3      1   1.13   50.00 2019-11-01   \n",
       "25   394.10  2019     11    1       3      2 180.30    0.00 2019-11-01   \n",
       "26   394.10  2019     11    1       3      3 180.30    0.00 2019-11-01   \n",
       "27   394.10  2019     11    1       3      4 180.30    0.00 2019-11-01   \n",
       "28   394.10  2019     11    1       3      5 180.30    0.00 2019-11-01   \n",
       "29   394.10  2019     11    1       3      6 180.30    0.00 2019-11-01   \n",
       "30   394.10  2019     11    1       3      7 180.30    0.00 2019-11-01   \n",
       "31   394.10  2019     11    1       3      8 180.30    0.00 2019-11-01   \n",
       "32   394.10  2019     11    1       3      9 180.30    0.00 2019-11-01   \n",
       "33   394.10  2019     11    1       3     10 180.30    0.00 2019-11-01   \n",
       "34   394.10  2019     11    1       3     11 180.30    0.00 2019-11-01   \n",
       "35   394.10  2019     11    1       3     12 180.30  344.10 2019-11-01   \n",
       "36   394.10  2019     11    1       4      1   1.13   60.00 2019-11-01   \n",
       "37   394.10  2019     11    1       4      2 180.30    0.00 2019-11-01   \n",
       "38   394.10  2019     11    1       4      3 180.30    0.00 2019-11-01   \n",
       "39   394.10  2019     11    1       4      4 180.30    0.00 2019-11-01   \n",
       "40   394.10  2019     11    1       4      5 180.30    0.00 2019-11-01   \n",
       "41   394.10  2019     11    1       4      6 180.30    0.00 2019-11-01   \n",
       "42   394.10  2019     11    1       4      7 180.30    0.00 2019-11-01   \n",
       "43   394.10  2019     11    1       4      8 180.30    0.00 2019-11-01   \n",
       "44   394.10  2019     11    1       4      9 180.30    0.00 2019-11-01   \n",
       "45   394.10  2019     11    1       4     10 180.30    0.00 2019-11-01   \n",
       "46   394.10  2019     11    1       4     11 180.30    0.00 2019-11-01   \n",
       "47   394.10  2019     11    1       4     12 180.30  334.10 2019-11-01   \n",
       "48   394.10  2019     11    1       5      1   1.13   60.00 2019-11-01   \n",
       "49   394.10  2019     11    1       5      2 180.30    0.00 2019-11-01   \n",
       "\n",
       "   Weekday  Energy_tot  \n",
       "0   Friday         nan  \n",
       "1   Friday         nan  \n",
       "2   Friday         nan  \n",
       "3   Friday         nan  \n",
       "4   Friday         nan  \n",
       "5   Friday         nan  \n",
       "6   Friday         nan  \n",
       "7   Friday         nan  \n",
       "8   Friday         nan  \n",
       "9   Friday         nan  \n",
       "10  Friday         nan  \n",
       "11  Friday      394.10  \n",
       "12  Friday         nan  \n",
       "13  Friday         nan  \n",
       "14  Friday         nan  \n",
       "15  Friday         nan  \n",
       "16  Friday         nan  \n",
       "17  Friday         nan  \n",
       "18  Friday         nan  \n",
       "19  Friday         nan  \n",
       "20  Friday         nan  \n",
       "21  Friday         nan  \n",
       "22  Friday         nan  \n",
       "23  Friday      394.10  \n",
       "24  Friday       50.00  \n",
       "25  Friday         nan  \n",
       "26  Friday         nan  \n",
       "27  Friday         nan  \n",
       "28  Friday         nan  \n",
       "29  Friday         nan  \n",
       "30  Friday         nan  \n",
       "31  Friday         nan  \n",
       "32  Friday         nan  \n",
       "33  Friday         nan  \n",
       "34  Friday         nan  \n",
       "35  Friday      394.10  \n",
       "36  Friday       60.00  \n",
       "37  Friday         nan  \n",
       "38  Friday         nan  \n",
       "39  Friday         nan  \n",
       "40  Friday         nan  \n",
       "41  Friday         nan  \n",
       "42  Friday         nan  \n",
       "43  Friday         nan  \n",
       "44  Friday         nan  \n",
       "45  Friday         nan  \n",
       "46  Friday         nan  \n",
       "47  Friday      394.10  \n",
       "48  Friday       60.00  \n",
       "49  Friday         nan  "
      ]
     },
     "execution_count": 461,
     "metadata": {},
     "output_type": "execute_result"
    }
   ],
   "source": [
    "df_tot.iloc[:50]"
   ]
  },
  {
   "cell_type": "code",
   "execution_count": null,
   "metadata": {},
   "outputs": [],
   "source": []
  },
  {
   "cell_type": "code",
   "execution_count": 462,
   "metadata": {},
   "outputs": [
    {
     "data": {
      "text/plain": [
       "50.0"
      ]
     },
     "execution_count": 462,
     "metadata": {},
     "output_type": "execute_result"
    }
   ],
   "source": [
    "#Minimum value in Energy_tot column\n",
    "df_tot['Energy_tot'].min()"
   ]
  },
  {
   "cell_type": "code",
   "execution_count": null,
   "metadata": {},
   "outputs": [],
   "source": []
  },
  {
   "cell_type": "code",
   "execution_count": 464,
   "metadata": {},
   "outputs": [],
   "source": [
    "#We will replace only NaN in Energy_tot for Block = 1 with 50 (min)"
   ]
  },
  {
   "cell_type": "code",
   "execution_count": 466,
   "metadata": {
    "scrolled": true
   },
   "outputs": [
    {
     "data": {
      "text/plain": [
       "0           nan\n",
       "12          nan\n",
       "24        50.00\n",
       "36        60.00\n",
       "48        60.00\n",
       "          ...  \n",
       "101700   190.00\n",
       "101712   190.00\n",
       "101724   190.00\n",
       "101736   190.00\n",
       "101748   190.00\n",
       "Name: Energy_tot, Length: 8480, dtype: float64"
      ]
     },
     "execution_count": 466,
     "metadata": {},
     "output_type": "execute_result"
    }
   ],
   "source": [
    "df_tot['Energy_tot'][df_tot['Block']==1]"
   ]
  },
  {
   "cell_type": "code",
   "execution_count": 467,
   "metadata": {
    "scrolled": true
   },
   "outputs": [
    {
     "name": "stderr",
     "output_type": "stream",
     "text": [
      "<ipython-input-467-d5acf402ac9d>:3: SettingWithCopyWarning: \n",
      "A value is trying to be set on a copy of a slice from a DataFrame\n",
      "\n",
      "See the caveats in the documentation: https://pandas.pydata.org/pandas-docs/stable/user_guide/indexing.html#returning-a-view-versus-a-copy\n",
      "  df_tot['Energy_tot'][(df_tot['Block']==1) & (df_tot['Energy_tot'].isnull())] = df_tot['Energy_tot'].min()\n"
     ]
    }
   ],
   "source": [
    "#Filling Energy_tot NaN for Block=1 with 50\n",
    "\n",
    "df_tot['Energy_tot'][(df_tot['Block']==1) & (df_tot['Energy_tot'].isnull())] = df_tot['Energy_tot'].min()"
   ]
  },
  {
   "cell_type": "code",
   "execution_count": 468,
   "metadata": {
    "scrolled": false
   },
   "outputs": [
    {
     "data": {
      "text/html": [
       "<div>\n",
       "<style scoped>\n",
       "    .dataframe tbody tr th:only-of-type {\n",
       "        vertical-align: middle;\n",
       "    }\n",
       "\n",
       "    .dataframe tbody tr th {\n",
       "        vertical-align: top;\n",
       "    }\n",
       "\n",
       "    .dataframe thead th {\n",
       "        text-align: right;\n",
       "    }\n",
       "</style>\n",
       "<table border=\"1\" class=\"dataframe\">\n",
       "  <thead>\n",
       "    <tr style=\"text-align: right;\">\n",
       "      <th></th>\n",
       "      <th>Pot_max</th>\n",
       "      <th>Year</th>\n",
       "      <th>Month</th>\n",
       "      <th>Day</th>\n",
       "      <th>Period</th>\n",
       "      <th>Block</th>\n",
       "      <th>Price</th>\n",
       "      <th>Energy</th>\n",
       "      <th>Date</th>\n",
       "      <th>Weekday</th>\n",
       "      <th>Energy_tot</th>\n",
       "    </tr>\n",
       "  </thead>\n",
       "  <tbody>\n",
       "    <tr>\n",
       "      <th>0</th>\n",
       "      <td>394.10</td>\n",
       "      <td>2019</td>\n",
       "      <td>11</td>\n",
       "      <td>1</td>\n",
       "      <td>1</td>\n",
       "      <td>1</td>\n",
       "      <td>180.30</td>\n",
       "      <td>0.00</td>\n",
       "      <td>2019-11-01</td>\n",
       "      <td>Friday</td>\n",
       "      <td>50.00</td>\n",
       "    </tr>\n",
       "    <tr>\n",
       "      <th>1</th>\n",
       "      <td>394.10</td>\n",
       "      <td>2019</td>\n",
       "      <td>11</td>\n",
       "      <td>1</td>\n",
       "      <td>1</td>\n",
       "      <td>2</td>\n",
       "      <td>180.30</td>\n",
       "      <td>0.00</td>\n",
       "      <td>2019-11-01</td>\n",
       "      <td>Friday</td>\n",
       "      <td>nan</td>\n",
       "    </tr>\n",
       "    <tr>\n",
       "      <th>2</th>\n",
       "      <td>394.10</td>\n",
       "      <td>2019</td>\n",
       "      <td>11</td>\n",
       "      <td>1</td>\n",
       "      <td>1</td>\n",
       "      <td>3</td>\n",
       "      <td>180.30</td>\n",
       "      <td>0.00</td>\n",
       "      <td>2019-11-01</td>\n",
       "      <td>Friday</td>\n",
       "      <td>nan</td>\n",
       "    </tr>\n",
       "    <tr>\n",
       "      <th>3</th>\n",
       "      <td>394.10</td>\n",
       "      <td>2019</td>\n",
       "      <td>11</td>\n",
       "      <td>1</td>\n",
       "      <td>1</td>\n",
       "      <td>4</td>\n",
       "      <td>180.30</td>\n",
       "      <td>0.00</td>\n",
       "      <td>2019-11-01</td>\n",
       "      <td>Friday</td>\n",
       "      <td>nan</td>\n",
       "    </tr>\n",
       "    <tr>\n",
       "      <th>4</th>\n",
       "      <td>394.10</td>\n",
       "      <td>2019</td>\n",
       "      <td>11</td>\n",
       "      <td>1</td>\n",
       "      <td>1</td>\n",
       "      <td>5</td>\n",
       "      <td>180.30</td>\n",
       "      <td>0.00</td>\n",
       "      <td>2019-11-01</td>\n",
       "      <td>Friday</td>\n",
       "      <td>nan</td>\n",
       "    </tr>\n",
       "    <tr>\n",
       "      <th>...</th>\n",
       "      <td>...</td>\n",
       "      <td>...</td>\n",
       "      <td>...</td>\n",
       "      <td>...</td>\n",
       "      <td>...</td>\n",
       "      <td>...</td>\n",
       "      <td>...</td>\n",
       "      <td>...</td>\n",
       "      <td>...</td>\n",
       "      <td>...</td>\n",
       "      <td>...</td>\n",
       "    </tr>\n",
       "    <tr>\n",
       "      <th>101755</th>\n",
       "      <td>394.10</td>\n",
       "      <td>2020</td>\n",
       "      <td>10</td>\n",
       "      <td>31</td>\n",
       "      <td>24</td>\n",
       "      <td>8</td>\n",
       "      <td>40.22</td>\n",
       "      <td>17.00</td>\n",
       "      <td>2020-10-31</td>\n",
       "      <td>Saturday</td>\n",
       "      <td>309.00</td>\n",
       "    </tr>\n",
       "    <tr>\n",
       "      <th>101756</th>\n",
       "      <td>394.10</td>\n",
       "      <td>2020</td>\n",
       "      <td>10</td>\n",
       "      <td>31</td>\n",
       "      <td>24</td>\n",
       "      <td>9</td>\n",
       "      <td>41.47</td>\n",
       "      <td>17.00</td>\n",
       "      <td>2020-10-31</td>\n",
       "      <td>Saturday</td>\n",
       "      <td>326.00</td>\n",
       "    </tr>\n",
       "    <tr>\n",
       "      <th>101757</th>\n",
       "      <td>394.10</td>\n",
       "      <td>2020</td>\n",
       "      <td>10</td>\n",
       "      <td>31</td>\n",
       "      <td>24</td>\n",
       "      <td>10</td>\n",
       "      <td>42.73</td>\n",
       "      <td>17.00</td>\n",
       "      <td>2020-10-31</td>\n",
       "      <td>Saturday</td>\n",
       "      <td>343.00</td>\n",
       "    </tr>\n",
       "    <tr>\n",
       "      <th>101758</th>\n",
       "      <td>394.10</td>\n",
       "      <td>2020</td>\n",
       "      <td>10</td>\n",
       "      <td>31</td>\n",
       "      <td>24</td>\n",
       "      <td>11</td>\n",
       "      <td>44.48</td>\n",
       "      <td>17.00</td>\n",
       "      <td>2020-10-31</td>\n",
       "      <td>Saturday</td>\n",
       "      <td>360.00</td>\n",
       "    </tr>\n",
       "    <tr>\n",
       "      <th>101759</th>\n",
       "      <td>394.10</td>\n",
       "      <td>2020</td>\n",
       "      <td>10</td>\n",
       "      <td>31</td>\n",
       "      <td>24</td>\n",
       "      <td>12</td>\n",
       "      <td>180.30</td>\n",
       "      <td>34.10</td>\n",
       "      <td>2020-10-31</td>\n",
       "      <td>Saturday</td>\n",
       "      <td>394.10</td>\n",
       "    </tr>\n",
       "  </tbody>\n",
       "</table>\n",
       "<p>101760 rows × 11 columns</p>\n",
       "</div>"
      ],
      "text/plain": [
       "        Pot_max  Year  Month  Day  Period  Block  Price  Energy       Date  \\\n",
       "0        394.10  2019     11    1       1      1 180.30    0.00 2019-11-01   \n",
       "1        394.10  2019     11    1       1      2 180.30    0.00 2019-11-01   \n",
       "2        394.10  2019     11    1       1      3 180.30    0.00 2019-11-01   \n",
       "3        394.10  2019     11    1       1      4 180.30    0.00 2019-11-01   \n",
       "4        394.10  2019     11    1       1      5 180.30    0.00 2019-11-01   \n",
       "...         ...   ...    ...  ...     ...    ...    ...     ...        ...   \n",
       "101755   394.10  2020     10   31      24      8  40.22   17.00 2020-10-31   \n",
       "101756   394.10  2020     10   31      24      9  41.47   17.00 2020-10-31   \n",
       "101757   394.10  2020     10   31      24     10  42.73   17.00 2020-10-31   \n",
       "101758   394.10  2020     10   31      24     11  44.48   17.00 2020-10-31   \n",
       "101759   394.10  2020     10   31      24     12 180.30   34.10 2020-10-31   \n",
       "\n",
       "         Weekday  Energy_tot  \n",
       "0         Friday       50.00  \n",
       "1         Friday         nan  \n",
       "2         Friday         nan  \n",
       "3         Friday         nan  \n",
       "4         Friday         nan  \n",
       "...          ...         ...  \n",
       "101755  Saturday      309.00  \n",
       "101756  Saturday      326.00  \n",
       "101757  Saturday      343.00  \n",
       "101758  Saturday      360.00  \n",
       "101759  Saturday      394.10  \n",
       "\n",
       "[101760 rows x 11 columns]"
      ]
     },
     "execution_count": 468,
     "metadata": {},
     "output_type": "execute_result"
    }
   ],
   "source": [
    "df_tot"
   ]
  },
  {
   "cell_type": "code",
   "execution_count": 469,
   "metadata": {},
   "outputs": [
    {
     "data": {
      "text/plain": [
       "Block  Energy_tot\n",
       "1      190.00        5719\n",
       "       120.00        1096\n",
       "       75.00          274\n",
       "       60.00          221\n",
       "       50.00           75\n",
       "       70.00           73\n",
       "       102.00           3\n",
       "       145.00           1\n",
       "       65.00            1\n",
       "       55.00            1\n",
       "dtype: int64"
      ]
     },
     "execution_count": 469,
     "metadata": {},
     "output_type": "execute_result"
    }
   ],
   "source": [
    "#Cheching that everything is OK between original dataframe and new one\n",
    "\n",
    "df_curve[['Block','Energy_tot']] [df_curve['Block']==1].value_counts()"
   ]
  },
  {
   "cell_type": "code",
   "execution_count": 470,
   "metadata": {},
   "outputs": [
    {
     "data": {
      "text/plain": [
       "Block  Energy_tot\n",
       "1      190.00        5719\n",
       "       120.00        1096\n",
       "       50.00         1091\n",
       "       75.00          274\n",
       "       60.00          221\n",
       "       70.00           73\n",
       "       102.00           3\n",
       "       145.00           1\n",
       "       65.00            1\n",
       "       55.00            1\n",
       "dtype: int64"
      ]
     },
     "execution_count": 470,
     "metadata": {},
     "output_type": "execute_result"
    }
   ],
   "source": [
    "df_tot[['Block','Energy_tot']] [df_tot['Block']==1].value_counts()"
   ]
  },
  {
   "cell_type": "code",
   "execution_count": 471,
   "metadata": {},
   "outputs": [],
   "source": [
    "#It is OK since the only modification is 50 that goes from 75 to 1091"
   ]
  },
  {
   "cell_type": "code",
   "execution_count": 472,
   "metadata": {},
   "outputs": [
    {
     "data": {
      "text/html": [
       "<div>\n",
       "<style scoped>\n",
       "    .dataframe tbody tr th:only-of-type {\n",
       "        vertical-align: middle;\n",
       "    }\n",
       "\n",
       "    .dataframe tbody tr th {\n",
       "        vertical-align: top;\n",
       "    }\n",
       "\n",
       "    .dataframe thead th {\n",
       "        text-align: right;\n",
       "    }\n",
       "</style>\n",
       "<table border=\"1\" class=\"dataframe\">\n",
       "  <thead>\n",
       "    <tr style=\"text-align: right;\">\n",
       "      <th></th>\n",
       "      <th>Pot_max</th>\n",
       "      <th>Year</th>\n",
       "      <th>Month</th>\n",
       "      <th>Day</th>\n",
       "      <th>Period</th>\n",
       "      <th>Block</th>\n",
       "      <th>Price</th>\n",
       "      <th>Energy</th>\n",
       "      <th>Date</th>\n",
       "      <th>Weekday</th>\n",
       "      <th>Energy_tot</th>\n",
       "    </tr>\n",
       "  </thead>\n",
       "  <tbody>\n",
       "    <tr>\n",
       "      <th>0</th>\n",
       "      <td>394.10</td>\n",
       "      <td>2019</td>\n",
       "      <td>11</td>\n",
       "      <td>1</td>\n",
       "      <td>1</td>\n",
       "      <td>1</td>\n",
       "      <td>180.30</td>\n",
       "      <td>0.00</td>\n",
       "      <td>2019-11-01</td>\n",
       "      <td>Friday</td>\n",
       "      <td>50.00</td>\n",
       "    </tr>\n",
       "    <tr>\n",
       "      <th>1</th>\n",
       "      <td>394.10</td>\n",
       "      <td>2019</td>\n",
       "      <td>11</td>\n",
       "      <td>1</td>\n",
       "      <td>1</td>\n",
       "      <td>2</td>\n",
       "      <td>180.30</td>\n",
       "      <td>0.00</td>\n",
       "      <td>2019-11-01</td>\n",
       "      <td>Friday</td>\n",
       "      <td>nan</td>\n",
       "    </tr>\n",
       "    <tr>\n",
       "      <th>2</th>\n",
       "      <td>394.10</td>\n",
       "      <td>2019</td>\n",
       "      <td>11</td>\n",
       "      <td>1</td>\n",
       "      <td>1</td>\n",
       "      <td>3</td>\n",
       "      <td>180.30</td>\n",
       "      <td>0.00</td>\n",
       "      <td>2019-11-01</td>\n",
       "      <td>Friday</td>\n",
       "      <td>nan</td>\n",
       "    </tr>\n",
       "    <tr>\n",
       "      <th>3</th>\n",
       "      <td>394.10</td>\n",
       "      <td>2019</td>\n",
       "      <td>11</td>\n",
       "      <td>1</td>\n",
       "      <td>1</td>\n",
       "      <td>4</td>\n",
       "      <td>180.30</td>\n",
       "      <td>0.00</td>\n",
       "      <td>2019-11-01</td>\n",
       "      <td>Friday</td>\n",
       "      <td>nan</td>\n",
       "    </tr>\n",
       "    <tr>\n",
       "      <th>4</th>\n",
       "      <td>394.10</td>\n",
       "      <td>2019</td>\n",
       "      <td>11</td>\n",
       "      <td>1</td>\n",
       "      <td>1</td>\n",
       "      <td>5</td>\n",
       "      <td>180.30</td>\n",
       "      <td>0.00</td>\n",
       "      <td>2019-11-01</td>\n",
       "      <td>Friday</td>\n",
       "      <td>nan</td>\n",
       "    </tr>\n",
       "    <tr>\n",
       "      <th>...</th>\n",
       "      <td>...</td>\n",
       "      <td>...</td>\n",
       "      <td>...</td>\n",
       "      <td>...</td>\n",
       "      <td>...</td>\n",
       "      <td>...</td>\n",
       "      <td>...</td>\n",
       "      <td>...</td>\n",
       "      <td>...</td>\n",
       "      <td>...</td>\n",
       "      <td>...</td>\n",
       "    </tr>\n",
       "    <tr>\n",
       "      <th>101755</th>\n",
       "      <td>394.10</td>\n",
       "      <td>2020</td>\n",
       "      <td>10</td>\n",
       "      <td>31</td>\n",
       "      <td>24</td>\n",
       "      <td>8</td>\n",
       "      <td>40.22</td>\n",
       "      <td>17.00</td>\n",
       "      <td>2020-10-31</td>\n",
       "      <td>Saturday</td>\n",
       "      <td>309.00</td>\n",
       "    </tr>\n",
       "    <tr>\n",
       "      <th>101756</th>\n",
       "      <td>394.10</td>\n",
       "      <td>2020</td>\n",
       "      <td>10</td>\n",
       "      <td>31</td>\n",
       "      <td>24</td>\n",
       "      <td>9</td>\n",
       "      <td>41.47</td>\n",
       "      <td>17.00</td>\n",
       "      <td>2020-10-31</td>\n",
       "      <td>Saturday</td>\n",
       "      <td>326.00</td>\n",
       "    </tr>\n",
       "    <tr>\n",
       "      <th>101757</th>\n",
       "      <td>394.10</td>\n",
       "      <td>2020</td>\n",
       "      <td>10</td>\n",
       "      <td>31</td>\n",
       "      <td>24</td>\n",
       "      <td>10</td>\n",
       "      <td>42.73</td>\n",
       "      <td>17.00</td>\n",
       "      <td>2020-10-31</td>\n",
       "      <td>Saturday</td>\n",
       "      <td>343.00</td>\n",
       "    </tr>\n",
       "    <tr>\n",
       "      <th>101758</th>\n",
       "      <td>394.10</td>\n",
       "      <td>2020</td>\n",
       "      <td>10</td>\n",
       "      <td>31</td>\n",
       "      <td>24</td>\n",
       "      <td>11</td>\n",
       "      <td>44.48</td>\n",
       "      <td>17.00</td>\n",
       "      <td>2020-10-31</td>\n",
       "      <td>Saturday</td>\n",
       "      <td>360.00</td>\n",
       "    </tr>\n",
       "    <tr>\n",
       "      <th>101759</th>\n",
       "      <td>394.10</td>\n",
       "      <td>2020</td>\n",
       "      <td>10</td>\n",
       "      <td>31</td>\n",
       "      <td>24</td>\n",
       "      <td>12</td>\n",
       "      <td>180.30</td>\n",
       "      <td>34.10</td>\n",
       "      <td>2020-10-31</td>\n",
       "      <td>Saturday</td>\n",
       "      <td>394.10</td>\n",
       "    </tr>\n",
       "  </tbody>\n",
       "</table>\n",
       "<p>101760 rows × 11 columns</p>\n",
       "</div>"
      ],
      "text/plain": [
       "        Pot_max  Year  Month  Day  Period  Block  Price  Energy       Date  \\\n",
       "0        394.10  2019     11    1       1      1 180.30    0.00 2019-11-01   \n",
       "1        394.10  2019     11    1       1      2 180.30    0.00 2019-11-01   \n",
       "2        394.10  2019     11    1       1      3 180.30    0.00 2019-11-01   \n",
       "3        394.10  2019     11    1       1      4 180.30    0.00 2019-11-01   \n",
       "4        394.10  2019     11    1       1      5 180.30    0.00 2019-11-01   \n",
       "...         ...   ...    ...  ...     ...    ...    ...     ...        ...   \n",
       "101755   394.10  2020     10   31      24      8  40.22   17.00 2020-10-31   \n",
       "101756   394.10  2020     10   31      24      9  41.47   17.00 2020-10-31   \n",
       "101757   394.10  2020     10   31      24     10  42.73   17.00 2020-10-31   \n",
       "101758   394.10  2020     10   31      24     11  44.48   17.00 2020-10-31   \n",
       "101759   394.10  2020     10   31      24     12 180.30   34.10 2020-10-31   \n",
       "\n",
       "         Weekday  Energy_tot  \n",
       "0         Friday       50.00  \n",
       "1         Friday         nan  \n",
       "2         Friday         nan  \n",
       "3         Friday         nan  \n",
       "4         Friday         nan  \n",
       "...          ...         ...  \n",
       "101755  Saturday      309.00  \n",
       "101756  Saturday      326.00  \n",
       "101757  Saturday      343.00  \n",
       "101758  Saturday      360.00  \n",
       "101759  Saturday      394.10  \n",
       "\n",
       "[101760 rows x 11 columns]"
      ]
     },
     "execution_count": 472,
     "metadata": {},
     "output_type": "execute_result"
    }
   ],
   "source": [
    "df_tot"
   ]
  },
  {
   "cell_type": "code",
   "execution_count": null,
   "metadata": {},
   "outputs": [],
   "source": []
  },
  {
   "cell_type": "code",
   "execution_count": 473,
   "metadata": {},
   "outputs": [
    {
     "data": {
      "text/html": [
       "<div>\n",
       "<style scoped>\n",
       "    .dataframe tbody tr th:only-of-type {\n",
       "        vertical-align: middle;\n",
       "    }\n",
       "\n",
       "    .dataframe tbody tr th {\n",
       "        vertical-align: top;\n",
       "    }\n",
       "\n",
       "    .dataframe thead th {\n",
       "        text-align: right;\n",
       "    }\n",
       "</style>\n",
       "<table border=\"1\" class=\"dataframe\">\n",
       "  <thead>\n",
       "    <tr style=\"text-align: right;\">\n",
       "      <th></th>\n",
       "      <th>Pot_max</th>\n",
       "      <th>Year</th>\n",
       "      <th>Month</th>\n",
       "      <th>Day</th>\n",
       "      <th>Period</th>\n",
       "      <th>Block</th>\n",
       "      <th>Price</th>\n",
       "      <th>Energy</th>\n",
       "      <th>Date</th>\n",
       "      <th>Weekday</th>\n",
       "      <th>Energy_tot</th>\n",
       "    </tr>\n",
       "  </thead>\n",
       "  <tbody>\n",
       "    <tr>\n",
       "      <th>0</th>\n",
       "      <td>394.10</td>\n",
       "      <td>2019</td>\n",
       "      <td>11</td>\n",
       "      <td>1</td>\n",
       "      <td>1</td>\n",
       "      <td>1</td>\n",
       "      <td>180.30</td>\n",
       "      <td>0.00</td>\n",
       "      <td>2019-11-01</td>\n",
       "      <td>Friday</td>\n",
       "      <td>50.00</td>\n",
       "    </tr>\n",
       "    <tr>\n",
       "      <th>12</th>\n",
       "      <td>394.10</td>\n",
       "      <td>2019</td>\n",
       "      <td>11</td>\n",
       "      <td>1</td>\n",
       "      <td>2</td>\n",
       "      <td>1</td>\n",
       "      <td>180.30</td>\n",
       "      <td>0.00</td>\n",
       "      <td>2019-11-01</td>\n",
       "      <td>Friday</td>\n",
       "      <td>50.00</td>\n",
       "    </tr>\n",
       "    <tr>\n",
       "      <th>24</th>\n",
       "      <td>394.10</td>\n",
       "      <td>2019</td>\n",
       "      <td>11</td>\n",
       "      <td>1</td>\n",
       "      <td>3</td>\n",
       "      <td>1</td>\n",
       "      <td>1.13</td>\n",
       "      <td>50.00</td>\n",
       "      <td>2019-11-01</td>\n",
       "      <td>Friday</td>\n",
       "      <td>50.00</td>\n",
       "    </tr>\n",
       "    <tr>\n",
       "      <th>36</th>\n",
       "      <td>394.10</td>\n",
       "      <td>2019</td>\n",
       "      <td>11</td>\n",
       "      <td>1</td>\n",
       "      <td>4</td>\n",
       "      <td>1</td>\n",
       "      <td>1.13</td>\n",
       "      <td>60.00</td>\n",
       "      <td>2019-11-01</td>\n",
       "      <td>Friday</td>\n",
       "      <td>60.00</td>\n",
       "    </tr>\n",
       "    <tr>\n",
       "      <th>48</th>\n",
       "      <td>394.10</td>\n",
       "      <td>2019</td>\n",
       "      <td>11</td>\n",
       "      <td>1</td>\n",
       "      <td>5</td>\n",
       "      <td>1</td>\n",
       "      <td>1.13</td>\n",
       "      <td>60.00</td>\n",
       "      <td>2019-11-01</td>\n",
       "      <td>Friday</td>\n",
       "      <td>60.00</td>\n",
       "    </tr>\n",
       "    <tr>\n",
       "      <th>...</th>\n",
       "      <td>...</td>\n",
       "      <td>...</td>\n",
       "      <td>...</td>\n",
       "      <td>...</td>\n",
       "      <td>...</td>\n",
       "      <td>...</td>\n",
       "      <td>...</td>\n",
       "      <td>...</td>\n",
       "      <td>...</td>\n",
       "      <td>...</td>\n",
       "      <td>...</td>\n",
       "    </tr>\n",
       "    <tr>\n",
       "      <th>101700</th>\n",
       "      <td>394.10</td>\n",
       "      <td>2020</td>\n",
       "      <td>10</td>\n",
       "      <td>31</td>\n",
       "      <td>20</td>\n",
       "      <td>1</td>\n",
       "      <td>1.13</td>\n",
       "      <td>190.00</td>\n",
       "      <td>2020-10-31</td>\n",
       "      <td>Saturday</td>\n",
       "      <td>190.00</td>\n",
       "    </tr>\n",
       "    <tr>\n",
       "      <th>101712</th>\n",
       "      <td>394.10</td>\n",
       "      <td>2020</td>\n",
       "      <td>10</td>\n",
       "      <td>31</td>\n",
       "      <td>21</td>\n",
       "      <td>1</td>\n",
       "      <td>1.13</td>\n",
       "      <td>190.00</td>\n",
       "      <td>2020-10-31</td>\n",
       "      <td>Saturday</td>\n",
       "      <td>190.00</td>\n",
       "    </tr>\n",
       "    <tr>\n",
       "      <th>101724</th>\n",
       "      <td>394.10</td>\n",
       "      <td>2020</td>\n",
       "      <td>10</td>\n",
       "      <td>31</td>\n",
       "      <td>22</td>\n",
       "      <td>1</td>\n",
       "      <td>1.13</td>\n",
       "      <td>190.00</td>\n",
       "      <td>2020-10-31</td>\n",
       "      <td>Saturday</td>\n",
       "      <td>190.00</td>\n",
       "    </tr>\n",
       "    <tr>\n",
       "      <th>101736</th>\n",
       "      <td>394.10</td>\n",
       "      <td>2020</td>\n",
       "      <td>10</td>\n",
       "      <td>31</td>\n",
       "      <td>23</td>\n",
       "      <td>1</td>\n",
       "      <td>1.13</td>\n",
       "      <td>190.00</td>\n",
       "      <td>2020-10-31</td>\n",
       "      <td>Saturday</td>\n",
       "      <td>190.00</td>\n",
       "    </tr>\n",
       "    <tr>\n",
       "      <th>101748</th>\n",
       "      <td>394.10</td>\n",
       "      <td>2020</td>\n",
       "      <td>10</td>\n",
       "      <td>31</td>\n",
       "      <td>24</td>\n",
       "      <td>1</td>\n",
       "      <td>1.13</td>\n",
       "      <td>190.00</td>\n",
       "      <td>2020-10-31</td>\n",
       "      <td>Saturday</td>\n",
       "      <td>190.00</td>\n",
       "    </tr>\n",
       "  </tbody>\n",
       "</table>\n",
       "<p>8480 rows × 11 columns</p>\n",
       "</div>"
      ],
      "text/plain": [
       "        Pot_max  Year  Month  Day  Period  Block  Price  Energy       Date  \\\n",
       "0        394.10  2019     11    1       1      1 180.30    0.00 2019-11-01   \n",
       "12       394.10  2019     11    1       2      1 180.30    0.00 2019-11-01   \n",
       "24       394.10  2019     11    1       3      1   1.13   50.00 2019-11-01   \n",
       "36       394.10  2019     11    1       4      1   1.13   60.00 2019-11-01   \n",
       "48       394.10  2019     11    1       5      1   1.13   60.00 2019-11-01   \n",
       "...         ...   ...    ...  ...     ...    ...    ...     ...        ...   \n",
       "101700   394.10  2020     10   31      20      1   1.13  190.00 2020-10-31   \n",
       "101712   394.10  2020     10   31      21      1   1.13  190.00 2020-10-31   \n",
       "101724   394.10  2020     10   31      22      1   1.13  190.00 2020-10-31   \n",
       "101736   394.10  2020     10   31      23      1   1.13  190.00 2020-10-31   \n",
       "101748   394.10  2020     10   31      24      1   1.13  190.00 2020-10-31   \n",
       "\n",
       "         Weekday  Energy_tot  \n",
       "0         Friday       50.00  \n",
       "12        Friday       50.00  \n",
       "24        Friday       50.00  \n",
       "36        Friday       60.00  \n",
       "48        Friday       60.00  \n",
       "...          ...         ...  \n",
       "101700  Saturday      190.00  \n",
       "101712  Saturday      190.00  \n",
       "101724  Saturday      190.00  \n",
       "101736  Saturday      190.00  \n",
       "101748  Saturday      190.00  \n",
       "\n",
       "[8480 rows x 11 columns]"
      ]
     },
     "execution_count": 473,
     "metadata": {},
     "output_type": "execute_result"
    }
   ],
   "source": [
    "df_tot[df_tot['Block']==1]"
   ]
  },
  {
   "cell_type": "code",
   "execution_count": 474,
   "metadata": {},
   "outputs": [],
   "source": [
    "#Now remaining NaN in Energy_tot are filled by interpolation \n",
    "\n",
    "df_tot['Energy_tot'].interpolate(inplace=True)"
   ]
  },
  {
   "cell_type": "code",
   "execution_count": 475,
   "metadata": {},
   "outputs": [
    {
     "data": {
      "text/html": [
       "<div>\n",
       "<style scoped>\n",
       "    .dataframe tbody tr th:only-of-type {\n",
       "        vertical-align: middle;\n",
       "    }\n",
       "\n",
       "    .dataframe tbody tr th {\n",
       "        vertical-align: top;\n",
       "    }\n",
       "\n",
       "    .dataframe thead th {\n",
       "        text-align: right;\n",
       "    }\n",
       "</style>\n",
       "<table border=\"1\" class=\"dataframe\">\n",
       "  <thead>\n",
       "    <tr style=\"text-align: right;\">\n",
       "      <th></th>\n",
       "      <th>Pot_max</th>\n",
       "      <th>Year</th>\n",
       "      <th>Month</th>\n",
       "      <th>Day</th>\n",
       "      <th>Period</th>\n",
       "      <th>Block</th>\n",
       "      <th>Price</th>\n",
       "      <th>Energy</th>\n",
       "      <th>Date</th>\n",
       "      <th>Weekday</th>\n",
       "      <th>Energy_tot</th>\n",
       "    </tr>\n",
       "  </thead>\n",
       "  <tbody>\n",
       "    <tr>\n",
       "      <th>0</th>\n",
       "      <td>394.10</td>\n",
       "      <td>2019</td>\n",
       "      <td>11</td>\n",
       "      <td>1</td>\n",
       "      <td>1</td>\n",
       "      <td>1</td>\n",
       "      <td>180.30</td>\n",
       "      <td>0.00</td>\n",
       "      <td>2019-11-01</td>\n",
       "      <td>Friday</td>\n",
       "      <td>50.00</td>\n",
       "    </tr>\n",
       "    <tr>\n",
       "      <th>1</th>\n",
       "      <td>394.10</td>\n",
       "      <td>2019</td>\n",
       "      <td>11</td>\n",
       "      <td>1</td>\n",
       "      <td>1</td>\n",
       "      <td>2</td>\n",
       "      <td>180.30</td>\n",
       "      <td>0.00</td>\n",
       "      <td>2019-11-01</td>\n",
       "      <td>Friday</td>\n",
       "      <td>81.28</td>\n",
       "    </tr>\n",
       "    <tr>\n",
       "      <th>2</th>\n",
       "      <td>394.10</td>\n",
       "      <td>2019</td>\n",
       "      <td>11</td>\n",
       "      <td>1</td>\n",
       "      <td>1</td>\n",
       "      <td>3</td>\n",
       "      <td>180.30</td>\n",
       "      <td>0.00</td>\n",
       "      <td>2019-11-01</td>\n",
       "      <td>Friday</td>\n",
       "      <td>112.56</td>\n",
       "    </tr>\n",
       "    <tr>\n",
       "      <th>3</th>\n",
       "      <td>394.10</td>\n",
       "      <td>2019</td>\n",
       "      <td>11</td>\n",
       "      <td>1</td>\n",
       "      <td>1</td>\n",
       "      <td>4</td>\n",
       "      <td>180.30</td>\n",
       "      <td>0.00</td>\n",
       "      <td>2019-11-01</td>\n",
       "      <td>Friday</td>\n",
       "      <td>143.85</td>\n",
       "    </tr>\n",
       "    <tr>\n",
       "      <th>4</th>\n",
       "      <td>394.10</td>\n",
       "      <td>2019</td>\n",
       "      <td>11</td>\n",
       "      <td>1</td>\n",
       "      <td>1</td>\n",
       "      <td>5</td>\n",
       "      <td>180.30</td>\n",
       "      <td>0.00</td>\n",
       "      <td>2019-11-01</td>\n",
       "      <td>Friday</td>\n",
       "      <td>175.13</td>\n",
       "    </tr>\n",
       "    <tr>\n",
       "      <th>5</th>\n",
       "      <td>394.10</td>\n",
       "      <td>2019</td>\n",
       "      <td>11</td>\n",
       "      <td>1</td>\n",
       "      <td>1</td>\n",
       "      <td>6</td>\n",
       "      <td>180.30</td>\n",
       "      <td>0.00</td>\n",
       "      <td>2019-11-01</td>\n",
       "      <td>Friday</td>\n",
       "      <td>206.41</td>\n",
       "    </tr>\n",
       "    <tr>\n",
       "      <th>6</th>\n",
       "      <td>394.10</td>\n",
       "      <td>2019</td>\n",
       "      <td>11</td>\n",
       "      <td>1</td>\n",
       "      <td>1</td>\n",
       "      <td>7</td>\n",
       "      <td>180.30</td>\n",
       "      <td>0.00</td>\n",
       "      <td>2019-11-01</td>\n",
       "      <td>Friday</td>\n",
       "      <td>237.69</td>\n",
       "    </tr>\n",
       "    <tr>\n",
       "      <th>7</th>\n",
       "      <td>394.10</td>\n",
       "      <td>2019</td>\n",
       "      <td>11</td>\n",
       "      <td>1</td>\n",
       "      <td>1</td>\n",
       "      <td>8</td>\n",
       "      <td>180.30</td>\n",
       "      <td>0.00</td>\n",
       "      <td>2019-11-01</td>\n",
       "      <td>Friday</td>\n",
       "      <td>268.97</td>\n",
       "    </tr>\n",
       "    <tr>\n",
       "      <th>8</th>\n",
       "      <td>394.10</td>\n",
       "      <td>2019</td>\n",
       "      <td>11</td>\n",
       "      <td>1</td>\n",
       "      <td>1</td>\n",
       "      <td>9</td>\n",
       "      <td>180.30</td>\n",
       "      <td>0.00</td>\n",
       "      <td>2019-11-01</td>\n",
       "      <td>Friday</td>\n",
       "      <td>300.25</td>\n",
       "    </tr>\n",
       "    <tr>\n",
       "      <th>9</th>\n",
       "      <td>394.10</td>\n",
       "      <td>2019</td>\n",
       "      <td>11</td>\n",
       "      <td>1</td>\n",
       "      <td>1</td>\n",
       "      <td>10</td>\n",
       "      <td>180.30</td>\n",
       "      <td>0.00</td>\n",
       "      <td>2019-11-01</td>\n",
       "      <td>Friday</td>\n",
       "      <td>331.54</td>\n",
       "    </tr>\n",
       "    <tr>\n",
       "      <th>10</th>\n",
       "      <td>394.10</td>\n",
       "      <td>2019</td>\n",
       "      <td>11</td>\n",
       "      <td>1</td>\n",
       "      <td>1</td>\n",
       "      <td>11</td>\n",
       "      <td>180.30</td>\n",
       "      <td>0.00</td>\n",
       "      <td>2019-11-01</td>\n",
       "      <td>Friday</td>\n",
       "      <td>362.82</td>\n",
       "    </tr>\n",
       "    <tr>\n",
       "      <th>11</th>\n",
       "      <td>394.10</td>\n",
       "      <td>2019</td>\n",
       "      <td>11</td>\n",
       "      <td>1</td>\n",
       "      <td>1</td>\n",
       "      <td>12</td>\n",
       "      <td>180.30</td>\n",
       "      <td>394.10</td>\n",
       "      <td>2019-11-01</td>\n",
       "      <td>Friday</td>\n",
       "      <td>394.10</td>\n",
       "    </tr>\n",
       "    <tr>\n",
       "      <th>12</th>\n",
       "      <td>394.10</td>\n",
       "      <td>2019</td>\n",
       "      <td>11</td>\n",
       "      <td>1</td>\n",
       "      <td>2</td>\n",
       "      <td>1</td>\n",
       "      <td>180.30</td>\n",
       "      <td>0.00</td>\n",
       "      <td>2019-11-01</td>\n",
       "      <td>Friday</td>\n",
       "      <td>50.00</td>\n",
       "    </tr>\n",
       "    <tr>\n",
       "      <th>13</th>\n",
       "      <td>394.10</td>\n",
       "      <td>2019</td>\n",
       "      <td>11</td>\n",
       "      <td>1</td>\n",
       "      <td>2</td>\n",
       "      <td>2</td>\n",
       "      <td>180.30</td>\n",
       "      <td>0.00</td>\n",
       "      <td>2019-11-01</td>\n",
       "      <td>Friday</td>\n",
       "      <td>81.28</td>\n",
       "    </tr>\n",
       "    <tr>\n",
       "      <th>14</th>\n",
       "      <td>394.10</td>\n",
       "      <td>2019</td>\n",
       "      <td>11</td>\n",
       "      <td>1</td>\n",
       "      <td>2</td>\n",
       "      <td>3</td>\n",
       "      <td>180.30</td>\n",
       "      <td>0.00</td>\n",
       "      <td>2019-11-01</td>\n",
       "      <td>Friday</td>\n",
       "      <td>112.56</td>\n",
       "    </tr>\n",
       "    <tr>\n",
       "      <th>15</th>\n",
       "      <td>394.10</td>\n",
       "      <td>2019</td>\n",
       "      <td>11</td>\n",
       "      <td>1</td>\n",
       "      <td>2</td>\n",
       "      <td>4</td>\n",
       "      <td>180.30</td>\n",
       "      <td>0.00</td>\n",
       "      <td>2019-11-01</td>\n",
       "      <td>Friday</td>\n",
       "      <td>143.85</td>\n",
       "    </tr>\n",
       "    <tr>\n",
       "      <th>16</th>\n",
       "      <td>394.10</td>\n",
       "      <td>2019</td>\n",
       "      <td>11</td>\n",
       "      <td>1</td>\n",
       "      <td>2</td>\n",
       "      <td>5</td>\n",
       "      <td>180.30</td>\n",
       "      <td>0.00</td>\n",
       "      <td>2019-11-01</td>\n",
       "      <td>Friday</td>\n",
       "      <td>175.13</td>\n",
       "    </tr>\n",
       "    <tr>\n",
       "      <th>17</th>\n",
       "      <td>394.10</td>\n",
       "      <td>2019</td>\n",
       "      <td>11</td>\n",
       "      <td>1</td>\n",
       "      <td>2</td>\n",
       "      <td>6</td>\n",
       "      <td>180.30</td>\n",
       "      <td>0.00</td>\n",
       "      <td>2019-11-01</td>\n",
       "      <td>Friday</td>\n",
       "      <td>206.41</td>\n",
       "    </tr>\n",
       "    <tr>\n",
       "      <th>18</th>\n",
       "      <td>394.10</td>\n",
       "      <td>2019</td>\n",
       "      <td>11</td>\n",
       "      <td>1</td>\n",
       "      <td>2</td>\n",
       "      <td>7</td>\n",
       "      <td>180.30</td>\n",
       "      <td>0.00</td>\n",
       "      <td>2019-11-01</td>\n",
       "      <td>Friday</td>\n",
       "      <td>237.69</td>\n",
       "    </tr>\n",
       "    <tr>\n",
       "      <th>19</th>\n",
       "      <td>394.10</td>\n",
       "      <td>2019</td>\n",
       "      <td>11</td>\n",
       "      <td>1</td>\n",
       "      <td>2</td>\n",
       "      <td>8</td>\n",
       "      <td>180.30</td>\n",
       "      <td>0.00</td>\n",
       "      <td>2019-11-01</td>\n",
       "      <td>Friday</td>\n",
       "      <td>268.97</td>\n",
       "    </tr>\n",
       "  </tbody>\n",
       "</table>\n",
       "</div>"
      ],
      "text/plain": [
       "    Pot_max  Year  Month  Day  Period  Block  Price  Energy       Date  \\\n",
       "0    394.10  2019     11    1       1      1 180.30    0.00 2019-11-01   \n",
       "1    394.10  2019     11    1       1      2 180.30    0.00 2019-11-01   \n",
       "2    394.10  2019     11    1       1      3 180.30    0.00 2019-11-01   \n",
       "3    394.10  2019     11    1       1      4 180.30    0.00 2019-11-01   \n",
       "4    394.10  2019     11    1       1      5 180.30    0.00 2019-11-01   \n",
       "5    394.10  2019     11    1       1      6 180.30    0.00 2019-11-01   \n",
       "6    394.10  2019     11    1       1      7 180.30    0.00 2019-11-01   \n",
       "7    394.10  2019     11    1       1      8 180.30    0.00 2019-11-01   \n",
       "8    394.10  2019     11    1       1      9 180.30    0.00 2019-11-01   \n",
       "9    394.10  2019     11    1       1     10 180.30    0.00 2019-11-01   \n",
       "10   394.10  2019     11    1       1     11 180.30    0.00 2019-11-01   \n",
       "11   394.10  2019     11    1       1     12 180.30  394.10 2019-11-01   \n",
       "12   394.10  2019     11    1       2      1 180.30    0.00 2019-11-01   \n",
       "13   394.10  2019     11    1       2      2 180.30    0.00 2019-11-01   \n",
       "14   394.10  2019     11    1       2      3 180.30    0.00 2019-11-01   \n",
       "15   394.10  2019     11    1       2      4 180.30    0.00 2019-11-01   \n",
       "16   394.10  2019     11    1       2      5 180.30    0.00 2019-11-01   \n",
       "17   394.10  2019     11    1       2      6 180.30    0.00 2019-11-01   \n",
       "18   394.10  2019     11    1       2      7 180.30    0.00 2019-11-01   \n",
       "19   394.10  2019     11    1       2      8 180.30    0.00 2019-11-01   \n",
       "\n",
       "   Weekday  Energy_tot  \n",
       "0   Friday       50.00  \n",
       "1   Friday       81.28  \n",
       "2   Friday      112.56  \n",
       "3   Friday      143.85  \n",
       "4   Friday      175.13  \n",
       "5   Friday      206.41  \n",
       "6   Friday      237.69  \n",
       "7   Friday      268.97  \n",
       "8   Friday      300.25  \n",
       "9   Friday      331.54  \n",
       "10  Friday      362.82  \n",
       "11  Friday      394.10  \n",
       "12  Friday       50.00  \n",
       "13  Friday       81.28  \n",
       "14  Friday      112.56  \n",
       "15  Friday      143.85  \n",
       "16  Friday      175.13  \n",
       "17  Friday      206.41  \n",
       "18  Friday      237.69  \n",
       "19  Friday      268.97  "
      ]
     },
     "execution_count": 475,
     "metadata": {},
     "output_type": "execute_result"
    }
   ],
   "source": [
    "df_tot.head(20)"
   ]
  },
  {
   "cell_type": "code",
   "execution_count": 486,
   "metadata": {},
   "outputs": [
    {
     "data": {
      "text/html": [
       "<div>\n",
       "<style scoped>\n",
       "    .dataframe tbody tr th:only-of-type {\n",
       "        vertical-align: middle;\n",
       "    }\n",
       "\n",
       "    .dataframe tbody tr th {\n",
       "        vertical-align: top;\n",
       "    }\n",
       "\n",
       "    .dataframe thead th {\n",
       "        text-align: right;\n",
       "    }\n",
       "</style>\n",
       "<table border=\"1\" class=\"dataframe\">\n",
       "  <thead>\n",
       "    <tr style=\"text-align: right;\">\n",
       "      <th></th>\n",
       "      <th>Pot_max</th>\n",
       "      <th>Year</th>\n",
       "      <th>Month</th>\n",
       "      <th>Day</th>\n",
       "      <th>Period</th>\n",
       "      <th>Block</th>\n",
       "      <th>Price</th>\n",
       "      <th>Energy</th>\n",
       "      <th>Date</th>\n",
       "      <th>Weekday</th>\n",
       "      <th>Energy_tot</th>\n",
       "    </tr>\n",
       "  </thead>\n",
       "  <tbody>\n",
       "    <tr>\n",
       "      <th>0</th>\n",
       "      <td>394.10</td>\n",
       "      <td>2019</td>\n",
       "      <td>11</td>\n",
       "      <td>1</td>\n",
       "      <td>1</td>\n",
       "      <td>1</td>\n",
       "      <td>180.30</td>\n",
       "      <td>0.00</td>\n",
       "      <td>2019-11-01</td>\n",
       "      <td>Friday</td>\n",
       "      <td>50.00</td>\n",
       "    </tr>\n",
       "    <tr>\n",
       "      <th>1</th>\n",
       "      <td>394.10</td>\n",
       "      <td>2019</td>\n",
       "      <td>11</td>\n",
       "      <td>1</td>\n",
       "      <td>1</td>\n",
       "      <td>2</td>\n",
       "      <td>180.30</td>\n",
       "      <td>0.00</td>\n",
       "      <td>2019-11-01</td>\n",
       "      <td>Friday</td>\n",
       "      <td>81.28</td>\n",
       "    </tr>\n",
       "    <tr>\n",
       "      <th>2</th>\n",
       "      <td>394.10</td>\n",
       "      <td>2019</td>\n",
       "      <td>11</td>\n",
       "      <td>1</td>\n",
       "      <td>1</td>\n",
       "      <td>3</td>\n",
       "      <td>180.30</td>\n",
       "      <td>0.00</td>\n",
       "      <td>2019-11-01</td>\n",
       "      <td>Friday</td>\n",
       "      <td>112.56</td>\n",
       "    </tr>\n",
       "    <tr>\n",
       "      <th>3</th>\n",
       "      <td>394.10</td>\n",
       "      <td>2019</td>\n",
       "      <td>11</td>\n",
       "      <td>1</td>\n",
       "      <td>1</td>\n",
       "      <td>4</td>\n",
       "      <td>180.30</td>\n",
       "      <td>0.00</td>\n",
       "      <td>2019-11-01</td>\n",
       "      <td>Friday</td>\n",
       "      <td>143.85</td>\n",
       "    </tr>\n",
       "    <tr>\n",
       "      <th>4</th>\n",
       "      <td>394.10</td>\n",
       "      <td>2019</td>\n",
       "      <td>11</td>\n",
       "      <td>1</td>\n",
       "      <td>1</td>\n",
       "      <td>5</td>\n",
       "      <td>180.30</td>\n",
       "      <td>0.00</td>\n",
       "      <td>2019-11-01</td>\n",
       "      <td>Friday</td>\n",
       "      <td>175.13</td>\n",
       "    </tr>\n",
       "    <tr>\n",
       "      <th>...</th>\n",
       "      <td>...</td>\n",
       "      <td>...</td>\n",
       "      <td>...</td>\n",
       "      <td>...</td>\n",
       "      <td>...</td>\n",
       "      <td>...</td>\n",
       "      <td>...</td>\n",
       "      <td>...</td>\n",
       "      <td>...</td>\n",
       "      <td>...</td>\n",
       "      <td>...</td>\n",
       "    </tr>\n",
       "    <tr>\n",
       "      <th>101755</th>\n",
       "      <td>394.10</td>\n",
       "      <td>2020</td>\n",
       "      <td>10</td>\n",
       "      <td>31</td>\n",
       "      <td>24</td>\n",
       "      <td>8</td>\n",
       "      <td>40.22</td>\n",
       "      <td>17.00</td>\n",
       "      <td>2020-10-31</td>\n",
       "      <td>Saturday</td>\n",
       "      <td>309.00</td>\n",
       "    </tr>\n",
       "    <tr>\n",
       "      <th>101756</th>\n",
       "      <td>394.10</td>\n",
       "      <td>2020</td>\n",
       "      <td>10</td>\n",
       "      <td>31</td>\n",
       "      <td>24</td>\n",
       "      <td>9</td>\n",
       "      <td>41.47</td>\n",
       "      <td>17.00</td>\n",
       "      <td>2020-10-31</td>\n",
       "      <td>Saturday</td>\n",
       "      <td>326.00</td>\n",
       "    </tr>\n",
       "    <tr>\n",
       "      <th>101757</th>\n",
       "      <td>394.10</td>\n",
       "      <td>2020</td>\n",
       "      <td>10</td>\n",
       "      <td>31</td>\n",
       "      <td>24</td>\n",
       "      <td>10</td>\n",
       "      <td>42.73</td>\n",
       "      <td>17.00</td>\n",
       "      <td>2020-10-31</td>\n",
       "      <td>Saturday</td>\n",
       "      <td>343.00</td>\n",
       "    </tr>\n",
       "    <tr>\n",
       "      <th>101758</th>\n",
       "      <td>394.10</td>\n",
       "      <td>2020</td>\n",
       "      <td>10</td>\n",
       "      <td>31</td>\n",
       "      <td>24</td>\n",
       "      <td>11</td>\n",
       "      <td>44.48</td>\n",
       "      <td>17.00</td>\n",
       "      <td>2020-10-31</td>\n",
       "      <td>Saturday</td>\n",
       "      <td>360.00</td>\n",
       "    </tr>\n",
       "    <tr>\n",
       "      <th>101759</th>\n",
       "      <td>394.10</td>\n",
       "      <td>2020</td>\n",
       "      <td>10</td>\n",
       "      <td>31</td>\n",
       "      <td>24</td>\n",
       "      <td>12</td>\n",
       "      <td>180.30</td>\n",
       "      <td>34.10</td>\n",
       "      <td>2020-10-31</td>\n",
       "      <td>Saturday</td>\n",
       "      <td>394.10</td>\n",
       "    </tr>\n",
       "  </tbody>\n",
       "</table>\n",
       "<p>101760 rows × 11 columns</p>\n",
       "</div>"
      ],
      "text/plain": [
       "        Pot_max  Year  Month  Day  Period  Block  Price  Energy       Date  \\\n",
       "0        394.10  2019     11    1       1      1 180.30    0.00 2019-11-01   \n",
       "1        394.10  2019     11    1       1      2 180.30    0.00 2019-11-01   \n",
       "2        394.10  2019     11    1       1      3 180.30    0.00 2019-11-01   \n",
       "3        394.10  2019     11    1       1      4 180.30    0.00 2019-11-01   \n",
       "4        394.10  2019     11    1       1      5 180.30    0.00 2019-11-01   \n",
       "...         ...   ...    ...  ...     ...    ...    ...     ...        ...   \n",
       "101755   394.10  2020     10   31      24      8  40.22   17.00 2020-10-31   \n",
       "101756   394.10  2020     10   31      24      9  41.47   17.00 2020-10-31   \n",
       "101757   394.10  2020     10   31      24     10  42.73   17.00 2020-10-31   \n",
       "101758   394.10  2020     10   31      24     11  44.48   17.00 2020-10-31   \n",
       "101759   394.10  2020     10   31      24     12 180.30   34.10 2020-10-31   \n",
       "\n",
       "         Weekday  Energy_tot  \n",
       "0         Friday       50.00  \n",
       "1         Friday       81.28  \n",
       "2         Friday      112.56  \n",
       "3         Friday      143.85  \n",
       "4         Friday      175.13  \n",
       "...          ...         ...  \n",
       "101755  Saturday      309.00  \n",
       "101756  Saturday      326.00  \n",
       "101757  Saturday      343.00  \n",
       "101758  Saturday      360.00  \n",
       "101759  Saturday      394.10  \n",
       "\n",
       "[101760 rows x 11 columns]"
      ]
     },
     "execution_count": 486,
     "metadata": {},
     "output_type": "execute_result"
    }
   ],
   "source": [
    "df_tot"
   ]
  },
  {
   "cell_type": "code",
   "execution_count": 488,
   "metadata": {},
   "outputs": [
    {
     "data": {
      "text/plain": [
       "(101760, 11)"
      ]
     },
     "execution_count": 488,
     "metadata": {},
     "output_type": "execute_result"
    }
   ],
   "source": [
    "df_tot.shape"
   ]
  },
  {
   "cell_type": "code",
   "execution_count": null,
   "metadata": {},
   "outputs": [],
   "source": []
  },
  {
   "cell_type": "code",
   "execution_count": null,
   "metadata": {},
   "outputs": [],
   "source": []
  },
  {
   "cell_type": "markdown",
   "metadata": {},
   "source": [
    "## CREATING A MVP CONSIDERING ONLY PRICE AS TARGET\n",
    "\n",
    "### CREATING THE DATASET TO USE THE MODELS\n",
    "\n",
    "First of all, a dataframe for using different kind of models are created.\n",
    "\n",
    "The first choice is to use only Month, Day, Period, Block, Energy, Price. As Energy seems to be almost equal all the time, the first models will use Energy as feature. Future models will use Energy also as target."
   ]
  },
  {
   "cell_type": "code",
   "execution_count": 490,
   "metadata": {},
   "outputs": [
    {
     "data": {
      "text/html": [
       "<div>\n",
       "<style scoped>\n",
       "    .dataframe tbody tr th:only-of-type {\n",
       "        vertical-align: middle;\n",
       "    }\n",
       "\n",
       "    .dataframe tbody tr th {\n",
       "        vertical-align: top;\n",
       "    }\n",
       "\n",
       "    .dataframe thead th {\n",
       "        text-align: right;\n",
       "    }\n",
       "</style>\n",
       "<table border=\"1\" class=\"dataframe\">\n",
       "  <thead>\n",
       "    <tr style=\"text-align: right;\">\n",
       "      <th></th>\n",
       "      <th>Bid_Code</th>\n",
       "      <th>Num_Version</th>\n",
       "      <th>Bid_Unit</th>\n",
       "      <th>Unit_Description</th>\n",
       "      <th>Sell_Buy</th>\n",
       "      <th>Pot_max</th>\n",
       "      <th>Year</th>\n",
       "      <th>Month</th>\n",
       "      <th>Day</th>\n",
       "      <th>Period</th>\n",
       "      <th>Block</th>\n",
       "      <th>Price</th>\n",
       "      <th>Energy</th>\n",
       "    </tr>\n",
       "  </thead>\n",
       "  <tbody>\n",
       "    <tr>\n",
       "      <th>0</th>\n",
       "      <td>6128191</td>\n",
       "      <td>2</td>\n",
       "      <td>PALOS1</td>\n",
       "      <td>C.C. PALOS 1</td>\n",
       "      <td>VNO</td>\n",
       "      <td>394.10</td>\n",
       "      <td>2020</td>\n",
       "      <td>1</td>\n",
       "      <td>1</td>\n",
       "      <td>1</td>\n",
       "      <td>12</td>\n",
       "      <td>180.30</td>\n",
       "      <td>394.10</td>\n",
       "    </tr>\n",
       "    <tr>\n",
       "      <th>1</th>\n",
       "      <td>6128191</td>\n",
       "      <td>2</td>\n",
       "      <td>PALOS1</td>\n",
       "      <td>C.C. PALOS 1</td>\n",
       "      <td>VNO</td>\n",
       "      <td>394.10</td>\n",
       "      <td>2020</td>\n",
       "      <td>1</td>\n",
       "      <td>1</td>\n",
       "      <td>2</td>\n",
       "      <td>12</td>\n",
       "      <td>180.30</td>\n",
       "      <td>394.10</td>\n",
       "    </tr>\n",
       "    <tr>\n",
       "      <th>2</th>\n",
       "      <td>6128191</td>\n",
       "      <td>2</td>\n",
       "      <td>PALOS1</td>\n",
       "      <td>C.C. PALOS 1</td>\n",
       "      <td>VNO</td>\n",
       "      <td>394.10</td>\n",
       "      <td>2020</td>\n",
       "      <td>1</td>\n",
       "      <td>1</td>\n",
       "      <td>3</td>\n",
       "      <td>1</td>\n",
       "      <td>1.13</td>\n",
       "      <td>50.00</td>\n",
       "    </tr>\n",
       "    <tr>\n",
       "      <th>3</th>\n",
       "      <td>6128191</td>\n",
       "      <td>2</td>\n",
       "      <td>PALOS1</td>\n",
       "      <td>C.C. PALOS 1</td>\n",
       "      <td>VNO</td>\n",
       "      <td>394.10</td>\n",
       "      <td>2020</td>\n",
       "      <td>1</td>\n",
       "      <td>1</td>\n",
       "      <td>3</td>\n",
       "      <td>12</td>\n",
       "      <td>180.30</td>\n",
       "      <td>344.10</td>\n",
       "    </tr>\n",
       "    <tr>\n",
       "      <th>4</th>\n",
       "      <td>6128191</td>\n",
       "      <td>2</td>\n",
       "      <td>PALOS1</td>\n",
       "      <td>C.C. PALOS 1</td>\n",
       "      <td>VNO</td>\n",
       "      <td>394.10</td>\n",
       "      <td>2020</td>\n",
       "      <td>1</td>\n",
       "      <td>1</td>\n",
       "      <td>4</td>\n",
       "      <td>1</td>\n",
       "      <td>1.13</td>\n",
       "      <td>60.00</td>\n",
       "    </tr>\n",
       "  </tbody>\n",
       "</table>\n",
       "</div>"
      ],
      "text/plain": [
       "   Bid_Code  Num_Version Bid_Unit Unit_Description Sell_Buy  Pot_max  Year  \\\n",
       "0   6128191            2   PALOS1     C.C. PALOS 1      VNO   394.10  2020   \n",
       "1   6128191            2   PALOS1     C.C. PALOS 1      VNO   394.10  2020   \n",
       "2   6128191            2   PALOS1     C.C. PALOS 1      VNO   394.10  2020   \n",
       "3   6128191            2   PALOS1     C.C. PALOS 1      VNO   394.10  2020   \n",
       "4   6128191            2   PALOS1     C.C. PALOS 1      VNO   394.10  2020   \n",
       "\n",
       "   Month  Day  Period  Block  Price  Energy  \n",
       "0      1    1       1     12 180.30  394.10  \n",
       "1      1    1       2     12 180.30  394.10  \n",
       "2      1    1       3      1   1.13   50.00  \n",
       "3      1    1       3     12 180.30  344.10  \n",
       "4      1    1       4      1   1.13   60.00  "
      ]
     },
     "execution_count": 490,
     "metadata": {},
     "output_type": "execute_result"
    }
   ],
   "source": [
    "df.head()"
   ]
  },
  {
   "cell_type": "code",
   "execution_count": 491,
   "metadata": {
    "scrolled": false
   },
   "outputs": [
    {
     "data": {
      "text/html": [
       "<div>\n",
       "<style scoped>\n",
       "    .dataframe tbody tr th:only-of-type {\n",
       "        vertical-align: middle;\n",
       "    }\n",
       "\n",
       "    .dataframe tbody tr th {\n",
       "        vertical-align: top;\n",
       "    }\n",
       "\n",
       "    .dataframe thead th {\n",
       "        text-align: right;\n",
       "    }\n",
       "</style>\n",
       "<table border=\"1\" class=\"dataframe\">\n",
       "  <thead>\n",
       "    <tr style=\"text-align: right;\">\n",
       "      <th></th>\n",
       "      <th>Pot_max</th>\n",
       "      <th>Year</th>\n",
       "      <th>Month</th>\n",
       "      <th>Day</th>\n",
       "      <th>Period</th>\n",
       "      <th>Block</th>\n",
       "      <th>Price</th>\n",
       "      <th>Energy</th>\n",
       "      <th>Date</th>\n",
       "      <th>Weekday</th>\n",
       "      <th>Energy_tot</th>\n",
       "    </tr>\n",
       "  </thead>\n",
       "  <tbody>\n",
       "    <tr>\n",
       "      <th>0</th>\n",
       "      <td>394.10</td>\n",
       "      <td>2020</td>\n",
       "      <td>1</td>\n",
       "      <td>1</td>\n",
       "      <td>1</td>\n",
       "      <td>12</td>\n",
       "      <td>180.30</td>\n",
       "      <td>394.10</td>\n",
       "      <td>2020-01-01</td>\n",
       "      <td>Wednesday</td>\n",
       "      <td>394.10</td>\n",
       "    </tr>\n",
       "    <tr>\n",
       "      <th>1</th>\n",
       "      <td>394.10</td>\n",
       "      <td>2020</td>\n",
       "      <td>1</td>\n",
       "      <td>1</td>\n",
       "      <td>2</td>\n",
       "      <td>12</td>\n",
       "      <td>180.30</td>\n",
       "      <td>394.10</td>\n",
       "      <td>2020-01-01</td>\n",
       "      <td>Wednesday</td>\n",
       "      <td>394.10</td>\n",
       "    </tr>\n",
       "    <tr>\n",
       "      <th>2</th>\n",
       "      <td>394.10</td>\n",
       "      <td>2020</td>\n",
       "      <td>1</td>\n",
       "      <td>1</td>\n",
       "      <td>3</td>\n",
       "      <td>1</td>\n",
       "      <td>1.13</td>\n",
       "      <td>50.00</td>\n",
       "      <td>2020-01-01</td>\n",
       "      <td>Wednesday</td>\n",
       "      <td>50.00</td>\n",
       "    </tr>\n",
       "    <tr>\n",
       "      <th>3</th>\n",
       "      <td>394.10</td>\n",
       "      <td>2020</td>\n",
       "      <td>1</td>\n",
       "      <td>1</td>\n",
       "      <td>3</td>\n",
       "      <td>12</td>\n",
       "      <td>180.30</td>\n",
       "      <td>344.10</td>\n",
       "      <td>2020-01-01</td>\n",
       "      <td>Wednesday</td>\n",
       "      <td>394.10</td>\n",
       "    </tr>\n",
       "    <tr>\n",
       "      <th>4</th>\n",
       "      <td>394.10</td>\n",
       "      <td>2020</td>\n",
       "      <td>1</td>\n",
       "      <td>1</td>\n",
       "      <td>4</td>\n",
       "      <td>1</td>\n",
       "      <td>1.13</td>\n",
       "      <td>60.00</td>\n",
       "      <td>2020-01-01</td>\n",
       "      <td>Wednesday</td>\n",
       "      <td>60.00</td>\n",
       "    </tr>\n",
       "  </tbody>\n",
       "</table>\n",
       "</div>"
      ],
      "text/plain": [
       "   Pot_max  Year  Month  Day  Period  Block  Price  Energy       Date  \\\n",
       "0   394.10  2020      1    1       1     12 180.30  394.10 2020-01-01   \n",
       "1   394.10  2020      1    1       2     12 180.30  394.10 2020-01-01   \n",
       "2   394.10  2020      1    1       3      1   1.13   50.00 2020-01-01   \n",
       "3   394.10  2020      1    1       3     12 180.30  344.10 2020-01-01   \n",
       "4   394.10  2020      1    1       4      1   1.13   60.00 2020-01-01   \n",
       "\n",
       "     Weekday  Energy_tot  \n",
       "0  Wednesday      394.10  \n",
       "1  Wednesday      394.10  \n",
       "2  Wednesday       50.00  \n",
       "3  Wednesday      394.10  \n",
       "4  Wednesday       60.00  "
      ]
     },
     "execution_count": 491,
     "metadata": {},
     "output_type": "execute_result"
    }
   ],
   "source": [
    "df_curve.head()"
   ]
  },
  {
   "cell_type": "code",
   "execution_count": 492,
   "metadata": {},
   "outputs": [
    {
     "data": {
      "text/html": [
       "<div>\n",
       "<style scoped>\n",
       "    .dataframe tbody tr th:only-of-type {\n",
       "        vertical-align: middle;\n",
       "    }\n",
       "\n",
       "    .dataframe tbody tr th {\n",
       "        vertical-align: top;\n",
       "    }\n",
       "\n",
       "    .dataframe thead th {\n",
       "        text-align: right;\n",
       "    }\n",
       "</style>\n",
       "<table border=\"1\" class=\"dataframe\">\n",
       "  <thead>\n",
       "    <tr style=\"text-align: right;\">\n",
       "      <th></th>\n",
       "      <th>Pot_max</th>\n",
       "      <th>Year</th>\n",
       "      <th>Month</th>\n",
       "      <th>Day</th>\n",
       "      <th>Period</th>\n",
       "      <th>Block</th>\n",
       "      <th>Price</th>\n",
       "      <th>Energy</th>\n",
       "      <th>Date</th>\n",
       "      <th>Weekday</th>\n",
       "      <th>Energy_tot</th>\n",
       "    </tr>\n",
       "  </thead>\n",
       "  <tbody>\n",
       "    <tr>\n",
       "      <th>0</th>\n",
       "      <td>394.10</td>\n",
       "      <td>2019</td>\n",
       "      <td>11</td>\n",
       "      <td>1</td>\n",
       "      <td>1</td>\n",
       "      <td>1</td>\n",
       "      <td>180.30</td>\n",
       "      <td>0.00</td>\n",
       "      <td>2019-11-01</td>\n",
       "      <td>Friday</td>\n",
       "      <td>50.00</td>\n",
       "    </tr>\n",
       "    <tr>\n",
       "      <th>1</th>\n",
       "      <td>394.10</td>\n",
       "      <td>2019</td>\n",
       "      <td>11</td>\n",
       "      <td>1</td>\n",
       "      <td>1</td>\n",
       "      <td>2</td>\n",
       "      <td>180.30</td>\n",
       "      <td>0.00</td>\n",
       "      <td>2019-11-01</td>\n",
       "      <td>Friday</td>\n",
       "      <td>81.28</td>\n",
       "    </tr>\n",
       "    <tr>\n",
       "      <th>2</th>\n",
       "      <td>394.10</td>\n",
       "      <td>2019</td>\n",
       "      <td>11</td>\n",
       "      <td>1</td>\n",
       "      <td>1</td>\n",
       "      <td>3</td>\n",
       "      <td>180.30</td>\n",
       "      <td>0.00</td>\n",
       "      <td>2019-11-01</td>\n",
       "      <td>Friday</td>\n",
       "      <td>112.56</td>\n",
       "    </tr>\n",
       "    <tr>\n",
       "      <th>3</th>\n",
       "      <td>394.10</td>\n",
       "      <td>2019</td>\n",
       "      <td>11</td>\n",
       "      <td>1</td>\n",
       "      <td>1</td>\n",
       "      <td>4</td>\n",
       "      <td>180.30</td>\n",
       "      <td>0.00</td>\n",
       "      <td>2019-11-01</td>\n",
       "      <td>Friday</td>\n",
       "      <td>143.85</td>\n",
       "    </tr>\n",
       "    <tr>\n",
       "      <th>4</th>\n",
       "      <td>394.10</td>\n",
       "      <td>2019</td>\n",
       "      <td>11</td>\n",
       "      <td>1</td>\n",
       "      <td>1</td>\n",
       "      <td>5</td>\n",
       "      <td>180.30</td>\n",
       "      <td>0.00</td>\n",
       "      <td>2019-11-01</td>\n",
       "      <td>Friday</td>\n",
       "      <td>175.13</td>\n",
       "    </tr>\n",
       "  </tbody>\n",
       "</table>\n",
       "</div>"
      ],
      "text/plain": [
       "   Pot_max  Year  Month  Day  Period  Block  Price  Energy       Date Weekday  \\\n",
       "0   394.10  2019     11    1       1      1 180.30    0.00 2019-11-01  Friday   \n",
       "1   394.10  2019     11    1       1      2 180.30    0.00 2019-11-01  Friday   \n",
       "2   394.10  2019     11    1       1      3 180.30    0.00 2019-11-01  Friday   \n",
       "3   394.10  2019     11    1       1      4 180.30    0.00 2019-11-01  Friday   \n",
       "4   394.10  2019     11    1       1      5 180.30    0.00 2019-11-01  Friday   \n",
       "\n",
       "   Energy_tot  \n",
       "0       50.00  \n",
       "1       81.28  \n",
       "2      112.56  \n",
       "3      143.85  \n",
       "4      175.13  "
      ]
     },
     "execution_count": 492,
     "metadata": {},
     "output_type": "execute_result"
    }
   ],
   "source": [
    "df_tot.head()"
   ]
  },
  {
   "cell_type": "markdown",
   "metadata": {},
   "source": [
    "### FIRST MODEL\n",
    "\n",
    "The first set of models will be created considering \"One Hot Encoding\" for categorical variables dropping the first variable and Standirizing by the maximum the remaining variable.\n",
    "\n",
    "The second set of models will be built without dropping the first variable in One Hot Encoding"
   ]
  },
  {
   "cell_type": "code",
   "execution_count": 493,
   "metadata": {},
   "outputs": [],
   "source": [
    "#Most of the variables are categorical:Month, Day, Period, Weekday and Block.\n",
    "#Only Energy_tot is not categorical.\n",
    "#One-hot encoding will be used to convert variables from categorical to binary.\n",
    "\n",
    "from sklearn.preprocessing import OneHotEncoder\n",
    "\n",
    "df_tot_cat = df_tot[['Month','Day','Period','Weekday','Block']]"
   ]
  },
  {
   "cell_type": "code",
   "execution_count": 494,
   "metadata": {},
   "outputs": [
    {
     "data": {
      "text/plain": [
       "(101760, 5)"
      ]
     },
     "execution_count": 494,
     "metadata": {},
     "output_type": "execute_result"
    }
   ],
   "source": [
    "df_tot_cat.shape"
   ]
  },
  {
   "cell_type": "code",
   "execution_count": 495,
   "metadata": {},
   "outputs": [
    {
     "data": {
      "text/plain": [
       "OneHotEncoder(sparse=False)"
      ]
     },
     "execution_count": 495,
     "metadata": {},
     "output_type": "execute_result"
    }
   ],
   "source": [
    "one_encoder = OneHotEncoder(drop=None, sparse=False) #Changing 'first' with 'None'\n",
    "one_encoder.fit(df_tot_cat)"
   ]
  },
  {
   "cell_type": "code",
   "execution_count": 496,
   "metadata": {
    "scrolled": true
   },
   "outputs": [],
   "source": [
    "df_tot_cat_onehot = one_encoder.transform(df_tot_cat)"
   ]
  },
  {
   "cell_type": "code",
   "execution_count": 497,
   "metadata": {
    "scrolled": true
   },
   "outputs": [
    {
     "data": {
      "text/plain": [
       "array([[0., 0., 0., ..., 0., 0., 0.],\n",
       "       [0., 0., 0., ..., 0., 0., 0.],\n",
       "       [0., 0., 0., ..., 0., 0., 0.],\n",
       "       ...,\n",
       "       [0., 0., 0., ..., 1., 0., 0.],\n",
       "       [0., 0., 0., ..., 0., 1., 0.],\n",
       "       [0., 0., 0., ..., 0., 0., 1.]])"
      ]
     },
     "execution_count": 497,
     "metadata": {},
     "output_type": "execute_result"
    }
   ],
   "source": [
    "df_tot_cat_onehot"
   ]
  },
  {
   "cell_type": "code",
   "execution_count": 498,
   "metadata": {},
   "outputs": [
    {
     "data": {
      "text/plain": [
       "float"
      ]
     },
     "execution_count": 498,
     "metadata": {},
     "output_type": "execute_result"
    }
   ],
   "source": [
    "type(df_tot['Energy_tot'].max())"
   ]
  },
  {
   "cell_type": "code",
   "execution_count": 499,
   "metadata": {
    "scrolled": false
   },
   "outputs": [
    {
     "data": {
      "text/plain": [
       "array([[0.12687135],\n",
       "       [0.20624668],\n",
       "       [0.28562202],\n",
       "       ...,\n",
       "       [0.87033748],\n",
       "       [0.91347374],\n",
       "       [1.        ]])"
      ]
     },
     "execution_count": 499,
     "metadata": {},
     "output_type": "execute_result"
    }
   ],
   "source": [
    "#Energy is normalize with the maximum\n",
    "\n",
    "from numpy import asarray\n",
    "\n",
    "df_tot_energy = np.asarray(df_tot[['Energy_tot']]/df_tot['Energy_tot'].max())\n",
    "df_tot_energy"
   ]
  },
  {
   "cell_type": "code",
   "execution_count": 500,
   "metadata": {
    "scrolled": true
   },
   "outputs": [
    {
     "data": {
      "text/plain": [
       "((101760, 87), (101760, 1))"
      ]
     },
     "execution_count": 500,
     "metadata": {},
     "output_type": "execute_result"
    }
   ],
   "source": [
    "df_tot_cat_onehot.shape, df_tot_energy.shape"
   ]
  },
  {
   "cell_type": "code",
   "execution_count": 501,
   "metadata": {},
   "outputs": [
    {
     "data": {
      "text/plain": [
       "(101760, 1)"
      ]
     },
     "execution_count": 501,
     "metadata": {},
     "output_type": "execute_result"
    }
   ],
   "source": [
    "df_tot_energy.shape"
   ]
  },
  {
   "cell_type": "code",
   "execution_count": 502,
   "metadata": {},
   "outputs": [],
   "source": [
    "X = np.concatenate((df_tot_cat_onehot, df_tot_energy), axis=1)"
   ]
  },
  {
   "cell_type": "code",
   "execution_count": 503,
   "metadata": {},
   "outputs": [
    {
     "data": {
      "text/plain": [
       "(101760, 88)"
      ]
     },
     "execution_count": 503,
     "metadata": {},
     "output_type": "execute_result"
    }
   ],
   "source": [
    "X.shape"
   ]
  },
  {
   "cell_type": "code",
   "execution_count": 504,
   "metadata": {},
   "outputs": [],
   "source": [
    "y = np.asarray(df_tot['Price'])"
   ]
  },
  {
   "cell_type": "code",
   "execution_count": 505,
   "metadata": {},
   "outputs": [
    {
     "data": {
      "text/plain": [
       "(101760,)"
      ]
     },
     "execution_count": 505,
     "metadata": {},
     "output_type": "execute_result"
    }
   ],
   "source": [
    "y.shape"
   ]
  },
  {
   "cell_type": "code",
   "execution_count": 506,
   "metadata": {
    "scrolled": true
   },
   "outputs": [
    {
     "data": {
      "text/plain": [
       "(numpy.ndarray, numpy.ndarray)"
      ]
     },
     "execution_count": 506,
     "metadata": {},
     "output_type": "execute_result"
    }
   ],
   "source": [
    "type(X), type(y)"
   ]
  },
  {
   "cell_type": "code",
   "execution_count": null,
   "metadata": {},
   "outputs": [],
   "source": []
  },
  {
   "cell_type": "code",
   "execution_count": 507,
   "metadata": {},
   "outputs": [],
   "source": [
    "#Splitting Test set and Train set\n",
    "\n",
    "from sklearn.model_selection import train_test_split\n",
    "\n",
    "X_train, X_test, y_train, y_test = train_test_split(X, y, test_size=0.20, random_state=1)"
   ]
  },
  {
   "cell_type": "markdown",
   "metadata": {},
   "source": [
    "## REGRESSION MODELS"
   ]
  },
  {
   "cell_type": "code",
   "execution_count": 508,
   "metadata": {},
   "outputs": [
    {
     "data": {
      "text/plain": [
       "LinearRegression()"
      ]
     },
     "execution_count": 508,
     "metadata": {},
     "output_type": "execute_result"
    }
   ],
   "source": [
    "## LINEAR REGRESSION\n",
    "\n",
    "from sklearn.linear_model import LinearRegression\n",
    "\n",
    "#Creation of a model instance \n",
    "reg_linear = LinearRegression()\n",
    "\n",
    "reg_linear.fit(X_train,y_train)\n"
   ]
  },
  {
   "cell_type": "code",
   "execution_count": 509,
   "metadata": {},
   "outputs": [],
   "source": [
    "y_pred_linear = reg_linear.predict(X_test)"
   ]
  },
  {
   "cell_type": "code",
   "execution_count": 510,
   "metadata": {},
   "outputs": [
    {
     "data": {
      "text/plain": [
       "array([-5.89848090e+11, -5.89848090e+11, -5.89848090e+11, -5.89848090e+11,\n",
       "       -5.89848090e+11, -5.89848090e+11, -5.89848090e+11, -5.89848090e+11,\n",
       "       -5.89848090e+11, -5.89848090e+11, -5.89848090e+11, -5.89848090e+11,\n",
       "       -7.72669967e+11, -7.72669967e+11, -7.72669967e+11, -7.72669967e+11,\n",
       "       -7.72669967e+11, -7.72669967e+11, -7.72669967e+11, -7.72669967e+11,\n",
       "       -7.72669967e+11, -7.72669967e+11, -7.72669967e+11, -7.72669967e+11,\n",
       "       -7.72669967e+11, -7.72669967e+11, -7.72669967e+11, -7.72669967e+11,\n",
       "       -7.72669967e+11, -7.72669967e+11, -7.72669967e+11, -7.72669967e+11,\n",
       "       -7.72669967e+11, -7.72669967e+11, -7.72669967e+11, -7.72669967e+11,\n",
       "       -7.72669967e+11, -7.72669967e+11, -7.72669967e+11, -7.72669967e+11,\n",
       "       -7.72669967e+11, -7.72669967e+11, -7.72669967e+11,  1.14641899e+13,\n",
       "        1.14641899e+13,  1.14641899e+13,  1.14641899e+13,  1.14641899e+13,\n",
       "        1.14641899e+13,  1.14641899e+13,  1.14641899e+13,  1.14641899e+13,\n",
       "        1.14641899e+13,  1.14641899e+13,  1.14641899e+13,  1.14641899e+13,\n",
       "        1.14641899e+13,  1.14641899e+13,  1.14641899e+13,  1.14641899e+13,\n",
       "        1.14641899e+13,  1.14641899e+13,  1.14641899e+13,  1.14641899e+13,\n",
       "        1.14641899e+13,  1.14641899e+13,  1.14641899e+13,  1.14641899e+13,\n",
       "       -4.06385003e+12, -4.06385003e+12, -4.06385003e+12, -4.06385003e+12,\n",
       "       -4.06385003e+12, -4.06385003e+12, -4.06385003e+12, -4.86009682e+13,\n",
       "       -4.86009682e+13, -4.86009682e+13, -4.86009682e+13, -4.86009682e+13,\n",
       "       -4.86009682e+13, -4.86009682e+13, -4.86009682e+13, -4.86009682e+13,\n",
       "       -4.86009682e+13, -4.86009682e+13, -4.86009682e+13, -1.23859646e+02])"
      ]
     },
     "execution_count": 510,
     "metadata": {},
     "output_type": "execute_result"
    }
   ],
   "source": [
    "reg_linear.coef_"
   ]
  },
  {
   "cell_type": "code",
   "execution_count": 511,
   "metadata": {},
   "outputs": [
    {
     "data": {
      "text/plain": [
       "18.416656348270443"
      ]
     },
     "execution_count": 511,
     "metadata": {},
     "output_type": "execute_result"
    }
   ],
   "source": [
    "#MAE metric\n",
    "from sklearn.metrics import mean_absolute_error\n",
    "\n",
    "mean_absolute_error(y_test,y_pred_linear) # Primero valor real y luego prediccion"
   ]
  },
  {
   "cell_type": "code",
   "execution_count": 147,
   "metadata": {},
   "outputs": [],
   "source": [
    "## K-NEIGHBORS REGRESSION\n",
    "\n",
    "#from sklearn.neighbors import KNeighborsRegressor"
   ]
  },
  {
   "cell_type": "code",
   "execution_count": 150,
   "metadata": {},
   "outputs": [
    {
     "data": {
      "text/plain": [
       "KNeighborsRegressor(n_neighbors=10)"
      ]
     },
     "execution_count": 150,
     "metadata": {},
     "output_type": "execute_result"
    }
   ],
   "source": [
    "#reg_kneig = KNeighborsRegressor(n_neighbors=10)\n",
    "\n",
    "#reg_kneig.fit(X_train,y_train)\n"
   ]
  },
  {
   "cell_type": "code",
   "execution_count": 151,
   "metadata": {},
   "outputs": [],
   "source": [
    "#y_pred_kneig = reg_kneig.predict(X_test)\n"
   ]
  },
  {
   "cell_type": "code",
   "execution_count": 152,
   "metadata": {},
   "outputs": [
    {
     "data": {
      "text/plain": [
       "0.3730708008155806"
      ]
     },
     "execution_count": 152,
     "metadata": {},
     "output_type": "execute_result"
    }
   ],
   "source": [
    "# MAE\n",
    "#mean_absolute_error(y_test,y_pred_kneig)"
   ]
  },
  {
   "cell_type": "code",
   "execution_count": 68,
   "metadata": {},
   "outputs": [
    {
     "data": {
      "text/plain": [
       "2.9004693431312716"
      ]
     },
     "execution_count": 68,
     "metadata": {},
     "output_type": "execute_result"
    }
   ],
   "source": [
    "# RMSE from linear regression\n",
    "\n",
    "from sklearn.metrics import mean_squared_error\n",
    "\n",
    "np.sqrt(mean_squared_error(y_test,y_pred_linear))"
   ]
  },
  {
   "cell_type": "code",
   "execution_count": 154,
   "metadata": {},
   "outputs": [
    {
     "data": {
      "text/plain": [
       "0.7570955998489847"
      ]
     },
     "execution_count": 154,
     "metadata": {},
     "output_type": "execute_result"
    }
   ],
   "source": [
    "# RMSE: k Nei\n",
    "#np.sqrt(mean_squared_error(y_test,y_pred_kneig))"
   ]
  },
  {
   "cell_type": "code",
   "execution_count": 512,
   "metadata": {
    "scrolled": true
   },
   "outputs": [
    {
     "data": {
      "text/plain": [
       "array([-1.01808282e+14, -1.79309358e+13, -1.03239382e+12, -2.26091210e+12,\n",
       "       -2.83432241e+12])"
      ]
     },
     "execution_count": 512,
     "metadata": {},
     "output_type": "execute_result"
    }
   ],
   "source": [
    "\n",
    "\n",
    "## X-validation for linear regression\n",
    "\n",
    "from sklearn.model_selection import cross_val_score\n",
    "\n",
    "#X-val for LINEAR REGRESSION\n",
    "#cv=5 (by default)\n",
    "\n",
    "cross_val_score(reg_linear,X,y,scoring=\"neg_mean_absolute_error\")"
   ]
  },
  {
   "cell_type": "code",
   "execution_count": 513,
   "metadata": {},
   "outputs": [],
   "source": [
    "#NO ENTIENDO QUÉ ESTÁ PASANDO AQUÍ... ¿CÓMO ES POSIBLE QUE PRIMERO SALGA DEL ORDEN DE 2 Y LUEGO DEL ORDEN DE 2e12?"
   ]
  },
  {
   "cell_type": "code",
   "execution_count": 514,
   "metadata": {},
   "outputs": [
    {
     "data": {
      "text/plain": [
       "-25173369218084.83"
      ]
     },
     "execution_count": 514,
     "metadata": {},
     "output_type": "execute_result"
    }
   ],
   "source": [
    "cross_val_score(reg_linear,X,y,scoring=\"neg_mean_absolute_error\").mean()"
   ]
  },
  {
   "cell_type": "code",
   "execution_count": 158,
   "metadata": {},
   "outputs": [
    {
     "data": {
      "text/plain": [
       "array([-4.98565275, -3.93704078, -3.59623646, -1.19427415, -3.42797405])"
      ]
     },
     "execution_count": 158,
     "metadata": {},
     "output_type": "execute_result"
    }
   ],
   "source": [
    "#X-val for K-NEIGHBORS\n",
    "#cross_val_score(reg_kneig,X,y,scoring=\"neg_mean_absolute_error\")"
   ]
  },
  {
   "cell_type": "code",
   "execution_count": null,
   "metadata": {},
   "outputs": [],
   "source": []
  },
  {
   "cell_type": "code",
   "execution_count": 159,
   "metadata": {},
   "outputs": [],
   "source": [
    "#############################################################################################################"
   ]
  },
  {
   "cell_type": "code",
   "execution_count": 160,
   "metadata": {},
   "outputs": [],
   "source": [
    "#Examples of real and predition curves will be ploted to compare them."
   ]
  },
  {
   "cell_type": "code",
   "execution_count": 81,
   "metadata": {},
   "outputs": [
    {
     "name": "stderr",
     "output_type": "stream",
     "text": [
      "<ipython-input-38-ece397bd5943>:4: UserWarning: Boolean Series key will be reindexed to match DataFrame index.\n",
      "  df_plot = df_curve.sort_values(['Date','Period','Block'])[(df_curve['Date'] == date) &\n"
     ]
    },
    {
     "data": {
      "text/plain": [
       "[<matplotlib.lines.Line2D at 0x7f68850d6430>]"
      ]
     },
     "execution_count": 81,
     "metadata": {},
     "output_type": "execute_result"
    },
    {
     "data": {
      "image/png": "[encoded data removed]",
      "text/plain": [
       "<Figure size 432x288 with 1 Axes>"
      ]
     },
     "metadata": {
      "needs_background": "light"
     },
     "output_type": "display_data"
    }
   ],
   "source": [
    "plot_bid_curve('2020-8-16',18)"
   ]
  },
  {
   "cell_type": "code",
   "execution_count": 516,
   "metadata": {},
   "outputs": [
    {
     "data": {
      "text/html": [
       "<div>\n",
       "<style scoped>\n",
       "    .dataframe tbody tr th:only-of-type {\n",
       "        vertical-align: middle;\n",
       "    }\n",
       "\n",
       "    .dataframe tbody tr th {\n",
       "        vertical-align: top;\n",
       "    }\n",
       "\n",
       "    .dataframe thead th {\n",
       "        text-align: right;\n",
       "    }\n",
       "</style>\n",
       "<table border=\"1\" class=\"dataframe\">\n",
       "  <thead>\n",
       "    <tr style=\"text-align: right;\">\n",
       "      <th></th>\n",
       "      <th>Pot_max</th>\n",
       "      <th>Year</th>\n",
       "      <th>Month</th>\n",
       "      <th>Day</th>\n",
       "      <th>Period</th>\n",
       "      <th>Block</th>\n",
       "      <th>Price</th>\n",
       "      <th>Energy</th>\n",
       "      <th>Date</th>\n",
       "      <th>Weekday</th>\n",
       "      <th>Energy_tot</th>\n",
       "    </tr>\n",
       "  </thead>\n",
       "  <tbody>\n",
       "    <tr>\n",
       "      <th>79776</th>\n",
       "      <td>394.10</td>\n",
       "      <td>2020</td>\n",
       "      <td>8</td>\n",
       "      <td>16</td>\n",
       "      <td>18</td>\n",
       "      <td>1</td>\n",
       "      <td>1.13</td>\n",
       "      <td>190.00</td>\n",
       "      <td>2020-08-16</td>\n",
       "      <td>Sunday</td>\n",
       "      <td>190.00</td>\n",
       "    </tr>\n",
       "    <tr>\n",
       "      <th>79777</th>\n",
       "      <td>394.10</td>\n",
       "      <td>2020</td>\n",
       "      <td>8</td>\n",
       "      <td>16</td>\n",
       "      <td>18</td>\n",
       "      <td>2</td>\n",
       "      <td>34.48</td>\n",
       "      <td>17.00</td>\n",
       "      <td>2020-08-16</td>\n",
       "      <td>Sunday</td>\n",
       "      <td>207.00</td>\n",
       "    </tr>\n",
       "    <tr>\n",
       "      <th>79778</th>\n",
       "      <td>394.10</td>\n",
       "      <td>2020</td>\n",
       "      <td>8</td>\n",
       "      <td>16</td>\n",
       "      <td>18</td>\n",
       "      <td>3</td>\n",
       "      <td>35.22</td>\n",
       "      <td>17.00</td>\n",
       "      <td>2020-08-16</td>\n",
       "      <td>Sunday</td>\n",
       "      <td>224.00</td>\n",
       "    </tr>\n",
       "    <tr>\n",
       "      <th>79779</th>\n",
       "      <td>394.10</td>\n",
       "      <td>2020</td>\n",
       "      <td>8</td>\n",
       "      <td>16</td>\n",
       "      <td>18</td>\n",
       "      <td>4</td>\n",
       "      <td>35.97</td>\n",
       "      <td>17.00</td>\n",
       "      <td>2020-08-16</td>\n",
       "      <td>Sunday</td>\n",
       "      <td>241.00</td>\n",
       "    </tr>\n",
       "    <tr>\n",
       "      <th>79780</th>\n",
       "      <td>394.10</td>\n",
       "      <td>2020</td>\n",
       "      <td>8</td>\n",
       "      <td>16</td>\n",
       "      <td>18</td>\n",
       "      <td>5</td>\n",
       "      <td>36.72</td>\n",
       "      <td>17.00</td>\n",
       "      <td>2020-08-16</td>\n",
       "      <td>Sunday</td>\n",
       "      <td>258.00</td>\n",
       "    </tr>\n",
       "    <tr>\n",
       "      <th>79781</th>\n",
       "      <td>394.10</td>\n",
       "      <td>2020</td>\n",
       "      <td>8</td>\n",
       "      <td>16</td>\n",
       "      <td>18</td>\n",
       "      <td>6</td>\n",
       "      <td>38.26</td>\n",
       "      <td>17.00</td>\n",
       "      <td>2020-08-16</td>\n",
       "      <td>Sunday</td>\n",
       "      <td>275.00</td>\n",
       "    </tr>\n",
       "    <tr>\n",
       "      <th>79782</th>\n",
       "      <td>394.10</td>\n",
       "      <td>2020</td>\n",
       "      <td>8</td>\n",
       "      <td>16</td>\n",
       "      <td>18</td>\n",
       "      <td>7</td>\n",
       "      <td>39.01</td>\n",
       "      <td>17.00</td>\n",
       "      <td>2020-08-16</td>\n",
       "      <td>Sunday</td>\n",
       "      <td>292.00</td>\n",
       "    </tr>\n",
       "    <tr>\n",
       "      <th>79783</th>\n",
       "      <td>394.10</td>\n",
       "      <td>2020</td>\n",
       "      <td>8</td>\n",
       "      <td>16</td>\n",
       "      <td>18</td>\n",
       "      <td>8</td>\n",
       "      <td>39.76</td>\n",
       "      <td>17.00</td>\n",
       "      <td>2020-08-16</td>\n",
       "      <td>Sunday</td>\n",
       "      <td>309.00</td>\n",
       "    </tr>\n",
       "    <tr>\n",
       "      <th>79784</th>\n",
       "      <td>394.10</td>\n",
       "      <td>2020</td>\n",
       "      <td>8</td>\n",
       "      <td>16</td>\n",
       "      <td>18</td>\n",
       "      <td>9</td>\n",
       "      <td>41.00</td>\n",
       "      <td>17.00</td>\n",
       "      <td>2020-08-16</td>\n",
       "      <td>Sunday</td>\n",
       "      <td>326.00</td>\n",
       "    </tr>\n",
       "    <tr>\n",
       "      <th>79785</th>\n",
       "      <td>394.10</td>\n",
       "      <td>2020</td>\n",
       "      <td>8</td>\n",
       "      <td>16</td>\n",
       "      <td>18</td>\n",
       "      <td>10</td>\n",
       "      <td>42.25</td>\n",
       "      <td>17.00</td>\n",
       "      <td>2020-08-16</td>\n",
       "      <td>Sunday</td>\n",
       "      <td>343.00</td>\n",
       "    </tr>\n",
       "    <tr>\n",
       "      <th>79786</th>\n",
       "      <td>394.10</td>\n",
       "      <td>2020</td>\n",
       "      <td>8</td>\n",
       "      <td>16</td>\n",
       "      <td>18</td>\n",
       "      <td>11</td>\n",
       "      <td>43.99</td>\n",
       "      <td>17.00</td>\n",
       "      <td>2020-08-16</td>\n",
       "      <td>Sunday</td>\n",
       "      <td>360.00</td>\n",
       "    </tr>\n",
       "    <tr>\n",
       "      <th>79787</th>\n",
       "      <td>394.10</td>\n",
       "      <td>2020</td>\n",
       "      <td>8</td>\n",
       "      <td>16</td>\n",
       "      <td>18</td>\n",
       "      <td>12</td>\n",
       "      <td>180.30</td>\n",
       "      <td>34.10</td>\n",
       "      <td>2020-08-16</td>\n",
       "      <td>Sunday</td>\n",
       "      <td>394.10</td>\n",
       "    </tr>\n",
       "  </tbody>\n",
       "</table>\n",
       "</div>"
      ],
      "text/plain": [
       "       Pot_max  Year  Month  Day  Period  Block  Price  Energy       Date  \\\n",
       "79776   394.10  2020      8   16      18      1   1.13  190.00 2020-08-16   \n",
       "79777   394.10  2020      8   16      18      2  34.48   17.00 2020-08-16   \n",
       "79778   394.10  2020      8   16      18      3  35.22   17.00 2020-08-16   \n",
       "79779   394.10  2020      8   16      18      4  35.97   17.00 2020-08-16   \n",
       "79780   394.10  2020      8   16      18      5  36.72   17.00 2020-08-16   \n",
       "79781   394.10  2020      8   16      18      6  38.26   17.00 2020-08-16   \n",
       "79782   394.10  2020      8   16      18      7  39.01   17.00 2020-08-16   \n",
       "79783   394.10  2020      8   16      18      8  39.76   17.00 2020-08-16   \n",
       "79784   394.10  2020      8   16      18      9  41.00   17.00 2020-08-16   \n",
       "79785   394.10  2020      8   16      18     10  42.25   17.00 2020-08-16   \n",
       "79786   394.10  2020      8   16      18     11  43.99   17.00 2020-08-16   \n",
       "79787   394.10  2020      8   16      18     12 180.30   34.10 2020-08-16   \n",
       "\n",
       "      Weekday  Energy_tot  \n",
       "79776  Sunday      190.00  \n",
       "79777  Sunday      207.00  \n",
       "79778  Sunday      224.00  \n",
       "79779  Sunday      241.00  \n",
       "79780  Sunday      258.00  \n",
       "79781  Sunday      275.00  \n",
       "79782  Sunday      292.00  \n",
       "79783  Sunday      309.00  \n",
       "79784  Sunday      326.00  \n",
       "79785  Sunday      343.00  \n",
       "79786  Sunday      360.00  \n",
       "79787  Sunday      394.10  "
      ]
     },
     "execution_count": 516,
     "metadata": {},
     "output_type": "execute_result"
    }
   ],
   "source": [
    "example = df_tot.sort_values(['Date','Period','Block'])[(df_tot['Date']=='2020-08-16') & \n",
    "                                                (df_tot['Period']==18)]\n",
    "example"
   ]
  },
  {
   "cell_type": "code",
   "execution_count": 517,
   "metadata": {},
   "outputs": [
    {
     "data": {
      "text/html": [
       "<div>\n",
       "<style scoped>\n",
       "    .dataframe tbody tr th:only-of-type {\n",
       "        vertical-align: middle;\n",
       "    }\n",
       "\n",
       "    .dataframe tbody tr th {\n",
       "        vertical-align: top;\n",
       "    }\n",
       "\n",
       "    .dataframe thead th {\n",
       "        text-align: right;\n",
       "    }\n",
       "</style>\n",
       "<table border=\"1\" class=\"dataframe\">\n",
       "  <thead>\n",
       "    <tr style=\"text-align: right;\">\n",
       "      <th></th>\n",
       "      <th>Month</th>\n",
       "      <th>Day</th>\n",
       "      <th>Period</th>\n",
       "      <th>Weekday</th>\n",
       "      <th>Block</th>\n",
       "    </tr>\n",
       "  </thead>\n",
       "  <tbody>\n",
       "    <tr>\n",
       "      <th>79776</th>\n",
       "      <td>8</td>\n",
       "      <td>16</td>\n",
       "      <td>18</td>\n",
       "      <td>Sunday</td>\n",
       "      <td>1</td>\n",
       "    </tr>\n",
       "    <tr>\n",
       "      <th>79777</th>\n",
       "      <td>8</td>\n",
       "      <td>16</td>\n",
       "      <td>18</td>\n",
       "      <td>Sunday</td>\n",
       "      <td>2</td>\n",
       "    </tr>\n",
       "    <tr>\n",
       "      <th>79778</th>\n",
       "      <td>8</td>\n",
       "      <td>16</td>\n",
       "      <td>18</td>\n",
       "      <td>Sunday</td>\n",
       "      <td>3</td>\n",
       "    </tr>\n",
       "    <tr>\n",
       "      <th>79779</th>\n",
       "      <td>8</td>\n",
       "      <td>16</td>\n",
       "      <td>18</td>\n",
       "      <td>Sunday</td>\n",
       "      <td>4</td>\n",
       "    </tr>\n",
       "    <tr>\n",
       "      <th>79780</th>\n",
       "      <td>8</td>\n",
       "      <td>16</td>\n",
       "      <td>18</td>\n",
       "      <td>Sunday</td>\n",
       "      <td>5</td>\n",
       "    </tr>\n",
       "    <tr>\n",
       "      <th>79781</th>\n",
       "      <td>8</td>\n",
       "      <td>16</td>\n",
       "      <td>18</td>\n",
       "      <td>Sunday</td>\n",
       "      <td>6</td>\n",
       "    </tr>\n",
       "    <tr>\n",
       "      <th>79782</th>\n",
       "      <td>8</td>\n",
       "      <td>16</td>\n",
       "      <td>18</td>\n",
       "      <td>Sunday</td>\n",
       "      <td>7</td>\n",
       "    </tr>\n",
       "    <tr>\n",
       "      <th>79783</th>\n",
       "      <td>8</td>\n",
       "      <td>16</td>\n",
       "      <td>18</td>\n",
       "      <td>Sunday</td>\n",
       "      <td>8</td>\n",
       "    </tr>\n",
       "    <tr>\n",
       "      <th>79784</th>\n",
       "      <td>8</td>\n",
       "      <td>16</td>\n",
       "      <td>18</td>\n",
       "      <td>Sunday</td>\n",
       "      <td>9</td>\n",
       "    </tr>\n",
       "    <tr>\n",
       "      <th>79785</th>\n",
       "      <td>8</td>\n",
       "      <td>16</td>\n",
       "      <td>18</td>\n",
       "      <td>Sunday</td>\n",
       "      <td>10</td>\n",
       "    </tr>\n",
       "    <tr>\n",
       "      <th>79786</th>\n",
       "      <td>8</td>\n",
       "      <td>16</td>\n",
       "      <td>18</td>\n",
       "      <td>Sunday</td>\n",
       "      <td>11</td>\n",
       "    </tr>\n",
       "    <tr>\n",
       "      <th>79787</th>\n",
       "      <td>8</td>\n",
       "      <td>16</td>\n",
       "      <td>18</td>\n",
       "      <td>Sunday</td>\n",
       "      <td>12</td>\n",
       "    </tr>\n",
       "  </tbody>\n",
       "</table>\n",
       "</div>"
      ],
      "text/plain": [
       "       Month  Day  Period Weekday  Block\n",
       "79776      8   16      18  Sunday      1\n",
       "79777      8   16      18  Sunday      2\n",
       "79778      8   16      18  Sunday      3\n",
       "79779      8   16      18  Sunday      4\n",
       "79780      8   16      18  Sunday      5\n",
       "79781      8   16      18  Sunday      6\n",
       "79782      8   16      18  Sunday      7\n",
       "79783      8   16      18  Sunday      8\n",
       "79784      8   16      18  Sunday      9\n",
       "79785      8   16      18  Sunday     10\n",
       "79786      8   16      18  Sunday     11\n",
       "79787      8   16      18  Sunday     12"
      ]
     },
     "execution_count": 517,
     "metadata": {},
     "output_type": "execute_result"
    }
   ],
   "source": [
    "example_cat = example[['Month','Day','Period','Weekday','Block']]\n",
    "example_cat"
   ]
  },
  {
   "cell_type": "code",
   "execution_count": 518,
   "metadata": {},
   "outputs": [
    {
     "data": {
      "text/plain": [
       "(12, 87)"
      ]
     },
     "execution_count": 518,
     "metadata": {},
     "output_type": "execute_result"
    }
   ],
   "source": [
    "# example transformation to predict only this sample.\n",
    "example_cat_onehot = one_encoder.transform(example_cat)\n",
    "example_cat_onehot.shape"
   ]
  },
  {
   "cell_type": "code",
   "execution_count": 519,
   "metadata": {
    "scrolled": true
   },
   "outputs": [
    {
     "data": {
      "text/plain": [
       "array([[0., 0., 0., ..., 0., 0., 0.],\n",
       "       [0., 0., 0., ..., 0., 0., 0.],\n",
       "       [0., 0., 0., ..., 0., 0., 0.],\n",
       "       ...,\n",
       "       [0., 0., 0., ..., 1., 0., 0.],\n",
       "       [0., 0., 0., ..., 0., 1., 0.],\n",
       "       [0., 0., 0., ..., 0., 0., 1.]])"
      ]
     },
     "execution_count": 519,
     "metadata": {},
     "output_type": "execute_result"
    }
   ],
   "source": [
    "example_cat_onehot"
   ]
  },
  {
   "cell_type": "code",
   "execution_count": 520,
   "metadata": {},
   "outputs": [
    {
     "data": {
      "text/plain": [
       "array([[0.48211114],\n",
       "       [0.5252474 ],\n",
       "       [0.56838366],\n",
       "       [0.61151992],\n",
       "       [0.65465618],\n",
       "       [0.69779244],\n",
       "       [0.7409287 ],\n",
       "       [0.78406496],\n",
       "       [0.82720122],\n",
       "       [0.87033748],\n",
       "       [0.91347374],\n",
       "       [1.        ]])"
      ]
     },
     "execution_count": 520,
     "metadata": {},
     "output_type": "execute_result"
    }
   ],
   "source": [
    "example_energy = np.asarray(example[['Energy_tot']]/example['Energy_tot'].max())\n",
    "example_energy"
   ]
  },
  {
   "cell_type": "code",
   "execution_count": 521,
   "metadata": {},
   "outputs": [],
   "source": [
    "example_X = np.concatenate((example_cat_onehot, example_energy), axis=1)"
   ]
  },
  {
   "cell_type": "code",
   "execution_count": 522,
   "metadata": {},
   "outputs": [],
   "source": [
    "example_y = np.asarray(example['Price'])"
   ]
  },
  {
   "cell_type": "code",
   "execution_count": 523,
   "metadata": {},
   "outputs": [],
   "source": [
    "#Example with linear regression\n",
    "\n",
    "example_y_pred_linear = reg_linear.predict(example_X)"
   ]
  },
  {
   "cell_type": "code",
   "execution_count": 524,
   "metadata": {},
   "outputs": [
    {
     "data": {
      "text/plain": [
       "array([-26.140625 ,  35.3125   ,  37.21875  ,  38.9375   ,  40.7265625,\n",
       "        47.0078125,  50.3125   ,  52.09375  ,  53.8203125,  55.921875 ,\n",
       "        58.296875 , 142.7890625])"
      ]
     },
     "execution_count": 524,
     "metadata": {},
     "output_type": "execute_result"
    }
   ],
   "source": [
    "example_y_pred_linear"
   ]
  },
  {
   "cell_type": "code",
   "execution_count": 525,
   "metadata": {},
   "outputs": [
    {
     "data": {
      "text/plain": [
       "array([  1.13,  34.48,  35.22,  35.97,  36.72,  38.26,  39.01,  39.76,\n",
       "        41.  ,  42.25,  43.99, 180.3 ])"
      ]
     },
     "execution_count": 525,
     "metadata": {},
     "output_type": "execute_result"
    }
   ],
   "source": [
    "example_y"
   ]
  },
  {
   "cell_type": "code",
   "execution_count": 526,
   "metadata": {
    "scrolled": true
   },
   "outputs": [
    {
     "name": "stderr",
     "output_type": "stream",
     "text": [
      "<ipython-input-402-ece397bd5943>:4: UserWarning: Boolean Series key will be reindexed to match DataFrame index.\n",
      "  df_plot = df_curve.sort_values(['Date','Period','Block'])[(df_curve['Date'] == date) &\n"
     ]
    },
    {
     "data": {
      "text/plain": [
       "[<matplotlib.lines.Line2D at 0x7fca64e0ceb0>]"
      ]
     },
     "execution_count": 526,
     "metadata": {},
     "output_type": "execute_result"
    },
    {
     "data": {
      "image/png": "[encoded data removed]",
      "text/plain": [
       "<Figure size 432x288 with 1 Axes>"
      ]
     },
     "metadata": {
      "needs_background": "light"
     },
     "output_type": "display_data"
    }
   ],
   "source": [
    "plt.plot(example['Energy_tot'], example_y_pred_linear, drawstyle='steps', label='steps (=steps-pre)', color='red')\n",
    "plot_bid_curve('2020-8-16',18)"
   ]
  },
  {
   "cell_type": "code",
   "execution_count": 527,
   "metadata": {},
   "outputs": [
    {
     "data": {
      "text/plain": [
       "[<matplotlib.lines.Line2D at 0x7fca64dd8610>]"
      ]
     },
     "execution_count": 527,
     "metadata": {},
     "output_type": "execute_result"
    },
    {
     "data": {
      "image/png": "[encoded data removed]",
      "text/plain": [
       "<Figure size 432x288 with 1 Axes>"
      ]
     },
     "metadata": {
      "needs_background": "light"
     },
     "output_type": "display_data"
    }
   ],
   "source": [
    "plt.plot(example['Energy_tot'][1:-1], example_y_pred_linear[1:-1], drawstyle='steps', \n",
    "         label='steps (=steps-pre)', color='red')\n",
    "\n",
    "plt.plot(example['Energy_tot'][1:-1], example_y[1:-1], drawstyle='steps', \n",
    "         label='steps (=steps-pre)', color='blue')"
   ]
  },
  {
   "cell_type": "code",
   "execution_count": 95,
   "metadata": {},
   "outputs": [],
   "source": [
    "#Example with k-neighbors regression\n",
    "\n",
    "#example_y_pred_kneig = reg_kneig.predict(example_X)"
   ]
  },
  {
   "cell_type": "code",
   "execution_count": 96,
   "metadata": {},
   "outputs": [],
   "source": [
    "#example_y_pred_kneig"
   ]
  },
  {
   "cell_type": "code",
   "execution_count": 97,
   "metadata": {},
   "outputs": [
    {
     "data": {
      "text/plain": [
       "array([  1.13,  34.48,  35.22,  35.97,  36.72,  38.26,  39.01,  39.76,\n",
       "        41.  ,  42.25,  43.99, 180.3 ])"
      ]
     },
     "execution_count": 97,
     "metadata": {},
     "output_type": "execute_result"
    }
   ],
   "source": [
    "example_y"
   ]
  },
  {
   "cell_type": "code",
   "execution_count": 98,
   "metadata": {
    "scrolled": true
   },
   "outputs": [],
   "source": [
    "#plt.plot(example['Energy_tot'], example_y_pred_kneig, drawstyle='steps', label='steps (=steps-pre)', color='red')\n",
    "#plot_bid_curve('2020-8-16',18)"
   ]
  },
  {
   "cell_type": "code",
   "execution_count": 99,
   "metadata": {},
   "outputs": [],
   "source": [
    "#plt.plot(example['Energy_tot'][1:-1], example_y_pred_kneig[1:-1], drawstyle='steps', \n",
    "#         label='steps (=steps-pre)', color='red')\n",
    "\n",
    "#plt.plot(example['Energy_tot'][1:-1], example_y[1:-1], drawstyle='steps', \n",
    "#         label='steps (=steps-pre)', color='blue')"
   ]
  },
  {
   "cell_type": "code",
   "execution_count": 179,
   "metadata": {},
   "outputs": [],
   "source": [
    "#Tiene pinta de que el primer precio es muy variable porque lo calcula muy mal. \n",
    "#Esto es debido a que no todas las segmentaciones de las horas son iguales por lo que ese primer valor puede no\n",
    "#estar bien estimado. \n",
    "#POSIBLE ARREGLO: dividir todas las horas en un mismo número de bloques (12, por ejemplo), asignando un mismo\n",
    "#valor de energía a todos los segmentos nuevos --> ¿relación con la predicción de dos variables?"
   ]
  },
  {
   "cell_type": "code",
   "execution_count": 180,
   "metadata": {},
   "outputs": [],
   "source": [
    "##########################################################################################################\n"
   ]
  },
  {
   "cell_type": "code",
   "execution_count": 528,
   "metadata": {},
   "outputs": [
    {
     "data": {
      "text/plain": [
       "DecisionTreeRegressor(max_depth=3, min_samples_leaf=5)"
      ]
     },
     "execution_count": 528,
     "metadata": {},
     "output_type": "execute_result"
    }
   ],
   "source": [
    "#DECISION TREES\n",
    "\n",
    "from sklearn.tree import DecisionTreeRegressor\n",
    "\n",
    "reg_dt = DecisionTreeRegressor(max_depth=3, min_samples_leaf=5)\n",
    "\n",
    "reg_dt.fit(X_train,y_train)"
   ]
  },
  {
   "cell_type": "code",
   "execution_count": 529,
   "metadata": {},
   "outputs": [],
   "source": [
    "y_pred_dt = reg_dt.predict(X_test)"
   ]
  },
  {
   "cell_type": "code",
   "execution_count": 530,
   "metadata": {},
   "outputs": [
    {
     "data": {
      "text/plain": [
       "37.79993984950459"
      ]
     },
     "execution_count": 530,
     "metadata": {},
     "output_type": "execute_result"
    }
   ],
   "source": [
    "# MAE\n",
    "mean_absolute_error(y_test,y_pred_dt)"
   ]
  },
  {
   "cell_type": "code",
   "execution_count": 532,
   "metadata": {},
   "outputs": [
    {
     "data": {
      "text/plain": [
       "53.62519783513704"
      ]
     },
     "execution_count": 532,
     "metadata": {},
     "output_type": "execute_result"
    }
   ],
   "source": [
    "# RMSE from decision trees\n",
    "from sklearn.metrics import mean_squared_error\n",
    "\n",
    "np.sqrt(mean_squared_error(y_test,y_pred_dt))"
   ]
  },
  {
   "cell_type": "code",
   "execution_count": 533,
   "metadata": {},
   "outputs": [],
   "source": [
    "#Example with decision tree regression\n",
    "\n",
    "example_y_pred_dt = reg_dt.predict(example_X)"
   ]
  },
  {
   "cell_type": "code",
   "execution_count": 534,
   "metadata": {},
   "outputs": [
    {
     "data": {
      "text/plain": [
       "array([ 65.58129086,  65.58129086,  65.58129086,  65.58129086,\n",
       "        65.58129086,  65.58129086,  65.58129086,  65.58129086,\n",
       "        65.58129086,  65.58129086,  65.58129086, 180.3       ])"
      ]
     },
     "execution_count": 534,
     "metadata": {},
     "output_type": "execute_result"
    }
   ],
   "source": [
    "example_y_pred_dt"
   ]
  },
  {
   "cell_type": "code",
   "execution_count": 535,
   "metadata": {},
   "outputs": [
    {
     "data": {
      "text/plain": [
       "array([  1.13,  34.48,  35.22,  35.97,  36.72,  38.26,  39.01,  39.76,\n",
       "        41.  ,  42.25,  43.99, 180.3 ])"
      ]
     },
     "execution_count": 535,
     "metadata": {},
     "output_type": "execute_result"
    }
   ],
   "source": [
    "example_y"
   ]
  },
  {
   "cell_type": "code",
   "execution_count": 536,
   "metadata": {},
   "outputs": [
    {
     "data": {
      "text/plain": [
       "[<matplotlib.lines.Line2D at 0x7fca649f5760>]"
      ]
     },
     "execution_count": 536,
     "metadata": {},
     "output_type": "execute_result"
    },
    {
     "data": {
      "image/png": "[encoded data removed]",
      "text/plain": [
       "<Figure size 432x288 with 1 Axes>"
      ]
     },
     "metadata": {
      "needs_background": "light"
     },
     "output_type": "display_data"
    }
   ],
   "source": [
    "plt.plot(example['Energy_tot'][1:-1], example_y_pred_dt[1:-1], drawstyle='steps', \n",
    "         label='steps (=steps-pre)', color='red')\n",
    "\n",
    "plt.plot(example['Energy_tot'][1:-1], example_y[1:-1], drawstyle='steps', \n",
    "         label='steps (=steps-pre)', color='blue')"
   ]
  },
  {
   "cell_type": "code",
   "execution_count": 537,
   "metadata": {},
   "outputs": [
    {
     "data": {
      "text/plain": [
       "GridSearchCV(estimator=DecisionTreeRegressor(),\n",
       "             param_grid={'max_depth': array([ 2,  3,  4,  5,  6,  7,  8,  9, 10]),\n",
       "                         'min_samples_leaf': array([10, 25, 40, 55, 70, 85])},\n",
       "             scoring='neg_mean_absolute_error')"
      ]
     },
     "execution_count": 537,
     "metadata": {},
     "output_type": "execute_result"
    }
   ],
   "source": [
    "#It seems that this decision tree is not good. In order to optimize the dt regression, GridSearchCV is tried.\n",
    "from sklearn.model_selection import GridSearchCV,RandomizedSearchCV\n",
    "\n",
    "reg_gdt = GridSearchCV(DecisionTreeRegressor(),\n",
    "                      param_grid={\"max_depth\":np.arange(2,11),\n",
    "                                  \"min_samples_leaf\":np.arange(10,100,15)},\n",
    "                      scoring=\"neg_mean_absolute_error\")\n",
    "reg_gdt.fit(X_train,y_train)"
   ]
  },
  {
   "cell_type": "code",
   "execution_count": 538,
   "metadata": {},
   "outputs": [
    {
     "data": {
      "text/plain": [
       "{'max_depth': 10, 'min_samples_leaf': 10}"
      ]
     },
     "execution_count": 538,
     "metadata": {},
     "output_type": "execute_result"
    }
   ],
   "source": [
    "reg_gdt.best_params_"
   ]
  },
  {
   "cell_type": "code",
   "execution_count": 539,
   "metadata": {},
   "outputs": [],
   "source": [
    "y_pred_gdt = reg_gdt.predict(X_test)"
   ]
  },
  {
   "cell_type": "code",
   "execution_count": 540,
   "metadata": {},
   "outputs": [
    {
     "data": {
      "text/plain": [
       "7.35043618761412"
      ]
     },
     "execution_count": 540,
     "metadata": {},
     "output_type": "execute_result"
    }
   ],
   "source": [
    "# MAE\n",
    "mean_absolute_error(y_test,y_pred_gdt)"
   ]
  },
  {
   "cell_type": "code",
   "execution_count": 541,
   "metadata": {},
   "outputs": [
    {
     "data": {
      "text/plain": [
       "20.663697346452288"
      ]
     },
     "execution_count": 541,
     "metadata": {},
     "output_type": "execute_result"
    }
   ],
   "source": [
    "# RMSE from decision trees\n",
    "\n",
    "np.sqrt(mean_squared_error(y_test,y_pred_gdt))"
   ]
  },
  {
   "cell_type": "code",
   "execution_count": 542,
   "metadata": {},
   "outputs": [],
   "source": [
    "#Example with grid decision tree regression\n",
    "\n",
    "example_y_pred_gdt = reg_gdt.predict(example_X)"
   ]
  },
  {
   "cell_type": "code",
   "execution_count": 543,
   "metadata": {},
   "outputs": [
    {
     "data": {
      "text/plain": [
       "array([ 39.53746396,  39.53746396,  39.53746396,  39.53746396,\n",
       "        39.53746396,  39.53746396,  39.53746396,  39.53746396,\n",
       "        39.53746396,  39.53746396,  39.53746396, 180.3       ])"
      ]
     },
     "execution_count": 543,
     "metadata": {},
     "output_type": "execute_result"
    }
   ],
   "source": [
    "example_y_pred_gdt"
   ]
  },
  {
   "cell_type": "code",
   "execution_count": 544,
   "metadata": {},
   "outputs": [
    {
     "data": {
      "text/plain": [
       "array([  1.13,  34.48,  35.22,  35.97,  36.72,  38.26,  39.01,  39.76,\n",
       "        41.  ,  42.25,  43.99, 180.3 ])"
      ]
     },
     "execution_count": 544,
     "metadata": {},
     "output_type": "execute_result"
    }
   ],
   "source": [
    "example_y"
   ]
  },
  {
   "cell_type": "code",
   "execution_count": 545,
   "metadata": {},
   "outputs": [
    {
     "data": {
      "text/plain": [
       "[<matplotlib.lines.Line2D at 0x7fca64979bb0>]"
      ]
     },
     "execution_count": 545,
     "metadata": {},
     "output_type": "execute_result"
    },
    {
     "data": {
      "image/png": "[encoded data removed]",
      "text/plain": [
       "<Figure size 432x288 with 1 Axes>"
      ]
     },
     "metadata": {
      "needs_background": "light"
     },
     "output_type": "display_data"
    }
   ],
   "source": [
    "plt.plot(example['Energy_tot'][1:-1], example_y_pred_gdt[1:-1], drawstyle='steps', \n",
    "         label='steps (=steps-pre)', color='red')\n",
    "\n",
    "plt.plot(example['Energy_tot'][1:-1], example_y[1:-1], drawstyle='steps', \n",
    "         label='steps (=steps-pre)', color='blue')"
   ]
  },
  {
   "cell_type": "code",
   "execution_count": 546,
   "metadata": {},
   "outputs": [
    {
     "data": {
      "text/plain": [
       "[<matplotlib.lines.Line2D at 0x7fca64949a60>]"
      ]
     },
     "execution_count": 546,
     "metadata": {},
     "output_type": "execute_result"
    },
    {
     "data": {
      "image/png": "[encoded data removed]",
      "text/plain": [
       "<Figure size 432x288 with 1 Axes>"
      ]
     },
     "metadata": {
      "needs_background": "light"
     },
     "output_type": "display_data"
    }
   ],
   "source": [
    "#We can observe that with dt first and last price are very good predicted\n",
    "\n",
    "plt.plot(example['Energy_tot'], example_y_pred_gdt, drawstyle='steps', \n",
    "         label='steps (=steps-pre)', color='red')\n",
    "\n",
    "plt.plot(example['Energy_tot'], example_y, drawstyle='steps', \n",
    "         label='steps (=steps-pre)', color='blue')"
   ]
  },
  {
   "cell_type": "code",
   "execution_count": 547,
   "metadata": {},
   "outputs": [
    {
     "data": {
      "text/plain": [
       "RandomForestRegressor()"
      ]
     },
     "execution_count": 547,
     "metadata": {},
     "output_type": "execute_result"
    }
   ],
   "source": [
    "# RANDOM FOREST\n",
    "from sklearn.ensemble import RandomForestRegressor\n",
    "\n",
    "reg_rf = RandomForestRegressor(n_estimators=100)\n",
    "\n",
    "reg_rf.fit(X_train,y_train)"
   ]
  },
  {
   "cell_type": "code",
   "execution_count": 548,
   "metadata": {},
   "outputs": [],
   "source": [
    "y_pred_ft = reg_rf.predict(X_test)"
   ]
  },
  {
   "cell_type": "code",
   "execution_count": 549,
   "metadata": {},
   "outputs": [
    {
     "data": {
      "text/plain": [
       "0.1020589917474602"
      ]
     },
     "execution_count": 549,
     "metadata": {},
     "output_type": "execute_result"
    }
   ],
   "source": [
    "# MAE\n",
    "mean_absolute_error(y_test,y_pred_ft)"
   ]
  },
  {
   "cell_type": "code",
   "execution_count": 550,
   "metadata": {},
   "outputs": [
    {
     "data": {
      "text/plain": [
       "2.911789762930908"
      ]
     },
     "execution_count": 550,
     "metadata": {},
     "output_type": "execute_result"
    }
   ],
   "source": [
    "# RMSE from random forest\n",
    "\n",
    "np.sqrt(mean_squared_error(y_test,y_pred_ft))"
   ]
  },
  {
   "cell_type": "code",
   "execution_count": 551,
   "metadata": {},
   "outputs": [],
   "source": [
    "#Example with random forest regression\n",
    "\n",
    "example_y_pred_rf = reg_rf.predict(example_X)"
   ]
  },
  {
   "cell_type": "code",
   "execution_count": 552,
   "metadata": {},
   "outputs": [
    {
     "data": {
      "text/plain": [
       "array([  1.13,  34.48,  35.22,  35.97,  36.72,  38.26,  39.01,  39.76,\n",
       "        41.  ,  42.25,  43.99, 180.3 ])"
      ]
     },
     "execution_count": 552,
     "metadata": {},
     "output_type": "execute_result"
    }
   ],
   "source": [
    "example_y_pred_rf"
   ]
  },
  {
   "cell_type": "code",
   "execution_count": 553,
   "metadata": {},
   "outputs": [
    {
     "data": {
      "text/plain": [
       "array([  1.13,  34.48,  35.22,  35.97,  36.72,  38.26,  39.01,  39.76,\n",
       "        41.  ,  42.25,  43.99, 180.3 ])"
      ]
     },
     "execution_count": 553,
     "metadata": {},
     "output_type": "execute_result"
    }
   ],
   "source": [
    "example_y"
   ]
  },
  {
   "cell_type": "code",
   "execution_count": 554,
   "metadata": {},
   "outputs": [
    {
     "data": {
      "text/plain": [
       "[<matplotlib.lines.Line2D at 0x7fca64872550>]"
      ]
     },
     "execution_count": 554,
     "metadata": {},
     "output_type": "execute_result"
    },
    {
     "data": {
      "image/png": "[encoded data removed]",
      "text/plain": [
       "<Figure size 432x288 with 1 Axes>"
      ]
     },
     "metadata": {
      "needs_background": "light"
     },
     "output_type": "display_data"
    }
   ],
   "source": [
    "plt.plot(example['Energy_tot'][1:-1], example_y_pred_rf[1:-1], drawstyle='steps', \n",
    "         label='steps (=steps-pre)', color='red')\n",
    "\n",
    "plt.plot(example['Energy_tot'][1:-1], example_y[1:-1], drawstyle='steps', \n",
    "         label='steps (=steps-pre)', color='blue')"
   ]
  },
  {
   "cell_type": "code",
   "execution_count": 555,
   "metadata": {},
   "outputs": [
    {
     "data": {
      "text/plain": [
       "[<matplotlib.lines.Line2D at 0x7fca647c9430>]"
      ]
     },
     "execution_count": 555,
     "metadata": {},
     "output_type": "execute_result"
    },
    {
     "data": {
      "image/png": "[encoded data removed]",
      "text/plain": [
       "<Figure size 432x288 with 1 Axes>"
      ]
     },
     "metadata": {
      "needs_background": "light"
     },
     "output_type": "display_data"
    }
   ],
   "source": [
    "#We can observe that with dt first and last price are very good predicted\n",
    "\n",
    "plt.plot(example['Energy_tot'], example_y_pred_rf, drawstyle='steps', \n",
    "         label='steps (=steps-pre)', color='red')\n",
    "\n",
    "plt.plot(example['Energy_tot'], example_y, drawstyle='steps', \n",
    "         label='steps (=steps-pre)', color='blue')"
   ]
  },
  {
   "cell_type": "code",
   "execution_count": 556,
   "metadata": {},
   "outputs": [],
   "source": [
    "#XG-BOOST\n",
    "\n",
    "from xgboost import XGBRegressor\n",
    "from sklearn.ensemble import GradientBoostingRegressor"
   ]
  },
  {
   "cell_type": "code",
   "execution_count": 557,
   "metadata": {},
   "outputs": [],
   "source": [
    "reg_XGB = GradientBoostingRegressor(max_depth=4, n_estimators=100,learning_rate=0.1)"
   ]
  },
  {
   "cell_type": "code",
   "execution_count": 558,
   "metadata": {},
   "outputs": [
    {
     "data": {
      "text/plain": [
       "GradientBoostingRegressor(max_depth=4)"
      ]
     },
     "execution_count": 558,
     "metadata": {},
     "output_type": "execute_result"
    }
   ],
   "source": [
    "reg_XGB.fit(X_train,y_train)"
   ]
  },
  {
   "cell_type": "code",
   "execution_count": 559,
   "metadata": {},
   "outputs": [],
   "source": [
    "y_pred_XGB = reg_XGB.predict(X_test)"
   ]
  },
  {
   "cell_type": "code",
   "execution_count": 560,
   "metadata": {},
   "outputs": [
    {
     "data": {
      "text/plain": [
       "5.701508052720888"
      ]
     },
     "execution_count": 560,
     "metadata": {},
     "output_type": "execute_result"
    }
   ],
   "source": [
    "#MAE\n",
    "mean_absolute_error(y_test,y_pred_XGB)"
   ]
  },
  {
   "cell_type": "code",
   "execution_count": 561,
   "metadata": {},
   "outputs": [
    {
     "data": {
      "text/plain": [
       "9.910589982121671"
      ]
     },
     "execution_count": 561,
     "metadata": {},
     "output_type": "execute_result"
    }
   ],
   "source": [
    "# RMSE\n",
    "np.sqrt(mean_squared_error(y_test,y_pred_XGB))"
   ]
  },
  {
   "cell_type": "code",
   "execution_count": 562,
   "metadata": {},
   "outputs": [
    {
     "data": {
      "text/plain": [
       "-6.422621057315814"
      ]
     },
     "execution_count": 562,
     "metadata": {},
     "output_type": "execute_result"
    }
   ],
   "source": [
    "cross_val_score(reg_XGB,X,y,scoring=\"neg_mean_absolute_error\").mean()"
   ]
  },
  {
   "cell_type": "code",
   "execution_count": 563,
   "metadata": {},
   "outputs": [],
   "source": [
    "from sklearn.model_selection import GridSearchCV\n",
    "\n",
    "reg_XGB_CV = GridSearchCV(GradientBoostingRegressor(n_estimators=50),\n",
    "                  param_grid={\"max_depth\":np.arange(2,10),\n",
    "                             \"learning_rate\":np.arange(1,10)/10},\n",
    "                  scoring=\"neg_mean_absolute_error\",\n",
    "                  cv=5)"
   ]
  },
  {
   "cell_type": "code",
   "execution_count": 564,
   "metadata": {},
   "outputs": [
    {
     "data": {
      "text/plain": [
       "GridSearchCV(cv=5, estimator=GradientBoostingRegressor(n_estimators=50),\n",
       "             param_grid={'learning_rate': array([0.1, 0.2, 0.3, 0.4, 0.5, 0.6, 0.7, 0.8, 0.9]),\n",
       "                         'max_depth': array([2, 3, 4, 5, 6, 7, 8, 9])},\n",
       "             scoring='neg_mean_absolute_error')"
      ]
     },
     "execution_count": 564,
     "metadata": {},
     "output_type": "execute_result"
    }
   ],
   "source": [
    "reg_XGB_CV.fit(X,y)"
   ]
  },
  {
   "cell_type": "code",
   "execution_count": 565,
   "metadata": {},
   "outputs": [
    {
     "data": {
      "text/plain": [
       "{'learning_rate': 0.4, 'max_depth': 9}"
      ]
     },
     "execution_count": 565,
     "metadata": {},
     "output_type": "execute_result"
    }
   ],
   "source": [
    "reg_XGB_CV.best_params_"
   ]
  },
  {
   "cell_type": "code",
   "execution_count": 566,
   "metadata": {},
   "outputs": [],
   "source": [
    "y_pred_XGB_CV = reg_XGB_CV.predict(X_test)"
   ]
  },
  {
   "cell_type": "code",
   "execution_count": 567,
   "metadata": {},
   "outputs": [
    {
     "data": {
      "text/plain": [
       "0.39593423435237785"
      ]
     },
     "execution_count": 567,
     "metadata": {},
     "output_type": "execute_result"
    }
   ],
   "source": [
    "# MAE\n",
    "mean_absolute_error(y_test,y_pred_XGB_CV)"
   ]
  },
  {
   "cell_type": "code",
   "execution_count": 568,
   "metadata": {},
   "outputs": [
    {
     "data": {
      "text/plain": [
       "0.6609829575219727"
      ]
     },
     "execution_count": 568,
     "metadata": {},
     "output_type": "execute_result"
    }
   ],
   "source": [
    "# RMSE from random forest\n",
    "\n",
    "np.sqrt(mean_squared_error(y_test,y_pred_XGB_CV))"
   ]
  },
  {
   "cell_type": "code",
   "execution_count": null,
   "metadata": {},
   "outputs": [],
   "source": []
  },
  {
   "cell_type": "code",
   "execution_count": null,
   "metadata": {},
   "outputs": [],
   "source": []
  }
 ],
 "metadata": {
  "kernelspec": {
   "display_name": "Python 3",
   "language": "python",
   "name": "python3"
  },
  "language_info": {
   "codemirror_mode": {
    "name": "ipython",
    "version": 3
   },
   "file_extension": ".py",
   "mimetype": "text/x-python",
   "name": "python",
   "nbconvert_exporter": "python",
   "pygments_lexer": "ipython3",
   "version": "3.8.5"
  }
 },
 "nbformat": 4,
 "nbformat_minor": 4
}
