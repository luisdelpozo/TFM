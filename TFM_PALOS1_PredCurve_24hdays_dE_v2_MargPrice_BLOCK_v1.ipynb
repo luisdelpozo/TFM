{
 "cells": [
  {
   "cell_type": "code",
   "execution_count": 133,
   "metadata": {},
   "outputs": [],
   "source": [
    "import pandas as pd\n",
    "import numpy as np\n",
    "import matplotlib.pyplot as plt\n",
    "import seaborn as sns\n",
    "import datetime as dt\n",
    "from datetime import datetime, timedelta\n",
    "from TFM_PredCurve_Tools import data_date_hour_info, convert_to_df_curve"
   ]
  },
  {
   "cell_type": "code",
   "execution_count": 134,
   "metadata": {},
   "outputs": [],
   "source": [
    "#pd.reset_option('precision')\n",
    "pd.options.display.float_format = '{:,.2f}'.format"
   ]
  },
  {
   "cell_type": "code",
   "execution_count": 135,
   "metadata": {},
   "outputs": [],
   "source": [
    "unit = 'PALOS1'"
   ]
  },
  {
   "cell_type": "code",
   "execution_count": 136,
   "metadata": {},
   "outputs": [],
   "source": [
    "#Storing df locally\n",
    "df_tot_lagT = pd.read_csv('/home/dsc/Repos/TFM/df_tot_lagT_PALOS1.csv',index_col=0)"
   ]
  },
  {
   "cell_type": "code",
   "execution_count": 137,
   "metadata": {},
   "outputs": [],
   "source": [
    "df_set_dE = df_tot_lagT[['Year','Month','Day','Period','Date','Weekday','Block',\n",
    "                      'Energy','Price','Energy_24h','Energy_168h','Price_24h','Price_168h', 'Marg_Price_24h']]"
   ]
  },
  {
   "cell_type": "code",
   "execution_count": 138,
   "metadata": {},
   "outputs": [
    {
     "name": "stderr",
     "output_type": "stream",
     "text": [
      "<ipython-input-138-945412c19bbd>:1: SettingWithCopyWarning: \n",
      "A value is trying to be set on a copy of a slice from a DataFrame.\n",
      "Try using .loc[row_indexer,col_indexer] = value instead\n",
      "\n",
      "See the caveats in the documentation: https://pandas.pydata.org/pandas-docs/stable/user_guide/indexing.html#returning-a-view-versus-a-copy\n",
      "  df_set_dE['Date'] = pd.to_datetime(df_set_dE['Date'])\n"
     ]
    }
   ],
   "source": [
    "df_set_dE['Date'] = pd.to_datetime(df_set_dE['Date'])"
   ]
  },
  {
   "cell_type": "code",
   "execution_count": 139,
   "metadata": {},
   "outputs": [],
   "source": [
    "block_max = df_tot_lagT['Block'].max()"
   ]
  },
  {
   "cell_type": "code",
   "execution_count": 140,
   "metadata": {
    "scrolled": true
   },
   "outputs": [
    {
     "data": {
      "text/plain": [
       "Year                       int64\n",
       "Month                      int64\n",
       "Day                        int64\n",
       "Period                     int64\n",
       "Date              datetime64[ns]\n",
       "Weekday                   object\n",
       "Block                      int64\n",
       "Energy                   float64\n",
       "Price                    float64\n",
       "Energy_24h               float64\n",
       "Energy_168h              float64\n",
       "Price_24h                float64\n",
       "Price_168h               float64\n",
       "Marg_Price_24h           float64\n",
       "dtype: object"
      ]
     },
     "execution_count": 140,
     "metadata": {},
     "output_type": "execute_result"
    }
   ],
   "source": [
    "df_set_dE.dtypes"
   ]
  },
  {
   "cell_type": "markdown",
   "metadata": {},
   "source": [
    "#### TEST SET"
   ]
  },
  {
   "cell_type": "code",
   "execution_count": 141,
   "metadata": {},
   "outputs": [],
   "source": [
    "df_set_dE_TEST = df_set_dE[(df_set_dE['Year'] == df_set_dE['Date'].max().year)&\n",
    "               (df_set_dE['Month'] == df_set_dE['Date'].max().month)]\n",
    "\n",
    "df_set_dE_TEST = df_set_dE_TEST.reset_index(drop=True)\n",
    "\n",
    "df_set_dE_TEST_block = [df_set_dE_TEST[df_set_dE_TEST['Block']==block] for block in range(1,block_max+1)]\n",
    "\n",
    "df_X_dE_TEST = []\n",
    "y_dE_TEST = []\n",
    "\n",
    "for df in df_set_dE_TEST_block:\n",
    "    df_X_dE_TEST.append(df[['Weekday','Period','Energy_24h','Energy_168h',\n",
    "                            'Price_24h','Price_168h', 'Marg_Price_24h']])\n",
    "    y_dE_TEST.append(np.array(df[['Energy','Price']]))"
   ]
  },
  {
   "cell_type": "markdown",
   "metadata": {},
   "source": [
    "#### VALIDATION SET"
   ]
  },
  {
   "cell_type": "code",
   "execution_count": 142,
   "metadata": {},
   "outputs": [],
   "source": [
    "df_set_dE_VAL = df_set_dE[(df_set_dE['Year'] == (df_set_dE_TEST['Date'].min() - timedelta(days=1)).year)&\n",
    "               (df_set_dE['Month'] == (df_set_dE_TEST['Date'].min() - timedelta(days=1)).month)]\n",
    "\n",
    "df_set_dE_VAL = df_set_dE_VAL.reset_index(drop=True)\n",
    "\n",
    "df_set_dE_VAL_block = [df_set_dE_VAL[df_set_dE_VAL['Block']==block] for block in range(1,block_max+1)]\n",
    "\n",
    "df_X_dE_VAL = []\n",
    "y_dE_VAL = []\n",
    "\n",
    "for df in df_set_dE_VAL_block:\n",
    "    df_X_dE_VAL.append(df[['Weekday','Period','Energy_24h','Energy_168h',\n",
    "                           'Price_24h','Price_168h','Marg_Price_24h']])\n",
    "    y_dE_VAL.append(np.array(df[['Energy','Price']])) #Note y_test is a np.array"
   ]
  },
  {
   "cell_type": "markdown",
   "metadata": {},
   "source": [
    "#### TRAIN SET"
   ]
  },
  {
   "cell_type": "code",
   "execution_count": 143,
   "metadata": {
    "scrolled": true
   },
   "outputs": [],
   "source": [
    "df_set_dE_TRAIN_start = df_set_dE[((df_set_dE['Date'] == df_set_dE['Date'].min()) \n",
    "                                   & (df_set_dE['Period'] == 1)  \n",
    "                                   & (df_set_dE['Block'] == 1))].index\n",
    "\n",
    "df_set_dE_TRAIN_end = df_set_dE[(df_set_dE['Date'] == df_set_dE_VAL['Date'].min()- timedelta(days=1)) \n",
    "                                & (df_set_dE['Period'] == 24)  & (df_set_dE['Block'] == block_max)].index\n",
    "\n",
    "df_set_dE_TRAIN = df_set_dE.iloc[df_set_dE_TRAIN_start[0]:df_set_dE_TRAIN_end[0]+1]\n",
    "\n",
    "df_set_dE_num_days = (df_set_dE['Date'].max()-df_set_dE['Date'].min()).days + 1 \n",
    "df_set_dE_TEST_num_days = (df_set_dE_TEST['Date'].max()-df_set_dE_TEST['Date'].min()).days + 1\n",
    "df_set_dE_VAL_num_days = (df_set_dE_VAL['Date'].max()-df_set_dE_VAL['Date'].min()).days + 1\n",
    "df_set_dE_TRAIN_num_days = df_set_dE_num_days - df_set_dE_TEST_num_days - df_set_dE_VAL_num_days\n",
    "df_set_dE_TRAIN_num_days\n",
    "\n",
    "df_set_dE_TRAIN_block = [df_set_dE_TRAIN[df_set_dE_TRAIN['Block']==block] for block in range(1,block_max+1)]\n",
    "\n",
    "df_X_dE_TRAIN = []\n",
    "y_dE_TRAIN = []\n",
    "\n",
    "for df in df_set_dE_TRAIN_block:\n",
    "    df_X_dE_TRAIN.append(df[['Weekday','Period','Energy_24h','Energy_168h',\n",
    "                             'Price_24h','Price_168h','Marg_Price_24h']])\n",
    "    y_dE_TRAIN.append(np.array(df[['Energy','Price']])) #Note y_train is a np.array"
   ]
  },
  {
   "cell_type": "markdown",
   "metadata": {},
   "source": [
    "#### TRAIN + VALIDATION SET"
   ]
  },
  {
   "cell_type": "code",
   "execution_count": 144,
   "metadata": {},
   "outputs": [],
   "source": [
    "df_X_dE_TRAIN_VAL = []\n",
    "\n",
    "for block in range(0,len(df_X_dE_TRAIN)):\n",
    "    df_X_dE_TRAIN_VAL.append(pd.concat([df_X_dE_TRAIN[block], df_X_dE_VAL[block]],axis=0))"
   ]
  },
  {
   "cell_type": "code",
   "execution_count": 145,
   "metadata": {},
   "outputs": [],
   "source": [
    "y_dE_TRAIN_VAL = []\n",
    "\n",
    "for block in range(0,len(df_X_dE_TRAIN)):\n",
    "    y_dE_TRAIN_VAL.append(np.concatenate((y_dE_TRAIN[block], y_dE_VAL[block]),axis=0))"
   ]
  },
  {
   "cell_type": "markdown",
   "metadata": {},
   "source": [
    "### 3.5.2. NORMALIZATION AND ONE-HOT-ENCODING FOR FEATURES MODELS' INPUT - DELTA ENERGY APPROACH\n",
    "\n",
    "In this section X_train, X_val, and X_test will be transformed to normalize the Price and Energy features (24h and 168h lagged) and Weekday, and Block (categorical variables) will be transformed using One-Hot-Encoding."
   ]
  },
  {
   "cell_type": "markdown",
   "metadata": {},
   "source": [
    "#### TRAIN SET - ENCODING"
   ]
  },
  {
   "cell_type": "code",
   "execution_count": 146,
   "metadata": {},
   "outputs": [
    {
     "data": {
      "text/html": [
       "<div>\n",
       "<style scoped>\n",
       "    .dataframe tbody tr th:only-of-type {\n",
       "        vertical-align: middle;\n",
       "    }\n",
       "\n",
       "    .dataframe tbody tr th {\n",
       "        vertical-align: top;\n",
       "    }\n",
       "\n",
       "    .dataframe thead th {\n",
       "        text-align: right;\n",
       "    }\n",
       "</style>\n",
       "<table border=\"1\" class=\"dataframe\">\n",
       "  <thead>\n",
       "    <tr style=\"text-align: right;\">\n",
       "      <th></th>\n",
       "      <th>Weekday</th>\n",
       "      <th>Period</th>\n",
       "      <th>Energy_24h</th>\n",
       "      <th>Energy_168h</th>\n",
       "      <th>Price_24h</th>\n",
       "      <th>Price_168h</th>\n",
       "      <th>Marg_Price_24h</th>\n",
       "    </tr>\n",
       "  </thead>\n",
       "  <tbody>\n",
       "    <tr>\n",
       "      <th>13824</th>\n",
       "      <td>Thursday</td>\n",
       "      <td>1</td>\n",
       "      <td>0.00</td>\n",
       "      <td>0.00</td>\n",
       "      <td>180.30</td>\n",
       "      <td>180.30</td>\n",
       "      <td>37.01</td>\n",
       "    </tr>\n",
       "    <tr>\n",
       "      <th>13836</th>\n",
       "      <td>Thursday</td>\n",
       "      <td>2</td>\n",
       "      <td>0.00</td>\n",
       "      <td>0.00</td>\n",
       "      <td>180.30</td>\n",
       "      <td>180.30</td>\n",
       "      <td>32.69</td>\n",
       "    </tr>\n",
       "    <tr>\n",
       "      <th>13848</th>\n",
       "      <td>Thursday</td>\n",
       "      <td>3</td>\n",
       "      <td>50.00</td>\n",
       "      <td>50.00</td>\n",
       "      <td>1.13</td>\n",
       "      <td>1.13</td>\n",
       "      <td>29.67</td>\n",
       "    </tr>\n",
       "    <tr>\n",
       "      <th>13860</th>\n",
       "      <td>Thursday</td>\n",
       "      <td>4</td>\n",
       "      <td>60.00</td>\n",
       "      <td>60.00</td>\n",
       "      <td>1.13</td>\n",
       "      <td>1.13</td>\n",
       "      <td>26.50</td>\n",
       "    </tr>\n",
       "    <tr>\n",
       "      <th>13872</th>\n",
       "      <td>Thursday</td>\n",
       "      <td>5</td>\n",
       "      <td>60.00</td>\n",
       "      <td>60.00</td>\n",
       "      <td>1.13</td>\n",
       "      <td>1.13</td>\n",
       "      <td>26.50</td>\n",
       "    </tr>\n",
       "    <tr>\n",
       "      <th>...</th>\n",
       "      <td>...</td>\n",
       "      <td>...</td>\n",
       "      <td>...</td>\n",
       "      <td>...</td>\n",
       "      <td>...</td>\n",
       "      <td>...</td>\n",
       "      <td>...</td>\n",
       "    </tr>\n",
       "    <tr>\n",
       "      <th>94692</th>\n",
       "      <td>Thursday</td>\n",
       "      <td>20</td>\n",
       "      <td>190.00</td>\n",
       "      <td>190.00</td>\n",
       "      <td>1.13</td>\n",
       "      <td>1.13</td>\n",
       "      <td>50.23</td>\n",
       "    </tr>\n",
       "    <tr>\n",
       "      <th>94704</th>\n",
       "      <td>Thursday</td>\n",
       "      <td>21</td>\n",
       "      <td>190.00</td>\n",
       "      <td>190.00</td>\n",
       "      <td>1.13</td>\n",
       "      <td>1.13</td>\n",
       "      <td>52.99</td>\n",
       "    </tr>\n",
       "    <tr>\n",
       "      <th>94716</th>\n",
       "      <td>Thursday</td>\n",
       "      <td>22</td>\n",
       "      <td>190.00</td>\n",
       "      <td>190.00</td>\n",
       "      <td>1.13</td>\n",
       "      <td>1.13</td>\n",
       "      <td>50.90</td>\n",
       "    </tr>\n",
       "    <tr>\n",
       "      <th>94728</th>\n",
       "      <td>Thursday</td>\n",
       "      <td>23</td>\n",
       "      <td>190.00</td>\n",
       "      <td>190.00</td>\n",
       "      <td>1.13</td>\n",
       "      <td>1.13</td>\n",
       "      <td>45.00</td>\n",
       "    </tr>\n",
       "    <tr>\n",
       "      <th>94740</th>\n",
       "      <td>Thursday</td>\n",
       "      <td>24</td>\n",
       "      <td>190.00</td>\n",
       "      <td>190.00</td>\n",
       "      <td>1.13</td>\n",
       "      <td>1.13</td>\n",
       "      <td>40.41</td>\n",
       "    </tr>\n",
       "  </tbody>\n",
       "</table>\n",
       "<p>6744 rows × 7 columns</p>\n",
       "</div>"
      ],
      "text/plain": [
       "        Weekday  Period  Energy_24h  Energy_168h  Price_24h  Price_168h  \\\n",
       "13824  Thursday       1        0.00         0.00     180.30      180.30   \n",
       "13836  Thursday       2        0.00         0.00     180.30      180.30   \n",
       "13848  Thursday       3       50.00        50.00       1.13        1.13   \n",
       "13860  Thursday       4       60.00        60.00       1.13        1.13   \n",
       "13872  Thursday       5       60.00        60.00       1.13        1.13   \n",
       "...         ...     ...         ...          ...        ...         ...   \n",
       "94692  Thursday      20      190.00       190.00       1.13        1.13   \n",
       "94704  Thursday      21      190.00       190.00       1.13        1.13   \n",
       "94716  Thursday      22      190.00       190.00       1.13        1.13   \n",
       "94728  Thursday      23      190.00       190.00       1.13        1.13   \n",
       "94740  Thursday      24      190.00       190.00       1.13        1.13   \n",
       "\n",
       "       Marg_Price_24h  \n",
       "13824           37.01  \n",
       "13836           32.69  \n",
       "13848           29.67  \n",
       "13860           26.50  \n",
       "13872           26.50  \n",
       "...               ...  \n",
       "94692           50.23  \n",
       "94704           52.99  \n",
       "94716           50.90  \n",
       "94728           45.00  \n",
       "94740           40.41  \n",
       "\n",
       "[6744 rows x 7 columns]"
      ]
     },
     "execution_count": 146,
     "metadata": {},
     "output_type": "execute_result"
    }
   ],
   "source": [
    "df_X_dE_TRAIN[0]"
   ]
  },
  {
   "cell_type": "code",
   "execution_count": 147,
   "metadata": {},
   "outputs": [],
   "source": [
    "#One-hot encoding will be used to convert variables from categorical to binary.\n",
    "\n",
    "from sklearn.preprocessing import OneHotEncoder\n",
    "\n",
    "df_X_TRAIN_cat = []\n",
    "\n",
    "for df in df_X_dE_TRAIN:\n",
    "    df_X_TRAIN_cat.append(df[['Weekday','Period']])\n",
    "\n",
    "one_encoder = OneHotEncoder(drop=None, sparse=False) #Changing 'first' with 'None'\n",
    "\n",
    "df_X_TRAIN_cat_onehot_encoder = []\n",
    "\n",
    "for hour in range(0,len(df_X_dE_TRAIN)):\n",
    "    \n",
    "    df_X_TRAIN_cat_onehot_encoder.append(one_encoder.fit(df_X_TRAIN_cat[hour]))\n",
    "    \n",
    "df_X_TRAIN_cat_onehot = []\n",
    "\n",
    "for hour in range(0,len(df_X_dE_TRAIN)):\n",
    "    \n",
    "    df_X_TRAIN_cat_onehot.append(df_X_TRAIN_cat_onehot_encoder[hour].transform(df_X_TRAIN_cat[hour]))"
   ]
  },
  {
   "cell_type": "code",
   "execution_count": 148,
   "metadata": {},
   "outputs": [],
   "source": [
    "#Normalization of Energy_tot (24h and 168h lagged) to [0,1], by dividing the entire columns with Pmax.\n",
    "\n",
    "Energy_tot_max = df_tot_lagT['Pot_max'].max()\n",
    "\n",
    "df_X_dE_TRAIN_energy_norm = []\n",
    "\n",
    "for df in df_X_dE_TRAIN:\n",
    "    df_X_dE_TRAIN_energy_norm.append(df[['Energy_24h', 'Energy_168h']]/Energy_tot_max)"
   ]
  },
  {
   "cell_type": "code",
   "execution_count": null,
   "metadata": {},
   "outputs": [],
   "source": []
  },
  {
   "cell_type": "code",
   "execution_count": 149,
   "metadata": {},
   "outputs": [],
   "source": [
    "#Normalization of Price (24h and 168h lagged) by stardard method (mean = 0 and std = 1)\n",
    "\n",
    "from sklearn.preprocessing import StandardScaler\n",
    "\n",
    "df_X_TRAIN_price = []\n",
    "\n",
    "for df in df_X_dE_TRAIN:\n",
    "    df_X_TRAIN_price.append(df[['Price_24h','Price_168h','Marg_Price_24h']])\n",
    "\n",
    "std_encoder = StandardScaler()\n",
    "\n",
    "df_X_TRAIN_price_std_encoder = []\n",
    "\n",
    "for hour in range(0,len(df_X_dE_TRAIN)):\n",
    "    \n",
    "    df_X_TRAIN_price_std_encoder.append(std_encoder.fit(df_X_TRAIN_price[hour]))\n",
    "    \n",
    "\n",
    "    df_X_TRAIN_price_std = []\n",
    "\n",
    "for hour in range(0,len(df_X_dE_TRAIN)):\n",
    "    \n",
    "    df_X_TRAIN_price_std.append(df_X_TRAIN_price_std_encoder[hour].transform(df_X_TRAIN_price[hour]))"
   ]
  },
  {
   "cell_type": "code",
   "execution_count": 150,
   "metadata": {
    "scrolled": true
   },
   "outputs": [],
   "source": [
    "X_dE_TRAIN = []\n",
    "\n",
    "for hour in range(0,len(df_X_dE_TRAIN)):\n",
    "\n",
    "    X_dE_TRAIN.append(np.concatenate((df_X_TRAIN_cat_onehot[hour], \n",
    "                             df_X_dE_TRAIN_energy_norm[hour],\n",
    "                             df_X_TRAIN_price_std[hour]),\n",
    "                            axis=1))"
   ]
  },
  {
   "cell_type": "code",
   "execution_count": 151,
   "metadata": {
    "scrolled": true
   },
   "outputs": [
    {
     "data": {
      "text/plain": [
       "((6744, 31), (6744, 2), (6744, 3))"
      ]
     },
     "execution_count": 151,
     "metadata": {},
     "output_type": "execute_result"
    }
   ],
   "source": [
    "df_X_TRAIN_cat_onehot[0].shape, df_X_dE_TRAIN_energy_norm[0].shape, df_X_TRAIN_price_std[0].shape"
   ]
  },
  {
   "cell_type": "code",
   "execution_count": 152,
   "metadata": {
    "scrolled": true
   },
   "outputs": [
    {
     "data": {
      "text/plain": [
       "(12, 12, 12)"
      ]
     },
     "execution_count": 152,
     "metadata": {},
     "output_type": "execute_result"
    }
   ],
   "source": [
    "len(df_X_TRAIN_cat_onehot), len(df_X_dE_TRAIN_energy_norm), len(df_X_TRAIN_price_std)"
   ]
  },
  {
   "cell_type": "code",
   "execution_count": 153,
   "metadata": {},
   "outputs": [
    {
     "data": {
      "text/plain": [
       "12"
      ]
     },
     "execution_count": 153,
     "metadata": {},
     "output_type": "execute_result"
    }
   ],
   "source": [
    "len(df_X_dE_TRAIN)"
   ]
  },
  {
   "cell_type": "code",
   "execution_count": 154,
   "metadata": {},
   "outputs": [
    {
     "data": {
      "text/plain": [
       "(6744, 36)"
      ]
     },
     "execution_count": 154,
     "metadata": {},
     "output_type": "execute_result"
    }
   ],
   "source": [
    "X_dE_TRAIN[0].shape"
   ]
  },
  {
   "cell_type": "code",
   "execution_count": 155,
   "metadata": {
    "scrolled": true
   },
   "outputs": [
    {
     "data": {
      "text/plain": [
       "numpy.ndarray"
      ]
     },
     "execution_count": 155,
     "metadata": {},
     "output_type": "execute_result"
    }
   ],
   "source": [
    "type(X_dE_TRAIN[0])"
   ]
  },
  {
   "cell_type": "markdown",
   "metadata": {},
   "source": [
    "#### VALIDATION SET - ENCODING --> FITTING WITH TRAIN SET"
   ]
  },
  {
   "cell_type": "code",
   "execution_count": 156,
   "metadata": {},
   "outputs": [],
   "source": [
    "#One-hot encoding will be used to convert variables from categorical to binary.\n",
    "\n",
    "df_X_VAL_cat = []\n",
    "for df in df_X_dE_VAL:\n",
    "    df_X_VAL_cat.append(df[['Weekday','Period']])\n",
    "    \n",
    "df_X_VAL_cat_onehot = []\n",
    "for hour in range(0,len(df_X_dE_VAL)):\n",
    "    df_X_VAL_cat_onehot.append(df_X_TRAIN_cat_onehot_encoder[hour].transform(df_X_VAL_cat[hour]))\n",
    "    \n",
    "#Normalization of Energy_tot (24h and 168h lagged) to [0,1], by dividing the entire columns with Pmax.\n",
    "df_X_dE_VAL_energy_norm = []\n",
    "for df in df_X_dE_VAL:\n",
    "    df_X_dE_VAL_energy_norm.append(df[['Energy_24h', 'Energy_168h']]/Energy_tot_max)\n",
    "    \n",
    "#Normalization of Price (24h and 168h lagged) by stardard method (mean = 0 and std = 1)\n",
    "df_X_VAL_price = []\n",
    "\n",
    "for df in df_X_dE_VAL:\n",
    "    df_X_VAL_price.append(df[['Price_24h','Price_168h','Marg_Price_24h']])\n",
    "    \n",
    "df_X_VAL_price_std = []\n",
    "for hour in range(0,len(df_X_dE_VAL)):\n",
    "    df_X_VAL_price_std.append(df_X_TRAIN_price_std_encoder[hour].transform(df_X_VAL_price[hour]))\n",
    "    \n",
    "X_dE_VAL = []\n",
    "for hour in range(0,len(df_X_dE_VAL)):\n",
    "    X_dE_VAL.append(np.concatenate((df_X_VAL_cat_onehot[hour], \n",
    "                             df_X_dE_VAL_energy_norm[hour],\n",
    "                             df_X_VAL_price_std[hour]),\n",
    "                            axis=1))"
   ]
  },
  {
   "cell_type": "markdown",
   "metadata": {},
   "source": [
    "#### TEST SET - ENCODING --> FITTING WITH TRAIN_VAL SET"
   ]
  },
  {
   "cell_type": "code",
   "execution_count": 157,
   "metadata": {},
   "outputs": [],
   "source": [
    "#One-hot encoding will be used to convert variables from categorical to binary.\n",
    "\n",
    "from sklearn.preprocessing import OneHotEncoder\n",
    "\n",
    "one_encoder = OneHotEncoder(drop=None, sparse=False) #Changing 'first' with 'None'\n",
    "\n",
    "df_X_TEST_cat = []\n",
    "\n",
    "for df in df_X_dE_TEST:\n",
    "    df_X_TEST_cat.append(df[['Weekday','Period']])\n",
    "\n",
    "df_X_TRAIN_VAL_cat = []\n",
    "\n",
    "for df in df_X_dE_TRAIN_VAL:\n",
    "    df_X_TRAIN_VAL_cat.append(df[['Weekday','Period']])\n",
    "\n",
    "df_X_TRAIN_VAL_cat_onehot_encoder = []\n",
    "for hour in range(0,len(df_X_dE_TRAIN_VAL)):\n",
    "    df_X_TRAIN_VAL_cat_onehot_encoder.append(one_encoder.fit(df_X_TRAIN_VAL_cat[hour]))\n",
    "\n",
    "df_X_TRAIN_VAL_cat_onehot = []\n",
    "for hour in range(0,len(df_X_dE_TRAIN_VAL)):\n",
    "    df_X_TRAIN_VAL_cat_onehot.append(df_X_TRAIN_VAL_cat_onehot_encoder[hour].transform(df_X_TRAIN_VAL_cat[hour]))\n",
    "    \n",
    "df_X_TEST_cat_onehot = []\n",
    "for hour in range(0,len(df_X_dE_TEST)):\n",
    "    df_X_TEST_cat_onehot.append(df_X_TRAIN_VAL_cat_onehot_encoder[hour].transform(df_X_TEST_cat[hour]))"
   ]
  },
  {
   "cell_type": "code",
   "execution_count": 158,
   "metadata": {},
   "outputs": [],
   "source": [
    "#Normalization of Energy_tot (24h and 168h lagged) to [0,1], by dividing the entire columns with Pmax.\n",
    "df_X_dE_TEST_energy_norm = []\n",
    "for df in df_X_dE_TEST:\n",
    "    df_X_dE_TEST_energy_norm.append(df[['Energy_24h', 'Energy_168h']]/Energy_tot_max)\n",
    "    \n",
    "df_X_dE_TRAIN_VAL_energy_norm = []\n",
    "for df in df_X_dE_TRAIN_VAL:\n",
    "    df_X_dE_TRAIN_VAL_energy_norm.append(df[['Energy_24h', 'Energy_168h']]/Energy_tot_max)"
   ]
  },
  {
   "cell_type": "code",
   "execution_count": null,
   "metadata": {},
   "outputs": [],
   "source": []
  },
  {
   "cell_type": "code",
   "execution_count": 159,
   "metadata": {},
   "outputs": [],
   "source": [
    "#Normalization of Price (24h and 168h lagged) by stardard method (mean = 0 and std = 1)\n",
    "\n",
    "from sklearn.preprocessing import StandardScaler\n",
    "\n",
    "df_X_TEST_price = []\n",
    "\n",
    "for df in df_X_dE_TEST:\n",
    "    df_X_TEST_price.append(df[['Price_24h','Price_168h','Marg_Price_24h']])\n",
    "\n",
    "df_X_TRAIN_VAL_price = []\n",
    "\n",
    "for df in df_X_dE_TRAIN_VAL:\n",
    "    df_X_TRAIN_VAL_price.append(df[['Price_24h','Price_168h','Marg_Price_24h']])\n",
    "    \n",
    "std_encoder = StandardScaler()\n",
    "\n",
    "df_X_TRAIN_VAL_price_std_encoder = []\n",
    "\n",
    "for hour in range(0,len(df_X_dE_TRAIN_VAL)):  \n",
    "    df_X_TRAIN_VAL_price_std_encoder.append(std_encoder.fit(df_X_TRAIN_VAL_price[hour]))\n",
    "    \n",
    "df_X_TRAIN_VAL_price_std = []\n",
    "for hour in range(0,len(df_X_dE_TRAIN_VAL)):   \n",
    "    df_X_TRAIN_VAL_price_std.append(df_X_TRAIN_VAL_price_std_encoder[hour].transform(df_X_TRAIN_VAL_price[hour]))\n",
    "    \n",
    "df_X_TEST_price_std = []\n",
    "for hour in range(0,len(df_X_dE_TEST)):   \n",
    "    df_X_TEST_price_std.append(df_X_TRAIN_VAL_price_std_encoder[hour].transform(df_X_TEST_price[hour]))"
   ]
  },
  {
   "cell_type": "code",
   "execution_count": null,
   "metadata": {},
   "outputs": [],
   "source": []
  },
  {
   "cell_type": "code",
   "execution_count": 160,
   "metadata": {},
   "outputs": [],
   "source": [
    "X_dE_TEST = []\n",
    "for hour in range(0,len(df_X_dE_TEST)):\n",
    "    X_dE_TEST.append(np.concatenate((df_X_TEST_cat_onehot[hour], \n",
    "                             df_X_dE_TEST_energy_norm[hour],\n",
    "                             df_X_TEST_price_std[hour]),\n",
    "                            axis=1))"
   ]
  },
  {
   "cell_type": "code",
   "execution_count": 161,
   "metadata": {},
   "outputs": [],
   "source": [
    "X_dE_TRAIN_VAL = []\n",
    "for hour in range(0,len(df_X_dE_TRAIN_VAL)):\n",
    "    X_dE_TRAIN_VAL.append(np.concatenate((df_X_TRAIN_VAL_cat_onehot[hour], \n",
    "                             df_X_dE_TRAIN_VAL_energy_norm[hour],\n",
    "                             df_X_TRAIN_VAL_price_std[hour]),\n",
    "                            axis=1))"
   ]
  },
  {
   "cell_type": "code",
   "execution_count": null,
   "metadata": {},
   "outputs": [],
   "source": []
  },
  {
   "cell_type": "markdown",
   "metadata": {},
   "source": [
    "## 4. MULTI-OUTPUT REGRESSION MODELS\n",
    "\n",
    "In this section, several multi-output regression models will be develop to predict Energy_tot and Price.\n",
    "\n",
    "Test set will be used to adjust the models' hyperparameters and Validation test will be used to calibrate the quality of the models."
   ]
  },
  {
   "cell_type": "code",
   "execution_count": 162,
   "metadata": {
    "scrolled": true
   },
   "outputs": [
    {
     "data": {
      "text/plain": [
       "(numpy.ndarray, numpy.ndarray)"
      ]
     },
     "execution_count": 162,
     "metadata": {},
     "output_type": "execute_result"
    }
   ],
   "source": [
    "type(X_dE_TRAIN[0]), type(y_dE_TRAIN[0])"
   ]
  },
  {
   "cell_type": "code",
   "execution_count": 163,
   "metadata": {
    "scrolled": true
   },
   "outputs": [
    {
     "data": {
      "text/plain": [
       "array([[  0.  , 180.3 ],\n",
       "       [  0.  , 180.3 ],\n",
       "       [ 50.  ,   1.13],\n",
       "       ...,\n",
       "       [190.  ,   1.13],\n",
       "       [190.  ,   1.13],\n",
       "       [190.  ,   1.13]])"
      ]
     },
     "execution_count": 163,
     "metadata": {},
     "output_type": "execute_result"
    }
   ],
   "source": [
    "y_dE_TRAIN[0]"
   ]
  },
  {
   "cell_type": "markdown",
   "metadata": {},
   "source": [
    "### 4.1. MULTI-OUTPUT RANDOM FOREST REGRESSION - DELTA ENERGY APPROACH\n",
    "\n",
    "\n",
    "Models are fitted with the TRAIN SET and predictions to fit the hyperparameters are checked with VALIDATION SET.\n",
    "After selecting the hyperparameters, fit is done with TRAIN + VALIDATION SET and predictions with TEST SET."
   ]
  },
  {
   "cell_type": "code",
   "execution_count": 164,
   "metadata": {},
   "outputs": [],
   "source": [
    "import pickle\n",
    "\n",
    "hours = len(X_dE_TEST)"
   ]
  },
  {
   "cell_type": "code",
   "execution_count": 165,
   "metadata": {},
   "outputs": [],
   "source": [
    "# RANDOM FOREST\n",
    "from sklearn.ensemble import RandomForestRegressor\n",
    "\n",
    "reg_rf = RandomForestRegressor(n_estimators=100)"
   ]
  },
  {
   "cell_type": "markdown",
   "metadata": {},
   "source": [
    "#### 4.1.1. RANDOM FOREST - BASIC APPROACH"
   ]
  },
  {
   "cell_type": "code",
   "execution_count": 166,
   "metadata": {},
   "outputs": [],
   "source": [
    "pickle_path = '/home/dsc/Documents/TFM/Data/TFM_Pickle/'"
   ]
  },
  {
   "cell_type": "code",
   "execution_count": 167,
   "metadata": {},
   "outputs": [],
   "source": [
    "reg_rf_fit_dE_TRAIN_VAL_pkl_names = []\n",
    "\n",
    "for hour in range(0,hours):    \n",
    "    model_name = pickle_path + unit + '_rf_fit_dE_TRAIN_VAL_hour_' + str(hour+1) + '.pkl'\n",
    "    reg_rf_fit_dE_TRAIN_VAL_pkl_names.append(model_name)\n",
    "    \n",
    "    #Lines commented because models have been stored already\n",
    "    #reg_rf_fit_dE_TRAIN_VAL = reg_rf.fit(X_dE_TRAIN_VAL[hour],y_dE_TRAIN_VAL[hour]) \n",
    "    #pickle.dump(reg_rf_fit_dE_TRAIN_VAL, open(model_name, 'wb'))\n",
    "    \n",
    "\n",
    "y_dE_TEST_pred_rf = []\n",
    "for hour in range(0,hours):\n",
    "    loaded_model = pickle.load(open(reg_rf_fit_dE_TRAIN_VAL_pkl_names[hour], 'rb'))\n",
    "    y_dE_TEST_pred_rf.append(loaded_model.predict(X_dE_TEST[hour]))"
   ]
  },
  {
   "cell_type": "code",
   "execution_count": 168,
   "metadata": {},
   "outputs": [
    {
     "data": {
      "text/plain": [
       "[0.490584677419383,\n",
       " 0.3949516801080892,\n",
       " 0.4068747311833681,\n",
       " 0.38620409946292855,\n",
       " 0.40324684139842787,\n",
       " 0.4001116935490713,\n",
       " 0.4667708333340622,\n",
       " 0.36656653225876124,\n",
       " 0.45599045698997276,\n",
       " 0.38407587365663376,\n",
       " 0.4437214381727098,\n",
       " 0.4834005376353906]"
      ]
     },
     "execution_count": 168,
     "metadata": {},
     "output_type": "execute_result"
    }
   ],
   "source": [
    "from sklearn.metrics import mean_absolute_error, mean_squared_error\n",
    "\n",
    "# MAE\n",
    "mae_dE_TEST_rf = []\n",
    "for hour in range(0,hours):\n",
    "    mae_dE_TEST_rf.append(mean_absolute_error(y_dE_TEST[hour],y_dE_TEST_pred_rf[hour]))\n",
    "mae_dE_TEST_rf"
   ]
  },
  {
   "cell_type": "code",
   "execution_count": 169,
   "metadata": {},
   "outputs": [
    {
     "data": {
      "text/plain": [
       "[7.695524826296812,\n",
       " 5.067209166530596,\n",
       " 4.972208181152495,\n",
       " 5.080423173894016,\n",
       " 5.124784796290049,\n",
       " 5.129593846413766,\n",
       " 4.838288802005537,\n",
       " 4.990147643593811,\n",
       " 4.818278043604714,\n",
       " 4.496791951526679,\n",
       " 4.789176983147165,\n",
       " 7.047096509941528]"
      ]
     },
     "execution_count": 169,
     "metadata": {},
     "output_type": "execute_result"
    }
   ],
   "source": [
    "# RMSE from random forest\n",
    "\n",
    "rmse_dE_TEST_rf = []\n",
    "for hour in range(0,hours):\n",
    "    rmse_dE_TEST_rf.append(np.sqrt(mean_squared_error(y_dE_TEST[hour],y_dE_TEST_pred_rf[hour])))\n",
    "rmse_dE_TEST_rf"
   ]
  },
  {
   "cell_type": "code",
   "execution_count": 170,
   "metadata": {},
   "outputs": [
    {
     "data": {
      "text/plain": [
       "(0.42354161626406656, 5.3374603270330985)"
      ]
     },
     "execution_count": 170,
     "metadata": {},
     "output_type": "execute_result"
    }
   ],
   "source": [
    "np.mean(mae_dE_TEST_rf), np.mean(rmse_dE_TEST_rf)"
   ]
  },
  {
   "cell_type": "code",
   "execution_count": null,
   "metadata": {},
   "outputs": [],
   "source": []
  },
  {
   "cell_type": "markdown",
   "metadata": {},
   "source": [
    "#### 4.1.2. RANDOM FOREST - SELECTING HYPERPARAMENTERS"
   ]
  },
  {
   "cell_type": "code",
   "execution_count": 171,
   "metadata": {},
   "outputs": [],
   "source": [
    "#Creating a fixed split for GridSearch\n",
    "#Since the length of all 24 sets are equal, only is necesary to create one \"test_fold\"\n",
    "\n",
    "TRAIN_len = len(X_dE_TRAIN[0])\n",
    "VAL_len = len(X_dE_VAL[0])\n",
    "\n",
    "test_fold = np.repeat([-1,0], [TRAIN_len, VAL_len])"
   ]
  },
  {
   "cell_type": "code",
   "execution_count": 172,
   "metadata": {},
   "outputs": [],
   "source": [
    "from sklearn.model_selection import PredefinedSplit\n",
    "\n",
    "ps = PredefinedSplit(test_fold)"
   ]
  },
  {
   "cell_type": "code",
   "execution_count": 173,
   "metadata": {},
   "outputs": [
    {
     "data": {
      "text/plain": [
       "1"
      ]
     },
     "execution_count": 173,
     "metadata": {},
     "output_type": "execute_result"
    }
   ],
   "source": [
    "#Checking the number of splits\n",
    "ps.get_n_splits()"
   ]
  },
  {
   "cell_type": "code",
   "execution_count": null,
   "metadata": {},
   "outputs": [],
   "source": []
  },
  {
   "cell_type": "code",
   "execution_count": 175,
   "metadata": {},
   "outputs": [],
   "source": [
    "from sklearn.model_selection import GridSearchCV\n",
    "\n",
    "reg_rf_grid = GridSearchCV(RandomForestRegressor(n_estimators=100),\n",
    "                  param_grid={\"max_depth\":np.arange(2,11),\n",
    "                              \"min_samples_leaf\":np.arange(10,100,15)},\n",
    "                  scoring=\"neg_mean_absolute_error\",\n",
    "                  cv=ps)"
   ]
  },
  {
   "cell_type": "code",
   "execution_count": 176,
   "metadata": {},
   "outputs": [],
   "source": [
    "hours = len(X_dE_TRAIN)\n",
    "\n",
    "reg_rf_grid_fit_dE_TRAIN_VAL_pkl_names = []\n",
    "\n",
    "for hour in range(0,hours):    \n",
    "    model_name = pickle_path + unit + '_rf_grid_fit_dE_TRAIN_VAL_hour_' + str(hour+1) + '.pkl'\n",
    "    reg_rf_grid_fit_dE_TRAIN_VAL_pkl_names.append(model_name)\n",
    "    \n",
    "    #Lines commented because models have been stored already\n",
    "    reg_rf_grid_fit_dE_TRAIN_VAL = reg_rf_grid.fit(X_dE_TRAIN_VAL[hour],y_dE_TRAIN_VAL[hour]) \n",
    "    pickle.dump(reg_rf_grid_fit_dE_TRAIN_VAL, open(model_name, 'wb'))\n",
    "    \n",
    "\n",
    "y_dE_TEST_pred_rf_grid = []\n",
    "for hour in range(0,hours):\n",
    "    loaded_model = pickle.load(open(reg_rf_grid_fit_dE_TRAIN_VAL_pkl_names[hour], 'rb'))\n",
    "    y_dE_TEST_pred_rf_grid.append(loaded_model.predict(X_dE_TEST[hour]))"
   ]
  },
  {
   "cell_type": "code",
   "execution_count": null,
   "metadata": {},
   "outputs": [],
   "source": []
  },
  {
   "cell_type": "code",
   "execution_count": 177,
   "metadata": {},
   "outputs": [
    {
     "data": {
      "text/plain": [
       "[0.5368701615861622,\n",
       " 0.3943338711933812,\n",
       " 0.40734053773862827,\n",
       " 0.3884959713452878,\n",
       " 0.41162928885162803,\n",
       " 0.3919442939568322,\n",
       " 0.44767762257660804,\n",
       " 0.3781117399095301,\n",
       " 0.41829464779619996,\n",
       " 0.38922237512224284,\n",
       " 0.40265863702324073,\n",
       " 0.5297432343110763]"
      ]
     },
     "execution_count": 177,
     "metadata": {},
     "output_type": "execute_result"
    }
   ],
   "source": [
    "# MAE - RANDOM FOREST - GRID\n",
    "mae_dE_TEST_rf_grid = []\n",
    "for hour in range(0,hours):\n",
    "    mae_dE_TEST_rf_grid.append(mean_absolute_error(y_dE_TEST[hour],y_dE_TEST_pred_rf_grid[hour]))\n",
    "mae_dE_TEST_rf_grid"
   ]
  },
  {
   "cell_type": "code",
   "execution_count": 178,
   "metadata": {},
   "outputs": [
    {
     "data": {
      "text/plain": [
       "[7.664803394001741,\n",
       " 5.153629434077718,\n",
       " 5.155998074475404,\n",
       " 5.115547568150641,\n",
       " 5.150231546431896,\n",
       " 5.105393513309137,\n",
       " 4.995162984665915,\n",
       " 5.011712668457448,\n",
       " 4.920790906600088,\n",
       " 4.873512412598912,\n",
       " 4.848568938280547,\n",
       " 7.04377557095602]"
      ]
     },
     "execution_count": 178,
     "metadata": {},
     "output_type": "execute_result"
    }
   ],
   "source": [
    "# RMSE from random forest\n",
    "\n",
    "rmse_dE_TEST_rf_grid = []\n",
    "for hour in range(0,hours):\n",
    "    rmse_dE_TEST_rf_grid.append(np.sqrt(mean_squared_error(y_dE_TEST[hour],y_dE_TEST_pred_rf_grid[hour])))\n",
    "rmse_dE_TEST_rf_grid"
   ]
  },
  {
   "cell_type": "code",
   "execution_count": 179,
   "metadata": {
    "scrolled": true
   },
   "outputs": [
    {
     "data": {
      "text/plain": [
       "(0.42469353178423486, 5.4199272510004555)"
      ]
     },
     "execution_count": 179,
     "metadata": {},
     "output_type": "execute_result"
    }
   ],
   "source": [
    "np.mean(mae_dE_TEST_rf_grid) , np.mean(rmse_dE_TEST_rf_grid)"
   ]
  },
  {
   "cell_type": "code",
   "execution_count": 180,
   "metadata": {
    "scrolled": true
   },
   "outputs": [
    {
     "data": {
      "text/plain": [
       "(0.42354161626406656, 5.3374603270330985)"
      ]
     },
     "execution_count": 180,
     "metadata": {},
     "output_type": "execute_result"
    }
   ],
   "source": [
    "np.mean(mae_dE_TEST_rf) , np.mean(rmse_dE_TEST_rf)"
   ]
  },
  {
   "cell_type": "markdown",
   "metadata": {},
   "source": [
    "### 4.2. MULTI-OUTPUT XG-BOOST REGRESSION - DELTA ENERGY APPROACH\n",
    "\n",
    "Models are fitted with the TEST SET and predictions to fit the hyperparameters are checked with VALIDATION SET."
   ]
  },
  {
   "cell_type": "code",
   "execution_count": 181,
   "metadata": {},
   "outputs": [],
   "source": [
    "#XG-BOOST\n",
    "\n",
    "from xgboost import XGBRegressor\n",
    "#from sklearn.ensemble import GradientBoostingRegressor"
   ]
  },
  {
   "cell_type": "code",
   "execution_count": 182,
   "metadata": {},
   "outputs": [],
   "source": [
    "#reg_XGB = GradientBoostingRegressor(max_depth=4, n_estimators=100,learning_rate=0.1)\n",
    "\n",
    "reg_XGB = XGBRegressor(max_depth=4, n_estimators=100,learning_rate=0.1)"
   ]
  },
  {
   "cell_type": "markdown",
   "metadata": {},
   "source": [
    "#### 4.2.1. XG-BOOST REGRESSION - BASIC APPROACH"
   ]
  },
  {
   "cell_type": "markdown",
   "metadata": {},
   "source": [
    "##### DIRECT WRAPPER"
   ]
  },
  {
   "cell_type": "code",
   "execution_count": 183,
   "metadata": {},
   "outputs": [],
   "source": [
    "from sklearn.multioutput import MultiOutputRegressor\n",
    "\n",
    "wrapper_XGB = MultiOutputRegressor(reg_XGB)"
   ]
  },
  {
   "cell_type": "code",
   "execution_count": 184,
   "metadata": {},
   "outputs": [],
   "source": [
    "   \n",
    "reg_XGB_fit_dE_TRAIN_VAL_pkl_names = []\n",
    "\n",
    "for hour in range(0,hours):    \n",
    "    model_name = pickle_path + unit + '_XGB_fit_dE_TRAIN_VAL_hour_' + str(hour+1) + '.pkl'\n",
    "    reg_XGB_fit_dE_TRAIN_VAL_pkl_names.append(model_name)\n",
    "    \n",
    "    #Lines commented because models have been stored already\n",
    "    #wrapper_XGB_fit_dE_TRAIN_VAL = wrapper_XGB.fit(X_dE_TRAIN_VAL[hour],y_dE_TRAIN_VAL[hour]) \n",
    "    #pickle.dump(wrapper_XGB_fit_dE_TRAIN_VAL, open(model_name, 'wb'))\n",
    "    \n",
    "\n",
    "y_dE_TEST_pred_XGB = []\n",
    "for hour in range(0,hours):\n",
    "    loaded_model = pickle.load(open(reg_XGB_fit_dE_TRAIN_VAL_pkl_names[hour], 'rb'))\n",
    "    y_dE_TEST_pred_XGB.append(loaded_model.predict(X_dE_TEST[hour]))"
   ]
  },
  {
   "cell_type": "code",
   "execution_count": 185,
   "metadata": {},
   "outputs": [
    {
     "data": {
      "text/plain": [
       "[0.5448742880415853,\n",
       " 0.3674480162641072,\n",
       " 0.4011862338638771,\n",
       " 0.37071354850646054,\n",
       " 0.3656687517632408,\n",
       " 0.3654080426837185,\n",
       " 0.3623463263354646,\n",
       " 0.3515735456812137,\n",
       " 0.35784611361481944,\n",
       " 0.3792790669731569,\n",
       " 0.37486656492996784,\n",
       " 0.5338099602730121]"
      ]
     },
     "execution_count": 185,
     "metadata": {},
     "output_type": "execute_result"
    }
   ],
   "source": [
    "from sklearn.metrics import mean_absolute_error, mean_squared_error\n",
    "\n",
    "# MAE - XGBOOST - TEST\n",
    "mae_dE_TEST_XGB = []\n",
    "for hour in range(0,hours):\n",
    "    mae_dE_TEST_XGB.append(mean_absolute_error(y_dE_TEST[hour],y_dE_TEST_pred_XGB[hour]))\n",
    "mae_dE_TEST_XGB"
   ]
  },
  {
   "cell_type": "code",
   "execution_count": 186,
   "metadata": {},
   "outputs": [
    {
     "data": {
      "text/plain": [
       "[7.756817058805694,\n",
       " 5.231179895367529,\n",
       " 5.272794210178759,\n",
       " 5.263872178336672,\n",
       " 5.181358568866595,\n",
       " 5.1322380107337775,\n",
       " 5.091897785855892,\n",
       " 5.101771468465419,\n",
       " 5.071620316890503,\n",
       " 4.9450529788261415,\n",
       " 4.820674632306921,\n",
       " 7.2450975582128105]"
      ]
     },
     "execution_count": 186,
     "metadata": {},
     "output_type": "execute_result"
    }
   ],
   "source": [
    "# RMSE - XGBOOST - TEST\n",
    "\n",
    "rmse_dE_TEST_XGB = []\n",
    "for hour in range(0,hours):\n",
    "    rmse_dE_TEST_XGB.append(np.sqrt(mean_squared_error(y_dE_TEST[hour],y_dE_TEST_pred_XGB[hour])))\n",
    "rmse_dE_TEST_XGB"
   ]
  },
  {
   "cell_type": "code",
   "execution_count": 187,
   "metadata": {},
   "outputs": [
    {
     "data": {
      "text/plain": [
       "(0.397918371577552, 5.509531221903892)"
      ]
     },
     "execution_count": 187,
     "metadata": {},
     "output_type": "execute_result"
    }
   ],
   "source": [
    "np.mean(mae_dE_TEST_XGB), np.mean(rmse_dE_TEST_XGB)"
   ]
  },
  {
   "cell_type": "code",
   "execution_count": null,
   "metadata": {},
   "outputs": [],
   "source": []
  },
  {
   "cell_type": "markdown",
   "metadata": {},
   "source": [
    "##### CHAIN WRAPPER"
   ]
  },
  {
   "cell_type": "code",
   "execution_count": 188,
   "metadata": {},
   "outputs": [],
   "source": [
    "from sklearn.multioutput import RegressorChain\n",
    "\n",
    "wrapper_chain_XGB = RegressorChain(reg_XGB, order=[0,1])"
   ]
  },
  {
   "cell_type": "code",
   "execution_count": 189,
   "metadata": {},
   "outputs": [],
   "source": [
    "reg_chain_XGB_fit_dE_TRAIN_VAL_pkl_names = []\n",
    "\n",
    "for hour in range(0,hours):    \n",
    "    model_name = pickle_path + unit + '_chain_XGB_fit_dE_TRAIN_VAL_hour_' + str(hour+1) + '.pkl'\n",
    "    reg_chain_XGB_fit_dE_TRAIN_VAL_pkl_names.append(model_name)\n",
    "    \n",
    "    #Lines commented because models have been stored already\n",
    "    #chain_XGB_fit_dE_TRAIN_VAL = wrapper_chain_XGB.fit(X_dE_TRAIN_VAL[hour],y_dE_TRAIN_VAL[hour]) \n",
    "    #pickle.dump(chain_XGB_fit_dE_TRAIN_VAL, open(model_name, 'wb'))\n",
    "    \n",
    "\n",
    "y_dE_TEST_pred_chain_XGB = []\n",
    "for hour in range(0,hours):\n",
    "    loaded_model = pickle.load(open(reg_chain_XGB_fit_dE_TRAIN_VAL_pkl_names[hour], 'rb'))\n",
    "    y_dE_TEST_pred_chain_XGB.append(loaded_model.predict(X_dE_TEST[hour]))"
   ]
  },
  {
   "cell_type": "code",
   "execution_count": null,
   "metadata": {},
   "outputs": [],
   "source": []
  },
  {
   "cell_type": "code",
   "execution_count": null,
   "metadata": {},
   "outputs": [],
   "source": []
  },
  {
   "cell_type": "code",
   "execution_count": 190,
   "metadata": {},
   "outputs": [
    {
     "data": {
      "text/plain": [
       "[0.5383663083797188,\n",
       " 0.3810800194740315,\n",
       " 0.389041000453216,\n",
       " 0.3648493647319031,\n",
       " 0.36193781171354755,\n",
       " 0.37972690285053484,\n",
       " 0.3727124071425668,\n",
       " 0.3541109989327147,\n",
       " 0.3698671740662043,\n",
       " 0.37977362852744107,\n",
       " 0.3558573284609039,\n",
       " 0.5338099602730121]"
      ]
     },
     "execution_count": 190,
     "metadata": {},
     "output_type": "execute_result"
    }
   ],
   "source": [
    "from sklearn.metrics import mean_absolute_error, mean_squared_error\n",
    "\n",
    "# MAE - XGBOOST_chain - TEST\n",
    "mae_dE_TEST_chain_XGB = []\n",
    "for hour in range(0,hours):\n",
    "    mae_dE_TEST_chain_XGB.append(mean_absolute_error(y_dE_TEST[hour],y_dE_TEST_pred_chain_XGB[hour]))\n",
    "mae_dE_TEST_chain_XGB"
   ]
  },
  {
   "cell_type": "code",
   "execution_count": 191,
   "metadata": {},
   "outputs": [
    {
     "data": {
      "text/plain": [
       "[7.741022758755459,\n",
       " 5.280730637343288,\n",
       " 5.248488816679602,\n",
       " 5.2253800378322275,\n",
       " 5.171486844510415,\n",
       " 5.125353370720004,\n",
       " 5.102813539769903,\n",
       " 5.0670746715015715,\n",
       " 5.028589598385578,\n",
       " 4.972457607721138,\n",
       " 4.916849719396347,\n",
       " 7.2450975582128105]"
      ]
     },
     "execution_count": 191,
     "metadata": {},
     "output_type": "execute_result"
    }
   ],
   "source": [
    "# RMSE - XGBOOST_chain - TEST\n",
    "\n",
    "rmse_dE_TEST_chain_XGB = []\n",
    "for hour in range(0,hours):\n",
    "    rmse_dE_TEST_chain_XGB.append(np.sqrt(mean_squared_error(y_dE_TEST[hour],y_dE_TEST_pred_chain_XGB[hour])))\n",
    "rmse_dE_TEST_chain_XGB"
   ]
  },
  {
   "cell_type": "code",
   "execution_count": 192,
   "metadata": {
    "scrolled": true
   },
   "outputs": [
    {
     "data": {
      "text/plain": [
       "(0.3984277420838162, 5.510445430069029)"
      ]
     },
     "execution_count": 192,
     "metadata": {},
     "output_type": "execute_result"
    }
   ],
   "source": [
    "np.mean(mae_dE_TEST_chain_XGB), np.mean(rmse_dE_TEST_chain_XGB)"
   ]
  },
  {
   "cell_type": "code",
   "execution_count": 193,
   "metadata": {},
   "outputs": [],
   "source": [
    "# Direct wrapper and Chain wrapper seems to be very similar"
   ]
  },
  {
   "cell_type": "markdown",
   "metadata": {},
   "source": [
    "#### 4.2.2. XG-BOOST REGRESSION - CHAIN MULTI-OUTPUT WRAPPER APPROACH - SELECTING HYPERPARAMETERS"
   ]
  },
  {
   "cell_type": "code",
   "execution_count": 194,
   "metadata": {},
   "outputs": [],
   "source": [
    "# X tiene que ser X_TEST + X_VAL y el split según X_TEST / X_VAL"
   ]
  },
  {
   "cell_type": "code",
   "execution_count": 195,
   "metadata": {},
   "outputs": [],
   "source": [
    "from sklearn.model_selection import GridSearchCV\n",
    "\n",
    "#We are using the same Predefined Split as for Random Forest\n",
    "\n",
    "reg_XGB_grid = GridSearchCV(XGBRegressor(n_estimators=100),\n",
    "                  param_grid={\"max_depth\":np.arange(2,10),\n",
    "                             \"learning_rate\":np.arange(1,10)/10},\n",
    "                  scoring=\"neg_mean_absolute_error\",\n",
    "                  cv=ps)"
   ]
  },
  {
   "cell_type": "code",
   "execution_count": 196,
   "metadata": {},
   "outputs": [],
   "source": [
    "wrapper_chain_XGB_grid = RegressorChain(reg_XGB_grid, order=[0,1])"
   ]
  },
  {
   "cell_type": "code",
   "execution_count": null,
   "metadata": {},
   "outputs": [],
   "source": []
  },
  {
   "cell_type": "code",
   "execution_count": 197,
   "metadata": {},
   "outputs": [],
   "source": [
    "reg_chain_XGB_grid_fit_dE_TRAIN_VAL_pkl_names = []\n",
    "\n",
    "for hour in range(0,hours):    \n",
    "    model_name = pickle_path + unit + '_chain_XGB_grid_fit_dE_TRAIN_VAL_hour_' + str(hour+1) + '.pkl'\n",
    "    reg_chain_XGB_grid_fit_dE_TRAIN_VAL_pkl_names.append(model_name)\n",
    "    \n",
    "    #Lines commented because models have been stored already\n",
    "    chain_XGB_grid_fit_dE_TRAIN_VAL = wrapper_chain_XGB_grid.fit(X_dE_TRAIN_VAL[hour],y_dE_TRAIN_VAL[hour]) \n",
    "    pickle.dump(chain_XGB_grid_fit_dE_TRAIN_VAL, open(model_name, 'wb'))\n",
    "    \n",
    "\n",
    "y_dE_TEST_pred_chain_XGB_grid = []\n",
    "for hour in range(0,hours):\n",
    "    loaded_model = pickle.load(open(reg_chain_XGB_grid_fit_dE_TRAIN_VAL_pkl_names[hour], 'rb'))\n",
    "    y_dE_TEST_pred_chain_XGB_grid.append(loaded_model.predict(X_dE_TEST[hour]))"
   ]
  },
  {
   "cell_type": "code",
   "execution_count": null,
   "metadata": {},
   "outputs": [],
   "source": []
  },
  {
   "cell_type": "code",
   "execution_count": null,
   "metadata": {},
   "outputs": [],
   "source": []
  },
  {
   "cell_type": "code",
   "execution_count": 198,
   "metadata": {},
   "outputs": [
    {
     "data": {
      "text/plain": [
       "[0.4932339501052462,\n",
       " 0.44846476999662255,\n",
       " 0.45808613904060835,\n",
       " 0.3665435746280099,\n",
       " 0.3869767315549558,\n",
       " 0.41545557536104694,\n",
       " 0.42843923035648546,\n",
       " 0.40384690541253326,\n",
       " 0.37360453421229944,\n",
       " 0.44088948824232604,\n",
       " 0.3885555043007415,\n",
       " 0.5149122171504469]"
      ]
     },
     "execution_count": 198,
     "metadata": {},
     "output_type": "execute_result"
    }
   ],
   "source": [
    "from sklearn.metrics import mean_absolute_error, mean_squared_error\n",
    "\n",
    "# MAE - XGBOOST_chain - TEST\n",
    "mae_dE_TEST_chain_XGB_grid = []\n",
    "for hour in range(0,hours):\n",
    "    mae_dE_TEST_chain_XGB_grid.append(mean_absolute_error(y_dE_TEST[hour],y_dE_TEST_pred_chain_XGB_grid[hour]))\n",
    "mae_dE_TEST_chain_XGB_grid"
   ]
  },
  {
   "cell_type": "code",
   "execution_count": 199,
   "metadata": {},
   "outputs": [
    {
     "data": {
      "text/plain": [
       "[7.612264186316616,\n",
       " 5.285087137720951,\n",
       " 5.276073606537065,\n",
       " 5.220515041743091,\n",
       " 5.172064658099694,\n",
       " 5.137871679576182,\n",
       " 5.111654865392466,\n",
       " 5.067560410243103,\n",
       " 5.023340505832293,\n",
       " 4.994856193574195,\n",
       " 4.926149681585347,\n",
       " 7.50988076611754]"
      ]
     },
     "execution_count": 199,
     "metadata": {},
     "output_type": "execute_result"
    }
   ],
   "source": [
    "# RMSE - XGBOOST_chain - TEST\n",
    "\n",
    "rmse_dE_TEST_chain_XGB_grid = []\n",
    "for hour in range(0,hours):\n",
    "    rmse_dE_TEST_chain_XGB_grid.append(np.sqrt(mean_squared_error(y_dE_TEST[hour],y_dE_TEST_pred_chain_XGB_grid[hour])))\n",
    "rmse_dE_TEST_chain_XGB_grid"
   ]
  },
  {
   "cell_type": "code",
   "execution_count": 200,
   "metadata": {},
   "outputs": [
    {
     "data": {
      "text/plain": [
       "(0.4265840516967769, 5.528109894394878)"
      ]
     },
     "execution_count": 200,
     "metadata": {},
     "output_type": "execute_result"
    }
   ],
   "source": [
    "np.mean(mae_dE_TEST_chain_XGB_grid), np.mean(rmse_dE_TEST_chain_XGB_grid)"
   ]
  },
  {
   "cell_type": "code",
   "execution_count": 201,
   "metadata": {
    "scrolled": true
   },
   "outputs": [
    {
     "data": {
      "text/plain": [
       "(0.3984277420838162, 5.510445430069029)"
      ]
     },
     "execution_count": 201,
     "metadata": {},
     "output_type": "execute_result"
    }
   ],
   "source": [
    "np.mean(mae_dE_TEST_chain_XGB), np.mean(rmse_dE_TEST_chain_XGB)"
   ]
  },
  {
   "cell_type": "code",
   "execution_count": null,
   "metadata": {},
   "outputs": [],
   "source": []
  },
  {
   "cell_type": "code",
   "execution_count": null,
   "metadata": {},
   "outputs": [],
   "source": []
  },
  {
   "cell_type": "markdown",
   "metadata": {},
   "source": [
    "### 5. NEW METRIC CALCULATION: PERIOD CURVE AREA ERROR\n",
    "\n",
    "In this section a curve area calculation per each period will be calculated in order to compare the original curve and the predicted one.\n",
    "\n",
    "Area curve will have money (€) units and it will give good information about the model precision.\n",
    "\n",
    "Four different cuve areas will be calculated:\n",
    "\n",
    "+ Total curve area: A_tot\n",
    "+ Area when Price is maximum: A_max\n",
    "+ Area when Price is minimum: A_min\n",
    "+ Celtral Area: A_cen = A_tot - A_max - A_min\n",
    "\n",
    "#### NOTE: Calculating extreme areas when blocks are less than 2 is not possible, so it is checked only when using a complete dataframe (all blocks for all periods).\n",
    "\n",
    "Extreme areas (when Price is maximum or minimum) can introduce a lot of error in the metric that cound be not very relevant for the objective of the project: since it is not very probably that extreme cases are chosen, the real effective zone for the purpose of the project is to predict well the central part of the curve."
   ]
  },
  {
   "cell_type": "markdown",
   "metadata": {},
   "source": [
    "#### TOTAL CURVE AREA METRIC\n",
    "\n",
    "Different metrics based on curve area can be defined:\n",
    "\n",
    "* Difference of the total curve area between y_dE and y_dE_pred (absolute and relative)\n",
    "* Total absolute difference between y_dE and y_dE_pred (absolute and relative)"
   ]
  },
  {
   "cell_type": "code",
   "execution_count": 202,
   "metadata": {},
   "outputs": [],
   "source": [
    "#DIFFERENCE OF THE TOTAL CURVE AREAS & TOTAL ABSOLUTE DIFFERENCE OF y_dE and y_dE_pred\n",
    "\n",
    "def area_pred_curve_summary(y, y_pred):\n",
    "    \n",
    "    y_TEST_area_tot = []\n",
    "    y_area_tot_diff_TEST_abs = []\n",
    "    y_area_tot_diff_TEST_rel = []\n",
    "\n",
    "    y_TEST_area = []\n",
    "    y_area_diff_TEST_abs = []\n",
    "    y_area_diff_TEST_rel = []\n",
    "    \n",
    "    hours = len(y)\n",
    "    \n",
    "    for hour in range(0, hours):\n",
    "\n",
    "        y_dE_TEST_area = (y[hour][:,0]*y[hour][:,1])\n",
    "        y_dE_TEST_pred_area = (y_pred[hour][:,0]*y_pred[hour][:,1])\n",
    "        area_diff_TEST_abs = abs(y_dE_TEST_area - y_dE_TEST_pred_area).sum() #Total Absolute Area Differences\n",
    "\n",
    "        y_dE_TEST_area_tot = y_dE_TEST_area.sum() #Total area for the whole set period, for each hour \n",
    "        y_dE_TEST_pred_area_tot = y_dE_TEST_pred_area.sum()\n",
    "        area_tot_diff_TEST_abs = (y_dE_TEST_area_tot - y_dE_TEST_pred_area_tot) #Total Differences of Total Areas\n",
    "\n",
    "        #Relative area difference\n",
    "        area_diff_TEST_rel = (area_diff_TEST_abs / y_dE_TEST_area_tot) * 100\n",
    "        area_tot_diff_TEST_rel = (area_tot_diff_TEST_abs / y_dE_TEST_area_tot) * 100\n",
    "\n",
    "        y_area_diff_TEST_abs.append(area_diff_TEST_abs)\n",
    "        y_area_diff_TEST_rel.append(area_diff_TEST_rel)\n",
    "\n",
    "        y_TEST_area_tot.append(y_dE_TEST_area_tot)\n",
    "        y_area_tot_diff_TEST_abs.append(area_tot_diff_TEST_abs)\n",
    "        y_area_tot_diff_TEST_rel.append(area_tot_diff_TEST_rel)\n",
    "\n",
    "    df_y_TEST_area_summary = pd.DataFrame({'Area_tot(€)': y_TEST_area_tot,\n",
    "                  'Area_diff_abs(€)': y_area_diff_TEST_abs, \n",
    "                  'Area_diff_rel(%)': y_area_diff_TEST_rel,\n",
    "                  'Area_tot_diff_abs(€)': y_area_tot_diff_TEST_abs, \n",
    "                  'Area_tot_diff_rel(%)': y_area_tot_diff_TEST_rel})\n",
    "    \n",
    "    return df_y_TEST_area_summary"
   ]
  },
  {
   "cell_type": "code",
   "execution_count": 203,
   "metadata": {},
   "outputs": [
    {
     "data": {
      "text/html": [
       "<div>\n",
       "<style scoped>\n",
       "    .dataframe tbody tr th:only-of-type {\n",
       "        vertical-align: middle;\n",
       "    }\n",
       "\n",
       "    .dataframe tbody tr th {\n",
       "        vertical-align: top;\n",
       "    }\n",
       "\n",
       "    .dataframe thead th {\n",
       "        text-align: right;\n",
       "    }\n",
       "</style>\n",
       "<table border=\"1\" class=\"dataframe\">\n",
       "  <thead>\n",
       "    <tr style=\"text-align: right;\">\n",
       "      <th></th>\n",
       "      <th>Area_tot(€)</th>\n",
       "      <th>Area_diff_abs(€)</th>\n",
       "      <th>Area_diff_rel(%)</th>\n",
       "      <th>Area_tot_diff_abs(€)</th>\n",
       "      <th>Area_tot_diff_rel(%)</th>\n",
       "    </tr>\n",
       "  </thead>\n",
       "  <tbody>\n",
       "    <tr>\n",
       "      <th>0</th>\n",
       "      <td>126,147.55</td>\n",
       "      <td>2,943.99</td>\n",
       "      <td>2.33</td>\n",
       "      <td>-2,591.91</td>\n",
       "      <td>-2.05</td>\n",
       "    </tr>\n",
       "    <tr>\n",
       "      <th>1</th>\n",
       "      <td>301,273.15</td>\n",
       "      <td>6,107.62</td>\n",
       "      <td>2.03</td>\n",
       "      <td>-1,070.33</td>\n",
       "      <td>-0.36</td>\n",
       "    </tr>\n",
       "    <tr>\n",
       "      <th>2</th>\n",
       "      <td>307,771.74</td>\n",
       "      <td>6,455.04</td>\n",
       "      <td>2.10</td>\n",
       "      <td>-1,827.84</td>\n",
       "      <td>-0.59</td>\n",
       "    </tr>\n",
       "    <tr>\n",
       "      <th>3</th>\n",
       "      <td>314,305.69</td>\n",
       "      <td>6,037.52</td>\n",
       "      <td>1.92</td>\n",
       "      <td>746.94</td>\n",
       "      <td>0.24</td>\n",
       "    </tr>\n",
       "    <tr>\n",
       "      <th>4</th>\n",
       "      <td>317,316.68</td>\n",
       "      <td>6,619.25</td>\n",
       "      <td>2.09</td>\n",
       "      <td>615.75</td>\n",
       "      <td>0.19</td>\n",
       "    </tr>\n",
       "    <tr>\n",
       "      <th>5</th>\n",
       "      <td>313,261.38</td>\n",
       "      <td>5,635.69</td>\n",
       "      <td>1.80</td>\n",
       "      <td>-1,188.65</td>\n",
       "      <td>-0.38</td>\n",
       "    </tr>\n",
       "    <tr>\n",
       "      <th>6</th>\n",
       "      <td>319,395.49</td>\n",
       "      <td>7,794.76</td>\n",
       "      <td>2.44</td>\n",
       "      <td>483.17</td>\n",
       "      <td>0.15</td>\n",
       "    </tr>\n",
       "    <tr>\n",
       "      <th>7</th>\n",
       "      <td>325,537.25</td>\n",
       "      <td>5,974.71</td>\n",
       "      <td>1.84</td>\n",
       "      <td>1,353.43</td>\n",
       "      <td>0.42</td>\n",
       "    </tr>\n",
       "    <tr>\n",
       "      <th>8</th>\n",
       "      <td>335,576.26</td>\n",
       "      <td>7,187.40</td>\n",
       "      <td>2.14</td>\n",
       "      <td>38.20</td>\n",
       "      <td>0.01</td>\n",
       "    </tr>\n",
       "    <tr>\n",
       "      <th>9</th>\n",
       "      <td>345,679.02</td>\n",
       "      <td>6,535.66</td>\n",
       "      <td>1.89</td>\n",
       "      <td>-1,732.37</td>\n",
       "      <td>-0.50</td>\n",
       "    </tr>\n",
       "    <tr>\n",
       "      <th>10</th>\n",
       "      <td>359,719.83</td>\n",
       "      <td>6,924.87</td>\n",
       "      <td>1.93</td>\n",
       "      <td>-2,211.84</td>\n",
       "      <td>-0.61</td>\n",
       "    </tr>\n",
       "    <tr>\n",
       "      <th>11</th>\n",
       "      <td>18,091,374.12</td>\n",
       "      <td>142,122.91</td>\n",
       "      <td>0.79</td>\n",
       "      <td>-2,746.45</td>\n",
       "      <td>-0.02</td>\n",
       "    </tr>\n",
       "  </tbody>\n",
       "</table>\n",
       "</div>"
      ],
      "text/plain": [
       "     Area_tot(€)  Area_diff_abs(€)  Area_diff_rel(%)  Area_tot_diff_abs(€)  \\\n",
       "0     126,147.55          2,943.99              2.33             -2,591.91   \n",
       "1     301,273.15          6,107.62              2.03             -1,070.33   \n",
       "2     307,771.74          6,455.04              2.10             -1,827.84   \n",
       "3     314,305.69          6,037.52              1.92                746.94   \n",
       "4     317,316.68          6,619.25              2.09                615.75   \n",
       "5     313,261.38          5,635.69              1.80             -1,188.65   \n",
       "6     319,395.49          7,794.76              2.44                483.17   \n",
       "7     325,537.25          5,974.71              1.84              1,353.43   \n",
       "8     335,576.26          7,187.40              2.14                 38.20   \n",
       "9     345,679.02          6,535.66              1.89             -1,732.37   \n",
       "10    359,719.83          6,924.87              1.93             -2,211.84   \n",
       "11 18,091,374.12        142,122.91              0.79             -2,746.45   \n",
       "\n",
       "    Area_tot_diff_rel(%)  \n",
       "0                  -2.05  \n",
       "1                  -0.36  \n",
       "2                  -0.59  \n",
       "3                   0.24  \n",
       "4                   0.19  \n",
       "5                  -0.38  \n",
       "6                   0.15  \n",
       "7                   0.42  \n",
       "8                   0.01  \n",
       "9                  -0.50  \n",
       "10                 -0.61  \n",
       "11                 -0.02  "
      ]
     },
     "execution_count": 203,
     "metadata": {},
     "output_type": "execute_result"
    }
   ],
   "source": [
    "df_y_TEST_area_pred_rf_grid_summary = area_pred_curve_summary(y_dE_TEST, y_dE_TEST_pred_rf_grid)\n",
    "df_y_TEST_area_pred_rf_grid_summary"
   ]
  },
  {
   "cell_type": "code",
   "execution_count": 204,
   "metadata": {},
   "outputs": [],
   "source": [
    "# It can be seen that the bidding area for hours from 10 to 24 is the same, so the bid is the same \n",
    "# for 15 hours per day --> Possibility of reducing models???"
   ]
  },
  {
   "cell_type": "code",
   "execution_count": 205,
   "metadata": {
    "scrolled": false
   },
   "outputs": [
    {
     "data": {
      "text/html": [
       "<div>\n",
       "<style scoped>\n",
       "    .dataframe tbody tr th:only-of-type {\n",
       "        vertical-align: middle;\n",
       "    }\n",
       "\n",
       "    .dataframe tbody tr th {\n",
       "        vertical-align: top;\n",
       "    }\n",
       "\n",
       "    .dataframe thead th {\n",
       "        text-align: right;\n",
       "    }\n",
       "</style>\n",
       "<table border=\"1\" class=\"dataframe\">\n",
       "  <thead>\n",
       "    <tr style=\"text-align: right;\">\n",
       "      <th></th>\n",
       "      <th>Area_tot(€)</th>\n",
       "      <th>Area_diff_abs(€)</th>\n",
       "      <th>Area_diff_rel(%)</th>\n",
       "      <th>Area_tot_diff_abs(€)</th>\n",
       "      <th>Area_tot_diff_rel(%)</th>\n",
       "    </tr>\n",
       "  </thead>\n",
       "  <tbody>\n",
       "    <tr>\n",
       "      <th>0</th>\n",
       "      <td>126,147.55</td>\n",
       "      <td>419.96</td>\n",
       "      <td>0.33</td>\n",
       "      <td>9.44</td>\n",
       "      <td>0.01</td>\n",
       "    </tr>\n",
       "    <tr>\n",
       "      <th>1</th>\n",
       "      <td>301,273.15</td>\n",
       "      <td>6,241.03</td>\n",
       "      <td>2.07</td>\n",
       "      <td>-916.29</td>\n",
       "      <td>-0.30</td>\n",
       "    </tr>\n",
       "    <tr>\n",
       "      <th>2</th>\n",
       "      <td>307,771.74</td>\n",
       "      <td>6,715.60</td>\n",
       "      <td>2.18</td>\n",
       "      <td>-2,014.65</td>\n",
       "      <td>-0.65</td>\n",
       "    </tr>\n",
       "    <tr>\n",
       "      <th>3</th>\n",
       "      <td>314,305.69</td>\n",
       "      <td>5,997.74</td>\n",
       "      <td>1.91</td>\n",
       "      <td>1,202.46</td>\n",
       "      <td>0.38</td>\n",
       "    </tr>\n",
       "    <tr>\n",
       "      <th>4</th>\n",
       "      <td>317,316.68</td>\n",
       "      <td>6,225.87</td>\n",
       "      <td>1.96</td>\n",
       "      <td>1,622.10</td>\n",
       "      <td>0.51</td>\n",
       "    </tr>\n",
       "    <tr>\n",
       "      <th>5</th>\n",
       "      <td>313,261.38</td>\n",
       "      <td>6,286.10</td>\n",
       "      <td>2.01</td>\n",
       "      <td>-1,862.93</td>\n",
       "      <td>-0.59</td>\n",
       "    </tr>\n",
       "    <tr>\n",
       "      <th>6</th>\n",
       "      <td>319,395.49</td>\n",
       "      <td>8,497.16</td>\n",
       "      <td>2.66</td>\n",
       "      <td>861.26</td>\n",
       "      <td>0.27</td>\n",
       "    </tr>\n",
       "    <tr>\n",
       "      <th>7</th>\n",
       "      <td>325,537.25</td>\n",
       "      <td>5,678.23</td>\n",
       "      <td>1.74</td>\n",
       "      <td>1,604.60</td>\n",
       "      <td>0.49</td>\n",
       "    </tr>\n",
       "    <tr>\n",
       "      <th>8</th>\n",
       "      <td>335,576.26</td>\n",
       "      <td>8,284.47</td>\n",
       "      <td>2.47</td>\n",
       "      <td>556.53</td>\n",
       "      <td>0.17</td>\n",
       "    </tr>\n",
       "    <tr>\n",
       "      <th>9</th>\n",
       "      <td>345,679.02</td>\n",
       "      <td>6,942.08</td>\n",
       "      <td>2.01</td>\n",
       "      <td>-2,146.59</td>\n",
       "      <td>-0.62</td>\n",
       "    </tr>\n",
       "    <tr>\n",
       "      <th>10</th>\n",
       "      <td>359,719.83</td>\n",
       "      <td>8,081.50</td>\n",
       "      <td>2.25</td>\n",
       "      <td>-3,366.77</td>\n",
       "      <td>-0.94</td>\n",
       "    </tr>\n",
       "    <tr>\n",
       "      <th>11</th>\n",
       "      <td>18,091,374.12</td>\n",
       "      <td>129,689.79</td>\n",
       "      <td>0.72</td>\n",
       "      <td>-504.84</td>\n",
       "      <td>-0.00</td>\n",
       "    </tr>\n",
       "  </tbody>\n",
       "</table>\n",
       "</div>"
      ],
      "text/plain": [
       "     Area_tot(€)  Area_diff_abs(€)  Area_diff_rel(%)  Area_tot_diff_abs(€)  \\\n",
       "0     126,147.55            419.96              0.33                  9.44   \n",
       "1     301,273.15          6,241.03              2.07               -916.29   \n",
       "2     307,771.74          6,715.60              2.18             -2,014.65   \n",
       "3     314,305.69          5,997.74              1.91              1,202.46   \n",
       "4     317,316.68          6,225.87              1.96              1,622.10   \n",
       "5     313,261.38          6,286.10              2.01             -1,862.93   \n",
       "6     319,395.49          8,497.16              2.66                861.26   \n",
       "7     325,537.25          5,678.23              1.74              1,604.60   \n",
       "8     335,576.26          8,284.47              2.47                556.53   \n",
       "9     345,679.02          6,942.08              2.01             -2,146.59   \n",
       "10    359,719.83          8,081.50              2.25             -3,366.77   \n",
       "11 18,091,374.12        129,689.79              0.72               -504.84   \n",
       "\n",
       "    Area_tot_diff_rel(%)  \n",
       "0                   0.01  \n",
       "1                  -0.30  \n",
       "2                  -0.65  \n",
       "3                   0.38  \n",
       "4                   0.51  \n",
       "5                  -0.59  \n",
       "6                   0.27  \n",
       "7                   0.49  \n",
       "8                   0.17  \n",
       "9                  -0.62  \n",
       "10                 -0.94  \n",
       "11                 -0.00  "
      ]
     },
     "execution_count": 205,
     "metadata": {},
     "output_type": "execute_result"
    }
   ],
   "source": [
    "df_y_TEST_area_pred_rf_summary = area_pred_curve_summary(y_dE_TEST, y_dE_TEST_pred_rf)\n",
    "df_y_TEST_area_pred_rf_summary"
   ]
  },
  {
   "cell_type": "code",
   "execution_count": 206,
   "metadata": {},
   "outputs": [],
   "source": [
    "#INCLUDE HERE MORE INFORMATION FROM THE TABLE & GRAPHICS"
   ]
  },
  {
   "cell_type": "code",
   "execution_count": 207,
   "metadata": {},
   "outputs": [],
   "source": [
    "#List of df with the comparison of real data and prediction for every hour.\n",
    "#Returning a complete df for all predictions\n",
    "\n",
    "def df_pred_summary(y, y_pred):\n",
    "\n",
    "    df_pred_summary = []\n",
    "    \n",
    "    hours = len(y)\n",
    "\n",
    "    for hour in range(0, hours):\n",
    "\n",
    "        df_pred = pd.DataFrame(np.concatenate([y[hour],y_pred[hour]],axis=1), \n",
    "                                       columns= ['dE','Price','dE_pred','Price_pred'])\n",
    "        df_pred['dE_diff'] = df_pred['dE'] - df_pred['dE_pred']\n",
    "        df_pred['Price_diff'] = df_pred['Price'] - df_pred['Price_pred']\n",
    "        df_pred['Area'] = df_pred['dE'] * df_pred['Price']\n",
    "        df_pred['Area_pred'] = df_pred['dE_pred'] * df_pred['Price_pred']\n",
    "        df_pred['Area_diff'] = df_pred['Area'] - df_pred['Area_pred']\n",
    "        df_pred['Area_diff_rel(%)'] = df_pred['Area_diff']/df_pred['Area']*100\n",
    "        df_pred['Period'] = hour + 1\n",
    "        \n",
    "        df_pred_summary.append(df_pred)\n",
    "\n",
    "    # Creating a df with all the comparisons (to be able to retreive info easily)\n",
    "\n",
    "    df_y_pred_summary = pd.DataFrame()\n",
    "\n",
    "    for hour in range(0, len(df_pred_summary)):\n",
    "        df_y_pred_summary = pd.concat([df_y_pred_summary,df_pred_summary[hour]])\n",
    "        \n",
    "    df_y_pred_summary.fillna(0,inplace=True)\n",
    "    df_y_pred_summary.reset_index(drop=True,inplace=True)\n",
    "        \n",
    "    return df_y_pred_summary"
   ]
  },
  {
   "cell_type": "code",
   "execution_count": null,
   "metadata": {},
   "outputs": [],
   "source": []
  },
  {
   "cell_type": "code",
   "execution_count": 208,
   "metadata": {},
   "outputs": [],
   "source": [
    "df_TEST_pred_rf_summary  = df_pred_summary(y_dE_TEST, y_dE_TEST_pred_rf)"
   ]
  },
  {
   "cell_type": "code",
   "execution_count": 209,
   "metadata": {},
   "outputs": [
    {
     "data": {
      "text/html": [
       "<div>\n",
       "<style scoped>\n",
       "    .dataframe tbody tr th:only-of-type {\n",
       "        vertical-align: middle;\n",
       "    }\n",
       "\n",
       "    .dataframe tbody tr th {\n",
       "        vertical-align: top;\n",
       "    }\n",
       "\n",
       "    .dataframe thead th {\n",
       "        text-align: right;\n",
       "    }\n",
       "</style>\n",
       "<table border=\"1\" class=\"dataframe\">\n",
       "  <thead>\n",
       "    <tr style=\"text-align: right;\">\n",
       "      <th></th>\n",
       "      <th>dE</th>\n",
       "      <th>Price</th>\n",
       "      <th>dE_pred</th>\n",
       "      <th>Price_pred</th>\n",
       "      <th>dE_diff</th>\n",
       "      <th>Price_diff</th>\n",
       "      <th>Area</th>\n",
       "      <th>Area_pred</th>\n",
       "      <th>Area_diff</th>\n",
       "      <th>Area_diff_rel(%)</th>\n",
       "      <th>Period</th>\n",
       "    </tr>\n",
       "  </thead>\n",
       "  <tbody>\n",
       "    <tr>\n",
       "      <th>7304</th>\n",
       "      <td>0.00</td>\n",
       "      <td>180.30</td>\n",
       "      <td>13.43</td>\n",
       "      <td>75.12</td>\n",
       "      <td>-13.43</td>\n",
       "      <td>105.18</td>\n",
       "      <td>0.00</td>\n",
       "      <td>1,008.85</td>\n",
       "      <td>-1,008.85</td>\n",
       "      <td>-inf</td>\n",
       "      <td>10</td>\n",
       "    </tr>\n",
       "  </tbody>\n",
       "</table>\n",
       "</div>"
      ],
      "text/plain": [
       "       dE  Price  dE_pred  Price_pred  dE_diff  Price_diff  Area  Area_pred  \\\n",
       "7304 0.00 180.30    13.43       75.12   -13.43      105.18  0.00   1,008.85   \n",
       "\n",
       "      Area_diff  Area_diff_rel(%)  Period  \n",
       "7304  -1,008.85              -inf      10  "
      ]
     },
     "execution_count": 209,
     "metadata": {},
     "output_type": "execute_result"
    }
   ],
   "source": [
    "df_TEST_pred_rf_summary[(df_TEST_pred_rf_summary['Period']==10) & (df_TEST_pred_rf_summary['dE_diff']<-2)]"
   ]
  },
  {
   "cell_type": "code",
   "execution_count": 210,
   "metadata": {},
   "outputs": [
    {
     "data": {
      "text/html": [
       "<div>\n",
       "<style scoped>\n",
       "    .dataframe tbody tr th:only-of-type {\n",
       "        vertical-align: middle;\n",
       "    }\n",
       "\n",
       "    .dataframe tbody tr th {\n",
       "        vertical-align: top;\n",
       "    }\n",
       "\n",
       "    .dataframe thead th {\n",
       "        text-align: right;\n",
       "    }\n",
       "</style>\n",
       "<table border=\"1\" class=\"dataframe\">\n",
       "  <thead>\n",
       "    <tr style=\"text-align: right;\">\n",
       "      <th></th>\n",
       "      <th>dE</th>\n",
       "      <th>Price</th>\n",
       "      <th>dE_pred</th>\n",
       "      <th>Price_pred</th>\n",
       "      <th>dE_diff</th>\n",
       "      <th>Price_diff</th>\n",
       "      <th>Area</th>\n",
       "      <th>Area_pred</th>\n",
       "      <th>Area_diff</th>\n",
       "      <th>Area_diff_rel(%)</th>\n",
       "      <th>Period</th>\n",
       "    </tr>\n",
       "  </thead>\n",
       "  <tbody>\n",
       "    <tr>\n",
       "      <th>count</th>\n",
       "      <td>8,928.00</td>\n",
       "      <td>8,928.00</td>\n",
       "      <td>8,928.00</td>\n",
       "      <td>8,928.00</td>\n",
       "      <td>8,928.00</td>\n",
       "      <td>8,928.00</td>\n",
       "      <td>8,928.00</td>\n",
       "      <td>8,928.00</td>\n",
       "      <td>8,928.00</td>\n",
       "      <td>8,928.00</td>\n",
       "      <td>8,928.00</td>\n",
       "    </tr>\n",
       "    <tr>\n",
       "      <th>mean</th>\n",
       "      <td>32.84</td>\n",
       "      <td>91.97</td>\n",
       "      <td>32.84</td>\n",
       "      <td>92.01</td>\n",
       "      <td>0.00</td>\n",
       "      <td>-0.03</td>\n",
       "      <td>2,403.38</td>\n",
       "      <td>2,403.93</td>\n",
       "      <td>-0.56</td>\n",
       "      <td>-inf</td>\n",
       "      <td>6.50</td>\n",
       "    </tr>\n",
       "    <tr>\n",
       "      <th>std</th>\n",
       "      <td>66.57</td>\n",
       "      <td>71.52</td>\n",
       "      <td>66.57</td>\n",
       "      <td>71.50</td>\n",
       "      <td>3.40</td>\n",
       "      <td>6.87</td>\n",
       "      <td>9,802.31</td>\n",
       "      <td>9,802.63</td>\n",
       "      <td>520.26</td>\n",
       "      <td>nan</td>\n",
       "      <td>3.45</td>\n",
       "    </tr>\n",
       "    <tr>\n",
       "      <th>min</th>\n",
       "      <td>0.00</td>\n",
       "      <td>1.13</td>\n",
       "      <td>0.00</td>\n",
       "      <td>1.13</td>\n",
       "      <td>-135.00</td>\n",
       "      <td>-179.17</td>\n",
       "      <td>0.00</td>\n",
       "      <td>0.00</td>\n",
       "      <td>-24,340.50</td>\n",
       "      <td>-inf</td>\n",
       "      <td>1.00</td>\n",
       "    </tr>\n",
       "    <tr>\n",
       "      <th>25%</th>\n",
       "      <td>0.00</td>\n",
       "      <td>37.64</td>\n",
       "      <td>0.00</td>\n",
       "      <td>37.53</td>\n",
       "      <td>0.00</td>\n",
       "      <td>-0.08</td>\n",
       "      <td>0.00</td>\n",
       "      <td>0.00</td>\n",
       "      <td>-1.31</td>\n",
       "      <td>-0.19</td>\n",
       "      <td>3.75</td>\n",
       "    </tr>\n",
       "    <tr>\n",
       "      <th>50%</th>\n",
       "      <td>17.00</td>\n",
       "      <td>42.81</td>\n",
       "      <td>17.00</td>\n",
       "      <td>43.14</td>\n",
       "      <td>0.00</td>\n",
       "      <td>0.00</td>\n",
       "      <td>619.99</td>\n",
       "      <td>623.41</td>\n",
       "      <td>0.00</td>\n",
       "      <td>0.00</td>\n",
       "      <td>6.50</td>\n",
       "    </tr>\n",
       "    <tr>\n",
       "      <th>75%</th>\n",
       "      <td>17.00</td>\n",
       "      <td>180.30</td>\n",
       "      <td>17.00</td>\n",
       "      <td>180.30</td>\n",
       "      <td>0.00</td>\n",
       "      <td>0.00</td>\n",
       "      <td>706.35</td>\n",
       "      <td>705.08</td>\n",
       "      <td>0.00</td>\n",
       "      <td>0.00</td>\n",
       "      <td>9.25</td>\n",
       "    </tr>\n",
       "    <tr>\n",
       "      <th>max</th>\n",
       "      <td>394.10</td>\n",
       "      <td>180.30</td>\n",
       "      <td>394.10</td>\n",
       "      <td>180.30</td>\n",
       "      <td>137.75</td>\n",
       "      <td>179.17</td>\n",
       "      <td>71,056.23</td>\n",
       "      <td>71,056.23</td>\n",
       "      <td>24,836.33</td>\n",
       "      <td>100.00</td>\n",
       "      <td>12.00</td>\n",
       "    </tr>\n",
       "  </tbody>\n",
       "</table>\n",
       "</div>"
      ],
      "text/plain": [
       "            dE    Price  dE_pred  Price_pred  dE_diff  Price_diff      Area  \\\n",
       "count 8,928.00 8,928.00 8,928.00    8,928.00 8,928.00    8,928.00  8,928.00   \n",
       "mean     32.84    91.97    32.84       92.01     0.00       -0.03  2,403.38   \n",
       "std      66.57    71.52    66.57       71.50     3.40        6.87  9,802.31   \n",
       "min       0.00     1.13     0.00        1.13  -135.00     -179.17      0.00   \n",
       "25%       0.00    37.64     0.00       37.53     0.00       -0.08      0.00   \n",
       "50%      17.00    42.81    17.00       43.14     0.00        0.00    619.99   \n",
       "75%      17.00   180.30    17.00      180.30     0.00        0.00    706.35   \n",
       "max     394.10   180.30   394.10      180.30   137.75      179.17 71,056.23   \n",
       "\n",
       "       Area_pred  Area_diff  Area_diff_rel(%)   Period  \n",
       "count   8,928.00   8,928.00          8,928.00 8,928.00  \n",
       "mean    2,403.93      -0.56              -inf     6.50  \n",
       "std     9,802.63     520.26               nan     3.45  \n",
       "min         0.00 -24,340.50              -inf     1.00  \n",
       "25%         0.00      -1.31             -0.19     3.75  \n",
       "50%       623.41       0.00              0.00     6.50  \n",
       "75%       705.08       0.00              0.00     9.25  \n",
       "max    71,056.23  24,836.33            100.00    12.00  "
      ]
     },
     "execution_count": 210,
     "metadata": {},
     "output_type": "execute_result"
    }
   ],
   "source": [
    "df_TEST_pred_rf_summary.describe()"
   ]
  },
  {
   "cell_type": "code",
   "execution_count": null,
   "metadata": {},
   "outputs": [],
   "source": []
  },
  {
   "cell_type": "code",
   "execution_count": 211,
   "metadata": {},
   "outputs": [
    {
     "data": {
      "text/plain": [
       "-0.5550705831232754"
      ]
     },
     "execution_count": 211,
     "metadata": {},
     "output_type": "execute_result"
    }
   ],
   "source": [
    "df_TEST_pred_rf_summary['Area_diff'].mean()"
   ]
  },
  {
   "cell_type": "code",
   "execution_count": 212,
   "metadata": {},
   "outputs": [
    {
     "data": {
      "text/plain": [
       "(-0.5550705831232754, -0.023095434811554332)"
      ]
     },
     "execution_count": 212,
     "metadata": {},
     "output_type": "execute_result"
    }
   ],
   "source": [
    "Area_pred_mean_error_TEST = df_TEST_pred_rf_summary['Area_diff'].mean()\n",
    "Area_pred_mean_error_TEST_rel = df_TEST_pred_rf_summary['Area_diff'].mean() / df_TEST_pred_rf_summary['Area'].mean() * 100\n",
    "Area_pred_mean_error_TEST, Area_pred_mean_error_TEST_rel"
   ]
  },
  {
   "cell_type": "code",
   "execution_count": 213,
   "metadata": {},
   "outputs": [
    {
     "data": {
      "text/plain": [
       "22.29609452309002"
      ]
     },
     "execution_count": 213,
     "metadata": {},
     "output_type": "execute_result"
    }
   ],
   "source": [
    "#MAE for Area and Area_pred\n",
    "\n",
    "mae_area_pred_TEST = mean_absolute_error(df_TEST_pred_rf_summary['Area'],df_TEST_pred_rf_summary['Area_pred'])\n",
    "mae_area_pred_TEST"
   ]
  },
  {
   "cell_type": "code",
   "execution_count": 214,
   "metadata": {},
   "outputs": [
    {
     "data": {
      "text/plain": [
       "520.2329417766805"
      ]
     },
     "execution_count": 214,
     "metadata": {},
     "output_type": "execute_result"
    }
   ],
   "source": [
    "#RMSE for Area and Area_pred\n",
    "\n",
    "rmse_area_pred_TEST = (np.sqrt(mean_squared_error(df_TEST_pred_rf_summary['Area'],df_TEST_pred_rf_summary['Area_pred'])))\n",
    "rmse_area_pred_TEST"
   ]
  },
  {
   "cell_type": "code",
   "execution_count": null,
   "metadata": {},
   "outputs": [],
   "source": []
  },
  {
   "cell_type": "code",
   "execution_count": 215,
   "metadata": {
    "scrolled": true
   },
   "outputs": [
    {
     "data": {
      "text/html": [
       "<div>\n",
       "<style scoped>\n",
       "    .dataframe tbody tr th:only-of-type {\n",
       "        vertical-align: middle;\n",
       "    }\n",
       "\n",
       "    .dataframe tbody tr th {\n",
       "        vertical-align: top;\n",
       "    }\n",
       "\n",
       "    .dataframe thead th {\n",
       "        text-align: right;\n",
       "    }\n",
       "</style>\n",
       "<table border=\"1\" class=\"dataframe\">\n",
       "  <thead>\n",
       "    <tr style=\"text-align: right;\">\n",
       "      <th></th>\n",
       "      <th>dE</th>\n",
       "      <th>Price</th>\n",
       "      <th>dE_pred</th>\n",
       "      <th>Price_pred</th>\n",
       "      <th>dE_diff</th>\n",
       "      <th>Price_diff</th>\n",
       "      <th>Area</th>\n",
       "      <th>Area_pred</th>\n",
       "      <th>Area_diff</th>\n",
       "      <th>Area_diff_rel(%)</th>\n",
       "      <th>Period</th>\n",
       "    </tr>\n",
       "  </thead>\n",
       "  <tbody>\n",
       "    <tr>\n",
       "      <th>578</th>\n",
       "      <td>75.00</td>\n",
       "      <td>1.13</td>\n",
       "      <td>0.00</td>\n",
       "      <td>180.30</td>\n",
       "      <td>75.00</td>\n",
       "      <td>-179.17</td>\n",
       "      <td>84.75</td>\n",
       "      <td>0.00</td>\n",
       "      <td>84.75</td>\n",
       "      <td>100.00</td>\n",
       "      <td>1</td>\n",
       "    </tr>\n",
       "    <tr>\n",
       "      <th>602</th>\n",
       "      <td>0.00</td>\n",
       "      <td>180.30</td>\n",
       "      <td>66.65</td>\n",
       "      <td>1.13</td>\n",
       "      <td>-66.65</td>\n",
       "      <td>179.17</td>\n",
       "      <td>0.00</td>\n",
       "      <td>75.31</td>\n",
       "      <td>-75.31</td>\n",
       "      <td>-inf</td>\n",
       "      <td>1</td>\n",
       "    </tr>\n",
       "    <tr>\n",
       "      <th>1327</th>\n",
       "      <td>17.00</td>\n",
       "      <td>38.27</td>\n",
       "      <td>0.00</td>\n",
       "      <td>180.30</td>\n",
       "      <td>17.00</td>\n",
       "      <td>-142.03</td>\n",
       "      <td>650.59</td>\n",
       "      <td>0.00</td>\n",
       "      <td>650.59</td>\n",
       "      <td>100.00</td>\n",
       "      <td>2</td>\n",
       "    </tr>\n",
       "    <tr>\n",
       "      <th>1351</th>\n",
       "      <td>0.00</td>\n",
       "      <td>180.30</td>\n",
       "      <td>15.64</td>\n",
       "      <td>50.07</td>\n",
       "      <td>-15.64</td>\n",
       "      <td>130.23</td>\n",
       "      <td>0.00</td>\n",
       "      <td>783.07</td>\n",
       "      <td>-783.07</td>\n",
       "      <td>-inf</td>\n",
       "      <td>2</td>\n",
       "    </tr>\n",
       "    <tr>\n",
       "      <th>2071</th>\n",
       "      <td>17.00</td>\n",
       "      <td>39.10</td>\n",
       "      <td>0.00</td>\n",
       "      <td>180.30</td>\n",
       "      <td>17.00</td>\n",
       "      <td>-141.20</td>\n",
       "      <td>664.70</td>\n",
       "      <td>0.00</td>\n",
       "      <td>664.70</td>\n",
       "      <td>100.00</td>\n",
       "      <td>3</td>\n",
       "    </tr>\n",
       "    <tr>\n",
       "      <th>2095</th>\n",
       "      <td>0.00</td>\n",
       "      <td>180.30</td>\n",
       "      <td>15.13</td>\n",
       "      <td>55.10</td>\n",
       "      <td>-15.13</td>\n",
       "      <td>125.20</td>\n",
       "      <td>0.00</td>\n",
       "      <td>833.64</td>\n",
       "      <td>-833.64</td>\n",
       "      <td>-inf</td>\n",
       "      <td>3</td>\n",
       "    </tr>\n",
       "    <tr>\n",
       "      <th>2815</th>\n",
       "      <td>17.00</td>\n",
       "      <td>39.93</td>\n",
       "      <td>0.00</td>\n",
       "      <td>180.30</td>\n",
       "      <td>17.00</td>\n",
       "      <td>-140.37</td>\n",
       "      <td>678.81</td>\n",
       "      <td>0.00</td>\n",
       "      <td>678.81</td>\n",
       "      <td>100.00</td>\n",
       "      <td>4</td>\n",
       "    </tr>\n",
       "    <tr>\n",
       "      <th>2839</th>\n",
       "      <td>0.00</td>\n",
       "      <td>180.30</td>\n",
       "      <td>16.15</td>\n",
       "      <td>47.19</td>\n",
       "      <td>-16.15</td>\n",
       "      <td>133.11</td>\n",
       "      <td>0.00</td>\n",
       "      <td>762.17</td>\n",
       "      <td>-762.17</td>\n",
       "      <td>-inf</td>\n",
       "      <td>4</td>\n",
       "    </tr>\n",
       "    <tr>\n",
       "      <th>2840</th>\n",
       "      <td>17.00</td>\n",
       "      <td>39.93</td>\n",
       "      <td>17.00</td>\n",
       "      <td>34.85</td>\n",
       "      <td>0.00</td>\n",
       "      <td>5.08</td>\n",
       "      <td>678.81</td>\n",
       "      <td>592.50</td>\n",
       "      <td>86.31</td>\n",
       "      <td>12.72</td>\n",
       "      <td>4</td>\n",
       "    </tr>\n",
       "    <tr>\n",
       "      <th>3559</th>\n",
       "      <td>14.00</td>\n",
       "      <td>40.76</td>\n",
       "      <td>0.00</td>\n",
       "      <td>180.30</td>\n",
       "      <td>14.00</td>\n",
       "      <td>-139.54</td>\n",
       "      <td>570.64</td>\n",
       "      <td>0.00</td>\n",
       "      <td>570.64</td>\n",
       "      <td>100.00</td>\n",
       "      <td>5</td>\n",
       "    </tr>\n",
       "    <tr>\n",
       "      <th>3583</th>\n",
       "      <td>0.00</td>\n",
       "      <td>180.30</td>\n",
       "      <td>14.95</td>\n",
       "      <td>43.51</td>\n",
       "      <td>-14.95</td>\n",
       "      <td>136.79</td>\n",
       "      <td>0.00</td>\n",
       "      <td>650.46</td>\n",
       "      <td>-650.46</td>\n",
       "      <td>-inf</td>\n",
       "      <td>5</td>\n",
       "    </tr>\n",
       "    <tr>\n",
       "      <th>4304</th>\n",
       "      <td>17.00</td>\n",
       "      <td>42.39</td>\n",
       "      <td>0.00</td>\n",
       "      <td>180.30</td>\n",
       "      <td>17.00</td>\n",
       "      <td>-137.91</td>\n",
       "      <td>720.63</td>\n",
       "      <td>0.00</td>\n",
       "      <td>720.63</td>\n",
       "      <td>100.00</td>\n",
       "      <td>6</td>\n",
       "    </tr>\n",
       "    <tr>\n",
       "      <th>4328</th>\n",
       "      <td>0.00</td>\n",
       "      <td>180.30</td>\n",
       "      <td>16.30</td>\n",
       "      <td>42.64</td>\n",
       "      <td>-16.30</td>\n",
       "      <td>137.66</td>\n",
       "      <td>0.00</td>\n",
       "      <td>695.03</td>\n",
       "      <td>-695.03</td>\n",
       "      <td>-inf</td>\n",
       "      <td>6</td>\n",
       "    </tr>\n",
       "    <tr>\n",
       "      <th>5048</th>\n",
       "      <td>17.00</td>\n",
       "      <td>43.22</td>\n",
       "      <td>0.00</td>\n",
       "      <td>180.30</td>\n",
       "      <td>17.00</td>\n",
       "      <td>-137.08</td>\n",
       "      <td>734.74</td>\n",
       "      <td>0.00</td>\n",
       "      <td>734.74</td>\n",
       "      <td>100.00</td>\n",
       "      <td>7</td>\n",
       "    </tr>\n",
       "    <tr>\n",
       "      <th>5072</th>\n",
       "      <td>0.00</td>\n",
       "      <td>180.30</td>\n",
       "      <td>15.13</td>\n",
       "      <td>59.03</td>\n",
       "      <td>-15.13</td>\n",
       "      <td>121.27</td>\n",
       "      <td>0.00</td>\n",
       "      <td>893.13</td>\n",
       "      <td>-893.13</td>\n",
       "      <td>-inf</td>\n",
       "      <td>7</td>\n",
       "    </tr>\n",
       "    <tr>\n",
       "      <th>5792</th>\n",
       "      <td>17.00</td>\n",
       "      <td>44.05</td>\n",
       "      <td>0.00</td>\n",
       "      <td>180.30</td>\n",
       "      <td>17.00</td>\n",
       "      <td>-136.25</td>\n",
       "      <td>748.85</td>\n",
       "      <td>0.00</td>\n",
       "      <td>748.85</td>\n",
       "      <td>100.00</td>\n",
       "      <td>8</td>\n",
       "    </tr>\n",
       "    <tr>\n",
       "      <th>5816</th>\n",
       "      <td>0.00</td>\n",
       "      <td>180.30</td>\n",
       "      <td>16.49</td>\n",
       "      <td>48.00</td>\n",
       "      <td>-16.49</td>\n",
       "      <td>132.30</td>\n",
       "      <td>0.00</td>\n",
       "      <td>791.46</td>\n",
       "      <td>-791.46</td>\n",
       "      <td>-inf</td>\n",
       "      <td>8</td>\n",
       "    </tr>\n",
       "    <tr>\n",
       "      <th>6536</th>\n",
       "      <td>17.00</td>\n",
       "      <td>45.38</td>\n",
       "      <td>0.00</td>\n",
       "      <td>180.30</td>\n",
       "      <td>17.00</td>\n",
       "      <td>-134.92</td>\n",
       "      <td>771.46</td>\n",
       "      <td>0.00</td>\n",
       "      <td>771.46</td>\n",
       "      <td>100.00</td>\n",
       "      <td>9</td>\n",
       "    </tr>\n",
       "    <tr>\n",
       "      <th>6560</th>\n",
       "      <td>0.00</td>\n",
       "      <td>180.30</td>\n",
       "      <td>15.47</td>\n",
       "      <td>58.18</td>\n",
       "      <td>-15.47</td>\n",
       "      <td>122.12</td>\n",
       "      <td>0.00</td>\n",
       "      <td>900.00</td>\n",
       "      <td>-900.00</td>\n",
       "      <td>-inf</td>\n",
       "      <td>9</td>\n",
       "    </tr>\n",
       "    <tr>\n",
       "      <th>7280</th>\n",
       "      <td>17.00</td>\n",
       "      <td>46.71</td>\n",
       "      <td>0.00</td>\n",
       "      <td>180.30</td>\n",
       "      <td>17.00</td>\n",
       "      <td>-133.59</td>\n",
       "      <td>794.07</td>\n",
       "      <td>0.00</td>\n",
       "      <td>794.07</td>\n",
       "      <td>100.00</td>\n",
       "      <td>10</td>\n",
       "    </tr>\n",
       "    <tr>\n",
       "      <th>7304</th>\n",
       "      <td>0.00</td>\n",
       "      <td>180.30</td>\n",
       "      <td>13.43</td>\n",
       "      <td>75.12</td>\n",
       "      <td>-13.43</td>\n",
       "      <td>105.18</td>\n",
       "      <td>0.00</td>\n",
       "      <td>1,008.85</td>\n",
       "      <td>-1,008.85</td>\n",
       "      <td>-inf</td>\n",
       "      <td>10</td>\n",
       "    </tr>\n",
       "    <tr>\n",
       "      <th>7598</th>\n",
       "      <td>17.00</td>\n",
       "      <td>44.57</td>\n",
       "      <td>17.00</td>\n",
       "      <td>55.52</td>\n",
       "      <td>0.00</td>\n",
       "      <td>-10.95</td>\n",
       "      <td>757.69</td>\n",
       "      <td>943.86</td>\n",
       "      <td>-186.17</td>\n",
       "      <td>-24.57</td>\n",
       "      <td>11</td>\n",
       "    </tr>\n",
       "    <tr>\n",
       "      <th>7599</th>\n",
       "      <td>17.00</td>\n",
       "      <td>44.57</td>\n",
       "      <td>17.00</td>\n",
       "      <td>55.52</td>\n",
       "      <td>0.00</td>\n",
       "      <td>-10.95</td>\n",
       "      <td>757.69</td>\n",
       "      <td>943.86</td>\n",
       "      <td>-186.17</td>\n",
       "      <td>-24.57</td>\n",
       "      <td>11</td>\n",
       "    </tr>\n",
       "    <tr>\n",
       "      <th>8024</th>\n",
       "      <td>17.00</td>\n",
       "      <td>48.54</td>\n",
       "      <td>0.00</td>\n",
       "      <td>180.30</td>\n",
       "      <td>17.00</td>\n",
       "      <td>-131.76</td>\n",
       "      <td>825.18</td>\n",
       "      <td>0.00</td>\n",
       "      <td>825.18</td>\n",
       "      <td>100.00</td>\n",
       "      <td>11</td>\n",
       "    </tr>\n",
       "    <tr>\n",
       "      <th>8048</th>\n",
       "      <td>0.00</td>\n",
       "      <td>180.30</td>\n",
       "      <td>15.81</td>\n",
       "      <td>57.75</td>\n",
       "      <td>-15.81</td>\n",
       "      <td>122.55</td>\n",
       "      <td>0.00</td>\n",
       "      <td>913.00</td>\n",
       "      <td>-913.00</td>\n",
       "      <td>-inf</td>\n",
       "      <td>11</td>\n",
       "    </tr>\n",
       "  </tbody>\n",
       "</table>\n",
       "</div>"
      ],
      "text/plain": [
       "        dE  Price  dE_pred  Price_pred  dE_diff  Price_diff   Area  Area_pred  \\\n",
       "578  75.00   1.13     0.00      180.30    75.00     -179.17  84.75       0.00   \n",
       "602   0.00 180.30    66.65        1.13   -66.65      179.17   0.00      75.31   \n",
       "1327 17.00  38.27     0.00      180.30    17.00     -142.03 650.59       0.00   \n",
       "1351  0.00 180.30    15.64       50.07   -15.64      130.23   0.00     783.07   \n",
       "2071 17.00  39.10     0.00      180.30    17.00     -141.20 664.70       0.00   \n",
       "2095  0.00 180.30    15.13       55.10   -15.13      125.20   0.00     833.64   \n",
       "2815 17.00  39.93     0.00      180.30    17.00     -140.37 678.81       0.00   \n",
       "2839  0.00 180.30    16.15       47.19   -16.15      133.11   0.00     762.17   \n",
       "2840 17.00  39.93    17.00       34.85     0.00        5.08 678.81     592.50   \n",
       "3559 14.00  40.76     0.00      180.30    14.00     -139.54 570.64       0.00   \n",
       "3583  0.00 180.30    14.95       43.51   -14.95      136.79   0.00     650.46   \n",
       "4304 17.00  42.39     0.00      180.30    17.00     -137.91 720.63       0.00   \n",
       "4328  0.00 180.30    16.30       42.64   -16.30      137.66   0.00     695.03   \n",
       "5048 17.00  43.22     0.00      180.30    17.00     -137.08 734.74       0.00   \n",
       "5072  0.00 180.30    15.13       59.03   -15.13      121.27   0.00     893.13   \n",
       "5792 17.00  44.05     0.00      180.30    17.00     -136.25 748.85       0.00   \n",
       "5816  0.00 180.30    16.49       48.00   -16.49      132.30   0.00     791.46   \n",
       "6536 17.00  45.38     0.00      180.30    17.00     -134.92 771.46       0.00   \n",
       "6560  0.00 180.30    15.47       58.18   -15.47      122.12   0.00     900.00   \n",
       "7280 17.00  46.71     0.00      180.30    17.00     -133.59 794.07       0.00   \n",
       "7304  0.00 180.30    13.43       75.12   -13.43      105.18   0.00   1,008.85   \n",
       "7598 17.00  44.57    17.00       55.52     0.00      -10.95 757.69     943.86   \n",
       "7599 17.00  44.57    17.00       55.52     0.00      -10.95 757.69     943.86   \n",
       "8024 17.00  48.54     0.00      180.30    17.00     -131.76 825.18       0.00   \n",
       "8048  0.00 180.30    15.81       57.75   -15.81      122.55   0.00     913.00   \n",
       "\n",
       "      Area_diff  Area_diff_rel(%)  Period  \n",
       "578       84.75            100.00       1  \n",
       "602      -75.31              -inf       1  \n",
       "1327     650.59            100.00       2  \n",
       "1351    -783.07              -inf       2  \n",
       "2071     664.70            100.00       3  \n",
       "2095    -833.64              -inf       3  \n",
       "2815     678.81            100.00       4  \n",
       "2839    -762.17              -inf       4  \n",
       "2840      86.31             12.72       4  \n",
       "3559     570.64            100.00       5  \n",
       "3583    -650.46              -inf       5  \n",
       "4304     720.63            100.00       6  \n",
       "4328    -695.03              -inf       6  \n",
       "5048     734.74            100.00       7  \n",
       "5072    -893.13              -inf       7  \n",
       "5792     748.85            100.00       8  \n",
       "5816    -791.46              -inf       8  \n",
       "6536     771.46            100.00       9  \n",
       "6560    -900.00              -inf       9  \n",
       "7280     794.07            100.00      10  \n",
       "7304  -1,008.85              -inf      10  \n",
       "7598    -186.17            -24.57      11  \n",
       "7599    -186.17            -24.57      11  \n",
       "8024     825.18            100.00      11  \n",
       "8048    -913.00              -inf      11  "
      ]
     },
     "execution_count": 215,
     "metadata": {},
     "output_type": "execute_result"
    }
   ],
   "source": [
    "#Looking for min and max values in the df\n",
    "\n",
    "df_TEST_pred_rf_summary[(df_TEST_pred_rf_summary['Price_diff'] < -7) |\n",
    "                      (df_TEST_pred_rf_summary['Price_diff'] > 5)]"
   ]
  },
  {
   "cell_type": "code",
   "execution_count": 216,
   "metadata": {},
   "outputs": [
    {
     "data": {
      "text/html": [
       "<div>\n",
       "<style scoped>\n",
       "    .dataframe tbody tr th:only-of-type {\n",
       "        vertical-align: middle;\n",
       "    }\n",
       "\n",
       "    .dataframe tbody tr th {\n",
       "        vertical-align: top;\n",
       "    }\n",
       "\n",
       "    .dataframe thead th {\n",
       "        text-align: right;\n",
       "    }\n",
       "</style>\n",
       "<table border=\"1\" class=\"dataframe\">\n",
       "  <thead>\n",
       "    <tr style=\"text-align: right;\">\n",
       "      <th></th>\n",
       "      <th>dE</th>\n",
       "      <th>Price</th>\n",
       "      <th>dE_pred</th>\n",
       "      <th>Price_pred</th>\n",
       "      <th>dE_diff</th>\n",
       "      <th>Price_diff</th>\n",
       "      <th>Area</th>\n",
       "      <th>Area_pred</th>\n",
       "      <th>Area_diff</th>\n",
       "      <th>Area_diff_rel(%)</th>\n",
       "      <th>Period</th>\n",
       "    </tr>\n",
       "  </thead>\n",
       "  <tbody>\n",
       "    <tr>\n",
       "      <th>578</th>\n",
       "      <td>75.00</td>\n",
       "      <td>1.13</td>\n",
       "      <td>0.00</td>\n",
       "      <td>180.30</td>\n",
       "      <td>75.00</td>\n",
       "      <td>-179.17</td>\n",
       "      <td>84.75</td>\n",
       "      <td>0.00</td>\n",
       "      <td>84.75</td>\n",
       "      <td>100.00</td>\n",
       "      <td>1</td>\n",
       "    </tr>\n",
       "    <tr>\n",
       "      <th>602</th>\n",
       "      <td>0.00</td>\n",
       "      <td>180.30</td>\n",
       "      <td>66.65</td>\n",
       "      <td>1.13</td>\n",
       "      <td>-66.65</td>\n",
       "      <td>179.17</td>\n",
       "      <td>0.00</td>\n",
       "      <td>75.31</td>\n",
       "      <td>-75.31</td>\n",
       "      <td>-inf</td>\n",
       "      <td>1</td>\n",
       "    </tr>\n",
       "    <tr>\n",
       "      <th>1327</th>\n",
       "      <td>17.00</td>\n",
       "      <td>38.27</td>\n",
       "      <td>0.00</td>\n",
       "      <td>180.30</td>\n",
       "      <td>17.00</td>\n",
       "      <td>-142.03</td>\n",
       "      <td>650.59</td>\n",
       "      <td>0.00</td>\n",
       "      <td>650.59</td>\n",
       "      <td>100.00</td>\n",
       "      <td>2</td>\n",
       "    </tr>\n",
       "    <tr>\n",
       "      <th>1351</th>\n",
       "      <td>0.00</td>\n",
       "      <td>180.30</td>\n",
       "      <td>15.64</td>\n",
       "      <td>50.07</td>\n",
       "      <td>-15.64</td>\n",
       "      <td>130.23</td>\n",
       "      <td>0.00</td>\n",
       "      <td>783.07</td>\n",
       "      <td>-783.07</td>\n",
       "      <td>-inf</td>\n",
       "      <td>2</td>\n",
       "    </tr>\n",
       "    <tr>\n",
       "      <th>2071</th>\n",
       "      <td>17.00</td>\n",
       "      <td>39.10</td>\n",
       "      <td>0.00</td>\n",
       "      <td>180.30</td>\n",
       "      <td>17.00</td>\n",
       "      <td>-141.20</td>\n",
       "      <td>664.70</td>\n",
       "      <td>0.00</td>\n",
       "      <td>664.70</td>\n",
       "      <td>100.00</td>\n",
       "      <td>3</td>\n",
       "    </tr>\n",
       "    <tr>\n",
       "      <th>2095</th>\n",
       "      <td>0.00</td>\n",
       "      <td>180.30</td>\n",
       "      <td>15.13</td>\n",
       "      <td>55.10</td>\n",
       "      <td>-15.13</td>\n",
       "      <td>125.20</td>\n",
       "      <td>0.00</td>\n",
       "      <td>833.64</td>\n",
       "      <td>-833.64</td>\n",
       "      <td>-inf</td>\n",
       "      <td>3</td>\n",
       "    </tr>\n",
       "    <tr>\n",
       "      <th>2815</th>\n",
       "      <td>17.00</td>\n",
       "      <td>39.93</td>\n",
       "      <td>0.00</td>\n",
       "      <td>180.30</td>\n",
       "      <td>17.00</td>\n",
       "      <td>-140.37</td>\n",
       "      <td>678.81</td>\n",
       "      <td>0.00</td>\n",
       "      <td>678.81</td>\n",
       "      <td>100.00</td>\n",
       "      <td>4</td>\n",
       "    </tr>\n",
       "    <tr>\n",
       "      <th>2839</th>\n",
       "      <td>0.00</td>\n",
       "      <td>180.30</td>\n",
       "      <td>16.15</td>\n",
       "      <td>47.19</td>\n",
       "      <td>-16.15</td>\n",
       "      <td>133.11</td>\n",
       "      <td>0.00</td>\n",
       "      <td>762.17</td>\n",
       "      <td>-762.17</td>\n",
       "      <td>-inf</td>\n",
       "      <td>4</td>\n",
       "    </tr>\n",
       "    <tr>\n",
       "      <th>2840</th>\n",
       "      <td>17.00</td>\n",
       "      <td>39.93</td>\n",
       "      <td>17.00</td>\n",
       "      <td>34.85</td>\n",
       "      <td>0.00</td>\n",
       "      <td>5.08</td>\n",
       "      <td>678.81</td>\n",
       "      <td>592.50</td>\n",
       "      <td>86.31</td>\n",
       "      <td>12.72</td>\n",
       "      <td>4</td>\n",
       "    </tr>\n",
       "    <tr>\n",
       "      <th>3559</th>\n",
       "      <td>14.00</td>\n",
       "      <td>40.76</td>\n",
       "      <td>0.00</td>\n",
       "      <td>180.30</td>\n",
       "      <td>14.00</td>\n",
       "      <td>-139.54</td>\n",
       "      <td>570.64</td>\n",
       "      <td>0.00</td>\n",
       "      <td>570.64</td>\n",
       "      <td>100.00</td>\n",
       "      <td>5</td>\n",
       "    </tr>\n",
       "    <tr>\n",
       "      <th>3583</th>\n",
       "      <td>0.00</td>\n",
       "      <td>180.30</td>\n",
       "      <td>14.95</td>\n",
       "      <td>43.51</td>\n",
       "      <td>-14.95</td>\n",
       "      <td>136.79</td>\n",
       "      <td>0.00</td>\n",
       "      <td>650.46</td>\n",
       "      <td>-650.46</td>\n",
       "      <td>-inf</td>\n",
       "      <td>5</td>\n",
       "    </tr>\n",
       "    <tr>\n",
       "      <th>4304</th>\n",
       "      <td>17.00</td>\n",
       "      <td>42.39</td>\n",
       "      <td>0.00</td>\n",
       "      <td>180.30</td>\n",
       "      <td>17.00</td>\n",
       "      <td>-137.91</td>\n",
       "      <td>720.63</td>\n",
       "      <td>0.00</td>\n",
       "      <td>720.63</td>\n",
       "      <td>100.00</td>\n",
       "      <td>6</td>\n",
       "    </tr>\n",
       "    <tr>\n",
       "      <th>4328</th>\n",
       "      <td>0.00</td>\n",
       "      <td>180.30</td>\n",
       "      <td>16.30</td>\n",
       "      <td>42.64</td>\n",
       "      <td>-16.30</td>\n",
       "      <td>137.66</td>\n",
       "      <td>0.00</td>\n",
       "      <td>695.03</td>\n",
       "      <td>-695.03</td>\n",
       "      <td>-inf</td>\n",
       "      <td>6</td>\n",
       "    </tr>\n",
       "    <tr>\n",
       "      <th>5048</th>\n",
       "      <td>17.00</td>\n",
       "      <td>43.22</td>\n",
       "      <td>0.00</td>\n",
       "      <td>180.30</td>\n",
       "      <td>17.00</td>\n",
       "      <td>-137.08</td>\n",
       "      <td>734.74</td>\n",
       "      <td>0.00</td>\n",
       "      <td>734.74</td>\n",
       "      <td>100.00</td>\n",
       "      <td>7</td>\n",
       "    </tr>\n",
       "    <tr>\n",
       "      <th>5072</th>\n",
       "      <td>0.00</td>\n",
       "      <td>180.30</td>\n",
       "      <td>15.13</td>\n",
       "      <td>59.03</td>\n",
       "      <td>-15.13</td>\n",
       "      <td>121.27</td>\n",
       "      <td>0.00</td>\n",
       "      <td>893.13</td>\n",
       "      <td>-893.13</td>\n",
       "      <td>-inf</td>\n",
       "      <td>7</td>\n",
       "    </tr>\n",
       "    <tr>\n",
       "      <th>5792</th>\n",
       "      <td>17.00</td>\n",
       "      <td>44.05</td>\n",
       "      <td>0.00</td>\n",
       "      <td>180.30</td>\n",
       "      <td>17.00</td>\n",
       "      <td>-136.25</td>\n",
       "      <td>748.85</td>\n",
       "      <td>0.00</td>\n",
       "      <td>748.85</td>\n",
       "      <td>100.00</td>\n",
       "      <td>8</td>\n",
       "    </tr>\n",
       "    <tr>\n",
       "      <th>5816</th>\n",
       "      <td>0.00</td>\n",
       "      <td>180.30</td>\n",
       "      <td>16.49</td>\n",
       "      <td>48.00</td>\n",
       "      <td>-16.49</td>\n",
       "      <td>132.30</td>\n",
       "      <td>0.00</td>\n",
       "      <td>791.46</td>\n",
       "      <td>-791.46</td>\n",
       "      <td>-inf</td>\n",
       "      <td>8</td>\n",
       "    </tr>\n",
       "    <tr>\n",
       "      <th>6536</th>\n",
       "      <td>17.00</td>\n",
       "      <td>45.38</td>\n",
       "      <td>0.00</td>\n",
       "      <td>180.30</td>\n",
       "      <td>17.00</td>\n",
       "      <td>-134.92</td>\n",
       "      <td>771.46</td>\n",
       "      <td>0.00</td>\n",
       "      <td>771.46</td>\n",
       "      <td>100.00</td>\n",
       "      <td>9</td>\n",
       "    </tr>\n",
       "    <tr>\n",
       "      <th>6560</th>\n",
       "      <td>0.00</td>\n",
       "      <td>180.30</td>\n",
       "      <td>15.47</td>\n",
       "      <td>58.18</td>\n",
       "      <td>-15.47</td>\n",
       "      <td>122.12</td>\n",
       "      <td>0.00</td>\n",
       "      <td>900.00</td>\n",
       "      <td>-900.00</td>\n",
       "      <td>-inf</td>\n",
       "      <td>9</td>\n",
       "    </tr>\n",
       "    <tr>\n",
       "      <th>7280</th>\n",
       "      <td>17.00</td>\n",
       "      <td>46.71</td>\n",
       "      <td>0.00</td>\n",
       "      <td>180.30</td>\n",
       "      <td>17.00</td>\n",
       "      <td>-133.59</td>\n",
       "      <td>794.07</td>\n",
       "      <td>0.00</td>\n",
       "      <td>794.07</td>\n",
       "      <td>100.00</td>\n",
       "      <td>10</td>\n",
       "    </tr>\n",
       "    <tr>\n",
       "      <th>7304</th>\n",
       "      <td>0.00</td>\n",
       "      <td>180.30</td>\n",
       "      <td>13.43</td>\n",
       "      <td>75.12</td>\n",
       "      <td>-13.43</td>\n",
       "      <td>105.18</td>\n",
       "      <td>0.00</td>\n",
       "      <td>1,008.85</td>\n",
       "      <td>-1,008.85</td>\n",
       "      <td>-inf</td>\n",
       "      <td>10</td>\n",
       "    </tr>\n",
       "    <tr>\n",
       "      <th>7598</th>\n",
       "      <td>17.00</td>\n",
       "      <td>44.57</td>\n",
       "      <td>17.00</td>\n",
       "      <td>55.52</td>\n",
       "      <td>0.00</td>\n",
       "      <td>-10.95</td>\n",
       "      <td>757.69</td>\n",
       "      <td>943.86</td>\n",
       "      <td>-186.17</td>\n",
       "      <td>-24.57</td>\n",
       "      <td>11</td>\n",
       "    </tr>\n",
       "    <tr>\n",
       "      <th>7599</th>\n",
       "      <td>17.00</td>\n",
       "      <td>44.57</td>\n",
       "      <td>17.00</td>\n",
       "      <td>55.52</td>\n",
       "      <td>0.00</td>\n",
       "      <td>-10.95</td>\n",
       "      <td>757.69</td>\n",
       "      <td>943.86</td>\n",
       "      <td>-186.17</td>\n",
       "      <td>-24.57</td>\n",
       "      <td>11</td>\n",
       "    </tr>\n",
       "    <tr>\n",
       "      <th>8024</th>\n",
       "      <td>17.00</td>\n",
       "      <td>48.54</td>\n",
       "      <td>0.00</td>\n",
       "      <td>180.30</td>\n",
       "      <td>17.00</td>\n",
       "      <td>-131.76</td>\n",
       "      <td>825.18</td>\n",
       "      <td>0.00</td>\n",
       "      <td>825.18</td>\n",
       "      <td>100.00</td>\n",
       "      <td>11</td>\n",
       "    </tr>\n",
       "    <tr>\n",
       "      <th>8048</th>\n",
       "      <td>0.00</td>\n",
       "      <td>180.30</td>\n",
       "      <td>15.81</td>\n",
       "      <td>57.75</td>\n",
       "      <td>-15.81</td>\n",
       "      <td>122.55</td>\n",
       "      <td>0.00</td>\n",
       "      <td>913.00</td>\n",
       "      <td>-913.00</td>\n",
       "      <td>-inf</td>\n",
       "      <td>11</td>\n",
       "    </tr>\n",
       "  </tbody>\n",
       "</table>\n",
       "</div>"
      ],
      "text/plain": [
       "        dE  Price  dE_pred  Price_pred  dE_diff  Price_diff   Area  Area_pred  \\\n",
       "578  75.00   1.13     0.00      180.30    75.00     -179.17  84.75       0.00   \n",
       "602   0.00 180.30    66.65        1.13   -66.65      179.17   0.00      75.31   \n",
       "1327 17.00  38.27     0.00      180.30    17.00     -142.03 650.59       0.00   \n",
       "1351  0.00 180.30    15.64       50.07   -15.64      130.23   0.00     783.07   \n",
       "2071 17.00  39.10     0.00      180.30    17.00     -141.20 664.70       0.00   \n",
       "2095  0.00 180.30    15.13       55.10   -15.13      125.20   0.00     833.64   \n",
       "2815 17.00  39.93     0.00      180.30    17.00     -140.37 678.81       0.00   \n",
       "2839  0.00 180.30    16.15       47.19   -16.15      133.11   0.00     762.17   \n",
       "2840 17.00  39.93    17.00       34.85     0.00        5.08 678.81     592.50   \n",
       "3559 14.00  40.76     0.00      180.30    14.00     -139.54 570.64       0.00   \n",
       "3583  0.00 180.30    14.95       43.51   -14.95      136.79   0.00     650.46   \n",
       "4304 17.00  42.39     0.00      180.30    17.00     -137.91 720.63       0.00   \n",
       "4328  0.00 180.30    16.30       42.64   -16.30      137.66   0.00     695.03   \n",
       "5048 17.00  43.22     0.00      180.30    17.00     -137.08 734.74       0.00   \n",
       "5072  0.00 180.30    15.13       59.03   -15.13      121.27   0.00     893.13   \n",
       "5792 17.00  44.05     0.00      180.30    17.00     -136.25 748.85       0.00   \n",
       "5816  0.00 180.30    16.49       48.00   -16.49      132.30   0.00     791.46   \n",
       "6536 17.00  45.38     0.00      180.30    17.00     -134.92 771.46       0.00   \n",
       "6560  0.00 180.30    15.47       58.18   -15.47      122.12   0.00     900.00   \n",
       "7280 17.00  46.71     0.00      180.30    17.00     -133.59 794.07       0.00   \n",
       "7304  0.00 180.30    13.43       75.12   -13.43      105.18   0.00   1,008.85   \n",
       "7598 17.00  44.57    17.00       55.52     0.00      -10.95 757.69     943.86   \n",
       "7599 17.00  44.57    17.00       55.52     0.00      -10.95 757.69     943.86   \n",
       "8024 17.00  48.54     0.00      180.30    17.00     -131.76 825.18       0.00   \n",
       "8048  0.00 180.30    15.81       57.75   -15.81      122.55   0.00     913.00   \n",
       "\n",
       "      Area_diff  Area_diff_rel(%)  Period  \n",
       "578       84.75            100.00       1  \n",
       "602      -75.31              -inf       1  \n",
       "1327     650.59            100.00       2  \n",
       "1351    -783.07              -inf       2  \n",
       "2071     664.70            100.00       3  \n",
       "2095    -833.64              -inf       3  \n",
       "2815     678.81            100.00       4  \n",
       "2839    -762.17              -inf       4  \n",
       "2840      86.31             12.72       4  \n",
       "3559     570.64            100.00       5  \n",
       "3583    -650.46              -inf       5  \n",
       "4304     720.63            100.00       6  \n",
       "4328    -695.03              -inf       6  \n",
       "5048     734.74            100.00       7  \n",
       "5072    -893.13              -inf       7  \n",
       "5792     748.85            100.00       8  \n",
       "5816    -791.46              -inf       8  \n",
       "6536     771.46            100.00       9  \n",
       "6560    -900.00              -inf       9  \n",
       "7280     794.07            100.00      10  \n",
       "7304  -1,008.85              -inf      10  \n",
       "7598    -186.17            -24.57      11  \n",
       "7599    -186.17            -24.57      11  \n",
       "8024     825.18            100.00      11  \n",
       "8048    -913.00              -inf      11  "
      ]
     },
     "execution_count": 216,
     "metadata": {},
     "output_type": "execute_result"
    }
   ],
   "source": [
    "df_TEST_pred_rf_summary[(df_TEST_pred_rf_summary['Price_diff'] < -7) |\n",
    "                      (df_TEST_pred_rf_summary['Price_diff'] > 5)]"
   ]
  },
  {
   "cell_type": "code",
   "execution_count": 217,
   "metadata": {},
   "outputs": [
    {
     "data": {
      "text/html": [
       "<div>\n",
       "<style scoped>\n",
       "    .dataframe tbody tr th:only-of-type {\n",
       "        vertical-align: middle;\n",
       "    }\n",
       "\n",
       "    .dataframe tbody tr th {\n",
       "        vertical-align: top;\n",
       "    }\n",
       "\n",
       "    .dataframe thead th {\n",
       "        text-align: right;\n",
       "    }\n",
       "</style>\n",
       "<table border=\"1\" class=\"dataframe\">\n",
       "  <thead>\n",
       "    <tr style=\"text-align: right;\">\n",
       "      <th></th>\n",
       "      <th>dE</th>\n",
       "      <th>Price</th>\n",
       "      <th>dE_pred</th>\n",
       "      <th>Price_pred</th>\n",
       "      <th>dE_diff</th>\n",
       "      <th>Price_diff</th>\n",
       "      <th>Area</th>\n",
       "      <th>Area_pred</th>\n",
       "      <th>Area_diff</th>\n",
       "      <th>Area_diff_rel(%)</th>\n",
       "      <th>Period</th>\n",
       "    </tr>\n",
       "  </thead>\n",
       "  <tbody>\n",
       "    <tr>\n",
       "      <th>602</th>\n",
       "      <td>0.00</td>\n",
       "      <td>180.30</td>\n",
       "      <td>66.65</td>\n",
       "      <td>1.13</td>\n",
       "      <td>-66.65</td>\n",
       "      <td>179.17</td>\n",
       "      <td>0.00</td>\n",
       "      <td>75.31</td>\n",
       "      <td>-75.31</td>\n",
       "      <td>-inf</td>\n",
       "      <td>1</td>\n",
       "    </tr>\n",
       "    <tr>\n",
       "      <th>1351</th>\n",
       "      <td>0.00</td>\n",
       "      <td>180.30</td>\n",
       "      <td>15.64</td>\n",
       "      <td>50.07</td>\n",
       "      <td>-15.64</td>\n",
       "      <td>130.23</td>\n",
       "      <td>0.00</td>\n",
       "      <td>783.07</td>\n",
       "      <td>-783.07</td>\n",
       "      <td>-inf</td>\n",
       "      <td>2</td>\n",
       "    </tr>\n",
       "    <tr>\n",
       "      <th>2095</th>\n",
       "      <td>0.00</td>\n",
       "      <td>180.30</td>\n",
       "      <td>15.13</td>\n",
       "      <td>55.10</td>\n",
       "      <td>-15.13</td>\n",
       "      <td>125.20</td>\n",
       "      <td>0.00</td>\n",
       "      <td>833.64</td>\n",
       "      <td>-833.64</td>\n",
       "      <td>-inf</td>\n",
       "      <td>3</td>\n",
       "    </tr>\n",
       "    <tr>\n",
       "      <th>2839</th>\n",
       "      <td>0.00</td>\n",
       "      <td>180.30</td>\n",
       "      <td>16.15</td>\n",
       "      <td>47.19</td>\n",
       "      <td>-16.15</td>\n",
       "      <td>133.11</td>\n",
       "      <td>0.00</td>\n",
       "      <td>762.17</td>\n",
       "      <td>-762.17</td>\n",
       "      <td>-inf</td>\n",
       "      <td>4</td>\n",
       "    </tr>\n",
       "    <tr>\n",
       "      <th>3583</th>\n",
       "      <td>0.00</td>\n",
       "      <td>180.30</td>\n",
       "      <td>14.95</td>\n",
       "      <td>43.51</td>\n",
       "      <td>-14.95</td>\n",
       "      <td>136.79</td>\n",
       "      <td>0.00</td>\n",
       "      <td>650.46</td>\n",
       "      <td>-650.46</td>\n",
       "      <td>-inf</td>\n",
       "      <td>5</td>\n",
       "    </tr>\n",
       "    <tr>\n",
       "      <th>4328</th>\n",
       "      <td>0.00</td>\n",
       "      <td>180.30</td>\n",
       "      <td>16.30</td>\n",
       "      <td>42.64</td>\n",
       "      <td>-16.30</td>\n",
       "      <td>137.66</td>\n",
       "      <td>0.00</td>\n",
       "      <td>695.03</td>\n",
       "      <td>-695.03</td>\n",
       "      <td>-inf</td>\n",
       "      <td>6</td>\n",
       "    </tr>\n",
       "    <tr>\n",
       "      <th>5072</th>\n",
       "      <td>0.00</td>\n",
       "      <td>180.30</td>\n",
       "      <td>15.13</td>\n",
       "      <td>59.03</td>\n",
       "      <td>-15.13</td>\n",
       "      <td>121.27</td>\n",
       "      <td>0.00</td>\n",
       "      <td>893.13</td>\n",
       "      <td>-893.13</td>\n",
       "      <td>-inf</td>\n",
       "      <td>7</td>\n",
       "    </tr>\n",
       "    <tr>\n",
       "      <th>5816</th>\n",
       "      <td>0.00</td>\n",
       "      <td>180.30</td>\n",
       "      <td>16.49</td>\n",
       "      <td>48.00</td>\n",
       "      <td>-16.49</td>\n",
       "      <td>132.30</td>\n",
       "      <td>0.00</td>\n",
       "      <td>791.46</td>\n",
       "      <td>-791.46</td>\n",
       "      <td>-inf</td>\n",
       "      <td>8</td>\n",
       "    </tr>\n",
       "    <tr>\n",
       "      <th>6560</th>\n",
       "      <td>0.00</td>\n",
       "      <td>180.30</td>\n",
       "      <td>15.47</td>\n",
       "      <td>58.18</td>\n",
       "      <td>-15.47</td>\n",
       "      <td>122.12</td>\n",
       "      <td>0.00</td>\n",
       "      <td>900.00</td>\n",
       "      <td>-900.00</td>\n",
       "      <td>-inf</td>\n",
       "      <td>9</td>\n",
       "    </tr>\n",
       "    <tr>\n",
       "      <th>7304</th>\n",
       "      <td>0.00</td>\n",
       "      <td>180.30</td>\n",
       "      <td>13.43</td>\n",
       "      <td>75.12</td>\n",
       "      <td>-13.43</td>\n",
       "      <td>105.18</td>\n",
       "      <td>0.00</td>\n",
       "      <td>1,008.85</td>\n",
       "      <td>-1,008.85</td>\n",
       "      <td>-inf</td>\n",
       "      <td>10</td>\n",
       "    </tr>\n",
       "    <tr>\n",
       "      <th>8048</th>\n",
       "      <td>0.00</td>\n",
       "      <td>180.30</td>\n",
       "      <td>15.81</td>\n",
       "      <td>57.75</td>\n",
       "      <td>-15.81</td>\n",
       "      <td>122.55</td>\n",
       "      <td>0.00</td>\n",
       "      <td>913.00</td>\n",
       "      <td>-913.00</td>\n",
       "      <td>-inf</td>\n",
       "      <td>11</td>\n",
       "    </tr>\n",
       "  </tbody>\n",
       "</table>\n",
       "</div>"
      ],
      "text/plain": [
       "       dE  Price  dE_pred  Price_pred  dE_diff  Price_diff  Area  Area_pred  \\\n",
       "602  0.00 180.30    66.65        1.13   -66.65      179.17  0.00      75.31   \n",
       "1351 0.00 180.30    15.64       50.07   -15.64      130.23  0.00     783.07   \n",
       "2095 0.00 180.30    15.13       55.10   -15.13      125.20  0.00     833.64   \n",
       "2839 0.00 180.30    16.15       47.19   -16.15      133.11  0.00     762.17   \n",
       "3583 0.00 180.30    14.95       43.51   -14.95      136.79  0.00     650.46   \n",
       "4328 0.00 180.30    16.30       42.64   -16.30      137.66  0.00     695.03   \n",
       "5072 0.00 180.30    15.13       59.03   -15.13      121.27  0.00     893.13   \n",
       "5816 0.00 180.30    16.49       48.00   -16.49      132.30  0.00     791.46   \n",
       "6560 0.00 180.30    15.47       58.18   -15.47      122.12  0.00     900.00   \n",
       "7304 0.00 180.30    13.43       75.12   -13.43      105.18  0.00   1,008.85   \n",
       "8048 0.00 180.30    15.81       57.75   -15.81      122.55  0.00     913.00   \n",
       "\n",
       "      Area_diff  Area_diff_rel(%)  Period  \n",
       "602      -75.31              -inf       1  \n",
       "1351    -783.07              -inf       2  \n",
       "2095    -833.64              -inf       3  \n",
       "2839    -762.17              -inf       4  \n",
       "3583    -650.46              -inf       5  \n",
       "4328    -695.03              -inf       6  \n",
       "5072    -893.13              -inf       7  \n",
       "5816    -791.46              -inf       8  \n",
       "6560    -900.00              -inf       9  \n",
       "7304  -1,008.85              -inf      10  \n",
       "8048    -913.00              -inf      11  "
      ]
     },
     "execution_count": 217,
     "metadata": {},
     "output_type": "execute_result"
    }
   ],
   "source": [
    "#Looking for maximum price difference\n",
    "#It does not seems very important, since the error comes in a place where unit will not be operating\n",
    "\n",
    "df_TEST_pred_rf_summary [df_TEST_pred_rf_summary['Area_diff_rel(%)']== float('-inf')]"
   ]
  },
  {
   "cell_type": "code",
   "execution_count": 218,
   "metadata": {},
   "outputs": [
    {
     "data": {
      "text/html": [
       "<div>\n",
       "<style scoped>\n",
       "    .dataframe tbody tr th:only-of-type {\n",
       "        vertical-align: middle;\n",
       "    }\n",
       "\n",
       "    .dataframe tbody tr th {\n",
       "        vertical-align: top;\n",
       "    }\n",
       "\n",
       "    .dataframe thead th {\n",
       "        text-align: right;\n",
       "    }\n",
       "</style>\n",
       "<table border=\"1\" class=\"dataframe\">\n",
       "  <thead>\n",
       "    <tr style=\"text-align: right;\">\n",
       "      <th></th>\n",
       "      <th>dE</th>\n",
       "      <th>Price</th>\n",
       "      <th>dE_pred</th>\n",
       "      <th>Price_pred</th>\n",
       "      <th>dE_diff</th>\n",
       "      <th>Price_diff</th>\n",
       "      <th>Area</th>\n",
       "      <th>Area_pred</th>\n",
       "      <th>Area_diff</th>\n",
       "      <th>Area_diff_rel(%)</th>\n",
       "      <th>Period</th>\n",
       "    </tr>\n",
       "  </thead>\n",
       "  <tbody>\n",
       "    <tr>\n",
       "      <th>7593</th>\n",
       "      <td>17.00</td>\n",
       "      <td>44.57</td>\n",
       "      <td>17.00</td>\n",
       "      <td>51.17</td>\n",
       "      <td>0.00</td>\n",
       "      <td>-6.60</td>\n",
       "      <td>757.69</td>\n",
       "      <td>869.88</td>\n",
       "      <td>-112.19</td>\n",
       "      <td>-14.81</td>\n",
       "      <td>11</td>\n",
       "    </tr>\n",
       "    <tr>\n",
       "      <th>7594</th>\n",
       "      <td>17.00</td>\n",
       "      <td>44.57</td>\n",
       "      <td>17.00</td>\n",
       "      <td>50.99</td>\n",
       "      <td>0.00</td>\n",
       "      <td>-6.42</td>\n",
       "      <td>757.69</td>\n",
       "      <td>866.80</td>\n",
       "      <td>-109.11</td>\n",
       "      <td>-14.40</td>\n",
       "      <td>11</td>\n",
       "    </tr>\n",
       "    <tr>\n",
       "      <th>7595</th>\n",
       "      <td>17.00</td>\n",
       "      <td>44.57</td>\n",
       "      <td>17.00</td>\n",
       "      <td>51.16</td>\n",
       "      <td>0.00</td>\n",
       "      <td>-6.59</td>\n",
       "      <td>757.69</td>\n",
       "      <td>869.72</td>\n",
       "      <td>-112.03</td>\n",
       "      <td>-14.79</td>\n",
       "      <td>11</td>\n",
       "    </tr>\n",
       "    <tr>\n",
       "      <th>7596</th>\n",
       "      <td>17.00</td>\n",
       "      <td>44.57</td>\n",
       "      <td>17.00</td>\n",
       "      <td>50.25</td>\n",
       "      <td>0.00</td>\n",
       "      <td>-5.68</td>\n",
       "      <td>757.69</td>\n",
       "      <td>854.32</td>\n",
       "      <td>-96.63</td>\n",
       "      <td>-12.75</td>\n",
       "      <td>11</td>\n",
       "    </tr>\n",
       "    <tr>\n",
       "      <th>7597</th>\n",
       "      <td>17.00</td>\n",
       "      <td>44.57</td>\n",
       "      <td>17.00</td>\n",
       "      <td>49.50</td>\n",
       "      <td>0.00</td>\n",
       "      <td>-4.93</td>\n",
       "      <td>757.69</td>\n",
       "      <td>841.55</td>\n",
       "      <td>-83.86</td>\n",
       "      <td>-11.07</td>\n",
       "      <td>11</td>\n",
       "    </tr>\n",
       "    <tr>\n",
       "      <th>...</th>\n",
       "      <td>...</td>\n",
       "      <td>...</td>\n",
       "      <td>...</td>\n",
       "      <td>...</td>\n",
       "      <td>...</td>\n",
       "      <td>...</td>\n",
       "      <td>...</td>\n",
       "      <td>...</td>\n",
       "      <td>...</td>\n",
       "      <td>...</td>\n",
       "      <td>...</td>\n",
       "    </tr>\n",
       "    <tr>\n",
       "      <th>8155</th>\n",
       "      <td>17.00</td>\n",
       "      <td>44.48</td>\n",
       "      <td>17.00</td>\n",
       "      <td>47.81</td>\n",
       "      <td>0.00</td>\n",
       "      <td>-3.33</td>\n",
       "      <td>756.16</td>\n",
       "      <td>812.81</td>\n",
       "      <td>-56.65</td>\n",
       "      <td>-7.49</td>\n",
       "      <td>11</td>\n",
       "    </tr>\n",
       "    <tr>\n",
       "      <th>8156</th>\n",
       "      <td>17.00</td>\n",
       "      <td>44.48</td>\n",
       "      <td>17.00</td>\n",
       "      <td>47.81</td>\n",
       "      <td>0.00</td>\n",
       "      <td>-3.33</td>\n",
       "      <td>756.16</td>\n",
       "      <td>812.81</td>\n",
       "      <td>-56.65</td>\n",
       "      <td>-7.49</td>\n",
       "      <td>11</td>\n",
       "    </tr>\n",
       "    <tr>\n",
       "      <th>8157</th>\n",
       "      <td>17.00</td>\n",
       "      <td>44.48</td>\n",
       "      <td>17.00</td>\n",
       "      <td>47.81</td>\n",
       "      <td>0.00</td>\n",
       "      <td>-3.33</td>\n",
       "      <td>756.16</td>\n",
       "      <td>812.81</td>\n",
       "      <td>-56.65</td>\n",
       "      <td>-7.49</td>\n",
       "      <td>11</td>\n",
       "    </tr>\n",
       "    <tr>\n",
       "      <th>8158</th>\n",
       "      <td>17.00</td>\n",
       "      <td>44.48</td>\n",
       "      <td>17.00</td>\n",
       "      <td>47.81</td>\n",
       "      <td>0.00</td>\n",
       "      <td>-3.33</td>\n",
       "      <td>756.16</td>\n",
       "      <td>812.81</td>\n",
       "      <td>-56.65</td>\n",
       "      <td>-7.49</td>\n",
       "      <td>11</td>\n",
       "    </tr>\n",
       "    <tr>\n",
       "      <th>8159</th>\n",
       "      <td>17.00</td>\n",
       "      <td>44.48</td>\n",
       "      <td>17.00</td>\n",
       "      <td>47.81</td>\n",
       "      <td>0.00</td>\n",
       "      <td>-3.33</td>\n",
       "      <td>756.16</td>\n",
       "      <td>812.81</td>\n",
       "      <td>-56.65</td>\n",
       "      <td>-7.49</td>\n",
       "      <td>11</td>\n",
       "    </tr>\n",
       "  </tbody>\n",
       "</table>\n",
       "<p>71 rows × 11 columns</p>\n",
       "</div>"
      ],
      "text/plain": [
       "        dE  Price  dE_pred  Price_pred  dE_diff  Price_diff   Area  Area_pred  \\\n",
       "7593 17.00  44.57    17.00       51.17     0.00       -6.60 757.69     869.88   \n",
       "7594 17.00  44.57    17.00       50.99     0.00       -6.42 757.69     866.80   \n",
       "7595 17.00  44.57    17.00       51.16     0.00       -6.59 757.69     869.72   \n",
       "7596 17.00  44.57    17.00       50.25     0.00       -5.68 757.69     854.32   \n",
       "7597 17.00  44.57    17.00       49.50     0.00       -4.93 757.69     841.55   \n",
       "...    ...    ...      ...         ...      ...         ...    ...        ...   \n",
       "8155 17.00  44.48    17.00       47.81     0.00       -3.33 756.16     812.81   \n",
       "8156 17.00  44.48    17.00       47.81     0.00       -3.33 756.16     812.81   \n",
       "8157 17.00  44.48    17.00       47.81     0.00       -3.33 756.16     812.81   \n",
       "8158 17.00  44.48    17.00       47.81     0.00       -3.33 756.16     812.81   \n",
       "8159 17.00  44.48    17.00       47.81     0.00       -3.33 756.16     812.81   \n",
       "\n",
       "      Area_diff  Area_diff_rel(%)  Period  \n",
       "7593    -112.19            -14.81      11  \n",
       "7594    -109.11            -14.40      11  \n",
       "7595    -112.03            -14.79      11  \n",
       "7596     -96.63            -12.75      11  \n",
       "7597     -83.86            -11.07      11  \n",
       "...         ...               ...     ...  \n",
       "8155     -56.65             -7.49      11  \n",
       "8156     -56.65             -7.49      11  \n",
       "8157     -56.65             -7.49      11  \n",
       "8158     -56.65             -7.49      11  \n",
       "8159     -56.65             -7.49      11  \n",
       "\n",
       "[71 rows x 11 columns]"
      ]
     },
     "execution_count": 218,
     "metadata": {},
     "output_type": "execute_result"
    }
   ],
   "source": [
    "#Looking for minimmum price difference\n",
    "\n",
    "df_TEST_pred_rf_summary[(df_TEST_pred_rf_summary['Period'] == 11) &\n",
    "                      (abs(df_TEST_pred_rf_summary['Price_diff']) >= 1)]"
   ]
  },
  {
   "cell_type": "code",
   "execution_count": null,
   "metadata": {},
   "outputs": [],
   "source": []
  },
  {
   "cell_type": "code",
   "execution_count": null,
   "metadata": {},
   "outputs": [],
   "source": []
  },
  {
   "cell_type": "markdown",
   "metadata": {},
   "source": [
    "#### CURVE AREA METRIC WHEN MAXIMUM PRICE IS NOT CONSIDERED --> NO SÉ SI ES MEJOR BORRAR ESTO\n",
    "\n",
    "When Price is the maximum (180.3€) the unit is not going to be operated, son these areas should not be cosidered to evaluate the quality of the model."
   ]
  },
  {
   "cell_type": "code",
   "execution_count": 219,
   "metadata": {},
   "outputs": [],
   "source": [
    "#NO TENGO CLARO QUE ESTA MÉTRICA TENGA MUCHO SENTIDO"
   ]
  },
  {
   "cell_type": "code",
   "execution_count": 220,
   "metadata": {},
   "outputs": [],
   "source": [
    "def df_pred_summary_noPmax(df):\n",
    "    \n",
    "    df_noPmax = df[df['Price'] != df['Price'].max()]\n",
    "    \n",
    "    return df_noPmax"
   ]
  },
  {
   "cell_type": "code",
   "execution_count": 221,
   "metadata": {},
   "outputs": [],
   "source": [
    "#Looking for maximum price\n",
    "\n",
    "df_TEST_pred_rf_summary_Pmax = df_TEST_pred_rf_summary[df_TEST_pred_rf_summary['Price'] == df_TEST_pred_rf_summary['Price'].max()]"
   ]
  },
  {
   "cell_type": "code",
   "execution_count": 222,
   "metadata": {},
   "outputs": [
    {
     "data": {
      "text/html": [
       "<div>\n",
       "<style scoped>\n",
       "    .dataframe tbody tr th:only-of-type {\n",
       "        vertical-align: middle;\n",
       "    }\n",
       "\n",
       "    .dataframe tbody tr th {\n",
       "        vertical-align: top;\n",
       "    }\n",
       "\n",
       "    .dataframe thead th {\n",
       "        text-align: right;\n",
       "    }\n",
       "</style>\n",
       "<table border=\"1\" class=\"dataframe\">\n",
       "  <thead>\n",
       "    <tr style=\"text-align: right;\">\n",
       "      <th></th>\n",
       "      <th>dE</th>\n",
       "      <th>Price</th>\n",
       "      <th>dE_pred</th>\n",
       "      <th>Price_pred</th>\n",
       "      <th>dE_diff</th>\n",
       "      <th>Price_diff</th>\n",
       "      <th>Area</th>\n",
       "      <th>Area_pred</th>\n",
       "      <th>Area_diff</th>\n",
       "      <th>Area_diff_rel(%)</th>\n",
       "      <th>Period</th>\n",
       "    </tr>\n",
       "  </thead>\n",
       "  <tbody>\n",
       "    <tr>\n",
       "      <th>8786</th>\n",
       "      <td>394.10</td>\n",
       "      <td>180.30</td>\n",
       "      <td>323.60</td>\n",
       "      <td>180.30</td>\n",
       "      <td>70.50</td>\n",
       "      <td>0.00</td>\n",
       "      <td>71,056.23</td>\n",
       "      <td>58,345.08</td>\n",
       "      <td>12,711.15</td>\n",
       "      <td>17.89</td>\n",
       "      <td>12</td>\n",
       "    </tr>\n",
       "    <tr>\n",
       "      <th>8787</th>\n",
       "      <td>319.10</td>\n",
       "      <td>180.30</td>\n",
       "      <td>274.10</td>\n",
       "      <td>180.30</td>\n",
       "      <td>45.00</td>\n",
       "      <td>0.00</td>\n",
       "      <td>57,533.73</td>\n",
       "      <td>49,420.23</td>\n",
       "      <td>8,113.50</td>\n",
       "      <td>14.10</td>\n",
       "      <td>12</td>\n",
       "    </tr>\n",
       "    <tr>\n",
       "      <th>8791</th>\n",
       "      <td>274.10</td>\n",
       "      <td>180.30</td>\n",
       "      <td>136.35</td>\n",
       "      <td>180.30</td>\n",
       "      <td>137.75</td>\n",
       "      <td>0.00</td>\n",
       "      <td>49,420.23</td>\n",
       "      <td>24,583.90</td>\n",
       "      <td>24,836.33</td>\n",
       "      <td>50.26</td>\n",
       "      <td>12</td>\n",
       "    </tr>\n",
       "    <tr>\n",
       "      <th>8792</th>\n",
       "      <td>139.10</td>\n",
       "      <td>180.30</td>\n",
       "      <td>34.10</td>\n",
       "      <td>180.30</td>\n",
       "      <td>105.00</td>\n",
       "      <td>-0.00</td>\n",
       "      <td>25,079.73</td>\n",
       "      <td>6,148.23</td>\n",
       "      <td>18,931.50</td>\n",
       "      <td>75.49</td>\n",
       "      <td>12</td>\n",
       "    </tr>\n",
       "  </tbody>\n",
       "</table>\n",
       "</div>"
      ],
      "text/plain": [
       "         dE  Price  dE_pred  Price_pred  dE_diff  Price_diff      Area  \\\n",
       "8786 394.10 180.30   323.60      180.30    70.50        0.00 71,056.23   \n",
       "8787 319.10 180.30   274.10      180.30    45.00        0.00 57,533.73   \n",
       "8791 274.10 180.30   136.35      180.30   137.75        0.00 49,420.23   \n",
       "8792 139.10 180.30    34.10      180.30   105.00       -0.00 25,079.73   \n",
       "\n",
       "      Area_pred  Area_diff  Area_diff_rel(%)  Period  \n",
       "8786  58,345.08  12,711.15             17.89      12  \n",
       "8787  49,420.23   8,113.50             14.10      12  \n",
       "8791  24,583.90  24,836.33             50.26      12  \n",
       "8792   6,148.23  18,931.50             75.49      12  "
      ]
     },
     "execution_count": 222,
     "metadata": {},
     "output_type": "execute_result"
    }
   ],
   "source": [
    "df_TEST_pred_rf_summary_Pmax[df_TEST_pred_rf_summary_Pmax['dE_diff']>1]"
   ]
  },
  {
   "cell_type": "code",
   "execution_count": 223,
   "metadata": {
    "scrolled": true
   },
   "outputs": [
    {
     "data": {
      "text/html": [
       "<div>\n",
       "<style scoped>\n",
       "    .dataframe tbody tr th:only-of-type {\n",
       "        vertical-align: middle;\n",
       "    }\n",
       "\n",
       "    .dataframe tbody tr th {\n",
       "        vertical-align: top;\n",
       "    }\n",
       "\n",
       "    .dataframe thead th {\n",
       "        text-align: right;\n",
       "    }\n",
       "</style>\n",
       "<table border=\"1\" class=\"dataframe\">\n",
       "  <thead>\n",
       "    <tr style=\"text-align: right;\">\n",
       "      <th></th>\n",
       "      <th>dE</th>\n",
       "      <th>Price</th>\n",
       "      <th>dE_pred</th>\n",
       "      <th>Price_pred</th>\n",
       "      <th>dE_diff</th>\n",
       "      <th>Price_diff</th>\n",
       "      <th>Area</th>\n",
       "      <th>Area_pred</th>\n",
       "      <th>Area_diff</th>\n",
       "      <th>Area_diff_rel(%)</th>\n",
       "      <th>Period</th>\n",
       "    </tr>\n",
       "  </thead>\n",
       "  <tbody>\n",
       "    <tr>\n",
       "      <th>3</th>\n",
       "      <td>75.00</td>\n",
       "      <td>1.13</td>\n",
       "      <td>75.00</td>\n",
       "      <td>1.13</td>\n",
       "      <td>0.00</td>\n",
       "      <td>0.00</td>\n",
       "      <td>84.75</td>\n",
       "      <td>84.75</td>\n",
       "      <td>0.00</td>\n",
       "      <td>0.00</td>\n",
       "      <td>1</td>\n",
       "    </tr>\n",
       "    <tr>\n",
       "      <th>4</th>\n",
       "      <td>120.00</td>\n",
       "      <td>1.13</td>\n",
       "      <td>120.00</td>\n",
       "      <td>1.13</td>\n",
       "      <td>0.00</td>\n",
       "      <td>0.00</td>\n",
       "      <td>135.60</td>\n",
       "      <td>135.60</td>\n",
       "      <td>0.00</td>\n",
       "      <td>0.00</td>\n",
       "      <td>1</td>\n",
       "    </tr>\n",
       "    <tr>\n",
       "      <th>5</th>\n",
       "      <td>120.00</td>\n",
       "      <td>1.13</td>\n",
       "      <td>120.00</td>\n",
       "      <td>1.13</td>\n",
       "      <td>0.00</td>\n",
       "      <td>0.00</td>\n",
       "      <td>135.60</td>\n",
       "      <td>135.60</td>\n",
       "      <td>0.00</td>\n",
       "      <td>0.00</td>\n",
       "      <td>1</td>\n",
       "    </tr>\n",
       "    <tr>\n",
       "      <th>6</th>\n",
       "      <td>120.00</td>\n",
       "      <td>1.13</td>\n",
       "      <td>120.00</td>\n",
       "      <td>1.13</td>\n",
       "      <td>0.00</td>\n",
       "      <td>0.00</td>\n",
       "      <td>135.60</td>\n",
       "      <td>135.60</td>\n",
       "      <td>0.00</td>\n",
       "      <td>0.00</td>\n",
       "      <td>1</td>\n",
       "    </tr>\n",
       "    <tr>\n",
       "      <th>7</th>\n",
       "      <td>120.00</td>\n",
       "      <td>1.13</td>\n",
       "      <td>120.00</td>\n",
       "      <td>1.13</td>\n",
       "      <td>0.00</td>\n",
       "      <td>0.00</td>\n",
       "      <td>135.60</td>\n",
       "      <td>135.60</td>\n",
       "      <td>0.00</td>\n",
       "      <td>0.00</td>\n",
       "      <td>1</td>\n",
       "    </tr>\n",
       "  </tbody>\n",
       "</table>\n",
       "</div>"
      ],
      "text/plain": [
       "      dE  Price  dE_pred  Price_pred  dE_diff  Price_diff   Area  Area_pred  \\\n",
       "3  75.00   1.13    75.00        1.13     0.00        0.00  84.75      84.75   \n",
       "4 120.00   1.13   120.00        1.13     0.00        0.00 135.60     135.60   \n",
       "5 120.00   1.13   120.00        1.13     0.00        0.00 135.60     135.60   \n",
       "6 120.00   1.13   120.00        1.13     0.00        0.00 135.60     135.60   \n",
       "7 120.00   1.13   120.00        1.13     0.00        0.00 135.60     135.60   \n",
       "\n",
       "   Area_diff  Area_diff_rel(%)  Period  \n",
       "3       0.00              0.00       1  \n",
       "4       0.00              0.00       1  \n",
       "5       0.00              0.00       1  \n",
       "6       0.00              0.00       1  \n",
       "7       0.00              0.00       1  "
      ]
     },
     "execution_count": 223,
     "metadata": {},
     "output_type": "execute_result"
    }
   ],
   "source": [
    "#df without Pmax Areas\n",
    "\n",
    "df_TEST_pred_rf_summary_noPmax = df_pred_summary_noPmax(df_TEST_pred_rf_summary)\n",
    "df_TEST_pred_rf_summary_noPmax.head()"
   ]
  },
  {
   "cell_type": "code",
   "execution_count": 224,
   "metadata": {
    "scrolled": true
   },
   "outputs": [
    {
     "data": {
      "text/html": [
       "<div>\n",
       "<style scoped>\n",
       "    .dataframe tbody tr th:only-of-type {\n",
       "        vertical-align: middle;\n",
       "    }\n",
       "\n",
       "    .dataframe tbody tr th {\n",
       "        vertical-align: top;\n",
       "    }\n",
       "\n",
       "    .dataframe thead th {\n",
       "        text-align: right;\n",
       "    }\n",
       "</style>\n",
       "<table border=\"1\" class=\"dataframe\">\n",
       "  <thead>\n",
       "    <tr style=\"text-align: right;\">\n",
       "      <th></th>\n",
       "      <th>dE</th>\n",
       "      <th>Price</th>\n",
       "      <th>dE_pred</th>\n",
       "      <th>Price_pred</th>\n",
       "      <th>dE_diff</th>\n",
       "      <th>Price_diff</th>\n",
       "      <th>Area</th>\n",
       "      <th>Area_pred</th>\n",
       "      <th>Area_diff</th>\n",
       "      <th>Area_diff_rel(%)</th>\n",
       "      <th>Period</th>\n",
       "    </tr>\n",
       "  </thead>\n",
       "  <tbody>\n",
       "    <tr>\n",
       "      <th>count</th>\n",
       "      <td>5,436.00</td>\n",
       "      <td>5,436.00</td>\n",
       "      <td>5,436.00</td>\n",
       "      <td>5,436.00</td>\n",
       "      <td>5,436.00</td>\n",
       "      <td>5,436.00</td>\n",
       "      <td>5,436.00</td>\n",
       "      <td>5,436.00</td>\n",
       "      <td>5,436.00</td>\n",
       "      <td>5,436.00</td>\n",
       "      <td>5,436.00</td>\n",
       "    </tr>\n",
       "    <tr>\n",
       "      <th>mean</th>\n",
       "      <td>35.48</td>\n",
       "      <td>35.23</td>\n",
       "      <td>35.44</td>\n",
       "      <td>35.55</td>\n",
       "      <td>0.04</td>\n",
       "      <td>-0.32</td>\n",
       "      <td>619.20</td>\n",
       "      <td>618.49</td>\n",
       "      <td>0.71</td>\n",
       "      <td>0.09</td>\n",
       "      <td>5.77</td>\n",
       "    </tr>\n",
       "    <tr>\n",
       "      <th>std</th>\n",
       "      <td>51.54</td>\n",
       "      <td>12.98</td>\n",
       "      <td>51.56</td>\n",
       "      <td>14.56</td>\n",
       "      <td>2.02</td>\n",
       "      <td>6.47</td>\n",
       "      <td>167.03</td>\n",
       "      <td>170.21</td>\n",
       "      <td>36.33</td>\n",
       "      <td>5.43</td>\n",
       "      <td>3.23</td>\n",
       "    </tr>\n",
       "    <tr>\n",
       "      <th>min</th>\n",
       "      <td>14.00</td>\n",
       "      <td>1.13</td>\n",
       "      <td>0.00</td>\n",
       "      <td>1.13</td>\n",
       "      <td>-70.00</td>\n",
       "      <td>-179.17</td>\n",
       "      <td>84.75</td>\n",
       "      <td>0.00</td>\n",
       "      <td>-186.17</td>\n",
       "      <td>-60.00</td>\n",
       "      <td>1.00</td>\n",
       "    </tr>\n",
       "    <tr>\n",
       "      <th>25%</th>\n",
       "      <td>17.00</td>\n",
       "      <td>35.99</td>\n",
       "      <td>17.00</td>\n",
       "      <td>35.99</td>\n",
       "      <td>0.00</td>\n",
       "      <td>-0.27</td>\n",
       "      <td>607.07</td>\n",
       "      <td>611.37</td>\n",
       "      <td>-4.58</td>\n",
       "      <td>-0.73</td>\n",
       "      <td>3.00</td>\n",
       "    </tr>\n",
       "    <tr>\n",
       "      <th>50%</th>\n",
       "      <td>17.00</td>\n",
       "      <td>39.10</td>\n",
       "      <td>17.00</td>\n",
       "      <td>38.99</td>\n",
       "      <td>0.00</td>\n",
       "      <td>-0.05</td>\n",
       "      <td>664.70</td>\n",
       "      <td>662.77</td>\n",
       "      <td>-0.89</td>\n",
       "      <td>-0.11</td>\n",
       "      <td>6.00</td>\n",
       "    </tr>\n",
       "    <tr>\n",
       "      <th>75%</th>\n",
       "      <td>17.00</td>\n",
       "      <td>42.00</td>\n",
       "      <td>17.00</td>\n",
       "      <td>41.88</td>\n",
       "      <td>0.00</td>\n",
       "      <td>0.13</td>\n",
       "      <td>714.00</td>\n",
       "      <td>710.60</td>\n",
       "      <td>2.25</td>\n",
       "      <td>0.34</td>\n",
       "      <td>9.00</td>\n",
       "    </tr>\n",
       "    <tr>\n",
       "      <th>max</th>\n",
       "      <td>190.00</td>\n",
       "      <td>48.54</td>\n",
       "      <td>190.00</td>\n",
       "      <td>180.30</td>\n",
       "      <td>75.00</td>\n",
       "      <td>5.08</td>\n",
       "      <td>825.18</td>\n",
       "      <td>943.86</td>\n",
       "      <td>825.18</td>\n",
       "      <td>100.00</td>\n",
       "      <td>11.00</td>\n",
       "    </tr>\n",
       "  </tbody>\n",
       "</table>\n",
       "</div>"
      ],
      "text/plain": [
       "            dE    Price  dE_pred  Price_pred  dE_diff  Price_diff     Area  \\\n",
       "count 5,436.00 5,436.00 5,436.00    5,436.00 5,436.00    5,436.00 5,436.00   \n",
       "mean     35.48    35.23    35.44       35.55     0.04       -0.32   619.20   \n",
       "std      51.54    12.98    51.56       14.56     2.02        6.47   167.03   \n",
       "min      14.00     1.13     0.00        1.13   -70.00     -179.17    84.75   \n",
       "25%      17.00    35.99    17.00       35.99     0.00       -0.27   607.07   \n",
       "50%      17.00    39.10    17.00       38.99     0.00       -0.05   664.70   \n",
       "75%      17.00    42.00    17.00       41.88     0.00        0.13   714.00   \n",
       "max     190.00    48.54   190.00      180.30    75.00        5.08   825.18   \n",
       "\n",
       "       Area_pred  Area_diff  Area_diff_rel(%)   Period  \n",
       "count   5,436.00   5,436.00          5,436.00 5,436.00  \n",
       "mean      618.49       0.71              0.09     5.77  \n",
       "std       170.21      36.33              5.43     3.23  \n",
       "min         0.00    -186.17            -60.00     1.00  \n",
       "25%       611.37      -4.58             -0.73     3.00  \n",
       "50%       662.77      -0.89             -0.11     6.00  \n",
       "75%       710.60       2.25              0.34     9.00  \n",
       "max       943.86     825.18            100.00    11.00  "
      ]
     },
     "execution_count": 224,
     "metadata": {},
     "output_type": "execute_result"
    }
   ],
   "source": [
    "df_TEST_pred_rf_summary_noPmax.describe()"
   ]
  },
  {
   "cell_type": "code",
   "execution_count": null,
   "metadata": {},
   "outputs": [],
   "source": []
  },
  {
   "cell_type": "code",
   "execution_count": 225,
   "metadata": {},
   "outputs": [
    {
     "data": {
      "text/plain": [
       "0.7092143254221341"
      ]
     },
     "execution_count": 225,
     "metadata": {},
     "output_type": "execute_result"
    }
   ],
   "source": [
    "df_TEST_pred_rf_summary_noPmax['Area_diff'].mean()"
   ]
  },
  {
   "cell_type": "code",
   "execution_count": 226,
   "metadata": {},
   "outputs": [
    {
     "data": {
      "text/plain": [
       "(0.7092143254221341, 0.11453676034051374)"
      ]
     },
     "execution_count": 226,
     "metadata": {},
     "output_type": "execute_result"
    }
   ],
   "source": [
    "Area_pred_noPmax_mean_error_TEST = df_TEST_pred_rf_summary_noPmax['Area_diff'].mean()\n",
    "Area_pred_noPmax_mean_error_TEST_rel = df_TEST_pred_rf_summary_noPmax['Area_diff'].mean() / df_TEST_pred_rf_summary_noPmax['Area'].mean() * 100\n",
    "Area_pred_noPmax_mean_error_TEST, Area_pred_noPmax_mean_error_TEST_rel"
   ]
  },
  {
   "cell_type": "code",
   "execution_count": null,
   "metadata": {},
   "outputs": [],
   "source": []
  },
  {
   "cell_type": "code",
   "execution_count": 227,
   "metadata": {},
   "outputs": [
    {
     "data": {
      "text/plain": [
       "11.23319033535789"
      ]
     },
     "execution_count": 227,
     "metadata": {},
     "output_type": "execute_result"
    }
   ],
   "source": [
    "#MAE for Area and Area_pred without Pmax\n",
    "\n",
    "mae_area_noPmax_pred_TEST = mean_absolute_error(df_TEST_pred_rf_summary_noPmax['Area'],df_TEST_pred_rf_summary_noPmax['Area_pred'])\n",
    "mae_area_noPmax_pred_TEST"
   ]
  },
  {
   "cell_type": "code",
   "execution_count": 228,
   "metadata": {},
   "outputs": [
    {
     "data": {
      "text/plain": [
       "36.33541235070892"
      ]
     },
     "execution_count": 228,
     "metadata": {},
     "output_type": "execute_result"
    }
   ],
   "source": [
    "#RMSE for Area and Area_pred without Pmax\n",
    "\n",
    "rmse_area_noPmax_pred_TEST = (np.sqrt(mean_squared_error(df_TEST_pred_rf_summary_noPmax['Area'],df_TEST_pred_rf_summary_noPmax['Area_pred'])))\n",
    "rmse_area_noPmax_pred_TEST"
   ]
  },
  {
   "cell_type": "code",
   "execution_count": null,
   "metadata": {},
   "outputs": [],
   "source": []
  },
  {
   "cell_type": "markdown",
   "metadata": {},
   "source": [
    "### RANDOM FOREST AREA METRIC EVALUATION - HYPERPARAMENTERS"
   ]
  },
  {
   "cell_type": "code",
   "execution_count": 229,
   "metadata": {},
   "outputs": [],
   "source": [
    "df_TEST_pred_rf_grid_summary  = df_pred_summary(y_dE_TEST, y_dE_TEST_pred_rf_grid)"
   ]
  },
  {
   "cell_type": "code",
   "execution_count": 230,
   "metadata": {},
   "outputs": [
    {
     "data": {
      "text/plain": [
       "(-1.1348438184748526, -0.04721870015774274)"
      ]
     },
     "execution_count": 230,
     "metadata": {},
     "output_type": "execute_result"
    }
   ],
   "source": [
    "Area_pred_grid_mean_error_TEST = df_TEST_pred_rf_grid_summary['Area_diff'].mean()\n",
    "Area_pred_grid_mean_error_TEST_rel = df_TEST_pred_rf_grid_summary['Area_diff'].mean() / df_TEST_pred_rf_grid_summary['Area'].mean() * 100\n",
    "Area_pred_grid_mean_error_TEST, Area_pred_grid_mean_error_TEST_rel"
   ]
  },
  {
   "cell_type": "code",
   "execution_count": 231,
   "metadata": {},
   "outputs": [
    {
     "data": {
      "text/plain": [
       "23.559521857049994"
      ]
     },
     "execution_count": 231,
     "metadata": {},
     "output_type": "execute_result"
    }
   ],
   "source": [
    "#MAE for Area and Area_pred\n",
    "\n",
    "mae_area_pred_grid_TEST = mean_absolute_error(df_TEST_pred_rf_grid_summary['Area'],df_TEST_pred_rf_grid_summary['Area_pred'])\n",
    "mae_area_pred_grid_TEST"
   ]
  },
  {
   "cell_type": "code",
   "execution_count": 232,
   "metadata": {},
   "outputs": [
    {
     "data": {
      "text/plain": [
       "519.9641836809028"
      ]
     },
     "execution_count": 232,
     "metadata": {},
     "output_type": "execute_result"
    }
   ],
   "source": [
    "#RMSE for Area and Area_pred\n",
    "\n",
    "rmse_area_pred_grid_TEST = (np.sqrt(mean_squared_error(df_TEST_pred_rf_grid_summary['Area'],df_TEST_pred_rf_grid_summary['Area_pred'])))\n",
    "rmse_area_pred_grid_TEST"
   ]
  },
  {
   "cell_type": "code",
   "execution_count": null,
   "metadata": {},
   "outputs": [],
   "source": []
  },
  {
   "cell_type": "markdown",
   "metadata": {},
   "source": [
    "#### METRICS FOR RANDOM FOREST WITHOUT PRICE MAX PREDICTIONS"
   ]
  },
  {
   "cell_type": "code",
   "execution_count": 233,
   "metadata": {},
   "outputs": [],
   "source": [
    "df_TEST_pred_grid_summary_noPmax = df_pred_summary_noPmax(df_TEST_pred_rf_grid_summary)"
   ]
  },
  {
   "cell_type": "code",
   "execution_count": 234,
   "metadata": {},
   "outputs": [
    {
     "data": {
      "text/plain": [
       "0.7670028502711695"
      ]
     },
     "execution_count": 234,
     "metadata": {},
     "output_type": "execute_result"
    }
   ],
   "source": [
    "df_TEST_pred_grid_summary_noPmax['Area_diff'].mean()"
   ]
  },
  {
   "cell_type": "code",
   "execution_count": 235,
   "metadata": {},
   "outputs": [
    {
     "data": {
      "text/plain": [
       "(0.7670028502711695, 0.12386949684033857)"
      ]
     },
     "execution_count": 235,
     "metadata": {},
     "output_type": "execute_result"
    }
   ],
   "source": [
    "Area_pred_grid_noPmax_mean_error_TEST = df_TEST_pred_grid_summary_noPmax['Area_diff'].mean()\n",
    "Area_pred_grid_noPmax_mean_error_TEST_rel = df_TEST_pred_grid_summary_noPmax['Area_diff'].mean() / df_TEST_pred_grid_summary_noPmax['Area'].mean() * 100\n",
    "Area_pred_grid_noPmax_mean_error_TEST, Area_pred_grid_noPmax_mean_error_TEST_rel"
   ]
  },
  {
   "cell_type": "code",
   "execution_count": null,
   "metadata": {},
   "outputs": [],
   "source": []
  },
  {
   "cell_type": "code",
   "execution_count": 236,
   "metadata": {},
   "outputs": [
    {
     "data": {
      "text/plain": [
       "10.42340719709199"
      ]
     },
     "execution_count": 236,
     "metadata": {},
     "output_type": "execute_result"
    }
   ],
   "source": [
    "#MAE for Area and Area_pred without Pmax\n",
    "\n",
    "mae_area_noPmax_pred_grid_TEST = mean_absolute_error(df_TEST_pred_grid_summary_noPmax['Area'],df_TEST_pred_grid_summary_noPmax['Area_pred'])\n",
    "mae_area_noPmax_pred_grid_TEST"
   ]
  },
  {
   "cell_type": "code",
   "execution_count": 237,
   "metadata": {},
   "outputs": [
    {
     "data": {
      "text/plain": [
       "36.04201225065036"
      ]
     },
     "execution_count": 237,
     "metadata": {},
     "output_type": "execute_result"
    }
   ],
   "source": [
    "#RMSE for Area and Area_pred without Pmax\n",
    "\n",
    "rmse_area_noPmax_pred_grid_TEST = (np.sqrt(mean_squared_error(df_TEST_pred_grid_summary_noPmax['Area'],df_TEST_pred_grid_summary_noPmax['Area_pred'])))\n",
    "rmse_area_noPmax_pred_grid_TEST"
   ]
  },
  {
   "cell_type": "code",
   "execution_count": null,
   "metadata": {},
   "outputs": [],
   "source": []
  },
  {
   "cell_type": "markdown",
   "metadata": {},
   "source": [
    "### XGBOOST AREA METRIC EVALUATION"
   ]
  },
  {
   "cell_type": "code",
   "execution_count": 238,
   "metadata": {},
   "outputs": [],
   "source": [
    "df_TEST_pred_XGB_summary  = df_pred_summary(y_dE_TEST, y_dE_TEST_pred_XGB)"
   ]
  },
  {
   "cell_type": "code",
   "execution_count": 239,
   "metadata": {},
   "outputs": [
    {
     "data": {
      "text/plain": [
       "0.4228363552421333"
      ]
     },
     "execution_count": 239,
     "metadata": {},
     "output_type": "execute_result"
    }
   ],
   "source": [
    "df_TEST_pred_XGB_summary['Area_diff'].mean()"
   ]
  },
  {
   "cell_type": "code",
   "execution_count": 240,
   "metadata": {},
   "outputs": [
    {
     "data": {
      "text/plain": [
       "(0.4228363552421333, 0.017593419243190345)"
      ]
     },
     "execution_count": 240,
     "metadata": {},
     "output_type": "execute_result"
    }
   ],
   "source": [
    "Area_pred_XGB_mean_error_TEST = df_TEST_pred_XGB_summary['Area_diff'].mean()\n",
    "Area_pred_XGB_mean_error_TEST_rel = df_TEST_pred_XGB_summary['Area_diff'].mean() / df_TEST_pred_XGB_summary['Area'].mean() * 100\n",
    "Area_pred_XGB_mean_error_TEST, Area_pred_XGB_mean_error_TEST_rel"
   ]
  },
  {
   "cell_type": "code",
   "execution_count": 241,
   "metadata": {},
   "outputs": [
    {
     "data": {
      "text/plain": [
       "22.3683249637693"
      ]
     },
     "execution_count": 241,
     "metadata": {},
     "output_type": "execute_result"
    }
   ],
   "source": [
    "#MAE for Area and Area_pred\n",
    "\n",
    "mae_area_pred_XGB_TEST = mean_absolute_error(df_TEST_pred_XGB_summary['Area'],df_TEST_pred_XGB_summary['Area_pred'])\n",
    "mae_area_pred_XGB_TEST"
   ]
  },
  {
   "cell_type": "code",
   "execution_count": 242,
   "metadata": {},
   "outputs": [
    {
     "data": {
      "text/plain": [
       "534.6519400234259"
      ]
     },
     "execution_count": 242,
     "metadata": {},
     "output_type": "execute_result"
    }
   ],
   "source": [
    "#RMSE for Area and Area_pred\n",
    "\n",
    "rmse_area_pred_XGB_TEST = (np.sqrt(mean_squared_error(df_TEST_pred_XGB_summary['Area'],df_TEST_pred_XGB_summary['Area_pred'])))\n",
    "rmse_area_pred_XGB_TEST"
   ]
  },
  {
   "cell_type": "code",
   "execution_count": null,
   "metadata": {},
   "outputs": [],
   "source": []
  },
  {
   "cell_type": "markdown",
   "metadata": {},
   "source": [
    "#### METRICS FOR XGBOOST WITHOUT PRICE MAX PREDICTIONS"
   ]
  },
  {
   "cell_type": "code",
   "execution_count": 243,
   "metadata": {},
   "outputs": [
    {
     "data": {
      "text/html": [
       "<div>\n",
       "<style scoped>\n",
       "    .dataframe tbody tr th:only-of-type {\n",
       "        vertical-align: middle;\n",
       "    }\n",
       "\n",
       "    .dataframe tbody tr th {\n",
       "        vertical-align: top;\n",
       "    }\n",
       "\n",
       "    .dataframe thead th {\n",
       "        text-align: right;\n",
       "    }\n",
       "</style>\n",
       "<table border=\"1\" class=\"dataframe\">\n",
       "  <thead>\n",
       "    <tr style=\"text-align: right;\">\n",
       "      <th></th>\n",
       "      <th>dE</th>\n",
       "      <th>Price</th>\n",
       "      <th>dE_pred</th>\n",
       "      <th>Price_pred</th>\n",
       "      <th>dE_diff</th>\n",
       "      <th>Price_diff</th>\n",
       "      <th>Area</th>\n",
       "      <th>Area_pred</th>\n",
       "      <th>Area_diff</th>\n",
       "      <th>Area_diff_rel(%)</th>\n",
       "      <th>Period</th>\n",
       "    </tr>\n",
       "  </thead>\n",
       "  <tbody>\n",
       "    <tr>\n",
       "      <th>3</th>\n",
       "      <td>75.00</td>\n",
       "      <td>1.13</td>\n",
       "      <td>74.89</td>\n",
       "      <td>1.16</td>\n",
       "      <td>0.11</td>\n",
       "      <td>-0.03</td>\n",
       "      <td>84.75</td>\n",
       "      <td>86.73</td>\n",
       "      <td>-1.98</td>\n",
       "      <td>-2.33</td>\n",
       "      <td>1</td>\n",
       "    </tr>\n",
       "    <tr>\n",
       "      <th>4</th>\n",
       "      <td>120.00</td>\n",
       "      <td>1.13</td>\n",
       "      <td>119.97</td>\n",
       "      <td>1.13</td>\n",
       "      <td>0.03</td>\n",
       "      <td>0.00</td>\n",
       "      <td>135.60</td>\n",
       "      <td>135.54</td>\n",
       "      <td>0.06</td>\n",
       "      <td>0.05</td>\n",
       "      <td>1</td>\n",
       "    </tr>\n",
       "    <tr>\n",
       "      <th>5</th>\n",
       "      <td>120.00</td>\n",
       "      <td>1.13</td>\n",
       "      <td>119.95</td>\n",
       "      <td>1.13</td>\n",
       "      <td>0.05</td>\n",
       "      <td>0.00</td>\n",
       "      <td>135.60</td>\n",
       "      <td>135.51</td>\n",
       "      <td>0.09</td>\n",
       "      <td>0.06</td>\n",
       "      <td>1</td>\n",
       "    </tr>\n",
       "    <tr>\n",
       "      <th>6</th>\n",
       "      <td>120.00</td>\n",
       "      <td>1.13</td>\n",
       "      <td>120.04</td>\n",
       "      <td>1.13</td>\n",
       "      <td>-0.04</td>\n",
       "      <td>0.00</td>\n",
       "      <td>135.60</td>\n",
       "      <td>135.62</td>\n",
       "      <td>-0.02</td>\n",
       "      <td>-0.01</td>\n",
       "      <td>1</td>\n",
       "    </tr>\n",
       "    <tr>\n",
       "      <th>7</th>\n",
       "      <td>120.00</td>\n",
       "      <td>1.13</td>\n",
       "      <td>119.61</td>\n",
       "      <td>1.13</td>\n",
       "      <td>0.39</td>\n",
       "      <td>0.00</td>\n",
       "      <td>135.60</td>\n",
       "      <td>135.12</td>\n",
       "      <td>0.48</td>\n",
       "      <td>0.35</td>\n",
       "      <td>1</td>\n",
       "    </tr>\n",
       "    <tr>\n",
       "      <th>...</th>\n",
       "      <td>...</td>\n",
       "      <td>...</td>\n",
       "      <td>...</td>\n",
       "      <td>...</td>\n",
       "      <td>...</td>\n",
       "      <td>...</td>\n",
       "      <td>...</td>\n",
       "      <td>...</td>\n",
       "      <td>...</td>\n",
       "      <td>...</td>\n",
       "      <td>...</td>\n",
       "    </tr>\n",
       "    <tr>\n",
       "      <th>8179</th>\n",
       "      <td>17.00</td>\n",
       "      <td>44.48</td>\n",
       "      <td>17.00</td>\n",
       "      <td>44.65</td>\n",
       "      <td>-0.00</td>\n",
       "      <td>-0.17</td>\n",
       "      <td>756.16</td>\n",
       "      <td>758.98</td>\n",
       "      <td>-2.82</td>\n",
       "      <td>-0.37</td>\n",
       "      <td>11</td>\n",
       "    </tr>\n",
       "    <tr>\n",
       "      <th>8180</th>\n",
       "      <td>17.00</td>\n",
       "      <td>44.48</td>\n",
       "      <td>17.00</td>\n",
       "      <td>44.64</td>\n",
       "      <td>-0.00</td>\n",
       "      <td>-0.16</td>\n",
       "      <td>756.16</td>\n",
       "      <td>758.88</td>\n",
       "      <td>-2.72</td>\n",
       "      <td>-0.36</td>\n",
       "      <td>11</td>\n",
       "    </tr>\n",
       "    <tr>\n",
       "      <th>8181</th>\n",
       "      <td>17.00</td>\n",
       "      <td>44.48</td>\n",
       "      <td>17.00</td>\n",
       "      <td>44.69</td>\n",
       "      <td>-0.00</td>\n",
       "      <td>-0.21</td>\n",
       "      <td>756.16</td>\n",
       "      <td>759.78</td>\n",
       "      <td>-3.62</td>\n",
       "      <td>-0.48</td>\n",
       "      <td>11</td>\n",
       "    </tr>\n",
       "    <tr>\n",
       "      <th>8182</th>\n",
       "      <td>17.00</td>\n",
       "      <td>44.48</td>\n",
       "      <td>17.00</td>\n",
       "      <td>44.62</td>\n",
       "      <td>0.00</td>\n",
       "      <td>-0.14</td>\n",
       "      <td>756.16</td>\n",
       "      <td>758.45</td>\n",
       "      <td>-2.29</td>\n",
       "      <td>-0.30</td>\n",
       "      <td>11</td>\n",
       "    </tr>\n",
       "    <tr>\n",
       "      <th>8183</th>\n",
       "      <td>17.00</td>\n",
       "      <td>44.48</td>\n",
       "      <td>17.00</td>\n",
       "      <td>44.62</td>\n",
       "      <td>0.00</td>\n",
       "      <td>-0.14</td>\n",
       "      <td>756.16</td>\n",
       "      <td>758.57</td>\n",
       "      <td>-2.41</td>\n",
       "      <td>-0.32</td>\n",
       "      <td>11</td>\n",
       "    </tr>\n",
       "  </tbody>\n",
       "</table>\n",
       "<p>5436 rows × 11 columns</p>\n",
       "</div>"
      ],
      "text/plain": [
       "         dE  Price  dE_pred  Price_pred  dE_diff  Price_diff   Area  \\\n",
       "3     75.00   1.13    74.89        1.16     0.11       -0.03  84.75   \n",
       "4    120.00   1.13   119.97        1.13     0.03        0.00 135.60   \n",
       "5    120.00   1.13   119.95        1.13     0.05        0.00 135.60   \n",
       "6    120.00   1.13   120.04        1.13    -0.04        0.00 135.60   \n",
       "7    120.00   1.13   119.61        1.13     0.39        0.00 135.60   \n",
       "...     ...    ...      ...         ...      ...         ...    ...   \n",
       "8179  17.00  44.48    17.00       44.65    -0.00       -0.17 756.16   \n",
       "8180  17.00  44.48    17.00       44.64    -0.00       -0.16 756.16   \n",
       "8181  17.00  44.48    17.00       44.69    -0.00       -0.21 756.16   \n",
       "8182  17.00  44.48    17.00       44.62     0.00       -0.14 756.16   \n",
       "8183  17.00  44.48    17.00       44.62     0.00       -0.14 756.16   \n",
       "\n",
       "      Area_pred  Area_diff  Area_diff_rel(%)  Period  \n",
       "3         86.73      -1.98             -2.33       1  \n",
       "4        135.54       0.06              0.05       1  \n",
       "5        135.51       0.09              0.06       1  \n",
       "6        135.62      -0.02             -0.01       1  \n",
       "7        135.12       0.48              0.35       1  \n",
       "...         ...        ...               ...     ...  \n",
       "8179     758.98      -2.82             -0.37      11  \n",
       "8180     758.88      -2.72             -0.36      11  \n",
       "8181     759.78      -3.62             -0.48      11  \n",
       "8182     758.45      -2.29             -0.30      11  \n",
       "8183     758.57      -2.41             -0.32      11  \n",
       "\n",
       "[5436 rows x 11 columns]"
      ]
     },
     "execution_count": 243,
     "metadata": {},
     "output_type": "execute_result"
    }
   ],
   "source": [
    "df_TEST_pred_XGB_summary_noPmax = df_pred_summary_noPmax(df_TEST_pred_XGB_summary)\n",
    "df_TEST_pred_XGB_summary_noPmax"
   ]
  },
  {
   "cell_type": "code",
   "execution_count": 244,
   "metadata": {},
   "outputs": [
    {
     "data": {
      "text/plain": [
       "2.096463785854096"
      ]
     },
     "execution_count": 244,
     "metadata": {},
     "output_type": "execute_result"
    }
   ],
   "source": [
    "df_TEST_pred_XGB_summary_noPmax['Area_diff'].mean()"
   ]
  },
  {
   "cell_type": "code",
   "execution_count": 245,
   "metadata": {},
   "outputs": [
    {
     "data": {
      "text/plain": [
       "(2.096463785854096, 0.3385749012613538)"
      ]
     },
     "execution_count": 245,
     "metadata": {},
     "output_type": "execute_result"
    }
   ],
   "source": [
    "Area_pred_XGB_noPmax_mean_error_TEST = df_TEST_pred_XGB_summary_noPmax['Area_diff'].mean()\n",
    "Area_pred_XGB_noPmax_mean_error_TEST_rel = df_TEST_pred_XGB_summary_noPmax['Area_diff'].mean() / df_TEST_pred_XGB_summary_noPmax['Area'].mean() * 100\n",
    "Area_pred_XGB_noPmax_mean_error_TEST, Area_pred_XGB_noPmax_mean_error_TEST_rel"
   ]
  },
  {
   "cell_type": "code",
   "execution_count": null,
   "metadata": {},
   "outputs": [],
   "source": []
  },
  {
   "cell_type": "code",
   "execution_count": 246,
   "metadata": {},
   "outputs": [
    {
     "data": {
      "text/plain": [
       "8.676263986105122"
      ]
     },
     "execution_count": 246,
     "metadata": {},
     "output_type": "execute_result"
    }
   ],
   "source": [
    "#MAE for Area and Area_pred without Pmax\n",
    "\n",
    "mae_area_noPmax_pred_XGB_TEST = mean_absolute_error(df_TEST_pred_XGB_summary_noPmax['Area'],df_TEST_pred_XGB_summary_noPmax['Area_pred'])\n",
    "mae_area_noPmax_pred_XGB_TEST"
   ]
  },
  {
   "cell_type": "code",
   "execution_count": 247,
   "metadata": {},
   "outputs": [
    {
     "data": {
      "text/plain": [
       "35.074766669084894"
      ]
     },
     "execution_count": 247,
     "metadata": {},
     "output_type": "execute_result"
    }
   ],
   "source": [
    "#RMSE for Area and Area_pred without Pmax\n",
    "\n",
    "rmse_area_noPmax_pred_XGB_TEST = (np.sqrt(mean_squared_error(df_TEST_pred_XGB_summary_noPmax['Area'],df_TEST_pred_XGB_summary_noPmax['Area_pred'])))\n",
    "rmse_area_noPmax_pred_XGB_TEST"
   ]
  },
  {
   "cell_type": "code",
   "execution_count": null,
   "metadata": {},
   "outputs": [],
   "source": []
  },
  {
   "cell_type": "markdown",
   "metadata": {},
   "source": [
    "### XGBOOST - HYPERPARMETERS - AREA METRIC EVALUATION"
   ]
  },
  {
   "cell_type": "code",
   "execution_count": null,
   "metadata": {},
   "outputs": [],
   "source": []
  },
  {
   "cell_type": "code",
   "execution_count": 248,
   "metadata": {},
   "outputs": [],
   "source": [
    "df_TEST_pred_XGB_grid_summary  = df_pred_summary(y_dE_TEST, y_dE_TEST_pred_chain_XGB_grid)"
   ]
  },
  {
   "cell_type": "code",
   "execution_count": null,
   "metadata": {},
   "outputs": [],
   "source": []
  },
  {
   "cell_type": "code",
   "execution_count": 249,
   "metadata": {},
   "outputs": [
    {
     "data": {
      "text/plain": [
       "0.6507031808851427"
      ]
     },
     "execution_count": 249,
     "metadata": {},
     "output_type": "execute_result"
    }
   ],
   "source": [
    "df_TEST_pred_XGB_grid_summary['Area_diff'].mean()"
   ]
  },
  {
   "cell_type": "code",
   "execution_count": 250,
   "metadata": {},
   "outputs": [
    {
     "data": {
      "text/plain": [
       "(0.6507031808851427, 0.027074525930094618)"
      ]
     },
     "execution_count": 250,
     "metadata": {},
     "output_type": "execute_result"
    }
   ],
   "source": [
    "Area_pred_XGB_grid_mean_error_TEST = df_TEST_pred_XGB_grid_summary['Area_diff'].mean()\n",
    "Area_pred_XGB_grid_mean_error_TEST_rel = df_TEST_pred_XGB_grid_summary['Area_diff'].mean() / df_TEST_pred_XGB_grid_summary['Area'].mean() * 100\n",
    "Area_pred_XGB_grid_mean_error_TEST, Area_pred_XGB_grid_mean_error_TEST_rel"
   ]
  },
  {
   "cell_type": "code",
   "execution_count": 251,
   "metadata": {},
   "outputs": [
    {
     "data": {
      "text/plain": [
       "22.898237031417942"
      ]
     },
     "execution_count": 251,
     "metadata": {},
     "output_type": "execute_result"
    }
   ],
   "source": [
    "#MAE for Area and Area_pred\n",
    "\n",
    "mae_area_pred_XGB_grid_TEST = mean_absolute_error(df_TEST_pred_XGB_grid_summary['Area'],df_TEST_pred_XGB_grid_summary['Area_pred'])\n",
    "mae_area_pred_XGB_grid_TEST"
   ]
  },
  {
   "cell_type": "code",
   "execution_count": 252,
   "metadata": {},
   "outputs": [
    {
     "data": {
      "text/plain": [
       "553.9711375238136"
      ]
     },
     "execution_count": 252,
     "metadata": {},
     "output_type": "execute_result"
    }
   ],
   "source": [
    "#RMSE for Area and Area_pred\n",
    "\n",
    "rmse_area_pred_XGB_grid_TEST = (np.sqrt(mean_squared_error(df_TEST_pred_XGB_grid_summary['Area'],df_TEST_pred_XGB_grid_summary['Area_pred'])))\n",
    "rmse_area_pred_XGB_grid_TEST"
   ]
  },
  {
   "cell_type": "code",
   "execution_count": null,
   "metadata": {},
   "outputs": [],
   "source": []
  },
  {
   "cell_type": "markdown",
   "metadata": {},
   "source": [
    "#### METRICS FOR XGBOOST WITHOUT PRICE MAX PREDICTIONS"
   ]
  },
  {
   "cell_type": "code",
   "execution_count": 253,
   "metadata": {},
   "outputs": [
    {
     "data": {
      "text/html": [
       "<div>\n",
       "<style scoped>\n",
       "    .dataframe tbody tr th:only-of-type {\n",
       "        vertical-align: middle;\n",
       "    }\n",
       "\n",
       "    .dataframe tbody tr th {\n",
       "        vertical-align: top;\n",
       "    }\n",
       "\n",
       "    .dataframe thead th {\n",
       "        text-align: right;\n",
       "    }\n",
       "</style>\n",
       "<table border=\"1\" class=\"dataframe\">\n",
       "  <thead>\n",
       "    <tr style=\"text-align: right;\">\n",
       "      <th></th>\n",
       "      <th>dE</th>\n",
       "      <th>Price</th>\n",
       "      <th>dE_pred</th>\n",
       "      <th>Price_pred</th>\n",
       "      <th>dE_diff</th>\n",
       "      <th>Price_diff</th>\n",
       "      <th>Area</th>\n",
       "      <th>Area_pred</th>\n",
       "      <th>Area_diff</th>\n",
       "      <th>Area_diff_rel(%)</th>\n",
       "      <th>Period</th>\n",
       "    </tr>\n",
       "  </thead>\n",
       "  <tbody>\n",
       "    <tr>\n",
       "      <th>3</th>\n",
       "      <td>75.00</td>\n",
       "      <td>1.13</td>\n",
       "      <td>74.91</td>\n",
       "      <td>1.13</td>\n",
       "      <td>0.09</td>\n",
       "      <td>-0.00</td>\n",
       "      <td>84.75</td>\n",
       "      <td>84.65</td>\n",
       "      <td>0.10</td>\n",
       "      <td>0.12</td>\n",
       "      <td>1</td>\n",
       "    </tr>\n",
       "    <tr>\n",
       "      <th>4</th>\n",
       "      <td>120.00</td>\n",
       "      <td>1.13</td>\n",
       "      <td>120.21</td>\n",
       "      <td>1.13</td>\n",
       "      <td>-0.21</td>\n",
       "      <td>-0.00</td>\n",
       "      <td>135.60</td>\n",
       "      <td>135.83</td>\n",
       "      <td>-0.23</td>\n",
       "      <td>-0.17</td>\n",
       "      <td>1</td>\n",
       "    </tr>\n",
       "    <tr>\n",
       "      <th>5</th>\n",
       "      <td>120.00</td>\n",
       "      <td>1.13</td>\n",
       "      <td>120.01</td>\n",
       "      <td>1.13</td>\n",
       "      <td>-0.01</td>\n",
       "      <td>-0.00</td>\n",
       "      <td>135.60</td>\n",
       "      <td>135.62</td>\n",
       "      <td>-0.02</td>\n",
       "      <td>-0.01</td>\n",
       "      <td>1</td>\n",
       "    </tr>\n",
       "    <tr>\n",
       "      <th>6</th>\n",
       "      <td>120.00</td>\n",
       "      <td>1.13</td>\n",
       "      <td>120.01</td>\n",
       "      <td>1.13</td>\n",
       "      <td>-0.01</td>\n",
       "      <td>-0.00</td>\n",
       "      <td>135.60</td>\n",
       "      <td>135.61</td>\n",
       "      <td>-0.01</td>\n",
       "      <td>-0.01</td>\n",
       "      <td>1</td>\n",
       "    </tr>\n",
       "    <tr>\n",
       "      <th>7</th>\n",
       "      <td>120.00</td>\n",
       "      <td>1.13</td>\n",
       "      <td>120.04</td>\n",
       "      <td>1.13</td>\n",
       "      <td>-0.04</td>\n",
       "      <td>-0.00</td>\n",
       "      <td>135.60</td>\n",
       "      <td>135.64</td>\n",
       "      <td>-0.04</td>\n",
       "      <td>-0.03</td>\n",
       "      <td>1</td>\n",
       "    </tr>\n",
       "    <tr>\n",
       "      <th>...</th>\n",
       "      <td>...</td>\n",
       "      <td>...</td>\n",
       "      <td>...</td>\n",
       "      <td>...</td>\n",
       "      <td>...</td>\n",
       "      <td>...</td>\n",
       "      <td>...</td>\n",
       "      <td>...</td>\n",
       "      <td>...</td>\n",
       "      <td>...</td>\n",
       "      <td>...</td>\n",
       "    </tr>\n",
       "    <tr>\n",
       "      <th>8179</th>\n",
       "      <td>17.00</td>\n",
       "      <td>44.48</td>\n",
       "      <td>17.00</td>\n",
       "      <td>45.10</td>\n",
       "      <td>-0.00</td>\n",
       "      <td>-0.62</td>\n",
       "      <td>756.16</td>\n",
       "      <td>766.73</td>\n",
       "      <td>-10.57</td>\n",
       "      <td>-1.40</td>\n",
       "      <td>11</td>\n",
       "    </tr>\n",
       "    <tr>\n",
       "      <th>8180</th>\n",
       "      <td>17.00</td>\n",
       "      <td>44.48</td>\n",
       "      <td>17.00</td>\n",
       "      <td>45.06</td>\n",
       "      <td>-0.00</td>\n",
       "      <td>-0.58</td>\n",
       "      <td>756.16</td>\n",
       "      <td>766.08</td>\n",
       "      <td>-9.92</td>\n",
       "      <td>-1.31</td>\n",
       "      <td>11</td>\n",
       "    </tr>\n",
       "    <tr>\n",
       "      <th>8181</th>\n",
       "      <td>17.00</td>\n",
       "      <td>44.48</td>\n",
       "      <td>17.00</td>\n",
       "      <td>45.03</td>\n",
       "      <td>-0.00</td>\n",
       "      <td>-0.55</td>\n",
       "      <td>756.16</td>\n",
       "      <td>765.51</td>\n",
       "      <td>-9.35</td>\n",
       "      <td>-1.24</td>\n",
       "      <td>11</td>\n",
       "    </tr>\n",
       "    <tr>\n",
       "      <th>8182</th>\n",
       "      <td>17.00</td>\n",
       "      <td>44.48</td>\n",
       "      <td>17.00</td>\n",
       "      <td>45.06</td>\n",
       "      <td>-0.00</td>\n",
       "      <td>-0.58</td>\n",
       "      <td>756.16</td>\n",
       "      <td>766.02</td>\n",
       "      <td>-9.86</td>\n",
       "      <td>-1.30</td>\n",
       "      <td>11</td>\n",
       "    </tr>\n",
       "    <tr>\n",
       "      <th>8183</th>\n",
       "      <td>17.00</td>\n",
       "      <td>44.48</td>\n",
       "      <td>17.00</td>\n",
       "      <td>44.86</td>\n",
       "      <td>-0.00</td>\n",
       "      <td>-0.38</td>\n",
       "      <td>756.16</td>\n",
       "      <td>762.65</td>\n",
       "      <td>-6.49</td>\n",
       "      <td>-0.86</td>\n",
       "      <td>11</td>\n",
       "    </tr>\n",
       "  </tbody>\n",
       "</table>\n",
       "<p>5436 rows × 11 columns</p>\n",
       "</div>"
      ],
      "text/plain": [
       "         dE  Price  dE_pred  Price_pred  dE_diff  Price_diff   Area  \\\n",
       "3     75.00   1.13    74.91        1.13     0.09       -0.00  84.75   \n",
       "4    120.00   1.13   120.21        1.13    -0.21       -0.00 135.60   \n",
       "5    120.00   1.13   120.01        1.13    -0.01       -0.00 135.60   \n",
       "6    120.00   1.13   120.01        1.13    -0.01       -0.00 135.60   \n",
       "7    120.00   1.13   120.04        1.13    -0.04       -0.00 135.60   \n",
       "...     ...    ...      ...         ...      ...         ...    ...   \n",
       "8179  17.00  44.48    17.00       45.10    -0.00       -0.62 756.16   \n",
       "8180  17.00  44.48    17.00       45.06    -0.00       -0.58 756.16   \n",
       "8181  17.00  44.48    17.00       45.03    -0.00       -0.55 756.16   \n",
       "8182  17.00  44.48    17.00       45.06    -0.00       -0.58 756.16   \n",
       "8183  17.00  44.48    17.00       44.86    -0.00       -0.38 756.16   \n",
       "\n",
       "      Area_pred  Area_diff  Area_diff_rel(%)  Period  \n",
       "3         84.65       0.10              0.12       1  \n",
       "4        135.83      -0.23             -0.17       1  \n",
       "5        135.62      -0.02             -0.01       1  \n",
       "6        135.61      -0.01             -0.01       1  \n",
       "7        135.64      -0.04             -0.03       1  \n",
       "...         ...        ...               ...     ...  \n",
       "8179     766.73     -10.57             -1.40      11  \n",
       "8180     766.08      -9.92             -1.31      11  \n",
       "8181     765.51      -9.35             -1.24      11  \n",
       "8182     766.02      -9.86             -1.30      11  \n",
       "8183     762.65      -6.49             -0.86      11  \n",
       "\n",
       "[5436 rows x 11 columns]"
      ]
     },
     "execution_count": 253,
     "metadata": {},
     "output_type": "execute_result"
    }
   ],
   "source": [
    "df_TEST_pred_XGB_grid_summary_noPmax = df_pred_summary_noPmax(df_TEST_pred_XGB_grid_summary)\n",
    "df_TEST_pred_XGB_grid_summary_noPmax"
   ]
  },
  {
   "cell_type": "code",
   "execution_count": 254,
   "metadata": {},
   "outputs": [
    {
     "data": {
      "text/plain": [
       "0.845374848367716"
      ]
     },
     "execution_count": 254,
     "metadata": {},
     "output_type": "execute_result"
    }
   ],
   "source": [
    "df_TEST_pred_XGB_grid_summary_noPmax['Area_diff'].mean()"
   ]
  },
  {
   "cell_type": "code",
   "execution_count": 255,
   "metadata": {},
   "outputs": [
    {
     "data": {
      "text/plain": [
       "(0.845374848367716, 0.3385749012613538)"
      ]
     },
     "execution_count": 255,
     "metadata": {},
     "output_type": "execute_result"
    }
   ],
   "source": [
    "Area_pred_XGB_grid_noPmax_mean_error_TEST = df_TEST_pred_XGB_grid_summary_noPmax['Area_diff'].mean()\n",
    "Area_pred_XGB_grid_noPmax_mean_error_TEST_rel = df_TEST_pred_XGB_grid_summary_noPmax['Area_diff'].mean() / df_TEST_pred_XGB_grid_summary_noPmax['Area'].mean() * 100\n",
    "Area_pred_XGB_grid_noPmax_mean_error_TEST, Area_pred_XGB_noPmax_mean_error_TEST_rel"
   ]
  },
  {
   "cell_type": "code",
   "execution_count": null,
   "metadata": {},
   "outputs": [],
   "source": []
  },
  {
   "cell_type": "code",
   "execution_count": 256,
   "metadata": {},
   "outputs": [
    {
     "data": {
      "text/plain": [
       "10.892353768622336"
      ]
     },
     "execution_count": 256,
     "metadata": {},
     "output_type": "execute_result"
    }
   ],
   "source": [
    "#MAE for Area and Area_pred without Pmax\n",
    "\n",
    "mae_area_noPmax_pred_XGB_grid_TEST = mean_absolute_error(df_TEST_pred_XGB_grid_summary_noPmax['Area'],df_TEST_pred_XGB_grid_summary_noPmax['Area_pred'])\n",
    "mae_area_noPmax_pred_XGB_grid_TEST"
   ]
  },
  {
   "cell_type": "code",
   "execution_count": 257,
   "metadata": {},
   "outputs": [
    {
     "data": {
      "text/plain": [
       "36.23131762392866"
      ]
     },
     "execution_count": 257,
     "metadata": {},
     "output_type": "execute_result"
    }
   ],
   "source": [
    "#RMSE for Area and Area_pred without Pmax\n",
    "\n",
    "rmse_area_noPmax_pred_XGB_grid_TEST = (np.sqrt(mean_squared_error(df_TEST_pred_XGB_grid_summary_noPmax['Area'],df_TEST_pred_XGB_grid_summary_noPmax['Area_pred'])))\n",
    "rmse_area_noPmax_pred_XGB_grid_TEST"
   ]
  },
  {
   "cell_type": "code",
   "execution_count": null,
   "metadata": {},
   "outputs": [],
   "source": []
  },
  {
   "cell_type": "markdown",
   "metadata": {},
   "source": [
    "### 6. NAIVE MODEL\n",
    "\n",
    "In this section a dumb model is developed to have a baseline as reference for the future models to be built.\n",
    "\n",
    "In this case, two dumb models will be created:\n",
    "\n",
    "* Naive_24h: the target prediction will be the same as is was 24h before\n",
    "* Naive_mean: the target prediction will be the average of 24h and 168h before"
   ]
  },
  {
   "cell_type": "code",
   "execution_count": 258,
   "metadata": {},
   "outputs": [],
   "source": [
    "#NAIVE MODEL-24h\n",
    "\n",
    "y_dE_naive_TEST = []\n",
    "\n",
    "hours = len(df_X_dE_TEST)\n",
    "\n",
    "for hour in range(0,hours):\n",
    "    y_dE_naive_TEST.append(df_X_dE_TEST[hour][['Energy_24h', 'Price_24h']])"
   ]
  },
  {
   "cell_type": "code",
   "execution_count": null,
   "metadata": {},
   "outputs": [],
   "source": []
  },
  {
   "cell_type": "code",
   "execution_count": 259,
   "metadata": {},
   "outputs": [],
   "source": [
    "df_TEST_pred_naive_summary  = df_pred_summary(y_dE_TEST, y_dE_naive_TEST)"
   ]
  },
  {
   "cell_type": "code",
   "execution_count": 260,
   "metadata": {},
   "outputs": [
    {
     "data": {
      "text/plain": [
       "Index(['dE', 'Price', 'dE_pred', 'Price_pred', 'dE_diff', 'Price_diff', 'Area',\n",
       "       'Area_pred', 'Area_diff', 'Area_diff_rel(%)', 'Period'],\n",
       "      dtype='object')"
      ]
     },
     "execution_count": 260,
     "metadata": {},
     "output_type": "execute_result"
    }
   ],
   "source": [
    "df_TEST_pred_naive_summary.columns"
   ]
  },
  {
   "cell_type": "code",
   "execution_count": 261,
   "metadata": {},
   "outputs": [
    {
     "data": {
      "text/plain": [
       "0.34119847670250897"
      ]
     },
     "execution_count": 261,
     "metadata": {},
     "output_type": "execute_result"
    }
   ],
   "source": [
    "#MAE for Area and Area_pred\n",
    "\n",
    "mae_pred_naive_TEST = mean_absolute_error(df_TEST_pred_naive_summary[['dE','Price']],df_TEST_pred_naive_summary[['dE_pred','Price_pred']])\n",
    "mae_pred_naive_TEST"
   ]
  },
  {
   "cell_type": "code",
   "execution_count": 262,
   "metadata": {},
   "outputs": [
    {
     "data": {
      "text/plain": [
       "5.557005754831408"
      ]
     },
     "execution_count": 262,
     "metadata": {},
     "output_type": "execute_result"
    }
   ],
   "source": [
    "#RMSE for Area and Area_pred\n",
    "\n",
    "rmse_pred_naive_TEST = (np.sqrt(mean_squared_error(df_TEST_pred_naive_summary[['dE','Price']],df_TEST_pred_naive_summary[['dE_pred','Price_pred']])))\n",
    "rmse_pred_naive_TEST"
   ]
  },
  {
   "cell_type": "code",
   "execution_count": 263,
   "metadata": {},
   "outputs": [
    {
     "data": {
      "text/plain": [
       "19.157890905017922"
      ]
     },
     "execution_count": 263,
     "metadata": {},
     "output_type": "execute_result"
    }
   ],
   "source": [
    "#MAE for Area and Area_pred\n",
    "\n",
    "mae_area_pred_naive_TEST = mean_absolute_error(df_TEST_pred_naive_summary['Area'],df_TEST_pred_naive_summary['Area_pred'])\n",
    "mae_area_pred_naive_TEST"
   ]
  },
  {
   "cell_type": "code",
   "execution_count": 264,
   "metadata": {},
   "outputs": [
    {
     "data": {
      "text/plain": [
       "519.643875137234"
      ]
     },
     "execution_count": 264,
     "metadata": {},
     "output_type": "execute_result"
    }
   ],
   "source": [
    "#RMSE for Area and Area_pred\n",
    "\n",
    "rmse_area_pred_naive_TEST = (np.sqrt(mean_squared_error(df_TEST_pred_naive_summary['Area'],df_TEST_pred_naive_summary['Area_pred'])))\n",
    "rmse_area_pred_naive_TEST"
   ]
  },
  {
   "cell_type": "code",
   "execution_count": null,
   "metadata": {},
   "outputs": [],
   "source": []
  },
  {
   "cell_type": "code",
   "execution_count": 265,
   "metadata": {},
   "outputs": [
    {
     "data": {
      "text/html": [
       "<div>\n",
       "<style scoped>\n",
       "    .dataframe tbody tr th:only-of-type {\n",
       "        vertical-align: middle;\n",
       "    }\n",
       "\n",
       "    .dataframe tbody tr th {\n",
       "        vertical-align: top;\n",
       "    }\n",
       "\n",
       "    .dataframe thead th {\n",
       "        text-align: right;\n",
       "    }\n",
       "</style>\n",
       "<table border=\"1\" class=\"dataframe\">\n",
       "  <thead>\n",
       "    <tr style=\"text-align: right;\">\n",
       "      <th></th>\n",
       "      <th>dE</th>\n",
       "      <th>Price</th>\n",
       "      <th>dE_pred</th>\n",
       "      <th>Price_pred</th>\n",
       "      <th>dE_diff</th>\n",
       "      <th>Price_diff</th>\n",
       "      <th>Area</th>\n",
       "      <th>Area_pred</th>\n",
       "      <th>Area_diff</th>\n",
       "      <th>Area_diff_rel(%)</th>\n",
       "      <th>Period</th>\n",
       "    </tr>\n",
       "  </thead>\n",
       "  <tbody>\n",
       "    <tr>\n",
       "      <th>3</th>\n",
       "      <td>75.00</td>\n",
       "      <td>1.13</td>\n",
       "      <td>75.00</td>\n",
       "      <td>1.13</td>\n",
       "      <td>0.00</td>\n",
       "      <td>0.00</td>\n",
       "      <td>84.75</td>\n",
       "      <td>84.75</td>\n",
       "      <td>0.00</td>\n",
       "      <td>0.00</td>\n",
       "      <td>1</td>\n",
       "    </tr>\n",
       "    <tr>\n",
       "      <th>4</th>\n",
       "      <td>120.00</td>\n",
       "      <td>1.13</td>\n",
       "      <td>120.00</td>\n",
       "      <td>1.13</td>\n",
       "      <td>0.00</td>\n",
       "      <td>0.00</td>\n",
       "      <td>135.60</td>\n",
       "      <td>135.60</td>\n",
       "      <td>0.00</td>\n",
       "      <td>0.00</td>\n",
       "      <td>1</td>\n",
       "    </tr>\n",
       "    <tr>\n",
       "      <th>5</th>\n",
       "      <td>120.00</td>\n",
       "      <td>1.13</td>\n",
       "      <td>120.00</td>\n",
       "      <td>1.13</td>\n",
       "      <td>0.00</td>\n",
       "      <td>0.00</td>\n",
       "      <td>135.60</td>\n",
       "      <td>135.60</td>\n",
       "      <td>0.00</td>\n",
       "      <td>0.00</td>\n",
       "      <td>1</td>\n",
       "    </tr>\n",
       "    <tr>\n",
       "      <th>6</th>\n",
       "      <td>120.00</td>\n",
       "      <td>1.13</td>\n",
       "      <td>120.00</td>\n",
       "      <td>1.13</td>\n",
       "      <td>0.00</td>\n",
       "      <td>0.00</td>\n",
       "      <td>135.60</td>\n",
       "      <td>135.60</td>\n",
       "      <td>0.00</td>\n",
       "      <td>0.00</td>\n",
       "      <td>1</td>\n",
       "    </tr>\n",
       "    <tr>\n",
       "      <th>7</th>\n",
       "      <td>120.00</td>\n",
       "      <td>1.13</td>\n",
       "      <td>120.00</td>\n",
       "      <td>1.13</td>\n",
       "      <td>0.00</td>\n",
       "      <td>0.00</td>\n",
       "      <td>135.60</td>\n",
       "      <td>135.60</td>\n",
       "      <td>0.00</td>\n",
       "      <td>0.00</td>\n",
       "      <td>1</td>\n",
       "    </tr>\n",
       "    <tr>\n",
       "      <th>...</th>\n",
       "      <td>...</td>\n",
       "      <td>...</td>\n",
       "      <td>...</td>\n",
       "      <td>...</td>\n",
       "      <td>...</td>\n",
       "      <td>...</td>\n",
       "      <td>...</td>\n",
       "      <td>...</td>\n",
       "      <td>...</td>\n",
       "      <td>...</td>\n",
       "      <td>...</td>\n",
       "    </tr>\n",
       "    <tr>\n",
       "      <th>8179</th>\n",
       "      <td>17.00</td>\n",
       "      <td>44.48</td>\n",
       "      <td>17.00</td>\n",
       "      <td>44.48</td>\n",
       "      <td>0.00</td>\n",
       "      <td>0.00</td>\n",
       "      <td>756.16</td>\n",
       "      <td>756.16</td>\n",
       "      <td>0.00</td>\n",
       "      <td>0.00</td>\n",
       "      <td>11</td>\n",
       "    </tr>\n",
       "    <tr>\n",
       "      <th>8180</th>\n",
       "      <td>17.00</td>\n",
       "      <td>44.48</td>\n",
       "      <td>17.00</td>\n",
       "      <td>44.48</td>\n",
       "      <td>0.00</td>\n",
       "      <td>0.00</td>\n",
       "      <td>756.16</td>\n",
       "      <td>756.16</td>\n",
       "      <td>0.00</td>\n",
       "      <td>0.00</td>\n",
       "      <td>11</td>\n",
       "    </tr>\n",
       "    <tr>\n",
       "      <th>8181</th>\n",
       "      <td>17.00</td>\n",
       "      <td>44.48</td>\n",
       "      <td>17.00</td>\n",
       "      <td>44.48</td>\n",
       "      <td>0.00</td>\n",
       "      <td>0.00</td>\n",
       "      <td>756.16</td>\n",
       "      <td>756.16</td>\n",
       "      <td>0.00</td>\n",
       "      <td>0.00</td>\n",
       "      <td>11</td>\n",
       "    </tr>\n",
       "    <tr>\n",
       "      <th>8182</th>\n",
       "      <td>17.00</td>\n",
       "      <td>44.48</td>\n",
       "      <td>17.00</td>\n",
       "      <td>44.48</td>\n",
       "      <td>0.00</td>\n",
       "      <td>0.00</td>\n",
       "      <td>756.16</td>\n",
       "      <td>756.16</td>\n",
       "      <td>0.00</td>\n",
       "      <td>0.00</td>\n",
       "      <td>11</td>\n",
       "    </tr>\n",
       "    <tr>\n",
       "      <th>8183</th>\n",
       "      <td>17.00</td>\n",
       "      <td>44.48</td>\n",
       "      <td>17.00</td>\n",
       "      <td>44.48</td>\n",
       "      <td>0.00</td>\n",
       "      <td>0.00</td>\n",
       "      <td>756.16</td>\n",
       "      <td>756.16</td>\n",
       "      <td>0.00</td>\n",
       "      <td>0.00</td>\n",
       "      <td>11</td>\n",
       "    </tr>\n",
       "  </tbody>\n",
       "</table>\n",
       "<p>5436 rows × 11 columns</p>\n",
       "</div>"
      ],
      "text/plain": [
       "         dE  Price  dE_pred  Price_pred  dE_diff  Price_diff   Area  \\\n",
       "3     75.00   1.13    75.00        1.13     0.00        0.00  84.75   \n",
       "4    120.00   1.13   120.00        1.13     0.00        0.00 135.60   \n",
       "5    120.00   1.13   120.00        1.13     0.00        0.00 135.60   \n",
       "6    120.00   1.13   120.00        1.13     0.00        0.00 135.60   \n",
       "7    120.00   1.13   120.00        1.13     0.00        0.00 135.60   \n",
       "...     ...    ...      ...         ...      ...         ...    ...   \n",
       "8179  17.00  44.48    17.00       44.48     0.00        0.00 756.16   \n",
       "8180  17.00  44.48    17.00       44.48     0.00        0.00 756.16   \n",
       "8181  17.00  44.48    17.00       44.48     0.00        0.00 756.16   \n",
       "8182  17.00  44.48    17.00       44.48     0.00        0.00 756.16   \n",
       "8183  17.00  44.48    17.00       44.48     0.00        0.00 756.16   \n",
       "\n",
       "      Area_pred  Area_diff  Area_diff_rel(%)  Period  \n",
       "3         84.75       0.00              0.00       1  \n",
       "4        135.60       0.00              0.00       1  \n",
       "5        135.60       0.00              0.00       1  \n",
       "6        135.60       0.00              0.00       1  \n",
       "7        135.60       0.00              0.00       1  \n",
       "...         ...        ...               ...     ...  \n",
       "8179     756.16       0.00              0.00      11  \n",
       "8180     756.16       0.00              0.00      11  \n",
       "8181     756.16       0.00              0.00      11  \n",
       "8182     756.16       0.00              0.00      11  \n",
       "8183     756.16       0.00              0.00      11  \n",
       "\n",
       "[5436 rows x 11 columns]"
      ]
     },
     "execution_count": 265,
     "metadata": {},
     "output_type": "execute_result"
    }
   ],
   "source": [
    "df_TEST_pred_naive_summary_noPmax = df_pred_summary_noPmax(df_TEST_pred_naive_summary)\n",
    "df_TEST_pred_naive_summary_noPmax"
   ]
  },
  {
   "cell_type": "code",
   "execution_count": 266,
   "metadata": {},
   "outputs": [
    {
     "data": {
      "text/plain": [
       "6.251146063281823"
      ]
     },
     "execution_count": 266,
     "metadata": {},
     "output_type": "execute_result"
    }
   ],
   "source": [
    "#MAE for Area and Area_pred naive\n",
    "\n",
    "mae_area_naive_noPmax_TEST = mean_absolute_error(df_TEST_pred_naive_summary_noPmax['Area'],df_TEST_pred_naive_summary_noPmax['Area_pred'])\n",
    "mae_area_naive_noPmax_TEST"
   ]
  },
  {
   "cell_type": "code",
   "execution_count": 267,
   "metadata": {},
   "outputs": [
    {
     "data": {
      "text/plain": [
       "34.694590619678856"
      ]
     },
     "execution_count": 267,
     "metadata": {},
     "output_type": "execute_result"
    }
   ],
   "source": [
    "#RMSE for Area and Area_pred\n",
    "\n",
    "rmse_area_naive_noPmax_TEST = (np.sqrt(mean_squared_error(df_TEST_pred_naive_summary_noPmax['Area'],df_TEST_pred_naive_summary_noPmax['Area_pred'])))\n",
    "rmse_area_naive_noPmax_TEST"
   ]
  },
  {
   "cell_type": "code",
   "execution_count": null,
   "metadata": {},
   "outputs": [],
   "source": []
  },
  {
   "cell_type": "markdown",
   "metadata": {},
   "source": [
    "## NAIVE MODEL EASIEST THAN THE USED ABOVE (it can be used for all approaches -hour, block or total-)"
   ]
  },
  {
   "cell_type": "code",
   "execution_count": 268,
   "metadata": {},
   "outputs": [],
   "source": [
    "y_dE_naive_TEST_2 = df_set_dE_TEST[['Energy_24h','Price_24h']]"
   ]
  },
  {
   "cell_type": "code",
   "execution_count": 269,
   "metadata": {},
   "outputs": [],
   "source": [
    "y_dE_TEST_2 = df_set_dE_TEST[['Energy','Price']]"
   ]
  },
  {
   "cell_type": "code",
   "execution_count": 270,
   "metadata": {},
   "outputs": [
    {
     "data": {
      "text/plain": [
       "5.557005754831409"
      ]
     },
     "execution_count": 270,
     "metadata": {},
     "output_type": "execute_result"
    }
   ],
   "source": [
    "np.sqrt(mean_squared_error(y_dE_TEST_2,y_dE_naive_TEST_2))"
   ]
  },
  {
   "cell_type": "code",
   "execution_count": 271,
   "metadata": {
    "scrolled": false
   },
   "outputs": [
    {
     "data": {
      "text/plain": [
       "0.34119847670250897"
      ]
     },
     "execution_count": 271,
     "metadata": {},
     "output_type": "execute_result"
    }
   ],
   "source": [
    "mean_absolute_error(y_dE_TEST_2,y_dE_naive_TEST_2)"
   ]
  },
  {
   "cell_type": "code",
   "execution_count": 272,
   "metadata": {},
   "outputs": [
    {
     "data": {
      "text/plain": [
       "19.157890905017922"
      ]
     },
     "execution_count": 272,
     "metadata": {},
     "output_type": "execute_result"
    }
   ],
   "source": [
    "mean_absolute_error(y_dE_TEST_2['Energy']*y_dE_TEST_2['Price'],\n",
    "                    y_dE_naive_TEST_2['Energy_24h']*y_dE_naive_TEST_2['Price_24h'])"
   ]
  },
  {
   "cell_type": "code",
   "execution_count": 273,
   "metadata": {
    "scrolled": true
   },
   "outputs": [
    {
     "data": {
      "text/plain": [
       "519.6438751372341"
      ]
     },
     "execution_count": 273,
     "metadata": {},
     "output_type": "execute_result"
    }
   ],
   "source": [
    "np.sqrt(mean_squared_error(y_dE_TEST_2['Energy']*y_dE_TEST_2['Price'],\n",
    "                           y_dE_naive_TEST_2['Energy_24h']*y_dE_naive_TEST_2['Price_24h']))"
   ]
  },
  {
   "cell_type": "code",
   "execution_count": null,
   "metadata": {},
   "outputs": [],
   "source": []
  },
  {
   "cell_type": "code",
   "execution_count": 274,
   "metadata": {},
   "outputs": [
    {
     "data": {
      "text/plain": [
       "6.251146063281823"
      ]
     },
     "execution_count": 274,
     "metadata": {},
     "output_type": "execute_result"
    }
   ],
   "source": [
    "mean_absolute_error(df_set_dE_TEST[df_set_dE_TEST['Price']!=df_set_dE_TEST['Price'].max()]['Energy']*\n",
    "                    df_set_dE_TEST[df_set_dE_TEST['Price']!=df_set_dE_TEST['Price'].max()]['Price'],\n",
    "                    df_set_dE_TEST[df_set_dE_TEST['Price']!=df_set_dE_TEST['Price'].max()]['Energy_24h']*\n",
    "                    df_set_dE_TEST[df_set_dE_TEST['Price']!=df_set_dE_TEST['Price'].max()]['Price_24h'])"
   ]
  },
  {
   "cell_type": "code",
   "execution_count": 275,
   "metadata": {},
   "outputs": [
    {
     "data": {
      "text/plain": [
       "34.694590619678856"
      ]
     },
     "execution_count": 275,
     "metadata": {},
     "output_type": "execute_result"
    }
   ],
   "source": [
    "np.sqrt(mean_squared_error(df_set_dE_TEST[df_set_dE_TEST['Price']!=df_set_dE_TEST['Price'].max()]['Energy']*\n",
    "                    df_set_dE_TEST[df_set_dE_TEST['Price']!=df_set_dE_TEST['Price'].max()]['Price'],\n",
    "                    df_set_dE_TEST[df_set_dE_TEST['Price']!=df_set_dE_TEST['Price'].max()]['Energy_24h']*\n",
    "                    df_set_dE_TEST[df_set_dE_TEST['Price']!=df_set_dE_TEST['Price'].max()]['Price_24h']))"
   ]
  },
  {
   "cell_type": "code",
   "execution_count": null,
   "metadata": {},
   "outputs": [],
   "source": []
  },
  {
   "cell_type": "code",
   "execution_count": null,
   "metadata": {},
   "outputs": [],
   "source": []
  },
  {
   "cell_type": "code",
   "execution_count": null,
   "metadata": {},
   "outputs": [],
   "source": []
  },
  {
   "cell_type": "code",
   "execution_count": null,
   "metadata": {},
   "outputs": [],
   "source": []
  },
  {
   "cell_type": "code",
   "execution_count": null,
   "metadata": {},
   "outputs": [],
   "source": []
  },
  {
   "cell_type": "code",
   "execution_count": null,
   "metadata": {},
   "outputs": [],
   "source": []
  },
  {
   "cell_type": "code",
   "execution_count": null,
   "metadata": {},
   "outputs": [],
   "source": []
  },
  {
   "cell_type": "markdown",
   "metadata": {},
   "source": [
    "### MODELS' RESULTS SUMMARY "
   ]
  },
  {
   "cell_type": "code",
   "execution_count": 277,
   "metadata": {
    "scrolled": true
   },
   "outputs": [
    {
     "data": {
      "text/html": [
       "<div>\n",
       "<style scoped>\n",
       "    .dataframe tbody tr th:only-of-type {\n",
       "        vertical-align: middle;\n",
       "    }\n",
       "\n",
       "    .dataframe tbody tr th {\n",
       "        vertical-align: top;\n",
       "    }\n",
       "\n",
       "    .dataframe thead th {\n",
       "        text-align: right;\n",
       "    }\n",
       "</style>\n",
       "<table border=\"1\" class=\"dataframe\">\n",
       "  <thead>\n",
       "    <tr style=\"text-align: right;\">\n",
       "      <th></th>\n",
       "      <th>MAE</th>\n",
       "      <th>RMSE</th>\n",
       "      <th>MAE_area</th>\n",
       "      <th>RMSE_area</th>\n",
       "      <th>MAE_area_noPmax</th>\n",
       "      <th>RMSE_area_noPmax</th>\n",
       "    </tr>\n",
       "  </thead>\n",
       "  <tbody>\n",
       "    <tr>\n",
       "      <th>Naive</th>\n",
       "      <td>0.34</td>\n",
       "      <td>5.56</td>\n",
       "      <td>19.16</td>\n",
       "      <td>519.64</td>\n",
       "      <td>6.25</td>\n",
       "      <td>34.69</td>\n",
       "    </tr>\n",
       "    <tr>\n",
       "      <th>Random Forest(basic)</th>\n",
       "      <td>0.42</td>\n",
       "      <td>5.34</td>\n",
       "      <td>22.30</td>\n",
       "      <td>520.23</td>\n",
       "      <td>11.23</td>\n",
       "      <td>36.34</td>\n",
       "    </tr>\n",
       "    <tr>\n",
       "      <th>Random Forest(hyper)</th>\n",
       "      <td>0.42</td>\n",
       "      <td>5.42</td>\n",
       "      <td>23.56</td>\n",
       "      <td>519.96</td>\n",
       "      <td>10.42</td>\n",
       "      <td>36.04</td>\n",
       "    </tr>\n",
       "    <tr>\n",
       "      <th>XGBosst(basic)</th>\n",
       "      <td>0.40</td>\n",
       "      <td>5.51</td>\n",
       "      <td>22.37</td>\n",
       "      <td>534.65</td>\n",
       "      <td>8.68</td>\n",
       "      <td>35.07</td>\n",
       "    </tr>\n",
       "    <tr>\n",
       "      <th>XGBosst(hyper)</th>\n",
       "      <td>0.43</td>\n",
       "      <td>5.53</td>\n",
       "      <td>22.90</td>\n",
       "      <td>553.97</td>\n",
       "      <td>10.89</td>\n",
       "      <td>36.23</td>\n",
       "    </tr>\n",
       "  </tbody>\n",
       "</table>\n",
       "</div>"
      ],
      "text/plain": [
       "                      MAE  RMSE  MAE_area  RMSE_area  MAE_area_noPmax  \\\n",
       "Naive                0.34  5.56     19.16     519.64             6.25   \n",
       "Random Forest(basic) 0.42  5.34     22.30     520.23            11.23   \n",
       "Random Forest(hyper) 0.42  5.42     23.56     519.96            10.42   \n",
       "XGBosst(basic)       0.40  5.51     22.37     534.65             8.68   \n",
       "XGBosst(hyper)       0.43  5.53     22.90     553.97            10.89   \n",
       "\n",
       "                      RMSE_area_noPmax  \n",
       "Naive                            34.69  \n",
       "Random Forest(basic)             36.34  \n",
       "Random Forest(hyper)             36.04  \n",
       "XGBosst(basic)                   35.07  \n",
       "XGBosst(hyper)                   36.23  "
      ]
     },
     "execution_count": 277,
     "metadata": {},
     "output_type": "execute_result"
    }
   ],
   "source": [
    "models_summary = pd.DataFrame({'MAE': [np.mean(mae_pred_naive_TEST),\n",
    "                                       np.mean(mae_dE_TEST_rf),\n",
    "                                       np.mean(mae_dE_TEST_rf_grid),\n",
    "                                       np.mean(mae_dE_TEST_chain_XGB),\n",
    "                                       np.mean(mae_dE_TEST_chain_XGB_grid)],\n",
    "                              'RMSE': [np.mean(rmse_pred_naive_TEST),\n",
    "                                       np.mean(rmse_dE_TEST_rf),\n",
    "                                       np.mean(rmse_dE_TEST_rf_grid),\n",
    "                                       np.mean(rmse_dE_TEST_chain_XGB),\n",
    "                                       np.mean(rmse_dE_TEST_chain_XGB_grid)],\n",
    "                              'MAE_area': [mae_area_pred_naive_TEST,\n",
    "                                           mae_area_pred_TEST,\n",
    "                                           mae_area_pred_grid_TEST,\n",
    "                                           mae_area_pred_XGB_TEST,\n",
    "                                           mae_area_pred_XGB_grid_TEST],\n",
    "                              'RMSE_area': [rmse_area_pred_naive_TEST,\n",
    "                                            rmse_area_pred_TEST,\n",
    "                                            rmse_area_pred_grid_TEST,\n",
    "                                            rmse_area_pred_XGB_TEST,\n",
    "                                            rmse_area_pred_XGB_grid_TEST],\n",
    "                              'MAE_area_noPmax': [mae_area_naive_noPmax_TEST,\n",
    "                                                  mae_area_noPmax_pred_TEST,\n",
    "                                                  mae_area_noPmax_pred_grid_TEST,\n",
    "                                                  mae_area_noPmax_pred_XGB_TEST,\n",
    "                                                  mae_area_noPmax_pred_XGB_grid_TEST],\n",
    "                              'RMSE_area_noPmax': [rmse_area_naive_noPmax_TEST,\n",
    "                                                   rmse_area_noPmax_pred_TEST,\n",
    "                                                   rmse_area_noPmax_pred_grid_TEST,\n",
    "                                                   rmse_area_noPmax_pred_XGB_TEST,\n",
    "                                                   rmse_area_noPmax_pred_XGB_grid_TEST]},\n",
    "                              index =['Naive', 'Random Forest(basic)', \n",
    "                                      'Random Forest(hyper)','XGBosst(basic)','XGBosst(hyper)'])\n",
    "models_summary"
   ]
  },
  {
   "cell_type": "code",
   "execution_count": null,
   "metadata": {},
   "outputs": [],
   "source": []
  }
 ],
 "metadata": {
  "kernelspec": {
   "display_name": "Python 3",
   "language": "python",
   "name": "python3"
  },
  "language_info": {
   "codemirror_mode": {
    "name": "ipython",
    "version": 3
   },
   "file_extension": ".py",
   "mimetype": "text/x-python",
   "name": "python",
   "nbconvert_exporter": "python",
   "pygments_lexer": "ipython3",
   "version": "3.8.5"
  }
 },
 "nbformat": 4,
 "nbformat_minor": 4
}
