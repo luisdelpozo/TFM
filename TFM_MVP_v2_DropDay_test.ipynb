{
 "cells": [
  {
   "cell_type": "markdown",
   "metadata": {},
   "source": [
    "# TFM - MVP - CCC PALOS 1\n",
    "\n",
    "### TESTING DROPPING FEATURE \"DAY\" - CONCLUSION: \"DAY\" MUST BE INCLUDED AS FEATURE"
   ]
  },
  {
   "cell_type": "markdown",
   "metadata": {},
   "source": [
    "In this Notebook unit PALOS 1 will be explored, ploted, and first MVP will be created.\n",
    "\n",
    "First of all, a function to plot an hourly bid curve for a specific day will be created."
   ]
  },
  {
   "cell_type": "code",
   "execution_count": 91,
   "metadata": {},
   "outputs": [],
   "source": [
    "import pandas as pd\n",
    "import numpy as np\n",
    "import matplotlib.pyplot as plt\n",
    "import seaborn as sns\n",
    "\n",
    "\n",
    "#df will be all data for unit PALOS1 from november 2019 to october 2020. \n",
    "#This data was previously created from OMIE web page\n",
    "\n",
    "df = pd.read_csv('/home/dsc/Documents/TFM/Data/OMIE/OMIE_PALOS1/OMIE_PALOS1.csv',index_col=0)"
   ]
  },
  {
   "cell_type": "code",
   "execution_count": 92,
   "metadata": {},
   "outputs": [
    {
     "data": {
      "text/html": [
       "<div>\n",
       "<style scoped>\n",
       "    .dataframe tbody tr th:only-of-type {\n",
       "        vertical-align: middle;\n",
       "    }\n",
       "\n",
       "    .dataframe tbody tr th {\n",
       "        vertical-align: top;\n",
       "    }\n",
       "\n",
       "    .dataframe thead th {\n",
       "        text-align: right;\n",
       "    }\n",
       "</style>\n",
       "<table border=\"1\" class=\"dataframe\">\n",
       "  <thead>\n",
       "    <tr style=\"text-align: right;\">\n",
       "      <th></th>\n",
       "      <th>Bid_Code</th>\n",
       "      <th>Num_Version</th>\n",
       "      <th>Bid_Unit</th>\n",
       "      <th>Unit_Description</th>\n",
       "      <th>Sell_Buy</th>\n",
       "      <th>Pot_max</th>\n",
       "      <th>Year</th>\n",
       "      <th>Month</th>\n",
       "      <th>Day</th>\n",
       "      <th>Period</th>\n",
       "      <th>Block</th>\n",
       "      <th>Price</th>\n",
       "      <th>Energy</th>\n",
       "    </tr>\n",
       "  </thead>\n",
       "  <tbody>\n",
       "    <tr>\n",
       "      <th>0</th>\n",
       "      <td>6128191</td>\n",
       "      <td>2</td>\n",
       "      <td>PALOS1</td>\n",
       "      <td>C.C. PALOS 1</td>\n",
       "      <td>VNO</td>\n",
       "      <td>394.10</td>\n",
       "      <td>2020</td>\n",
       "      <td>1</td>\n",
       "      <td>1</td>\n",
       "      <td>1</td>\n",
       "      <td>12</td>\n",
       "      <td>180.30</td>\n",
       "      <td>394.10</td>\n",
       "    </tr>\n",
       "    <tr>\n",
       "      <th>1</th>\n",
       "      <td>6128191</td>\n",
       "      <td>2</td>\n",
       "      <td>PALOS1</td>\n",
       "      <td>C.C. PALOS 1</td>\n",
       "      <td>VNO</td>\n",
       "      <td>394.10</td>\n",
       "      <td>2020</td>\n",
       "      <td>1</td>\n",
       "      <td>1</td>\n",
       "      <td>2</td>\n",
       "      <td>12</td>\n",
       "      <td>180.30</td>\n",
       "      <td>394.10</td>\n",
       "    </tr>\n",
       "    <tr>\n",
       "      <th>2</th>\n",
       "      <td>6128191</td>\n",
       "      <td>2</td>\n",
       "      <td>PALOS1</td>\n",
       "      <td>C.C. PALOS 1</td>\n",
       "      <td>VNO</td>\n",
       "      <td>394.10</td>\n",
       "      <td>2020</td>\n",
       "      <td>1</td>\n",
       "      <td>1</td>\n",
       "      <td>3</td>\n",
       "      <td>1</td>\n",
       "      <td>1.13</td>\n",
       "      <td>50.00</td>\n",
       "    </tr>\n",
       "    <tr>\n",
       "      <th>3</th>\n",
       "      <td>6128191</td>\n",
       "      <td>2</td>\n",
       "      <td>PALOS1</td>\n",
       "      <td>C.C. PALOS 1</td>\n",
       "      <td>VNO</td>\n",
       "      <td>394.10</td>\n",
       "      <td>2020</td>\n",
       "      <td>1</td>\n",
       "      <td>1</td>\n",
       "      <td>3</td>\n",
       "      <td>12</td>\n",
       "      <td>180.30</td>\n",
       "      <td>344.10</td>\n",
       "    </tr>\n",
       "    <tr>\n",
       "      <th>4</th>\n",
       "      <td>6128191</td>\n",
       "      <td>2</td>\n",
       "      <td>PALOS1</td>\n",
       "      <td>C.C. PALOS 1</td>\n",
       "      <td>VNO</td>\n",
       "      <td>394.10</td>\n",
       "      <td>2020</td>\n",
       "      <td>1</td>\n",
       "      <td>1</td>\n",
       "      <td>4</td>\n",
       "      <td>1</td>\n",
       "      <td>1.13</td>\n",
       "      <td>60.00</td>\n",
       "    </tr>\n",
       "  </tbody>\n",
       "</table>\n",
       "</div>"
      ],
      "text/plain": [
       "   Bid_Code  Num_Version Bid_Unit Unit_Description Sell_Buy  Pot_max  Year  \\\n",
       "0   6128191            2   PALOS1     C.C. PALOS 1      VNO   394.10  2020   \n",
       "1   6128191            2   PALOS1     C.C. PALOS 1      VNO   394.10  2020   \n",
       "2   6128191            2   PALOS1     C.C. PALOS 1      VNO   394.10  2020   \n",
       "3   6128191            2   PALOS1     C.C. PALOS 1      VNO   394.10  2020   \n",
       "4   6128191            2   PALOS1     C.C. PALOS 1      VNO   394.10  2020   \n",
       "\n",
       "   Month  Day  Period  Block  Price  Energy  \n",
       "0      1    1       1     12 180.30  394.10  \n",
       "1      1    1       2     12 180.30  394.10  \n",
       "2      1    1       3      1   1.13   50.00  \n",
       "3      1    1       3     12 180.30  344.10  \n",
       "4      1    1       4      1   1.13   60.00  "
      ]
     },
     "execution_count": 92,
     "metadata": {},
     "output_type": "execute_result"
    }
   ],
   "source": [
    "df.head()"
   ]
  },
  {
   "cell_type": "code",
   "execution_count": 93,
   "metadata": {},
   "outputs": [
    {
     "data": {
      "text/plain": [
       "(71112, 13)"
      ]
     },
     "execution_count": 93,
     "metadata": {},
     "output_type": "execute_result"
    }
   ],
   "source": [
    "df.shape"
   ]
  },
  {
   "cell_type": "code",
   "execution_count": 94,
   "metadata": {
    "scrolled": false
   },
   "outputs": [
    {
     "data": {
      "text/html": [
       "<div>\n",
       "<style scoped>\n",
       "    .dataframe tbody tr th:only-of-type {\n",
       "        vertical-align: middle;\n",
       "    }\n",
       "\n",
       "    .dataframe tbody tr th {\n",
       "        vertical-align: top;\n",
       "    }\n",
       "\n",
       "    .dataframe thead th {\n",
       "        text-align: right;\n",
       "    }\n",
       "</style>\n",
       "<table border=\"1\" class=\"dataframe\">\n",
       "  <thead>\n",
       "    <tr style=\"text-align: right;\">\n",
       "      <th></th>\n",
       "      <th>Bid_Code</th>\n",
       "      <th>Num_Version</th>\n",
       "      <th>Bid_Unit</th>\n",
       "      <th>Unit_Description</th>\n",
       "      <th>Sell_Buy</th>\n",
       "      <th>Pot_max</th>\n",
       "      <th>Year</th>\n",
       "      <th>Month</th>\n",
       "      <th>Day</th>\n",
       "      <th>Period</th>\n",
       "      <th>Block</th>\n",
       "      <th>Price</th>\n",
       "      <th>Energy</th>\n",
       "    </tr>\n",
       "  </thead>\n",
       "  <tbody>\n",
       "    <tr>\n",
       "      <th>71107</th>\n",
       "      <td>6126741</td>\n",
       "      <td>2</td>\n",
       "      <td>PALOS1</td>\n",
       "      <td>C.C. PALOS 1</td>\n",
       "      <td>VNO</td>\n",
       "      <td>394.10</td>\n",
       "      <td>2019</td>\n",
       "      <td>12</td>\n",
       "      <td>31</td>\n",
       "      <td>24</td>\n",
       "      <td>8</td>\n",
       "      <td>43.22</td>\n",
       "      <td>17.00</td>\n",
       "    </tr>\n",
       "    <tr>\n",
       "      <th>71108</th>\n",
       "      <td>6126741</td>\n",
       "      <td>2</td>\n",
       "      <td>PALOS1</td>\n",
       "      <td>C.C. PALOS 1</td>\n",
       "      <td>VNO</td>\n",
       "      <td>394.10</td>\n",
       "      <td>2019</td>\n",
       "      <td>12</td>\n",
       "      <td>31</td>\n",
       "      <td>24</td>\n",
       "      <td>9</td>\n",
       "      <td>44.26</td>\n",
       "      <td>17.00</td>\n",
       "    </tr>\n",
       "    <tr>\n",
       "      <th>71109</th>\n",
       "      <td>6126741</td>\n",
       "      <td>2</td>\n",
       "      <td>PALOS1</td>\n",
       "      <td>C.C. PALOS 1</td>\n",
       "      <td>VNO</td>\n",
       "      <td>394.10</td>\n",
       "      <td>2019</td>\n",
       "      <td>12</td>\n",
       "      <td>31</td>\n",
       "      <td>24</td>\n",
       "      <td>10</td>\n",
       "      <td>45.31</td>\n",
       "      <td>17.00</td>\n",
       "    </tr>\n",
       "    <tr>\n",
       "      <th>71110</th>\n",
       "      <td>6126741</td>\n",
       "      <td>2</td>\n",
       "      <td>PALOS1</td>\n",
       "      <td>C.C. PALOS 1</td>\n",
       "      <td>VNO</td>\n",
       "      <td>394.10</td>\n",
       "      <td>2019</td>\n",
       "      <td>12</td>\n",
       "      <td>31</td>\n",
       "      <td>24</td>\n",
       "      <td>11</td>\n",
       "      <td>46.35</td>\n",
       "      <td>17.00</td>\n",
       "    </tr>\n",
       "    <tr>\n",
       "      <th>71111</th>\n",
       "      <td>6126741</td>\n",
       "      <td>2</td>\n",
       "      <td>PALOS1</td>\n",
       "      <td>C.C. PALOS 1</td>\n",
       "      <td>VNO</td>\n",
       "      <td>394.10</td>\n",
       "      <td>2019</td>\n",
       "      <td>12</td>\n",
       "      <td>31</td>\n",
       "      <td>24</td>\n",
       "      <td>12</td>\n",
       "      <td>180.30</td>\n",
       "      <td>34.10</td>\n",
       "    </tr>\n",
       "  </tbody>\n",
       "</table>\n",
       "</div>"
      ],
      "text/plain": [
       "       Bid_Code  Num_Version Bid_Unit Unit_Description Sell_Buy  Pot_max  \\\n",
       "71107   6126741            2   PALOS1     C.C. PALOS 1      VNO   394.10   \n",
       "71108   6126741            2   PALOS1     C.C. PALOS 1      VNO   394.10   \n",
       "71109   6126741            2   PALOS1     C.C. PALOS 1      VNO   394.10   \n",
       "71110   6126741            2   PALOS1     C.C. PALOS 1      VNO   394.10   \n",
       "71111   6126741            2   PALOS1     C.C. PALOS 1      VNO   394.10   \n",
       "\n",
       "       Year  Month  Day  Period  Block  Price  Energy  \n",
       "71107  2019     12   31      24      8  43.22   17.00  \n",
       "71108  2019     12   31      24      9  44.26   17.00  \n",
       "71109  2019     12   31      24     10  45.31   17.00  \n",
       "71110  2019     12   31      24     11  46.35   17.00  \n",
       "71111  2019     12   31      24     12 180.30   34.10  "
      ]
     },
     "execution_count": 94,
     "metadata": {},
     "output_type": "execute_result"
    }
   ],
   "source": [
    "df.tail()"
   ]
  },
  {
   "cell_type": "code",
   "execution_count": 95,
   "metadata": {},
   "outputs": [
    {
     "data": {
      "text/plain": [
       "71112"
      ]
     },
     "execution_count": 95,
     "metadata": {},
     "output_type": "execute_result"
    }
   ],
   "source": [
    "len(df)"
   ]
  },
  {
   "cell_type": "code",
   "execution_count": 96,
   "metadata": {
    "scrolled": false
   },
   "outputs": [
    {
     "data": {
      "text/plain": [
       "Index(['Bid_Code', 'Num_Version', 'Bid_Unit', 'Unit_Description', 'Sell_Buy',\n",
       "       'Pot_max', 'Year', 'Month', 'Day', 'Period', 'Block', 'Price',\n",
       "       'Energy'],\n",
       "      dtype='object')"
      ]
     },
     "execution_count": 96,
     "metadata": {},
     "output_type": "execute_result"
    }
   ],
   "source": [
    "df.columns"
   ]
  },
  {
   "cell_type": "code",
   "execution_count": 97,
   "metadata": {},
   "outputs": [],
   "source": [
    "#pd.reset_option('precision')\n",
    "pd.options.display.float_format = '{:,.2f}'.format"
   ]
  },
  {
   "cell_type": "code",
   "execution_count": 98,
   "metadata": {
    "scrolled": true
   },
   "outputs": [
    {
     "data": {
      "text/html": [
       "<div>\n",
       "<style scoped>\n",
       "    .dataframe tbody tr th:only-of-type {\n",
       "        vertical-align: middle;\n",
       "    }\n",
       "\n",
       "    .dataframe tbody tr th {\n",
       "        vertical-align: top;\n",
       "    }\n",
       "\n",
       "    .dataframe thead th {\n",
       "        text-align: right;\n",
       "    }\n",
       "</style>\n",
       "<table border=\"1\" class=\"dataframe\">\n",
       "  <thead>\n",
       "    <tr style=\"text-align: right;\">\n",
       "      <th></th>\n",
       "      <th>Bid_Code</th>\n",
       "      <th>Num_Version</th>\n",
       "      <th>Pot_max</th>\n",
       "      <th>Year</th>\n",
       "      <th>Month</th>\n",
       "      <th>Day</th>\n",
       "      <th>Period</th>\n",
       "      <th>Block</th>\n",
       "      <th>Price</th>\n",
       "      <th>Energy</th>\n",
       "    </tr>\n",
       "  </thead>\n",
       "  <tbody>\n",
       "    <tr>\n",
       "      <th>count</th>\n",
       "      <td>71,112.00</td>\n",
       "      <td>71,112.00</td>\n",
       "      <td>71,112.00</td>\n",
       "      <td>71,112.00</td>\n",
       "      <td>71,112.00</td>\n",
       "      <td>71,112.00</td>\n",
       "      <td>71,112.00</td>\n",
       "      <td>71,112.00</td>\n",
       "      <td>71,112.00</td>\n",
       "      <td>71,112.00</td>\n",
       "    </tr>\n",
       "    <tr>\n",
       "      <th>mean</th>\n",
       "      <td>6,303,430.78</td>\n",
       "      <td>1.78</td>\n",
       "      <td>394.10</td>\n",
       "      <td>2,019.86</td>\n",
       "      <td>6.36</td>\n",
       "      <td>15.93</td>\n",
       "      <td>15.88</td>\n",
       "      <td>6.52</td>\n",
       "      <td>52.56</td>\n",
       "      <td>47.00</td>\n",
       "    </tr>\n",
       "    <tr>\n",
       "      <th>std</th>\n",
       "      <td>143,155.02</td>\n",
       "      <td>0.87</td>\n",
       "      <td>0.00</td>\n",
       "      <td>0.35</td>\n",
       "      <td>3.43</td>\n",
       "      <td>8.90</td>\n",
       "      <td>5.27</td>\n",
       "      <td>3.64</td>\n",
       "      <td>48.74</td>\n",
       "      <td>75.62</td>\n",
       "    </tr>\n",
       "    <tr>\n",
       "      <th>min</th>\n",
       "      <td>6,049,903.00</td>\n",
       "      <td>1.00</td>\n",
       "      <td>394.10</td>\n",
       "      <td>2,019.00</td>\n",
       "      <td>1.00</td>\n",
       "      <td>1.00</td>\n",
       "      <td>1.00</td>\n",
       "      <td>1.00</td>\n",
       "      <td>1.13</td>\n",
       "      <td>3.00</td>\n",
       "    </tr>\n",
       "    <tr>\n",
       "      <th>25%</th>\n",
       "      <td>6,176,254.00</td>\n",
       "      <td>1.00</td>\n",
       "      <td>394.10</td>\n",
       "      <td>2,020.00</td>\n",
       "      <td>3.00</td>\n",
       "      <td>8.00</td>\n",
       "      <td>12.00</td>\n",
       "      <td>3.00</td>\n",
       "      <td>35.40</td>\n",
       "      <td>17.00</td>\n",
       "    </tr>\n",
       "    <tr>\n",
       "      <th>50%</th>\n",
       "      <td>6,300,456.00</td>\n",
       "      <td>2.00</td>\n",
       "      <td>394.10</td>\n",
       "      <td>2,020.00</td>\n",
       "      <td>6.00</td>\n",
       "      <td>16.00</td>\n",
       "      <td>16.00</td>\n",
       "      <td>6.00</td>\n",
       "      <td>40.72</td>\n",
       "      <td>17.00</td>\n",
       "    </tr>\n",
       "    <tr>\n",
       "      <th>75%</th>\n",
       "      <td>6,427,697.00</td>\n",
       "      <td>2.00</td>\n",
       "      <td>394.10</td>\n",
       "      <td>2,020.00</td>\n",
       "      <td>9.00</td>\n",
       "      <td>24.00</td>\n",
       "      <td>20.00</td>\n",
       "      <td>10.00</td>\n",
       "      <td>45.42</td>\n",
       "      <td>17.00</td>\n",
       "    </tr>\n",
       "    <tr>\n",
       "      <th>max</th>\n",
       "      <td>6,555,573.00</td>\n",
       "      <td>5.00</td>\n",
       "      <td>394.10</td>\n",
       "      <td>2,020.00</td>\n",
       "      <td>12.00</td>\n",
       "      <td>31.00</td>\n",
       "      <td>25.00</td>\n",
       "      <td>12.00</td>\n",
       "      <td>180.30</td>\n",
       "      <td>394.10</td>\n",
       "    </tr>\n",
       "  </tbody>\n",
       "</table>\n",
       "</div>"
      ],
      "text/plain": [
       "          Bid_Code  Num_Version   Pot_max      Year     Month       Day  \\\n",
       "count    71,112.00    71,112.00 71,112.00 71,112.00 71,112.00 71,112.00   \n",
       "mean  6,303,430.78         1.78    394.10  2,019.86      6.36     15.93   \n",
       "std     143,155.02         0.87      0.00      0.35      3.43      8.90   \n",
       "min   6,049,903.00         1.00    394.10  2,019.00      1.00      1.00   \n",
       "25%   6,176,254.00         1.00    394.10  2,020.00      3.00      8.00   \n",
       "50%   6,300,456.00         2.00    394.10  2,020.00      6.00     16.00   \n",
       "75%   6,427,697.00         2.00    394.10  2,020.00      9.00     24.00   \n",
       "max   6,555,573.00         5.00    394.10  2,020.00     12.00     31.00   \n",
       "\n",
       "         Period     Block     Price    Energy  \n",
       "count 71,112.00 71,112.00 71,112.00 71,112.00  \n",
       "mean      15.88      6.52     52.56     47.00  \n",
       "std        5.27      3.64     48.74     75.62  \n",
       "min        1.00      1.00      1.13      3.00  \n",
       "25%       12.00      3.00     35.40     17.00  \n",
       "50%       16.00      6.00     40.72     17.00  \n",
       "75%       20.00     10.00     45.42     17.00  \n",
       "max       25.00     12.00    180.30    394.10  "
      ]
     },
     "execution_count": 98,
     "metadata": {},
     "output_type": "execute_result"
    }
   ],
   "source": [
    "df.describe()"
   ]
  },
  {
   "cell_type": "code",
   "execution_count": 99,
   "metadata": {},
   "outputs": [
    {
     "name": "stdout",
     "output_type": "stream",
     "text": [
      "No NaN in df\n"
     ]
    }
   ],
   "source": [
    "#Searching for NaN\n",
    "\n",
    "if df.shape[0] == df.dropna().shape[0]:\n",
    "    print('No NaN in df')"
   ]
  },
  {
   "cell_type": "code",
   "execution_count": 100,
   "metadata": {},
   "outputs": [
    {
     "data": {
      "text/plain": [
       "Bid_Code              int64\n",
       "Num_Version           int64\n",
       "Bid_Unit             object\n",
       "Unit_Description     object\n",
       "Sell_Buy             object\n",
       "Pot_max             float64\n",
       "Year                  int64\n",
       "Month                 int64\n",
       "Day                   int64\n",
       "Period                int64\n",
       "Block                 int64\n",
       "Price               float64\n",
       "Energy              float64\n",
       "dtype: object"
      ]
     },
     "execution_count": 100,
     "metadata": {},
     "output_type": "execute_result"
    }
   ],
   "source": [
    "df.dtypes"
   ]
  },
  {
   "cell_type": "code",
   "execution_count": 212,
   "metadata": {},
   "outputs": [],
   "source": [
    "#Picking only the information that will be needed for ploting the bid curve.\n",
    "\n",
    "df_curve = df[['Pot_max', 'Year', 'Month', 'Period', 'Day', 'Block', 'Price','Energy']]"
   ]
  },
  {
   "cell_type": "code",
   "execution_count": 213,
   "metadata": {},
   "outputs": [
    {
     "data": {
      "text/html": [
       "<div>\n",
       "<style scoped>\n",
       "    .dataframe tbody tr th:only-of-type {\n",
       "        vertical-align: middle;\n",
       "    }\n",
       "\n",
       "    .dataframe tbody tr th {\n",
       "        vertical-align: top;\n",
       "    }\n",
       "\n",
       "    .dataframe thead th {\n",
       "        text-align: right;\n",
       "    }\n",
       "</style>\n",
       "<table border=\"1\" class=\"dataframe\">\n",
       "  <thead>\n",
       "    <tr style=\"text-align: right;\">\n",
       "      <th></th>\n",
       "      <th>Pot_max</th>\n",
       "      <th>Year</th>\n",
       "      <th>Month</th>\n",
       "      <th>Period</th>\n",
       "      <th>Day</th>\n",
       "      <th>Block</th>\n",
       "      <th>Price</th>\n",
       "      <th>Energy</th>\n",
       "    </tr>\n",
       "  </thead>\n",
       "  <tbody>\n",
       "    <tr>\n",
       "      <th>0</th>\n",
       "      <td>394.10</td>\n",
       "      <td>2020</td>\n",
       "      <td>1</td>\n",
       "      <td>1</td>\n",
       "      <td>1</td>\n",
       "      <td>12</td>\n",
       "      <td>180.30</td>\n",
       "      <td>394.10</td>\n",
       "    </tr>\n",
       "    <tr>\n",
       "      <th>1</th>\n",
       "      <td>394.10</td>\n",
       "      <td>2020</td>\n",
       "      <td>1</td>\n",
       "      <td>2</td>\n",
       "      <td>1</td>\n",
       "      <td>12</td>\n",
       "      <td>180.30</td>\n",
       "      <td>394.10</td>\n",
       "    </tr>\n",
       "    <tr>\n",
       "      <th>2</th>\n",
       "      <td>394.10</td>\n",
       "      <td>2020</td>\n",
       "      <td>1</td>\n",
       "      <td>3</td>\n",
       "      <td>1</td>\n",
       "      <td>1</td>\n",
       "      <td>1.13</td>\n",
       "      <td>50.00</td>\n",
       "    </tr>\n",
       "    <tr>\n",
       "      <th>3</th>\n",
       "      <td>394.10</td>\n",
       "      <td>2020</td>\n",
       "      <td>1</td>\n",
       "      <td>3</td>\n",
       "      <td>1</td>\n",
       "      <td>12</td>\n",
       "      <td>180.30</td>\n",
       "      <td>344.10</td>\n",
       "    </tr>\n",
       "    <tr>\n",
       "      <th>4</th>\n",
       "      <td>394.10</td>\n",
       "      <td>2020</td>\n",
       "      <td>1</td>\n",
       "      <td>4</td>\n",
       "      <td>1</td>\n",
       "      <td>1</td>\n",
       "      <td>1.13</td>\n",
       "      <td>60.00</td>\n",
       "    </tr>\n",
       "  </tbody>\n",
       "</table>\n",
       "</div>"
      ],
      "text/plain": [
       "   Pot_max  Year  Month  Period  Day  Block  Price  Energy\n",
       "0   394.10  2020      1       1    1     12 180.30  394.10\n",
       "1   394.10  2020      1       2    1     12 180.30  394.10\n",
       "2   394.10  2020      1       3    1      1   1.13   50.00\n",
       "3   394.10  2020      1       3    1     12 180.30  344.10\n",
       "4   394.10  2020      1       4    1      1   1.13   60.00"
      ]
     },
     "execution_count": 213,
     "metadata": {},
     "output_type": "execute_result"
    }
   ],
   "source": [
    "df_curve.head()"
   ]
  },
  {
   "cell_type": "code",
   "execution_count": 214,
   "metadata": {},
   "outputs": [
    {
     "name": "stderr",
     "output_type": "stream",
     "text": [
      "<ipython-input-214-749467c0d990>:5: SettingWithCopyWarning: \n",
      "A value is trying to be set on a copy of a slice from a DataFrame.\n",
      "Try using .loc[row_indexer,col_indexer] = value instead\n",
      "\n",
      "See the caveats in the documentation: https://pandas.pydata.org/pandas-docs/stable/user_guide/indexing.html#returning-a-view-versus-a-copy\n",
      "  df_curve['Date']= pd.to_datetime(df_curve[['Year', 'Month', 'Day']])\n"
     ]
    }
   ],
   "source": [
    "#Including the week day per each day.\n",
    "\n",
    "import datetime as dt\n",
    "\n",
    "df_curve['Date']= pd.to_datetime(df_curve[['Year', 'Month', 'Day']])"
   ]
  },
  {
   "cell_type": "code",
   "execution_count": 215,
   "metadata": {},
   "outputs": [
    {
     "data": {
      "text/html": [
       "<div>\n",
       "<style scoped>\n",
       "    .dataframe tbody tr th:only-of-type {\n",
       "        vertical-align: middle;\n",
       "    }\n",
       "\n",
       "    .dataframe tbody tr th {\n",
       "        vertical-align: top;\n",
       "    }\n",
       "\n",
       "    .dataframe thead th {\n",
       "        text-align: right;\n",
       "    }\n",
       "</style>\n",
       "<table border=\"1\" class=\"dataframe\">\n",
       "  <thead>\n",
       "    <tr style=\"text-align: right;\">\n",
       "      <th></th>\n",
       "      <th>Pot_max</th>\n",
       "      <th>Year</th>\n",
       "      <th>Month</th>\n",
       "      <th>Period</th>\n",
       "      <th>Day</th>\n",
       "      <th>Block</th>\n",
       "      <th>Price</th>\n",
       "      <th>Energy</th>\n",
       "      <th>Date</th>\n",
       "    </tr>\n",
       "  </thead>\n",
       "  <tbody>\n",
       "    <tr>\n",
       "      <th>0</th>\n",
       "      <td>394.10</td>\n",
       "      <td>2020</td>\n",
       "      <td>1</td>\n",
       "      <td>1</td>\n",
       "      <td>1</td>\n",
       "      <td>12</td>\n",
       "      <td>180.30</td>\n",
       "      <td>394.10</td>\n",
       "      <td>2020-01-01</td>\n",
       "    </tr>\n",
       "    <tr>\n",
       "      <th>1</th>\n",
       "      <td>394.10</td>\n",
       "      <td>2020</td>\n",
       "      <td>1</td>\n",
       "      <td>2</td>\n",
       "      <td>1</td>\n",
       "      <td>12</td>\n",
       "      <td>180.30</td>\n",
       "      <td>394.10</td>\n",
       "      <td>2020-01-01</td>\n",
       "    </tr>\n",
       "    <tr>\n",
       "      <th>2</th>\n",
       "      <td>394.10</td>\n",
       "      <td>2020</td>\n",
       "      <td>1</td>\n",
       "      <td>3</td>\n",
       "      <td>1</td>\n",
       "      <td>1</td>\n",
       "      <td>1.13</td>\n",
       "      <td>50.00</td>\n",
       "      <td>2020-01-01</td>\n",
       "    </tr>\n",
       "    <tr>\n",
       "      <th>3</th>\n",
       "      <td>394.10</td>\n",
       "      <td>2020</td>\n",
       "      <td>1</td>\n",
       "      <td>3</td>\n",
       "      <td>1</td>\n",
       "      <td>12</td>\n",
       "      <td>180.30</td>\n",
       "      <td>344.10</td>\n",
       "      <td>2020-01-01</td>\n",
       "    </tr>\n",
       "    <tr>\n",
       "      <th>4</th>\n",
       "      <td>394.10</td>\n",
       "      <td>2020</td>\n",
       "      <td>1</td>\n",
       "      <td>4</td>\n",
       "      <td>1</td>\n",
       "      <td>1</td>\n",
       "      <td>1.13</td>\n",
       "      <td>60.00</td>\n",
       "      <td>2020-01-01</td>\n",
       "    </tr>\n",
       "  </tbody>\n",
       "</table>\n",
       "</div>"
      ],
      "text/plain": [
       "   Pot_max  Year  Month  Period  Day  Block  Price  Energy       Date\n",
       "0   394.10  2020      1       1    1     12 180.30  394.10 2020-01-01\n",
       "1   394.10  2020      1       2    1     12 180.30  394.10 2020-01-01\n",
       "2   394.10  2020      1       3    1      1   1.13   50.00 2020-01-01\n",
       "3   394.10  2020      1       3    1     12 180.30  344.10 2020-01-01\n",
       "4   394.10  2020      1       4    1      1   1.13   60.00 2020-01-01"
      ]
     },
     "execution_count": 215,
     "metadata": {},
     "output_type": "execute_result"
    }
   ],
   "source": [
    "df_curve.head()"
   ]
  },
  {
   "cell_type": "code",
   "execution_count": 216,
   "metadata": {
    "scrolled": true
   },
   "outputs": [
    {
     "name": "stderr",
     "output_type": "stream",
     "text": [
      "<ipython-input-216-89fa5e36ee21>:1: SettingWithCopyWarning: \n",
      "A value is trying to be set on a copy of a slice from a DataFrame.\n",
      "Try using .loc[row_indexer,col_indexer] = value instead\n",
      "\n",
      "See the caveats in the documentation: https://pandas.pydata.org/pandas-docs/stable/user_guide/indexing.html#returning-a-view-versus-a-copy\n",
      "  df_curve['Weekday'] = df_curve['Date'].apply(lambda x: x.weekday())\n"
     ]
    }
   ],
   "source": [
    "df_curve['Weekday'] = df_curve['Date'].apply(lambda x: x.weekday())\n"
   ]
  },
  {
   "cell_type": "code",
   "execution_count": 217,
   "metadata": {},
   "outputs": [
    {
     "data": {
      "text/html": [
       "<div>\n",
       "<style scoped>\n",
       "    .dataframe tbody tr th:only-of-type {\n",
       "        vertical-align: middle;\n",
       "    }\n",
       "\n",
       "    .dataframe tbody tr th {\n",
       "        vertical-align: top;\n",
       "    }\n",
       "\n",
       "    .dataframe thead th {\n",
       "        text-align: right;\n",
       "    }\n",
       "</style>\n",
       "<table border=\"1\" class=\"dataframe\">\n",
       "  <thead>\n",
       "    <tr style=\"text-align: right;\">\n",
       "      <th></th>\n",
       "      <th>Pot_max</th>\n",
       "      <th>Year</th>\n",
       "      <th>Month</th>\n",
       "      <th>Period</th>\n",
       "      <th>Day</th>\n",
       "      <th>Block</th>\n",
       "      <th>Price</th>\n",
       "      <th>Energy</th>\n",
       "      <th>Date</th>\n",
       "      <th>Weekday</th>\n",
       "    </tr>\n",
       "  </thead>\n",
       "  <tbody>\n",
       "    <tr>\n",
       "      <th>0</th>\n",
       "      <td>394.10</td>\n",
       "      <td>2020</td>\n",
       "      <td>1</td>\n",
       "      <td>1</td>\n",
       "      <td>1</td>\n",
       "      <td>12</td>\n",
       "      <td>180.30</td>\n",
       "      <td>394.10</td>\n",
       "      <td>2020-01-01</td>\n",
       "      <td>2</td>\n",
       "    </tr>\n",
       "    <tr>\n",
       "      <th>1</th>\n",
       "      <td>394.10</td>\n",
       "      <td>2020</td>\n",
       "      <td>1</td>\n",
       "      <td>2</td>\n",
       "      <td>1</td>\n",
       "      <td>12</td>\n",
       "      <td>180.30</td>\n",
       "      <td>394.10</td>\n",
       "      <td>2020-01-01</td>\n",
       "      <td>2</td>\n",
       "    </tr>\n",
       "    <tr>\n",
       "      <th>2</th>\n",
       "      <td>394.10</td>\n",
       "      <td>2020</td>\n",
       "      <td>1</td>\n",
       "      <td>3</td>\n",
       "      <td>1</td>\n",
       "      <td>1</td>\n",
       "      <td>1.13</td>\n",
       "      <td>50.00</td>\n",
       "      <td>2020-01-01</td>\n",
       "      <td>2</td>\n",
       "    </tr>\n",
       "    <tr>\n",
       "      <th>3</th>\n",
       "      <td>394.10</td>\n",
       "      <td>2020</td>\n",
       "      <td>1</td>\n",
       "      <td>3</td>\n",
       "      <td>1</td>\n",
       "      <td>12</td>\n",
       "      <td>180.30</td>\n",
       "      <td>344.10</td>\n",
       "      <td>2020-01-01</td>\n",
       "      <td>2</td>\n",
       "    </tr>\n",
       "    <tr>\n",
       "      <th>4</th>\n",
       "      <td>394.10</td>\n",
       "      <td>2020</td>\n",
       "      <td>1</td>\n",
       "      <td>4</td>\n",
       "      <td>1</td>\n",
       "      <td>1</td>\n",
       "      <td>1.13</td>\n",
       "      <td>60.00</td>\n",
       "      <td>2020-01-01</td>\n",
       "      <td>2</td>\n",
       "    </tr>\n",
       "  </tbody>\n",
       "</table>\n",
       "</div>"
      ],
      "text/plain": [
       "   Pot_max  Year  Month  Period  Day  Block  Price  Energy       Date  Weekday\n",
       "0   394.10  2020      1       1    1     12 180.30  394.10 2020-01-01        2\n",
       "1   394.10  2020      1       2    1     12 180.30  394.10 2020-01-01        2\n",
       "2   394.10  2020      1       3    1      1   1.13   50.00 2020-01-01        2\n",
       "3   394.10  2020      1       3    1     12 180.30  344.10 2020-01-01        2\n",
       "4   394.10  2020      1       4    1      1   1.13   60.00 2020-01-01        2"
      ]
     },
     "execution_count": 217,
     "metadata": {},
     "output_type": "execute_result"
    }
   ],
   "source": [
    "df_curve.head()"
   ]
  },
  {
   "cell_type": "code",
   "execution_count": 218,
   "metadata": {},
   "outputs": [
    {
     "name": "stderr",
     "output_type": "stream",
     "text": [
      "<ipython-input-218-ad44a60512b3>:3: SettingWithCopyWarning: \n",
      "A value is trying to be set on a copy of a slice from a DataFrame.\n",
      "Try using .loc[row_indexer,col_indexer] = value instead\n",
      "\n",
      "See the caveats in the documentation: https://pandas.pydata.org/pandas-docs/stable/user_guide/indexing.html#returning-a-view-versus-a-copy\n",
      "  df_curve['Weekday'] = df_curve['Weekday'].apply(lambda x: weekDays[x])\n"
     ]
    }
   ],
   "source": [
    "weekDays = (\"Monday\",\"Tuesday\",\"Wednesday\",\"Thursday\",\"Friday\",\"Saturday\",\"Sunday\")\n",
    "\n",
    "df_curve['Weekday'] = df_curve['Weekday'].apply(lambda x: weekDays[x])"
   ]
  },
  {
   "cell_type": "code",
   "execution_count": 219,
   "metadata": {},
   "outputs": [
    {
     "data": {
      "text/html": [
       "<div>\n",
       "<style scoped>\n",
       "    .dataframe tbody tr th:only-of-type {\n",
       "        vertical-align: middle;\n",
       "    }\n",
       "\n",
       "    .dataframe tbody tr th {\n",
       "        vertical-align: top;\n",
       "    }\n",
       "\n",
       "    .dataframe thead th {\n",
       "        text-align: right;\n",
       "    }\n",
       "</style>\n",
       "<table border=\"1\" class=\"dataframe\">\n",
       "  <thead>\n",
       "    <tr style=\"text-align: right;\">\n",
       "      <th></th>\n",
       "      <th>Pot_max</th>\n",
       "      <th>Year</th>\n",
       "      <th>Month</th>\n",
       "      <th>Period</th>\n",
       "      <th>Day</th>\n",
       "      <th>Block</th>\n",
       "      <th>Price</th>\n",
       "      <th>Energy</th>\n",
       "      <th>Date</th>\n",
       "      <th>Weekday</th>\n",
       "    </tr>\n",
       "  </thead>\n",
       "  <tbody>\n",
       "    <tr>\n",
       "      <th>0</th>\n",
       "      <td>394.10</td>\n",
       "      <td>2020</td>\n",
       "      <td>1</td>\n",
       "      <td>1</td>\n",
       "      <td>1</td>\n",
       "      <td>12</td>\n",
       "      <td>180.30</td>\n",
       "      <td>394.10</td>\n",
       "      <td>2020-01-01</td>\n",
       "      <td>Wednesday</td>\n",
       "    </tr>\n",
       "    <tr>\n",
       "      <th>1</th>\n",
       "      <td>394.10</td>\n",
       "      <td>2020</td>\n",
       "      <td>1</td>\n",
       "      <td>2</td>\n",
       "      <td>1</td>\n",
       "      <td>12</td>\n",
       "      <td>180.30</td>\n",
       "      <td>394.10</td>\n",
       "      <td>2020-01-01</td>\n",
       "      <td>Wednesday</td>\n",
       "    </tr>\n",
       "    <tr>\n",
       "      <th>2</th>\n",
       "      <td>394.10</td>\n",
       "      <td>2020</td>\n",
       "      <td>1</td>\n",
       "      <td>3</td>\n",
       "      <td>1</td>\n",
       "      <td>1</td>\n",
       "      <td>1.13</td>\n",
       "      <td>50.00</td>\n",
       "      <td>2020-01-01</td>\n",
       "      <td>Wednesday</td>\n",
       "    </tr>\n",
       "    <tr>\n",
       "      <th>3</th>\n",
       "      <td>394.10</td>\n",
       "      <td>2020</td>\n",
       "      <td>1</td>\n",
       "      <td>3</td>\n",
       "      <td>1</td>\n",
       "      <td>12</td>\n",
       "      <td>180.30</td>\n",
       "      <td>344.10</td>\n",
       "      <td>2020-01-01</td>\n",
       "      <td>Wednesday</td>\n",
       "    </tr>\n",
       "    <tr>\n",
       "      <th>4</th>\n",
       "      <td>394.10</td>\n",
       "      <td>2020</td>\n",
       "      <td>1</td>\n",
       "      <td>4</td>\n",
       "      <td>1</td>\n",
       "      <td>1</td>\n",
       "      <td>1.13</td>\n",
       "      <td>60.00</td>\n",
       "      <td>2020-01-01</td>\n",
       "      <td>Wednesday</td>\n",
       "    </tr>\n",
       "  </tbody>\n",
       "</table>\n",
       "</div>"
      ],
      "text/plain": [
       "   Pot_max  Year  Month  Period  Day  Block  Price  Energy       Date  \\\n",
       "0   394.10  2020      1       1    1     12 180.30  394.10 2020-01-01   \n",
       "1   394.10  2020      1       2    1     12 180.30  394.10 2020-01-01   \n",
       "2   394.10  2020      1       3    1      1   1.13   50.00 2020-01-01   \n",
       "3   394.10  2020      1       3    1     12 180.30  344.10 2020-01-01   \n",
       "4   394.10  2020      1       4    1      1   1.13   60.00 2020-01-01   \n",
       "\n",
       "     Weekday  \n",
       "0  Wednesday  \n",
       "1  Wednesday  \n",
       "2  Wednesday  \n",
       "3  Wednesday  \n",
       "4  Wednesday  "
      ]
     },
     "execution_count": 219,
     "metadata": {},
     "output_type": "execute_result"
    }
   ],
   "source": [
    "df_curve.head()"
   ]
  },
  {
   "cell_type": "code",
   "execution_count": 220,
   "metadata": {},
   "outputs": [
    {
     "name": "stderr",
     "output_type": "stream",
     "text": [
      "<ipython-input-220-d9b8cc5aca74>:3: UserWarning: Boolean Series key will be reindexed to match DataFrame index.\n",
      "  df_curve_example = df_curve.sort_values(['Date','Period','Block'])[(df_curve['Date']=='2020-10-31') &\n"
     ]
    },
    {
     "data": {
      "text/html": [
       "<div>\n",
       "<style scoped>\n",
       "    .dataframe tbody tr th:only-of-type {\n",
       "        vertical-align: middle;\n",
       "    }\n",
       "\n",
       "    .dataframe tbody tr th {\n",
       "        vertical-align: top;\n",
       "    }\n",
       "\n",
       "    .dataframe thead th {\n",
       "        text-align: right;\n",
       "    }\n",
       "</style>\n",
       "<table border=\"1\" class=\"dataframe\">\n",
       "  <thead>\n",
       "    <tr style=\"text-align: right;\">\n",
       "      <th></th>\n",
       "      <th>Pot_max</th>\n",
       "      <th>Year</th>\n",
       "      <th>Month</th>\n",
       "      <th>Period</th>\n",
       "      <th>Day</th>\n",
       "      <th>Block</th>\n",
       "      <th>Price</th>\n",
       "      <th>Energy</th>\n",
       "      <th>Date</th>\n",
       "      <th>Weekday</th>\n",
       "    </tr>\n",
       "  </thead>\n",
       "  <tbody>\n",
       "    <tr>\n",
       "      <th>61033</th>\n",
       "      <td>394.10</td>\n",
       "      <td>2020</td>\n",
       "      <td>10</td>\n",
       "      <td>24</td>\n",
       "      <td>31</td>\n",
       "      <td>1</td>\n",
       "      <td>1.13</td>\n",
       "      <td>190.00</td>\n",
       "      <td>2020-10-31</td>\n",
       "      <td>Saturday</td>\n",
       "    </tr>\n",
       "    <tr>\n",
       "      <th>61034</th>\n",
       "      <td>394.10</td>\n",
       "      <td>2020</td>\n",
       "      <td>10</td>\n",
       "      <td>24</td>\n",
       "      <td>31</td>\n",
       "      <td>2</td>\n",
       "      <td>34.89</td>\n",
       "      <td>17.00</td>\n",
       "      <td>2020-10-31</td>\n",
       "      <td>Saturday</td>\n",
       "    </tr>\n",
       "    <tr>\n",
       "      <th>61035</th>\n",
       "      <td>394.10</td>\n",
       "      <td>2020</td>\n",
       "      <td>10</td>\n",
       "      <td>24</td>\n",
       "      <td>31</td>\n",
       "      <td>3</td>\n",
       "      <td>35.64</td>\n",
       "      <td>17.00</td>\n",
       "      <td>2020-10-31</td>\n",
       "      <td>Saturday</td>\n",
       "    </tr>\n",
       "    <tr>\n",
       "      <th>61036</th>\n",
       "      <td>394.10</td>\n",
       "      <td>2020</td>\n",
       "      <td>10</td>\n",
       "      <td>24</td>\n",
       "      <td>31</td>\n",
       "      <td>4</td>\n",
       "      <td>36.40</td>\n",
       "      <td>17.00</td>\n",
       "      <td>2020-10-31</td>\n",
       "      <td>Saturday</td>\n",
       "    </tr>\n",
       "    <tr>\n",
       "      <th>61037</th>\n",
       "      <td>394.10</td>\n",
       "      <td>2020</td>\n",
       "      <td>10</td>\n",
       "      <td>24</td>\n",
       "      <td>31</td>\n",
       "      <td>5</td>\n",
       "      <td>37.15</td>\n",
       "      <td>17.00</td>\n",
       "      <td>2020-10-31</td>\n",
       "      <td>Saturday</td>\n",
       "    </tr>\n",
       "    <tr>\n",
       "      <th>61038</th>\n",
       "      <td>394.10</td>\n",
       "      <td>2020</td>\n",
       "      <td>10</td>\n",
       "      <td>24</td>\n",
       "      <td>31</td>\n",
       "      <td>6</td>\n",
       "      <td>38.71</td>\n",
       "      <td>17.00</td>\n",
       "      <td>2020-10-31</td>\n",
       "      <td>Saturday</td>\n",
       "    </tr>\n",
       "    <tr>\n",
       "      <th>61039</th>\n",
       "      <td>394.10</td>\n",
       "      <td>2020</td>\n",
       "      <td>10</td>\n",
       "      <td>24</td>\n",
       "      <td>31</td>\n",
       "      <td>7</td>\n",
       "      <td>39.46</td>\n",
       "      <td>17.00</td>\n",
       "      <td>2020-10-31</td>\n",
       "      <td>Saturday</td>\n",
       "    </tr>\n",
       "    <tr>\n",
       "      <th>61040</th>\n",
       "      <td>394.10</td>\n",
       "      <td>2020</td>\n",
       "      <td>10</td>\n",
       "      <td>24</td>\n",
       "      <td>31</td>\n",
       "      <td>8</td>\n",
       "      <td>40.22</td>\n",
       "      <td>17.00</td>\n",
       "      <td>2020-10-31</td>\n",
       "      <td>Saturday</td>\n",
       "    </tr>\n",
       "    <tr>\n",
       "      <th>61041</th>\n",
       "      <td>394.10</td>\n",
       "      <td>2020</td>\n",
       "      <td>10</td>\n",
       "      <td>24</td>\n",
       "      <td>31</td>\n",
       "      <td>9</td>\n",
       "      <td>41.47</td>\n",
       "      <td>17.00</td>\n",
       "      <td>2020-10-31</td>\n",
       "      <td>Saturday</td>\n",
       "    </tr>\n",
       "    <tr>\n",
       "      <th>61042</th>\n",
       "      <td>394.10</td>\n",
       "      <td>2020</td>\n",
       "      <td>10</td>\n",
       "      <td>24</td>\n",
       "      <td>31</td>\n",
       "      <td>10</td>\n",
       "      <td>42.73</td>\n",
       "      <td>17.00</td>\n",
       "      <td>2020-10-31</td>\n",
       "      <td>Saturday</td>\n",
       "    </tr>\n",
       "    <tr>\n",
       "      <th>61043</th>\n",
       "      <td>394.10</td>\n",
       "      <td>2020</td>\n",
       "      <td>10</td>\n",
       "      <td>24</td>\n",
       "      <td>31</td>\n",
       "      <td>11</td>\n",
       "      <td>44.48</td>\n",
       "      <td>17.00</td>\n",
       "      <td>2020-10-31</td>\n",
       "      <td>Saturday</td>\n",
       "    </tr>\n",
       "    <tr>\n",
       "      <th>61044</th>\n",
       "      <td>394.10</td>\n",
       "      <td>2020</td>\n",
       "      <td>10</td>\n",
       "      <td>24</td>\n",
       "      <td>31</td>\n",
       "      <td>12</td>\n",
       "      <td>180.30</td>\n",
       "      <td>34.10</td>\n",
       "      <td>2020-10-31</td>\n",
       "      <td>Saturday</td>\n",
       "    </tr>\n",
       "  </tbody>\n",
       "</table>\n",
       "</div>"
      ],
      "text/plain": [
       "       Pot_max  Year  Month  Period  Day  Block  Price  Energy       Date  \\\n",
       "61033   394.10  2020     10      24   31      1   1.13  190.00 2020-10-31   \n",
       "61034   394.10  2020     10      24   31      2  34.89   17.00 2020-10-31   \n",
       "61035   394.10  2020     10      24   31      3  35.64   17.00 2020-10-31   \n",
       "61036   394.10  2020     10      24   31      4  36.40   17.00 2020-10-31   \n",
       "61037   394.10  2020     10      24   31      5  37.15   17.00 2020-10-31   \n",
       "61038   394.10  2020     10      24   31      6  38.71   17.00 2020-10-31   \n",
       "61039   394.10  2020     10      24   31      7  39.46   17.00 2020-10-31   \n",
       "61040   394.10  2020     10      24   31      8  40.22   17.00 2020-10-31   \n",
       "61041   394.10  2020     10      24   31      9  41.47   17.00 2020-10-31   \n",
       "61042   394.10  2020     10      24   31     10  42.73   17.00 2020-10-31   \n",
       "61043   394.10  2020     10      24   31     11  44.48   17.00 2020-10-31   \n",
       "61044   394.10  2020     10      24   31     12 180.30   34.10 2020-10-31   \n",
       "\n",
       "        Weekday  \n",
       "61033  Saturday  \n",
       "61034  Saturday  \n",
       "61035  Saturday  \n",
       "61036  Saturday  \n",
       "61037  Saturday  \n",
       "61038  Saturday  \n",
       "61039  Saturday  \n",
       "61040  Saturday  \n",
       "61041  Saturday  \n",
       "61042  Saturday  \n",
       "61043  Saturday  \n",
       "61044  Saturday  "
      ]
     },
     "execution_count": 220,
     "metadata": {},
     "output_type": "execute_result"
    }
   ],
   "source": [
    "#Picking an exaple for a certain day\n",
    "\n",
    "df_curve_example = df_curve.sort_values(['Date','Period','Block'])[(df_curve['Date']=='2020-10-31') & \n",
    "                                                (df_curve['Period']==24)]\n",
    "\n",
    "df_curve_example"
   ]
  },
  {
   "cell_type": "code",
   "execution_count": 221,
   "metadata": {
    "scrolled": false
   },
   "outputs": [
    {
     "data": {
      "text/plain": [
       "61033   190.00\n",
       "61034   207.00\n",
       "61035   224.00\n",
       "61036   241.00\n",
       "61037   258.00\n",
       "61038   275.00\n",
       "61039   292.00\n",
       "61040   309.00\n",
       "61041   326.00\n",
       "61042   343.00\n",
       "61043   360.00\n",
       "61044   394.10\n",
       "Name: Energy, dtype: float64"
      ]
     },
     "execution_count": 221,
     "metadata": {},
     "output_type": "execute_result"
    }
   ],
   "source": [
    "df_curve_example['Energy'].cumsum()"
   ]
  },
  {
   "cell_type": "code",
   "execution_count": 222,
   "metadata": {},
   "outputs": [
    {
     "name": "stderr",
     "output_type": "stream",
     "text": [
      "<ipython-input-222-3bb43226947c>:1: SettingWithCopyWarning: \n",
      "A value is trying to be set on a copy of a slice from a DataFrame.\n",
      "Try using .loc[row_indexer,col_indexer] = value instead\n",
      "\n",
      "See the caveats in the documentation: https://pandas.pydata.org/pandas-docs/stable/user_guide/indexing.html#returning-a-view-versus-a-copy\n",
      "  df_curve['Energy_tot'] = df_curve.groupby(['Date','Period'])['Energy'].cumsum()\n"
     ]
    }
   ],
   "source": [
    "df_curve['Energy_tot'] = df_curve.groupby(['Date','Period'])['Energy'].cumsum()"
   ]
  },
  {
   "cell_type": "code",
   "execution_count": 223,
   "metadata": {},
   "outputs": [
    {
     "data": {
      "text/html": [
       "<div>\n",
       "<style scoped>\n",
       "    .dataframe tbody tr th:only-of-type {\n",
       "        vertical-align: middle;\n",
       "    }\n",
       "\n",
       "    .dataframe tbody tr th {\n",
       "        vertical-align: top;\n",
       "    }\n",
       "\n",
       "    .dataframe thead th {\n",
       "        text-align: right;\n",
       "    }\n",
       "</style>\n",
       "<table border=\"1\" class=\"dataframe\">\n",
       "  <thead>\n",
       "    <tr style=\"text-align: right;\">\n",
       "      <th></th>\n",
       "      <th>Pot_max</th>\n",
       "      <th>Year</th>\n",
       "      <th>Month</th>\n",
       "      <th>Period</th>\n",
       "      <th>Day</th>\n",
       "      <th>Block</th>\n",
       "      <th>Price</th>\n",
       "      <th>Energy</th>\n",
       "      <th>Date</th>\n",
       "      <th>Weekday</th>\n",
       "      <th>Energy_tot</th>\n",
       "    </tr>\n",
       "  </thead>\n",
       "  <tbody>\n",
       "    <tr>\n",
       "      <th>0</th>\n",
       "      <td>394.10</td>\n",
       "      <td>2020</td>\n",
       "      <td>1</td>\n",
       "      <td>1</td>\n",
       "      <td>1</td>\n",
       "      <td>12</td>\n",
       "      <td>180.30</td>\n",
       "      <td>394.10</td>\n",
       "      <td>2020-01-01</td>\n",
       "      <td>Wednesday</td>\n",
       "      <td>394.10</td>\n",
       "    </tr>\n",
       "    <tr>\n",
       "      <th>1</th>\n",
       "      <td>394.10</td>\n",
       "      <td>2020</td>\n",
       "      <td>1</td>\n",
       "      <td>2</td>\n",
       "      <td>1</td>\n",
       "      <td>12</td>\n",
       "      <td>180.30</td>\n",
       "      <td>394.10</td>\n",
       "      <td>2020-01-01</td>\n",
       "      <td>Wednesday</td>\n",
       "      <td>394.10</td>\n",
       "    </tr>\n",
       "    <tr>\n",
       "      <th>2</th>\n",
       "      <td>394.10</td>\n",
       "      <td>2020</td>\n",
       "      <td>1</td>\n",
       "      <td>3</td>\n",
       "      <td>1</td>\n",
       "      <td>1</td>\n",
       "      <td>1.13</td>\n",
       "      <td>50.00</td>\n",
       "      <td>2020-01-01</td>\n",
       "      <td>Wednesday</td>\n",
       "      <td>50.00</td>\n",
       "    </tr>\n",
       "    <tr>\n",
       "      <th>3</th>\n",
       "      <td>394.10</td>\n",
       "      <td>2020</td>\n",
       "      <td>1</td>\n",
       "      <td>3</td>\n",
       "      <td>1</td>\n",
       "      <td>12</td>\n",
       "      <td>180.30</td>\n",
       "      <td>344.10</td>\n",
       "      <td>2020-01-01</td>\n",
       "      <td>Wednesday</td>\n",
       "      <td>394.10</td>\n",
       "    </tr>\n",
       "    <tr>\n",
       "      <th>4</th>\n",
       "      <td>394.10</td>\n",
       "      <td>2020</td>\n",
       "      <td>1</td>\n",
       "      <td>4</td>\n",
       "      <td>1</td>\n",
       "      <td>1</td>\n",
       "      <td>1.13</td>\n",
       "      <td>60.00</td>\n",
       "      <td>2020-01-01</td>\n",
       "      <td>Wednesday</td>\n",
       "      <td>60.00</td>\n",
       "    </tr>\n",
       "  </tbody>\n",
       "</table>\n",
       "</div>"
      ],
      "text/plain": [
       "   Pot_max  Year  Month  Period  Day  Block  Price  Energy       Date  \\\n",
       "0   394.10  2020      1       1    1     12 180.30  394.10 2020-01-01   \n",
       "1   394.10  2020      1       2    1     12 180.30  394.10 2020-01-01   \n",
       "2   394.10  2020      1       3    1      1   1.13   50.00 2020-01-01   \n",
       "3   394.10  2020      1       3    1     12 180.30  344.10 2020-01-01   \n",
       "4   394.10  2020      1       4    1      1   1.13   60.00 2020-01-01   \n",
       "\n",
       "     Weekday  Energy_tot  \n",
       "0  Wednesday      394.10  \n",
       "1  Wednesday      394.10  \n",
       "2  Wednesday       50.00  \n",
       "3  Wednesday      394.10  \n",
       "4  Wednesday       60.00  "
      ]
     },
     "execution_count": 223,
     "metadata": {},
     "output_type": "execute_result"
    }
   ],
   "source": [
    "df_curve.head()"
   ]
  },
  {
   "cell_type": "code",
   "execution_count": 224,
   "metadata": {
    "scrolled": true
   },
   "outputs": [
    {
     "name": "stderr",
     "output_type": "stream",
     "text": [
      "<ipython-input-224-1704094d25ac>:1: UserWarning: Boolean Series key will be reindexed to match DataFrame index.\n",
      "  df_curve_example2 = df_curve.sort_values(['Date','Period','Block'])[(df_curve['Date']=='2020-10-31') &\n"
     ]
    }
   ],
   "source": [
    "df_curve_example2 = df_curve.sort_values(['Date','Period','Block'])[(df_curve['Date']=='2020-10-31') & \n",
    "                                                (df_curve['Period']==24)]\n",
    "\n",
    "\n",
    "df_curve_example2.reset_index(drop=True,inplace=True)"
   ]
  },
  {
   "cell_type": "code",
   "execution_count": 225,
   "metadata": {
    "scrolled": true
   },
   "outputs": [
    {
     "data": {
      "text/html": [
       "<div>\n",
       "<style scoped>\n",
       "    .dataframe tbody tr th:only-of-type {\n",
       "        vertical-align: middle;\n",
       "    }\n",
       "\n",
       "    .dataframe tbody tr th {\n",
       "        vertical-align: top;\n",
       "    }\n",
       "\n",
       "    .dataframe thead th {\n",
       "        text-align: right;\n",
       "    }\n",
       "</style>\n",
       "<table border=\"1\" class=\"dataframe\">\n",
       "  <thead>\n",
       "    <tr style=\"text-align: right;\">\n",
       "      <th></th>\n",
       "      <th>Pot_max</th>\n",
       "      <th>Year</th>\n",
       "      <th>Month</th>\n",
       "      <th>Period</th>\n",
       "      <th>Day</th>\n",
       "      <th>Block</th>\n",
       "      <th>Price</th>\n",
       "      <th>Energy</th>\n",
       "      <th>Date</th>\n",
       "      <th>Weekday</th>\n",
       "      <th>Energy_tot</th>\n",
       "    </tr>\n",
       "  </thead>\n",
       "  <tbody>\n",
       "    <tr>\n",
       "      <th>0</th>\n",
       "      <td>394.10</td>\n",
       "      <td>2020</td>\n",
       "      <td>10</td>\n",
       "      <td>24</td>\n",
       "      <td>31</td>\n",
       "      <td>1</td>\n",
       "      <td>1.13</td>\n",
       "      <td>190.00</td>\n",
       "      <td>2020-10-31</td>\n",
       "      <td>Saturday</td>\n",
       "      <td>190.00</td>\n",
       "    </tr>\n",
       "    <tr>\n",
       "      <th>1</th>\n",
       "      <td>394.10</td>\n",
       "      <td>2020</td>\n",
       "      <td>10</td>\n",
       "      <td>24</td>\n",
       "      <td>31</td>\n",
       "      <td>2</td>\n",
       "      <td>34.89</td>\n",
       "      <td>17.00</td>\n",
       "      <td>2020-10-31</td>\n",
       "      <td>Saturday</td>\n",
       "      <td>207.00</td>\n",
       "    </tr>\n",
       "    <tr>\n",
       "      <th>2</th>\n",
       "      <td>394.10</td>\n",
       "      <td>2020</td>\n",
       "      <td>10</td>\n",
       "      <td>24</td>\n",
       "      <td>31</td>\n",
       "      <td>3</td>\n",
       "      <td>35.64</td>\n",
       "      <td>17.00</td>\n",
       "      <td>2020-10-31</td>\n",
       "      <td>Saturday</td>\n",
       "      <td>224.00</td>\n",
       "    </tr>\n",
       "    <tr>\n",
       "      <th>3</th>\n",
       "      <td>394.10</td>\n",
       "      <td>2020</td>\n",
       "      <td>10</td>\n",
       "      <td>24</td>\n",
       "      <td>31</td>\n",
       "      <td>4</td>\n",
       "      <td>36.40</td>\n",
       "      <td>17.00</td>\n",
       "      <td>2020-10-31</td>\n",
       "      <td>Saturday</td>\n",
       "      <td>241.00</td>\n",
       "    </tr>\n",
       "    <tr>\n",
       "      <th>4</th>\n",
       "      <td>394.10</td>\n",
       "      <td>2020</td>\n",
       "      <td>10</td>\n",
       "      <td>24</td>\n",
       "      <td>31</td>\n",
       "      <td>5</td>\n",
       "      <td>37.15</td>\n",
       "      <td>17.00</td>\n",
       "      <td>2020-10-31</td>\n",
       "      <td>Saturday</td>\n",
       "      <td>258.00</td>\n",
       "    </tr>\n",
       "    <tr>\n",
       "      <th>5</th>\n",
       "      <td>394.10</td>\n",
       "      <td>2020</td>\n",
       "      <td>10</td>\n",
       "      <td>24</td>\n",
       "      <td>31</td>\n",
       "      <td>6</td>\n",
       "      <td>38.71</td>\n",
       "      <td>17.00</td>\n",
       "      <td>2020-10-31</td>\n",
       "      <td>Saturday</td>\n",
       "      <td>275.00</td>\n",
       "    </tr>\n",
       "    <tr>\n",
       "      <th>6</th>\n",
       "      <td>394.10</td>\n",
       "      <td>2020</td>\n",
       "      <td>10</td>\n",
       "      <td>24</td>\n",
       "      <td>31</td>\n",
       "      <td>7</td>\n",
       "      <td>39.46</td>\n",
       "      <td>17.00</td>\n",
       "      <td>2020-10-31</td>\n",
       "      <td>Saturday</td>\n",
       "      <td>292.00</td>\n",
       "    </tr>\n",
       "    <tr>\n",
       "      <th>7</th>\n",
       "      <td>394.10</td>\n",
       "      <td>2020</td>\n",
       "      <td>10</td>\n",
       "      <td>24</td>\n",
       "      <td>31</td>\n",
       "      <td>8</td>\n",
       "      <td>40.22</td>\n",
       "      <td>17.00</td>\n",
       "      <td>2020-10-31</td>\n",
       "      <td>Saturday</td>\n",
       "      <td>309.00</td>\n",
       "    </tr>\n",
       "    <tr>\n",
       "      <th>8</th>\n",
       "      <td>394.10</td>\n",
       "      <td>2020</td>\n",
       "      <td>10</td>\n",
       "      <td>24</td>\n",
       "      <td>31</td>\n",
       "      <td>9</td>\n",
       "      <td>41.47</td>\n",
       "      <td>17.00</td>\n",
       "      <td>2020-10-31</td>\n",
       "      <td>Saturday</td>\n",
       "      <td>326.00</td>\n",
       "    </tr>\n",
       "    <tr>\n",
       "      <th>9</th>\n",
       "      <td>394.10</td>\n",
       "      <td>2020</td>\n",
       "      <td>10</td>\n",
       "      <td>24</td>\n",
       "      <td>31</td>\n",
       "      <td>10</td>\n",
       "      <td>42.73</td>\n",
       "      <td>17.00</td>\n",
       "      <td>2020-10-31</td>\n",
       "      <td>Saturday</td>\n",
       "      <td>343.00</td>\n",
       "    </tr>\n",
       "    <tr>\n",
       "      <th>10</th>\n",
       "      <td>394.10</td>\n",
       "      <td>2020</td>\n",
       "      <td>10</td>\n",
       "      <td>24</td>\n",
       "      <td>31</td>\n",
       "      <td>11</td>\n",
       "      <td>44.48</td>\n",
       "      <td>17.00</td>\n",
       "      <td>2020-10-31</td>\n",
       "      <td>Saturday</td>\n",
       "      <td>360.00</td>\n",
       "    </tr>\n",
       "    <tr>\n",
       "      <th>11</th>\n",
       "      <td>394.10</td>\n",
       "      <td>2020</td>\n",
       "      <td>10</td>\n",
       "      <td>24</td>\n",
       "      <td>31</td>\n",
       "      <td>12</td>\n",
       "      <td>180.30</td>\n",
       "      <td>34.10</td>\n",
       "      <td>2020-10-31</td>\n",
       "      <td>Saturday</td>\n",
       "      <td>394.10</td>\n",
       "    </tr>\n",
       "  </tbody>\n",
       "</table>\n",
       "</div>"
      ],
      "text/plain": [
       "    Pot_max  Year  Month  Period  Day  Block  Price  Energy       Date  \\\n",
       "0    394.10  2020     10      24   31      1   1.13  190.00 2020-10-31   \n",
       "1    394.10  2020     10      24   31      2  34.89   17.00 2020-10-31   \n",
       "2    394.10  2020     10      24   31      3  35.64   17.00 2020-10-31   \n",
       "3    394.10  2020     10      24   31      4  36.40   17.00 2020-10-31   \n",
       "4    394.10  2020     10      24   31      5  37.15   17.00 2020-10-31   \n",
       "5    394.10  2020     10      24   31      6  38.71   17.00 2020-10-31   \n",
       "6    394.10  2020     10      24   31      7  39.46   17.00 2020-10-31   \n",
       "7    394.10  2020     10      24   31      8  40.22   17.00 2020-10-31   \n",
       "8    394.10  2020     10      24   31      9  41.47   17.00 2020-10-31   \n",
       "9    394.10  2020     10      24   31     10  42.73   17.00 2020-10-31   \n",
       "10   394.10  2020     10      24   31     11  44.48   17.00 2020-10-31   \n",
       "11   394.10  2020     10      24   31     12 180.30   34.10 2020-10-31   \n",
       "\n",
       "     Weekday  Energy_tot  \n",
       "0   Saturday      190.00  \n",
       "1   Saturday      207.00  \n",
       "2   Saturday      224.00  \n",
       "3   Saturday      241.00  \n",
       "4   Saturday      258.00  \n",
       "5   Saturday      275.00  \n",
       "6   Saturday      292.00  \n",
       "7   Saturday      309.00  \n",
       "8   Saturday      326.00  \n",
       "9   Saturday      343.00  \n",
       "10  Saturday      360.00  \n",
       "11  Saturday      394.10  "
      ]
     },
     "execution_count": 225,
     "metadata": {},
     "output_type": "execute_result"
    }
   ],
   "source": [
    "df_curve_example2"
   ]
  },
  {
   "cell_type": "code",
   "execution_count": 226,
   "metadata": {},
   "outputs": [
    {
     "name": "stderr",
     "output_type": "stream",
     "text": [
      "<ipython-input-226-a0db271286b4>:4: UserWarning: Boolean Series key will be reindexed to match DataFrame index.\n",
      "  df_curve.sort_values(['Date','Period','Block'])[(df_curve['Date']=='2020-10-22') &\n"
     ]
    },
    {
     "data": {
      "text/html": [
       "<div>\n",
       "<style scoped>\n",
       "    .dataframe tbody tr th:only-of-type {\n",
       "        vertical-align: middle;\n",
       "    }\n",
       "\n",
       "    .dataframe tbody tr th {\n",
       "        vertical-align: top;\n",
       "    }\n",
       "\n",
       "    .dataframe thead th {\n",
       "        text-align: right;\n",
       "    }\n",
       "</style>\n",
       "<table border=\"1\" class=\"dataframe\">\n",
       "  <thead>\n",
       "    <tr style=\"text-align: right;\">\n",
       "      <th></th>\n",
       "      <th>Pot_max</th>\n",
       "      <th>Year</th>\n",
       "      <th>Month</th>\n",
       "      <th>Period</th>\n",
       "      <th>Day</th>\n",
       "      <th>Block</th>\n",
       "      <th>Price</th>\n",
       "      <th>Energy</th>\n",
       "      <th>Date</th>\n",
       "      <th>Weekday</th>\n",
       "      <th>Energy_tot</th>\n",
       "    </tr>\n",
       "  </thead>\n",
       "  <tbody>\n",
       "    <tr>\n",
       "      <th>59230</th>\n",
       "      <td>394.10</td>\n",
       "      <td>2020</td>\n",
       "      <td>10</td>\n",
       "      <td>24</td>\n",
       "      <td>22</td>\n",
       "      <td>1</td>\n",
       "      <td>1.13</td>\n",
       "      <td>190.00</td>\n",
       "      <td>2020-10-22</td>\n",
       "      <td>Thursday</td>\n",
       "      <td>190.00</td>\n",
       "    </tr>\n",
       "    <tr>\n",
       "      <th>59231</th>\n",
       "      <td>394.10</td>\n",
       "      <td>2020</td>\n",
       "      <td>10</td>\n",
       "      <td>24</td>\n",
       "      <td>22</td>\n",
       "      <td>2</td>\n",
       "      <td>35.34</td>\n",
       "      <td>17.00</td>\n",
       "      <td>2020-10-22</td>\n",
       "      <td>Thursday</td>\n",
       "      <td>207.00</td>\n",
       "    </tr>\n",
       "    <tr>\n",
       "      <th>59232</th>\n",
       "      <td>394.10</td>\n",
       "      <td>2020</td>\n",
       "      <td>10</td>\n",
       "      <td>24</td>\n",
       "      <td>22</td>\n",
       "      <td>3</td>\n",
       "      <td>36.11</td>\n",
       "      <td>17.00</td>\n",
       "      <td>2020-10-22</td>\n",
       "      <td>Thursday</td>\n",
       "      <td>224.00</td>\n",
       "    </tr>\n",
       "    <tr>\n",
       "      <th>59233</th>\n",
       "      <td>394.10</td>\n",
       "      <td>2020</td>\n",
       "      <td>10</td>\n",
       "      <td>24</td>\n",
       "      <td>22</td>\n",
       "      <td>4</td>\n",
       "      <td>36.87</td>\n",
       "      <td>17.00</td>\n",
       "      <td>2020-10-22</td>\n",
       "      <td>Thursday</td>\n",
       "      <td>241.00</td>\n",
       "    </tr>\n",
       "    <tr>\n",
       "      <th>59234</th>\n",
       "      <td>394.10</td>\n",
       "      <td>2020</td>\n",
       "      <td>10</td>\n",
       "      <td>24</td>\n",
       "      <td>22</td>\n",
       "      <td>5</td>\n",
       "      <td>37.64</td>\n",
       "      <td>17.00</td>\n",
       "      <td>2020-10-22</td>\n",
       "      <td>Thursday</td>\n",
       "      <td>258.00</td>\n",
       "    </tr>\n",
       "    <tr>\n",
       "      <th>59235</th>\n",
       "      <td>394.10</td>\n",
       "      <td>2020</td>\n",
       "      <td>10</td>\n",
       "      <td>24</td>\n",
       "      <td>22</td>\n",
       "      <td>6</td>\n",
       "      <td>39.20</td>\n",
       "      <td>17.00</td>\n",
       "      <td>2020-10-22</td>\n",
       "      <td>Thursday</td>\n",
       "      <td>275.00</td>\n",
       "    </tr>\n",
       "    <tr>\n",
       "      <th>59236</th>\n",
       "      <td>394.10</td>\n",
       "      <td>2020</td>\n",
       "      <td>10</td>\n",
       "      <td>24</td>\n",
       "      <td>22</td>\n",
       "      <td>7</td>\n",
       "      <td>39.97</td>\n",
       "      <td>17.00</td>\n",
       "      <td>2020-10-22</td>\n",
       "      <td>Thursday</td>\n",
       "      <td>292.00</td>\n",
       "    </tr>\n",
       "    <tr>\n",
       "      <th>59237</th>\n",
       "      <td>394.10</td>\n",
       "      <td>2020</td>\n",
       "      <td>10</td>\n",
       "      <td>24</td>\n",
       "      <td>22</td>\n",
       "      <td>8</td>\n",
       "      <td>40.74</td>\n",
       "      <td>17.00</td>\n",
       "      <td>2020-10-22</td>\n",
       "      <td>Thursday</td>\n",
       "      <td>309.00</td>\n",
       "    </tr>\n",
       "    <tr>\n",
       "      <th>59238</th>\n",
       "      <td>394.10</td>\n",
       "      <td>2020</td>\n",
       "      <td>10</td>\n",
       "      <td>24</td>\n",
       "      <td>22</td>\n",
       "      <td>9</td>\n",
       "      <td>42.00</td>\n",
       "      <td>17.00</td>\n",
       "      <td>2020-10-22</td>\n",
       "      <td>Thursday</td>\n",
       "      <td>326.00</td>\n",
       "    </tr>\n",
       "    <tr>\n",
       "      <th>59239</th>\n",
       "      <td>394.10</td>\n",
       "      <td>2020</td>\n",
       "      <td>10</td>\n",
       "      <td>24</td>\n",
       "      <td>22</td>\n",
       "      <td>10</td>\n",
       "      <td>43.27</td>\n",
       "      <td>17.00</td>\n",
       "      <td>2020-10-22</td>\n",
       "      <td>Thursday</td>\n",
       "      <td>343.00</td>\n",
       "    </tr>\n",
       "    <tr>\n",
       "      <th>59240</th>\n",
       "      <td>394.10</td>\n",
       "      <td>2020</td>\n",
       "      <td>10</td>\n",
       "      <td>24</td>\n",
       "      <td>22</td>\n",
       "      <td>11</td>\n",
       "      <td>45.03</td>\n",
       "      <td>17.00</td>\n",
       "      <td>2020-10-22</td>\n",
       "      <td>Thursday</td>\n",
       "      <td>360.00</td>\n",
       "    </tr>\n",
       "    <tr>\n",
       "      <th>59241</th>\n",
       "      <td>394.10</td>\n",
       "      <td>2020</td>\n",
       "      <td>10</td>\n",
       "      <td>24</td>\n",
       "      <td>22</td>\n",
       "      <td>12</td>\n",
       "      <td>180.30</td>\n",
       "      <td>34.10</td>\n",
       "      <td>2020-10-22</td>\n",
       "      <td>Thursday</td>\n",
       "      <td>394.10</td>\n",
       "    </tr>\n",
       "  </tbody>\n",
       "</table>\n",
       "</div>"
      ],
      "text/plain": [
       "       Pot_max  Year  Month  Period  Day  Block  Price  Energy       Date  \\\n",
       "59230   394.10  2020     10      24   22      1   1.13  190.00 2020-10-22   \n",
       "59231   394.10  2020     10      24   22      2  35.34   17.00 2020-10-22   \n",
       "59232   394.10  2020     10      24   22      3  36.11   17.00 2020-10-22   \n",
       "59233   394.10  2020     10      24   22      4  36.87   17.00 2020-10-22   \n",
       "59234   394.10  2020     10      24   22      5  37.64   17.00 2020-10-22   \n",
       "59235   394.10  2020     10      24   22      6  39.20   17.00 2020-10-22   \n",
       "59236   394.10  2020     10      24   22      7  39.97   17.00 2020-10-22   \n",
       "59237   394.10  2020     10      24   22      8  40.74   17.00 2020-10-22   \n",
       "59238   394.10  2020     10      24   22      9  42.00   17.00 2020-10-22   \n",
       "59239   394.10  2020     10      24   22     10  43.27   17.00 2020-10-22   \n",
       "59240   394.10  2020     10      24   22     11  45.03   17.00 2020-10-22   \n",
       "59241   394.10  2020     10      24   22     12 180.30   34.10 2020-10-22   \n",
       "\n",
       "        Weekday  Energy_tot  \n",
       "59230  Thursday      190.00  \n",
       "59231  Thursday      207.00  \n",
       "59232  Thursday      224.00  \n",
       "59233  Thursday      241.00  \n",
       "59234  Thursday      258.00  \n",
       "59235  Thursday      275.00  \n",
       "59236  Thursday      292.00  \n",
       "59237  Thursday      309.00  \n",
       "59238  Thursday      326.00  \n",
       "59239  Thursday      343.00  \n",
       "59240  Thursday      360.00  \n",
       "59241  Thursday      394.10  "
      ]
     },
     "execution_count": 226,
     "metadata": {},
     "output_type": "execute_result"
    }
   ],
   "source": [
    "#Example to create the plot function\n",
    "#This part of the code will be deleted\n",
    "\n",
    "df_curve.sort_values(['Date','Period','Block'])[(df_curve['Date']=='2020-10-22') & \n",
    "                                                (df_curve['Period']==24)]"
   ]
  },
  {
   "cell_type": "code",
   "execution_count": 227,
   "metadata": {},
   "outputs": [],
   "source": [
    "xs = np.linspace(0,len(df_curve_example2),len(df_curve_example2))"
   ]
  },
  {
   "cell_type": "code",
   "execution_count": 228,
   "metadata": {
    "scrolled": true
   },
   "outputs": [
    {
     "data": {
      "text/plain": [
       "[<matplotlib.lines.Line2D at 0x7f8e100e0c70>]"
      ]
     },
     "execution_count": 228,
     "metadata": {},
     "output_type": "execute_result"
    },
    {
     "data": {
      "image/png": "[encoded data removed]",
      "text/plain": [
       "<Figure size 432x288 with 1 Axes>"
      ]
     },
     "metadata": {
      "needs_background": "light"
     },
     "output_type": "display_data"
    }
   ],
   "source": [
    "plt.plot(xs, df_curve_example2['Energy_tot'])"
   ]
  },
  {
   "cell_type": "code",
   "execution_count": 229,
   "metadata": {},
   "outputs": [
    {
     "data": {
      "text/plain": [
       "[<matplotlib.lines.Line2D at 0x7f8e0993d9a0>]"
      ]
     },
     "execution_count": 229,
     "metadata": {},
     "output_type": "execute_result"
    },
    {
     "data": {
      "image/png": "[encoded data removed]",
      "text/plain": [
       "<Figure size 432x288 with 1 Axes>"
      ]
     },
     "metadata": {
      "needs_background": "light"
     },
     "output_type": "display_data"
    }
   ],
   "source": [
    "plt.plot(df_curve_example2['Energy_tot'],df_curve_example2['Price'])"
   ]
  },
  {
   "cell_type": "code",
   "execution_count": 230,
   "metadata": {},
   "outputs": [
    {
     "data": {
      "text/plain": [
       "[<matplotlib.lines.Line2D at 0x7f8e0989dc40>]"
      ]
     },
     "execution_count": 230,
     "metadata": {},
     "output_type": "execute_result"
    },
    {
     "data": {
      "image/png": "[encoded data removed]",
      "text/plain": [
       "<Figure size 432x288 with 1 Axes>"
      ]
     },
     "metadata": {
      "needs_background": "light"
     },
     "output_type": "display_data"
    }
   ],
   "source": [
    "plt.step(df_curve_example2['Energy_tot'],df_curve_example2['Price'], label='pre (default)')"
   ]
  },
  {
   "cell_type": "code",
   "execution_count": 231,
   "metadata": {},
   "outputs": [
    {
     "data": {
      "text/plain": [
       "[<matplotlib.lines.Line2D at 0x7f8e0987de80>]"
      ]
     },
     "execution_count": 231,
     "metadata": {},
     "output_type": "execute_result"
    },
    {
     "data": {
      "image/png": "[encoded data removed]",
      "text/plain": [
       "<Figure size 432x288 with 1 Axes>"
      ]
     },
     "metadata": {
      "needs_background": "light"
     },
     "output_type": "display_data"
    }
   ],
   "source": [
    "plt.plot(df_curve_example2['Energy_tot'],\n",
    "         df_curve_example2['Price'], \n",
    "         drawstyle='steps', label='steps (=steps-pre)')"
   ]
  },
  {
   "cell_type": "code",
   "execution_count": 232,
   "metadata": {},
   "outputs": [],
   "source": [
    "#Function to plot bid curves for a chosen date and period (hour)\n",
    "\n",
    "def plot_bid_curve(date, period):\n",
    "    df_plot = df_curve.sort_values(['Date','Period','Block'])[(df_curve['Date'] == date) & \n",
    "                                                (df_curve['Period'] == period)]\n",
    "   \n",
    "    return plt.plot(df_plot['Energy_tot'], df_plot['Price'], drawstyle='steps', label='steps (=steps-pre)')\n",
    "\n",
    "#The first step should be included"
   ]
  },
  {
   "cell_type": "code",
   "execution_count": 233,
   "metadata": {},
   "outputs": [
    {
     "name": "stderr",
     "output_type": "stream",
     "text": [
      "<ipython-input-232-ece397bd5943>:4: UserWarning: Boolean Series key will be reindexed to match DataFrame index.\n",
      "  df_plot = df_curve.sort_values(['Date','Period','Block'])[(df_curve['Date'] == date) &\n"
     ]
    },
    {
     "data": {
      "text/plain": [
       "[<matplotlib.lines.Line2D at 0x7f8e097deeb0>]"
      ]
     },
     "execution_count": 233,
     "metadata": {},
     "output_type": "execute_result"
    },
    {
     "data": {
      "image/png": "[encoded data removed]",
      "text/plain": [
       "<Figure size 432x288 with 1 Axes>"
      ]
     },
     "metadata": {
      "needs_background": "light"
     },
     "output_type": "display_data"
    }
   ],
   "source": [
    "plot_bid_curve('2020-8-25',4)"
   ]
  },
  {
   "cell_type": "code",
   "execution_count": null,
   "metadata": {},
   "outputs": [],
   "source": []
  },
  {
   "cell_type": "code",
   "execution_count": 234,
   "metadata": {},
   "outputs": [
    {
     "name": "stderr",
     "output_type": "stream",
     "text": [
      "<ipython-input-232-ece397bd5943>:4: UserWarning: Boolean Series key will be reindexed to match DataFrame index.\n",
      "  df_plot = df_curve.sort_values(['Date','Period','Block'])[(df_curve['Date'] == date) &\n"
     ]
    },
    {
     "data": {
      "text/plain": [
       "[<matplotlib.lines.Line2D at 0x7f8e097c4610>]"
      ]
     },
     "execution_count": 234,
     "metadata": {},
     "output_type": "execute_result"
    },
    {
     "data": {
      "image/png": "[encoded data removed]",
      "text/plain": [
       "<Figure size 432x288 with 1 Axes>"
      ]
     },
     "metadata": {
      "needs_background": "light"
     },
     "output_type": "display_data"
    }
   ],
   "source": [
    "plot_bid_curve('2020-8-25',5)"
   ]
  },
  {
   "cell_type": "code",
   "execution_count": 235,
   "metadata": {},
   "outputs": [
    {
     "name": "stderr",
     "output_type": "stream",
     "text": [
      "<ipython-input-232-ece397bd5943>:4: UserWarning: Boolean Series key will be reindexed to match DataFrame index.\n",
      "  df_plot = df_curve.sort_values(['Date','Period','Block'])[(df_curve['Date'] == date) &\n"
     ]
    },
    {
     "data": {
      "text/plain": [
       "[<matplotlib.lines.Line2D at 0x7f8e097207f0>]"
      ]
     },
     "execution_count": 235,
     "metadata": {},
     "output_type": "execute_result"
    },
    {
     "data": {
      "image/png": "[encoded data removed]",
      "text/plain": [
       "<Figure size 432x288 with 1 Axes>"
      ]
     },
     "metadata": {
      "needs_background": "light"
     },
     "output_type": "display_data"
    }
   ],
   "source": [
    "plot_bid_curve('2020-8-25',18)"
   ]
  },
  {
   "cell_type": "code",
   "execution_count": 125,
   "metadata": {},
   "outputs": [],
   "source": [
    "#It seems that energy blocks are equal for the hole year."
   ]
  },
  {
   "cell_type": "code",
   "execution_count": null,
   "metadata": {},
   "outputs": [],
   "source": []
  },
  {
   "cell_type": "code",
   "execution_count": 236,
   "metadata": {},
   "outputs": [
    {
     "name": "stderr",
     "output_type": "stream",
     "text": [
      "<ipython-input-236-c892746408ab>:3: UserWarning: Boolean Series key will be reindexed to match DataFrame index.\n",
      "  df_curve.sort_values(['Date','Period','Block'])[(df_curve['Date']=='2020-10-22') &\n"
     ]
    },
    {
     "data": {
      "text/html": [
       "<div>\n",
       "<style scoped>\n",
       "    .dataframe tbody tr th:only-of-type {\n",
       "        vertical-align: middle;\n",
       "    }\n",
       "\n",
       "    .dataframe tbody tr th {\n",
       "        vertical-align: top;\n",
       "    }\n",
       "\n",
       "    .dataframe thead th {\n",
       "        text-align: right;\n",
       "    }\n",
       "</style>\n",
       "<table border=\"1\" class=\"dataframe\">\n",
       "  <thead>\n",
       "    <tr style=\"text-align: right;\">\n",
       "      <th></th>\n",
       "      <th>Pot_max</th>\n",
       "      <th>Year</th>\n",
       "      <th>Month</th>\n",
       "      <th>Period</th>\n",
       "      <th>Day</th>\n",
       "      <th>Block</th>\n",
       "      <th>Price</th>\n",
       "      <th>Energy</th>\n",
       "      <th>Date</th>\n",
       "      <th>Weekday</th>\n",
       "      <th>Energy_tot</th>\n",
       "    </tr>\n",
       "  </thead>\n",
       "  <tbody>\n",
       "    <tr>\n",
       "      <th>59056</th>\n",
       "      <td>394.10</td>\n",
       "      <td>2020</td>\n",
       "      <td>10</td>\n",
       "      <td>9</td>\n",
       "      <td>22</td>\n",
       "      <td>1</td>\n",
       "      <td>1.13</td>\n",
       "      <td>190.00</td>\n",
       "      <td>2020-10-22</td>\n",
       "      <td>Thursday</td>\n",
       "      <td>190.00</td>\n",
       "    </tr>\n",
       "    <tr>\n",
       "      <th>59057</th>\n",
       "      <td>394.10</td>\n",
       "      <td>2020</td>\n",
       "      <td>10</td>\n",
       "      <td>9</td>\n",
       "      <td>22</td>\n",
       "      <td>2</td>\n",
       "      <td>35.34</td>\n",
       "      <td>17.00</td>\n",
       "      <td>2020-10-22</td>\n",
       "      <td>Thursday</td>\n",
       "      <td>207.00</td>\n",
       "    </tr>\n",
       "    <tr>\n",
       "      <th>59058</th>\n",
       "      <td>394.10</td>\n",
       "      <td>2020</td>\n",
       "      <td>10</td>\n",
       "      <td>9</td>\n",
       "      <td>22</td>\n",
       "      <td>3</td>\n",
       "      <td>36.11</td>\n",
       "      <td>17.00</td>\n",
       "      <td>2020-10-22</td>\n",
       "      <td>Thursday</td>\n",
       "      <td>224.00</td>\n",
       "    </tr>\n",
       "    <tr>\n",
       "      <th>59059</th>\n",
       "      <td>394.10</td>\n",
       "      <td>2020</td>\n",
       "      <td>10</td>\n",
       "      <td>9</td>\n",
       "      <td>22</td>\n",
       "      <td>4</td>\n",
       "      <td>36.87</td>\n",
       "      <td>17.00</td>\n",
       "      <td>2020-10-22</td>\n",
       "      <td>Thursday</td>\n",
       "      <td>241.00</td>\n",
       "    </tr>\n",
       "    <tr>\n",
       "      <th>59060</th>\n",
       "      <td>394.10</td>\n",
       "      <td>2020</td>\n",
       "      <td>10</td>\n",
       "      <td>9</td>\n",
       "      <td>22</td>\n",
       "      <td>5</td>\n",
       "      <td>37.64</td>\n",
       "      <td>14.00</td>\n",
       "      <td>2020-10-22</td>\n",
       "      <td>Thursday</td>\n",
       "      <td>255.00</td>\n",
       "    </tr>\n",
       "    <tr>\n",
       "      <th>59061</th>\n",
       "      <td>394.10</td>\n",
       "      <td>2020</td>\n",
       "      <td>10</td>\n",
       "      <td>9</td>\n",
       "      <td>22</td>\n",
       "      <td>12</td>\n",
       "      <td>180.30</td>\n",
       "      <td>139.10</td>\n",
       "      <td>2020-10-22</td>\n",
       "      <td>Thursday</td>\n",
       "      <td>394.10</td>\n",
       "    </tr>\n",
       "  </tbody>\n",
       "</table>\n",
       "</div>"
      ],
      "text/plain": [
       "       Pot_max  Year  Month  Period  Day  Block  Price  Energy       Date  \\\n",
       "59056   394.10  2020     10       9   22      1   1.13  190.00 2020-10-22   \n",
       "59057   394.10  2020     10       9   22      2  35.34   17.00 2020-10-22   \n",
       "59058   394.10  2020     10       9   22      3  36.11   17.00 2020-10-22   \n",
       "59059   394.10  2020     10       9   22      4  36.87   17.00 2020-10-22   \n",
       "59060   394.10  2020     10       9   22      5  37.64   14.00 2020-10-22   \n",
       "59061   394.10  2020     10       9   22     12 180.30  139.10 2020-10-22   \n",
       "\n",
       "        Weekday  Energy_tot  \n",
       "59056  Thursday      190.00  \n",
       "59057  Thursday      207.00  \n",
       "59058  Thursday      224.00  \n",
       "59059  Thursday      241.00  \n",
       "59060  Thursday      255.00  \n",
       "59061  Thursday      394.10  "
      ]
     },
     "execution_count": 236,
     "metadata": {},
     "output_type": "execute_result"
    }
   ],
   "source": [
    "#Checking blocks for one day\n",
    "\n",
    "df_curve.sort_values(['Date','Period','Block'])[(df_curve['Date']=='2020-10-22') & \n",
    "                                                (df_curve['Period']==9)]"
   ]
  },
  {
   "cell_type": "code",
   "execution_count": null,
   "metadata": {},
   "outputs": [],
   "source": []
  },
  {
   "cell_type": "code",
   "execution_count": null,
   "metadata": {},
   "outputs": [],
   "source": []
  },
  {
   "cell_type": "markdown",
   "metadata": {},
   "source": [
    "## CREATING A MVP CONSIDERING ONLY PRICE AS TARGET\n",
    "\n",
    "### CREATING THE DATASET TO USE THE MODELS\n",
    "\n",
    "First of all, a dataframe for using different kind of models are created.\n",
    "\n",
    "The first choice is to use only Month, Day, Period, Block, Energy, Price. As Energy seems to be almost equal all the time, the first models will use Energy as feature. Future models will use Energy also as target."
   ]
  },
  {
   "cell_type": "code",
   "execution_count": 237,
   "metadata": {},
   "outputs": [
    {
     "data": {
      "text/html": [
       "<div>\n",
       "<style scoped>\n",
       "    .dataframe tbody tr th:only-of-type {\n",
       "        vertical-align: middle;\n",
       "    }\n",
       "\n",
       "    .dataframe tbody tr th {\n",
       "        vertical-align: top;\n",
       "    }\n",
       "\n",
       "    .dataframe thead th {\n",
       "        text-align: right;\n",
       "    }\n",
       "</style>\n",
       "<table border=\"1\" class=\"dataframe\">\n",
       "  <thead>\n",
       "    <tr style=\"text-align: right;\">\n",
       "      <th></th>\n",
       "      <th>Bid_Code</th>\n",
       "      <th>Num_Version</th>\n",
       "      <th>Bid_Unit</th>\n",
       "      <th>Unit_Description</th>\n",
       "      <th>Sell_Buy</th>\n",
       "      <th>Pot_max</th>\n",
       "      <th>Year</th>\n",
       "      <th>Month</th>\n",
       "      <th>Day</th>\n",
       "      <th>Period</th>\n",
       "      <th>Block</th>\n",
       "      <th>Price</th>\n",
       "      <th>Energy</th>\n",
       "    </tr>\n",
       "  </thead>\n",
       "  <tbody>\n",
       "    <tr>\n",
       "      <th>0</th>\n",
       "      <td>6128191</td>\n",
       "      <td>2</td>\n",
       "      <td>PALOS1</td>\n",
       "      <td>C.C. PALOS 1</td>\n",
       "      <td>VNO</td>\n",
       "      <td>394.10</td>\n",
       "      <td>2020</td>\n",
       "      <td>1</td>\n",
       "      <td>1</td>\n",
       "      <td>1</td>\n",
       "      <td>12</td>\n",
       "      <td>180.30</td>\n",
       "      <td>394.10</td>\n",
       "    </tr>\n",
       "    <tr>\n",
       "      <th>1</th>\n",
       "      <td>6128191</td>\n",
       "      <td>2</td>\n",
       "      <td>PALOS1</td>\n",
       "      <td>C.C. PALOS 1</td>\n",
       "      <td>VNO</td>\n",
       "      <td>394.10</td>\n",
       "      <td>2020</td>\n",
       "      <td>1</td>\n",
       "      <td>1</td>\n",
       "      <td>2</td>\n",
       "      <td>12</td>\n",
       "      <td>180.30</td>\n",
       "      <td>394.10</td>\n",
       "    </tr>\n",
       "    <tr>\n",
       "      <th>2</th>\n",
       "      <td>6128191</td>\n",
       "      <td>2</td>\n",
       "      <td>PALOS1</td>\n",
       "      <td>C.C. PALOS 1</td>\n",
       "      <td>VNO</td>\n",
       "      <td>394.10</td>\n",
       "      <td>2020</td>\n",
       "      <td>1</td>\n",
       "      <td>1</td>\n",
       "      <td>3</td>\n",
       "      <td>1</td>\n",
       "      <td>1.13</td>\n",
       "      <td>50.00</td>\n",
       "    </tr>\n",
       "    <tr>\n",
       "      <th>3</th>\n",
       "      <td>6128191</td>\n",
       "      <td>2</td>\n",
       "      <td>PALOS1</td>\n",
       "      <td>C.C. PALOS 1</td>\n",
       "      <td>VNO</td>\n",
       "      <td>394.10</td>\n",
       "      <td>2020</td>\n",
       "      <td>1</td>\n",
       "      <td>1</td>\n",
       "      <td>3</td>\n",
       "      <td>12</td>\n",
       "      <td>180.30</td>\n",
       "      <td>344.10</td>\n",
       "    </tr>\n",
       "    <tr>\n",
       "      <th>4</th>\n",
       "      <td>6128191</td>\n",
       "      <td>2</td>\n",
       "      <td>PALOS1</td>\n",
       "      <td>C.C. PALOS 1</td>\n",
       "      <td>VNO</td>\n",
       "      <td>394.10</td>\n",
       "      <td>2020</td>\n",
       "      <td>1</td>\n",
       "      <td>1</td>\n",
       "      <td>4</td>\n",
       "      <td>1</td>\n",
       "      <td>1.13</td>\n",
       "      <td>60.00</td>\n",
       "    </tr>\n",
       "  </tbody>\n",
       "</table>\n",
       "</div>"
      ],
      "text/plain": [
       "   Bid_Code  Num_Version Bid_Unit Unit_Description Sell_Buy  Pot_max  Year  \\\n",
       "0   6128191            2   PALOS1     C.C. PALOS 1      VNO   394.10  2020   \n",
       "1   6128191            2   PALOS1     C.C. PALOS 1      VNO   394.10  2020   \n",
       "2   6128191            2   PALOS1     C.C. PALOS 1      VNO   394.10  2020   \n",
       "3   6128191            2   PALOS1     C.C. PALOS 1      VNO   394.10  2020   \n",
       "4   6128191            2   PALOS1     C.C. PALOS 1      VNO   394.10  2020   \n",
       "\n",
       "   Month  Day  Period  Block  Price  Energy  \n",
       "0      1    1       1     12 180.30  394.10  \n",
       "1      1    1       2     12 180.30  394.10  \n",
       "2      1    1       3      1   1.13   50.00  \n",
       "3      1    1       3     12 180.30  344.10  \n",
       "4      1    1       4      1   1.13   60.00  "
      ]
     },
     "execution_count": 237,
     "metadata": {},
     "output_type": "execute_result"
    }
   ],
   "source": [
    "df.head()"
   ]
  },
  {
   "cell_type": "code",
   "execution_count": 238,
   "metadata": {
    "scrolled": true
   },
   "outputs": [
    {
     "data": {
      "text/html": [
       "<div>\n",
       "<style scoped>\n",
       "    .dataframe tbody tr th:only-of-type {\n",
       "        vertical-align: middle;\n",
       "    }\n",
       "\n",
       "    .dataframe tbody tr th {\n",
       "        vertical-align: top;\n",
       "    }\n",
       "\n",
       "    .dataframe thead th {\n",
       "        text-align: right;\n",
       "    }\n",
       "</style>\n",
       "<table border=\"1\" class=\"dataframe\">\n",
       "  <thead>\n",
       "    <tr style=\"text-align: right;\">\n",
       "      <th></th>\n",
       "      <th>Pot_max</th>\n",
       "      <th>Year</th>\n",
       "      <th>Month</th>\n",
       "      <th>Period</th>\n",
       "      <th>Day</th>\n",
       "      <th>Block</th>\n",
       "      <th>Price</th>\n",
       "      <th>Energy</th>\n",
       "      <th>Date</th>\n",
       "      <th>Weekday</th>\n",
       "      <th>Energy_tot</th>\n",
       "    </tr>\n",
       "  </thead>\n",
       "  <tbody>\n",
       "    <tr>\n",
       "      <th>0</th>\n",
       "      <td>394.10</td>\n",
       "      <td>2020</td>\n",
       "      <td>1</td>\n",
       "      <td>1</td>\n",
       "      <td>1</td>\n",
       "      <td>12</td>\n",
       "      <td>180.30</td>\n",
       "      <td>394.10</td>\n",
       "      <td>2020-01-01</td>\n",
       "      <td>Wednesday</td>\n",
       "      <td>394.10</td>\n",
       "    </tr>\n",
       "    <tr>\n",
       "      <th>1</th>\n",
       "      <td>394.10</td>\n",
       "      <td>2020</td>\n",
       "      <td>1</td>\n",
       "      <td>2</td>\n",
       "      <td>1</td>\n",
       "      <td>12</td>\n",
       "      <td>180.30</td>\n",
       "      <td>394.10</td>\n",
       "      <td>2020-01-01</td>\n",
       "      <td>Wednesday</td>\n",
       "      <td>394.10</td>\n",
       "    </tr>\n",
       "    <tr>\n",
       "      <th>2</th>\n",
       "      <td>394.10</td>\n",
       "      <td>2020</td>\n",
       "      <td>1</td>\n",
       "      <td>3</td>\n",
       "      <td>1</td>\n",
       "      <td>1</td>\n",
       "      <td>1.13</td>\n",
       "      <td>50.00</td>\n",
       "      <td>2020-01-01</td>\n",
       "      <td>Wednesday</td>\n",
       "      <td>50.00</td>\n",
       "    </tr>\n",
       "    <tr>\n",
       "      <th>3</th>\n",
       "      <td>394.10</td>\n",
       "      <td>2020</td>\n",
       "      <td>1</td>\n",
       "      <td>3</td>\n",
       "      <td>1</td>\n",
       "      <td>12</td>\n",
       "      <td>180.30</td>\n",
       "      <td>344.10</td>\n",
       "      <td>2020-01-01</td>\n",
       "      <td>Wednesday</td>\n",
       "      <td>394.10</td>\n",
       "    </tr>\n",
       "    <tr>\n",
       "      <th>4</th>\n",
       "      <td>394.10</td>\n",
       "      <td>2020</td>\n",
       "      <td>1</td>\n",
       "      <td>4</td>\n",
       "      <td>1</td>\n",
       "      <td>1</td>\n",
       "      <td>1.13</td>\n",
       "      <td>60.00</td>\n",
       "      <td>2020-01-01</td>\n",
       "      <td>Wednesday</td>\n",
       "      <td>60.00</td>\n",
       "    </tr>\n",
       "  </tbody>\n",
       "</table>\n",
       "</div>"
      ],
      "text/plain": [
       "   Pot_max  Year  Month  Period  Day  Block  Price  Energy       Date  \\\n",
       "0   394.10  2020      1       1    1     12 180.30  394.10 2020-01-01   \n",
       "1   394.10  2020      1       2    1     12 180.30  394.10 2020-01-01   \n",
       "2   394.10  2020      1       3    1      1   1.13   50.00 2020-01-01   \n",
       "3   394.10  2020      1       3    1     12 180.30  344.10 2020-01-01   \n",
       "4   394.10  2020      1       4    1      1   1.13   60.00 2020-01-01   \n",
       "\n",
       "     Weekday  Energy_tot  \n",
       "0  Wednesday      394.10  \n",
       "1  Wednesday      394.10  \n",
       "2  Wednesday       50.00  \n",
       "3  Wednesday      394.10  \n",
       "4  Wednesday       60.00  "
      ]
     },
     "execution_count": 238,
     "metadata": {},
     "output_type": "execute_result"
    }
   ],
   "source": [
    "df_curve.head()"
   ]
  },
  {
   "cell_type": "markdown",
   "metadata": {},
   "source": [
    "### FIRST MODEL\n",
    "\n",
    "The first set of models will be created considering \"One Hot Encoding\" for categorical variables dropping the first variable and Standirizing by the maximum the remaining variable.\n",
    "\n",
    "The second set of models will be built without dropping the first variable in One Hot Encoding"
   ]
  },
  {
   "cell_type": "code",
   "execution_count": 239,
   "metadata": {},
   "outputs": [],
   "source": [
    "#Most of the variables are categorical:Month, Day, Period, Weekday and Block.\n",
    "#Only Energy_tot is not categorical.\n",
    "#One-hot encoding will be used to convert variables from categorical to binary.\n",
    "\n",
    "#In this case 'Day' will not be considered\n",
    "\n",
    "from sklearn.preprocessing import OneHotEncoder\n",
    "\n",
    "df_curve_cat = df_curve[['Month','Period','Weekday','Block']]"
   ]
  },
  {
   "cell_type": "code",
   "execution_count": null,
   "metadata": {},
   "outputs": [],
   "source": []
  },
  {
   "cell_type": "code",
   "execution_count": 240,
   "metadata": {},
   "outputs": [
    {
     "data": {
      "text/plain": [
       "OneHotEncoder(sparse=False)"
      ]
     },
     "execution_count": 240,
     "metadata": {},
     "output_type": "execute_result"
    }
   ],
   "source": [
    "one_encoder = OneHotEncoder(drop=None, sparse=False) #Changing 'first' with 'None'\n",
    "one_encoder.fit(df_curve_cat)"
   ]
  },
  {
   "cell_type": "code",
   "execution_count": 241,
   "metadata": {
    "scrolled": true
   },
   "outputs": [],
   "source": [
    "df_curve_cat_onehot = one_encoder.transform(df_curve_cat)"
   ]
  },
  {
   "cell_type": "code",
   "execution_count": 242,
   "metadata": {
    "scrolled": true
   },
   "outputs": [
    {
     "data": {
      "text/plain": [
       "array([[1., 0., 0., ..., 0., 0., 1.],\n",
       "       [1., 0., 0., ..., 0., 0., 1.],\n",
       "       [1., 0., 0., ..., 0., 0., 0.],\n",
       "       ...,\n",
       "       [0., 0., 0., ..., 1., 0., 0.],\n",
       "       [0., 0., 0., ..., 0., 1., 0.],\n",
       "       [0., 0., 0., ..., 0., 0., 1.]])"
      ]
     },
     "execution_count": 242,
     "metadata": {},
     "output_type": "execute_result"
    }
   ],
   "source": [
    "df_curve_cat_onehot"
   ]
  },
  {
   "cell_type": "code",
   "execution_count": 243,
   "metadata": {},
   "outputs": [
    {
     "data": {
      "text/plain": [
       "float"
      ]
     },
     "execution_count": 243,
     "metadata": {},
     "output_type": "execute_result"
    }
   ],
   "source": [
    "type(df_curve['Energy_tot'].max())"
   ]
  },
  {
   "cell_type": "code",
   "execution_count": 244,
   "metadata": {
    "scrolled": false
   },
   "outputs": [
    {
     "data": {
      "text/plain": [
       "array([[1.        ],\n",
       "       [1.        ],\n",
       "       [0.12687135],\n",
       "       ...,\n",
       "       [0.87033748],\n",
       "       [0.91347374],\n",
       "       [1.        ]])"
      ]
     },
     "execution_count": 244,
     "metadata": {},
     "output_type": "execute_result"
    }
   ],
   "source": [
    "#Energy is normalize with the maximum\n",
    "\n",
    "from numpy import asarray\n",
    "\n",
    "df_curve_energy = np.asarray(df_curve[['Energy_tot']]/df_curve['Energy_tot'].max())\n",
    "df_curve_energy"
   ]
  },
  {
   "cell_type": "code",
   "execution_count": 245,
   "metadata": {
    "scrolled": true
   },
   "outputs": [
    {
     "data": {
      "text/plain": [
       "((71112, 56), (71112, 1))"
      ]
     },
     "execution_count": 245,
     "metadata": {},
     "output_type": "execute_result"
    }
   ],
   "source": [
    "df_curve_cat_onehot.shape, df_curve_energy.shape"
   ]
  },
  {
   "cell_type": "code",
   "execution_count": 246,
   "metadata": {},
   "outputs": [
    {
     "data": {
      "text/plain": [
       "(71112, 1)"
      ]
     },
     "execution_count": 246,
     "metadata": {},
     "output_type": "execute_result"
    }
   ],
   "source": [
    "df_curve_energy.shape"
   ]
  },
  {
   "cell_type": "code",
   "execution_count": 247,
   "metadata": {},
   "outputs": [],
   "source": [
    "X = np.concatenate((df_curve_cat_onehot, df_curve_energy), axis=1)"
   ]
  },
  {
   "cell_type": "code",
   "execution_count": 248,
   "metadata": {},
   "outputs": [
    {
     "data": {
      "text/plain": [
       "(71112, 57)"
      ]
     },
     "execution_count": 248,
     "metadata": {},
     "output_type": "execute_result"
    }
   ],
   "source": [
    "X.shape"
   ]
  },
  {
   "cell_type": "code",
   "execution_count": 249,
   "metadata": {},
   "outputs": [],
   "source": [
    "y = np.asarray(df_curve['Price'])"
   ]
  },
  {
   "cell_type": "code",
   "execution_count": 250,
   "metadata": {},
   "outputs": [
    {
     "data": {
      "text/plain": [
       "(71112,)"
      ]
     },
     "execution_count": 250,
     "metadata": {},
     "output_type": "execute_result"
    }
   ],
   "source": [
    "y.shape"
   ]
  },
  {
   "cell_type": "code",
   "execution_count": 251,
   "metadata": {
    "scrolled": true
   },
   "outputs": [
    {
     "data": {
      "text/plain": [
       "(numpy.ndarray, numpy.ndarray)"
      ]
     },
     "execution_count": 251,
     "metadata": {},
     "output_type": "execute_result"
    }
   ],
   "source": [
    "type(X), type(y)"
   ]
  },
  {
   "cell_type": "code",
   "execution_count": null,
   "metadata": {},
   "outputs": [],
   "source": []
  },
  {
   "cell_type": "code",
   "execution_count": 252,
   "metadata": {},
   "outputs": [],
   "source": [
    "#Splitting Test set and Train set\n",
    "\n",
    "from sklearn.model_selection import train_test_split\n",
    "\n",
    "X_train, X_test, y_train, y_test = train_test_split(X, y, test_size=0.20, random_state=1)"
   ]
  },
  {
   "cell_type": "markdown",
   "metadata": {},
   "source": [
    "## REGRESSION MODELS"
   ]
  },
  {
   "cell_type": "code",
   "execution_count": 253,
   "metadata": {},
   "outputs": [
    {
     "data": {
      "text/plain": [
       "LinearRegression()"
      ]
     },
     "execution_count": 253,
     "metadata": {},
     "output_type": "execute_result"
    }
   ],
   "source": [
    "## LINEAR REGRESSION\n",
    "\n",
    "from sklearn.linear_model import LinearRegression\n",
    "\n",
    "#Creation of a model instance \n",
    "reg_linear = LinearRegression()\n",
    "\n",
    "reg_linear.fit(X_train,y_train)\n"
   ]
  },
  {
   "cell_type": "code",
   "execution_count": 254,
   "metadata": {},
   "outputs": [],
   "source": [
    "y_pred_linear = reg_linear.predict(X_test)"
   ]
  },
  {
   "cell_type": "code",
   "execution_count": 255,
   "metadata": {},
   "outputs": [
    {
     "data": {
      "text/plain": [
       "array([-1.09923149e+11, -1.09923149e+11, -1.09923149e+11, -1.09923149e+11,\n",
       "       -1.09923149e+11, -1.09923149e+11, -1.09923149e+11, -1.09923149e+11,\n",
       "       -1.09923149e+11, -1.09923149e+11, -1.09923149e+11, -1.09923149e+11,\n",
       "       -9.68737597e+10, -9.68737597e+10, -9.68737597e+10, -9.68737597e+10,\n",
       "       -9.68737597e+10, -9.68737597e+10, -9.68737597e+10, -9.68737597e+10,\n",
       "       -9.68737597e+10, -9.68737597e+10, -9.68737597e+10, -9.68737597e+10,\n",
       "       -9.68737597e+10, -9.68737597e+10, -9.68737597e+10, -9.68737597e+10,\n",
       "       -9.68737597e+10, -9.68737597e+10, -9.68737597e+10, -9.68737597e+10,\n",
       "       -9.68737597e+10, -9.68737597e+10, -9.68737597e+10, -9.68737597e+10,\n",
       "       -9.68737597e+10, -2.99878962e+12, -2.99878962e+12, -2.99878962e+12,\n",
       "       -2.99878962e+12, -2.99878962e+12, -2.99878962e+12, -2.99878962e+12,\n",
       "       -2.36901846e+12, -2.36901846e+12, -2.36901846e+12, -2.36901846e+12,\n",
       "       -2.36901846e+12, -2.36901846e+12, -2.36901846e+12, -2.36901846e+12,\n",
       "       -2.36901846e+12, -2.36901846e+12, -2.36901846e+12, -2.36901846e+12,\n",
       "        3.03359604e+00])"
      ]
     },
     "execution_count": 255,
     "metadata": {},
     "output_type": "execute_result"
    }
   ],
   "source": [
    "reg_linear.coef_"
   ]
  },
  {
   "cell_type": "code",
   "execution_count": 256,
   "metadata": {},
   "outputs": [
    {
     "data": {
      "text/plain": [
       "1.9895788923530546"
      ]
     },
     "execution_count": 256,
     "metadata": {},
     "output_type": "execute_result"
    }
   ],
   "source": [
    "#MAE metric\n",
    "from sklearn.metrics import mean_absolute_error\n",
    "\n",
    "mean_absolute_error(y_test,y_pred_linear) # Primero valor real y luego prediccion"
   ]
  },
  {
   "cell_type": "code",
   "execution_count": 257,
   "metadata": {},
   "outputs": [],
   "source": [
    "## K-NEIGHBORS REGRESSION\n",
    "\n",
    "from sklearn.neighbors import KNeighborsRegressor"
   ]
  },
  {
   "cell_type": "code",
   "execution_count": 258,
   "metadata": {},
   "outputs": [
    {
     "data": {
      "text/plain": [
       "KNeighborsRegressor(n_neighbors=10)"
      ]
     },
     "execution_count": 258,
     "metadata": {},
     "output_type": "execute_result"
    }
   ],
   "source": [
    "reg_kneig = KNeighborsRegressor(n_neighbors=10)\n",
    "\n",
    "reg_kneig.fit(X_train,y_train)\n"
   ]
  },
  {
   "cell_type": "code",
   "execution_count": 259,
   "metadata": {},
   "outputs": [],
   "source": [
    "y_pred_kneig = reg_kneig.predict(X_test)\n"
   ]
  },
  {
   "cell_type": "code",
   "execution_count": 260,
   "metadata": {},
   "outputs": [
    {
     "data": {
      "text/plain": [
       "1.4254254376713773"
      ]
     },
     "execution_count": 260,
     "metadata": {},
     "output_type": "execute_result"
    }
   ],
   "source": [
    "# MAE\n",
    "mean_absolute_error(y_test,y_pred_kneig)"
   ]
  },
  {
   "cell_type": "code",
   "execution_count": 261,
   "metadata": {},
   "outputs": [
    {
     "data": {
      "text/plain": [
       "3.0065986435995415"
      ]
     },
     "execution_count": 261,
     "metadata": {},
     "output_type": "execute_result"
    }
   ],
   "source": [
    "# RMSE from linear regression\n",
    "\n",
    "from sklearn.metrics import mean_squared_error\n",
    "\n",
    "np.sqrt(mean_squared_error(y_test,y_pred_linear))"
   ]
  },
  {
   "cell_type": "code",
   "execution_count": 262,
   "metadata": {},
   "outputs": [
    {
     "data": {
      "text/plain": [
       "2.724984924737715"
      ]
     },
     "execution_count": 262,
     "metadata": {},
     "output_type": "execute_result"
    }
   ],
   "source": [
    "# RMSE: k Nei\n",
    "np.sqrt(mean_squared_error(y_test,y_pred_kneig))"
   ]
  },
  {
   "cell_type": "code",
   "execution_count": 263,
   "metadata": {
    "scrolled": true
   },
   "outputs": [
    {
     "data": {
      "text/plain": [
       "array([-1.89306833e+11, -1.34105827e+12, -3.36320091e+12, -9.04350166e+12,\n",
       "       -1.28455684e+12])"
      ]
     },
     "execution_count": 263,
     "metadata": {},
     "output_type": "execute_result"
    }
   ],
   "source": [
    "\n",
    "\n",
    "## X-validation for linear regression\n",
    "\n",
    "from sklearn.model_selection import cross_val_score\n",
    "\n",
    "#X-val for LINEAR REGRESSION\n",
    "#cv=5 (by default)\n",
    "\n",
    "cross_val_score(reg_linear,X,y,scoring=\"neg_mean_absolute_error\")"
   ]
  },
  {
   "cell_type": "code",
   "execution_count": 264,
   "metadata": {},
   "outputs": [],
   "source": [
    "#NO ENTIENDO QUÉ ESTÁ PASANDO AQUÍ... ¿CÓMO ES POSIBLE QUE PRIMERO SALGA DEL ORDEN DE 2 Y LUEGO DEL ORDEN DE 2e12?"
   ]
  },
  {
   "cell_type": "code",
   "execution_count": 265,
   "metadata": {},
   "outputs": [
    {
     "data": {
      "text/plain": [
       "-3044324903772.9907"
      ]
     },
     "execution_count": 265,
     "metadata": {},
     "output_type": "execute_result"
    }
   ],
   "source": [
    "cross_val_score(reg_linear,X,y,scoring=\"neg_mean_absolute_error\").mean()"
   ]
  },
  {
   "cell_type": "code",
   "execution_count": 158,
   "metadata": {},
   "outputs": [
    {
     "data": {
      "text/plain": [
       "array([-4.98565275, -3.93704078, -3.59623646, -1.19427415, -3.42797405])"
      ]
     },
     "execution_count": 158,
     "metadata": {},
     "output_type": "execute_result"
    }
   ],
   "source": [
    "#X-val for K-NEIGHBORS\n",
    "#cross_val_score(reg_kneig,X,y,scoring=\"neg_mean_absolute_error\") #No lo hago porque tarda muchísimo"
   ]
  },
  {
   "cell_type": "code",
   "execution_count": null,
   "metadata": {},
   "outputs": [],
   "source": []
  },
  {
   "cell_type": "code",
   "execution_count": 159,
   "metadata": {},
   "outputs": [],
   "source": [
    "#############################################################################################################"
   ]
  },
  {
   "cell_type": "code",
   "execution_count": 160,
   "metadata": {},
   "outputs": [],
   "source": [
    "#Examples of real and predition curves will be ploted to compare them."
   ]
  },
  {
   "cell_type": "code",
   "execution_count": 266,
   "metadata": {},
   "outputs": [
    {
     "name": "stderr",
     "output_type": "stream",
     "text": [
      "<ipython-input-232-ece397bd5943>:4: UserWarning: Boolean Series key will be reindexed to match DataFrame index.\n",
      "  df_plot = df_curve.sort_values(['Date','Period','Block'])[(df_curve['Date'] == date) &\n"
     ]
    },
    {
     "data": {
      "text/plain": [
       "[<matplotlib.lines.Line2D at 0x7f8e09692e80>]"
      ]
     },
     "execution_count": 266,
     "metadata": {},
     "output_type": "execute_result"
    },
    {
     "data": {
      "image/png": "[encoded data removed]",
      "text/plain": [
       "<Figure size 432x288 with 1 Axes>"
      ]
     },
     "metadata": {
      "needs_background": "light"
     },
     "output_type": "display_data"
    }
   ],
   "source": [
    "plot_bid_curve('2020-8-16',18)"
   ]
  },
  {
   "cell_type": "code",
   "execution_count": 267,
   "metadata": {},
   "outputs": [
    {
     "name": "stderr",
     "output_type": "stream",
     "text": [
      "<ipython-input-267-38a5e932a7bf>:1: UserWarning: Boolean Series key will be reindexed to match DataFrame index.\n",
      "  example = df_curve.sort_values(['Date','Period','Block'])[(df_curve['Date']=='2020-08-16') &\n"
     ]
    },
    {
     "data": {
      "text/html": [
       "<div>\n",
       "<style scoped>\n",
       "    .dataframe tbody tr th:only-of-type {\n",
       "        vertical-align: middle;\n",
       "    }\n",
       "\n",
       "    .dataframe tbody tr th {\n",
       "        vertical-align: top;\n",
       "    }\n",
       "\n",
       "    .dataframe thead th {\n",
       "        text-align: right;\n",
       "    }\n",
       "</style>\n",
       "<table border=\"1\" class=\"dataframe\">\n",
       "  <thead>\n",
       "    <tr style=\"text-align: right;\">\n",
       "      <th></th>\n",
       "      <th>Pot_max</th>\n",
       "      <th>Year</th>\n",
       "      <th>Month</th>\n",
       "      <th>Period</th>\n",
       "      <th>Day</th>\n",
       "      <th>Block</th>\n",
       "      <th>Price</th>\n",
       "      <th>Energy</th>\n",
       "      <th>Date</th>\n",
       "      <th>Weekday</th>\n",
       "      <th>Energy_tot</th>\n",
       "    </tr>\n",
       "  </thead>\n",
       "  <tbody>\n",
       "    <tr>\n",
       "      <th>45825</th>\n",
       "      <td>394.10</td>\n",
       "      <td>2020</td>\n",
       "      <td>8</td>\n",
       "      <td>18</td>\n",
       "      <td>16</td>\n",
       "      <td>1</td>\n",
       "      <td>1.13</td>\n",
       "      <td>190.00</td>\n",
       "      <td>2020-08-16</td>\n",
       "      <td>Sunday</td>\n",
       "      <td>190.00</td>\n",
       "    </tr>\n",
       "    <tr>\n",
       "      <th>45826</th>\n",
       "      <td>394.10</td>\n",
       "      <td>2020</td>\n",
       "      <td>8</td>\n",
       "      <td>18</td>\n",
       "      <td>16</td>\n",
       "      <td>2</td>\n",
       "      <td>34.48</td>\n",
       "      <td>17.00</td>\n",
       "      <td>2020-08-16</td>\n",
       "      <td>Sunday</td>\n",
       "      <td>207.00</td>\n",
       "    </tr>\n",
       "    <tr>\n",
       "      <th>45827</th>\n",
       "      <td>394.10</td>\n",
       "      <td>2020</td>\n",
       "      <td>8</td>\n",
       "      <td>18</td>\n",
       "      <td>16</td>\n",
       "      <td>3</td>\n",
       "      <td>35.22</td>\n",
       "      <td>17.00</td>\n",
       "      <td>2020-08-16</td>\n",
       "      <td>Sunday</td>\n",
       "      <td>224.00</td>\n",
       "    </tr>\n",
       "    <tr>\n",
       "      <th>45828</th>\n",
       "      <td>394.10</td>\n",
       "      <td>2020</td>\n",
       "      <td>8</td>\n",
       "      <td>18</td>\n",
       "      <td>16</td>\n",
       "      <td>4</td>\n",
       "      <td>35.97</td>\n",
       "      <td>17.00</td>\n",
       "      <td>2020-08-16</td>\n",
       "      <td>Sunday</td>\n",
       "      <td>241.00</td>\n",
       "    </tr>\n",
       "    <tr>\n",
       "      <th>45829</th>\n",
       "      <td>394.10</td>\n",
       "      <td>2020</td>\n",
       "      <td>8</td>\n",
       "      <td>18</td>\n",
       "      <td>16</td>\n",
       "      <td>5</td>\n",
       "      <td>36.72</td>\n",
       "      <td>17.00</td>\n",
       "      <td>2020-08-16</td>\n",
       "      <td>Sunday</td>\n",
       "      <td>258.00</td>\n",
       "    </tr>\n",
       "    <tr>\n",
       "      <th>45830</th>\n",
       "      <td>394.10</td>\n",
       "      <td>2020</td>\n",
       "      <td>8</td>\n",
       "      <td>18</td>\n",
       "      <td>16</td>\n",
       "      <td>6</td>\n",
       "      <td>38.26</td>\n",
       "      <td>17.00</td>\n",
       "      <td>2020-08-16</td>\n",
       "      <td>Sunday</td>\n",
       "      <td>275.00</td>\n",
       "    </tr>\n",
       "    <tr>\n",
       "      <th>45831</th>\n",
       "      <td>394.10</td>\n",
       "      <td>2020</td>\n",
       "      <td>8</td>\n",
       "      <td>18</td>\n",
       "      <td>16</td>\n",
       "      <td>7</td>\n",
       "      <td>39.01</td>\n",
       "      <td>17.00</td>\n",
       "      <td>2020-08-16</td>\n",
       "      <td>Sunday</td>\n",
       "      <td>292.00</td>\n",
       "    </tr>\n",
       "    <tr>\n",
       "      <th>45832</th>\n",
       "      <td>394.10</td>\n",
       "      <td>2020</td>\n",
       "      <td>8</td>\n",
       "      <td>18</td>\n",
       "      <td>16</td>\n",
       "      <td>8</td>\n",
       "      <td>39.76</td>\n",
       "      <td>17.00</td>\n",
       "      <td>2020-08-16</td>\n",
       "      <td>Sunday</td>\n",
       "      <td>309.00</td>\n",
       "    </tr>\n",
       "    <tr>\n",
       "      <th>45833</th>\n",
       "      <td>394.10</td>\n",
       "      <td>2020</td>\n",
       "      <td>8</td>\n",
       "      <td>18</td>\n",
       "      <td>16</td>\n",
       "      <td>9</td>\n",
       "      <td>41.00</td>\n",
       "      <td>17.00</td>\n",
       "      <td>2020-08-16</td>\n",
       "      <td>Sunday</td>\n",
       "      <td>326.00</td>\n",
       "    </tr>\n",
       "    <tr>\n",
       "      <th>45834</th>\n",
       "      <td>394.10</td>\n",
       "      <td>2020</td>\n",
       "      <td>8</td>\n",
       "      <td>18</td>\n",
       "      <td>16</td>\n",
       "      <td>10</td>\n",
       "      <td>42.25</td>\n",
       "      <td>17.00</td>\n",
       "      <td>2020-08-16</td>\n",
       "      <td>Sunday</td>\n",
       "      <td>343.00</td>\n",
       "    </tr>\n",
       "    <tr>\n",
       "      <th>45835</th>\n",
       "      <td>394.10</td>\n",
       "      <td>2020</td>\n",
       "      <td>8</td>\n",
       "      <td>18</td>\n",
       "      <td>16</td>\n",
       "      <td>11</td>\n",
       "      <td>43.99</td>\n",
       "      <td>17.00</td>\n",
       "      <td>2020-08-16</td>\n",
       "      <td>Sunday</td>\n",
       "      <td>360.00</td>\n",
       "    </tr>\n",
       "    <tr>\n",
       "      <th>45836</th>\n",
       "      <td>394.10</td>\n",
       "      <td>2020</td>\n",
       "      <td>8</td>\n",
       "      <td>18</td>\n",
       "      <td>16</td>\n",
       "      <td>12</td>\n",
       "      <td>180.30</td>\n",
       "      <td>34.10</td>\n",
       "      <td>2020-08-16</td>\n",
       "      <td>Sunday</td>\n",
       "      <td>394.10</td>\n",
       "    </tr>\n",
       "  </tbody>\n",
       "</table>\n",
       "</div>"
      ],
      "text/plain": [
       "       Pot_max  Year  Month  Period  Day  Block  Price  Energy       Date  \\\n",
       "45825   394.10  2020      8      18   16      1   1.13  190.00 2020-08-16   \n",
       "45826   394.10  2020      8      18   16      2  34.48   17.00 2020-08-16   \n",
       "45827   394.10  2020      8      18   16      3  35.22   17.00 2020-08-16   \n",
       "45828   394.10  2020      8      18   16      4  35.97   17.00 2020-08-16   \n",
       "45829   394.10  2020      8      18   16      5  36.72   17.00 2020-08-16   \n",
       "45830   394.10  2020      8      18   16      6  38.26   17.00 2020-08-16   \n",
       "45831   394.10  2020      8      18   16      7  39.01   17.00 2020-08-16   \n",
       "45832   394.10  2020      8      18   16      8  39.76   17.00 2020-08-16   \n",
       "45833   394.10  2020      8      18   16      9  41.00   17.00 2020-08-16   \n",
       "45834   394.10  2020      8      18   16     10  42.25   17.00 2020-08-16   \n",
       "45835   394.10  2020      8      18   16     11  43.99   17.00 2020-08-16   \n",
       "45836   394.10  2020      8      18   16     12 180.30   34.10 2020-08-16   \n",
       "\n",
       "      Weekday  Energy_tot  \n",
       "45825  Sunday      190.00  \n",
       "45826  Sunday      207.00  \n",
       "45827  Sunday      224.00  \n",
       "45828  Sunday      241.00  \n",
       "45829  Sunday      258.00  \n",
       "45830  Sunday      275.00  \n",
       "45831  Sunday      292.00  \n",
       "45832  Sunday      309.00  \n",
       "45833  Sunday      326.00  \n",
       "45834  Sunday      343.00  \n",
       "45835  Sunday      360.00  \n",
       "45836  Sunday      394.10  "
      ]
     },
     "execution_count": 267,
     "metadata": {},
     "output_type": "execute_result"
    }
   ],
   "source": [
    "example = df_curve.sort_values(['Date','Period','Block'])[(df_curve['Date']=='2020-08-16') & \n",
    "                                                (df_curve['Period']==18)]\n",
    "example"
   ]
  },
  {
   "cell_type": "code",
   "execution_count": 270,
   "metadata": {},
   "outputs": [
    {
     "data": {
      "text/html": [
       "<div>\n",
       "<style scoped>\n",
       "    .dataframe tbody tr th:only-of-type {\n",
       "        vertical-align: middle;\n",
       "    }\n",
       "\n",
       "    .dataframe tbody tr th {\n",
       "        vertical-align: top;\n",
       "    }\n",
       "\n",
       "    .dataframe thead th {\n",
       "        text-align: right;\n",
       "    }\n",
       "</style>\n",
       "<table border=\"1\" class=\"dataframe\">\n",
       "  <thead>\n",
       "    <tr style=\"text-align: right;\">\n",
       "      <th></th>\n",
       "      <th>Month</th>\n",
       "      <th>Period</th>\n",
       "      <th>Weekday</th>\n",
       "      <th>Block</th>\n",
       "    </tr>\n",
       "  </thead>\n",
       "  <tbody>\n",
       "    <tr>\n",
       "      <th>45825</th>\n",
       "      <td>8</td>\n",
       "      <td>18</td>\n",
       "      <td>Sunday</td>\n",
       "      <td>1</td>\n",
       "    </tr>\n",
       "    <tr>\n",
       "      <th>45826</th>\n",
       "      <td>8</td>\n",
       "      <td>18</td>\n",
       "      <td>Sunday</td>\n",
       "      <td>2</td>\n",
       "    </tr>\n",
       "    <tr>\n",
       "      <th>45827</th>\n",
       "      <td>8</td>\n",
       "      <td>18</td>\n",
       "      <td>Sunday</td>\n",
       "      <td>3</td>\n",
       "    </tr>\n",
       "    <tr>\n",
       "      <th>45828</th>\n",
       "      <td>8</td>\n",
       "      <td>18</td>\n",
       "      <td>Sunday</td>\n",
       "      <td>4</td>\n",
       "    </tr>\n",
       "    <tr>\n",
       "      <th>45829</th>\n",
       "      <td>8</td>\n",
       "      <td>18</td>\n",
       "      <td>Sunday</td>\n",
       "      <td>5</td>\n",
       "    </tr>\n",
       "    <tr>\n",
       "      <th>45830</th>\n",
       "      <td>8</td>\n",
       "      <td>18</td>\n",
       "      <td>Sunday</td>\n",
       "      <td>6</td>\n",
       "    </tr>\n",
       "    <tr>\n",
       "      <th>45831</th>\n",
       "      <td>8</td>\n",
       "      <td>18</td>\n",
       "      <td>Sunday</td>\n",
       "      <td>7</td>\n",
       "    </tr>\n",
       "    <tr>\n",
       "      <th>45832</th>\n",
       "      <td>8</td>\n",
       "      <td>18</td>\n",
       "      <td>Sunday</td>\n",
       "      <td>8</td>\n",
       "    </tr>\n",
       "    <tr>\n",
       "      <th>45833</th>\n",
       "      <td>8</td>\n",
       "      <td>18</td>\n",
       "      <td>Sunday</td>\n",
       "      <td>9</td>\n",
       "    </tr>\n",
       "    <tr>\n",
       "      <th>45834</th>\n",
       "      <td>8</td>\n",
       "      <td>18</td>\n",
       "      <td>Sunday</td>\n",
       "      <td>10</td>\n",
       "    </tr>\n",
       "    <tr>\n",
       "      <th>45835</th>\n",
       "      <td>8</td>\n",
       "      <td>18</td>\n",
       "      <td>Sunday</td>\n",
       "      <td>11</td>\n",
       "    </tr>\n",
       "    <tr>\n",
       "      <th>45836</th>\n",
       "      <td>8</td>\n",
       "      <td>18</td>\n",
       "      <td>Sunday</td>\n",
       "      <td>12</td>\n",
       "    </tr>\n",
       "  </tbody>\n",
       "</table>\n",
       "</div>"
      ],
      "text/plain": [
       "       Month  Period Weekday  Block\n",
       "45825      8      18  Sunday      1\n",
       "45826      8      18  Sunday      2\n",
       "45827      8      18  Sunday      3\n",
       "45828      8      18  Sunday      4\n",
       "45829      8      18  Sunday      5\n",
       "45830      8      18  Sunday      6\n",
       "45831      8      18  Sunday      7\n",
       "45832      8      18  Sunday      8\n",
       "45833      8      18  Sunday      9\n",
       "45834      8      18  Sunday     10\n",
       "45835      8      18  Sunday     11\n",
       "45836      8      18  Sunday     12"
      ]
     },
     "execution_count": 270,
     "metadata": {},
     "output_type": "execute_result"
    }
   ],
   "source": [
    "example_cat = example[['Month','Period','Weekday','Block']]\n",
    "example_cat"
   ]
  },
  {
   "cell_type": "code",
   "execution_count": 271,
   "metadata": {},
   "outputs": [
    {
     "data": {
      "text/plain": [
       "(12, 56)"
      ]
     },
     "execution_count": 271,
     "metadata": {},
     "output_type": "execute_result"
    }
   ],
   "source": [
    "# example transformation to predict only this sample.\n",
    "example_cat_onehot = one_encoder.transform(example_cat)\n",
    "example_cat_onehot.shape"
   ]
  },
  {
   "cell_type": "code",
   "execution_count": 272,
   "metadata": {
    "scrolled": true
   },
   "outputs": [
    {
     "data": {
      "text/plain": [
       "array([[0., 0., 0., 0., 0., 0., 0., 1., 0., 0., 0., 0., 0., 0., 0., 0.,\n",
       "        0., 0., 0., 0., 0., 0., 0., 0., 0., 0., 0., 0., 0., 1., 0., 0.,\n",
       "        0., 0., 0., 0., 0., 0., 0., 0., 1., 0., 0., 0., 1., 0., 0., 0.,\n",
       "        0., 0., 0., 0., 0., 0., 0., 0.],\n",
       "       [0., 0., 0., 0., 0., 0., 0., 1., 0., 0., 0., 0., 0., 0., 0., 0.,\n",
       "        0., 0., 0., 0., 0., 0., 0., 0., 0., 0., 0., 0., 0., 1., 0., 0.,\n",
       "        0., 0., 0., 0., 0., 0., 0., 0., 1., 0., 0., 0., 0., 1., 0., 0.,\n",
       "        0., 0., 0., 0., 0., 0., 0., 0.],\n",
       "       [0., 0., 0., 0., 0., 0., 0., 1., 0., 0., 0., 0., 0., 0., 0., 0.,\n",
       "        0., 0., 0., 0., 0., 0., 0., 0., 0., 0., 0., 0., 0., 1., 0., 0.,\n",
       "        0., 0., 0., 0., 0., 0., 0., 0., 1., 0., 0., 0., 0., 0., 1., 0.,\n",
       "        0., 0., 0., 0., 0., 0., 0., 0.],\n",
       "       [0., 0., 0., 0., 0., 0., 0., 1., 0., 0., 0., 0., 0., 0., 0., 0.,\n",
       "        0., 0., 0., 0., 0., 0., 0., 0., 0., 0., 0., 0., 0., 1., 0., 0.,\n",
       "        0., 0., 0., 0., 0., 0., 0., 0., 1., 0., 0., 0., 0., 0., 0., 1.,\n",
       "        0., 0., 0., 0., 0., 0., 0., 0.],\n",
       "       [0., 0., 0., 0., 0., 0., 0., 1., 0., 0., 0., 0., 0., 0., 0., 0.,\n",
       "        0., 0., 0., 0., 0., 0., 0., 0., 0., 0., 0., 0., 0., 1., 0., 0.,\n",
       "        0., 0., 0., 0., 0., 0., 0., 0., 1., 0., 0., 0., 0., 0., 0., 0.,\n",
       "        1., 0., 0., 0., 0., 0., 0., 0.],\n",
       "       [0., 0., 0., 0., 0., 0., 0., 1., 0., 0., 0., 0., 0., 0., 0., 0.,\n",
       "        0., 0., 0., 0., 0., 0., 0., 0., 0., 0., 0., 0., 0., 1., 0., 0.,\n",
       "        0., 0., 0., 0., 0., 0., 0., 0., 1., 0., 0., 0., 0., 0., 0., 0.,\n",
       "        0., 1., 0., 0., 0., 0., 0., 0.],\n",
       "       [0., 0., 0., 0., 0., 0., 0., 1., 0., 0., 0., 0., 0., 0., 0., 0.,\n",
       "        0., 0., 0., 0., 0., 0., 0., 0., 0., 0., 0., 0., 0., 1., 0., 0.,\n",
       "        0., 0., 0., 0., 0., 0., 0., 0., 1., 0., 0., 0., 0., 0., 0., 0.,\n",
       "        0., 0., 1., 0., 0., 0., 0., 0.],\n",
       "       [0., 0., 0., 0., 0., 0., 0., 1., 0., 0., 0., 0., 0., 0., 0., 0.,\n",
       "        0., 0., 0., 0., 0., 0., 0., 0., 0., 0., 0., 0., 0., 1., 0., 0.,\n",
       "        0., 0., 0., 0., 0., 0., 0., 0., 1., 0., 0., 0., 0., 0., 0., 0.,\n",
       "        0., 0., 0., 1., 0., 0., 0., 0.],\n",
       "       [0., 0., 0., 0., 0., 0., 0., 1., 0., 0., 0., 0., 0., 0., 0., 0.,\n",
       "        0., 0., 0., 0., 0., 0., 0., 0., 0., 0., 0., 0., 0., 1., 0., 0.,\n",
       "        0., 0., 0., 0., 0., 0., 0., 0., 1., 0., 0., 0., 0., 0., 0., 0.,\n",
       "        0., 0., 0., 0., 1., 0., 0., 0.],\n",
       "       [0., 0., 0., 0., 0., 0., 0., 1., 0., 0., 0., 0., 0., 0., 0., 0.,\n",
       "        0., 0., 0., 0., 0., 0., 0., 0., 0., 0., 0., 0., 0., 1., 0., 0.,\n",
       "        0., 0., 0., 0., 0., 0., 0., 0., 1., 0., 0., 0., 0., 0., 0., 0.,\n",
       "        0., 0., 0., 0., 0., 1., 0., 0.],\n",
       "       [0., 0., 0., 0., 0., 0., 0., 1., 0., 0., 0., 0., 0., 0., 0., 0.,\n",
       "        0., 0., 0., 0., 0., 0., 0., 0., 0., 0., 0., 0., 0., 1., 0., 0.,\n",
       "        0., 0., 0., 0., 0., 0., 0., 0., 1., 0., 0., 0., 0., 0., 0., 0.,\n",
       "        0., 0., 0., 0., 0., 0., 1., 0.],\n",
       "       [0., 0., 0., 0., 0., 0., 0., 1., 0., 0., 0., 0., 0., 0., 0., 0.,\n",
       "        0., 0., 0., 0., 0., 0., 0., 0., 0., 0., 0., 0., 0., 1., 0., 0.,\n",
       "        0., 0., 0., 0., 0., 0., 0., 0., 1., 0., 0., 0., 0., 0., 0., 0.,\n",
       "        0., 0., 0., 0., 0., 0., 0., 1.]])"
      ]
     },
     "execution_count": 272,
     "metadata": {},
     "output_type": "execute_result"
    }
   ],
   "source": [
    "example_cat_onehot"
   ]
  },
  {
   "cell_type": "code",
   "execution_count": 273,
   "metadata": {},
   "outputs": [
    {
     "data": {
      "text/plain": [
       "array([[0.48211114],\n",
       "       [0.5252474 ],\n",
       "       [0.56838366],\n",
       "       [0.61151992],\n",
       "       [0.65465618],\n",
       "       [0.69779244],\n",
       "       [0.7409287 ],\n",
       "       [0.78406496],\n",
       "       [0.82720122],\n",
       "       [0.87033748],\n",
       "       [0.91347374],\n",
       "       [1.        ]])"
      ]
     },
     "execution_count": 273,
     "metadata": {},
     "output_type": "execute_result"
    }
   ],
   "source": [
    "example_energy = np.asarray(example[['Energy_tot']]/example['Energy_tot'].max())\n",
    "example_energy"
   ]
  },
  {
   "cell_type": "code",
   "execution_count": 274,
   "metadata": {},
   "outputs": [],
   "source": [
    "example_X = np.concatenate((example_cat_onehot, example_energy), axis=1)"
   ]
  },
  {
   "cell_type": "code",
   "execution_count": 275,
   "metadata": {},
   "outputs": [],
   "source": [
    "example_y = np.asarray(example['Price'])"
   ]
  },
  {
   "cell_type": "code",
   "execution_count": 276,
   "metadata": {},
   "outputs": [],
   "source": [
    "#Example with linear regression\n",
    "\n",
    "example_y_pred_linear = reg_linear.predict(example_X)"
   ]
  },
  {
   "cell_type": "code",
   "execution_count": 277,
   "metadata": {},
   "outputs": [
    {
     "data": {
      "text/plain": [
       "array([  0.32519531,  34.60351562,  35.45605469,  36.36621094,\n",
       "        37.25292969,  38.58398438,  39.45996094,  40.32324219,\n",
       "        41.49804688,  42.765625  ,  44.32910156, 179.38574219])"
      ]
     },
     "execution_count": 277,
     "metadata": {},
     "output_type": "execute_result"
    }
   ],
   "source": [
    "example_y_pred_linear"
   ]
  },
  {
   "cell_type": "code",
   "execution_count": 278,
   "metadata": {},
   "outputs": [
    {
     "data": {
      "text/plain": [
       "array([  1.13,  34.48,  35.22,  35.97,  36.72,  38.26,  39.01,  39.76,\n",
       "        41.  ,  42.25,  43.99, 180.3 ])"
      ]
     },
     "execution_count": 278,
     "metadata": {},
     "output_type": "execute_result"
    }
   ],
   "source": [
    "example_y"
   ]
  },
  {
   "cell_type": "code",
   "execution_count": 279,
   "metadata": {
    "scrolled": true
   },
   "outputs": [
    {
     "name": "stderr",
     "output_type": "stream",
     "text": [
      "<ipython-input-232-ece397bd5943>:4: UserWarning: Boolean Series key will be reindexed to match DataFrame index.\n",
      "  df_plot = df_curve.sort_values(['Date','Period','Block'])[(df_curve['Date'] == date) &\n"
     ]
    },
    {
     "data": {
      "text/plain": [
       "[<matplotlib.lines.Line2D at 0x7f8e0968ac70>]"
      ]
     },
     "execution_count": 279,
     "metadata": {},
     "output_type": "execute_result"
    },
    {
     "data": {
      "image/png": "[encoded data removed]",
      "text/plain": [
       "<Figure size 432x288 with 1 Axes>"
      ]
     },
     "metadata": {
      "needs_background": "light"
     },
     "output_type": "display_data"
    }
   ],
   "source": [
    "plt.plot(example['Energy_tot'], example_y_pred_linear, drawstyle='steps', label='steps (=steps-pre)', color='red')\n",
    "plot_bid_curve('2020-8-16',18)"
   ]
  },
  {
   "cell_type": "code",
   "execution_count": 280,
   "metadata": {},
   "outputs": [
    {
     "data": {
      "text/plain": [
       "[<matplotlib.lines.Line2D at 0x7f8e095f28e0>]"
      ]
     },
     "execution_count": 280,
     "metadata": {},
     "output_type": "execute_result"
    },
    {
     "data": {
      "image/png": "[encoded data removed]",
      "text/plain": [
       "<Figure size 432x288 with 1 Axes>"
      ]
     },
     "metadata": {
      "needs_background": "light"
     },
     "output_type": "display_data"
    }
   ],
   "source": [
    "plt.plot(example['Energy_tot'][1:-1], example_y_pred_linear[1:-1], drawstyle='steps', \n",
    "         label='steps (=steps-pre)', color='red')\n",
    "\n",
    "plt.plot(example['Energy_tot'][1:-1], example_y[1:-1], drawstyle='steps', \n",
    "         label='steps (=steps-pre)', color='blue')"
   ]
  },
  {
   "cell_type": "code",
   "execution_count": 281,
   "metadata": {},
   "outputs": [],
   "source": [
    "#Example with k-neighbors regression\n",
    "\n",
    "example_y_pred_kneig = reg_kneig.predict(example_X)"
   ]
  },
  {
   "cell_type": "code",
   "execution_count": 282,
   "metadata": {},
   "outputs": [
    {
     "data": {
      "text/plain": [
       "array([  1.13 ,  34.11 ,  35.928,  36.564,  36.834,  39.501,  39.406,\n",
       "        39.796,  40.995,  42.225,  44.032, 180.3  ])"
      ]
     },
     "execution_count": 282,
     "metadata": {},
     "output_type": "execute_result"
    }
   ],
   "source": [
    "example_y_pred_kneig"
   ]
  },
  {
   "cell_type": "code",
   "execution_count": 283,
   "metadata": {},
   "outputs": [
    {
     "data": {
      "text/plain": [
       "array([  1.13,  34.48,  35.22,  35.97,  36.72,  38.26,  39.01,  39.76,\n",
       "        41.  ,  42.25,  43.99, 180.3 ])"
      ]
     },
     "execution_count": 283,
     "metadata": {},
     "output_type": "execute_result"
    }
   ],
   "source": [
    "example_y"
   ]
  },
  {
   "cell_type": "code",
   "execution_count": 284,
   "metadata": {
    "scrolled": true
   },
   "outputs": [
    {
     "name": "stderr",
     "output_type": "stream",
     "text": [
      "<ipython-input-232-ece397bd5943>:4: UserWarning: Boolean Series key will be reindexed to match DataFrame index.\n",
      "  df_plot = df_curve.sort_values(['Date','Period','Block'])[(df_curve['Date'] == date) &\n"
     ]
    },
    {
     "data": {
      "text/plain": [
       "[<matplotlib.lines.Line2D at 0x7f8e0954fe20>]"
      ]
     },
     "execution_count": 284,
     "metadata": {},
     "output_type": "execute_result"
    },
    {
     "data": {
      "image/png": "[encoded data removed]",
      "text/plain": [
       "<Figure size 432x288 with 1 Axes>"
      ]
     },
     "metadata": {
      "needs_background": "light"
     },
     "output_type": "display_data"
    }
   ],
   "source": [
    "plt.plot(example['Energy_tot'], example_y_pred_kneig, drawstyle='steps', label='steps (=steps-pre)', color='red')\n",
    "plot_bid_curve('2020-8-16',18)"
   ]
  },
  {
   "cell_type": "code",
   "execution_count": 285,
   "metadata": {},
   "outputs": [
    {
     "data": {
      "text/plain": [
       "[<matplotlib.lines.Line2D at 0x7f8e09538a60>]"
      ]
     },
     "execution_count": 285,
     "metadata": {},
     "output_type": "execute_result"
    },
    {
     "data": {
      "image/png": "[encoded data removed]",
      "text/plain": [
       "<Figure size 432x288 with 1 Axes>"
      ]
     },
     "metadata": {
      "needs_background": "light"
     },
     "output_type": "display_data"
    }
   ],
   "source": [
    "plt.plot(example['Energy_tot'][1:-1], example_y_pred_kneig[1:-1], drawstyle='steps', \n",
    "         label='steps (=steps-pre)', color='red')\n",
    "\n",
    "plt.plot(example['Energy_tot'][1:-1], example_y[1:-1], drawstyle='steps', \n",
    "         label='steps (=steps-pre)', color='blue')"
   ]
  },
  {
   "cell_type": "code",
   "execution_count": 179,
   "metadata": {},
   "outputs": [],
   "source": [
    "#Tiene pinta de que el primer precio es muy variable porque lo calcula muy mal. \n",
    "#Esto es debido a que no todas las segmentaciones de las horas son iguales por lo que ese primer valor puede no\n",
    "#estar bien estimado. \n",
    "#POSIBLE ARREGLO: dividir todas las horas en un mismo número de bloques (12, por ejemplo), asignando un mismo\n",
    "#valor de energía a todos los segmentos nuevos --> ¿relación con la predicción de dos variables?"
   ]
  },
  {
   "cell_type": "code",
   "execution_count": 180,
   "metadata": {},
   "outputs": [],
   "source": [
    "##########################################################################################################\n"
   ]
  },
  {
   "cell_type": "code",
   "execution_count": 286,
   "metadata": {},
   "outputs": [
    {
     "data": {
      "text/plain": [
       "DecisionTreeRegressor(max_depth=3, min_samples_leaf=5)"
      ]
     },
     "execution_count": 286,
     "metadata": {},
     "output_type": "execute_result"
    }
   ],
   "source": [
    "#DECISION TREES\n",
    "\n",
    "from sklearn.tree import DecisionTreeRegressor\n",
    "\n",
    "reg_dt = DecisionTreeRegressor(max_depth=3, min_samples_leaf=5)\n",
    "\n",
    "reg_dt.fit(X_train,y_train)"
   ]
  },
  {
   "cell_type": "code",
   "execution_count": 287,
   "metadata": {},
   "outputs": [],
   "source": [
    "y_pred_dt = reg_dt.predict(X_test)"
   ]
  },
  {
   "cell_type": "code",
   "execution_count": 288,
   "metadata": {},
   "outputs": [
    {
     "data": {
      "text/plain": [
       "2.8946659147176574"
      ]
     },
     "execution_count": 288,
     "metadata": {},
     "output_type": "execute_result"
    }
   ],
   "source": [
    "# MAE\n",
    "mean_absolute_error(y_test,y_pred_dt)"
   ]
  },
  {
   "cell_type": "code",
   "execution_count": 289,
   "metadata": {},
   "outputs": [
    {
     "data": {
      "text/plain": [
       "4.373318211757941"
      ]
     },
     "execution_count": 289,
     "metadata": {},
     "output_type": "execute_result"
    }
   ],
   "source": [
    "# RMSE from decision trees\n",
    "\n",
    "np.sqrt(mean_squared_error(y_test,y_pred_dt))"
   ]
  },
  {
   "cell_type": "code",
   "execution_count": 290,
   "metadata": {},
   "outputs": [],
   "source": [
    "#Example with decision tree regression\n",
    "\n",
    "example_y_pred_dt = reg_dt.predict(example_X)"
   ]
  },
  {
   "cell_type": "code",
   "execution_count": 291,
   "metadata": {},
   "outputs": [
    {
     "data": {
      "text/plain": [
       "array([  1.13      ,  40.84850377,  40.84850377,  40.84850377,\n",
       "        40.84850377,  40.84850377,  40.84850377,  40.84850377,\n",
       "        40.84850377,  40.84850377,  40.84850377, 180.3       ])"
      ]
     },
     "execution_count": 291,
     "metadata": {},
     "output_type": "execute_result"
    }
   ],
   "source": [
    "example_y_pred_dt"
   ]
  },
  {
   "cell_type": "code",
   "execution_count": 292,
   "metadata": {},
   "outputs": [
    {
     "data": {
      "text/plain": [
       "array([  1.13,  34.48,  35.22,  35.97,  36.72,  38.26,  39.01,  39.76,\n",
       "        41.  ,  42.25,  43.99, 180.3 ])"
      ]
     },
     "execution_count": 292,
     "metadata": {},
     "output_type": "execute_result"
    }
   ],
   "source": [
    "example_y"
   ]
  },
  {
   "cell_type": "code",
   "execution_count": 293,
   "metadata": {},
   "outputs": [
    {
     "data": {
      "text/plain": [
       "[<matplotlib.lines.Line2D at 0x7f8e098e5dc0>]"
      ]
     },
     "execution_count": 293,
     "metadata": {},
     "output_type": "execute_result"
    },
    {
     "data": {
      "image/png": "[encoded data removed]",
      "text/plain": [
       "<Figure size 432x288 with 1 Axes>"
      ]
     },
     "metadata": {
      "needs_background": "light"
     },
     "output_type": "display_data"
    }
   ],
   "source": [
    "plt.plot(example['Energy_tot'][1:-1], example_y_pred_dt[1:-1], drawstyle='steps', \n",
    "         label='steps (=steps-pre)', color='red')\n",
    "\n",
    "plt.plot(example['Energy_tot'][1:-1], example_y[1:-1], drawstyle='steps', \n",
    "         label='steps (=steps-pre)', color='blue')"
   ]
  },
  {
   "cell_type": "code",
   "execution_count": 294,
   "metadata": {},
   "outputs": [
    {
     "data": {
      "text/plain": [
       "GridSearchCV(estimator=DecisionTreeRegressor(),\n",
       "             param_grid={'max_depth': array([ 2,  3,  4,  5,  6,  7,  8,  9, 10]),\n",
       "                         'min_samples_leaf': array([10, 25, 40, 55, 70, 85])},\n",
       "             scoring='neg_mean_absolute_error')"
      ]
     },
     "execution_count": 294,
     "metadata": {},
     "output_type": "execute_result"
    }
   ],
   "source": [
    "#It seems that this decision tree is not good. In order to optimize the dt regression, GridSearchCV is tried.\n",
    "from sklearn.model_selection import GridSearchCV,RandomizedSearchCV\n",
    "\n",
    "reg_gdt = GridSearchCV(DecisionTreeRegressor(),\n",
    "                      param_grid={\"max_depth\":np.arange(2,11),\n",
    "                                  \"min_samples_leaf\":np.arange(10,100,15)},\n",
    "                      scoring=\"neg_mean_absolute_error\")\n",
    "reg_gdt.fit(X_train,y_train)"
   ]
  },
  {
   "cell_type": "code",
   "execution_count": 295,
   "metadata": {},
   "outputs": [
    {
     "data": {
      "text/plain": [
       "{'max_depth': 10, 'min_samples_leaf': 40}"
      ]
     },
     "execution_count": 295,
     "metadata": {},
     "output_type": "execute_result"
    }
   ],
   "source": [
    "reg_gdt.best_params_"
   ]
  },
  {
   "cell_type": "code",
   "execution_count": 296,
   "metadata": {},
   "outputs": [],
   "source": [
    "y_pred_gdt = reg_gdt.predict(X_test)"
   ]
  },
  {
   "cell_type": "code",
   "execution_count": 297,
   "metadata": {},
   "outputs": [
    {
     "data": {
      "text/plain": [
       "1.3936347606465227"
      ]
     },
     "execution_count": 297,
     "metadata": {},
     "output_type": "execute_result"
    }
   ],
   "source": [
    "# MAE\n",
    "mean_absolute_error(y_test,y_pred_gdt)"
   ]
  },
  {
   "cell_type": "code",
   "execution_count": 298,
   "metadata": {},
   "outputs": [
    {
     "data": {
      "text/plain": [
       "2.528410600096428"
      ]
     },
     "execution_count": 298,
     "metadata": {},
     "output_type": "execute_result"
    }
   ],
   "source": [
    "# RMSE from decision trees\n",
    "\n",
    "np.sqrt(mean_squared_error(y_test,y_pred_gdt))"
   ]
  },
  {
   "cell_type": "code",
   "execution_count": 299,
   "metadata": {},
   "outputs": [],
   "source": [
    "#Example with grid decision tree regression\n",
    "\n",
    "example_y_pred_gdt = reg_gdt.predict(example_X)"
   ]
  },
  {
   "cell_type": "code",
   "execution_count": 300,
   "metadata": {},
   "outputs": [
    {
     "data": {
      "text/plain": [
       "array([  1.13      ,  34.46063613,  35.20403423,  35.94412256,\n",
       "        36.71961078,  38.22884984,  38.98059459,  39.73936   ,\n",
       "        41.00551724,  44.63532702,  44.63532702, 180.3       ])"
      ]
     },
     "execution_count": 300,
     "metadata": {},
     "output_type": "execute_result"
    }
   ],
   "source": [
    "example_y_pred_gdt"
   ]
  },
  {
   "cell_type": "code",
   "execution_count": 301,
   "metadata": {},
   "outputs": [
    {
     "data": {
      "text/plain": [
       "array([  1.13,  34.48,  35.22,  35.97,  36.72,  38.26,  39.01,  39.76,\n",
       "        41.  ,  42.25,  43.99, 180.3 ])"
      ]
     },
     "execution_count": 301,
     "metadata": {},
     "output_type": "execute_result"
    }
   ],
   "source": [
    "example_y"
   ]
  },
  {
   "cell_type": "code",
   "execution_count": 302,
   "metadata": {},
   "outputs": [
    {
     "data": {
      "text/plain": [
       "[<matplotlib.lines.Line2D at 0x7f8e0956b160>]"
      ]
     },
     "execution_count": 302,
     "metadata": {},
     "output_type": "execute_result"
    },
    {
     "data": {
      "image/png": "[encoded data removed]",
      "text/plain": [
       "<Figure size 432x288 with 1 Axes>"
      ]
     },
     "metadata": {
      "needs_background": "light"
     },
     "output_type": "display_data"
    }
   ],
   "source": [
    "plt.plot(example['Energy_tot'][1:-1], example_y_pred_gdt[1:-1], drawstyle='steps', \n",
    "         label='steps (=steps-pre)', color='red')\n",
    "\n",
    "plt.plot(example['Energy_tot'][1:-1], example_y[1:-1], drawstyle='steps', \n",
    "         label='steps (=steps-pre)', color='blue')"
   ]
  },
  {
   "cell_type": "code",
   "execution_count": 303,
   "metadata": {},
   "outputs": [
    {
     "data": {
      "text/plain": [
       "[<matplotlib.lines.Line2D at 0x7f8e09442400>]"
      ]
     },
     "execution_count": 303,
     "metadata": {},
     "output_type": "execute_result"
    },
    {
     "data": {
      "image/png": "[encoded data removed]",
      "text/plain": [
       "<Figure size 432x288 with 1 Axes>"
      ]
     },
     "metadata": {
      "needs_background": "light"
     },
     "output_type": "display_data"
    }
   ],
   "source": [
    "#We can observe that with dt first and last price are very good predicted\n",
    "\n",
    "plt.plot(example['Energy_tot'], example_y_pred_gdt, drawstyle='steps', \n",
    "         label='steps (=steps-pre)', color='red')\n",
    "\n",
    "plt.plot(example['Energy_tot'], example_y, drawstyle='steps', \n",
    "         label='steps (=steps-pre)', color='blue')"
   ]
  },
  {
   "cell_type": "code",
   "execution_count": 304,
   "metadata": {},
   "outputs": [
    {
     "data": {
      "text/plain": [
       "RandomForestRegressor()"
      ]
     },
     "execution_count": 304,
     "metadata": {},
     "output_type": "execute_result"
    }
   ],
   "source": [
    "# RANDOM FOREST\n",
    "from sklearn.ensemble import RandomForestRegressor\n",
    "\n",
    "reg_rf = RandomForestRegressor(n_estimators=100)\n",
    "\n",
    "reg_rf.fit(X_train,y_train)"
   ]
  },
  {
   "cell_type": "code",
   "execution_count": 305,
   "metadata": {},
   "outputs": [],
   "source": [
    "y_pred_ft = reg_rf.predict(X_test)"
   ]
  },
  {
   "cell_type": "code",
   "execution_count": 306,
   "metadata": {},
   "outputs": [
    {
     "data": {
      "text/plain": [
       "1.3885986467240539"
      ]
     },
     "execution_count": 306,
     "metadata": {},
     "output_type": "execute_result"
    }
   ],
   "source": [
    "# MAE\n",
    "mean_absolute_error(y_test,y_pred_ft)"
   ]
  },
  {
   "cell_type": "code",
   "execution_count": 307,
   "metadata": {},
   "outputs": [
    {
     "data": {
      "text/plain": [
       "3.0198240150201787"
      ]
     },
     "execution_count": 307,
     "metadata": {},
     "output_type": "execute_result"
    }
   ],
   "source": [
    "# RMSE from random forest\n",
    "\n",
    "np.sqrt(mean_squared_error(y_test,y_pred_ft))"
   ]
  },
  {
   "cell_type": "code",
   "execution_count": 308,
   "metadata": {},
   "outputs": [],
   "source": [
    "#Example with random forest regression\n",
    "\n",
    "example_y_pred_rf = reg_rf.predict(example_X)"
   ]
  },
  {
   "cell_type": "code",
   "execution_count": 309,
   "metadata": {},
   "outputs": [
    {
     "data": {
      "text/plain": [
       "array([  1.13      ,  34.38028877,  35.2774456 ,  36.04340944,\n",
       "        36.89357381,  38.27813409,  39.21327   ,  39.82399143,\n",
       "        41.05826635,  42.15067183,  44.02731568, 180.3       ])"
      ]
     },
     "execution_count": 309,
     "metadata": {},
     "output_type": "execute_result"
    }
   ],
   "source": [
    "example_y_pred_rf"
   ]
  },
  {
   "cell_type": "code",
   "execution_count": 310,
   "metadata": {},
   "outputs": [
    {
     "data": {
      "text/plain": [
       "array([  1.13,  34.48,  35.22,  35.97,  36.72,  38.26,  39.01,  39.76,\n",
       "        41.  ,  42.25,  43.99, 180.3 ])"
      ]
     },
     "execution_count": 310,
     "metadata": {},
     "output_type": "execute_result"
    }
   ],
   "source": [
    "example_y"
   ]
  },
  {
   "cell_type": "code",
   "execution_count": 311,
   "metadata": {},
   "outputs": [
    {
     "data": {
      "text/plain": [
       "[<matplotlib.lines.Line2D at 0x7f8e093ad340>]"
      ]
     },
     "execution_count": 311,
     "metadata": {},
     "output_type": "execute_result"
    },
    {
     "data": {
      "image/png": "[encoded data removed]",
      "text/plain": [
       "<Figure size 432x288 with 1 Axes>"
      ]
     },
     "metadata": {
      "needs_background": "light"
     },
     "output_type": "display_data"
    }
   ],
   "source": [
    "plt.plot(example['Energy_tot'][1:-1], example_y_pred_rf[1:-1], drawstyle='steps', \n",
    "         label='steps (=steps-pre)', color='red')\n",
    "\n",
    "plt.plot(example['Energy_tot'][1:-1], example_y[1:-1], drawstyle='steps', \n",
    "         label='steps (=steps-pre)', color='blue')"
   ]
  },
  {
   "cell_type": "code",
   "execution_count": 312,
   "metadata": {},
   "outputs": [
    {
     "data": {
      "text/plain": [
       "[<matplotlib.lines.Line2D at 0x7f8e093839a0>]"
      ]
     },
     "execution_count": 312,
     "metadata": {},
     "output_type": "execute_result"
    },
    {
     "data": {
      "image/png": "[encoded data removed]",
      "text/plain": [
       "<Figure size 432x288 with 1 Axes>"
      ]
     },
     "metadata": {
      "needs_background": "light"
     },
     "output_type": "display_data"
    }
   ],
   "source": [
    "#We can observe that with dt first and last price are very good predicted\n",
    "\n",
    "plt.plot(example['Energy_tot'], example_y_pred_rf, drawstyle='steps', \n",
    "         label='steps (=steps-pre)', color='red')\n",
    "\n",
    "plt.plot(example['Energy_tot'], example_y, drawstyle='steps', \n",
    "         label='steps (=steps-pre)', color='blue')"
   ]
  },
  {
   "cell_type": "code",
   "execution_count": null,
   "metadata": {},
   "outputs": [],
   "source": []
  }
 ],
 "metadata": {
  "kernelspec": {
   "display_name": "Python 3",
   "language": "python",
   "name": "python3"
  },
  "language_info": {
   "codemirror_mode": {
    "name": "ipython",
    "version": 3
   },
   "file_extension": ".py",
   "mimetype": "text/x-python",
   "name": "python",
   "nbconvert_exporter": "python",
   "pygments_lexer": "ipython3",
   "version": "3.8.5"
  }
 },
 "nbformat": 4,
 "nbformat_minor": 4
}
